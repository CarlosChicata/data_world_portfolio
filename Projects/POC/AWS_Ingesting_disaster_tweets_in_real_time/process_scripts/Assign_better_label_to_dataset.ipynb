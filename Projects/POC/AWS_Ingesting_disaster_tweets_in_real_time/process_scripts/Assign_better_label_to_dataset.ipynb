{
  "nbformat": 4,
  "nbformat_minor": 0,
  "metadata": {
    "colab": {
      "provenance": []
    },
    "kernelspec": {
      "name": "python3",
      "display_name": "Python 3"
    },
    "language_info": {
      "name": "python"
    }
  },
  "cells": [
    {
      "cell_type": "markdown",
      "source": [
        "# Analysis of dataset to assign label"
      ],
      "metadata": {
        "id": "UhtXwiV28oYM"
      }
    },
    {
      "cell_type": "markdown",
      "source": [
        "The purpose of this subproject is ; in a simple and easy way; assign a better label for classification in kind of disaster and whether or not it is a joke.\n",
        "\n",
        "As dataset is pre-labeled from human team; i will use this features like basis and guide for this process.\n",
        "\n",
        "**REMEMEBER:**: i won't be stricting with the preprocessing on dataset. My goal is assign a basic label."
      ],
      "metadata": {
        "id": "Np4q9KC_81YO"
      }
    },
    {
      "cell_type": "markdown",
      "source": [
        "## Preparing enviroment to work"
      ],
      "metadata": {
        "id": "J6xS9zlRATD7"
      }
    },
    {
      "cell_type": "code",
      "source": [
        "!pip install boto3\n",
        "!pip install pandas"
      ],
      "metadata": {
        "colab": {
          "base_uri": "https://localhost:8080/"
        },
        "id": "7fHThBE0-h8q",
        "outputId": "032ac054-4917-45f9-e622-7a45dc3f796f"
      },
      "execution_count": 1,
      "outputs": [
        {
          "output_type": "stream",
          "name": "stdout",
          "text": [
            "Looking in indexes: https://pypi.org/simple, https://us-python.pkg.dev/colab-wheels/public/simple/\n",
            "Collecting boto3\n",
            "  Downloading boto3-1.26.133-py3-none-any.whl (135 kB)\n",
            "\u001b[2K     \u001b[90m━━━━━━━━━━━━━━━━━━━━━━━━━━━━━━━━━━━━━━━\u001b[0m \u001b[32m135.6/135.6 kB\u001b[0m \u001b[31m2.6 MB/s\u001b[0m eta \u001b[36m0:00:00\u001b[0m\n",
            "\u001b[?25hCollecting botocore<1.30.0,>=1.29.133 (from boto3)\n",
            "  Downloading botocore-1.29.133-py3-none-any.whl (10.7 MB)\n",
            "\u001b[2K     \u001b[90m━━━━━━━━━━━━━━━━━━━━━━━━━━━━━━━━━━━━━━━━\u001b[0m \u001b[32m10.7/10.7 MB\u001b[0m \u001b[31m53.7 MB/s\u001b[0m eta \u001b[36m0:00:00\u001b[0m\n",
            "\u001b[?25hCollecting jmespath<2.0.0,>=0.7.1 (from boto3)\n",
            "  Downloading jmespath-1.0.1-py3-none-any.whl (20 kB)\n",
            "Collecting s3transfer<0.7.0,>=0.6.0 (from boto3)\n",
            "  Downloading s3transfer-0.6.1-py3-none-any.whl (79 kB)\n",
            "\u001b[2K     \u001b[90m━━━━━━━━━━━━━━━━━━━━━━━━━━━━━━━━━━━━━━━━\u001b[0m \u001b[32m79.8/79.8 kB\u001b[0m \u001b[31m1.7 MB/s\u001b[0m eta \u001b[36m0:00:00\u001b[0m\n",
            "\u001b[?25hRequirement already satisfied: python-dateutil<3.0.0,>=2.1 in /usr/local/lib/python3.10/dist-packages (from botocore<1.30.0,>=1.29.133->boto3) (2.8.2)\n",
            "Requirement already satisfied: urllib3<1.27,>=1.25.4 in /usr/local/lib/python3.10/dist-packages (from botocore<1.30.0,>=1.29.133->boto3) (1.26.15)\n",
            "Requirement already satisfied: six>=1.5 in /usr/local/lib/python3.10/dist-packages (from python-dateutil<3.0.0,>=2.1->botocore<1.30.0,>=1.29.133->boto3) (1.16.0)\n",
            "Installing collected packages: jmespath, botocore, s3transfer, boto3\n",
            "Successfully installed boto3-1.26.133 botocore-1.29.133 jmespath-1.0.1 s3transfer-0.6.1\n",
            "Looking in indexes: https://pypi.org/simple, https://us-python.pkg.dev/colab-wheels/public/simple/\n",
            "Requirement already satisfied: pandas in /usr/local/lib/python3.10/dist-packages (1.5.3)\n",
            "Requirement already satisfied: python-dateutil>=2.8.1 in /usr/local/lib/python3.10/dist-packages (from pandas) (2.8.2)\n",
            "Requirement already satisfied: pytz>=2020.1 in /usr/local/lib/python3.10/dist-packages (from pandas) (2022.7.1)\n",
            "Requirement already satisfied: numpy>=1.21.0 in /usr/local/lib/python3.10/dist-packages (from pandas) (1.22.4)\n",
            "Requirement already satisfied: six>=1.5 in /usr/local/lib/python3.10/dist-packages (from python-dateutil>=2.8.1->pandas) (1.16.0)\n"
          ]
        }
      ]
    },
    {
      "cell_type": "code",
      "source": [
        "import re\n",
        "from functools import reduce, partial\n",
        "from collections import defaultdict\n",
        "import operator\n",
        "\n",
        "import pandas as pd\n",
        "import numpy as np\n",
        "from boto3 import Session"
      ],
      "metadata": {
        "id": "W0qwwueFAn5j"
      },
      "execution_count": 2,
      "outputs": []
    },
    {
      "cell_type": "code",
      "source": [
        "disaster_db_df = pd.read_csv(\"/database.csv\", encoding=\"latin9\")\n",
        "disaster_db_df.head(5)"
      ],
      "metadata": {
        "colab": {
          "base_uri": "https://localhost:8080/",
          "height": 583
        },
        "id": "9fVCKZEVAwJj",
        "outputId": "14143c72-2cda-457e-b716-a85afe6b2838"
      },
      "execution_count": 6,
      "outputs": [
        {
          "output_type": "execute_result",
          "data": {
            "text/plain": [
              "    _unit_id  _golden _unit_state  _trusted_judgments _last_judgment_at  \\\n",
              "0  778243823     True      golden                 156               NaN   \n",
              "1  778243824     True      golden                 152               NaN   \n",
              "2  778243825     True      golden                 137               NaN   \n",
              "3  778243826     True      golden                 136               NaN   \n",
              "4  778243827     True      golden                 138               NaN   \n",
              "\n",
              "  choose_one  choose_one:confidence choose_one_gold keyword location  \\\n",
              "0   Relevant                 1.0000        Relevant     NaN      NaN   \n",
              "1   Relevant                 1.0000        Relevant     NaN      NaN   \n",
              "2   Relevant                 1.0000        Relevant     NaN      NaN   \n",
              "3   Relevant                 0.9603        Relevant     NaN      NaN   \n",
              "4   Relevant                 1.0000        Relevant     NaN      NaN   \n",
              "\n",
              "                                                text  tweetid  userid  \n",
              "0                 Just happened a terrible car crash      1.0     NaN  \n",
              "1  Our Deeds are the Reason of this #earthquake M...     13.0     NaN  \n",
              "2  Heard about #earthquake is different cities, s...     14.0     NaN  \n",
              "3  there is a forest fire at spot pond, geese are...     15.0     NaN  \n",
              "4             Forest fire near La Ronge Sask. Canada     16.0     NaN  "
            ],
            "text/html": [
              "\n",
              "  <div id=\"df-05e45875-774f-43b8-80d9-fe9e06dcd264\">\n",
              "    <div class=\"colab-df-container\">\n",
              "      <div>\n",
              "<style scoped>\n",
              "    .dataframe tbody tr th:only-of-type {\n",
              "        vertical-align: middle;\n",
              "    }\n",
              "\n",
              "    .dataframe tbody tr th {\n",
              "        vertical-align: top;\n",
              "    }\n",
              "\n",
              "    .dataframe thead th {\n",
              "        text-align: right;\n",
              "    }\n",
              "</style>\n",
              "<table border=\"1\" class=\"dataframe\">\n",
              "  <thead>\n",
              "    <tr style=\"text-align: right;\">\n",
              "      <th></th>\n",
              "      <th>_unit_id</th>\n",
              "      <th>_golden</th>\n",
              "      <th>_unit_state</th>\n",
              "      <th>_trusted_judgments</th>\n",
              "      <th>_last_judgment_at</th>\n",
              "      <th>choose_one</th>\n",
              "      <th>choose_one:confidence</th>\n",
              "      <th>choose_one_gold</th>\n",
              "      <th>keyword</th>\n",
              "      <th>location</th>\n",
              "      <th>text</th>\n",
              "      <th>tweetid</th>\n",
              "      <th>userid</th>\n",
              "    </tr>\n",
              "  </thead>\n",
              "  <tbody>\n",
              "    <tr>\n",
              "      <th>0</th>\n",
              "      <td>778243823</td>\n",
              "      <td>True</td>\n",
              "      <td>golden</td>\n",
              "      <td>156</td>\n",
              "      <td>NaN</td>\n",
              "      <td>Relevant</td>\n",
              "      <td>1.0000</td>\n",
              "      <td>Relevant</td>\n",
              "      <td>NaN</td>\n",
              "      <td>NaN</td>\n",
              "      <td>Just happened a terrible car crash</td>\n",
              "      <td>1.0</td>\n",
              "      <td>NaN</td>\n",
              "    </tr>\n",
              "    <tr>\n",
              "      <th>1</th>\n",
              "      <td>778243824</td>\n",
              "      <td>True</td>\n",
              "      <td>golden</td>\n",
              "      <td>152</td>\n",
              "      <td>NaN</td>\n",
              "      <td>Relevant</td>\n",
              "      <td>1.0000</td>\n",
              "      <td>Relevant</td>\n",
              "      <td>NaN</td>\n",
              "      <td>NaN</td>\n",
              "      <td>Our Deeds are the Reason of this #earthquake M...</td>\n",
              "      <td>13.0</td>\n",
              "      <td>NaN</td>\n",
              "    </tr>\n",
              "    <tr>\n",
              "      <th>2</th>\n",
              "      <td>778243825</td>\n",
              "      <td>True</td>\n",
              "      <td>golden</td>\n",
              "      <td>137</td>\n",
              "      <td>NaN</td>\n",
              "      <td>Relevant</td>\n",
              "      <td>1.0000</td>\n",
              "      <td>Relevant</td>\n",
              "      <td>NaN</td>\n",
              "      <td>NaN</td>\n",
              "      <td>Heard about #earthquake is different cities, s...</td>\n",
              "      <td>14.0</td>\n",
              "      <td>NaN</td>\n",
              "    </tr>\n",
              "    <tr>\n",
              "      <th>3</th>\n",
              "      <td>778243826</td>\n",
              "      <td>True</td>\n",
              "      <td>golden</td>\n",
              "      <td>136</td>\n",
              "      <td>NaN</td>\n",
              "      <td>Relevant</td>\n",
              "      <td>0.9603</td>\n",
              "      <td>Relevant</td>\n",
              "      <td>NaN</td>\n",
              "      <td>NaN</td>\n",
              "      <td>there is a forest fire at spot pond, geese are...</td>\n",
              "      <td>15.0</td>\n",
              "      <td>NaN</td>\n",
              "    </tr>\n",
              "    <tr>\n",
              "      <th>4</th>\n",
              "      <td>778243827</td>\n",
              "      <td>True</td>\n",
              "      <td>golden</td>\n",
              "      <td>138</td>\n",
              "      <td>NaN</td>\n",
              "      <td>Relevant</td>\n",
              "      <td>1.0000</td>\n",
              "      <td>Relevant</td>\n",
              "      <td>NaN</td>\n",
              "      <td>NaN</td>\n",
              "      <td>Forest fire near La Ronge Sask. Canada</td>\n",
              "      <td>16.0</td>\n",
              "      <td>NaN</td>\n",
              "    </tr>\n",
              "  </tbody>\n",
              "</table>\n",
              "</div>\n",
              "      <button class=\"colab-df-convert\" onclick=\"convertToInteractive('df-05e45875-774f-43b8-80d9-fe9e06dcd264')\"\n",
              "              title=\"Convert this dataframe to an interactive table.\"\n",
              "              style=\"display:none;\">\n",
              "        \n",
              "  <svg xmlns=\"http://www.w3.org/2000/svg\" height=\"24px\"viewBox=\"0 0 24 24\"\n",
              "       width=\"24px\">\n",
              "    <path d=\"M0 0h24v24H0V0z\" fill=\"none\"/>\n",
              "    <path d=\"M18.56 5.44l.94 2.06.94-2.06 2.06-.94-2.06-.94-.94-2.06-.94 2.06-2.06.94zm-11 1L8.5 8.5l.94-2.06 2.06-.94-2.06-.94L8.5 2.5l-.94 2.06-2.06.94zm10 10l.94 2.06.94-2.06 2.06-.94-2.06-.94-.94-2.06-.94 2.06-2.06.94z\"/><path d=\"M17.41 7.96l-1.37-1.37c-.4-.4-.92-.59-1.43-.59-.52 0-1.04.2-1.43.59L10.3 9.45l-7.72 7.72c-.78.78-.78 2.05 0 2.83L4 21.41c.39.39.9.59 1.41.59.51 0 1.02-.2 1.41-.59l7.78-7.78 2.81-2.81c.8-.78.8-2.07 0-2.86zM5.41 20L4 18.59l7.72-7.72 1.47 1.35L5.41 20z\"/>\n",
              "  </svg>\n",
              "      </button>\n",
              "      \n",
              "  <style>\n",
              "    .colab-df-container {\n",
              "      display:flex;\n",
              "      flex-wrap:wrap;\n",
              "      gap: 12px;\n",
              "    }\n",
              "\n",
              "    .colab-df-convert {\n",
              "      background-color: #E8F0FE;\n",
              "      border: none;\n",
              "      border-radius: 50%;\n",
              "      cursor: pointer;\n",
              "      display: none;\n",
              "      fill: #1967D2;\n",
              "      height: 32px;\n",
              "      padding: 0 0 0 0;\n",
              "      width: 32px;\n",
              "    }\n",
              "\n",
              "    .colab-df-convert:hover {\n",
              "      background-color: #E2EBFA;\n",
              "      box-shadow: 0px 1px 2px rgba(60, 64, 67, 0.3), 0px 1px 3px 1px rgba(60, 64, 67, 0.15);\n",
              "      fill: #174EA6;\n",
              "    }\n",
              "\n",
              "    [theme=dark] .colab-df-convert {\n",
              "      background-color: #3B4455;\n",
              "      fill: #D2E3FC;\n",
              "    }\n",
              "\n",
              "    [theme=dark] .colab-df-convert:hover {\n",
              "      background-color: #434B5C;\n",
              "      box-shadow: 0px 1px 3px 1px rgba(0, 0, 0, 0.15);\n",
              "      filter: drop-shadow(0px 1px 2px rgba(0, 0, 0, 0.3));\n",
              "      fill: #FFFFFF;\n",
              "    }\n",
              "  </style>\n",
              "\n",
              "      <script>\n",
              "        const buttonEl =\n",
              "          document.querySelector('#df-05e45875-774f-43b8-80d9-fe9e06dcd264 button.colab-df-convert');\n",
              "        buttonEl.style.display =\n",
              "          google.colab.kernel.accessAllowed ? 'block' : 'none';\n",
              "\n",
              "        async function convertToInteractive(key) {\n",
              "          const element = document.querySelector('#df-05e45875-774f-43b8-80d9-fe9e06dcd264');\n",
              "          const dataTable =\n",
              "            await google.colab.kernel.invokeFunction('convertToInteractive',\n",
              "                                                     [key], {});\n",
              "          if (!dataTable) return;\n",
              "\n",
              "          const docLinkHtml = 'Like what you see? Visit the ' +\n",
              "            '<a target=\"_blank\" href=https://colab.research.google.com/notebooks/data_table.ipynb>data table notebook</a>'\n",
              "            + ' to learn more about interactive tables.';\n",
              "          element.innerHTML = '';\n",
              "          dataTable['output_type'] = 'display_data';\n",
              "          await google.colab.output.renderOutput(dataTable, element);\n",
              "          const docLink = document.createElement('div');\n",
              "          docLink.innerHTML = docLinkHtml;\n",
              "          element.appendChild(docLink);\n",
              "        }\n",
              "      </script>\n",
              "    </div>\n",
              "  </div>\n",
              "  "
            ]
          },
          "metadata": {},
          "execution_count": 6
        }
      ]
    },
    {
      "cell_type": "markdown",
      "source": [
        "Based in data sample, i think the `choose_one`, `choose_one:confidence`, `choosen_one_gold`, `text` and `tweetid` are important for the analysis; i need to check if my hypothesis is true.\n",
        "\n",
        "---\n",
        "\n"
      ],
      "metadata": {
        "id": "v5PlpiI0Bmsc"
      }
    },
    {
      "cell_type": "markdown",
      "source": [
        "# Checking the mentioned features are relevant or not"
      ],
      "metadata": {
        "id": "-bOex6QDBmy0"
      }
    },
    {
      "cell_type": "markdown",
      "source": [
        "### **`Choose_one` field**"
      ],
      "metadata": {
        "id": "AfrImXD-FX7T"
      }
    },
    {
      "cell_type": "code",
      "source": [
        "disaster_db_df['choose_one'].value_counts()"
      ],
      "metadata": {
        "colab": {
          "base_uri": "https://localhost:8080/"
        },
        "id": "6SGIQ0ItCSmt",
        "outputId": "c81dccf1-2edb-46cc-efb1-ab3c424ea4fb"
      },
      "execution_count": 7,
      "outputs": [
        {
          "output_type": "execute_result",
          "data": {
            "text/plain": [
              "Not Relevant    6187\n",
              "Relevant        4673\n",
              "Can't Decide      16\n",
              "Name: choose_one, dtype: int64"
            ]
          },
          "metadata": {},
          "execution_count": 7
        }
      ]
    },
    {
      "cell_type": "code",
      "source": [
        "disaster_db_df['choose_one'].isnull().value_counts()"
      ],
      "metadata": {
        "colab": {
          "base_uri": "https://localhost:8080/"
        },
        "id": "hHz7cU6EFQum",
        "outputId": "a1ec09a7-bb38-48fc-f1f8-8d7769e96299"
      },
      "execution_count": 8,
      "outputs": [
        {
          "output_type": "execute_result",
          "data": {
            "text/plain": [
              "False    10876\n",
              "Name: choose_one, dtype: int64"
            ]
          },
          "metadata": {},
          "execution_count": 8
        }
      ]
    },
    {
      "cell_type": "markdown",
      "source": [
        "That's ready to use ✅"
      ],
      "metadata": {
        "id": "SfCUrZrVFk-a"
      }
    },
    {
      "cell_type": "markdown",
      "source": [
        "### **`choose_one_gold` field**"
      ],
      "metadata": {
        "id": "IB1Jw1MPFhqk"
      }
    },
    {
      "cell_type": "code",
      "source": [
        "disaster_db_df['choose_one_gold'].value_counts()"
      ],
      "metadata": {
        "colab": {
          "base_uri": "https://localhost:8080/"
        },
        "id": "hjIOTaH1Es1l",
        "outputId": "7b3b2ee8-c1ec-4efd-c2e5-9b4228321eec"
      },
      "execution_count": 9,
      "outputs": [
        {
          "output_type": "execute_result",
          "data": {
            "text/plain": [
              "Relevant                      57\n",
              "Not Relevant                  24\n",
              "Relevant\\nCan't Decide         4\n",
              "Not Relevant\\nCan't Decide     2\n",
              "Name: choose_one_gold, dtype: int64"
            ]
          },
          "metadata": {},
          "execution_count": 9
        }
      ]
    },
    {
      "cell_type": "code",
      "source": [
        "disaster_db_df['choose_one_gold'].isnull().value_counts()"
      ],
      "metadata": {
        "colab": {
          "base_uri": "https://localhost:8080/"
        },
        "id": "GcfbcJuRE02i",
        "outputId": "1f46ee8a-a3aa-45d0-d488-5e7da57cf38d"
      },
      "execution_count": 10,
      "outputs": [
        {
          "output_type": "execute_result",
          "data": {
            "text/plain": [
              "True     10789\n",
              "False       87\n",
              "Name: choose_one_gold, dtype: int64"
            ]
          },
          "metadata": {},
          "execution_count": 10
        }
      ]
    },
    {
      "cell_type": "markdown",
      "source": [
        "***QUESTION #1: Can i replace it with `choose_one` field?***"
      ],
      "metadata": {
        "id": "jqmZIye-ImIt"
      }
    },
    {
      "cell_type": "code",
      "source": [
        "disaster_db_df.replace(np.nan, None)\n",
        "disaster_db_df[\"choose_one_gold_v2\"] = disaster_db_df[\"choose_one_gold\"].apply(\n",
        "    lambda x: x.split(\"\\n\")[-1] if type(x) is str else None\n",
        ")\n",
        "disaster_db_df[\"choose_one_gold_v2\"].value_counts()"
      ],
      "metadata": {
        "colab": {
          "base_uri": "https://localhost:8080/"
        },
        "id": "iZ9izr4CGSA5",
        "outputId": "83d18406-8d71-47dc-c9a8-e2e7b7e1b614"
      },
      "execution_count": 11,
      "outputs": [
        {
          "output_type": "execute_result",
          "data": {
            "text/plain": [
              "Relevant        57\n",
              "Not Relevant    24\n",
              "Can't Decide     6\n",
              "Name: choose_one_gold_v2, dtype: int64"
            ]
          },
          "metadata": {},
          "execution_count": 11
        }
      ]
    },
    {
      "cell_type": "code",
      "source": [
        "disaster_db_df[\"is_choose_one_gold_with_choose_one\"] = disaster_db_df.apply( \n",
        "    lambda x: True if x[\"choose_one_gold_v2\"] == x[\"choose_one_gold\"] else False, \n",
        "    axis=1\n",
        "  )\n",
        "selected_choose_one_gold_df = disaster_db_df[ disaster_db_df[\"choose_one_gold_v2\"].isin([\"Relevant\", \"Not Relevant\", \"Can't Decide\"])]\n",
        "selected_choose_one_gold_df[\"is_choose_one_gold_with_choose_one\"].value_counts()"
      ],
      "metadata": {
        "colab": {
          "base_uri": "https://localhost:8080/"
        },
        "id": "eKay5gbII-Zl",
        "outputId": "13fd3a86-eaa3-48f3-87c8-3bb5facf5ee1"
      },
      "execution_count": 12,
      "outputs": [
        {
          "output_type": "execute_result",
          "data": {
            "text/plain": [
              "True     81\n",
              "False     6\n",
              "Name: is_choose_one_gold_with_choose_one, dtype: int64"
            ]
          },
          "metadata": {},
          "execution_count": 12
        }
      ]
    },
    {
      "cell_type": "code",
      "source": [
        "selected_choose_one_gold_df = selected_choose_one_gold_df[selected_choose_one_gold_df[\"is_choose_one_gold_with_choose_one\"].isin([False])]\n",
        "selected_choose_one_gold_df[[\"choose_one_gold_v2\", \"choose_one\", \"choose_one_gold\", \"is_choose_one_gold_with_choose_one\"]]"
      ],
      "metadata": {
        "colab": {
          "base_uri": "https://localhost:8080/",
          "height": 238
        },
        "id": "vOcY6Y6BNSQu",
        "outputId": "e456f707-1433-4346-d15f-b790aa59bce1"
      },
      "execution_count": 13,
      "outputs": [
        {
          "output_type": "execute_result",
          "data": {
            "text/plain": [
              "   choose_one_gold_v2    choose_one             choose_one_gold  \\\n",
              "9        Can't Decide      Relevant      Relevant\\nCan't Decide   \n",
              "13       Can't Decide      Relevant      Relevant\\nCan't Decide   \n",
              "15       Can't Decide      Relevant      Relevant\\nCan't Decide   \n",
              "19       Can't Decide      Relevant      Relevant\\nCan't Decide   \n",
              "42       Can't Decide  Not Relevant  Not Relevant\\nCan't Decide   \n",
              "44       Can't Decide  Not Relevant  Not Relevant\\nCan't Decide   \n",
              "\n",
              "    is_choose_one_gold_with_choose_one  \n",
              "9                                False  \n",
              "13                               False  \n",
              "15                               False  \n",
              "19                               False  \n",
              "42                               False  \n",
              "44                               False  "
            ],
            "text/html": [
              "\n",
              "  <div id=\"df-7519eb0d-1c5f-43b3-910b-f0df87d62e79\">\n",
              "    <div class=\"colab-df-container\">\n",
              "      <div>\n",
              "<style scoped>\n",
              "    .dataframe tbody tr th:only-of-type {\n",
              "        vertical-align: middle;\n",
              "    }\n",
              "\n",
              "    .dataframe tbody tr th {\n",
              "        vertical-align: top;\n",
              "    }\n",
              "\n",
              "    .dataframe thead th {\n",
              "        text-align: right;\n",
              "    }\n",
              "</style>\n",
              "<table border=\"1\" class=\"dataframe\">\n",
              "  <thead>\n",
              "    <tr style=\"text-align: right;\">\n",
              "      <th></th>\n",
              "      <th>choose_one_gold_v2</th>\n",
              "      <th>choose_one</th>\n",
              "      <th>choose_one_gold</th>\n",
              "      <th>is_choose_one_gold_with_choose_one</th>\n",
              "    </tr>\n",
              "  </thead>\n",
              "  <tbody>\n",
              "    <tr>\n",
              "      <th>9</th>\n",
              "      <td>Can't Decide</td>\n",
              "      <td>Relevant</td>\n",
              "      <td>Relevant\\nCan't Decide</td>\n",
              "      <td>False</td>\n",
              "    </tr>\n",
              "    <tr>\n",
              "      <th>13</th>\n",
              "      <td>Can't Decide</td>\n",
              "      <td>Relevant</td>\n",
              "      <td>Relevant\\nCan't Decide</td>\n",
              "      <td>False</td>\n",
              "    </tr>\n",
              "    <tr>\n",
              "      <th>15</th>\n",
              "      <td>Can't Decide</td>\n",
              "      <td>Relevant</td>\n",
              "      <td>Relevant\\nCan't Decide</td>\n",
              "      <td>False</td>\n",
              "    </tr>\n",
              "    <tr>\n",
              "      <th>19</th>\n",
              "      <td>Can't Decide</td>\n",
              "      <td>Relevant</td>\n",
              "      <td>Relevant\\nCan't Decide</td>\n",
              "      <td>False</td>\n",
              "    </tr>\n",
              "    <tr>\n",
              "      <th>42</th>\n",
              "      <td>Can't Decide</td>\n",
              "      <td>Not Relevant</td>\n",
              "      <td>Not Relevant\\nCan't Decide</td>\n",
              "      <td>False</td>\n",
              "    </tr>\n",
              "    <tr>\n",
              "      <th>44</th>\n",
              "      <td>Can't Decide</td>\n",
              "      <td>Not Relevant</td>\n",
              "      <td>Not Relevant\\nCan't Decide</td>\n",
              "      <td>False</td>\n",
              "    </tr>\n",
              "  </tbody>\n",
              "</table>\n",
              "</div>\n",
              "      <button class=\"colab-df-convert\" onclick=\"convertToInteractive('df-7519eb0d-1c5f-43b3-910b-f0df87d62e79')\"\n",
              "              title=\"Convert this dataframe to an interactive table.\"\n",
              "              style=\"display:none;\">\n",
              "        \n",
              "  <svg xmlns=\"http://www.w3.org/2000/svg\" height=\"24px\"viewBox=\"0 0 24 24\"\n",
              "       width=\"24px\">\n",
              "    <path d=\"M0 0h24v24H0V0z\" fill=\"none\"/>\n",
              "    <path d=\"M18.56 5.44l.94 2.06.94-2.06 2.06-.94-2.06-.94-.94-2.06-.94 2.06-2.06.94zm-11 1L8.5 8.5l.94-2.06 2.06-.94-2.06-.94L8.5 2.5l-.94 2.06-2.06.94zm10 10l.94 2.06.94-2.06 2.06-.94-2.06-.94-.94-2.06-.94 2.06-2.06.94z\"/><path d=\"M17.41 7.96l-1.37-1.37c-.4-.4-.92-.59-1.43-.59-.52 0-1.04.2-1.43.59L10.3 9.45l-7.72 7.72c-.78.78-.78 2.05 0 2.83L4 21.41c.39.39.9.59 1.41.59.51 0 1.02-.2 1.41-.59l7.78-7.78 2.81-2.81c.8-.78.8-2.07 0-2.86zM5.41 20L4 18.59l7.72-7.72 1.47 1.35L5.41 20z\"/>\n",
              "  </svg>\n",
              "      </button>\n",
              "      \n",
              "  <style>\n",
              "    .colab-df-container {\n",
              "      display:flex;\n",
              "      flex-wrap:wrap;\n",
              "      gap: 12px;\n",
              "    }\n",
              "\n",
              "    .colab-df-convert {\n",
              "      background-color: #E8F0FE;\n",
              "      border: none;\n",
              "      border-radius: 50%;\n",
              "      cursor: pointer;\n",
              "      display: none;\n",
              "      fill: #1967D2;\n",
              "      height: 32px;\n",
              "      padding: 0 0 0 0;\n",
              "      width: 32px;\n",
              "    }\n",
              "\n",
              "    .colab-df-convert:hover {\n",
              "      background-color: #E2EBFA;\n",
              "      box-shadow: 0px 1px 2px rgba(60, 64, 67, 0.3), 0px 1px 3px 1px rgba(60, 64, 67, 0.15);\n",
              "      fill: #174EA6;\n",
              "    }\n",
              "\n",
              "    [theme=dark] .colab-df-convert {\n",
              "      background-color: #3B4455;\n",
              "      fill: #D2E3FC;\n",
              "    }\n",
              "\n",
              "    [theme=dark] .colab-df-convert:hover {\n",
              "      background-color: #434B5C;\n",
              "      box-shadow: 0px 1px 3px 1px rgba(0, 0, 0, 0.15);\n",
              "      filter: drop-shadow(0px 1px 2px rgba(0, 0, 0, 0.3));\n",
              "      fill: #FFFFFF;\n",
              "    }\n",
              "  </style>\n",
              "\n",
              "      <script>\n",
              "        const buttonEl =\n",
              "          document.querySelector('#df-7519eb0d-1c5f-43b3-910b-f0df87d62e79 button.colab-df-convert');\n",
              "        buttonEl.style.display =\n",
              "          google.colab.kernel.accessAllowed ? 'block' : 'none';\n",
              "\n",
              "        async function convertToInteractive(key) {\n",
              "          const element = document.querySelector('#df-7519eb0d-1c5f-43b3-910b-f0df87d62e79');\n",
              "          const dataTable =\n",
              "            await google.colab.kernel.invokeFunction('convertToInteractive',\n",
              "                                                     [key], {});\n",
              "          if (!dataTable) return;\n",
              "\n",
              "          const docLinkHtml = 'Like what you see? Visit the ' +\n",
              "            '<a target=\"_blank\" href=https://colab.research.google.com/notebooks/data_table.ipynb>data table notebook</a>'\n",
              "            + ' to learn more about interactive tables.';\n",
              "          element.innerHTML = '';\n",
              "          dataTable['output_type'] = 'display_data';\n",
              "          await google.colab.output.renderOutput(dataTable, element);\n",
              "          const docLink = document.createElement('div');\n",
              "          docLink.innerHTML = docLinkHtml;\n",
              "          element.appendChild(docLink);\n",
              "        }\n",
              "      </script>\n",
              "    </div>\n",
              "  </div>\n",
              "  "
            ]
          },
          "metadata": {},
          "execution_count": 13
        }
      ]
    },
    {
      "cell_type": "markdown",
      "source": [
        "In previous table, i see that all non-null value of `choose_one_gold` field are same with `choose_one` field.\n",
        "\n",
        "Ok, i ***won't use this field*** because it have several null value and i have more value from `choose_one` ❌"
      ],
      "metadata": {
        "id": "lj9vCy60FzLK"
      }
    },
    {
      "cell_type": "markdown",
      "source": [
        "### **`choose_one:confidence` field**"
      ],
      "metadata": {
        "id": "SpAr1nOkHkrD"
      }
    },
    {
      "cell_type": "code",
      "source": [
        "disaster_db_df['choose_one:confidence'].isnull().value_counts()"
      ],
      "metadata": {
        "colab": {
          "base_uri": "https://localhost:8080/"
        },
        "id": "GXFAsKLhkkv2",
        "outputId": "5e9ba19d-ca15-4c38-c574-d98b882c1d56"
      },
      "execution_count": 14,
      "outputs": [
        {
          "output_type": "execute_result",
          "data": {
            "text/plain": [
              "False    10876\n",
              "Name: choose_one:confidence, dtype: int64"
            ]
          },
          "metadata": {},
          "execution_count": 14
        }
      ]
    },
    {
      "cell_type": "code",
      "source": [
        "def assign_range_value(x):\n",
        "  if 0.0 < x <= 0.5: return \"0.0 - 0.5\"\n",
        "  elif 0.5 < x <= 0.75: return \"0.5 - 0.75\"\n",
        "  elif 0.75 < x < 0.9: return \"0.75 - 0.9\"\n",
        "  elif 0.9 < x <= 1.0: return \"0.9 - 1.0\"\n",
        "  else: return \"> 1.0\"\n",
        "\n",
        "disaster_db_df[\"range_confidence\"] = disaster_db_df[\"choose_one:confidence\"].apply(lambda x: assign_range_value(x))\n",
        "disaster_db_df['range_confidence'].value_counts()"
      ],
      "metadata": {
        "colab": {
          "base_uri": "https://localhost:8080/"
        },
        "id": "kn9H4m95ktjo",
        "outputId": "f2f4a563-a1b4-476b-d247-b9938c1442a6"
      },
      "execution_count": 15,
      "outputs": [
        {
          "output_type": "execute_result",
          "data": {
            "text/plain": [
              "0.9 - 1.0     5066\n",
              "0.75 - 0.9    3075\n",
              "0.5 - 0.75    2597\n",
              "0.0 - 0.5      138\n",
              "Name: range_confidence, dtype: int64"
            ]
          },
          "metadata": {},
          "execution_count": 15
        }
      ]
    },
    {
      "cell_type": "markdown",
      "source": [
        "i can see that 74.85% of tweets are trustworthy in with its value: That's good 😀. But the question is: **How is thise proportion is distribuite over `choosen_one` field?**"
      ],
      "metadata": {
        "id": "zK7nbrw4msv_"
      }
    },
    {
      "cell_type": "code",
      "source": [
        "Relevant_group_df = disaster_db_df[disaster_db_df[\"choose_one\"] == \"Relevant\"]\n",
        "Relevant_group_df['range_confidence'].value_counts()"
      ],
      "metadata": {
        "colab": {
          "base_uri": "https://localhost:8080/"
        },
        "id": "PkwkvaNlnqzX",
        "outputId": "b3f6ae05-ea81-4e8c-df7d-42be0a0bb77c"
      },
      "execution_count": 16,
      "outputs": [
        {
          "output_type": "execute_result",
          "data": {
            "text/plain": [
              "0.9 - 1.0     2273\n",
              "0.75 - 0.9    1172\n",
              "0.5 - 0.75    1148\n",
              "0.0 - 0.5       80\n",
              "Name: range_confidence, dtype: int64"
            ]
          },
          "metadata": {},
          "execution_count": 16
        }
      ]
    },
    {
      "cell_type": "code",
      "source": [
        "Relevant_group_df = disaster_db_df[disaster_db_df[\"choose_one\"] == \"Not Relevant\"]\n",
        "Relevant_group_df['range_confidence'].value_counts()"
      ],
      "metadata": {
        "colab": {
          "base_uri": "https://localhost:8080/"
        },
        "id": "pmqNlIR7qlsn",
        "outputId": "8e8a77b3-8378-4061-d2a6-6f3a58b1fc52"
      },
      "execution_count": 17,
      "outputs": [
        {
          "output_type": "execute_result",
          "data": {
            "text/plain": [
              "0.9 - 1.0     2793\n",
              "0.75 - 0.9    1903\n",
              "0.5 - 0.75    1445\n",
              "0.0 - 0.5       46\n",
              "Name: range_confidence, dtype: int64"
            ]
          },
          "metadata": {},
          "execution_count": 17
        }
      ]
    },
    {
      "cell_type": "code",
      "source": [
        "Relevant_group_df = disaster_db_df[disaster_db_df[\"choose_one\"] == \"Can't Decide\"]\n",
        "Relevant_group_df['range_confidence'].value_counts()"
      ],
      "metadata": {
        "colab": {
          "base_uri": "https://localhost:8080/"
        },
        "id": "Ais4LOLNqqFW",
        "outputId": "bbb3c146-14cf-4afc-e43b-311e2b694d94"
      },
      "execution_count": 18,
      "outputs": [
        {
          "output_type": "execute_result",
          "data": {
            "text/plain": [
              "0.0 - 0.5     12\n",
              "0.5 - 0.75     4\n",
              "Name: range_confidence, dtype: int64"
            ]
          },
          "metadata": {},
          "execution_count": 18
        }
      ]
    },
    {
      "cell_type": "markdown",
      "source": [
        "⚡ **Idea**: I can see the `Can't Decide` value in `choose_one` field is irrelevant for the amount, but i see that `0.5-0.75` range of other values of `choose_one` field can be renamed in `Can't Decide` value to get more amount: from 16 to 2609; that's good comparing other group amount 4.696(`Not Relevant`) and 3445(`Relevant`)."
      ],
      "metadata": {
        "id": "BEsKrY6ytj3-"
      }
    },
    {
      "cell_type": "markdown",
      "source": [
        "I won't use any value from `choose_one` field with `0.0-5.0` range because these values are irrelevant: they are not trustworthy."
      ],
      "metadata": {
        "id": "UBFWIEaewZGo"
      }
    },
    {
      "cell_type": "markdown",
      "source": [
        "### **`tweetid` and `text` fields**"
      ],
      "metadata": {
        "id": "kg5uXkuCxAuP"
      }
    },
    {
      "cell_type": "code",
      "source": [
        "disaster_db_df['tweetid'].isnull().value_counts()"
      ],
      "metadata": {
        "colab": {
          "base_uri": "https://localhost:8080/"
        },
        "id": "mK3l3qwDxGVD",
        "outputId": "5067be44-fff6-4242-bb65-13b4d6d66a2b"
      },
      "execution_count": 19,
      "outputs": [
        {
          "output_type": "execute_result",
          "data": {
            "text/plain": [
              "False    10876\n",
              "Name: tweetid, dtype: int64"
            ]
          },
          "metadata": {},
          "execution_count": 19
        }
      ]
    },
    {
      "cell_type": "code",
      "source": [
        "disaster_db_df.astype({'tweetid': 'str'}).dtypes"
      ],
      "metadata": {
        "colab": {
          "base_uri": "https://localhost:8080/"
        },
        "id": "jQe9MwfO5GNO",
        "outputId": "034a6adf-25f2-4a51-92c7-4c6185ae0530"
      },
      "execution_count": 20,
      "outputs": [
        {
          "output_type": "execute_result",
          "data": {
            "text/plain": [
              "_unit_id                                int64\n",
              "_golden                                  bool\n",
              "_unit_state                            object\n",
              "_trusted_judgments                      int64\n",
              "_last_judgment_at                      object\n",
              "choose_one                             object\n",
              "choose_one:confidence                 float64\n",
              "choose_one_gold                        object\n",
              "keyword                                object\n",
              "location                               object\n",
              "text                                   object\n",
              "tweetid                                object\n",
              "userid                                float64\n",
              "choose_one_gold_v2                     object\n",
              "is_choose_one_gold_with_choose_one       bool\n",
              "range_confidence                       object\n",
              "dtype: object"
            ]
          },
          "metadata": {},
          "execution_count": 20
        }
      ]
    },
    {
      "cell_type": "code",
      "source": [
        "unique_tweet_id = set(disaster_db_df['tweetid'])\n",
        "list_tweet_id = list(disaster_db_df['tweetid'])\n",
        "print(\"unique value are %s from %s\" % (len(unique_tweet_id), len(list_tweet_id)))"
      ],
      "metadata": {
        "colab": {
          "base_uri": "https://localhost:8080/"
        },
        "id": "nt-_PfJJ1ZiA",
        "outputId": "59eb1d5d-2460-42d3-959e-9d60b69a1678"
      },
      "execution_count": 21,
      "outputs": [
        {
          "output_type": "stream",
          "name": "stdout",
          "text": [
            "unique value are 1243 from 10876\n"
          ]
        }
      ]
    },
    {
      "cell_type": "code",
      "source": [
        "disaster_db_df['tweetid'].value_counts()"
      ],
      "metadata": {
        "colab": {
          "base_uri": "https://localhost:8080/"
        },
        "id": "U4bCQorTESzd",
        "outputId": "9eaa3fb9-41e9-42a5-84d7-bb2e973bd679"
      },
      "execution_count": 22,
      "outputs": [
        {
          "output_type": "execute_result",
          "data": {
            "text/plain": [
              "6.290840e+17    197\n",
              "6.290830e+17    190\n",
              "6.290990e+17    166\n",
              "6.290800e+17    157\n",
              "6.290820e+17    152\n",
              "               ... \n",
              "6.260600e+17      1\n",
              "6.260750e+17      1\n",
              "6.262370e+17      1\n",
              "6.276670e+17      1\n",
              "6.585000e+03      1\n",
              "Name: tweetid, Length: 1243, dtype: int64"
            ]
          },
          "metadata": {},
          "execution_count": 22
        }
      ]
    },
    {
      "cell_type": "code",
      "source": [
        "disaster_db_df[\"is_tweet_id_duplicated\"] = disaster_db_df.duplicated(subset=['tweetid'])\n",
        "duplicated_tweetit_db_df = disaster_db_df[disaster_db_df[\"is_tweet_id_duplicated\"] == True]\n",
        "duplicated_tweetit_db_df.sort_values(by = 'tweetid', inplace=True)\n",
        "duplicated_tweetit_db_df[[\"tweetid\", \"text\"]].head(20)"
      ],
      "metadata": {
        "colab": {
          "base_uri": "https://localhost:8080/",
          "height": 763
        },
        "id": "yUf4agF027JZ",
        "outputId": "15358eb8-fb36-47ac-a37f-e12b14559ffb"
      },
      "execution_count": 23,
      "outputs": [
        {
          "output_type": "stream",
          "name": "stderr",
          "text": [
            "<ipython-input-23-2d003273006d>:3: SettingWithCopyWarning: \n",
            "A value is trying to be set on a copy of a slice from a DataFrame\n",
            "\n",
            "See the caveats in the documentation: https://pandas.pydata.org/pandas-docs/stable/user_guide/indexing.html#returning-a-view-versus-a-copy\n",
            "  duplicated_tweetit_db_df.sort_values(by = 'tweetid', inplace=True)\n"
          ]
        },
        {
          "output_type": "execute_result",
          "data": {
            "text/plain": [
              "            tweetid                                               text\n",
              "10872  4.234000e+03  Police investigating after an e-bike collided ...\n",
              "9066   6.260620e+17  Investigators say a fatal Virgin Galactic spac...\n",
              "9076   6.260620e+17  #BBCLive Investigators say a fatal Virgin Gala...\n",
              "9083   6.260630e+17  Investigators say a fatal Virgin Galactic spac...\n",
              "9048   6.260650e+17  Investigators say a fatal Virgin Galactic spac...\n",
              "1962   6.260760e+17  Schools in Western Uganda still Burning down B...\n",
              "9047   6.260760e+17  Virgin galactic crash: early unlocking of brak...\n",
              "9065   6.260760e+17  Virgin galactic crash: early unlocking of brak...\n",
              "9049   6.260890e+17  Investigators rule catastrophic structural fai...\n",
              "9089   6.260900e+17  NTSB: Virgin Galactic crash caused by structur...\n",
              "9055   6.261100e+17  @SirTitan45  Mega mood swing on a 24 hr schedu...\n",
              "1439   6.263870e+17  Idgaf who tough or who from Canada and who fro...\n",
              "2216   6.264270e+17  THE CHEMICAL BROTHERS to play The Armory in SF...\n",
              "1938   6.264330e+17  forestservice : RT dhsscitech: #Firefighters r...\n",
              "1941   6.265280e+17  @themagickidraps not upset with a rally upset ...\n",
              "868    6.265380e+17  #BreakingNews http://t.co/gAN14PW9TG FedEx no ...\n",
              "1965   6.265400e+17  'i never understood guys who wanted to run int...\n",
              "1469   6.265430e+17  We need to stop paying attention to @drizzy bo...\n",
              "869    6.265440e+17  FedEx no longer to transport bioterror germs i...\n",
              "840    6.265600e+17  FedEx to stop transporting bioterror germs aft..."
            ],
            "text/html": [
              "\n",
              "  <div id=\"df-922882ee-71dd-4086-a3f3-d0d558a2f3fe\">\n",
              "    <div class=\"colab-df-container\">\n",
              "      <div>\n",
              "<style scoped>\n",
              "    .dataframe tbody tr th:only-of-type {\n",
              "        vertical-align: middle;\n",
              "    }\n",
              "\n",
              "    .dataframe tbody tr th {\n",
              "        vertical-align: top;\n",
              "    }\n",
              "\n",
              "    .dataframe thead th {\n",
              "        text-align: right;\n",
              "    }\n",
              "</style>\n",
              "<table border=\"1\" class=\"dataframe\">\n",
              "  <thead>\n",
              "    <tr style=\"text-align: right;\">\n",
              "      <th></th>\n",
              "      <th>tweetid</th>\n",
              "      <th>text</th>\n",
              "    </tr>\n",
              "  </thead>\n",
              "  <tbody>\n",
              "    <tr>\n",
              "      <th>10872</th>\n",
              "      <td>4.234000e+03</td>\n",
              "      <td>Police investigating after an e-bike collided ...</td>\n",
              "    </tr>\n",
              "    <tr>\n",
              "      <th>9066</th>\n",
              "      <td>6.260620e+17</td>\n",
              "      <td>Investigators say a fatal Virgin Galactic spac...</td>\n",
              "    </tr>\n",
              "    <tr>\n",
              "      <th>9076</th>\n",
              "      <td>6.260620e+17</td>\n",
              "      <td>#BBCLive Investigators say a fatal Virgin Gala...</td>\n",
              "    </tr>\n",
              "    <tr>\n",
              "      <th>9083</th>\n",
              "      <td>6.260630e+17</td>\n",
              "      <td>Investigators say a fatal Virgin Galactic spac...</td>\n",
              "    </tr>\n",
              "    <tr>\n",
              "      <th>9048</th>\n",
              "      <td>6.260650e+17</td>\n",
              "      <td>Investigators say a fatal Virgin Galactic spac...</td>\n",
              "    </tr>\n",
              "    <tr>\n",
              "      <th>1962</th>\n",
              "      <td>6.260760e+17</td>\n",
              "      <td>Schools in Western Uganda still Burning down B...</td>\n",
              "    </tr>\n",
              "    <tr>\n",
              "      <th>9047</th>\n",
              "      <td>6.260760e+17</td>\n",
              "      <td>Virgin galactic crash: early unlocking of brak...</td>\n",
              "    </tr>\n",
              "    <tr>\n",
              "      <th>9065</th>\n",
              "      <td>6.260760e+17</td>\n",
              "      <td>Virgin galactic crash: early unlocking of brak...</td>\n",
              "    </tr>\n",
              "    <tr>\n",
              "      <th>9049</th>\n",
              "      <td>6.260890e+17</td>\n",
              "      <td>Investigators rule catastrophic structural fai...</td>\n",
              "    </tr>\n",
              "    <tr>\n",
              "      <th>9089</th>\n",
              "      <td>6.260900e+17</td>\n",
              "      <td>NTSB: Virgin Galactic crash caused by structur...</td>\n",
              "    </tr>\n",
              "    <tr>\n",
              "      <th>9055</th>\n",
              "      <td>6.261100e+17</td>\n",
              "      <td>@SirTitan45  Mega mood swing on a 24 hr schedu...</td>\n",
              "    </tr>\n",
              "    <tr>\n",
              "      <th>1439</th>\n",
              "      <td>6.263870e+17</td>\n",
              "      <td>Idgaf who tough or who from Canada and who fro...</td>\n",
              "    </tr>\n",
              "    <tr>\n",
              "      <th>2216</th>\n",
              "      <td>6.264270e+17</td>\n",
              "      <td>THE CHEMICAL BROTHERS to play The Armory in SF...</td>\n",
              "    </tr>\n",
              "    <tr>\n",
              "      <th>1938</th>\n",
              "      <td>6.264330e+17</td>\n",
              "      <td>forestservice : RT dhsscitech: #Firefighters r...</td>\n",
              "    </tr>\n",
              "    <tr>\n",
              "      <th>1941</th>\n",
              "      <td>6.265280e+17</td>\n",
              "      <td>@themagickidraps not upset with a rally upset ...</td>\n",
              "    </tr>\n",
              "    <tr>\n",
              "      <th>868</th>\n",
              "      <td>6.265380e+17</td>\n",
              "      <td>#BreakingNews http://t.co/gAN14PW9TG FedEx no ...</td>\n",
              "    </tr>\n",
              "    <tr>\n",
              "      <th>1965</th>\n",
              "      <td>6.265400e+17</td>\n",
              "      <td>'i never understood guys who wanted to run int...</td>\n",
              "    </tr>\n",
              "    <tr>\n",
              "      <th>1469</th>\n",
              "      <td>6.265430e+17</td>\n",
              "      <td>We need to stop paying attention to @drizzy bo...</td>\n",
              "    </tr>\n",
              "    <tr>\n",
              "      <th>869</th>\n",
              "      <td>6.265440e+17</td>\n",
              "      <td>FedEx no longer to transport bioterror germs i...</td>\n",
              "    </tr>\n",
              "    <tr>\n",
              "      <th>840</th>\n",
              "      <td>6.265600e+17</td>\n",
              "      <td>FedEx to stop transporting bioterror germs aft...</td>\n",
              "    </tr>\n",
              "  </tbody>\n",
              "</table>\n",
              "</div>\n",
              "      <button class=\"colab-df-convert\" onclick=\"convertToInteractive('df-922882ee-71dd-4086-a3f3-d0d558a2f3fe')\"\n",
              "              title=\"Convert this dataframe to an interactive table.\"\n",
              "              style=\"display:none;\">\n",
              "        \n",
              "  <svg xmlns=\"http://www.w3.org/2000/svg\" height=\"24px\"viewBox=\"0 0 24 24\"\n",
              "       width=\"24px\">\n",
              "    <path d=\"M0 0h24v24H0V0z\" fill=\"none\"/>\n",
              "    <path d=\"M18.56 5.44l.94 2.06.94-2.06 2.06-.94-2.06-.94-.94-2.06-.94 2.06-2.06.94zm-11 1L8.5 8.5l.94-2.06 2.06-.94-2.06-.94L8.5 2.5l-.94 2.06-2.06.94zm10 10l.94 2.06.94-2.06 2.06-.94-2.06-.94-.94-2.06-.94 2.06-2.06.94z\"/><path d=\"M17.41 7.96l-1.37-1.37c-.4-.4-.92-.59-1.43-.59-.52 0-1.04.2-1.43.59L10.3 9.45l-7.72 7.72c-.78.78-.78 2.05 0 2.83L4 21.41c.39.39.9.59 1.41.59.51 0 1.02-.2 1.41-.59l7.78-7.78 2.81-2.81c.8-.78.8-2.07 0-2.86zM5.41 20L4 18.59l7.72-7.72 1.47 1.35L5.41 20z\"/>\n",
              "  </svg>\n",
              "      </button>\n",
              "      \n",
              "  <style>\n",
              "    .colab-df-container {\n",
              "      display:flex;\n",
              "      flex-wrap:wrap;\n",
              "      gap: 12px;\n",
              "    }\n",
              "\n",
              "    .colab-df-convert {\n",
              "      background-color: #E8F0FE;\n",
              "      border: none;\n",
              "      border-radius: 50%;\n",
              "      cursor: pointer;\n",
              "      display: none;\n",
              "      fill: #1967D2;\n",
              "      height: 32px;\n",
              "      padding: 0 0 0 0;\n",
              "      width: 32px;\n",
              "    }\n",
              "\n",
              "    .colab-df-convert:hover {\n",
              "      background-color: #E2EBFA;\n",
              "      box-shadow: 0px 1px 2px rgba(60, 64, 67, 0.3), 0px 1px 3px 1px rgba(60, 64, 67, 0.15);\n",
              "      fill: #174EA6;\n",
              "    }\n",
              "\n",
              "    [theme=dark] .colab-df-convert {\n",
              "      background-color: #3B4455;\n",
              "      fill: #D2E3FC;\n",
              "    }\n",
              "\n",
              "    [theme=dark] .colab-df-convert:hover {\n",
              "      background-color: #434B5C;\n",
              "      box-shadow: 0px 1px 3px 1px rgba(0, 0, 0, 0.15);\n",
              "      filter: drop-shadow(0px 1px 2px rgba(0, 0, 0, 0.3));\n",
              "      fill: #FFFFFF;\n",
              "    }\n",
              "  </style>\n",
              "\n",
              "      <script>\n",
              "        const buttonEl =\n",
              "          document.querySelector('#df-922882ee-71dd-4086-a3f3-d0d558a2f3fe button.colab-df-convert');\n",
              "        buttonEl.style.display =\n",
              "          google.colab.kernel.accessAllowed ? 'block' : 'none';\n",
              "\n",
              "        async function convertToInteractive(key) {\n",
              "          const element = document.querySelector('#df-922882ee-71dd-4086-a3f3-d0d558a2f3fe');\n",
              "          const dataTable =\n",
              "            await google.colab.kernel.invokeFunction('convertToInteractive',\n",
              "                                                     [key], {});\n",
              "          if (!dataTable) return;\n",
              "\n",
              "          const docLinkHtml = 'Like what you see? Visit the ' +\n",
              "            '<a target=\"_blank\" href=https://colab.research.google.com/notebooks/data_table.ipynb>data table notebook</a>'\n",
              "            + ' to learn more about interactive tables.';\n",
              "          element.innerHTML = '';\n",
              "          dataTable['output_type'] = 'display_data';\n",
              "          await google.colab.output.renderOutput(dataTable, element);\n",
              "          const docLink = document.createElement('div');\n",
              "          docLink.innerHTML = docLinkHtml;\n",
              "          element.appendChild(docLink);\n",
              "        }\n",
              "      </script>\n",
              "    </div>\n",
              "  </div>\n",
              "  "
            ]
          },
          "metadata": {},
          "execution_count": 23
        }
      ]
    },
    {
      "cell_type": "markdown",
      "source": [
        "i can see several points:\n",
        "\n",
        "\n",
        "1.   Case #1 (based on 9083 and 9048 id): i can get difference values from `tweetids` field but same text apparently. \n",
        "2.   Case #2 : i can several duplicated value in `tweetids` field.\n",
        "3.   Case #3 (based on 9076 and  9066) : i can get similar texts but with its differences from same value in `tweetids` field.\n",
        "\n",
        "Based in these points i need to do following 🧰:\n",
        "\n",
        "\n",
        "*   Remove URLs and arrobas.\n",
        "*   Replace hashtag content with non-hashtag version.\n",
        "*   Get the most long length version of text to cover more information.\n",
        "*   Check the distribution of `choose one` field after that, to create a clean dataset (based in the ideas) and the label.\n"
      ],
      "metadata": {
        "id": "esJWjHBKQcZz"
      }
    },
    {
      "cell_type": "markdown",
      "source": [
        "## Create a new and cleaning dataset"
      ],
      "metadata": {
        "id": "6Wxba-OCVl56"
      }
    },
    {
      "cell_type": "markdown",
      "source": [
        "### Remove URLs and arrobas"
      ],
      "metadata": {
        "id": "c_S8Z6xYf3VV"
      }
    },
    {
      "cell_type": "code",
      "source": [
        "def remove_urls(x):\n",
        "  ''' Remove URLs from sentence'''\n",
        "  word_list = x.split(\" \")\n",
        "  word_list = [ \n",
        "      word.lower() for word in word_list \\\n",
        "      if re.search(\"^http(s)*:\\/\\/\", word) is None\n",
        "    ]\n",
        "  return \" \".join(word_list)\n",
        "\n",
        "\n",
        "def remove_arrobas(x):\n",
        "  ''' Remove arrobas from sentence'''\n",
        "  word_list = x.split(\" \")\n",
        "  clean_words = []\n",
        "  for word in word_list:\n",
        "    if re.search(\"^@\", word) is None:\n",
        "      clean_words.append(word.lower())\n",
        "    else:\n",
        "      clean_words.append(\"<user>\")\n",
        "  return \" \".join(clean_words)\n",
        "\n",
        "\n",
        "def abs_remove_urls_and_arroba(*functions):\n",
        "    return reduce(lambda f, g: lambda x: g(f(x)), functions, lambda x: x)\n",
        "\n",
        "remove_urls_and_arroba = abs_remove_urls_and_arroba(remove_arrobas, remove_urls)\n",
        "\n",
        "\n",
        "disaster_db_df[\"text_without_url_and_arroba\"] = disaster_db_df[\"text\"].apply(lambda x: remove_urls_and_arroba(x))\n",
        "clean_step_1_tweetit_db_df = disaster_db_df[disaster_db_df[\"is_tweet_id_duplicated\"] == True]\n",
        "clean_step_1_tweetit_db_df.sort_values(by = 'tweetid', inplace=True)\n",
        "clean_step_1_tweetit_db_df[[\"text_without_url_and_arroba\", \"text\"]].head(20)"
      ],
      "metadata": {
        "colab": {
          "base_uri": "https://localhost:8080/",
          "height": 763
        },
        "id": "rIBnHGIdf6w9",
        "outputId": "6e2dc961-0976-45b6-a597-76de76df05f2"
      },
      "execution_count": 24,
      "outputs": [
        {
          "output_type": "stream",
          "name": "stderr",
          "text": [
            "<ipython-input-24-696b1a8a3de6>:31: SettingWithCopyWarning: \n",
            "A value is trying to be set on a copy of a slice from a DataFrame\n",
            "\n",
            "See the caveats in the documentation: https://pandas.pydata.org/pandas-docs/stable/user_guide/indexing.html#returning-a-view-versus-a-copy\n",
            "  clean_step_1_tweetit_db_df.sort_values(by = 'tweetid', inplace=True)\n"
          ]
        },
        {
          "output_type": "execute_result",
          "data": {
            "text/plain": [
              "                             text_without_url_and_arroba  \\\n",
              "10872  police investigating after an e-bike collided ...   \n",
              "9066   investigators say a fatal virgin galactic spac...   \n",
              "9076   #bbclive investigators say a fatal virgin gala...   \n",
              "9083   investigators say a fatal virgin galactic spac...   \n",
              "9048   investigators say a fatal virgin galactic spac...   \n",
              "1962   schools in western uganda still burning down b...   \n",
              "9047   virgin galactic crash: early unlocking of brak...   \n",
              "9065   virgin galactic crash: early unlocking of brak...   \n",
              "9049   investigators rule catastrophic structural fai...   \n",
              "9089   ntsb: virgin galactic crash caused by structur...   \n",
              "9055   <user>  mega mood swing on a 24 hr schedule. i...   \n",
              "1439   idgaf who tough or who from canada and who fro...   \n",
              "2216   the chemical brothers to play the armory in sf...   \n",
              "1938   forestservice : rt dhsscitech: #firefighters r...   \n",
              "1941   <user> not upset with a rally upset with burni...   \n",
              "868    #breakingnews fedex no longer willing to trans...   \n",
              "1965   'i never understood guys who wanted to run int...   \n",
              "1469   we need to stop paying attention to <user> bod...   \n",
              "869    fedex no longer to transport bioterror germs i...   \n",
              "840    fedex to stop transporting bioterror germs aft...   \n",
              "\n",
              "                                                    text  \n",
              "10872  Police investigating after an e-bike collided ...  \n",
              "9066   Investigators say a fatal Virgin Galactic spac...  \n",
              "9076   #BBCLive Investigators say a fatal Virgin Gala...  \n",
              "9083   Investigators say a fatal Virgin Galactic spac...  \n",
              "9048   Investigators say a fatal Virgin Galactic spac...  \n",
              "1962   Schools in Western Uganda still Burning down B...  \n",
              "9047   Virgin galactic crash: early unlocking of brak...  \n",
              "9065   Virgin galactic crash: early unlocking of brak...  \n",
              "9049   Investigators rule catastrophic structural fai...  \n",
              "9089   NTSB: Virgin Galactic crash caused by structur...  \n",
              "9055   @SirTitan45  Mega mood swing on a 24 hr schedu...  \n",
              "1439   Idgaf who tough or who from Canada and who fro...  \n",
              "2216   THE CHEMICAL BROTHERS to play The Armory in SF...  \n",
              "1938   forestservice : RT dhsscitech: #Firefighters r...  \n",
              "1941   @themagickidraps not upset with a rally upset ...  \n",
              "868    #BreakingNews http://t.co/gAN14PW9TG FedEx no ...  \n",
              "1965   'i never understood guys who wanted to run int...  \n",
              "1469   We need to stop paying attention to @drizzy bo...  \n",
              "869    FedEx no longer to transport bioterror germs i...  \n",
              "840    FedEx to stop transporting bioterror germs aft...  "
            ],
            "text/html": [
              "\n",
              "  <div id=\"df-349a81d5-cfac-458f-8b18-121b240f2e56\">\n",
              "    <div class=\"colab-df-container\">\n",
              "      <div>\n",
              "<style scoped>\n",
              "    .dataframe tbody tr th:only-of-type {\n",
              "        vertical-align: middle;\n",
              "    }\n",
              "\n",
              "    .dataframe tbody tr th {\n",
              "        vertical-align: top;\n",
              "    }\n",
              "\n",
              "    .dataframe thead th {\n",
              "        text-align: right;\n",
              "    }\n",
              "</style>\n",
              "<table border=\"1\" class=\"dataframe\">\n",
              "  <thead>\n",
              "    <tr style=\"text-align: right;\">\n",
              "      <th></th>\n",
              "      <th>text_without_url_and_arroba</th>\n",
              "      <th>text</th>\n",
              "    </tr>\n",
              "  </thead>\n",
              "  <tbody>\n",
              "    <tr>\n",
              "      <th>10872</th>\n",
              "      <td>police investigating after an e-bike collided ...</td>\n",
              "      <td>Police investigating after an e-bike collided ...</td>\n",
              "    </tr>\n",
              "    <tr>\n",
              "      <th>9066</th>\n",
              "      <td>investigators say a fatal virgin galactic spac...</td>\n",
              "      <td>Investigators say a fatal Virgin Galactic spac...</td>\n",
              "    </tr>\n",
              "    <tr>\n",
              "      <th>9076</th>\n",
              "      <td>#bbclive investigators say a fatal virgin gala...</td>\n",
              "      <td>#BBCLive Investigators say a fatal Virgin Gala...</td>\n",
              "    </tr>\n",
              "    <tr>\n",
              "      <th>9083</th>\n",
              "      <td>investigators say a fatal virgin galactic spac...</td>\n",
              "      <td>Investigators say a fatal Virgin Galactic spac...</td>\n",
              "    </tr>\n",
              "    <tr>\n",
              "      <th>9048</th>\n",
              "      <td>investigators say a fatal virgin galactic spac...</td>\n",
              "      <td>Investigators say a fatal Virgin Galactic spac...</td>\n",
              "    </tr>\n",
              "    <tr>\n",
              "      <th>1962</th>\n",
              "      <td>schools in western uganda still burning down b...</td>\n",
              "      <td>Schools in Western Uganda still Burning down B...</td>\n",
              "    </tr>\n",
              "    <tr>\n",
              "      <th>9047</th>\n",
              "      <td>virgin galactic crash: early unlocking of brak...</td>\n",
              "      <td>Virgin galactic crash: early unlocking of brak...</td>\n",
              "    </tr>\n",
              "    <tr>\n",
              "      <th>9065</th>\n",
              "      <td>virgin galactic crash: early unlocking of brak...</td>\n",
              "      <td>Virgin galactic crash: early unlocking of brak...</td>\n",
              "    </tr>\n",
              "    <tr>\n",
              "      <th>9049</th>\n",
              "      <td>investigators rule catastrophic structural fai...</td>\n",
              "      <td>Investigators rule catastrophic structural fai...</td>\n",
              "    </tr>\n",
              "    <tr>\n",
              "      <th>9089</th>\n",
              "      <td>ntsb: virgin galactic crash caused by structur...</td>\n",
              "      <td>NTSB: Virgin Galactic crash caused by structur...</td>\n",
              "    </tr>\n",
              "    <tr>\n",
              "      <th>9055</th>\n",
              "      <td>&lt;user&gt;  mega mood swing on a 24 hr schedule. i...</td>\n",
              "      <td>@SirTitan45  Mega mood swing on a 24 hr schedu...</td>\n",
              "    </tr>\n",
              "    <tr>\n",
              "      <th>1439</th>\n",
              "      <td>idgaf who tough or who from canada and who fro...</td>\n",
              "      <td>Idgaf who tough or who from Canada and who fro...</td>\n",
              "    </tr>\n",
              "    <tr>\n",
              "      <th>2216</th>\n",
              "      <td>the chemical brothers to play the armory in sf...</td>\n",
              "      <td>THE CHEMICAL BROTHERS to play The Armory in SF...</td>\n",
              "    </tr>\n",
              "    <tr>\n",
              "      <th>1938</th>\n",
              "      <td>forestservice : rt dhsscitech: #firefighters r...</td>\n",
              "      <td>forestservice : RT dhsscitech: #Firefighters r...</td>\n",
              "    </tr>\n",
              "    <tr>\n",
              "      <th>1941</th>\n",
              "      <td>&lt;user&gt; not upset with a rally upset with burni...</td>\n",
              "      <td>@themagickidraps not upset with a rally upset ...</td>\n",
              "    </tr>\n",
              "    <tr>\n",
              "      <th>868</th>\n",
              "      <td>#breakingnews fedex no longer willing to trans...</td>\n",
              "      <td>#BreakingNews http://t.co/gAN14PW9TG FedEx no ...</td>\n",
              "    </tr>\n",
              "    <tr>\n",
              "      <th>1965</th>\n",
              "      <td>'i never understood guys who wanted to run int...</td>\n",
              "      <td>'i never understood guys who wanted to run int...</td>\n",
              "    </tr>\n",
              "    <tr>\n",
              "      <th>1469</th>\n",
              "      <td>we need to stop paying attention to &lt;user&gt; bod...</td>\n",
              "      <td>We need to stop paying attention to @drizzy bo...</td>\n",
              "    </tr>\n",
              "    <tr>\n",
              "      <th>869</th>\n",
              "      <td>fedex no longer to transport bioterror germs i...</td>\n",
              "      <td>FedEx no longer to transport bioterror germs i...</td>\n",
              "    </tr>\n",
              "    <tr>\n",
              "      <th>840</th>\n",
              "      <td>fedex to stop transporting bioterror germs aft...</td>\n",
              "      <td>FedEx to stop transporting bioterror germs aft...</td>\n",
              "    </tr>\n",
              "  </tbody>\n",
              "</table>\n",
              "</div>\n",
              "      <button class=\"colab-df-convert\" onclick=\"convertToInteractive('df-349a81d5-cfac-458f-8b18-121b240f2e56')\"\n",
              "              title=\"Convert this dataframe to an interactive table.\"\n",
              "              style=\"display:none;\">\n",
              "        \n",
              "  <svg xmlns=\"http://www.w3.org/2000/svg\" height=\"24px\"viewBox=\"0 0 24 24\"\n",
              "       width=\"24px\">\n",
              "    <path d=\"M0 0h24v24H0V0z\" fill=\"none\"/>\n",
              "    <path d=\"M18.56 5.44l.94 2.06.94-2.06 2.06-.94-2.06-.94-.94-2.06-.94 2.06-2.06.94zm-11 1L8.5 8.5l.94-2.06 2.06-.94-2.06-.94L8.5 2.5l-.94 2.06-2.06.94zm10 10l.94 2.06.94-2.06 2.06-.94-2.06-.94-.94-2.06-.94 2.06-2.06.94z\"/><path d=\"M17.41 7.96l-1.37-1.37c-.4-.4-.92-.59-1.43-.59-.52 0-1.04.2-1.43.59L10.3 9.45l-7.72 7.72c-.78.78-.78 2.05 0 2.83L4 21.41c.39.39.9.59 1.41.59.51 0 1.02-.2 1.41-.59l7.78-7.78 2.81-2.81c.8-.78.8-2.07 0-2.86zM5.41 20L4 18.59l7.72-7.72 1.47 1.35L5.41 20z\"/>\n",
              "  </svg>\n",
              "      </button>\n",
              "      \n",
              "  <style>\n",
              "    .colab-df-container {\n",
              "      display:flex;\n",
              "      flex-wrap:wrap;\n",
              "      gap: 12px;\n",
              "    }\n",
              "\n",
              "    .colab-df-convert {\n",
              "      background-color: #E8F0FE;\n",
              "      border: none;\n",
              "      border-radius: 50%;\n",
              "      cursor: pointer;\n",
              "      display: none;\n",
              "      fill: #1967D2;\n",
              "      height: 32px;\n",
              "      padding: 0 0 0 0;\n",
              "      width: 32px;\n",
              "    }\n",
              "\n",
              "    .colab-df-convert:hover {\n",
              "      background-color: #E2EBFA;\n",
              "      box-shadow: 0px 1px 2px rgba(60, 64, 67, 0.3), 0px 1px 3px 1px rgba(60, 64, 67, 0.15);\n",
              "      fill: #174EA6;\n",
              "    }\n",
              "\n",
              "    [theme=dark] .colab-df-convert {\n",
              "      background-color: #3B4455;\n",
              "      fill: #D2E3FC;\n",
              "    }\n",
              "\n",
              "    [theme=dark] .colab-df-convert:hover {\n",
              "      background-color: #434B5C;\n",
              "      box-shadow: 0px 1px 3px 1px rgba(0, 0, 0, 0.15);\n",
              "      filter: drop-shadow(0px 1px 2px rgba(0, 0, 0, 0.3));\n",
              "      fill: #FFFFFF;\n",
              "    }\n",
              "  </style>\n",
              "\n",
              "      <script>\n",
              "        const buttonEl =\n",
              "          document.querySelector('#df-349a81d5-cfac-458f-8b18-121b240f2e56 button.colab-df-convert');\n",
              "        buttonEl.style.display =\n",
              "          google.colab.kernel.accessAllowed ? 'block' : 'none';\n",
              "\n",
              "        async function convertToInteractive(key) {\n",
              "          const element = document.querySelector('#df-349a81d5-cfac-458f-8b18-121b240f2e56');\n",
              "          const dataTable =\n",
              "            await google.colab.kernel.invokeFunction('convertToInteractive',\n",
              "                                                     [key], {});\n",
              "          if (!dataTable) return;\n",
              "\n",
              "          const docLinkHtml = 'Like what you see? Visit the ' +\n",
              "            '<a target=\"_blank\" href=https://colab.research.google.com/notebooks/data_table.ipynb>data table notebook</a>'\n",
              "            + ' to learn more about interactive tables.';\n",
              "          element.innerHTML = '';\n",
              "          dataTable['output_type'] = 'display_data';\n",
              "          await google.colab.output.renderOutput(dataTable, element);\n",
              "          const docLink = document.createElement('div');\n",
              "          docLink.innerHTML = docLinkHtml;\n",
              "          element.appendChild(docLink);\n",
              "        }\n",
              "      </script>\n",
              "    </div>\n",
              "  </div>\n",
              "  "
            ]
          },
          "metadata": {},
          "execution_count": 24
        }
      ]
    },
    {
      "cell_type": "markdown",
      "source": [
        "### Replace hashtag value with non-hashtag value"
      ],
      "metadata": {
        "id": "rNwD9U4aqDEh"
      }
    },
    {
      "cell_type": "code",
      "source": [
        "def replace_with_non_hashtag_value(x):\n",
        "  ''' Replace hashtag content with non-hashtag version'''\n",
        "  word_list = x.split(\" \")\n",
        "  clean_words = []\n",
        "  for word in word_list:\n",
        "    if re.search(\"^#\", word) is None:\n",
        "      clean_words.append(word.lower())\n",
        "    else:\n",
        "      clean_words.append(word[1:].lower())\n",
        "  return \" \".join(clean_words)\n",
        "\n",
        "\n",
        "disaster_db_df[\"text_with_non_hashtag\"] = disaster_db_df[\"text_without_url_and_arroba\"].apply(lambda x: replace_with_non_hashtag_value(x))\n",
        "clean_step_2_tweetit_db_df = disaster_db_df[disaster_db_df[\"is_tweet_id_duplicated\"] == True]\n",
        "clean_step_2_tweetit_db_df.sort_values(by = 'tweetid', inplace=True)\n",
        "clean_step_2_tweetit_db_df[[\"text_with_non_hashtag\", \"text\"]].head(20)"
      ],
      "metadata": {
        "colab": {
          "base_uri": "https://localhost:8080/",
          "height": 763
        },
        "id": "Q9AXIK09qCvg",
        "outputId": "4e9d94d2-418a-4d75-8dc4-967c2a8e6f0e"
      },
      "execution_count": 25,
      "outputs": [
        {
          "output_type": "stream",
          "name": "stderr",
          "text": [
            "<ipython-input-25-48f05293f318>:15: SettingWithCopyWarning: \n",
            "A value is trying to be set on a copy of a slice from a DataFrame\n",
            "\n",
            "See the caveats in the documentation: https://pandas.pydata.org/pandas-docs/stable/user_guide/indexing.html#returning-a-view-versus-a-copy\n",
            "  clean_step_2_tweetit_db_df.sort_values(by = 'tweetid', inplace=True)\n"
          ]
        },
        {
          "output_type": "execute_result",
          "data": {
            "text/plain": [
              "                                   text_with_non_hashtag  \\\n",
              "10872  police investigating after an e-bike collided ...   \n",
              "9066   investigators say a fatal virgin galactic spac...   \n",
              "9076   bbclive investigators say a fatal virgin galac...   \n",
              "9083   investigators say a fatal virgin galactic spac...   \n",
              "9048   investigators say a fatal virgin galactic spac...   \n",
              "1962   schools in western uganda still burning down b...   \n",
              "9047   virgin galactic crash: early unlocking of brak...   \n",
              "9065   virgin galactic crash: early unlocking of brak...   \n",
              "9049   investigators rule catastrophic structural fai...   \n",
              "9089   ntsb: virgin galactic crash caused by structur...   \n",
              "9055   <user>  mega mood swing on a 24 hr schedule. i...   \n",
              "1439   idgaf who tough or who from canada and who fro...   \n",
              "2216   the chemical brothers to play the armory in sf...   \n",
              "1938   forestservice : rt dhsscitech: firefighters ru...   \n",
              "1941   <user> not upset with a rally upset with burni...   \n",
              "868    breakingnews fedex no longer willing to transp...   \n",
              "1965   'i never understood guys who wanted to run int...   \n",
              "1469   we need to stop paying attention to <user> bod...   \n",
              "869    fedex no longer to transport bioterror germs i...   \n",
              "840    fedex to stop transporting bioterror germs aft...   \n",
              "\n",
              "                                                    text  \n",
              "10872  Police investigating after an e-bike collided ...  \n",
              "9066   Investigators say a fatal Virgin Galactic spac...  \n",
              "9076   #BBCLive Investigators say a fatal Virgin Gala...  \n",
              "9083   Investigators say a fatal Virgin Galactic spac...  \n",
              "9048   Investigators say a fatal Virgin Galactic spac...  \n",
              "1962   Schools in Western Uganda still Burning down B...  \n",
              "9047   Virgin galactic crash: early unlocking of brak...  \n",
              "9065   Virgin galactic crash: early unlocking of brak...  \n",
              "9049   Investigators rule catastrophic structural fai...  \n",
              "9089   NTSB: Virgin Galactic crash caused by structur...  \n",
              "9055   @SirTitan45  Mega mood swing on a 24 hr schedu...  \n",
              "1439   Idgaf who tough or who from Canada and who fro...  \n",
              "2216   THE CHEMICAL BROTHERS to play The Armory in SF...  \n",
              "1938   forestservice : RT dhsscitech: #Firefighters r...  \n",
              "1941   @themagickidraps not upset with a rally upset ...  \n",
              "868    #BreakingNews http://t.co/gAN14PW9TG FedEx no ...  \n",
              "1965   'i never understood guys who wanted to run int...  \n",
              "1469   We need to stop paying attention to @drizzy bo...  \n",
              "869    FedEx no longer to transport bioterror germs i...  \n",
              "840    FedEx to stop transporting bioterror germs aft...  "
            ],
            "text/html": [
              "\n",
              "  <div id=\"df-6d4d41ad-0407-46ad-b9d6-75640fa2c2d9\">\n",
              "    <div class=\"colab-df-container\">\n",
              "      <div>\n",
              "<style scoped>\n",
              "    .dataframe tbody tr th:only-of-type {\n",
              "        vertical-align: middle;\n",
              "    }\n",
              "\n",
              "    .dataframe tbody tr th {\n",
              "        vertical-align: top;\n",
              "    }\n",
              "\n",
              "    .dataframe thead th {\n",
              "        text-align: right;\n",
              "    }\n",
              "</style>\n",
              "<table border=\"1\" class=\"dataframe\">\n",
              "  <thead>\n",
              "    <tr style=\"text-align: right;\">\n",
              "      <th></th>\n",
              "      <th>text_with_non_hashtag</th>\n",
              "      <th>text</th>\n",
              "    </tr>\n",
              "  </thead>\n",
              "  <tbody>\n",
              "    <tr>\n",
              "      <th>10872</th>\n",
              "      <td>police investigating after an e-bike collided ...</td>\n",
              "      <td>Police investigating after an e-bike collided ...</td>\n",
              "    </tr>\n",
              "    <tr>\n",
              "      <th>9066</th>\n",
              "      <td>investigators say a fatal virgin galactic spac...</td>\n",
              "      <td>Investigators say a fatal Virgin Galactic spac...</td>\n",
              "    </tr>\n",
              "    <tr>\n",
              "      <th>9076</th>\n",
              "      <td>bbclive investigators say a fatal virgin galac...</td>\n",
              "      <td>#BBCLive Investigators say a fatal Virgin Gala...</td>\n",
              "    </tr>\n",
              "    <tr>\n",
              "      <th>9083</th>\n",
              "      <td>investigators say a fatal virgin galactic spac...</td>\n",
              "      <td>Investigators say a fatal Virgin Galactic spac...</td>\n",
              "    </tr>\n",
              "    <tr>\n",
              "      <th>9048</th>\n",
              "      <td>investigators say a fatal virgin galactic spac...</td>\n",
              "      <td>Investigators say a fatal Virgin Galactic spac...</td>\n",
              "    </tr>\n",
              "    <tr>\n",
              "      <th>1962</th>\n",
              "      <td>schools in western uganda still burning down b...</td>\n",
              "      <td>Schools in Western Uganda still Burning down B...</td>\n",
              "    </tr>\n",
              "    <tr>\n",
              "      <th>9047</th>\n",
              "      <td>virgin galactic crash: early unlocking of brak...</td>\n",
              "      <td>Virgin galactic crash: early unlocking of brak...</td>\n",
              "    </tr>\n",
              "    <tr>\n",
              "      <th>9065</th>\n",
              "      <td>virgin galactic crash: early unlocking of brak...</td>\n",
              "      <td>Virgin galactic crash: early unlocking of brak...</td>\n",
              "    </tr>\n",
              "    <tr>\n",
              "      <th>9049</th>\n",
              "      <td>investigators rule catastrophic structural fai...</td>\n",
              "      <td>Investigators rule catastrophic structural fai...</td>\n",
              "    </tr>\n",
              "    <tr>\n",
              "      <th>9089</th>\n",
              "      <td>ntsb: virgin galactic crash caused by structur...</td>\n",
              "      <td>NTSB: Virgin Galactic crash caused by structur...</td>\n",
              "    </tr>\n",
              "    <tr>\n",
              "      <th>9055</th>\n",
              "      <td>&lt;user&gt;  mega mood swing on a 24 hr schedule. i...</td>\n",
              "      <td>@SirTitan45  Mega mood swing on a 24 hr schedu...</td>\n",
              "    </tr>\n",
              "    <tr>\n",
              "      <th>1439</th>\n",
              "      <td>idgaf who tough or who from canada and who fro...</td>\n",
              "      <td>Idgaf who tough or who from Canada and who fro...</td>\n",
              "    </tr>\n",
              "    <tr>\n",
              "      <th>2216</th>\n",
              "      <td>the chemical brothers to play the armory in sf...</td>\n",
              "      <td>THE CHEMICAL BROTHERS to play The Armory in SF...</td>\n",
              "    </tr>\n",
              "    <tr>\n",
              "      <th>1938</th>\n",
              "      <td>forestservice : rt dhsscitech: firefighters ru...</td>\n",
              "      <td>forestservice : RT dhsscitech: #Firefighters r...</td>\n",
              "    </tr>\n",
              "    <tr>\n",
              "      <th>1941</th>\n",
              "      <td>&lt;user&gt; not upset with a rally upset with burni...</td>\n",
              "      <td>@themagickidraps not upset with a rally upset ...</td>\n",
              "    </tr>\n",
              "    <tr>\n",
              "      <th>868</th>\n",
              "      <td>breakingnews fedex no longer willing to transp...</td>\n",
              "      <td>#BreakingNews http://t.co/gAN14PW9TG FedEx no ...</td>\n",
              "    </tr>\n",
              "    <tr>\n",
              "      <th>1965</th>\n",
              "      <td>'i never understood guys who wanted to run int...</td>\n",
              "      <td>'i never understood guys who wanted to run int...</td>\n",
              "    </tr>\n",
              "    <tr>\n",
              "      <th>1469</th>\n",
              "      <td>we need to stop paying attention to &lt;user&gt; bod...</td>\n",
              "      <td>We need to stop paying attention to @drizzy bo...</td>\n",
              "    </tr>\n",
              "    <tr>\n",
              "      <th>869</th>\n",
              "      <td>fedex no longer to transport bioterror germs i...</td>\n",
              "      <td>FedEx no longer to transport bioterror germs i...</td>\n",
              "    </tr>\n",
              "    <tr>\n",
              "      <th>840</th>\n",
              "      <td>fedex to stop transporting bioterror germs aft...</td>\n",
              "      <td>FedEx to stop transporting bioterror germs aft...</td>\n",
              "    </tr>\n",
              "  </tbody>\n",
              "</table>\n",
              "</div>\n",
              "      <button class=\"colab-df-convert\" onclick=\"convertToInteractive('df-6d4d41ad-0407-46ad-b9d6-75640fa2c2d9')\"\n",
              "              title=\"Convert this dataframe to an interactive table.\"\n",
              "              style=\"display:none;\">\n",
              "        \n",
              "  <svg xmlns=\"http://www.w3.org/2000/svg\" height=\"24px\"viewBox=\"0 0 24 24\"\n",
              "       width=\"24px\">\n",
              "    <path d=\"M0 0h24v24H0V0z\" fill=\"none\"/>\n",
              "    <path d=\"M18.56 5.44l.94 2.06.94-2.06 2.06-.94-2.06-.94-.94-2.06-.94 2.06-2.06.94zm-11 1L8.5 8.5l.94-2.06 2.06-.94-2.06-.94L8.5 2.5l-.94 2.06-2.06.94zm10 10l.94 2.06.94-2.06 2.06-.94-2.06-.94-.94-2.06-.94 2.06-2.06.94z\"/><path d=\"M17.41 7.96l-1.37-1.37c-.4-.4-.92-.59-1.43-.59-.52 0-1.04.2-1.43.59L10.3 9.45l-7.72 7.72c-.78.78-.78 2.05 0 2.83L4 21.41c.39.39.9.59 1.41.59.51 0 1.02-.2 1.41-.59l7.78-7.78 2.81-2.81c.8-.78.8-2.07 0-2.86zM5.41 20L4 18.59l7.72-7.72 1.47 1.35L5.41 20z\"/>\n",
              "  </svg>\n",
              "      </button>\n",
              "      \n",
              "  <style>\n",
              "    .colab-df-container {\n",
              "      display:flex;\n",
              "      flex-wrap:wrap;\n",
              "      gap: 12px;\n",
              "    }\n",
              "\n",
              "    .colab-df-convert {\n",
              "      background-color: #E8F0FE;\n",
              "      border: none;\n",
              "      border-radius: 50%;\n",
              "      cursor: pointer;\n",
              "      display: none;\n",
              "      fill: #1967D2;\n",
              "      height: 32px;\n",
              "      padding: 0 0 0 0;\n",
              "      width: 32px;\n",
              "    }\n",
              "\n",
              "    .colab-df-convert:hover {\n",
              "      background-color: #E2EBFA;\n",
              "      box-shadow: 0px 1px 2px rgba(60, 64, 67, 0.3), 0px 1px 3px 1px rgba(60, 64, 67, 0.15);\n",
              "      fill: #174EA6;\n",
              "    }\n",
              "\n",
              "    [theme=dark] .colab-df-convert {\n",
              "      background-color: #3B4455;\n",
              "      fill: #D2E3FC;\n",
              "    }\n",
              "\n",
              "    [theme=dark] .colab-df-convert:hover {\n",
              "      background-color: #434B5C;\n",
              "      box-shadow: 0px 1px 3px 1px rgba(0, 0, 0, 0.15);\n",
              "      filter: drop-shadow(0px 1px 2px rgba(0, 0, 0, 0.3));\n",
              "      fill: #FFFFFF;\n",
              "    }\n",
              "  </style>\n",
              "\n",
              "      <script>\n",
              "        const buttonEl =\n",
              "          document.querySelector('#df-6d4d41ad-0407-46ad-b9d6-75640fa2c2d9 button.colab-df-convert');\n",
              "        buttonEl.style.display =\n",
              "          google.colab.kernel.accessAllowed ? 'block' : 'none';\n",
              "\n",
              "        async function convertToInteractive(key) {\n",
              "          const element = document.querySelector('#df-6d4d41ad-0407-46ad-b9d6-75640fa2c2d9');\n",
              "          const dataTable =\n",
              "            await google.colab.kernel.invokeFunction('convertToInteractive',\n",
              "                                                     [key], {});\n",
              "          if (!dataTable) return;\n",
              "\n",
              "          const docLinkHtml = 'Like what you see? Visit the ' +\n",
              "            '<a target=\"_blank\" href=https://colab.research.google.com/notebooks/data_table.ipynb>data table notebook</a>'\n",
              "            + ' to learn more about interactive tables.';\n",
              "          element.innerHTML = '';\n",
              "          dataTable['output_type'] = 'display_data';\n",
              "          await google.colab.output.renderOutput(dataTable, element);\n",
              "          const docLink = document.createElement('div');\n",
              "          docLink.innerHTML = docLinkHtml;\n",
              "          element.appendChild(docLink);\n",
              "        }\n",
              "      </script>\n",
              "    </div>\n",
              "  </div>\n",
              "  "
            ]
          },
          "metadata": {},
          "execution_count": 25
        }
      ]
    },
    {
      "cell_type": "code",
      "source": [
        "def remove_with_non_hashtag_value(x):\n",
        "  ''' Remove hashtag value'''\n",
        "  word_list = x.split(\" \")\n",
        "  clean_words = []\n",
        "  for word in word_list:\n",
        "    if re.search(\"^#\", word) is None:\n",
        "      clean_words.append(word.lower())\n",
        "\n",
        "  return \" \".join(clean_words)\n",
        "\n",
        "disaster_db_df[\"text_without_hashtag_version\"] = disaster_db_df[\"text_without_url_and_arroba\"].apply(lambda x: remove_with_non_hashtag_value(x))\n",
        "clean_step_2_1_tweetit_db_df = disaster_db_df[disaster_db_df[\"is_tweet_id_duplicated\"] == True]\n",
        "clean_step_2_1_tweetit_db_df.sort_values(by = 'tweetid', inplace=True)\n",
        "clean_step_2_1_tweetit_db_df[[\"text_without_hashtag_version\", \"text\"]].head(20)"
      ],
      "metadata": {
        "colab": {
          "base_uri": "https://localhost:8080/",
          "height": 763
        },
        "id": "RrOPtdhasNIg",
        "outputId": "e2501257-0c89-437f-f530-1ba6350c9f77"
      },
      "execution_count": 26,
      "outputs": [
        {
          "output_type": "stream",
          "name": "stderr",
          "text": [
            "<ipython-input-26-59fe4d89c0ce>:13: SettingWithCopyWarning: \n",
            "A value is trying to be set on a copy of a slice from a DataFrame\n",
            "\n",
            "See the caveats in the documentation: https://pandas.pydata.org/pandas-docs/stable/user_guide/indexing.html#returning-a-view-versus-a-copy\n",
            "  clean_step_2_1_tweetit_db_df.sort_values(by = 'tweetid', inplace=True)\n"
          ]
        },
        {
          "output_type": "execute_result",
          "data": {
            "text/plain": [
              "                            text_without_hashtag_version  \\\n",
              "10872  police investigating after an e-bike collided ...   \n",
              "9066   investigators say a fatal virgin galactic spac...   \n",
              "9076   investigators say a fatal virgin galactic spac...   \n",
              "9083   investigators say a fatal virgin galactic spac...   \n",
              "9048   investigators say a fatal virgin galactic spac...   \n",
              "1962   schools in western uganda still burning down b...   \n",
              "9047   virgin galactic crash: early unlocking of brak...   \n",
              "9065   virgin galactic crash: early unlocking of brak...   \n",
              "9049   investigators rule catastrophic structural fai...   \n",
              "9089   ntsb: virgin galactic crash caused by structur...   \n",
              "9055   <user>  mega mood swing on a 24 hr schedule. i...   \n",
              "1439   idgaf who tough or who from canada and who fro...   \n",
              "2216   the chemical brothers to play the armory in sf...   \n",
              "1938   forestservice : rt dhsscitech: run into burnin...   \n",
              "1941   <user> not upset with a rally upset with burni...   \n",
              "868    fedex no longer willing to transport research ...   \n",
              "1965   'i never understood guys who wanted to run int...   \n",
              "1469   we need to stop paying attention to <user> bod...   \n",
              "869    fedex no longer to transport bioterror germs i...   \n",
              "840    fedex to stop transporting bioterror germs aft...   \n",
              "\n",
              "                                                    text  \n",
              "10872  Police investigating after an e-bike collided ...  \n",
              "9066   Investigators say a fatal Virgin Galactic spac...  \n",
              "9076   #BBCLive Investigators say a fatal Virgin Gala...  \n",
              "9083   Investigators say a fatal Virgin Galactic spac...  \n",
              "9048   Investigators say a fatal Virgin Galactic spac...  \n",
              "1962   Schools in Western Uganda still Burning down B...  \n",
              "9047   Virgin galactic crash: early unlocking of brak...  \n",
              "9065   Virgin galactic crash: early unlocking of brak...  \n",
              "9049   Investigators rule catastrophic structural fai...  \n",
              "9089   NTSB: Virgin Galactic crash caused by structur...  \n",
              "9055   @SirTitan45  Mega mood swing on a 24 hr schedu...  \n",
              "1439   Idgaf who tough or who from Canada and who fro...  \n",
              "2216   THE CHEMICAL BROTHERS to play The Armory in SF...  \n",
              "1938   forestservice : RT dhsscitech: #Firefighters r...  \n",
              "1941   @themagickidraps not upset with a rally upset ...  \n",
              "868    #BreakingNews http://t.co/gAN14PW9TG FedEx no ...  \n",
              "1965   'i never understood guys who wanted to run int...  \n",
              "1469   We need to stop paying attention to @drizzy bo...  \n",
              "869    FedEx no longer to transport bioterror germs i...  \n",
              "840    FedEx to stop transporting bioterror germs aft...  "
            ],
            "text/html": [
              "\n",
              "  <div id=\"df-17f16509-d934-4b2d-8725-cc6f2aeef88f\">\n",
              "    <div class=\"colab-df-container\">\n",
              "      <div>\n",
              "<style scoped>\n",
              "    .dataframe tbody tr th:only-of-type {\n",
              "        vertical-align: middle;\n",
              "    }\n",
              "\n",
              "    .dataframe tbody tr th {\n",
              "        vertical-align: top;\n",
              "    }\n",
              "\n",
              "    .dataframe thead th {\n",
              "        text-align: right;\n",
              "    }\n",
              "</style>\n",
              "<table border=\"1\" class=\"dataframe\">\n",
              "  <thead>\n",
              "    <tr style=\"text-align: right;\">\n",
              "      <th></th>\n",
              "      <th>text_without_hashtag_version</th>\n",
              "      <th>text</th>\n",
              "    </tr>\n",
              "  </thead>\n",
              "  <tbody>\n",
              "    <tr>\n",
              "      <th>10872</th>\n",
              "      <td>police investigating after an e-bike collided ...</td>\n",
              "      <td>Police investigating after an e-bike collided ...</td>\n",
              "    </tr>\n",
              "    <tr>\n",
              "      <th>9066</th>\n",
              "      <td>investigators say a fatal virgin galactic spac...</td>\n",
              "      <td>Investigators say a fatal Virgin Galactic spac...</td>\n",
              "    </tr>\n",
              "    <tr>\n",
              "      <th>9076</th>\n",
              "      <td>investigators say a fatal virgin galactic spac...</td>\n",
              "      <td>#BBCLive Investigators say a fatal Virgin Gala...</td>\n",
              "    </tr>\n",
              "    <tr>\n",
              "      <th>9083</th>\n",
              "      <td>investigators say a fatal virgin galactic spac...</td>\n",
              "      <td>Investigators say a fatal Virgin Galactic spac...</td>\n",
              "    </tr>\n",
              "    <tr>\n",
              "      <th>9048</th>\n",
              "      <td>investigators say a fatal virgin galactic spac...</td>\n",
              "      <td>Investigators say a fatal Virgin Galactic spac...</td>\n",
              "    </tr>\n",
              "    <tr>\n",
              "      <th>1962</th>\n",
              "      <td>schools in western uganda still burning down b...</td>\n",
              "      <td>Schools in Western Uganda still Burning down B...</td>\n",
              "    </tr>\n",
              "    <tr>\n",
              "      <th>9047</th>\n",
              "      <td>virgin galactic crash: early unlocking of brak...</td>\n",
              "      <td>Virgin galactic crash: early unlocking of brak...</td>\n",
              "    </tr>\n",
              "    <tr>\n",
              "      <th>9065</th>\n",
              "      <td>virgin galactic crash: early unlocking of brak...</td>\n",
              "      <td>Virgin galactic crash: early unlocking of brak...</td>\n",
              "    </tr>\n",
              "    <tr>\n",
              "      <th>9049</th>\n",
              "      <td>investigators rule catastrophic structural fai...</td>\n",
              "      <td>Investigators rule catastrophic structural fai...</td>\n",
              "    </tr>\n",
              "    <tr>\n",
              "      <th>9089</th>\n",
              "      <td>ntsb: virgin galactic crash caused by structur...</td>\n",
              "      <td>NTSB: Virgin Galactic crash caused by structur...</td>\n",
              "    </tr>\n",
              "    <tr>\n",
              "      <th>9055</th>\n",
              "      <td>&lt;user&gt;  mega mood swing on a 24 hr schedule. i...</td>\n",
              "      <td>@SirTitan45  Mega mood swing on a 24 hr schedu...</td>\n",
              "    </tr>\n",
              "    <tr>\n",
              "      <th>1439</th>\n",
              "      <td>idgaf who tough or who from canada and who fro...</td>\n",
              "      <td>Idgaf who tough or who from Canada and who fro...</td>\n",
              "    </tr>\n",
              "    <tr>\n",
              "      <th>2216</th>\n",
              "      <td>the chemical brothers to play the armory in sf...</td>\n",
              "      <td>THE CHEMICAL BROTHERS to play The Armory in SF...</td>\n",
              "    </tr>\n",
              "    <tr>\n",
              "      <th>1938</th>\n",
              "      <td>forestservice : rt dhsscitech: run into burnin...</td>\n",
              "      <td>forestservice : RT dhsscitech: #Firefighters r...</td>\n",
              "    </tr>\n",
              "    <tr>\n",
              "      <th>1941</th>\n",
              "      <td>&lt;user&gt; not upset with a rally upset with burni...</td>\n",
              "      <td>@themagickidraps not upset with a rally upset ...</td>\n",
              "    </tr>\n",
              "    <tr>\n",
              "      <th>868</th>\n",
              "      <td>fedex no longer willing to transport research ...</td>\n",
              "      <td>#BreakingNews http://t.co/gAN14PW9TG FedEx no ...</td>\n",
              "    </tr>\n",
              "    <tr>\n",
              "      <th>1965</th>\n",
              "      <td>'i never understood guys who wanted to run int...</td>\n",
              "      <td>'i never understood guys who wanted to run int...</td>\n",
              "    </tr>\n",
              "    <tr>\n",
              "      <th>1469</th>\n",
              "      <td>we need to stop paying attention to &lt;user&gt; bod...</td>\n",
              "      <td>We need to stop paying attention to @drizzy bo...</td>\n",
              "    </tr>\n",
              "    <tr>\n",
              "      <th>869</th>\n",
              "      <td>fedex no longer to transport bioterror germs i...</td>\n",
              "      <td>FedEx no longer to transport bioterror germs i...</td>\n",
              "    </tr>\n",
              "    <tr>\n",
              "      <th>840</th>\n",
              "      <td>fedex to stop transporting bioterror germs aft...</td>\n",
              "      <td>FedEx to stop transporting bioterror germs aft...</td>\n",
              "    </tr>\n",
              "  </tbody>\n",
              "</table>\n",
              "</div>\n",
              "      <button class=\"colab-df-convert\" onclick=\"convertToInteractive('df-17f16509-d934-4b2d-8725-cc6f2aeef88f')\"\n",
              "              title=\"Convert this dataframe to an interactive table.\"\n",
              "              style=\"display:none;\">\n",
              "        \n",
              "  <svg xmlns=\"http://www.w3.org/2000/svg\" height=\"24px\"viewBox=\"0 0 24 24\"\n",
              "       width=\"24px\">\n",
              "    <path d=\"M0 0h24v24H0V0z\" fill=\"none\"/>\n",
              "    <path d=\"M18.56 5.44l.94 2.06.94-2.06 2.06-.94-2.06-.94-.94-2.06-.94 2.06-2.06.94zm-11 1L8.5 8.5l.94-2.06 2.06-.94-2.06-.94L8.5 2.5l-.94 2.06-2.06.94zm10 10l.94 2.06.94-2.06 2.06-.94-2.06-.94-.94-2.06-.94 2.06-2.06.94z\"/><path d=\"M17.41 7.96l-1.37-1.37c-.4-.4-.92-.59-1.43-.59-.52 0-1.04.2-1.43.59L10.3 9.45l-7.72 7.72c-.78.78-.78 2.05 0 2.83L4 21.41c.39.39.9.59 1.41.59.51 0 1.02-.2 1.41-.59l7.78-7.78 2.81-2.81c.8-.78.8-2.07 0-2.86zM5.41 20L4 18.59l7.72-7.72 1.47 1.35L5.41 20z\"/>\n",
              "  </svg>\n",
              "      </button>\n",
              "      \n",
              "  <style>\n",
              "    .colab-df-container {\n",
              "      display:flex;\n",
              "      flex-wrap:wrap;\n",
              "      gap: 12px;\n",
              "    }\n",
              "\n",
              "    .colab-df-convert {\n",
              "      background-color: #E8F0FE;\n",
              "      border: none;\n",
              "      border-radius: 50%;\n",
              "      cursor: pointer;\n",
              "      display: none;\n",
              "      fill: #1967D2;\n",
              "      height: 32px;\n",
              "      padding: 0 0 0 0;\n",
              "      width: 32px;\n",
              "    }\n",
              "\n",
              "    .colab-df-convert:hover {\n",
              "      background-color: #E2EBFA;\n",
              "      box-shadow: 0px 1px 2px rgba(60, 64, 67, 0.3), 0px 1px 3px 1px rgba(60, 64, 67, 0.15);\n",
              "      fill: #174EA6;\n",
              "    }\n",
              "\n",
              "    [theme=dark] .colab-df-convert {\n",
              "      background-color: #3B4455;\n",
              "      fill: #D2E3FC;\n",
              "    }\n",
              "\n",
              "    [theme=dark] .colab-df-convert:hover {\n",
              "      background-color: #434B5C;\n",
              "      box-shadow: 0px 1px 3px 1px rgba(0, 0, 0, 0.15);\n",
              "      filter: drop-shadow(0px 1px 2px rgba(0, 0, 0, 0.3));\n",
              "      fill: #FFFFFF;\n",
              "    }\n",
              "  </style>\n",
              "\n",
              "      <script>\n",
              "        const buttonEl =\n",
              "          document.querySelector('#df-17f16509-d934-4b2d-8725-cc6f2aeef88f button.colab-df-convert');\n",
              "        buttonEl.style.display =\n",
              "          google.colab.kernel.accessAllowed ? 'block' : 'none';\n",
              "\n",
              "        async function convertToInteractive(key) {\n",
              "          const element = document.querySelector('#df-17f16509-d934-4b2d-8725-cc6f2aeef88f');\n",
              "          const dataTable =\n",
              "            await google.colab.kernel.invokeFunction('convertToInteractive',\n",
              "                                                     [key], {});\n",
              "          if (!dataTable) return;\n",
              "\n",
              "          const docLinkHtml = 'Like what you see? Visit the ' +\n",
              "            '<a target=\"_blank\" href=https://colab.research.google.com/notebooks/data_table.ipynb>data table notebook</a>'\n",
              "            + ' to learn more about interactive tables.';\n",
              "          element.innerHTML = '';\n",
              "          dataTable['output_type'] = 'display_data';\n",
              "          await google.colab.output.renderOutput(dataTable, element);\n",
              "          const docLink = document.createElement('div');\n",
              "          docLink.innerHTML = docLinkHtml;\n",
              "          element.appendChild(docLink);\n",
              "        }\n",
              "      </script>\n",
              "    </div>\n",
              "  </div>\n",
              "  "
            ]
          },
          "metadata": {},
          "execution_count": 26
        }
      ]
    },
    {
      "cell_type": "markdown",
      "source": [
        "### Get the most long length version of text to cover more information."
      ],
      "metadata": {
        "id": "6UaLuB81vGPf"
      }
    },
    {
      "cell_type": "code",
      "source": [
        "def get_lenght_text(x):\n",
        "  ''' Get the lenght of words in \"text\" field'''\n",
        "  return len(x.split(\" \"))\n",
        "\n",
        "disaster_db_df[\"amount_words_in_cleaning_text\"] = disaster_db_df[\"text_without_hashtag_version\"].apply( lambda x : get_lenght_text(x))\n",
        "disaster_db_df.sort_values(by = 'amount_words_in_cleaning_text', inplace=True)\n",
        "cleaning_disaster_db_df = disaster_db_df[['choose_one', 'choose_one:confidence', 'text','tweetid', 'range_confidence', \n",
        "  'is_tweet_id_duplicated', 'amount_words_in_cleaning_text', \"text_without_hashtag_version\"]]\n",
        "cleaning_disaster_db_df.rename(columns={\n",
        "    \"text_without_hashtag_version\": \"cleaning_text\",\n",
        "    \"choose_one:confidence\": \"confidence\",\n",
        "    \"tweetid\": \"tweet_id\"\n",
        "  }, inplace=True)\n",
        "cleaning_disaster_db_df.head(15)"
      ],
      "metadata": {
        "colab": {
          "base_uri": "https://localhost:8080/",
          "height": 792
        },
        "id": "tMRTWJuavIkx",
        "outputId": "703a700c-f89b-4f47-a6af-18c369786218"
      },
      "execution_count": 27,
      "outputs": [
        {
          "output_type": "stream",
          "name": "stderr",
          "text": [
            "<ipython-input-27-fdce3a786b39>:9: SettingWithCopyWarning: \n",
            "A value is trying to be set on a copy of a slice from a DataFrame\n",
            "\n",
            "See the caveats in the documentation: https://pandas.pydata.org/pandas-docs/stable/user_guide/indexing.html#returning-a-view-versus-a-copy\n",
            "  cleaning_disaster_db_df.rename(columns={\n"
          ]
        },
        {
          "output_type": "execute_result",
          "data": {
            "text/plain": [
              "        choose_one  confidence  \\\n",
              "9487      Relevant      0.8018   \n",
              "9490      Relevant      0.4048   \n",
              "9486  Not Relevant      1.0000   \n",
              "9482      Relevant      0.6030   \n",
              "9480      Relevant      0.6057   \n",
              "179   Not Relevant      0.5030   \n",
              "7610  Not Relevant      0.7946   \n",
              "9478  Not Relevant      0.6026   \n",
              "6168      Relevant      0.4014   \n",
              "36    Not Relevant      1.0000   \n",
              "9461      Relevant      0.8012   \n",
              "9449      Relevant      0.8036   \n",
              "7400  Not Relevant      0.7995   \n",
              "5851      Relevant      1.0000   \n",
              "9454  Not Relevant      0.5988   \n",
              "\n",
              "                                                   text      tweet_id  \\\n",
              "9487  Truth...\\nhttps://t.co/n1K5nlib9X\\n#News\\n#BBC...  6.290990e+17   \n",
              "9490  Truth...\\nhttps://t.co/4ZQrsAQrRT\\n#News\\n#BBC...  6.291010e+17   \n",
              "9486  Truth...\\nhttps://t.co/k44tL3rfMy\\n#News\\n#BBC...  6.290990e+17   \n",
              "9482  Truth...\\nhttps://t.co/p5ZIcjUdXO\\n#News\\n#BBC...  6.290990e+17   \n",
              "9480  Truth...\\nhttps://t.co/2Y4RGob7pj\\n#News\\n#BBC...  6.291010e+17   \n",
              "179                  Aftershock https://t.co/Ecy4U623nO  6.289010e+17   \n",
              "7610        #Pandemonium.iso psp http://t.co/HbpNFOAwII  6.290770e+17   \n",
              "9478  Truth...\\nhttps://t.co/Kix1j4ZyGx\\n#News\\n#BBC...  6.291010e+17   \n",
              "6168                                             hijack  6.290750e+17   \n",
              "36                                             LOOOOOOL  4.100000e+01   \n",
              "9461  Truth...\\nhttps://t.co/GLzggDjQeH\\n#News\\n#BBC...  6.290990e+17   \n",
              "9449  Truth...\\nhttps://t.co/nXS3Z1kxiD\\n#News\\n#BBC...  6.291010e+17   \n",
              "7400                                        Obliterated  6.290890e+17   \n",
              "5851  Yesterday's #hailstorm! #boston #cambridge htt...  6.290260e+17   \n",
              "9454  Truth...\\nhttps://t.co/beJfTYgJIL\\n#News\\n#BBC...  6.290990e+17   \n",
              "\n",
              "     range_confidence  is_tweet_id_duplicated  amount_words_in_cleaning_text  \\\n",
              "9487       0.75 - 0.9                    True                              1   \n",
              "9490        0.0 - 0.5                    True                              1   \n",
              "9486        0.9 - 1.0                    True                              1   \n",
              "9482       0.5 - 0.75                    True                              1   \n",
              "9480       0.5 - 0.75                    True                              1   \n",
              "179        0.5 - 0.75                   False                              1   \n",
              "7610       0.75 - 0.9                    True                              1   \n",
              "9478       0.5 - 0.75                    True                              1   \n",
              "6168        0.0 - 0.5                    True                              1   \n",
              "36          0.9 - 1.0                   False                              1   \n",
              "9461       0.75 - 0.9                    True                              1   \n",
              "9449       0.75 - 0.9                    True                              1   \n",
              "7400       0.75 - 0.9                    True                              1   \n",
              "5851        0.9 - 1.0                    True                              1   \n",
              "9454       0.5 - 0.75                    True                              1   \n",
              "\n",
              "                                          cleaning_text  \n",
              "9487  truth...\\nhttps://t.co/n1k5nlib9x\\n#news\\n#bbc...  \n",
              "9490  truth...\\nhttps://t.co/4zqrsaqrrt\\n#news\\n#bbc...  \n",
              "9486  truth...\\nhttps://t.co/k44tl3rfmy\\n#news\\n#bbc...  \n",
              "9482  truth...\\nhttps://t.co/p5zicjudxo\\n#news\\n#bbc...  \n",
              "9480  truth...\\nhttps://t.co/2y4rgob7pj\\n#news\\n#bbc...  \n",
              "179                                          aftershock  \n",
              "7610                                                psp  \n",
              "9478  truth...\\nhttps://t.co/kix1j4zygx\\n#news\\n#bbc...  \n",
              "6168                                             hijack  \n",
              "36                                             looooool  \n",
              "9461  truth...\\nhttps://t.co/glzggdjqeh\\n#news\\n#bbc...  \n",
              "9449  truth...\\nhttps://t.co/nxs3z1kxid\\n#news\\n#bbc...  \n",
              "7400                                        obliterated  \n",
              "5851                                        yesterday's  \n",
              "9454  truth...\\nhttps://t.co/bejftygjil\\n#news\\n#bbc...  "
            ],
            "text/html": [
              "\n",
              "  <div id=\"df-49a2c874-6c6c-43db-9d1b-70d451c2ce18\">\n",
              "    <div class=\"colab-df-container\">\n",
              "      <div>\n",
              "<style scoped>\n",
              "    .dataframe tbody tr th:only-of-type {\n",
              "        vertical-align: middle;\n",
              "    }\n",
              "\n",
              "    .dataframe tbody tr th {\n",
              "        vertical-align: top;\n",
              "    }\n",
              "\n",
              "    .dataframe thead th {\n",
              "        text-align: right;\n",
              "    }\n",
              "</style>\n",
              "<table border=\"1\" class=\"dataframe\">\n",
              "  <thead>\n",
              "    <tr style=\"text-align: right;\">\n",
              "      <th></th>\n",
              "      <th>choose_one</th>\n",
              "      <th>confidence</th>\n",
              "      <th>text</th>\n",
              "      <th>tweet_id</th>\n",
              "      <th>range_confidence</th>\n",
              "      <th>is_tweet_id_duplicated</th>\n",
              "      <th>amount_words_in_cleaning_text</th>\n",
              "      <th>cleaning_text</th>\n",
              "    </tr>\n",
              "  </thead>\n",
              "  <tbody>\n",
              "    <tr>\n",
              "      <th>9487</th>\n",
              "      <td>Relevant</td>\n",
              "      <td>0.8018</td>\n",
              "      <td>Truth...\\nhttps://t.co/n1K5nlib9X\\n#News\\n#BBC...</td>\n",
              "      <td>6.290990e+17</td>\n",
              "      <td>0.75 - 0.9</td>\n",
              "      <td>True</td>\n",
              "      <td>1</td>\n",
              "      <td>truth...\\nhttps://t.co/n1k5nlib9x\\n#news\\n#bbc...</td>\n",
              "    </tr>\n",
              "    <tr>\n",
              "      <th>9490</th>\n",
              "      <td>Relevant</td>\n",
              "      <td>0.4048</td>\n",
              "      <td>Truth...\\nhttps://t.co/4ZQrsAQrRT\\n#News\\n#BBC...</td>\n",
              "      <td>6.291010e+17</td>\n",
              "      <td>0.0 - 0.5</td>\n",
              "      <td>True</td>\n",
              "      <td>1</td>\n",
              "      <td>truth...\\nhttps://t.co/4zqrsaqrrt\\n#news\\n#bbc...</td>\n",
              "    </tr>\n",
              "    <tr>\n",
              "      <th>9486</th>\n",
              "      <td>Not Relevant</td>\n",
              "      <td>1.0000</td>\n",
              "      <td>Truth...\\nhttps://t.co/k44tL3rfMy\\n#News\\n#BBC...</td>\n",
              "      <td>6.290990e+17</td>\n",
              "      <td>0.9 - 1.0</td>\n",
              "      <td>True</td>\n",
              "      <td>1</td>\n",
              "      <td>truth...\\nhttps://t.co/k44tl3rfmy\\n#news\\n#bbc...</td>\n",
              "    </tr>\n",
              "    <tr>\n",
              "      <th>9482</th>\n",
              "      <td>Relevant</td>\n",
              "      <td>0.6030</td>\n",
              "      <td>Truth...\\nhttps://t.co/p5ZIcjUdXO\\n#News\\n#BBC...</td>\n",
              "      <td>6.290990e+17</td>\n",
              "      <td>0.5 - 0.75</td>\n",
              "      <td>True</td>\n",
              "      <td>1</td>\n",
              "      <td>truth...\\nhttps://t.co/p5zicjudxo\\n#news\\n#bbc...</td>\n",
              "    </tr>\n",
              "    <tr>\n",
              "      <th>9480</th>\n",
              "      <td>Relevant</td>\n",
              "      <td>0.6057</td>\n",
              "      <td>Truth...\\nhttps://t.co/2Y4RGob7pj\\n#News\\n#BBC...</td>\n",
              "      <td>6.291010e+17</td>\n",
              "      <td>0.5 - 0.75</td>\n",
              "      <td>True</td>\n",
              "      <td>1</td>\n",
              "      <td>truth...\\nhttps://t.co/2y4rgob7pj\\n#news\\n#bbc...</td>\n",
              "    </tr>\n",
              "    <tr>\n",
              "      <th>179</th>\n",
              "      <td>Not Relevant</td>\n",
              "      <td>0.5030</td>\n",
              "      <td>Aftershock https://t.co/Ecy4U623nO</td>\n",
              "      <td>6.289010e+17</td>\n",
              "      <td>0.5 - 0.75</td>\n",
              "      <td>False</td>\n",
              "      <td>1</td>\n",
              "      <td>aftershock</td>\n",
              "    </tr>\n",
              "    <tr>\n",
              "      <th>7610</th>\n",
              "      <td>Not Relevant</td>\n",
              "      <td>0.7946</td>\n",
              "      <td>#Pandemonium.iso psp http://t.co/HbpNFOAwII</td>\n",
              "      <td>6.290770e+17</td>\n",
              "      <td>0.75 - 0.9</td>\n",
              "      <td>True</td>\n",
              "      <td>1</td>\n",
              "      <td>psp</td>\n",
              "    </tr>\n",
              "    <tr>\n",
              "      <th>9478</th>\n",
              "      <td>Not Relevant</td>\n",
              "      <td>0.6026</td>\n",
              "      <td>Truth...\\nhttps://t.co/Kix1j4ZyGx\\n#News\\n#BBC...</td>\n",
              "      <td>6.291010e+17</td>\n",
              "      <td>0.5 - 0.75</td>\n",
              "      <td>True</td>\n",
              "      <td>1</td>\n",
              "      <td>truth...\\nhttps://t.co/kix1j4zygx\\n#news\\n#bbc...</td>\n",
              "    </tr>\n",
              "    <tr>\n",
              "      <th>6168</th>\n",
              "      <td>Relevant</td>\n",
              "      <td>0.4014</td>\n",
              "      <td>hijack</td>\n",
              "      <td>6.290750e+17</td>\n",
              "      <td>0.0 - 0.5</td>\n",
              "      <td>True</td>\n",
              "      <td>1</td>\n",
              "      <td>hijack</td>\n",
              "    </tr>\n",
              "    <tr>\n",
              "      <th>36</th>\n",
              "      <td>Not Relevant</td>\n",
              "      <td>1.0000</td>\n",
              "      <td>LOOOOOOL</td>\n",
              "      <td>4.100000e+01</td>\n",
              "      <td>0.9 - 1.0</td>\n",
              "      <td>False</td>\n",
              "      <td>1</td>\n",
              "      <td>looooool</td>\n",
              "    </tr>\n",
              "    <tr>\n",
              "      <th>9461</th>\n",
              "      <td>Relevant</td>\n",
              "      <td>0.8012</td>\n",
              "      <td>Truth...\\nhttps://t.co/GLzggDjQeH\\n#News\\n#BBC...</td>\n",
              "      <td>6.290990e+17</td>\n",
              "      <td>0.75 - 0.9</td>\n",
              "      <td>True</td>\n",
              "      <td>1</td>\n",
              "      <td>truth...\\nhttps://t.co/glzggdjqeh\\n#news\\n#bbc...</td>\n",
              "    </tr>\n",
              "    <tr>\n",
              "      <th>9449</th>\n",
              "      <td>Relevant</td>\n",
              "      <td>0.8036</td>\n",
              "      <td>Truth...\\nhttps://t.co/nXS3Z1kxiD\\n#News\\n#BBC...</td>\n",
              "      <td>6.291010e+17</td>\n",
              "      <td>0.75 - 0.9</td>\n",
              "      <td>True</td>\n",
              "      <td>1</td>\n",
              "      <td>truth...\\nhttps://t.co/nxs3z1kxid\\n#news\\n#bbc...</td>\n",
              "    </tr>\n",
              "    <tr>\n",
              "      <th>7400</th>\n",
              "      <td>Not Relevant</td>\n",
              "      <td>0.7995</td>\n",
              "      <td>Obliterated</td>\n",
              "      <td>6.290890e+17</td>\n",
              "      <td>0.75 - 0.9</td>\n",
              "      <td>True</td>\n",
              "      <td>1</td>\n",
              "      <td>obliterated</td>\n",
              "    </tr>\n",
              "    <tr>\n",
              "      <th>5851</th>\n",
              "      <td>Relevant</td>\n",
              "      <td>1.0000</td>\n",
              "      <td>Yesterday's #hailstorm! #boston #cambridge htt...</td>\n",
              "      <td>6.290260e+17</td>\n",
              "      <td>0.9 - 1.0</td>\n",
              "      <td>True</td>\n",
              "      <td>1</td>\n",
              "      <td>yesterday's</td>\n",
              "    </tr>\n",
              "    <tr>\n",
              "      <th>9454</th>\n",
              "      <td>Not Relevant</td>\n",
              "      <td>0.5988</td>\n",
              "      <td>Truth...\\nhttps://t.co/beJfTYgJIL\\n#News\\n#BBC...</td>\n",
              "      <td>6.290990e+17</td>\n",
              "      <td>0.5 - 0.75</td>\n",
              "      <td>True</td>\n",
              "      <td>1</td>\n",
              "      <td>truth...\\nhttps://t.co/bejftygjil\\n#news\\n#bbc...</td>\n",
              "    </tr>\n",
              "  </tbody>\n",
              "</table>\n",
              "</div>\n",
              "      <button class=\"colab-df-convert\" onclick=\"convertToInteractive('df-49a2c874-6c6c-43db-9d1b-70d451c2ce18')\"\n",
              "              title=\"Convert this dataframe to an interactive table.\"\n",
              "              style=\"display:none;\">\n",
              "        \n",
              "  <svg xmlns=\"http://www.w3.org/2000/svg\" height=\"24px\"viewBox=\"0 0 24 24\"\n",
              "       width=\"24px\">\n",
              "    <path d=\"M0 0h24v24H0V0z\" fill=\"none\"/>\n",
              "    <path d=\"M18.56 5.44l.94 2.06.94-2.06 2.06-.94-2.06-.94-.94-2.06-.94 2.06-2.06.94zm-11 1L8.5 8.5l.94-2.06 2.06-.94-2.06-.94L8.5 2.5l-.94 2.06-2.06.94zm10 10l.94 2.06.94-2.06 2.06-.94-2.06-.94-.94-2.06-.94 2.06-2.06.94z\"/><path d=\"M17.41 7.96l-1.37-1.37c-.4-.4-.92-.59-1.43-.59-.52 0-1.04.2-1.43.59L10.3 9.45l-7.72 7.72c-.78.78-.78 2.05 0 2.83L4 21.41c.39.39.9.59 1.41.59.51 0 1.02-.2 1.41-.59l7.78-7.78 2.81-2.81c.8-.78.8-2.07 0-2.86zM5.41 20L4 18.59l7.72-7.72 1.47 1.35L5.41 20z\"/>\n",
              "  </svg>\n",
              "      </button>\n",
              "      \n",
              "  <style>\n",
              "    .colab-df-container {\n",
              "      display:flex;\n",
              "      flex-wrap:wrap;\n",
              "      gap: 12px;\n",
              "    }\n",
              "\n",
              "    .colab-df-convert {\n",
              "      background-color: #E8F0FE;\n",
              "      border: none;\n",
              "      border-radius: 50%;\n",
              "      cursor: pointer;\n",
              "      display: none;\n",
              "      fill: #1967D2;\n",
              "      height: 32px;\n",
              "      padding: 0 0 0 0;\n",
              "      width: 32px;\n",
              "    }\n",
              "\n",
              "    .colab-df-convert:hover {\n",
              "      background-color: #E2EBFA;\n",
              "      box-shadow: 0px 1px 2px rgba(60, 64, 67, 0.3), 0px 1px 3px 1px rgba(60, 64, 67, 0.15);\n",
              "      fill: #174EA6;\n",
              "    }\n",
              "\n",
              "    [theme=dark] .colab-df-convert {\n",
              "      background-color: #3B4455;\n",
              "      fill: #D2E3FC;\n",
              "    }\n",
              "\n",
              "    [theme=dark] .colab-df-convert:hover {\n",
              "      background-color: #434B5C;\n",
              "      box-shadow: 0px 1px 3px 1px rgba(0, 0, 0, 0.15);\n",
              "      filter: drop-shadow(0px 1px 2px rgba(0, 0, 0, 0.3));\n",
              "      fill: #FFFFFF;\n",
              "    }\n",
              "  </style>\n",
              "\n",
              "      <script>\n",
              "        const buttonEl =\n",
              "          document.querySelector('#df-49a2c874-6c6c-43db-9d1b-70d451c2ce18 button.colab-df-convert');\n",
              "        buttonEl.style.display =\n",
              "          google.colab.kernel.accessAllowed ? 'block' : 'none';\n",
              "\n",
              "        async function convertToInteractive(key) {\n",
              "          const element = document.querySelector('#df-49a2c874-6c6c-43db-9d1b-70d451c2ce18');\n",
              "          const dataTable =\n",
              "            await google.colab.kernel.invokeFunction('convertToInteractive',\n",
              "                                                     [key], {});\n",
              "          if (!dataTable) return;\n",
              "\n",
              "          const docLinkHtml = 'Like what you see? Visit the ' +\n",
              "            '<a target=\"_blank\" href=https://colab.research.google.com/notebooks/data_table.ipynb>data table notebook</a>'\n",
              "            + ' to learn more about interactive tables.';\n",
              "          element.innerHTML = '';\n",
              "          dataTable['output_type'] = 'display_data';\n",
              "          await google.colab.output.renderOutput(dataTable, element);\n",
              "          const docLink = document.createElement('div');\n",
              "          docLink.innerHTML = docLinkHtml;\n",
              "          element.appendChild(docLink);\n",
              "        }\n",
              "      </script>\n",
              "    </div>\n",
              "  </div>\n",
              "  "
            ]
          },
          "metadata": {},
          "execution_count": 27
        }
      ]
    },
    {
      "cell_type": "code",
      "source": [
        "cleaning_disaster_db_df.sort_values(\n",
        "    by=[\"cleaning_text\", \"confidence\", \"amount_words_in_cleaning_text\"],\n",
        "    ascending = False, \n",
        "    inplace=True\n",
        "  )\n",
        "cleaning_disaster_db_df.head(10)\n"
      ],
      "metadata": {
        "colab": {
          "base_uri": "https://localhost:8080/",
          "height": 772
        },
        "id": "yzPjjAk30eef",
        "outputId": "270eaec5-cb30-4ac8-c7e8-47c7b9caab35"
      },
      "execution_count": 28,
      "outputs": [
        {
          "output_type": "stream",
          "name": "stderr",
          "text": [
            "<ipython-input-28-aaca77229732>:1: SettingWithCopyWarning: \n",
            "A value is trying to be set on a copy of a slice from a DataFrame\n",
            "\n",
            "See the caveats in the documentation: https://pandas.pydata.org/pandas-docs/stable/user_guide/indexing.html#returning-a-view-versus-a-copy\n",
            "  cleaning_disaster_db_df.sort_values(\n"
          ]
        },
        {
          "output_type": "execute_result",
          "data": {
            "text/plain": [
              "        choose_one  confidence  \\\n",
              "1394  Not Relevant      1.0000   \n",
              "9663  Not Relevant      0.8006   \n",
              "9694      Relevant      0.6006   \n",
              "2351  Not Relevant      0.6018   \n",
              "4006      Relevant      1.0000   \n",
              "1414  Not Relevant      1.0000   \n",
              "5410      Relevant      1.0000   \n",
              "1416  Not Relevant      1.0000   \n",
              "5420      Relevant      1.0000   \n",
              "8990      Relevant      0.6027   \n",
              "\n",
              "                                                   text      tweet_id  \\\n",
              "1394  å€} New Ladies Shoulder Tote #Handbag Faux Lea...  6.290670e+17   \n",
              "9663  #TornadoGiveaway åÊ #thebookclub åÊ Join in!! ...  6.291100e+17   \n",
              "9694  #TornadoGiveaway åÊ #thebookclub åÊ Join in!! ...  6.291100e+17   \n",
              "2351  åÈMGN-AFRICAåš pin:263789F4 åÈ Correction: Ten...  6.293480e+17   \n",
              "4006  å¬'Only the sea knows how many are dead' @MSF_...  6.290910e+17   \n",
              "1414  å_? New Ladies Shoulder Tote #Handbag Faux Lea...  6.290490e+17   \n",
              "5410  #NJTurnpike å_ #NJTurnpike Reopens Hours After...  6.290920e+17   \n",
              "1416  ÛŒ? New Ladies Shoulder Tote #Handbag Faux Le...  6.290330e+17   \n",
              "5420  Û÷We Can HelpÛª Says Denver Firefighter Work...  6.290920e+17   \n",
              "8990  Û÷SexistÛª peer review causes storm online h...  6.293600e+17   \n",
              "\n",
              "     range_confidence  is_tweet_id_duplicated  amount_words_in_cleaning_text  \\\n",
              "1394        0.9 - 1.0                    True                             14   \n",
              "9663       0.75 - 0.9                    True                              4   \n",
              "9694       0.5 - 0.75                    True                              4   \n",
              "2351       0.5 - 0.75                    True                             13   \n",
              "4006        0.9 - 1.0                    True                             18   \n",
              "1414        0.9 - 1.0                    True                             12   \n",
              "5410        0.9 - 1.0                    True                              7   \n",
              "1416        0.9 - 1.0                    True                             12   \n",
              "5420        0.9 - 1.0                    True                             12   \n",
              "8990       0.5 - 0.75                    True                              8   \n",
              "\n",
              "                                          cleaning_text  \n",
              "1394  å€} new ladies shoulder tote faux leather hobo...  \n",
              "9663                                    åê åê join in!!  \n",
              "9694                                    åê åê join in!!  \n",
              "2351  åèmgn-africaåš pin:263789f4 åè correction: ten...  \n",
              "4006  å¬'only the sea knows how many are dead' <user...  \n",
              "1414  å_? new ladies shoulder tote faux leather hobo...  \n",
              "5410              å_ reopens hours after truck fire in?  \n",
              "1416  ûœ? new ladies shoulder tote faux leather hob...  \n",
              "5420  û÷we can helpûª says denver firefighter work...  \n",
              "8990  û÷sexistûª peer review causes storm online v...  "
            ],
            "text/html": [
              "\n",
              "  <div id=\"df-6ecb339c-2935-4e56-a453-57b2f7769a8a\">\n",
              "    <div class=\"colab-df-container\">\n",
              "      <div>\n",
              "<style scoped>\n",
              "    .dataframe tbody tr th:only-of-type {\n",
              "        vertical-align: middle;\n",
              "    }\n",
              "\n",
              "    .dataframe tbody tr th {\n",
              "        vertical-align: top;\n",
              "    }\n",
              "\n",
              "    .dataframe thead th {\n",
              "        text-align: right;\n",
              "    }\n",
              "</style>\n",
              "<table border=\"1\" class=\"dataframe\">\n",
              "  <thead>\n",
              "    <tr style=\"text-align: right;\">\n",
              "      <th></th>\n",
              "      <th>choose_one</th>\n",
              "      <th>confidence</th>\n",
              "      <th>text</th>\n",
              "      <th>tweet_id</th>\n",
              "      <th>range_confidence</th>\n",
              "      <th>is_tweet_id_duplicated</th>\n",
              "      <th>amount_words_in_cleaning_text</th>\n",
              "      <th>cleaning_text</th>\n",
              "    </tr>\n",
              "  </thead>\n",
              "  <tbody>\n",
              "    <tr>\n",
              "      <th>1394</th>\n",
              "      <td>Not Relevant</td>\n",
              "      <td>1.0000</td>\n",
              "      <td>å€} New Ladies Shoulder Tote #Handbag Faux Lea...</td>\n",
              "      <td>6.290670e+17</td>\n",
              "      <td>0.9 - 1.0</td>\n",
              "      <td>True</td>\n",
              "      <td>14</td>\n",
              "      <td>å€} new ladies shoulder tote faux leather hobo...</td>\n",
              "    </tr>\n",
              "    <tr>\n",
              "      <th>9663</th>\n",
              "      <td>Not Relevant</td>\n",
              "      <td>0.8006</td>\n",
              "      <td>#TornadoGiveaway åÊ #thebookclub åÊ Join in!! ...</td>\n",
              "      <td>6.291100e+17</td>\n",
              "      <td>0.75 - 0.9</td>\n",
              "      <td>True</td>\n",
              "      <td>4</td>\n",
              "      <td>åê åê join in!!</td>\n",
              "    </tr>\n",
              "    <tr>\n",
              "      <th>9694</th>\n",
              "      <td>Relevant</td>\n",
              "      <td>0.6006</td>\n",
              "      <td>#TornadoGiveaway åÊ #thebookclub åÊ Join in!! ...</td>\n",
              "      <td>6.291100e+17</td>\n",
              "      <td>0.5 - 0.75</td>\n",
              "      <td>True</td>\n",
              "      <td>4</td>\n",
              "      <td>åê åê join in!!</td>\n",
              "    </tr>\n",
              "    <tr>\n",
              "      <th>2351</th>\n",
              "      <td>Not Relevant</td>\n",
              "      <td>0.6018</td>\n",
              "      <td>åÈMGN-AFRICAåš pin:263789F4 åÈ Correction: Ten...</td>\n",
              "      <td>6.293480e+17</td>\n",
              "      <td>0.5 - 0.75</td>\n",
              "      <td>True</td>\n",
              "      <td>13</td>\n",
              "      <td>åèmgn-africaåš pin:263789f4 åè correction: ten...</td>\n",
              "    </tr>\n",
              "    <tr>\n",
              "      <th>4006</th>\n",
              "      <td>Relevant</td>\n",
              "      <td>1.0000</td>\n",
              "      <td>å¬'Only the sea knows how many are dead' @MSF_...</td>\n",
              "      <td>6.290910e+17</td>\n",
              "      <td>0.9 - 1.0</td>\n",
              "      <td>True</td>\n",
              "      <td>18</td>\n",
              "      <td>å¬'only the sea knows how many are dead' &lt;user...</td>\n",
              "    </tr>\n",
              "    <tr>\n",
              "      <th>1414</th>\n",
              "      <td>Not Relevant</td>\n",
              "      <td>1.0000</td>\n",
              "      <td>å_? New Ladies Shoulder Tote #Handbag Faux Lea...</td>\n",
              "      <td>6.290490e+17</td>\n",
              "      <td>0.9 - 1.0</td>\n",
              "      <td>True</td>\n",
              "      <td>12</td>\n",
              "      <td>å_? new ladies shoulder tote faux leather hobo...</td>\n",
              "    </tr>\n",
              "    <tr>\n",
              "      <th>5410</th>\n",
              "      <td>Relevant</td>\n",
              "      <td>1.0000</td>\n",
              "      <td>#NJTurnpike å_ #NJTurnpike Reopens Hours After...</td>\n",
              "      <td>6.290920e+17</td>\n",
              "      <td>0.9 - 1.0</td>\n",
              "      <td>True</td>\n",
              "      <td>7</td>\n",
              "      <td>å_ reopens hours after truck fire in?</td>\n",
              "    </tr>\n",
              "    <tr>\n",
              "      <th>1416</th>\n",
              "      <td>Not Relevant</td>\n",
              "      <td>1.0000</td>\n",
              "      <td>ÛŒ? New Ladies Shoulder Tote #Handbag Faux Le...</td>\n",
              "      <td>6.290330e+17</td>\n",
              "      <td>0.9 - 1.0</td>\n",
              "      <td>True</td>\n",
              "      <td>12</td>\n",
              "      <td>ûœ? new ladies shoulder tote faux leather hob...</td>\n",
              "    </tr>\n",
              "    <tr>\n",
              "      <th>5420</th>\n",
              "      <td>Relevant</td>\n",
              "      <td>1.0000</td>\n",
              "      <td>Û÷We Can HelpÛª Says Denver Firefighter Work...</td>\n",
              "      <td>6.290920e+17</td>\n",
              "      <td>0.9 - 1.0</td>\n",
              "      <td>True</td>\n",
              "      <td>12</td>\n",
              "      <td>û÷we can helpûª says denver firefighter work...</td>\n",
              "    </tr>\n",
              "    <tr>\n",
              "      <th>8990</th>\n",
              "      <td>Relevant</td>\n",
              "      <td>0.6027</td>\n",
              "      <td>Û÷SexistÛª peer review causes storm online h...</td>\n",
              "      <td>6.293600e+17</td>\n",
              "      <td>0.5 - 0.75</td>\n",
              "      <td>True</td>\n",
              "      <td>8</td>\n",
              "      <td>û÷sexistûª peer review causes storm online v...</td>\n",
              "    </tr>\n",
              "  </tbody>\n",
              "</table>\n",
              "</div>\n",
              "      <button class=\"colab-df-convert\" onclick=\"convertToInteractive('df-6ecb339c-2935-4e56-a453-57b2f7769a8a')\"\n",
              "              title=\"Convert this dataframe to an interactive table.\"\n",
              "              style=\"display:none;\">\n",
              "        \n",
              "  <svg xmlns=\"http://www.w3.org/2000/svg\" height=\"24px\"viewBox=\"0 0 24 24\"\n",
              "       width=\"24px\">\n",
              "    <path d=\"M0 0h24v24H0V0z\" fill=\"none\"/>\n",
              "    <path d=\"M18.56 5.44l.94 2.06.94-2.06 2.06-.94-2.06-.94-.94-2.06-.94 2.06-2.06.94zm-11 1L8.5 8.5l.94-2.06 2.06-.94-2.06-.94L8.5 2.5l-.94 2.06-2.06.94zm10 10l.94 2.06.94-2.06 2.06-.94-2.06-.94-.94-2.06-.94 2.06-2.06.94z\"/><path d=\"M17.41 7.96l-1.37-1.37c-.4-.4-.92-.59-1.43-.59-.52 0-1.04.2-1.43.59L10.3 9.45l-7.72 7.72c-.78.78-.78 2.05 0 2.83L4 21.41c.39.39.9.59 1.41.59.51 0 1.02-.2 1.41-.59l7.78-7.78 2.81-2.81c.8-.78.8-2.07 0-2.86zM5.41 20L4 18.59l7.72-7.72 1.47 1.35L5.41 20z\"/>\n",
              "  </svg>\n",
              "      </button>\n",
              "      \n",
              "  <style>\n",
              "    .colab-df-container {\n",
              "      display:flex;\n",
              "      flex-wrap:wrap;\n",
              "      gap: 12px;\n",
              "    }\n",
              "\n",
              "    .colab-df-convert {\n",
              "      background-color: #E8F0FE;\n",
              "      border: none;\n",
              "      border-radius: 50%;\n",
              "      cursor: pointer;\n",
              "      display: none;\n",
              "      fill: #1967D2;\n",
              "      height: 32px;\n",
              "      padding: 0 0 0 0;\n",
              "      width: 32px;\n",
              "    }\n",
              "\n",
              "    .colab-df-convert:hover {\n",
              "      background-color: #E2EBFA;\n",
              "      box-shadow: 0px 1px 2px rgba(60, 64, 67, 0.3), 0px 1px 3px 1px rgba(60, 64, 67, 0.15);\n",
              "      fill: #174EA6;\n",
              "    }\n",
              "\n",
              "    [theme=dark] .colab-df-convert {\n",
              "      background-color: #3B4455;\n",
              "      fill: #D2E3FC;\n",
              "    }\n",
              "\n",
              "    [theme=dark] .colab-df-convert:hover {\n",
              "      background-color: #434B5C;\n",
              "      box-shadow: 0px 1px 3px 1px rgba(0, 0, 0, 0.15);\n",
              "      filter: drop-shadow(0px 1px 2px rgba(0, 0, 0, 0.3));\n",
              "      fill: #FFFFFF;\n",
              "    }\n",
              "  </style>\n",
              "\n",
              "      <script>\n",
              "        const buttonEl =\n",
              "          document.querySelector('#df-6ecb339c-2935-4e56-a453-57b2f7769a8a button.colab-df-convert');\n",
              "        buttonEl.style.display =\n",
              "          google.colab.kernel.accessAllowed ? 'block' : 'none';\n",
              "\n",
              "        async function convertToInteractive(key) {\n",
              "          const element = document.querySelector('#df-6ecb339c-2935-4e56-a453-57b2f7769a8a');\n",
              "          const dataTable =\n",
              "            await google.colab.kernel.invokeFunction('convertToInteractive',\n",
              "                                                     [key], {});\n",
              "          if (!dataTable) return;\n",
              "\n",
              "          const docLinkHtml = 'Like what you see? Visit the ' +\n",
              "            '<a target=\"_blank\" href=https://colab.research.google.com/notebooks/data_table.ipynb>data table notebook</a>'\n",
              "            + ' to learn more about interactive tables.';\n",
              "          element.innerHTML = '';\n",
              "          dataTable['output_type'] = 'display_data';\n",
              "          await google.colab.output.renderOutput(dataTable, element);\n",
              "          const docLink = document.createElement('div');\n",
              "          docLink.innerHTML = docLinkHtml;\n",
              "          element.appendChild(docLink);\n",
              "        }\n",
              "      </script>\n",
              "    </div>\n",
              "  </div>\n",
              "  "
            ]
          },
          "metadata": {},
          "execution_count": 28
        }
      ]
    },
    {
      "cell_type": "code",
      "source": [
        "print(cleaning_disaster_db_df.shape)"
      ],
      "metadata": {
        "colab": {
          "base_uri": "https://localhost:8080/"
        },
        "id": "oNkl3ct03ZhZ",
        "outputId": "99d62998-11b4-4290-ae9c-c735188e31ff"
      },
      "execution_count": 29,
      "outputs": [
        {
          "output_type": "stream",
          "name": "stdout",
          "text": [
            "(10876, 8)\n"
          ]
        }
      ]
    },
    {
      "cell_type": "code",
      "source": [
        "cleaning_disaster_db_df[\"is_duplicated_cleaning_text\"] = cleaning_disaster_db_df.duplicated(subset=['cleaning_text'])\n",
        "cleaning_disaster_db_df[\"is_duplicated_cleaning_text\"].value_counts()"
      ],
      "metadata": {
        "colab": {
          "base_uri": "https://localhost:8080/"
        },
        "id": "XXyycfZ73fSI",
        "outputId": "465fe4be-3bdc-4db1-e83d-0e6a29a93f41"
      },
      "execution_count": 30,
      "outputs": [
        {
          "output_type": "stream",
          "name": "stderr",
          "text": [
            "<ipython-input-30-9edba0a8448f>:1: SettingWithCopyWarning: \n",
            "A value is trying to be set on a copy of a slice from a DataFrame.\n",
            "Try using .loc[row_indexer,col_indexer] = value instead\n",
            "\n",
            "See the caveats in the documentation: https://pandas.pydata.org/pandas-docs/stable/user_guide/indexing.html#returning-a-view-versus-a-copy\n",
            "  cleaning_disaster_db_df[\"is_duplicated_cleaning_text\"] = cleaning_disaster_db_df.duplicated(subset=['cleaning_text'])\n"
          ]
        },
        {
          "output_type": "execute_result",
          "data": {
            "text/plain": [
              "False    9668\n",
              "True     1208\n",
              "Name: is_duplicated_cleaning_text, dtype: int64"
            ]
          },
          "metadata": {},
          "execution_count": 30
        }
      ]
    },
    {
      "cell_type": "code",
      "source": [
        "### WARNING: i will reduce the db to get only validated records\n",
        "cleaning_disaster_db_df = cleaning_disaster_db_df[cleaning_disaster_db_df[\"is_duplicated_cleaning_text\"] == False]\n",
        "print(cleaning_disaster_db_df.shape)"
      ],
      "metadata": {
        "colab": {
          "base_uri": "https://localhost:8080/"
        },
        "id": "DorQuLrN5KY0",
        "outputId": "5ac30563-8e20-42fb-afaa-b6dc7fa4243f"
      },
      "execution_count": 31,
      "outputs": [
        {
          "output_type": "stream",
          "name": "stdout",
          "text": [
            "(9668, 9)\n"
          ]
        }
      ]
    },
    {
      "cell_type": "markdown",
      "source": [
        "Great!: after the cleaning process, the DB preserves the 88.89% of original records 🥳🎉"
      ],
      "metadata": {
        "id": "uQ_vsD0E9BFM"
      }
    },
    {
      "cell_type": "markdown",
      "source": [
        "## Verify the new distribution of value and validate our ideas"
      ],
      "metadata": {
        "id": "zPWLjuH97BPi"
      }
    },
    {
      "cell_type": "code",
      "source": [
        "cleaning_disaster_db_df['range_confidence'].value_counts()"
      ],
      "metadata": {
        "colab": {
          "base_uri": "https://localhost:8080/"
        },
        "id": "WzDGNIUu7HNs",
        "outputId": "563f46e4-e7f1-410e-9c3c-7a563eae8594"
      },
      "execution_count": 32,
      "outputs": [
        {
          "output_type": "execute_result",
          "data": {
            "text/plain": [
              "0.9 - 1.0     4498\n",
              "0.75 - 0.9    2743\n",
              "0.5 - 0.75    2306\n",
              "0.0 - 0.5      121\n",
              "Name: range_confidence, dtype: int64"
            ]
          },
          "metadata": {},
          "execution_count": 32
        }
      ]
    },
    {
      "cell_type": "markdown",
      "source": [
        "After the cleaning process, the data preserve the 66.58% of the original data like trustworthy value: that's not bad 👏. I think in first view the previous idea can be applied."
      ],
      "metadata": {
        "id": "LGWZJrfY7imE"
      }
    },
    {
      "cell_type": "code",
      "source": [
        "Relevant_group_df = cleaning_disaster_db_df[cleaning_disaster_db_df[\"choose_one\"] == \"Relevant\"]\n",
        "Relevant_group_df['range_confidence'].value_counts()"
      ],
      "metadata": {
        "colab": {
          "base_uri": "https://localhost:8080/"
        },
        "id": "qRDe8RkW74Oj",
        "outputId": "4a35d19f-be82-4edc-afcf-2a110c93544f"
      },
      "execution_count": 33,
      "outputs": [
        {
          "output_type": "execute_result",
          "data": {
            "text/plain": [
              "0.9 - 1.0     1835\n",
              "0.5 - 0.75    1009\n",
              "0.75 - 0.9     995\n",
              "0.0 - 0.5       70\n",
              "Name: range_confidence, dtype: int64"
            ]
          },
          "metadata": {},
          "execution_count": 33
        }
      ]
    },
    {
      "cell_type": "code",
      "source": [
        "Relevant_group_df = cleaning_disaster_db_df[cleaning_disaster_db_df[\"choose_one\"] == \"Not Relevant\"]\n",
        "Relevant_group_df['range_confidence'].value_counts()"
      ],
      "metadata": {
        "colab": {
          "base_uri": "https://localhost:8080/"
        },
        "id": "HkzBMjDW79pK",
        "outputId": "92919a03-5658-44d2-e226-60b45fc1889b"
      },
      "execution_count": 34,
      "outputs": [
        {
          "output_type": "execute_result",
          "data": {
            "text/plain": [
              "0.9 - 1.0     2663\n",
              "0.75 - 0.9    1748\n",
              "0.5 - 0.75    1293\n",
              "0.0 - 0.5       41\n",
              "Name: range_confidence, dtype: int64"
            ]
          },
          "metadata": {},
          "execution_count": 34
        }
      ]
    },
    {
      "cell_type": "code",
      "source": [
        "Relevant_group_df = cleaning_disaster_db_df[cleaning_disaster_db_df[\"choose_one\"] == \"Can't Decide\"]\n",
        "Relevant_group_df['range_confidence'].value_counts()"
      ],
      "metadata": {
        "colab": {
          "base_uri": "https://localhost:8080/"
        },
        "id": "u3LPa8gB7_fR",
        "outputId": "b840f87a-658e-4cd0-bdcf-25cf19c9b5c7"
      },
      "execution_count": 35,
      "outputs": [
        {
          "output_type": "execute_result",
          "data": {
            "text/plain": [
              "0.0 - 0.5     10\n",
              "0.5 - 0.75     4\n",
              "Name: range_confidence, dtype: int64"
            ]
          },
          "metadata": {},
          "execution_count": 35
        }
      ]
    },
    {
      "cell_type": "markdown",
      "source": [
        "after the cleaning process; i can apply the idea to get `Can't Decide` with 2292, `Not Relevant` with 4.412 and `Relevant` with 2.843. I won't take the 0.0-0.5 range records for the `Can't Decide` value."
      ],
      "metadata": {
        "id": "ROw--8qt8cDD"
      }
    },
    {
      "cell_type": "markdown",
      "source": [
        "## Discovery and assign label\n",
        "\n",
        "The idea is checking the words, get the more representative words in label from text associated to disaster and assign it based this criteria."
      ],
      "metadata": {
        "id": "20RkT-qmBU16"
      }
    },
    {
      "cell_type": "code",
      "source": [
        "print(cleaning_disaster_db_df.columns)"
      ],
      "metadata": {
        "colab": {
          "base_uri": "https://localhost:8080/"
        },
        "id": "mn0WjEAGInOD",
        "outputId": "4998405b-c6e3-40da-c46a-fe6b49346cf9"
      },
      "execution_count": 36,
      "outputs": [
        {
          "output_type": "stream",
          "name": "stdout",
          "text": [
            "Index(['choose_one', 'confidence', 'text', 'tweet_id', 'range_confidence',\n",
            "       'is_tweet_id_duplicated', 'amount_words_in_cleaning_text',\n",
            "       'cleaning_text', 'is_duplicated_cleaning_text'],\n",
            "      dtype='object')\n"
          ]
        }
      ]
    },
    {
      "cell_type": "code",
      "source": [
        "stop_words= ['ourselves', 'hers', 'between', 'yourself', 'but', 'again', 'there', 'about', 'once', 'during', 'out', 'very', 'having', 'with', 'they', 'own', 'an', 'be', 'some', 'for', 'do', 'its', 'yours', 'such', 'into', 'of', 'most', 'itself', 'other', 'off', 'is', 's', 'am', 'or', 'who', 'as', 'from', 'him', 'each', 'the', 'themselves', 'until', 'below', 'are', 'we', 'these', 'your', 'his', 'through', 'don', 'nor', 'me', 'were', 'her', 'more', 'himself', 'this', 'down', 'should', 'our', 'their', 'while', 'above', 'both', 'up', 'to', 'ours', 'had', 'she', 'all', 'no', 'when', 'at', 'any', 'before', 'them', 'same', 'and', 'been', 'have', 'in', 'will', 'on', 'does', 'yourselves', 'then', 'that', 'because', 'what', 'over', 'why', 'so', 'can', 'did', 'not', 'now', 'under', 'he', 'you', 'herself', 'has', 'just', 'where', 'too', 'only', 'myself', 'which', 'those', 'i', 'after', 'few', 'whom', 't', 'being', 'if', 'theirs', 'my', 'against', 'a', 'by', 'doing', 'it', 'how', 'further', 'was', 'here', 'than']\n",
        "\n",
        "def remove_stop_words(x):\n",
        "  word_list = x.split(\" \")\n",
        "  clean_words = []\n",
        "  for word in word_list:\n",
        "    if word.lower() not in stop_words:\n",
        "      clean_words.append(word.lower())\n",
        "  return \" \".join(clean_words)\n",
        "\n",
        "cleaning_disaster_db_df[\"cleaning_text_v2\"] = cleaning_disaster_db_df[\"cleaning_text\"].apply(lambda x: remove_stop_words(x))\n",
        "cleaning_disaster_db_df[[\"cleaning_text_v2\", \"cleaning_text\"]].head(10)\n"
      ],
      "metadata": {
        "colab": {
          "base_uri": "https://localhost:8080/",
          "height": 355
        },
        "id": "v6S-qlbLFyw6",
        "outputId": "0e58af8e-045c-4808-fa0d-fb4243c93810"
      },
      "execution_count": 37,
      "outputs": [
        {
          "output_type": "execute_result",
          "data": {
            "text/plain": [
              "                                       cleaning_text_v2  \\\n",
              "1394  å€} new ladies shoulder tote faux leather hobo...   \n",
              "9663                                    åê åê join in!!   \n",
              "2351  åèmgn-africaåš pin:263789f4 åè correction: ten...   \n",
              "4006  å¬'only sea knows many dead' <user> last disas...   \n",
              "1414  å_? new ladies shoulder tote faux leather hobo...   \n",
              "5410                    å_ reopens hours truck fire in?   \n",
              "1416  ûœ? new ladies shoulder tote faux leather hob...   \n",
              "5420  û÷we helpûª says denver firefighter working ...   \n",
              "8990  û÷sexistûª peer review causes storm online v...   \n",
              "6293  û÷ransomwareûª holds b.c. manûªs computer f...   \n",
              "\n",
              "                                          cleaning_text  \n",
              "1394  å€} new ladies shoulder tote faux leather hobo...  \n",
              "9663                                    åê åê join in!!  \n",
              "2351  åèmgn-africaåš pin:263789f4 åè correction: ten...  \n",
              "4006  å¬'only the sea knows how many are dead' <user...  \n",
              "1414  å_? new ladies shoulder tote faux leather hobo...  \n",
              "5410              å_ reopens hours after truck fire in?  \n",
              "1416  ûœ? new ladies shoulder tote faux leather hob...  \n",
              "5420  û÷we can helpûª says denver firefighter work...  \n",
              "8990  û÷sexistûª peer review causes storm online v...  \n",
              "6293  û÷ransomwareûª holds b.c. manûªs computer f...  "
            ],
            "text/html": [
              "\n",
              "  <div id=\"df-2b2579b3-d284-437c-93b6-5b9059de23f2\">\n",
              "    <div class=\"colab-df-container\">\n",
              "      <div>\n",
              "<style scoped>\n",
              "    .dataframe tbody tr th:only-of-type {\n",
              "        vertical-align: middle;\n",
              "    }\n",
              "\n",
              "    .dataframe tbody tr th {\n",
              "        vertical-align: top;\n",
              "    }\n",
              "\n",
              "    .dataframe thead th {\n",
              "        text-align: right;\n",
              "    }\n",
              "</style>\n",
              "<table border=\"1\" class=\"dataframe\">\n",
              "  <thead>\n",
              "    <tr style=\"text-align: right;\">\n",
              "      <th></th>\n",
              "      <th>cleaning_text_v2</th>\n",
              "      <th>cleaning_text</th>\n",
              "    </tr>\n",
              "  </thead>\n",
              "  <tbody>\n",
              "    <tr>\n",
              "      <th>1394</th>\n",
              "      <td>å€} new ladies shoulder tote faux leather hobo...</td>\n",
              "      <td>å€} new ladies shoulder tote faux leather hobo...</td>\n",
              "    </tr>\n",
              "    <tr>\n",
              "      <th>9663</th>\n",
              "      <td>åê åê join in!!</td>\n",
              "      <td>åê åê join in!!</td>\n",
              "    </tr>\n",
              "    <tr>\n",
              "      <th>2351</th>\n",
              "      <td>åèmgn-africaåš pin:263789f4 åè correction: ten...</td>\n",
              "      <td>åèmgn-africaåš pin:263789f4 åè correction: ten...</td>\n",
              "    </tr>\n",
              "    <tr>\n",
              "      <th>4006</th>\n",
              "      <td>å¬'only sea knows many dead' &lt;user&gt; last disas...</td>\n",
              "      <td>å¬'only the sea knows how many are dead' &lt;user...</td>\n",
              "    </tr>\n",
              "    <tr>\n",
              "      <th>1414</th>\n",
              "      <td>å_? new ladies shoulder tote faux leather hobo...</td>\n",
              "      <td>å_? new ladies shoulder tote faux leather hobo...</td>\n",
              "    </tr>\n",
              "    <tr>\n",
              "      <th>5410</th>\n",
              "      <td>å_ reopens hours truck fire in?</td>\n",
              "      <td>å_ reopens hours after truck fire in?</td>\n",
              "    </tr>\n",
              "    <tr>\n",
              "      <th>1416</th>\n",
              "      <td>ûœ? new ladies shoulder tote faux leather hob...</td>\n",
              "      <td>ûœ? new ladies shoulder tote faux leather hob...</td>\n",
              "    </tr>\n",
              "    <tr>\n",
              "      <th>5420</th>\n",
              "      <td>û÷we helpûª says denver firefighter working ...</td>\n",
              "      <td>û÷we can helpûª says denver firefighter work...</td>\n",
              "    </tr>\n",
              "    <tr>\n",
              "      <th>8990</th>\n",
              "      <td>û÷sexistûª peer review causes storm online v...</td>\n",
              "      <td>û÷sexistûª peer review causes storm online v...</td>\n",
              "    </tr>\n",
              "    <tr>\n",
              "      <th>6293</th>\n",
              "      <td>û÷ransomwareûª holds b.c. manûªs computer f...</td>\n",
              "      <td>û÷ransomwareûª holds b.c. manûªs computer f...</td>\n",
              "    </tr>\n",
              "  </tbody>\n",
              "</table>\n",
              "</div>\n",
              "      <button class=\"colab-df-convert\" onclick=\"convertToInteractive('df-2b2579b3-d284-437c-93b6-5b9059de23f2')\"\n",
              "              title=\"Convert this dataframe to an interactive table.\"\n",
              "              style=\"display:none;\">\n",
              "        \n",
              "  <svg xmlns=\"http://www.w3.org/2000/svg\" height=\"24px\"viewBox=\"0 0 24 24\"\n",
              "       width=\"24px\">\n",
              "    <path d=\"M0 0h24v24H0V0z\" fill=\"none\"/>\n",
              "    <path d=\"M18.56 5.44l.94 2.06.94-2.06 2.06-.94-2.06-.94-.94-2.06-.94 2.06-2.06.94zm-11 1L8.5 8.5l.94-2.06 2.06-.94-2.06-.94L8.5 2.5l-.94 2.06-2.06.94zm10 10l.94 2.06.94-2.06 2.06-.94-2.06-.94-.94-2.06-.94 2.06-2.06.94z\"/><path d=\"M17.41 7.96l-1.37-1.37c-.4-.4-.92-.59-1.43-.59-.52 0-1.04.2-1.43.59L10.3 9.45l-7.72 7.72c-.78.78-.78 2.05 0 2.83L4 21.41c.39.39.9.59 1.41.59.51 0 1.02-.2 1.41-.59l7.78-7.78 2.81-2.81c.8-.78.8-2.07 0-2.86zM5.41 20L4 18.59l7.72-7.72 1.47 1.35L5.41 20z\"/>\n",
              "  </svg>\n",
              "      </button>\n",
              "      \n",
              "  <style>\n",
              "    .colab-df-container {\n",
              "      display:flex;\n",
              "      flex-wrap:wrap;\n",
              "      gap: 12px;\n",
              "    }\n",
              "\n",
              "    .colab-df-convert {\n",
              "      background-color: #E8F0FE;\n",
              "      border: none;\n",
              "      border-radius: 50%;\n",
              "      cursor: pointer;\n",
              "      display: none;\n",
              "      fill: #1967D2;\n",
              "      height: 32px;\n",
              "      padding: 0 0 0 0;\n",
              "      width: 32px;\n",
              "    }\n",
              "\n",
              "    .colab-df-convert:hover {\n",
              "      background-color: #E2EBFA;\n",
              "      box-shadow: 0px 1px 2px rgba(60, 64, 67, 0.3), 0px 1px 3px 1px rgba(60, 64, 67, 0.15);\n",
              "      fill: #174EA6;\n",
              "    }\n",
              "\n",
              "    [theme=dark] .colab-df-convert {\n",
              "      background-color: #3B4455;\n",
              "      fill: #D2E3FC;\n",
              "    }\n",
              "\n",
              "    [theme=dark] .colab-df-convert:hover {\n",
              "      background-color: #434B5C;\n",
              "      box-shadow: 0px 1px 3px 1px rgba(0, 0, 0, 0.15);\n",
              "      filter: drop-shadow(0px 1px 2px rgba(0, 0, 0, 0.3));\n",
              "      fill: #FFFFFF;\n",
              "    }\n",
              "  </style>\n",
              "\n",
              "      <script>\n",
              "        const buttonEl =\n",
              "          document.querySelector('#df-2b2579b3-d284-437c-93b6-5b9059de23f2 button.colab-df-convert');\n",
              "        buttonEl.style.display =\n",
              "          google.colab.kernel.accessAllowed ? 'block' : 'none';\n",
              "\n",
              "        async function convertToInteractive(key) {\n",
              "          const element = document.querySelector('#df-2b2579b3-d284-437c-93b6-5b9059de23f2');\n",
              "          const dataTable =\n",
              "            await google.colab.kernel.invokeFunction('convertToInteractive',\n",
              "                                                     [key], {});\n",
              "          if (!dataTable) return;\n",
              "\n",
              "          const docLinkHtml = 'Like what you see? Visit the ' +\n",
              "            '<a target=\"_blank\" href=https://colab.research.google.com/notebooks/data_table.ipynb>data table notebook</a>'\n",
              "            + ' to learn more about interactive tables.';\n",
              "          element.innerHTML = '';\n",
              "          dataTable['output_type'] = 'display_data';\n",
              "          await google.colab.output.renderOutput(dataTable, element);\n",
              "          const docLink = document.createElement('div');\n",
              "          docLink.innerHTML = docLinkHtml;\n",
              "          element.appendChild(docLink);\n",
              "        }\n",
              "      </script>\n",
              "    </div>\n",
              "  </div>\n",
              "  "
            ]
          },
          "metadata": {},
          "execution_count": 37
        }
      ]
    },
    {
      "cell_type": "code",
      "source": [
        "ranking = defaultdict(int)\n",
        "\n",
        "\n",
        "def get_repeative_word_in(ranking, x):\n",
        "  words = x.split(\" \")\n",
        "  for word in words:\n",
        "    if len(word) > 1:\n",
        "      ranking[word] += 1\n",
        "  return \" \".join(words)\n",
        "\n",
        "\n",
        "def remove_puntuactions(x):\n",
        "  return re.sub(r\"[,.;@#?!&$-:']+\\ *\", \" \", x)\n",
        "\n",
        "\n",
        "repeation_words = partial(get_repeative_word_in, ranking)\n",
        "cleaning_disaster_db_df[\"cleaning_text_v3\"] = cleaning_disaster_db_df[\"cleaning_text_v2\"].apply(\n",
        "      lambda x : remove_puntuactions(x)\n",
        "    )\n",
        "cleaning_disaster_db_df[\"cleaning_text_v3\"].apply(lambda x : repeation_words(x))\n",
        "sorted_ranking = sorted(ranking.items(), key=operator.itemgetter(1), reverse=True)\n",
        "print(sorted_ranking)"
      ],
      "metadata": {
        "colab": {
          "base_uri": "https://localhost:8080/"
        },
        "id": "7zbpxHsEMiLE",
        "outputId": "2d2278b0-f19f-4a8c-b5c1-978b575d2739"
      },
      "execution_count": 44,
      "outputs": [
        {
          "output_type": "stream",
          "name": "stdout",
          "text": [
            "[('<user>', 3682), ('like', 475), ('amp', 454), ('it', 378), ('fire', 333), ('get', 297), ('one', 275), ('new', 258), ('via', 251), ('people', 246), ('don', 227), ('would', 206), ('emergency', 205), ('you', 186), ('video', 182), ('co', 179), ('time', 176), ('police', 172), ('re', 171), ('news', 163), ('us', 160), ('got', 160), ('first', 159), ('body', 158), ('storm', 155), ('know', 155), ('back', 154), ('disaster', 153), ('burning', 153), ('day', 153), ('still', 151), ('man', 147), ('going', 145), ('see', 144), ('fires', 140), ('rt', 138), ('go', 137), ('today', 137), ('suicide', 133), ('buildings', 133), ('love', 131), ('attack', 130), ('two', 126), ('can', 126), ('dead', 125), ('think', 125), ('nuclear', 123), ('life', 120), ('good', 119), ('crash', 117), ('gt', 117), ('last', 116), ('bomb', 115), ('car', 115), ('california', 114), ('accident', 114), ('could', 112), ('world', 111), ('way', 111), ('make', 111), ('say', 110), ('need', 109), ('ve', 109), ('pm', 107), ('right', 106), ('year', 106), ('want', 105), ('let', 105), ('ll', 104), ('mass', 104), ('that', 103), ('years', 101), ('death', 101), ('war', 99), ('never', 98), ('really', 98), ('even', 98), ('home', 97), ('bombing', 97), ('lol', 94), ('train', 93), ('help', 92), ('killed', 92), ('may', 91), ('another', 90), ('please', 87), ('much', 86), ('\\x89û_', 86), ('look', 86), ('collapse', 85), ('hiroshima', 85), ('watch', 83), ('army', 82), ('near', 81), ('take', 81), ('many', 80), ('we', 80), ('the', 80), ('work', 80), ('great', 79), ('school', 78), ('city', 78), ('full', 77), ('shit', 77), ('feel', 77), ('night', 77), ('come', 77), ('ever', 77), ('god', 76), ('forest', 76), ('old', 76), ('house', 76), ('hope', 75), ('getting', 74), ('im', 74), ('wreck', 73), ('live', 72), ('said', 72), ('everyone', 71), ('every', 71), ('fear', 71), ('there', 70), ('th', 70), ('damage', 70), ('water', 69), ('black', 68), ('he', 68), ('me', 68), ('ass', 68), ('post', 68), ('truck', 66), ('always', 66), ('plan', 66), ('smoke', 66), ('gonna', 66), ('set', 66), ('since', 65), ('survive', 65), ('injured', 65), ('little', 65), ('also', 65), ('wild', 65), ('next', 65), ('state', 65), ('best', 64), ('stop', 64), ('heat', 64), ('bad', 64), ('top', 64), ('well', 64), ('flames', 63), ('destroyed', 63), ('looks', 63), ('bloody', 63), ('someone', 63), ('fucking', 63), ('up', 63), ('family', 62), ('weather', 62), ('times', 62), ('\\x89ûò', 62), ('oh', 62), ('read', 61), ('food', 61), ('injuries', 61), ('coming', 61), ('natural', 61), ('fall', 61), ('red', 60), ('hit', 60), ('head', 60), ('says', 59), ('evacuation', 59), ('call', 59), ('game', 59), ('summer', 59), ('services', 59), ('service', 59), ('bomber', 59), ('put', 59), ('murder', 59), ('floods', 59), ('found', 59), ('rain', 59), ('show', 58), ('survived', 58), ('debris', 58), ('thunderstorm', 58), ('severe', 58), ('flooding', 57), ('weapon', 57), ('wildfire', 57), ('screaming', 57), ('cross', 56), ('around', 56), ('flood', 56), ('thunder', 56), ('without', 56), ('loud', 56), ('week', 56), ('thing', 56), ('panic', 56), ('now', 56), ('run', 56), ('liked', 56), ('made', 55), ('fuck', 55), ('cause', 55), ('lightning', 55), ('big', 55), ('blood', 55), ('face', 55), ('destroy', 55), ('burned', 55), ('check', 55), ('st', 54), ('photo', 54), ('area', 53), ('failure', 53), ('heard', 53), ('hot', 53), ('responders', 53), ('crush', 53), ('blown', 53), ('japan', 53), ('crashed', 53), ('they', 53), ('hostage', 52), ('free', 52), ('bags', 52), ('end', 52), ('whole', 52), ('wounded', 52), ('drown', 52), ('trouble', 51), ('collapsed', 51), ('screamed', 51), ('blew', 51), ('latest', 51), ('weapons', 51), ('rescued', 51), ('ruin', 51), ('must', 51), ('terrorist', 51), ('military', 51), ('evacuate', 51), ('white', 51), ('hail', 51), ('real', 51), ('atomic', 51), ('warning', 51), ('violent', 51), ('survivors', 50), ('bombed', 50), ('high', 50), ('bagging', 50), ('traumatised', 50), ('explosion', 50), ('bleeding', 50), ('wounds', 50), ('tonight', 50), ('wave', 50), ('oil', 50), ('out', 50), ('due', 50), ('hazard', 50), ('long', 50), ('landslide', 50), ('battle', 49), ('deaths', 49), ('electrocuted', 49), ('trauma', 49), ('what', 49), ('curfew', 49), ('away', 49), ('twister', 49), ('bang', 49), ('lava', 49), ('collided', 49), ('trapped', 49), ('injury', 49), ('better', 49), ('story', 48), ('drought', 48), ('inundated', 48), ('went', 48), ('part', 48), ('girl', 48), ('twitter', 48), ('keep', 48), ('thought', 48), ('wind', 48), ('missing', 48), ('destruction', 48), ('county', 48), ('meltdown', 48), ('typhoon', 48), ('heart', 47), ('dust', 47), ('line', 47), ('exploded', 47), ('collide', 47), ('use', 47), ('sirens', 47), ('mh', 47), ('crushed', 47), ('sure', 47), ('update', 47), ('explode', 47), ('derailed', 47), ('screams', 47), ('cliff', 47), ('things', 47), ('massacre', 47), ('catastrophe', 47), ('casualties', 46), ('harm', 46), ('something', 46), ('sinkhole', 46), ('apocalypse', 46), ('august', 46), ('flattened', 46), ('past', 46), ('murderer', 46), ('save', 46), ('obliterate', 46), ('women', 46), ('fatal', 46), ('change', 46), ('deluged', 46), ('least', 46), ('whirlwind', 45), ('demolished', 45), ('\\n\\n', 45), ('sinking', 45), ('sunk', 45), ('annihilated', 45), ('panicking', 45), ('obliterated', 45), ('island', 45), ('drowning', 45), ('gets', 45), ('ok', 45), ('movie', 45), ('mosque', 45), ('them', 44), ('road', 44), ('power', 44), ('homes', 44), ('song', 44), ('calgary', 44), ('zone', 44), ('yet', 44), ('wrecked', 44), ('trying', 44), ('desolation', 44), ('airplane', 44), ('blazing', 44), ('evacuated', 44), ('rioting', 44), ('spill', 44), ('cyclone', 44), ('structural', 43), ('here', 43), ('mudslide', 43), ('hurricane', 43), ('far', 43), ('blast', 43), ('self', 43), ('collision', 43), ('hazardous', 43), ('bridge', 43), ('rescue', 43), ('earthquake', 43), ('fatalities', 43), ('remember', 43), ('saudi', 43), ('bag', 42), ('casualty', 42), ('died', 42), ('snowstorm', 42), ('\\nhttp', 42), ('group', 42), ('wanna', 42), ('demolish', 42), ('deluge', 42), ('tomorrow', 42), ('obliteration', 42), ('obama', 42), ('fan', 42), ('detonation', 42), ('south', 42), ('left', 42), ('devastated', 41), ('lot', 41), ('actually', 41), ('air', 41), ('boat', 41), ('electrocute', 41), ('building', 41), ('demolition', 41), ('half', 41), ('though', 41), ('tsunami', 41), ('bus', 41), ('tell', 41), ('danger', 41), ('seismic', 41), ('in', 40), ('came', 40), ('catastrophic', 40), ('kids', 40), ('play', 40), ('fatality', 40), ('believe', 40), ('days', 40), ('start', 40), ('already', 40), ('famine', 40), ('tragedy', 40), ('done', 40), ('tornado', 40), ('chemical', 40), ('caused', 40), ('kills', 40), ('saw', 40), ('blight', 40), ('hours', 39), ('nothing', 39), ('phone', 39), ('drowned', 39), ('eyewitness', 39), ('thanks', 39), ('shooting', 39), ('no', 39), ('west', 39), ('aug', 39), ('rd', 39), ('ablaze', 39), ('stay', 39), ('\\x89ûó', 38), ('thank', 38), ('devastation', 38), ('government', 38), ('used', 38), ('breaking', 38), ('yes', 38), ('care', 38), ('rainstorm', 38), ('hell', 38), ('won', 38), ('upheaval', 38), ('terrorism', 38), ('ago', 38), ('deal', 38), ('desolate', 38), ('doesn', 38), ('cool', 38), ('die', 38), ('kill', 38), ('displaced', 38), ('riot', 38), ('detonate', 38), ('rise', 38), ('baby', 37), ('boy', 37), ('volcano', 37), ('person', 37), ('fight', 37), ('damn', 37), ('families', 37), ('media', 37), ('northern', 37), ('windstorm', 37), ('try', 37), ('report', 37), ('wait', 37), ('issues', 37), ('brown', 37), ('possible', 37), ('lives', 36), ('avalanche', 36), ('soon', 36), ('stretcher', 36), ('pay', 36), ('fun', 36), ('derailment', 36), ('plane', 36), ('three', 36), ('men', 35), ('case', 35), ('lt', 35), ('security', 35), ('hijack', 35), ('didn', 35), ('bush', 35), ('content', 35), ('making', 35), ('american', 35), ('woman', 35), ('music', 35), ('pretty', 35), ('arson', 35), ('north', 35), ('stand', 35), ('watching', 35), ('km', 35), ('reactor', 35), ('suspect', 35), ('makes', 34), ('hear', 34), ('guy', 34), ('omg', 34), ('give', 34), ('caught', 34), ('support', 34), ('almost', 34), ('health', 34), ('yeah', 34), ('inside', 34), ('derail', 34), ('wow', 34), ('might', 34), ('street', 34), ('rescuers', 34), ('iran', 34), ('everything', 34), ('migrants', 34), ('pick', 34), ('shoulder', 33), ('shot', 33), ('second', 33), ('ambulance', 33), ('money', 33), ('armageddon', 33), ('children', 33), ('she', 33), ('happy', 33), ('reddit', 33), ('place', 33), ('refugees', 33), ('seen', 33), ('pandemonium', 33), ('guys', 33), ('order', 33), ('find', 33), ('anniversary', 33), ('dont', 33), ('probably', 33), ('crazy', 33), ('hundreds', 33), ('attacked', 33), ('eyes', 33), ('officer', 33), ('maybe', 33), ('morning', 32), ('on', 32), ('all', 32), ('quarantine', 32), ('light', 32), ('river', 32), ('anyone', 32), ('outside', 32), ('america', 32), ('isn', 32), ('reunion', 32), ('beautiful', 32), ('bioterrorism', 32), ('longer', 32), ('history', 32), ('hey', 32), ('officials', 32), ('sorry', 32), ('hostages', 32), ('plans', 31), ('hate', 31), ('name', 31), ('lost', 31), ('bc', 31), ('leave', 31), ('happened', 31), ('literally', 31), ('anything', 31), ('is', 31), ('likely', 31), ('hijacker', 31), ('move', 30), ('engulfed', 30), ('else', 30), ('blaze', 30), ('public', 30), ('room', 30), ('huge', 30), ('site', 30), ('knock', 30), ('sensor', 30), ('low', 29), ('side', 29), ('mom', 29), ('confirmed', 29), ('traffic', 29), ('rubble', 29), ('quarantined', 29), ('become', 29), ('siren', 29), ('businesses', 29), ('level', 29), ('ball', 29), ('market', 29), ('soudelor', 29), ('words', 29), ('major', 28), ('green', 28), ('houses', 28), ('fast', 28), ('ur', 28), ('bring', 28), ('talk', 28), ('team', 28), ('released', 28), ('china', 28), ('australia', 28), ('fedex', 28), ('crisis', 28), ('blizzard', 28), ('stock', 28), ('across', 27), ('dog', 27), ('country', 27), ('nearby', 27), ('malaysia', 27), ('takes', 27), ('running', 27), ('needs', 27), ('wrong', 27), ('center', 27), ('india', 27), ('nearly', 27), ('playing', 27), ('reason', 27), ('ignition', 27), ('reports', 26), ('driving', 26), ('this', 26), ('okay', 26), ('appears', 26), ('child', 26), ('tv', 26), ('outbreak', 26), ('book', 26), ('mad', 26), ('drake', 26), ('meek', 26), ('miss', 26), ('town', 26), ('space', 26), ('national', 26), ('haha', 26), ('charged', 26), ('hard', 26), ('property', 26), ('online', 25), ('favorite', 25), ('arsonist', 25), ('yr', 25), ('looking', 25), ('hand', 25), ('comes', 25), ('taken', 25), ('alarm', 25), ('ca', 25), ('thursday', 25), ('nd', 25), ('ppl', 25), ('east', 25), ('true', 25), ('front', 25), ('wake', 25), ('thousands', 25), ('follow', 25), ('worst', 25), ('isis', 25), ('bioterror', 25), ('closed', 25), ('ain', 25), ('claims', 25), ('legionnaires', 25), ('photos', 24), ('\\x89ûï', 24), ('to', 24), ('israel', 24), ('others', 24), ('behind', 24), ('young', 24), ('and', 24), ('open', 24), ('pain', 24), ('tried', 24), ('following', 24), ('memories', 24), ('enough', 24), ('send', 24), ('class', 24), ('wonder', 24), ('pic', 24), ('turkey', 24), ('friends', 24), ('sad', 24), ('drive', 24), ('finally', 24), ('super', 24), ('goes', 24), ('amid', 24), ('cars', 24), ('seeing', 24), ('added', 24), ('large', 24), ('living', 24), ('star', 24), ('friend', 23), ('feeling', 23), ('cut', 23), ('share', 23), ('unconfirmed', 23), ('neighbour', 23), ('yesterday', 23), ('marks', 23), ('rock', 23), ('ebay', 23), ('awesome', 23), ('again', 23), ('flight', 23), ('season', 23), ('sounds', 23), ('chicago', 23), ('dad', 23), ('win', 23), ('saying', 23), ('taking', 23), ('wanted', 23), ('united', 23), ('flash', 23), ('break', 23), ('hailstorm', 23), ('beach', 23), ('utc', 23), ('course', 23), ('sign', 23), ('control', 23), ('entire', 23), ('eye', 23), ('told', 23), ('firefighters', 22), ('scene', 22), ('action', 22), ('social', 22), ('alone', 22), ('absolutely', 22), ('cake', 22), ('happen', 22), ('am', 22), ('blue', 22), ('more', 22), ('land', 22), ('wasn', 22), ('horrible', 22), ('turn', 22), ('sleeping', 22), ('ship', 22), ('heavy', 22), ('moment', 22), ('dude', 22), ('washington', 22), ('radio', 22), ('trains', 22), ('daily', 22), ('issued', 22), ('listen', 22), ('poor', 22), ('apollo', 22), ('took', 22), ('ross', 22), ('shape', 22), ('pile', 22), ('pakistan', 22), ('four', 21), ('cold', 21), ('virgin', 21), ('gun', 21), ('guess', 21), ('buy', 21), ('party', 21), ('event', 21), ('york', 21), ('series', 21), ('wreckage', 21), ('close', 21), ('annihilation', 21), ('pkk', 21), ('detonated', 21), ('shows', 21), ('cover', 21), ('global', 21), ('piece', 21), ('shift', 21), ('problem', 21), ('biggest', 21), ('ready', 21), ('vehicle', 21), ('him', 21), ('human', 21), ('safety', 21), ('soul', 21), ('view', 21), ('mph', 21), ('early', 21), ('mp', 21), ('lab', 21), ('russian', 21), ('till', 21), ('\\nhttps', 21), ('instead', 21), ('total', 21), ('fact', 21), ('thinking', 21), ('crews', 21), ('aircraft', 21), ('michael', 21), ('sea', 20), ('causes', 20), ('hijacking', 20), ('learn', 20), ('galactic', 20), ('truth', 20), ('dies', 20), ('giant', 20), ('sky', 20), ('either', 20), ('local', 20), ('islamic', 20), ('camp', 20), ('colour', 20), ('small', 20), ('wednesday', 20), ('middle', 20), ('official', 20), ('burn', 20), ('climate', 20), ('strong', 20), ('bigger', 20), ('sun', 20), ('beat', 20), ('tweet', 20), ('earth', 20), ('link', 20), ('wall', 20), ('park', 20), ('cant', 20), ('london', 20), ('texas', 20), ('lady', 20), ('couple', 20), ('mayhem', 20), ('interesting', 20), ('loving', 20), ('called', 20), ('killing', 20), ('members', 20), ('information', 20), ('direction', 20), ('episode', 20), ('brother', 20), ('sound', 20), ('playlist', 20), ('info', 20), ('reported', 20), ('bit', 20), ('affected', 20), ('join', 19), ('horror', 19), ('continue', 19), ('minutes', 19), ('chance', 19), ('gave', 19), ('waiting', 19), ('haven', 19), ('king', 19), ('scared', 19), ('started', 19), ('secret', 19), ('vs', 19), ('ahead', 19), ('lies', 19), ('razed', 19), ('research', 19), ('ancient', 19), ('department', 19), ('trust', 19), ('fans', 19), ('walk', 19), ('gone', 19), ('transport', 19), ('peace', 19), ('lmao', 19), ('centre', 19), ('british', 19), ('month', 19), ('downtown', 19), ('occurred', 19), ('bar', 19), ('theater', 19), ('disease', 19), ('cdt', 19), ('double', 19), ('ladies', 18), ('working', 18), ('niggas', 18), ('broken', 18), ('million', 18), ('bed', 18), ('friday', 18), ('http', 18), ('mode', 18), ('download', 18), ('related', 18), ('court', 18), ('eat', 18), ('happening', 18), ('mind', 18), ('pray', 18), ('bitch', 18), ('idea', 18), ('film', 18), ('angry', 18), ('worse', 18), ('months', 18), ('nice', 18), ('risk', 18), ('short', 18), ('la', 18), ('fighting', 18), ('de', 18), ('broke', 18), ('militants', 18), ('insurance', 18), ('build', 18), ('landing', 18), ('aftershock', 18), ('involving', 18), ('brooklyn', 18), ('myanmar', 18), ('spot', 18), ('falling', 18), ('mean', 18), ('wife', 18), ('account', 18), ('means', 18), ('experts', 18), ('leather', 17), ('glad', 17), ('along', 17), ('together', 17), ('lord', 17), ('lake', 17), ('israeli', 17), ('patience', 17), ('brain', 17), ('picture', 17), ('sometimes', 17), ('uk', 17), ('sick', 17), ('hold', 17), ('youtube', 17), ('career', 17), ('smaug', 17), ('central', 17), ('different', 17), ('suspected', 17), ('single', 17), ('wish', 17), ('hair', 17), ('helicopter', 17), ('text', 17), ('sunday', 17), ('future', 17), ('wants', 17), ('threat', 17), ('strike', 17), ('happens', 17), ('alive', 17), ('agree', 17), ('sex', 17), ('victims', 17), ('games', 17), ('pass', 17), ('totally', 17), ('usa', 17), ('em', 17), ('govt', 17), ('gas', 17), ('boys', 17), ('expected', 17), ('massive', 17), ('amazing', 17), ('five', 17), ('business', 17), ('for', 17), ('currently', 17), ('saved', 17), ('using', 17), ('nws', 17), ('point', 17), ('dr', 17), ('alabama', 17), ('off', 16), ('driver', 16), ('investigators', 16), ('nigga', 16), ('hospital', 16), ('watched', 16), ('bayelsa', 16), ('door', 16), ('ground', 16), ('internet', 16), ('too', 16), ('wtf', 16), ('her', 16), ('hour', 16), ('training', 16), ('funny', 16), ('lets', 16), ('teen', 16), ('worry', 16), ('trench', 16), ('offensive', 16), ('welcome', 16), ('village', 16), ('population', 16), ('deep', 16), ('feels', 16), ('who', 16), ('sandstorm', 16), ('weekend', 16), ('ft', 16), ('sleep', 16), ('office', 16), ('tree', 16), ('rules', 16), ('character', 16), ('hollywood', 16), ('fat', 16), ('job', 16), ('arrested', 16), ('stage', 16), ('date', 16), ('evening', 16), ('rn', 16), ('program', 16), ('prepare', 16), ('serious', 16), ('mine', 16), ('later', 16), ('planned', 16), ('record', 16), ('oklahoma', 16), ('searching', 16), ('feared', 16), ('loved', 16), ('terror', 16), ('coast', 16), ('based', 16), ('abc', 16), ('cannot', 16), ('france', 16), ('upon', 16), ('hellfire', 16), ('president', 16), ('ice', 16), ('girls', 16), ('test', 16), ('response', 16), ('invoices', 16), ('sense', 16), ('aren', 16), ('emotional', 16), ('ebola', 16), ('senso', 16), ('\\x89û\\x9d', 15), ('giving', 15), ('enjoy', 15), ('jonathan', 15), ('feat', 15), ('hasn', 15), ('do', 15), ('over', 15), ('financial', 15), ('among', 15), ('libya', 15), ('search', 15), ('ask', 15), ('son', 15), ('escape', 15), ('walking', 15), ('pool', 15), ('evil', 15), ('attacks', 15), ('nigerian', 15), ('dan', 15), ('tho', 15), ('ocean', 15), ('winds', 15), ('late', 15), ('talking', 15), ('victim', 15), ('trent', 15), ('western', 15), ('russia', 15), ('minute', 15), ('ave', 15), ('states', 15), ('parole', 15), ('block', 15), ('outrage', 15), ('football', 15), ('colorado', 15), ('reuters', 15), ('fukushima', 15), ('indian', 15), ('metro', 15), ('imagine', 15), ('played', 15), ('drink', 15), ('feet', 15), ('shots', 15), ('anthrax', 15), ('tears', 15), ('ashes', 15), ('less', 15), ('apc', 15), ('rather', 15), ('fine', 15), ('gotta', 15), ('hero', 15), ('mountain', 15), ('setting', 15), ('projected', 15), ('passengers', 15), ('former', 15), ('asked', 14), ('gold', 14), ('player', 14), ('held', 14), ('seems', 14), ('company', 14), ('final', 14), ('cat', 14), ('ya', 14), ('parents', 14), ('disney', 14), ('worth', 14), ('metal', 14), ('stars', 14), ('begin', 14), ('stopped', 14), ('gay', 14), ('medical', 14), ('leaving', 14), ('kinda', 14), ('answer', 14), ('sitting', 14), ('number', 14), ('special', 14), ('act', 14), ('safe', 14), ('release', 14), ('calls', 14), ('roosevelt', 14), ('udhampur', 14), ('students', 14), ('match', 14), ('hits', 14), ('route', 14), ('bathroom', 14), ('canada', 14), ('soldiers', 14), ('rains', 14), ('standard', 14), ('mod', 14), ('cancer', 14), ('straight', 14), ('municipal', 14), ('seriously', 14), ('sent', 14), ('helping', 14), ('bay', 14), ('album', 14), ('holy', 14), ('not', 14), ('force', 14), ('common', 14), ('san', 14), ('smh', 14), ('cute', 14), ('waste', 14), ('word', 14), ('according', 14), ('matter', 14), ('ha', 14), ('declares', 13), ('yo', 13), ('trump', 13), ('perfect', 13), ('ps', 13), ('youth', 13), ('paul', 13), ('knew', 13), ('beyond', 13), ('forget', 13), ('el', 13), ('japanese', 13), ('holding', 13), ('hobbit', 13), ('everywhere', 13), ('quick', 13), ('worlds', 13), ('general', 13), ('ban', 13), ('completely', 13), ('seconds', 13), ('radiation', 13), ('seek', 13), ('rate', 13), ('birthday', 13), ('cnn', 13), ('lie', 13), ('quiz', 13), ('image', 13), ('nagasaki', 13), ('stuff', 13), ('terrible', 13), ('earlier', 13), ('catch', 13), ('rare', 13), ('anymore', 13), ('july', 13), ('trees', 13), ('weird', 13), ('meet', 13), ('hello', 13), ('runs', 13), ('forces', 13), ('kit', 13), ('captures', 13), ('ones', 13), ('updates', 13), ('facebook', 13), ('forever', 13), ('continues', 13), ('residents', 13), ('understand', 13), ('complete', 13), ('taiwan', 13), ('southern', 13), ('meeting', 13), ('storms', 13), ('wedding', 13), ('travel', 13), ('problems', 13), ('expect', 13), ('express', 13), ('false', 13), ('effect', 13), ('dropped', 13), ('coffee', 13), ('prevent', 13), ('bank', 13), ('comment', 13), ('floor', 13), ('cops', 13), ('brought', 13), ('community', 13), ('potential', 13), ('causing', 13), ('carrying', 13), ('john', 13), ('industry', 13), ('governor', 13), ('gunman', 13), ('tax', 13), ('press', 13), ('ships', 13), ('petition', 13), ('mishaps', 13), ('refugio', 13), ('costlier', 13), ('but', 13), ('enugu', 13), ('dogs', 13), ('abandoned', 13), ('tote', 12), ('tent', 12), ('turned', 12), ('review', 12), ('if', 12), ('don\\x89ûªt', 12), ('palestinian', 12), ('lil', 12), ('areas', 12), ('womens', 12), ('voice', 12), ('data', 12), ('saturday', 12), ('ep', 12), ('tired', 12), ('bro', 12), ('wouldn', 12), ('extreme', 12), ('type', 12), ('woke', 12), ('board', 12), ('round', 12), ('economic', 12), ('freak', 12), ('cost', 12), ('warnings', 12), ('vote', 12), ('recent', 12), ('size', 12), ('starts', 12), ('version', 12), ('reduce', 12), ('dark', 12), ('lots', 12), ('lucky', 12), ('vine', 12), ('books', 12), ('with', 12), ('at', 12), ('etc', 12), ('shut', 12), ('gop', 12), ('aba', 12), ('opening', 12), ('google', 12), ('project', 12), ('airport', 12), ('return', 12), ('civilian', 12), ('calling', 12), ('experience', 12), ('details', 12), ('bodies', 12), ('of', 12), ('sister', 12), ('pathogens', 12), ('salt', 12), ('advisory', 12), ('leading', 12), ('bought', 12), ('repair', 12), ('crematoria', 12), ('provoke', 12), ('down', 12), ('budget', 12), ('plant', 12), ('region', 12), ('syrian', 12), ('stories', 12), ('policy', 12), ('lack', 12), ('dangerous', 12), ('quite', 12), ('mini', 12), ('richmond', 12), ('tweets', 12), ('angel', 12), ('art', 12), ('destroys', 12), ('hilarious', 12), ('shall', 12), ('dying', 12), ('calm', 12), ('gov', 12), ('original', 12), ('rocky', 12), ('question', 12), ('box', 12), ('somebody', 12), ('avoid', 12), ('non', 12), ('struck', 12), ('orders', 12), ('field', 12), ('inundation', 12), ('\\n\\nhttp', 12), ('nah', 12), ('saipan', 12), ('gems', 12), ('pres', 12), ('an', 12), ('relief', 12), ('articles', 12), ('ideas', 12), ('grows', 12), ('malaysian', 12), ('internally', 12), ('fix', 12), ('germs', 12), ('fears', 12), ('miners', 12), ('ny', 12), ('it\\x89ûªs', 11), ('coaches', 11), ('highway', 11), ('rule', 11), ('needed', 11), ('snow', 11), ('units', 11), ('main', 11), ('so', 11), ('store', 11), ('blog', 11), ('felt', 11), ('damaged', 11), ('leader', 11), ('ways', 11), ('protect', 11), ('authorities', 11), ('wwii', 11), ('jackson', 11), ('powerful', 11), ('concert', 11), ('multiple', 11), ('app', 11), ('afternoon', 11), ('al', 11), ('including', 11), ('church', 11), ('shower', 11), ('streets', 11), ('silver', 11), ('crime', 11), ('civilians', 11), ('trip', 11), ('keeps', 11), ('how', 11), ('loose', 11), ('stream', 11), ('nyc', 11), ('supposed', 11), ('england', 11), ('killer', 11), ('fantasy', 11), ('lead', 11), ('delivers', 11), ('sr', 11), ('trfc', 11), ('fully', 11), ('apply', 11), ('buses', 11), ('owner', 11), ('deadly', 11), ('squad', 11), ('heroes', 11), ('tickets', 11), ('moving', 11), ('usually', 11), ('reading', 11), ('bbc', 11), ('threatens', 11), ('capsizes', 11), ('bin', 11), ('situation', 11), ('quickly', 11), ('international', 11), ('bombs', 11), ('officers', 11), ('feed', 11), ('shouldn', 11), ('spos', 11), ('drunk', 11), ('terrorists', 11), ('tube', 11), ('outlook', 11), ('terrorism\\n', 11), ('led', 11), ('toddler', 11), ('system', 11), ('disco', 11), ('result', 11), ('hotel', 11), ('meat', 11), ('weeks', 11), ('ends', 11), ('list', 11), ('idk', 11), ('rip', 11), ('amazon', 11), ('certain', 11), ('chief', 11), ('message', 11), ('throwing', 11), ('none', 11), ('babies', 11), ('re\\x89û_', 11), ('by', 11), ('mother', 11), ('pilot', 11), ('edt', 11), ('impact', 11), ('kid', 11), ('twice', 11), ('mhtw', 11), ('six', 11), ('allows', 11), ('minecraft', 11), ('ah', 11), ('rly', 11), ('louis', 11), ('guide', 11), ('sit', 11), ('exploration', 11), ('fox', 11), ('honestly', 11), ('able', 11), ('hands', 11), ('crying', 11), ('jst', 11), ('guns', 11), ('hi', 11), ('millions', 11), ('moon', 11), ('bruh', 11), ('fleets', 11), ('totaling', 11), ('knows', 10), ('firefighter', 10), ('drinking', 10), ('within', 10), ('points', 10), ('cases', 10), ('carry', 10), ('da', 10), ('handbags', 10), ('af', 10), ('pack', 10), ('cream', 10), ('listening', 10), ('thoughts', 10), ('cameroon', 10), ('navy', 10), ('lunch', 10), ('father', 10), ('debate', 10), ('practice', 10), ('airlines', 10), ('cable', 10), ('equipment', 10), ('blow', 10), ('costs', 10), ('onto', 10), ('percent', 10), ('burns', 10), ('miles', 10), ('society', 10), ('debt', 10), ('crap', 10), ('dream', 10), ('bout', 10), ('hearing', 10), ('mix', 10), ('waves', 10), ('fish', 10), ('couldn', 10), ('attention', 10), ('recover', 10), ('indeed', 10), ('videos', 10), ('excited', 10), ('hat', 10), ('track', 10), ('pressure', 10), ('controlled', 10), ('parenthood', 10), ('gaza', 10), ('ukraine', 10), ('spaceship', 10), ('apartment', 10), ('migrant', 10), ('ks', 10), ('create', 10), ('hawaii', 10), ('wont', 10), ('baseball', 10), ('map', 10), ('confirms', 10), ('workers', 10), ('mac', 10), ('hwy', 10), ('memorial', 10), ('\\ni', 10), ('nine', 10), ('be', 10), ('deals', 10), ('humanity', 10), ('linked', 10), ('laden', 10), ('hwo', 10), ('asking', 10), ('news\\n', 10), ('bbc\\n', 10), ('cnn\\n', 10), ('islam\\n', 10), ('truth\\n', 10), ('god\\n', 10), ('isis\\n', 10), ('quran\\n', 10), ('ran', 10), ('tram', 10), ('thunderstorms', 10), ('several', 10), ('yrs', 10), ('cities', 10), ('pop', 10), ('tips', 10), ('throw', 10), ('complex', 10), ('built', 10), ('ex', 10), ('scary', 10), ('mill', 10), ('epicentre', 10), ('nation', 10), ('given', 10), ('lane', 10), ('sue', 10), ('seven', 10), ('tracks', 10), ('wildfires', 10), ('toll', 10), ('mins', 10), ('political', 10), ('easy', 10), ('seeks', 10), ('pdp', 10), ('moved', 10), ('signs', 10), ('investigating', 10), ('wars', 10), ('law', 10), ('created', 10), ('moments', 10), ('opens', 10), ('incident', 10), ('rocks', 10), ('sadly', 10), ('tablet', 10), ('med', 10), ('reasons', 10), ('exchanging', 10), ('exchange', 10), ('pls', 10), ('channel', 10), ('ended', 10), ('mile', 10), ('stops', 10), ('ten', 10), ('chile', 10), ('add', 10), ('french', 10), ('beyonce', 10), ('faux', 9), ('purse', 9), ('denver', 9), ('clothes', 9), ('mr', 9), ('burst', 9), ('sports', 9), ('rubber', 9), ('effects', 9), ('mary', 9), ('ben', 9), ('mid', 9), ('definitely', 9), ('ap', 9), ('companies', 9), ('consider', 9), ('kept', 9), ('didnt', 9), ('rising', 9), ('ii', 9), ('joe', 9), ('hughes', 9), ('style', 9), ('dry', 9), ('roads', 9), ('å£', 9), ('charging', 9), ('arabia', 9), ('cheese', 9), ('canaanites', 9), ('results', 9), ('updated', 9), ('posts', 9), ('shadow', 9), ('audio', 9), ('maintenance', 9), ('cook', 9), ('drop', 9), ('progress', 9), ('aka', 9), ('hurt', 9), ('sending', 9), ('was', 9), ('married', 9), ('inj', 9), ('glass', 9), ('forecast', 9), ('september', 9), ('ridge', 9), ('nurse', 9), ('click', 9), ('wa', 9), ('club', 9), ('val', 9), ('roof', 9), ('heights', 9), ('row', 9), ('dozens', 9), ('steps', 9), ('drill', 9), ('awful', 9), ('picking', 9), ('flag', 9), ('energy', 9), ('drone', 9), ('blvd', 9), ('began', 9), ('se', 9), ('portland', 9), ('visit', 9), ('pak', 9), ('david', 9), ('hill', 9), ('largest', 9), ('turkish', 9), ('avoiding', 9), ('sport', 9), ('falls', 9), ('price', 9), ('rest', 9), ('sets', 9), ('arrived', 9), ('anti', 9), ('animal', 9), ('judge', 9), ('sale', 9), ('spent', 9), ('saving', 9), ('reality', 9), ('member', 9), ('window', 9), ('theres', 9), ('zombie', 9), ('smoking', 9), ('evidence', 9), ('nature', 9), ('tongue', 9), ('un', 9), ('muslims', 9), ('begins', 9), ('writing', 9), ('headed', 9), ('fake', 9), ('signed', 9), ('stupid', 9), ('especially', 9), ('changes', 9), ('passenger', 9), ('tension', 9), ('lose', 9), ('issue', 9), ('swear', 9), ('serial', 9), ('mark', 9), ('violence', 9), ('remains', 9), ('pipe', 9), ('page', 9), ('steel', 9), ('write', 9), ('jesus', 9), ('dear', 9), ('important', 9), ('bottom', 9), ('apparently', 9), ('swallows', 9), ('daughter', 9), ('questions', 9), ('recognize', 9), ('floyd', 9), ('recount', 9), ('remove', 9), ('mess', 9), ('missed', 9), ('hashtag', 9), ('afghanistan', 9), ('max', 9), ('mortal', 9), ('kombat', 9), ('singing', 9), ('except', 9), ('then', 9), ('faan', 9), ('tea', 9), ('mention', 9), ('examining', 9), ('hobo', 8), ('i\\x89ûªm', 8), ('min', 8), ('seat', 8), ('my', 8), ('remain', 8), ('stone', 8), ('satchel', 8), ('grow', 8), ('lights', 8), ('vulnerable', 8), ('ride', 8), ('simple', 8), ('tryna', 8), ('somehow', 8), ('negative', 8), ('repatriated', 8), ('pro', 8), ('thomas', 8), ('animals', 8), ('campaign', 8), ('pre', 8), ('parts', 8), ('putting', 8), ('legion', 8), ('rage', 8), ('worked', 8), ('boss', 8), ('players', 8), ('respect', 8), ('contained', 8), ('rolling', 8), ('suffering', 8), ('smithsonian', 8), ('warns', 8), ('bath', 8), ('stuck', 8), ('interview', 8), ('wet', 8), ('fly', 8), ('regular', 8), ('leads', 8), ('damages', 8), ('trailer', 8), ('actual', 8), ('incredible', 8), ('valley', 8), ('pics', 8), ('followers', 8), ('starting', 8), ('sir', 8), ('fingers', 8), ('everyday', 8), ('mo', 8), ('sub', 8), ('manager', 8), ('pulled', 8), ('sweet', 8), ('prepared', 8), ('clearly', 8), ('league', 8), ('chocolate', 8), ('lanes', 8), ('mediterranean', 8), ('female', 8), ('fail', 8), ('ugly', 8), ('sidelines', 8), ('newest', 8), ('target', 8), ('key', 8), ('lifted', 8), ('nc', 8), ('hunters', 8), ('pacific', 8), ('heads', 8), ('philippines', 8), ('dutch', 8), ('bet', 8), ('dance', 8), ('machine', 8), ('chaos', 8), ('microlight', 8), ('third', 8), ('banned', 8), ('border', 8), ('delays', 8), ('investigation', 8), ('powerlines', 8), ('cinema', 8), ('speak', 8), ('treat', 8), ('conference', 8), ('feminists', 8), ('grill', 8), ('di', 8), ('threw', 8), ('drove', 8), ('exactly', 8), ('just', 8), ('arms', 8), ('why', 8), ('cop', 8), ('bowl', 8), ('foot', 8), ('ears', 8), ('cigarette', 8), ('\\nthe', 8), ('threatening', 8), ('prime', 8), ('thru', 8), ('responsible', 8), ('shame', 8), ('are', 8), ('sparked', 8), ('clear', 8), ('planet', 8), ('markets', 8), ('congress', 8), ('bear', 8), ('present', 8), ('dc', 8), ('cry', 8), ('sees', 8), ('legacy', 8), ('concerned', 8), ('thx', 8), ('eastern', 8), ('wash', 8), ('upset', 8), ('rights', 8), ('allow', 8), ('brings', 8), ('stadium', 8), ('spirit', 8), ('cruz', 8), ('tank', 8), ('lovely', 8), ('management', 8), ('horses', 8), ('fav', 8), ('lamp', 8), ('id', 8), ('recovery', 8), ('mentions', 8), ('harry', 8), ('anyway', 8), ('lmfao', 8), ('remembering', 8), ('slow', 8), ('dramatic', 8), ('kidnapped', 8), ('township', 8), ('dollar', 8), ('sa', 8), ('sb', 8), ('adult', 8), ('movies', 8), ('rape', 8), ('respond', 8), ('clash', 8), ('efforts', 8), ('minister', 8), ('plains', 8), ('port', 8), ('flat', 8), ('talks', 8), ('jack', 8), ('nashville', 8), ('gunfire', 8), ('fuel', 8), ('helps', 8), ('triple', 8), ('charger', 8), ('unless', 8), ('nigeria', 8), ('hopefully', 8), ('your', 8), ('thats', 8), ('mt', 8), ('places', 8), ('intensity', 8), ('maximum', 8), ('afraid', 8), ('iraq', 8), ('illegal', 8), ('associated', 8), ('pin', 7), ('computer', 7), ('accused', 7), ('kaduna', 7), ('zouma', 7), ('vintage', 7), ('grass', 7), ('donate', 7), ('relationship', 7), ('wonderful', 7), ('mood', 7), ('fruit', 7), ('snacks', 7), ('pieces', 7), ('queen', 7), ('promise', 7), ('bitches', 7), ('heal', 7), ('ring', 7), ('xbox', 7), ('plus', 7), ('ww', 7), ('conclusively', 7), ('shares', 7), ('motorcyclist', 7), ('where', 7), ('suddenly', 7), ('warcraft', 7), ('trap', 7), ('dick', 7), ('duty', 7), ('jobs', 7), ('handle', 7), ('rose', 7), ('coach', 7), ('steve', 7), ('activated', 7), ('slightly', 7), ('cup', 7), ('sing', 7), ('africa', 7), ('silent', 7), ('staff', 7), ('robots', 7), ('extremely', 7), ('skin', 7), ('huh', 7), ('documents', 7), ('americans', 7), ('riots', 7), ('when', 7), ('toilet', 7), ('mail', 7), ('tells', 7), ('popular', 7), ('commercial', 7), ('monster', 7), ('fair', 7), ('subject', 7), ('tropical', 7), ('card', 7), ('florida', 7), ('charges', 7), ('wit', 7), ('estimate', 7), ('eh', 7), ('ankle', 7), ('registered', 7), ('senior', 7), ('laughing', 7), ('term', 7), ('dat', 7), ('owners', 7), ('epic', 7), ('paper', 7), ('dreams', 7), ('served', 7), ('brakes', 7), ('triggered', 7), ('losing', 7), ('croatian', 7), ('christian', 7), ('access', 7), ('anchorage', 7), ('path', 7), ('windows', 7), ('accidentally', 7), ('alert', 7), ('ugh', 7), ('calories', 7), ('hungry', 7), ('study', 7), ('horse', 7), ('minor', 7), ('madhya', 7), ('pradesh', 7), ('university', 7), ('student', 7), ('involved', 7), ('careful', 7), ('english', 7), ('troops', 7), ('absolute', 7), ('runway', 7), ('flying', 7), ('truly', 7), ('mental', 7), ('nepal', 7), ('shop', 7), ('accidents', 7), ('anger', 7), ('users', 7), ('insurer', 7), ('kick', 7), ('forward', 7), ('golf', 7), ('supply', 7), ('rail', 7), ('fit', 7), ('stuart', 7), ('annual', 7), ('folks', 7), ('democracy', 7), ('assembly', 7), ('arsenal', 7), ('sunset', 7), ('cloud', 7), ('magic', 7), ('address', 7), ('persons', 7), ('tour', 7), ('success', 7), ('exit', 7), ('covers', 7), ('victory', 7), ('exp', 7), ('averted', 7), ('profile', 7), ('greece', 7), ('greatest', 7), ('print', 7), ('strange', 7), ('sites', 7), ('crew', 7), ('lower', 7), ('gotten', 7), ('blocked', 7), ('cuz', 7), ('shipping', 7), ('born', 7), ('tennessee', 7), ('knee', 7), ('age', 7), ('arrest', 7), ('calif', 7), ('gang', 7), ('theatre', 7), ('often', 7), ('toward', 7), ('root', 7), ('upper', 7), ('fuckin', 7), ('aid', 7), ('fights', 7), ('realized', 7), ('hurts', 7), ('dinner', 7), ('lion', 7), ('housing', 7), ('loss', 7), ('jeff', 7), ('italy', 7), ('vegas', 7), ('posted', 7), ('afghan', 7), ('conditions', 7), ('shelter', 7), ('science', 7), ('legal', 7), ('salem', 7), ('md', 7), ('mma', 7), ('admits', 7), ('scheme', 7), ('homeless', 7), ('per', 7), ('mayan', 7), ('acres', 7), ('sw', 7), ('\\x89ûïwhen', 7), ('plunging', 7), ('bat', 7), ('murdered', 7), ('operation', 7), ('patient', 7), ('pussy', 7), ('nose', 7), ('claim', 7), ('named', 7), ('hunt', 7), ('fort', 7), ('grove', 7), ('connector', 7), ('george', 7), ('step', 7), ('mansehra', 7), ('oops', 7), ('phoenix', 7), ('wings', 7), ('counter', 7), ('unlocked', 7), ('checked', 7), ('technology', 7), ('arabian', 7), ('responds', 7), ('luck', 7), ('can\\x89ûªt', 7), ('shell', 7), ('became', 7), ('defense', 7), ('spring', 7), ('met', 7), ('dumb', 7), ('goal', 7), ('attempt', 7), ('reach', 7), ('ill', 7), ('extra', 7), ('relatives', 7), ('stealing', 7), ('learning', 7), ('bell', 7), ('considering', 7), ('forced', 7), ('depth', 7), ('smile', 7), ('germany', 7), ('gta', 7), ('alright', 7), ('protest', 7), ('activates', 7), ('china\\x89ûªs', 7), ('speaker', 6), ('freedom', 6), ('possibly', 6), ('birmingham', 6), ('becomes', 6), ('poverty', 6), ('messenger', 6), ('surprise', 6), ('other', 6), ('taste', 6), ('acting', 6), ('throat', 6), ('certainly', 6), ('fate', 6), ('notice', 6), ('stab', 6), ('yall', 6), ('er', 6), ('hd', 6), ('seem', 6), ('boyfriend', 6), ('yay', 6), ('schools', 6), ('have', 6), ('biological', 6), ('looked', 6), ('philly', 6), ('auto', 6), ('digital', 6), ('tough', 6), ('uses', 6), ('revealed', 6), ('distance', 6), ('proof', 6), ('worried', 6), ('economy', 6), ('worker', 6), ('factory', 6), ('wondering', 6), ('numbers', 6), ('solid', 6), ('gps', 6), ('springs', 6), ('accounts', 6), ('although', 6), ('doubt', 6), ('wired', 6), ('ceo', 6), ('sp', 6), ('levels', 6), ('selfie', 6), ('warship', 6), ('tf', 6), ('decide', 6), ('trash', 6), ('blocking', 6), ('charlie', 6), ('wholesale', 6), ('hosting', 6), ('maria', 6), ('tuesday', 6), ('beer', 6), ('darude', 6), ('easily', 6), ('ig', 6), ('options', 6), ('stands', 6), ('fresh', 6), ('tape', 6), ('plug', 6), ('profit', 6), ('fashion', 6), ('whats', 6), ('reminds', 6), ('drones', 6), ('wins', 6), ('sexual', 6), ('covered', 6), ('secrets', 6), ('rs', 6), ('exist', 6), ('crossed', 6), ('trial', 6), ('sos', 6), ('peaceful', 6), ('recommend', 6), ('electricity', 6), ('offer', 6), ('survival', 6), ('disrupts', 6), ('grateful', 6), ('collapses', 6), ('defend', 6), ('ferguson', 6), ('speaking', 6), ('mexico', 6), ('decided', 6), ('button', 6), ('australian', 6), ('tag', 6), ('vehicles', 6), ('putin', 6), ('camera', 6), ('blamed', 6), ('journalist', 6), ('predicted', 6), ('tribune', 6), ('blows', 6), ('manchester', 6), ('bid', 6), ('officially', 6), ('alaska', 6), ('collection', 6), ('armed', 6), ('uribe', 6), ('error', 6), ('va', 6), ('senate', 6), ('ultimate', 6), ('library', 6), ('museum', 6), ('pakistani', 6), ('spending', 6), ('approaches', 6), ('aim', 6), ('historic', 6), ('antioch', 6), ('brazil', 6), ('design', 6), ('hearts', 6), ('flew', 6), ('chris', 6), ('festival', 6), ('eating', 6), ('clinton', 6), ('mi', 6), ('pace', 6), ('nike', 6), ('known', 6), ('showing', 6), ('freakiest', 6), ('of\\x89û_', 6), ('alberta', 6), ('purchase', 6), ('entered', 6), ('images', 6), ('thus', 6), ('residential', 6), ('monsoon', 6), ('rear', 6), ('blame', 6), ('parking', 6), ('diss', 6), ('gift', 6), ('insane', 6), ('acts', 6), ('cast', 6), ('los', 6), ('angeles', 6), ('touch', 6), ('construction', 6), ('motorcycle', 6), ('pond', 6), ('zero', 6), ('effort', 6), ('opened', 6), ('crack', 6), ('example', 6), ('veterans', 6), ('europe', 6), ('include', 6), ('stephen', 6), ('the\\x89û_', 6), ('crowd', 6), ('hop', 6), ('activity', 6), ('article', 6), ('van', 6), ('bride', 6), ('anxiety', 6), ('picked', 6), ('majority', 6), ('jet', 6), ('advance', 6), ('bake', 6), ('faster', 6), ('planning', 6), ('ed', 6), ('hatchet', 6), ('revenues', 6), ('finnish', 6), ('bicyclist', 6), ('mission', 6), ('civil', 6), ('movement', 6), ('flooded', 6), ('chinese', 6), ('wearing', 6), ('wrought', 6), ('dorret', 6), ('loan', 6), ('heaven', 6), ('senator', 6), ('revolution', 6), ('leg', 6), ('republicans', 6), ('election', 6), ('reportedly', 6), ('broad', 6), ('gusts', 6), ('solution', 6), ('ar', 6), ('status', 6), ('barn', 6), ('satellite', 6), ('statement', 6), ('delay', 6), ('til', 6), ('arrive', 6), ('james', 6), ('abuse', 6), ('snap', 6), ('limit', 6), ('swimming', 6), ('education', 6), ('fell', 6), ('proud', 6), ('wear', 6), ('agreed', 6), ('joy', 6), ('citizens', 6), ('passing', 6), ('boot', 6), ('cried', 6), ('feelings', 6), ('georgia', 6), ('bulletin', 6), ('italian', 6), ('larger', 6), ('goals', 6), ('justin', 6), ('bells', 6), ('santa', 6), ('coastal', 6), ('electrical', 6), ('aftermath', 6), ('finger', 6), ('bob', 6), ('interest', 6), ('structure', 6), ('jordan', 6), ('chest', 6), ('tom', 6), ('integrity', 6), ('richard', 6), ('republican', 6), ('pipeline', 6), ('actions', 6), ('confirm', 6), ('bike', 6), ('marked', 6), ('discovered', 6), ('quality', 6), ('purple', 6), ('providence', 6), ('ak', 6), ('losses', 6), ('electric', 6), ('countries', 6), ('responsibility', 6), ('failed', 6), ('kind', 6), ('wing', 6), ('estimated', 6), ('rob', 6), ('german', 6), ('battlefield', 6), ('garbage', 6), ('breaks', 6), ('butter', 6), ('email', 6), ('hiring', 6), ('poll', 6), ('allah', 6), ('raid', 6), ('letting', 6), ('olap', 6), ('emmerdale', 6), ('declaration', 6), ('recalls', 6), ('dragon', 6), ('traditional', 6), ('generation', 6), ('fyi', 6), ('derails', 6), ('bless', 6), ('targets', 6), ('speed', 6), ('materials', 6), ('fired', 6), ('treatment', 6), ('rid', 6), ('walked', 6), ('classic', 6), ('cape', 6), ('rapidly', 6), ('shirt', 6), ('mega', 6), ('lethal', 6), ('manslaughter', 6), ('jan', 6), ('written', 6), ('bug', 6), ('eruption', 6), ('looting', 6), ('station', 6), ('xd', 6), ('alleged', 6), ('teacher', 6), ('replace', 6), ('foxtrot', 6), ('aware', 6), ('fits', 6), ('as', 6), ('choice', 6), ('nobody', 6), ('willing', 6), ('criminals', 6), ('characters', 6), ('battling', 6), ('bedroom', 6), ('gameplay', 6), ('however', 6), ('drawn', 6), ('individuals', 6), ('temple', 6), ('blind', 6), ('hes', 6), ('surprised', 6), ('åè', 5), ('å_', 5), ('files', 5), ('virus', 5), ('famous', 5), ('jam', 5), ('resulted', 5), ('laws', 5), ('chain', 5), ('wicked', 5), ('ruled', 5), ('zayn', 5), ('psa', 5), ('particularly', 5), ('ages', 5), ('moves', 5), ('fucked', 5), ('stabbing', 5), ('basement', 5), ('hole', 5), ('ruined', 5), ('telling', 5), ('fill', 5), ('changed', 5), ('cats', 5), ('yea', 5), ('sean', 5), ('ordered', 5), ('\\n\\nhttps', 5), ('ending', 5), ('universe', 5), ('lonely', 5), ('asleep', 5), ('emotions', 5), ('derby', 5), ('code', 5), ('beauty', 5), ('barely', 5), ('towards', 5), ('crackdown', 5), ('seattle', 5), ('advice', 5), ('existence', 5), ('returns', 5), ('sink', 5), ('ops', 5), ('multi', 5), ('handbag', 5), ('girlfriend', 5), ('danielle', 5), ('robinson', 5), ('analysis', 5), ('personal', 5), ('device', 5), ('columbia', 5), ('iranian', 5), ('odd', 5), ('critical', 5), ('rep', 5), ('plays', 5), ('sat', 5), ('bringing', 5), ('bullet', 5), ('whether', 5), ('benefits', 5), ('simply', 5), ('beats', 5), ('realize', 5), ('blowing', 5), ('marketing', 5), ('breathe', 5), ('flip', 5), ('circus', 5), ('bunch', 5), ('mouth', 5), ('decision', 5), ('occasion', 5), ('michigan', 5), ('vacation', 5), ('con', 5), ('outdoor', 5), ('cousin', 5), ('brutally', 5), ('screen', 5), ('wed', 5), ('website', 5), ('warfare', 5), ('twin', 5), ('private', 5), ('innocent', 5), ('bees', 5), ('server', 5), ('reduced', 5), ('cain', 5), ('highest', 5), ('trolley', 5), ('struggle', 5), ('shooter', 5), ('catching', 5), ('beginning', 5), ('spanish', 5), ('drug', 5), ('assistance', 5), ('mines', 5), ('cranes', 5), ('facts', 5), ('bp', 5), ('leveled', 5), ('shocked', 5), ('yahoo', 5), ('premature', 5), ('chicken', 5), ('joel', 5), ('college', 5), ('cd', 5), ('acid', 5), ('vietnam', 5), ('table', 5), ('spider', 5), ('usgs', 5), ('palms', 5), ('subs', 5), ('offers', 5), ('communities', 5), ('reid', 5), ('clean', 5), ('hr', 5), ('egypt', 5), ('[wind', 5), ('in]', 5), ('kyle', 5), ('parker', 5), ('fighters', 5), ('log', 5), ('probe', 5), ('captured', 5), ('jewish', 5), ('turning', 5), ('disasters', 5), ('newlyweds', 5), ('higher', 5), ('pulling', 5), ('bill', 5), ('conspiracy', 5), ('utter', 5), ('turnpike', 5), ('orange', 5), ('thin', 5), ('decisions', 5), ('anywhere', 5), ('panel', 5), ('trafford', 5), ('odeon', 5), ('sac', 5), ('av', 5), ('nj', 5), ('mama', 5), ('mum', 5), ('slide', 5), ('internal', 5), ('prefer', 5), ('legs', 5), ('iii', 5), ('ego', 5), ('banana', 5), ('lightening', 5), ('legit', 5), ('hahaha', 5), ('increased', 5), ('apartments', 5), ('bound', 5), ('fed', 5), ('socialism', 5), ('enjoying', 5), ('asap', 5), ('racist', 5), ('roll', 5), ('cos', 5), ('birth', 5), ('steal', 5), ('cell', 5), ('phones', 5), ('occurs', 5), ('fb', 5), ('mall', 5), ('justice', 5), ('desire', 5), ('comments', 5), ('mkx', 5), ('scientists', 5), ('kingdom', 5), ('muslim', 5), ('similar', 5), ('sources', 5), ('vinyl', 5), ('conflict', 5), ('increase', 5), ('throughout', 5), ('passed', 5), ('microsoft', 5), ('knowing', 5), ('reporting', 5), ('pitch', 5), ('hip', 5), ('here\\x89ûªs', 5), ('christians', 5), ('warned', 5), ('quest', 5), ('suit', 5), ('arm', 5), ('messages', 5), ('dvd', 5), ('pepper', 5), ('amongst', 5), ('grenade', 5), ('impossible', 5), ('footage', 5), ('leaves', 5), ('mercy', 5), ('eden', 5), ('favourite', 5), ('broadway', 5), ('schedule', 5), ('pilots', 5), ('brothers', 5), ('commit', 5), ('returned', 5), ('tune', 5), ('candy', 5), ('jeb', 5), ('kicked', 5), ('politics', 5), ('attitude', 5), ('constantly', 5), ('affects', 5), ('husband', 5), ('underway', 5), ('pov', 5), ('fantastic', 5), ('tahoe', 5), ('fund', 5), ('strikes', 5), ('wire', 5), ('plants', 5), ('rises', 5), ('drives', 5), ('patrick', 5), ('campus', 5), ('pickens', 5), ('ne', 5), ('context', 5), ('race', 5), ('prompts', 5), ('will', 5), ('unknown', 5), ('satan', 5), ('surface', 5), ('sight', 5), ('planted', 5), ('shoes', 5), ('stewart', 5), ('farm', 5), ('steam', 5), ('idc', 5), ('standing', 5), ('smell', 5), ('org', 5), ('solve', 5), ('southeast', 5), ('dirt', 5), ('pays', 5), ('desk', 5), ('shoot', 5), ('walls', 5), ('doctor', 5), ('northwest', 5), ('inner', 5), ('alcohol', 5), ('christmas', 5), ('soccer', 5), ('scotland', 5), ('uniform', 5), ('dare', 5), ('dj', 5), ('slowly', 5), ('slip', 5), ('diamond', 5), ('selfies', 5), ('yazidis', 5), ('silence', 5), ('toxic', 5), ('shock', 5), ('shed', 5), ('haram', 5), ('sharp', 5), ('shark', 5), ('lowndes', 5), ('credit', 5), ('sized', 5), ('radar', 5), ('union', 5), ('threats', 5), ('option', 5), ('normal', 5), ('rocket', 5), ('jail', 5), ('concerns', 5), ('funds', 5), ('projects', 5), ('stress', 5), ('salvation', 5), ('from', 5), ('pump', 5), ('lover', 5), ('wound', 5), ('rì©union', 5), ('tons', 5), ('nuke', 5), ('souls', 5), ('cramer', 5), ('specimens', 5), ('structures', 5), ('elephant', 5), ('garden', 5), ('cleanup', 5), ('venezuela', 5), ('same', 5), ('smells', 5), ('recently', 5), ('transit', 5), ('ray', 5), ('buried', 5), ('motor', 5), ('fallen', 5), ('reminder', 5), ('tr', 5), ('remembered', 5), ('mumbai', 5), ('releases', 5), ('sparks', 5), ('islands', 5), ('reap', 5), ('yobe', 5), ('teams', 5), ('wrapped', 5), ('finds', 5), ('prayers', 5), ('agrees', 5), ('pants', 5), ('carried', 5), ('suffered', 5), ('pregnant', 5), ('saint', 5), ('abe', 5), ('agency', 5), ('pissed', 5), ('wood', 5), ('physical', 5), ('brian', 5), ('base', 5), ('camping', 5), ('works', 5), ('understanding', 5), ('bears', 5), ('allowed', 5), ('disgusting', 5), ('cyclist', 5), ('peanut', 5), ('lying', 5), ('emotionally', 5), ('bounty', 5), ('prices', 5), ('stomach', 5), ('seasons', 5), ('holiday', 5), ('omfg', 5), ('gabon', 5), ('somalia', 5), ('usual', 5), ('blonde', 5), ('esp', 5), ('paid', 5), ('thousand', 5), ('stick', 5), ('hmm', 5), ('deliver', 5), ('current', 5), ('belly', 5), ('charge', 5), ('i\\x89ûªve', 5), ('harper', 5), ('despite', 5), ('williams', 5), ('wanting', 5), ('boom', 5), ('hardy', 5), ('foster', 5), ('external', 5), ('olive', 5), ('eventually', 5), ('nyt', 5), ('demand', 5), ('grandma', 5), ('weight', 5), ('packs', 5), ('myself', 5), ('appreciate', 5), ('notices', 5), ('doors', 5), ('edinburgh', 5), ('abused', 5), ('prior', 5), ('sept', 5), ('loves', 5), ('gives', 5), ('dk', 5), ('lands', 5), ('spain', 5), ('engine', 5), ('anybody', 5), ('plate', 5), ('washed', 5), ('cancel', 5), ('bn', 5), ('previous', 5), ('committed', 5), ('sucks', 5), ('surf', 5), ('rea\\x89û_', 5), ('after', 5), ('blunt', 5), ('taco', 5), ('asia', 5), ('swim', 5), ('leaders', 5), ('mount', 5), ('jacksonville', 5), ('alternatives', 5), ('memory', 5), ('beck', 5), ('arnley', 5), ('gm', 5), ('opinion', 5), ('tries', 5), ('eb', 5), ('lorries', 5), ('suffer', 5), ('desert', 5), ('lived', 5), ('degree', 5), ('forgot', 5), ('pc', 5), ('captain', 5), ('lighting', 5), ('degrees', 5), ('interested', 5), ('regarding', 5), ('ima', 5), ('haunting', 5), ('ems', 5), ('grace', 5), ('fr', 5), ('epilepsy', 5), ('utterly', 5), ('detectado', 5), ('discovery', 5), ('temporary', 5), ('insurers', 5), ('crashing', 5), ('cleared', 5), ('bargain', 5), ('specially', 5), ('autistic', 5), ('blk', 5), ('charles', 5), ('olympic', 5), ('auth', 5), ('crashes', 5), ('lungs', 5), ('atmosphere', 5), ('bio', 5), ('apocalyptic', 5), ('ability', 5), ('btw', 5), ('federal', 5), ('flags', 5), ('åê', 4), ('correction', 4), ('only', 4), ('curb', 4), ('recall', 4), ('nightmare', 4), ('shocking', 4), ('that\\x89ûªs', 4), ('\\x89ûïthe', 4), ('architect', 4), ('\\x89ûïa', 4), ('safer', 4), ('stacey', 4), ('johnson', 4), ('tony', 4), ('\\nwho', 4), ('follows', 4), ('donald', 4), ('karachi', 4), ('dress', 4), ('produced', 4), ('mining', 4), ('difference', 4), ('distinct', 4), ('capsized', 4), ('dental', 4), ('\\n\\ni', 4), ('shitty', 4), ('deserve', 4), ('spears', 4), ('bullets', 4), ('believing', 4), ('bars', 4), ('dropping', 4), ('emails', 4), ('reviews', 4), ('bite', 4), ('closure', 4), ('kisses', 4), ('dudes', 4), ('criminal', 4), ('minds', 4), ('unsafe', 4), ('explains', 4), ('injures', 4), ('groups', 4), ('servers', 4), ('multiplayer', 4), ('clever', 4), ('runner', 4), ('affect', 4), ('britain', 4), ('warships', 4), ('designs', 4), ('burnt', 4), ('smash', 4), ('pattern', 4), ('flower', 4), ('pink', 4), ('clutch', 4), ('buckle', 4), ('biker', 4), ('opposition', 4), ('unveiled', 4), ('tumblr', 4), ('interviews', 4), ('wi', 4), ('net', 4), ('warming', 4), ('combined', 4), ('weren', 4), ('naked', 4), ('bible', 4), ('gon', 4), ('fixed', 4), ('whoever', 4), ('whoa', 4), ('floated', 4), ('sam', 4), ('bracelet', 4), ('tone', 4), ('values', 4), ('fi', 4), ('bottle', 4), ('cherry', 4), ('facilities', 4), ('balance', 4), ('unlocking', 4), ('cord', 4), ('ear', 4), ('manage', 4), ('figure', 4), ('choices', 4), ('edge', 4), ('catches', 4), ('prediction', 4), ('hottest', 4), ('value', 4), ('communication', 4), ('ticket', 4), ('swing', 4), ('scenes', 4), ('writers', 4), ('role', 4), ('tool', 4), ('learned', 4), ('dating', 4), ('wayne', 4), ('cricket', 4), ('exercise', 4), ('warn', 4), ('treated', 4), ('justified', 4), ('listed', 4), ('tix', 4), ('unique', 4), ('weak', 4), ('shaking', 4), ('psychiatric', 4), ('fte', 4), ('pizza', 4), ('maps', 4), ('source', 4), ('systems', 4), ('lifting', 4), ('pa', 4), ('cali', 4), ('exited', 4), ('charts', 4), ('form', 4), ('terrifying', 4), ('targeting', 4), ('minded', 4), ('wisdom', 4), ('warne', 4), ('warfighting', 4), ('inspired', 4), ('hitting', 4), ('sell', 4), ('walmart', 4), ('noise', 4), ('cbs', 4), ('cakes', 4), ('drama', 4), ('predict', 4), ('nema', 4), ('tanker', 4), ('drinks', 4), ('preparedness', 4), ('vladimir', 4), ('reno', 4), ('torture', 4), ('jeep', 4), ('mb', 4), ('blake', 4), ('barack', 4), ('mexican', 4), ('restaurant', 4), ('swiss', 4), ('vet', 4), ('veteran', 4), ('conquest', 4), ('bare', 4), ('exposed', 4), ('eq', 4), ('faced', 4), ('evacuations', 4), ('tech', 4), ('refuses', 4), ('yemen', 4), ('syria', 4), ('urgent', 4), ('note', 4), ('yellow', 4), ('seemed', 4), ('prompted', 4), ('repairs', 4), ('committee', 4), ('administration', 4), ('affiliate', 4), ('consequences', 4), ('neighborhood', 4), ('erected', 4), ('asian', 4), ('uganda', 4), ('scott', 4), ('trucks', 4), ('uber', 4), ('that\\x89û_', 4), ('ian', 4), ('landfall', 4), ('frank', 4), ('unreal', 4), ('client', 4), ('childhood', 4), ('villages', 4), ('instructions', 4), ('proceeds', 4), ('items', 4), ('fm', 4), ('clouds', 4), ('faith', 4), ('march', 4), ('tl', 4), ('brigade', 4), ('telegraph', 4), ('circle', 4), ('cargo', 4), ('section', 4), ('tracking', 4), ('ma', 4), ('nowhere', 4), ('hype', 4), ('chevy', 4), ('fraction', 4), ('coping', 4), ('wee', 4), ('director', 4), ('cbc', 4), ('bee', 4), ('color', 4), ('franklin', 4), ('tractor', 4), ('approaching', 4), ('playoffs', 4), ('tiny', 4), ('spend', 4), ('feeding', 4), ('subreddits', 4), ('reputation', 4), ('nw', 4), ('push', 4), ('entertainment', 4), ('kiss', 4), ('tested', 4), ('atlantic', 4), ('host', 4), ('events', 4), ('feminist', 4), ('sin', 4), ('citizen', 4), ('sisters', 4), ('lip', 4), ('whales', 4), ('rally', 4), ('daughters', 4), ('imagined', 4), ('boston', 4), ('ìñ', 4), ('trend', 4), ('ridiculous', 4), ('trace', 4), ('did', 4), ('maj', 4), ('tokyo', 4), ('square', 4), ('butt', 4), ('gate', 4), ('expecting', 4), ('filled', 4), ('load', 4), ('brave', 4), ('brewing', 4), ('thick', 4), ('diving', 4), ('hinton', 4), ('shouting', 4), ('stamp', 4), ('drugs', 4), ('network', 4), ('letters', 4), ('twins', 4), ('cdc', 4), ('primary', 4), ('mc', 4), ('replacing', 4), ('safely', 4), ('logic', 4), ('stood', 4), ('dozen', 4), ('you\\x89ûªre', 4), ('charity', 4), ('spoke', 4), ('opposite', 4), ('cod', 4), ('personally', 4), ('ntsb', 4), ('marker', 4), ('method', 4), ('links', 4), ('producer', 4), ('reveals', 4), ('titanic', 4), ('horrific', 4), ('atm', 4), ('read\\x89û_', 4), ('empty', 4), ('guardian', 4), ('boxer', 4), ('jay', 4), ('heavenly', 4), ('regional', 4), ('kindle', 4), ('julie', 4), ('period', 4), ('shepherd', 4), ('previously', 4), ('limited', 4), ('connection', 4), ('devil', 4), ('mystery', 4), ('instantly', 4), ('tuned', 4), ('cave', 4), ('primarily', 4), ('chewing', 4), ('sf', 4), ('shout', 4), ('hall', 4), ('dq', 4), ('cotton', 4), ('grab', 4), ('muscle', 4), ('christie', 4), ('republic', 4), ('memphis', 4), ('moth', 4), ('you\\x89ûªve', 4), ('realise', 4), ('deserves', 4), ('firing', 4), ('amsterdam', 4), ('nations', 4), ('ted', 4), ('sydney', 4), ('southampton', 4), ('reaching', 4), ('cree', 4), ('survey', 4), ('prabhu', 4), ('calamity', 4), ('rates', 4), ('nap', 4), ('billion', 4), ('vets', 4), ('approach', 4), ('register', 4), ('lone', 4), ('tyre', 4), ('attacking', 4), ('cr', 4), ('deck', 4), ('a\\x89û_', 4), ('yard', 4), ('vid', 4), ('immediately', 4), ('smith', 4), ('buying', 4), ('grounds', 4), ('driven', 4), ('fixing', 4), ('falcon', 4), ('soup', 4), ('diet', 4), ('scars', 4), ('strangers', 4), ('theory', 4), ('split', 4), ('arriving', 4), ('mansion', 4), ('temperature', 4), ('tragic', 4), ('band', 4), ('laugh', 4), ('weed', 4), ('photographer', 4), ('provide', 4), ('goo', 4), ('skills', 4), ('matters', 4), ('slower', 4), ('intersection', 4), ('repay', 4), ('fwy', 4), ('sons', 4), ('background', 4), ('batting', 4), ('\\nfor', 4), ('alps', 4), ('garfield', 4), ('snapchat', 4), ('settlement', 4), ('christ', 4), ('selection', 4), ('invasion', 4), ('bieber', 4), ('cia', 4), ('grade', 4), ('neither', 4), ('honest', 4), ('reshapes', 4), ('cta', 4), ('horizon', 4), ('proposed', 4), ('homeowners', 4), ('fam', 4), ('hurry', 4), ('sort', 4), ('ash', 4), ('wither', 4), ('oak', 4), ('alex', 4), ('gbbo', 4), ('excellent', 4), ('mechanical', 4), ('iger', 4), ('jim', 4), ('elliott', 4), ('author', 4), ('changing', 4), ('resources', 4), ('hieroglyphics', 4), ('honors', 4), ('lowly', 4), ('mistake', 4), ('robert', 4), ('concept', 4), ('gear', 4), ('autumn', 4), ('inspections', 4), ('title', 4), ('en', 4), ('artists', 4), ('sicily', 4), ('abbott', 4), ('magnitude', 4), ('browser', 4), ('hamas', 4), ('egged', 4), ('highly', 4), ('launch', 4), ('recap', 4), ('focus', 4), ('let\\x89ûªs', 4), ('explodes', 4), ('rappers', 4), ('whale', 4), ('strategy', 4), ('penalties', 4), ('generally', 4), ('positive', 4), ('ducks', 4), ('supervisor', 4), ('prince', 4), ('feast', 4), ('que', 4), ('francis', 4), ('boko', 4), ('teenagers', 4), ('riding', 4), ('teachers', 4), ('rider', 4), ('investigate', 4), ('performance', 4), ('employees', 4), ('pole', 4), ('employee', 4), ('mixed', 4), ('photoshop', 4), ('forgotten', 4), ('warm', 4), ('earrings', 4), ('apple', 4), ('expert', 4), ('perhaps', 4), ('sentinel', 4), ('journal', 4), ('beware', 4), ('rome', 4), ('pam', 4), ('supreme', 4), ('naved', 4), ('hardly', 4), ('chelsea', 4), ('forgive', 4), ('growth', 4), ('mfs', 4), ('jon', 4), ('coal', 4), ('relax', 4), ('timeline', 4), ('automatic', 4), ('writer', 4), ('religion', 4), ('okanagan', 4), ('cock', 4), ('bloomberg', 4), ('tied', 4), ('kings', 4), ('bolt', 4), ('builds', 4), ('abomination', 4), ('continued', 4), ('shelby', 4), ('hills', 4), ('grand', 4), ('braking', 4), ('cooler', 4), ('keeping', 4), ('specialist', 4), ('sweat', 4), ('pun', 4), ('joke', 4), ('hide', 4), ('hating', 4), ('lions', 4), ('devalue', 4), ('bored', 4), ('cupcake', 4), ('hyderabad', 4), ('rainfall', 4), ('diff', 4), ('user', 4), ('screenshots', 4), ('combat', 4), ('grey', 4), ('com', 4), ('ireland', 4), ('dual', 4), ('productive', 4), ('birds', 4), ('warrior', 4), ('kenya', 4), ('heading', 4), ('kidding', 4), ('bridges', 4), ('packed', 4), ('instagram', 4), ('answers', 4), ('fl', 4), ('streak', 4), ('stir', 4), ('musician', 4), ('kalle', 4), ('mattson', 4), ('battery', 4), ('suv', 4), ('morgan', 4), ('brief', 4), ('\\nme', 4), ('therapy', 4), ('hates', 4), ('june', 4), ('intact', 4), ('odds', 4), ('coahuila', 4), ('brush', 4), ('letter', 4), ('greg', 4), ('nicki', 4), ('medieval', 4), ('edition', 4), ('dis', 4), ('parade', 4), ('harbor', 4), ('managed', 4), ('pit', 4), ('ev', 4), ('karymsky', 4), ('crater', 4), ('lrt', 4), ('vuitton', 4), ('computers', 4), ('growing', 4), ('recycling', 4), ('score', 4), ('happiness', 4), ('gods', 4), ('giants', 4), ('amen', 4), ('inning', 4), ('prone', 4), ('las', 4), ('sixth', 4), ('lionel', 4), ('holland', 4), ('basically', 4), ('empire', 4), ('fortunately', 4), ('lawsuit', 4), ('intensifies', 4), ('bands', 4), ('doc', 4), ('pull', 4), ('grew', 4), ('friendship', 4), ('responding', 4), ('quarter', 4), ('eu', 4), ('concern', 4), ('i\\x89û_', 4), ('reward', 4), ('notifications', 4), ('connecto', 4), ('or', 4), ('pretend', 4), ('loads', 4), ('experienced', 4), ('preseason', 4), ('hopes', 4), ('fools', 4), ('frozen', 4), ('cleveland', 4), ('mountains', 4), ('fishing', 4), ('tutorial', 4), ('sandy', 4), ('chat', 4), ('active', 4), ('turns', 4), ('restore', 4), ('[official', 4), ('video]', 4), ('waters', 4), ('crimes', 4), ('cont', 4), ('hated', 4), ('humidity', 4), ('genuine', 4), ('blessed', 4), ('jump', 4), ('simulate', 4), ('nu', 4), ('https', 4), ('col', 4), ('brand', 4), ('hundred', 4), ('walker', 4), ('www', 4), ('trick', 4), ('superhero', 4), ('rush', 4), ('blames', 4), ('bjp', 4), ('challenge', 4), ('crane', 4), ('dtn', 4), ('powers', 4), ('operations', 4), ('hoax', 4), ('[report', 4), ('okinawa', 4), ('deputies', 4), ('gains', 4), ('prison', 4), ('cue', 4), ('handed', 4), ('plague', 4), ('clev', 4), ('wd', 4), ('chill', 4), ('beating', 4), ('modified', 4), ('otherwise', 4), ('saves', 4), ('bo', 4), ('bigamist', 4), ('beforeitsnews', 4), ('average', 4), ('dates', 4), ('wht', 4), ('sake', 4), ('godslove', 4), ('significant', 4), ('struggles', 4), ('xp', 4), ('holds', 3), ('locked', 3), ('belonged', 3), ('\\x89ûïyou', 3), ('\\x89ûïwe', 3), ('wildlife', 3), ('midst', 3), ('voluntary', 3), ('ahh', 3), ('voter', 3), ('amirite', 3), ('ja', 3), ('thinks', 3), ('responded', 3), ('fandom', 3), ('neck', 3), ('mtvhottest', 3), ('blasts', 3), ('romance', 3), ('runaway', 3), ('mgs', 3), ('quote', 3), ('had', 3), ('hidden', 3), ('tastes', 3), ('appointment', 3), ('messed', 3), ('variety', 3), ('product', 3), ('britney', 3), ('del', 3), ('wide', 3), ('permanent', 3), ('journalism', 3), ('boundaries', 3), ('ye', 3), ('clip', 3), ('asks', 3), ('t\\x89û_', 3), ('console', 3), ('lessons', 3), ('mido', 3), ('wwe', 3), ('were', 3), ('avenue', 3), ('voting', 3), ('celebrities', 3), ('language', 3), ('shania', 3), ('deadliest', 3), ('rat', 3), ('sharply', 3), ('royal', 3), ('collins', 3), ('humans', 3), ('tower', 3), ('poured', 3), ('affecting', 3), ('stylish', 3), ('printed', 3), ('shoulders', 3), ('pockets', 3), ('herself', 3), ('marin', 3), ('wolverine', 3), ('fourth', 3), ('lay', 3), ('wo', 3), ('espn', 3), ('excitement', 3), ('recovered', 3), ('wishing', 3), ('founder', 3), ('elevated', 3), ('winter', 3), ('william', 3), ('euro', 3), ('shanghai', 3), ('rousey', 3), ('lolol', 3), ('workout', 3), ('freezing', 3), ('torso', 3), ('scale', 3), ('transfer', 3), ('tyler', 3), ('politicians', 3), ('lit', 3), ('treating', 3), ('scholars', 3), ('xb', 3), ('tomislav', 3), ('salopek', 3), ('tornadoes', 3), ('farrakhan', 3), ('rap', 3), ('knob', 3), ('mm', 3), ('beads', 3), ('impressive', 3), ('assad', 3), ('genius', 3), ('protests', 3), ('moms', 3), ('annoying', 3), ('struggling', 3), ('extension', 3), ('pasta', 3), ('piling', 3), ('gf', 3), ('placed', 3), ('finish', 3), ('eaten', 3), ('fist', 3), ('gg', 3), ('define', 3), ('cheap', 3), ('houston', 3), ('chosen', 3), ('aviation', 3), ('conversation', 3), ('becoming', 3), ('puppies', 3), ('destroying', 3), ('hint', 3), ('detroit', 3), ('wears', 3), ('puncture', 3), ('ripped', 3), ('saturn', 3), ('penalty', 3), ('regret', 3), ('heroine', 3), ('duck', 3), ('era', 3), ('supports', 3), ('dems', 3), ('detained', 3), ('kerry', 3), ('fbi', 3), ('province', 3), ('unkn', 3), ('wen', 3), ('advanced', 3), ('ipad', 3), ('burglary', 3), ('lance', 3), ('dunbar', 3), ('showers', 3), ('stolen', 3), ('guard', 3), ('toronto', 3), ('happily', 3), ('desires', 3), ('boise', 3), ('junk', 3), ('batteries', 3), ('stronger', 3), ('trials', 3), ('obsessed', 3), ('atom', 3), ('mandatory', 3), ('corp', 3), ('moral', 3), ('rejects', 3), ('caution', 3), ('wcw', 3), ('tops', 3), ('terms', 3), ('casino', 3), ('lesson', 3), ('hampshire', 3), ('denied', 3), ('performs', 3), ('golan', 3), ('jerusalem', 3), ('po', 3), ('swallowed', 3), ('chunks', 3), ('molten', 3), ('sarah', 3), ('pressed', 3), ('grown', 3), ('legendary', 3), ('ponting', 3), ('vip', 3), ('entering', 3), ('waking', 3), ('accept', 3), ('provided', 3), ('cafe', 3), ('irish', 3), ('admin', 3), ('jones', 3), ('patch', 3), ('facing', 3), ('removing', 3), ('proper', 3), ('vanessa', 3), ('vampiro', 3), ('aunt', 3), ('sanctions', 3), ('promises', 3), ('cabin', 3), ('bend', 3), ('indiana', 3), ('reopening', 3), ('legislation', 3), ('encounter', 3), ('[portland', 3), ('partner', 3), ('custer', 3), ('dive', 3), ('unit', 3), ('unions', 3), ('um', 3), ('demon', 3), ('independent', 3), ('command', 3), ('frog', 3), ('nasa', 3), ('corners', 3), ('occupants', 3), ('films', 3), ('delta', 3), ('ambulances', 3), ('tampa', 3), ('count', 3), ('songs', 3), ('lego', 3), ('belongs', 3), ('swept', 3), ('sins', 3), ('militant', 3), ('collective', 3), ('remix', 3), ('trusting', 3), ('mania', 3), ('giveaway', 3), ('canyon', 3), ('tests', 3), ('greek', 3), ('nato', 3), ('dept', 3), ('landscape', 3), ('cycling', 3), ('ns', 3), ('disappearance', 3), ('shoe', 3), ('drag', 3), ('lesbian', 3), ('offices', 3), ('harda', 3), ('railway', 3), ('enroute', 3), ('april', 3), ('jays', 3), ('mitigation', 3), ('wolf', 3), ('ryan', 3), ('commute', 3), ('announcement', 3), ('properties', 3), ('florence', 3), ('avoided', 3), ('enjoyed', 3), ('tb', 3), ('visited', 3), ('any', 3), ('specific', 3), ('inevitable', 3), ('electronic', 3), ('taxi', 3), ('titan', 3), ('leaks', 3), ('random', 3), ('finding', 3), ('in\\x89û_', 3), ('heals', 3), ('cries', 3), ('gmt', 3), ('throwback', 3), ('tens', 3), ('realised', 3), ('proven', 3), ('podcast', 3), ('potentially', 3), ('received', 3), ('technical', 3), ('intense', 3), ('nova', 3), ('ct', 3), ('unavoidable', 3), ('consequence', 3), ('bbdpnj', 3), ('xsx', 3), ('doesn\\x89ûªt', 3), ('teeth', 3), ('flesh', 3), ('incredibly', 3), ('necessary', 3), ('vision', 3), ('hunger', 3), ('production', 3), ('joining', 3), ('into', 3), ('theyre', 3), ('capital', 3), ('swarm', 3), ('peeps', 3), ('shedding', 3), ('laid', 3), ('raised', 3), ('restaurants', 3), ('tanks', 3), ('simulation', 3), ('item', 3), ('costa', 3), ('chair', 3), ('madison', 3), ('fleeing', 3), ('tear', 3), ('meme', 3), ('medicine', 3), ('boeing', 3), ('supernatural', 3), ('indifference', 3), ('loans', 3), ('shook', 3), ('alarms', 3), ('organizations', 3), ('creativity', 3), ('plumbing', 3), ('initial', 3), ('bass', 3), ('spread', 3), ('raining', 3), ('ate', 3), ('toy', 3), ('niall', 3), ('maintain', 3), ('argument', 3), ('sand', 3), ('chances', 3), ('outskirts', 3), ('prophet', 3), ('jazz', 3), ('range', 3), ('delayed', 3), ('ol', 3), ('mets', 3), ('designed', 3), ('murderous', 3), ('raleigh', 3), ('fart', 3), ('midnight', 3), ('mf', 3), ('meaning', 3), ('plummeted', 3), ('and\\x89û_', 3), ('therefore', 3), ('healthy', 3), ('photography', 3), ('sheeran', 3), ('decades', 3), ('raw', 3), ('spray', 3), ('outta', 3), ('moore', 3), ('newbie', 3), ('fifth', 3), ('teaching', 3), ('buffer', 3), ('showed', 3), ('chase', 3), ('novel', 3), ('depression', 3), ('has', 3), ('hang', 3), ('chick', 3), ('charlotte', 3), ('bother', 3), ('balloon', 3), ('kanye', 3), ('adventures', 3), ('ontario', 3), ('gateau', 3), ('abandon', 3), ('kicks', 3), ('eggs', 3), ('organic', 3), ('sailors', 3), ('roller', 3), ('jeans', 3), ('pocket', 3), ('dante', 3), ('johnny', 3), ('soo', 3), ('jus', 3), ('thankful', 3), ('posting', 3), ('leadership', 3), ('seeking', 3), ('district', 3), ('comparison', 3), ('iranians', 3), ('taylor', 3), ('protecting', 3), ('op', 3), ('talent', 3), ('bankstown', 3), ('wattle', 3), ('swansea', 3), ('plot', 3), ('psychological', 3), ('starter', 3), ('torch', 3), ('blanket', 3), ('knife', 3), ('earned', 3), ('chains', 3), ('recording', 3), ('esh', 3), ('our', 3), ('experiencing', 3), ('shakes', 3), ('courage', 3), ('horn', 3), ('ptsd', 3), ('sides', 3), ('eight', 3), ('aussies', 3), ('striking', 3), ('strikers', 3), ('strict', 3), ('portion', 3), ('deactivated', 3), ('briefing', 3), ('batters', 3), ('overnight', 3), ('auckland', 3), ('stockton', 3), ('plenty', 3), ('squeeze', 3), ('lines', 3), ('sticks', 3), ('sterling', 3), ('stepped', 3), ('constant', 3), ('stats', 3), ('impending', 3), ('int', 3), ('combo', 3), ('offroad', 3), ('\\nor', 3), ('hamilton', 3), ('spectacular', 3), ('reagan', 3), ('enrt', 3), ('recipes', 3), ('sonia', 3), ('backpack', 3), ('besides', 3), ('busting', 3), ('monkey', 3), ('older', 3), ('exposure', 3), ('zones', 3), ('cope', 3), ('individual', 3), ('evansville', 3), ('maryland', 3), ('solitude', 3), ('sharing', 3), ('refugee', 3), ('pity', 3), ('jr', 3), ('foxy__siren', 3), ('jennifer', 3), ('aniston', 3), ('cheat', 3), ('brady', 3), ('tide', 3), ('whatever', 3), ('sumn', 3), ('detectors', 3), ('required', 3), ('alot', 3), ('gaining', 3), ('slosher', 3), ('freaking', 3), ('iris', 3), ('dolls', 3), ('slayer', 3), ('explosives', 3), ('palestinians', 3), ('hebron', 3), ('damaging', 3), ('closes', 3), ('sinjar', 3), ('punishment', 3), ('foreign', 3), ('summit', 3), ('courts', 3), ('hatred', 3), ('\\n\\nin', 3), ('enormous', 3), ('sweden', 3), ('abortion', 3), ('needle', 3), ('nope', 3), ('quartz', 3), ('shane', 3), ('eastbound', 3), ('hannaph\\x89û\\x9d', 3), ('\\ntropical', 3), ('warning\\n\\nissued', 3), ('midwest', 3), ('penny', 3), ('pictures', 3), ('resort', 3), ('widespread', 3), ('resumed', 3), ('marvel', 3), ('audience', 3), ('bail', 3), ('determine', 3), ('hoffman', 3), ('by\\x89û_', 3), ('pair', 3), ('surgery', 3), ('doctors', 3), ('beard', 3), ('spinning', 3), ('creating', 3), ('len', 3), ('\\nit', 3), ('void', 3), ('languages', 3), ('ignorant', 3), ('antonio', 3), ('chairs', 3), ('deepwater', 3), ('declaring', 3), ('contact', 3), ('sewing', 3), ('stranded', 3), ('salmon', 3), ('battles', 3), ('mercury', 3), ('francisco', 3), ('locker', 3), ('todd', 3), ('circuit', 3), ('undercover', 3), ('oral', 3), ('nail', 3), ('surely', 3), ('nbc', 3), ('xl', 3), ('soviet', 3), ('dublin', 3), ('elite', 3), ('showcase', 3), ('tory', 3), ('liberty', 3), ('declared', 3), ('leo', 3), ('mgm', 3), ('stalled', 3), ('korea', 3), ('sheer', 3), ('abbswinston', 3), ('declined', 3), ('census', 3), ('tg', 3), ('gunshot', 3), ('jupiter', 3), ('imported', 3), ('mcilroy', 3), ('bowling', 3), ('ron', 3), ('closures', 3), ('rivers', 3), ('cum', 3), ('dem', 3), ('environmental', 3), ('arnhem', 3), ('rightways', 3), ('defects', 3), ('testing', 3), ('filmed', 3), ('retweet', 3), ('katrina', 3), ('artwork', 3), ('corey', 3), ('kitchen', 3), ('skies', 3), ('edit', 3), ('gain', 3), ('fortune', 3), ('penn', 3), ('remaining', 3), ('reaches', 3), ('workplace', 3), ('s\\x89û_', 3), ('correlation', 3), ('ohio', 3), ('rec', 3), ('sends', 3), ('behalf', 3), ('sampling', 3), ('raise', 3), ('unawares', 3), ('radioactive', 3), ('gambit', 3), ('metrics', 3), ('wrap', 3), ('flaming', 3), ('punjab', 3), ('platform', 3), ('thurs', 3), ('hrs', 3), ('nears', 3), ('precious', 3), ('choking', 3), ('faces', 3), ('assault', 3), ('transmission', 3), ('schiphol', 3), ('surge', 3), ('ke', 3), ('coquitlam', 3), ('politifiact', 3), ('object', 3), ('repeat', 3), ('vermont', 3), ('lock', 3), ('heroin', 3), ('monitoring', 3), ('poland', 3), ('mud', 3), ('chip', 3), ('arizona', 3), ('laughs', 3), ('pickup', 3), ('photoset', 3), ('climb', 3), ('capture', 3), ('groom', 3), ('jewelry', 3), ('attempting', 3), ('permits', 3), ('hunting', 3), ('receive', 3), ('patrol', 3), ('impressed', 3), ('coral', 3), ('papi', 3), ('bff', 3), ('acoustic', 3), ('barry', 3), ('restive', 3), ('guilty', 3), ('nurses', 3), ('belt', 3), ('oun', 3), ('[ok]', 3), ('painting', 3), ('tribal', 3), ('oregon', 3), ('developed', 3), ('surrounded', 3), ('ooh', 3), ('winner', 3), ('mainland', 3), ('dollars', 3), ('nukes', 3), ('resistant', 3), ('applications', 3), ('crippling', 3), ('pits', 3), ('betrayed', 3), ('anna', 3), ('dose', 3), ('monitor', 3), ('coworker', 3), ('omega', 3), ('rating', 3), ('drivers', 3), ('scream', 3), ('racing', 3), ('lasting', 3), ('outfit', 3), ('spam', 3), ('african', 3), ('vent', 3), ('oc', 3), ('fnet\\n\\nofficials', 3), ('drum', 3), ('marians', 3), ('asylum', 3), ('respected', 3), ('indo', 3), ('pact', 3), ('nowplaying', 3), ('figured', 3), ('glasses', 3), ('expensive', 3), ('upcoming', 3), ('risks', 3), ('incapable', 3), ('cmon', 3), ('perfectly', 3), ('nonsense', 3), ('pledge', 3), ('settle', 3), ('shore', 3), ('nasty', 3), ('jacket', 3), ('medium', 3), ('nhs', 3), ('digits', 3), ('omar', 3), ('features', 3), ('punished', 3), ('available', 3), ('cam', 3), ('counselor', 3), ('intern', 3), ('featuring', 3), ('grandeur', 3), ('pillow', 3), ('honey', 3), ('cap', 3), ('pp', 3), ('extract', 3), ('experiences', 3), ('winston', 3), ('chattanooga', 3), ('grabbers', 3), ('\\x89ûïhatchet', 3), ('teases', 3), ('shaped', 3), ('recorded', 3), ('mic', 3), ('license', 3), ('cladding', 3), ('at\\x89û_', 3), ('longest', 3), ('digit', 3), ('loses', 3), ('recreates', 3), ('anxious', 3), ('nh', 3), ('mourning', 3), ('\\x89û÷politics', 3), ('grief\\x89ûª', 3), ('posters', 3), ('worries', 3), ('ch', 3), ('ms', 3), ('bluff', 3), ('rejected', 3), ('ga', 3), ('ml', 3), ('brighton', 3), ('mike', 3), ('discusses', 3), ('acquisition', 3), ('algae', 3), ('inc', 3), ('cutting', 3), ('display', 3), ('waist', 3), ('travis', 3), ('deputy', 3), ('sheriff', 3), ('instant', 3), ('symphony', 3), ('meg', 3), ('fest', 3), ('minaj', 3), ('dixon', 3), ('earnings', 3), ('fuels', 3), ('fueled', 3), ('clay', 3), ('matt', 3), ('master', 3), ('touching', 3), ('como', 3), ('thrones', 3), ('solar', 3), ('refused', 3), ('hoping', 3), ('buffalo', 3), ('passion', 3), ('gresham', 3), ('hears', 3), ('demi', 3), ('sponsor', 3), ('nnw', 3), ('stayed', 3), ('boring', 3), ('cage', 3), ('explain', 3), ('milkshake', 3), ('monogram', 3), ('species', 3), ('dallas', 3), ('survivor', 3), ('streaming', 3), ('luis', 3), ('lizard', 3), ('aussie', 3), ('sexy', 3), ('\\nyou', 3), ('adults', 3), ('fifteen', 3), ('cpanel', 3), ('agent', 3), ('lately', 3), ('steak', 3), ('estate', 3), ('pcs', 3), ('finishing', 3), ('drops', 3), ('jersey', 3), ('pedestrian', 3), ('bs', 3), ('gym', 3), ('aa', 3), ('ronaldo', 3), ('dam', 3), ('tidal', 3), ('guest', 3), ('challenged', 3), ('darkness', 3), ('influence', 3), ('artist', 3), ('jerry', 3), ('sacrifice', 3), ('locke', 3), ('surges', 3), ('tie', 3), ('blacks', 3), ('guessing', 3), ('testimony', 3), ('stressed', 3), ('premium', 3), ('isil', 3), ('burger', 3), ('afp', 3), ('mate', 3), ('milk', 3), ('ink', 3), ('forgiven', 3), ('inst', 3), ('apch', 3), ('rwy', 3), ('oper', 3), ('taxiways', 3), ('navbl', 3), ('tmp', 3), ('wnd', 3), ('fabric', 3), ('cow', 3), ('welfare', 3), ('loop', 3), ('forth', 3), ('equal', 3), ('earthquakes', 3), ('sail', 3), ('camps', 3), ('si', 3), ('kp', 3), ('dm', 3), ('ik', 3), ('ford', 3), ('dorman', 3), ('acdelco', 3), ('regardless', 3), ('cunts', 3), ('lou', 3), ('apparent', 3), ('foul', 3), ('encouragement', 3), ('vest', 3), ('fee', 3), ('busy', 3), ('andy', 3), ('trillion', 3), ('crosses', 3), ('stays', 3), ('overwhelming', 3), ('acted', 3), ('automation', 3), ('\\n\\nhow', 3), ('idgaf', 3), ('monday', 3), ('about', 3), ('properly', 3), ('excuse', 3), ('typos', 3), ('closing', 3), ('woods', 3), ('healing', 3), ('mentally', 3), ('heartbroken', 3), ('sorrows', 3), ('flashbacks', 3), ('favor', 3), ('fueling', 3), ('noticed', 3), ('buddy', 3), ('receiving', 3), ('cole', 3), ('hack', 3), ('makeup', 3), ('soldier', 3), ('paint', 3), ('halt', 3), ('lvl', 3), ('toe', 3), ('performing', 3), ('stressful', 3), ('desperate', 3), ('function', 3), ('confused', 3), ('ruins', 3), ('realistic', 3), ('dealing', 3), ('sportwatch', 3), ('parked', 3), ('basic', 3), ('enemies', 3), ('hella', 3), ('trade', 3), ('solo', 3), ('cultural', 3), ('raging', 3), ('henry', 3), ('anthony', 3), ('cyclists', 3), ('exploit', 3), ('describing', 3), ('studio', 3), ('commerce', 3), ('jailed', 3), ('agents', 3), ('archive', 3), ('prepares', 3), ('capitalism', 3), ('hermancranston', 3), ('themed', 3), ('hah', 3), ('lifetime', 3), ('headline', 3), ('formed', 3), ('gusty', 3), ('melt', 3), ('eric', 3), ('adding', 3), ('prevention', 3), ('adam', 3), ('bones', 3), ('aw', 3), ('condition', 3), ('claimed', 3), ('regime', 3), ('garage', 3), ('soft', 3), ('salvador', 3), ('firearm', 3), ('rifle', 3), ('bites', 3), ('unstable', 3), ('capacity', 3), ('tooth', 3), ('nights', 3), ('unaware', 3), ('edmonton', 3), ('sponge', 3), ('fossil', 3), ('preview', 3), ('gates', 3), ('yellowstone', 3), ('cad', 3), ('friendly', 3), ('sniping', 3), ('cart', 3), ('december', 3), ('installation', 3), ('compliant', 3), ('financing', 3), ('secured', 3), ('transporting', 3), ('contemplating', 3), ('mourns', 3), ('fairfax', 3), ('factors', 3), ('noted', 3), ('luhan', 3), ('idiot', 3), ('european', 3), ('tunnel', 3), ('bengal', 3), ('cm', 3), ('mamata', 3), ('banerjee', 3), ('dvc', 3), ('esteemed', 3), ('enabled', 3), ('personnel', 3), ('mirage', 3), ('ee', 3), ('blowout', 3), ('fury', 3), ('dundee', 3), ('meals', 3), ('drums', 3), ('jamaica', 3), ('headphones', 3), ('draw', 3), ('itunes', 3), ('grandpa', 3), ('remind', 3), ('nm', 3), ('launched', 3), ('mutual', 3), ('cobra', 3), ('def', 3), ('roanoke', 3), ('verdict', 3), ('camouflage', 3), ('craving', 3), ('restricted', 3), ('pulls', 3), ('referring', 3), ('paris', 3), ('removal', 3), ('commoditiesåêare', 3), ('shaker', 3), ('removed', 3), ('hacked', 3), ('glorious', 3), ('babes', 3), ('fireman', 3), ('tasmania', 3), ('ally', 3), ('os', 3), ('emergencies', 3), ('bicycle', 3), ('meter', 3), ('executives', 3), ('prosecuted', 3), ('bore', 3), ('rio', 3), ('unfolded', 3), ('cared', 3), ('apart', 3), ('hybrid', 3), ('blah', 3), ('gray', 3), ('accuses', 3), ('meant', 3), ('marine', 3), ('blocks', 3), ('headlines', 3), ('locomotives', 3), ('magne', 3), ('traction', 3), ('core', 3), ('yep', 3), ('allies', 3), ('refuse', 3), ('uh', 3), ('fkn', 3), ('ty', 3), ('rice', 3), ('externally', 3), ('gig', 3), ('tweeting', 3), ('fallacy', 3), ('meanwhile', 3), ('waits', 3), ('ironically', 3), ('blks', 3), ('lgl', 3), ('should', 3), ('xxx', 3), ('labour', 3), ('directly', 3), ('hillary', 3), ('both', 3), ('produce', 3), ('buddys', 3), ('bestnaijamade', 3), ('bronx', 3), ('en\\x89û_', 2), ('reopens', 2), ('help\\x89ûª', 2), ('responder', 2), ('peer', 2), ('andrew', 2), ('wilson', 2), ('dock', 2), ('\\x89û÷good', 2), ('samaritans\\x89ûª', 2), ('johannesburg', 2), ('state\\x89û_', 2), ('horrors', 2), ('elm', 2), ('paved', 2), ('hypocrisy', 2), ('recommended', 2), ('pickerel', 2), ('pancakes', 2), ('freshman', 2), ('\\nwe', 2), ('candidate', 2), ('fdny', 2), ('location', 2), ('forreal', 2), ('incase', 2), ('buck', 2), ('\\x89ûª', 2), ('yakub', 2), ('rolls', 2), ('surrounding', 2), ('||', 2), ('encounters', 2), ('attending', 2), ('idol', 2), ('championship', 2), ('golem', 2), ('graveyard', 2), ('chuck', 2), ('zimbabwe', 2), ('peak', 2), ('malik', 2), ('perrie', 2), ('yup', 2), ('jumped', 2), ('upwards', 2), ('unlike', 2), ('reaction', 2), ('software', 2), ('donation', 2), ('attendance', 2), ('gmmbc', 2), ('inspiring', 2), ('darkest', 2), ('fairy', 2), ('tale', 2), ('intentions', 2), ('villa', 2), ('gif', 2), ('spit', 2), ('honour', 2), ('baruch', 2), ('goldstein', 2), ('rey', 2), ('smiling', 2), ('weekends', 2), ('new\\x89û_', 2), ('bugs', 2), ('invited', 2), ('expo', 2), ('equally', 2), ('compete', 2), ('rapper', 2), ('\\nand', 2), ('patients', 2), ('pet', 2), ('lamb', 2), ('intro', 2), ('teslas', 2), ('vice', 2), ('northbound', 2), ('wr', 2), ('wpri', 2), ('===', 2), ('twain', 2), ('wasn\\x89ûªt', 2), ('rig', 2), ('intersections', 2), ('quit', 2), ('midget', 2), ('dl', 2), ('tlc', 2), ('soooo', 2), ('battleship', 2), ('gamescom', 2), ('transformation', 2), ('shirts', 2), ('faulty', 2), ('joint', 2), ('esports', 2), ('woodlawn', 2), ('shorts', 2), ('golden', 2), ('geometric', 2), ('totes', 2), ('zippers', 2), ('casual', 2), ('guides', 2), ('sfgate', 2), ('cockpit', 2), ('altamonte', 2), ('wnba', 2), ('witnessed', 2), ('worn', 2), ('witness', 2), ('increasingly', 2), ('disregard', 2), ('brooke', 2), ('rivalry', 2), ('petty', 2), ('huffman', 2), ('wipp', 2), ('witnesses', 2), ('perquisite', 2), ('oks', 2), ('hike', 2), ('opponents', 2), ('douchebag', 2), ('hahahaha', 2), ('fiery', 2), ('embrace', 2), ('unprecedented', 2), ('reminding', 2), ('collab', 2), ('hempoil', 2), ('chopped', 2), ('brick', 2), ('dire', 2), ('downfall', 2), ('hahahah', 2), ('worrying', 2), ('distributed', 2), ('departments', 2), ('legend', 2), ('plaguing', 2), ('procedures', 2), ('devices', 2), ('bruise', 2), ('lmfaoooo', 2), ('microphone', 2), ('pertains', 2), ('whenever', 2), ('youre', 2), ('inspiration', 2), ('pill', 2), ('likes', 2), ('specialists', 2), ('gtfo', 2), ('gorgeous', 2), ('grabbed', 2), ('extends', 2), ('sauce', 2), ('corner', 2), ('excuses', 2), ('transgender', 2), ('lizzie', 2), ('ethiopian', 2), ('gulf', 2), ('yelling', 2), ('ethics', 2), ('recorder', 2), ('jake', 2), ('cooking', 2), ('crucial', 2), ('compensation', 2), ('soak', 2), ('whelen', 2), ('model', 2), ('helicopters', 2), ('teens', 2), ('cables', 2), ('squirrel', 2), ('dentists', 2), ('caribbean', 2), ('isla', 2), ('vista', 2), ('hearthstone', 2), ('diverse', 2), ('irony', 2), ('hometown', 2), ('catalinas', 2), ('piggy', 2), ('kermit', 2), ('facility', 2), ('wftv', 2), ('tn', 2), ('porn', 2), ('stole', 2), ('wfp', 2), ('komen', 2), ('na', 2), ('crossing', 2), ('csx', 2), ('unfortunately', 2), ('journey', 2), ('applaud', 2), ('celtic', 2), ('rb', 2), ('txt', 2), ('php', 2), ('script', 2), ('fathers', 2), ('thailand', 2), ('armory', 2), ('branch', 2), ('underwriter', 2), ('tx', 2), ('peds', 2), ('fellowship', 2), ('fitness', 2), ('ashton', 2), ('irwin', 2), ('idaho', 2), ('civilization', 2), ('mock', 2), ('agencies', 2), ('walks', 2), ('yours', 2), ('paying', 2), ('coverage', 2), ('innocents', 2), ('endorses', 2), ('behavior', 2), ('awareness', 2), ('acc', 2), ('unprepared', 2), ('emp', 2), ('pushing', 2), ('singles', 2), ('atleast', 2), ('tha', 2), ('wce', 2), ('endurance', 2), ('watertown', 2), ('pandemic', 2), ('conservation', 2), ('urged', 2), ('sucking', 2), ('objects', 2), ('grilled', 2), ('minority', 2), ('bb', 2), ('fool', 2), ('material', 2), ('pawsox', 2), ('durham', 2), ('everytime', 2), ('earn', 2), ('scissors', 2), ('netflix', 2), ('dedicated', 2), ('stereo', 2), ('mornings', 2), ('badass', 2), ('firey', 2), ('inferno', 2), ('smiles', 2), ('volunteers', 2), ('examiner', 2), ('rioters', 2), ('psalm', 2), ('vince', 2), ('mcmahon', 2), ('billionaire', 2), ('mindset', 2), ('slain', 2), ('jhaustin', 2), ('ames', 2), ('on\\x89û_', 2), ('\\nrescuers', 2), ('torching', 2), ('bk', 2), ('strictly', 2), ('vegetarian', 2), ('prisoners', 2), ('persecution', 2), ('silenced', 2), ('iraqi', 2), ('mop', 2), ('versions', 2), ('gp', 2), ('various', 2), ('shelli', 2), ('alliance', 2), ('corruption', 2), ('unrest', 2), ('twentynine', 2), ('ssw', 2), ('anza', 2), ('chairman', 2), ('sputnik', 2), ('opera', 2), ('\\x89û÷extremely', 2), ('offensive\\x89ûª', 2), ('centers', 2), ('transformed', 2), ('unconscious', 2), ('fd', 2), ('lafayette', 2), ('canoe', 2), ('requiring', 2), ('irvine', 2), ('pulwama', 2), ('jets', 2), ('securing', 2), ('pathogen', 2), ('unr', 2), ('weston', 2), ('[wy]', 2), ('pennington', 2), ('p\\x89û_', 2), ('disconnected', 2), ('favorites', 2), ('universal', 2), ('sundays', 2), ('seasonfrom', 2), ('onshit', 2), ('monument', 2), ('perished', 2), ('kiev', 2), ('nia', 2), ('quizzed', 2), ('denies', 2), ('visibility', 2), ('unity', 2), ('chills', 2), ('loaded', 2), ('twill', 2), ('denim', 2), ('jackets', 2), ('encore', 2), ('twia', 2), ('twelve', 2), ('uranium', 2), ('digging', 2), ('dh', 2), ('kurdish', 2), ('tunisia', 2), ('blueprint', 2), ('indy', 2), ('carb', 2), ('fu', 2), ('dopey', 2), ('democratic', 2), ('strength', 2), ('tomatoes', 2), ('lebanon', 2), ('warwick', 2), ('intl', 2), ('fog', 2), ('trim', 2), ('determined', 2), ('wasnt', 2), ('sucked', 2), ('sections', 2), ('pumper', 2), ('plastic', 2), ('lakes', 2), ('educated', 2), ('queens', 2), ('pileup', 2), ('wy', 2), ('\\x89ûïmake', 2), ('turkmen', 2), ('vandalized', 2), ('surfers', 2), ('grains', 2), ('patna', 2), ('ministry', 2), ('interval', 2), ('florin', 2), ('elkhorn', 2), ('walerga', 2), ('trailers', 2), ('trek', 2), ('sympathy', 2), ('nino', 2), ('clue', 2), ('amends', 2), ('install', 2), ('thankfully', 2), ('everybody', 2), ('ton', 2), ('auburn', 2), ('dressed', 2), ('vods', 2), ('marriage', 2), ('bundle', 2), ('today\\x89ûªs', 2), ('todays', 2), ('creepy', 2), ('document', 2), ('november', 2), ('sanitised', 2), ('narrative', 2), ('whomever', 2), ('skill', 2), ('perform', 2), ('shld', 2), ('tht', 2), ('teddy', 2), ('ouvindo', 2), ('attendees', 2), ('gymnastics', 2), ('wider', 2), ('authentic', 2), ('mil', 2), ('cracking', 2), ('customers', 2), ('classes', 2), ('appeal', 2), ('slipping', 2), ('bananas', 2), ('technique', 2), ('pinpoint', 2), ('minneapolis', 2), ('tbt', 2), ('suspects', 2), ('worldnews', 2), ('arab', 2), ('beached', 2), ('persistent', 2), ('attend', 2), ('protesting', 2), ('anonymous', 2), ('techesback', 2), ('rifles', 2), ('replied', 2), ('nathan', 2), ('reckless', 2), ('hmu', 2), ('dart', 2), ('carefully', 2), ('setlist', 2), ('resulting', 2), ('poorly', 2), ('suppose', 2), ('looney', 2), ('tunes', 2), ('flowers', 2), ('potatoes', 2), ('devotion', 2), ('lara', 2), ('conversations', 2), ('intend', 2), ('sweaty', 2), ('\\nas', 2), ('gr', 2), ('knocked', 2), ('serve', 2), ('rolo', 2), ('vault', 2), ('screening', 2), ('beautifully', 2), ('condos', 2), ('racial', 2), ('syndrome', 2), ('thief', 2), ('fled', 2), ('beings', 2), ('ant', 2), ('hurricanes', 2), ('names', 2), ('terrified', 2), ('permanently', 2), ('wise', 2), ('te', 2), ('assume', 2), ('fil', 2), ('abortions', 2), ('alley', 2), ('evacuating', 2), ('confirmation', 2), ('exploding', 2), ('kittens', 2), ('reckon', 2), ('relive', 2), ('screwed', 2), ('cairo', 2), ('greater', 2), ('comfortable', 2), ('unto', 2), ('thereof', 2), ('oliver', 2), ('origin', 2), ('preservation', 2), ('memes', 2), ('yankees', 2), ('rays', 2), ('contract', 2), ('inflicted', 2), ('castle', 2), ('sibling', 2), ('zealand', 2), ('marvellous', 2), ('campbell', 2), ('cards', 2), ('daesh', 2), ('pitcher', 2), ('lewis', 2), ('holistic', 2), ('erupting', 2), ('pixar', 2), ('label', 2), ('korean', 2), ('backs', 2), ('hardest', 2), ('unnecessary', 2), ('vortex', 2), ('focuses', 2), ('difficult', 2), ('carrier', 2), ('maru', 2), ('honshu', 2), ('wannabe', 2), ('rich', 2), ('rand', 2), ('wages', 2), ('rcmp', 2), ('tch', 2), ('whitbourne', 2), ('approval', 2), ('ignore', 2), ('rover', 2), ('claiming', 2), ('driverless', 2), ('suruc', 2), ('chp', 2), ('bg', 2), ('america\\x89ûªs', 2), ('earnest', 2), ('pletch\\x89ûªs', 2), ('blooded', 2), ('aspect', 2), ('ratio', 2), ('feeds', 2), ('mixtape', 2), ('\\neven', 2), ('erased', 2), ('vocal', 2), ('slept', 2), ('witnessing', 2), ('publicizing', 2), ('behold', 2), ('endless', 2), ('angels', 2), ('dannic', 2), ('misses', 2), ('signing', 2), ('household', 2), ('soil', 2), ('tacos', 2), ('revolt', 2), ('entirely', 2), ('contribute', 2), ('tutor', 2), ('highlight', 2), ('wielding', 2), ('longs', 2), ('hoes', 2), ('careers', 2), ('manifestation', 2), ('chonce', 2), ('spends', 2), ('reynolds', 2), ('drifting', 2), ('depressing', 2), ('poplar', 2), ('tumbling', 2), ('checking', 2), ('speech', 2), ('reinstate', 2), ('efak', 2), ('hockey', 2), ('grief', 2), ('position', 2), ('underwater', 2), ('seeds', 2), ('indoors', 2), ('gum', 2), ('edm', 2), ('bombings', 2), ('ferrell', 2), ('doug', 2), ('uniforms', 2), ('bartender', 2), ('described', 2), ('shaping', 2), ('rude', 2), ('regard', 2), ('mississauga', 2), ('browsers', 2), ('vietnamese', 2), ('feature', 2), ('smug', 2), ('summary', 2), ('freestyle', 2), ('iceland', 2), ('chilling', 2), ('coaster', 2), ('salty', 2), ('dryer', 2), ('dame', 2), ('matches', 2), ('disruptive', 2), ('fella', 2), ('abia', 2), ('inec', 2), ('react', 2), ('defending', 2), ('cites', 2), ('forests', 2), ('overlooked', 2), ('medals', 2), ('honor', 2), ('mitt', 2), ('[video]', 2), ('bashes', 2), ('chucker', 2), ('ru', 2), ('tales', 2), ('phantom', 2), ('gasoline', 2), ('male', 2), ('be\\x89û_', 2), ('kosher', 2), ('sweater', 2), ('virgil', 2), ('task', 2), ('presents', 2), ('norcal', 2), ('salvadoran', 2), ('danny', 2), ('laura', 2), ('remorse', 2), ('ghetto', 2), ('reunite', 2), ('suresh', 2), ('ignored', 2), ('calorie', 2), ('crusty', 2), ('supermarket', 2), ('arena', 2), ('sep', 2), ('bobcats', 2), ('backyards', 2), ('fo', 2), ('detonates', 2), ('architecture', 2), ('activities', 2), ('counts', 2), ('studying', 2), ('therapies', 2), ('pine', 2), ('stu', 2), ('strongly', 2), ('condemn', 2), ('poss', 2), ('views', 2), ('liability', 2), ('whose', 2), ('strengthening', 2), ('partnerships', 2), ('strawberries', 2), ('hilton', 2), ('pounding', 2), ('traverse', 2), ('battered', 2), ('northland', 2), ('layers', 2), ('msg', 2), ('does', 2), ('mics', 2), ('ace', 2), ('incite', 2), ('heels', 2), ('domestic', 2), ('reopen', 2), ('calumet', 2), ('providing', 2), ('fame', 2), ('carpet', 2), ('fundraiser', 2), ('oso', 2), ('travelling', 2), ('victoria', 2), ('droid', 2), ('purposes', 2), ('xv', 2), ('inch', 2), ('sham', 2), ('mafia', 2), ('portions', 2), ('prepper', 2), ('fiction', 2), ('crowns', 2), ('sooo', 2), ('rutherford', 2), ('quicker', 2), ('lyrics', 2), ('butterfinger', 2), ('pictured', 2), ('pierce', 2), ('veil', 2), ('beg', 2), ('feelin', 2), ('native', 2), ('urine', 2), ('skirt', 2), ('bernardino', 2), ('usage', 2), ('have\\x89û_', 2), ('finished', 2), ('capturing', 2), ('intimate', 2), ('soaring', 2), ('sudden', 2), ('layout', 2), ('thirsty', 2), ('leaked', 2), ('mobile', 2), ('ifak', 2), ('wilshere', 2), ('rank', 2), ('dothraki', 2), ('westeros', 2), ('undo', 2), ('kai', 2), ('ff', 2), ('ren', 2), ('rant', 2), ('thighs', 2), ('backyard', 2), ('tc', 2), ('exercised', 2), ('austin', 2), ('contain', 2), ('artificial', 2), ('ad', 2), ('fnet\\n\\ncrews', 2), ('nsw', 2), ('smelling', 2), ('goat', 2), ('suh', 2), ('irrelevant', 2), ('postcards', 2), ('polaroids', 2), ('reflects', 2), ('rockstar', 2), ('skinny', 2), ('skate', 2), ('taliban', 2), ('compound', 2), ('concluded', 2), ('cement', 2), ('righteous', 2), ('beneath', 2), ('concussion', 2), ('cans', 2), ('shes', 2), ('cuffs', 2), ('reading\\n\\napocalypse', 2), ('probs', 2), ('explosions', 2), ('grenades', 2), ('thrown', 2), ('jihad', 2), ('psalms', 2), ('tbh', 2), ('oz', 2), ('shawie', 2), ('stainless', 2), ('ricky', 2), ('dominant', 2), ('sh', 2), ('breakdown', 2), ('bans', 2), ('ads', 2), ('hanna', 2), ('cancelled', 2), ('counties', 2), ('outflow', 2), ('ski', 2), ('northeast', 2), ('logan', 2), ('skyline', 2), ('returning', 2), ('attractive', 2), ('headquarters', 2), ('senators', 2), ('feinstein', 2), ('alarmed', 2), ('harassed', 2), ('fahlo', 2), ('queenåê', 2), ('loading', 2), ('harun', 2), ('ìàekdar', 2), ('yh', 2), ('rl', 2), ('fir', 2), ('cannon', 2), ('dodging', 2), ('affordable', 2), ('funniest', 2), ('knockout', 2), ('regulatory', 2), ('commission', 2), ('reshape', 2), ('mineral', 2), ('crystal', 2), ('bouta', 2), ('prairie', 2), ('bal', 2), ('savings', 2), ('guatemala', 2), ('burton', 2), ('soaking', 2), ('elizabeth', 2), ('reform', 2), ('jose', 2), ('carted', 2), ('sammy', 2), ('salute', 2), ('brass', 2), ('fur', 2), ('badge', 2), ('customs', 2), ('phew', 2), ('sanctioned', 2), ('moscow', 2), ('surrender', 2), ('hospitals', 2), ('lapse', 2), ('popularmmos', 2), ('m\\x89û_', 2), ('skanndtyagi', 2), ('saginaw', 2), ('cooper', 2), ('rammed', 2), ('halfway', 2), ('mmda', 2), ('edsa', 2), ('cubao', 2), ('occupied', 2), ('coyotes', 2), ('lizards', 2), ('cnbc', 2), ('exclusive', 2), ('tire', 2), ('exciting', 2), ('scifi', 2), ('glacier', 2), ('bicep', 2), ('documenting', 2), ('patterns', 2), ('dances', 2), ('nasasolarsystem', 2), ('rss', 2), ('illegally', 2), ('certificate', 2), ('rotator', 2), ('bacup', 2), ('rory', 2), ('ronda', 2), ('elbow', 2), ('fez', 2), ('dave', 2), ('rhymes', 2), ('attic', 2), ('swells', 2), ('statements', 2), ('confederate', 2), ('moreland', 2), ('timesofindia', 2), ('rite', 2), ('knw', 2), ('helped', 2), ('thuggin', 2), ('intervene', 2), ('vitesse', 2), ('supporters', 2), ('\\x89û¢', 2), ('buildup', 2), ('rick', 2), ('herald', 2), ('\\n\\nwhile', 2), ('revel', 2), ('wmv', 2), ('retweeted', 2), ('retro', 2), ('bully', 2), ('tribute', 2), ('engineers', 2), ('wdsu', 2), ('vulcan', 2), ('overturned', 2), ('rene', 2), ('mar', 2), ('linkury', 2), ('remembrance', 2), ('beit', 2), ('baggage', 2), ('cab', 2), ('goku', 2), ('\\nwhat', 2), ('occurrence', 2), ('iclown', 2), ('infinity', 2), ('singled', 2), ('\\n\\nplane', 2), ('buzzfeed', 2), ('hindu', 2), ('houze', 2), ('attila', 2), ('oneself', 2), ('few', 2), ('vibez', 2), ('entity', 2), ('laundry', 2), ('mankind', 2), ('reaad', 2), ('plsss', 2), ('raìœl', 2), ('condolence', 2), ('cuban', 2), ('possibility', 2), ('blossom', 2), ('photographs', 2), ('insight', 2), ('ranking', 2), ('gust', 2), ('[daily', 2), ('trust]', 2), ('railways', 2), ('thi\\x89û_', 2), ('murders', 2), ('quoted', 2), ('pcps', 2), ('physicians', 2), ('vi', 2), ('quake', 2), ('billy', 2), ('gordon', 2), ('realtime', 2), ('alerts', 2), ('researchers', 2), ('inquiry', 2), ('redeemeth', 2), ('servants', 2), ('painful', 2), ('kodiak', 2), ('protesters', 2), ('mart', 2), ('rages', 2), ('fire\\x89û_', 2), ('marshall', 2), ('pens', 2), ('hayden', 2), ('recalled', 2), ('hiv', 2), ('mole', 2), ('potus', 2), ('pos', 2), ('pope', 2), ('womb', 2), ('allegations', 2), ('fooled', 2), ('violations', 2), ('evanston', 2), ('bicycles', 2), ('cus', 2), ('dey', 2), ('dope', 2), ('portugal', 2), ('kisii', 2), ('expand', 2), ('arts', 2), ('saver', 2), ('blazer', 2), ('smartest', 2), ('bubble', 2), ('kuwait', 2), ('spilled', 2), ('crude', 2), ('pl', 2), ('windy', 2), ('clicks', 2), ('hay', 2), ('tools', 2), ('premiere', 2), ('kurd', 2), ('destructive', 2), ('cottage', 2), ('ruebs', 2), ('endures', 2), ('linden', 2), ('asshole', 2), ('sketch', 2), ('nostrils', 2), ('mothernaturenetwork', 2), ('lavenderpoetrycafe', 2), ('hysteria', 2), ('naval', 2), ('vessel', 2), ('concrete', 2), ('copper', 2), ('princess', 2), ('philadelphia', 2), ('killings', 2), ('whipped', 2), ('perspectives', 2), ('petersburg', 2), ('applied', 2), ('shaw', 2), ('donå«t', 2), ('buyout', 2), ('pendleton', 2), ('ng', 2), ('knoxville', 2), ('pup', 2), ('rudd', 2), ('roberts', 2), ('patriot', 2), ('governments', 2), ('outcomes', 2), ('patent', 2), ('pending', 2), ('pasco', 2), ('parental', 2), ('offspring', 2), ('rams', 2), ('pakpattan', 2), ('correspondent', 2), ('villagers', 2), ('ruling', 2), ('kasab', 2), ('denial', 2), ('pagasa', 2), ('negros', 2), ('landslides', 2), ('pleaded', 2), ('interstate', 2), ('overall', 2), ('fading', 2), ('mistakes', 2), ('pediatric', 2), ('deeds', 2), ('bump', 2), ('io', 2), ('his', 2), ('cancels', 2), ('lincoln', 2), ('witch', 2), ('vicinity', 2), ('congrats', 2), ('vikings', 2), ('noble', 2), ('shoreline', 2), ('karma', 2), ('escaped', 2), ('intelligence', 2), ('homeland', 2), ('grimes', 2), ('voters', 2), ('screenshot', 2), ('derek', 2), ('ferry', 2), ('knocking', 2), ('vessels', 2), ('billboard', 2), ('sneak', 2), ('spoiled', 2), ('humble', 2), ('freeway', 2), ('audi', 2), ('hillside', 2), ('bright', 2), ('southbound', 2), ('creek', 2), ('pkwy', 2), ('council', 2), ('omgggg', 2), ('mostly', 2), ('nixon', 2), ('hiding', 2), ('dungeons', 2), ('explores', 2), ('rayner', 2), ('hopped', 2), ('damnnnn', 2), ('its', 2), ('meowing', 2), ('applies', 2), ('types', 2), ('poem', 2), ('dignity', 2), ('ohh', 2), ('ipod', 2), ('waffle', 2), ('circa', 2), ('gosh', 2), ('melting', 2), ('disappointed', 2), ('smugglers', 2), ('engage', 2), ('allegedly', 2), ('khan', 2), ('skipping', 2), ('bummer', 2), ('ofa', 2), ('oem', 2), ('lamps', 2), ('switch', 2), ('fluid', 2), ('optic', 2), ('nerve', 2), ('territory', 2), ('commonwealth', 2), ('nvidia', 2), ('shield', 2), ('bits', 2), ('scorpions', 2), ('kodak', 2), ('graph', 2), ('pm]', 2), ('broadcasting', 2), ('premier', 2), ('temps', 2), ('bread', 2), ('berlin', 2), ('opener', 2), ('tip', 2), ('btwn', 2), ('prevail', 2), ('citation', 2), ('billings', 2), ('bts', 2), ('insomnia', 2), ('selling', 2), ('nick', 2), ('announces', 2), ('nfl', 2), ('caring', 2), ('tinder', 2), ('screw', 2), ('\\n\\nwhat', 2), ('cleric', 2), ('neighbors', 2), ('marijuana', 2), ('decent', 2), ('mullah', 2), ('glimpses', 2), ('banquet', 2), ('newberg', 2), ('jacque', 2), ('betz', 2), ('diesel', 2), ('breakfast', 2), ('chases', 2), ('milwaukee', 2), ('inspection', 2), ('frontlines', 2), ('pamela', 2), ('texans', 2), ('challenges', 2), ('sales', 2), ('magnum', 2), ('opus', 2), ('tita', 2), ('pillows', 2), ('tlvfaces', 2), ('sms', 2), ('trinity', 2), ('spreads', 2), ('presence', 2), ('diablo', 2), ('mas', 2), ('woodland', 2), ('camo', 2), ('cp', 2), ('outlet', 2), ('leaf', 2), ('rash', 2), ('humid', 2), ('flared', 2), ('oli', 2), ('ekiti', 2), ('neighbor', 2), ('jams', 2), ('cte', 2), ('lame', 2), ('nazi', 2), ('float', 2), ('nasahurricane', 2), ('formation', 2), ('nankana', 2), ('sahib', 2), ('bye', 2), ('nairobi', 2), ('msf', 2), ('assisting', 2), ('aust', 2), ('occur', 2), ('holidays', 2), ('sis', 2), ('closet', 2), ('niece', 2), ('mashup', 2), ('controllers', 2), ('mariah', 2), ('featured', 2), ('favs', 2), ('volunteer', 2), ('gimme', 2), ('beast', 2), ('socket', 2), ('skull', 2), ('rumor', 2), ('bestfriends', 2), ('avi', 2), ('africans', 2), ('injustice', 2), ('lockdown', 2), ('illinois', 2), ('ttes', 2), ('helpline', 2), ('bluetooth', 2), ('hospitalized', 2), ('stepping', 2), ('enforcement', 2), ('insult', 2), ('\\x89û÷it\\x89ûªs', 2), ('pops', 2), ('shira', 2), ('motors', 2), ('manual', 2), ('brake', 2), ('utv', 2), ('tak', 2), ('predator', 2), ('gem', 2), ('bu', 2), ('osha', 2), ('are\\x89û_', 2), ('comp', 2), ('pot', 2), ('monkeys', 2), ('invest', 2), ('\\nmom', 2), ('targeted', 2), ('moderate', 2), ('spreading', 2), ('ethiopia', 2), ('overpowered', 2), ('greed', 2), ('micom', 2), ('contrast', 2), ('jumper', 2), ('lifts', 2), ('glided', 2), ('furious', 2), ('ocampo', 2), ('mx', 2), ('illness', 2), ('messi', 2), ('aggressive', 2), ('snuff', 2), ('mens', 2), ('canvas', 2), ('aggressively', 2), ('wth', 2), ('megadeth', 2), ('keen', 2), ('snd', 2), ('beacon', 2), ('ovo', 2), ('begging', 2), ('\\nfranklin', 2), ('aladdin', 2), ('stocks', 2), ('texting', 2), ('meets', 2), ('mustang', 2), ('emerges', 2), ('che', 2), ('troy', 2), ('manipur', 2), ('incessant', 2), ('marquei', 2), ('visto', 2), ('kissed', 2), ('marlon', 2), ('raiders', 2), ('juice', 2), ('butterflies', 2), ('musicians', 2), ('talkin', 2), ('ghostwriter', 2), ('najib', 2), ('disappeared', 2), ('wheeler', 2), ('muzzamil', 2), ('offr', 2), ('maid', 2), ('tremor', 2), ('wmur', 2), ('swayback', 2), ('diaporama', 2), ('sixpenceee', 2), ('located', 2), ('volcanoåêinåêrussia', 2), ('bayonet', 2), ('utc]', 2), ('epicenter', 2), ('interlaken', 2), ('examples', 2), ('ghost', 2), ('effective', 2), ('esteem', 2), ('vantage', 2), ('apt', 2), ('balcony', 2), ('vacant', 2), ('unrelenting', 2), ('leftover', 2), ('\\n\\nthe', 2), ('seal', 2), ('artillery', 2), ('cartridges', 2), ('coursing', 2), ('weyrey_gidi', 2), ('locks', 2), ('shred', 2), ('llf', 2), ('mello', 2), ('originally', 2), ('globe', 2), ('thine', 2), ('motivation', 2), ('vital', 2), ('cursed', 2), ('edward', 2), ('adoption', 2), ('icymi', 2), ('legio', 2), ('leeds', 2), ('lee', 2), ('comedy', 2), ('tories', 2), ('thirty', 2), ('wh', 2), ('yorker', 2), ('gained', 2), ('welcomes', 2), ('le', 2), ('venice', 2), ('fallout', 2), ('biolab', 2), ('select', 2), ('mcdonalds', 2), ('ralph', 2), ('outbid', 2), ('fa', 2), ('chan', 2), ('nan', 2), ('nno', 2), ('appreciated', 2), ('ornament', 2), ('logo', 2), ('retail', 2), ('ds', 2), ('thriller', 2), ('tan', 2), ('vida', 2), ('kendall', 2), ('jenner', 2), ('kelly', 2), ('mild', 2), ('extender', 2), ('kc', 2), ('loudest', 2), ('punisher', 2), ('hahah', 2), ('holmes', 2), ('jury', 2), ('oaks', 2), ('bills', 2), ('ruby', 2), ('snowball', 2), ('julian', 2), ('knight', 2), ('joseph', 2), ('shade', 2), ('mars', 2), ('gel', 2), ('jkl', 2), ('flights', 2), ('raung', 2), ('biggie', 2), ('sally', 2), ('raped', 2), ('cherokee', 2), ('file', 2), ('chrysler', 2), ('hackers', 2), ('jax', 2), ('raising', 2), ('tolled', 2), ('estimates', 2), ('colder', 2), ('dye', 2), ('downstairs', 2), ('telly', 2), ('candle', 2), ('dickheads', 2), ('basis', 2), ('eerie', 2), ('subway', 2), ('awkward', 2), ('bets', 2), ('scares', 2), ('enemity', 2), ('ac', 2), ('closer', 2), ('nothin', 2), ('unable', 2), ('completed', 2), ('ironic', 2), ('acquire', 2), ('outage', 2), ('australia\\x89ûªs', 2), ('latin', 2), ('asteroid', 2), ('surveys', 2), ('\\ndid', 2), ('riyadh', 2), ('dolphin', 2), ('complaints', 2), ('subtle', 2), ('distress', 2), ('request', 2), ('actor', 2), ('firms', 2), ('\\x89û¢åê', 2), ('morn', 2), ('interlocking', 2), ('veld', 2), ('cld', 2), ('sct', 2), ('bkn', 2), ('infections', 2), ('dial', 2), ('wrist', 2), ('nylon', 2), ('cash', 2), ('clueless', 2), ('indiscriminate', 2), ('oth', 2), ('inciweb', 2), ('rogue', 2), ('siskiyou', 2), ('area\\x89û_', 2), ('bounds', 2), ('nats', 2), ('ina', 2), ('\\n\\nyou', 2), ('daniel', 2), ('fragile', 2), ('wooden', 2), ('beam', 2), ('islam', 2), ('develop', 2), ('rails', 2), ('tornados', 2), ('economies', 2), ('bago', 2), ('ari', 2), ('kurt', 2), ('taught', 2), ('placing', 2), ('slipped', 2), ('alien', 2), ('dhs', 2), ('troll', 2), ('pol', 2), ('bmw', 2), ('delphi', 2), ('motorcraft', 2), ('wpt', 2), ('ign', 2), ('sen', 2), ('improve', 2), ('smokes', 2), ('breath', 2), ('xoxo', 2), ('au', 2), ('goats', 2), ('dislike', 2), ('matthew', 2), ('suspense', 2), ('fran', 2), ('curiosity', 2), ('schwarber', 2), ('misled', 2), ('smart', 2), ('slander', 2), ('metlife', 2), ('genocide', 2), ('hana', 2), ('[maui', 2), ('hi]', 2), ('cheer', 2), ('diva', 2), ('reacted', 2), ('certified', 2), ('mooresville', 2), ('iredell', 2), ('been', 2), ('theological', 2), ('spell', 2), ('dried', 2), ('cheated', 2), ('liable', 2), ('havin', 2), ('der', 2), ('countless', 2), ('chilis', 2), ('spirits', 2), ('hw', 2), ('through', 2), ('paints', 2), ('friggin', 2), ('description', 2), ('ux', 2), ('income', 2), ('stare', 2), ('gloria', 2), ('earbuds', 2), ('historical', 2), ('peacefully', 2), ('dreaming', 2), ('scare', 2), ('gary', 2), ('entrances', 2), ('preaching', 2), ('afford', 2), ('despair', 2), ('tattoo', 2), ('hav', 2), ('bloke', 2), ('bud', 2), ('addiction', 2), ('sequel', 2), ('piss', 2), ('slammed', 2), ('glue', 2), ('rapping', 2), ('punch', 2), ('reject', 2), ('brownie', 2), ('rated', 2), ('nuggets', 2), ('moist', 2), ('delete', 2), ('anyways', 2), ('fruits', 2), ('spots', 2), ('pony', 2), ('avengers', 2), ('sony', 2), ('sws', 2), ('alpha', 2), ('mk', 2), ('pharaoh', 2), ('destiny', 2), ('futuristic', 2), ('dukes', 2), ('fema', 2), ('ghosts', 2), ('dakota', 2), ('zombies', 2), ('fold', 2), ('donnie', 2), ('notes', 2), ('exhausted', 2), ('theme', 2), ('upstairs', 2), ('cpr', 2), ('follower', 2), ('swooping', 2), ('breathing', 2), ('grills', 2), ('uploading', 2), ('stroke', 2), ('enter', 2), ('kiddie', 2), ('pete', 2), ('tides', 2), ('goddamn', 2), ('bcuz', 2), ('chose', 2), ('demons', 2), ('jar', 2), ('robot', 2), ('satoshis', 2), ('goodbye', 2), ('capable', 2), ('bury', 2), ('appropriation', 2), ('assistant', 2), ('walkthrough', 2), ('hug', 2), ('volcanoes', 2), ('lloyd', 2), ('nervous', 2), ('crest', 2), ('pirate', 2), ('commuters', 2), ('beginners', 2), ('hst', 2), ('kimery', 2), ('rogan', 2), ('testimonials', 2), ('mute', 2), ('whatsapp', 2), ('softenza', 2), ('careless', 2), ('campfire', 2), ('conservative', 2), ('mosquitoes', 2), ('dixie', 2), ('technologies', 2), ('labs', 2), ('airplaneåê', 2), ('traveling', 2), ('salvi', 2), ('bistro', 2), ('holmgren', 2), ('santiago', 2), ('b\\x89û_', 2), ('hitchbot', 2), ('emperor', 2), ('dealings', 2), ('pan', 2), ('rained', 2), ('lauren', 2), ('sprint', 2), ('toss', 2), ('canadian', 2), ('timing', 2), ('loyalty', 2), ('nostalgia', 2), ('corn', 2), ('reads', 2), ('advised', 2), ('relentless', 2), ('wb', 2), ('increasing', 2), ('shells', 2), ('healed', 2), ('bitchy', 2), ('perla', 2), ('justifying', 2), ('robbed', 2), ('admit', 2), ('cracks', 2), ('ronnie', 2), ('albertans', 2), ('development', 2), ('for\\x89û_', 2), ('blasting', 2), ('kno', 2), ('lu', 2), ('slam', 2), ('knocks', 2), ('pokemon', 2), ('thee', 2), ('thou', 2), ('thy', 2), ('visiting', 2), ('gettin', 2), ('creates', 2), ('musik', 2), ('rotten', 2), ('protection', 2), ('\\nthat', 2), ('gunmen', 2), ('guaranteed', 2), ('mutant', 2), ('mosquito', 2), ('greedy', 2), ('\\x89ââ', 2), ('granted', 2), ('phillips', 2), ('idiots', 2), ('ratings', 2), ('saturated', 2), ('goulburn', 2), ('splash', 2), ('mlb', 2), ('winning', 2), ('supplies', 2), ('barton', 2), ('flow', 2), ('lemon', 2), ('nails', 2), ('forbid', 2), ('dystopian', 2), ('precipitation', 2), ('measurement', 2), ('defeat', 2), ('locksmith', 2), ('delicious', 2), ('professional', 2), ('extensive', 2), ('njenga', 2), ('razing', 2), ('generational', 2), ('waterways', 2), ('leak', 2), ('gaelite', 2), ('[top', 2), ('out]', 2), ('balls]', 2), ('strikes]', 2), ('[p', 2), ('orchard]', 2), ('[b', 2), ('iconic', 2), ('piner', 2), ('horndale', 2), ('lifestyle', 2), ('funtenna', 2), ('[black', 2), ('hobby', 2), ('lobby', 2), ('thyroid', 2), ('vegetable', 2), ('aubrey', 2), ('neil', 2), ('continually', 2), ('eco', 2), ('holed', 2), ('martinmj', 2), ('wafer', 2), ('chevrolet', 2), ('purchased', 2), ('fotoset', 2), ('because', 2), ('forsure', 2), ('langley', 2), ('deny', 2), ('matching', 2), ('factor', 2), ('aesthetic', 2), ('impacted', 2), ('overtime', 2), ('activate', 2), ('acute', 2), ('[gresham', 2), ('kitten', 2), ('sunshine', 2), ('displace', 2), ('visits', 2), ('urban', 2), ('striker', 2), ('visible', 2), ('sharks', 2), ('stearns', 2), ('terri', 2), ('firefighting', 2), ('consumes', 2), ('cary', 2), ('phase', 2), ('shuts', 2), ('pisgah', 2), ('ministers', 2), ('fennovoima', 2), ('finna', 2), ('hurting', 2), ('haiyan', 2), ('sumo', 2), ('nyse', 2), ('fdx', 2), ('packages', 2), ('chronicle', 2), ('carr', 2), ('fever', 2), ('safari', 2), ('tore', 2), ('enemy', 2), ('attraction', 2), ('bradley', 2), ('diebold', 2), ('willian', 2), ('fnet\\n\\npakistan', 2), ('subscription', 2), ('wedn', 2), ('grid', 2), ('gridlock', 2), ('ca\\x89û_', 2), ('fiasco', 2), ('bash', 2), ('coincide', 2), ('optimistic', 2), ('eurotunnel', 2), ('unaddressed', 2), ('cilla', 2), ('escaping', 2), ('trail', 2), ('olds', 2), ('suruì€', 2), ('episcopal', 2), ('environment', 2), ('touched', 2), ('ce', 2), ('reminded', 2), ('limits', 2), ('hardcore', 2), ('shutdown', 2), ('hammondville', 2), ('elsa', 2), ('element', 2), ('eish', 2), ('threaten', 2), ('chargers', 2), ('aguero', 2), ('establishment', 2), ('wealth', 2), ('snipe', 2), ('puerto', 2), ('rico', 2), ('carl', 2), ('chapter', 2), ('combust', 2), ('hutch', 2), ('dysfunctional', 2), ('costly', 2), ('demolishes', 2), ('hoisting', 2), ('mistreated', 2), ('messy', 2), ('liverpool', 2), ('dumped', 2), ('fairly', 2), ('pedestrians', 2), ('drew', 2), ('consistently', 2), ('beef', 2), ('uncertain', 2), ('denier', 2), ('pt', 2), ('sens', 2), ('maker', 2), ('slides', 2), ('assholes', 2), ('sewer', 2), ('doe', 2), ('unhappiness', 2), ('ignoring', 2), ('dlh', 2), ('auctions', 2), ('stunned', 2), ('est', 2), ('isnt', 2), ('quotes', 2), ('couples', 2), ('miyagi', 2), ('adjusted', 2), ('descriptions', 2), ('denali', 2), ('stans', 2), ('sold', 2), ('wheel', 2), ('pivot', 2), ('loretta', 2), ('certainty', 2), ('tryouts', 2), ('ortiz', 2), ('overload', 2), ('hoped', 2), ('maketh', 2), ('gmcr', 2), ('skye', 2), ('pounded', 2), ('greenway', 2), ('mature', 2), ('payday', 2), ('payment', 2), ('ctd', 2), ('wrestling', 2), ('cruise', 2), ('playthrough', 2), ('nude', 2), ('wiped', 2), ('norman', 2), ('celebrations', 2), ('roh', 2), ('irons', 2), ('contruction', 2), ('upgrading', 2), ('ferries', 2), ('standards', 2), ('vashon', 2), ('mukilteo', 2), ('contractor', 2), ('hired', 2), ('miami', 2), ('shuffled', 2), ('confession', 2), ('sunny', 2), ('rescues', 2), ('ham', 2), ('tryout', 2), ('jurors', 2), ('^ag', 2), ('hung', 2), ('shared', 2), ('investors', 2), ('aint', 2), ('bull', 2), ('exhibition', 2), ('cartoon', 2), ('lollapalooza', 2), ('chernobyl', 2), ('filed', 2), ('evolve', 2), ('handling', 2), ('carolina', 2), ('someday', 2), ('canceling', 2), ('canberra', 2), ('grande', 2), ('wireless', 2), ('dub', 2), ('\\nno', 2), ('slicker', 2), ('trained', 2), ('scariest', 2), ('rent', 2), ('eastward', 2), ('byproduct', 2), ('ax', 2), ('immigrants', 2), ('awaits', 2), ('dll', 2), ('fucks', 2), ('urs', 2), ('ris', 2), ('docks', 2), ('bushfire', 2), ('albania', 2), ('popcorn', 2), ('brisk', 2), ('cardio', 2), ('incl', 2), ('custom', 2), ('brunette', 2), ('brooo', 2), ('clock', 2), ('quot', 2), ('britons', 2), ('himalaya', 2), ('trekkers', 2), ('himalayas', 2), ('poster', 2), ('worldwide', 2), ('contributing', 2), ('questioning', 2), ('maine', 2), ('dove', 2), ('elijah', 2), ('ul', 2), ('h\\x89û_', 2), ('habits', 2), ('cocaine', 2), ('kidnap', 2), ('shops', 2), ('competitive', 2), ('imo', 2), ('turbine', 2), ('grrrr', 2), ('upgraded', 2), ('afmkcfn', 2), ('etisalat', 2), ('continuing', 2), ('competing', 2), ('defender', 2), ('guidelines', 2), ('bihar', 2), ('nephew', 2), ('hanging', 2), ('temper', 2), ('bestie', 2), ('folk', 2), ('kolkata', 2), ('prompt', 2), ('rainier', 2), ('hoe', 2), ('discussion', 2), ('athlete', 2), ('versus', 2), ('phenomenal', 2), ('mchenry', 2), ('encouraged', 2), ('motion', 2), ('programme', 2), ('accustomed', 2), ('rooms', 2), ('ay', 2), ('accurate', 2), ('awwww', 2), ('walter', 2), ('blues', 2), ('michele', 2), ('aus', 2), ('aurora', 2), ('differently', 2), ('manufactured', 2), ('exacerbated', 2), ('tonight\\x89ûªs', 2), ('thugs', 2), ('pointless', 2), ('addition', 2), ('being', 2), ('lesbians', 2), ('porridge', 2), ('announced', 2), ('abs', 2), ('openly', 2), ('idps', 2), ('geneva', 2), ('nuts', 2), ('weigh', 2), ('`bbcnews', 2), ('loki', 2), ('pipelines', 2), ('allied', 2), ('__', 2), ('cheryl', 2), ('planes', 2), ('minions', 2), ('hook', 2), ('alarming', 2), ('trunk', 2), ('aids', 2), ('ahrar', 2), ('zabadani', 2), ('sunnis', 2), ('starving', 2), ('gays', 2), ('stout', 2), ('\\nin', 2), ('familia', 2), ('prophecy', 2), ('nb', 2), ('piles', 2), ('missiles', 2), ('actress', 2), ('tin', 2), ('tesco', 2), ('halifax', 2), ('segment', 2), ('guam', 2), ('immediate', 2), ('ferguson\\x89ûªs', 2), ('wrote', 2), ('asf', 2), ('[wp]', 2), ('[the', 2), ('[question]', 2), ('[jax', 2), ('[high', 2), ('priority]', 2), ('[updated', 2), ('mdt]', 2), ('dancing', 2), ('so\\x89û_', 2), ('most', 2), ('ketep', 2), ('tepco', 2), ('åç', 2), ('bot', 2), ('correct', 2), ('philip', 2), ('innit', 2), ('simon', 2), ('reverse', 2), ('liberal', 2), ('arent', 2), ('jammu', 2), ('somewhere', 2), ('credits', 2), ('beliefs', 2), ('overturn', 2), ('constitution', 2), ('medic', 2), ('urgentthere', 2), ('storey', 2), ('oworoshoki', 2), ('blaming', 2), ('tor', 2), ('enhanced', 2), ('sarcasm', 2), ('mouse', 2), ('septic', 2), ('conservatives', 2), ('thirst', 2), ('acquisitions', 2), ('magisters', 2), ('dwarves', 2), ('lp', 2), ('cuffed', 2), ('impulse', 2), ('inevitably', 2), ('åš', 2), ('ruining', 2), ('\\nhe', 2), ('propelled', 2), ('ambition', 2), ('voted', 2), ('glenn', 2), ('stuns', 2), ('noises', 2), ('hood', 2), ('pitchers', 2), ('promote', 2), ('typical', 2), ('skype', 2), ('scuf', 2), ('younger', 2), ('rspca', 2), ('stalin', 2), ('ushed', 2), ('plz', 2), ('pets', 2), ('copycat', 2), ('massacre\\n\\nhttp', 2), ('lvlh', 2), ('awo\\n', 2), ('antioch\\n\\nhttp', 2), ('viwxy', 2), ('xdyk', 2), ('ouch', 2), ('rescuing', 2), ('idek', 2), ('tail', 2), ('obvious', 2), ('illegals', 2), ('nuff', 2), ('panda', 2), ('prob', 2), ('homie', 2), ('fave', 2), ('mommy', 2), ('jealous', 2), ('marines', 2), ('cliffs', 2), ('heartbreak', 2), ('barrier', 2), ('toes', 2), ('smooth', 2), ('ive', 2), ('lemme', 2), ('kindly', 2), ('rr', 2), ('carlos', 2), ('flawless', 2), ('closest', 2), ('netanyahu', 2), ('religious', 2), ('hs', 2), ('fault', 2), ('hush', 2), ('puny', 2), ('codes', 2), ('ight', 2), ('poisoning', 2), ('nda', 2), ('badly', 2), ('whts', 2), ('colluded', 2), ('idis', 2), ('hers', 2), ('dig', 2), ('trusty', 2), ('spontaneously', 2), ('infinite', 2), ('iraqis', 2), ('sounding', 2), ('looters', 2), ('jfc', 2), ('mandate', 2), ('congratulations', 2), ('delivered', 2), ('yourself', 2), ('heated', 2), ('wud', 2), ('belief', 2), ('hehe', 2), ('barring', 2), ('depay', 2), ('straw', 2), ('hamburg', 2), ('ofclans', 2), ('fought', 2), ('beloved', 2), ('gd', 2), ('brock', 2), ('i\\x89ûªd', 2), ('overwork', 2), ('phil', 2), ('democrats', 2), ('votes', 2), ('dealbreaker', 2), ('affiliation', 2), ('fees', 2), ('froze', 2), ('johns', 2), ('ell', 2), ('fulfilling', 2), ('zarry', 2), ('displeased', 2), ('wishes', 2), ('affleck', 2), ('requests', 2), ('ante', 2), ('coat', 2), ('keratin', 2), ('treatments', 2), ('brazilian', 2), ('copycats', 2), ('ahhhh', 2), ('bounce', 2), ('borders', 2), ('stages', 2), ('alternate', 2), ('discuss', 2), ('webinar', 2), ('libs', 2), ('gal', 2), ('minimum', 2), ('knees', 2), ('wheres', 2), ('obviously', 2), ('uncle', 2), ('stopping', 2), ('invaded', 2), ('carpenter', 2), ('remembers', 2), ('kindness', 2), ('checks', 2), ('channels', 2), ('comparing', 2), ('freddie', 2), ('password', 2), ('slaves', 2), ('harden', 2), ('silly', 2), ('palestine', 2), ('quarters', 2), ('backup', 2), ('bwp', 2), ('raynor', 2), ('imperfect', 2), ('wealthy', 2), ('platinum', 2), ('twisted', 2), ('bean', 2), ('attained', 2), ('mina', 2), ('violation', 2), ('lickin', 2), ('truely', 2), ('aq', 2), ('renison', 2), ('abusing', 2), ('obispo', 2), ('sikh', 2), ('tall', 2), ('xvii', 2), ('bypass', 2), ('moulding', 2), ('cj', 2), ('choose', 2), ('patched', 2), ('runjewels', 2), ('maintaining', 2), ('et', 2), ('spade', 2), ('whao', 2), ('deals_uk', 2), ('avocado', 2), ('gravel', 2), ('luka', 2), ('alois', 2), ('trancy', 2), ('sj', 2), ('gist', 2), ('prod', 2), ('eudrylantiqua', 2), ('holly', 2), ('teambrianmundial', 2), ('you\\x89ûªll', 2), ('rossum', 2), ('heartbeat', 2), ('fifty', 2), ('to\\x89û_', 2), ('proportions', 2), ('parson', 2), ('parse', 2), ('woodchucks', 2), ('hew', 2), ('divided', 2), ('harwich', 2), ('bumper', 2), ('institute', 2), ('å€}', 1), ('åèmgn', 1), ('africaåš', 1), ('å¬', 1), ('massgrave', 1), ('\\x89ûœ', 1), ('\\x89û÷we', 1), ('\\x89û÷sexist\\x89ûª', 1), ('\\x89û÷ransomware\\x89ûª', 1), ('man\\x89ûªs', 1), ('other\\x89û_', 1), ('\\x89û÷it', 1), ('sick\\x89ûª', 1), ('deemed', 1), ('\\x89û÷hazard\\x89ûª', 1), ('\\x89û÷hijacker', 1), ('cops\\x89ûª', 1), ('zimpapersviews', 1), ('mdash', 1), ('bronville', 1), ('\\x89û÷faceless', 1), ('sister\\x89ûª', 1), ('\\x89û÷exceptional\\x89ûª', 1), ('steady', 1), ('\\x89û÷a', 1), ('street\\x89ûª', 1), ('remade\\x89û_', 1), ('bulletproof', 1), ('funeral', 1), ('amazingness', 1), ('finall\\x89û_', 1), ('benstracy', 1), ('\\x89ûïtell', 1), ('shinichi', 1), ('kudo', 1), ('moriya', 1), ('teiji', 1), ('skyscraper', 1), ('\\x89ûïstretcher', 1), ('deck\\x89û\\x9d', 1), ('\\x89ûïrichmond', 1), ('sitting\\x89û_', 1), ('\\x89ûïparties', 1), ('\\x89ûïfor', 1), ('you\\x89û\\x9d', 1), ('\\x89ûïplans', 1), ('prosper', 1), ('\\x89ûïeven', 1), ('time\\x89û\\x9d', 1), ('cabins', 1), ('maca', 1), ('ymcglaun', 1), ('\\x89û\\x9dyeah', 1), ('stable', 1), ('thehighfessions', 1), ('blasted', 1), ('iowa', 1), ('high\\x89û\\x9d', 1), ('splottdave', 1), ('newshour', 1), ('macdaddy_leo', 1), ('caption', 1), ('maccocktail', 1), ('hiram', 1), ('blairs', 1), ('lordbrathwaite', 1), ('\\n\\nme', 1), ('growingupincolorado\\x89û\\x9d', 1), ('lolgop', 1), ('fraud', 1), ('vra', 1), ('liquidslap', 1), ('leoblakecarter', 1), ('dylanmcclure', 1), ('zumiez', 1), ('beachboyirh', 1), ('gma', 1), ('ooorrrr', 1), ('bbcwomanshour', 1), ('setsuko', 1), ('thurlow', 1), ('bbcengland', 1), ('based_georgie', 1), ('president\\x89û\\x9d\\nwhipe', 1), ('_keits', 1), ('understand\\x89û\\x9d\\n\\none', 1), ('sosglobalsquad', 1), ('sos\\x89û\\x9d', 1), ('yeda', 1), ('\\x89û¢\\x89û¢if', 1), ('onå¡å¡', 1), ('\\x89û¢i', 1), ('disaster\\x89û¢', 1), ('~still', 1), ('echoes', 1), ('screams~', 1), ('trailed', 1), ('colin', 1), ('goodness', 1), ('|live', 1), ('now|', 1), ('princes', 1), ('{{', 1), ('}}', 1), ('{info}', 1), ('baekhyun', 1), ('suho', 1), ('th\\ncr', 1), ('syjexo', 1), ('en}tension', 1), ('apcåêpdp{', 1), ('fiorentina', 1), ('breh', 1), ('zotar', 1), ('skeleton', 1), ('alchemist', 1), ('atamathon', 1), ('gpwrc', 1), ('kz', 1), ('enders', 1), ('zodiac', 1), ('trey', 1), ('dupree', 1), ('sparkz', 1), ('beatz', 1), ('dictator', 1), ('zicac', 1), ('briefcase', 1), ('zeal', 1), ('indecisiveness', 1), ('edwards', 1), ('engagement', 1), ('she\\x89ûªs', 1), ('\\x89û÷devastated\\x89ûª', 1), ('yumiko', 1), ('guard~', 1), ('woah', 1), ('ws', 1), ('soundtrack', 1), ('darshanravaldz', 1), ('khulna', 1), ('router', 1), ('ddos', 1), ('determines', 1), ('spying', 1), ('nsa', 1), ('dancer', 1), ('purified', 1), ('pale', 1), ('moonlight', 1), ('neediness', 1), ('ulcerated', 1), ('waggon', 1), ('cornwall', 1), ('bnvfdag', 1), ('pleased', 1), ('radical', 1), ('streetlight', 1), ('problem\\na', 1), ('roles', 1), ('istg', 1), ('chips', 1), ('redbull', 1), ('snack', 1), ('acne', 1), ('diarrhea', 1), ('lifesaving', 1), ('haiti', 1), ('conveniently', 1), ('zionists', 1), ('revere', 1), ('mtvsummerstar', 1), ('lana', 1), ('slit', 1), ('apologize', 1), ('astroturfers', 1), ('crumbling', 1), ('homealone', 1), ('definition', 1), ('harms', 1), ('awake', 1), ('llegaste', 1), ('tu', 1), ('\\nwhen', 1), ('\\nwhere', 1), ('keith', 1), ('\\x89û÷badges', 1), ('blood\\x89ûª', 1), ('ykelquiban', 1), ('yhngsjlg', 1), ('tweeted', 1), ('ioqm', 1), ('bm', 1), ('dg', 1), ('brits', 1), ('censor', 1), ('yessum', 1), ('sdotjr_', 1), ('adultress', 1), ('\\n\\nlike', 1), ('azz', 1), ('nsa\\n\\nhttp', 1), ('pnhetk', 1), ('yelp', 1), ('bolsters', 1), ('investigative', 1), ('resting', 1), ('scratch', 1), ('unconsciously', 1), ('sbujdjsjs', 1), ('xuskak', 1), ('gearing', 1), ('yaounde', 1), ('mosques', 1), ('kus', 1), ('battle\\n\\n', 1), ('moferadio', 1), ('spydy', 1), ('csc', 1), ('pusssssssssy', 1), ('shoook', 1), ('xoxoxxxooo', 1), ('rutinaofficial', 1), ('nbchannibal', 1), ('wyrmwood', 1), ('wwi', 1), ('mycareer', 1), ('tyrone', 1), ('wut', 1), ('ditched', 1), ('hungrier', 1), ('adoptive', 1), ('edison', 1), ('lightbulb', 1), ('wank', 1), ('wsjthinktank', 1), ('colleenmnelson', 1), ('wrinkled', 1), ('decayed', 1), ('hattrick', 1), ('najib\\nhttp', 1), ('iidkc', 1), ('jsbx', 1), ('blockage', 1), ('woodward', 1), ('davison', 1), ('wrapup', 1), ('disappoints', 1), ('desean', 1), ('rhode', 1), ('modernize', 1), ('eyewitness\\x89û_', 1), ('wowo', 1), ('tournaments', 1), ('pneumonia', 1), ('convention', 1), ('carthage', 1), ('celebrity', 1), ('uv', 1), ('gin', 1), ('pipeliners', 1), ('slouching', 1), ('isles', 1), ('warlords', 1), ('draenor', 1), ('crusad', 1), ('wsea', 1), ('mbiwa', 1), ('kisses\\nif', 1), ('\\nwould', 1), ('hurricane\\nas', 1), ('paramedic', 1), ('dampen', 1), ('isle', 1), ('autobiography', 1), ('lawton', 1), ('satisfying', 1), ('azeroth', 1), ('onc', 1), ('tgirl', 1), ('aliens', 1), ('exterminate', 1), ('summerside', 1), ('pressing', 1), ('\\nd', 1), ('docked', 1), ('wooooooo', 1), ('gap', 1), ('pearls', 1), ('hanbags', 1), ('lattice', 1), ('studded', 1), ('gasparc\\x89û_', 1), ('messengers', 1), ('designer', 1), ('qualit', 1), ('womem', 1), ('woman\\x89ûªs', 1), ('sneaks', 1), ('am\\n\\nincident', 1), ('wildfire\\nreleased', 1), ('wolforth', 1), ('confident', 1), ('benghazi', 1), ('hogan', 1), ('thanking', 1), ('publicity', 1), ('unhealthy', 1), ('necro', 1), ('winnipeg', 1), ('arlington', 1), ('wsvr', 1), ('hull', 1), ('runabout', 1), ('lastingness', 1), ('acquiesce', 1), ('retreat', 1), ('ziuw', 1), ('lisowski', 1), ('whitewashes', 1), ('masters', 1), ('quals', 1), ('jocelyn', 1), ('pugwash', 1), ('foliage', 1), ('ignited', 1), ('hiker', 1), ('shin', 1), ('noodle', 1), ('disdain', 1), ('normally', 1), ('complained', 1), ('measly', 1), ('niallhariss', 1), ('pinky', 1), ('journo', 1), ('groin', 1), ('bunker', 1), ('cheney', 1), ('catered', 1), ('ktchn', 1), ('silas', 1), ('sliced', 1), ('headlinelike', 1), ('cabbage', 1), ('wahhabism', 1), ('sour', 1), ('freezer', 1), ('dummy', 1), ('exhaustion', 1), ('lie\\x89û_', 1), ('lim', 1), ('leh', 1), ('\\nanswer', 1), ('themselves', 1), ('outnumber', 1), ('lobbyists', 1), ('randpaul', 1), ('know\\n\\nhttps', 1), ('nfxabum\\n\\n', 1), ('evilempire\\n', 1), ('jadehelm', 1), ('censors', 1), ('supressed', 1), ('slew', 1), ('compared', 1), ('faded', 1), ('\\nkagawa', 1), ('\\njanuzaj', 1), ('\\ndi', 1), ('holdin', 1), ('bruv', 1), ('sank', 1), ('submarine', 1), ('bickford\\x89ûªs', 1), ('stale', 1), ('fugazzi\\x89ûªs', 1), ('yosemite', 1), ('drumpf', 1), ('\\x89ûïnobody', 1), ('\\x89û÷ill', 1), ('rabbit', 1), ('say\\x89û\\x9d', 1), ('booze', 1), ('these', 1), ('her\\n', 1), ('thread', 1), ('pose', 1), ('lawmakers', 1), ('vyyer', 1), ('py', 1), ('tirelessly', 1), ('supposedly', 1), ('representing', 1), ('cgi', 1), ('duh', 1), ('lasted', 1), ('standstill', 1), ('medusa', 1), ('snake', 1), ('inputs', 1), ('scissor', 1), ('ktfounder', 1), ('bombarded', 1), ('kunais', 1), ('whimsy', 1), ('buries', 1), ('tobias', 1), ('hankel', 1), ('magna', 1), ('extent', 1), ('privilege', 1), ('unfair', 1), ('favoritism', 1), ('whereas', 1), ('jez', 1), ('printing', 1), ('gypsy', 1), ('timbering', 1), ('entryway', 1), ('fjizztxk', 1), ('obstacles', 1), ('whooped', 1), ('terrellt', 1), ('sami', 1), ('flushes', 1), ('bark', 1), ('dials', 1), ('jaileens', 1), ('caked', 1), ('lowkey', 1), ('tub', 1), ('anytime', 1), ('tagliatelle', 1), ('meatballs', 1), ('draining', 1), ('burrito', 1), ('burp', 1), ('mugged', 1), ('explore', 1), ('unjust', 1), ('\\nsam', 1), ('uel', 1), ('caaaaaall', 1), ('zehrs', 1), ('shore\\nand', 1), ('anymore\\nthat', 1), ('poisoned', 1), ('norris', 1), ('plugged', 1), ('nether', 1), ('spawning', 1), ('strengthen', 1), ('allergic', 1), ('ii\\nlanjut', 1), ('dirumah', 1), ('yagitudeh', 1), ('rumah', 1), ('cipinang', 1), ('abounds', 1), ('defundpp', 1), ('psychic', 1), ('genuinely', 1), ('reallyyy', 1), ('affection', 1), ('gucci', 1), ('shanghai\\x89ûªs', 1), ('pushes', 1), ('teach', 1), ('fizzy', 1), ('seats', 1), ('carelessness', 1), ('bae', 1), ('backroom', 1), ('fromåêwounds', 1), ('racer', 1), ('ss', 1), ('amplifier', 1), ('lesotho', 1), ('exhibitor', 1), ('clowns', 1), ('hawaiianpaddlesports', 1), ('incredible\\nhttp', 1), ('yzzxxknism', 1), ('numbing', 1), ('gums', 1), ('iron', 1), ('sigmund', 1), ('freud', 1), ('hiroshima\\nhttp', 1), ('lgrocbxpqo', 1), ('\\x89ûïwarning\\x89û\\x9d', 1), ('usg', 1), ('paeds', 1), ('imaging', 1), ('greasy', 1), ('ranked', 1), ('te\\x89û_', 1), ('civility', 1), ('prez', 1), ('defines', 1), ('perpetrators', 1), ('ticketed', 1), ('cycle', 1), ('interrogation', 1), ('kampers', 1), ('sprays', 1), ('hose', 1), ('goooooooaaaaaal', 1), ('psychologist', 1), ('honduran', 1), ('minors', 1), ('bangladesh', 1), ('dhaka', 1), ('\\x89ûòthe', 1), ('weyburn', 1), ('fentanyl', 1), ('westminister', 1), ('knott', 1), ('paso', 1), ('nyack', 1), ('pineview', 1), ('railroad', 1), ('apologies', 1), ('inundation\\x89û_', 1), ('cows', 1), ('postering', 1), ('pow', 1), ('talked', 1), ('terrific', 1), ('aberdeen', 1), ('\\narmageddon', 1), ('chaning', 1), ('avery', 1), ('wehtwtvwlocal', 1), ('avalon', 1), ('bdays', 1), ('mainly', 1), ('cloudy', 1), ('malfunctioning', 1), ('scripts', 1), ('database', 1), ('founding', 1), ('knives', 1), ('albany', 1), ('catalogue~', 1), ('rotation', 1), ('condenses', 1), ('mcv', 1), ('\\nits', 1), ('surety', 1), ('mirrors', 1), ('reflected', 1), ('neon', 1), ('plank', 1), ('maxi', 1), ('shootn', 1), ('ghee', 1), ('sad\\nbut', 1), ('alternative', 1), ('cabling', 1), ('bracing', 1), ('hid', 1), ('shown', 1), ('preserved', 1), ('breaches', 1), ('overrun', 1), ('explicitly', 1), ('mydrought', 1), ('water\\x89û_', 1), ('prayer', 1), ('sunflower', 1), ('campaigns', 1), ('renewsit', 1), ('sock', 1), ('possess', 1), ('arrogant', 1), ('\\ntoday', 1), ('jonesboro', 1), ('complain', 1), ('anchors', 1), ('archetype', 1), ('grounded', 1), ('readiness', 1), ('fpoj', 1), ('wormhole', 1), ('gazette', 1), ('devastation\\x89û_', 1), ('thompson', 1), ('xela', 1), ('dcfd', 1), ('perspective', 1), ('cameos', 1), ('colbert', 1), ('royale', 1), ('magnets', 1), ('steaks', 1), ('palin', 1), ('jewels', 1), ('socially', 1), ('duo', 1), ('wendell', 1), ('berry', 1), ('\\n\\nit\\x89ûªs', 1), ('nathaniel', 1), ('rateliff', 1), ('sweats', 1), ('washi', 1), ('elevator', 1), ('noses', 1), ('they\\x89ûªd', 1), ('david\\x89û_', 1), ('string', 1), ('replenish', 1), ('leader\\x89ûªs', 1), ('weary', 1), ('ani', 1), ('referential', 1), ('gritty', 1), ('thursdays', 1), ('amico', 1), ('swedish', 1), ('innovative', 1), ('frying', 1), ('waldo', 1), ('cooperstown', 1), ('kooks', 1), ('kern', 1), ('airing', 1), ('kbak', 1), ('reafs', 1), ('waige', 1), ('wackos', 1), ('wackoes', 1), ('nigerians', 1), ('eufaula', 1), ('participate', 1), ('simulating', 1), ('gbxafy', 1), ('visting', 1), ('georgina', 1), ('building\\nwe', 1), ('ef', 1), ('alert\\ntunein', 1), ('axegressor', 1), ('storm\\ntunein', 1), ('agony', 1), ('apocalypse\\ntunein', 1), ('scourgue', 1), ('gods\\ntunein', 1), ('violators', 1), ('improved', 1), ('hurled', 1), ('nuked', 1), ('eagle', 1), ('oiler', 1), ('gpw', 1), ('bids', 1), ('\\n\\x89û_', 1), ('vinnie', 1), ('northumbria', 1), ('column', 1), ('highland', 1), ('medics', 1), ('video=', 1), ('\\x89ûïprefers', 1), ('negotiation\\x89û\\x9d', 1), ('failure\\x89û_', 1), ('unknowingly', 1), ('shaldon\\nread', 1), ('billowing', 1), ('southtowne', 1), ('hundreds\\x89û_', 1), ('carryi', 1), ('mediterran', 1), ('pastors', 1), ('asylum\\x89û_', 1), ('sought', 1), ('victorinox', 1), ('ensure', 1), ('treatmen', 1), ('deepest', 1), ('condolences', 1), ('mishap', 1), ('deserved', 1), ('soz', 1), ('\\n\\nrin\\nshizune\\nmisha\\nemi\\nkenji\\nyuuko\\nnomiya\\nhisao', 1), ('vosloorus', 1), ('gauteng', 1), ('toyota', 1), ('bkb', 1), ('vassalboro', 1), ('gazebo', 1), ('gentlemen', 1), ('vanderbilt', 1), ('vamos', 1), ('newells', 1), ('selfish', 1), ('uttarakhand', 1), ('oneindia', 1), ('usw', 1), ('abandoning', 1), ('uncertainty', 1), ('usfs', 1), ('acronym', 1), ('amiibos', 1), ('usatoday', 1), ('foxnew\\x89û_', 1), ('usama', 1), ('ladins', 1), ('naturally', 1), ('\\x89û÷institute', 1), ('peace\\x89ûª', 1), ('upgrade', 1), ('infrastructure', 1), ('defensenews', 1), ('comus', 1), ('subsd', 1), ('mechanics', 1), ('vols', 1), ('mln', 1), ('targe', 1), ('news\\ncalifornia', 1), ('evac', 1), ('edna', 1), ('jefferson', 1), ('doris', 1), ('sherfield', 1), ('administrative', 1), ('gnwt', 1), ('\\n\\nmay', 1), ('fastest', 1), ('evaucation', 1), ('roofing', 1), ('approved', 1), ('pros', 1), ('failures', 1), ('=>', 1), ('directions', 1), ('åêhours', 1), ('recal', 1), ('unwanted', 1), ('untangle', 1), ('unsurprising', 1), ('dismaying', 1), ('lawrence', 1), ('meade', 1), ('[s\\x89û_', 1), ('[sd]', 1), ('unpredictable', 1), ('donaldson', 1), ('unlicensed', 1), ('cufi', 1), ('jews', 1), ('convert', 1), ('supportive', 1), ('economically', 1), ('unexercised', 1), ('honda', 1), ('psqd', 1), ('engines', 1), ('dandre_', 1), ('ov', 1), ('argues', 1), ('pelosi', 1), ('remnants', 1), ('tunisian', 1), ('bardo', 1), ('uhhhhh', 1), ('crusade', 1), ('pizzas', 1), ('ud', 1), ('ypres', 1), ('reduces', 1), ('uae', 1), ('mideast', 1), ('[video]\\nncms', 1), ('thundering', 1), ('\\nthey', 1), ('festival\\nit', 1), ('disappears', 1), ('freedom\\na', 1), ('agen', 1), ('simpson\\x89û_', 1), ('ruhl', 1), ('modoc', 1), ('temporarily', 1), ('reassigned', 1), ('tonto', 1), ('philippines\\x89û_', 1), ('fowlers', 1), ('opp', 1), ('smartphone', 1), ('shipped', 1), ('dian', 1), ('bitterroot', 1), ('dawgs', 1), ('dak', 1), ('jak', 1), ('villanova', 1), ('selected', 1), ('academy', 1), ('award', 1), ('finalists', 1), ('struck\\x89û_', 1), ('restoring', 1), ('alphen', 1), ('aan', 1), ('den', 1), ('rijn', 1), ('shotgun', 1), ('denton', 1), ('pines\\x89û_', 1), ('lorry', 1), ('gambling', 1), ('quezon', 1), ('go\\x89û_', 1), ('twilight', 1), ('jacquie', 1), ('biggar', 1), ('approves', 1), ('association', 1), ('directors', 1), ('vitaly', 1), ('churkin', 1), ('briliantly', 1), ('exposes', 1), ('klimkin', 1), ('bricks', 1), ('buuk', 1), ('radios', 1), ('isaiah', 1), ('contemporary', 1), ('gesture', 1), ('bolts', 1), ('inåêchaos', 1), ('accepte', 1), ('ttw', 1), ('tt', 1), ('kettlebell', 1), ('lopez', 1), ('hindsight', 1), ('jhmnye', 1), ('dvbbs', 1), ('borgeous', 1), ('arceen', 1), ('tsa', 1), ('suggested', 1), ('crawfordsville', 1), ('pen', 1), ('conquer', 1), ('simulator', 1), ('treats', 1), ('meal', 1), ('truthfrequencyradio', 1), ('zicjudxo\\n', 1), ('nxs', 1), ('kxid\\n', 1), ('nlib', 1), ('x\\n', 1), ('kix', 1), ('zygx\\n', 1), ('rfmy\\n', 1), ('amecx', 1), ('glzggdjqeh\\n', 1), ('bejftygjil\\n', 1), ('zqrsaqrrt\\n', 1), ('rgob', 1), ('pj\\n', 1), ('inviting', 1), ('frenzy', 1), ('disorder', 1), ('astounding', 1), ('forgiveness', 1), ('vickysuewrites', 1), ('clogs', 1), ('salvages', 1), ('voortrekker', 1), ('tambo', 1), ('ketchup', 1), ('dijon', 1), ('get\\nfeelings', 1), ('death\\ninvading', 1), ('spawns\\ncan', 1), ('concentrate\\nno', 1), ('relates\\nstealing', 1), ('light\\nspreading', 1), ('trident', 1), ('ims', 1), ('ho', 1), ('tricycle', 1), ('bomb\\nhttp', 1), ('ljeryhitwh', 1), ('treasures', 1), ('drains', 1), ('mechanisms', 1), ('parent', 1), ('transwomen', 1), ('butch', 1), ('credited', 1), ('inciting', 1), ('transportation', 1), ('wheelers', 1), ('trampling', 1), ('travellers', 1), ('wheat', 1), ('trespass', 1), ('lest', 1), ('sidewalks', 1), ('enfant', 1), ('mobbed', 1), ('twi', 1), ('offramp', 1), ('sacramento', 1), ('cabrillo', 1), ('magellan', 1), ('mir', 1), ('tracy', 1), ('worsens', 1), ('towboat', 1), ('vtc', 1), ('totoooooo', 1), ('totoooooooooo', 1), ('historicalmages', 1), ('stratford', 1), ('leafs', 1), ('boost', 1), ('hammer', 1), ('homers', 1), ('tulowitzki', 1), ('refugees\\x89û_', 1), ('war\\x89û_', 1), ('darkness\\n', 1), ('redeem', 1), ('serene\\n', 1), ('attended', 1), ('romford', 1), ('afycso', 1), ('receives', 1), ('impacting', 1), ('downright', 1), ('tommygshow', 1), ('burlington', 1), ('toke', 1), ('makinwa\\x89ûªs', 1), ('fetch', 1), ('pyjamas', 1), ('bedding', 1), ('firetruck', 1), ('sticker', 1), ('decals', 1), ('tomorrow\\x89ûªs', 1), ('greet', 1), ('bask', 1), ('warmth', 1), ('bliss', 1), ('survived\\n\\njoin', 1), ('dualcom', 1), ('yesterdays', 1), ('easter', 1), ('pretended', 1), ('hastle', 1), ('filling', 1), ('humbled', 1), ('corii', 1), ('spoil', 1), ('kumasian', 1), ('torpedoed', 1), ('outright', 1), ('wifi', 1), ('hotspot', 1), ('bldy', 1), ('asthma', 1), ('cigars', 1), ('panicked', 1), ('frp', 1), ('tunas', 1), ('kijangbank', 1), ('negara', 1), ('[closing', 1), ('spoiler', 1), ('awn', 1), ('navigate', 1), ('audit', 1), ('vì_a', 1), ('hasåêarrived', 1), ('fem', 1), ('oliviamiles', 1), ('tltltltltlttlt', 1), ('wololo', 1), ('tkyonly', 1), ('fmk', 1), ('tksgs', 1), ('warriorcord', 1), ('paracord', 1), ('strand', 1), ('joints', 1), ('eliminate', 1), ('dqsvyusy', 1), ('timestack', 1), ('sunsets', 1), ('mesmerizing', 1), ('timesnewsdesk', 1), ('attack\\n\\x89û_', 1), ('privatisation', 1), ('ripe', 1), ('tiffanyfrizzell', 1), ('tianta_', 1), ('clam', 1), ('helsinki\\n', 1), ('pounds', 1), ('black\\na', 1), ('chest\\nwind', 1), ('\\na', 1), ('life\\nshort', 1), ('torrential', 1), ('foothill', 1), ('thu', 1), ('millcityio', 1), ('choke', 1), ('nugget', 1), ('kidnapping', 1), ('trafficking', 1), ('kontagora', 1), ('haaretz', 1), ('unrecognized', 1), ('episodes', 1), ('nigh', 1), ('shoutout', 1), ('hipsters', 1), ('devours', 1), ('intersectio', 1), ('floodwater', 1), ('displac', 1), ('organized', 1), ('inferior', 1), ('sworn', 1), ('thorcon', 1), ('thorium', 1), ('thisisfaz', 1), ('bsf', 1), ('jawans', 1), ('fidayeen', 1), ('aks', 1), ('insas', 1), ('prognosis', 1), ('parallel', 1), ('participating', 1), ('intensive', 1), ('[x', 1), ('cityporn]', 1), ('maintenance\\x89û_', 1), ('westmeath', 1), ('metrotown', 1), ('maintained', 1), ('popeyes', 1), ('athens', 1), ('mediterranean\\nhttps', 1), ('lcnkd', 1), ('rq', 1), ('cyhi', 1), ('jokal', 1), ('photographers', 1), ('griffin', 1), ('startup', 1), ('syvret', 1), ('stake', 1), ('storm\\n\\n', 1), ('jamaicaplain', 1), ('unbelievably', 1), ('ocean\\npeeling', 1), ('servile', 1), ('pornhub', 1), ('relaxing', 1), ('weaponry', 1), ('lunacy', 1), ('belligerent', 1), ('unfold', 1), ('riser', 1), ('dierks', 1), ('bentley', 1), ('\\x89ûïburning', 1), ('work\\x89û\\x9d\\x89û_only\\x89û_it', 1), ('clawing', 1), ('retailers', 1), ('hairity', 1), ('rainbow', 1), ('spitty', 1), ('pie', 1), ('generation\\nrock', 1), ('firework', 1), ('tbr', 1), ('browsing', 1), ('homepage', 1), ('tia', 1), ('int\\x89ûªl', 1), ('airline', 1), ('sphere', 1), ('headache', 1), ('yday', 1), ('hubris', 1), ('req', 1), ('rigour', 1), ('\\n\\ncity', 1), ('plan\\n\\nthe', 1), ('palm', 1), ('batch', 1), ('desperation', 1), ('dislocation\\nseparation', 1), ('condemnation\\nrevelation', 1), ('temptation\\nisolation', 1), ('desolation\\nlet', 1), ('davies', 1), ('rapturous', 1), ('facade', 1), ('deplorable', 1), ('attempted', 1), ('bailed', 1), ('nite', 1), ('demo', 1), ('kenosha', 1), ('quell', 1), ('introvert', 1), ('businessman', 1), ('foiled', 1), ('troupe', 1), ('breakdancers', 1), ('akwa', 1), ('ibom', 1), ('uruan', 1), ('udom', 1), ('emmanuel', 1), ('tozlet', 1), ('seat|', 1), ('leprosy', 1), ('jerkface', 1), ('lateral', 1), ('lisp', 1), ('rickets', 1), ('thieves', 1), ('dealership', 1), ('killeen', 1), ('hicksville', 1), ('superheroes', 1), ('theyll', 1), ('repopulate', 1), ('superior', 1), ('winged', 1), ('insects', 1), ('fission', 1), ('jasmines', 1), ('shanaynay', 1), ('petebests', 1), ('dessicated', 1), ('kneel', 1), ('reason\\nbut', 1), ('raunchy', 1), ('phenomenally', 1), ('chik', 1), ('theocracy', 1), ('sounders', 1), ('bonded', 1), ('boxes', 1), ('gameofkittens', 1), ('animations', 1), ('dmt', 1), ('hunterston', 1), ('process', 1), ('smithereens', 1), ('workspace', 1), ('forsee', 1), ('gauges', 1), ('wails', 1), ('rockin', 1), ('sedan', 1), ('seemeth', 1), ('dipping', 1), ('geese', 1), ('plotted', 1), ('truths', 1), ('cervix', 1), ('odell', 1), ('stylist', 1), ('qlbss', 1), ('shootas', 1), ('burner', 1), ('thediyhacks', 1), ('illusionimagess', 1), ('the_af', 1), ('origins', 1), ('honor\\n', 1), ('nikki', 1), ('witches', 1), ('bong', 1), ('nz', 1), ('retooled', 1), ('retirees', 1), ('handicapped', 1), ('scourge', 1), ('fanged', 1), ('spin', 1), ('voltaire', 1), ('imprisoning', 1), ('mortgage', 1), ('buffett', 1), ('sectors', 1), ('humane', 1), ('fluctuations', 1), ('disturbances', 1), ('imbalances', 1), ('margaret', 1), ('wheatley', 1), ('easier', 1), ('hgb', 1), ('irk', 1), ('tap', 1), ('gimp', 1), ('newave', 1), ('shining', 1), ('dubloadz', 1), ('droppd', 1), ('meelllttting', 1), ('expanded', 1), ('slight', 1), ('pots', 1), ('takeshima', 1), ('fisherman', 1), ('occupies', 1), ('mjcxgku', 1), ('yt', 1), ('unloads', 1), ('descriptive', 1), ('indecency', 1), ('sinkingshipindy', 1), ('scarlet', 1), ('lenore', 1), ('saison', 1), ('stonebrewingco', 1), ('shortest', 1), ('waiver', 1), ('sharper', 1), ('viper', 1), ('hardside', 1), ('seas', 1), ('giannis', 1), ('submerged', 1), ('reef', 1), ('catcher', 1), ('touches', 1), ('schematization', 1), ('dependable', 1), ('virtue', 1), ('xmwte', 1), ('satisfaction', 1), ('reasoned', 1), ('shinto', 1), ('hoshin', 1), ('nautical', 1), ('serbs', 1), ('yougslavia', 1), ('pennies', 1), ('riddler', 1), ('presidential', 1), ('revival', 1), ('jaysen', 1), ('wormwood', 1), ('correcting', 1), ('resistance', 1), ('guerrilla', 1), ('kpa', 1), ('torn', 1), ('netflix\\x89û_', 1), ('dyersburg', 1), ('kennedy', 1), ('diplomacy', 1), ('avert', 1), ('bolster', 1), ('jerseys', 1), ('assured', 1), ('investigated', 1), ('pastor', 1), ('kasabwe', 1), ('biryani', 1), ('why\\nhttp', 1), ('bxzzhxkm', 1), ('mw', 1), ('champs', 1), ('orgs', 1), ('gether', 1), ('agreements', 1), ('heheh', 1), ('thriving', 1), ('hub', 1), ('hi\\x89ûótech', 1), ('zeartxboft', 1), ('reached', 1), ('denying', 1), ('polar', 1), ('wall\\x89û\\x9d', 1), ('weren\\x89ûªt', 1), ('warned\\x89û\\x9d', 1), ('titled', 1), ('emmeryn', 1), ('quests', 1), ('buren', 1), ('mv', 1), ('strutting', 1), ('damage\\x89û\\x9d', 1), ('prescient', 1), ('tropic', 1), ('comedies', 1), ('generous', 1), ('albums', 1), ('mofo', 1), ('unarmed', 1), ('gunned', 1), ('worseits', 1), ('asses', 1), ('goin', 1), ('lyrical', 1), ('vocalist', 1), ('melanie', 1), ('fiona', 1), ('lite', 1), ('cure', 1), ('lind', 1), ('reply', 1), ('anomaly', 1), ('outcome', 1), ('overcome', 1), ('\\n\\ntcc', 1), ('martyrs', 1), ('young\\x89û_', 1), ('spsåš', 1), ('dramatically', 1), ('progessive', 1), ('khq', 1), ('lynchburg', 1), ('lancasteronline', 1), ('wqow', 1), ('wesley', 1), ('verhoek', 1), ('lighter', 1), ('iplayer', 1), ('commentary', 1), ('tfl', 1), ('downtime', 1), ('subliminal', 1), ('insides', 1), ('\\nget', 1), ('customized', 1), ('dcubecrafts', 1), ('mixxtail', 1), ('watermelon', 1), ('loko', 1), ('cruddy', 1), ('ostensibly', 1), ('macabre', 1), ('[hd]', 1), ('bilingual', 1), ('disc', 1), ('copy', 1), ('thranduil', 1), ('mirkwood', 1), ('evaded', 1), ('humidifier', 1), ('gusto', 1), ('persist', 1), ('pated', 1), ('hpssjd', 1), ('editorial', 1), ('cas', 1), ('fresh\\x89û_', 1), ('whatevs', 1), ('winik', 1), ('goddess', 1), ('perk', 1), ('nas', 1), ('praam\\x81_ius', 1), ('dievas', 1), ('cryibg', 1), ('albert', 1), ('demanding', 1), ('publication', 1), ('fatima', 1), ('wc', 1), ('flaws', 1), ('postponed', 1), ('vanished', 1), ('extant', 1), ('pioneer', 1), ('paleface', 1), ('raft', 1), ('container', 1), ('dynastic', 1), ('lonelyness', 1), ('knowledge', 1), ('foolish', 1), ('amsal', 1), ('beheadings', 1), ('ordained', 1), ('spurgeon', 1), ('nanking', 1), ('eyewitnesses', 1), ('mentality', 1), ('ing', 1), ('soaked', 1), ('pads', 1), ('tampons', 1), ('broader', 1), ('trunks', 1), ('freiza', 1), ('cleanest', 1), ('devise', 1), ('caitlin', 1), ('kiernan', 1), ('centipede', 1), ('numbered', 1), ('dones', 1), ('bordering', 1), ('packard', 1), ('dears\\npaul', 1), ('\\nmary', 1), ('prada', 1), ('mirad', 1), ('rajman', 1), ('hasaka', 1), ('risen', 1), ('sometime', 1), ('finalise', 1), ('cryptic', 1), ('guided', 1), ('crocodile', 1), ('gravy', 1), ('disarmed', 1), ('sown', 1), ('court\\x89ûªs', 1), ('prestige', 1), ('prosser', 1), ('wexler', 1), ('sanford', 1), ('hardcover', 1), ('chews', 1), ('chem', 1), ('overcomes', 1), ('zach', 1), ('galifianakis', 1), ('comic', 1), ('farce', 1), ('appropriate', 1), ('jamaicans', 1), ('tremont', 1), ('elwoods', 1), ('observations', 1), ('hadn', 1), ('managers', 1), ('implication', 1), ('glove', 1), ('tolerant', 1), ('perennials', 1), ('integrates', 1), ('format', 1), ('techniqu', 1), ('popped', 1), ('oddball', 1), ('observer', 1), ('west\\x89ûªs', 1), ('autocracies', 1), ('kasich', 1), ('\\nplease', 1), ('mineness', 1), ('adventure', 1), ('terraria', 1), ('hijinks', 1), ('advantages', 1), ('apropos', 1), ('favorable', 1), ('pwhvgwax', 1), ('machines', 1), ('existant', 1), ('routine', 1), ('weightless', 1), ('fatburning', 1), ('hadnt', 1), ('alabamaquake', 1), ('fleek', 1), ('proc', 1), ('philippine', 1), ('thda', 1), ('suing', 1), ('udest', 1), ('triumphant', 1), ('yolk', 1), ('yoenis', 1), ('masses', 1), ('casey', 1), ('veggies', 1), ('cone', 1), ('windowsill', 1), ('uhc', 1), ('creeper', 1), ('snowy', 1), ('hunchback', 1), ('notre', 1), ('the\\nbeginning', 1), ('s\\nmentioned', 1), ('versethe', 1), ('earth\\n', 1), ('daaamn', 1), ('testament', 1), ('lockstep', 1), ('belittled', 1), ('bashed', 1), ('demoralized', 1), ('\\nfuck', 1), ('benson', 1), ('clegg', 1), ('roadworks', 1), ('tottenham', 1), ('thankkk', 1), ('notificationsu', 1), ('parsholics', 1), ('superb', 1), ('awesomelove', 1), ('uplifting', 1), ('anchor', 1), ('\\nour', 1), ('gunp', 1), ('microbes', 1), ('defense\\n\\nhttp', 1), ('zahnewjri', 1), ('texian', 1), ('iliad', 1), ('hardin', 1), ('texas\\x89ûªs', 1), ('gratuitously', 1), ('cruel', 1), ('gayåêman', 1), ('windstormåêinsurer', 1), ('pu', 1), ('tess', 1), ('spo', 1), ('former\\x89û_', 1), ('office\\x89ûªs', 1), ('razedåê\\x89ûò', 1), ('ikpeazu', 1), ('apga', 1), ('tennis', 1), ('champ', 1), ('svetlana', 1), ('kuznetsova', 1), ('withdraws', 1), ('citi', 1), ('åêcall', 1), ('faked', 1), ('arson\\x89û_', 1), ('temptation', 1), ('telnet', 1), ('streamyx', 1), ('plantations', 1), ('not\\nto', 1), ('adopt', 1), ('way\\nmaybe', 1), ('something\\nfatal', 1), ('me\\n', 1), ('whyor', 1), ('rebahe', 1), ('rescind', 1), ('nuys', 1), ('wlb', 1), ('techerit', 1), ('tbi', 1), ('aging', 1), ('analogy', 1), ('cara', 1), ('^mp', 1), ('tarp', 1), ('outfield', 1), ('infield', 1), ('tarmineta', 1), ('goz', 1), ('manually', 1), ('domains', 1), ('misdirection', 1), ('ignite', 1), ('vanishing', 1), ('paradise', 1), ('tagged', 1), ('\\n\\nmillions\\na', 1), ('punk\\nhang', 1), ('high\\nalpha', 1), ('dog\\nyeah', 1), ('doll', 1), ('face\\nlittle', 1), ('lies\\nexplode', 1), ('changin', 1), ('airasia', 1), ('syd', 1), ('sweetpea', 1), ('allotment', 1), ('brightening', 1), ('rainy', 1), ('jeezus', 1), ('\\nthis', 1), ('faker', 1), ('kog', 1), ('\\x89û÷plot', 1), ('dijk\\x89ûª', 1), ('dijk', 1), ('sustainability', 1), ('levy', 1), ('wdtv', 1), ('travelled', 1), ('rural\\x89û_', 1), ('susinesses', 1), ('stlnd', 1), ('isabel', 1), ('hodgins', 1), ('miller', 1), ('norton', 1), ('charnock', 1), ('plague\\nfloated', 1), ('flood\\njust', 1), ('peeked', 1), ('mud\\nno', 1), ('immune\\ndeafening', 1), ('bells\\nmy', 1), ('ourselves', 1), ('ritual', 1), ('navigating', 1), ('whistle', 1), ('surveillance', 1), ('ktla', 1), ('regr', 1), ('klondike', 1), ('stevie', 1), ('asx', 1), ('amalie', 1), ('suncorp', 1), ('sunakawa', 1), ('sun_ofgod', 1), ('superpower', 1), ('buchana', 1), ('rightly', 1), ('despicable', 1), ('ocalan', 1), ('marxism', 1), ('\\n\\n=', 1), ('canadasuicide', 1), ('barbarism', 1), ('saudiåêmosque', 1), ('shi', 1), ('ite', 1), ('saud', 1), ('suggs', 1), ('vivian', 1), ('suffield', 1), ('gloomy', 1), ('routes', 1), ('unite', 1), ('frustration', 1), ('junction', 1), ('beep', 1), ('divorce', 1), ('fri', 1), ('sutherland', 1), ('gallipoli\\n', 1), ('crowned', 1), ('tends', 1), ('stubborn', 1), ('provinces', 1), ('|rz|', 1), ('figures', 1), ('beetroot', 1), ('makurazaki', 1), ('ary', 1), ('cowardly', 1), ('japton', 1), ('pea', 1), ('phalaborwa', 1), ('component', 1), ('bearers', 1), ('their', 1), ('encaustic', 1), ('cerography', 1), ('byityf', 1), ('activation', 1), ('evergreen', 1), ('ri', 1), ('chadbourn', 1), ('concludes', 1), ('blitzes', 1), ('seminars', 1), ('blitzed', 1), ('tra', 1), ('uprootin', 1), ('uprooting', 1), ('regulations', 1), ('tryin', 1), ('settling', 1), ('stony', 1), ('felons', 1), ('\\x89ûó\\nstockton', 1), ('stockton\\n', 1), ('stl', 1), ('grille', 1), ('mounts', 1), ('speedtech', 1), ('amber', 1), ('boarders', 1), ('uninvestigated', 1), ('indonesia', 1), ('gmail', 1), ('ipa', 1), ('radler', 1), ('mortified', 1), ('retrofitting', 1), ('woken', 1), ('stones', 1), ('bones\\nbut', 1), ('intention', 1), ('sanctuary', 1), ('buscemi', 1), ('firefightr', 1), ('workd', 1), ('shifts', 1), ('diggin', 1), ('wtc', 1), ('lookg', 1), ('jogger', 1), ('stepkans', 1), ('stemming', 1), ('rosters', 1), ('sideline', 1), ('vigilent', 1), ('liberties', 1), ('kjc', 1), ('cautious', 1), ('statistically', 1), ('gofundme', 1), ('rims', 1), ('hc', 1), ('jedi', 1), ('hasbro', 1), ('mountaintop', 1), ('scented', 1), ('wildflowers', 1), ('distant', 1), ('mixers', 1), ('jyb', 1), ('stampedes', 1), ('tame', 1), ('stamford', 1), ('tightens', 1), ('dilapitated', 1), ('sits', 1), ('erect', 1), ('hickory', 1), ('cafetiere', 1), ('crockery', 1), ('phone\\ntablet', 1), ('ssp', 1), ('aeg', 1), ('akram', 1), ('carhot', 1), ('exchanged', 1), ('booty', 1), ('sprinklers', 1), ('faq', 1), ('lawn', 1), ('answered', 1), ('ebb', 1), ('curved', 1), ('sl', 1), ('rsa', 1), ('bd', 1), ('spokane', 1), ('spoilers', 1), ('wonderfully', 1), ('installment', 1), ('speeding', 1), ('tee\\x89û_', 1), ('memorable', 1), ('debates', 1), ('ronald', 1), ('romp', 1), ('spd', 1), ('pray\\n\\nplease', 1), ('shreveport', 1), ('spacex', 1), ('musk', 1), ('sharecropping', 1), ('awhile', 1), ('champions', 1), ('championsblackfoot', 1), ('ofr', 1), ('sousse', 1), ('tunis', 1), ('recip', 1), ('sensible', 1), ('judgement', 1), ('mpc', 1), ('soultech', 1), ('souda', 1), ('irishirr\\n', 1), ('mchapmanwsaz', 1), ('kylie', 1), ('bruce', 1), ('mousse', 1), ('sorrower', 1), ('sooooo', 1), ('theaters', 1), ('pumped', 1), ('dispatch', 1), ('repentance', 1), ('sometimesi', 1), ('well\\ni', 1), ('fear\\n', 1), ('anxietyproblems', 1), ('difficulties', 1), ('osteen', 1), ('emotion', 1), ('celestial', 1), ('separate', 1), ('trajectories', 1), ('intertwine', 1), ('thicker', 1), ('deres', 1), ('anoder', 1), ('contingency', 1), ('frightening', 1), ('gansey', 1), ('fire\\nme', 1), ('obedience', 1), ('reblogged', 1), ('stretcher\\nbefore', 1), ('sods', 1), ('amman', 1), ('diverted', 1), ('gurion', 1), ('australians', 1), ('oceans', 1), ('aftershocks', 1), ('asb', 1), ('whistled', 1), ('resilience', 1), ('factsheet', 1), ('vroman', 1), ('oqhq', 1), ('quqv', 1), ('curls', 1), ('soloquiero', 1), ('firefighte', 1), ('solano', 1), ('skaggs', 1), ('shortages', 1), ('socialwots', 1), ('globi_inclusion', 1), ('nrc_middleeast', 1), ('engulfs', 1), ('caravans', 1), ('tents', 1), ('handcuffed', 1), ('hookup', 1), ('soap', 1), ('imaginable', 1), ('splatoon', 1), ('default', 1), ('splattershot', 1), ('landslide\\ni', 1), ('you\\nand', 1), ('\\ngive', 1), ('sunshine\\ni', 1), ('scraped', 1), ('dehydration', 1), ('savages', 1), ('gangstermail', 1), ('samsung', 1), ('ahamedis', 1), ('messiah', 1), ('dajaal', 1), ('gog', 1), ('magog', 1), ('baa', 1), ('shameful', 1), ('stairs', 1), ('privileged', 1), ('paulista', 1), ('pardon', 1), ('mindless', 1), ('neptunia', 1), ('colosseum', 1), ('grinding', 1), ('thruuu', 1), ('commenters', 1), ('underestimate', 1), ('gards', 1), ('\\n\\npray', 1), ('crazy\\ncause', 1), ('learned\\nyou', 1), ('fire\\nbecause', 1), ('burned\\x89û_', 1), ('mixes', 1), ('twitterpated', 1), ('joins', 1), ('aichi', 1), ('psy', 1), ('misaki', 1), ('peens', 1), ('\\n\\nsex', 1), ('hydrated', 1), ('wave\\x89û_', 1), ('secretly', 1), ('lmk', 1), ('capsize', 1), ('battleship\\n', 1), ('swam', 1), ('bounced', 1), ('suffice', 1), ('guests', 1), ('derailed_benchmark', 1), ('paths', 1), ('resque', 1), ('cutest', 1), ('indot', 1), ('bias', 1), ('oblivious', 1), ('followed', 1), ('smokers', 1), ('snoop', 1), ('collie', 1), ('buddz', 1), ('mink', 1), ('shevlin', 1), ('hixon', 1), ('youngins', 1), ('kidneys', 1), ('smhrn', 1), ('wolter', 1), ('peeters', 1), ('rural', 1), ('la\\x89û_', 1), ('bon', 1), ('mores', 1), ('smackdown', 1), ('tyme', 1), ('slums', 1), ('illegality', 1), ('discourse', 1), ('confounds', 1), ('wasting', 1), ('clap', 1), ('splatdown', 1), ('\\n\\nswitching', 1), ('splatling', 1), ('fucboi', 1), ('slips', 1), ('sliding', 1), ('nester', 1), ('eeuxxz', 1), ('vai', 1), ('vir', 1), ('pra', 1), ('chord', 1), ('hanneman', 1), ('slash', 1), ('skynews', 1), ('taguatinga', 1), ('campeonatos', 1), ('rigged', 1), ('cramming', 1), ('sitc', 1), ('\\n\\nmake', 1), ('organisation', 1), ('sioux', 1), ('siouxland', 1), ('siouxlan', 1), ('{part', 1), ('}\\n', 1), ('buildingmuseum', 1), ('slipper', 1), ('unsigned', 1), ('consultative', 1), ('subconscious', 1), ('xkdrx', 1), ('muh', 1), ('belie', 1), ('sel', 1), ('leaking', 1), ('sewage', 1), ('estate\\nirish', 1), ('falmer', 1), ('bethlehem', 1), ('overåêhostages', 1), ('lcc', 1), ('angela', 1), ('sanders', 1), ('roundhouse', 1), ('tribulation', 1), ('sinai', 1), ('execute', 1), ('simmering', 1), ('convivted', 1), ('sigalert', 1), ('ufn', 1), ('sickmund', 1), ('ncjfcj', 1), ('byrne', 1), ('nat', 1), ('shrnnclbautista', 1), ('fishtails', 1), ('cent', 1), ('natty', 1), ('shouout', 1), ('vocals', 1), ('pierc', 1), ('oppression', 1), ('retaliation', 1), ('overboard', 1), ('bedhair', 1), ('vagrant', 1), ('shootings', 1), ('baffles', 1), ('nkxjiu', 1), ('soulja', 1), ('shirley', 1), ('caesar', 1), ('polluted', 1), ('microchip', 1), ('but\\nthe', 1), ('\\nelectrocute', 1), ('lofty', 1), ('transported', 1), ('wasabi', 1), ('floatin', 1), ('large\\x89û_', 1), ('multimillion', 1), ('chop', 1), ('billet', 1), ('frugal', 1), ('companionate', 1), ('anacrusis', 1), ('intriguing', 1), ('jobbing', 1), ('shadowflame', 1), ('wraith', 1), ('boxing', 1), ('kaimai', 1), ('ranges', 1), ('\\nissued', 1), ('pummel', 1), ('shannon', 1), ('sd', 1), ('enacted', 1), ('russellville', 1), ('clarksville', 1), ('dardanelle', 1), ('choctaw', 1), ('arcadia', 1), ('weakening', 1), ('lubbock', 1), ('boundary', 1), ('sevenfigz', 1), ('expense', 1), ('lips', 1), ('yennora', 1), ('cabramatta', 1), ('residual', 1), ('websites', 1), ('otto', 1), ('reggie', 1), ('fond', 1), ('sz', 1), ('rvwpwhj\\nhttps', 1), ('lajx', 1), ('dru', 1), ('lively', 1), ('tactical', 1), ('finale', 1), ('serephina', 1), ('defeater', 1), ('yeaahh', 1), ('rabbi', 1), ('spliff', 1), ('voices', 1), ('bridgeport', 1), ('burglar', 1), ('studies', 1), ('calabria', 1), ('malta', 1), ('padded', 1), ('qty', 1), ('southpointe', 1), ('boulevard', 1), ('warra', 1), ('whitewalkers', 1), ('intrigued', 1), ('niamh', 1), ('trench\\x89û_', 1), ('cgln', 1), ('poconorecord', 1), ('households', 1), ('virtual', 1), ('listings', 1), ('dorrie', 1), ('caruana', 1), ('catechize', 1), ('confidential', 1), ('respects', 1), ('sunday\\x89ûªs', 1), ('seatbelts', 1), ('recks', 1), ('intrusion', 1), ('interior', 1), ('sg', 1), ('sealed', 1), ('\\n\\noh', 1), ('school\\n\\nok\\n\\nim', 1), ('tx\\n', 1), ('schoolboy', 1), ('\\nexcision', 1), ('skism', 1), ('sexism', 1), ('\\nfirebeatz', 1), ('schella', 1), ('\\n\\nback', 1), ('kids\\n\\nloud', 1), ('\\n\\nniggas', 1), ('down\\n\\naggravating', 1), ('teachers\\n', 1), ('[new]', 1), ('distribution', 1), ('[passed]', 1), ('relating', 1), ('repaired', 1), ('savs', 1), ('convinced', 1), ('guage', 1), ('eyeball', 1), ('seamstress', 1), ('elvia', 1), ('tonne', 1), ('mat', 1), ('riches', 1), ('decrease', 1), ('salisbury', 1), ('cypress', 1), ('infamy', 1), ('spies', 1), ('satelite', 1), ('compl', 1), ('sassy', 1), ('hunk', 1), ('smoky', 1), ('fe', 1), ('studebaker', 1), ('superintendent', 1), ('lanford', 1), ('woo', 1), ('hoo', 1), ('patricio', 1), ('lozano', 1), ('willow', 1), ('glen', 1), ('trestle', 1), ('eo', 1), ('redlands', 1), ('guards', 1), ('jamal', 1), ('kfc', 1), ('samel_samel', 1), ('hosts', 1), ('reconnect', 1), ('rally\\x89û_', 1), ('cottages', 1), ('salha', 1), ('styles', 1), ('p_eople', 1), ('shahada', 1), ('class_sick', 1), ('weakened', 1), ('authoritarian', 1), ('disaster\\n', 1), ('nytimes', 1), ('ursula', 1), ('drool', 1), ('protoshoggoth', 1), ('saddle', 1), ('accountable', 1), ('preferable', 1), ('tawfmcaw', 1), ('beatdown', 1), ('saam', 1), ('izghpyqko', 1), ('ferrochrome', 1), ('verge', 1), ('index', 1), ('xleak', 1), ('\\nph', 1), ('tos', 1), ('festac', 1), ('sed', 1), ('bbm', 1), ('\\x89û÷food', 1), ('crematoria\\x89ûª', 1), ('famineåêmemories', 1), ('yfqxvak', 1), ('meats', 1), ('incinerator', 1), ('pulkovo', 1), ('superiority', 1), ('\\nunconditional', 1), ('putin\\ngame', 1), ('match\\nrelease', 1), ('zonnqgsxyw', 1), ('minion', 1), ('indexing', 1), ('remedial', 1), ('angioplasty', 1), ('dissertation', 1), ('dismayed', 1), ('rt_america', 1), ('rt_com', 1), ('zonewolf', 1), ('mo\\x89û_', 1), ('our_mother_mary', 1), ('janenelson', 1), ('stephenscifi', 1), ('adaptation', 1), ('optioned', 1), ('geek_apocalypse', 1), ('hesse', 1), ('fittscott', 1), ('vi\\x89û_', 1), ('entry', 1), ('\\x89û÷assault', 1), ('accountability\\x89ûª', 1), ('hourfamine', 1), ('watchmanis', 1), ('twit_san_diego', 1), ('asphalt', 1), ('sa\\x89û_', 1), ('thr', 1), ('thrarchives', 1), ('uuew', 1), ('mjles\\x89û_', 1), ('sketches', 1), ('rtphotographyuk', 1), ('roadid', 1), ('rabidmonkeys', 1), ('pemantaujkt', 1), ('melodyjkt\\x89û_', 1), ('patrickjbutler', 1), ('damiengayle', 1), ('expect\\x89û_', 1), ('owenrbroadhurst', 1), ('juanmthompson', 1), ('hist\\x89û_', 1), ('notexplained', 1), ('infamous', 1), ('naayf', 1), ('chandanee', 1), ('magu', 1), ('conf\\x89û_', 1), ('mme_austin', 1), ('kurtkamka', 1), ('karnythia', 1), ('hirochii', 1), ('hamosh', 1), ('loo\\x89û_', 1), ('greta', 1), ('impeach', 1), ('grant_factory', 1), ('weymouth', 1), ('seawalls', 1), ('grants', 1), ('emekagift', 1), ('vpsay', 1), ('muhammadu', 1), ('buhari', 1), ('alisonannyoung', 1), ('devereaux', 1), ('tanzania', 1), ('dryden', 1), ('spotted', 1), ('spun', 1), ('sylvan', 1), ('sudan\\x89ûªs', 1), ('mexwohd', 1), ('pills', 1), ('lith', 1), ('likened', 1), ('probation', 1), ('fines', 1), ('providers', 1), ('directed', 1), ('gr\\x89û_', 1), ('livescience', 1), ('\\x89ûï\\x89û\\x9d', 1), ('spouse', 1), ('rp', 1), ('silo', 1), ('hartford', 1), ('converting', 1), ('cuff', 1), ('rossendale', 1), ('roquey', 1), ('mollusk', 1), ('mayweather', 1), ('romantic', 1), ('sensei', 1), ('sandunes', 1), ('gentle', 1), ('lapping', 1), ('gulls', 1), ('roger', 1), ('goodell', 1), ('elk', 1), ('monday\\x89ûªs', 1), ('while\\x89û_', 1), ('robot_rainstorm', 1), ('vacancies', 1), ('gagnon', 1), ('imposing', 1), ('ballew', 1), ('cascade', 1), ('childress', 1), ('uphill', 1), ('rnk', 1), ('rockingham', 1), ('stokes', 1), ('[nc]', 1), ('supplemental', 1), ('modesto', 1), ('rmt', 1), ('browne', 1), ('[listeners', 1), ('[requests', 1), ('on]', 1), ('my\\x89û_', 1), ('rizzo', 1), ('riverside', 1), ('tlk', 1), ('widout', 1), ('nuh', 1), ('itz', 1), ('rubbery', 1), ('assessment', 1), ('optimization', 1), ('routing', 1), ('whoevers', 1), ('world\\x89ûªs', 1), ('crowds', 1), ('reeves', 1), ('corner\\ncroydonization\\naugust', 1), ('leg\\x89û_', 1), ('bah', 1), ('winter\\n', 1), ('menswear', 1), ('morty', 1), ('richie', 1), ('rgj', 1), ('revise', 1), ('scenario', 1), ('bromleythe', 1), ('ion', 1), ('rockyfire', 1), ('farewell', 1), ('gtxrwm', 1), ('everton', 1), ('wonderkid', 1), ('reusing', 1), ('equipments', 1), ('drumming', 1), ('champaign', 1), ('fdbdp', 1), ('silverman', 1), ('sarahksilverman', 1), ('\\n\\nsoundtrack', 1), ('tracey', 1), ('ullman', 1), ('~\\x89û¢', 1), ('thane', 1), ('unfortun', 1), ('orleans', 1), ('orlean', 1), ('people\\x89û_', 1), ('ribbon', 1), ('rescued\\x89û_', 1), ('repulsive', 1), ('victimiser', 1), ('dutton', 1), ('evangelical', 1), ('liar', 1), ('dupe', 1), ('overdrive', 1), ('styled', 1), ('undergroundbestsellers', 1), ('roadway', 1), ('statesville', 1), ('curry', 1), ('herman', 1), ('stephenson', 1), ('brewer', 1), ('renewing', 1), ('cabinets', 1), ('jacinta', 1), ('buff', 1), ('render', 1), ('proxy', 1), ('ssu', 1), ('karen', 1), ('enviromental', 1), ('pita', 1), ('hijacks', 1), ('shortcuts', 1), ('qwdkzti', 1), ('supremacist', 1), ('anders', 1), ('breivik', 1), ('unsurprisingly', 1), ('lxnjvl', 1), ('sgt', 1), ('roni', 1), ('ghanem', 1), ('maghar', 1), ('rebecca', 1), ('roga', 1), ('pittsburgh', 1), ('barcousky', 1), ('pb', 1), ('mordechai', 1), ('yehuda', 1), ('friedman', 1), ('ramat', 1), ('shemesh', 1), ('marlene', 1), ('menahem', 1), ('moshav', 1), ('safsufa', 1), ('devastating', 1), ('descendants', 1), ('carousel', 1), ('kane', 1), ('birb', 1), ('nora', 1), ('recur', 1), ('greystone', 1), ('\\npic', 1), ('janta', 1), ('planing', 1), ('constellation', 1), ('gaia', 1), ('drumstep', 1), ('remix\\n', 1), ('relaxinpr', 1), ('miprv', 1), ('latimes', 1), ('bureaucrats', 1), ('says\\n', 1), ('campground', 1), ('pipeline\\x89û_', 1), ('connections', 1), ('indiegogo', 1), ('redscarebot', 1), ('tanstaafl', 1), ('noah_anyname', 1), ('stormcoming', 1), ('quarantine\\x89û_', 1), ('offensiveåêcontent', 1), ('offensive\\x89û_', 1), ('specif', 1), ('mariana', 1), ('faction', 1), ('bickleton', 1), ('canteen', 1), ('warped', 1), ('discount', 1), ('redesigning', 1), ('itrawcwb', 1), ('\\n\\nwomen', 1), ('jtw', 1), ('bucs', 1), ('errrr', 1), ('faisal', 1), ('devji', 1), ('extremists', 1), ('pleasure', 1), ('huzzah', 1), ('vermilion', 1), ('reade', 1), ('unhealed', 1), ('unending', 1), ('invention', 1), ('schoolboy\\x89ûªs', 1), ('rationing', 1), ('rascal', 1), ('flatts', 1), ('rasaudauthor', 1), ('ablaze\\x89û_', 1), ('convection', 1), ('spits', 1), ('gloucester\\n', 1), ('gloucester', 1), ('ireporter', 1), ('damatu', 1), ('soaker', 1), ('\\x89û÷vulnerable\\x89ûª', 1), ('raffi_rc', 1), ('sustainourearth', 1), ('wells', 1), ('scoopit', 1), ('scandals', 1), ('israel\\x89ûªs', 1), ('ashdod', 1), ('emittin', 1), ('lyeh', 1), ('purported', 1), ('quirk', 1), ('mthe', 1), ('premises', 1), ('reliable', 1), ('anakin', 1), ('qtszg', 1), ('fnet\\n\\nsuicide', 1), ('qld', 1), ('queensland', 1), ('elephants', 1), ('masse', 1), ('backlash', 1), ('entitlement', 1), ('\\x89ûïall', 1), ('islamaphobe', 1), ('bpg', 1), ('gxi', 1), ('\\n\\nrealtime', 1), ('pulse', 1), ('tuning', 1), ('ctr', 1), ('goshen', 1), ('aims', 1), ('psp', 1), ('misti', 1), ('splitting', 1), ('personalities', 1), ('techies', 1), ('burners', 1), ('gloves', 1), ('argentinean', 1), ('wal', 1), ('casu', 1), ('syndicate', 1), ('lz', 1), ('xmyi', 1), ('progressive', 1), ('greetings', 1), ('publications', 1), ('motel', 1), ('phillip', 1), ('amritsar', 1), ('\\n\\n\\x89ûïthat\\x89ûªs', 1), ('exaggerated', 1), ('wounded\\x89û\\x9d', 1), ('vegetables', 1), ('poses', 1), ('strips', 1), ('abrianna', 1), ('neat', 1), ('onesie', 1), ('preacher', 1), ('praise', 1), ('aggravated', 1), ('unu', 1), ('gc', 1), ('poway', 1), ('hcg', 1), ('ensures', 1), ('whensoever', 1), ('nevermore', 1), ('above', 1), ('sizygwwf', 1), ('appoints', 1), ('brig', 1), ('gen', 1), ('kaiser', 1), ('mississippi', 1), ('mrc', 1), ('ot', 1), ('bjjhh', 1), ('postal', 1), ('hago', 1), ('escuchando', 1), ('pedo', 1), ('towel', 1), ('warmer', 1), ('porcupine', 1), ('families\\nhttp', 1), ('rfbpodi', 1), ('fried', 1), ('ravioliåêwith', 1), ('porcini', 1), ('ricotta\\x89û_', 1), ('liv', 1), ('valerie', 1), ('kiki', 1), ('polls', 1), ('unborn', 1), ('mothers', 1), ('spared', 1), ('preschool', 1), ('policylab', 1), ('neglect', 1), ('policyholders', 1), ('clico', 1), ('grandmother', 1), ('carmi', 1), ('assailant', 1), ('deliberately', 1), ('carolinaåêablaze', 1), ('blowin', 1), ('retard', 1), ('drain', 1), ('fre', 1), ('suspe', 1), ('jihadis', 1), ('aåêmiddle', 1), ('aged', 1), ('manåêarmed', 1), ('kill\\x89û_', 1), ('beloeil', 1), ('richelieu', 1), ('laurent', 1), ('expanding', 1), ('street\\nhttp', 1), ('daacj', 1), ('hfmq', 1), ('tetovo\\x89û_', 1), ('pnc', 1), ('holmdel', 1), ('nabbed', 1), ('pledged', 1), ('plymouth', 1), ('\\x89û÷let\\x89ûªs', 1), ('litter\\x89ûª', 1), ('silverado', 1), ('alllll', 1), ('nittys', 1), ('stockwell', 1), ('plot\\nin', 1), ('futurea', 1), ('totalitarian', 1), ('employs', 1), ('firemen', 1), ('literature', 1), ('\\nsign', 1), ('zsxjgv', 1), ('essenceofme', 1), ('major\\n', 1), ('indoor', 1), ('trampoline', 1), ('josh', 1), ('salyers', 1), ('blair', 1), ('jenna', 1), ('vaulter', 1), ('kira', 1), ('grì_nberg', 1), ('paraplegic', 1), ('reiterate', 1), ('recentlu', 1), ('brasswork', 1), ('shaken', 1), ('goodluck', 1), ('diverts', 1), ('musim', 1), ('aborted', 1), ('pkadlik', 1), ('jojowizphilipp', 1), ('hiss', 1), ('pisces', 1), ('wristband', 1), ('puppy', 1), ('twp', 1), ('driscoll', 1), ('snags', 1), ('parkway', 1), ('masonite', 1), ('wahpeton', 1), ('inches', 1), ('pickathon', 1), ('jackass', 1), ('stuffin', 1), ('preserve', 1), ('ajw', 1), ('cs', 1), ('littlebitofbass', 1), ('silinski', 1), ('onåê', 1), ('hookier', 1), ('stills', 1), ('hakogaku', 1), ('åêi', 1), ('andåêchina', 1), ('xshanemichaelsx', 1), ('instaxbooty', 1), ('tumbleon', 1), ('weallheartonedirection', 1), ('wouldn\\x89ûªt', 1), ('theonion', 1), ('heroically', 1), ('oceanåê', 1), ('susfu', 1), ('cptesco', 1), ('referencereference', 1), ('xekstrin', 1), ('partake', 1), ('brooks', 1), ('nearåêdinosaur', 1), ('provincial', 1), ('prettyboyshyflizzy', 1), ('postapocalypticflimflam', 1), ('prodding', 1), ('media\\x89û_the', 1), ('thundersnow', 1), ('uncommon', 1), ('seattle\\x89ûªs', 1), ('\\x89û÷up\\x89ûª', 1), ('encoded', 1), ('sensory', 1), ('cognitive', 1), ('affliction', 1), ('await', 1), ('disembarkment', 1), ('palermo', 1), ('forrestmankins', 1), ('deadgirltalking', 1), ('unfortunemelody', 1), ('jaylenejoybeligan', 1), ('tarynel', 1), ('dredougie', 1), ('santanico', 1), ('boyhaus', 1), ('jakeåê', 1), ('\\x89ûïafter', 1), ('montana\\x89ûªs', 1), ('bonesymcbones', 1), ('beartooth', 1), ('cosmetic', 1), ('periwinkle', 1), ('piping', 1), ('åáåáåá', 1), ('ambi', 1), ('bribe', 1), ('efcc', 1), ('operatives\\nsee', 1), ('ip\\x89û_', 1), ('diplomat', 1), ('eagles\\x89ûª', 1), ('matthews', 1), ('pharma', 1), ('overloaded', 1), ('heartless', 1), ('remaster', 1), ('frame', 1), ('windwaker', 1), ('writings', 1), ('contributions', 1), ('jihadi', 1), ('proto', 1), ('permutable', 1), ('qwkd', 1), ('outnumbering', 1), ('licenses', 1), ('perez', 1), ('niley', 1), ('shipper', 1), ('documentary', 1), ('narrated', 1), ('parter', 1), ('interrupt', 1), ('bernard', 1), ('\\n\\nusami', 1), ('graduated', 1), ('tagging', 1), ('illusions', 1), ('ridiculing', 1), ('pennlive', 1), ('mechanicsburg', 1), ('horno', 1), ('pelling', 1), ('hotels', 1), ('strings', 1), ('concealment', 1), ('rejuvenati', 1), ('pqhaxp', 1), ('peel', 1), ('southdown', 1), ('windsor', 1), ('peddle', 1), ('floorboard', 1), ('backroad', 1), ('out\\x89û_', 1), ('now\\x89û_', 1), ('cookie', 1), ('dough', 1), ('paw', 1), ('roamu', 1), ('emile', 1), ('hirsch', 1), ('filmmakers', 1), ('dorrett', 1), ('craig', 1), ('roy', 1), ('spx', 1), ('finite', 1), ('mint', 1), ('metastatic', 1), ('colorectal', 1), ('bayelsaåêstate', 1), ('obliteration\\nback', 1), ('dead\\nstory', 1), ('areas\\x89û_', 1), ('bestival', 1), ('molloy', 1), ('sheet', 1), ('than', 1), ('preconditioning', 1), ('corals', 1), ('panoramic', 1), ('cuts', 1), ('tindering', 1), ('gospel', 1), ('ebola\\nhttp', 1), ('cy', 1), ('ciu', 1), ('amo', 1), ('sublime', 1), ('faceåê', 1), ('ogbor', 1), ('wounding', 1), ('paladins', 1), ('ndtv', 1), ('empower', 1), ('milita', 1), ('disowned', 1), ('disowns', 1), ('an\\x89û_', 1), ('\\npray', 1), ('departed', 1), ('panay', 1), ('guimaras', 1), ('mountainous', 1), ('packing', 1), ('paci', 1), ('rsf', 1), ('gag', 1), ('overturns', 1), ('ld', 1), ('uniyw', 1), ('lads', 1), ('respondents', 1), ('consciousness', 1), ('fgcu', 1), ('tipster', 1), ('previews', 1), ('vuca', 1), ('raghu', 1), ('wardens', 1), ('specialized', 1), ('is\\nnormal', 1), ('acceptable', 1), ('builder', 1), ('blackmail', 1), ('climbed', 1), ('wheels', 1), ('hawk', 1), ('srk', 1), ('osp', 1), ('mounting', 1), ('osage', 1), ('expander', 1), ('slows', 1), ('orchid', 1), ('riders', 1), ('forex', 1), ('indicator', 1), ('irretrievable', 1), ('airborne', 1), ('controls', 1), ('sjfeb', 1), ('\\nh', 1), ('okinawan', 1), ('\\nfell', 1), ('yvsjyzwxjr', 1), ('oof', 1), ('vassals', 1), ('onofre', 1), ('payer', 1), ('shadowman', 1), ('monstrosities', 1), ('tsutomi', 1), ('yamaguchi', 1), ('commodity', 1), ('jaiden', 1), ('xcom', 1), ('infantryman', 1), ('experimental', 1), ('tutorials', 1), ('assertative', 1), ('appraisal', 1), ('hostages\\nhttp', 1), ('baqocmcjqc', 1), ('enslaved', 1), ('iraq\\x89ûªs', 1), ('promised', 1), ('candidates', 1), ('lydia', 1), ('loft', 1), ('fatally', 1), ('zipped', 1), ('considered', 1), ('makers', 1), ('crop', 1), ('shine', 1), ('sleet', 1), ('melted', 1), ('cube', 1), ('appetite', 1), ('perforated', 1), ('shear', 1), ('sfor', 1), ('alive\\nbut', 1), ('junctions', 1), ('eve', 1), ('wmata', 1), ('honored', 1), ('influential', 1), ('severing', 1), ('sunbathe', 1), ('illustrated', 1), ('horrifying', 1), ('admitted', 1), ('zergele', 1), ('qendil', 1), ('omron', 1), ('hem', 1), ('dicks', 1), ('___', 1), ('chopper', 1), ('acre', 1), ('^oo^\\n\\n', 1), ('harrybecareful', 1), ('tricky', 1), ('dicky', 1), ('krag', 1), ('necessarily', 1), ('\\ndidnt', 1), ('pandora', 1), ('\\n\\nomfg', 1), ('loud\\nmy', 1), ('multidimensional', 1), ('multidimensiona', 1), ('multidimensio', 1), ('multidimensi', 1), ('multidimen', 1), ('multidime', 1), ('rookie', 1), ('louder', 1), ('horrendous', 1), ('maxed', 1), ('inquisition', 1), ('darkspawn', 1), ('ht', 1), ('oiled', 1), ('closeup', 1), ('fukurodani', 1), ('bokuto', 1), ('ppor', 1), ('colombian', 1), ('festival\\x89û_', 1), ('sparking', 1), ('akxbskdn', 1), ('ls', 1), ('domination', 1), ('sheeting\\naaaaaand', 1), ('lightning\\ni', 1), ('fidget', 1), ('ricochet', 1), ('shelly', 1), ('madonna', 1), ('boots', 1), ('harmony', 1), ('aunts', 1), ('keller', 1), ('blackforestgateau', 1), ('\\n\\nnot', 1), ('ryans', 1), ('rosie', 1), ('o\\x89ûªdonnell', 1), ('fosters', 1), ('awe', 1), ('snowman', 1), ('wires', 1), ('elected', 1), ('diane', 1), ('randomactsofromance', 1), ('unsurprised', 1), ('ogun', 1), ('shootoutåê', 1), ('developing', 1), ('symptoms', 1), ('\\n\\nedward', 1), ('lancaster', 1), ('spectators\\x89û_', 1), ('kinesiology', 1), ('ironmanåš', 1), ('durability', 1), ('effectiveness', 1), ('exc', 1), ('deluxe', 1), ('elderly', 1), ('invincible', 1), ('trolls', 1), ('automated', 1), ('netbots', 1), ('complimentary', 1), ('worthless', 1), ('savior', 1), ('ferndale', 1), ('kenyatta', 1), ('muumbo', 1), ('citizens\\n\\nthanks', 1), ('hooked', 1), ('professionally', 1), ('unsensibly', 1), ('outrun', 1), ('volvo', 1), ('xc', 1), ('dashboard', 1), ('obsolete', 1), ('obligatory', 1), ('seekers', 1), ('ndetention', 1), ('unscreened', 1), ('declarat', 1), ('lambasted', 1), ('joke\\x89û\\x9d\\nwould', 1), ('gxqmdmza', 1), ('u\\n', 1), ('gop\\n', 1), ('maddow', 1), ('assumes', 1), ('leelanau', 1), ('extended', 1), ('tablets', 1), ('hazard\\n\\nhttp', 1), ('nsix', 1), ('i\\n\\n', 1), ('nuu', 1), ('fwt', 1), ('nueva', 1), ('favorita', 1), ('powered', 1), ('brassiere', 1), ('\\n\\nread', 1), ('railguns', 1), ('center\\nhttp', 1), ('kf', 1), ('mcsc\\nhttps', 1), ('zhrchcgv', 1), ('irandeal', 1), ('spaceshiptwo', 1), ('st\\nhazard', 1), ('spill\\nstarted', 1), ('am\\nimpact', 1), ('nside', 1), ('under\\na', 1), ('kamchatka', 1), ('by\\nå©daniel', 1), ('korzhonov\\nhttp', 1), ('hwgoqd', 1), ('freaks', 1), ('listenlive', 1), ('jokes', 1), ('trending', 1), ('ruler', 1), ('informant\\x89ûªs', 1), ('lunatics', 1), ('rental', 1), ('smashing', 1), ('pumpkins', 1), ('web', 1), ('wilderness', 1), ('roppongi', 1), ('wsls', 1), ('childcare', 1), ('stations', 1), ('nout', 1), ('rubbin', 1), ('notley', 1), ('tactful', 1), ('direct', 1), ('surprises', 1), ('puth', 1), ('brats', 1), ('kiddo', 1), ('gi', 1), ('sang', 1), ('destination', 1), ('daubt', 1), ('penneys', 1), ('debut', 1), ('severino', 1), ('adjustments', 1), ('refill', 1), ('tourniquet', 1), ('ipok', 1), ('detouring', 1), ('nooooooooo', 1), ('nooooo', 1), ('hotty', 1), ('exaggeration', 1), ('ukrainian', 1), ('msm\\n', 1), ('playoff', 1), ('noel', 1), ('noches', 1), ('bestia', 1), ('alexis_sanchez', 1), ('teammates', 1), ('goodnight', 1), ('gunners', 1), ('journeys', 1), ('constitute', 1), ('epidemic', 1), ('lasts', 1), ('snowflake', 1), ('propagating', 1), ('dilemma', 1), ('righteousness', 1), ('jah', 1), ('shii', 1), ('intended', 1), ('gaga', 1), ('dungeon', 1), ('broadwater', 1), ('bangtan', 1), ('friendships', 1), ('\\nnobody', 1), ('confidence', 1), ('anonymous\\x89û_', 1), ('inmates', 1), ('remand', 1), ('nikoniko', 1), ('nikon', 1), ('slr', 1), ('lorr', 1), ('justine', 1), ('snapping', 1), ('nigeriantribune', 1), ('florid', 1), ('sessions', 1), ('klitschko', 1), ('damaturu', 1), ('massiveåêflooding', 1), ('nieces', 1), ('\\n\\nmegan', 1), ('swanger', 1), ('ruthann', 1), ('mccormick', 1), ('daisy', 1), ('henley', 1), ('niagara', 1), ('package', 1), ('tours', 1), ('yyeso', 1), ('ngata', 1), ('fnet\\n\\nwatch', 1), ('baiting', 1), ('camper', 1), ('foxsportscom', 1), ('nflweek', 1), ('picks', 1), ('nflexpertpicks', 1), ('deflategate', 1), ('incremental', 1), ('disadvantaged', 1), ('obligations', 1), ('cramp', 1), ('bordentown', 1), ('islamist', 1), ('anjem', 1), ('choudary', 1), ('hallett', 1), ('billers', 1), ('promoted', 1), ('ranks', 1), ('demise', 1), ('personalize', 1), ('customer', 1), ('newcastle', 1), ('schoolgirl', 1), ('seaton', 1), ('delaval', 1), ('answer\\x89û_', 1), ('xq', 1), ('fmuge', 1), ('piglet', 1), ('willyt', 1), ('ksl', 1), ('millennium', 1), ('plaza', 1), ('legionnaire', 1), ('sturgis', 1), ('urges', 1), ('critics', 1), ('police\\x89û_', 1), ('favors', 1), ('smp', 1), ('abuses', 1), ('qb', 1), ('unaffected', 1), ('prysmian', 1), ('secures', 1), ('durden', 1), ('cowboys', 1), ('\\nthesensualeye', 1), ('\\n\\nmodel', 1), ('damage\\n\\ntoronto', 1), ('apr', 1), ('nsfw', 1), ('smb', 1), ('relay', 1), ('steals', 1), ('credentials', 1), ('enablement', 1), ('trooper', 1), ('bobble', 1), ('funko', 1), ('nanotech', 1), ('clots', 1), ('been\\x89û_', 1), ('dom', 1), ('prints', 1), ('lulu', 1), ('mypillowstudio', 1), ('behead', 1), ('auspol', 1), ('illustration', 1), ('manly', 1), ('pantofel', 1), ('pnpizody', 1), ('featcha', 1), ('edkins', 1), ('jarring', 1), ('tempered', 1), ('protector', 1), ('blackberry', 1), ('expansion', 1), ('bard', 1), ('etx', 1), ('marion', 1), ('harrison', 1), ('pointing', 1), ('doco', 1), ('setanta', 1), ('freeview', 1), ('punishable', 1), ('cocktail', 1), ('verde', 1), ('mezcal', 1), ('chartreuse', 1), ('cucumber', 1), ('bitters', 1), ('boonie', 1), ('usmc', 1), ('airsoft', 1), ('paintball', 1), ('boltåêcyclone', 1), ('packåêfor', 1), ('flash\\n\\n', 1), ('fnaf', 1), ('fanfiction', 1), ('trixie_drowned', 1), ('pageshi', 1), ('proxies', 1), ('altered', 1), ('achieving', 1), ('quarrels', 1), ('compromise', 1), ('watchmen', 1), ('netnewsledger', 1), ('thereåêwere', 1), ('rebuilding', 1), ('livelihoods', 1), ('ode', 1), ('gbonyin', 1), ('lga', 1), ('neil_eastwood', 1), ('knobhead', 1), ('uke', 1), ('neelum', 1), ('dud', 1), ('muzaffarabad', 1), ('teenage', 1), ('injured\\x89û_', 1), ('bottling', 1), ('stall', 1), ('ping', 1), ('me\\x89û_turns', 1), ('captivity', 1), ('introduced', 1), ('compensate', 1), ('shattered', 1), ('visage', 1), ('nbcnightlynews', 1), ('billneelynbc', 1), ('nbanews', 1), ('typhoon\\x89û_', 1), ('vaccine', 1), ('attack\\n', 1), ('submarines', 1), ('writes', 1), ('cmdr', 1), ('sidearm', 1), ('nosc', 1), ('lubrication', 1), ('metrofmtalk', 1), ('newser', 1), ('donations', 1), ('disclos', 1), ('natalie', 1), ('stavola', 1), ('hilda\\nth\\x89û_', 1), ('modis', 1), ('morocco', 1), ('straits', 1), ('gibraltar', 1), ('electr', 1), ('namjoon', 1), ('chizu\\ngender', 1), ('male\\nage', 1), ('\\nhair', 1), ('red\\neyes', 1), ('pink\\ndere', 1), ('pasokon\\nblood', 1), ('o\\nhttp', 1), ('coypf', 1), ('actd', 1), ('srsly', 1), ('dribbling', 1), ('urself', 1), ('embarrassment', 1), ('naaa', 1), ('sore', 1), ('mygc', 1), ('suspend', 1), ('coun\\x89û_', 1), ('childfund', 1), ('appeals', 1), ('cruising', 1), ('pandaw', 1), ('expeditions', 1), ('operating', 1), ('landsli', 1), ('regions', 1), ('dwindling', 1), ('suppl', 1), ('wedneday', 1), ('opted', 1), ('historically', 1), ('bonfires', 1), ('vibrator', 1), ('vape', 1), ('busted', 1), ('south\\x89û_', 1), ('parks', 1), ('imposition', 1), ('accidently', 1), ('exams', 1), ('ocd', 1), ('infact', 1), ('zimmer', 1), ('portable', 1), ('impulsive', 1), ('redesigned', 1), ('lifelong', 1), ('temp', 1), ('weloveyoulouis', 1), ('effected', 1), ('pensioner', 1), ('stories\\nsafe', 1), ('melbourne', 1), ('fade', 1), ('staining', 1), ('meeting\\nhopefully', 1), ('excite', 1), ('stefano', 1), ('dog\\x89ûªs', 1), ('kennel', 1), ('yorkshire', 1), ('farted', 1), ('broom', 1), ('lookin', 1), ('thinner', 1), ('fundwhen', 1), ('chords', 1), ('chacos', 1), ('crunchysensible', 1), ('footwear', 1), ('riooooos', 1), ('brains', 1), ('vibrating', 1), ('mri', 1), ('readout', 1), ('faultline', 1), ('disappointing', 1), ('buzzy', 1), ('kame', 1), ('sunburned', 1), ('wreak', 1), ('seatbelt', 1), ('header', 1), ('shhhh', 1), ('mxaaaa', 1), ('mva', 1), ('requesting', 1), ('sunstar', 1), ('injuries\\x89û_', 1), ('buildings\\n\\n', 1), ('wrld', 1), ('\\x89û÷avalanche\\x89ûª', 1), ('murfreesboro', 1), ('mumps', 1), ('ind', 1), ('kalispell', 1), ('mtr', 1), ('appalling', 1), ('businessmen', 1), ('msha', 1), ('mrw', 1), ('mpd', 1), ('armstrong', 1), ('accidents\\x89ûª', 1), ('\\n\\nmp', 1), ('lives\\nhttp', 1), ('ltyefjdm', 1), ('brut', 1), ('banki', 1), ('mouna', 1), ('local\\x89û_', 1), ('motogp', 1), ('indianapolis', 1), ('espargaro', 1), ('barrel', 1), ('threat\\x89û_', 1), ('ddnt', 1), ('ostentatious', 1), ('iggfnbixt', 1), ('sega', 1), ('gross', 1), ('morganite', 1), ('gemstone', 1), ('opal', 1), ('satin', 1), ('dmpl', 1), ('cameo', 1), ('rev', 1), ('siteinvestigating', 1), ('noranda', 1), ('kfvs', 1), ('girardeau', 1), ('carbondale', 1), ('campers', 1), ('blazes', 1), ('dirtylying', 1), ('dishonest', 1), ('amh', 1), ('whitegenocide', 1), ('asir', 1), ('mopheme', 1), ('bigstar', 1), ('montgomery', 1), ('stds', 1), ('slogan', 1), ('prompting', 1), ('notorious', 1), ('laboratory', 1), ('dealer', 1), ('peta', 1), ('ninja', 1), ('commence', 1), ('momentsathill', 1), ('nunus', 1), ('timas', 1), ('bikes', 1), ('wished', 1), ('spilt', 1), ('mayonnaise', 1), ('mcr', 1), ('snort', 1), ('hauk', 1), ('molecularly', 1), ('contig', 1), ('mmmmmm', 1), ('oooooohhhh', 1), ('oooh', 1), ('magnitudeåêåêml', 1), ('regionåêåênear', 1), ('misocapnist', 1), ('tobacco', 1), ('mirajane', 1), ('lalaloopsy', 1), ('seed', 1), ('sunburst', 1), ('seashore', 1), ('spice', 1), ('botha', 1), ('apartheid', 1), ('tutu', 1), ('nobel', 1), ('prize', 1), ('ira', 1), ('salivation', 1), ('beds', 1), ('kegm', 1), ('slithering', 1), ('viscous', 1), ('yeahs', 1), ('erykah', 1), ('badu', 1), ('livemint', 1), ('injured\\n\\nsuspected', 1), ('magner', 1), ('erecting', 1), ('monuments', 1), ('\\x89ûïheat', 1), ('dome\\x89û\\x9d', 1), ('microsoft\\x89ûªs', 1), ('nokia', 1), ('rrod', 1), ('bowknot', 1), ('womengirls', 1), ('zip', 1), ('onlin', 1), ('mgsv', 1), ('iffy', 1), ('killsåêone', 1), ('beaches', 1), ('subsecretariat', 1), ('garcia', 1), ('castells', 1), ('requa', 1), ('contemplation', 1), ('bridal', 1), ('wiwnpfxa', 1), ('metallica', 1), ('shooters', 1), ('weirdos', 1), ('landowner', 1), ('tattoos', 1), ('blood\\nronaldo', 1), ('boards', 1), ('mere', 1), ('spike', 1), ('ckec', 1), ('reminders', 1), ('zipper', 1), ('reebok', 1), ('passive', 1), ('coerced', 1), ('commitment', 1), ('parley', 1), ('joined\\x89û_', 1), ('jessica', 1), ('hollis', 1), ('norwalk', 1), ('ordinance', 1), ('megalpolis', 1), ('petting', 1), ('shiver', 1), ('\\nfear', 1), ('overflow\\nwas', 1), ('commencement', 1), ('hiking', 1), ('brinco', 1), ('drake\\x89ûªs', 1), ('wedgie', 1), ('testa', 1), ('distinction', 1), ('divers', 1), ('htarvrgly', 1), ('casting', 1), ('deviating', 1), ('dyxtmrydu', 1), ('foxa', 1), ('cmcsa', 1), ('sni', 1), ('amcx', 1), ('viab', 1), ('twx', 1), ('hikers', 1), ('trailheads', 1), ('actively', 1), ('embraced', 1), ('audiences', 1), ('obliterated\\n\\n', 1), ('ib', 1), ('lax', 1), ('pga', 1), ('speculation', 1), ('speculatio', 1), ('mbataweel', 1), ('align', 1), ('flirt', 1), ('rodder', 1), ('keeling', 1), ('barracuda', 1), ('riviera', 1), ('maxsys', 1), ('baume', 1), ('digs', 1), ('controversial', 1), ('\\x89û÷stonewall\\x89ûª', 1), ('matako_milk', 1), ('matako_', 1), ('fsloths', 1), ('wuh', 1), ('blp', 1), ('fanatical', 1), ('hygiene', 1), ('guevara', 1), ('greeting', 1), ('bravery', 1), ('marsac', 1), ('causin', 1), ('destruction\\\\', 1), ('elvis', 1), ('presley', 1), ('panther', 1), ('\\n\\nshuffle', 1), ('marley', 1), ('brinx', 1), ('striptease', 1), ('nhk', 1), ('marketforce\\x89ûªs', 1), ('\\x89ûïcat', 1), ('shark\\x89û\\x9d', 1), ('marketforce', 1), ('perth', 1), ('iinet', 1), ('nbn', 1), ('buffering', 1), ('activision', 1), ('cognizant', 1), ('calendars', 1), ('maratha', 1), ('scorched', 1), ('bengalis', 1), ('cal', 1), ('lightman', 1), ('manuscript', 1), ('suspiciously', 1), ('viayoutube', 1), ('manuel', 1), ('accuracy', 1), ('improves', 1), ('mango', 1), ('mane', 1), ('shuffle', 1), ('swarmed', 1), ('canines', 1), ('niece\\nhttp', 1), ('ahoucza', 1), ('underground', 1), ('morels', 1), ('ambleside', 1), ('farmr', 1), ('mushroom', 1), ('foragesecret', 1), ('barrington', 1), ('estates', 1), ('afte', 1), ('oppose', 1), ('nothingness', 1), ('blaise', 1), ('pascal', 1), ('radcliff', 1), ('newborn', 1), ('dumpster', 1), ('currensy', 1), ('dubbo', 1), ('shawnee', 1), ('olathe', 1), ('kan', 1), ('sbee', 1), ('thugging', 1), ('homies', 1), ('inmate', 1), ('saadthe', 1), ('kpdied', 1), ('razak', 1), ('pikin', 1), ('drift', 1), ('storming', 1), ('while', 1), ('bebacksoon', 1), ('hamayun', 1), ('shaheed', 1), ('heli', 1), ('then\\x89û_', 1), ('almighty', 1), ('rattles', 1), ('magnetic', 1), ('electrostatic', 1), ('fusion', 1), ('kissimmee', 1), ('mafireems', 1), ('kcarosawmur', 1), ('cookbook', 1), ('maailiss', 1), ('maaaaan', 1), ('phrobis', 1), ('sheath', 1), ('nr', 1), ('henshaw', 1), ('epicente', 1), ('epicen', 1), ('nne', 1), ('geysers', 1), ('lzk', 1), ('[ar]', 1), ('lyf', 1), ('lustig', 1), ('\\n\\ncommons', 1), ('gms', 1), ('\\n\\nwater', 1), ('lupe', 1), ('\\n~peace~love~rescue~', 1), ('luke', 1), ('ovaries', 1), ('luckily', 1), ('mexicans', 1), ('woulda', 1), ('lucas', 1), ('duda', 1), ('nic', 1), ('ltd', 1), ('tonka', 1), ('tfd', 1), ('refer', 1), ('boi', 1), ('he\\x89ûªs', 1), ('\\x89ûïsippin\\x89ûª', 1), ('lasso', 1), ('gasping', 1), ('giggling', 1), ('skiing', 1), ('corporation', 1), ('ubc', 1), ('own', 1), ('jesse', 1), ('suffers', 1), ('trashed', 1), ('maddie', 1), ('tae', 1), ('sophie', 1), ('cultsierre', 1), ('susceptible', 1), ('trama', 1), ('clancy', 1), ('novels', 1), ('paperback', 1), ('\\npanic', 1), ('\\nkind', 1), ('\\nreplace', 1), ('\\nfind', 1), ('\\nheaddesk', 1), ('looooooooooool', 1), ('looooool', 1), ('montano', 1), ('microsofts', 1), ('happenings', 1), ('solicitor', 1), ('munch', 1), ('endangered', 1), ('cuyahoga', 1), ('greening', 1), ('methods', 1), ('obtaing', 1), ('transcription', 1), ('butiqob', 1), ('ayhoka_', 1), ('committing', 1), ('foo', 1), ('technically', 1), ('geologic', 1), ('loner', 1), ('diaries', 1), ('sand\\nmay', 1), ('twos\\nall', 1), ('choked', 1), ('redwing', 1), ('team\\x89û_', 1), ('gallipoli', 1), ('iiii', 1), ('riveeeeeer', 1), ('warthen', 1), ('bullpen', 1), ('meerkat', 1), ('periscope', 1), ('whipping', 1), ('bone', 1), ('lol\\nlook', 1), ('infested', 1), ('america\\nyour', 1), ('weapon\\nyou', 1), ('wimp', 1), ('locksmithing', 1), ('respecting', 1), ('elaboration', 1), ('lpdkl', 1), ('manhood', 1), ('sissy', 1), ('advances', 1), ('treasure', 1), ('outbreed', 1), ('akx', 1), ('foreclosed', 1), ('tejc', 1), ('hhahaha', 1), ('fuckboy', 1), ('control\\n', 1), ('pseudojuuzo', 1), ('ll=', 1), ('thnk', 1), ('wizard', 1), ('boyd', 1), ('international\\ndomestic\\nteam', 1), ('squad\\nprofile', 1), ('injury\\nlamha', 1), ('ba', 1), ('lamha', 1), ('update\\n', 1), ('\\nfollow\\n', 1), ('icc_realckt', 1), ('balanced', 1), ('gecko', 1), ('chillin', 1), ('litigation', 1), ('attorney', 1), ('scottsdale', 1), ('az', 1), ('bodily', 1), ('lithgow', 1), ('remodeled', 1), ('backty', 1), ('curds', 1), ('grandad', 1), ('blowers', 1), ('tuffers', 1), ('youth\\ndid', 1), ('liwkjybe', 1), ('norge', 1), ('whiny', 1), ('aboooooortiooooonnnnns', 1), ('beth', 1), ('underwood', 1), ('altitude', 1), ('lindenow', 1), ('pm\\nemergency', 1), ('lily', 1), ('xo', 1), ('cowgirl', 1), ('yc', 1), ('unhappy', 1), ('purposely', 1), ('uncover', 1), ('slumber', 1), ('imperialism', 1), ('spins', 1), ('militarism', 1), ('crushes', 1), ('peoples', 1), ('trolleys', 1), ('ramify', 1), ('multitudinal', 1), ('disposed', 1), ('kwxggt', 1), ('vancouveråêisland', 1), ('mag', 1), ('khuzdar', 1), ('wednes', 1), ('lifes', 1), ('~lyricaleyes', 1), ('amazin', 1), ('dedication', 1), ('lhh', 1), ('mastered', 1), ('goof', 1), ('guild', 1), ('saunders', 1), ('glencoe', 1), ('haired', 1), ('dreamland', 1), ('goooooooo', 1), ('untill', 1), ('fence', 1), ('brbrs', 1), ('fousey', 1), ('prevented', 1), ('waimea', 1), ('brandace', 1), ('consuming', 1), ('leitchfield', 1), ('ky', 1), ('bella', 1), ('rosalie', 1), ('sponsorships', 1), ('leicester_merc', 1), ('leesburg', 1), ('scoreless', 1), ('seventh', 1), ('fcsl', 1), ('embra', 1), ('tier', 1), ('dee', 1), ('dum', 1), ('leejasper', 1), ('volcanic', 1), ('plume', 1), ('earners', 1), ('breeder', 1), ('bred', 1), ('dragonvale', 1), ('lapses', 1), ('indi', 1), ('ti', 1), ('niqqa', 1), ('stressing', 1), ('pastie', 1), ('industrial', 1), ('calum', 1), ('chambers', 1), ('benjamin', 1), ('leftwich', 1), ('ab', 1), ('resin', 1), ('flatback', 1), ('rhinestone', 1), ('decoration', 1), ('catlow', 1), ('swivels', 1), ('shar', 1), ('shaolin', 1), ('shen', 1), ('chiang', 1), ('venoms', 1), ('kung', 1), ('favori', 1), ('atop', 1), ('latter', 1), ('ffa', 1), ('foodstand', 1), ('fairgrounds', 1), ('lv', 1), ('sinkhole\\x89û_', 1), ('aqua', 1), ('scghl', 1), ('piq', 1), ('anderson', 1), ('aluminum', 1), ('missouri', 1), ('naomi', 1), ('langhorne', 1), ('middletown', 1), ('heavyåêrain', 1), ('italianåêalps', 1), ('fleetwood', 1), ('durant', 1), ('nba', 1), ('adidas', 1), ('swingman', 1), ('huffington', 1), ('kuala', 1), ('lumpur', 1), ('shizune', 1), ('kou', 1), ('[cash', 1), ('register]', 1), ('[buildings', 1), ('burning]', 1), ('kotolily_', 1), ('kosciusko', 1), ('kontrolled', 1), ('dice', 1), ('kirsten', 1), ('gillibrand', 1), ('extend', 1), ('kinetic', 1), ('typography', 1), ('kindermorgan', 1), ('kimanzi_', 1), ('demonstrations', 1), ('earl', 1), ('kijima_matako', 1), ('kiilud', 1), ('disappear', 1), ('atmospheric', 1), ('deconstruct', 1), ('kerri', 1), ('sackville', 1), ('kevin', 1), ('chefs', 1), ('pastures', 1), ('sustainable', 1), ('kesabaran', 1), ('membuahkan', 1), ('hasil', 1), ('indah', 1), ('pada', 1), ('saat', 1), ('tepat', 1), ('talisman', 1), ('cristiano', 1), ('mipasho', 1), ('kenny', 1), ('jonas', 1), ('osbourne', 1), ('remark', 1), ('latinos', 1), ('kelby', 1), ('tomlinson', 1), ('mannered', 1), ('baseman', 1), ('metropolitan', 1), ('rbi', 1), ('askin', 1), ('means\\nnot', 1), ('answers\\nplus', 1), ('thing\\nthis', 1), ('councilman', 1), ('neill', 1), ('sedar', 1), ('shaper', 1), ('width', 1), ('adjustable', 1), ('catering', 1), ('auditory', 1), ('hcxvneoav', 1), ('kcem', 1), ('whitner', 1), ('hale', 1), ('kh', 1), ('kayla', 1), ('kayaking', 1), ('katunews', 1), ('kanger', 1), ('coils', 1), ('vaping', 1), ('kakeru', 1), ('teduka', 1), ('bfore', 1), ('bomd', 1), ('vzl', 1), ('forbath', 1), ('lands\\nhttp', 1), ('ciwxabva\\x89û_t', 1), ('kach', 1), ('palestinian\\x89û_', 1), ('kabwandi_', 1), ('k_matako_bot', 1), ('hairdryer', 1), ('\\x89û÷nother\\x89û\\x9d', 1), ('other\\x89û\\x9d', 1), ('purchases', 1), ('drako', 1), ('zarharzar', 1), ('those', 1), ('tusky', 1), ('convicted', 1), ('anthonys', 1), ('regal', 1), ('orianna', 1), ('curling', 1), ('wand', 1), ('cuase', 1), ('pours', 1), ('induced', 1), ('cruisingblazing', 1), ('banging', 1), ('cech', 1), ('keegan', 1), ('collecting', 1), ('sandwich', 1), ('endorsement', 1), ('issit', 1), ('chachi', 1), ('junko', 1), ('juneau', 1), ('jun', 1), ('yemenis', 1), ('san\\x89ûªa', 1), ('romeo', 1), ('juliet', 1), ('dismisses', 1), ('prisoner', 1), ('quantum', 1), ('judges', 1), ('radicalisation', 1), ('juanny', 1), ('beisbol', 1), ('jrowah', 1), ('jplocalfirst', 1), ('eliotschool', 1), ('artful', 1), ('mallord', 1), ('turner', 1), ('clicca', 1), ('sul', 1), ('titolo', 1), ('\\ncastle', 1), ('donington', 1), ('responders\\nhttps', 1), ('yj', 1), ('johnmtaita', 1), ('joelheyman', 1), ('anythin\\x89û_', 1), ('landolina', 1), ('joboozoso', 1), ('usat', 1), ('usatoday_nfl', 1), ('harlan', 1), ('knox', 1), ('[ky]', 1), ('jiwa', 1), ('rickards', 1), ('expecte', 1), ('prayed', 1), ('jetstar', 1), ('bali', 1), ('niggaeven', 1), ('wolfgangjoc', 1), ('homage', 1), ('smalls', 1), ('hypnotize', 1), ('gangs', 1), ('lgbt', 1), ('pollution', 1), ('unemployment', 1), ('jen', 1), ('bullied', 1), ('hoodie', 1), ('lj', 1), ('ej', 1), ('mfl', 1), ('jzspou', 1), ('pirates', 1), ('acquired', 1), ('fiat', 1), ('harman', 1), ('consumerist', 1), ('rocking', 1), ('rogers', 1), ('offs', 1), ('moseby', 1), ('barfield', 1), ('alexis', 1), ('restart', 1), ('fleet', 1), ('ongoing', 1), ('schedule\\x89û_', 1), ('nra', 1), ('proposes', 1), ('msv', 1), ('situations', 1), ('marke', 1), ('albeit', 1), ('unsuccessful', 1), ('fuso', 1), ('yamashiro', 1), ('cachet', 1), ('aogashima', 1), ('jane', 1), ('kelsey', 1), ('economy\\n', 1), ('pm\\nold', 1), ('wgton\\nthe', 1), ('kunstler', 1), ('there\\x89ûªs', 1), ('ponds', 1), ('momtherbot', 1), ('jade', 1), ('florida\\x89û_', 1), ('busines', 1), ('recordand', 1), ('behaviors', 1), ('realism', 1), ('nottingham', 1), ('conserve', 1), ('her\\x89û_', 1), ('dreadfully', 1), ('freeing', 1), ('newidea', 1), ('uneducated', 1), ('cocoa', 1), ('sip', 1), ('awesomesauce', 1), ('\\ngave', 1), ('cams', 1), ('wompppp', 1), ('amdollela', 1), ('kulli', 1), ('aal', 1), ('separated', 1), ('constitutional', 1), ('politic\\x89û_', 1), ('overpass', 1), ('joys', 1), ('me\\nnow', 1), ('flood\\nyou', 1), ('fighter\\nbut', 1), ('baaaack', 1), ('petersen', 1), ('bowhunting', 1), ('bows', 1), ('alil', 1), ('chihaya', 1), ('relatively', 1), ('static', 1), ('develops', 1), ('trapping', 1), ('dwarfs', 1), ('villain', 1), ('miracle', 1), ('trois', 1), ('rivieres', 1), ('promotion', 1), ('everwhe', 1), ('curfew\\nand', 1), ('just\\x89û_', 1), ('saddlebrooke', 1), ('affair', 1), ('queer', 1), ('sultry', 1), ('rosenbergs', 1), ('collaborating', 1), ('superstition', 1), ('swami', 1), ('agnivesh', 1), ('weddings', 1), ('highlighted', 1), ('partially', 1), ('insanity', 1), ('erally', 1), ('unplug', 1), ('myelf', 1), ('tounge', 1), ('pepperoni', 1), ('gotdamn', 1), ('downside', 1), ('duma', 1), ('exercises', 1), ('zr', 1), ('nqj', 1), ('\\x89û÷muslim', 1), ('women\\x89ûª', 1), ('aren\\x89ûªt', 1), ('croat', 1), ('deploying', 1), ('hence', 1), ('fronts', 1), ('isai', 1), ('psm', 1), ('scattered', 1), ('creepiest', 1), ('argentina', 1), ('\\n\\nfind', 1), ('\\nvibrates', 1), ('noooooooooooo', 1), ('manifesting', 1), ('helm', 1), ('stormy', 1), ('kcrw', 1), ('hedge', 1), ('impacts', 1), ('seclusion', 1), ('compliance', 1), ('inject', 1), ('veins', 1), ('wayward', 1), ('qzloremft', 1), ('vibe', 1), ('friending', 1), ('thursd', 1), ('detona', 1), ('worship', 1), ('superstitions', 1), ('irin', 1), ('tangles', 1), ('reconstruction', 1), ('reduction', 1), ('hashd', 1), ('shaabi', 1), ('theft', 1), ('inws', 1), ('spsgsp', 1), ('investment', 1), ('keurig', 1), ('waimate', 1), ('co\\x89û_', 1), ('virg', 1), ('mueller', 1), ('nov', 1), ('invades', 1), ('sociologist', 1), ('relative', 1), ('doer', 1), ('mhl', 1), ('swords', 1), ('starks', 1), ('greyjoys', 1), ('paperwork', 1), ('simplify', 1), ('staffing', 1), ('logistics', 1), ('randy', 1), ('materialism', 1), ('cybersecurity', 1), ('basics', 1), ('defective', 1), ('intertissue', 1), ('guabxfv', 1), ('inspectors', 1), ('addresses', 1), ('refund', 1), ('\\n\\naesop', 1), ('illnesses', 1), ('barcelona', 1), ('alba', 1), ('infographic', 1), ('damp', 1), ('qnh', 1), ('neonatal', 1), ('infected', 1), ('piercings', 1), ('infantry', 1), ('lume', 1), ('analog', 1), ('shelling', 1), ('tahreer', 1), ('fire\\n', 1), ('shud', 1), ('contries', 1), ('incredulous', 1), ('outcry', 1), ('taxpayers', 1), ('objection', 1), ('nf', 1), ('incheon', 1), ('prosecutors', 1), ('nami', 1), ('kim', 1), ('hangi', 1), ('inbounds', 1), ('nl', 1), ('buted', 1), ('hope\\ni', 1), ('sinking\\naway', 1), ('\\ndon', 1), ('around\\nyou', 1), ('fastings', 1), ('pizzeria', 1), ('daniels', 1), ('rococo', 1), ('alan', 1), ('perlis', 1), ('wonders', 1), ('addicts', 1), ('defensive', 1), ('decreases', 1), ('vulnerability', 1), ('flee', 1), ('burundi', 1), ('pascoe', 1), ('vale', 1), ('outbound', 1), ('tullamarine', 1), ('citylink', 1), ('offbeat', 1), ('odai', 1), ('bucharest', 1), ('romania', 1), ('dangers', 1), ('interruptions', 1), ('annoy', 1), ('zh', 1), ('ausfbwh', 1), ('pundit', 1), ('grave', 1), ('horowitz', 1), ('vaccines', 1), ('nwo', 1), ('kalmikya', 1), ('astrakhan', 1), ('volgagrad', 1), ('dagestan', 1), ('locusts\\n\\n', 1), ('creeping', 1), ('derma', 1), ('brackets', 1), ('jimin', 1), ('droughts', 1), ('peacetime', 1), ('reimagining', 1), ('shakespeare', 1), ('midsummer', 1), ('crqck', 1), ('becyme', 1), ('mayor', 1), ('includes', 1), ('foursquare', 1), ('mayflower', 1), ('imm', 1), ('imagini', 1), ('noi', 1), ('clipuri', 1), ('awakened', 1), ('biomarkdarrah', 1), ('suvs', 1), ('sooooooo', 1), ('maisy', 1), ('martha', 1), ('uncomfortable', 1), ('radneck', 1), ('cavaliers', 1), ('lakers', 1), ('illusoria', 1), ('icarus', 1), ('offenses', 1), ('rivals', 1), ('loosers', 1), ('ij', 1), ('mazda', 1), ('acura', 1), ('rsx', 1), ('subaru', 1), ('ci', 1), ('hailing', 1), ('influencers', 1), ('socialtimes', 1), ('yarbrough', 1), ('\\n\\nunless', 1), ('flaunt', 1), ('\\nunless', 1), ('slating', 1), ('disgrace', 1), ('niggah', 1), ('onnnn', 1), ('alone\\nor', 1), ('\\ncarry', 1), ('on\\nmay', 1), ('sound\\nof', 1), ('frustrated', 1), ('quantit\\x89û_https', 1), ('cymg', 1), ('ltg', 1), ('holtz', 1), ('rotating', 1), ('cigs', 1), ('tray', 1), ('lend', 1), ('anime', 1), ('ghostwriting', 1), ('rihanna', 1), ('motivated', 1), ('donnelly', 1), ('thh', 1), ('furst', 1), ('patio', 1), ('umbrella', 1), ('flipped', 1), ('positivity', 1), ('rembr', 1), ('dotish', 1), ('vlog', 1), ('roar', 1), ('rolling\\x89û_', 1), ('quiet', 1), ('phandom', 1), ('faved', 1), ('tyuler', 1), ('dirks', 1), ('uiseful', 1), ('decapitated', 1), ('atl', 1), ('gander', 1), ('appease', 1), ('morbid', 1), ('wasthe', 1), ('godjesus', 1), ('muhammad', 1), ('killedsomebody', 1), ('shantae', 1), ('wii', 1), ('shantaeforsmash', 1), ('remedyyyy', 1), ('oikawa', 1), ('karasuno', 1), ('positively', 1), ('bateman', 1), ('scores', 1), ('waved', 1), ('mistaken', 1), ('cataclysmic', 1), ('reator', 1), ('melts', 1), ('understand\\n', 1), ('copolitics', 1), ('dilutional', 1), ('institutionalize', 1), ('sued', 1), ('mold', 1), ('flamethrower', 1), ('probaly', 1), ('sauntered', 1), ('fred', 1), ('blowjobs', 1), ('cannibalism', 1), ('masturbation', 1), ('wage', 1), ('lexington', 1), ('veterinarian', 1), ('iembot_hfo', 1), ('idm', 1), ('gotham', 1), ('bcs', 1), ('ithats', 1), ('trashcans', 1), ('sara', 1), ('icaseit', 1), ('mfi', 1), ('ibrahimovic', 1), ('mercurial', 1), ('vapor', 1), ('footballfreestyle', 1), ('ibrahimmisau', 1), ('ibliz', 1), ('esoteric', 1), ('astrologian', 1), ('backups', 1), ('congestion', 1), ('ramp', 1), ('offloading', 1), ('louisan', 1), ('rotting', 1), ('smelled', 1), ('dumbass', 1), ('hinatobot', 1), ('wwa', 1), ('moe', 1), ('laleh', 1), ('therapist', 1), ('servicin', 1), ('lurkin', 1), ('fangirling', 1), ('ulzzang', 1), ('hyung', 1), ('seok', 1), ('liners', 1), ('bleased', 1), ('yuppies', 1), ('tourists', 1), ('stabbed', 1), ('meds', 1), ('get\\x89û_', 1), ('ounce', 1), ('disrespectful', 1), ('reviving', 1), ('preparing', 1), ('laptop', 1), ('stung', 1), ('zion', 1), ('sorrow', 1), ('throwin', 1), ('dunking', 1), ('weimar', 1), ('hustlin', 1), ('unter', 1), ('gunning', 1), ('romance\\nit', 1), ('me\\nbut', 1), ('heartache', 1), ('misery\\nain', 1), ('swiftly', 1), ('ohlordy', 1), ('not\\x89û_', 1), ('monsters', 1), ('oils', 1), ('baan', 1), ('thai', 1), ('sushi', 1), ('fml', 1), ('upload', 1), ('typewriters', 1), ('renewable', 1), ('windfarms', 1), ('smokey', 1), ('destiel', 1), ('ozt', 1), ('sfa', 1), ('usagi', 1), ('airhead', 1), ('misstep', 1), ('photogenic', 1), ('dwell', 1), ('confines', 1), ('suze', 1), ('contents', 1), ('occitane', 1), ('lavera', 1), ('policies', 1), ('buckley', 1), ('skinless', 1), ('above\\nwould', 1), ('gaynor', 1), ('oktaviana', 1), ('devi', 1), ('adamantly', 1), ('opposed', 1), ('sweated', 1), ('shawn', 1), ('akfnejf', 1), ('piracy', 1), ('slavery', 1), ('purely', 1), ('idiocy', 1), ('freakingg', 1), ('drying', 1), ('october', 1), ('forever\\nstay', 1), ('side\\non', 1), ('night\\n\\nfear', 1), ('loathing', 1), ('jinx', 1), ('someones', 1), ('smth', 1), ('waited', 1), ('sht', 1), ('fridge', 1), ('protein', 1), ('shake', 1), ('higuain', 1), ('offside', 1), ('invented', 1), ('insomniacs', 1), ('dang', 1), ('retirement', 1), ('instruction', 1), ('slightest', 1), ('stirring', 1), ('days=only', 1), ('coz', 1), ('kids=but', 1), ('laters', 1), ('scone', 1), ('tackle', 1), ('condom', 1), ('packets', 1), ('encouraging', 1), ('kinder', 1), ('cousins', 1), ('swea', 1), ('resorted', 1), ('tying', 1), ('thrift', 1), ('suckers', 1), ('disciplinary', 1), ('measures', 1), ('arrestpastornganga', 1), ('independence', 1), ('rowyso', 1), ('alone\\ndon', 1), ('moan\\nabout', 1), ('made\\nif', 1), ('it\\ni', 1), ('demeanor', 1), ('staid', 1), ('runkeeper', 1), ('weights', 1), ('arc', 1), ('emery', 1), ('toooooo', 1), ('bck', 1), ('ahahahga', 1), ('capoeira', 1), ('bearer', 1), ('trinna', 1), ('cyberman', 1), ('oamsgajagahahah', 1), ('laighign', 1), ('scored', 1), ('squeaky', 1), ('punk', 1), ('halo', 1), ('pamanian', 1), ('misguided', 1), ('prophets', 1), ('imprison', 1), ('regress', 1), ('batter', 1), ('theatres', 1), ('fanboys', 1), ('politely', 1), ('jared', 1), ('microwave', 1), ('intead', 1), ('assemble', 1), ('presume', 1), ('soggy', 1), ('lashings', 1), ('allegiance', 1), ('peeped', 1), ('frontin', 1), ('jeepåêsunk', 1), ('tinted', 1), ('bumpin', 1), ('kansas', 1), ('hyatt', 1), ('aia', 1), ('cote', 1), ('asap\\n\\nalso\\n\\n', 1), ('watches', 1), ('arcade', 1), ('overpriced', 1), ('w|', 1), ('specials', 1), ('memo', 1), ('resident', 1), ('josie', 1), ('splifs', 1), ('hegot', 1), ('rumbling', 1), ('translated', 1), ('shop\\x89ûªs', 1), ('cutekitten', 1), ('crhedrys', 1), ('nko', 1), ('[tremor', 1), ('dlc]', 1), ('[fatalities', 1), ('ray]', 1), ('thorin', 1), ('sandbox', 1), ('spyro', 1), ('texture', 1), ('hacks', 1), ('gardens', 1), ('[in', 1), ('game]', 1), ('rona', 1), ('romanatwoodvlogs', 1), ('beginnings', 1), ('zx', 1), ('ost', 1), ('ogre', 1), ('claw', 1), ('lexi', 1), ('belle', 1), ('fps', 1), ('cardboard', 1), ('heartwarming', 1), ('collateral', 1), ('realities', 1), ('glitch', 1), ('specialguest', 1), ('crapgamer', 1), ('seeley', 1), ('sn', 1), ('vabengal', 1), ('zss', 1), ('pokì©mon', 1), ('sapphire', 1), ('cjs', 1), ('tremors', 1), ('stalag', 1), ('ermac', 1), ('tournament', 1), ('skywars', 1), ('flechadas', 1), ('sinistras', 1), ('knuckles', 1), ('punches', 1), ('mods', 1), ('sticky', 1), ('informer', 1), ('abh', 1), ('pvp', 1), ('bombardment', 1), ('piano', 1), ('entertainer\\x89û\\x9d', 1), ('atgames', 1), ('handheld', 1), ('ashens', 1), ('hardline', 1), ('throwingknifes', 1), ('lithium', 1), ('eminem', 1), ('nate', 1), ('dogg', 1), ('bunk', 1), ('campanha', 1), ('walktrough', 1), ('takeoff', 1), ('atc', 1), ('benedict', 1), ('cumberbatch', 1), ('mystical', 1), ('economics', 1), ('hubert', 1), ('humphrey', 1), ('interpretation', 1), ('sneezing', 1), ('smack', 1), ('scrolling', 1), ('exact', 1), ('insults', 1), ('devote', 1), ('pride', 1), ('reprocussions', 1), ('retroactive', 1), ('towns', 1), ('emilee', 1), ('commas', 1), ('ease', 1), ('hond', 1), ('sidjsjdjekdjskdjd', 1), ('zeroes', 1), ('negatively', 1), ('mcdonald', 1), ('coolest', 1), ('typing', 1), ('ants', 1), ('pitched', 1), ('ofnsixjks', 1), ('chromebook', 1), ('joked', 1), ('innings', 1), ('clears', 1), ('portaloos', 1), ('sentient', 1), ('steven', 1), ('mumbling', 1), ('cackling', 1), ('spitters', 1), ('oomf', 1), ('misogyny', 1), ('racism', 1), ('ish', 1), ('murlo', 1), ('tribez', 1), ('typewriter', 1), ('gunk', 1), ('unexplainable', 1), ('straighten', 1), ('otp', 1), ('ssshhheeesshh', 1), ('indyfest', 1), ('receipts', 1), ('wrong\\n\\nbut', 1), ('\\nliterally', 1), ('badging', 1), ('kian', 1), ('inbetween', 1), ('smoochy', 1), ('awakenings', 1), ('clips', 1), ('bicentennial', 1), ('coffees', 1), ('pricing', 1), ('alredy', 1), ('alfredo', 1), ('psalms\\nand', 1), ('prodigal', 1), ('returned\\nanyone', 1), ('burned\\n', 1), ('out\\nkill', 1), ('implode', 1), ('rhett', 1), ('orphan', 1), ('gazing', 1), ('cozy', 1), ('affluent', 1), ('lobster', 1), ('\\n\\nit', 1), ('victorious', 1), ('rv', 1), ('mkayla', 1), ('cee', 1), ('childish', 1), ('hour\\x89û_\\x89û_', 1), ('alarmingly', 1), ('molys', 1), ('immensely', 1), ('butterlondon', 1), ('crayons', 1), ('ploppy', 1), ('touchdown', 1), ('slsp', 1), ('interrupted', 1), ('iverson', 1), ('malone', 1), ('trophy', 1), ('clearing', 1), ('scully', 1), ('sfe', 1), ('angelina', 1), ('jolie', 1), ('sef', 1), ('rebooting', 1), ('implicit', 1), ('bro\\n', 1), ('didn`t', 1), ('medal', 1), ('tangled', 1), ('concur', 1), ('mmk', 1), ('rhiannon', 1), ('hungover', 1), ('uhmmmm', 1), ('we\\x89ûªll', 1), ('bod', 1), ('cis', 1), ('offended', 1), ('transgendered', 1), ('advantage', 1), ('micro', 1), ('shironu_akaineko', 1), ('airhorns', 1), ('king\\x89ûªs', 1), ('\\x89û÷the', 1), ('tower\\x89ûª', 1), ('kickstarter', 1), ('blevins', 1), ('skip', 1), ('fragrance', 1), ('bathe', 1), ('oven', 1), ('instagrams', 1), ('slave', 1), ('hotboy', 1), ('blunts', 1), ('apologise', 1), ('sincerely', 1), ('grudges', 1), ('unfollow', 1), ('skyler', 1), ('disgusted', 1), ('celebrating', 1), ('namekians', 1), ('nudes', 1), ('crip', 1), ('doin', 1), ('buddhas', 1), ('cheaply\\n', 1), ('arti', 1), ('kaboom', 1), ('ssb', 1), ('losers', 1), ('ballad', 1), ('mona', 1), ('lisa', 1), ('lolo', 1), ('tragedies', 1), ('collar', 1), ('ori', 1), ('bind', 1), ('bacon', 1), ('roblox', 1), ('howie', 1), ('arin', 1), ('gummy', 1), ('grumpout', 1), ('cher', 1), ('hwrf', 1), ('lashes', 1), ('taipei', 1), ('hvy', 1), ('sm', 1), ('shades', 1), ('guillermo', 1), ('noaa', 1), ('looping', 1), ('dancers', 1), ('shipwreck\\nmargarita', 1), ('engle', 1), ('holt', 1), ('byr', 1), ('stm', 1), ('quem', 1), ('lembra', 1), ('calais\\x89û_', 1), ('seeker', 1), ('humboldt', 1), ('cty', 1), ('residence', 1), ('lassics', 1), ('processes', 1), ('streamlined', 1), ('insofar', 1), ('organization', 1), ('abbog', 1), ('html', 1), ('hqhed', 1), ('fnet\\n\\na', 1), ('hp', 1), ('lto', 1), ('lump', 1), ('warehouse', 1), ('divestment', 1), ('pmngiqy', 1), ('virtu', 1), ('dkhqgv', 1), ('\\x89ûïlittle', 1), ('boy\\x89û\\x9d', 1), ('achievements', 1), ('dorrian', 1), ('manorial', 1), ('gnocchi', 1), ('rbpk', 1), ('wordk', 1), ('zmne', 1), ('siding', 1), ('anthelmintic', 1), ('drawing', 1), ('browseråêhijacker', 1), ('freeze', 1), ('veggies\\nhttp', 1), ('mtpr', 1), ('standardized', 1), ('cc', 1), ('jet\\x89ûªs', 1), ('scratching', 1), ('pedals', 1), ('baskets', 1), ('charming', 1), ('revelation', 1), ('roman', 1), ('flour', 1), ('busey', 1), ('fiddle', 1), ('celebration', 1), ('sequence', 1), ('developer', 1), ('hld', 1), ('xlywbn', 1), ('statesmanlike', 1), ('cv', 1), ('draft', 1), ('inaugural', 1), ('jgisavq', 1), ('anatomic', 1), ('remodeling', 1), ('iaavroiv', 1), ('planners', 1), ('fellow', 1), ('eagles', 1), ('sexuality', 1), ('diagnosis', 1), ('newåêheights', 1), ('nockthie', 1), ('hamlet', 1), ('taungbazar', 1), ('buthidaung', 1), ('severely', 1), ('subcommittee', 1), ('oversight', 1), ('htt\\x89û_', 1), ('hough_jeff', 1), ('dougkessler', 1), ('slideshare', 1), ('norfolk', 1), ('\\x89û÷crying', 1), ('creative', 1), ('interviewed', 1), ('anatomy', 1), ('liveleak', 1), ('\\x89ûïairplane\\x89û\\x9d', 1), ('receipt', 1), ('buys', 1), ('napa', 1), ('dorett', 1), ('modibo', 1), ('maiga', 1), ('fucktard', 1), ('nightmarish', 1), ('homemade', 1), ('yogurt', 1), ('stray', 1), ('homecoming', 1), ('prom', 1), ('suites', 1), ('make\\x89û_', 1), ('jpmorgan', 1), ('wamu', 1), ('inventories', 1), ('moly', 1), ('qvc', 1), ('bravo', 1), ('referred', 1), ('hollyw', 1), ('starring', 1), ('convertible', 1), ('dnt', 1), ('hm', 1), ('travels', 1), ('greeted', 1), ('bigfoot', 1), ('landmark', 1), ('majesty', 1), ('salman', 1), ('unstoppable', 1), ('humanity\\nbajrangi', 1), ('bhaijaan', 1), ('\\ncrosed', 1), ('eighty', 1), ('ì¢', 1), ('schoolgirls', 1), ('hindustan', 1), ('himika', 1), ('amase', 1), ('foresaw', 1), ('jps', 1), ('feb', 1), ('malyasiaairlines', 1), ('hillary\\x89ûªs', 1), ('bimbo', 1), ('eruptions', 1), ('questionable', 1), ('skateboards', 1), ('saferåê', 1), ('uptick', 1), ('statewide', 1), ('courier', 1), ('estrella', 1), ('hibernating', 1), ('pbx', 1), ('irrespective', 1), ('careerism', 1), ('crbzfz', 1), ('res', 1), ('doppler', 1), ('edmond', 1), ('chann', 1), ('girl\\ndid', 1), ('friends\\nabout', 1), ('outs', 1), ('kash', 1), ('foundation', 1), ('magazine', 1), ('\\n\\ntodd', 1), ('ghe', 1), ('because|i', 1), ('interestud', 1), ('submissions', 1), ('requiem', 1), ('wander', 1), ('springer', 1), ('spaniel', 1), ('lifeguard', 1), ('promotes', 1), ('rei', 1), ('puwp', 1), ('budgets', 1), ('mohammed', 1), ('timelapse', 1), ('stellar', 1), ('undercard', 1), ('filler', 1), ('aaarrrgghhh', 1), ('uimbekge', 1), ('involves', 1), ('kicking', 1), ('nobleman', 1), ('elven', 1), ('weirdo', 1), ('icy', 1), ('rum', 1), ('preferably', 1), ('hendrixonfire', 1), ('noob', 1), ('violated', 1), ('mumbaitimes', 1), ('helpful', 1), ('nuking', 1), ('bloggers', 1), ('hazards', 1), ('hashtags', 1), ('gargoyle', 1), ('hoof', 1), ('coil', 1), ('silentmind', 1), ('pouring', 1), ('vivid', 1), ('triad', 1), ('frequent', 1), ('uptown', 1), ('midtown', 1), ('cn', 1), ('manitou', 1), ('overhead', 1), ('oakridge', 1), ('yycstorm', 1), ('heather', 1), ('ava', 1), ('sparxxx', 1), ('threesome', 1), ('autopsy', 1), ('klinenberg', 1), ('ayyo', 1), ('dei', 1), ('å¡f', 1), ('\\nrelentless', 1), ('dominicana', 1), ('compensations', 1), ('palinfoen', 1), ('misery', 1), ('gazans', 1), ('secondhand', 1), ('chrissie', 1), ('finn', 1), ('strains', 1), ('sprains', 1), ('\\nbodies', 1), ('\\npicking', 1), ('division', 1), ('overtook', 1), ('tru', 1), ('luv', 1), ('iniquities', 1), ('isa', 1), ('dominos', 1), ('culinary', 1), ('cuisine', 1), ('harvey', 1), ('metaphor', 1), ('nooo', 1), ('comings', 1), ('labelled', 1), ('otsuka', 1), ('quarrel', 1), ('tailor', 1), ('kay', 1), ('madinah', 1), ('terwilliger', 1), ('pour', 1), ('rotations', 1), ('leaning', 1), ('learni', 1), ('\\x89û÷', 1), ('vol', 1), ('deejayempiresound', 1), ('\\nclaimin', 1), ('heared', 1), ('laughtraders', 1), ('capitulation', 1), ('cnnbrk', 1), ('kgb', 1), ('bla', 1), ('rdt', 1), ('marr', 1), ('primal', 1), ('bedtime', 1), ('dissuaded', 1), ('cleaning', 1), ('checkpoints', 1), ('qaryatayn', 1), ('bagged', 1), ('financially', 1), ('harshness', 1), ('a\\nbetter', 1), ('day\\nby', 1), ('c\\nracing', 1), ('sirens\\npacing', 1), ('policeman', 1), ('karjo', 1), ('macomb', 1), ('sassed', 1), ('ndp', 1), ('\\x89û÷disaster', 1), ('tropics', 1), ('sticking', 1), ('hatzolah', 1), ('horn\\x89û_', 1), ('hansel', 1), ('gretel', 1), ('yeh', 1), ('hannah', 1), ('hank', 1), ('mulberry', 1), ('antony', 1), ('hamptonroadsfor', 1), ('halsey', 1), ('troye', 1), ('extras', 1), ('aboriginal', 1), ('cricketer', 1), ('haley', 1), ('richardson', 1), ('summons', 1), ('[pic]', 1), ('caesars', 1), ('fvck', 1), ('cfc', 1), ('ancop', 1), ('alas', 1), ('overrated', 1), ('imouto', 1), ('superman', 1), ('slowpoke', 1), ('poc', 1), ('fishiest', 1), ('gutted', 1), ('fracture', 1), ('clinic', 1), ('gut', 1), ('deutsch', 1), ('monarchy', 1), ('gunnar', 1), ('optiks', 1), ('siege', 1), ('gaming', 1), ('onyx', 1), ('bit\\x89û_', 1), ('vector', 1), ('cutter', 1), ('gulfport', 1), ('realizations', 1), ('bitten', 1), ('gsp', 1), ('northeastern', 1), ('mountain\\x89û_', 1), ('dries', 1), ('bhp', 1), ('billiton', 1), ('avoids', 1), ('thewalkingdead\\nseason', 1), ('conquer\\n', 1), ('garza', 1), ('atlas', 1), ('leones', 1), ('copa', 1), ('greer', 1), ('resume', 1), ('disrupted', 1), ('bastards', 1), ('censorship', 1), ('bailout', 1), ('continues\\nhttp', 1), ('uxp', 1), ('poqjlb', 1), ('presqu', 1), ('ile', 1), ('terrence', 1), ('neal', 1), ('rigga', 1), ('camp\\nb', 1), ('hail_youtsey', 1), ('goblue', 1), ('easton', 1), ('softball', 1), ('fastpitch', 1), ('sk', 1), ('moir', 1), ('jan\\x89û_', 1), ('bombeffects', 1), ('graham', 1), ('canceled', 1), ('fundraise', 1), ('hibef', 1), ('cxox', 1), ('fences', 1), ('swollen', 1), ('categories', 1), ('defined', 1), ('very', 1), ('hilly', 1), ('lifeline', 1), ('fci', 1), ('allocating', 1), ('veneto', 1), ('weighs', 1), ('liveleakfun', 1), ('fresno', 1), ('construct', 1), ('uk\\x89ûªs', 1), ('organisms', 1), ('chowchilla', 1), ('schoenfeld', 1), ('bilsen', 1), ('his\\x89û_', 1), ('gamer', 1), ('fuckkkkkk', 1), ('blinker', 1), ('gostei', 1), ('vì_deo', 1), ('pure', 1), ('jou', 1), ('geyser', 1), ('olde', 1), ('fashioned', 1), ('lol\\nhttp', 1), ('efvut', 1), ('sallie', 1), ('memorial_day', 1), ('mustard', 1), ('aul', 1), ('newsbrokenemergency', 1), ('servicesgold', 1), ('coastpowerlinetramtr', 1), ('alves', 1), ('starve', 1), ('starbs', 1), ('redo', 1), ('ayyy', 1), ('brb', 1), ('amidst', 1), ('goggles', 1), ('pigeon', 1), ('gainesville', 1), ('cocky', 1), ('strutted', 1), ('contacts', 1), ('grizzly', 1), ('gns', 1), ('gmtty', 1), ('vixen', 1), ('marc', 1), ('bolan', 1), ('heading\\x89û_', 1), ('coalition', 1), ('fondness', 1), ('backing', 1), ('totalitarianism', 1), ('copied', 1), ('ginga', 1), ('drago', 1), ('violently', 1), ('obvious\\nmale', 1), ('\\nsir', 1), ('boylesports', 1), ('animated', 1), ('flavor', 1), ('strawberry', 1), ('speeds', 1), ('unlimited', 1), ('eur', 1), ('bwin', 1), ('gigawatts', 1), ('installed', 1), ('capacity\\n_one', 1), ('gwatt', 1), ('leczolkmsv', 1), ('georgian', 1), ('wines', 1), ('georgegallagher', 1), ('robin\\x89û_', 1), ('woes', 1), ('claiborne', 1), ('geoengineering', 1), ('å¡', 1), ('jp', 1), ('\\x89û÷british', 1), ('schism\\x89ûª', 1), ('privacy', 1), ('achimota', 1), ('zenit', 1), ('gears', 1), ('br', 1), ('gaping', 1), ('agdq', 1), ('kororinpa', 1), ('marble', 1), ('tloz', 1), ('oracle', 1), ('metroid', 1), ('gail', 1), ('russell', 1), ('dalroy', 1), ('rd]', 1), ('nd]', 1), ('dodxi', 1), ('cåêis', 1), ('lyrically', 1), ('fylde', 1), ('preston\\x89ûªs', 1), ('disappearing', 1), ('limestone', 1), ('ln', 1), ('fieldstone', 1), ('wpd', 1), ('fwd', 1), ('coats', 1), ('sprite', 1), ('cocker', 1), ('spaniels', 1), ('cools', 1), ('durban', 1), ('rapid', 1), ('splattling', 1), ('propane', 1), ('sunnymeade', 1), ('wn', 1), ('offering', 1), ('sweep', 1), ('antipozi', 1), ('cucks', 1), ('firetrucks', 1), ('fic', 1), ('poetry', 1), ('anterior', 1), ('chemicals', 1), ('strives', 1), ('elation', 1), ('lean', 1), ('zzzz', 1), ('freyas', 1), ('lookss', 1), ('freed', 1), ('captives', 1), ('\\x89ûïi', 1), ('freebesieged', 1), ('yougov', 1), ('lumbar', 1), ('tibetan', 1), ('spacer', 1), ('ltz', 1), ('produces', 1), ('costing', 1), ('apiece', 1), ('dodge', 1), ('bodied', 1), ('libby', 1), ('ori\\x89û_', 1), ('rainstorms', 1), ('elanorofrohan', 1), ('zurich', 1), ('foto', 1), ('\\x89ûïlove', 1), ('isn\\x89ûªt', 1), ('[red]', 1), ('cebu', 1), ('philippi', 1), ('pat', 1), ('spen', 1), ('addict', 1), ('spa', 1), ('forestservice', 1), ('dhsscitech', 1), ('buildings\\x89ûówe', 1), ('katu', 1), ('nightmares', 1), ('ronge', 1), ('sask', 1), ('mutt', 1), ('capsule', 1), ('powder', 1), ('discussed', 1), ('introduction', 1), ('californians', 1), ('sahel', 1), ('chore', 1), ('footed', 1), ('pajamas', 1), ('[big', 1), ('mode]', 1), ('timey', 1), ('referral', 1), ('prater', 1), ('pronounced', 1), ('hooligan', 1), ('provokes', 1), ('follownflnews', 1), ('precedent', 1), ('undetected', 1), ('unpacked', 1), ('flourishing', 1), ('sleigh', 1), ('toothsome', 1), ('onrhpz', 1), ('shaft', 1), ('fab', 1), ('albertsons', 1), ('|lauren', 1), ('county\\n\\nhttp', 1), ('goszra', 1), ('bdd', 1), ('lakh\\x89û_', 1), ('ut', 1), ('raheel', 1), ('sharif', 1), ('chitral', 1), ('lauded', 1), ('fwo', 1), ('westchester', 1), ('eligible', 1), ('fjords', 1), ('fleshgod', 1), ('blinded', 1), ('cheesecake', 1), ('cartoony', 1), ('papa', 1), ('draws', 1), ('perry', 1), ('tucson', 1), ('steep', 1), ('terrain', 1), ('mountains\\x89û_', 1), ('fitz', 1), ('tantrums', 1), ('up\\n', 1), ('flicks', 1), ('physically', 1), ('gasped', 1), ('invested', 1), ('coney', 1), ('newer', 1), ('cedar', 1), ('linford', 1), ('convene', 1), ('awards', 1), ('gis', 1), ('retainers', 1), ('impressions', 1), ('lieu', 1), ('triumphs', 1), ('firepower', 1), ('[electronic', 1), ('resource]', 1), ('infectious', 1), ('diseases', 1), ('firefigthers', 1), ('northampton', 1), ('connecticut', 1), ('condo', 1), ('clare', 1), ('sonic', 1), ('transporta', 1), ('charlton', 1), ('winery', 1), ('wsoc', 1), ('displaces', 1), ('carriage', 1), ('brant', 1), ('drummond', 1), ('temecula', 1), ('boutta', 1), ('ferno', 1), ('engineering', 1), ('inspect', 1), ('components', 1), ('fel', 1), ('zakuun', 1), ('wrestler', 1), ('bioter\\x89û_', 1), ('atlanta', 1), ('åêfedex', 1), ('mishaps\\n\\nhttp', 1), ('sjnkpj', 1), ('lee\\n\\n', 1), ('watchcbs', 1), ('wxia', 1), ('migrants\\x89û_', 1), ('belo', 1), ('ooow', 1), ('swallow', 1), ('ooo', 1), ('ole', 1), ('bene', 1), ('gesserit', 1), ('litany', 1), ('dune', 1), ('motivator', 1), ('nazir', 1), ('crackdowns\\x89û_', 1), ('musicvideo', 1), ('air\\ni', 1), ('free\\nfrom', 1), ('despair\\nand', 1), ('sow', 1), ('fco', 1), ('condemns', 1), ('fc', 1), ('bushman', 1), ('palmer', 1), ('cecil', 1), ('commentes', 1), ('overtaking', 1), ('lift', 1), ('fascinating', 1), ('propaganda', 1), ('epileptic\\x89û_', 1), ('epilept', 1), ('osama', 1), ('mhmmm', 1), ('nellis', 1), ('cheyenne', 1), ('disea', 1), ('homebuyer', 1), ('miscalculation', 1), ('mwjcdk', 1), ('drills', 1), ('ajvfjd', 1), ('qni', 1), ('\\x89û÷body', 1), ('bags\\x89ûª', 1), ('khalil', 1), ('abdul', 1), ('rasheed', 1), ('bags\\n\\nhttp', 1), ('vpvskciyro', 1), ('wingers', 1), ('prem', 1), ('misfortunebut', 1), ('noxdv', 1), ('more\\x89û_', 1), ('neces', 1), ('ultimatum', 1), ('extremeåêweather', 1), ('identification', 1), ('gleaned', 1), ('a\\nnumber', 1), ('exo', 1), ('exquisite', 1), ('sto', 1), ('exporting', 1), ('solving', 1), ('begforcum', 1), ('allday_cumshots', 1), ('cumcovered', 1), ('sexycumshots', 1), ('cumtown\\n', 1), ('bj_nutt\\n', 1), ('cumslut_', 1), ('girlslovecum', 1), ('strip', 1), ('krefeld', 1), ('exploring', 1), ('miì©ville', 1), ('worldoilåê', 1), ('worldoil', 1), ('wednesday\\x89û_', 1), ('urogyn', 1), ('mesh', 1), ('offenders', 1), ('downpours', 1), ('exofficio', 1), ('nypd', 1), ('åê\\x89û_', 1), ('ensuing', 1), ('evildead', 1), ('grapes', 1), ('pitfalls', 1), ('sadness', 1), ('needless', 1), ('strain', 1), ('eversafe', 1), ('padres', 1), ('bogged', 1), ('cpu', 1), ('bsg', 1), ('sufficiently', 1), ('hyped', 1), ('finer', 1), ('subatomic', 1), ('spells', 1), ('choppas', 1), ('komo', 1), ('fitba', 1), ('eurocrisis', 1), ('ensembles', 1), ('operational', 1), ('counterpart', 1), ('squabble', 1), ('immigration', 1), ('etp', 1), ('esn', 1), ('next\\x89û_', 1), ('captors', 1), ('recluse', 1), ('\\nbetrayed\\nhttp', 1), ('stkcv\\n', 1), ('indonesian', 1), ('err', 1), ('clapton', 1), ('erdogan\\x89ûªs', 1), ('\\nmax', 1), ('zirngast', 1), ('jacobin', 1), ('\\non', 1), ('erdogan', 1), ('socialists', 1), ('ercjmnea', 1), ('dash', 1), ('designers', 1), ('priests', 1), ('interracial', 1), ('harrowing', 1), ('harassment', 1), ('dravet', 1), ('drowns', 1), ('cydia', 1), ('tweak', 1), ('epa', 1), ('entertain', 1), ('\\n\\ndiarrhea', 1), ('volga', 1), ('breeze', 1), ('freshly', 1), ('coiffed', 1), ('dogger', 1), ('westward', 1), ('regent', 1), ('towing', 1), ('metre', 1), ('innovation', 1), ('enca', 1), ('onboard', 1), ('=tps=', 1), ('tdm', 1), ('emts', 1), ('\\x89û÷minimum', 1), ('wage\\x89ûª', 1), ('abella', 1), ('alcoholism', 1), ('forgiving', 1), ('northwestern\\x89û_', 1), ('unsure', 1), ('paging', 1), ('jewell', 1), ('canal', 1), ('principles', 1), ('practices', 1), ('hazmat', 1), ('redruthåêuk', 1), ('plumber', 1), ('practitioner', 1), ('healthcare', 1), ('recruitment', 1), ('counselors', 1), ('wasilla', 1), ('jk', 1), ('repairing', 1), ('offerings', 1), ('uac', 1), ('rar', 1), ('dispatchers', 1), ('boone', 1), ('beaumont', 1), ('spohn', 1), ('ellie', 1), ('goulding', 1), ('acesse', 1), ('nosso', 1), ('para', 1), ('ouvir', 1), ('elem', 1), ('pomo', 1), ('\\nelem', 1), ('scofield', 1), ('hotbox', 1), ('sona', 1), ('elecman', 1), ('el\\x89û_', 1), ('monte', 1), ('attempts', 1), ('delinquency', 1), ('pasadena', 1), ('watered', 1), ('macy', 1), ('thanksgiving', 1), ('cleav', 1), ('expose', 1), ('cleavage', 1), ('egyptian', 1), ('efs', 1), ('pluto', 1), ('charon', 1), ('maimonides', 1), ('eff', 1), ('muckrock', 1), ('biometrics', 1), ('edwin', 1), ('jimmy', 1), ('lapaka', 1), ('terry', 1), ('sergio', 1), ('honourable', 1), ('nemanja', 1), ('matic', 1), ('economists', 1), ('investing', 1), ('strategies', 1), ('ala', 1), ('bracket', 1), ('screws', 1), ('driller', 1), ('boxed', 1), ('takis', 1), ('rubbing', 1), ('fasteners', 1), ('xrwn', 1), ('brenas', 1), ('bivens', 1), ('particulate=break', 1), ('voltaic', 1), ('voc=petroleum', 1), ('bacteria', 1), ('decomposition', 1), ('letdown', 1), ('equals', 1), ('mcconnell', 1), ('judicial', 1), ('nominations', 1), ('govern', 1), ('lyme', 1), ('alice', 1), ('uluru', 1), ('paratroopers', 1), ('rotary', 1), ('uvopwz', 1), ('oryx', 1), ('symbol', 1), ('peninsula', 1), ('yangeqbuqw', 1), ('mannequin', 1), ('decorating', 1), ('thoroughly', 1), ('brutality', 1), ('nvr', 1), ('duckvillelol', 1), ('flips', 1), ('grabs', 1), ('dubstep', 1), ('hardstyle', 1), ('flynn', 1), ('onr', 1), ('legionna', 1), ('oi', 1), ('dt', 1), ('pickpocket', 1), ('stree', 1), ('alaskapublic', 1), ('jarmusch', 1), ('vampires', 1), ('actavis', 1), ('clementines', 1), ('utp', 1), ('lists', 1), ('abnormally', 1), ('drob', 1), ('soldi', 1), ('pepsi', 1), ('storen', 1), ('curing', 1), ('disrespect', 1), ('consis', 1), ('yo\\x89û_', 1), ('spokes', 1), ('raptors', 1), ('differ', 1), ('rang', 1), ('goodlook', 1), ('sensitive', 1), ('dracula', 1), ('vampire', 1), ('owen', 1), ('bengston', 1), ('\\x89ûïnumbers', 1), ('upward', 1), ('stern', 1), ('indiahttp', 1), ('informationng', 1), ('p=', 1), ('glory', 1), ('luiz', 1), ('santos', 1), ('doves', 1), ('proms', 1), ('ebony', 1), ('dorion', 1), ('consistency', 1), ('dorette', 1), ('doone', 1), ('architects', 1), ('permission', 1), ('natwest', 1), ('city\\x89ûªs', 1), ('tallest', 1), ('chants', 1), ('whiskey', 1), ('mommys', 1), ('panik', 1), ('myths', 1), ('obscuring', 1), ('daddy', 1), ('trying\\nto', 1), ('elitist', 1), ('weekly', 1), ('thrive', 1), ('pisco', 1), ('weaknesses', 1), ('airlift', 1), ('flame', 1), ('blink', 1), ('shtfplan', 1), ('qbstqxa', 1), ('qx', 1), ('modest', 1), ('sniff', 1), ('sniiiiiiff', 1), ('donny', 1), ('argue', 1), ('stark', 1), ('ifs', 1), ('ands', 1), ('buts', 1), ('domain', 1), ('sophistication', 1), ('closely', 1), ('zrnf', 1), ('dren', 1), ('dialyses', 1), ('rendered', 1), ('buildings\\nhttps', 1), ('cpwiecegv', 1), ('hhs', 1), ('selects', 1), ('catholicism', 1), ('homophobia', 1), ('potter', 1), ('renovation', 1), ('steamroller', 1), ('squashed', 1), ('bono', 1), ('tmh', 1), ('brining', 1), ('filter', 1), ('offsite', 1), ('sqfp', 1), ('ecz', 1), ('i\\nits', 1), ('googlemaps', 1), ('calculates', 1), ('fester', 1), ('andåêword', 1), ('hammond', 1), ('listing', 1), ('arabic', 1), ('of\\nchildren', 1), ('zouis', 1), ('timedoes', 1), ('playa', 1), ('sockets', 1), ('denmark', 1), ('dorling', 1), ('kindersley', 1), ('publishing', 1), ('staff\\x89û_', 1), ('chicks', 1), ('lides', 1), ('gn', 1), ('disinfo', 1), ('disillusioned', 1), ('\\ncheck\\nhappy', 1), ('girl\\ncheck\\ndream', 1), ('crushed\\ncheck\\ngreat', 1), ('music\\ncheck\\nall', 1), ('crowe', 1), ('tropes', 1), ('allowing', 1), ('\\x89û÷hoax', 1), ('device\\x89ûª', 1), ('atåêcinema', 1), ('[chapter', 1), ('diretube', 1), ('cyprus', 1), ('fightåêterrorism', 1), ('diego', 1), ('urg', 1), ('leona', 1), ('dinah', 1), ('josephus', 1), ('antiochus', 1), ('epiphanes', 1), ('fireball', 1), ('diageo', 1), ('stresses', 1), ('\\x89û÷islamic', 1), ('terrorism\\x89ûª', 1), ('dfr', 1), ('monthly', 1), ('dnbheaven', 1), ('vergil', 1), ('agnus', 1), ('[window]', 1), ('dmd', 1), ('leedstraif\\nhttps', 1), ('zhrtcvu', 1), ('devia', 1), ('ler', 1), ('przez', 1), ('esevu', 1), ('assets', 1), ('koz', 1), ('fashionable', 1), ('mountaineering', 1), ('leisure', 1), ('tab\\x89û_', 1), ('\\nfrom', 1), ('iwate', 1), ('cuana', 1), ('emerged', 1), ('describes', 1), ('surah', 1), ('humaza', 1), ('descended', 1), ('shadowed', 1), ('harshly', 1), ('skeeter', 1), ('hasn\\x89ûªt', 1), ('cutlery', 1), ('dispute', 1), ('flint', 1), ('metropolis', 1), ('highsmith', 1), ('freestyles', 1), ('etoffe', 1), ('charmeuse', 1), ('clothesless', 1), ('precisionistic', 1), ('vestment', 1), ('psfda', 1), ('opinion\\n', 1), ('telangana', 1), ('democracy\\x89ûªs', 1), ('dawabsha', 1), ('erode', 1), ('homegrown', 1), ('copies', 1), ('demco', 1), ('hitch', 1), ('ultra', 1), ('flatliners', 1), ('longevity', 1), ('lucifer', 1), ('dismay', 1), ('so\\nsoon', 1), ('surrendered', 1), ('drought\\ndescending', 1), ('disturbed\\n\\n', 1), ('sunrise', 1), ('haiku', 1), ('delmont', 1), ('onion', 1), ('delhi', 1), ('defendant', 1), ('testify', 1), ('exam', 1), ('\\nmaking', 1), ('conclusions', 1), ('transocean', 1), ('recovers\\x89û_', 1), ('deepak', 1), ('chopra', 1), ('decree', 1), ('dismissed', 1), ('occupational', 1), ('\\n\\nus', 1), ('breakth', 1), ('progressives', 1), ('thrusting', 1), ('enslave', 1), ('fuddy', 1), ('authenticating', 1), ('sole', 1), ('certificates', 1), ('safes', 1), ('climatechange', 1), ('humanityi', 1), ('apologized', 1), ('replacement', 1), ('cosme\\x89û_', 1), ('dserialpcilp', 1), ('pci', 1), ('deadpool', 1), ('revealed\\n', 1), ('imminent', 1), ('watering', 1), ('defends', 1), ('dazzle', 1), ('shite', 1), ('\\nplez', 1), ('liquidation', 1), ('minus', 1), ('toenail', 1), ('davis', 1), ('judith', 1), ('hopfer', 1), ('deglin', 1), ('vallerand', 1), ('daviesmutia', 1), ('exum', 1), ('stem', 1), ('accordingly', 1), ('wale', 1), ('mlk', 1), ('greinke', 1), ('dal', 1), ('horny', 1), ('juicy', 1), ('reflections\\naugust', 1), ('\\ndriven\\ndriven', 1), ('forms', 1), ('delusion', 1), ('biblical', 1), ('devastates', 1), ('cw', 1), ('celebrety', 1), ('livin', 1), ('zoom', 1), ('curvaceous', 1), ('curtain', 1), ('uncontrollable', 1), ('currency', 1), ('transgress', 1), ('ward', 1), ('unsecured', 1), ('jbumzqpk', 1), ('cultivating', 1), ('davidson', 1), ('orangi', 1), ('sindh', 1), ('\\x89û÷leaves', 1), ('languishing', 1), ('iran\\x89ûª', 1), ('flurry', 1), ('priorities', 1), ('marketingåêmediocrity', 1), ('mmx', 1), ('appadvice\\x89û_', 1), ('crptotech', 1), ('banks', 1), ('sectarian', 1), ('shia', 1), ('militias', 1), ('withdraw', 1), ('fightin', 1), ('uve', 1), ('again\\nhttp', 1), ('ffbnluiy', 1), ('wallet', 1), ('critters', 1), ('southwest', 1), ('omaha', 1), ('utility', 1), ('boarding', 1), ('galleria', 1), ('apts', 1), ('krnv', 1), ('nv', 1), ('rediscover', 1), ('fantabulous', 1), ('creation', 1), ('ai\\nclimate', 1), ('change\\nbioterrorism\\nmass', 1), ('workforce\\ncontact', 1), ('life\\nwealth', 1), ('inequality\\n\\nyea', 1), ('updating', 1), ('delivering', 1), ('ama', 1), ('hy', 1), ('pbe', 1), ('tm', 1), ('crawling', 1), ('skin\\nthese', 1), ('hea', 1), ('slurpees', 1), ('helmet', 1), ('silvery', 1), ('floors', 1), ('karnal', 1), ('pbcanpcx', 1), ('iger\\x89ûªs', 1), ('disney\\x89ûªs', 1), ('\\x89ûòåêcnbc', 1), ('åêwas', 1), ('demonstratio', 1), ('session', 1), ('discussing', 1), ('courageous', 1), ('ought', 1), ('guthrie', 1), ('orchestrated', 1), ('[on', 1), ('levels]', 1), ('chart', 1), ('airports', 1), ('sanity', 1), ('smantibatam', 1), ('curlin', 1), ('necks', 1), ('reps', 1), ('dip', 1), ('gunfight', 1), ('pooper', 1), ('detected', 1), ('cooool', 1), ('counterstrike', 1), ('upgrades', 1), ('vulnera', 1), ('goodrich', 1), ('bankruptcy', 1), ('tulsa', 1), ('manufacturing', 1), ('contra', 1), ('pg', 1), ('movt', 1), ('consent', 1), ('connor', 1), ('franta', 1), ('\\n\\ndan', 1), ('howell', 1), ('conning', 1), ('portfolio', 1), ('conklin', 1), ('westie', 1), ('believes', 1), ('computer\\nhttp', 1), ('awzonryc', 1), ('sanchez', 1), ('bolasie', 1), ('smoked', 1), ('meca', 1), ('cest', 1), ('\\nfair', 1), ('fforecast', 1), ('\\nthu', 1), ('\\nfri', 1), ('condemnation', 1), ('aimlessly', 1), ('detersion', 1), ('hlg', 1), ('concealed', 1), ('attacker', 1), ('hazzel', 1), ('[browser', 1), ('guide]', 1), ('abbruchsimulator', 1), ('hancock', 1), ('year~', 1), ('tattooed', 1), ('citadel', 1), ('\\nms', 1), ('pm\\nhs', 1), ('\\naugust', 1), ('transcend', 1), ('diversified', 1), ('combating', 1), ('mitigating', 1), ('anaheim', 1), ('colnharun', 1), ('gateway', 1), ('tables', 1), ('articals', 1), ('coleslaw', 1), ('coldwood', 1), ('coincidence', 1), ('reckoning', 1), ('dlc', 1), ('ecstatic', 1), ('racco', 1), ('imprudent', 1), ('lookout', 1), ('adjuster', 1), ('safeco', 1), ('\\nvideo', 1), ('rnb', 1), ('starz', 1), ('team\\n\\ndownload', 1), ('sanitizing', 1), ('technews', 1), ('reddit\\x89ûªs', 1), ('erie', 1), ('clarke', 1), ('seaview', 1), ('kemsley', 1), ('gatensbury', 1), ('airbase', 1), ('colonel', 1), ('greenspace', 1), ('development\\x89û_', 1), ('implores', 1), ('motorists', 1), ('reserves\\n', 1), ('watchdog', 1), ('dugway', 1), ('proving', 1), ('chs', 1), ('wirelessly', 1), ('steering', 1), ('chronicles', 1), ('waving', 1), ('geller', 1), ('aunft', 1), ('intruders', 1), ('chpsre', 1), ('rezaphotography', 1), ('kraft', 1), ('arrives', 1), ('sittway', 1), ('bulls', 1), ('betting', 1), ('rebound', 1), ('d\\x89û_', 1), ('alibaba', 1), ('baba', 1), ('tencent', 1), ('jd', 1), ('revenue', 1), ('forbes', 1), ('su', 1), ('delaying', 1), ('fundamentals', 1), ('valuations', 1), ('detains', 1), ('chilli', 1), ('doritos', 1), ('pvc', 1), ('chickmt', 1), ('http\\x89û_', 1), ('masturbates', 1), ('fd\\nstill', 1), ('derailment\\ncins', 1), ('organizers', 1), ('chiasson', 1), ('chesterfield', 1), ('lipstick', 1), ('rediscovered', 1), ('nars\\x89ûª', 1), ('\\x89û÷heat', 1), ('wave\\x89ûª', 1), ('wikipedia', 1), ('encyclopedia', 1), ('cheesehead', 1), ('checkout', 1), ('nurgle', 1), ('snuck', 1), ('khrone', 1), ('sivan', 1), ('basalt', 1), ('massage', 1), ('piece\\x89û_', 1), ('\\nsomething', 1), ('longaberger', 1), ('floral', 1), ('strap', 1), ('[phantasmal', 1), ('cummerbund]', 1), ('reactors', 1), ('bowery', 1), ('lightroom', 1), ('\\x89ûïjordyne', 1), ('sunk\\x89û\\x9d', 1), ('\\nmore', 1), ('sunday\\n\\nhttp', 1), ('kvbedkglgw', 1), ('wabash', 1), ('reservoirs', 1), ('ameribag', 1), ('khaki', 1), ('beige', 1), ('charred', 1), ('rips', 1), ('neighboring', 1), ('changelessly', 1), ('folders', 1), ('solemnity', 1), ('hjt', 1), ('vanilla', 1), ('feedback', 1), ('cemetery', 1), ('infuriates', 1), ('vplzkuidz', 1), ('gilgit', 1), ('farmland', 1), ('keeper', 1), ('runnin', 1), ('catfish', 1), ('reveillertm', 1), ('macabrelolita', 1), ('\\x89û÷amino', 1), ('acids\\x89ûª', 1), ('darwinism', 1), ('xii', 1), ('nightmarishly', 1), ('brutal', 1), ('ritualistic', 1), ('roleplay', 1), ('willinghearted', 1), ('rpn', 1), ('casually', 1), ('jasmine', 1), ('cascada', 1), ('dancefloor', 1), ('qave', 1), ('knowlddge', 1), ('carterville', 1), ('median', 1), ('carmike', 1), ('cinemas', 1), ('priority', 1), ('everest', 1), ('cobes', 1), ('whitt', 1), ('frost', 1), ('godly', 1), ('psychos', 1), ('zeroedgeåš', 1), ('lens', 1), ('camcorder', 1), ('output', 1), ('hhw', 1), ('parley\\x89ûªs', 1), ('lnp', 1), ('newsthousands', 1), ('represents', 1), ('shortfalls', 1), ('candylit', 1), ('sarumi', 1), ('candlelight', 1), ('vigil', 1), ('cancers', 1), ('equate', 1), ('\\n\\nkowing', 1), ('fluffy', 1), ('currong', 1), ('customers\\nhttp', 1), ('eokggb', 1), ('trib', 1), ('suspended', 1), ('pvris', 1), ('beyoncì©', 1), ('fy', 1), ('yaaasss', 1), ('xfactor', 1), ('rendition', 1), ('burna', 1), ('underpasses', 1), ('enacts', 1), ('ariana', 1), ('salad', 1), ('symantec', 1), ('ergo', 1), ('resemblance', 1), ('save\\ncan', 1), ('my\\ncan', 1), ('heavydirtysoul', 1), ('lima', 1), ('makoto', 1), ('blank', 1), ('expression', 1), ('cheeks', 1), ('clapping', 1), ('marvins', 1), ('subtlety', 1), ('campsite', 1), ('recommendations', 1), ('\\ntoilets', 1), ('\\npub', 1), ('\\nfires', 1), ('\\npizza', 1), ('\\nforest', 1), ('\\npretty', 1), ('midges\\nno', 1), ('snakes\\nthanks', 1), ('roving', 1), ('raccoons', 1), ('toughens', 1), ('camila', 1), ('spree', 1), ('repatriating', 1), ('californian', 1), ('disclosed', 1), ('excess', 1), ('provocation', 1), ('law\\x89ûónegligence', 1), ('fireworks', 1), ('incidents', 1), ('govts', 1), ('overcharging', 1), ('reviewing', 1), ('hail\\x89û_', 1), ('airdrie', 1), ('okotoks', 1), ('end\\x89û_', 1), ('immigrant', 1), ('arrests', 1), ('submitt', 1), ('byz', 1), ('[mt]', 1), ('mdt', 1), ('price\\nhttp', 1), ('kbc', 1), ('zl', 1), ('lyk', 1), ('defeated', 1), ('clarion', 1), ('buzzing', 1), ('york\\x89ûªs', 1), ('nassau', 1), ('coliseum\\x89û_', 1), ('worldpay', 1), ('ipo', 1), ('skyåênews', 1), ('extraordinaire', 1), ('entershikari', 1), ('protestors', 1), ('skyscrapers', 1), ('ceiling', 1), ('oldest', 1), ('hehe\\ntheir', 1), ('busty', 1), ('natalia', 1), ('starr', 1), ('cre', 1), ('cile', 1), ('are|deluged', 1), ('ivoices', 1), ('invzices', 1), ('sllikely', 1), ('invokces', 1), ('invoicew', 1), ('colouj', 1), ('invoicesx', 1), ('ou', 1), ('anq', 1), ('likkly', 1), ('pileq', 1), ('togthe', 1), ('ikely', 1), ('colo', 1), ('lzkely', 1), ('olour', 1), ('oup', 1), ('ogt', 1), ('colomr', 1), ('inroices', 1), ('|make', 1), ('standwout', 1), ('vict', 1), ('bu\\x89û_', 1), ('scarier', 1), ('nycha', 1), ('turban', 1), ('\\n\\nkeep', 1), ('forte', 1), ('burford', 1), ('bulgarian', 1), ('tittie', 1), ('noemotion', 1), ('edk', 1), ('pathfinders', 1), ('shelled', 1), ('\\ncivilian', 1), ('\\x89ûó\\n', 1), ('tisa', 1), ('niceville', 1), ('tracklist', 1), ('you\\x89û_', 1), ('lzktjnox', 1), ('buddha', 1), ('urbanisation', 1), ('brahmans', 1), ('dominance', 1), ('bucket', 1), ('presentations', 1), ('giselle', 1), ('stretches', 1), ('victorian', 1), ('sofa', 1), ('ugliest', 1), ('tight', 1), ('sandy\\x89ûªs', 1), ('domesticate', 1), ('mechanic', 1), ('gba', 1), ('timed', 1), ('broadcast', 1), ('television', 1), ('superv', 1), ('wgrxly', 1), ('pdo', 1), ('diver', 1), ('steamship', 1), ('stained', 1), ('nor', 1), ('mpp', 1), ('lambasts', 1), ('kanglaonline', 1), ('hickson', 1), ('kenneth', 1), ('faried', 1), ('lamarcus', 1), ('aldridge', 1), ('breast', 1), ('on\\npolice', 1), ('hector', 1), ('bellerin', 1), ('hapless', 1), ('suspending', 1), ('ser', 1), ('cataclysm', 1), ('structuring', 1), ('edcxo', 1), ('homefolks', 1), ('opinionated', 1), ('proposal', 1), ('modernized', 1), ('omw', 1), ('bradford', 1), ('weep', 1), ('brace', 1), ('depressed', 1), ('broth', 1), ('appeared', 1), ('haircuts', 1), ('minimal', 1), ('wine', 1), ('mads', 1), ('bonus', 1), ('whack', 1), ('tenn', 1), ('explosive', 1), ('tween', 1), ('loot', 1), ('ricin', 1), ('cartel', 1), ('bust', 1), ('bolshevik', 1), ('monopolized', 1), ('seize', 1), ('hunhry', 1), ('dented', 1), ('deductible', 1), ('wcvb', 1), ('bmx', 1), ('areal', 1), ('[al]', 1), ('bluedio', 1), ('headset', 1), ('listeria', 1), ('bloor', 1), ('ossington', 1), ('mattress', 1), ('northumberland', 1), ('beet', 1), ('vaca', 1), ('liam', 1), ('stiles', 1), ('pleeease', 1), ('intragenerational', 1), ('sandra', 1), ('bland', 1), ('gastric', 1), ('carcinoma', 1), ('gene', 1), ('courtney', 1), ('laudner', 1), ('panties', 1), ('amanda', 1), ('boobs', 1), ('worsen', 1), ('cervelli', 1), ('puff', 1), ('auz', 1), ('cst', 1), ('hump', 1), ('raids', 1), ('legion\\x89û_', 1), ('blending', 1), ('bleachers', 1), ('tecno', 1), ('ime', 1), ('slut', 1), ('hunted', 1), ('shopping', 1), ('kenye', 1), ('bizinsider', 1), ('takin', 1), ('sucker', 1), ('antivirus', 1), ('vendor', 1), ('pacquiao', 1), ('marquez', 1), ('unfilled', 1), ('durvod', 1), ('hen', 1), ('superbug', 1), ('biolabs', 1), ('epidemics', 1), ('biosurveillance', 1), ('outbreaks', 1), ('dumbfounded', 1), ('landi', 1), ('billionaires', 1), ('gbqtc', 1), ('mottas', 1), ('fails', 1), ('transact', 1), ('bigrigradio', 1), ('patches', 1), ('android', 1), ('stagefright', 1), ('\\x89û÷first\\x89ûª', 1), ('\\x89û÷second\\x89ûª', 1), ('u\\x89û_', 1), ('mother\\x89û_', 1), ('mothe', 1), ('bosvsnyy', 1), ('hua', 1), ('mesick', 1), ('bhavana', 1), ('misty', 1), ('earphones', 1), ('sierra', 1), ('leone', 1), ('guap', 1), ('bestseller', 1), ('dawson', 1), ('es\\x89û_', 1), ('chainsaw', 1), ('torrent', 1), ('java', 1), ('benzema', 1), ('benitez', 1), ('roofers', 1), ('heenan', 1), ('sleeper', 1), ('railing', 1), ('courses', 1), ('libyan', 1), ('derivatives', 1), ('quadrillion', 1), ('v\\x89û_', 1), ('economy\\n\\nwe', 1), ('shoppe', 1), ('horrors\\n\\n', 1), ('harperanetflixshow', 1), ('colors', 1), ('firstaid', 1), ('tr\\x89û_', 1), ('akito', 1), ('roses', 1), ('frothy', 1), ('gyp', 1), ('mclaughlin', 1), ('fremont', 1), ('beastin', 1), ('tapas', 1), ('trynna', 1), ('tj', 1), ('kits', 1), ('alertness', 1), ('cometh', 1), ('ember', 1), ('beaverton', 1), ('appalled', 1), ('heavens', 1), ('this\\n', 1), ('desolate\\n', 1), ('lord\\nfor', 1), ('evils', 1), ('mba', 1), ('careen', 1), ('eovm', 1), ('bcc', 1), ('increases', 1), ('commentating', 1), ('decis', 1), ('herring', 1), ('retract', 1), ('tickens', 1), ('panama', 1), ('mav', 1), ('buzz', 1), ('pvdrdljvc', 1), ('karaman', 1), ('brendan', 1), ('gawlowski', 1), ('barkevious', 1), ('mingo', 1), ('browns', 1), ('barbados', 1), ('superintende', 1), ('barak', 1), ('depends', 1), ('\\ntom', 1), ('bamenda', 1), ('baltimore', 1), ('nort', 1), ('ballina', 1), ('sighting', 1), ('bairstow', 1), ('buffet', 1), ('lad', 1), ('bolstering', 1), ('cooperation', 1), ('parisian', 1), ('tacoma', 1), ('surviving', 1), ('babe', 1), ('aya', 1), ('kano\\x89ûªs', 1), ('axwave', 1), ('enables', 1), ('awh', 1), ('refereeing', 1), ('mash', 1), ('avenged', 1), ('sevenfold', 1), ('allay', 1), ('equestrian', 1), ('rosenthal', 1), ('pochette', 1), ('bosphore', 1), ('bag\\x89û_', 1), ('saumur', 1), ('sura', 1), ('marge', 1), ('eheks', 1), ('horoscope', 1), ('pilgrims', 1), ('unimpressed', 1), ('calhoun', 1), ('nrc', 1), ('organ', 1), ('harvesting', 1), ('\\x89ûókill', 1), ('italians', 1), ('excel', 1), ('ck', 1), ('mmvhu', 1), ('\\x89ûókaiserjaegers', 1), ('regiment', 1), ('carso', 1), ('plateau', 1), ('spswl', 1), ('educators', 1), ('rchs', 1), ('coffins', 1), ('tommorow', 1), ('delany', 1), ('dhalgren', 1), ('beastly', 1), ('downing', 1), ('vita', 1), ('volleyball', 1), ('happened\\nashley', 1), ('drowned\\n', 1), ('reliefweb', 1), ('repression', 1), ('weeklong', 1), ('assist', 1), ('aspiring', 1), ('asics', 1), ('fieg', 1), ('kith', 1), ('ashley', 1), ('reactions', 1), ('rampant', 1), ('humiliate', 1), ('rival', 1), ('bundled', 1), ('ashenforest', 1), ('floorburnt', 1), ('manzanita', 1), ('timber', 1), ('asbury', 1), ('asad', 1), ('maths', 1), ('blacken', 1), ('parched', 1), ('harris', 1), ('beluga', 1), ('blissfully', 1), ('bathed', 1), ('monwabisi', 1), ('hlongwane', 1), ('ryt', 1), ('athletics', 1), ('monetary', 1), ('artifacts', 1), ('horseshoe', 1), ('initiative', 1), ('jackman', 1), ('downgraded', 1), ('arsonists', 1), ('plastics', 1), ('adelaide', 1), ('torches', 1), ('getaway', 1), ('surrey', 1), ('states\\x89û_', 1), ('bullets\\x89û_', 1), ('deployments', 1), ('patron\\n', 1), ('ultimalucha', 1), ('arian', 1), ('yeat', 1), ('hints', 1), ('snippets', 1), ('improvements', 1), ('withåêannihilation', 1), ('ripping', 1), ('contest', 1), ('aramis', 1), ('strop', 1), ('ara', 1), ('infiltrated', 1), ('ashrafiyah', 1), ('afrin', 1), ('ypg', 1), ('imposed', 1), ('aquarium', 1), ('sailing', 1), ('destroyer', 1), ('decor', 1), ('aqgco', 1), ('dilawri', 1), ('siena', 1), ('momentum', 1), ('apperception', 1), ('bridgework', 1), ('xxhjesc', 1), ('announce', 1), ('dull', 1), ('monotonous', 1), ('attached', 1), ('jnoe', 1), ('ein', 1), ('\\x89ûïdetonate\\x89û\\x9d', 1), ('href=', 1), ('wnowfvcbms', 1), ('åêm', 1), ('zmh', 1), ('nebmwy', 1), ('[single]', 1), ('exclusion', 1), ('zql', 1), ('qbluw\\n', 1), ('apocalpytic', 1), ('apd', 1), ('defecting', 1), ('\\n\\npatience', 1), ('chieftain', 1), ('tasks', 1), ('dickson', 1), ('mateo', 1), ('doesnt', 1), ('aberystwyth', 1), ('shrewsbury', 1), ('shrews', 1), ('\\x89ûïnews\\x89û\\x9d', 1), ('telemarketing', 1), ('lengths', 1), ('impairs', 1), ('upgrad', 1), ('fracking', 1), ('zzbqmgnusl', 1), ('syfy', 1), ('sixteenth', 1), ('minuscule', 1), ('critically', 1), ('kinky', 1), ('kristy', 1), ('rehearsing', 1), ('vuln', 1), ('oxxrnab', 1), ('obqmximb', 1), ('montego', 1), ('c\\x89û_', 1), ('annihilating', 1), ('quarterstaff', 1), ('damascus', 1), ('grinds', 1), ('\\x89û÷alloosh', 1), ('manure', 1), ('pile\\nhttp', 1), ('rakhp', 1), ('bwm', 1), ('spurs\\x89ûª', 1), ('marjanovic', 1), ('eurobasket', 1), ('wom', 1), ('orchard', 1), ('cider', 1), ('bottles', 1), ('mistrustful', 1), ('stored', 1), ('~http', 1), ('utigx', 1), ('psry', 1), ('angelriveralib\\x89û_', 1), ('snowden', 1), ('ripple', 1), ('burnin', 1), ('horns', 1), ('harlet', 1), ('uneven', 1), ('fcking', 1), ('janice', 1), ('cyclonic', 1), ('sumthng', 1), ('evng', 1), ('approachng', 1), ('give\\x89û_', 1), ('dìäjìû', 1), ('vuuuuu', 1), ('befoooooooore', 1), ('surgical', 1), ('eyesss', 1), ('complaining', 1), ('emblem', 1), ('gigant', 1), ('difficulty', 1), ('moderately', 1), ('bleach', 1), ('thong', 1), ('shudder', 1), ('boudoir', 1), ('outfits', 1), ('eyeballs', 1), ('hmmm', 1), ('jungle', 1), ('optical', 1), ('illusion', 1), ('switzerland', 1), ('parlor', 1), ('waitress', 1), ('arthritis', 1), ('indepth', 1), ('eau', 1), ('claire', 1), ('sentenced', 1), ('chippewa', 1), ('cardinal', 1), ('sdb', 1), ('cnua', 1), ('wedne\\x89û_', 1), ('sprinter', 1), ('frontline', 1), ('lez', 1), ('amazondeals', 1), ('skylanders', 1), ('takeaways', 1), ('amazon\\x89ûªs', 1), ('magnificent', 1), ('usb', 1), ('renderings', 1), ('\\ncarl', 1), ('gallups', 1), ('biltz', 1), ('repped', 1), ('milne', 1), ('liguistic', 1), ('correlate', 1), ('marketwatch', 1), ('lining', 1), ('\\n\\nmy', 1), ('ground\\ni', 1), ('\\n~', 1), ('mizuta', 1), ('alton', 1), ('livestream', 1), ('nut', 1), ('shuttle', 1), ('iphone', 1), ('nicely', 1), ('indie', 1), ('farms', 1), ('marie', 1), ('therese', 1), ('dominguez', 1), ('administrator', 1), ('phmsa', 1), ('trad', 1), ('authors', 1), ('plummeting', 1), ('alpine', 1), ('hotdogs', 1), ('nizer', 1), ('allergan', 1), ('refresh', 1), ('allen', 1), ('joined', 1), ('confesses', 1), ('couches', 1), ('eugene', 1), ('conspiracies', 1), ('notified', 1), ('sin\\nis', 1), ('girlfriend\\ndown', 1), ('end\\njust', 1), ('bros', 1), ('szuter', 1), ('ali', 1), ('alhaji', 1), ('sha', 1), ('ibeto', 1), ('competitor', 1), ('alfons', 1), ('puls', 1), ('elementary', 1), ('\\x89û÷bomb', 1), ('threat\\x89ûª', 1), ('alaska\\x89ûªs', 1), ('wales', 1), ('nearing', 1), ('wolves', 1), ('tweetstorm', 1), ('alexander', 1), ('ebolaåêcase', 1), ('akilah', 1), ('ajmal', 1), ('colombia', 1), ('sunrays', 1), ('hairy', 1), ('spiderweb', 1), ('negotiations', 1), ('ayhhhhhdjjfjrjjrdjjeks', 1), ('paradigm', 1), ('mazing', 1), ('meteors', 1), ('agricultural', 1), ('aldwark', 1), ('nyorks', 1), ('\\n\\nstill', 1), ('grim', 1), ('fewer', 1), ('piglets', 1), ('legitimate', 1), ('needing', 1), ('aggressif', 1), ('agalloch', 1), ('wiedemer', 1), ('\\x89ã¢', 1), ('full\\x89ã¢', 1), ('disclaimer', 1), ('antiochhickoryhollow', 1), ('kaldi', 1), ('arson\\nattack', 1), ('teemo', 1), ('launches', 1), ('airstrikes', 1), ('kurdistan', 1), ('bonner', 1), ('scalabrine', 1), ('afloat', 1), ('pension', 1), ('reprisal', 1), ('casualties\\n', 1), ('noah', 1), ('admiral', 1), ('nationwide', 1), ('shortchanging', 1), ('blood\\x89û_', 1), ('hunter', 1), ('hayes', 1), ('antebellum', 1), ('activists', 1), ('pio', 1), ('postexistence', 1), ('elevation', 1), ('brzjc', 1), ('achievement', 1), ('replaced', 1), ('tabloids', 1), ('iceberg', 1), ('gadgets', 1), ('combining\\x89û_', 1), ('gallup', 1), ('ari\\x89û_', 1), ('leonardville', 1), ('eddy', 1), ('patp', 1), ('cranberry', 1), ('ter', 1), ('conducted', 1), ('skims', 1), ('morethan', 1), ('disorders', 1), ('absurdly', 1), ('men\\x89ûªs', 1), ('wagyu', 1), ('heaping', 1), ('smuckers', 1), ('grape', 1), ('abolishing', 1), ('jsdf', 1), ('abcnews', 1), ('onlinemh', 1), ('onlinea', 1), ('aashiqui', 1), ('anu', 1), ('aggarwal', 1), ('aannnnd', 1), ('communicate', 1), ('heavyweight', 1), ('stormtrooper', 1), ('engaged', 1), ('somme', 1), ('whistleblower', 1), ('ipwysnik', 1), ('wasp', 1), ('marrie', 1), ('wbre', 1), ('wyou', 1), ('tomb', 1), ('raider', 1), ('uncharted', 1), ('croft', 1), ('ruthless', 1), ('complaint', 1), ('isao', 1), ('hashimoto', 1), ('iecc', 1), ('dismantling', 1), ('pox', 1), ('subcontractor', 1), ('cgg', 1), ('w\\x89û_', 1), ('[va]', 1), ('staged', 1), ('locomotive', 1), ('numb', 1), ('thermostat', 1), ('forney', 1), ('caved', 1), ('tradery', 1), ('statistics', 1), ('anthology', 1), ('ana', 1), ('dispensary', 1), ('coated', 1), ('east\\x89ûªs', 1), ('layer', 1), ('grit', 1), ('\\x89ûïboonew', 1), ('boonew\\x89û\\x9d', 1), ('double\\x89û\\x9d', 1), ('pl\\x89ûªs', 1), ('midi', 1), ('\\nmonica', 1), ('rave', 1), ('pyrotechnic', 1), ('cai', 1), ('guo', 1), ('qiang', 1), ('poignant', 1), ('ethereal', 1), ('adhd', 1), ('forming', 1), ('\\n\\nonce', 1), ('molave', 1), ('trivium', 1), ('midfield', 1), ('soni', 1), ('soner', 1), ('hardwell', 1), ('remake', 1), ('[flp', 1), ('family]', 1), ('mended', 1), ('finger\\nwhen', 1), ('body\\x89ûªs', 1), ('\\n\\x89û¢', 1), ('holodomor', 1), ('dambisa', 1), ('moyo', 1), ('punched', 1), ('afrikaan', 1), ('preorder', 1), ('mentioned', 1), ('greatly', 1), ('filming', 1), ('laois', 1), ('advertised', 1), ('orakei', 1), ('felled', 1), ('deployed', 1), ('famine[mega]', 1), ('pdiit', 1), ('q\\n', 1), ('dynamix', 1), ('gpm', 1), ('bullseye', 1), ('incitement', 1), ('beinart', 1), ('simmons', 1), ('camden', 1), ('handsome', 1), ('beside', 1), ('fierce', 1), ('stillness', 1), ('aspects', 1), ('pheonix', 1), ('charcoal', 1), ('handled', 1), ('exceptionally', 1), ('cor', 1), ('demoness', 1), ('beckoning', 1), ('this\\x89û_', 1), ('eulogies', 1), ('tormented', 1), ('matias', 1), ('xavier', 1), ('decade', 1), ('dayton', 1), ('cyber', 1), ('chim', 1), ('prohibits', 1), ('decks', 1), ('cessna', 1), ('inspi', 1), ('undone', 1), ('adverse', 1), ('our\\x89û_', 1), ('[small]', 1), ('bigåêconsequences', 1), ('scout', 1), ('contr', 1), ('_\\n', 1), ('retweet\\n', 1), ('rt\\n', 1), ('followback\\n', 1), ('ganseyman', 1), ('suddendly', 1), ('proclaims', 1), ('decimated', 1), ('apocaly\\x89û_', 1), ('[withering]', 1), ('[undermine]d', 1), ('[inundated]', 1), ('[mustering]', 1), ('[watch]', 1), ('halts', 1), ('[vid]', 1), ('youku', 1), ('yezkqlcj', 1), ('[update]', 1), ('hell\\x89û_', 1), ('[tropical', 1), ('info]', 1), ('hpa', 1), ('guardian]', 1), ('[serious]now', 1), ('admins', 1), ('volatile', 1), ('[reviews]', 1), ('[reuters]', 1), ('ibaraki', 1), ('prefecture', 1), ('offing', 1), ('jailbreak', 1), ('[news]', 1), ('lowers', 1), ('tuition', 1), ('[news', 1), ('update]', 1), ('|via', 1), ('[latest', 1), ('post]', 1), ('uud', 1), ('lk', 1), ('biz', 1), ('journal]', 1), ('[infowars]', 1), ('deer', 1), ('lethbridge', 1), ('[gpv', 1), ('wind]', 1), ('wnw', 1), ('[forbes]', 1), ('[earthquake', 1), ('report]', 1), ('onlyquakenews', 1), ('[creel', 1), ('moron', 1), ('brainless', 1), ('[comment]', 1), ('[clip]', 1), ('coercion', 1), ('weakness', 1), ('ensuring', 1), ('[chaos', 1), ('[brutally', 1), (']\\n\\nday', 1), ('[august', 1), ('alert]', 1), ('chiba', 1), ('pref', 1), (']\\n\\nsuch', 1), ('day\\nand', 1), ('mine\\nit', 1), ('latestnews]', 1), ('ìü', 1), ('redeemer', 1), ('\\nlet', 1), ('retweeting', 1), ('\\npenn', 1), ('byow\\n', 1), ('party\\nweren', 1), ('\\x89ûïthis', 1), ('mind\\x89û_\\x89û\\x9d', 1), ('importantly', 1), ('reportly', 1), ('\\nwhy', 1), ('billion\\n\\n', 1), ('supporter', 1), ('gents', 1), ('\\nwarfighting', 1), ('ieee', 1), ('spectrum', 1), ('\\nmountains', 1), ('coast\\nhttp', 1), ('jyrzav', 1), ('\\nfukushima', 1), ('integrative', 1), ('answers\\nhttp', 1), ('gnva', 1), ('stockholm', 1), ('copperfields', 1), ('circular', 1), ('frusciante', 1), ('cracker', 1), ('jul', 1), ('[l', 1), ('ap]', 1), ('swell', 1), ('disagreements', 1), ('\\x89ûóher', 1), ('arm\\x89ûò', 1), ('icicle', 1), ('projectiles\\x89ûò', 1), ('miniature', 1), ('more\\x89ûó', 1), ('\\x89û¢this', 1), ('perps', 1), ('stack', 1), ('dvds', 1), ('hitchhiking', 1), ('sorely', 1), ('goofballs', 1), ('pd', 1), ('copenhagen', 1), ('wintergreen', 1), ('instincts', 1), ('scratches', 1), ('commiting', 1), ('spelled', 1), ('plugging', 1), ('abbandoned', 1), ('darsena', 1), ('castello', 1), ('scaligero', 1), ('sirmione', 1), ('variation', 1), ('counters', 1), ('todayhave', 1), ('revenge', 1), ('directory', 1), ('\\nalso', 1), ('coronet', 1), ('berlatsky', 1), ('admired', 1), ('taxis', 1), ('mee', 1), ('yer', 1), ('hymn', 1), ('abba', 1), ('tornado_chick', 1), ('o_o', 1), ('flex', 1), ('yikes', 1), ('clients', 1), ('wart', 1), ('dispersed', 1), ('comrades', 1), ('nod', 1), ('renewables', 1), ('craft', 1), ('doessnt', 1), ('rejoice', 1), ('calamities', 1), ('ect', 1), ('guardrails', 1), ('clyde', 1), ('releasing', 1), ('speccy', 1), ('barber', 1), ('egg', 1), ('mlg', 1), ('spammers', 1), ('ropes', 1), ('angers', 1), ('creamy', 1), ('faints', 1), ('pdx', 1), ('abq', 1), ('toed', 1), ('din', 1), ('memez', 1), ('åà', 1), ('wraps', 1), ('cloth', 1), ('convincing', 1), ('compelling', 1), ('deniers', 1), ('tend', 1), ('academia', 1), ('spouting', 1), ('westmarch', 1), ('arreat', 1), ('whites', 1), ('curly', 1), ('impure', 1), ('missy', 1), ('suited', 1), ('summertime', 1), ('yee', 1), ('haw', 1), ('intel', 1), ('norse', 1), ('landscapes', 1), ('snotgreen', 1), ('wastelands', 1), ('stowing', 1), ('aboard', 1), ('directing', 1), ('recognition', 1), ('fuckface', 1), ('wineisdumb', 1), ('whoahahahahhdjs', 1), ('insomniac', 1), ('trophies', 1), ('corpse', 1), ('jittering', 1), ('teleported', 1), ('decides', 1), ('taxes', 1), ('mrs', 1), ('gah', 1), ('outburst', 1), ('aggression', 1), ('sux', 1), ('collectibles', 1), ('until', 1), ('tattooine', 1), ('demonstration', 1), ('terminated', 1), ('sunk\\x89û_', 1), ('side\\x89û_', 1), ('pull\\x89û_one\\x89û_you', 1), ('marinading', 1), ('beaten', 1), ('ra', 1), ('ghul', 1), ('dreamworks', 1), ('warranted', 1), ('japs', 1), ('intoxicated', 1), ('dawg', 1), ('huddling', 1), ('activist', 1), ('scotus', 1), ('with\\npotus', 1), ('aaaaaaallll', 1), ('males', 1), ('fultoninfo', 1), ('forfeit', 1), ('doomed', 1), ('trainees', 1), ('hugged', 1), ('tightly', 1), ('fckng', 1), ('ugliness', 1), ('amesocialaction', 1), ('frat', 1), ('bioterrorismi', 1), ('tolewant', 1), ('nana', 1), ('restlessness', 1), ('verrry', 1), ('emv', 1), ('insert', 1), ('stripe', 1), ('reader', 1), ('talibans', 1), ('jag', 1), ('gandhi', 1), ('answer\\nhttp', 1), ('kttyitow', 1), ('umm', 1), ('scandal', 1), ('parliamentary', 1), ('expenses', 1), ('subsequent', 1), ('sackings', 1), ('robbie', 1), ('crawl', 1), ('jakey', 1), ('equivalent', 1), ('asswipe', 1), ('killers', 1), ('coaching', 1), ('defence', 1), ('derivative', 1), ('formula', 1), ('remixes', 1), ('merged', 1), ('between', 1), ('paxton', 1), ('helen', 1), ('bloom', 1), ('alska', 1), ('seeweed', 1), ('caribean', 1), ('inhofe', 1), ('agw', 1), ('shines', 1), ('disabled', 1), ('fh', 1), ('bethesda', 1), ('torrecilla', 1), ('wording', 1), ('moblin', 1), ('notion', 1), ('seemly', 1), ('narcissism', 1), ('tink', 1), ('dec', 1), ('deploy', 1), ('explaining', 1), ('evolved', 1), ('godlike', 1), ('thorgan', 1), ('gladbach', 1), ('approximately', 1), ('peculiar', 1), ('compliment', 1), ('headspace', 1), ('provides', 1), ('sabrina', 1), ('wiimington', 1), ('prkng', 1), ('liberals', 1), ('baked', 1), ('alaskan', 1), ('stonewall', 1), ('epl', 1), ('jew', 1), ('intending', 1), ('signal', 1), ('blight\\nthat', 1), ('tosu', 1), ('significance', 1), ('describe', 1), ('painthey', 1), ('lifeits', 1), ('wellington', 1), ('employed', 1), ('cougars', 1), ('manga', 1), ('triangle', 1), ('weatherit', 1), ('utopian', 1), ('gulags', 1), ('shitton', 1), ('exclusively', 1), ('tacit', 1), ('bcz', 1), ('murphy', 1), ('lust', 1), ('leigh', 1), ('bothered', 1), ('traditionalist', 1), ('lynch', 1), ('larious', 1), ('ombudsmanship', 1), ('migraine', 1), ('swiming', 1), ('\\n\\nthere', 1), ('doing\\x89û_ahhh\\x89û_that', 1), ('cafì©', 1), ('abandons', 1), ('js', 1), ('bins', 1), ('wer', 1), ('hydro', 1), ('barbaric', 1), ('saudies', 1), ('austrian', 1), ('concentration', 1), ('\\nevery', 1), ('adorable', 1), ('trader', 1), ('joes', 1), ('wknd', 1), ('nit', 1), ('extracting', 1), ('narrowly', 1), ('stacy', 1), ('connects', 1), ('supporting', 1), ('bojcx', 1), ('qcz', 1), ('tenshi', 1), ('yuki', 1), ('telltale', 1), ('morales', 1), ('andrea', 1), ('jacqui', 1), ('merle', 1), ('sweeping', 1), ('raps', 1), ('purdies', 1), ('shias', 1), ('defeats', 1), ('ideals', 1), ('dead\\nthis', 1), ('stunningly', 1), ('bats', 1), ('mia', 1), ('epsom', 1), ('tinderbox', 1), ('clown', 1), ('portrait', 1), ('yuan', 1), ('sponsored', 1), ('henchman', 1), ('stannis', 1), ('yell', 1), ('cheekiness', 1), ('bleeds', 1), ('recoil', 1), ('demonstrated', 1), ('gracefully', 1), ('conflicts\\ntactics', 1), ('infiltration', 1), ('groups\\nhttps', 1), ('cyu', 1), ('zxw', 1), ('stereotyping', 1), ('bunting', 1), ('forefathers', 1), ('specs', 1), ('lore', 1), ('didn\\x89ûªt', 1), ('oppressed', 1), ('ciggs', 1), ('tre', 1), ('sigh', 1), ('shtap', 1), ('salted', 1), ('t_t', 1), ('sothwest', 1), ('tipped', 1), ('smfh', 1), ('mccain\\x89ûªs', 1), ('whoops', 1), ('photographed', 1), ('isis\\x89û_', 1), ('booth', 1), ('kappa', 1), ('barra', 1), ('cya', 1), ('hanayo', 1), ('adarius', 1), ('bowman', 1), ('helios', 1), ('sabotage', 1), ('barracks', 1), ('bombers', 1), ('density', 1), ('peasants', 1), ('redistribute', 1), ('sosa', 1), ('homework', 1), ('beau', 1), ('weisberg', 1), ('\\x89ûïif', 1), ('gat', 1), ('paused', 1), ('deeper', 1), ('farmers', 1), ('broke=', 1), ('buffs', 1), ('puck=flattened', 1), ('creamfields', 1), ('punishing', 1), ('salado', 1), ('crackin', 1), ('compulsory', 1), ('itinerary', 1), ('dolphins', 1), ('cosponsor', 1), ('inform', 1), ('accurately', 1), ('disable', 1), ('magically', 1), ('signatures', 1), ('pars', 1), ('tod', 1), ('ensued', 1), ('pikachu', 1), ('\\\\\\\\\\\\', 1), ('storm\\nchaser\\nhttp', 1), ('wjy', 1), ('sehmw\\n', 1), ('pfft', 1), ('unhinged', 1), ('machismo', 1), ('bullshit', 1), ('frisco', 1), ('scouts', 1), ('okla', 1), ('percentages', 1), ('pew', 1), ('monumentalized', 1), ('rumors', 1), ('justice=no', 1), ('justice=peace', 1), ('clelli', 1), ('ooooohshit', 1), ('ooohshit', 1), ('hatman', 1), ('srs', 1), ('elsewere', 1), ('lemonade', 1), ('semi', 1), ('par', 1), ('northgate', 1), ('aaron', 1), ('underskirt', 1), ('forthright', 1), ('coma', 1), ('kebab', 1), ('tahini', 1), ('pickles', 1), ('fries', 1), ('ohhh', 1), ('ohgod', 1), ('=p', 1), ('espresso', 1), ('busiest', 1), ('yessss', 1), ('bangin', 1), ('ofcourse', 1), ('\\n\\njust', 1), ('\\n\\nn', 1), ('caued', 1), ('washing', 1), ('newport', 1), ('jackie', 1), ('bristol', 1), ('sideness', 1), ('graf', 1), ('backtracking', 1), ('protected', 1), ('suck', 1), ('sincerety', 1), ('executing', 1), ('joshua', 1), ('lured', 1), ('fanbase', 1), ('wod', 1), ('everyones', 1), ('vela', 1), ('vic', 1), ('freeman', 1), ('practicing', 1), ('ignoranceshe', 1), ('latinoand', 1), ('benothing', 1), ('morebut', 1), ('berahino', 1), ('noooo', 1), ('mino', 1), ('before', 1), ('hitters', 1), ('slowed', 1), ('sympathyonlf', 1), ('affiliated', 1), ('shabab', 1), ('fcked', 1), ('indianperpetrated', 1), ('disposition', 1), ('suggest', 1), ('qatar', 1), ('wbu', 1), ('gaymaro', 1), ('pee', 1), ('pundits', 1), ('defenseless', 1), ('debbie', 1), ('foreskin', 1), ('nataly', 1), ('paramore', 1), ('muse', 1), ('bucks', 1), ('nsf', 1), ('narrator', 1), ('chemically', 1), ('lavatory', 1), ('db', 1), ('ransacked', 1), ('awesomeeeeeeee', 1), ('shuffling', 1), ('grandfather', 1), ('predictions', 1), ('aquarius', 1), ('queenmy', 1), ('pretenses', 1), ('overtures', 1), ('songfor', 1), ('organizing', 1), ('\\ndemolished', 1), ('noodles', 1), ('\\n\\nburned', 1), ('molly', 1), ('moi', 1), ('plutot', 1), ('ufhguhfidt', 1), ('misfit', 1), ('apaz', 1), ('renewed', 1), ('migrating', 1), ('iphoto', 1), ('wasted', 1), ('hrsto', 1), ('mencius', 1), ('finland', 1), ('rosatom', 1), ('bricktop', 1), ('dilute', 1), ('sifting', 1), ('mahalo', 1), ('nui', 1), ('loa', 1), ('magical', 1), ('kwwwkwwwk', 1), ('\\nwithout', 1), ('jiahahahha', 1), ('\\nyeyeulala', 1), ('lucio', 1), ('lotg', 1), ('smoothed', 1), ('bird', 1), ('chalked', 1), ('tasty', 1), ('erosion', 1), ('crumbly', 1), ('shad', 1), ('forsythe', 1), ('topic', 1), ('lmfaooo', 1), ('nawh', 1), ('lmaov', 1), ('babalmao', 1), ('nyozi', 1), ('kwaaaaa', 1), ('exactly\\nespecially', 1), ('lizeth', 1), ('everythign', 1), ('mcpherson', 1), ('wtm', 1), ('lilly', 1), ('wilden', 1), ('ahhhhh', 1), ('alec', 1), ('tort', 1), ('groton', 1), ('mmmm', 1), ('dopest', 1), ('cnmi', 1), ('leos', 1), ('metaphorically', 1), ('quivk', 1), ('leaveevacuateexitbe', 1), ('banished', 1), ('actin', 1), ('koreans', 1), ('apksnplxzj', 1), ('streams', 1), ('reset', 1), ('hangin', 1), ('watchin', 1), ('possesion', 1), ('decriminalized', 1), ('substance', 1), ('cheering', 1), ('juan', 1), ('jsyk', 1), ('abt', 1), ('remus', 1), ('slumped', 1), ('sketchbook', 1), ('biting', 1), ('mask', 1), ('long\\x89û_', 1), ('somethin\\x89ûª', 1), ('covering', 1), ('scabs', 1), ('hypo', 1), ('imply', 1), ('causation', 1), ('hotter', 1), ('drools', 1), ('umntu', 1), ('wakho', 1), ('valentine', 1), ('oompah', 1), ('vaginaorcake', 1), ('\\n\\nhope', 1), ('nagaski', 1), ('jackholes', 1), ('disturbing', 1), ('grimrail', 1), ('depot', 1), ('relevance', 1), ('rowers', 1), ('celeb', 1), ('endorsements', 1), ('kahel', 1), ('oppressions', 1), ('moll', 1), ('vd', 1), ('yd', 1), ('andreas', 1), ('rsl', 1), ('snctions', 1), ('miltary', 1), ('bilno', 1), ('inspctkps', 1), ('hostagesthrosw', 1), ('gutrkps', 1), ('hlps', 1), ('iof', 1), ('zionist', 1), ('morality', 1), ('zionism', 1), ('comprehensive', 1), ('remarkably', 1), ('epoch', 1), ('liz', 1), ('[screams]', 1), ('abide', 1), ('structur', 1), ('iit', 1), ('logically', 1), ('sanction', 1), ('democrat', 1), ('hei', 1), ('darker', 1), ('youd', 1), ('advertise', 1), ('relate', 1), ('billie', 1), ('jean', 1), ('prolly', 1), ('freshers', 1), ('twitch', 1), ('sama', 1), ('rindou', 1), ('gawker', 1), ('capabilities', 1), ('luggage', 1), ('vp', 1), ('idkidk', 1), ('sterotypical', 1), ('annddd', 1), ('colorism', 1), ('prevalent', 1), ('browner', 1), ('rae', 1), ('commissioned', 1), ('mull', 1), ('realization', 1), ('span', 1), ('fonts', 1), ('freaked', 1), ('otl', 1), ('btm', 1), ('hogging', 1), ('realm', 1), ('elgato', 1), ('bday', 1), ('forehead', 1), ('tbs', 1), ('ram', 1), ('shove', 1), ('muffle', 1), ('pleasure~', 1), ('ffvii', 1), ('exclamation', 1), ('midweek', 1), ('reference', 1), ('heller', 1), ('franchise', 1), ('amazed', 1), ('mistress', 1), ('rampage', 1), ('leagues', 1), ('shidddd', 1), ('such', 1), ('heartburn', 1), ('mundo', 1), ('rom', 1), ('halloween', 1), ('reboot', 1), ('bel', 1), ('akame', 1), ('ghoul', 1), ('trickshot', 1), ('controller', 1), ('raises', 1), ('sorts', 1), ('consulted', 1), ('barking', 1), ('marquis', 1), ('squeezed', 1), ('blubber', 1), ('caleen', 1), ('sisk', 1), ('funded', 1), ('wfocus', 1), ('winnemem', 1), ('orpik', 1), ('nusrah', 1), ('saw\\n\\nlet', 1), ('sunscreen', 1), ('rainbows', 1), ('heat\\nnext', 1), ('breather', 1), ('sack', 1), ('coinflip', 1), ('submitting', 1), ('habor', 1), ('slix', 1), ('rides', 1), ('wavy', 1), ('hershey', 1), ('math', 1), ('pitches', 1), ('inn', 1), ('goodbyes', 1), ('influenced', 1), ('whilst', 1), ('dew', 1), ('erodes', 1), ('superstar', 1), ('forrest', 1), ('tolerated', 1), ('dynasty', 1), ('tenno', 1), ('dojo', 1), ('dtb', 1), ('watchout', 1), ('carpenters', 1), ('armenians', 1), ('oversee', 1), ('electoral', 1), ('romero', 1), ('absurd', 1), ('satire', 1), ('indistinguishable', 1), ('lightly', 1), ('reserved', 1), ('tee', 1), ('iced', 1), ('pages', 1), ('defs', 1), ('hugs', 1), ('verses', 1), ('qur', 1), ('hassle', 1), ('vines', 1), ('subjected', 1), ('unwarranted', 1), ('caroline', 1), ('bigsby', 1), ('popobawa', 1), ('revolves', 1), ('marketplace', 1), ('bol', 1), ('apm', 1), ('lyrium', 1), ('hyukkie', 1), ('chullie', 1), ('eunhae', 1), ('snowstormi', 1), ('snowmobiles', 1), ('believers', 1), ('stacks', 1), ('hangarback', 1), ('walkers', 1), ('opponent', 1), ('scum', 1), ('lefties', 1), ('qn', 1), ('enthusiastic', 1), ('youuu', 1), ('hihow', 1), ('keio', 1), ('stationright', 1), ('chofu', 1), ('recognised', 1), ('sundowns', 1), ('improvement', 1), ('yellows\\n\\nread', 1), ('emailed', 1), ('awol', 1), ('argh', 1), ('happing', 1), ('teamo', 1), ('supremo', 1), ('pogo', 1), ('bak', 1), ('rub', 1), ('shifted', 1), ('lich', 1), ('dd', 1), ('rusher', 1), ('ly', 1), ('winnable', 1), ('thrusts', 1), ('hideous', 1), ('uglypeople', 1), ('vr', 1), ('cantona', 1), ('pepe', 1), ('lashed', 1), ('ozil', 1), ('ritchie', 1), ('\\nshould', 1), ('midfielders', 1), ('havnt', 1), ('owe', 1), ('apology', 1), ('below', 1), ('mason', 1), ('electro', 1), ('violin', 1), ('uncles', 1), ('gobsmacked', 1), ('harsh', 1), ('felon', 1), ('gregory', 1), ('wickett', 1), ('liver', 1), ('cosima', 1), ('lol\\n', 1), ('shay', 1), ('balls', 1), ('appx', 1), ('har', 1), ('ki', 1), ('liye', 1), ('tyar', 1), ('hai', 1), ('eurpoe', 1), ('mustered', 1), ('\\n\\nbounce', 1), ('upa', 1), ('^sj', 1), ('helene', 1), ('blessings', 1), ('kamon', 1), ('gigatech', 1), ('geno', 1), ('benefit', 1), ('believer', 1), ('economist', 1), ('wrked', 1), ('poor\\nfran', 1), ('reed', 1), ('gamma', 1), ('january', 1), ('gabriel', 1), ('fibula', 1), ('sirius', 1), ('sayin', 1), ('frickin', 1), ('cali~', 1), ('reworked', 1), ('glitter', 1), ('testy', 1), ('jumpin', 1), ('edbxyatmaq', 1), ('experiments', 1), ('lennox', 1), ('revs', 1), ('foi', 1), ('procura', 1), ('tem', 1), ('footballs', 1), ('spartans', 1), ('crushing', 1), ('\\nlove', 1), ('introducing', 1), ('bsc', 1), ('unfortunate', 1), ('utilises', 1), ('welly', 1), ('aucklnd', 1), ('positions', 1), ('pandering', 1), ('divides', 1), ('corrodes', 1), ('goodwill', 1), ('expressing', 1), ('expertise', 1), ('cornwalls', 1), ('finest', 1), ('unauthorized', 1), ('lesnar', 1), ('cena', 1), ('summerslam', 1), ('om', 1), ('ventilated', 1), ('bandolier', 1), ('dix', 1), ('pumpkin', 1), ('embarrassed', 1), ('dreamy', 1), ('laced', 1), ('monologue', 1), ('charlize', 1), ('coulda', 1), ('staying', 1), ('tìüp', 1), ('regimes', 1), ('rinse', 1), ('editor', 1), ('dw', 1), ('chipper', 1), ('duly', 1), ('involuntary', 1), ('wince', 1), ('holibobs', 1), ('blizzards', 1), ('ayatollah', 1), ('khomeini', 1), ('lan', 1), ('jeez', 1), ('lvg', 1), ('spurs', 1), ('smaller', 1), ('lcb', 1), ('cl', 1), ('manners', 1), ('pedagogy', 1), ('havoc', 1), ('texts', 1), ('ditto', 1), ('drank', 1), ('vodka', 1), ('disneyland', 1), ('negate', 1), ('ripples', 1), ('lloyds', 1), ('insure', 1), ('oppa', 1), ('haaaaaa', 1), ('unqualified', 1), ('treaty', 1), ('lyndon', 1), ('definite', 1), ('crown', 1), ('fathom', 1), ('byebyeroad', 1), ('carpooling', 1), ('daem', 1), ('dresser', 1), ('cork', 1), ('undeserving', 1), ('tora', 1), ('contradictory', 1), ('[to', 1), ('uninhabited', 1), ('island]', 1), ('\\x89ûócategorically\\x89ûówere', 1), ('outrageous', 1), ('hamster', 1), ('condemning', 1), ('\\nmay', 1), ('gv', 1), ('heirs', 1), ('atcha', 1), ('golfball', 1), ('comeeeee', 1), ('mcourt', 1), ('parliment', 1), ('[latin', 1), ('origin]', 1), ('reddish', 1), ('colored', 1), ('dummies', 1), ('pronouncing', 1), ('colliding', 1), ('projectile', 1), ('trans', 1), ('utd', 1), ('pedro', 1), ('infomercial', 1), ('crept', 1), ('nowwwwww', 1), ('fairport', 1), ('twon', 1), ('sec', 1), ('ykjl', 1), ('kia', 1), ('fag', 1), ('triplemania', 1), ('villano', 1), ('whooping', 1), ('myztiziziziziz', 1), ('they\\x89ûªre', 1), ('indictment', 1), ('point\\x89û_', 1), ('kindof', 1), ('restrospect', 1), ('lilourry', 1), ('stan', 1), ('narry', 1), ('carful', 1), ('spotting', 1), ('imagination', 1), ('institutional', 1), ('libertyville', 1), ('commercials', 1), ('frankly', 1), ('tic', 1), ('tac', 1), ('battleships', 1), ('matchwood', 1), ('minutiae', 1), ('champagne', 1), ('publish', 1), ('ozz', 1), ('slapped', 1), ('venture', 1), ('suitable', 1), ('populated', 1), ('erea', 1), ('bhill', 1), ('beez', 1), ('bharat', 1), ('fulfill', 1), ('retired', 1), ('dgm', 1), ('nabard', 1), ('brunt', 1), ('grayed', 1), ('interspersed', 1), ('boo', 1), ('pleb', 1), ('newly', 1), ('maple', 1), ('begovic', 1), ('reserve', 1), ('caves', 1), ('illustrative', 1), ('becuase', 1), ('gunsmissilesbombs', 1), ('felony', 1), ('risky', 1), ('jitsu', 1), ('hexagon', 1), ('yelled', 1), ('cuties', 1), ('notoriety', 1), ('manayunk', 1), ('mataas', 1), ('sincere', 1), ('liquid', 1), ('stores', 1), ('mortem', 1), ('samples', 1), ('sweets', 1), ('madara', 1), ('stripped', 1), ('sequalae', 1), ('suicides', 1), ('homicides', 1), ('dangling', 1), ('piercing', 1), ('crystals', 1), ('pree', 1), ('vineyards', 1), ('mcclain', 1), ('nyg', 1), ('sys', 1), ('clergyforced', 1), ('grossly', 1), ('disfigured', 1), ('helo', 1), ('hudhud', 1), ('chandrababu', 1), ('valle', 1), ('duplicate', 1), ('crazier', 1), ('commenting', 1), ('arkan', 1), ('edmund', 1), ('fitzgerald', 1), ('practically', 1), ('taint', 1), ('climbing', 1), ('vern', 1), ('sq', 1), ('deactivate', 1), ('bookslast', 1), ('werewolf', 1), ('idiota', 1), ('mcutchen', 1), ('alrighty', 1), ('illuminated', 1), ('brightly', 1), ('andre', 1), ('gore', 1), ('aiii', 1), ('calmly', 1), ('sorta', 1), ('awash', 1), ('abstract', 1), ('dustpig', 1), ('indifferent', 1), ('eep', 1), ('fadc', 1), ('delight', 1), ('bait', 1), ('hater', 1), ('equation', 1), ('recipe', 1), ('accepts', 1), ('wisconsin', 1), ('aaaa', 1), ('roomr', 1), ('donated', 1), ('handi', 1), ('wipes', 1), ('circumstances', 1), ('withstand', 1), ('collisions', 1), ('specifically', 1), ('utilized', 1), ('mascara', 1), ('smeared', 1), ('systematic', 1), ('grahamwp', 1), ('^^why', 1), ('opinions', 1), ('skarlet', 1), ('pushed', 1), ('backwards', 1), ('[[is', 1), (']]', 1), ('okayyyyyy', 1), ('mulan', 1), ('\\nu', 1), ('\\nyor', 1), ('graywardens', 1), ('gifts', 1), ('malt', 1), ('loaf', 1), ('focused', 1), ('competetion', 1), ('penetrator', 1), ('tolerance', 1), ('mutilated', 1), ('cunt', 1), ('arachys\\n', 1), ('pieces]', 1), ('beta', 1), ('chapters', 1), ('yoga', 1), ('yeeessss', 1), ('kombatants', 1), ('kostumes', 1), ('chug', 1), ('estus', 1), ('wld', 1), ('minivan', 1), ('relegation', 1), ('skynet', 1), ('watt', 1), ('obj', 1), ('veg', 1), ('arrival', 1), ('great\\x89û_', 1), ('machida', 1), ('vandalzing', 1), ('wha', 1), ('timebomb', 1), ('destined', 1), ('cuddling', 1), ('seventies', 1), ('fecal', 1), ('turdnado', 1), ('forgeting', 1), ('lb', 1), ('hamburger', 1), ('perturbs', 1), ('noxious', 1), ('galaxy', 1), ('heroic\\nfamine', 1), ('compassion', 1), ('sexist', 1), ('ascend', 1), ('genisys', 1), ('reined', 1), ('stool', 1), ('coates', 1), ('charleston', 1), ('broadly', 1), ('mocked', 1), ('traces', 1), ('troubling', 1), ('nazis', 1), ('pursued', 1), ('ambitions', 1), ('forgets', 1), ('illuminati', 1), ('ilford', 1), ('contrasts', 1), ('foreboding', 1), ('expansive', 1), ('divisions', 1), ('saturation', 1), ('hue', 1), ('whoo', 1), ('raspy', 1), ('ttk', 1), ('sums', 1), ('ir', 1), ('puts', 1), ('jelly', 1), ('shh', 1), ('moonbeam', 1), ('tokes', 1), ('gauze', 1), ('somaliaeritrea', 1), ('applicants', 1), ('carter', 1), ('jpii', 1), ('ankles', 1), ('ldnr', 1), ('comics', 1), ('representative', 1), ('sample', 1), ('otherwise=they', 1), ('ohhhh', 1), ('suspicious', 1), ('roster', 1), ('nowt', 1), ('fergie', 1), ('drinkers', 1), ('wenger', 1), ('contributor', 1), ('bona', 1), ('fide', 1), ('cislady', 1), ('incidental', 1), ('homosexuality', 1), ('bi', 1), ('noooooooo', 1), ('overtake', 1), ('convenient', 1), ('enhance', 1), ('nkea', 1), ('gambia', 1), ('mercenary', 1), ('nissan', 1), ('narrates', 1), ('babality', 1), ('dell', 1), ('hotness', 1), ('mizzou', 1), ('muschamp', 1), ('bama', 1), ('muzzies', 1), ('payback', 1), ('mattingly', 1), ('bundy', 1), ('mcgwire', 1), ('nitish', 1), ('castes', 1), ('cereal', 1), ('kellogg', 1), ('sugar', 1), ('crunchy', 1), ('objective', 1), ('shedid', 1), ('washard', 1), ('keithyy', 1), ('norwich', 1), ('flavored', 1), ('pearl', 1), ('emptive', 1), ('jamie', 1), ('clintons', 1), ('meddling', 1), ('engineer', 1), ('rpm', 1), ('wew', 1), ('wouldnt', 1), ('cheetos', 1), ('zerohedge', 1), ('readers', 1), ('orchs', 1), ('tyrant', 1), ('bachmann', 1), ('loser', 1), ('snide', 1), ('remarks', 1), ('roskomnadzor', 1), ('ridiculously', 1), ('politicized', 1), ('hsbfuckjsj', 1), ('blackburns', 1), ('pll', 1), ('jokin', 1), ('iwo', 1), ('jima', 1), ('rebuild', 1), ('crit', 1), ('hampered', 1), ('liking', 1), ('ella', 1), ('vickers', 1), ('washable', 1), ('badgeofhonour', 1), ('titty', 1), ('coldstone', 1), ('monterrey', 1), ('cooling', 1), ('slapping', 1), ('showdown', 1), ('downloading', 1), ('hipster', 1), ('skimmed', 1), ('folding', 1), ('judas', 1), ('priest', 1), ('astonishing', 1), ('countering', 1), ('skewed', 1), ('blighted', 1), ('corporate', 1), ('nenshi', 1), ('overlooking', 1), ('deco', 1), ('trickier', 1), ('batista', 1), ('resolved', 1), ('theirs', 1), ('fricken', 1), ('teesha', 1), ('yuvi', 1), ('tat', 1), ('standardised', 1), ('clinical', 1), ('stump', 1), ('equalizer', 1), ('insulted', 1), ('meaningless', 1), ('hillarymass', 1), ('hil', 1), ('trp', 1), ('mockery', 1), ('ashayo', 1), ('presentation', 1), ('predicting', 1), ('sled', 1), ('emilio', 1), ('stealth', 1), ('shatter', 1), ('delusions', 1), ('preset', 1), ('nades', 1), ('zack', 1), ('madsummer', 1), ('brilliant', 1), ('arse', 1), ('rebirth', 1), ('polit', 1), ('particular', 1), ('seras', 1), ('sasha', 1), ('peice', 1), ('sidewalk', 1), ('dota', 1), ('legends', 1), ('diasporas', 1), ('abouts', 1), ('daughtery', 1), ('rants', 1), ('factual', 1), ('frequently', 1), ('distraction', 1), ('flush', 1), ('salary', 1), ('impunity', 1), ('understandable', 1), ('noting', 1), ('carp', 1), ('leftside', 1), ('rings', 1), ('appealing', 1), ('churches', 1), ('avast', 1), ('andals', 1), ('metrobus', 1), ('competence', 1), ('soc', 1), ('parties', 1), ('delivery', 1), ('jokethey', 1), ('alsowhat', 1), ('bilic', 1), ('slated', 1), ('themhe', 1), ('lewes', 1), ('kingston', 1), ('roundabout', 1), ('yezidi', 1), ('capitalist', 1), ('elect', 1), ('[loud', 1), ('groaning]', 1), ('flopping', 1), ('identical', 1), ('thalapathi', 1), ('talk=', 1), ('ecology', 1), ('rts', 1), ('afghetc=', 1), ('humanitarian', 1), ('chopping', 1), ('rooftops', 1), ('commons', 1), ('ownership', 1), ('debacle', 1), ('mgr', 1), ('cosmetics', 1), ('scrubs', 1), ('toothpaste', 1), ('aquatic', 1), ('ecosystems', 1), ('vowed', 1), ('grubbing', 1), ('kikes', 1), ('cluei', 1), ('telekinesis', 1), ('viewers', 1), ('sells', 1), ('killin', 1), ('aside', 1), ('untrained', 1), ('nyclass', 1), ('mailer', 1), ('gio', 1), ('skc', 1), ('nycfc', 1), ('newspaper', 1), ('conventional', 1), ('yanks', 1), ('nuks', 1), ('crescent', 1), ('trails', 1), ('breed', 1), ('pug', 1), ('mwednesday', 1), ('purpose', 1), ('superficial', 1), ('dumping', 1), ('cesspool', 1), ('fringe', 1), ('profits', 1), ('envision', 1), ('substantial', 1), ('inflict', 1), ('consistent', 1), ('dimensions', 1), ('imam', 1), ('glononium', 1), ('bashing', 1), ('nitroglycerin', 1), ('hendricks', 1), ('hospitality', 1), ('besieged', 1), ('balding', 1), ('emo', 1), ('generic', 1), ('empathy', 1), ('welp', 1), ('dunce', 1), ('pax', 1), ('succeed', 1), ('operate', 1), ('grandest', 1), ('scales', 1), ('selmo', 1), ('slaughter', 1), ('lowered', 1), ('atw', 1), ('mosh', 1), ('forfeiting', 1), ('frail', 1), ('ridah', 1), ('whattt', 1), ('fangirl', 1), ('aiden', 1), ('monty', 1), ('python', 1), ('enabling', 1), ('investigatin', 1), ('tut', 1), ('favorited', 1), ('kitties', 1), ('embarrassing', 1), ('rods', 1), ('creatures', 1), ('once', 1), ('deluded', 1), ('ophelia', 1), ('opportunity', 1), ('\\n\\neven', 1), ('camped', 1), ('redcliffe', 1), ('aidan', 1), ('stat', 1), ('lightrail', 1), ('promoting', 1), ('lbr', 1), ('couldnt', 1), ('situ', 1), ('shush', 1), ('privlege', 1), ('modi', 1), ('zeros', 1), ('\\nwell', 1), ('\\nthere', 1), ('kpk', 1), ('dams', 1), ('thar', 1), ('\\nnever', 1), ('rabaa', 1), ('observed', 1), ('rememberrabaa', 1), ('\\nkatherine', 1), ('labor', 1), ('bastard', 1), ('\\n\\nwow', 1), ('\\n\\nif', 1), ('pilloried', 1), ('\\n\\nscreams', 1), ('saku', 1), ('genitals', 1), ('\\n\\nnotley', 1), ('heartland\\nharper', 1), ('tfw', 1), ('\\n\\ngood', 1), ('\\n\\nget', 1), ('coefficient', 1), ('\\ny', 1), ('abject', 1), ('rockefeller_chi', 1), ('rockefelleruniv', 1), ('heiress', 1), ('evade', 1), ('prosecute', 1), ('principle', 1), ('clerical', 1), ('duties', 1), ('nexus', 1), ('shifter', 1), ('argsuppose', 1), ('individl', 1), ('courtof', 1), ('forbids', 1), ('dolla', 1), ('manservant', 1), ('pampered', 1), ('brit', 1), ('reversal', 1), ('farther', 1), ('included', 1), ('goner', 1), ('screeching', 1), ('accompanying', 1), ('daggers', 1), ('jammed', 1), ('thigh', 1), ('sif', 1), ('shouted', 1), ('darken', 1), ('ungodly', 1), ('gently', 1), ('dabbed', 1), ('rag', 1), ('informed', 1), ('applicable', 1), ('shirtless', 1), ('psych', 1), ('trusted', 1), ('zar', 1), ('cringes', 1), ('marek', 1), ('slaps', 1), ('animatronics', 1), ('\\n\\nrelax', 1), ('flakes', 1), ('absol', 1), ('blankets', 1), ('sheets', 1), ('stablize', 1), ('curse', 1), ('throws', 1), ('sinks', 1), ('okanowa', 1), ('mainline', 1), ('itself', 1), ('manor', 1), ('scientist', 1), ('deceased', 1), ('humor', 1), ('farts', 1), ('nonononono', 1), ('dressing', 1), ('sansa', 1), ('blinked', 1), ('trigger', 1), ('ner', 1), ('offline', 1), ('hinata', 1), ('brevoort', 1), ('gasp', 1), ('visualise', 1), ('crashsterling', 1), ('carmel', 1), ('joeysterling', 1), ('waziristan', 1), ('ppe', 1), ('praying', 1), ('pleas', 1), ('loo', 1), ('stil', 1), ('negotiating', 1), ('donuts', 1), ('motorways', 1), ('fumes', 1), ('puddle', 1), ('uncontrolled', 1), ('areva', 1), ('\\nparents', 1), ('\\nnowlike', 1), ('usthe', 1), ('connected', 1), ('\\ndue', 1), ('\\nbro', 1), ('behaviour', 1), ('pleasantly', 1), ('div', 1), ('\\n\\nmost', 1), ('world\\nbest', 1), ('\\nbest', 1), ('meltdown\\n\\nwhat', 1), ('janeenorman', 1), ('probability', 1), ('starmade', 1), ('stardate', 1), ('planetary', 1), ('alexandrian', 1), ('bing', 1), ('tem\\x89û_', 1), ('^fj', 1), ('welcoming', 1), ('feeble', 1), ('kzim', 1), ('steele', 1), ('tumbles', 1), ('todayi', 1), ('side\\n\\nand', 1), ('sweeps', 1), ('hara', 1), ('kiri', 1), ('langtree', 1), ('prove', 1), ('begun', 1), ('tren', 1), ('pir', 1), ('auc', 1), ('faculty', 1), ('willis', 1), ('foreman', 1), ('deans', 1), ('wrightsboro', 1), ('cardinals', 1), ('jaron', 1), ('fires\\nhttp', 1), ('mgmghgt', 1), ('mtech', 1), ('assisted', 1), ('bl', 1), ('zix', 1), ('groceries', 1), ('aching', 1), ('lougheed', 1), ('dewdney', 1), ('eto', 1), ('goode', 1), ('championships', 1), ('mon', 1), ('annihilate', 1), ('decision\\x89û_', 1), ('nowish', 1), ('therein', 1), ('destroyd', 1), ('vigils', 1), ('wartime', 1), ('wroug', 1), ('mysteries', 1), ('zhejiang', 1), ('_bomb', 1), ('enola', 1), ('naypyidaw', 1), ('prensa', 1), ('latina', 1), ('striked', 1), ('otm', 1), ('trends', 1), ('startups', 1), ('challenging', 1), ('\\x89û÷nuclear', 1), ('deaths\\x89ûª', 1), ('marilyn', 1), ('monroe', 1), ('ripriprip', 1), ('hilversum', 1), ('meters', 1), ('delirious', 1), ('mandem', 1), ('totteham', 1), ('maddddd', 1), ('ting', 1), ('dere', 1), ('foodborne', 1), ('dears', 1), ('reg', 1), ('competitiveness', 1), ('brockton', 1), ('regc', 1), ('ppc', 1), ('fiji', 1), ('stretched', 1), ('its\\x89û_', 1), ('dos', 1), ('administer', 1), ('apps', 1), ('qct', 1), ('metropol', 1), ('bukidnon', 1), ('yygb', 1), ('fnet\\n\\nthousands', 1), ('strongest', 1), ('meditation', 1), ('divine', 1), ('blessing', 1), ('naija', 1), ('reviewers', 1), ('boxset', 1), ('lindsay', 1), ('buroker', 1), ('printable', 1), ('templates\\nhttp', 1), ('naex', 1), ('hoke', 1), ('excepting', 1), ('dfljev', 1), ('albertville', 1), ('bstrd', 1), ('takig', 1), ('sculrismfinis', 1), ('greats', 1), ('honoring', 1), ('[ir]', 1), ('icemoon', 1), ('[aftershock]', 1), ('exotic', 1), ('xeuj', 1), ('excessive', 1), ('emerging', 1), ('pronged', 1), ('furniture', 1), ('retailer', 1), ('dsc', 1), ('colorlines', 1), ('marketers', 1), ('marketer', 1), ('surgeon', 1), ('neutron', 1), ('airplanes', 1), ('awaken', 1), ('disrupting', 1), ('noon', 1), ('bedrooms', 1), ('baths', 1), ('qms', 1), ('rressd', 1), ('leezy', 1), ('grabbing', 1), ('oct', 1), ('twenty', 1), ('kamayani', 1), ('janata', 1), ('gratia', 1), ('simultaneous', 1), ('waterproof', 1), ('weiqin', 1), ('michel', 1), ('lujo', 1), ('drilling', 1), ('towline', 1), ('drifted', 1), ('explanation', 1), ('lansdowne', 1), ('sts', 1), ('emerg', 1), ('pple', 1), ('policemen', 1), ('indicate', 1), ('waianapanapa', 1), ('slams', 1), ('bordento', 1), ('latino', 1), ('unharmed', 1), ('nationals', 1), ('who\\x89û_', 1), ('stew', 1), ('measles', 1), ('complications', 1), ('looses', 1), ('crickets', 1), ('kenai', 1), ('spur', 1), ('crashing\\x89û_', 1), ('wk', 1), ('seward', 1), ('licensed', 1), ('produc', 1), ('les', 1), ('wozni', 1), ('treblinka', 1), ('rebelled', 1), ('seizing', 1), ('rebuilt', 1), ('blockade', 1), ('octagonal', 1), ('cds', 1), ('ìâå¢', 1), ('bovines', 1), ('smugglersåênabbed', 1), ('s\\x89ûªarabia', 1), ('bombing\\n\\na', 1), ('aseer', 1), ('remote', 1), ('stylishly', 1), ('area\\nwctv', 1), ('breaker', 1), ('threshold', 1), ('awg', 1), ('commonly', 1), ('outlets', 1), ('reopened', 1), ('clearlake', 1), ('lik', 1), ('lulgzimbestpicts', 1), ('housed', 1), ('osborn', 1), ('extinguished', 1), ('alloy', 1), ('ta', 1), ('thinkin', 1), ('yal', 1), ('finance', 1), ('liqd', 1), ('mynabirds', 1), ('lovers', 1), ('bst', 1), ('mons', 1), ('hanover', 1), ('karlsruhe', 1), ('gotthard', 1), ('sri', 1), ('lanka', 1), ('\\nbusy', 1), ('\\nsuppose', 1), ('mre', 1), ('homs', 1), ('zaman', 1), ('alwsl', 1), ('digits\\nhttp', 1), ('txrswi', 1), ('efg', 1), ('sided', 1), ('linerless', 1), ('caps', 1), ('coastguard', 1), ('martial', 1), ('bicyclists', 1), ('runners', 1), ('helens', 1), ('scotiabank', 1), ('saddledome', 1), ('msm', 1), ('staging', 1), ('atv', 1), ('absence', 1), ('interactions', 1), ('naples', 1), ('npzp', 1), ('vpitswy', 1), ('utica', 1), ('pleasant', 1), ('paws', 1), ('majors', 1), ('martyred', 1), ('corps', 1), ('citing', 1), ('casing', 1), ('axle', 1), ('macs', 1), ('ars', 1), ('technica', 1), ('criess', 1), ('wook', 1), ('hsu', 1), ('hao', 1), ('\\njust', 1), ('holes', 1), ('avalanches', 1), ('xrrlnhelap\\n', 1), ('idp', 1), ('wwp', 1), ('serving', 1), ('oif', 1), ('oef', 1), ('invisible', 1), ('westmdcountypa', 1), ('vagersedolla', 1), ('uriminzok', 1), ('puppet', 1), ('naemolgo', 1), ('firmly', 1), ('yiraneuni', 1), ('unsuckdcmetro', 1), ('railed', 1), ('stavernise', 1), ('stacdemon', 1), ('mullin', 1), ('john\\x89ûªs', 1), ('slosheriff', 1), ('huntington', 1), ('relations', 1), ('vwovhs', 1), ('appear', 1), ('ronfunches', 1), ('funches', 1), ('robdelaney', 1), ('ejaculating', 1), ('raniakhalek', 1), ('peterdutton_mp', 1), ('norwaymfa', 1), ('no_periferico', 1), ('mlsudders', 1), ('libertygeek', 1), ('kissing', 1), ('kurtschlichter', 1), ('kumailn', 1), ('karijobe', 1), ('tambourine', 1), ('jimmyfallon', 1), ('mortar', 1), ('pestle', 1), ('janeannmorrison', 1), ('greenbuildermag', 1), ('emily_noel', 1), ('dinosaurdracula', 1), ('jason', 1), ('denisleary', 1), ('david_cameron', 1), ('upsetting', 1), ('dantwitty', 1), ('eighth', 1), ('cityofcalgary', 1), ('cbcnorth', 1), ('sacred', 1), ('talston', 1), ('sxlfsnsph', 1), ('bigperm', 1), ('drafted', 1), ('bbcnews', 1), ('mwlippert', 1), ('electrocutedboiling', 1), ('waterfur', 1), ('arnejungjohann', 1), ('aphl', 1), ('aiginsurance', 1), ('divestitures', 1), ('_degrees', 1), ('unilever', 1), ('drayesha', 1), ('ki\\x89û_', 1), ('orphanage', 1), ('jeremycorbyn', 1), ('savvy', 1), ('fabsyxqlqi', 1), ('hotepina', 1), ('achieved', 1), ('refunds', 1), ('colts', 1), ('whine', 1), ('collectable', 1), ('windriver', 1), ('playstation', 1), ('patiently', 1), ('kitana\\n', 1), ('slay', 1), ('me\\n\\x89ûókody', 1), ('lastma', 1), ('lagos', 1), ('useless', 1), ('penetrate', 1), ('\\n\\ndue', 1), ('senzu', 1), ('gohan\\x89ûªs', 1), ('pouch', 1), ('grea', 1), ('spiritual', 1), ('awakening', 1), ('oficial', 1), ('cossacks', 1), ('hussars', 1), ('oo', 1), ('riggd', 1), ('rough', 1), ('shelters', 1), ('glade', 1), ('kindlng', 1), ('glowng', 1), ('hollow', 1), ('frnch', 1), ('nicole', 1), ('fletcher', 1), ('sobbing', 1), ('endlessly', 1), ('femnism', 1), ('joann', 1), ('\\n\\nlittle', 1), ('\\nwelp', 1), ('pone', 1), ('cantar', 1), ('prodigy', 1), ('graphic', 1), ('nominates', 1), ('embroidered', 1), ('fujiwara', 1), ('shunichiro', 1), ('[technology]', 1), ('coworkers', 1), ('snickers', 1), ('niiiice', 1), ('jumps', 1), ('\\n\\nthis', 1), ('jariana', 1), ('burma', 1), ('enduring', 1), ('\\nthanks', 1), ('comin', 1), ('escorts', 1), ('shadows', 1), ('russaky', 1), ('hyider_ghost', 1), ('fighterdena', 1), ('avysss', 1), ('sokoto', 1), ('rubs', 1), ('greets', 1), ('genie', 1), ('emsc', 1), ('losdelsonido', 1), ('ivanberroa', 1), ('antichrist', 1), ('desecrates', 1), ('us\\nlike', 1), ('giorgio', 1), ('hiatt', 1), ('incompetent', 1), ('cactus', 1), ('borderlands', 1), ('away\\nnothing', 1), ('say\\nsee', 1), ('eyes\\nsee', 1), ('\\x89û÷em', 1), ('perceive', 1), ('faintly', 1), ('sputtering', 1), ('vast', 1), ('eternity', 1), ('gyrsi', 1), ('manner', 1), ('parcel', 1), ('dtom', 1), ('accomplishing', 1), ('we\\x89ûªre', 1), ('we\\x89ûªve', 1), ('damsels', 1), ('peers', 1), ('bums', 1), ('bowel', 1), ('educate', 1), ('adapt', 1), ('kristnmalea', 1), ('bond', 1), ('enterprise', 1), ('wisely', 1), ('carnage', 1), ('ggindependencmessage', 1), ('orcas', 1), ('jyap', 1), ('baffling', 1), ('busta', 1), ('splashed', 1), ('emmy', 1), ('emily', 1), ('dwight', 1), ('eisenhower', 1), ('arranged', 1), ('guatemalan', 1), ('\\nroger', 1), ('bannister', 1), ('relied', 1), ('suns', 1), ('harder', 1), ('triumph', 1), ('paine', 1), ('oyster', 1), ('carnegie', 1), ('importance', 1), ('exits', 1), ('familiar', 1), ('derives', 1), ('vincent', 1), ('peale', 1), ('hoops', 1), ('recruiting', 1), ('[location', 1), ('named]', 1), ('sorrowful', 1), ('redemption', 1), ('platt', 1), ('some', 1), ('hearths', 1), ('depreciations', 1), ('usd', 1), ('tasted', 1), ('mileena', 1), ('conditionsprivation', 1), ('shovel', 1), ('redskins', 1), ('enforced', 1), ('isolation', 1), ('contamination', 1), ('possum', 1), ('bonsai', 1), ('banjo', 1), ('pilon', 1), ('skateboarding', 1), ('wamberal', 1), ('scam', 1), ('sarcastic', 1), ('\\n\\ndrop', 1), ('glance', 1), ('quietly', 1), ('personality', 1), ('modern', 1), ('schulz', 1), ('lender', 1), ('fia', 1), ('tariq', 1), ('khosa', 1), ('motordom', 1), ('lobbied', 1), ('mcfadden', 1), ('hamstring', 1), ('shipwreck', 1), ('mages', 1), ('specialize', 1), ('natsu', 1), ('dragneel', 1), ('handside', 1), ('kessler', 1), ('exponential', 1), ('proliferation', 1), ('satellites', 1), ('illogical', 1), ('revealing', 1), ('belter', 1), ('tsipras', 1), ('cost\\x89û_', 1), ('wallybaiter', 1), ('jihadist', 1), ('invading', 1), ('\\n\\ndiplomacy', 1), ('yqjpn', 1), ('quux', 1), ('aisle', 1), ('serbian', 1), ('foods', 1), ('clothing', 1), ('appropriates', 1), ('churchill', 1), ('summon', 1), ('achieve', 1), ('excellence', 1), ('habit', 1), ('truckload', 1), ('panics', 1), ('wjntaokdhf', 1), ('jota', 1), ('esse', 1), ('gemini', 1), ('overblown', 1), ('corrupt', 1), ('vandalise', 1), ('aliyu', 1), ('mani', 1), ('macia', 1), ('testified', 1), ('macia\\x89ûªs', 1), ('sylvia', 1), ('plath', 1), ('petrichour', 1), ('understood', 1), ('murderers', 1), ('mindkiller', 1), ('thezlong', 1), ('energyqfor', 1), ('gq', 1), ('ebqz', 1), ('dill', 1), ('pickle', 1), ('testicles', 1), ('indians', 1), ('smirking', 1), ('remorseless', 1), ('boasting', 1), ('looming', 1), ('\\nbatman', 1), ('smothered', 1), ('ibiza', 1), ('memories\\nhttp', 1), ('felr', 1), ('hbp', 1), ('alejandro', 1), ('jodorowsky', 1), ('\\nmatthew', 1), ('arfur', 1), ('nelson', 1), ('acrylic', 1), ('\\\\allahuakbar\\\\', 1), ('yourselves', 1), ('scheer', 1), ('huebel', 1), ('sippin', 1), ('renamed', 1), ('goonda', 1), ('motley', 1), ('hooligans', 1), ('selfavowed', 1), ('crooks', 1), ('asher', 1), ('lotm', 1), ('bleed', 1), ('masterpiece', 1), ('happen\\x89û_', 1), ('reporters', 1), ('calgarians', 1), ('freshness', 1), ('annoyed', 1), ('rahm', 1), ('mayoral', 1), ('effigy', 1), ('blaaaaaaa', 1), ('vibrate', 1), ('nasb', 1), ('failing', 1), ('yield', 1), ('amateur', 1), ('reprises', 1), ('horrormovies', 1), ('afterwards', 1), ('savour', 1), ('prolong', 1), ('sigue', 1), ('slamming', 1), ('remade', 1), ('wsj', 1), ('adani', 1), ('group\\x89ûªs', 1), ('phelimkine', 1), ('imeshika', 1), ('hapa', 1), ('mats', 1), ('aar', 1), ('piga', 1), ('kijan', 1), ('jorrynja', 1), ('bf', 1), ('googlefacts', 1), ('lick', 1), ('catoinstitute', 1), ('deeply', 1), ('solved', 1), ('berggrueninst', 1), ('berggruen', 1), ('reacts', 1), ('chapoutier', 1), ('crozes', 1), ('hermitage', 1), ('violets', 1), ('slate', 1), ('yum', 1), ('statistic', 1), ('pharrell', 1), ('omlette', 1), ('commences', 1), ('kyodonews', 1), ('anniv', 1), ('eroded', 1), ('pacifism', 1), ('kabul', 1), ('offshoot', 1), ('servers\\n', 1), ('load\\n', 1), ('anew', 1), ('\\x89û÷faceless\\x89ûª', 1), ('[photo]', 1), ('backed', 1), ('presstitutes', 1), ('sympathising', 1), ('longe', 1), ('rgreen', 1), ('illustrations', 1), ('fife', 1), ('sharia', 1), ('uninformed', 1), ('citrus', 1), ('azusa', 1), ('motorcycles', 1), ('ihhen', 1), ('cindy', 1), ('noonan', 1), ('cindynoonan', 1), ('caller', 1), ('overpasses', 1), ('crowchild', 1), ('saddles', 1), ('\\nwatching', 1), ('\\nseems', 1), ('\\n\\nearly', 1), ('cups', 1), ('lag', 1), ('drink\\x89û_', 1)]\n"
          ]
        }
      ]
    },
    {
      "cell_type": "markdown",
      "source": [
        "I will create a label generator based in hypothesis: always specified group of words related to disaster will apareced; so i can related key words to specified group."
      ],
      "metadata": {
        "id": "ycVouNqii_Lf"
      }
    },
    {
      "cell_type": "code",
      "source": [
        "mapper = {\n",
        "    \"fire\": {\n",
        "        \"key_words\" : ['lava', \"fire\", \"burn\", 'flame', 'blaz', \"blast\" ],\n",
        "        \"label\": [\"disaster with fire\", 0]\n",
        "    },\n",
        "    \"thunder\": {\n",
        "        \"key_words\" : [\"thunde\", 'light','electro'],\n",
        "        \"label\": [\"disaster with lightning\", 1]\n",
        "    },\n",
        "    \"water\": {\n",
        "        \"key_words\" : ['inundat', \"water\", 'flood', 'drown', \"rain\"],\n",
        "        \"label\": [\"disaster with lightning\", 2]\n",
        "    },\n",
        "    \"weapons\": {\n",
        "        \"key_words\" : [\"riot\", 'murder',\"explod\", 'bomb', 'terrori', \"destroy\", \"weapon\", 'rush', 'crash', 'damage', 'smoke', 'truck', 'blood'],\n",
        "        \"label\": [\"disaster with weapons\", 3]\n",
        "    },\n",
        "    \"earth\": {\n",
        "        \"key_words\" : [\"earth\", 'earthquake', 'crush', \"mudslide\", \"mud\"],\n",
        "        \"label\": [\"disaster with earth\", 4]\n",
        "    },\n",
        "    \"wind\": {\n",
        "        \"key_words\" : ['hurricane', 'wind', 'storm'],\n",
        "        \"label\": [\"disaster with wind\", 5]\n",
        "    },\n",
        "}\n",
        "\n",
        "def base_label_generator(mapper, x):\n",
        "  words = x.split(\" \")\n",
        "  popular_words = defaultdict(int)\n",
        "\n",
        "  for key, value in mapper.items():\n",
        "    key_words = value[\"key_words\"]\n",
        "    label = value[\"label\"][0]\n",
        "\n",
        "    for word in words:\n",
        "      for key_word in key_words:\n",
        "        if key_word in word:\n",
        "          popular_words[label] += 1\n",
        "\n",
        "  rpta_label = \"Don't defined\"\n",
        "\n",
        "  if(len(popular_words) > 0):\n",
        "    sorted_ranking = sorted(popular_words.items(), key=operator.itemgetter(1), reverse=True)\n",
        "    rpta_label = sorted_ranking[0][0]\n",
        "  return rpta_label\n",
        "\n",
        "\n",
        "label_generator = partial(base_label_generator, mapper)\n",
        "\n",
        "cleaning_disaster_db_df[\"label_generated\"] = cleaning_disaster_db_df[\"cleaning_text_v3\"].apply( lambda x : label_generator(x))\n",
        "cleaning_disaster_db_df[\"label_generated\"].value_counts()"
      ],
      "metadata": {
        "colab": {
          "base_uri": "https://localhost:8080/"
        },
        "id": "maCDH_u4jZ4W",
        "outputId": "88ba51d4-5496-4807-d8f1-a52dac041047"
      },
      "execution_count": 50,
      "outputs": [
        {
          "output_type": "execute_result",
          "data": {
            "text/plain": [
              "Don't defined              5883\n",
              "disaster with weapons      1375\n",
              "disaster with lightning     975\n",
              "disaster with fire          971\n",
              "disaster with wind          355\n",
              "disaster with earth         109\n",
              "Name: label_generated, dtype: int64"
            ]
          },
          "metadata": {},
          "execution_count": 50
        }
      ]
    }
  ]
}