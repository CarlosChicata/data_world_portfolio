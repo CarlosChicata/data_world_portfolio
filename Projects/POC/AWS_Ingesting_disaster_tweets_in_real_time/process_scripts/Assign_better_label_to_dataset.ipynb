{
  "nbformat": 4,
  "nbformat_minor": 0,
  "metadata": {
    "colab": {
      "provenance": []
    },
    "kernelspec": {
      "name": "python3",
      "display_name": "Python 3"
    },
    "language_info": {
      "name": "python"
    }
  },
  "cells": [
    {
      "cell_type": "markdown",
      "source": [
        "# Analysis of dataset to assign label"
      ],
      "metadata": {
        "id": "UhtXwiV28oYM"
      }
    },
    {
      "cell_type": "markdown",
      "source": [
        "The purpose of this subproject is ; in a simple and easy way; assign a better label for classification in kind of disaster and whether or not it is a joke.\n",
        "\n",
        "As dataset is pre-labeled from human team; i will use this features like basis and guide for this process."
      ],
      "metadata": {
        "id": "Np4q9KC_81YO"
      }
    },
    {
      "cell_type": "markdown",
      "source": [
        "## Preparing enviroment to work"
      ],
      "metadata": {
        "id": "J6xS9zlRATD7"
      }
    },
    {
      "cell_type": "code",
      "source": [
        "!pip install boto3\n",
        "!pip install pandas"
      ],
      "metadata": {
        "colab": {
          "base_uri": "https://localhost:8080/"
        },
        "id": "7fHThBE0-h8q",
        "outputId": "568fd114-db93-4657-8738-329024ba016d"
      },
      "execution_count": 1,
      "outputs": [
        {
          "output_type": "stream",
          "name": "stdout",
          "text": [
            "Looking in indexes: https://pypi.org/simple, https://us-python.pkg.dev/colab-wheels/public/simple/\n",
            "Collecting boto3\n",
            "  Downloading boto3-1.26.129-py3-none-any.whl (135 kB)\n",
            "\u001b[2K     \u001b[90m━━━━━━━━━━━━━━━━━━━━━━━━━━━━━━━━━━━━━━━\u001b[0m \u001b[32m135.6/135.6 kB\u001b[0m \u001b[31m4.1 MB/s\u001b[0m eta \u001b[36m0:00:00\u001b[0m\n",
            "\u001b[?25hCollecting botocore<1.30.0,>=1.29.129\n",
            "  Downloading botocore-1.29.129-py3-none-any.whl (10.7 MB)\n",
            "\u001b[2K     \u001b[90m━━━━━━━━━━━━━━━━━━━━━━━━━━━━━━━━━━━━━━━━\u001b[0m \u001b[32m10.7/10.7 MB\u001b[0m \u001b[31m56.5 MB/s\u001b[0m eta \u001b[36m0:00:00\u001b[0m\n",
            "\u001b[?25hCollecting jmespath<2.0.0,>=0.7.1\n",
            "  Downloading jmespath-1.0.1-py3-none-any.whl (20 kB)\n",
            "Collecting s3transfer<0.7.0,>=0.6.0\n",
            "  Downloading s3transfer-0.6.1-py3-none-any.whl (79 kB)\n",
            "\u001b[2K     \u001b[90m━━━━━━━━━━━━━━━━━━━━━━━━━━━━━━━━━━━━━━━━\u001b[0m \u001b[32m79.8/79.8 kB\u001b[0m \u001b[31m8.8 MB/s\u001b[0m eta \u001b[36m0:00:00\u001b[0m\n",
            "\u001b[?25hRequirement already satisfied: python-dateutil<3.0.0,>=2.1 in /usr/local/lib/python3.10/dist-packages (from botocore<1.30.0,>=1.29.129->boto3) (2.8.2)\n",
            "Requirement already satisfied: urllib3<1.27,>=1.25.4 in /usr/local/lib/python3.10/dist-packages (from botocore<1.30.0,>=1.29.129->boto3) (1.26.15)\n",
            "Requirement already satisfied: six>=1.5 in /usr/local/lib/python3.10/dist-packages (from python-dateutil<3.0.0,>=2.1->botocore<1.30.0,>=1.29.129->boto3) (1.16.0)\n",
            "Installing collected packages: jmespath, botocore, s3transfer, boto3\n",
            "Successfully installed boto3-1.26.129 botocore-1.29.129 jmespath-1.0.1 s3transfer-0.6.1\n",
            "Looking in indexes: https://pypi.org/simple, https://us-python.pkg.dev/colab-wheels/public/simple/\n",
            "Requirement already satisfied: pandas in /usr/local/lib/python3.10/dist-packages (1.5.3)\n",
            "Requirement already satisfied: python-dateutil>=2.8.1 in /usr/local/lib/python3.10/dist-packages (from pandas) (2.8.2)\n",
            "Requirement already satisfied: pytz>=2020.1 in /usr/local/lib/python3.10/dist-packages (from pandas) (2022.7.1)\n",
            "Requirement already satisfied: numpy>=1.21.0 in /usr/local/lib/python3.10/dist-packages (from pandas) (1.22.4)\n",
            "Requirement already satisfied: six>=1.5 in /usr/local/lib/python3.10/dist-packages (from python-dateutil>=2.8.1->pandas) (1.16.0)\n"
          ]
        }
      ]
    },
    {
      "cell_type": "code",
      "source": [
        "import pandas as pd\n",
        "import numpy as np\n",
        "from boto3 import Session"
      ],
      "metadata": {
        "id": "W0qwwueFAn5j"
      },
      "execution_count": 2,
      "outputs": []
    },
    {
      "cell_type": "code",
      "source": [
        "disaster_db_df = pd.read_csv(\"/database.csv\", encoding=\"latin9\")\n",
        "disaster_db_df.head(5)"
      ],
      "metadata": {
        "colab": {
          "base_uri": "https://localhost:8080/",
          "height": 529
        },
        "id": "9fVCKZEVAwJj",
        "outputId": "7ae225b5-3b12-4e3e-dc14-fe0e434184cf"
      },
      "execution_count": 3,
      "outputs": [
        {
          "output_type": "execute_result",
          "data": {
            "text/plain": [
              "    _unit_id  _golden _unit_state  _trusted_judgments _last_judgment_at  \\\n",
              "0  778243823     True      golden                 156               NaN   \n",
              "1  778243824     True      golden                 152               NaN   \n",
              "2  778243825     True      golden                 137               NaN   \n",
              "3  778243826     True      golden                 136               NaN   \n",
              "4  778243827     True      golden                 138               NaN   \n",
              "\n",
              "  choose_one  choose_one:confidence choose_one_gold keyword location  \\\n",
              "0   Relevant                 1.0000        Relevant     NaN      NaN   \n",
              "1   Relevant                 1.0000        Relevant     NaN      NaN   \n",
              "2   Relevant                 1.0000        Relevant     NaN      NaN   \n",
              "3   Relevant                 0.9603        Relevant     NaN      NaN   \n",
              "4   Relevant                 1.0000        Relevant     NaN      NaN   \n",
              "\n",
              "                                                text  tweetid  userid  \n",
              "0                 Just happened a terrible car crash      1.0     NaN  \n",
              "1  Our Deeds are the Reason of this #earthquake M...     13.0     NaN  \n",
              "2  Heard about #earthquake is different cities, s...     14.0     NaN  \n",
              "3  there is a forest fire at spot pond, geese are...     15.0     NaN  \n",
              "4             Forest fire near La Ronge Sask. Canada     16.0     NaN  "
            ],
            "text/html": [
              "\n",
              "  <div id=\"df-28f96fa8-30c8-4a5f-83ed-e248830b9055\">\n",
              "    <div class=\"colab-df-container\">\n",
              "      <div>\n",
              "<style scoped>\n",
              "    .dataframe tbody tr th:only-of-type {\n",
              "        vertical-align: middle;\n",
              "    }\n",
              "\n",
              "    .dataframe tbody tr th {\n",
              "        vertical-align: top;\n",
              "    }\n",
              "\n",
              "    .dataframe thead th {\n",
              "        text-align: right;\n",
              "    }\n",
              "</style>\n",
              "<table border=\"1\" class=\"dataframe\">\n",
              "  <thead>\n",
              "    <tr style=\"text-align: right;\">\n",
              "      <th></th>\n",
              "      <th>_unit_id</th>\n",
              "      <th>_golden</th>\n",
              "      <th>_unit_state</th>\n",
              "      <th>_trusted_judgments</th>\n",
              "      <th>_last_judgment_at</th>\n",
              "      <th>choose_one</th>\n",
              "      <th>choose_one:confidence</th>\n",
              "      <th>choose_one_gold</th>\n",
              "      <th>keyword</th>\n",
              "      <th>location</th>\n",
              "      <th>text</th>\n",
              "      <th>tweetid</th>\n",
              "      <th>userid</th>\n",
              "    </tr>\n",
              "  </thead>\n",
              "  <tbody>\n",
              "    <tr>\n",
              "      <th>0</th>\n",
              "      <td>778243823</td>\n",
              "      <td>True</td>\n",
              "      <td>golden</td>\n",
              "      <td>156</td>\n",
              "      <td>NaN</td>\n",
              "      <td>Relevant</td>\n",
              "      <td>1.0000</td>\n",
              "      <td>Relevant</td>\n",
              "      <td>NaN</td>\n",
              "      <td>NaN</td>\n",
              "      <td>Just happened a terrible car crash</td>\n",
              "      <td>1.0</td>\n",
              "      <td>NaN</td>\n",
              "    </tr>\n",
              "    <tr>\n",
              "      <th>1</th>\n",
              "      <td>778243824</td>\n",
              "      <td>True</td>\n",
              "      <td>golden</td>\n",
              "      <td>152</td>\n",
              "      <td>NaN</td>\n",
              "      <td>Relevant</td>\n",
              "      <td>1.0000</td>\n",
              "      <td>Relevant</td>\n",
              "      <td>NaN</td>\n",
              "      <td>NaN</td>\n",
              "      <td>Our Deeds are the Reason of this #earthquake M...</td>\n",
              "      <td>13.0</td>\n",
              "      <td>NaN</td>\n",
              "    </tr>\n",
              "    <tr>\n",
              "      <th>2</th>\n",
              "      <td>778243825</td>\n",
              "      <td>True</td>\n",
              "      <td>golden</td>\n",
              "      <td>137</td>\n",
              "      <td>NaN</td>\n",
              "      <td>Relevant</td>\n",
              "      <td>1.0000</td>\n",
              "      <td>Relevant</td>\n",
              "      <td>NaN</td>\n",
              "      <td>NaN</td>\n",
              "      <td>Heard about #earthquake is different cities, s...</td>\n",
              "      <td>14.0</td>\n",
              "      <td>NaN</td>\n",
              "    </tr>\n",
              "    <tr>\n",
              "      <th>3</th>\n",
              "      <td>778243826</td>\n",
              "      <td>True</td>\n",
              "      <td>golden</td>\n",
              "      <td>136</td>\n",
              "      <td>NaN</td>\n",
              "      <td>Relevant</td>\n",
              "      <td>0.9603</td>\n",
              "      <td>Relevant</td>\n",
              "      <td>NaN</td>\n",
              "      <td>NaN</td>\n",
              "      <td>there is a forest fire at spot pond, geese are...</td>\n",
              "      <td>15.0</td>\n",
              "      <td>NaN</td>\n",
              "    </tr>\n",
              "    <tr>\n",
              "      <th>4</th>\n",
              "      <td>778243827</td>\n",
              "      <td>True</td>\n",
              "      <td>golden</td>\n",
              "      <td>138</td>\n",
              "      <td>NaN</td>\n",
              "      <td>Relevant</td>\n",
              "      <td>1.0000</td>\n",
              "      <td>Relevant</td>\n",
              "      <td>NaN</td>\n",
              "      <td>NaN</td>\n",
              "      <td>Forest fire near La Ronge Sask. Canada</td>\n",
              "      <td>16.0</td>\n",
              "      <td>NaN</td>\n",
              "    </tr>\n",
              "  </tbody>\n",
              "</table>\n",
              "</div>\n",
              "      <button class=\"colab-df-convert\" onclick=\"convertToInteractive('df-28f96fa8-30c8-4a5f-83ed-e248830b9055')\"\n",
              "              title=\"Convert this dataframe to an interactive table.\"\n",
              "              style=\"display:none;\">\n",
              "        \n",
              "  <svg xmlns=\"http://www.w3.org/2000/svg\" height=\"24px\"viewBox=\"0 0 24 24\"\n",
              "       width=\"24px\">\n",
              "    <path d=\"M0 0h24v24H0V0z\" fill=\"none\"/>\n",
              "    <path d=\"M18.56 5.44l.94 2.06.94-2.06 2.06-.94-2.06-.94-.94-2.06-.94 2.06-2.06.94zm-11 1L8.5 8.5l.94-2.06 2.06-.94-2.06-.94L8.5 2.5l-.94 2.06-2.06.94zm10 10l.94 2.06.94-2.06 2.06-.94-2.06-.94-.94-2.06-.94 2.06-2.06.94z\"/><path d=\"M17.41 7.96l-1.37-1.37c-.4-.4-.92-.59-1.43-.59-.52 0-1.04.2-1.43.59L10.3 9.45l-7.72 7.72c-.78.78-.78 2.05 0 2.83L4 21.41c.39.39.9.59 1.41.59.51 0 1.02-.2 1.41-.59l7.78-7.78 2.81-2.81c.8-.78.8-2.07 0-2.86zM5.41 20L4 18.59l7.72-7.72 1.47 1.35L5.41 20z\"/>\n",
              "  </svg>\n",
              "      </button>\n",
              "      \n",
              "  <style>\n",
              "    .colab-df-container {\n",
              "      display:flex;\n",
              "      flex-wrap:wrap;\n",
              "      gap: 12px;\n",
              "    }\n",
              "\n",
              "    .colab-df-convert {\n",
              "      background-color: #E8F0FE;\n",
              "      border: none;\n",
              "      border-radius: 50%;\n",
              "      cursor: pointer;\n",
              "      display: none;\n",
              "      fill: #1967D2;\n",
              "      height: 32px;\n",
              "      padding: 0 0 0 0;\n",
              "      width: 32px;\n",
              "    }\n",
              "\n",
              "    .colab-df-convert:hover {\n",
              "      background-color: #E2EBFA;\n",
              "      box-shadow: 0px 1px 2px rgba(60, 64, 67, 0.3), 0px 1px 3px 1px rgba(60, 64, 67, 0.15);\n",
              "      fill: #174EA6;\n",
              "    }\n",
              "\n",
              "    [theme=dark] .colab-df-convert {\n",
              "      background-color: #3B4455;\n",
              "      fill: #D2E3FC;\n",
              "    }\n",
              "\n",
              "    [theme=dark] .colab-df-convert:hover {\n",
              "      background-color: #434B5C;\n",
              "      box-shadow: 0px 1px 3px 1px rgba(0, 0, 0, 0.15);\n",
              "      filter: drop-shadow(0px 1px 2px rgba(0, 0, 0, 0.3));\n",
              "      fill: #FFFFFF;\n",
              "    }\n",
              "  </style>\n",
              "\n",
              "      <script>\n",
              "        const buttonEl =\n",
              "          document.querySelector('#df-28f96fa8-30c8-4a5f-83ed-e248830b9055 button.colab-df-convert');\n",
              "        buttonEl.style.display =\n",
              "          google.colab.kernel.accessAllowed ? 'block' : 'none';\n",
              "\n",
              "        async function convertToInteractive(key) {\n",
              "          const element = document.querySelector('#df-28f96fa8-30c8-4a5f-83ed-e248830b9055');\n",
              "          const dataTable =\n",
              "            await google.colab.kernel.invokeFunction('convertToInteractive',\n",
              "                                                     [key], {});\n",
              "          if (!dataTable) return;\n",
              "\n",
              "          const docLinkHtml = 'Like what you see? Visit the ' +\n",
              "            '<a target=\"_blank\" href=https://colab.research.google.com/notebooks/data_table.ipynb>data table notebook</a>'\n",
              "            + ' to learn more about interactive tables.';\n",
              "          element.innerHTML = '';\n",
              "          dataTable['output_type'] = 'display_data';\n",
              "          await google.colab.output.renderOutput(dataTable, element);\n",
              "          const docLink = document.createElement('div');\n",
              "          docLink.innerHTML = docLinkHtml;\n",
              "          element.appendChild(docLink);\n",
              "        }\n",
              "      </script>\n",
              "    </div>\n",
              "  </div>\n",
              "  "
            ]
          },
          "metadata": {},
          "execution_count": 3
        }
      ]
    },
    {
      "cell_type": "markdown",
      "source": [
        "Based in data sample, i think the `choose_one`, `choose_one:confidence`, `choosen_one_gold`, `text` and `tweet_id` are important for the analysis; i need to check if my hypothesis is true.\n",
        "\n",
        "---\n",
        "\n"
      ],
      "metadata": {
        "id": "v5PlpiI0Bmsc"
      }
    },
    {
      "cell_type": "markdown",
      "source": [
        "# Checking the mentioned features are relevant or not"
      ],
      "metadata": {
        "id": "-bOex6QDBmy0"
      }
    },
    {
      "cell_type": "markdown",
      "source": [
        "### `Choose_one` field"
      ],
      "metadata": {
        "id": "AfrImXD-FX7T"
      }
    },
    {
      "cell_type": "code",
      "source": [
        "disaster_db_df['choose_one'].value_counts()"
      ],
      "metadata": {
        "colab": {
          "base_uri": "https://localhost:8080/"
        },
        "id": "6SGIQ0ItCSmt",
        "outputId": "f041ab39-281b-41cd-ec83-1a18afb8e606"
      },
      "execution_count": 11,
      "outputs": [
        {
          "output_type": "execute_result",
          "data": {
            "text/plain": [
              "Not Relevant    6187\n",
              "Relevant        4673\n",
              "Can't Decide      16\n",
              "Name: choose_one, dtype: int64"
            ]
          },
          "metadata": {},
          "execution_count": 11
        }
      ]
    },
    {
      "cell_type": "code",
      "source": [
        "disaster_db_df['choose_one'].isnull().value_counts()"
      ],
      "metadata": {
        "colab": {
          "base_uri": "https://localhost:8080/"
        },
        "id": "hHz7cU6EFQum",
        "outputId": "39da5f28-8628-4ad7-9064-1e4951925134"
      },
      "execution_count": 16,
      "outputs": [
        {
          "output_type": "execute_result",
          "data": {
            "text/plain": [
              "False    10876\n",
              "Name: choose_one, dtype: int64"
            ]
          },
          "metadata": {},
          "execution_count": 16
        }
      ]
    },
    {
      "cell_type": "markdown",
      "source": [
        "That's ready to use ✅"
      ],
      "metadata": {
        "id": "SfCUrZrVFk-a"
      }
    },
    {
      "cell_type": "markdown",
      "source": [
        "### `choose_one_gold` field"
      ],
      "metadata": {
        "id": "IB1Jw1MPFhqk"
      }
    },
    {
      "cell_type": "code",
      "source": [
        "disaster_db_df['choose_one_gold'].value_counts()"
      ],
      "metadata": {
        "colab": {
          "base_uri": "https://localhost:8080/"
        },
        "id": "hjIOTaH1Es1l",
        "outputId": "0e5a96e1-2f57-4f91-dbff-53a210f308b5"
      },
      "execution_count": 12,
      "outputs": [
        {
          "output_type": "execute_result",
          "data": {
            "text/plain": [
              "Relevant                      57\n",
              "Not Relevant                  24\n",
              "Relevant\\nCan't Decide         4\n",
              "Not Relevant\\nCan't Decide     2\n",
              "Name: choose_one_gold, dtype: int64"
            ]
          },
          "metadata": {},
          "execution_count": 12
        }
      ]
    },
    {
      "cell_type": "code",
      "source": [
        "disaster_db_df['choose_one_gold'].isnull().value_counts()"
      ],
      "metadata": {
        "colab": {
          "base_uri": "https://localhost:8080/"
        },
        "id": "GcfbcJuRE02i",
        "outputId": "cd0bd848-64d5-451e-8102-47d123769564"
      },
      "execution_count": 15,
      "outputs": [
        {
          "output_type": "execute_result",
          "data": {
            "text/plain": [
              "True     10789\n",
              "False       87\n",
              "Name: choose_one_gold, dtype: int64"
            ]
          },
          "metadata": {},
          "execution_count": 15
        }
      ]
    },
    {
      "cell_type": "markdown",
      "source": [
        "***QUESTION #1: Can i replace it with `choose_one` field?***"
      ],
      "metadata": {
        "id": "jqmZIye-ImIt"
      }
    },
    {
      "cell_type": "code",
      "source": [
        "disaster_db_df.replace(np.nan, None)\n",
        "disaster_db_df[\"choose_one_gold_v2\"] = disaster_db_df[\"choose_one_gold\"].apply(\n",
        "    lambda x: x.split(\"\\n\")[-1] if type(x) is str else None\n",
        ")\n",
        "disaster_db_df[\"choose_one_gold_v2\"].value_counts()"
      ],
      "metadata": {
        "colab": {
          "base_uri": "https://localhost:8080/"
        },
        "id": "iZ9izr4CGSA5",
        "outputId": "37d2af30-435c-4a75-c380-2c04c27df853"
      },
      "execution_count": 33,
      "outputs": [
        {
          "output_type": "execute_result",
          "data": {
            "text/plain": [
              "Relevant        57\n",
              "Not Relevant    24\n",
              "Can't Decide     6\n",
              "Name: choose_one_gold_v2, dtype: int64"
            ]
          },
          "metadata": {},
          "execution_count": 33
        }
      ]
    },
    {
      "cell_type": "code",
      "source": [
        "disaster_db_df[\"is_choose_one_gold_with_choose_one\"] = disaster_db_df.apply( \n",
        "    lambda x: True if x[\"choose_one_gold_v2\"] == x[\"choose_one_gold\"] else False, \n",
        "    axis=1\n",
        "  )\n",
        "selected_choose_one_gold_df = disaster_db_df[ disaster_db_df[\"choose_one_gold_v2\"].isin([\"Relevant\", \"Not Relevant\", \"Can't Decide\"])]\n",
        "selected_choose_one_gold_df[\"is_choose_one_gold_with_choose_one\"].value_counts()"
      ],
      "metadata": {
        "colab": {
          "base_uri": "https://localhost:8080/"
        },
        "id": "eKay5gbII-Zl",
        "outputId": "d338ecb4-c371-4bca-901d-44628733a0d5"
      },
      "execution_count": 47,
      "outputs": [
        {
          "output_type": "execute_result",
          "data": {
            "text/plain": [
              "True     81\n",
              "False     6\n",
              "Name: is_choose_one_gold_with_choose_one, dtype: int64"
            ]
          },
          "metadata": {},
          "execution_count": 47
        }
      ]
    },
    {
      "cell_type": "code",
      "source": [
        "selected_choose_one_gold_df = selected_choose_one_gold_df[selected_choose_one_gold_df[\"is_choose_one_gold_with_choose_one\"].isin([False])]\n",
        "selected_choose_one_gold_df[[\"choose_one_gold_v2\", \"choose_one\", \"choose_one_gold\", \"is_choose_one_gold_with_choose_one\"]]"
      ],
      "metadata": {
        "colab": {
          "base_uri": "https://localhost:8080/",
          "height": 238
        },
        "id": "vOcY6Y6BNSQu",
        "outputId": "ce16ff79-df93-475c-b66c-e87a46704033"
      },
      "execution_count": 48,
      "outputs": [
        {
          "output_type": "execute_result",
          "data": {
            "text/plain": [
              "   choose_one_gold_v2    choose_one             choose_one_gold  \\\n",
              "9        Can't Decide      Relevant      Relevant\\nCan't Decide   \n",
              "13       Can't Decide      Relevant      Relevant\\nCan't Decide   \n",
              "15       Can't Decide      Relevant      Relevant\\nCan't Decide   \n",
              "19       Can't Decide      Relevant      Relevant\\nCan't Decide   \n",
              "42       Can't Decide  Not Relevant  Not Relevant\\nCan't Decide   \n",
              "44       Can't Decide  Not Relevant  Not Relevant\\nCan't Decide   \n",
              "\n",
              "    is_choose_one_gold_with_choose_one  \n",
              "9                                False  \n",
              "13                               False  \n",
              "15                               False  \n",
              "19                               False  \n",
              "42                               False  \n",
              "44                               False  "
            ],
            "text/html": [
              "\n",
              "  <div id=\"df-71845bd7-5ab7-4694-a0cd-5fe5e742feec\">\n",
              "    <div class=\"colab-df-container\">\n",
              "      <div>\n",
              "<style scoped>\n",
              "    .dataframe tbody tr th:only-of-type {\n",
              "        vertical-align: middle;\n",
              "    }\n",
              "\n",
              "    .dataframe tbody tr th {\n",
              "        vertical-align: top;\n",
              "    }\n",
              "\n",
              "    .dataframe thead th {\n",
              "        text-align: right;\n",
              "    }\n",
              "</style>\n",
              "<table border=\"1\" class=\"dataframe\">\n",
              "  <thead>\n",
              "    <tr style=\"text-align: right;\">\n",
              "      <th></th>\n",
              "      <th>choose_one_gold_v2</th>\n",
              "      <th>choose_one</th>\n",
              "      <th>choose_one_gold</th>\n",
              "      <th>is_choose_one_gold_with_choose_one</th>\n",
              "    </tr>\n",
              "  </thead>\n",
              "  <tbody>\n",
              "    <tr>\n",
              "      <th>9</th>\n",
              "      <td>Can't Decide</td>\n",
              "      <td>Relevant</td>\n",
              "      <td>Relevant\\nCan't Decide</td>\n",
              "      <td>False</td>\n",
              "    </tr>\n",
              "    <tr>\n",
              "      <th>13</th>\n",
              "      <td>Can't Decide</td>\n",
              "      <td>Relevant</td>\n",
              "      <td>Relevant\\nCan't Decide</td>\n",
              "      <td>False</td>\n",
              "    </tr>\n",
              "    <tr>\n",
              "      <th>15</th>\n",
              "      <td>Can't Decide</td>\n",
              "      <td>Relevant</td>\n",
              "      <td>Relevant\\nCan't Decide</td>\n",
              "      <td>False</td>\n",
              "    </tr>\n",
              "    <tr>\n",
              "      <th>19</th>\n",
              "      <td>Can't Decide</td>\n",
              "      <td>Relevant</td>\n",
              "      <td>Relevant\\nCan't Decide</td>\n",
              "      <td>False</td>\n",
              "    </tr>\n",
              "    <tr>\n",
              "      <th>42</th>\n",
              "      <td>Can't Decide</td>\n",
              "      <td>Not Relevant</td>\n",
              "      <td>Not Relevant\\nCan't Decide</td>\n",
              "      <td>False</td>\n",
              "    </tr>\n",
              "    <tr>\n",
              "      <th>44</th>\n",
              "      <td>Can't Decide</td>\n",
              "      <td>Not Relevant</td>\n",
              "      <td>Not Relevant\\nCan't Decide</td>\n",
              "      <td>False</td>\n",
              "    </tr>\n",
              "  </tbody>\n",
              "</table>\n",
              "</div>\n",
              "      <button class=\"colab-df-convert\" onclick=\"convertToInteractive('df-71845bd7-5ab7-4694-a0cd-5fe5e742feec')\"\n",
              "              title=\"Convert this dataframe to an interactive table.\"\n",
              "              style=\"display:none;\">\n",
              "        \n",
              "  <svg xmlns=\"http://www.w3.org/2000/svg\" height=\"24px\"viewBox=\"0 0 24 24\"\n",
              "       width=\"24px\">\n",
              "    <path d=\"M0 0h24v24H0V0z\" fill=\"none\"/>\n",
              "    <path d=\"M18.56 5.44l.94 2.06.94-2.06 2.06-.94-2.06-.94-.94-2.06-.94 2.06-2.06.94zm-11 1L8.5 8.5l.94-2.06 2.06-.94-2.06-.94L8.5 2.5l-.94 2.06-2.06.94zm10 10l.94 2.06.94-2.06 2.06-.94-2.06-.94-.94-2.06-.94 2.06-2.06.94z\"/><path d=\"M17.41 7.96l-1.37-1.37c-.4-.4-.92-.59-1.43-.59-.52 0-1.04.2-1.43.59L10.3 9.45l-7.72 7.72c-.78.78-.78 2.05 0 2.83L4 21.41c.39.39.9.59 1.41.59.51 0 1.02-.2 1.41-.59l7.78-7.78 2.81-2.81c.8-.78.8-2.07 0-2.86zM5.41 20L4 18.59l7.72-7.72 1.47 1.35L5.41 20z\"/>\n",
              "  </svg>\n",
              "      </button>\n",
              "      \n",
              "  <style>\n",
              "    .colab-df-container {\n",
              "      display:flex;\n",
              "      flex-wrap:wrap;\n",
              "      gap: 12px;\n",
              "    }\n",
              "\n",
              "    .colab-df-convert {\n",
              "      background-color: #E8F0FE;\n",
              "      border: none;\n",
              "      border-radius: 50%;\n",
              "      cursor: pointer;\n",
              "      display: none;\n",
              "      fill: #1967D2;\n",
              "      height: 32px;\n",
              "      padding: 0 0 0 0;\n",
              "      width: 32px;\n",
              "    }\n",
              "\n",
              "    .colab-df-convert:hover {\n",
              "      background-color: #E2EBFA;\n",
              "      box-shadow: 0px 1px 2px rgba(60, 64, 67, 0.3), 0px 1px 3px 1px rgba(60, 64, 67, 0.15);\n",
              "      fill: #174EA6;\n",
              "    }\n",
              "\n",
              "    [theme=dark] .colab-df-convert {\n",
              "      background-color: #3B4455;\n",
              "      fill: #D2E3FC;\n",
              "    }\n",
              "\n",
              "    [theme=dark] .colab-df-convert:hover {\n",
              "      background-color: #434B5C;\n",
              "      box-shadow: 0px 1px 3px 1px rgba(0, 0, 0, 0.15);\n",
              "      filter: drop-shadow(0px 1px 2px rgba(0, 0, 0, 0.3));\n",
              "      fill: #FFFFFF;\n",
              "    }\n",
              "  </style>\n",
              "\n",
              "      <script>\n",
              "        const buttonEl =\n",
              "          document.querySelector('#df-71845bd7-5ab7-4694-a0cd-5fe5e742feec button.colab-df-convert');\n",
              "        buttonEl.style.display =\n",
              "          google.colab.kernel.accessAllowed ? 'block' : 'none';\n",
              "\n",
              "        async function convertToInteractive(key) {\n",
              "          const element = document.querySelector('#df-71845bd7-5ab7-4694-a0cd-5fe5e742feec');\n",
              "          const dataTable =\n",
              "            await google.colab.kernel.invokeFunction('convertToInteractive',\n",
              "                                                     [key], {});\n",
              "          if (!dataTable) return;\n",
              "\n",
              "          const docLinkHtml = 'Like what you see? Visit the ' +\n",
              "            '<a target=\"_blank\" href=https://colab.research.google.com/notebooks/data_table.ipynb>data table notebook</a>'\n",
              "            + ' to learn more about interactive tables.';\n",
              "          element.innerHTML = '';\n",
              "          dataTable['output_type'] = 'display_data';\n",
              "          await google.colab.output.renderOutput(dataTable, element);\n",
              "          const docLink = document.createElement('div');\n",
              "          docLink.innerHTML = docLinkHtml;\n",
              "          element.appendChild(docLink);\n",
              "        }\n",
              "      </script>\n",
              "    </div>\n",
              "  </div>\n",
              "  "
            ]
          },
          "metadata": {},
          "execution_count": 48
        }
      ]
    },
    {
      "cell_type": "markdown",
      "source": [
        "In previous table, i see that all non-null value of `choose_one_gold` field are same with `choose_one` field.\n",
        "\n",
        "Ok, i ***won't use this field*** because it have several null value and i have more value from `choose_one` ❌"
      ],
      "metadata": {
        "id": "lj9vCy60FzLK"
      }
    },
    {
      "cell_type": "markdown",
      "source": [
        "### `choose_one:confidence` field"
      ],
      "metadata": {
        "id": "SpAr1nOkHkrD"
      }
    }
  ]
}