{
  "nbformat": 4,
  "nbformat_minor": 0,
  "metadata": {
    "colab": {
      "provenance": []
    },
    "kernelspec": {
      "name": "python3",
      "display_name": "Python 3"
    },
    "language_info": {
      "name": "python"
    }
  },
  "cells": [
    {
      "cell_type": "markdown",
      "source": [
        "# Analysis of dataset to assign label"
      ],
      "metadata": {
        "id": "UhtXwiV28oYM"
      }
    },
    {
      "cell_type": "markdown",
      "source": [
        "The purpose of this subproject is ; in a simple and easy way; assign a better label for classification in kind of disaster and whether or not it is a joke.\n",
        "\n",
        "As dataset is pre-labeled from human team; i will use this features like basis and guide for this process.\n",
        "\n",
        "**REMEMEBER:**: i won't be stricting with the preprocessing on dataset. My goal is assign a basic label."
      ],
      "metadata": {
        "id": "Np4q9KC_81YO"
      }
    },
    {
      "cell_type": "markdown",
      "source": [
        "## Preparing enviroment to work"
      ],
      "metadata": {
        "id": "J6xS9zlRATD7"
      }
    },
    {
      "cell_type": "code",
      "source": [
        "!pip install boto3\n",
        "!pip install pandas\n",
        "!pip install scikit-learn"
      ],
      "metadata": {
        "colab": {
          "base_uri": "https://localhost:8080/"
        },
        "id": "7fHThBE0-h8q",
        "outputId": "cff69147-8222-41a9-d67f-cadb287ca66a"
      },
      "execution_count": 1,
      "outputs": [
        {
          "output_type": "stream",
          "name": "stdout",
          "text": [
            "Looking in indexes: https://pypi.org/simple, https://us-python.pkg.dev/colab-wheels/public/simple/\n",
            "Collecting boto3\n",
            "  Downloading boto3-1.26.135-py3-none-any.whl (135 kB)\n",
            "\u001b[2K     \u001b[90m━━━━━━━━━━━━━━━━━━━━━━━━━━━━━━━━━━━━━━━\u001b[0m \u001b[32m135.6/135.6 kB\u001b[0m \u001b[31m5.7 MB/s\u001b[0m eta \u001b[36m0:00:00\u001b[0m\n",
            "\u001b[?25hCollecting botocore<1.30.0,>=1.29.135 (from boto3)\n",
            "  Downloading botocore-1.29.135-py3-none-any.whl (10.7 MB)\n",
            "\u001b[2K     \u001b[90m━━━━━━━━━━━━━━━━━━━━━━━━━━━━━━━━━━━━━━━━\u001b[0m \u001b[32m10.7/10.7 MB\u001b[0m \u001b[31m45.8 MB/s\u001b[0m eta \u001b[36m0:00:00\u001b[0m\n",
            "\u001b[?25hCollecting jmespath<2.0.0,>=0.7.1 (from boto3)\n",
            "  Downloading jmespath-1.0.1-py3-none-any.whl (20 kB)\n",
            "Collecting s3transfer<0.7.0,>=0.6.0 (from boto3)\n",
            "  Downloading s3transfer-0.6.1-py3-none-any.whl (79 kB)\n",
            "\u001b[2K     \u001b[90m━━━━━━━━━━━━━━━━━━━━━━━━━━━━━━━━━━━━━━━━\u001b[0m \u001b[32m79.8/79.8 kB\u001b[0m \u001b[31m6.5 MB/s\u001b[0m eta \u001b[36m0:00:00\u001b[0m\n",
            "\u001b[?25hRequirement already satisfied: python-dateutil<3.0.0,>=2.1 in /usr/local/lib/python3.10/dist-packages (from botocore<1.30.0,>=1.29.135->boto3) (2.8.2)\n",
            "Requirement already satisfied: urllib3<1.27,>=1.25.4 in /usr/local/lib/python3.10/dist-packages (from botocore<1.30.0,>=1.29.135->boto3) (1.26.15)\n",
            "Requirement already satisfied: six>=1.5 in /usr/local/lib/python3.10/dist-packages (from python-dateutil<3.0.0,>=2.1->botocore<1.30.0,>=1.29.135->boto3) (1.16.0)\n",
            "Installing collected packages: jmespath, botocore, s3transfer, boto3\n",
            "Successfully installed boto3-1.26.135 botocore-1.29.135 jmespath-1.0.1 s3transfer-0.6.1\n",
            "Looking in indexes: https://pypi.org/simple, https://us-python.pkg.dev/colab-wheels/public/simple/\n",
            "Requirement already satisfied: pandas in /usr/local/lib/python3.10/dist-packages (1.5.3)\n",
            "Requirement already satisfied: python-dateutil>=2.8.1 in /usr/local/lib/python3.10/dist-packages (from pandas) (2.8.2)\n",
            "Requirement already satisfied: pytz>=2020.1 in /usr/local/lib/python3.10/dist-packages (from pandas) (2022.7.1)\n",
            "Requirement already satisfied: numpy>=1.21.0 in /usr/local/lib/python3.10/dist-packages (from pandas) (1.22.4)\n",
            "Requirement already satisfied: six>=1.5 in /usr/local/lib/python3.10/dist-packages (from python-dateutil>=2.8.1->pandas) (1.16.0)\n",
            "Looking in indexes: https://pypi.org/simple, https://us-python.pkg.dev/colab-wheels/public/simple/\n",
            "Requirement already satisfied: scikit-learn in /usr/local/lib/python3.10/dist-packages (1.2.2)\n",
            "Requirement already satisfied: numpy>=1.17.3 in /usr/local/lib/python3.10/dist-packages (from scikit-learn) (1.22.4)\n",
            "Requirement already satisfied: scipy>=1.3.2 in /usr/local/lib/python3.10/dist-packages (from scikit-learn) (1.10.1)\n",
            "Requirement already satisfied: joblib>=1.1.1 in /usr/local/lib/python3.10/dist-packages (from scikit-learn) (1.2.0)\n",
            "Requirement already satisfied: threadpoolctl>=2.0.0 in /usr/local/lib/python3.10/dist-packages (from scikit-learn) (3.1.0)\n"
          ]
        }
      ]
    },
    {
      "cell_type": "code",
      "source": [
        "import re\n",
        "from functools import reduce, partial\n",
        "from collections import defaultdict\n",
        "import operator\n",
        "\n",
        "from sklearn.model_selection import train_test_split\n",
        "import pandas as pd\n",
        "import numpy as np\n",
        "from boto3 import Session"
      ],
      "metadata": {
        "id": "W0qwwueFAn5j"
      },
      "execution_count": 2,
      "outputs": []
    },
    {
      "cell_type": "code",
      "source": [
        "disaster_db_df = pd.read_csv(\"/database.csv\", encoding=\"latin9\")\n",
        "disaster_db_df.head(5)"
      ],
      "metadata": {
        "colab": {
          "base_uri": "https://localhost:8080/",
          "height": 583
        },
        "id": "9fVCKZEVAwJj",
        "outputId": "ddd1a1a5-9828-4842-f4d4-f44881b483d5"
      },
      "execution_count": 5,
      "outputs": [
        {
          "output_type": "execute_result",
          "data": {
            "text/plain": [
              "    _unit_id  _golden _unit_state  _trusted_judgments _last_judgment_at  \\\n",
              "0  778243823     True      golden                 156               NaN   \n",
              "1  778243824     True      golden                 152               NaN   \n",
              "2  778243825     True      golden                 137               NaN   \n",
              "3  778243826     True      golden                 136               NaN   \n",
              "4  778243827     True      golden                 138               NaN   \n",
              "\n",
              "  choose_one  choose_one:confidence choose_one_gold keyword location  \\\n",
              "0   Relevant                 1.0000        Relevant     NaN      NaN   \n",
              "1   Relevant                 1.0000        Relevant     NaN      NaN   \n",
              "2   Relevant                 1.0000        Relevant     NaN      NaN   \n",
              "3   Relevant                 0.9603        Relevant     NaN      NaN   \n",
              "4   Relevant                 1.0000        Relevant     NaN      NaN   \n",
              "\n",
              "                                                text  tweetid  userid  \n",
              "0                 Just happened a terrible car crash      1.0     NaN  \n",
              "1  Our Deeds are the Reason of this #earthquake M...     13.0     NaN  \n",
              "2  Heard about #earthquake is different cities, s...     14.0     NaN  \n",
              "3  there is a forest fire at spot pond, geese are...     15.0     NaN  \n",
              "4             Forest fire near La Ronge Sask. Canada     16.0     NaN  "
            ],
            "text/html": [
              "\n",
              "  <div id=\"df-b9175b14-85aa-4507-9ce5-3a34235f1c27\">\n",
              "    <div class=\"colab-df-container\">\n",
              "      <div>\n",
              "<style scoped>\n",
              "    .dataframe tbody tr th:only-of-type {\n",
              "        vertical-align: middle;\n",
              "    }\n",
              "\n",
              "    .dataframe tbody tr th {\n",
              "        vertical-align: top;\n",
              "    }\n",
              "\n",
              "    .dataframe thead th {\n",
              "        text-align: right;\n",
              "    }\n",
              "</style>\n",
              "<table border=\"1\" class=\"dataframe\">\n",
              "  <thead>\n",
              "    <tr style=\"text-align: right;\">\n",
              "      <th></th>\n",
              "      <th>_unit_id</th>\n",
              "      <th>_golden</th>\n",
              "      <th>_unit_state</th>\n",
              "      <th>_trusted_judgments</th>\n",
              "      <th>_last_judgment_at</th>\n",
              "      <th>choose_one</th>\n",
              "      <th>choose_one:confidence</th>\n",
              "      <th>choose_one_gold</th>\n",
              "      <th>keyword</th>\n",
              "      <th>location</th>\n",
              "      <th>text</th>\n",
              "      <th>tweetid</th>\n",
              "      <th>userid</th>\n",
              "    </tr>\n",
              "  </thead>\n",
              "  <tbody>\n",
              "    <tr>\n",
              "      <th>0</th>\n",
              "      <td>778243823</td>\n",
              "      <td>True</td>\n",
              "      <td>golden</td>\n",
              "      <td>156</td>\n",
              "      <td>NaN</td>\n",
              "      <td>Relevant</td>\n",
              "      <td>1.0000</td>\n",
              "      <td>Relevant</td>\n",
              "      <td>NaN</td>\n",
              "      <td>NaN</td>\n",
              "      <td>Just happened a terrible car crash</td>\n",
              "      <td>1.0</td>\n",
              "      <td>NaN</td>\n",
              "    </tr>\n",
              "    <tr>\n",
              "      <th>1</th>\n",
              "      <td>778243824</td>\n",
              "      <td>True</td>\n",
              "      <td>golden</td>\n",
              "      <td>152</td>\n",
              "      <td>NaN</td>\n",
              "      <td>Relevant</td>\n",
              "      <td>1.0000</td>\n",
              "      <td>Relevant</td>\n",
              "      <td>NaN</td>\n",
              "      <td>NaN</td>\n",
              "      <td>Our Deeds are the Reason of this #earthquake M...</td>\n",
              "      <td>13.0</td>\n",
              "      <td>NaN</td>\n",
              "    </tr>\n",
              "    <tr>\n",
              "      <th>2</th>\n",
              "      <td>778243825</td>\n",
              "      <td>True</td>\n",
              "      <td>golden</td>\n",
              "      <td>137</td>\n",
              "      <td>NaN</td>\n",
              "      <td>Relevant</td>\n",
              "      <td>1.0000</td>\n",
              "      <td>Relevant</td>\n",
              "      <td>NaN</td>\n",
              "      <td>NaN</td>\n",
              "      <td>Heard about #earthquake is different cities, s...</td>\n",
              "      <td>14.0</td>\n",
              "      <td>NaN</td>\n",
              "    </tr>\n",
              "    <tr>\n",
              "      <th>3</th>\n",
              "      <td>778243826</td>\n",
              "      <td>True</td>\n",
              "      <td>golden</td>\n",
              "      <td>136</td>\n",
              "      <td>NaN</td>\n",
              "      <td>Relevant</td>\n",
              "      <td>0.9603</td>\n",
              "      <td>Relevant</td>\n",
              "      <td>NaN</td>\n",
              "      <td>NaN</td>\n",
              "      <td>there is a forest fire at spot pond, geese are...</td>\n",
              "      <td>15.0</td>\n",
              "      <td>NaN</td>\n",
              "    </tr>\n",
              "    <tr>\n",
              "      <th>4</th>\n",
              "      <td>778243827</td>\n",
              "      <td>True</td>\n",
              "      <td>golden</td>\n",
              "      <td>138</td>\n",
              "      <td>NaN</td>\n",
              "      <td>Relevant</td>\n",
              "      <td>1.0000</td>\n",
              "      <td>Relevant</td>\n",
              "      <td>NaN</td>\n",
              "      <td>NaN</td>\n",
              "      <td>Forest fire near La Ronge Sask. Canada</td>\n",
              "      <td>16.0</td>\n",
              "      <td>NaN</td>\n",
              "    </tr>\n",
              "  </tbody>\n",
              "</table>\n",
              "</div>\n",
              "      <button class=\"colab-df-convert\" onclick=\"convertToInteractive('df-b9175b14-85aa-4507-9ce5-3a34235f1c27')\"\n",
              "              title=\"Convert this dataframe to an interactive table.\"\n",
              "              style=\"display:none;\">\n",
              "        \n",
              "  <svg xmlns=\"http://www.w3.org/2000/svg\" height=\"24px\"viewBox=\"0 0 24 24\"\n",
              "       width=\"24px\">\n",
              "    <path d=\"M0 0h24v24H0V0z\" fill=\"none\"/>\n",
              "    <path d=\"M18.56 5.44l.94 2.06.94-2.06 2.06-.94-2.06-.94-.94-2.06-.94 2.06-2.06.94zm-11 1L8.5 8.5l.94-2.06 2.06-.94-2.06-.94L8.5 2.5l-.94 2.06-2.06.94zm10 10l.94 2.06.94-2.06 2.06-.94-2.06-.94-.94-2.06-.94 2.06-2.06.94z\"/><path d=\"M17.41 7.96l-1.37-1.37c-.4-.4-.92-.59-1.43-.59-.52 0-1.04.2-1.43.59L10.3 9.45l-7.72 7.72c-.78.78-.78 2.05 0 2.83L4 21.41c.39.39.9.59 1.41.59.51 0 1.02-.2 1.41-.59l7.78-7.78 2.81-2.81c.8-.78.8-2.07 0-2.86zM5.41 20L4 18.59l7.72-7.72 1.47 1.35L5.41 20z\"/>\n",
              "  </svg>\n",
              "      </button>\n",
              "      \n",
              "  <style>\n",
              "    .colab-df-container {\n",
              "      display:flex;\n",
              "      flex-wrap:wrap;\n",
              "      gap: 12px;\n",
              "    }\n",
              "\n",
              "    .colab-df-convert {\n",
              "      background-color: #E8F0FE;\n",
              "      border: none;\n",
              "      border-radius: 50%;\n",
              "      cursor: pointer;\n",
              "      display: none;\n",
              "      fill: #1967D2;\n",
              "      height: 32px;\n",
              "      padding: 0 0 0 0;\n",
              "      width: 32px;\n",
              "    }\n",
              "\n",
              "    .colab-df-convert:hover {\n",
              "      background-color: #E2EBFA;\n",
              "      box-shadow: 0px 1px 2px rgba(60, 64, 67, 0.3), 0px 1px 3px 1px rgba(60, 64, 67, 0.15);\n",
              "      fill: #174EA6;\n",
              "    }\n",
              "\n",
              "    [theme=dark] .colab-df-convert {\n",
              "      background-color: #3B4455;\n",
              "      fill: #D2E3FC;\n",
              "    }\n",
              "\n",
              "    [theme=dark] .colab-df-convert:hover {\n",
              "      background-color: #434B5C;\n",
              "      box-shadow: 0px 1px 3px 1px rgba(0, 0, 0, 0.15);\n",
              "      filter: drop-shadow(0px 1px 2px rgba(0, 0, 0, 0.3));\n",
              "      fill: #FFFFFF;\n",
              "    }\n",
              "  </style>\n",
              "\n",
              "      <script>\n",
              "        const buttonEl =\n",
              "          document.querySelector('#df-b9175b14-85aa-4507-9ce5-3a34235f1c27 button.colab-df-convert');\n",
              "        buttonEl.style.display =\n",
              "          google.colab.kernel.accessAllowed ? 'block' : 'none';\n",
              "\n",
              "        async function convertToInteractive(key) {\n",
              "          const element = document.querySelector('#df-b9175b14-85aa-4507-9ce5-3a34235f1c27');\n",
              "          const dataTable =\n",
              "            await google.colab.kernel.invokeFunction('convertToInteractive',\n",
              "                                                     [key], {});\n",
              "          if (!dataTable) return;\n",
              "\n",
              "          const docLinkHtml = 'Like what you see? Visit the ' +\n",
              "            '<a target=\"_blank\" href=https://colab.research.google.com/notebooks/data_table.ipynb>data table notebook</a>'\n",
              "            + ' to learn more about interactive tables.';\n",
              "          element.innerHTML = '';\n",
              "          dataTable['output_type'] = 'display_data';\n",
              "          await google.colab.output.renderOutput(dataTable, element);\n",
              "          const docLink = document.createElement('div');\n",
              "          docLink.innerHTML = docLinkHtml;\n",
              "          element.appendChild(docLink);\n",
              "        }\n",
              "      </script>\n",
              "    </div>\n",
              "  </div>\n",
              "  "
            ]
          },
          "metadata": {},
          "execution_count": 5
        }
      ]
    },
    {
      "cell_type": "markdown",
      "source": [
        "Based in data sample, i think the `choose_one`, `choose_one:confidence`, `choosen_one_gold`, `text` and `tweetid` are important for the analysis; i need to check if my hypothesis is true.\n",
        "\n",
        "---\n",
        "\n"
      ],
      "metadata": {
        "id": "v5PlpiI0Bmsc"
      }
    },
    {
      "cell_type": "markdown",
      "source": [
        "# Checking the mentioned features are relevant or not"
      ],
      "metadata": {
        "id": "-bOex6QDBmy0"
      }
    },
    {
      "cell_type": "markdown",
      "source": [
        "### **`Choose_one` field**"
      ],
      "metadata": {
        "id": "AfrImXD-FX7T"
      }
    },
    {
      "cell_type": "code",
      "source": [
        "disaster_db_df['choose_one'].value_counts()"
      ],
      "metadata": {
        "colab": {
          "base_uri": "https://localhost:8080/"
        },
        "id": "6SGIQ0ItCSmt",
        "outputId": "cf1be0cd-5a1d-41b9-ce44-f150cd191dd7"
      },
      "execution_count": 6,
      "outputs": [
        {
          "output_type": "execute_result",
          "data": {
            "text/plain": [
              "Not Relevant    6187\n",
              "Relevant        4673\n",
              "Can't Decide      16\n",
              "Name: choose_one, dtype: int64"
            ]
          },
          "metadata": {},
          "execution_count": 6
        }
      ]
    },
    {
      "cell_type": "code",
      "source": [
        "disaster_db_df['choose_one'].isnull().value_counts()"
      ],
      "metadata": {
        "colab": {
          "base_uri": "https://localhost:8080/"
        },
        "id": "hHz7cU6EFQum",
        "outputId": "928a6c35-751b-4584-8ed1-c6de29a5b8b2"
      },
      "execution_count": 7,
      "outputs": [
        {
          "output_type": "execute_result",
          "data": {
            "text/plain": [
              "False    10876\n",
              "Name: choose_one, dtype: int64"
            ]
          },
          "metadata": {},
          "execution_count": 7
        }
      ]
    },
    {
      "cell_type": "markdown",
      "source": [
        "That's ready to use ✅"
      ],
      "metadata": {
        "id": "SfCUrZrVFk-a"
      }
    },
    {
      "cell_type": "markdown",
      "source": [
        "### **`choose_one_gold` field**"
      ],
      "metadata": {
        "id": "IB1Jw1MPFhqk"
      }
    },
    {
      "cell_type": "code",
      "source": [
        "disaster_db_df['choose_one_gold'].value_counts()"
      ],
      "metadata": {
        "colab": {
          "base_uri": "https://localhost:8080/"
        },
        "id": "hjIOTaH1Es1l",
        "outputId": "ee1a5bd1-3000-479a-a124-0481d9dd9f97"
      },
      "execution_count": 8,
      "outputs": [
        {
          "output_type": "execute_result",
          "data": {
            "text/plain": [
              "Relevant                      57\n",
              "Not Relevant                  24\n",
              "Relevant\\nCan't Decide         4\n",
              "Not Relevant\\nCan't Decide     2\n",
              "Name: choose_one_gold, dtype: int64"
            ]
          },
          "metadata": {},
          "execution_count": 8
        }
      ]
    },
    {
      "cell_type": "code",
      "source": [
        "disaster_db_df['choose_one_gold'].isnull().value_counts()"
      ],
      "metadata": {
        "colab": {
          "base_uri": "https://localhost:8080/"
        },
        "id": "GcfbcJuRE02i",
        "outputId": "7cc9a9c9-fd54-40f9-e3fa-8ab63e7635bb"
      },
      "execution_count": 9,
      "outputs": [
        {
          "output_type": "execute_result",
          "data": {
            "text/plain": [
              "True     10789\n",
              "False       87\n",
              "Name: choose_one_gold, dtype: int64"
            ]
          },
          "metadata": {},
          "execution_count": 9
        }
      ]
    },
    {
      "cell_type": "markdown",
      "source": [
        "***QUESTION #1: Can i replace it with `choose_one` field?***"
      ],
      "metadata": {
        "id": "jqmZIye-ImIt"
      }
    },
    {
      "cell_type": "code",
      "source": [
        "disaster_db_df.replace(np.nan, None)\n",
        "disaster_db_df[\"choose_one_gold_v2\"] = disaster_db_df[\"choose_one_gold\"].apply(\n",
        "    lambda x: x.split(\"\\n\")[-1] if type(x) is str else None\n",
        ")\n",
        "disaster_db_df[\"choose_one_gold_v2\"].value_counts()"
      ],
      "metadata": {
        "colab": {
          "base_uri": "https://localhost:8080/"
        },
        "id": "iZ9izr4CGSA5",
        "outputId": "efcf4468-befb-4519-af85-7782950651e7"
      },
      "execution_count": 10,
      "outputs": [
        {
          "output_type": "execute_result",
          "data": {
            "text/plain": [
              "Relevant        57\n",
              "Not Relevant    24\n",
              "Can't Decide     6\n",
              "Name: choose_one_gold_v2, dtype: int64"
            ]
          },
          "metadata": {},
          "execution_count": 10
        }
      ]
    },
    {
      "cell_type": "code",
      "source": [
        "disaster_db_df[\"is_choose_one_gold_with_choose_one\"] = disaster_db_df.apply( \n",
        "    lambda x: True if x[\"choose_one_gold_v2\"] == x[\"choose_one_gold\"] else False, \n",
        "    axis=1\n",
        "  )\n",
        "selected_choose_one_gold_df = disaster_db_df[ disaster_db_df[\"choose_one_gold_v2\"].isin([\"Relevant\", \"Not Relevant\", \"Can't Decide\"])]\n",
        "selected_choose_one_gold_df[\"is_choose_one_gold_with_choose_one\"].value_counts()"
      ],
      "metadata": {
        "colab": {
          "base_uri": "https://localhost:8080/"
        },
        "id": "eKay5gbII-Zl",
        "outputId": "aba59994-0984-4d21-9897-f39e4a774d8d"
      },
      "execution_count": 11,
      "outputs": [
        {
          "output_type": "execute_result",
          "data": {
            "text/plain": [
              "True     81\n",
              "False     6\n",
              "Name: is_choose_one_gold_with_choose_one, dtype: int64"
            ]
          },
          "metadata": {},
          "execution_count": 11
        }
      ]
    },
    {
      "cell_type": "code",
      "source": [
        "selected_choose_one_gold_df = selected_choose_one_gold_df[selected_choose_one_gold_df[\"is_choose_one_gold_with_choose_one\"].isin([False])]\n",
        "selected_choose_one_gold_df[[\"choose_one_gold_v2\", \"choose_one\", \"choose_one_gold\", \"is_choose_one_gold_with_choose_one\"]]"
      ],
      "metadata": {
        "colab": {
          "base_uri": "https://localhost:8080/",
          "height": 238
        },
        "id": "vOcY6Y6BNSQu",
        "outputId": "4be60782-53e1-4279-a578-f6bb580e67fc"
      },
      "execution_count": 12,
      "outputs": [
        {
          "output_type": "execute_result",
          "data": {
            "text/plain": [
              "   choose_one_gold_v2    choose_one             choose_one_gold  \\\n",
              "9        Can't Decide      Relevant      Relevant\\nCan't Decide   \n",
              "13       Can't Decide      Relevant      Relevant\\nCan't Decide   \n",
              "15       Can't Decide      Relevant      Relevant\\nCan't Decide   \n",
              "19       Can't Decide      Relevant      Relevant\\nCan't Decide   \n",
              "42       Can't Decide  Not Relevant  Not Relevant\\nCan't Decide   \n",
              "44       Can't Decide  Not Relevant  Not Relevant\\nCan't Decide   \n",
              "\n",
              "    is_choose_one_gold_with_choose_one  \n",
              "9                                False  \n",
              "13                               False  \n",
              "15                               False  \n",
              "19                               False  \n",
              "42                               False  \n",
              "44                               False  "
            ],
            "text/html": [
              "\n",
              "  <div id=\"df-d7b69e6a-8b94-4047-8095-1982675f1bef\">\n",
              "    <div class=\"colab-df-container\">\n",
              "      <div>\n",
              "<style scoped>\n",
              "    .dataframe tbody tr th:only-of-type {\n",
              "        vertical-align: middle;\n",
              "    }\n",
              "\n",
              "    .dataframe tbody tr th {\n",
              "        vertical-align: top;\n",
              "    }\n",
              "\n",
              "    .dataframe thead th {\n",
              "        text-align: right;\n",
              "    }\n",
              "</style>\n",
              "<table border=\"1\" class=\"dataframe\">\n",
              "  <thead>\n",
              "    <tr style=\"text-align: right;\">\n",
              "      <th></th>\n",
              "      <th>choose_one_gold_v2</th>\n",
              "      <th>choose_one</th>\n",
              "      <th>choose_one_gold</th>\n",
              "      <th>is_choose_one_gold_with_choose_one</th>\n",
              "    </tr>\n",
              "  </thead>\n",
              "  <tbody>\n",
              "    <tr>\n",
              "      <th>9</th>\n",
              "      <td>Can't Decide</td>\n",
              "      <td>Relevant</td>\n",
              "      <td>Relevant\\nCan't Decide</td>\n",
              "      <td>False</td>\n",
              "    </tr>\n",
              "    <tr>\n",
              "      <th>13</th>\n",
              "      <td>Can't Decide</td>\n",
              "      <td>Relevant</td>\n",
              "      <td>Relevant\\nCan't Decide</td>\n",
              "      <td>False</td>\n",
              "    </tr>\n",
              "    <tr>\n",
              "      <th>15</th>\n",
              "      <td>Can't Decide</td>\n",
              "      <td>Relevant</td>\n",
              "      <td>Relevant\\nCan't Decide</td>\n",
              "      <td>False</td>\n",
              "    </tr>\n",
              "    <tr>\n",
              "      <th>19</th>\n",
              "      <td>Can't Decide</td>\n",
              "      <td>Relevant</td>\n",
              "      <td>Relevant\\nCan't Decide</td>\n",
              "      <td>False</td>\n",
              "    </tr>\n",
              "    <tr>\n",
              "      <th>42</th>\n",
              "      <td>Can't Decide</td>\n",
              "      <td>Not Relevant</td>\n",
              "      <td>Not Relevant\\nCan't Decide</td>\n",
              "      <td>False</td>\n",
              "    </tr>\n",
              "    <tr>\n",
              "      <th>44</th>\n",
              "      <td>Can't Decide</td>\n",
              "      <td>Not Relevant</td>\n",
              "      <td>Not Relevant\\nCan't Decide</td>\n",
              "      <td>False</td>\n",
              "    </tr>\n",
              "  </tbody>\n",
              "</table>\n",
              "</div>\n",
              "      <button class=\"colab-df-convert\" onclick=\"convertToInteractive('df-d7b69e6a-8b94-4047-8095-1982675f1bef')\"\n",
              "              title=\"Convert this dataframe to an interactive table.\"\n",
              "              style=\"display:none;\">\n",
              "        \n",
              "  <svg xmlns=\"http://www.w3.org/2000/svg\" height=\"24px\"viewBox=\"0 0 24 24\"\n",
              "       width=\"24px\">\n",
              "    <path d=\"M0 0h24v24H0V0z\" fill=\"none\"/>\n",
              "    <path d=\"M18.56 5.44l.94 2.06.94-2.06 2.06-.94-2.06-.94-.94-2.06-.94 2.06-2.06.94zm-11 1L8.5 8.5l.94-2.06 2.06-.94-2.06-.94L8.5 2.5l-.94 2.06-2.06.94zm10 10l.94 2.06.94-2.06 2.06-.94-2.06-.94-.94-2.06-.94 2.06-2.06.94z\"/><path d=\"M17.41 7.96l-1.37-1.37c-.4-.4-.92-.59-1.43-.59-.52 0-1.04.2-1.43.59L10.3 9.45l-7.72 7.72c-.78.78-.78 2.05 0 2.83L4 21.41c.39.39.9.59 1.41.59.51 0 1.02-.2 1.41-.59l7.78-7.78 2.81-2.81c.8-.78.8-2.07 0-2.86zM5.41 20L4 18.59l7.72-7.72 1.47 1.35L5.41 20z\"/>\n",
              "  </svg>\n",
              "      </button>\n",
              "      \n",
              "  <style>\n",
              "    .colab-df-container {\n",
              "      display:flex;\n",
              "      flex-wrap:wrap;\n",
              "      gap: 12px;\n",
              "    }\n",
              "\n",
              "    .colab-df-convert {\n",
              "      background-color: #E8F0FE;\n",
              "      border: none;\n",
              "      border-radius: 50%;\n",
              "      cursor: pointer;\n",
              "      display: none;\n",
              "      fill: #1967D2;\n",
              "      height: 32px;\n",
              "      padding: 0 0 0 0;\n",
              "      width: 32px;\n",
              "    }\n",
              "\n",
              "    .colab-df-convert:hover {\n",
              "      background-color: #E2EBFA;\n",
              "      box-shadow: 0px 1px 2px rgba(60, 64, 67, 0.3), 0px 1px 3px 1px rgba(60, 64, 67, 0.15);\n",
              "      fill: #174EA6;\n",
              "    }\n",
              "\n",
              "    [theme=dark] .colab-df-convert {\n",
              "      background-color: #3B4455;\n",
              "      fill: #D2E3FC;\n",
              "    }\n",
              "\n",
              "    [theme=dark] .colab-df-convert:hover {\n",
              "      background-color: #434B5C;\n",
              "      box-shadow: 0px 1px 3px 1px rgba(0, 0, 0, 0.15);\n",
              "      filter: drop-shadow(0px 1px 2px rgba(0, 0, 0, 0.3));\n",
              "      fill: #FFFFFF;\n",
              "    }\n",
              "  </style>\n",
              "\n",
              "      <script>\n",
              "        const buttonEl =\n",
              "          document.querySelector('#df-d7b69e6a-8b94-4047-8095-1982675f1bef button.colab-df-convert');\n",
              "        buttonEl.style.display =\n",
              "          google.colab.kernel.accessAllowed ? 'block' : 'none';\n",
              "\n",
              "        async function convertToInteractive(key) {\n",
              "          const element = document.querySelector('#df-d7b69e6a-8b94-4047-8095-1982675f1bef');\n",
              "          const dataTable =\n",
              "            await google.colab.kernel.invokeFunction('convertToInteractive',\n",
              "                                                     [key], {});\n",
              "          if (!dataTable) return;\n",
              "\n",
              "          const docLinkHtml = 'Like what you see? Visit the ' +\n",
              "            '<a target=\"_blank\" href=https://colab.research.google.com/notebooks/data_table.ipynb>data table notebook</a>'\n",
              "            + ' to learn more about interactive tables.';\n",
              "          element.innerHTML = '';\n",
              "          dataTable['output_type'] = 'display_data';\n",
              "          await google.colab.output.renderOutput(dataTable, element);\n",
              "          const docLink = document.createElement('div');\n",
              "          docLink.innerHTML = docLinkHtml;\n",
              "          element.appendChild(docLink);\n",
              "        }\n",
              "      </script>\n",
              "    </div>\n",
              "  </div>\n",
              "  "
            ]
          },
          "metadata": {},
          "execution_count": 12
        }
      ]
    },
    {
      "cell_type": "markdown",
      "source": [
        "In previous table, i see that all non-null value of `choose_one_gold` field are same with `choose_one` field.\n",
        "\n",
        "Ok, i ***won't use this field*** because it have several null value and i have more value from `choose_one` ❌"
      ],
      "metadata": {
        "id": "lj9vCy60FzLK"
      }
    },
    {
      "cell_type": "markdown",
      "source": [
        "### **`choose_one:confidence` field**"
      ],
      "metadata": {
        "id": "SpAr1nOkHkrD"
      }
    },
    {
      "cell_type": "code",
      "source": [
        "disaster_db_df['choose_one:confidence'].isnull().value_counts()"
      ],
      "metadata": {
        "colab": {
          "base_uri": "https://localhost:8080/"
        },
        "id": "GXFAsKLhkkv2",
        "outputId": "76eda528-8ed8-42fc-b835-96ce742b22bd"
      },
      "execution_count": 13,
      "outputs": [
        {
          "output_type": "execute_result",
          "data": {
            "text/plain": [
              "False    10876\n",
              "Name: choose_one:confidence, dtype: int64"
            ]
          },
          "metadata": {},
          "execution_count": 13
        }
      ]
    },
    {
      "cell_type": "code",
      "source": [
        "def assign_range_value(x):\n",
        "  if 0.0 < x <= 0.5: return \"0.0 - 0.5\"\n",
        "  elif 0.5 < x <= 0.75: return \"0.5 - 0.75\"\n",
        "  elif 0.75 < x < 0.9: return \"0.75 - 0.9\"\n",
        "  elif 0.9 < x <= 1.0: return \"0.9 - 1.0\"\n",
        "  else: return \"> 1.0\"\n",
        "\n",
        "disaster_db_df[\"range_confidence\"] = disaster_db_df[\"choose_one:confidence\"].apply(lambda x: assign_range_value(x))\n",
        "disaster_db_df['range_confidence'].value_counts()"
      ],
      "metadata": {
        "colab": {
          "base_uri": "https://localhost:8080/"
        },
        "id": "kn9H4m95ktjo",
        "outputId": "9abb8fb0-7dc6-47b7-c3ce-ea63a0109764"
      },
      "execution_count": 14,
      "outputs": [
        {
          "output_type": "execute_result",
          "data": {
            "text/plain": [
              "0.9 - 1.0     5066\n",
              "0.75 - 0.9    3075\n",
              "0.5 - 0.75    2597\n",
              "0.0 - 0.5      138\n",
              "Name: range_confidence, dtype: int64"
            ]
          },
          "metadata": {},
          "execution_count": 14
        }
      ]
    },
    {
      "cell_type": "markdown",
      "source": [
        "i can see that 74.85% of tweets are trustworthy in with its value: That's good 😀. But the question is: **How is thise proportion is distribuite over `choosen_one` field?**"
      ],
      "metadata": {
        "id": "zK7nbrw4msv_"
      }
    },
    {
      "cell_type": "code",
      "source": [
        "Relevant_group_df = disaster_db_df[disaster_db_df[\"choose_one\"] == \"Relevant\"]\n",
        "Relevant_group_df['range_confidence'].value_counts()"
      ],
      "metadata": {
        "colab": {
          "base_uri": "https://localhost:8080/"
        },
        "id": "PkwkvaNlnqzX",
        "outputId": "b5d3e9ea-3261-40ca-9c64-01315bca4fac"
      },
      "execution_count": 15,
      "outputs": [
        {
          "output_type": "execute_result",
          "data": {
            "text/plain": [
              "0.9 - 1.0     2273\n",
              "0.75 - 0.9    1172\n",
              "0.5 - 0.75    1148\n",
              "0.0 - 0.5       80\n",
              "Name: range_confidence, dtype: int64"
            ]
          },
          "metadata": {},
          "execution_count": 15
        }
      ]
    },
    {
      "cell_type": "code",
      "source": [
        "Relevant_group_df = disaster_db_df[disaster_db_df[\"choose_one\"] == \"Not Relevant\"]\n",
        "Relevant_group_df['range_confidence'].value_counts()"
      ],
      "metadata": {
        "colab": {
          "base_uri": "https://localhost:8080/"
        },
        "id": "pmqNlIR7qlsn",
        "outputId": "420a0e43-483b-496a-c8dc-52e14e5d6f3f"
      },
      "execution_count": 16,
      "outputs": [
        {
          "output_type": "execute_result",
          "data": {
            "text/plain": [
              "0.9 - 1.0     2793\n",
              "0.75 - 0.9    1903\n",
              "0.5 - 0.75    1445\n",
              "0.0 - 0.5       46\n",
              "Name: range_confidence, dtype: int64"
            ]
          },
          "metadata": {},
          "execution_count": 16
        }
      ]
    },
    {
      "cell_type": "code",
      "source": [
        "Relevant_group_df = disaster_db_df[disaster_db_df[\"choose_one\"] == \"Can't Decide\"]\n",
        "Relevant_group_df['range_confidence'].value_counts()"
      ],
      "metadata": {
        "colab": {
          "base_uri": "https://localhost:8080/"
        },
        "id": "Ais4LOLNqqFW",
        "outputId": "99e82898-bae3-4d17-ee26-d508a147ff2f"
      },
      "execution_count": 17,
      "outputs": [
        {
          "output_type": "execute_result",
          "data": {
            "text/plain": [
              "0.0 - 0.5     12\n",
              "0.5 - 0.75     4\n",
              "Name: range_confidence, dtype: int64"
            ]
          },
          "metadata": {},
          "execution_count": 17
        }
      ]
    },
    {
      "cell_type": "markdown",
      "source": [
        "⚡ **Idea**: I can see the `Can't Decide` value in `choose_one` field is irrelevant for the amount, but i see that `0.5-0.75` range of other values of `choose_one` field can be renamed in `Can't Decide` value to get more amount: from 16 to 2609; that's good comparing other group amount 4.696(`Not Relevant`) and 3445(`Relevant`)."
      ],
      "metadata": {
        "id": "BEsKrY6ytj3-"
      }
    },
    {
      "cell_type": "markdown",
      "source": [
        "I won't use any value from `choose_one` field with `0.0-5.0` range because these values are irrelevant: they are not trustworthy."
      ],
      "metadata": {
        "id": "UBFWIEaewZGo"
      }
    },
    {
      "cell_type": "markdown",
      "source": [
        "### **`tweetid` and `text` fields**"
      ],
      "metadata": {
        "id": "kg5uXkuCxAuP"
      }
    },
    {
      "cell_type": "code",
      "source": [
        "disaster_db_df['tweetid'].isnull().value_counts()"
      ],
      "metadata": {
        "colab": {
          "base_uri": "https://localhost:8080/"
        },
        "id": "mK3l3qwDxGVD",
        "outputId": "0e5554c6-61d6-4dfd-ca4f-eac591d009bd"
      },
      "execution_count": 18,
      "outputs": [
        {
          "output_type": "execute_result",
          "data": {
            "text/plain": [
              "False    10876\n",
              "Name: tweetid, dtype: int64"
            ]
          },
          "metadata": {},
          "execution_count": 18
        }
      ]
    },
    {
      "cell_type": "code",
      "source": [
        "disaster_db_df.astype({'tweetid': 'str'}).dtypes"
      ],
      "metadata": {
        "colab": {
          "base_uri": "https://localhost:8080/"
        },
        "id": "jQe9MwfO5GNO",
        "outputId": "6dfb13e4-ac61-440c-b97e-6a37e73f376d"
      },
      "execution_count": 19,
      "outputs": [
        {
          "output_type": "execute_result",
          "data": {
            "text/plain": [
              "_unit_id                                int64\n",
              "_golden                                  bool\n",
              "_unit_state                            object\n",
              "_trusted_judgments                      int64\n",
              "_last_judgment_at                      object\n",
              "choose_one                             object\n",
              "choose_one:confidence                 float64\n",
              "choose_one_gold                        object\n",
              "keyword                                object\n",
              "location                               object\n",
              "text                                   object\n",
              "tweetid                                object\n",
              "userid                                float64\n",
              "choose_one_gold_v2                     object\n",
              "is_choose_one_gold_with_choose_one       bool\n",
              "range_confidence                       object\n",
              "dtype: object"
            ]
          },
          "metadata": {},
          "execution_count": 19
        }
      ]
    },
    {
      "cell_type": "code",
      "source": [
        "unique_tweet_id = set(disaster_db_df['tweetid'])\n",
        "list_tweet_id = list(disaster_db_df['tweetid'])\n",
        "print(\"unique value are %s from %s\" % (len(unique_tweet_id), len(list_tweet_id)))"
      ],
      "metadata": {
        "colab": {
          "base_uri": "https://localhost:8080/"
        },
        "id": "nt-_PfJJ1ZiA",
        "outputId": "b56f2d47-8302-4f51-f1ec-13637c49316a"
      },
      "execution_count": 20,
      "outputs": [
        {
          "output_type": "stream",
          "name": "stdout",
          "text": [
            "unique value are 1243 from 10876\n"
          ]
        }
      ]
    },
    {
      "cell_type": "code",
      "source": [
        "disaster_db_df['tweetid'].value_counts()"
      ],
      "metadata": {
        "colab": {
          "base_uri": "https://localhost:8080/"
        },
        "id": "U4bCQorTESzd",
        "outputId": "95093f1d-9f30-43a4-c555-5163741568cf"
      },
      "execution_count": 21,
      "outputs": [
        {
          "output_type": "execute_result",
          "data": {
            "text/plain": [
              "6.290840e+17    197\n",
              "6.290830e+17    190\n",
              "6.290990e+17    166\n",
              "6.290800e+17    157\n",
              "6.290820e+17    152\n",
              "               ... \n",
              "6.260600e+17      1\n",
              "6.260750e+17      1\n",
              "6.262370e+17      1\n",
              "6.276670e+17      1\n",
              "6.585000e+03      1\n",
              "Name: tweetid, Length: 1243, dtype: int64"
            ]
          },
          "metadata": {},
          "execution_count": 21
        }
      ]
    },
    {
      "cell_type": "code",
      "source": [
        "disaster_db_df[\"is_tweet_id_duplicated\"] = disaster_db_df.duplicated(subset=['tweetid'])\n",
        "duplicated_tweetit_db_df = disaster_db_df[disaster_db_df[\"is_tweet_id_duplicated\"] == True]\n",
        "duplicated_tweetit_db_df.sort_values(by = 'tweetid', inplace=True)\n",
        "duplicated_tweetit_db_df[[\"tweetid\", \"text\"]].head(20)"
      ],
      "metadata": {
        "colab": {
          "base_uri": "https://localhost:8080/",
          "height": 783
        },
        "id": "yUf4agF027JZ",
        "outputId": "1df28878-2ee6-4204-859a-1239861a66d2"
      },
      "execution_count": 22,
      "outputs": [
        {
          "output_type": "stream",
          "name": "stderr",
          "text": [
            "<ipython-input-22-2d003273006d>:3: SettingWithCopyWarning: \n",
            "A value is trying to be set on a copy of a slice from a DataFrame\n",
            "\n",
            "See the caveats in the documentation: https://pandas.pydata.org/pandas-docs/stable/user_guide/indexing.html#returning-a-view-versus-a-copy\n",
            "  duplicated_tweetit_db_df.sort_values(by = 'tweetid', inplace=True)\n"
          ]
        },
        {
          "output_type": "execute_result",
          "data": {
            "text/plain": [
              "            tweetid                                               text\n",
              "10872  4.234000e+03  Police investigating after an e-bike collided ...\n",
              "9066   6.260620e+17  Investigators say a fatal Virgin Galactic spac...\n",
              "9076   6.260620e+17  #BBCLive Investigators say a fatal Virgin Gala...\n",
              "9083   6.260630e+17  Investigators say a fatal Virgin Galactic spac...\n",
              "9048   6.260650e+17  Investigators say a fatal Virgin Galactic spac...\n",
              "1962   6.260760e+17  Schools in Western Uganda still Burning down B...\n",
              "9047   6.260760e+17  Virgin galactic crash: early unlocking of brak...\n",
              "9065   6.260760e+17  Virgin galactic crash: early unlocking of brak...\n",
              "9049   6.260890e+17  Investigators rule catastrophic structural fai...\n",
              "9089   6.260900e+17  NTSB: Virgin Galactic crash caused by structur...\n",
              "9055   6.261100e+17  @SirTitan45  Mega mood swing on a 24 hr schedu...\n",
              "1439   6.263870e+17  Idgaf who tough or who from Canada and who fro...\n",
              "2216   6.264270e+17  THE CHEMICAL BROTHERS to play The Armory in SF...\n",
              "1938   6.264330e+17  forestservice : RT dhsscitech: #Firefighters r...\n",
              "1941   6.265280e+17  @themagickidraps not upset with a rally upset ...\n",
              "868    6.265380e+17  #BreakingNews http://t.co/gAN14PW9TG FedEx no ...\n",
              "1965   6.265400e+17  'i never understood guys who wanted to run int...\n",
              "1469   6.265430e+17  We need to stop paying attention to @drizzy bo...\n",
              "869    6.265440e+17  FedEx no longer to transport bioterror germs i...\n",
              "840    6.265600e+17  FedEx to stop transporting bioterror germs aft..."
            ],
            "text/html": [
              "\n",
              "  <div id=\"df-d03ffcdd-19f0-4c53-9f29-5bbb59725bd4\">\n",
              "    <div class=\"colab-df-container\">\n",
              "      <div>\n",
              "<style scoped>\n",
              "    .dataframe tbody tr th:only-of-type {\n",
              "        vertical-align: middle;\n",
              "    }\n",
              "\n",
              "    .dataframe tbody tr th {\n",
              "        vertical-align: top;\n",
              "    }\n",
              "\n",
              "    .dataframe thead th {\n",
              "        text-align: right;\n",
              "    }\n",
              "</style>\n",
              "<table border=\"1\" class=\"dataframe\">\n",
              "  <thead>\n",
              "    <tr style=\"text-align: right;\">\n",
              "      <th></th>\n",
              "      <th>tweetid</th>\n",
              "      <th>text</th>\n",
              "    </tr>\n",
              "  </thead>\n",
              "  <tbody>\n",
              "    <tr>\n",
              "      <th>10872</th>\n",
              "      <td>4.234000e+03</td>\n",
              "      <td>Police investigating after an e-bike collided ...</td>\n",
              "    </tr>\n",
              "    <tr>\n",
              "      <th>9066</th>\n",
              "      <td>6.260620e+17</td>\n",
              "      <td>Investigators say a fatal Virgin Galactic spac...</td>\n",
              "    </tr>\n",
              "    <tr>\n",
              "      <th>9076</th>\n",
              "      <td>6.260620e+17</td>\n",
              "      <td>#BBCLive Investigators say a fatal Virgin Gala...</td>\n",
              "    </tr>\n",
              "    <tr>\n",
              "      <th>9083</th>\n",
              "      <td>6.260630e+17</td>\n",
              "      <td>Investigators say a fatal Virgin Galactic spac...</td>\n",
              "    </tr>\n",
              "    <tr>\n",
              "      <th>9048</th>\n",
              "      <td>6.260650e+17</td>\n",
              "      <td>Investigators say a fatal Virgin Galactic spac...</td>\n",
              "    </tr>\n",
              "    <tr>\n",
              "      <th>1962</th>\n",
              "      <td>6.260760e+17</td>\n",
              "      <td>Schools in Western Uganda still Burning down B...</td>\n",
              "    </tr>\n",
              "    <tr>\n",
              "      <th>9047</th>\n",
              "      <td>6.260760e+17</td>\n",
              "      <td>Virgin galactic crash: early unlocking of brak...</td>\n",
              "    </tr>\n",
              "    <tr>\n",
              "      <th>9065</th>\n",
              "      <td>6.260760e+17</td>\n",
              "      <td>Virgin galactic crash: early unlocking of brak...</td>\n",
              "    </tr>\n",
              "    <tr>\n",
              "      <th>9049</th>\n",
              "      <td>6.260890e+17</td>\n",
              "      <td>Investigators rule catastrophic structural fai...</td>\n",
              "    </tr>\n",
              "    <tr>\n",
              "      <th>9089</th>\n",
              "      <td>6.260900e+17</td>\n",
              "      <td>NTSB: Virgin Galactic crash caused by structur...</td>\n",
              "    </tr>\n",
              "    <tr>\n",
              "      <th>9055</th>\n",
              "      <td>6.261100e+17</td>\n",
              "      <td>@SirTitan45  Mega mood swing on a 24 hr schedu...</td>\n",
              "    </tr>\n",
              "    <tr>\n",
              "      <th>1439</th>\n",
              "      <td>6.263870e+17</td>\n",
              "      <td>Idgaf who tough or who from Canada and who fro...</td>\n",
              "    </tr>\n",
              "    <tr>\n",
              "      <th>2216</th>\n",
              "      <td>6.264270e+17</td>\n",
              "      <td>THE CHEMICAL BROTHERS to play The Armory in SF...</td>\n",
              "    </tr>\n",
              "    <tr>\n",
              "      <th>1938</th>\n",
              "      <td>6.264330e+17</td>\n",
              "      <td>forestservice : RT dhsscitech: #Firefighters r...</td>\n",
              "    </tr>\n",
              "    <tr>\n",
              "      <th>1941</th>\n",
              "      <td>6.265280e+17</td>\n",
              "      <td>@themagickidraps not upset with a rally upset ...</td>\n",
              "    </tr>\n",
              "    <tr>\n",
              "      <th>868</th>\n",
              "      <td>6.265380e+17</td>\n",
              "      <td>#BreakingNews http://t.co/gAN14PW9TG FedEx no ...</td>\n",
              "    </tr>\n",
              "    <tr>\n",
              "      <th>1965</th>\n",
              "      <td>6.265400e+17</td>\n",
              "      <td>'i never understood guys who wanted to run int...</td>\n",
              "    </tr>\n",
              "    <tr>\n",
              "      <th>1469</th>\n",
              "      <td>6.265430e+17</td>\n",
              "      <td>We need to stop paying attention to @drizzy bo...</td>\n",
              "    </tr>\n",
              "    <tr>\n",
              "      <th>869</th>\n",
              "      <td>6.265440e+17</td>\n",
              "      <td>FedEx no longer to transport bioterror germs i...</td>\n",
              "    </tr>\n",
              "    <tr>\n",
              "      <th>840</th>\n",
              "      <td>6.265600e+17</td>\n",
              "      <td>FedEx to stop transporting bioterror germs aft...</td>\n",
              "    </tr>\n",
              "  </tbody>\n",
              "</table>\n",
              "</div>\n",
              "      <button class=\"colab-df-convert\" onclick=\"convertToInteractive('df-d03ffcdd-19f0-4c53-9f29-5bbb59725bd4')\"\n",
              "              title=\"Convert this dataframe to an interactive table.\"\n",
              "              style=\"display:none;\">\n",
              "        \n",
              "  <svg xmlns=\"http://www.w3.org/2000/svg\" height=\"24px\"viewBox=\"0 0 24 24\"\n",
              "       width=\"24px\">\n",
              "    <path d=\"M0 0h24v24H0V0z\" fill=\"none\"/>\n",
              "    <path d=\"M18.56 5.44l.94 2.06.94-2.06 2.06-.94-2.06-.94-.94-2.06-.94 2.06-2.06.94zm-11 1L8.5 8.5l.94-2.06 2.06-.94-2.06-.94L8.5 2.5l-.94 2.06-2.06.94zm10 10l.94 2.06.94-2.06 2.06-.94-2.06-.94-.94-2.06-.94 2.06-2.06.94z\"/><path d=\"M17.41 7.96l-1.37-1.37c-.4-.4-.92-.59-1.43-.59-.52 0-1.04.2-1.43.59L10.3 9.45l-7.72 7.72c-.78.78-.78 2.05 0 2.83L4 21.41c.39.39.9.59 1.41.59.51 0 1.02-.2 1.41-.59l7.78-7.78 2.81-2.81c.8-.78.8-2.07 0-2.86zM5.41 20L4 18.59l7.72-7.72 1.47 1.35L5.41 20z\"/>\n",
              "  </svg>\n",
              "      </button>\n",
              "      \n",
              "  <style>\n",
              "    .colab-df-container {\n",
              "      display:flex;\n",
              "      flex-wrap:wrap;\n",
              "      gap: 12px;\n",
              "    }\n",
              "\n",
              "    .colab-df-convert {\n",
              "      background-color: #E8F0FE;\n",
              "      border: none;\n",
              "      border-radius: 50%;\n",
              "      cursor: pointer;\n",
              "      display: none;\n",
              "      fill: #1967D2;\n",
              "      height: 32px;\n",
              "      padding: 0 0 0 0;\n",
              "      width: 32px;\n",
              "    }\n",
              "\n",
              "    .colab-df-convert:hover {\n",
              "      background-color: #E2EBFA;\n",
              "      box-shadow: 0px 1px 2px rgba(60, 64, 67, 0.3), 0px 1px 3px 1px rgba(60, 64, 67, 0.15);\n",
              "      fill: #174EA6;\n",
              "    }\n",
              "\n",
              "    [theme=dark] .colab-df-convert {\n",
              "      background-color: #3B4455;\n",
              "      fill: #D2E3FC;\n",
              "    }\n",
              "\n",
              "    [theme=dark] .colab-df-convert:hover {\n",
              "      background-color: #434B5C;\n",
              "      box-shadow: 0px 1px 3px 1px rgba(0, 0, 0, 0.15);\n",
              "      filter: drop-shadow(0px 1px 2px rgba(0, 0, 0, 0.3));\n",
              "      fill: #FFFFFF;\n",
              "    }\n",
              "  </style>\n",
              "\n",
              "      <script>\n",
              "        const buttonEl =\n",
              "          document.querySelector('#df-d03ffcdd-19f0-4c53-9f29-5bbb59725bd4 button.colab-df-convert');\n",
              "        buttonEl.style.display =\n",
              "          google.colab.kernel.accessAllowed ? 'block' : 'none';\n",
              "\n",
              "        async function convertToInteractive(key) {\n",
              "          const element = document.querySelector('#df-d03ffcdd-19f0-4c53-9f29-5bbb59725bd4');\n",
              "          const dataTable =\n",
              "            await google.colab.kernel.invokeFunction('convertToInteractive',\n",
              "                                                     [key], {});\n",
              "          if (!dataTable) return;\n",
              "\n",
              "          const docLinkHtml = 'Like what you see? Visit the ' +\n",
              "            '<a target=\"_blank\" href=https://colab.research.google.com/notebooks/data_table.ipynb>data table notebook</a>'\n",
              "            + ' to learn more about interactive tables.';\n",
              "          element.innerHTML = '';\n",
              "          dataTable['output_type'] = 'display_data';\n",
              "          await google.colab.output.renderOutput(dataTable, element);\n",
              "          const docLink = document.createElement('div');\n",
              "          docLink.innerHTML = docLinkHtml;\n",
              "          element.appendChild(docLink);\n",
              "        }\n",
              "      </script>\n",
              "    </div>\n",
              "  </div>\n",
              "  "
            ]
          },
          "metadata": {},
          "execution_count": 22
        }
      ]
    },
    {
      "cell_type": "markdown",
      "source": [
        "i can see several points:\n",
        "\n",
        "\n",
        "1.   Case #1 (based on 9083 and 9048 id): i can get difference values from `tweetids` field but same text apparently. \n",
        "2.   Case #2 : i can several duplicated value in `tweetids` field.\n",
        "3.   Case #3 (based on 9076 and  9066) : i can get similar texts but with its differences from same value in `tweetids` field.\n",
        "\n",
        "Based in these points i need to do following 🧰:\n",
        "\n",
        "\n",
        "*   Remove URLs and arrobas.\n",
        "*   Replace hashtag content with non-hashtag version.\n",
        "*   Get the most long length version of text to cover more information.\n",
        "*   Check the distribution of `choose one` field after that, to create a clean dataset (based in the ideas) and the label.\n"
      ],
      "metadata": {
        "id": "esJWjHBKQcZz"
      }
    },
    {
      "cell_type": "markdown",
      "source": [
        "## Create a new and cleaning dataset"
      ],
      "metadata": {
        "id": "6Wxba-OCVl56"
      }
    },
    {
      "cell_type": "markdown",
      "source": [
        "### Remove URLs and arrobas"
      ],
      "metadata": {
        "id": "c_S8Z6xYf3VV"
      }
    },
    {
      "cell_type": "code",
      "source": [
        "def remove_urls(x):\n",
        "  ''' Remove URLs from sentence'''\n",
        "  word_list = x.split(\" \")\n",
        "  word_list = [ \n",
        "      word.lower() for word in word_list \\\n",
        "      if re.search(\"^http(s)*:\\/\\/\", word) is None\n",
        "    ]\n",
        "  return \" \".join(word_list)\n",
        "\n",
        "\n",
        "def remove_arrobas(x):\n",
        "  ''' Remove arrobas from sentence'''\n",
        "  word_list = x.split(\" \")\n",
        "  clean_words = []\n",
        "  for word in word_list:\n",
        "    if re.search(\"^@\", word) is None:\n",
        "      clean_words.append(word.lower())\n",
        "    else:\n",
        "      clean_words.append(\"<user>\")\n",
        "  return \" \".join(clean_words)\n",
        "\n",
        "\n",
        "def abs_remove_urls_and_arroba(*functions):\n",
        "    return reduce(lambda f, g: lambda x: g(f(x)), functions, lambda x: x)\n",
        "\n",
        "remove_urls_and_arroba = abs_remove_urls_and_arroba(remove_arrobas, remove_urls)\n",
        "\n",
        "\n",
        "disaster_db_df[\"text_without_url_and_arroba\"] = disaster_db_df[\"text\"].apply(lambda x: remove_urls_and_arroba(x))\n",
        "clean_step_1_tweetit_db_df = disaster_db_df[disaster_db_df[\"is_tweet_id_duplicated\"] == True]\n",
        "clean_step_1_tweetit_db_df.sort_values(by = 'tweetid', inplace=True)\n",
        "clean_step_1_tweetit_db_df[[\"text_without_url_and_arroba\", \"text\"]].head(20)"
      ],
      "metadata": {
        "colab": {
          "base_uri": "https://localhost:8080/",
          "height": 783
        },
        "id": "rIBnHGIdf6w9",
        "outputId": "752e5001-96f5-4b33-b2bd-bf85178bf4a2"
      },
      "execution_count": 23,
      "outputs": [
        {
          "output_type": "stream",
          "name": "stderr",
          "text": [
            "<ipython-input-23-696b1a8a3de6>:31: SettingWithCopyWarning: \n",
            "A value is trying to be set on a copy of a slice from a DataFrame\n",
            "\n",
            "See the caveats in the documentation: https://pandas.pydata.org/pandas-docs/stable/user_guide/indexing.html#returning-a-view-versus-a-copy\n",
            "  clean_step_1_tweetit_db_df.sort_values(by = 'tweetid', inplace=True)\n"
          ]
        },
        {
          "output_type": "execute_result",
          "data": {
            "text/plain": [
              "                             text_without_url_and_arroba  \\\n",
              "10872  police investigating after an e-bike collided ...   \n",
              "9066   investigators say a fatal virgin galactic spac...   \n",
              "9076   #bbclive investigators say a fatal virgin gala...   \n",
              "9083   investigators say a fatal virgin galactic spac...   \n",
              "9048   investigators say a fatal virgin galactic spac...   \n",
              "1962   schools in western uganda still burning down b...   \n",
              "9047   virgin galactic crash: early unlocking of brak...   \n",
              "9065   virgin galactic crash: early unlocking of brak...   \n",
              "9049   investigators rule catastrophic structural fai...   \n",
              "9089   ntsb: virgin galactic crash caused by structur...   \n",
              "9055   <user>  mega mood swing on a 24 hr schedule. i...   \n",
              "1439   idgaf who tough or who from canada and who fro...   \n",
              "2216   the chemical brothers to play the armory in sf...   \n",
              "1938   forestservice : rt dhsscitech: #firefighters r...   \n",
              "1941   <user> not upset with a rally upset with burni...   \n",
              "868    #breakingnews fedex no longer willing to trans...   \n",
              "1965   'i never understood guys who wanted to run int...   \n",
              "1469   we need to stop paying attention to <user> bod...   \n",
              "869    fedex no longer to transport bioterror germs i...   \n",
              "840    fedex to stop transporting bioterror germs aft...   \n",
              "\n",
              "                                                    text  \n",
              "10872  Police investigating after an e-bike collided ...  \n",
              "9066   Investigators say a fatal Virgin Galactic spac...  \n",
              "9076   #BBCLive Investigators say a fatal Virgin Gala...  \n",
              "9083   Investigators say a fatal Virgin Galactic spac...  \n",
              "9048   Investigators say a fatal Virgin Galactic spac...  \n",
              "1962   Schools in Western Uganda still Burning down B...  \n",
              "9047   Virgin galactic crash: early unlocking of brak...  \n",
              "9065   Virgin galactic crash: early unlocking of brak...  \n",
              "9049   Investigators rule catastrophic structural fai...  \n",
              "9089   NTSB: Virgin Galactic crash caused by structur...  \n",
              "9055   @SirTitan45  Mega mood swing on a 24 hr schedu...  \n",
              "1439   Idgaf who tough or who from Canada and who fro...  \n",
              "2216   THE CHEMICAL BROTHERS to play The Armory in SF...  \n",
              "1938   forestservice : RT dhsscitech: #Firefighters r...  \n",
              "1941   @themagickidraps not upset with a rally upset ...  \n",
              "868    #BreakingNews http://t.co/gAN14PW9TG FedEx no ...  \n",
              "1965   'i never understood guys who wanted to run int...  \n",
              "1469   We need to stop paying attention to @drizzy bo...  \n",
              "869    FedEx no longer to transport bioterror germs i...  \n",
              "840    FedEx to stop transporting bioterror germs aft...  "
            ],
            "text/html": [
              "\n",
              "  <div id=\"df-bbc8e065-c81d-4332-a3c6-5f88d7c13e58\">\n",
              "    <div class=\"colab-df-container\">\n",
              "      <div>\n",
              "<style scoped>\n",
              "    .dataframe tbody tr th:only-of-type {\n",
              "        vertical-align: middle;\n",
              "    }\n",
              "\n",
              "    .dataframe tbody tr th {\n",
              "        vertical-align: top;\n",
              "    }\n",
              "\n",
              "    .dataframe thead th {\n",
              "        text-align: right;\n",
              "    }\n",
              "</style>\n",
              "<table border=\"1\" class=\"dataframe\">\n",
              "  <thead>\n",
              "    <tr style=\"text-align: right;\">\n",
              "      <th></th>\n",
              "      <th>text_without_url_and_arroba</th>\n",
              "      <th>text</th>\n",
              "    </tr>\n",
              "  </thead>\n",
              "  <tbody>\n",
              "    <tr>\n",
              "      <th>10872</th>\n",
              "      <td>police investigating after an e-bike collided ...</td>\n",
              "      <td>Police investigating after an e-bike collided ...</td>\n",
              "    </tr>\n",
              "    <tr>\n",
              "      <th>9066</th>\n",
              "      <td>investigators say a fatal virgin galactic spac...</td>\n",
              "      <td>Investigators say a fatal Virgin Galactic spac...</td>\n",
              "    </tr>\n",
              "    <tr>\n",
              "      <th>9076</th>\n",
              "      <td>#bbclive investigators say a fatal virgin gala...</td>\n",
              "      <td>#BBCLive Investigators say a fatal Virgin Gala...</td>\n",
              "    </tr>\n",
              "    <tr>\n",
              "      <th>9083</th>\n",
              "      <td>investigators say a fatal virgin galactic spac...</td>\n",
              "      <td>Investigators say a fatal Virgin Galactic spac...</td>\n",
              "    </tr>\n",
              "    <tr>\n",
              "      <th>9048</th>\n",
              "      <td>investigators say a fatal virgin galactic spac...</td>\n",
              "      <td>Investigators say a fatal Virgin Galactic spac...</td>\n",
              "    </tr>\n",
              "    <tr>\n",
              "      <th>1962</th>\n",
              "      <td>schools in western uganda still burning down b...</td>\n",
              "      <td>Schools in Western Uganda still Burning down B...</td>\n",
              "    </tr>\n",
              "    <tr>\n",
              "      <th>9047</th>\n",
              "      <td>virgin galactic crash: early unlocking of brak...</td>\n",
              "      <td>Virgin galactic crash: early unlocking of brak...</td>\n",
              "    </tr>\n",
              "    <tr>\n",
              "      <th>9065</th>\n",
              "      <td>virgin galactic crash: early unlocking of brak...</td>\n",
              "      <td>Virgin galactic crash: early unlocking of brak...</td>\n",
              "    </tr>\n",
              "    <tr>\n",
              "      <th>9049</th>\n",
              "      <td>investigators rule catastrophic structural fai...</td>\n",
              "      <td>Investigators rule catastrophic structural fai...</td>\n",
              "    </tr>\n",
              "    <tr>\n",
              "      <th>9089</th>\n",
              "      <td>ntsb: virgin galactic crash caused by structur...</td>\n",
              "      <td>NTSB: Virgin Galactic crash caused by structur...</td>\n",
              "    </tr>\n",
              "    <tr>\n",
              "      <th>9055</th>\n",
              "      <td>&lt;user&gt;  mega mood swing on a 24 hr schedule. i...</td>\n",
              "      <td>@SirTitan45  Mega mood swing on a 24 hr schedu...</td>\n",
              "    </tr>\n",
              "    <tr>\n",
              "      <th>1439</th>\n",
              "      <td>idgaf who tough or who from canada and who fro...</td>\n",
              "      <td>Idgaf who tough or who from Canada and who fro...</td>\n",
              "    </tr>\n",
              "    <tr>\n",
              "      <th>2216</th>\n",
              "      <td>the chemical brothers to play the armory in sf...</td>\n",
              "      <td>THE CHEMICAL BROTHERS to play The Armory in SF...</td>\n",
              "    </tr>\n",
              "    <tr>\n",
              "      <th>1938</th>\n",
              "      <td>forestservice : rt dhsscitech: #firefighters r...</td>\n",
              "      <td>forestservice : RT dhsscitech: #Firefighters r...</td>\n",
              "    </tr>\n",
              "    <tr>\n",
              "      <th>1941</th>\n",
              "      <td>&lt;user&gt; not upset with a rally upset with burni...</td>\n",
              "      <td>@themagickidraps not upset with a rally upset ...</td>\n",
              "    </tr>\n",
              "    <tr>\n",
              "      <th>868</th>\n",
              "      <td>#breakingnews fedex no longer willing to trans...</td>\n",
              "      <td>#BreakingNews http://t.co/gAN14PW9TG FedEx no ...</td>\n",
              "    </tr>\n",
              "    <tr>\n",
              "      <th>1965</th>\n",
              "      <td>'i never understood guys who wanted to run int...</td>\n",
              "      <td>'i never understood guys who wanted to run int...</td>\n",
              "    </tr>\n",
              "    <tr>\n",
              "      <th>1469</th>\n",
              "      <td>we need to stop paying attention to &lt;user&gt; bod...</td>\n",
              "      <td>We need to stop paying attention to @drizzy bo...</td>\n",
              "    </tr>\n",
              "    <tr>\n",
              "      <th>869</th>\n",
              "      <td>fedex no longer to transport bioterror germs i...</td>\n",
              "      <td>FedEx no longer to transport bioterror germs i...</td>\n",
              "    </tr>\n",
              "    <tr>\n",
              "      <th>840</th>\n",
              "      <td>fedex to stop transporting bioterror germs aft...</td>\n",
              "      <td>FedEx to stop transporting bioterror germs aft...</td>\n",
              "    </tr>\n",
              "  </tbody>\n",
              "</table>\n",
              "</div>\n",
              "      <button class=\"colab-df-convert\" onclick=\"convertToInteractive('df-bbc8e065-c81d-4332-a3c6-5f88d7c13e58')\"\n",
              "              title=\"Convert this dataframe to an interactive table.\"\n",
              "              style=\"display:none;\">\n",
              "        \n",
              "  <svg xmlns=\"http://www.w3.org/2000/svg\" height=\"24px\"viewBox=\"0 0 24 24\"\n",
              "       width=\"24px\">\n",
              "    <path d=\"M0 0h24v24H0V0z\" fill=\"none\"/>\n",
              "    <path d=\"M18.56 5.44l.94 2.06.94-2.06 2.06-.94-2.06-.94-.94-2.06-.94 2.06-2.06.94zm-11 1L8.5 8.5l.94-2.06 2.06-.94-2.06-.94L8.5 2.5l-.94 2.06-2.06.94zm10 10l.94 2.06.94-2.06 2.06-.94-2.06-.94-.94-2.06-.94 2.06-2.06.94z\"/><path d=\"M17.41 7.96l-1.37-1.37c-.4-.4-.92-.59-1.43-.59-.52 0-1.04.2-1.43.59L10.3 9.45l-7.72 7.72c-.78.78-.78 2.05 0 2.83L4 21.41c.39.39.9.59 1.41.59.51 0 1.02-.2 1.41-.59l7.78-7.78 2.81-2.81c.8-.78.8-2.07 0-2.86zM5.41 20L4 18.59l7.72-7.72 1.47 1.35L5.41 20z\"/>\n",
              "  </svg>\n",
              "      </button>\n",
              "      \n",
              "  <style>\n",
              "    .colab-df-container {\n",
              "      display:flex;\n",
              "      flex-wrap:wrap;\n",
              "      gap: 12px;\n",
              "    }\n",
              "\n",
              "    .colab-df-convert {\n",
              "      background-color: #E8F0FE;\n",
              "      border: none;\n",
              "      border-radius: 50%;\n",
              "      cursor: pointer;\n",
              "      display: none;\n",
              "      fill: #1967D2;\n",
              "      height: 32px;\n",
              "      padding: 0 0 0 0;\n",
              "      width: 32px;\n",
              "    }\n",
              "\n",
              "    .colab-df-convert:hover {\n",
              "      background-color: #E2EBFA;\n",
              "      box-shadow: 0px 1px 2px rgba(60, 64, 67, 0.3), 0px 1px 3px 1px rgba(60, 64, 67, 0.15);\n",
              "      fill: #174EA6;\n",
              "    }\n",
              "\n",
              "    [theme=dark] .colab-df-convert {\n",
              "      background-color: #3B4455;\n",
              "      fill: #D2E3FC;\n",
              "    }\n",
              "\n",
              "    [theme=dark] .colab-df-convert:hover {\n",
              "      background-color: #434B5C;\n",
              "      box-shadow: 0px 1px 3px 1px rgba(0, 0, 0, 0.15);\n",
              "      filter: drop-shadow(0px 1px 2px rgba(0, 0, 0, 0.3));\n",
              "      fill: #FFFFFF;\n",
              "    }\n",
              "  </style>\n",
              "\n",
              "      <script>\n",
              "        const buttonEl =\n",
              "          document.querySelector('#df-bbc8e065-c81d-4332-a3c6-5f88d7c13e58 button.colab-df-convert');\n",
              "        buttonEl.style.display =\n",
              "          google.colab.kernel.accessAllowed ? 'block' : 'none';\n",
              "\n",
              "        async function convertToInteractive(key) {\n",
              "          const element = document.querySelector('#df-bbc8e065-c81d-4332-a3c6-5f88d7c13e58');\n",
              "          const dataTable =\n",
              "            await google.colab.kernel.invokeFunction('convertToInteractive',\n",
              "                                                     [key], {});\n",
              "          if (!dataTable) return;\n",
              "\n",
              "          const docLinkHtml = 'Like what you see? Visit the ' +\n",
              "            '<a target=\"_blank\" href=https://colab.research.google.com/notebooks/data_table.ipynb>data table notebook</a>'\n",
              "            + ' to learn more about interactive tables.';\n",
              "          element.innerHTML = '';\n",
              "          dataTable['output_type'] = 'display_data';\n",
              "          await google.colab.output.renderOutput(dataTable, element);\n",
              "          const docLink = document.createElement('div');\n",
              "          docLink.innerHTML = docLinkHtml;\n",
              "          element.appendChild(docLink);\n",
              "        }\n",
              "      </script>\n",
              "    </div>\n",
              "  </div>\n",
              "  "
            ]
          },
          "metadata": {},
          "execution_count": 23
        }
      ]
    },
    {
      "cell_type": "markdown",
      "source": [
        "### Replace hashtag value with non-hashtag value"
      ],
      "metadata": {
        "id": "rNwD9U4aqDEh"
      }
    },
    {
      "cell_type": "code",
      "source": [
        "def replace_with_non_hashtag_value(x):\n",
        "  ''' Replace hashtag content with non-hashtag version'''\n",
        "  word_list = x.split(\" \")\n",
        "  clean_words = []\n",
        "  for word in word_list:\n",
        "    if re.search(\"^#\", word) is None:\n",
        "      clean_words.append(word.lower())\n",
        "    else:\n",
        "      clean_words.append(word[1:].lower())\n",
        "  return \" \".join(clean_words)\n",
        "\n",
        "\n",
        "disaster_db_df[\"text_with_non_hashtag\"] = disaster_db_df[\"text_without_url_and_arroba\"].apply(lambda x: replace_with_non_hashtag_value(x))\n",
        "clean_step_2_tweetit_db_df = disaster_db_df[disaster_db_df[\"is_tweet_id_duplicated\"] == True]\n",
        "clean_step_2_tweetit_db_df.sort_values(by = 'tweetid', inplace=True)\n",
        "clean_step_2_tweetit_db_df[[\"text_with_non_hashtag\", \"text\"]].head(20)"
      ],
      "metadata": {
        "colab": {
          "base_uri": "https://localhost:8080/",
          "height": 783
        },
        "id": "Q9AXIK09qCvg",
        "outputId": "65264aac-c2ad-4760-ed6f-fb0b86ddbc70"
      },
      "execution_count": 24,
      "outputs": [
        {
          "output_type": "stream",
          "name": "stderr",
          "text": [
            "<ipython-input-24-48f05293f318>:15: SettingWithCopyWarning: \n",
            "A value is trying to be set on a copy of a slice from a DataFrame\n",
            "\n",
            "See the caveats in the documentation: https://pandas.pydata.org/pandas-docs/stable/user_guide/indexing.html#returning-a-view-versus-a-copy\n",
            "  clean_step_2_tweetit_db_df.sort_values(by = 'tweetid', inplace=True)\n"
          ]
        },
        {
          "output_type": "execute_result",
          "data": {
            "text/plain": [
              "                                   text_with_non_hashtag  \\\n",
              "10872  police investigating after an e-bike collided ...   \n",
              "9066   investigators say a fatal virgin galactic spac...   \n",
              "9076   bbclive investigators say a fatal virgin galac...   \n",
              "9083   investigators say a fatal virgin galactic spac...   \n",
              "9048   investigators say a fatal virgin galactic spac...   \n",
              "1962   schools in western uganda still burning down b...   \n",
              "9047   virgin galactic crash: early unlocking of brak...   \n",
              "9065   virgin galactic crash: early unlocking of brak...   \n",
              "9049   investigators rule catastrophic structural fai...   \n",
              "9089   ntsb: virgin galactic crash caused by structur...   \n",
              "9055   <user>  mega mood swing on a 24 hr schedule. i...   \n",
              "1439   idgaf who tough or who from canada and who fro...   \n",
              "2216   the chemical brothers to play the armory in sf...   \n",
              "1938   forestservice : rt dhsscitech: firefighters ru...   \n",
              "1941   <user> not upset with a rally upset with burni...   \n",
              "868    breakingnews fedex no longer willing to transp...   \n",
              "1965   'i never understood guys who wanted to run int...   \n",
              "1469   we need to stop paying attention to <user> bod...   \n",
              "869    fedex no longer to transport bioterror germs i...   \n",
              "840    fedex to stop transporting bioterror germs aft...   \n",
              "\n",
              "                                                    text  \n",
              "10872  Police investigating after an e-bike collided ...  \n",
              "9066   Investigators say a fatal Virgin Galactic spac...  \n",
              "9076   #BBCLive Investigators say a fatal Virgin Gala...  \n",
              "9083   Investigators say a fatal Virgin Galactic spac...  \n",
              "9048   Investigators say a fatal Virgin Galactic spac...  \n",
              "1962   Schools in Western Uganda still Burning down B...  \n",
              "9047   Virgin galactic crash: early unlocking of brak...  \n",
              "9065   Virgin galactic crash: early unlocking of brak...  \n",
              "9049   Investigators rule catastrophic structural fai...  \n",
              "9089   NTSB: Virgin Galactic crash caused by structur...  \n",
              "9055   @SirTitan45  Mega mood swing on a 24 hr schedu...  \n",
              "1439   Idgaf who tough or who from Canada and who fro...  \n",
              "2216   THE CHEMICAL BROTHERS to play The Armory in SF...  \n",
              "1938   forestservice : RT dhsscitech: #Firefighters r...  \n",
              "1941   @themagickidraps not upset with a rally upset ...  \n",
              "868    #BreakingNews http://t.co/gAN14PW9TG FedEx no ...  \n",
              "1965   'i never understood guys who wanted to run int...  \n",
              "1469   We need to stop paying attention to @drizzy bo...  \n",
              "869    FedEx no longer to transport bioterror germs i...  \n",
              "840    FedEx to stop transporting bioterror germs aft...  "
            ],
            "text/html": [
              "\n",
              "  <div id=\"df-56e8943c-cb58-4fb8-847a-f3febf836ba4\">\n",
              "    <div class=\"colab-df-container\">\n",
              "      <div>\n",
              "<style scoped>\n",
              "    .dataframe tbody tr th:only-of-type {\n",
              "        vertical-align: middle;\n",
              "    }\n",
              "\n",
              "    .dataframe tbody tr th {\n",
              "        vertical-align: top;\n",
              "    }\n",
              "\n",
              "    .dataframe thead th {\n",
              "        text-align: right;\n",
              "    }\n",
              "</style>\n",
              "<table border=\"1\" class=\"dataframe\">\n",
              "  <thead>\n",
              "    <tr style=\"text-align: right;\">\n",
              "      <th></th>\n",
              "      <th>text_with_non_hashtag</th>\n",
              "      <th>text</th>\n",
              "    </tr>\n",
              "  </thead>\n",
              "  <tbody>\n",
              "    <tr>\n",
              "      <th>10872</th>\n",
              "      <td>police investigating after an e-bike collided ...</td>\n",
              "      <td>Police investigating after an e-bike collided ...</td>\n",
              "    </tr>\n",
              "    <tr>\n",
              "      <th>9066</th>\n",
              "      <td>investigators say a fatal virgin galactic spac...</td>\n",
              "      <td>Investigators say a fatal Virgin Galactic spac...</td>\n",
              "    </tr>\n",
              "    <tr>\n",
              "      <th>9076</th>\n",
              "      <td>bbclive investigators say a fatal virgin galac...</td>\n",
              "      <td>#BBCLive Investigators say a fatal Virgin Gala...</td>\n",
              "    </tr>\n",
              "    <tr>\n",
              "      <th>9083</th>\n",
              "      <td>investigators say a fatal virgin galactic spac...</td>\n",
              "      <td>Investigators say a fatal Virgin Galactic spac...</td>\n",
              "    </tr>\n",
              "    <tr>\n",
              "      <th>9048</th>\n",
              "      <td>investigators say a fatal virgin galactic spac...</td>\n",
              "      <td>Investigators say a fatal Virgin Galactic spac...</td>\n",
              "    </tr>\n",
              "    <tr>\n",
              "      <th>1962</th>\n",
              "      <td>schools in western uganda still burning down b...</td>\n",
              "      <td>Schools in Western Uganda still Burning down B...</td>\n",
              "    </tr>\n",
              "    <tr>\n",
              "      <th>9047</th>\n",
              "      <td>virgin galactic crash: early unlocking of brak...</td>\n",
              "      <td>Virgin galactic crash: early unlocking of brak...</td>\n",
              "    </tr>\n",
              "    <tr>\n",
              "      <th>9065</th>\n",
              "      <td>virgin galactic crash: early unlocking of brak...</td>\n",
              "      <td>Virgin galactic crash: early unlocking of brak...</td>\n",
              "    </tr>\n",
              "    <tr>\n",
              "      <th>9049</th>\n",
              "      <td>investigators rule catastrophic structural fai...</td>\n",
              "      <td>Investigators rule catastrophic structural fai...</td>\n",
              "    </tr>\n",
              "    <tr>\n",
              "      <th>9089</th>\n",
              "      <td>ntsb: virgin galactic crash caused by structur...</td>\n",
              "      <td>NTSB: Virgin Galactic crash caused by structur...</td>\n",
              "    </tr>\n",
              "    <tr>\n",
              "      <th>9055</th>\n",
              "      <td>&lt;user&gt;  mega mood swing on a 24 hr schedule. i...</td>\n",
              "      <td>@SirTitan45  Mega mood swing on a 24 hr schedu...</td>\n",
              "    </tr>\n",
              "    <tr>\n",
              "      <th>1439</th>\n",
              "      <td>idgaf who tough or who from canada and who fro...</td>\n",
              "      <td>Idgaf who tough or who from Canada and who fro...</td>\n",
              "    </tr>\n",
              "    <tr>\n",
              "      <th>2216</th>\n",
              "      <td>the chemical brothers to play the armory in sf...</td>\n",
              "      <td>THE CHEMICAL BROTHERS to play The Armory in SF...</td>\n",
              "    </tr>\n",
              "    <tr>\n",
              "      <th>1938</th>\n",
              "      <td>forestservice : rt dhsscitech: firefighters ru...</td>\n",
              "      <td>forestservice : RT dhsscitech: #Firefighters r...</td>\n",
              "    </tr>\n",
              "    <tr>\n",
              "      <th>1941</th>\n",
              "      <td>&lt;user&gt; not upset with a rally upset with burni...</td>\n",
              "      <td>@themagickidraps not upset with a rally upset ...</td>\n",
              "    </tr>\n",
              "    <tr>\n",
              "      <th>868</th>\n",
              "      <td>breakingnews fedex no longer willing to transp...</td>\n",
              "      <td>#BreakingNews http://t.co/gAN14PW9TG FedEx no ...</td>\n",
              "    </tr>\n",
              "    <tr>\n",
              "      <th>1965</th>\n",
              "      <td>'i never understood guys who wanted to run int...</td>\n",
              "      <td>'i never understood guys who wanted to run int...</td>\n",
              "    </tr>\n",
              "    <tr>\n",
              "      <th>1469</th>\n",
              "      <td>we need to stop paying attention to &lt;user&gt; bod...</td>\n",
              "      <td>We need to stop paying attention to @drizzy bo...</td>\n",
              "    </tr>\n",
              "    <tr>\n",
              "      <th>869</th>\n",
              "      <td>fedex no longer to transport bioterror germs i...</td>\n",
              "      <td>FedEx no longer to transport bioterror germs i...</td>\n",
              "    </tr>\n",
              "    <tr>\n",
              "      <th>840</th>\n",
              "      <td>fedex to stop transporting bioterror germs aft...</td>\n",
              "      <td>FedEx to stop transporting bioterror germs aft...</td>\n",
              "    </tr>\n",
              "  </tbody>\n",
              "</table>\n",
              "</div>\n",
              "      <button class=\"colab-df-convert\" onclick=\"convertToInteractive('df-56e8943c-cb58-4fb8-847a-f3febf836ba4')\"\n",
              "              title=\"Convert this dataframe to an interactive table.\"\n",
              "              style=\"display:none;\">\n",
              "        \n",
              "  <svg xmlns=\"http://www.w3.org/2000/svg\" height=\"24px\"viewBox=\"0 0 24 24\"\n",
              "       width=\"24px\">\n",
              "    <path d=\"M0 0h24v24H0V0z\" fill=\"none\"/>\n",
              "    <path d=\"M18.56 5.44l.94 2.06.94-2.06 2.06-.94-2.06-.94-.94-2.06-.94 2.06-2.06.94zm-11 1L8.5 8.5l.94-2.06 2.06-.94-2.06-.94L8.5 2.5l-.94 2.06-2.06.94zm10 10l.94 2.06.94-2.06 2.06-.94-2.06-.94-.94-2.06-.94 2.06-2.06.94z\"/><path d=\"M17.41 7.96l-1.37-1.37c-.4-.4-.92-.59-1.43-.59-.52 0-1.04.2-1.43.59L10.3 9.45l-7.72 7.72c-.78.78-.78 2.05 0 2.83L4 21.41c.39.39.9.59 1.41.59.51 0 1.02-.2 1.41-.59l7.78-7.78 2.81-2.81c.8-.78.8-2.07 0-2.86zM5.41 20L4 18.59l7.72-7.72 1.47 1.35L5.41 20z\"/>\n",
              "  </svg>\n",
              "      </button>\n",
              "      \n",
              "  <style>\n",
              "    .colab-df-container {\n",
              "      display:flex;\n",
              "      flex-wrap:wrap;\n",
              "      gap: 12px;\n",
              "    }\n",
              "\n",
              "    .colab-df-convert {\n",
              "      background-color: #E8F0FE;\n",
              "      border: none;\n",
              "      border-radius: 50%;\n",
              "      cursor: pointer;\n",
              "      display: none;\n",
              "      fill: #1967D2;\n",
              "      height: 32px;\n",
              "      padding: 0 0 0 0;\n",
              "      width: 32px;\n",
              "    }\n",
              "\n",
              "    .colab-df-convert:hover {\n",
              "      background-color: #E2EBFA;\n",
              "      box-shadow: 0px 1px 2px rgba(60, 64, 67, 0.3), 0px 1px 3px 1px rgba(60, 64, 67, 0.15);\n",
              "      fill: #174EA6;\n",
              "    }\n",
              "\n",
              "    [theme=dark] .colab-df-convert {\n",
              "      background-color: #3B4455;\n",
              "      fill: #D2E3FC;\n",
              "    }\n",
              "\n",
              "    [theme=dark] .colab-df-convert:hover {\n",
              "      background-color: #434B5C;\n",
              "      box-shadow: 0px 1px 3px 1px rgba(0, 0, 0, 0.15);\n",
              "      filter: drop-shadow(0px 1px 2px rgba(0, 0, 0, 0.3));\n",
              "      fill: #FFFFFF;\n",
              "    }\n",
              "  </style>\n",
              "\n",
              "      <script>\n",
              "        const buttonEl =\n",
              "          document.querySelector('#df-56e8943c-cb58-4fb8-847a-f3febf836ba4 button.colab-df-convert');\n",
              "        buttonEl.style.display =\n",
              "          google.colab.kernel.accessAllowed ? 'block' : 'none';\n",
              "\n",
              "        async function convertToInteractive(key) {\n",
              "          const element = document.querySelector('#df-56e8943c-cb58-4fb8-847a-f3febf836ba4');\n",
              "          const dataTable =\n",
              "            await google.colab.kernel.invokeFunction('convertToInteractive',\n",
              "                                                     [key], {});\n",
              "          if (!dataTable) return;\n",
              "\n",
              "          const docLinkHtml = 'Like what you see? Visit the ' +\n",
              "            '<a target=\"_blank\" href=https://colab.research.google.com/notebooks/data_table.ipynb>data table notebook</a>'\n",
              "            + ' to learn more about interactive tables.';\n",
              "          element.innerHTML = '';\n",
              "          dataTable['output_type'] = 'display_data';\n",
              "          await google.colab.output.renderOutput(dataTable, element);\n",
              "          const docLink = document.createElement('div');\n",
              "          docLink.innerHTML = docLinkHtml;\n",
              "          element.appendChild(docLink);\n",
              "        }\n",
              "      </script>\n",
              "    </div>\n",
              "  </div>\n",
              "  "
            ]
          },
          "metadata": {},
          "execution_count": 24
        }
      ]
    },
    {
      "cell_type": "code",
      "source": [
        "def remove_with_non_hashtag_value(x):\n",
        "  ''' Remove hashtag value'''\n",
        "  word_list = x.split(\" \")\n",
        "  clean_words = []\n",
        "  for word in word_list:\n",
        "    if re.search(\"^#\", word) is None:\n",
        "      clean_words.append(word.lower())\n",
        "\n",
        "  return \" \".join(clean_words)\n",
        "\n",
        "disaster_db_df[\"text_without_hashtag_version\"] = disaster_db_df[\"text_without_url_and_arroba\"].apply(lambda x: remove_with_non_hashtag_value(x))\n",
        "clean_step_2_1_tweetit_db_df = disaster_db_df[disaster_db_df[\"is_tweet_id_duplicated\"] == True]\n",
        "clean_step_2_1_tweetit_db_df.sort_values(by = 'tweetid', inplace=True)\n",
        "clean_step_2_1_tweetit_db_df[[\"text_without_hashtag_version\", \"text\"]].head(20)"
      ],
      "metadata": {
        "colab": {
          "base_uri": "https://localhost:8080/",
          "height": 783
        },
        "id": "RrOPtdhasNIg",
        "outputId": "ab5aed38-3bdb-407f-aafa-94ac000ad4bc"
      },
      "execution_count": 25,
      "outputs": [
        {
          "output_type": "stream",
          "name": "stderr",
          "text": [
            "<ipython-input-25-59fe4d89c0ce>:13: SettingWithCopyWarning: \n",
            "A value is trying to be set on a copy of a slice from a DataFrame\n",
            "\n",
            "See the caveats in the documentation: https://pandas.pydata.org/pandas-docs/stable/user_guide/indexing.html#returning-a-view-versus-a-copy\n",
            "  clean_step_2_1_tweetit_db_df.sort_values(by = 'tweetid', inplace=True)\n"
          ]
        },
        {
          "output_type": "execute_result",
          "data": {
            "text/plain": [
              "                            text_without_hashtag_version  \\\n",
              "10872  police investigating after an e-bike collided ...   \n",
              "9066   investigators say a fatal virgin galactic spac...   \n",
              "9076   investigators say a fatal virgin galactic spac...   \n",
              "9083   investigators say a fatal virgin galactic spac...   \n",
              "9048   investigators say a fatal virgin galactic spac...   \n",
              "1962   schools in western uganda still burning down b...   \n",
              "9047   virgin galactic crash: early unlocking of brak...   \n",
              "9065   virgin galactic crash: early unlocking of brak...   \n",
              "9049   investigators rule catastrophic structural fai...   \n",
              "9089   ntsb: virgin galactic crash caused by structur...   \n",
              "9055   <user>  mega mood swing on a 24 hr schedule. i...   \n",
              "1439   idgaf who tough or who from canada and who fro...   \n",
              "2216   the chemical brothers to play the armory in sf...   \n",
              "1938   forestservice : rt dhsscitech: run into burnin...   \n",
              "1941   <user> not upset with a rally upset with burni...   \n",
              "868    fedex no longer willing to transport research ...   \n",
              "1965   'i never understood guys who wanted to run int...   \n",
              "1469   we need to stop paying attention to <user> bod...   \n",
              "869    fedex no longer to transport bioterror germs i...   \n",
              "840    fedex to stop transporting bioterror germs aft...   \n",
              "\n",
              "                                                    text  \n",
              "10872  Police investigating after an e-bike collided ...  \n",
              "9066   Investigators say a fatal Virgin Galactic spac...  \n",
              "9076   #BBCLive Investigators say a fatal Virgin Gala...  \n",
              "9083   Investigators say a fatal Virgin Galactic spac...  \n",
              "9048   Investigators say a fatal Virgin Galactic spac...  \n",
              "1962   Schools in Western Uganda still Burning down B...  \n",
              "9047   Virgin galactic crash: early unlocking of brak...  \n",
              "9065   Virgin galactic crash: early unlocking of brak...  \n",
              "9049   Investigators rule catastrophic structural fai...  \n",
              "9089   NTSB: Virgin Galactic crash caused by structur...  \n",
              "9055   @SirTitan45  Mega mood swing on a 24 hr schedu...  \n",
              "1439   Idgaf who tough or who from Canada and who fro...  \n",
              "2216   THE CHEMICAL BROTHERS to play The Armory in SF...  \n",
              "1938   forestservice : RT dhsscitech: #Firefighters r...  \n",
              "1941   @themagickidraps not upset with a rally upset ...  \n",
              "868    #BreakingNews http://t.co/gAN14PW9TG FedEx no ...  \n",
              "1965   'i never understood guys who wanted to run int...  \n",
              "1469   We need to stop paying attention to @drizzy bo...  \n",
              "869    FedEx no longer to transport bioterror germs i...  \n",
              "840    FedEx to stop transporting bioterror germs aft...  "
            ],
            "text/html": [
              "\n",
              "  <div id=\"df-df45d2ee-de39-4556-863f-70564afe3fcd\">\n",
              "    <div class=\"colab-df-container\">\n",
              "      <div>\n",
              "<style scoped>\n",
              "    .dataframe tbody tr th:only-of-type {\n",
              "        vertical-align: middle;\n",
              "    }\n",
              "\n",
              "    .dataframe tbody tr th {\n",
              "        vertical-align: top;\n",
              "    }\n",
              "\n",
              "    .dataframe thead th {\n",
              "        text-align: right;\n",
              "    }\n",
              "</style>\n",
              "<table border=\"1\" class=\"dataframe\">\n",
              "  <thead>\n",
              "    <tr style=\"text-align: right;\">\n",
              "      <th></th>\n",
              "      <th>text_without_hashtag_version</th>\n",
              "      <th>text</th>\n",
              "    </tr>\n",
              "  </thead>\n",
              "  <tbody>\n",
              "    <tr>\n",
              "      <th>10872</th>\n",
              "      <td>police investigating after an e-bike collided ...</td>\n",
              "      <td>Police investigating after an e-bike collided ...</td>\n",
              "    </tr>\n",
              "    <tr>\n",
              "      <th>9066</th>\n",
              "      <td>investigators say a fatal virgin galactic spac...</td>\n",
              "      <td>Investigators say a fatal Virgin Galactic spac...</td>\n",
              "    </tr>\n",
              "    <tr>\n",
              "      <th>9076</th>\n",
              "      <td>investigators say a fatal virgin galactic spac...</td>\n",
              "      <td>#BBCLive Investigators say a fatal Virgin Gala...</td>\n",
              "    </tr>\n",
              "    <tr>\n",
              "      <th>9083</th>\n",
              "      <td>investigators say a fatal virgin galactic spac...</td>\n",
              "      <td>Investigators say a fatal Virgin Galactic spac...</td>\n",
              "    </tr>\n",
              "    <tr>\n",
              "      <th>9048</th>\n",
              "      <td>investigators say a fatal virgin galactic spac...</td>\n",
              "      <td>Investigators say a fatal Virgin Galactic spac...</td>\n",
              "    </tr>\n",
              "    <tr>\n",
              "      <th>1962</th>\n",
              "      <td>schools in western uganda still burning down b...</td>\n",
              "      <td>Schools in Western Uganda still Burning down B...</td>\n",
              "    </tr>\n",
              "    <tr>\n",
              "      <th>9047</th>\n",
              "      <td>virgin galactic crash: early unlocking of brak...</td>\n",
              "      <td>Virgin galactic crash: early unlocking of brak...</td>\n",
              "    </tr>\n",
              "    <tr>\n",
              "      <th>9065</th>\n",
              "      <td>virgin galactic crash: early unlocking of brak...</td>\n",
              "      <td>Virgin galactic crash: early unlocking of brak...</td>\n",
              "    </tr>\n",
              "    <tr>\n",
              "      <th>9049</th>\n",
              "      <td>investigators rule catastrophic structural fai...</td>\n",
              "      <td>Investigators rule catastrophic structural fai...</td>\n",
              "    </tr>\n",
              "    <tr>\n",
              "      <th>9089</th>\n",
              "      <td>ntsb: virgin galactic crash caused by structur...</td>\n",
              "      <td>NTSB: Virgin Galactic crash caused by structur...</td>\n",
              "    </tr>\n",
              "    <tr>\n",
              "      <th>9055</th>\n",
              "      <td>&lt;user&gt;  mega mood swing on a 24 hr schedule. i...</td>\n",
              "      <td>@SirTitan45  Mega mood swing on a 24 hr schedu...</td>\n",
              "    </tr>\n",
              "    <tr>\n",
              "      <th>1439</th>\n",
              "      <td>idgaf who tough or who from canada and who fro...</td>\n",
              "      <td>Idgaf who tough or who from Canada and who fro...</td>\n",
              "    </tr>\n",
              "    <tr>\n",
              "      <th>2216</th>\n",
              "      <td>the chemical brothers to play the armory in sf...</td>\n",
              "      <td>THE CHEMICAL BROTHERS to play The Armory in SF...</td>\n",
              "    </tr>\n",
              "    <tr>\n",
              "      <th>1938</th>\n",
              "      <td>forestservice : rt dhsscitech: run into burnin...</td>\n",
              "      <td>forestservice : RT dhsscitech: #Firefighters r...</td>\n",
              "    </tr>\n",
              "    <tr>\n",
              "      <th>1941</th>\n",
              "      <td>&lt;user&gt; not upset with a rally upset with burni...</td>\n",
              "      <td>@themagickidraps not upset with a rally upset ...</td>\n",
              "    </tr>\n",
              "    <tr>\n",
              "      <th>868</th>\n",
              "      <td>fedex no longer willing to transport research ...</td>\n",
              "      <td>#BreakingNews http://t.co/gAN14PW9TG FedEx no ...</td>\n",
              "    </tr>\n",
              "    <tr>\n",
              "      <th>1965</th>\n",
              "      <td>'i never understood guys who wanted to run int...</td>\n",
              "      <td>'i never understood guys who wanted to run int...</td>\n",
              "    </tr>\n",
              "    <tr>\n",
              "      <th>1469</th>\n",
              "      <td>we need to stop paying attention to &lt;user&gt; bod...</td>\n",
              "      <td>We need to stop paying attention to @drizzy bo...</td>\n",
              "    </tr>\n",
              "    <tr>\n",
              "      <th>869</th>\n",
              "      <td>fedex no longer to transport bioterror germs i...</td>\n",
              "      <td>FedEx no longer to transport bioterror germs i...</td>\n",
              "    </tr>\n",
              "    <tr>\n",
              "      <th>840</th>\n",
              "      <td>fedex to stop transporting bioterror germs aft...</td>\n",
              "      <td>FedEx to stop transporting bioterror germs aft...</td>\n",
              "    </tr>\n",
              "  </tbody>\n",
              "</table>\n",
              "</div>\n",
              "      <button class=\"colab-df-convert\" onclick=\"convertToInteractive('df-df45d2ee-de39-4556-863f-70564afe3fcd')\"\n",
              "              title=\"Convert this dataframe to an interactive table.\"\n",
              "              style=\"display:none;\">\n",
              "        \n",
              "  <svg xmlns=\"http://www.w3.org/2000/svg\" height=\"24px\"viewBox=\"0 0 24 24\"\n",
              "       width=\"24px\">\n",
              "    <path d=\"M0 0h24v24H0V0z\" fill=\"none\"/>\n",
              "    <path d=\"M18.56 5.44l.94 2.06.94-2.06 2.06-.94-2.06-.94-.94-2.06-.94 2.06-2.06.94zm-11 1L8.5 8.5l.94-2.06 2.06-.94-2.06-.94L8.5 2.5l-.94 2.06-2.06.94zm10 10l.94 2.06.94-2.06 2.06-.94-2.06-.94-.94-2.06-.94 2.06-2.06.94z\"/><path d=\"M17.41 7.96l-1.37-1.37c-.4-.4-.92-.59-1.43-.59-.52 0-1.04.2-1.43.59L10.3 9.45l-7.72 7.72c-.78.78-.78 2.05 0 2.83L4 21.41c.39.39.9.59 1.41.59.51 0 1.02-.2 1.41-.59l7.78-7.78 2.81-2.81c.8-.78.8-2.07 0-2.86zM5.41 20L4 18.59l7.72-7.72 1.47 1.35L5.41 20z\"/>\n",
              "  </svg>\n",
              "      </button>\n",
              "      \n",
              "  <style>\n",
              "    .colab-df-container {\n",
              "      display:flex;\n",
              "      flex-wrap:wrap;\n",
              "      gap: 12px;\n",
              "    }\n",
              "\n",
              "    .colab-df-convert {\n",
              "      background-color: #E8F0FE;\n",
              "      border: none;\n",
              "      border-radius: 50%;\n",
              "      cursor: pointer;\n",
              "      display: none;\n",
              "      fill: #1967D2;\n",
              "      height: 32px;\n",
              "      padding: 0 0 0 0;\n",
              "      width: 32px;\n",
              "    }\n",
              "\n",
              "    .colab-df-convert:hover {\n",
              "      background-color: #E2EBFA;\n",
              "      box-shadow: 0px 1px 2px rgba(60, 64, 67, 0.3), 0px 1px 3px 1px rgba(60, 64, 67, 0.15);\n",
              "      fill: #174EA6;\n",
              "    }\n",
              "\n",
              "    [theme=dark] .colab-df-convert {\n",
              "      background-color: #3B4455;\n",
              "      fill: #D2E3FC;\n",
              "    }\n",
              "\n",
              "    [theme=dark] .colab-df-convert:hover {\n",
              "      background-color: #434B5C;\n",
              "      box-shadow: 0px 1px 3px 1px rgba(0, 0, 0, 0.15);\n",
              "      filter: drop-shadow(0px 1px 2px rgba(0, 0, 0, 0.3));\n",
              "      fill: #FFFFFF;\n",
              "    }\n",
              "  </style>\n",
              "\n",
              "      <script>\n",
              "        const buttonEl =\n",
              "          document.querySelector('#df-df45d2ee-de39-4556-863f-70564afe3fcd button.colab-df-convert');\n",
              "        buttonEl.style.display =\n",
              "          google.colab.kernel.accessAllowed ? 'block' : 'none';\n",
              "\n",
              "        async function convertToInteractive(key) {\n",
              "          const element = document.querySelector('#df-df45d2ee-de39-4556-863f-70564afe3fcd');\n",
              "          const dataTable =\n",
              "            await google.colab.kernel.invokeFunction('convertToInteractive',\n",
              "                                                     [key], {});\n",
              "          if (!dataTable) return;\n",
              "\n",
              "          const docLinkHtml = 'Like what you see? Visit the ' +\n",
              "            '<a target=\"_blank\" href=https://colab.research.google.com/notebooks/data_table.ipynb>data table notebook</a>'\n",
              "            + ' to learn more about interactive tables.';\n",
              "          element.innerHTML = '';\n",
              "          dataTable['output_type'] = 'display_data';\n",
              "          await google.colab.output.renderOutput(dataTable, element);\n",
              "          const docLink = document.createElement('div');\n",
              "          docLink.innerHTML = docLinkHtml;\n",
              "          element.appendChild(docLink);\n",
              "        }\n",
              "      </script>\n",
              "    </div>\n",
              "  </div>\n",
              "  "
            ]
          },
          "metadata": {},
          "execution_count": 25
        }
      ]
    },
    {
      "cell_type": "markdown",
      "source": [
        "### Get the most long length version of text to cover more information."
      ],
      "metadata": {
        "id": "6UaLuB81vGPf"
      }
    },
    {
      "cell_type": "code",
      "source": [
        "def get_lenght_text(x):\n",
        "  ''' Get the lenght of words in \"text\" field'''\n",
        "  return len(x.split(\" \"))\n",
        "\n",
        "disaster_db_df[\"amount_words_in_cleaning_text\"] = disaster_db_df[\"text_without_hashtag_version\"].apply( lambda x : get_lenght_text(x))\n",
        "disaster_db_df.sort_values(by = 'amount_words_in_cleaning_text', inplace=True)\n",
        "cleaning_disaster_db_df = disaster_db_df[['choose_one', 'choose_one:confidence', 'text','tweetid', 'range_confidence', \n",
        "  'is_tweet_id_duplicated', 'amount_words_in_cleaning_text', \"text_without_hashtag_version\"]]\n",
        "cleaning_disaster_db_df.rename(columns={\n",
        "    \"text_without_hashtag_version\": \"cleaning_text\",\n",
        "    \"choose_one:confidence\": \"confidence\",\n",
        "    \"tweetid\": \"tweet_id\"\n",
        "  }, inplace=True)\n",
        "cleaning_disaster_db_df.head(15)"
      ],
      "metadata": {
        "colab": {
          "base_uri": "https://localhost:8080/",
          "height": 792
        },
        "id": "tMRTWJuavIkx",
        "outputId": "e625b2db-9bd1-4e29-f2fb-16da61ebade6"
      },
      "execution_count": 26,
      "outputs": [
        {
          "output_type": "stream",
          "name": "stderr",
          "text": [
            "<ipython-input-26-fdce3a786b39>:9: SettingWithCopyWarning: \n",
            "A value is trying to be set on a copy of a slice from a DataFrame\n",
            "\n",
            "See the caveats in the documentation: https://pandas.pydata.org/pandas-docs/stable/user_guide/indexing.html#returning-a-view-versus-a-copy\n",
            "  cleaning_disaster_db_df.rename(columns={\n"
          ]
        },
        {
          "output_type": "execute_result",
          "data": {
            "text/plain": [
              "        choose_one  confidence  \\\n",
              "9487      Relevant      0.8018   \n",
              "9490      Relevant      0.4048   \n",
              "9486  Not Relevant      1.0000   \n",
              "9482      Relevant      0.6030   \n",
              "9480      Relevant      0.6057   \n",
              "179   Not Relevant      0.5030   \n",
              "7610  Not Relevant      0.7946   \n",
              "9478  Not Relevant      0.6026   \n",
              "6168      Relevant      0.4014   \n",
              "36    Not Relevant      1.0000   \n",
              "9461      Relevant      0.8012   \n",
              "9449      Relevant      0.8036   \n",
              "7400  Not Relevant      0.7995   \n",
              "5851      Relevant      1.0000   \n",
              "9454  Not Relevant      0.5988   \n",
              "\n",
              "                                                   text      tweet_id  \\\n",
              "9487  Truth...\\nhttps://t.co/n1K5nlib9X\\n#News\\n#BBC...  6.290990e+17   \n",
              "9490  Truth...\\nhttps://t.co/4ZQrsAQrRT\\n#News\\n#BBC...  6.291010e+17   \n",
              "9486  Truth...\\nhttps://t.co/k44tL3rfMy\\n#News\\n#BBC...  6.290990e+17   \n",
              "9482  Truth...\\nhttps://t.co/p5ZIcjUdXO\\n#News\\n#BBC...  6.290990e+17   \n",
              "9480  Truth...\\nhttps://t.co/2Y4RGob7pj\\n#News\\n#BBC...  6.291010e+17   \n",
              "179                  Aftershock https://t.co/Ecy4U623nO  6.289010e+17   \n",
              "7610        #Pandemonium.iso psp http://t.co/HbpNFOAwII  6.290770e+17   \n",
              "9478  Truth...\\nhttps://t.co/Kix1j4ZyGx\\n#News\\n#BBC...  6.291010e+17   \n",
              "6168                                             hijack  6.290750e+17   \n",
              "36                                             LOOOOOOL  4.100000e+01   \n",
              "9461  Truth...\\nhttps://t.co/GLzggDjQeH\\n#News\\n#BBC...  6.290990e+17   \n",
              "9449  Truth...\\nhttps://t.co/nXS3Z1kxiD\\n#News\\n#BBC...  6.291010e+17   \n",
              "7400                                        Obliterated  6.290890e+17   \n",
              "5851  Yesterday's #hailstorm! #boston #cambridge htt...  6.290260e+17   \n",
              "9454  Truth...\\nhttps://t.co/beJfTYgJIL\\n#News\\n#BBC...  6.290990e+17   \n",
              "\n",
              "     range_confidence  is_tweet_id_duplicated  amount_words_in_cleaning_text  \\\n",
              "9487       0.75 - 0.9                    True                              1   \n",
              "9490        0.0 - 0.5                    True                              1   \n",
              "9486        0.9 - 1.0                    True                              1   \n",
              "9482       0.5 - 0.75                    True                              1   \n",
              "9480       0.5 - 0.75                    True                              1   \n",
              "179        0.5 - 0.75                   False                              1   \n",
              "7610       0.75 - 0.9                    True                              1   \n",
              "9478       0.5 - 0.75                    True                              1   \n",
              "6168        0.0 - 0.5                    True                              1   \n",
              "36          0.9 - 1.0                   False                              1   \n",
              "9461       0.75 - 0.9                    True                              1   \n",
              "9449       0.75 - 0.9                    True                              1   \n",
              "7400       0.75 - 0.9                    True                              1   \n",
              "5851        0.9 - 1.0                    True                              1   \n",
              "9454       0.5 - 0.75                    True                              1   \n",
              "\n",
              "                                          cleaning_text  \n",
              "9487  truth...\\nhttps://t.co/n1k5nlib9x\\n#news\\n#bbc...  \n",
              "9490  truth...\\nhttps://t.co/4zqrsaqrrt\\n#news\\n#bbc...  \n",
              "9486  truth...\\nhttps://t.co/k44tl3rfmy\\n#news\\n#bbc...  \n",
              "9482  truth...\\nhttps://t.co/p5zicjudxo\\n#news\\n#bbc...  \n",
              "9480  truth...\\nhttps://t.co/2y4rgob7pj\\n#news\\n#bbc...  \n",
              "179                                          aftershock  \n",
              "7610                                                psp  \n",
              "9478  truth...\\nhttps://t.co/kix1j4zygx\\n#news\\n#bbc...  \n",
              "6168                                             hijack  \n",
              "36                                             looooool  \n",
              "9461  truth...\\nhttps://t.co/glzggdjqeh\\n#news\\n#bbc...  \n",
              "9449  truth...\\nhttps://t.co/nxs3z1kxid\\n#news\\n#bbc...  \n",
              "7400                                        obliterated  \n",
              "5851                                        yesterday's  \n",
              "9454  truth...\\nhttps://t.co/bejftygjil\\n#news\\n#bbc...  "
            ],
            "text/html": [
              "\n",
              "  <div id=\"df-c6b001a4-24c5-45e9-8151-77faae711bfa\">\n",
              "    <div class=\"colab-df-container\">\n",
              "      <div>\n",
              "<style scoped>\n",
              "    .dataframe tbody tr th:only-of-type {\n",
              "        vertical-align: middle;\n",
              "    }\n",
              "\n",
              "    .dataframe tbody tr th {\n",
              "        vertical-align: top;\n",
              "    }\n",
              "\n",
              "    .dataframe thead th {\n",
              "        text-align: right;\n",
              "    }\n",
              "</style>\n",
              "<table border=\"1\" class=\"dataframe\">\n",
              "  <thead>\n",
              "    <tr style=\"text-align: right;\">\n",
              "      <th></th>\n",
              "      <th>choose_one</th>\n",
              "      <th>confidence</th>\n",
              "      <th>text</th>\n",
              "      <th>tweet_id</th>\n",
              "      <th>range_confidence</th>\n",
              "      <th>is_tweet_id_duplicated</th>\n",
              "      <th>amount_words_in_cleaning_text</th>\n",
              "      <th>cleaning_text</th>\n",
              "    </tr>\n",
              "  </thead>\n",
              "  <tbody>\n",
              "    <tr>\n",
              "      <th>9487</th>\n",
              "      <td>Relevant</td>\n",
              "      <td>0.8018</td>\n",
              "      <td>Truth...\\nhttps://t.co/n1K5nlib9X\\n#News\\n#BBC...</td>\n",
              "      <td>6.290990e+17</td>\n",
              "      <td>0.75 - 0.9</td>\n",
              "      <td>True</td>\n",
              "      <td>1</td>\n",
              "      <td>truth...\\nhttps://t.co/n1k5nlib9x\\n#news\\n#bbc...</td>\n",
              "    </tr>\n",
              "    <tr>\n",
              "      <th>9490</th>\n",
              "      <td>Relevant</td>\n",
              "      <td>0.4048</td>\n",
              "      <td>Truth...\\nhttps://t.co/4ZQrsAQrRT\\n#News\\n#BBC...</td>\n",
              "      <td>6.291010e+17</td>\n",
              "      <td>0.0 - 0.5</td>\n",
              "      <td>True</td>\n",
              "      <td>1</td>\n",
              "      <td>truth...\\nhttps://t.co/4zqrsaqrrt\\n#news\\n#bbc...</td>\n",
              "    </tr>\n",
              "    <tr>\n",
              "      <th>9486</th>\n",
              "      <td>Not Relevant</td>\n",
              "      <td>1.0000</td>\n",
              "      <td>Truth...\\nhttps://t.co/k44tL3rfMy\\n#News\\n#BBC...</td>\n",
              "      <td>6.290990e+17</td>\n",
              "      <td>0.9 - 1.0</td>\n",
              "      <td>True</td>\n",
              "      <td>1</td>\n",
              "      <td>truth...\\nhttps://t.co/k44tl3rfmy\\n#news\\n#bbc...</td>\n",
              "    </tr>\n",
              "    <tr>\n",
              "      <th>9482</th>\n",
              "      <td>Relevant</td>\n",
              "      <td>0.6030</td>\n",
              "      <td>Truth...\\nhttps://t.co/p5ZIcjUdXO\\n#News\\n#BBC...</td>\n",
              "      <td>6.290990e+17</td>\n",
              "      <td>0.5 - 0.75</td>\n",
              "      <td>True</td>\n",
              "      <td>1</td>\n",
              "      <td>truth...\\nhttps://t.co/p5zicjudxo\\n#news\\n#bbc...</td>\n",
              "    </tr>\n",
              "    <tr>\n",
              "      <th>9480</th>\n",
              "      <td>Relevant</td>\n",
              "      <td>0.6057</td>\n",
              "      <td>Truth...\\nhttps://t.co/2Y4RGob7pj\\n#News\\n#BBC...</td>\n",
              "      <td>6.291010e+17</td>\n",
              "      <td>0.5 - 0.75</td>\n",
              "      <td>True</td>\n",
              "      <td>1</td>\n",
              "      <td>truth...\\nhttps://t.co/2y4rgob7pj\\n#news\\n#bbc...</td>\n",
              "    </tr>\n",
              "    <tr>\n",
              "      <th>179</th>\n",
              "      <td>Not Relevant</td>\n",
              "      <td>0.5030</td>\n",
              "      <td>Aftershock https://t.co/Ecy4U623nO</td>\n",
              "      <td>6.289010e+17</td>\n",
              "      <td>0.5 - 0.75</td>\n",
              "      <td>False</td>\n",
              "      <td>1</td>\n",
              "      <td>aftershock</td>\n",
              "    </tr>\n",
              "    <tr>\n",
              "      <th>7610</th>\n",
              "      <td>Not Relevant</td>\n",
              "      <td>0.7946</td>\n",
              "      <td>#Pandemonium.iso psp http://t.co/HbpNFOAwII</td>\n",
              "      <td>6.290770e+17</td>\n",
              "      <td>0.75 - 0.9</td>\n",
              "      <td>True</td>\n",
              "      <td>1</td>\n",
              "      <td>psp</td>\n",
              "    </tr>\n",
              "    <tr>\n",
              "      <th>9478</th>\n",
              "      <td>Not Relevant</td>\n",
              "      <td>0.6026</td>\n",
              "      <td>Truth...\\nhttps://t.co/Kix1j4ZyGx\\n#News\\n#BBC...</td>\n",
              "      <td>6.291010e+17</td>\n",
              "      <td>0.5 - 0.75</td>\n",
              "      <td>True</td>\n",
              "      <td>1</td>\n",
              "      <td>truth...\\nhttps://t.co/kix1j4zygx\\n#news\\n#bbc...</td>\n",
              "    </tr>\n",
              "    <tr>\n",
              "      <th>6168</th>\n",
              "      <td>Relevant</td>\n",
              "      <td>0.4014</td>\n",
              "      <td>hijack</td>\n",
              "      <td>6.290750e+17</td>\n",
              "      <td>0.0 - 0.5</td>\n",
              "      <td>True</td>\n",
              "      <td>1</td>\n",
              "      <td>hijack</td>\n",
              "    </tr>\n",
              "    <tr>\n",
              "      <th>36</th>\n",
              "      <td>Not Relevant</td>\n",
              "      <td>1.0000</td>\n",
              "      <td>LOOOOOOL</td>\n",
              "      <td>4.100000e+01</td>\n",
              "      <td>0.9 - 1.0</td>\n",
              "      <td>False</td>\n",
              "      <td>1</td>\n",
              "      <td>looooool</td>\n",
              "    </tr>\n",
              "    <tr>\n",
              "      <th>9461</th>\n",
              "      <td>Relevant</td>\n",
              "      <td>0.8012</td>\n",
              "      <td>Truth...\\nhttps://t.co/GLzggDjQeH\\n#News\\n#BBC...</td>\n",
              "      <td>6.290990e+17</td>\n",
              "      <td>0.75 - 0.9</td>\n",
              "      <td>True</td>\n",
              "      <td>1</td>\n",
              "      <td>truth...\\nhttps://t.co/glzggdjqeh\\n#news\\n#bbc...</td>\n",
              "    </tr>\n",
              "    <tr>\n",
              "      <th>9449</th>\n",
              "      <td>Relevant</td>\n",
              "      <td>0.8036</td>\n",
              "      <td>Truth...\\nhttps://t.co/nXS3Z1kxiD\\n#News\\n#BBC...</td>\n",
              "      <td>6.291010e+17</td>\n",
              "      <td>0.75 - 0.9</td>\n",
              "      <td>True</td>\n",
              "      <td>1</td>\n",
              "      <td>truth...\\nhttps://t.co/nxs3z1kxid\\n#news\\n#bbc...</td>\n",
              "    </tr>\n",
              "    <tr>\n",
              "      <th>7400</th>\n",
              "      <td>Not Relevant</td>\n",
              "      <td>0.7995</td>\n",
              "      <td>Obliterated</td>\n",
              "      <td>6.290890e+17</td>\n",
              "      <td>0.75 - 0.9</td>\n",
              "      <td>True</td>\n",
              "      <td>1</td>\n",
              "      <td>obliterated</td>\n",
              "    </tr>\n",
              "    <tr>\n",
              "      <th>5851</th>\n",
              "      <td>Relevant</td>\n",
              "      <td>1.0000</td>\n",
              "      <td>Yesterday's #hailstorm! #boston #cambridge htt...</td>\n",
              "      <td>6.290260e+17</td>\n",
              "      <td>0.9 - 1.0</td>\n",
              "      <td>True</td>\n",
              "      <td>1</td>\n",
              "      <td>yesterday's</td>\n",
              "    </tr>\n",
              "    <tr>\n",
              "      <th>9454</th>\n",
              "      <td>Not Relevant</td>\n",
              "      <td>0.5988</td>\n",
              "      <td>Truth...\\nhttps://t.co/beJfTYgJIL\\n#News\\n#BBC...</td>\n",
              "      <td>6.290990e+17</td>\n",
              "      <td>0.5 - 0.75</td>\n",
              "      <td>True</td>\n",
              "      <td>1</td>\n",
              "      <td>truth...\\nhttps://t.co/bejftygjil\\n#news\\n#bbc...</td>\n",
              "    </tr>\n",
              "  </tbody>\n",
              "</table>\n",
              "</div>\n",
              "      <button class=\"colab-df-convert\" onclick=\"convertToInteractive('df-c6b001a4-24c5-45e9-8151-77faae711bfa')\"\n",
              "              title=\"Convert this dataframe to an interactive table.\"\n",
              "              style=\"display:none;\">\n",
              "        \n",
              "  <svg xmlns=\"http://www.w3.org/2000/svg\" height=\"24px\"viewBox=\"0 0 24 24\"\n",
              "       width=\"24px\">\n",
              "    <path d=\"M0 0h24v24H0V0z\" fill=\"none\"/>\n",
              "    <path d=\"M18.56 5.44l.94 2.06.94-2.06 2.06-.94-2.06-.94-.94-2.06-.94 2.06-2.06.94zm-11 1L8.5 8.5l.94-2.06 2.06-.94-2.06-.94L8.5 2.5l-.94 2.06-2.06.94zm10 10l.94 2.06.94-2.06 2.06-.94-2.06-.94-.94-2.06-.94 2.06-2.06.94z\"/><path d=\"M17.41 7.96l-1.37-1.37c-.4-.4-.92-.59-1.43-.59-.52 0-1.04.2-1.43.59L10.3 9.45l-7.72 7.72c-.78.78-.78 2.05 0 2.83L4 21.41c.39.39.9.59 1.41.59.51 0 1.02-.2 1.41-.59l7.78-7.78 2.81-2.81c.8-.78.8-2.07 0-2.86zM5.41 20L4 18.59l7.72-7.72 1.47 1.35L5.41 20z\"/>\n",
              "  </svg>\n",
              "      </button>\n",
              "      \n",
              "  <style>\n",
              "    .colab-df-container {\n",
              "      display:flex;\n",
              "      flex-wrap:wrap;\n",
              "      gap: 12px;\n",
              "    }\n",
              "\n",
              "    .colab-df-convert {\n",
              "      background-color: #E8F0FE;\n",
              "      border: none;\n",
              "      border-radius: 50%;\n",
              "      cursor: pointer;\n",
              "      display: none;\n",
              "      fill: #1967D2;\n",
              "      height: 32px;\n",
              "      padding: 0 0 0 0;\n",
              "      width: 32px;\n",
              "    }\n",
              "\n",
              "    .colab-df-convert:hover {\n",
              "      background-color: #E2EBFA;\n",
              "      box-shadow: 0px 1px 2px rgba(60, 64, 67, 0.3), 0px 1px 3px 1px rgba(60, 64, 67, 0.15);\n",
              "      fill: #174EA6;\n",
              "    }\n",
              "\n",
              "    [theme=dark] .colab-df-convert {\n",
              "      background-color: #3B4455;\n",
              "      fill: #D2E3FC;\n",
              "    }\n",
              "\n",
              "    [theme=dark] .colab-df-convert:hover {\n",
              "      background-color: #434B5C;\n",
              "      box-shadow: 0px 1px 3px 1px rgba(0, 0, 0, 0.15);\n",
              "      filter: drop-shadow(0px 1px 2px rgba(0, 0, 0, 0.3));\n",
              "      fill: #FFFFFF;\n",
              "    }\n",
              "  </style>\n",
              "\n",
              "      <script>\n",
              "        const buttonEl =\n",
              "          document.querySelector('#df-c6b001a4-24c5-45e9-8151-77faae711bfa button.colab-df-convert');\n",
              "        buttonEl.style.display =\n",
              "          google.colab.kernel.accessAllowed ? 'block' : 'none';\n",
              "\n",
              "        async function convertToInteractive(key) {\n",
              "          const element = document.querySelector('#df-c6b001a4-24c5-45e9-8151-77faae711bfa');\n",
              "          const dataTable =\n",
              "            await google.colab.kernel.invokeFunction('convertToInteractive',\n",
              "                                                     [key], {});\n",
              "          if (!dataTable) return;\n",
              "\n",
              "          const docLinkHtml = 'Like what you see? Visit the ' +\n",
              "            '<a target=\"_blank\" href=https://colab.research.google.com/notebooks/data_table.ipynb>data table notebook</a>'\n",
              "            + ' to learn more about interactive tables.';\n",
              "          element.innerHTML = '';\n",
              "          dataTable['output_type'] = 'display_data';\n",
              "          await google.colab.output.renderOutput(dataTable, element);\n",
              "          const docLink = document.createElement('div');\n",
              "          docLink.innerHTML = docLinkHtml;\n",
              "          element.appendChild(docLink);\n",
              "        }\n",
              "      </script>\n",
              "    </div>\n",
              "  </div>\n",
              "  "
            ]
          },
          "metadata": {},
          "execution_count": 26
        }
      ]
    },
    {
      "cell_type": "code",
      "source": [
        "cleaning_disaster_db_df.sort_values(\n",
        "    by=[\"cleaning_text\", \"confidence\", \"amount_words_in_cleaning_text\"],\n",
        "    ascending = False, \n",
        "    inplace=True\n",
        "  )\n",
        "cleaning_disaster_db_df.head(10)\n"
      ],
      "metadata": {
        "colab": {
          "base_uri": "https://localhost:8080/",
          "height": 1000
        },
        "id": "yzPjjAk30eef",
        "outputId": "d21eaaaa-7d05-41fc-cdac-47b358ad278c"
      },
      "execution_count": 27,
      "outputs": [
        {
          "output_type": "stream",
          "name": "stderr",
          "text": [
            "<ipython-input-27-aaca77229732>:1: SettingWithCopyWarning: \n",
            "A value is trying to be set on a copy of a slice from a DataFrame\n",
            "\n",
            "See the caveats in the documentation: https://pandas.pydata.org/pandas-docs/stable/user_guide/indexing.html#returning-a-view-versus-a-copy\n",
            "  cleaning_disaster_db_df.sort_values(\n"
          ]
        },
        {
          "output_type": "execute_result",
          "data": {
            "text/plain": [
              "        choose_one  confidence  \\\n",
              "1394  Not Relevant      1.0000   \n",
              "9663  Not Relevant      0.8006   \n",
              "9694      Relevant      0.6006   \n",
              "2351  Not Relevant      0.6018   \n",
              "4006      Relevant      1.0000   \n",
              "1414  Not Relevant      1.0000   \n",
              "5410      Relevant      1.0000   \n",
              "1416  Not Relevant      1.0000   \n",
              "5420      Relevant      1.0000   \n",
              "8990      Relevant      0.6027   \n",
              "\n",
              "                                                   text      tweet_id  \\\n",
              "1394  å€} New Ladies Shoulder Tote #Handbag Faux Lea...  6.290670e+17   \n",
              "9663  #TornadoGiveaway åÊ #thebookclub åÊ Join in!! ...  6.291100e+17   \n",
              "9694  #TornadoGiveaway åÊ #thebookclub åÊ Join in!! ...  6.291100e+17   \n",
              "2351  åÈMGN-AFRICAåš pin:263789F4 åÈ Correction: Ten...  6.293480e+17   \n",
              "4006  å¬'Only the sea knows how many are dead' @MSF_...  6.290910e+17   \n",
              "1414  å_? New Ladies Shoulder Tote #Handbag Faux Lea...  6.290490e+17   \n",
              "5410  #NJTurnpike å_ #NJTurnpike Reopens Hours After...  6.290920e+17   \n",
              "1416  ÛŒ? New Ladies Shoulder Tote #Handbag Faux Le...  6.290330e+17   \n",
              "5420  Û÷We Can HelpÛª Says Denver Firefighter Work...  6.290920e+17   \n",
              "8990  Û÷SexistÛª peer review causes storm online h...  6.293600e+17   \n",
              "\n",
              "     range_confidence  is_tweet_id_duplicated  amount_words_in_cleaning_text  \\\n",
              "1394        0.9 - 1.0                    True                             14   \n",
              "9663       0.75 - 0.9                    True                              4   \n",
              "9694       0.5 - 0.75                    True                              4   \n",
              "2351       0.5 - 0.75                    True                             13   \n",
              "4006        0.9 - 1.0                    True                             18   \n",
              "1414        0.9 - 1.0                    True                             12   \n",
              "5410        0.9 - 1.0                    True                              7   \n",
              "1416        0.9 - 1.0                    True                             12   \n",
              "5420        0.9 - 1.0                    True                             12   \n",
              "8990       0.5 - 0.75                    True                              8   \n",
              "\n",
              "                                          cleaning_text  \n",
              "1394  å€} new ladies shoulder tote faux leather hobo...  \n",
              "9663                                    åê åê join in!!  \n",
              "9694                                    åê åê join in!!  \n",
              "2351  åèmgn-africaåš pin:263789f4 åè correction: ten...  \n",
              "4006  å¬'only the sea knows how many are dead' <user...  \n",
              "1414  å_? new ladies shoulder tote faux leather hobo...  \n",
              "5410              å_ reopens hours after truck fire in?  \n",
              "1416  ûœ? new ladies shoulder tote faux leather hob...  \n",
              "5420  û÷we can helpûª says denver firefighter work...  \n",
              "8990  û÷sexistûª peer review causes storm online v...  "
            ],
            "text/html": [
              "\n",
              "  <div id=\"df-deef6ba4-228c-4d55-bba4-84a416a97a65\">\n",
              "    <div class=\"colab-df-container\">\n",
              "      <div>\n",
              "<style scoped>\n",
              "    .dataframe tbody tr th:only-of-type {\n",
              "        vertical-align: middle;\n",
              "    }\n",
              "\n",
              "    .dataframe tbody tr th {\n",
              "        vertical-align: top;\n",
              "    }\n",
              "\n",
              "    .dataframe thead th {\n",
              "        text-align: right;\n",
              "    }\n",
              "</style>\n",
              "<table border=\"1\" class=\"dataframe\">\n",
              "  <thead>\n",
              "    <tr style=\"text-align: right;\">\n",
              "      <th></th>\n",
              "      <th>choose_one</th>\n",
              "      <th>confidence</th>\n",
              "      <th>text</th>\n",
              "      <th>tweet_id</th>\n",
              "      <th>range_confidence</th>\n",
              "      <th>is_tweet_id_duplicated</th>\n",
              "      <th>amount_words_in_cleaning_text</th>\n",
              "      <th>cleaning_text</th>\n",
              "    </tr>\n",
              "  </thead>\n",
              "  <tbody>\n",
              "    <tr>\n",
              "      <th>1394</th>\n",
              "      <td>Not Relevant</td>\n",
              "      <td>1.0000</td>\n",
              "      <td>å€} New Ladies Shoulder Tote #Handbag Faux Lea...</td>\n",
              "      <td>6.290670e+17</td>\n",
              "      <td>0.9 - 1.0</td>\n",
              "      <td>True</td>\n",
              "      <td>14</td>\n",
              "      <td>å€} new ladies shoulder tote faux leather hobo...</td>\n",
              "    </tr>\n",
              "    <tr>\n",
              "      <th>9663</th>\n",
              "      <td>Not Relevant</td>\n",
              "      <td>0.8006</td>\n",
              "      <td>#TornadoGiveaway åÊ #thebookclub åÊ Join in!! ...</td>\n",
              "      <td>6.291100e+17</td>\n",
              "      <td>0.75 - 0.9</td>\n",
              "      <td>True</td>\n",
              "      <td>4</td>\n",
              "      <td>åê åê join in!!</td>\n",
              "    </tr>\n",
              "    <tr>\n",
              "      <th>9694</th>\n",
              "      <td>Relevant</td>\n",
              "      <td>0.6006</td>\n",
              "      <td>#TornadoGiveaway åÊ #thebookclub åÊ Join in!! ...</td>\n",
              "      <td>6.291100e+17</td>\n",
              "      <td>0.5 - 0.75</td>\n",
              "      <td>True</td>\n",
              "      <td>4</td>\n",
              "      <td>åê åê join in!!</td>\n",
              "    </tr>\n",
              "    <tr>\n",
              "      <th>2351</th>\n",
              "      <td>Not Relevant</td>\n",
              "      <td>0.6018</td>\n",
              "      <td>åÈMGN-AFRICAåš pin:263789F4 åÈ Correction: Ten...</td>\n",
              "      <td>6.293480e+17</td>\n",
              "      <td>0.5 - 0.75</td>\n",
              "      <td>True</td>\n",
              "      <td>13</td>\n",
              "      <td>åèmgn-africaåš pin:263789f4 åè correction: ten...</td>\n",
              "    </tr>\n",
              "    <tr>\n",
              "      <th>4006</th>\n",
              "      <td>Relevant</td>\n",
              "      <td>1.0000</td>\n",
              "      <td>å¬'Only the sea knows how many are dead' @MSF_...</td>\n",
              "      <td>6.290910e+17</td>\n",
              "      <td>0.9 - 1.0</td>\n",
              "      <td>True</td>\n",
              "      <td>18</td>\n",
              "      <td>å¬'only the sea knows how many are dead' &lt;user...</td>\n",
              "    </tr>\n",
              "    <tr>\n",
              "      <th>1414</th>\n",
              "      <td>Not Relevant</td>\n",
              "      <td>1.0000</td>\n",
              "      <td>å_? New Ladies Shoulder Tote #Handbag Faux Lea...</td>\n",
              "      <td>6.290490e+17</td>\n",
              "      <td>0.9 - 1.0</td>\n",
              "      <td>True</td>\n",
              "      <td>12</td>\n",
              "      <td>å_? new ladies shoulder tote faux leather hobo...</td>\n",
              "    </tr>\n",
              "    <tr>\n",
              "      <th>5410</th>\n",
              "      <td>Relevant</td>\n",
              "      <td>1.0000</td>\n",
              "      <td>#NJTurnpike å_ #NJTurnpike Reopens Hours After...</td>\n",
              "      <td>6.290920e+17</td>\n",
              "      <td>0.9 - 1.0</td>\n",
              "      <td>True</td>\n",
              "      <td>7</td>\n",
              "      <td>å_ reopens hours after truck fire in?</td>\n",
              "    </tr>\n",
              "    <tr>\n",
              "      <th>1416</th>\n",
              "      <td>Not Relevant</td>\n",
              "      <td>1.0000</td>\n",
              "      <td>ÛŒ? New Ladies Shoulder Tote #Handbag Faux Le...</td>\n",
              "      <td>6.290330e+17</td>\n",
              "      <td>0.9 - 1.0</td>\n",
              "      <td>True</td>\n",
              "      <td>12</td>\n",
              "      <td>ûœ? new ladies shoulder tote faux leather hob...</td>\n",
              "    </tr>\n",
              "    <tr>\n",
              "      <th>5420</th>\n",
              "      <td>Relevant</td>\n",
              "      <td>1.0000</td>\n",
              "      <td>Û÷We Can HelpÛª Says Denver Firefighter Work...</td>\n",
              "      <td>6.290920e+17</td>\n",
              "      <td>0.9 - 1.0</td>\n",
              "      <td>True</td>\n",
              "      <td>12</td>\n",
              "      <td>û÷we can helpûª says denver firefighter work...</td>\n",
              "    </tr>\n",
              "    <tr>\n",
              "      <th>8990</th>\n",
              "      <td>Relevant</td>\n",
              "      <td>0.6027</td>\n",
              "      <td>Û÷SexistÛª peer review causes storm online h...</td>\n",
              "      <td>6.293600e+17</td>\n",
              "      <td>0.5 - 0.75</td>\n",
              "      <td>True</td>\n",
              "      <td>8</td>\n",
              "      <td>û÷sexistûª peer review causes storm online v...</td>\n",
              "    </tr>\n",
              "  </tbody>\n",
              "</table>\n",
              "</div>\n",
              "      <button class=\"colab-df-convert\" onclick=\"convertToInteractive('df-deef6ba4-228c-4d55-bba4-84a416a97a65')\"\n",
              "              title=\"Convert this dataframe to an interactive table.\"\n",
              "              style=\"display:none;\">\n",
              "        \n",
              "  <svg xmlns=\"http://www.w3.org/2000/svg\" height=\"24px\"viewBox=\"0 0 24 24\"\n",
              "       width=\"24px\">\n",
              "    <path d=\"M0 0h24v24H0V0z\" fill=\"none\"/>\n",
              "    <path d=\"M18.56 5.44l.94 2.06.94-2.06 2.06-.94-2.06-.94-.94-2.06-.94 2.06-2.06.94zm-11 1L8.5 8.5l.94-2.06 2.06-.94-2.06-.94L8.5 2.5l-.94 2.06-2.06.94zm10 10l.94 2.06.94-2.06 2.06-.94-2.06-.94-.94-2.06-.94 2.06-2.06.94z\"/><path d=\"M17.41 7.96l-1.37-1.37c-.4-.4-.92-.59-1.43-.59-.52 0-1.04.2-1.43.59L10.3 9.45l-7.72 7.72c-.78.78-.78 2.05 0 2.83L4 21.41c.39.39.9.59 1.41.59.51 0 1.02-.2 1.41-.59l7.78-7.78 2.81-2.81c.8-.78.8-2.07 0-2.86zM5.41 20L4 18.59l7.72-7.72 1.47 1.35L5.41 20z\"/>\n",
              "  </svg>\n",
              "      </button>\n",
              "      \n",
              "  <style>\n",
              "    .colab-df-container {\n",
              "      display:flex;\n",
              "      flex-wrap:wrap;\n",
              "      gap: 12px;\n",
              "    }\n",
              "\n",
              "    .colab-df-convert {\n",
              "      background-color: #E8F0FE;\n",
              "      border: none;\n",
              "      border-radius: 50%;\n",
              "      cursor: pointer;\n",
              "      display: none;\n",
              "      fill: #1967D2;\n",
              "      height: 32px;\n",
              "      padding: 0 0 0 0;\n",
              "      width: 32px;\n",
              "    }\n",
              "\n",
              "    .colab-df-convert:hover {\n",
              "      background-color: #E2EBFA;\n",
              "      box-shadow: 0px 1px 2px rgba(60, 64, 67, 0.3), 0px 1px 3px 1px rgba(60, 64, 67, 0.15);\n",
              "      fill: #174EA6;\n",
              "    }\n",
              "\n",
              "    [theme=dark] .colab-df-convert {\n",
              "      background-color: #3B4455;\n",
              "      fill: #D2E3FC;\n",
              "    }\n",
              "\n",
              "    [theme=dark] .colab-df-convert:hover {\n",
              "      background-color: #434B5C;\n",
              "      box-shadow: 0px 1px 3px 1px rgba(0, 0, 0, 0.15);\n",
              "      filter: drop-shadow(0px 1px 2px rgba(0, 0, 0, 0.3));\n",
              "      fill: #FFFFFF;\n",
              "    }\n",
              "  </style>\n",
              "\n",
              "      <script>\n",
              "        const buttonEl =\n",
              "          document.querySelector('#df-deef6ba4-228c-4d55-bba4-84a416a97a65 button.colab-df-convert');\n",
              "        buttonEl.style.display =\n",
              "          google.colab.kernel.accessAllowed ? 'block' : 'none';\n",
              "\n",
              "        async function convertToInteractive(key) {\n",
              "          const element = document.querySelector('#df-deef6ba4-228c-4d55-bba4-84a416a97a65');\n",
              "          const dataTable =\n",
              "            await google.colab.kernel.invokeFunction('convertToInteractive',\n",
              "                                                     [key], {});\n",
              "          if (!dataTable) return;\n",
              "\n",
              "          const docLinkHtml = 'Like what you see? Visit the ' +\n",
              "            '<a target=\"_blank\" href=https://colab.research.google.com/notebooks/data_table.ipynb>data table notebook</a>'\n",
              "            + ' to learn more about interactive tables.';\n",
              "          element.innerHTML = '';\n",
              "          dataTable['output_type'] = 'display_data';\n",
              "          await google.colab.output.renderOutput(dataTable, element);\n",
              "          const docLink = document.createElement('div');\n",
              "          docLink.innerHTML = docLinkHtml;\n",
              "          element.appendChild(docLink);\n",
              "        }\n",
              "      </script>\n",
              "    </div>\n",
              "  </div>\n",
              "  "
            ]
          },
          "metadata": {},
          "execution_count": 27
        }
      ]
    },
    {
      "cell_type": "code",
      "source": [
        "print(cleaning_disaster_db_df.shape)"
      ],
      "metadata": {
        "colab": {
          "base_uri": "https://localhost:8080/"
        },
        "id": "oNkl3ct03ZhZ",
        "outputId": "c126a3a9-61b6-4315-8d86-4e29d2a5f042"
      },
      "execution_count": 28,
      "outputs": [
        {
          "output_type": "stream",
          "name": "stdout",
          "text": [
            "(10876, 8)\n"
          ]
        }
      ]
    },
    {
      "cell_type": "code",
      "source": [
        "cleaning_disaster_db_df[\"is_duplicated_cleaning_text\"] = cleaning_disaster_db_df.duplicated(subset=['cleaning_text'])\n",
        "cleaning_disaster_db_df[\"is_duplicated_cleaning_text\"].value_counts()"
      ],
      "metadata": {
        "colab": {
          "base_uri": "https://localhost:8080/"
        },
        "id": "XXyycfZ73fSI",
        "outputId": "83b17b68-9c8c-4976-87f9-9eac7b744a4d"
      },
      "execution_count": 29,
      "outputs": [
        {
          "output_type": "stream",
          "name": "stderr",
          "text": [
            "<ipython-input-29-9edba0a8448f>:1: SettingWithCopyWarning: \n",
            "A value is trying to be set on a copy of a slice from a DataFrame.\n",
            "Try using .loc[row_indexer,col_indexer] = value instead\n",
            "\n",
            "See the caveats in the documentation: https://pandas.pydata.org/pandas-docs/stable/user_guide/indexing.html#returning-a-view-versus-a-copy\n",
            "  cleaning_disaster_db_df[\"is_duplicated_cleaning_text\"] = cleaning_disaster_db_df.duplicated(subset=['cleaning_text'])\n"
          ]
        },
        {
          "output_type": "execute_result",
          "data": {
            "text/plain": [
              "False    9668\n",
              "True     1208\n",
              "Name: is_duplicated_cleaning_text, dtype: int64"
            ]
          },
          "metadata": {},
          "execution_count": 29
        }
      ]
    },
    {
      "cell_type": "code",
      "source": [
        "### WARNING: i will reduce the db to get only validated records\n",
        "cleaning_disaster_db_df = cleaning_disaster_db_df[cleaning_disaster_db_df[\"is_duplicated_cleaning_text\"] == False]\n",
        "print(cleaning_disaster_db_df.shape)"
      ],
      "metadata": {
        "colab": {
          "base_uri": "https://localhost:8080/"
        },
        "id": "DorQuLrN5KY0",
        "outputId": "2fd88e49-e9a4-479d-9cd2-8d6b7fe9a669"
      },
      "execution_count": 30,
      "outputs": [
        {
          "output_type": "stream",
          "name": "stdout",
          "text": [
            "(9668, 9)\n"
          ]
        }
      ]
    },
    {
      "cell_type": "markdown",
      "source": [
        "Great!: after the cleaning process, the DB preserves the 88.89% of original records 🥳🎉"
      ],
      "metadata": {
        "id": "uQ_vsD0E9BFM"
      }
    },
    {
      "cell_type": "markdown",
      "source": [
        "## Verify the new distribution of value and validate our ideas"
      ],
      "metadata": {
        "id": "zPWLjuH97BPi"
      }
    },
    {
      "cell_type": "code",
      "source": [
        "cleaning_disaster_db_df['range_confidence'].value_counts()"
      ],
      "metadata": {
        "colab": {
          "base_uri": "https://localhost:8080/"
        },
        "id": "WzDGNIUu7HNs",
        "outputId": "59b5aaad-168f-4569-d106-97d39cf46059"
      },
      "execution_count": 31,
      "outputs": [
        {
          "output_type": "execute_result",
          "data": {
            "text/plain": [
              "0.9 - 1.0     4498\n",
              "0.75 - 0.9    2743\n",
              "0.5 - 0.75    2306\n",
              "0.0 - 0.5      121\n",
              "Name: range_confidence, dtype: int64"
            ]
          },
          "metadata": {},
          "execution_count": 31
        }
      ]
    },
    {
      "cell_type": "markdown",
      "source": [
        "After the cleaning process, the data preserve the 66.58% of the original data like trustworthy value: that's not bad 👏. I think in first view the previous idea can be applied."
      ],
      "metadata": {
        "id": "LGWZJrfY7imE"
      }
    },
    {
      "cell_type": "code",
      "source": [
        "Relevant_group_df = cleaning_disaster_db_df[cleaning_disaster_db_df[\"choose_one\"] == \"Relevant\"]\n",
        "Relevant_group_df['range_confidence'].value_counts()"
      ],
      "metadata": {
        "colab": {
          "base_uri": "https://localhost:8080/"
        },
        "id": "qRDe8RkW74Oj",
        "outputId": "9ff7f635-376b-42a4-ac73-047989650d1e"
      },
      "execution_count": 32,
      "outputs": [
        {
          "output_type": "execute_result",
          "data": {
            "text/plain": [
              "0.9 - 1.0     1835\n",
              "0.5 - 0.75    1009\n",
              "0.75 - 0.9     995\n",
              "0.0 - 0.5       70\n",
              "Name: range_confidence, dtype: int64"
            ]
          },
          "metadata": {},
          "execution_count": 32
        }
      ]
    },
    {
      "cell_type": "code",
      "source": [
        "Relevant_group_df = cleaning_disaster_db_df[cleaning_disaster_db_df[\"choose_one\"] == \"Not Relevant\"]\n",
        "Relevant_group_df['range_confidence'].value_counts()"
      ],
      "metadata": {
        "colab": {
          "base_uri": "https://localhost:8080/"
        },
        "id": "HkzBMjDW79pK",
        "outputId": "ef454296-3a08-44b7-ae3f-87c988b0178c"
      },
      "execution_count": 33,
      "outputs": [
        {
          "output_type": "execute_result",
          "data": {
            "text/plain": [
              "0.9 - 1.0     2663\n",
              "0.75 - 0.9    1748\n",
              "0.5 - 0.75    1293\n",
              "0.0 - 0.5       41\n",
              "Name: range_confidence, dtype: int64"
            ]
          },
          "metadata": {},
          "execution_count": 33
        }
      ]
    },
    {
      "cell_type": "code",
      "source": [
        "Relevant_group_df = cleaning_disaster_db_df[cleaning_disaster_db_df[\"choose_one\"] == \"Can't Decide\"]\n",
        "Relevant_group_df['range_confidence'].value_counts()"
      ],
      "metadata": {
        "colab": {
          "base_uri": "https://localhost:8080/"
        },
        "id": "u3LPa8gB7_fR",
        "outputId": "aa01e8af-9347-41e0-9799-64c762d60269"
      },
      "execution_count": 34,
      "outputs": [
        {
          "output_type": "execute_result",
          "data": {
            "text/plain": [
              "0.0 - 0.5     10\n",
              "0.5 - 0.75     4\n",
              "Name: range_confidence, dtype: int64"
            ]
          },
          "metadata": {},
          "execution_count": 34
        }
      ]
    },
    {
      "cell_type": "markdown",
      "source": [
        "after the cleaning process; i can apply the idea to get `Can't Decide` with 2292, `Not Relevant` with 4.412 and `Relevant` with 2.843. I won't take the 0.0-0.5 range records for the `Can't Decide` value."
      ],
      "metadata": {
        "id": "ROw--8qt8cDD"
      }
    },
    {
      "cell_type": "markdown",
      "source": [
        "## Discovery and assign label\n",
        "\n",
        "The idea is checking the words, get the more representative words in label from text associated to disaster and assign it based this criteria."
      ],
      "metadata": {
        "id": "20RkT-qmBU16"
      }
    },
    {
      "cell_type": "code",
      "source": [
        "print(cleaning_disaster_db_df.columns)"
      ],
      "metadata": {
        "colab": {
          "base_uri": "https://localhost:8080/"
        },
        "id": "mn0WjEAGInOD",
        "outputId": "cd225a14-4049-4cad-ebfa-eaa1a0ab45d1"
      },
      "execution_count": 35,
      "outputs": [
        {
          "output_type": "stream",
          "name": "stdout",
          "text": [
            "Index(['choose_one', 'confidence', 'text', 'tweet_id', 'range_confidence',\n",
            "       'is_tweet_id_duplicated', 'amount_words_in_cleaning_text',\n",
            "       'cleaning_text', 'is_duplicated_cleaning_text'],\n",
            "      dtype='object')\n"
          ]
        }
      ]
    },
    {
      "cell_type": "code",
      "source": [
        "### WARNING: remove useless records\n",
        "print(cleaning_disaster_db_df.shape)\n",
        "cleaning_disaster_db_df = cleaning_disaster_db_df[cleaning_disaster_db_df['range_confidence'] != \"0.0 - 0.5\"]"
      ],
      "metadata": {
        "colab": {
          "base_uri": "https://localhost:8080/"
        },
        "id": "EYU_MN2A7VQF",
        "outputId": "daeb3263-f4c0-4c9b-c711-3463d7e94a6e"
      },
      "execution_count": 36,
      "outputs": [
        {
          "output_type": "stream",
          "name": "stdout",
          "text": [
            "(9668, 9)\n"
          ]
        }
      ]
    },
    {
      "cell_type": "code",
      "source": [
        "print(cleaning_disaster_db_df.shape)"
      ],
      "metadata": {
        "colab": {
          "base_uri": "https://localhost:8080/"
        },
        "id": "9xr9CbSi7yRZ",
        "outputId": "5f0eaa41-edd5-4c57-e38d-b966f136717d"
      },
      "execution_count": 37,
      "outputs": [
        {
          "output_type": "stream",
          "name": "stdout",
          "text": [
            "(9547, 9)\n"
          ]
        }
      ]
    },
    {
      "cell_type": "code",
      "source": [
        "cleaning_disaster_db_df[[\"choose_one\", 'range_confidence']].value_counts()"
      ],
      "metadata": {
        "colab": {
          "base_uri": "https://localhost:8080/"
        },
        "id": "qwhmvftC8XET",
        "outputId": "56d2bf89-d9d8-4d77-f11f-a24042b2ecd4"
      },
      "execution_count": 38,
      "outputs": [
        {
          "output_type": "execute_result",
          "data": {
            "text/plain": [
              "choose_one    range_confidence\n",
              "Not Relevant  0.9 - 1.0           2663\n",
              "Relevant      0.9 - 1.0           1835\n",
              "Not Relevant  0.75 - 0.9          1748\n",
              "              0.5 - 0.75          1293\n",
              "Relevant      0.5 - 0.75          1009\n",
              "              0.75 - 0.9           995\n",
              "Can't Decide  0.5 - 0.75             4\n",
              "dtype: int64"
            ]
          },
          "metadata": {},
          "execution_count": 38
        }
      ]
    },
    {
      "cell_type": "code",
      "source": [
        "def reasign_choose_one(x):\n",
        "  if x[\"range_confidence\"] == \"0.5 - 0.75\":\n",
        "    return \"Can't Decide\"\n",
        "  return x[\"choose_one\"]\n",
        "\n",
        "cleaning_disaster_db_df[\"choose_one\"] = cleaning_disaster_db_df[[\"choose_one\", 'range_confidence']].apply( lambda x : reasign_choose_one(x), axis=1)\n",
        "cleaning_disaster_db_df[[\"choose_one\", 'range_confidence']].value_counts()"
      ],
      "metadata": {
        "colab": {
          "base_uri": "https://localhost:8080/"
        },
        "id": "3a3p9Fzr-WQE",
        "outputId": "dd2d1729-1567-4b3d-b832-1622ff9b20f8"
      },
      "execution_count": 39,
      "outputs": [
        {
          "output_type": "execute_result",
          "data": {
            "text/plain": [
              "choose_one    range_confidence\n",
              "Not Relevant  0.9 - 1.0           2663\n",
              "Can't Decide  0.5 - 0.75          2306\n",
              "Relevant      0.9 - 1.0           1835\n",
              "Not Relevant  0.75 - 0.9          1748\n",
              "Relevant      0.75 - 0.9           995\n",
              "dtype: int64"
            ]
          },
          "metadata": {},
          "execution_count": 39
        }
      ]
    },
    {
      "cell_type": "code",
      "source": [
        "print(cleaning_disaster_db_df.shape)"
      ],
      "metadata": {
        "colab": {
          "base_uri": "https://localhost:8080/"
        },
        "id": "_0H37u5__WnN",
        "outputId": "9c58d72f-c9bb-4392-a345-fc2b0825a2a2"
      },
      "execution_count": 40,
      "outputs": [
        {
          "output_type": "stream",
          "name": "stdout",
          "text": [
            "(9547, 9)\n"
          ]
        }
      ]
    },
    {
      "cell_type": "code",
      "source": [
        "stop_words= ['ourselves', 'hers', 'between', 'yourself', 'but', 'again', 'there', 'about', 'once', 'during', 'out', 'very', 'having', 'with', 'they', 'own', 'an', 'be', 'some', 'for', 'do', 'its', 'yours', 'such', 'into', 'of', 'most', 'itself', 'other', 'off', 'is', 's', 'am', 'or', 'who', 'as', 'from', 'him', 'each', 'the', 'themselves', 'until', 'below', 'are', 'we', 'these', 'your', 'his', 'through', 'don', 'nor', 'me', 'were', 'her', 'more', 'himself', 'this', 'down', 'should', 'our', 'their', 'while', 'above', 'both', 'up', 'to', 'ours', 'had', 'she', 'all', 'no', 'when', 'at', 'any', 'before', 'them', 'same', 'and', 'been', 'have', 'in', 'will', 'on', 'does', 'yourselves', 'then', 'that', 'because', 'what', 'over', 'why', 'so', 'can', 'did', 'not', 'now', 'under', 'he', 'you', 'herself', 'has', 'just', 'where', 'too', 'only', 'myself', 'which', 'those', 'i', 'after', 'few', 'whom', 't', 'being', 'if', 'theirs', 'my', 'against', 'a', 'by', 'doing', 'it', 'how', 'further', 'was', 'here', 'than']\n",
        "\n",
        "def remove_stop_words(x):\n",
        "  word_list = x.split(\" \")\n",
        "  clean_words = []\n",
        "  for word in word_list:\n",
        "    if word.lower() not in stop_words:\n",
        "      clean_words.append(word.lower())\n",
        "  return \" \".join(clean_words)\n",
        "\n",
        "cleaning_disaster_db_df[\"cleaning_text_v2\"] = cleaning_disaster_db_df[\"cleaning_text\"].apply(lambda x: remove_stop_words(x))\n",
        "cleaning_disaster_db_df[[\"cleaning_text_v2\", \"cleaning_text\"]].head(10)\n"
      ],
      "metadata": {
        "colab": {
          "base_uri": "https://localhost:8080/",
          "height": 363
        },
        "id": "v6S-qlbLFyw6",
        "outputId": "c8cbcd85-b341-4e4d-d9dc-19248f501ae0"
      },
      "execution_count": 41,
      "outputs": [
        {
          "output_type": "execute_result",
          "data": {
            "text/plain": [
              "                                       cleaning_text_v2  \\\n",
              "1394  å€} new ladies shoulder tote faux leather hobo...   \n",
              "9663                                    åê åê join in!!   \n",
              "2351  åèmgn-africaåš pin:263789f4 åè correction: ten...   \n",
              "4006  å¬'only sea knows many dead' <user> last disas...   \n",
              "1414  å_? new ladies shoulder tote faux leather hobo...   \n",
              "5410                    å_ reopens hours truck fire in?   \n",
              "1416  ûœ? new ladies shoulder tote faux leather hob...   \n",
              "5420  û÷we helpûª says denver firefighter working ...   \n",
              "8990  û÷sexistûª peer review causes storm online v...   \n",
              "6293  û÷ransomwareûª holds b.c. manûªs computer f...   \n",
              "\n",
              "                                          cleaning_text  \n",
              "1394  å€} new ladies shoulder tote faux leather hobo...  \n",
              "9663                                    åê åê join in!!  \n",
              "2351  åèmgn-africaåš pin:263789f4 åè correction: ten...  \n",
              "4006  å¬'only the sea knows how many are dead' <user...  \n",
              "1414  å_? new ladies shoulder tote faux leather hobo...  \n",
              "5410              å_ reopens hours after truck fire in?  \n",
              "1416  ûœ? new ladies shoulder tote faux leather hob...  \n",
              "5420  û÷we can helpûª says denver firefighter work...  \n",
              "8990  û÷sexistûª peer review causes storm online v...  \n",
              "6293  û÷ransomwareûª holds b.c. manûªs computer f...  "
            ],
            "text/html": [
              "\n",
              "  <div id=\"df-85c3bfc2-a8db-4232-b419-f5e955855806\">\n",
              "    <div class=\"colab-df-container\">\n",
              "      <div>\n",
              "<style scoped>\n",
              "    .dataframe tbody tr th:only-of-type {\n",
              "        vertical-align: middle;\n",
              "    }\n",
              "\n",
              "    .dataframe tbody tr th {\n",
              "        vertical-align: top;\n",
              "    }\n",
              "\n",
              "    .dataframe thead th {\n",
              "        text-align: right;\n",
              "    }\n",
              "</style>\n",
              "<table border=\"1\" class=\"dataframe\">\n",
              "  <thead>\n",
              "    <tr style=\"text-align: right;\">\n",
              "      <th></th>\n",
              "      <th>cleaning_text_v2</th>\n",
              "      <th>cleaning_text</th>\n",
              "    </tr>\n",
              "  </thead>\n",
              "  <tbody>\n",
              "    <tr>\n",
              "      <th>1394</th>\n",
              "      <td>å€} new ladies shoulder tote faux leather hobo...</td>\n",
              "      <td>å€} new ladies shoulder tote faux leather hobo...</td>\n",
              "    </tr>\n",
              "    <tr>\n",
              "      <th>9663</th>\n",
              "      <td>åê åê join in!!</td>\n",
              "      <td>åê åê join in!!</td>\n",
              "    </tr>\n",
              "    <tr>\n",
              "      <th>2351</th>\n",
              "      <td>åèmgn-africaåš pin:263789f4 åè correction: ten...</td>\n",
              "      <td>åèmgn-africaåš pin:263789f4 åè correction: ten...</td>\n",
              "    </tr>\n",
              "    <tr>\n",
              "      <th>4006</th>\n",
              "      <td>å¬'only sea knows many dead' &lt;user&gt; last disas...</td>\n",
              "      <td>å¬'only the sea knows how many are dead' &lt;user...</td>\n",
              "    </tr>\n",
              "    <tr>\n",
              "      <th>1414</th>\n",
              "      <td>å_? new ladies shoulder tote faux leather hobo...</td>\n",
              "      <td>å_? new ladies shoulder tote faux leather hobo...</td>\n",
              "    </tr>\n",
              "    <tr>\n",
              "      <th>5410</th>\n",
              "      <td>å_ reopens hours truck fire in?</td>\n",
              "      <td>å_ reopens hours after truck fire in?</td>\n",
              "    </tr>\n",
              "    <tr>\n",
              "      <th>1416</th>\n",
              "      <td>ûœ? new ladies shoulder tote faux leather hob...</td>\n",
              "      <td>ûœ? new ladies shoulder tote faux leather hob...</td>\n",
              "    </tr>\n",
              "    <tr>\n",
              "      <th>5420</th>\n",
              "      <td>û÷we helpûª says denver firefighter working ...</td>\n",
              "      <td>û÷we can helpûª says denver firefighter work...</td>\n",
              "    </tr>\n",
              "    <tr>\n",
              "      <th>8990</th>\n",
              "      <td>û÷sexistûª peer review causes storm online v...</td>\n",
              "      <td>û÷sexistûª peer review causes storm online v...</td>\n",
              "    </tr>\n",
              "    <tr>\n",
              "      <th>6293</th>\n",
              "      <td>û÷ransomwareûª holds b.c. manûªs computer f...</td>\n",
              "      <td>û÷ransomwareûª holds b.c. manûªs computer f...</td>\n",
              "    </tr>\n",
              "  </tbody>\n",
              "</table>\n",
              "</div>\n",
              "      <button class=\"colab-df-convert\" onclick=\"convertToInteractive('df-85c3bfc2-a8db-4232-b419-f5e955855806')\"\n",
              "              title=\"Convert this dataframe to an interactive table.\"\n",
              "              style=\"display:none;\">\n",
              "        \n",
              "  <svg xmlns=\"http://www.w3.org/2000/svg\" height=\"24px\"viewBox=\"0 0 24 24\"\n",
              "       width=\"24px\">\n",
              "    <path d=\"M0 0h24v24H0V0z\" fill=\"none\"/>\n",
              "    <path d=\"M18.56 5.44l.94 2.06.94-2.06 2.06-.94-2.06-.94-.94-2.06-.94 2.06-2.06.94zm-11 1L8.5 8.5l.94-2.06 2.06-.94-2.06-.94L8.5 2.5l-.94 2.06-2.06.94zm10 10l.94 2.06.94-2.06 2.06-.94-2.06-.94-.94-2.06-.94 2.06-2.06.94z\"/><path d=\"M17.41 7.96l-1.37-1.37c-.4-.4-.92-.59-1.43-.59-.52 0-1.04.2-1.43.59L10.3 9.45l-7.72 7.72c-.78.78-.78 2.05 0 2.83L4 21.41c.39.39.9.59 1.41.59.51 0 1.02-.2 1.41-.59l7.78-7.78 2.81-2.81c.8-.78.8-2.07 0-2.86zM5.41 20L4 18.59l7.72-7.72 1.47 1.35L5.41 20z\"/>\n",
              "  </svg>\n",
              "      </button>\n",
              "      \n",
              "  <style>\n",
              "    .colab-df-container {\n",
              "      display:flex;\n",
              "      flex-wrap:wrap;\n",
              "      gap: 12px;\n",
              "    }\n",
              "\n",
              "    .colab-df-convert {\n",
              "      background-color: #E8F0FE;\n",
              "      border: none;\n",
              "      border-radius: 50%;\n",
              "      cursor: pointer;\n",
              "      display: none;\n",
              "      fill: #1967D2;\n",
              "      height: 32px;\n",
              "      padding: 0 0 0 0;\n",
              "      width: 32px;\n",
              "    }\n",
              "\n",
              "    .colab-df-convert:hover {\n",
              "      background-color: #E2EBFA;\n",
              "      box-shadow: 0px 1px 2px rgba(60, 64, 67, 0.3), 0px 1px 3px 1px rgba(60, 64, 67, 0.15);\n",
              "      fill: #174EA6;\n",
              "    }\n",
              "\n",
              "    [theme=dark] .colab-df-convert {\n",
              "      background-color: #3B4455;\n",
              "      fill: #D2E3FC;\n",
              "    }\n",
              "\n",
              "    [theme=dark] .colab-df-convert:hover {\n",
              "      background-color: #434B5C;\n",
              "      box-shadow: 0px 1px 3px 1px rgba(0, 0, 0, 0.15);\n",
              "      filter: drop-shadow(0px 1px 2px rgba(0, 0, 0, 0.3));\n",
              "      fill: #FFFFFF;\n",
              "    }\n",
              "  </style>\n",
              "\n",
              "      <script>\n",
              "        const buttonEl =\n",
              "          document.querySelector('#df-85c3bfc2-a8db-4232-b419-f5e955855806 button.colab-df-convert');\n",
              "        buttonEl.style.display =\n",
              "          google.colab.kernel.accessAllowed ? 'block' : 'none';\n",
              "\n",
              "        async function convertToInteractive(key) {\n",
              "          const element = document.querySelector('#df-85c3bfc2-a8db-4232-b419-f5e955855806');\n",
              "          const dataTable =\n",
              "            await google.colab.kernel.invokeFunction('convertToInteractive',\n",
              "                                                     [key], {});\n",
              "          if (!dataTable) return;\n",
              "\n",
              "          const docLinkHtml = 'Like what you see? Visit the ' +\n",
              "            '<a target=\"_blank\" href=https://colab.research.google.com/notebooks/data_table.ipynb>data table notebook</a>'\n",
              "            + ' to learn more about interactive tables.';\n",
              "          element.innerHTML = '';\n",
              "          dataTable['output_type'] = 'display_data';\n",
              "          await google.colab.output.renderOutput(dataTable, element);\n",
              "          const docLink = document.createElement('div');\n",
              "          docLink.innerHTML = docLinkHtml;\n",
              "          element.appendChild(docLink);\n",
              "        }\n",
              "      </script>\n",
              "    </div>\n",
              "  </div>\n",
              "  "
            ]
          },
          "metadata": {},
          "execution_count": 41
        }
      ]
    },
    {
      "cell_type": "code",
      "source": [
        "ranking = defaultdict(int)\n",
        "\n",
        "\n",
        "def get_repeative_word_in(ranking, x):\n",
        "  words = x.split(\" \")\n",
        "  for word in words:\n",
        "    if len(word) > 1:\n",
        "      ranking[word] += 1\n",
        "  return \" \".join(words)\n",
        "\n",
        "\n",
        "def remove_puntuactions(x):\n",
        "  return re.sub(r\"[,.;@#?!&$-:'_]+\\ *\", \" \", x)\n",
        "\n",
        "def preserve_alphanumeric_characters(x):\n",
        "  return re.sub(r'[^A-Za-z0-9 ]+', '', x)\n",
        "\n",
        "repeation_words = partial(get_repeative_word_in, ranking)\n",
        "cleaning_disaster_db_df[\"cleaning_text_v3\"] = cleaning_disaster_db_df[\"cleaning_text_v2\"].apply(\n",
        "      lambda x : remove_puntuactions(x)\n",
        "    )\n",
        "cleaning_disaster_db_df[\"cleaning_text_v3\"] = cleaning_disaster_db_df[\"cleaning_text_v2\"].apply(\n",
        "      lambda x : preserve_alphanumeric_characters(x)\n",
        "    )\n",
        "cleaning_disaster_db_df[\"cleaning_text_v3\"].apply(lambda x : repeation_words(x))\n",
        "sorted_ranking = sorted(ranking.items(), key=operator.itemgetter(1), reverse=True)\n",
        "print(sorted_ranking)"
      ],
      "metadata": {
        "colab": {
          "base_uri": "https://localhost:8080/"
        },
        "id": "7zbpxHsEMiLE",
        "outputId": "3cbeb1ad-f8df-44e2-9606-1d8544172105"
      },
      "execution_count": 42,
      "outputs": [
        {
          "output_type": "stream",
          "name": "stdout",
          "text": [
            "[('user', 3654), ('like', 465), ('im', 416), ('amp', 391), ('fire', 324), ('get', 296), ('its', 271), ('dont', 271), ('one', 264), ('new', 258), ('via', 248), ('people', 239), ('would', 196), ('emergency', 195), ('us', 194), ('video', 185), ('police', 168), ('first', 156), ('news', 156), ('got', 156), ('back', 153), ('time', 153), ('still', 152), ('know', 151), ('body', 150), ('storm', 149), ('burning', 147), ('disaster', 145), ('cant', 145), ('see', 141), ('going', 141), ('man', 138), ('day', 136), ('fires', 136), ('rt', 133), ('go', 133), ('love', 132), ('suicide', 130), ('attack', 129), ('buildings', 127), ('think', 125), ('today', 123), ('dead', 121), ('good', 121), ('two', 118), ('last', 116), ('make', 113), ('nuclear', 113), ('bomb', 112), ('crash', 111), ('life', 111), ('accident', 111), ('say', 110), ('california', 108), ('car', 108), ('need', 107), ('could', 107), ('world', 106), ('way', 106), ('want', 104), ('right', 102), ('years', 101), ('really', 98), ('even', 97), ('mass', 96), ('never', 95), ('war', 94), ('bombing', 94), ('death', 92), ('train', 92), ('help', 91), ('it', 91), ('may', 91), ('lol', 90), ('year', 89), ('youre', 88), ('killed', 88), ('home', 87), ('another', 86), ('much', 85), ('please', 84), ('watch', 84), ('collapse', 83), ('look', 83), ('army', 81), ('near', 80), ('many', 79), ('great', 79), ('work', 79), ('take', 79), ('hiroshima', 78), ('feel', 77), ('let', 77), ('the', 76), ('city', 76), ('forest', 76), ('come', 76), ('hope', 76), ('thats', 75), ('full', 75), ('ever', 75), ('school', 74), ('shit', 74), ('house', 74), ('getting', 73), ('night', 73), ('wreck', 72), ('every', 72), ('said', 71), ('god', 71), ('well', 71), ('black', 68), ('live', 68), ('water', 68), ('ass', 68), ('fear', 68), ('damage', 68), ('ive', 67), ('you', 66), ('smoke', 66), ('gonna', 66), ('also', 66), ('truck', 65), ('always', 65), ('everyone', 65), ('plan', 65), ('set', 65), ('read', 64), ('next', 64), ('state', 63), ('flames', 63), ('heat', 63), ('bad', 63), ('pm', 63), ('little', 63), ('top', 63), ('since', 62), ('bloody', 62), ('injured', 62), ('post', 62), ('family', 61), ('best', 61), ('weather', 61), ('destroyed', 61), ('looks', 61), ('survive', 61), ('stop', 61), ('fucking', 61), ('food', 61), ('wild', 61), ('natural', 61), ('coming', 60), ('fall', 60), ('someone', 59), ('hit', 59), ('bomber', 59), ('injuries', 59), ('oh', 59), ('put', 59), ('ill', 59), ('found', 59), ('says', 58), ('evacuation', 58), ('me', 58), ('times', 58), ('service', 58), ('debris', 58), ('theres', 58), ('floods', 58), ('burned', 58), ('severe', 58), ('hes', 57), ('show', 57), ('game', 57), ('call', 57), ('loud', 57), ('wildfire', 57), ('thunderstorm', 57), ('survived', 56), ('flooding', 56), ('services', 56), ('without', 56), ('summer', 56), ('2015', 56), ('old', 56), ('panic', 56), ('murder', 56), ('rain', 56), ('screaming', 56), ('liked', 56), ('around', 55), ('cause', 55), ('blood', 55), ('weapon', 55), ('destroy', 55), ('head', 55), ('failure', 54), ('flood', 54), ('thunder', 54), ('big', 54), ('face', 54), ('heard', 53), ('now', 53), ('wounded', 53), ('fuck', 53), ('responders', 53), ('lightning', 53), ('thing', 53), ('check', 53), ('end', 52), ('whole', 52), ('wind', 52), ('week', 52), ('drown', 52), ('crashed', 52), ('photo', 52), ('bags', 51), ('screamed', 51), ('made', 51), ('hot', 51), ('blown', 51), ('wave', 51), ('red', 51), ('military', 51), ('atomic', 51), ('warning', 51), ('run', 51), ('violent', 51), ('collapsed', 50), ('latest', 50), ('rescued', 50), ('ruin', 50), ('bleeding', 50), ('hail', 50), ('inundated', 49), ('trouble', 49), ('deaths', 49), ('traumatised', 49), ('electrocuted', 49), ('blew', 49), ('weapons', 49), ('trauma', 49), ('wounds', 49), ('evacuate', 49), ('oil', 49), ('white', 49), ('collided', 49), ('trapped', 49), ('hostage', 48), ('free', 48), ('survivors', 48), ('bagging', 48), ('screams', 48), ('explosion', 48), ('curfew', 48), ('twister', 48), ('crush', 48), ('county', 48), ('due', 48), ('lava', 48), ('better', 48), ('high', 47), ('went', 47), ('part', 47), ('terrorist', 47), ('collide', 47), ('keep', 47), ('thought', 47), ('bang', 47), ('missing', 47), ('lets', 47), ('out', 47), ('landslide', 47), ('catastrophe', 47), ('cross', 46), ('story', 46), ('battle', 46), ('area', 46), ('casualties', 46), ('sinkhole', 46), ('august', 46), ('girl', 46), ('exploded', 46), ('past', 46), ('must', 46), ('save', 46), ('sirens', 46), ('obliterate', 46), ('crushed', 46), ('island', 46), ('destruction', 46), ('sure', 46), ('update', 46), ('meltdown', 46), ('deluged', 46), ('cliff', 46), ('things', 46), ('real', 46), ('massacre', 46), ('injury', 46), ('least', 46), ('hazard', 45), ('demolished', 45), ('id', 45), ('heart', 45), ('dust', 45), ('apocalypse', 45), ('twitter', 45), ('didnt', 45), ('panicking', 45), ('use', 45), ('away', 45), ('up', 45), ('gets', 45), ('mosque', 45), ('whirlwind', 44), ('harm', 44), ('something', 44), ('homes', 44), ('flattened', 44), ('line', 44), ('yet', 44), ('wrecked', 44), ('annihilated', 44), ('obliterated', 44), ('tonight', 44), ('mh370', 44), ('explode', 44), ('evacuated', 44), ('drowning', 44), ('rioting', 44), ('derailed', 44), ('movie', 44), ('bag', 43), ('in', 43), ('bombed', 43), ('song', 43), ('sinking', 43), ('sunk', 43), ('trying', 43), ('desolation', 43), ('airplane', 43), ('spill', 43), ('long', 43), ('earthquake', 43), ('remember', 43), ('saudi', 43), ('70', 42), ('drought', 42), ('structural', 42), ('died', 42), ('zone', 42), ('hurricane', 42), ('far', 42), ('blast', 42), ('japan', 42), ('women', 42), ('fatal', 42), ('change', 42), ('blazing', 42), ('doesnt', 42), ('bridge', 42), ('cyclone', 42), ('fan', 42), ('detonation', 42), ('ok', 42), ('road', 41), ('power', 41), ('calgary', 41), ('mudslide', 41), ('wanna', 41), ('demolish', 41), ('deluge', 41), ('building', 41), ('hazardous', 41), ('rescue', 41), ('tell', 40), ('lot', 40), ('actually', 40), ('boat', 40), ('group', 40), ('murderer', 40), ('electrocute', 40), ('eyewitness', 40), ('hell', 40), ('obliteration', 40), ('though', 40), ('already', 40), ('tsunami', 40), ('fatalities', 40), ('kills', 40), ('saw', 40), ('ablaze', 40), ('them', 39), ('came', 39), ('phone', 39), ('drowned', 39), ('play', 39), ('believe', 39), ('shooting', 39), ('famine', 39), ('bus', 39), ('tragedy', 39), ('danger', 39), ('done', 39), ('south', 39), ('kill', 39), ('typhoon', 39), ('left', 39), ('nothing', 38), ('snowstorm', 38), ('used', 38), ('care', 38), ('demolition', 38), ('thanks', 38), ('tomorrow', 38), ('terrorism', 38), ('days', 38), ('start', 38), ('obama', 38), ('caused', 38), ('tornado', 38), ('15', 38), ('baby', 37), ('were', 37), ('catastrophic', 37), ('casualty', 37), ('boy', 37), ('air', 37), ('kids', 37), ('breaking', 37), ('yes', 37), ('families', 37), ('fatality', 37), ('northern', 37), ('upheaval', 37), ('ago', 37), ('try', 37), ('cool', 37), ('report', 37), ('issues', 37), ('riot', 37), ('blight', 37), ('stay', 37), ('possible', 37), ('seismic', 37), ('rise', 37), ('hours', 36), ('thank', 36), ('devastation', 36), ('government', 36), ('volcano', 36), ('rainstorm', 36), ('making', 36), ('media', 36), ('desolate', 36), ('pretty', 36), ('west', 36), ('chemical', 36), ('watching', 36), ('wait', 36), ('derailment', 36), ('plane', 36), ('detonate', 36), ('bc', 35), ('street', 35), ('stretcher', 35), ('security', 35), ('give', 35), ('lives', 35), ('person', 35), ('content', 35), ('pay', 35), ('guys', 35), ('music', 35), ('deal', 35), ('fun', 35), ('isnt', 35), ('arson', 35), ('die', 35), ('theyre', 35), ('migrants', 35), ('wont', 35), ('half', 35), ('suspect', 35), ('makes', 34), ('case', 34), ('omg', 34), ('hijack', 34), ('caught', 34), ('fight', 34), ('avalanche', 34), ('that', 34), ('soon', 34), ('yeah', 34), ('damn', 34), ('inside', 34), ('derail', 34), ('woman', 34), ('everything', 34), ('north', 34), ('hundreds', 34), ('displaced', 34), ('brown', 34), ('shoulder', 33), ('second', 33), ('almost', 33), ('quarantine', 33), ('might', 33), ('american', 33), ('rescuers', 33), ('st', 33), ('find', 33), ('anniversary', 33), ('aug', 33), ('crazy', 33), ('attacked', 33), ('three', 33), ('pick', 33), ('maybe', 33), ('shot', 32), ('devastated', 32), ('plans', 32), ('ambulance', 32), ('money', 32), ('armageddon', 32), ('bush', 32), ('happy', 32), ('health', 32), ('place', 32), ('refugees', 32), ('seen', 32), ('collision', 32), ('30', 32), ('windstorm', 32), ('outside', 32), ('reunion', 32), ('beautiful', 32), ('probably', 32), ('eyes', 32), ('officer', 32), ('hear', 31), ('guy', 31), ('wow', 31), ('leave', 31), ('pandemonium', 31), ('anyone', 31), ('literally', 31), ('20', 31), ('whats', 31), ('stand', 31), ('likely', 31), ('longer', 31), ('officials', 31), ('name', 30), ('move', 30), ('children', 30), ('side', 30), ('support', 30), ('river', 30), ('order', 30), ('anything', 30), ('blaze', 30), ('public', 30), ('10', 30), ('room', 30), ('huge', 30), ('reactor', 30), ('hey', 30), ('sorry', 30), ('hostages', 30), ('men', 29), ('morning', 29), ('lost', 29), ('reddit', 29), ('mom', 29), ('confirmed', 29), ('happened', 29), ('team', 29), ('iran', 29), ('engulfed', 29), ('rubble', 29), ('become', 29), ('businesses', 29), ('level', 29), ('bioterrorism', 29), ('fedex', 29), ('ball', 29), ('history', 29), ('market', 29), ('words', 29), ('hijacker', 28), ('major', 28), ('hate', 28), ('fast', 28), ('released', 28), ('quarantined', 28), ('crisis', 28), ('site', 28), ('knock', 28), ('across', 27), ('this', 27), ('green', 27), ('60', 27), ('houses', 27), ('nearby', 27), ('bring', 27), ('12', 27), ('talk', 27), ('takes', 27), ('self', 27), ('traffic', 27), ('else', 27), ('siren', 27), ('no', 27), ('blizzard', 27), ('reason', 27), ('stock', 27), ('ignition', 27), ('dog', 26), ('on', 26), ('shes', 26), ('okay', 26), ('appears', 26), ('ur', 26), ('malaysia', 26), ('outbreak', 26), ('light', 26), ('gt', 26), ('miss', 26), ('america', 26), ('space', 26), ('needs', 26), ('charged', 26), ('center', 26), ('nearly', 26), ('playing', 26), ('aint', 26), ('legionnaires', 26), ('online', 25), ('favorite', 25), ('arsonist', 25), ('young', 25), ('100', 25), ('low', 25), ('hand', 25), ('tv', 25), ('here', 25), ('comes', 25), ('taken', 25), ('wasnt', 25), ('mad', 25), ('thursday', 25), ('drake', 25), ('meek', 25), ('pic', 25), ('town', 25), ('ppl', 25), ('east', 25), ('national', 25), ('front', 25), ('running', 25), ('wake', 25), ('haha', 25), ('thousands', 25), ('rd', 25), ('hard', 25), ('13', 25), ('claims', 25), ('isis', 25), ('reports', 24), ('driving', 24), ('others', 24), ('country', 24), ('behind', 24), ('what', 24), ('memories', 24), ('enough', 24), ('book', 24), ('class', 24), ('turkey', 24), ('official', 24), ('true', 24), ('40', 24), ('wrong', 24), ('finally', 24), ('super', 24), ('india', 24), ('bioterror', 24), ('daily', 24), ('closed', 24), ('amid', 24), ('cars', 24), ('added', 24), ('large', 24), ('photos', 23), ('firefighters', 23), ('there', 23), ('feeling', 23), ('cut', 23), ('pain', 23), ('unconfirmed', 23), ('neighbours', 23), ('marks', 23), ('following', 23), ('ebay', 23), ('awesome', 23), ('child', 23), ('flight', 23), ('season', 23), ('send', 23), ('sounds', 23), ('wonder', 23), ('more', 23), ('friends', 23), ('taking', 23), ('is', 23), ('flash', 23), ('worst', 23), ('goes', 23), ('issued', 23), ('seeing', 23), ('control', 23), ('entire', 23), ('living', 23), ('australia', 23), ('star', 23), ('told', 23), ('11', 22), ('israel', 22), ('alone', 22), ('absolutely', 22), ('cake', 22), ('looking', 22), ('happen', 22), ('open', 22), ('share', 22), ('50', 22), ('win', 22), ('saying', 22), ('piece', 22), ('horrible', 22), ('turn', 22), ('wanted', 22), ('sad', 22), ('drive', 22), ('united', 22), ('break', 22), ('sleeping', 22), ('ship', 22), ('la', 22), ('heavy', 22), ('washington', 22), ('beach', 22), ('trains', 22), ('course', 22), ('soudelor', 22), ('poor', 22), ('mp', 22), ('apollo', 22), ('ross', 22), ('eye', 22), ('05', 22), ('friend', 21), ('virgin', 21), ('gun', 21), ('guess', 21), ('action', 21), ('tried', 21), ('rock', 21), ('islamic', 21), ('wreckage', 21), ('ca', 21), ('scene', 21), ('blue', 21), ('pkk', 21), ('detonated', 21), ('shows', 21), ('dad', 21), ('land', 21), ('global', 21), ('shift', 21), ('problem', 21), ('biggest', 21), ('ready', 21), ('him', 21), ('follow', 21), ('hailstorm', 21), ('safety', 21), ('70th', 21), ('moment', 21), ('soul', 21), ('view', 21), ('wall', 21), ('radio', 21), ('mop', 21), ('lab', 21), ('till', 21), ('sign', 21), ('instead', 21), ('thinking', 21), ('crews', 21), ('shape', 21), ('pile', 21), ('property', 21), ('aircraft', 21), ('michael', 21), ('causes', 20), ('four', 20), ('learn', 20), ('to', 20), ('social', 20), ('giant', 20), ('buy', 20), ('either', 20), ('party', 20), ('event', 20), ('york', 20), ('local', 20), ('again', 20), ('camp', 20), ('razed', 20), ('annihilation', 20), ('colour', 20), ('small', 20), ('cover', 20), ('climate', 20), ('19', 20), ('bigger', 20), ('tweet', 20), ('earth', 20), ('dude', 20), ('park', 20), ('early', 20), ('russian', 20), ('listen', 20), ('trust', 20), ('lady', 20), ('took', 20), ('mayhem', 20), ('killing', 20), ('british', 20), ('re', 20), ('total', 20), ('fact', 20), ('direction', 20), ('episode', 20), ('sound', 20), ('playlist', 20), ('bit', 20), ('pakistan', 20), ('affected', 20), ('join', 19), ('hijacking', 19), ('cold', 19), ('continue', 19), ('minutes', 19), ('chance', 19), ('galactic', 19), ('niggas', 19), ('youll', 19), ('gave', 19), ('all', 19), ('info', 19), ('waiting', 19), ('havent', 19), ('scared', 19), ('started', 19), ('secret', 19), ('series', 19), ('vs', 19), ('mode', 19), ('ahead', 19), ('wednesday', 19), ('middle', 19), ('offensive', 19), ('research', 19), ('ancient', 19), ('threat', 19), ('strong', 19), ('pray', 19), ('vehicle', 19), ('human', 19), ('gone', 19), ('transport', 19), ('peace', 19), ('mph', 19), ('broke', 19), ('25', 19), ('lmao', 19), ('aftershock', 19), ('centre', 19), ('interesting', 19), ('called', 19), ('members', 19), ('information', 19), ('downtown', 19), ('occurred', 19), ('bar', 19), ('theater', 19), ('reported', 19), ('cdt', 19), ('arent', 19), ('double', 19), ('ladies', 18), ('we', 18), ('working', 18), ('horror', 18), ('patience', 18), ('broken', 18), ('and', 18), ('king', 18), ('download', 18), ('close', 18), ('alarm', 18), ('china', 18), ('burn', 18), ('fans', 18), ('worse', 18), ('months', 18), ('nice', 18), ('victims', 18), ('risk', 18), ('fighting', 18), ('sun', 18), ('govt', 18), ('militants', 18), ('texas', 18), ('insurance', 18), ('build', 18), ('landing', 18), ('involving', 18), ('couple', 18), ('brooklyn', 18), ('yesterday', 18), ('spot', 18), ('brother', 18), ('mean', 18), ('account', 18), ('disease', 18), ('experts', 18), ('leather', 17), ('sea', 17), ('sick', 17), ('glad', 17), ('together', 17), ('for', 17), ('lake', 17), ('2014', 17), ('rules', 17), ('dies', 17), ('womens', 17), ('brain', 17), ('picture', 17), ('sky', 17), ('million', 17), ('sometimes', 17), ('bed', 17), ('friday', 17), ('hold', 17), ('smaug', 17), ('central', 17), ('different', 17), ('16yr', 17), ('trench', 17), ('court', 17), ('wish', 17), ('eat', 17), ('helicopter', 17), ('future', 17), ('wants', 17), ('states', 17), ('happening', 17), ('department', 17), ('bitch', 17), ('alive', 17), ('idea', 17), ('film', 17), ('angry', 17), ('beat', 17), ('walk', 17), ('pass', 17), ('short', 17), ('london', 17), ('expected', 17), ('massive', 17), ('myanmar', 17), ('heres', 17), ('business', 17), ('currently', 17), ('saved', 17), ('using', 17), ('nws', 17), ('point', 17), ('wife', 17), ('alabama', 17), ('along', 16), ('lord', 16), ('israeli', 16), ('investigators', 16), ('nigga', 16), ('bayelsa', 16), ('hasnt', 16), ('door', 16), ('youve', 16), ('internet', 16), ('too', 16), ('wtf', 16), ('youtube', 16), ('training', 16), ('career', 16), ('worlds', 16), ('teen', 16), ('worry', 16), ('suspected', 16), ('single', 16), ('2nd', 16), ('hair', 16), ('village', 16), ('feels', 16), ('ocean', 16), ('sandstorm', 16), ('strike', 16), ('weekend', 16), ('sleep', 16), ('office', 16), ('tree', 16), ('happens', 16), ('hollywood', 16), ('agree', 16), ('job', 16), ('arrested', 16), ('date', 16), ('evening', 16), ('program', 16), ('prepare', 16), ('serious', 16), ('planned', 16), ('searching', 16), ('of', 16), ('feared', 16), ('ones', 16), ('usa', 16), ('gas', 16), ('boys', 16), ('terror', 16), ('reuters', 16), ('1st', 16), ('amazing', 16), ('gtgt', 16), ('upon', 16), ('hellfire', 16), ('17', 16), ('test', 16), ('former', 16), ('invoices', 16), ('sense', 16), ('totally', 16), ('means', 16), ('emotional', 16), ('chinas', 16), ('ebola', 16), ('sensorsenso', 16), ('driver', 15), ('hospital', 15), ('watched', 15), ('jonathan', 15), ('feat', 15), ('among', 15), ('libya', 15), ('search', 15), ('ask', 15), ('ground', 15), ('escape', 15), ('walking', 15), ('when', 15), ('uk', 15), ('pool', 15), ('cat', 15), ('attacks', 15), ('nigerian', 15), ('parents', 15), ('her', 15), ('hour', 15), ('funny', 15), ('chicago', 15), ('dan', 15), ('welcome', 15), ('deep', 15), ('text', 15), ('sunday', 15), ('answer', 15), ('16', 15), ('winds', 15), ('late', 15), ('talking', 15), ('at', 15), ('character', 15), ('weve', 15), ('rn', 15), ('later', 15), ('record', 15), ('de', 15), ('loved', 15), ('todays', 15), ('em', 15), ('outrage', 15), ('football', 15), ('coast', 15), ('indian', 15), ('metro', 15), ('imagine', 15), ('played', 15), ('drink', 15), ('month', 15), ('cannot', 15), ('anthrax', 15), ('five', 15), ('ice', 15), ('population', 15), ('less', 15), ('apc', 15), ('gotta', 15), ('projected', 15), ('passengers', 15), ('cops', 14), ('giving', 14), ('sitting', 14), ('asked', 14), ('yo', 14), ('gold', 14), ('financial', 14), ('seems', 14), ('co', 14), ('company', 14), ('final', 14), ('evil', 14), ('wouldnt', 14), ('metal', 14), ('stars', 14), ('tho', 14), ('stopped', 14), ('lie', 14), ('24', 14), ('medical', 14), ('leaving', 14), ('number', 14), ('trent', 14), ('fat', 14), ('sex', 14), ('western', 14), ('stage', 14), ('mine', 14), ('link', 14), ('safe', 14), ('ave', 14), ('oklahoma', 14), ('utc20150805', 14), ('parole', 14), ('calls', 14), ('block', 14), ('udhampur', 14), ('students', 14), ('hits', 14), ('expect', 14), ('related', 14), ('soldiers', 14), ('rains', 14), ('mod', 14), ('comment', 14), ('straight', 14), ('municipal', 14), ('seriously', 14), ('france', 14), ('mind', 14), ('president', 14), ('sent', 14), ('helping', 14), ('bay', 14), ('abc', 14), ('album', 14), ('girls', 14), ('tears', 14), ('rather', 14), ('common', 14), ('games', 14), ('colorado', 14), ('falling', 14), ('cute', 14), ('setting', 14), ('dr', 14), ('600', 14), ('word', 14), ('according', 14), ('matter', 14), ('dogs', 14), ('ha', 14), ('enjoy', 13), ('richmond', 13), ('declares', 13), ('palestinian', 13), ('trump', 13), ('if', 13), ('perfect', 13), ('youth', 13), ('held', 13), ('son', 13), ('beyond', 13), ('forget', 13), ('yall', 13), ('el', 13), ('ya', 13), ('japanese', 13), ('won', 13), ('hobbit', 13), ('everywhere', 13), ('bro', 13), ('quick', 13), ('worth', 13), ('general', 13), ('ban', 13), ('begin', 13), ('completely', 13), ('seek', 13), ('rate', 13), ('birthday', 13), ('gay', 13), ('quiz', 13), ('stuff', 13), ('kinda', 13), ('terrible', 13), ('earlier', 13), ('victim', 13), ('special', 13), ('inundation', 13), ('anymore', 13), ('trees', 13), ('act', 13), ('meet', 13), ('forces', 13), ('kit', 13), ('bodies', 13), ('release', 13), ('captures', 13), ('facebook', 13), ('roosevelt', 13), ('crematoria', 13), ('forever', 13), ('continues', 13), ('residents', 13), ('understand', 13), ('complete', 13), ('taiwan', 13), ('meeting', 13), ('struck', 13), ('storms', 13), ('fukushima', 13), ('wedding', 13), ('route', 13), ('problems', 13), ('express', 13), ('false', 13), ('effect', 13), ('loving', 13), ('dropped', 13), ('feet', 13), ('prevent', 13), ('cancer', 13), ('hilarious', 13), ('floor', 13), ('community', 13), ('shots', 13), ('potential', 13), ('causing', 13), ('carrying', 13), ('question', 13), ('governor', 13), ('gunman', 13), ('tax', 13), ('press', 13), ('ashes', 13), ('holy', 13), ('response', 13), ('fine', 13), ('smh', 13), ('ships', 13), ('mishaps', 13), ('waste', 13), ('refugio', 13), ('costlier', 13), ('enugu', 13), ('abandoned', 13), ('hero', 13), ('tote', 12), ('lil', 12), ('areas', 12), ('player', 12), ('voice', 12), ('over', 12), ('saturday', 12), ('knew', 12), ('tired', 12), ('extreme', 12), ('type', 12), ('woke', 12), ('seconds', 12), ('radiation', 12), ('board', 12), ('freak', 12), ('cost', 12), ('nagasaki', 12), ('vote', 12), ('recent', 12), ('size', 12), ('starts', 12), ('ft', 12), ('version', 12), ('lucky', 12), ('vine', 12), ('catch', 12), ('shut', 12), ('rare', 12), ('aba', 12), ('july', 12), ('opening', 12), ('google', 12), ('project', 12), ('airport', 12), ('return', 12), ('civilian', 12), ('calling', 12), ('weird', 12), ('details', 12), ('runs', 12), ('time20150806', 12), ('1000', 12), ('pathogens', 12), ('salt', 12), ('updates', 12), ('leading', 12), ('bought', 12), ('repair', 12), ('provoke', 12), ('portland', 12), ('spos', 12), ('budget', 12), ('southern', 12), ('match', 12), ('travel', 12), ('bathroom', 12), ('based', 12), ('region', 12), ('policy', 12), ('lack', 12), ('quite', 12), ('coffee', 12), ('tweets', 12), ('weeks', 12), ('destroys', 12), ('bank', 12), ('standard', 12), ('shall', 12), ('john', 12), ('original', 12), ('rocky', 12), ('industry', 12), ('dc', 12), ('brought', 12), ('by', 12), ('avoid', 12), ('not', 12), ('canada', 12), ('1945', 12), ('orders', 12), ('mountain', 12), ('force', 12), ('500', 12), ('saipan', 12), ('russia', 12), ('gems', 12), ('relief', 12), ('articles', 12), ('grows', 12), ('malaysian', 12), ('guide', 12), ('germs', 12), ('sensor', 12), ('fears', 12), ('crying', 12), ('miners', 12), ('tent', 11), ('turned', 11), ('sister', 11), ('off', 11), ('coaches', 11), ('highway', 11), ('needed', 11), ('22', 11), ('units', 11), ('main', 11), ('data', 11), ('paul', 11), ('leader', 11), ('am', 11), ('ways', 11), ('protect', 11), ('authorities', 11), ('12000', 11), ('holding', 11), ('multiple', 11), ('app', 11), ('including', 11), ('round', 11), ('economic', 11), ('cnn', 11), ('911', 11), ('warnings', 11), ('shower', 11), ('streets', 11), ('updated', 11), ('crime', 11), ('civilians', 11), ('trip', 11), ('reduce', 11), ('dark', 11), ('keeps', 11), ('stream', 11), ('nyc', 11), ('supposed', 11), ('fantasy', 11), ('lead', 11), ('gop', 11), ('do', 11), ('delivers', 11), ('fully', 11), ('apply', 11), ('buses', 11), ('owner', 11), ('deadly', 11), ('minute', 11), ('squad', 11), ('heroes', 11), ('tickets', 11), ('experience', 11), ('moving', 11), ('usually', 11), ('hello', 11), ('bbc', 11), ('threatens', 11), ('capsizes', 11), ('bin', 11), ('situation', 11), ('advisory', 11), ('officers', 11), ('feed', 11), ('shouldnt', 11), ('drunk', 11), ('terrorists', 11), ('outlook', 11), ('led', 11), ('toddler', 11), ('etc', 11), ('syrian', 11), ('stories', 11), ('dangerous', 11), ('18', 11), ('system', 11), ('mini', 11), ('2013', 11), ('disco', 11), ('result', 11), ('angel', 11), ('art', 11), ('hotel', 11), ('ends', 11), ('rip', 11), ('dying', 11), ('certain', 11), ('message', 11), ('throwing', 11), ('wildfires', 11), ('changes', 11), ('mother', 11), ('box', 11), ('field', 11), ('edt', 11), ('impact', 11), ('san', 11), ('twice', 11), ('petition', 11), ('minecraft', 11), ('pres', 11), ('26', 11), ('rly', 11), ('ideas', 11), ('louis', 11), ('internally', 11), ('sit', 11), ('exploration', 11), ('fox', 11), ('honestly', 11), ('able', 11), ('nah', 11), ('hands', 11), ('guns', 11), ('fix', 11), ('hi', 11), ('bruh', 11), ('fleets', 11), ('totaling', 11), ('review', 10), ('drinking', 10), ('within', 10), ('points', 10), ('rule', 10), ('truth', 10), ('cases', 10), ('carry', 10), ('handbags', 10), ('blog', 10), ('felt', 10), ('damaged', 10), ('cream', 10), ('listening', 10), ('thoughts', 10), ('cameroon', 10), ('wwii', 10), ('navy', 10), ('lunch', 10), ('debate', 10), ('airlines', 10), ('cable', 10), ('jackson', 10), ('powerful', 10), ('concert', 10), ('costs', 10), ('onto', 10), ('players', 10), ('afternoon', 10), ('al', 10), ('percent', 10), ('burns', 10), ('miles', 10), ('society', 10), ('06', 10), ('silver', 10), ('debt', 10), ('lots', 10), ('crap', 10), ('dream', 10), ('loose', 10), ('hearing', 10), ('waves', 10), ('couldnt', 10), ('attention', 10), ('england', 10), ('excited', 10), ('trfc', 10), ('pressure', 10), ('gaza', 10), ('david', 10), ('reading', 10), ('spaceship', 10), ('picking', 10), ('migrant', 10), ('create', 10), ('hawaii', 10), ('quickly', 10), ('bombs', 10), ('baseball', 10), ('map', 10), ('confirms', 10), ('memorial', 10), ('be', 10), ('deals', 10), ('with', 10), ('humanity', 10), ('linked', 10), ('tube', 10), ('laden', 10), ('hwo', 10), ('asking', 10), ('plant', 10), ('ran', 10), ('tram', 10), ('thunderstorms', 10), ('several', 10), ('pop', 10), ('tips', 10), ('throw', 10), ('complex', 10), ('international', 10), ('built', 10), ('mill', 10), ('idk', 10), ('nation', 10), ('given', 10), ('window', 10), ('calm', 10), ('amazon', 10), ('sue', 10), ('seven', 10), ('tracks', 10), ('none', 10), ('babies', 10), ('somebody', 10), ('toll', 10), ('political', 10), ('down', 10), ('easy', 10), ('pdp', 10), ('moved', 10), ('signs', 10), ('investigating', 10), ('wars', 10), ('created', 10), ('kid', 10), ('moments', 10), ('snow', 10), ('rocks', 10), ('allows', 10), ('sadly', 10), ('tablet', 10), ('2011', 10), ('med', 10), ('reasons', 10), ('an', 10), ('exchanging', 10), ('exchange', 10), ('ended', 10), ('chile', 10), ('add', 10), ('french', 10), ('moon', 10), ('o784', 10), ('faux', 9), ('purse', 9), ('knows', 9), ('denver', 9), ('firefighter', 9), ('clothes', 9), ('seat', 9), ('lt', 9), ('so', 9), ('da', 9), ('vulnerable', 9), ('rubber', 9), ('af', 9), ('mary', 9), ('ben', 9), ('definitely', 9), ('companies', 9), ('equipment', 9), ('lies', 9), ('legion', 9), ('blow', 9), ('kept', 9), ('rising', 9), ('joe', 9), ('hughes', 9), ('rolling', 9), ('roads', 9), ('church', 9), ('charging', 9), ('arabia', 9), ('canaanites', 9), ('results', 9), ('posts', 9), ('shadow', 9), ('extremely', 9), ('audio', 9), ('bout', 9), ('maintenance', 9), ('cook', 9), ('drop', 9), ('mix', 9), ('recover', 9), ('indeed', 9), ('books', 9), ('killer', 9), ('aka', 9), ('hurt', 9), ('sending', 9), ('hat', 9), ('was', 9), ('track', 9), ('glass', 9), ('forecast', 9), ('september', 9), ('ridge', 9), ('mo', 9), ('nurse', 9), ('click', 9), ('club', 9), ('roof', 9), ('controlled', 9), ('heights', 9), ('parenthood', 9), ('dozens', 9), ('steps', 9), ('drill', 9), ('apartment', 9), ('flag', 9), ('5km', 9), ('drone', 9), ('began', 9), ('nc', 9), ('visit', 9), ('14', 9), ('philippines', 9), ('largest', 9), ('avoiding', 9), ('sport', 9), ('falls', 9), ('rest', 9), ('sets', 9), ('cities', 9), ('arrived', 9), ('animal', 9), ('scary', 9), ('judge', 9), ('sale', 9), ('spent', 9), ('list', 9), ('saving', 9), ('epicentre', 9), ('reality', 9), ('store', 9), ('zombie', 9), ('smoking', 9), ('gov', 9), ('lane', 9), ('un', 9), ('begins', 9), ('headed', 9), ('signed', 9), ('stupid', 9), ('especially', 9), ('seeks', 9), ('tension', 9), ('lose', 9), ('swear', 9), ('serial', 9), ('mark', 9), ('pipe', 9), ('page', 9), ('write', 9), ('dear', 9), ('important', 9), ('bottom', 9), ('apparently', 9), ('swallows', 9), ('opens', 9), ('incident', 9), ('29', 9), ('ah', 9), ('recognize', 9), ('are', 9), ('recount', 9), ('videos', 9), ('pls', 9), ('nd', 9), ('mess', 9), ('missed', 9), ('typhoondevastated', 9), ('afghanistan', 9), ('max', 9), ('singing', 9), ('except', 9), ('millions', 9), ('stops', 9), ('ten', 9), ('faan', 9), ('mile', 9), ('mention', 9), ('examining', 9), ('hobo', 8), ('sports', 8), ('satchel', 8), ('grow', 8), ('lights', 8), ('effects', 8), ('pieces', 8), ('ride', 8), ('simple', 8), ('queen', 8), ('tryna', 8), ('somehow', 8), ('negative', 8), ('repatriated', 8), ('father', 8), ('thomas', 8), ('animals', 8), ('campaign', 8), ('practice', 8), ('disney', 8), ('parts', 8), ('rage', 8), ('worked', 8), ('boss', 8), ('respect', 8), ('contained', 8), ('dry', 8), ('21', 8), ('staff', 8), ('cheese', 8), ('suffering', 8), ('di', 8), ('warns', 8), ('americas', 8), ('how', 8), ('bath', 8), ('stuck', 8), ('interview', 8), ('wet', 8), ('35', 8), ('fish', 8), ('fly', 8), ('regular', 8), ('leads', 8), ('damages', 8), ('tropical', 8), ('progress', 8), ('actual', 8), ('inj', 8), ('valley', 8), ('followers', 8), ('starting', 8), ('4000', 8), ('sir', 8), ('everyday', 8), ('wed', 8), ('manager', 8), ('90', 8), ('wa', 8), ('pulled', 8), ('sweet', 8), ('val', 8), ('lanes', 8), ('mediterranean', 8), ('female', 8), ('48', 8), ('fail', 8), ('sidelines', 8), ('newest', 8), ('target', 8), ('key', 8), ('lifted', 8), ('workers', 8), ('blvd', 8), ('hwy', 8), ('se', 8), ('hunters', 8), ('pak', 8), ('heads', 8), ('dutch', 8), ('bet', 8), ('dance', 8), ('machine', 8), ('turkish', 8), ('chaos', 8), ('microlight', 8), ('banned', 8), ('delays', 8), ('investigation', 8), ('powerlines', 8), ('accidents', 8), ('cinema', 8), ('price', 8), ('yrs', 8), ('treat', 8), ('conference', 8), ('feminists', 8), ('grill', 8), ('threw', 8), ('drove', 8), ('exactly', 8), ('arms', 8), ('bowl', 8), ('member', 8), ('theyll', 8), ('ears', 8), ('cigarette', 8), ('prime', 8), ('responsible', 8), ('shame', 8), ('sparked', 8), ('tongue', 8), ('muslims', 8), ('markets', 8), ('chief', 8), ('bear', 8), ('writing', 8), ('present', 8), ('cry', 8), ('sees', 8), ('fake', 8), ('legacy', 8), ('concerned', 8), ('thx', 8), ('eastern', 8), ('wash', 8), ('upset', 8), ('mins', 8), ('allow', 8), ('brings', 8), ('politics', 8), ('spirit', 8), ('cruz', 8), ('tank', 8), ('lovely', 8), ('remains', 8), ('management', 8), ('fav', 8), ('issue', 8), ('law', 8), ('steel', 8), ('recovery', 8), ('mentions', 8), ('anyway', 8), ('lmfao', 8), ('remembering', 8), ('dramatic', 8), ('kidnapped', 8), ('township', 8), ('daughter', 8), ('lt3', 8), ('jesus', 8), ('questions', 8), ('movies', 8), ('respond', 8), ('clash', 8), ('efforts', 8), ('plains', 8), ('port', 8), ('flat', 8), ('jack', 8), ('named', 8), ('nashville', 8), ('gunfire', 8), ('helps', 8), ('charger', 8), ('unless', 8), ('ep', 8), ('he', 8), ('hashtag', 8), ('energy', 8), ('hopefully', 8), ('technology', 8), ('channel', 8), ('your', 8), ('shell', 8), ('mt', 8), ('mortal', 8), ('kombat', 8), ('why', 8), ('places', 8), ('gods', 8), ('intensity', 8), ('afraid', 8), ('iraq', 8), ('illegal', 8), ('tea', 8), ('associated', 8), ('ny', 8), ('youd', 8), ('computer', 7), ('min', 7), ('who', 7), ('remain', 7), ('burst', 7), ('accused', 7), ('stone', 7), ('kaduna', 7), ('zouma', 7), ('vintage', 7), ('grass', 7), ('yr', 7), ('donate', 7), ('relationship', 7), ('wonderful', 7), ('mood', 7), ('pack', 7), ('fruit', 7), ('snacks', 7), ('promise', 7), ('bitches', 7), ('heal', 7), ('ring', 7), ('ap', 7), ('schools', 7), ('have', 7), ('xbox', 7), ('plus', 7), ('tonights', 7), ('conclusively', 7), ('shares', 7), ('putting', 7), ('motorcyclist', 7), ('revealed', 7), ('wouldve', 7), ('consider', 7), ('ii', 7), ('warcraft', 7), ('trap', 7), ('dick', 7), ('jobs', 7), ('numbers', 7), ('handle', 7), ('coach', 7), ('steve', 7), ('activated', 7), ('slightly', 7), ('levels', 7), ('cup', 7), ('silent', 7), ('robots', 7), ('whos', 7), ('smithsonian', 7), ('nobody', 7), ('skin', 7), ('documents', 7), ('americans', 7), ('riots', 7), ('toilet', 7), ('mail', 7), ('fresh', 7), ('tells', 7), ('commercial', 7), ('fair', 7), ('subject', 7), ('trailer', 7), ('florida', 7), ('charges', 7), ('wit', 7), ('pics', 7), ('estimate', 7), ('fingers', 7), ('eh', 7), ('ankle', 7), ('registered', 7), ('laughing', 7), ('prepared', 7), ('row', 7), ('dat', 7), ('owners', 7), ('epic', 7), ('league', 7), ('dreams', 7), ('chocolate', 7), ('served', 7), ('brakes', 7), ('triggered', 7), ('ukraine', 7), ('losing', 7), ('croatian', 7), ('christian', 7), ('anchorage', 7), ('path', 7), ('ugly', 7), ('windows', 7), ('va', 7), ('accidentally', 7), ('mac', 7), ('alert', 7), ('ugh', 7), ('calories', 7), ('nine', 7), ('horse', 7), ('madhya', 7), ('pradesh', 7), ('involved', 7), ('careful', 7), ('troops', 7), ('absolute', 7), ('runway', 7), ('festival', 7), ('b4', 7), ('third', 7), ('truly', 7), ('nepal', 7), ('anger', 7), ('users', 7), ('insurer', 7), ('kick', 7), ('forward', 7), ('golf', 7), ('supply', 7), ('meatloving', 7), ('rail', 7), ('ex', 7), ('fit', 7), ('stuart', 7), ('annual', 7), ('folks', 7), ('cop', 7), ('sunset', 7), ('cloud', 7), ('evidence', 7), ('thru', 7), ('address', 7), ('success', 7), ('congress', 7), ('covers', 7), ('averted', 7), ('profile', 7), ('greatest', 7), ('print', 7), ('strange', 7), ('sites', 7), ('crew', 7), ('lower', 7), ('rights', 7), ('gotten', 7), ('blocked', 7), ('cuz', 7), ('shipping', 7), ('passenger', 7), ('tennessee', 7), ('hatchet', 7), ('knee', 7), ('age', 7), ('arrest', 7), ('calif', 7), ('gang', 7), ('theatre', 7), ('violence', 7), ('often', 7), ('toward', 7), ('root', 7), ('pilot', 7), ('horses', 7), ('lamp', 7), ('fuckin', 7), ('aid', 7), ('fights', 7), ('harry', 7), ('realized', 7), ('hurts', 7), ('lion', 7), ('housing', 7), ('slow', 7), ('loss', 7), ('jeff', 7), ('italy', 7), ('posted', 7), ('1030', 7), ('dollar', 7), ('science', 7), ('legal', 7), ('adult', 7), ('salem', 7), ('sa', 7), ('mma', 7), ('rape', 7), ('just', 7), ('chicagoarea', 7), ('admits', 7), ('scheme', 7), ('homeless', 7), ('per', 7), ('mayan', 7), ('acres', 7), ('sw', 7), ('plunging', 7), ('bat', 7), ('remove', 7), ('murdered', 7), ('pipeline', 7), ('operation', 7), ('pussy', 7), ('nose', 7), ('talks', 7), ('claim', 7), ('hunt', 7), ('fuel', 7), ('fort', 7), ('grove', 7), ('2008', 7), ('but', 7), ('george', 7), ('mansehra', 7), ('phoenix', 7), ('wings', 7), ('unlocked', 7), ('nigeria', 7), ('arabian', 7), ('responds', 7), ('luck', 7), ('became', 7), ('spring', 7), ('dumb', 7), ('goal', 7), ('attempt', 7), ('reach', 7), ('extra', 7), ('relatives', 7), ('stealing', 7), ('learning', 7), ('bell', 7), ('considering', 7), ('forced', 7), ('awful', 7), ('31', 7), ('nature', 7), ('depth', 7), ('sub', 7), ('smile', 7), ('germany', 7), ('gta', 7), ('maximum', 7), ('stadium', 7), ('protest', 7), ('activates', 7), ('en', 6), ('speaker', 6), ('mr', 6), ('freedom', 6), ('my', 6), ('possibly', 6), ('becomes', 6), ('5sos', 6), ('poverty', 6), ('messenger', 6), ('surprise', 6), ('acting', 6), ('throat', 6), ('certainly', 6), ('notice', 6), ('stab', 6), ('er', 6), ('hd', 6), ('seem', 6), ('yay', 6), ('pro', 6), ('looked', 6), ('philly', 6), ('groups', 6), ('digital', 6), ('tough', 6), ('uses', 6), ('worried', 6), ('economy', 6), ('factory', 6), ('duty', 6), ('wondering', 6), ('rose', 6), ('solid', 6), ('springs', 6), ('accounts', 6), ('device', 6), ('wired', 6), ('ceo', 6), ('selfie', 6), ('sing', 6), ('africa', 6), ('warship', 6), ('decide', 6), ('trash', 6), ('blocking', 6), ('selfimage', 6), ('wholesale', 6), ('hosting', 6), ('maria', 6), ('beer', 6), ('huh', 6), ('easily', 6), ('150', 6), ('options', 6), ('stands', 6), ('gtgtgt', 6), ('tape', 6), ('plug', 6), ('fashion', 6), ('reminds', 6), ('decision', 6), ('drones', 6), ('wins', 6), ('sexual', 6), ('incredible', 6), ('secrets', 6), ('married', 6), ('exist', 6), ('brutally', 6), ('trial', 6), ('peaceful', 6), ('recommend', 6), ('offer', 6), ('senior', 6), ('survival', 6), ('disrupts', 6), ('clearly', 6), ('collapses', 6), ('speaking', 6), ('decided', 6), ('button', 6), ('theyd', 6), ('leaders', 6), ('australias', 6), ('australian', 6), ('tag', 6), ('paper', 6), ('camera', 6), ('blamed', 6), ('blows', 6), ('manchester', 6), ('veterans', 6), ('access', 6), ('bid', 6), ('officially', 6), ('utc', 6), ('collection', 6), ('armed', 6), ('uribe', 6), ('error', 6), ('senate', 6), ('ultimate', 6), ('library', 6), ('museum', 6), ('hungry', 6), ('pakistani', 6), ('study', 6), ('spending', 6), ('approaches', 6), ('aim', 6), ('minor', 6), ('university', 6), ('student', 6), ('antioch', 6), ('brazil', 6), ('75', 6), ('design', 6), ('hearts', 6), ('flew', 6), ('english', 6), ('flying', 6), ('eating', 6), ('mental', 6), ('pace', 6), ('nike', 6), ('showing', 6), ('freakiest', 6), ('speak', 6), ('entered', 6), ('residential', 6), ('theyve', 6), ('monsoon', 6), ('anti', 6), ('rear', 6), ('blame', 6), ('parking', 6), ('diss', 6), ('acts', 6), ('cast', 6), ('los', 6), ('angeles', 6), ('construction', 6), ('motorcycle', 6), ('pond', 6), ('threatening', 6), ('effort', 6), ('opened', 6), ('crack', 6), ('example', 6), ('muslim', 6), ('include', 6), ('stephen', 6), ('persons', 6), ('clear', 6), ('passed', 6), ('image', 6), ('crowd', 6), ('27', 6), ('victory', 6), ('article', 6), ('warned', 6), ('exp', 6), ('van', 6), ('bride', 6), ('anxiety', 6), ('picked', 6), ('majority', 6), ('jet', 6), ('advance', 6), ('arm', 6), ('planning', 6), ('revenues', 6), ('finnish', 6), ('leaves', 6), ('assembly', 6), ('bicyclist', 6), ('schedule', 6), ('mission', 6), ('civil', 6), ('movement', 6), ('flooded', 6), ('chinese', 6), ('wearing', 6), ('wrought', 6), ('senator', 6), ('39', 6), ('leg', 6), ('republicans', 6), ('election', 6), ('reportedly', 6), ('broad', 6), ('gusts', 6), ('solution', 6), ('ar', 6), ('upper', 6), ('status', 6), ('barn', 6), ('satellite', 6), ('statement', 6), ('1980', 6), ('delay', 6), ('til', 6), ('arrive', 6), ('abuse', 6), ('limit', 6), ('swimming', 6), ('education', 6), ('fell', 6), ('proud', 6), ('wear', 6), ('dj', 6), ('joy', 6), ('citizens', 6), ('passing', 6), ('six', 6), ('shed', 6), ('cried', 6), ('afghan', 6), ('shark', 6), ('feelings', 6), ('conditions', 6), ('shelter', 6), ('bulletin', 6), ('italian', 6), ('larger', 6), ('goals', 6), ('justin', 6), ('tour', 6), ('bells', 6), ('santa', 6), ('electrical', 6), ('aftermath', 6), ('finger', 6), ('370', 6), ('md', 6), ('bob', 6), ('interest', 6), ('disneys', 6), ('shop', 6), ('structure', 6), ('jordan', 6), ('tom', 6), ('integrity', 6), ('richard', 6), ('republican', 6), ('actions', 6), ('confirm', 6), ('marked', 6), ('minister', 6), ('discovered', 6), ('quality', 6), ('patient', 6), ('ak', 6), ('losses', 6), ('electric', 6), ('countries', 6), ('responsibility', 6), ('failed', 6), ('kind', 6), ('estimated', 6), ('rob', 6), ('battlefield', 6), ('breaks', 6), ('step', 6), ('butter', 6), ('hiring', 6), ('poll', 6), ('wheres', 6), ('oops', 6), ('raid', 6), ('3d', 6), ('letting', 6), ('olap', 6), ('counter', 6), ('emmerdale', 6), ('kings', 6), ('declaration', 6), ('2016', 6), ('recalls', 6), ('checked', 6), ('traditional', 6), ('generation', 6), ('derails', 6), ('bless', 6), ('targets', 6), ('floyds', 6), ('dinner', 6), ('materials', 6), ('defense', 6), ('pacific', 6), ('treatment', 6), ('rid', 6), ('classic', 6), ('cape', 6), ('rapidly', 6), ('mega', 6), ('manslaughter', 6), ('written', 6), ('exit', 6), ('bug', 6), ('eruption', 6), ('looting', 6), ('station', 6), ('xd', 6), ('style', 6), ('alleged', 6), ('teacher', 6), ('replace', 6), ('foxtrot', 6), ('fits', 6), ('choice', 6), ('criminals', 6), ('characters', 6), ('battling', 6), ('bedroom', 6), ('planet', 6), ('however', 6), ('33', 6), ('drawn', 6), ('individuals', 6), ('crashing', 6), ('temple', 6), ('blind', 6), ('ps', 6), ('surprised', 6), ('virus', 5), ('deck', 5), ('jam', 5), ('safer', 5), ('resulted', 5), ('laws', 5), ('chain', 5), ('wicked', 5), ('zayn', 5), ('psa', 5), ('particularly', 5), ('ages', 5), ('moves', 5), ('300', 5), ('fucked', 5), ('taste', 5), ('stabbing', 5), ('basement', 5), ('hole', 5), ('ruined', 5), ('telling', 5), ('fate', 5), ('bullets', 5), ('fill', 5), ('changed', 5), ('mid', 5), ('yesterdays', 5), ('reviews', 5), ('yea', 5), ('sean', 5), ('ordered', 5), ('universe', 5), ('minds', 5), ('asleep', 5), ('emotions', 5), ('derby', 5), ('beauty', 5), ('barely', 5), ('towards', 5), ('crackdown', 5), ('advice', 5), ('existence', 5), ('suddenly', 5), ('returns', 5), ('worker', 5), ('sink', 5), ('ops', 5), ('handbag', 5), ('gps', 5), ('girlfriend', 5), ('wo', 5), ('danielle', 5), ('robinson', 5), ('analysis', 5), ('doubt', 5), ('personal', 5), ('columbia', 5), ('werent', 5), ('iranian', 5), ('tf', 5), ('charlie', 5), ('rep', 5), ('plays', 5), ('tuesday', 5), ('darude', 5), ('bringing', 5), ('whether', 5), ('simply', 5), ('beats', 5), ('realize', 5), ('marketing', 5), ('profit', 5), ('breathe', 5), ('popular', 5), ('flip', 5), ('monster', 5), ('circus', 5), ('bunch', 5), ('mouth', 5), ('occasion', 5), ('covered', 5), ('vacation', 5), ('con', 5), ('outdoor', 5), ('crossed', 5), ('screen', 5), ('website', 5), ('warfare', 5), ('twin', 5), ('pizza', 5), ('private', 5), ('innocent', 5), ('electricity', 5), ('bees', 5), ('server', 5), ('reduced', 5), ('cali', 5), ('trolley', 5), ('th', 5), ('struggle', 5), ('spanish', 5), ('drug', 5), ('assistance', 5), ('mines', 5), ('cranes', 5), ('facts', 5), ('defend', 5), ('ferguson', 5), ('leveled', 5), ('shocked', 5), ('yahoo', 5), ('warfighting', 5), ('premature', 5), ('walmart', 5), ('vehicles', 5), ('chicken', 5), ('joel', 5), ('college', 5), ('5th', 5), ('acid', 5), ('vietnam', 5), ('tribune', 5), ('table', 5), ('spider', 5), ('usgs', 5), ('010401', 5), ('150401', 5), ('subs', 5), ('communities', 5), ('clean', 5), ('28', 5), ('133', 5), ('200', 5), ('kyle', 5), ('parker', 5), ('fighters', 5), ('log', 5), ('probe', 5), ('predicted', 5), ('captured', 5), ('hill', 5), ('jewish', 5), ('turning', 5), ('disasters', 5), ('newlyweds', 5), ('chris', 5), ('higher', 5), ('pulling', 5), ('bill', 5), ('clinton', 5), ('utter', 5), ('turnpike', 5), ('anywhere', 5), ('known', 5), ('panel', 5), ('trafford', 5), ('odeon', 5), ('i5', 5), ('sac', 5), ('av', 5), ('nj', 5), ('alberta', 5), ('playoffs', 5), ('reddits', 5), ('mama', 5), ('purchase', 5), ('6th', 5), ('slide', 5), ('internal', 5), ('prefer', 5), ('legs', 5), ('iii', 5), ('images', 5), ('thus', 5), ('lightening', 5), ('legit', 5), ('sisters', 5), ('hahaha', 5), ('rally', 5), ('increased', 5), ('apartments', 5), ('gift', 5), ('fed', 5), ('socialism', 5), ('enjoying', 5), ('asap', 5), ('racist', 5), ('roll', 5), ('democracy', 5), ('3rd', 5), ('birth', 5), ('cell', 5), ('phones', 5), ('occurs', 5), ('arsenal', 5), ('fb', 5), ('mall', 5), ('touch', 5), ('justice', 5), ('zero', 5), ('desire', 5), ('comments', 5), ('japans', 5), ('magic', 5), ('europe', 5), ('scientists', 5), ('similar', 5), ('sources', 5), ('vinyl', 5), ('45', 5), ('conflict', 5), ('increase', 5), ('throughout', 5), ('knowing', 5), ('reporting', 5), ('pitch', 5), ('christians', 5), ('activity', 5), ('quest', 5), ('bake', 5), ('faster', 5), ('messages', 5), ('dvd', 5), ('pepper', 5), ('guardian', 5), ('greeces', 5), ('grenade', 5), ('impossible', 5), ('footage', 5), ('hop', 5), ('mercy', 5), ('eden', 5), ('grief', 5), ('favourite', 5), ('broadway', 5), ('pilots', 5), ('brothers', 5), ('commit', 5), ('returned', 5), ('tune', 5), ('candy', 5), ('jeb', 5), ('loan', 5), ('kicked', 5), ('3g', 5), ('heaven', 5), ('attitude', 5), ('constantly', 5), ('affects', 5), ('our', 5), ('revolution', 5), ('born', 5), ('underway', 5), ('pov', 5), ('fantastic', 5), ('strikes', 5), ('wire', 5), ('plants', 5), ('rises', 5), ('drives', 5), ('patrick', 5), ('register', 5), ('pickens', 5), ('ne', 5), ('context', 5), ('race', 5), ('prompts', 5), ('unknown', 5), ('stockton', 5), ('surface', 5), ('sight', 5), ('planted', 5), ('shoes', 5), ('stewart', 5), ('farm', 5), ('steam', 5), ('idc', 5), ('standing', 5), ('solve', 5), ('southeast', 5), ('dirt', 5), ('pays', 5), ('desk', 5), ('james', 5), ('shoot', 5), ('walls', 5), ('someones', 5), ('snap', 5), ('doctor', 5), ('inner', 5), ('alcohol', 5), ('christmas', 5), ('soccer', 5), ('scotland', 5), ('itll', 5), ('uniform', 5), ('dare', 5), ('agreed', 5), ('slowly', 5), ('slip', 5), ('diamond', 5), ('vegas', 5), ('boot', 5), ('selfies', 5), ('yazidis', 5), ('13000', 5), ('shock', 5), ('sharp', 5), ('lowndes', 5), ('credit', 5), ('radar', 5), ('union', 5), ('threats', 5), ('option', 5), ('normal', 5), ('rocket', 5), ('jail', 5), ('concerns', 5), ('2009', 5), ('teachers', 5), ('funds', 5), ('projects', 5), ('stress', 5), ('coastal', 5), ('salvation', 5), ('pump', 5), ('lover', 5), ('wound', 5), ('runion', 5), ('tons', 5), ('insane', 5), ('souls', 5), ('cramer', 5), ('specimens', 5), ('structures', 5), ('elephant', 5), ('garden', 5), ('cleanup', 5), ('venezuela', 5), ('sb', 5), ('smells', 5), ('recently', 5), ('transit', 5), ('ray', 5), ('buried', 5), ('motor', 5), ('browser', 5), ('reminder', 5), ('remembered', 5), ('releases', 5), ('sparks', 5), ('reap', 5), ('yobe', 5), ('teams', 5), ('wrapped', 5), ('purple', 5), ('finds', 5), ('providence', 5), ('prayers', 5), ('agrees', 5), ('pants', 5), ('suffered', 5), ('pregnant', 5), ('agency', 5), ('wing', 5), ('pissed', 5), ('wood', 5), ('physical', 5), ('triple', 5), ('german', 5), ('brian', 5), ('garbage', 5), ('base', 5), ('camping', 5), ('works', 5), ('understanding', 5), ('bears', 5), ('historic', 5), ('allowed', 5), ('disgusting', 5), ('cyclist', 5), ('peanut', 5), ('journal', 5), ('email', 5), ('emotionally', 5), ('bounty', 5), ('prices', 5), ('stomach', 5), ('seasons', 5), ('everyones', 5), ('omfg', 5), ('gabon', 5), ('somalia', 5), ('usual', 5), ('blonde', 5), ('esp', 5), ('paid', 5), ('thousand', 5), ('stick', 5), ('deliver', 5), ('current', 5), ('charge', 5), ('williams', 5), ('wanting', 5), ('boom', 5), ('speed', 5), ('bands', 5), ('852015', 5), ('external', 5), ('olive', 5), ('eventually', 5), ('fired', 5), ('nyt', 5), ('met', 5), ('heading', 5), ('walked', 5), ('weight', 5), ('packs', 5), ('myself', 5), ('appreciate', 5), ('34', 5), ('notices', 5), ('doors', 5), ('edinburgh', 5), ('mexico', 5), ('prior', 5), ('mens', 5), ('loves', 5), ('lethal', 5), ('dragon', 5), ('gives', 5), ('dk', 5), ('spain', 5), ('gresham', 5), ('engine', 5), ('anybody', 5), ('plate', 5), ('washed', 5), ('then', 5), ('cancel', 5), ('previous', 5), ('committed', 5), ('sucks', 5), ('distance', 5), ('rea', 5), ('although', 5), ('blunt', 5), ('taco', 5), ('i77', 5), ('asia', 5), ('swim', 5), ('mount', 5), ('55', 5), ('jacksonville', 5), ('aware', 5), ('memory', 5), ('beckarnley', 5), ('gm', 5), ('opinion', 5), ('tries', 5), ('eb', 5), ('lorries', 5), ('suffer', 5), ('desert', 5), ('lived', 5), ('degree', 5), ('10th', 5), ('forgot', 5), ('mountains', 5), ('pc', 5), ('captain', 5), ('gameplay', 5), ('alright', 5), ('lighting', 5), ('degrees', 5), ('interested', 5), ('haunting', 5), ('grace', 5), ('fr', 5), ('willing', 5), ('epilepsy', 5), ('tr', 5), ('utterly', 5), ('hoax', 5), ('detectado', 5), ('jst', 5), ('discovery', 5), ('bargain', 5), ('specially', 5), ('800', 5), ('autistic', 5), ('beyonce', 5), ('charles', 5), ('olympic', 5), ('auth', 5), ('crashes', 5), ('103', 5), ('atmosphere', 5), ('bio', 5), ('apocalyptic', 5), ('ability', 5), ('btw', 5), ('flags', 5), ('correction', 4), ('only', 4), ('other', 4), ('recall', 4), ('95', 4), ('nightmare', 4), ('shocking', 4), ('famous', 4), ('architect', 4), ('stacey', 4), ('johnson', 4), ('follows', 4), ('ja', 4), ('birmingham', 4), ('donald', 4), ('karachi', 4), ('dress', 4), ('produced', 4), ('ruled', 4), ('guard', 4), ('mining', 4), ('difference', 4), ('distinct', 4), ('capsized', 4), ('dental', 4), ('shitty', 4), ('deserve', 4), ('spears', 4), ('she', 4), ('believing', 4), ('bars', 4), ('dropping', 4), ('cats', 4), ('boyfriend', 4), ('closure', 4), ('kisses', 4), ('clip', 4), ('360', 4), ('dudes', 4), ('lonely', 4), ('biological', 4), ('criminal', 4), ('unsafe', 4), ('explains', 4), ('ms', 4), ('injures', 4), ('auto', 4), ('code', 4), ('101', 4), ('multiplayer', 4), ('clever', 4), ('runner', 4), ('proof', 4), ('affect', 4), ('warships', 4), ('02', 4), ('humans', 4), ('tower', 4), ('burnt', 4), ('smash', 4), ('pattern', 4), ('flower', 4), ('pink', 4), ('clutch', 4), ('buckle', 4), ('biker', 4), ('opposition', 4), ('unveiled', 4), ('sp', 4), ('tumblr', 4), ('interviews', 4), ('net', 4), ('combined', 4), ('odd', 4), ('critical', 4), ('9pm', 4), ('gon', 4), ('fixed', 4), ('whoever', 4), ('floated', 4), ('bullet', 4), ('values', 4), ('benefits', 4), ('bottle', 4), ('cherry', 4), ('facilities', 4), ('ig', 4), ('unlocking', 4), ('cord', 4), ('ear', 4), ('manage', 4), ('figure', 4), ('blowing', 4), ('choices', 4), ('edge', 4), ('catches', 4), ('prediction', 4), ('hottest', 4), ('value', 4), ('ticket', 4), ('swing', 4), ('scenes', 4), ('role', 4), ('tool', 4), ('5000', 4), ('card', 4), ('learned', 4), ('dating', 4), ('wayne', 4), ('michigan', 4), ('cricket', 4), ('exercise', 4), ('warn', 4), ('collisionno', 4), ('rs', 4), ('cousin', 4), ('treated', 4), ('justified', 4), ('listed', 4), ('tix', 4), ('2030', 4), ('unique', 4), ('weak', 4), ('maps', 4), ('source', 4), ('term', 4), ('systems', 4), ('lifting', 4), ('cain', 4), ('exited', 4), ('charts', 4), ('highest', 4), ('grateful', 4), ('shooter', 4), ('catching', 4), ('beginning', 4), ('form', 4), ('terrifying', 4), ('targeting', 4), ('bp', 4), ('80s', 4), ('wisdom', 4), ('warne', 4), ('3inspired', 4), ('hitting', 4), ('sell', 4), ('noise', 4), ('cakes', 4), ('drama', 4), ('cd', 4), ('nema', 4), ('tanker', 4), ('drinks', 4), ('preparedness', 4), ('vladimir', 4), ('putin', 4), ('reno', 4), ('jeep', 4), ('barack', 4), ('restaurant', 4), ('asylum', 4), ('swiss', 4), ('vet', 4), ('conquest', 4), ('bare', 4), ('exposed', 4), ('eq', 4), ('15km', 4), ('alaska', 4), ('palms', 4), ('faced', 4), ('refuses', 4), ('syria', 4), ('urgent', 4), ('note', 4), ('seemed', 4), ('prompted', 4), ('repairs', 4), ('committee', 4), ('egypt', 4), ('affiliate', 4), ('consequences', 4), ('wy', 4), ('neighborhood', 4), ('sundays', 4), ('erected', 4), ('asian', 4), ('uganda', 4), ('trucks', 4), ('uber', 4), ('ian', 4), ('landfall', 4), ('frank', 4), ('unreal', 4), ('client', 4), ('3alarm', 4), ('childhood', 4), ('villages', 4), ('instructions', 4), ('proceeds', 4), ('items', 4), ('clouds', 4), ('faith', 4), ('march', 4), ('sr', 4), ('brigade', 4), ('125', 4), ('conspiracy', 4), ('border', 4), ('intl', 4), ('cargo', 4), ('section', 4), ('tracking', 4), ('orange', 4), ('nowhere', 4), ('hype', 4), ('chevy', 4), ('fraction', 4), ('decisions', 4), ('coping', 4), ('wee', 4), ('bee', 4), ('mi', 4), ('color', 4), ('offices', 4), ('franklin', 4), ('42', 4), ('approaching', 4), ('tiny', 4), ('spend', 4), ('feeding', 4), ('subreddits', 4), ('darkness', 4), ('reputation', 4), ('tomorrows', 4), ('entertainment', 4), ('offers', 4), ('mum', 4), ('kiss', 4), ('tested', 4), ('atlantic', 4), ('abomb', 4), ('closing', 4), ('host', 4), ('electronic', 4), ('events', 4), ('ego', 4), ('sin', 4), ('banana', 4), ('citizen', 4), ('lip', 4), ('nh', 4), ('whales', 4), ('daughters', 4), ('imagined', 4), ('boston', 4), ('trend', 4), ('bound', 4), ('ridiculous', 4), ('trace', 4), ('cos', 4), ('tokyo', 4), ('butt', 4), ('steal', 4), ('expecting', 4), ('filled', 4), ('load', 4), ('brave', 4), ('brewing', 4), ('thick', 4), ('diving', 4), ('hinton', 4), ('mkx', 4), ('shouting', 4), ('stamp', 4), ('drugs', 4), ('kingdom', 4), ('network', 4), ('letters', 4), ('twins', 4), ('cdc', 4), ('primary', 4), ('safely', 4), ('microsoft', 4), ('logic', 4), ('dozen', 4), ('charity', 4), ('spoke', 4), ('opposite', 4), ('cod', 4), ('personally', 4), ('ntsb', 4), ('400', 4), ('marker', 4), ('method', 4), ('links', 4), ('producer', 4), ('reveals', 4), ('titanic', 4), ('horrific', 4), ('atm', 4), ('ed', 4), ('amongst', 4), ('boxer', 4), ('regional', 4), ('kindle', 4), ('julie', 4), ('hip', 4), ('previously', 4), ('limited', 4), ('connection', 4), ('devil', 4), ('mystery', 4), ('instantly', 4), ('tuned', 4), ('cave', 4), ('courts', 4), ('primarily', 4), ('chewing', 4), ('sf', 4), ('shout', 4), ('cotton', 4), ('grab', 4), ('muscle', 4), ('christie', 4), ('republic', 4), ('memphis', 4), ('moth', 4), ('realise', 4), ('husband', 4), ('firing', 4), ('amsterdam', 4), ('nations', 4), ('ted', 4), ('sydney', 4), ('plot', 4), ('southampton', 4), ('reaching', 4), ('cree', 4), ('survey', 4), ('prabhu', 4), ('calamity', 4), ('rates', 4), ('nap', 4), ('billion', 4), ('horn', 4), ('vets', 4), ('approach', 4), ('lone', 4), ('campus', 4), ('attacking', 4), ('yard', 4), ('will', 4), ('vid', 4), ('satan', 4), ('immediately', 4), ('buying', 4), ('smell', 4), ('grounds', 4), ('offroad', 4), ('falcon', 4), ('soup', 4), ('diet', 4), ('scars', 4), ('theory', 4), ('split', 4), ('arriving', 4), ('mansion', 4), ('laugh', 4), ('weed', 4), ('photographer', 4), ('provide', 4), ('goo', 4), ('skills', 4), ('matters', 4), ('intersection', 4), ('repay', 4), ('silence', 4), ('toxic', 4), ('fwy', 4), ('haram', 4), ('background', 4), ('georgia', 4), ('batting', 4), ('1100', 4), ('0800', 4), ('1030pm', 4), ('alps', 4), ('snapchat', 4), ('settlement', 4), ('christ', 4), ('selection', 4), ('invasion', 4), ('bieber', 4), ('foot', 4), ('neither', 4), ('honest', 4), ('reshapes', 4), ('cta', 4), ('horizon', 4), ('homeowners', 4), ('todd', 4), ('fam', 4), ('nuke', 4), ('wither', 4), ('assault', 4), ('oak', 4), ('alex', 4), ('excellent', 4), ('elliott', 4), ('changing', 4), ('resources', 4), ('hieroglyphics', 4), ('honors', 4), ('lowly', 4), ('robert', 4), ('concept', 4), ('gear', 4), ('inspections', 4), ('title', 4), ('californias', 4), ('artists', 4), ('sicily', 4), ('fallen', 4), ('magnitude', 4), ('hamas', 4), ('egged', 4), ('361', 4), ('highly', 4), ('mumbai', 4), ('launch', 4), ('islands', 4), ('recap', 4), ('focus', 4), ('explodes', 4), ('rappers', 4), ('whale', 4), ('bike', 4), ('43', 4), ('penalties', 4), ('positive', 4), ('ducks', 4), ('realtime', 4), ('86', 4), ('supervisor', 4), ('que', 4), ('francis', 4), ('riding', 4), ('carried', 4), ('rider', 4), ('investigate', 4), ('journalist', 4), ('performance', 4), ('employees', 4), ('employee', 4), ('photoshop', 4), ('warm', 4), ('earrings', 4), ('expert', 4), ('perhaps', 4), ('sentinel', 4), ('beware', 4), ('rome', 4), ('supreme', 4), ('northwest', 4), ('naved', 4), ('2pm', 4), ('hardly', 4), ('chelsea', 4), ('allah', 4), ('forgive', 4), ('growth', 4), ('jon', 4), ('coal', 4), ('timeline', 4), ('automatic', 4), ('writer', 4), ('okanagan', 4), ('cock', 4), ('bloomberg', 4), ('tied', 4), ('bolt', 4), ('builds', 4), ('abomination', 4), ('continued', 4), ('shelby', 4), ('hills', 4), ('hmm', 4), ('grand', 4), ('braking', 4), ('cooler', 4), ('keeping', 4), ('specialist', 4), ('despite', 4), ('joke', 4), ('hide', 4), ('hating', 4), ('lions', 4), ('devalue', 4), ('bored', 4), ('cupcake', 4), ('rainfall', 4), ('hardy', 4), ('diff', 4), ('screenshots', 4), ('combat', 4), ('grey', 4), ('productive', 4), ('birds', 4), ('53', 4), ('warrior', 4), ('demand', 4), ('kenya', 4), ('kidding', 4), ('bridges', 4), ('instagram', 4), ('grandma', 4), ('answers', 4), ('saint', 4), ('fl', 4), ('streak', 4), ('stir', 4), ('musician', 4), ('kalle', 4), ('mattson', 4), ('battery', 4), ('meat', 4), ('morgan', 4), ('brief', 4), ('therapy', 4), ('hates', 4), ('june', 4), ('coahuila', 4), ('brush', 4), ('letter', 4), ('greg', 4), ('69', 4), ('nicki', 4), ('medieval', 4), ('edition', 4), ('dis', 4), ('parade', 4), ('lands', 4), ('harbor', 4), ('managed', 4), ('pit', 4), ('29072015', 4), ('jan', 4), ('karymsky', 4), ('crater', 4), ('lrt', 4), ('vuitton', 4), ('computers', 4), ('growing', 4), ('recycling', 4), ('score', 4), ('holiday', 4), ('happiness', 4), ('giants', 4), ('surf', 4), ('adults', 4), ('inning', 4), ('prone', 4), ('sixth', 4), ('lionel', 4), ('holland', 4), ('basically', 4), ('empire', 4), ('fortunately', 4), ('lawsuit', 4), ('intensifies', 4), ('doc', 4), ('5pm', 4), ('grew', 4), ('responding', 4), ('300000', 4), ('copilot', 4), ('eu', 4), ('concern', 4), ('1200', 4), ('alternatives', 4), ('reward', 4), ('notifications', 4), ('connectorconnecto', 4), ('igers', 4), ('busy', 4), ('pretend', 4), ('loads', 4), ('experienced', 4), ('preseason', 4), ('hopes', 4), ('fools', 4), ('frozen', 4), ('cleveland', 4), ('fishing', 4), ('tutorial', 4), ('sandy', 4), ('km', 4), ('chat', 4), ('active', 4), ('shirt', 4), ('turns', 4), ('restore', 4), ('channels', 4), ('crimes', 4), ('hated', 4), ('regarding', 4), ('humidity', 4), ('ima', 4), ('harper', 4), ('blessed', 4), ('jump', 4), ('simulate', 4), ('nu', 4), ('brand', 4), ('walker', 4), ('78', 4), ('trick', 4), ('superhero', 4), ('blames', 4), ('bjp', 4), ('crane', 4), ('dtn', 4), ('powers', 4), ('as', 4), ('okinawa', 4), ('10km', 4), ('deputies', 4), ('gains', 4), ('23', 4), ('suit', 4), ('cue', 4), ('crossborder', 4), ('redhanded', 4), ('plague', 4), ('insurers', 4), ('chest', 4), ('clev', 4), ('cleared', 4), ('nb', 4), ('chill', 4), ('beating', 4), ('c130', 4), ('modified', 4), ('saves', 4), ('blk', 4), ('bigamist', 4), ('beforeitsnews', 4), ('average', 4), ('dates', 4), ('6aug', 4), ('lungs', 4), ('godslove', 4), ('significant', 4), ('struggles', 4), ('temporary300', 4), ('xp', 4), ('reopens', 3), ('curb', 3), ('holds', 3), ('mans', 3), ('files', 3), ('locked', 3), ('belonged', 3), ('midst', 3), ('tony', 3), ('voter', 3), ('thinks', 3), ('responded', 3), ('location', 3), ('fandom', 3), ('neck', 3), ('blasts', 3), ('romance', 3), ('runaway', 3), ('quote', 3), ('had', 3), ('hidden', 3), ('tastes', 3), ('appointment', 3), ('messed', 3), ('variety', 3), ('product', 3), ('britney', 3), ('del', 3), ('permanent', 3), ('journalism', 3), ('bite', 3), ('boundaries', 3), ('ye', 3), ('asks', 3), ('console', 3), ('ending', 3), ('lessons', 3), ('mido', 3), ('ww1', 3), ('wwe', 3), ('2k15', 3), ('avenue', 3), ('pre', 3), ('celebrities', 3), ('language', 3), ('shania', 3), ('servers', 3), ('where', 3), ('seattles', 3), ('deadliest', 3), ('rat', 3), ('sharply', 3), ('royal', 3), ('collins', 3), ('designs', 3), ('poured', 3), ('affecting', 3), ('stylish', 3), ('multi', 3), ('printed', 3), ('shoulders', 3), ('pockets', 3), ('herself', 3), ('marin', 3), ('wolverine', 3), ('900', 3), ('fourth', 3), ('lay', 3), ('excitement', 3), ('recovered', 3), ('wishing', 3), ('elevated', 3), ('winter', 3), ('william', 3), ('wi', 3), ('shanghai', 3), ('warming', 3), ('lolol', 3), ('workout', 3), ('freezing', 3), ('scale', 3), ('transfer', 3), ('tyler', 3), ('politicians', 3), ('lit', 3), ('treating', 3), ('bible', 3), ('scholars', 3), ('whoa', 3), ('sat', 3), ('sam', 3), ('tomislav', 3), ('salopek', 3), ('tornadoes', 3), ('farrakhan', 3), ('rap', 3), ('09', 3), ('beads', 3), ('bracelet', 3), ('impressive', 3), ('assad', 3), ('genius', 3), ('protests', 3), ('moms', 3), ('annoying', 3), ('bodys', 3), ('struggling', 3), ('balance', 3), ('extension', 3), ('pasta', 3), ('piling', 3), ('placed', 3), ('finish', 3), ('eaten', 3), ('fist', 3), ('gg', 3), ('define', 3), ('jake', 3), ('cheap', 3), ('houston', 3), ('chosen', 3), ('aviation', 3), ('conversation', 3), ('emails', 3), ('becoming', 3), ('puppies', 3), ('destroying', 3), ('wears', 3), ('puncture', 3), ('ripped', 3), ('saturn', 3), ('penalty', 3), ('writers', 3), ('regret', 3), ('heroine', 3), ('duck', 3), ('te', 3), ('supports', 3), ('dems', 3), ('detained', 3), ('kerry', 3), ('province', 3), ('i405', 3), ('collisionunkn', 3), ('wen', 3), ('advanced', 3), ('ipad', 3), ('burglary', 3), ('lance', 3), ('stolen', 3), ('psychiatric', 3), ('fte', 3), ('toronto', 3), ('happily', 3), ('desires', 3), ('boise', 3), ('junk', 3), ('batteries', 3), ('stronger', 3), ('trials', 3), ('obsessed', 3), ('atom', 3), ('mandatory', 3), ('corp', 3), ('moral', 3), ('rejects', 3), ('caution', 3), ('pa', 3), ('tops', 3), ('terms', 3), ('casino', 3), ('lesson', 3), ('hampshire', 3), ('denied', 3), ('performs', 3), ('golan', 3), ('jerusalem', 3), ('po', 3), ('swallowed', 3), ('chunks', 3), ('molten', 3), ('sarah', 3), ('pressed', 3), ('grown', 3), ('legendary', 3), ('ponting', 3), ('vip', 3), ('netflix', 3), ('entering', 3), ('waking', 3), ('predict', 3), ('provided', 3), ('irish', 3), ('admin', 3), ('torture', 3), ('mb', 3), ('jones', 3), ('blake', 3), ('patch', 3), ('facing', 3), ('removing', 3), ('vampiro', 3), ('aunt', 3), ('001116', 3), ('161116', 3), ('time20150805', 3), ('sanctions', 3), ('institute', 3), ('yemen', 3), ('promises', 3), ('yellow', 3), ('cabin', 3), ('bend', 3), ('indiana', 3), ('reopening', 3), ('legislation', 3), ('administration', 3), ('encounter', 3), ('jets', 3), ('custer', 3), ('dive', 3), ('unit', 3), ('unions', 3), ('demon', 3), ('scott', 3), ('frog', 3), ('soudelors', 3), ('nasa', 3), ('corners', 3), ('occupants', 3), ('crossbody', 3), ('films', 3), ('delta', 3), ('ambulances', 3), ('tampa', 3), ('count', 3), ('songs', 3), ('fm', 3), ('lego', 3), ('belongs', 3), ('swept', 3), ('sins', 3), ('militant', 3), ('collective', 3), ('trusting', 3), ('telegraph', 3), ('mania', 3), ('canyon', 3), ('tests', 3), ('greek', 3), ('nato', 3), ('ma', 3), ('thin', 3), ('dept', 3), ('landscape', 3), ('cycling', 3), ('director', 3), ('cbcca', 3), ('disappearance', 3), ('shoe', 3), ('drag', 3), ('lesbian', 3), ('harda', 3), ('enroute', 3), ('april', 3), ('jays', 3), ('mitigation', 3), ('wolf', 3), ('nw', 3), ('ryan', 3), ('commute', 3), ('push', 3), ('announcement', 3), ('properties', 3), ('florence', 3), ('avoided', 3), ('enjoyed', 3), ('visited', 3), ('ww2', 3), ('any1', 3), ('specific', 3), ('inevitable', 3), ('taxi', 3), ('feminist', 3), ('titan', 3), ('leaks', 3), ('random', 3), ('finding', 3), ('bananas', 3), ('heals', 3), ('cries', 3), ('throwback', 3), ('tens', 3), ('realised', 3), ('proven', 3), ('podcast', 3), ('potentially', 3), ('received', 3), ('technical', 3), ('intense', 3), ('nova', 3), ('suppose', 3), ('massmurderer', 3), ('unavoidable', 3), ('consequence', 3), ('triedhttptcobbdpnj8xsx', 3), ('teeth', 3), ('flesh', 3), ('incredibly', 3), ('necessary', 3), ('gr', 3), ('maj', 3), ('vision', 3), ('hunger', 3), ('production', 3), ('joining', 3), ('capital', 3), ('swarm', 3), ('peeps', 3), ('shedding', 3), ('laid', 3), ('raised', 3), ('restaurants', 3), ('tanks', 3), ('simulation', 3), ('item', 3), ('chair', 3), ('madison', 3), ('fleeing', 3), ('tear', 3), ('origin', 3), ('medicine', 3), ('boeing', 3), ('honor', 3), ('supernatural', 3), ('indifference', 3), ('daesh', 3), ('loans', 3), ('pitchers', 3), ('shook', 3), ('alarms', 3), ('plumbing', 3), ('initial', 3), ('bass', 3), ('spread', 3), ('raining', 3), ('replacing', 3), ('ate', 3), ('toy', 3), ('niall', 3), ('maintain', 3), ('argument', 3), ('sand', 3), ('wannabe', 3), ('chances', 3), ('wests', 3), ('outskirts', 3), ('prophet', 3), ('range', 3), ('delayed', 3), ('mets', 3), ('designed', 3), ('murderous', 3), ('raleigh', 3), ('fart', 3), ('midnight', 3), ('mf', 3), ('meaning', 3), ('citys', 3), ('plummeted', 3), ('evacuations', 3), ('healthy', 3), ('sheeran', 3), ('decades', 3), ('raw', 3), ('spray', 3), ('communication', 3), ('outta', 3), ('jay', 3), ('newbie', 3), ('heavenly', 3), ('fifth', 3), ('shepherd', 3), ('teaching', 3), ('buffer', 3), ('showed', 3), ('chase', 3), ('novel', 3), ('hang', 3), ('chick', 3), ('hall', 3), ('charlotte', 3), ('bother', 3), ('dq', 3), ('balloon', 3), ('kanye', 3), ('adventures', 3), ('ontario', 3), ('46', 3), ('olds', 3), ('dorret', 3), ('gateau', 3), ('peoples', 3), ('abandon', 3), ('kicks', 3), ('eggs', 3), ('organic', 3), ('sailors', 3), ('roller', 3), ('jeans', 3), ('pocket', 3), ('dante', 3), ('johnny', 3), ('jus', 3), ('thankful', 3), ('posting', 3), ('leadership', 3), ('deserves', 3), ('district', 3), ('comparison', 3), ('iranians', 3), ('protecting', 3), ('tahoe', 3), ('talent', 3), ('mc', 3), ('bankstown', 3), ('wattle', 3), ('swansea', 3), ('psychological', 3), ('starter', 3), ('torch', 3), ('blanket', 3), ('knife', 3), ('earned', 3), ('chains', 3), ('recording', 3), ('experiencing', 3), ('shakes', 3), ('courage', 3), ('ptsd', 3), ('sides', 3), ('eight', 3), ('aussies', 3), ('dorrets', 3), ('tyre', 3), ('striking', 3), ('strikers', 3), ('strict', 3), ('cr', 3), ('portion', 3), ('calgarys', 3), ('i15', 3), ('deactivated', 3), ('briefing', 3), ('batters', 3), ('overnight', 3), ('auckland', 3), ('does', 3), ('stood', 3), ('plenty', 3), ('squeeze', 3), ('lines', 3), ('empty', 3), ('sticks', 3), ('stepped', 3), ('constant', 3), ('stats', 3), ('impending', 3), ('driven', 3), ('square', 3), ('org', 3), ('combo', 3), ('fixing', 3), ('hamilton', 3), ('spectacular', 3), ('collision1141', 3), ('enrt', 3), ('recipes', 3), ('sonia', 3), ('backpack', 3), ('strangers', 3), ('besides', 3), ('busting', 3), ('monkey', 3), ('older', 3), ('exposure', 3), ('cope', 3), ('individual', 3), ('evansville', 3), ('maryland', 3), ('sharing', 3), ('refugee', 3), ('jr', 3), ('jennifer', 3), ('aniston', 3), ('cheat', 3), ('brady', 3), ('band', 3), ('tide', 3), ('whatever', 3), ('sumn', 3), ('detectors', 3), ('required', 3), ('alot', 3), ('gaining', 3), ('slosher', 3), ('freaking', 3), ('iris', 3), ('dolls', 3), ('slayer', 3), ('palestinians', 3), ('hebron', 3), ('slower', 3), ('damaging', 3), ('closes', 3), ('sinjar', 3), ('punishment', 3), ('foreign', 3), ('summit', 3), ('hatred', 3), ('sweden', 3), ('abortion', 3), ('needle', 3), ('quartz', 3), ('shane', 3), ('eastbound', 3), ('hannaph', 3), ('soudelortropical', 3), ('warningissued', 3), ('midwest', 3), ('penny', 3), ('sized', 3), ('pictures', 3), ('resort', 3), ('widespread', 3), ('fund', 3), ('resumed', 3), ('garfield', 3), ('marvel', 3), ('audience', 3), ('bail', 3), ('determine', 3), ('pair', 3), ('surgery', 3), ('doctors', 3), ('beard', 3), ('spinning', 3), ('creating', 3), ('len', 3), ('void', 3), ('languages', 3), ('ignorant', 3), ('antonio', 3), ('chairs', 3), ('seattle', 3), ('deepwater', 3), ('declaring', 3), ('contact', 3), ('sewing', 3), ('proposed', 3), ('stranded', 3), ('salmon', 3), ('battles', 3), ('mercury', 3), ('francisco', 3), ('locker', 3), ('circuit', 3), ('microsofts', 3), ('sort', 3), ('undercover', 3), ('oral', 3), ('surely', 3), ('soviet', 3), ('elite', 3), ('timelapse', 3), ('showcase', 3), ('vi', 3), ('tory', 3), ('liberty', 3), ('leo', 3), ('mgm', 3), ('gbbo', 3), ('halfway', 3), ('korea', 3), ('cnbc', 3), ('jim', 3), ('sheer', 3), ('abbswinston', 3), ('declined', 3), ('census', 3), ('gunshot', 3), ('author', 3), ('87', 3), ('jupiters', 3), ('mechanical', 3), ('imported', 3), ('mcilroy', 3), ('bowling', 3), ('mistake', 3), ('while', 3), ('closures', 3), ('requests', 3), ('rivers', 3), ('cum', 3), ('dem', 3), ('environmental', 3), ('arnhem', 3), ('rightways', 3), ('defects', 3), ('testing', 3), ('retweet', 3), ('katrina', 3), ('artwork', 3), ('8th', 3), ('corey', 3), ('kitchen', 3), ('skies', 3), ('edit', 3), ('fortune', 3), ('penn', 3), ('remaining', 3), ('reaches', 3), ('workplace', 3), ('correlation', 3), ('ohio', 3), ('sends', 3), ('behalf', 3), ('sampling', 3), ('strategy', 3), ('raise', 3), ('unawares', 3), ('radioactive', 3), ('gambit', 3), ('generally', 3), ('flaming', 3), ('couldve', 3), ('punjab', 3), ('platform', 3), ('thurs', 3), ('hrs', 3), ('nears', 3), ('prince', 3), ('precious', 3), ('choking', 3), ('faces', 3), ('transmission', 3), ('feast', 3), ('schiphol', 3), ('surge', 3), ('coquitlam', 3), ('pope', 3), ('politifiact', 3), ('reids', 3), ('object', 3), ('repeat', 3), ('teenagers', 3), ('vermont', 3), ('lock', 3), ('heroin', 3), ('poland', 3), ('mexican', 3), ('mud', 3), ('abe', 3), ('chip', 3), ('arizona', 3), ('laughs', 3), ('mixed', 3), ('pickup', 3), ('84', 3), ('photoset', 3), ('climb', 3), ('capture', 3), ('groom', 3), ('03', 3), ('forgotten', 3), ('after', 3), ('jewelry', 3), ('connector', 3), ('apple', 3), ('uptotheminute', 3), ('permits', 3), ('hunting', 3), ('receive', 3), ('non', 3), ('patrol', 3), ('1620', 3), ('longterm', 3), ('impressed', 3), ('coral', 3), ('papi', 3), ('bff', 3), ('acoustic', 3), ('barry', 3), ('countrys', 3), ('restive', 3), ('guilty', 3), ('nurses', 3), ('oun', 3), ('painting', 3), ('tribal', 3), ('chiefs', 3), ('surrounded', 3), ('ooh', 3), ('winner', 3), ('mainland', 3), ('dollars', 3), ('mfs', 3), ('2d', 3), ('applications', 3), ('crippling', 3), ('pits', 3), ('betrayed', 3), ('anna', 3), ('monitor', 3), ('omega', 3), ('religion', 3), ('drivers', 3), ('grade', 3), ('scream', 3), ('racing', 3), ('temperature', 3), ('outfit', 3), ('spam', 3), ('african', 3), ('mhtw4fnetofficials', 3), ('drum', 3), ('marians', 3), ('respected', 3), ('nucleardeal', 3), ('indojapan', 3), ('pact', 3), ('reactorbased', 3), ('belly', 3), ('nowplaying', 3), ('figured', 3), ('glasses', 3), ('expensive', 3), ('upcoming', 3), ('incapable', 3), ('cmon', 3), ('perfectly', 3), ('nonsense', 3), ('settle', 3), ('shore', 3), ('nasty', 3), ('pun', 3), ('jacket', 3), ('medium', 3), ('boko', 3), ('digits', 3), ('hyderabad', 3), ('features', 3), ('punished', 3), ('available', 3), ('cam', 3), ('counselor', 3), ('intern', 3), ('featuring', 3), ('grandeur', 3), ('been', 3), ('pillow', 3), ('ireland', 3), ('honey', 3), ('dual', 3), ('extract', 3), ('experiences', 3), ('winston', 3), ('chattanooga', 3), ('grabbers', 3), ('teases', 3), ('shaped', 3), ('recorded', 3), ('mic', 3), ('license', 3), ('packed', 3), ('cladding', 3), ('same', 3), ('hurry', 3), ('longest', 3), ('tripledigit', 3), ('recreates', 3), ('anxious', 3), ('2005', 3), ('mourning', 3), ('posters', 3), ('tractor', 3), ('suv', 3), ('worries', 3), ('bu', 3), ('bluff', 3), ('rejected', 3), ('abused', 3), ('ga', 3), ('autumn', 3), ('brighton', 3), ('mike', 3), ('discusses', 3), ('acquisition', 3), ('intact', 3), ('odds', 3), ('algae', 3), ('2000', 3), ('inc', 3), ('cutting', 3), ('display', 3), ('waist', 3), ('travis', 3), ('deputy', 3), ('sept', 3), ('instant', 3), ('meg', 3), ('fest', 3), ('minaj', 3), ('earnings', 3), ('fuels', 3), ('matt', 3), ('touching', 3), ('como', 3), ('thrones', 3), ('solar', 3), ('refused', 3), ('hoping', 3), ('buffalo', 3), ('passion', 3), ('hears', 3), ('sponsor', 3), ('tremor', 3), ('nnw', 3), ('lying', 3), ('stayed', 3), ('cage', 3), ('explain', 3), ('milkshake', 3), ('monogram', 3), ('species', 3), ('dallas', 3), ('survivor', 3), ('britain', 3), ('luis', 3), ('lizard', 3), ('aussie', 3), ('sexy', 3), ('lifes', 3), ('amen', 3), ('relax', 3), ('foster', 3), ('ash', 3), ('cpanel', 3), ('agent', 3), ('lately', 3), ('mcdonalds', 3), ('steak', 3), ('estate', 3), ('2010', 3), ('finishing', 3), ('las', 3), ('redlight', 3), ('cash', 3), ('pedestrian', 3), ('bs', 3), ('gym', 3), ('ds', 3), ('ronaldo', 3), ('dam', 3), ('guest', 3), ('challenged', 3), ('influence', 3), ('artist', 3), ('jerry', 3), ('sacrifice', 3), ('locke', 3), ('jax', 3), ('surges', 3), ('tie', 3), ('wout', 3), ('blacks', 3), ('guessing', 3), ('pull', 3), ('testimony', 3), ('stressed', 3), ('premium', 3), ('friendship', 3), ('ac', 3), ('isil', 3), ('burger', 3), ('latin', 3), ('mate', 3), ('milk', 3), ('irans', 3), ('forgiven', 3), ('inst', 3), ('apch', 3), ('rwy', 3), ('oper', 3), ('taxiways', 3), ('navbl', 3), ('tmp', 3), ('wnd', 3), ('fabric', 3), ('cow', 3), ('loop', 3), ('forth', 3), ('equal', 3), ('cia', 3), ('earthquakes', 3), ('sail', 3), ('camps', 3), ('si', 3), ('naked', 3), ('dm', 3), ('ik', 3), ('ford', 3), ('dorman', 3), ('acdelco', 3), ('regardless', 3), ('cunts', 3), ('apparent', 3), ('foul', 3), ('encouragement', 3), ('vest', 3), ('fee', 3), ('andy', 3), ('trillion', 3), ('crosses', 3), ('stays', 3), ('overwhelming', 3), ('acted', 3), ('automation', 3), ('idgaf', 3), ('118', 3), ('about', 3), ('properly', 3), ('excuse', 3), ('typos', 3), ('woods', 3), ('mentally', 3), ('sorrows', 3), ('flashbacks', 3), ('favor', 3), ('abbott', 3), ('fueling', 3), ('noticed', 3), ('buddy', 3), ('receiving', 3), ('shops', 3), ('cole', 3), ('hack', 3), ('ps4', 3), ('makeup', 3), ('soldier', 3), ('paint', 3), ('halt', 3), ('toe', 3), ('performing', 3), ('stressful', 3), ('desperate', 3), ('function', 3), ('confused', 3), ('ruins', 3), ('realistic', 3), ('dealing', 3), ('sportwatch', 3), ('parked', 3), ('smith', 3), ('basic', 3), ('enemies', 3), ('hella', 3), ('trade', 3), ('solo', 3), ('cultural', 3), ('raging', 3), ('henry', 3), ('anthony', 3), ('gate', 3), ('cyclists', 3), ('exploit', 3), ('describing', 3), ('studio', 3), ('jailed', 3), ('waters', 3), ('96', 3), ('agents', 3), ('archive', 3), ('lauren', 3), ('cont', 3), ('hermancranston', 3), ('hah', 3), ('lifetime', 3), ('formed', 3), ('gusty', 3), ('melt', 3), ('eric', 3), ('relentless', 3), ('adding', 3), ('prevention', 3), ('adam', 3), ('bones', 3), ('aw', 3), ('condition', 3), ('claimed', 3), ('regime', 3), ('garage', 3), ('development', 3), ('ems', 3), ('genuine', 3), ('soft', 3), ('firearm', 3), ('rifle', 3), ('bites', 3), ('capacity', 3), ('tooth', 3), ('circle', 3), ('nights', 3), ('edmonton', 3), ('fossil', 3), ('gates', 3), ('balls', 3), ('orchard', 3), ('fyi', 3), ('sniping', 3), ('cart', 3), ('hundred', 3), ('december', 3), ('166', 3), ('www', 3), ('installation', 3), ('financing', 3), ('56', 3), ('transporting', 3), ('littledeath', 3), ('contemplating', 3), ('mourns', 3), ('fairfax', 3), ('factors', 3), ('luhan', 3), ('idiot', 3), ('european', 3), ('tunnel', 3), ('bengal', 3), ('cm', 3), ('mamata', 3), ('banerjee', 3), ('dvc', 3), ('esteemed', 3), ('tragic', 3), ('challenge', 3), ('minimum', 3), ('personnel', 3), ('mirage', 3), ('ee', 3), ('blowout', 3), ('chapter', 3), ('fury', 3), ('dundee', 3), ('veteran', 3), ('col', 3), ('meals', 3), ('drums', 3), ('jamaica', 3), ('headphones', 3), ('draw', 3), ('itunes', 3), ('grandpa', 3), ('remind', 3), ('operations', 3), ('launched', 3), ('mutual', 3), ('cobra', 3), ('def', 3), ('80', 3), ('roanoke', 3), ('verdict', 3), ('camouflage', 3), ('craving', 3), ('restricted', 3), ('pulls', 3), ('referring', 3), ('johns', 3), ('removal', 3), ('commoditiesare', 3), ('shaker', 3), ('hacked', 3), ('glorious', 3), ('36', 3), ('priority', 3), ('tasmanias', 3), ('co2', 3), ('mdt', 3), ('ally', 3), ('os', 3), ('otherwise', 3), ('manmade', 3), ('11yearold', 3), ('emergencies', 3), ('67', 3), ('executives', 3), ('prosecuted', 3), ('pam', 3), ('bore', 3), ('10000', 3), ('cared', 3), ('apart', 3), ('hybrid', 3), ('blah', 3), ('accuses', 3), ('meant', 3), ('bbcnews', 3), ('2500', 3), ('marine', 3), ('32', 3), ('blocks', 3), ('quarter', 3), ('fergusons', 3), ('headlines', 3), ('locomotives', 3), ('magnetraction', 3), ('most', 3), ('core', 3), ('yep', 3), ('allies', 3), ('refuse', 3), ('ty', 3), ('rice', 3), ('externally', 3), ('gig', 3), ('sake', 3), ('tweeting', 3), ('fallacy', 3), ('meanwhile', 3), ('federal', 3), ('ironically', 3), ('wht', 3), ('shouldve', 3), ('xxx', 3), ('labour', 3), ('rush', 3), ('directly', 3), ('hillary', 3), ('sj', 3), ('both', 3), ('produce', 3), ('buddys', 3), ('bestnaijamade', 3), ('bronx', 3), ('148', 3), ('responder', 2), ('sexist', 2), ('peer', 2), ('andrew', 2), ('dock', 2), ('samaritans', 2), ('johannesburg', 2), ('faceless', 2), ('horrors', 2), ('elm', 2), ('remade', 2), ('paved', 2), ('hypocrisy', 2), ('parties', 2), ('voluntary', 2), ('recommended', 2), ('pickerel', 2), ('pancakes', 2), ('freshman', 2), ('candidate', 2), ('fdny', 2), ('forreal', 2), ('incase', 2), ('mtvhottest', 2), ('buck', 2), ('yakub', 2), ('rolls', 2), ('surrounding', 2), ('encounters', 2), ('attending', 2), ('idol', 2), ('championship', 2), ('golem', 2), ('graveyard', 2), ('chuck', 2), ('zimbabwe', 2), ('malik', 2), ('perrie', 2), ('yup', 2), ('jumped', 2), ('upwards', 2), ('ure', 2), ('unlike', 2), ('reaction', 2), ('software', 2), ('donation', 2), ('attendance', 2), ('gmmbc', 2), ('inspiring', 2), ('darkest', 2), ('fairy', 2), ('tale', 2), ('intentions', 2), ('villa', 2), ('gif', 2), ('spit', 2), ('honour', 2), ('baruch', 2), ('goldstein', 2), ('rey', 2), ('smiling', 2), ('harms', 2), ('weekends', 2), ('bugs', 2), ('wide', 2), ('invited', 2), ('expo', 2), ('14th', 2), ('equally', 2), ('compete', 2), ('rapper', 2), ('patients', 2), ('pet', 2), ('157', 2), ('lamb', 2), ('teslas', 2), ('vice', 2), ('northbound', 2), ('wr', 2), ('wpri', 2), ('voting', 2), ('twain', 2), ('rig', 2), ('intersections', 2), ('quit', 2), ('midget', 2), ('dl', 2), ('tlc', 2), ('soooo', 2), ('battleship', 2), ('gamescom', 2), ('transformation', 2), ('dt', 2), ('faulty', 2), ('joint', 2), ('esports', 2), ('woodlawn', 2), ('shorts', 2), ('golden', 2), ('geometric', 2), ('totes', 2), ('zippers', 2), ('casual', 2), ('womans', 2), ('guides', 2), ('sfgate', 2), ('cockpit', 2), ('41', 2), ('altamonte', 2), ('wnba', 2), ('espn', 2), ('witnessed', 2), ('worn', 2), ('witness', 2), ('increasingly', 2), ('brooke', 2), ('rivalry', 2), ('petty', 2), ('cofounder', 2), ('huffman', 2), ('wipp', 2), ('witnesses', 2), ('perquisite', 2), ('oks', 2), ('hike', 2), ('opponents', 2), ('rousey', 2), ('douchebag', 2), ('hahahaha', 2), ('fiery', 2), ('embrace', 2), ('unprecedented', 2), ('reminding', 2), ('collab', 2), ('hempoil', 2), ('chopped', 2), ('brick', 2), ('dire', 2), ('downfall', 2), ('hahahah', 2), ('worrying', 2), ('distributed', 2), ('legend', 2), ('9am', 2), ('plaguing', 2), ('procedures', 2), ('knob', 2), ('devices', 2), ('bruise', 2), ('tone', 2), ('lmfaoooo', 2), ('microphone', 2), ('pertains', 2), ('05082015', 2), ('40s', 2), ('whenever', 2), ('inspiration', 2), ('pill', 2), ('likes', 2), ('specialists', 2), ('gtfo', 2), ('gorgeous', 2), ('grabbed', 2), ('extends', 2), ('ltlt', 2), ('sauce', 2), ('corner', 2), ('gf', 2), ('excuses', 2), ('transgender', 2), ('ethiopian', 2), ('gulf', 2), ('yelling', 2), ('ethics', 2), ('recorder', 2), ('cooking', 2), ('crucial', 2), ('compensation', 2), ('soak', 2), ('whelen', 2), ('model', 2), ('helicopters', 2), ('teens', 2), ('cables', 2), ('detroit', 2), ('squirrel', 2), ('dentists', 2), ('caribbean', 2), ('isla', 2), ('vista', 2), ('usg', 2), ('hearthstone', 2), ('diverse', 2), ('irony', 2), ('hometown', 2), ('catalinas', 2), ('piggy', 2), ('kermit', 2), ('era', 2), ('facility', 2), ('wftv', 2), ('porn', 2), ('fbi', 2), ('stole', 2), ('wfp', 2), ('komen', 2), ('na', 2), ('us101', 2), ('crossing', 2), ('csx', 2), ('unfortunately', 2), ('applaud', 2), ('wednesdays', 2), ('rb', 2), ('dunbar', 2), ('daytoday', 2), ('txt', 2), ('showers', 2), ('php', 2), ('script', 2), ('fathers', 2), ('thailand', 2), ('armory', 2), ('branch', 2), ('tx', 2), ('peds', 2), ('fellowship', 2), ('fitness', 2), ('ashton', 2), ('irwin', 2), ('idaho', 2), ('civilization', 2), ('mock', 2), ('agencies', 2), ('walks', 2), ('paying', 2), ('coverage', 2), ('innocents', 2), ('endorses', 2), ('awareness', 2), ('acc', 2), ('singles', 2), ('atleast', 2), ('tha', 2), ('wce', 2), ('endurance', 2), ('watertown', 2), ('pandemic', 2), ('conservation', 2), ('urged', 2), ('sucking', 2), ('objects', 2), ('grilled', 2), ('minority', 2), ('minded', 2), ('fool', 2), ('material', 2), ('pawsox', 2), ('durham', 2), ('everytime', 2), ('earn', 2), ('scissors', 2), ('60mph', 2), ('dedicated', 2), ('stereo', 2), ('mornings', 2), ('badass', 2), ('accept', 2), ('smiles', 2), ('volunteers', 2), ('examiner', 2), ('rioters', 2), ('vince', 2), ('mcmahon', 2), ('billionaire', 2), ('mindset', 2), ('jhaustin', 2), ('ames', 2), ('homerescuers', 2), ('torching', 2), ('bk', 2), ('strictly', 2), ('vegetarian', 2), ('prisoners', 2), ('persecution', 2), ('silenced', 2), ('iraqi', 2), ('proper', 2), ('versions', 2), ('ks', 2), ('20150805', 2), ('various', 2), ('vanessa', 2), ('shelli', 2), ('alliance', 2), ('corruption', 2), ('unrest', 2), ('m194', 2), ('ssw', 2), ('anza', 2), ('chairman', 2), ('hightech', 2), ('opera', 2), ('430', 2), ('centers', 2), ('transformed', 2), ('unconscious', 2), ('reid', 2), ('fd', 2), ('i65', 2), ('lafayette', 2), ('canoe', 2), ('requiring', 2), ('irvine', 2), ('pulwama', 2), ('partner', 2), ('securing', 2), ('pathogen', 2), ('unr', 2), ('075', 2), ('weston', 2), ('pennington', 2), ('sd', 2), ('715', 2), ('disconnected', 2), ('favorites', 2), ('universal', 2), ('um', 2), ('seasonfrom', 2), ('onshit', 2), ('monument', 2), ('perished', 2), ('2006', 2), ('kiev', 2), ('nia', 2), ('quizzed', 2), ('denies', 2), ('ud', 2), ('independent', 2), ('visibility', 2), ('unity', 2), ('chills', 2), ('twovehicle', 2), ('twotone', 2), ('loaded', 2), ('twill', 2), ('denim', 2), ('jackets', 2), ('encore', 2), ('twia', 2), ('twelve', 2), ('uranium', 2), ('digging', 2), ('kurdish', 2), ('tunisia', 2), ('8415', 2), ('tt', 2), ('blueprint', 2), ('remix', 2), ('indy', 2), ('fu', 2), ('dopey', 2), ('democratic', 2), ('strength', 2), ('tomatoes', 2), ('lebanon', 2), ('warwick', 2), ('fog', 2), ('trim', 2), ('determined', 2), ('sucked', 2), ('sections', 2), ('pumper', 2), ('plastic', 2), ('lakes', 2), ('educated', 2), ('ns', 2), ('queens', 2), ('pileup', 2), ('turkmen', 2), ('vandalized', 2), ('surfers', 2), ('grains', 2), ('patna', 2), ('ministry', 2), ('interval', 2), ('43rd', 2), ('florin', 2), ('elkhorn', 2), ('walerga', 2), ('trek', 2), ('sympathy', 2), ('nino', 2), ('canadas', 2), ('clue', 2), ('tookem', 2), ('amends', 2), ('install', 2), ('thankfully', 2), ('ton', 2), ('160', 2), ('auburn', 2), ('dressed', 2), ('vods', 2), ('marriage', 2), ('bundle', 2), ('creepy', 2), ('tb', 2), ('document', 2), ('november', 2), ('sanitised', 2), ('narrative', 2), ('hiroshimas', 2), ('whomever', 2), ('wifi', 2), ('skill', 2), ('perform', 2), ('shld', 2), ('tht', 2), ('teddy', 2), ('ouvindo', 2), ('100s', 2), ('attendees', 2), ('gymnastics', 2), ('wider', 2), ('authentic', 2), ('cracking', 2), ('customers', 2), ('classes', 2), ('appeal', 2), ('slipping', 2), ('technique', 2), ('skys', 2), ('pinpoint', 2), ('minneapolis', 2), ('tbt', 2), ('threealarm', 2), ('suspects', 2), ('rworldnews', 2), ('arab', 2), ('beached', 2), ('persistent', 2), ('attend', 2), ('protesting', 2), ('techesback', 2), ('rifles', 2), ('replied', 2), ('reckless', 2), ('hmu', 2), ('dart', 2), ('carefully', 2), ('setlist', 2), ('resulting', 2), ('poorly', 2), ('looney', 2), ('flowers', 2), ('potatoes', 2), ('lara', 2), ('conversations', 2), ('intend', 2), ('sweaty', 2), ('knocked', 2), ('2day', 2), ('serve', 2), ('rolo', 2), ('vault', 2), ('screening', 2), ('beautifully', 2), ('condos', 2), ('syndrome', 2), ('bangin', 2), ('thief', 2), ('fled', 2), ('into', 2), ('beings', 2), ('ant', 2), ('hurricanes', 2), ('names', 2), ('terrified', 2), ('permanently', 2), ('wise', 2), ('assume', 2), ('fil', 2), ('abortions', 2), ('alley', 2), ('evacuating', 2), ('confirmation', 2), ('exploding', 2), ('kittens', 2), ('reckon', 2), ('relive', 2), ('screwed', 2), ('cairo', 2), ('xmen', 2), ('costa', 2), ('greater', 2), ('comfortable', 2), ('unto', 2), ('thereof', 2), ('1979', 2), ('meme', 2), ('preservation', 2), ('memes', 2), ('yankees', 2), ('contract', 2), ('castle', 2), ('sibling', 2), ('natures', 2), ('zealand', 2), ('marvellous', 2), ('campbell', 2), ('cards', 2), ('lewis', 2), ('holistic', 2), ('creativity', 2), ('erupting', 2), ('label', 2), ('korean', 2), ('44', 2), ('backs', 2), ('hardest', 2), ('unnecessary', 2), ('vortex', 2), ('focuses', 2), ('difficult', 2), ('carrier', 2), ('maru', 2), ('honshu', 2), ('7k', 2), ('rich', 2), ('rand', 2), ('wages', 2), ('rcmp', 2), ('tch', 2), ('whitbourne', 2), ('approval', 2), ('jerseys', 2), ('jazz', 2), ('ignore', 2), ('rover', 2), ('claiming', 2), ('driverless', 2), ('suruc', 2), ('chp', 2), ('mv', 2), ('earnest', 2), ('pletchs', 2), ('coldblooded', 2), ('aspect', 2), ('ratio', 2), ('feeds', 2), ('mixtape', 2), ('erased', 2), ('vocal', 2), ('slept', 2), ('witnessing', 2), ('publicizing', 2), ('behold', 2), ('endless', 2), ('angels', 2), ('dannic', 2), ('misses', 2), ('signing', 2), ('household', 2), ('tacos', 2), ('revolt', 2), ('therefore', 2), ('entirely', 2), ('photography', 2), ('contribute', 2), ('1974', 2), ('highlight', 2), ('hatchetwielding', 2), ('longs', 2), ('hoes', 2), ('careers', 2), ('moore', 2), ('manifestation', 2), ('chonce', 2), ('spends', 2), ('reynolds', 2), ('drifting', 2), ('period', 2), ('poplar', 2), ('tumbling', 2), ('speech', 2), ('reinstate', 2), ('efak', 2), ('hockey', 2), ('position', 2), ('60000', 2), ('underwater', 2), ('depression', 2), ('seeds', 2), ('1998', 2), ('has', 2), ('indoors', 2), ('gum', 2), ('edm', 2), ('bombings', 2), ('cafe', 2), ('hadnt', 2), ('uniforms', 2), ('bartender', 2), ('described', 2), ('shaping', 2), ('rude', 2), ('regard', 2), ('mississauga', 2), ('browsers', 2), ('fatburning', 2), ('vietnamese', 2), ('feature', 2), ('smug', 2), ('summary', 2), ('freestyle', 2), ('iceland', 2), ('chilling', 2), ('coaster', 2), ('salty', 2), ('dame', 2), ('matches', 2), ('disruptive', 2), ('soo', 2), ('fella', 2), ('pu', 2), ('abia', 2), ('inec', 2), ('react', 2), ('defending', 2), ('cites', 2), ('overlooked', 2), ('medals', 2), ('mitt', 2), ('bashes', 2), ('taylor', 2), ('chucker', 2), ('tales', 2), ('phantom', 2), ('gasoline', 2), ('male', 2), ('kosher', 2), ('sweater', 2), ('virgil', 2), ('dijk', 2), ('10pm', 2), ('norcal', 2), ('salvadoran', 2), ('rural', 2), ('danny', 2), ('laura', 2), ('remorse', 2), ('ghetto', 2), ('reunite', 2), ('suresh', 2), ('ignored', 2), ('crusty', 2), ('supermarket', 2), ('sep', 2), ('bobcats', 2), ('backyards', 2), ('fo', 2), ('detonates', 2), ('architecture', 2), ('activities', 2), ('counts', 2), ('studying', 2), ('therapies', 2), ('pine', 2), ('gallipoli', 2), ('stu', 2), ('strongly', 2), ('condemn', 2), ('poss', 2), ('views', 2), ('liability', 2), ('whose', 2), ('strengthening', 2), ('partnerships', 2), ('strawberries', 2), ('hilton', 2), ('pounding', 2), ('traverse', 2), ('battered', 2), ('northland', 2), ('layers', 2), ('msg', 2), ('mics', 2), ('ace', 2), ('incite', 2), ('1965', 2), ('roses', 2), ('heels', 2), ('domestic', 2), ('61st', 2), ('calumet', 2), ('providing', 2), ('fame', 2), ('carpet', 2), ('fundraiser', 2), ('oso', 2), ('travelling', 2), ('droid', 2), ('int', 2), ('xv', 2), ('4x4', 2), ('sham', 2), ('mafia', 2), ('tee', 2), ('1040pm', 2), ('portions', 2), ('prepper', 2), ('crowns', 2), ('17000', 2), ('sooo', 2), ('rutherford', 2), ('quicker', 2), ('heros', 2), ('lyrics', 2), ('butterfinger', 2), ('pictured', 2), ('pierce', 2), ('veil', 2), ('feelin', 2), ('native', 2), ('urine', 2), ('zones', 2), ('skirt', 2), ('usage', 2), ('finished', 2), ('solitude', 2), ('lightningcaused', 2), ('sr37', 2), ('capturing', 2), ('intimate', 2), ('pity', 2), ('sudden', 2), ('layout', 2), ('thirsty', 2), ('leaked', 2), ('ifak', 2), ('somebodys', 2), ('wilshere', 2), ('dothraki', 2), ('undo', 2), ('kai', 2), ('ren', 2), ('rant', 2), ('thighs', 2), ('backyard', 2), ('tc', 2), ('exercised', 2), ('austin', 2), ('stores', 2), ('contain', 2), ('artificial', 2), ('ad', 2), ('mhtw4fnetcrews', 2), ('cbs', 2), ('nsw', 2), ('smelling', 2), ('goat', 2), ('suh', 2), ('irrelevant', 2), ('postcards', 2), ('polaroids', 2), ('reflects', 2), ('rockstar', 2), ('skynews', 2), ('skinny', 2), ('skate', 2), ('compound', 2), ('concluded', 2), ('cement', 2), ('2012', 2), ('righteous', 2), ('beneath', 2), ('leagues', 2), ('concussion', 2), ('cans', 2), ('cuffs', 2), ('readingapocalypse', 2), ('211023', 2), ('enormous', 2), ('probs', 2), ('explosions', 2), ('grenades', 2), ('thrown', 2), ('sons', 2), ('psalms', 2), ('tbh', 2), ('wouldelectrocute', 2), ('nope', 2), ('stainless', 2), ('cousins', 2), ('ricky', 2), ('dominant', 2), ('sh', 2), ('breakdown', 2), ('bans', 2), ('6for', 2), ('hanna', 2), ('midsouth', 2), ('cancelled', 2), ('counties', 2), ('outflow', 2), ('ski', 2), ('northeast', 2), ('logan', 2), ('skyline', 2), ('returning', 2), ('attractive', 2), ('headquarters', 2), ('senators', 2), ('feinstein', 2), ('alarmed', 2), ('harassed', 2), ('sa15t', 2), ('fahlowcw', 2), ('loading', 2), ('harun', 2), ('ekdar', 2), ('fir', 2), ('cannon', 2), ('demolitiondodging', 2), ('affordable', 2), ('funniest', 2), ('knockout', 2), ('regulatory', 2), ('commission', 2), ('reshape', 2), ('minerals', 2), ('crystal', 2), ('bouta', 2), ('bal', 2), ('savings', 2), ('guatemala', 2), ('burton', 2), ('soaking', 2), ('elizabeth', 2), ('reform', 2), ('jose', 2), ('carted', 2), ('sammy', 2), ('salute', 2), ('brass', 2), ('nail', 2), ('nuclearbiologicalchemical', 2), ('nbc', 2), ('fur', 2), ('badge', 2), ('customs', 2), ('phew', 2), ('sanctioned', 2), ('putins', 2), ('moscow', 2), ('surrender', 2), ('dublin', 2), ('hospitals', 2), ('4pm', 2), ('gmt', 2), ('popularmmos', 2), ('declared', 2), ('skanndtyagi', 2), ('saginaw', 2), ('cooper', 2), ('rammed', 2), ('coyotes', 2), ('lizards', 2), ('exclusive', 2), ('tire', 2), ('exciting', 2), ('scifi', 2), ('glacier', 2), ('bicep', 2), ('chesttorso', 2), ('documenting', 2), ('patterns', 2), ('dances', 2), ('nasasolarsystem', 2), ('stalled', 2), ('rss', 2), ('illegally', 2), ('samesex', 2), ('certificate', 2), ('rotator', 2), ('bacup', 2), ('rory', 2), ('ronda', 2), ('floyd', 2), ('elbow', 2), ('rhymes', 2), ('attic', 2), ('roger', 2), ('swells', 2), ('mondays', 2), ('statements', 2), ('confederate', 2), ('moreland', 2), ('sr91', 2), ('rite', 2), ('fi', 2), ('knw', 2), ('helped', 2), ('816', 2), ('thuggin', 2), ('intervene', 2), ('vitesse', 2), ('supporters', 2), ('buildup', 2), ('rick', 2), ('herald', 2), ('wmv', 2), ('retweeted', 2), ('retro', 2), ('bully', 2), ('tribute', 2), ('engineers', 2), ('wdsu', 2), ('37yearold', 2), ('vulcan', 2), ('overturned', 2), ('rene', 2), ('mar', 2), ('gain', 2), ('linkury', 2), ('remembrance', 2), ('beit', 2), ('baggage', 2), ('cab', 2), ('goku', 2), ('occurrence', 2), ('infinity', 2), ('singled', 2), ('buzzfeed', 2), ('hindu', 2), ('houze', 2), ('attila', 2), ('oneself', 2), ('few', 2), ('heartwarming', 2), ('vibez', 2), ('rec', 2), ('entity', 2), ('pleasure', 2), ('laundry', 2), ('reaad', 2), ('plsss', 2), ('ral', 2), ('condolence', 2), ('cuban', 2), ('possibility', 2), ('blossom', 2), ('photographs', 2), ('insight', 2), ('gust', 2), ('pauls', 2), ('railways', 2), ('railway', 2), ('thi', 2), ('murders', 2), ('quoted', 2), ('metrics', 2), ('pcps', 2), ('physicians', 2), ('quake', 2), ('wrap', 2), ('billy', 2), ('gordon', 2), ('alerts', 2), ('researchers', 2), ('inquiry', 2), ('redeemeth', 2), ('servants', 2), ('painful', 2), ('kodiak', 2), ('protesters', 2), ('from', 2), ('propertycasualty', 2), ('weekold', 2), ('rages', 2), ('marshall', 2), ('pens', 2), ('hayden', 2), ('recalled', 2), ('potus', 2), ('pos', 2), ('allegations', 2), ('fooled', 2), ('violations', 2), ('evanston', 2), ('bicycles', 2), ('cus', 2), ('dey', 2), ('dope', 2), ('monitoring', 2), ('ebike', 2), ('portugal', 2), ('kisii', 2), ('expand', 2), ('arts', 2), ('saver', 2), ('smartest', 2), ('bubble', 2), ('kuwait', 2), ('spilled', 2), ('crude', 2), ('pl', 2), ('windy', 2), ('clicks', 2), ('hay', 2), ('tools', 2), ('premiere', 2), ('kurd', 2), ('destructive', 2), ('ruebs', 2), ('endures', 2), ('4500feet', 2), ('linden', 2), ('asshole', 2), ('sketch', 2), ('nostrils', 2), ('mothernaturenetwork', 2), ('lavenderpoetrycafe', 2), ('hysteria', 2), ('naval', 2), ('vessel', 2), ('concrete', 2), ('copper', 2), ('attempting', 2), ('princess', 2), ('8pin', 2), ('21a', 2), ('5s', 2), ('5c', 2), ('philadelphia', 2), ('eagles', 2), ('killings', 2), ('whipped', 2), ('petersburg', 2), ('applied', 2), ('shaw', 2), ('buyout', 2), ('pendleton', 2), ('lifethreatening', 2), ('knoxville', 2), ('pup', 2), ('rudd', 2), ('roberts', 2), ('patriot', 2), ('governments', 2), ('patent', 2), ('pending', 2), ('pasco', 2), ('parental', 2), ('offspring', 2), ('rams', 2), ('pakpattan', 2), ('correspondent', 2), ('villagers', 2), ('ruling', 2), ('kasab', 2), ('denial', 2), ('pagasa', 2), ('negros', 2), ('lowlying', 2), ('landslides', 2), ('ct', 2), ('pleaded', 2), ('interstate', 2), ('overall', 2), ('fading', 2), ('mistakes', 2), ('pediatric', 2), ('deeds', 2), ('bump', 2), ('cancels', 2), ('lincoln', 2), ('witch', 2), ('developed', 2), ('vicinity', 2), ('4th', 2), ('congrats', 2), ('vikings', 2), ('noble', 2), ('shoreline', 2), ('escaped', 2), ('intelligence', 2), ('homeland', 2), ('grimes', 2), ('voters', 2), ('screenshot', 2), ('ferry', 2), ('knocking', 2), ('vessels', 2), ('57', 2), ('sneak', 2), ('spoiled', 2), ('freeway', 2), ('audi', 2), ('hillside', 2), ('bright', 2), ('southbound', 2), ('creek', 2), ('pkwy', 2), ('council', 2), ('dose', 2), ('omgggg', 2), ('mostly', 2), ('nixon', 2), ('hiding', 2), ('dungeons', 2), ('coworker', 2), ('explores', 2), ('rayner', 2), ('olhead', 2), ('hopped', 2), ('damnnnn', 2), ('meowing', 2), ('applies', 2), ('types', 2), ('poem', 2), ('rating', 2), ('ht', 2), ('dignity', 2), ('ohh', 2), ('ipod', 2), ('hows', 2), ('waffle', 2), ('circa', 2), ('gosh', 2), ('melting', 2), ('disappointed', 2), ('smugglers', 2), ('engage', 2), ('allegedly', 2), ('367', 2), ('skipping', 2), ('bummer', 2), ('ofa', 2), ('oem', 2), ('lamps', 2), ('switch', 2), ('fluid', 2), ('optic', 2), ('nerve', 2), ('territory', 2), ('commonwealth', 2), ('oklahomaok', 2), ('shield', 2), ('bits', 2), ('scorpions', 2), ('kodak', 2), ('graph', 2), ('broadcasting', 2), ('premier', 2), ('risks', 2), ('temps', 2), ('bread', 2), ('berlin', 2), ('vent', 2), ('opener', 2), ('tip', 2), ('btwn', 2), ('journeys', 2), ('prevail', 2), ('citation', 2), ('billings', 2), ('bts', 2), ('insomnia', 2), ('selling', 2), ('nick', 2), ('nhs', 2), ('announces', 2), ('nfl', 2), ('caring', 2), ('tinder', 2), ('freefrom', 2), ('screw', 2), ('cleric', 2), ('neighbors', 2), ('marijuana', 2), ('decent', 2), ('omars', 2), ('talibans', 2), ('glimpses', 2), ('banquet', 2), ('newberg', 2), ('jacque', 2), ('betz', 2), ('newborn', 2), ('diesel', 2), ('breakfast', 2), ('chases', 2), ('milwaukee', 2), ('upwindstorm', 2), ('inspection', 2), ('frontlines', 2), ('pamela', 2), ('texans', 2), ('challenges', 2), ('sales', 2), ('magnum', 2), ('opus', 2), ('pillows', 2), ('infoorder', 2), ('sms087809233445', 2), ('trinity', 2), ('950', 2), ('spreads', 2), ('presence', 2), ('diablo', 2), ('cap', 2), ('camo', 2), ('outlet', 2), ('emergencyresponse', 2), ('leaf', 2), ('rash', 2), ('humid', 2), ('flared', 2), ('oli', 2), ('neighbor', 2), ('jams', 2), ('cte', 2), ('lame', 2), ('105', 2), ('nazi', 2), ('float', 2), ('nasahurricane', 2), ('formation', 2), ('nankana', 2), ('sahib', 2), ('bye', 2), ('nairobi', 2), ('msf', 2), ('assisting', 2), ('aust', 2), ('holidays', 2), ('sis', 2), ('closet', 2), ('3x', 2), ('niece', 2), ('mashup', 2), ('controllers', 2), ('mariah', 2), ('featured', 2), ('favs', 2), ('volunteer', 2), ('gimme', 2), ('beast', 2), ('socket', 2), ('skull', 2), ('rumor', 2), ('bestfriends', 2), ('avi', 2), ('africans', 2), ('injustice', 2), ('lockdown', 2), ('illinois', 2), ('ttes', 2), ('helpline', 2), ('bluetooth', 2), ('hospitalized', 2), ('stepping', 2), ('enforcement', 2), ('insult', 2), ('pops', 2), ('shira', 2), ('motors', 2), ('manual', 2), ('brake', 2), ('10x', 2), ('27w', 2), ('utv', 2), ('tak', 2), ('sterling', 2), ('gem', 2), ('comp', 2), ('pot', 2), ('monkeys', 2), ('invest', 2), ('targeted', 2), ('moderate', 2), ('spreading', 2), ('ml', 2), ('ethiopia', 2), ('overpowered', 2), ('greed', 2), ('micom', 2), ('contrast', 2), ('furious', 2), ('ocampo', 2), ('mx', 2), ('sixcar', 2), ('illness', 2), ('shooters', 2), ('messi', 2), ('582', 2), ('aggressive', 2), ('snuff', 2), ('canvas', 2), ('tshirt', 2), ('aggressively', 2), ('parleys', 2), ('sheriff', 2), ('joined', 2), ('wth', 2), ('200000', 2), ('symphony', 2), ('keen', 2), ('snd', 2), ('beacon', 2), ('suicidebombing', 2), ('drakes', 2), ('ovo', 2), ('begging', 2), ('dixon', 2), ('aladdin', 2), ('stocks', 2), ('texting', 2), ('airplanes', 2), ('meets', 2), ('clay', 2), ('stonewall', 2), ('emerges', 2), ('che', 2), ('troy', 2), ('manipur', 2), ('incessant', 2), ('marquei', 2), ('visto', 2), ('kissed', 2), ('marlon', 2), ('shuffle', 2), ('raiders', 2), ('1943', 2), ('juice', 2), ('demi', 2), ('talkin', 2), ('ghostwriter', 2), ('najib', 2), ('disappeared', 2), ('18wheeler', 2), ('muzzamil', 2), ('offr', 2), ('mi17', 2), ('maid', 2), ('wmur9', 2), ('swayback', 2), ('diaporama', 2), ('sixpenceee', 2), ('located', 2), ('volcanoinrussia', 2), ('0104', 2), ('epicenter', 2), ('4km', 2), ('interlaken', 2), ('005225', 2), ('175225', 2), ('0700', 2), ('015025', 2), ('boring', 2), ('examples', 2), ('ghost', 2), ('sippin', 2), ('effective', 2), ('selfesteem', 2), ('vantage', 2), ('balcony', 2), ('vacant', 2), ('bn', 2), ('unrelenting', 2), ('leftover', 2), ('seal', 2), ('1665', 2), ('artillery', 2), ('cartridges', 2), ('streaming', 2), ('coursing', 2), ('weyreygidi', 2), ('locks', 2), ('shred', 2), ('llf', 2), ('can', 2), ('mello', 2), ('elses', 2), ('originally', 2), ('globe', 2), ('thine', 2), ('motivation', 2), ('vital', 2), ('cursed', 2), ('ky', 2), ('edward', 2), ('icymi', 2), ('legio', 2), ('leeds', 2), ('comedy', 2), ('tories', 2), ('wh', 2), ('yorker', 2), ('gained', 2), ('welcomes', 2), ('venice', 2), ('fallout', 2), ('biolab', 2), ('select', 2), ('ralph', 2), ('outbid', 2), ('fa', 2), ('chan', 2), ('nan', 2), ('appreciated', 2), ('ornament', 2), ('logo', 2), ('jersey', 2), ('retail', 2), ('pp', 2), ('aa', 2), ('thriller', 2), ('tan', 2), ('vida', 2), ('kendall', 2), ('jenner', 2), ('neverending', 2), ('extender', 2), ('1700', 2), ('loudest', 2), ('punisher', 2), ('hahah', 2), ('holmes', 2), ('jury', 2), ('oaks', 2), ('bills', 2), ('ruby', 2), ('tidal', 2), ('snowball', 2), ('julian', 2), ('knight', 2), ('murderers', 2), ('shade', 2), ('mars', 2), ('gel', 2), ('jkl', 2), ('flights', 2), ('raung', 2), ('sally', 2), ('raped', 2), ('cherokee', 2), ('file', 2), ('chrysler', 2), ('hackers', 2), ('ongoing', 2), ('tolled', 2), ('estimates', 2), ('1999', 2), ('58', 2), ('colder', 2), ('dye', 2), ('downstairs', 2), ('candle', 2), ('dickheads', 2), ('basis', 2), ('stagetwo', 2), ('eerie', 2), ('subway', 2), ('awkward', 2), ('scares', 2), ('enemity', 2), ('closer', 2), ('nothin', 2), ('unable', 2), ('completed', 2), ('ironic', 2), ('acquire', 2), ('outage', 2), ('asteroid', 2), ('surveys', 2), ('riyadh', 2), ('afp', 2), ('dolphin', 2), ('1115', 2), ('complaints', 2), ('subtle', 2), ('distress', 2), ('request', 2), ('hr', 2), ('actor', 2), ('firms', 2), ('morn', 2), ('interlocking', 2), ('ink', 2), ('veld', 2), ('cld', 2), ('0306', 2), ('dial', 2), ('wrist', 2), ('nylon', 2), ('clueless', 2), ('indiscriminate', 2), ('oth', 2), ('welfare', 2), ('rogue', 2), ('riversiskiyou', 2), ('injuryi495', 2), ('97georgia', 2), ('nats', 2), ('ina', 2), ('daniels', 2), ('fragile', 2), ('wooden', 2), ('beam', 2), ('islam', 2), ('develop', 2), ('rails', 2), ('tornados', 2), ('economies', 2), ('bago', 2), ('ari', 2), ('kp', 2), ('kurt', 2), ('taught', 2), ('placing', 2), ('slipped', 2), ('alien', 2), ('troll', 2), ('pol', 2), ('bmw', 2), ('sensorknock', 2), ('delphi', 2), ('motorcraft', 2), ('sen', 2), ('improve', 2), ('breath', 2), ('xoxo', 2), ('au', 2), ('goats', 2), ('dislike', 2), ('matthew', 2), ('suspense', 2), ('fran', 2), ('curiosity', 2), ('schwarber', 2), ('misled', 2), ('smart', 2), ('slander', 2), ('metlife', 2), ('genocide', 2), ('wage', 2), ('hana', 2), ('maui', 2), ('cheer', 2), ('diva', 2), ('reacted', 2), ('certified', 2), ('1m', 2), ('mooresville', 2), ('iredell', 2), ('monday', 2), ('theological', 2), ('master', 2), ('spell', 2), ('1d', 2), ('dried', 2), ('cheated', 2), ('bodybagging', 2), ('liable', 2), ('heartbroken', 2), ('havin', 2), ('der', 2), ('countless', 2), ('chilis', 2), ('spirits', 2), ('through', 2), ('paints', 2), ('friggin', 2), ('income', 2), ('stare', 2), ('earbuds', 2), ('historical', 2), ('peacefully', 2), ('dreaming', 2), ('scare', 2), ('gary', 2), ('entrances', 2), ('preaching', 2), ('afford', 2), ('despair', 2), ('tattoo', 2), ('hav', 2), ('bloke', 2), ('bud', 2), ('sequel', 2), ('piss', 2), ('slammed', 2), ('glue', 2), ('rapping', 2), ('punch', 2), ('s2g', 2), ('pledge', 2), ('reject', 2), ('brownie', 2), ('rated', 2), ('nuggets', 2), ('moist', 2), ('delete', 2), ('mustve', 2), ('anyways', 2), ('healing', 2), ('fruits', 2), ('dlc', 2), ('spots', 2), ('sos', 2), ('pony', 2), ('avengers', 2), ('sony', 2), ('sx', 2), ('109', 2), ('sws', 2), ('alpha', 2), ('pharaoh', 2), ('destiny', 2), ('futuristic', 2), ('dukes', 2), ('ghosts', 2), ('dakota', 2), ('zombies', 2), ('fold', 2), ('towns', 2), ('donnie', 2), ('notes', 2), ('exhausted', 2), ('theme', 2), ('cpr', 2), ('follower', 2), ('swooping', 2), ('breathing', 2), ('grills', 2), ('uploading', 2), ('stroke', 2), ('enter', 2), ('kiddie', 2), ('ampamp', 2), ('pete', 2), ('tides', 2), ('goddamn', 2), ('51', 2), ('bcuz', 2), ('chose', 2), ('hint', 2), ('demons', 2), ('jar', 2), ('robotlvl', 2), ('satoshis', 2), ('16000', 2), ('goodbye', 2), ('capable', 2), ('bury', 2), ('appropriation', 2), ('assistant', 2), ('ori', 2), ('hug', 2), ('volcanoes', 2), ('lloyd', 2), ('nervous', 2), ('crest', 2), ('pirate', 2), ('commuters', 2), ('beginners', 2), ('kimery', 2), ('rogan', 2), ('testimonials', 2), ('mute', 2), ('whatsapp', 2), ('softenza', 2), ('careless', 2), ('campfire', 2), ('conservative', 2), ('mosquitoes', 2), ('dixie', 2), ('postbattle', 2), ('technologies', 2), ('commerce', 2), ('labs', 2), ('airplane29072015', 2), ('traveling', 2), ('salvis', 2), ('bistro', 2), ('holmgren', 2), ('lous', 2), ('santiago', 2), ('hitchbot', 2), ('1976', 2), ('emperor', 2), ('prepares', 2), ('dealings', 2), ('pan', 2), ('rained', 2), ('capitalism', 2), ('sprint', 2), ('toss', 2), ('canadian', 2), ('themed', 2), ('timing', 2), ('loyalty', 2), ('15th', 2), ('nostalgia', 2), ('corn', 2), ('headline', 2), ('reads', 2), ('advised', 2), ('wb', 2), ('9000', 2), ('increasing', 2), ('shells', 2), ('healed', 2), ('bitchy', 2), ('perla', 2), ('justifying', 2), ('robbed', 2), ('admit', 2), ('cracks', 2), ('ronnie', 2), ('albertans', 2), ('blasting', 2), ('kno', 2), ('lu', 2), ('slam', 2), ('knocks', 2), ('20k', 2), ('lasting', 2), ('pokemon', 2), ('thee', 2), ('thou', 2), ('thy', 2), ('visiting', 2), ('gettin', 2), ('creates', 2), ('sweat', 2), ('musik', 2), ('rotten', 2), ('gunmen', 2), ('salvador', 2), ('guaranteed', 2), ('mutant', 2), ('mosquito', 2), ('greedy', 2), ('offs', 2), ('granted', 2), ('phillips', 2), ('idiots', 2), ('unstable', 2), ('goulburn', 2), ('splash', 2), ('mlb', 2), ('winning', 2), ('supplies', 2), ('flow', 2), ('lemon', 2), ('nails', 2), ('forbid', 2), ('precipitation', 2), ('measurement', 2), ('defeat', 2), ('locksmith', 2), ('delicious', 2), ('professional', 2), ('extensive', 2), ('njenga', 2), ('razing', 2), ('waterways', 2), ('xb1', 2), ('leak', 2), ('gaelite', 2), ('iconic', 2), ('cadfyi', 2), ('piner', 2), ('rdhorndale', 2), ('lifestyle', 2), ('funtenna', 2), ('hobby', 2), ('lobby', 2), ('thyroid', 2), ('vegetable', 2), ('neil', 2), ('1916', 2), ('continually', 2), ('friendly', 2), ('holed', 2), ('martinmj22', 2), ('waferthin', 2), ('37', 2), ('chevrolet', 2), ('purchased', 2), ('1986', 2), ('fotoset', 2), ('because', 2), ('forsure', 2), ('langley', 2), ('deny', 2), ('matching', 2), ('factor', 2), ('aesthetic', 2), ('impacted', 2), ('overtime', 2), ('activate', 2), ('acute', 2), ('followup', 2), ('kitten', 2), ('sunshine', 2), ('displace', 2), ('visits', 2), ('urban', 2), ('striker', 2), ('visible', 2), ('stearns', 2), ('terri', 2), ('firefighting', 2), ('consumes', 2), ('cary', 2), ('phase', 2), ('shuts', 2), ('pisgah', 2), ('375', 2), ('noncompliant', 2), ('secured', 2), ('ministers', 2), ('fennovoima', 2), ('finna', 2), ('hurting', 2), ('haiyan', 2), ('sumo', 2), ('nyse', 2), ('fdx', 2), ('packages', 2), ('chronicle', 2), ('carr', 2), ('fever', 2), ('tore', 2), ('attraction', 2), ('bradley', 2), ('diebold', 2), ('glink', 2), ('noted', 2), ('mhtw4fnetpakistan', 2), ('wedn', 2), ('grid', 2), ('gridlock', 2), ('bash', 2), ('coincide', 2), ('ev', 2), ('euro', 2), ('optimistic', 2), ('eurotunnel', 2), ('unaddressed', 2), ('cilla', 2), ('escaping', 2), ('trail', 2), ('erdogans', 2), ('suru', 2), ('preview', 2), ('yorks', 2), ('episcopal', 2), ('environment', 2), ('touched', 2), ('reminded', 2), ('enabled', 2), ('limits', 2), ('hardcore', 2), ('shutdown', 2), ('hammondville', 2), ('elsa', 2), ('element', 2), ('eish', 2), ('threaten', 2), ('chargers', 2), ('aguero', 2), ('establishment', 2), ('wealth', 2), ('snipe', 2), ('puerto', 2), ('rico', 2), ('carl', 2), ('combust', 2), ('dysfunctional', 2), ('costly', 2), ('demolishes', 2), ('hoisting', 2), ('mistreated', 2), ('messy', 2), ('i580', 2), ('liverpool', 2), ('dumped', 2), ('fairly', 2), ('pedestrians', 2), ('drew', 2), ('consistently', 2), ('beef', 2), ('uncertain', 2), ('denier', 2), ('maker', 2), ('birminghams', 2), ('slides', 2), ('assholes', 2), ('giveaway', 2), ('sewer', 2), ('nm', 2), ('unhappiness', 2), ('ignoring', 2), ('dlh', 2), ('auctions', 2), ('stunned', 2), ('quotes', 2), ('belt', 2), ('couples', 2), ('m38', 2), ('miyagi', 2), ('magics', 2), ('denali', 2), ('143', 2), ('2007', 2), ('stans', 2), ('sold', 2), ('wheel', 2), ('pivot', 2), ('loretta', 2), ('certainty', 2), ('tryouts', 2), ('ortiz', 2), ('overload', 2), ('maketh', 2), ('gmcr', 2), ('skye', 2), ('pounded', 2), ('greenway', 2), ('mature', 2), ('payment', 2), ('ctd', 2), ('wrestling', 2), ('pole', 2), ('playthrough', 2), ('nude', 2), ('wiped', 2), ('norman', 2), ('celebrations', 2), ('irons', 2), ('contruction', 2), ('upgrading', 2), ('ferries', 2), ('standards', 2), ('vashon', 2), ('mukilteo', 2), ('contractor', 2), ('hired', 2), ('miami', 2), ('shuffled', 2), ('confession', 2), ('paris', 2), ('cest', 2), ('68', 2), ('sunny', 2), ('rescues', 2), ('ham', 2), ('tryout', 2), ('jurors', 2), ('ag', 2), ('hung', 2), ('investors', 2), ('unaware', 2), ('removed', 2), ('command', 2), ('bull', 2), ('browns', 2), ('exhibition', 2), ('forbes', 2), ('cartoon', 2), ('http', 2), ('lollapalooza', 2), ('wd', 2), ('chernobyl', 2), ('filed', 2), ('filmed', 2), ('evolve', 2), ('handling', 2), ('carolina', 2), ('someday', 2), ('canceling', 2), ('canberras', 2), ('grande', 2), ('wireless', 2), ('20s', 2), ('dub', 2), ('slicker', 2), ('trained', 2), ('scariest', 2), ('rent', 2), ('eastward', 2), ('yellowstone', 2), ('byproduct', 2), ('awaits', 2), ('fucks', 2), ('urs', 2), ('ris', 2), ('sponge', 2), ('docks', 2), ('bushfire', 2), ('albania', 2), ('popcorn', 2), ('brisk', 2), ('incl', 2), ('custom', 2), ('brunette', 2), ('brooo', 2), ('britons', 2), ('himalaya', 2), ('trekkers', 2), ('himalayas', 2), ('poster', 2), ('fireman', 2), ('worldwide', 2), ('contributing', 2), ('questioning', 2), ('nineyearold', 2), ('maine', 2), ('dove', 2), ('elijah', 2), ('habits', 2), ('cocaine', 2), ('competitive', 2), ('imo', 2), ('bo3', 2), ('turbine', 2), ('upgraded', 2), ('ve', 2), ('etisalat', 2), ('3942', 2), ('competing', 2), ('guidelines', 2), ('2002', 2), ('bihar', 2), ('nephew', 2), ('hanging', 2), ('77', 2), ('temper', 2), ('bestie', 2), ('folk', 2), ('kolkata', 2), ('prompt', 2), ('sixmeter', 2), ('rainier', 2), ('hoe', 2), ('discussion', 2), ('athlete', 2), ('versus', 2), ('bicycle', 2), ('phenomenal', 2), ('i95', 2), ('548', 2), ('mchenry', 2), ('encouraged', 2), ('motion', 2), ('programme', 2), ('accustomed', 2), ('ay', 2), ('awwww', 2), ('walter', 2), ('blues', 2), ('rio', 2), ('michele', 2), ('unfolded', 2), ('aus', 2), ('aurora', 2), ('differently', 2), ('180', 2), ('oregon', 2), ('exacerbated', 2), ('thugs', 2), ('pointless', 2), ('addition', 2), ('being', 2), ('0802pm', 2), ('lesbians', 2), ('porridge', 2), ('announced', 2), ('abs', 2), ('spurs', 2), ('openly', 2), ('idps', 2), ('geneva', 2), ('nuts', 2), ('amazons', 2), ('weigh', 2), ('pipelines', 2), ('allied', 2), ('cheryl', 2), ('planes', 2), ('minions', 2), ('hook', 2), ('alaskas', 2), ('alarming', 2), ('trunk', 2), ('aids', 2), ('ahrar', 2), ('zabadani', 2), ('sunnis', 2), ('ahh', 2), ('starving', 2), ('gays', 2), ('stout', 2), ('familia', 2), ('prophecy', 2), ('piles', 2), ('babes', 2), ('missiles', 2), ('actress', 2), ('a1', 2), ('tin', 2), ('tesco', 2), ('halifax', 2), ('1145', 2), ('segment', 2), ('boonew', 2), ('immediate', 2), ('preorder', 2), ('wrote', 2), ('fifteen', 2), ('asf', 2), ('05th', 2), ('2029', 2), ('06jst', 2), ('1950', 2), ('ketep', 2), ('64', 2), ('correct', 2), ('philip', 2), ('innit', 2), ('simon', 2), ('reverse', 2), ('liberal', 2), ('somewhere', 2), ('credits', 2), ('beliefs', 2), ('overturn', 2), ('constitution', 2), ('medic', 2), ('urgentthere', 2), ('storey', 2), ('bstop', 2), ('oworoshoki', 2), ('prison', 2), ('uh', 2), ('abuseddesolateamplost', 2), ('diesis', 2), ('blaming', 2), ('tor', 2), ('enhanced', 2), ('sarcasm', 2), ('mouse', 2), ('septic', 2), ('conservatives', 2), ('thirst', 2), ('acquisitions', 2), ('magisters', 2), ('dwarves', 2), ('cuffed', 2), ('impulse', 2), ('inevitably', 2), ('ruining', 2), ('propelled', 2), ('ambition', 2), ('voted', 2), ('glenn', 2), ('stuns', 2), ('noises', 2), ('hood', 2), ('promote', 2), ('typical', 2), ('skype', 2), ('scuf', 2), ('rspca', 2), ('ushed', 2), ('amirite', 2), ('plz', 2), ('pets', 2), ('copycat', 2), ('massacrehttptcolvlh3w3awoantiochhttptcoviwxy1xdyk', 2), ('ouch', 2), ('loses', 2), ('rescuing', 2), ('idek', 2), ('tail', 2), ('obvious', 2), ('illegals', 2), ('nuff', 2), ('panda', 2), ('prob', 2), ('clintons', 2), ('homie', 2), ('fave', 2), ('mommy', 2), ('jealous', 2), ('marines', 2), ('cliffs', 2), ('barrier', 2), ('toes', 2), ('smooth', 2), ('reagan', 2), ('lemme', 2), ('kindly', 2), ('carlos', 2), ('100000', 2), ('closest', 2), ('waits', 2), ('08', 2), ('netanyahu', 2), ('religious', 2), ('hs', 2), ('puny', 2), ('ight', 2), ('poisoning', 2), ('nda', 2), ('badly', 2), ('90blksamp8whts', 2), ('colluded', 2), ('hostageamp2', 2), ('wbioterrorismampuse', 2), ('lglorg', 2), ('idis', 2), ('dig', 2), ('trusty', 2), ('spontaneously', 2), ('infinite', 2), ('iraqis', 2), ('sounding', 2), ('looters', 2), ('jfc', 2), ('mandate', 2), ('congratulations', 2), ('delivered', 2), ('yourself', 2), ('heated', 2), ('wud', 2), ('belief', 2), ('hehe', 2), ('barring', 2), ('straw', 2), ('hamburg', 2), ('ofclans', 2), ('fought', 2), ('beloved', 2), ('gd', 2), ('tem', 2), ('brock', 2), ('esh', 2), ('overwork', 2), ('phil', 2), ('democrats', 2), ('votes', 2), ('dealbreaker', 2), ('affiliation', 2), ('fees', 2), ('froze', 2), ('ell', 2), ('zarry', 2), ('displeased', 2), ('wishes', 2), ('ante', 2), ('coat', 2), ('keratin', 2), ('treatments', 2), ('brazilian', 2), ('copycats', 2), ('ahhhh', 2), ('bounce', 2), ('coworkers', 2), ('a5', 2), ('borders', 2), ('stages', 2), ('alternate', 2), ('discuss', 2), ('webinar', 2), ('libs', 2), ('gal', 2), ('ir', 2), ('knees', 2), ('organizations', 2), ('obviously', 2), ('uncle', 2), ('stopping', 2), ('carpenter', 2), ('remembers', 2), ('kindness', 2), ('freddie', 2), ('password', 2), ('silly', 2), ('palestine', 2), ('quarters', 2), ('backup', 2), ('bwp', 2), ('raynor', 2), ('imperfect', 2), ('wealthy', 2), ('platinum', 2), ('twisted', 2), ('bean', 2), ('attained', 2), ('violation', 2), ('lickin', 2), ('truely', 2), ('janaq', 2), ('renison', 2), ('530', 2), ('1500', 2), ('abusing', 2), ('policerun', 2), ('obispo', 2), ('sikh', 2), ('hateviolence', 2), ('4wd', 2), ('xvii', 2), ('bypass', 2), ('1970', 2), ('moulding', 2), ('429cj', 2), ('150foot', 2), ('choose', 2), ('0day', 2), ('patched', 2), ('runjewels', 2), ('maintaining', 2), ('et', 2), ('spade', 2), ('whao', 2), ('gravel', 2), ('luka', 2), ('alois', 2), ('trancy', 2), ('gist', 2), ('915pm', 2), ('prod', 2), ('eudrylantiqua', 2), ('holly', 2), ('teambrianmundial', 2), ('rossum', 2), ('fifty', 2), ('299', 2), ('proportions', 2), ('parson', 2), ('parse', 2), ('woodchucks', 2), ('hew', 2), ('divided', 2), ('harwich', 2), ('bumper', 2), ('mgnafrica', 1), ('pin263789f4', 1), ('massgrave', 1), ('ransomware', 1), ('wilsons', 1), ('deemed', 1), ('zimpapersviews', 1), ('ampmdash', 1), ('bronville', 1), ('exceptional', 1), ('steady', 1), ('bulletproof', 1), ('funeral', 1), ('amazingness', 1), ('finall', 1), ('benstracy', 1), ('wildlifeif', 1), ('shinichi', 1), ('kudo', 1), ('moriya', 1), ('teiji', 1), ('skyscraper', 1), ('prosper', 1), ('cabins', 1), ('maca', 1), ('ymcglaun', 1), ('wayyeah', 1), ('stable', 1), ('thehighfessions', 1), ('blastedi', 1), ('iowa', 1), ('splottdave', 1), ('28700', 1), ('1967', 1), ('newshour', 1), ('macdaddyleo', 1), ('caption', 1), ('maccocktail', 1), ('hiram', 1), ('blairs', 1), ('lolgop', 1), ('fraud', 1), ('laws83', 1), ('amiritevra50', 1), ('liquidslap', 1), ('leoblakecarter', 1), ('onscene', 1), ('dylanmcclure55', 1), ('zumiez', 1), ('beachboyirh', 1), ('gma', 1), ('ooorrrr', 1), ('bbcwomanshour', 1), ('setsuko', 1), ('thurlow', 1), ('bbcengland', 1), ('basedgeorgie', 1), ('presidentwhipe', 1), ('keits', 1), ('understandone', 1), ('5sosglobalsquad', 1), ('93', 1), ('yeda', 1), ('echoes', 1), ('trailed', 1), ('colin', 1), ('goodness', 1), ('princes', 1), ('dampd', 1), ('instore', 1), ('baekhyun', 1), ('suho', 1), ('10thcr', 1), ('syjexo', 1), ('entension', 1), ('apcpdp', 1), ('fiorentina', 1), ('breh', 1), ('zotar50', 1), ('skeleton', 1), ('alchemist', 1), ('atamathon', 1), ('1httptcogpwrc1kz5i', 1), ('enders', 1), ('mgs2', 1), ('ps2', 1), ('zodiac', 1), ('trey', 1), ('dupree', 1), ('sparkz', 1), ('beatz', 1), ('dictator', 1), ('zicac', 1), ('briefcase', 1), ('zeal', 1), ('peak', 1), ('indecisiveness', 1), ('edwards', 1), ('engagement', 1), ('yumiko', 1), ('woah', 1), ('ws', 1), ('soundtrack', 1), ('summerdo', 1), ('otherull', 1), ('darshanravaldz', 1), ('khulna', 1), ('router', 1), ('ddos', 1), ('determines', 1), ('spying', 1), ('nsa', 1), ('dancer', 1), ('purified', 1), ('pale', 1), ('moonlight', 1), ('neediness', 1), ('ulcerated', 1), ('waggon', 1), ('cornwall', 1), ('bnvfdag', 1), ('pleased', 1), ('radical', 1), ('streetlight', 1), ('problema', 1), ('roles', 1), ('istg', 1), ('chips', 1), ('redbull', 1), ('snack', 1), ('acne', 1), ('diarrhea', 1), ('lifesaving', 1), ('haiti', 1), ('conveniently', 1), ('zionists', 1), ('revere', 1), ('mtvsummerstar', 1), ('lana', 1), ('slit', 1), ('apologize', 1), ('astroturfers', 1), ('crumbling', 1), ('homealone2', 1), ('definition', 1), ('summers', 1), ('awake', 1), ('llegaste', 1), ('tu', 1), ('2015where', 1), ('keith', 1), ('badges', 1), ('ykelquiban', 1), ('yhngsjlg', 1), ('tweeted', 1), ('crushhttptcoioqm5bm1dg', 1), ('brits', 1), ('censor', 1), ('yessum', 1), ('sdotjr', 1), ('adultressand', 1), ('emailslike', 1), ('azznsahttptcopnhetk8a0f', 1), ('yelp', 1), ('bolsters', 1), ('investigative', 1), ('resting', 1), ('scratch', 1), ('introdesolation', 1), ('unconsciously', 1), ('sbujdjsjs', 1), ('xuskak', 1), ('gearing', 1), ('yaounde', 1), ('mosques', 1), ('4kus', 1), ('battle15moferadio', 1), ('httpstco7spydy1csc', 1), ('pusssssssssy', 1), ('shoook', 1), ('xoxoxxxooo', 1), ('rutinaofficial', 1), ('nbchannibal', 1), ('wyrmwood', 1), ('wwi', 1), ('149', 1), ('mycareer', 1), ('ep18', 1), ('tyrone', 1), ('wut', 1), ('ditched', 1), ('hungrier', 1), ('adoptive', 1), ('edison', 1), ('lightbulb', 1), ('wank', 1), ('wsjthinktank', 1), ('colleenmnelson', 1), ('wrinkled', 1), ('decayed', 1), ('hattrick', 1), ('najibhttptcoiidkc0jsbx', 1), ('blockage', 1), ('woodward', 1), ('davison', 1), ('wrapup', 1), ('2us', 1), ('disappoints', 1), ('desean', 1), ('rhode', 1), ('modernize', 1), ('wowo', 1), ('tournaments', 1), ('wowthe', 1), ('pneumonia', 1), ('convention', 1), ('197629', 1), ('carthage', 1), ('celebrity', 1), ('uv', 1), ('gin', 1), ('aampb', 1), ('pipeliners', 1), ('slouching', 1), ('isles', 1), ('warlords', 1), ('draenor', 1), ('crusad', 1), ('wsea', 1), ('mbiwa', 1), ('kissesif', 1), ('distancewould', 1), ('hurricaneas', 1), ('paramedic', 1), ('collapseblow', 1), ('dampen', 1), ('britains', 1), ('isle', 1), ('autobiography', 1), ('lawton', 1), ('satisfying', 1), ('azeroth', 1), ('onc', 1), ('newsgtgt', 1), ('tgirl', 1), ('aliens', 1), ('exterminate', 1), ('summerside', 1), ('pressing', 1), ('tshirts', 1), ('docked', 1), ('workrelated', 1), ('wooooooo', 1), ('79yearold', 1), ('gap', 1), ('pearls', 1), ('hanbags', 1), ('lattice', 1), ('studded', 1), ('gasparc', 1), ('messengers', 1), ('designer', 1), ('qualit', 1), ('womem', 1), ('sneaks', 1), ('amincident', 1), ('wildfirereleased', 1), ('wolforth', 1), ('twoout', 1), ('confident', 1), ('disregard', 1), ('benghazi', 1), ('hogan', 1), ('thanking', 1), ('publicityalthough', 1), ('unhealthyeat', 1), ('necros', 1), ('winnipeg', 1), ('arlington', 1), ('wsvr1686b', 1), ('vhull', 1), ('runabout', 1), ('eurostyle', 1), ('lastingness', 1), ('acquiesce', 1), ('retreat', 1), ('ziuw', 1), ('lisowski', 1), ('whitewashes', 1), ('masters', 1), ('quals', 1), ('jocelyn', 1), ('pugwash', 1), ('population6', 1), ('foliage', 1), ('ignited', 1), ('hiker', 1), ('shin', 1), ('noodle', 1), ('pin', 1), ('disdain', 1), ('halfnaked', 1), ('normally', 1), ('torso', 1), ('29800', 1), ('dans', 1), ('complained', 1), ('measly', 1), ('3million', 1), ('troubleniallhariss', 1), ('pinky', 1), ('journo', 1), ('groin', 1), ('bunker', 1), ('cheney', 1), ('catered', 1), ('ktchn', 1), ('silas', 1), ('sliced', 1), ('headlinelike', 1), ('cabbage', 1), ('murderwahhabism', 1), ('sour', 1), ('freezerdummy', 1), ('exhaustion', 1), ('lim', 1), ('leh', 1), ('themselves', 1), ('changea', 1), ('outnumber', 1), ('lobbyists', 1), ('departmentsrandpaul', 1), ('knowhttpstcoxb8nfxabumevilempirejadehelm15', 1), ('censors', 1), ('supressed', 1), ('slew', 1), ('compared', 1), ('faded', 1), ('kagawa', 1), ('januzaj', 1), ('holdin', 1), ('bruv', 1), ('sank', 1), ('submarine', 1), ('bickfords', 1), ('stale', 1), ('fugazzis', 1), ('yosemite', 1), ('drumpf', 1), ('rabbit', 1), ('ahuh', 1), ('booze', 1), ('these', 1), ('m6x100', 1), ('thread', 1), ('pose', 1), ('lawmakers', 1), ('httpstco6vyyer6py0', 1), ('bracelet10mm', 1), ('tirelessly', 1), ('supposedly', 1), ('representing', 1), ('cgi', 1), ('duh', 1), ('lasted', 1), ('standstill', 1), ('medusa', 1), ('snake', 1), ('inputs', 1), ('scissor', 1), ('ktfounder', 1), ('whimsy', 1), ('buries', 1), ('magnafis', 1), ('extent', 1), ('privilege', 1), ('unfair', 1), ('favoritism', 1), ('whereas', 1), ('jez', 1), ('printing', 1), ('gypsy', 1), ('timbering', 1), ('entryway', 1), ('fjizztxk', 1), ('obstacles', 1), ('whooped', 1), ('terrellt', 1), ('sami', 1), ('flushes', 1), ('bark', 1), ('dials', 1), ('jaileens', 1), ('caked', 1), ('lowkey', 1), ('tub', 1), ('anytime', 1), ('tagliatelle', 1), ('meatballs', 1), ('draining', 1), ('burrito', 1), ('burp', 1), ('mugged', 1), ('lizzie', 1), ('explore', 1), ('unjust', 1), ('trustsamuelbooks', 1), ('caaaaaall', 1), ('zehrs', 1), ('californiaand', 1), ('droughtthis', 1), ('shoreand', 1), ('anymorethats', 1), ('poisoned', 1), ('norris', 1), ('plugged', 1), ('itwith', 1), ('nether', 1), ('spawning', 1), ('windits', 1), ('strengthen', 1), ('allergic', 1), ('iilanjut', 1), ('dirumahyagitudeh', 1), ('rumah', 1), ('cipinang', 1), ('abounds', 1), ('destructiondefundpp', 1), ('psychic', 1), ('genuinely', 1), ('reallyyy', 1), ('affection', 1), ('gucci', 1), ('shanghais', 1), ('pushes', 1), ('happen1', 1), ('fall2', 1), ('teach', 1), ('fizzy', 1), ('seats', 1), ('carelessness', 1), ('bae', 1), ('backroom', 1), ('fromwounds', 1), ('racer', 1), ('295ss100', 1), ('amplifier', 1), ('lesotho', 1), ('seenfirethe', 1), ('suna', 1), ('exhibitor', 1), ('hintdevastation', 1), ('clowns', 1), ('70year', 1), ('hawaiianpaddlesports', 1), ('incrediblehttptcoyzzxxknism', 1), ('numbing', 1), ('gums', 1), ('peoplecommunication', 1), ('iron', 1), ('englands', 1), ('90s', 1), ('sigmund', 1), ('freud', 1), ('hiroshimahttptcolgrocbxpqo', 1), ('paeds', 1), ('imaging', 1), ('greasy', 1), ('ranked', 1), ('civility', 1), ('prez', 1), ('defines', 1), ('perpetrators', 1), ('ticketed', 1), ('cycle', 1), ('agochicago', 1), ('interrogation', 1), ('716', 1), ('kampers', 1), ('sprays', 1), ('hose', 1), ('goooooooaaaaaal', 1), ('tn', 1), ('psychologist', 1), ('honduran', 1), ('minors', 1), ('165000', 1), ('bangladesh', 1), ('dhaka', 1), ('weyburn', 1), ('fentanyl', 1), ('westminister', 1), ('sr22', 1), ('knott', 1), ('paso', 1), ('nyack', 1), ('pineview', 1), ('railroad', 1), ('apologies', 1), ('journey', 1), ('cows', 1), ('postering', 1), ('pow', 1), ('talked', 1), ('terrific', 1), ('celtic', 1), ('aberdeen', 1), ('chaning', 1), ('avery', 1), ('wehtwtvwlocal', 1), ('avalon', 1), ('bdays', 1), ('818', 1), ('4478427', 1), ('mainly', 1), ('cloudy', 1), ('malfunctioning', 1), ('scripts', 1), ('database', 1), ('founding', 1), ('knives', 1), ('albany', 1), ('catalogue', 1), ('rotation', 1), ('condenses', 1), ('mcv', 1), ('subtornado', 1), ('shakingits', 1), ('callin', 1), ('surety', 1), ('underwritersenior', 1), ('underwriter', 1), ('iiemergency', 1), ('servicesft7p7a', 1), ('mirrors', 1), ('reflected', 1), ('neon', 1), ('worldlets', 1), ('plank', 1), ('maxi', 1), ('shootn', 1), ('gameswow', 1), ('ghee', 1), ('sadbut', 1), ('alternative', 1), ('cabling', 1), ('bracing', 1), ('9058778591', 1), ('yours', 1), ('hid', 1), ('shown', 1), ('preserved', 1), ('breaches', 1), ('overrun', 1), ('explicitly', 1), ('behavior', 1), ('mydrought', 1), ('prayer', 1), ('sunflower', 1), ('campaigns', 1), ('renewsit', 1), ('sock', 1), ('arrogant', 1), ('hiroshimatoday', 1), ('jonesboro', 1), ('complain', 1), ('anchors', 1), ('wcw', 1), ('archetype', 1), ('wellgrounded', 1), ('readiness', 1), ('fpoj', 1), ('wormhole', 1), ('gazette', 1), ('thompson', 1), ('xela', 1), ('dcfd', 1), ('perspective', 1), ('personits', 1), ('cameos', 1), ('colbert', 1), ('royale', 1), ('magnets', 1), ('steaks', 1), ('palin', 1), ('bb4sp', 1), ('jewels', 1), ('socially', 1), ('duo', 1), ('wendell', 1), ('berry', 1), ('mexicoits', 1), ('nathaniel', 1), ('rateliff', 1), ('sweats', 1), ('allpro', 1), ('washi', 1), ('elevator', 1), ('noses', 1), ('string', 1), ('replenish', 1), ('weary', 1), ('ani', 1), ('referential', 1), ('gritty', 1), ('thursdays', 1), ('amicos', 1), ('swedish', 1), ('innovative', 1), ('frying', 1), ('waldo', 1), ('12u', 1), ('cooperstown', 1), ('kooks', 1), ('kern', 1), ('airing', 1), ('kbak', 1), ('cbs29', 1), ('reafs', 1), ('waige', 1), ('wackos', 1), ('firey', 1), ('inferno', 1), ('nigerians', 1), ('eufaula', 1), ('participate', 1), ('simulating', 1), ('armageddonhttptcogbxafy1m1c', 1), ('visting', 1), ('georgina', 1), ('cafeawful', 1), ('buildingwere', 1), ('ef5', 1), ('alerttunein', 1), ('axegressor', 1), ('psalm', 1), ('stormtunein', 1), ('agony', 1), ('apocalypsetunein', 1), ('scourgue', 1), ('godstunein', 1), ('violators', 1), ('improved', 1), ('hurled', 1), ('nuked', 1), ('eagle', 1), ('oiler', 1), ('gpw', 1), ('bids', 1), ('vinnie', 1), ('northumbria', 1), ('350', 1), ('column', 1), ('71st', 1), ('highland', 1), ('medics', 1), ('videogt', 1), ('prefers', 1), ('negotiation', 1), ('80ft', 1), ('shaldonread', 1), ('billowing', 1), ('southtowne', 1), ('carryi', 1), ('mediterran', 1), ('5oilworker', 1), ('pastors', 1), ('sought', 1), ('victorinox', 1), ('241487', 1), ('ensure', 1), ('treatmen', 1), ('mpmy', 1), ('deepest', 1), ('condolences', 1), ('mishap', 1), ('deserved', 1), ('soz', 1), ('exploderinshizunemishaemikenjiyuukonomiyahisao', 1), ('vosloorus', 1), ('gauteng', 1), ('2300', 1), ('toyota', 1), ('bkb066gp', 1), ('vassalboro', 1), ('gazebo', 1), ('vanessas', 1), ('gentlementhe', 1), ('vanderbilt', 1), ('vamos', 1), ('newells', 1), ('selfish', 1), ('uttarakhand', 1), ('journalists', 1), ('oneindia', 1), ('usw', 1), ('abandoning', 1), ('uncertaintyeconomic', 1), ('8615', 1), ('10401', 1), ('080', 1), ('23km', 1), ('twentynine', 1), ('235409', 1), ('8km', 1), ('012624', 1), ('182624', 1), ('070', 1), ('usfs', 1), ('acronym', 1), ('amiibos', 1), ('usatoday', 1), ('foxnew', 1), ('usama', 1), ('ladins', 1), ('naturally', 1), ('spillevacuationsred', 1), ('upgrade', 1), ('infrastructure', 1), ('defensenewscomus', 1), ('subsd', 1), ('951', 1), ('automechanics', 1), ('vols', 1), ('1944', 1), ('1000s', 1), ('targe', 1), ('newscalifornia', 1), ('evac', 1), ('updateme', 1), ('91', 1), ('edna', 1), ('jeffersonampdoris', 1), ('sherfield72', 1), ('administrative', 1), ('gnwt', 1), ('630', 1), ('fastest', 1), ('evaucation', 1), ('roofing', 1), ('halfhr', 1), ('gopcontrolled', 1), ('approved', 1), ('pros', 1), ('failures', 1), ('directions', 1), ('4is', 1), ('48hours', 1), ('1russian', 1), ('recal', 1), ('unwanted', 1), ('12th', 1), ('1710', 1), ('untangle', 1), ('unsurprisingstill', 1), ('dismaying', 1), ('lawrence', 1), ('meade', 1), ('lt75', 1), ('unpredictable', 1), ('donaldson', 1), ('unlicensed', 1), ('cufi', 1), ('jews', 1), ('convert', 1), ('7am', 1), ('supportive', 1), ('economically', 1), ('300m', 1), ('unexercised', 1), ('honda', 1), ('rundown', 1), ('psqd', 1), ('engines', 1), ('dandre5', 1), ('ov', 1), ('argues', 1), ('pelosis', 1), ('remnants', 1), ('tunisian', 1), ('bardo', 1), ('uhhhhh', 1), ('crusade', 1), ('pizzas', 1), ('ypres', 1), ('reduces', 1), ('uae', 1), ('mideast', 1), ('heatwave', 1), ('videoncms', 1), ('thundering', 1), ('uspacific', 1), ('commandi', 1), ('itthey', 1), ('festivalit', 1), ('disappears', 1), ('freedoma', 1), ('agen', 1), ('simpson', 1), ('ruhl', 1), ('38', 1), ('modoc', 1), ('temporarily', 1), ('reassigned', 1), ('tonto', 1), ('fowlers', 1), ('opp', 1), ('smartphone', 1), ('shipped', 1), ('dians', 1), ('indias', 1), ('bitterroot', 1), ('historicchurch', 1), ('dawgs', 1), ('dak', 1), ('jak', 1), ('villanova', 1), ('selected', 1), ('academy', 1), ('award', 1), ('finalists', 1), ('restoring', 1), ('alphen', 1), ('aan', 1), ('den', 1), ('rijn', 1), ('shotgun', 1), ('denton', 1), ('pines', 1), ('lorry', 1), ('explodelight', 1), ('coloradogambling', 1), ('quezon', 1), ('twilights', 1), ('jacquie', 1), ('biggar', 1), ('approves', 1), ('association', 1), ('directors', 1), ('vitaly', 1), ('churkin', 1), ('briliantly', 1), ('exposes', 1), ('ukraines', 1), ('klimkin', 1), ('mh17', 1), ('bricks', 1), ('httptcodh0s4buuk7', 1), ('radios', 1), ('1079', 1), ('espn2', 1), ('isaiah', 1), ('4422', 1), ('contemporary', 1), ('gesture', 1), ('bolts', 1), ('inchaos', 1), ('crosslondon', 1), ('accepte', 1), ('ttw', 1), ('kettlebell', 1), ('lopez', 1), ('hindsight', 1), ('jhmnye', 1), ('dvbbs', 1), ('borgeous', 1), ('arceen', 1), ('tsa', 1), ('suggested', 1), ('i74', 1), ('crawfordsville', 1), ('pen', 1), ('conquer', 1), ('gs', 1), ('simulator', 1), ('lowcarb', 1), ('treats', 1), ('meal', 1), ('truthfrequencyradio', 1), ('truthhttpstcop5zicjudxonewsbbccnnislamtruthgodisisterrorismquranlies', 1), ('truthhttpstconxs3z1kxidnewsbbccnnislamtruthgodisisterrorismquranlies', 1), ('truthhttpstcon1k5nlib9xnewsbbccnnislamtruthgodisisterrorismquranlies', 1), ('truthhttpstcokix1j4zygxnewsbbccnnislamtruthgodisisterrorismquranlies', 1), ('truthhttpstcok44tl3rfmynewsbbccnnislamtruthgodisisterrorismquranlies', 1), ('truthhttpstcoh6amecx5k7newsbbccnnislamtruthgodisisterrorismquranlies', 1), ('truthhttpstcoglzggdjqehnewsbbccnnislamtruthgodisisterrorismquranlies', 1), ('truthhttpstcobejftygjilnewsbbccnnislamtruthgodisisterrorismquranlies', 1), ('truthhttpstco2y4rgob7pjnewsbbccnnislamtruthgodisisterrorismquranlies', 1), ('inviting', 1), ('255', 1), ('frenzy', 1), ('disorder', 1), ('astounding', 1), ('forgiveness', 1), ('vickysuewrites', 1), ('circlegiveaway', 1), ('clogs', 1), ('salvages', 1), ('40w', 1), ('us70', 1), ('r21', 1), ('voortrekker', 1), ('tambo', 1), ('1245z', 1), ('f16', 1), ('ketchup', 1), ('wdijon', 1), ('4getfeelings', 1), ('deathinvading', 1), ('spawnscant', 1), ('concentrateno', 1), ('relatesstealing', 1), ('lightspreading', 1), ('trident', 1), ('90225', 1), ('ims', 1), ('ho', 1), ('187', 1), ('tricycle', 1), ('bombhttptcoljeryhitwh', 1), ('treasures', 1), ('drains', 1), ('mechanisms', 1), ('eshop', 1), ('abcs', 1), ('parent', 1), ('015', 1), ('1346', 1), ('transwomen', 1), ('butch', 1), ('credited', 1), ('inciting', 1), ('transportation', 1), ('18wheelers', 1), ('trampling', 1), ('travellers', 1), ('wheat', 1), ('trespass', 1), ('lest', 1), ('sidewalks', 1), ('lenfant', 1), ('mobbed', 1), ('railwayproper', 1), ('twi', 1), ('offramp', 1), ('sacramento', 1), ('cabrillo', 1), ('hwymagellan', 1), ('mir', 1), ('080615', 1), ('110358', 1), ('tracy', 1), ('tractortrailers', 1), ('worsens', 1), ('towboat', 1), ('vtc', 1), ('totoooooo', 1), ('totoooooooooohistoricalmages', 1), ('stratford', 1), ('18th', 1), ('1935', 1), ('leafs', 1), ('boost', 1), ('hammer', 1), ('20homers', 1), ('tulowitzki', 1), ('redeem', 1), ('serene', 1), ('attended', 1), ('romford', 1), ('everybody', 1), ('1716', 1), ('afycso', 1), ('receives', 1), ('impacting', 1), ('downright', 1), ('tommygshow', 1), ('burlington', 1), ('landslidedamaged', 1), ('toke', 1), ('makinwas', 1), ('fetch', 1), ('pyjamas', 1), ('bedding', 1), ('firetruck', 1), ('sticker', 1), ('decals', 1), ('greet', 1), ('bask', 1), ('warmth', 1), ('bliss', 1), ('survivedjoin', 1), ('dualcom', 1), ('easter', 1), ('pretended', 1), ('hastle', 1), ('filling', 1), ('humbled', 1), ('140000', 1), ('120000', 1), ('corii', 1), ('spoil', 1), ('581941', 1), ('1941', 1), ('kumasian', 1), ('torpedoedsunk', 1), ('hiroshima70000', 1), ('outright', 1), ('hotspot', 1), ('oneman', 1), ('bldy', 1), ('asthma', 1), ('roosevelts', 1), ('cigars', 1), ('panicked', 1), ('frp', 1), ('tunas', 1), ('kijangbank', 1), ('negara', 1), ('20150814', 1), ('spoiler', 1), ('awn', 1), ('navigate', 1), ('audit', 1), ('hasarrived', 1), ('fem', 1), ('oliviamiles01', 1), ('tltltltltlttlt', 1), ('wololo', 1), ('tkyonly1fmk', 1), ('tksgs0810', 1), ('warriorcord', 1), ('550', 1), ('paracord', 1), ('milc5040h', 1), ('strand', 1), ('516', 1), ('joints', 1), ('eliminate', 1), ('dqsvyusy', 1), ('timestack', 1), ('sunsets', 1), ('mesmerizing', 1), ('timesnewsdesk', 1), ('privatisation', 1), ('ripe', 1), ('tiffanyfrizzell', 1), ('tianta', 1), ('clam', 1), ('helsinkithunder', 1), ('pounds', 1), ('blacka', 1), ('chestwind', 1), ('lifeshort', 1), ('torrential', 1), ('foothill', 1), ('thu', 1), ('012032', 1), ('gmt0000', 1), ('utcmillcityio', 1), ('choke', 1), ('nugget', 1), ('kidnapping', 1), ('trafficking', 1), ('4month', 1), ('kontagora', 1), ('haaretz', 1), ('unrecognized', 1), ('episodes', 1), ('nigh', 1), ('shoutout', 1), ('hipsters', 1), ('devours', 1), ('intersectio', 1), ('floodwater', 1), ('displac', 1), ('organized', 1), ('inferior', 1), ('standardanonymous', 1), ('sworn', 1), ('thorcon', 1), ('thorium', 1), ('thisisfaz', 1), ('bsf', 1), ('jawans', 1), ('fidayeen', 1), ('aks', 1), ('insas', 1), ('nathans', 1), ('prognosis', 1), ('parallel', 1), ('participating', 1), ('intensive', 1), ('xpost', 1), ('rcityporn', 1), ('46082474', 1), ('medue', 1), ('westmeath', 1), ('metrotown', 1), ('maintained', 1), ('popeyes', 1), ('athens', 1), ('mediterraneanhttpstcoct5v3lcnkd', 1), ('rq', 1), ('cyhi', 1), ('jokal', 1), ('photographers', 1), ('tunesblake', 1), ('griffin', 1), ('startup', 1), ('justmarried', 1), ('reread', 1), ('syvret', 1), ('stake', 1), ('stormjamaicaplain', 1), ('unbelievably', 1), ('insaneman', 1), ('oceanpeeling', 1), ('servile', 1), ('devotionblight', 1), ('pornhub', 1), ('relaxing', 1), ('weaponry', 1), ('lunacy', 1), ('belligerent', 1), ('unfold', 1), ('riser', 1), ('dierks', 1), ('bentley', 1), ('workonlyit', 1), ('did', 1), ('clawing', 1), ('interestingwhy', 1), ('retailers', 1), ('hairity', 1), ('rainbow', 1), ('spitty', 1), ('pie', 1), ('generationrock', 1), ('evacuationas', 1), ('seehey', 1), ('firework', 1), ('tbr', 1), ('browsing', 1), ('homepage', 1), ('tia', 1), ('airline', 1), ('sphere', 1), ('headache', 1), ('yday', 1), ('hubris', 1), ('reqd', 1), ('rigour', 1), ('planthe', 1), ('palm', 1), ('batch', 1), ('desperation', 1), ('dislocationseparation', 1), ('condemnationrevelation', 1), ('temptationisolation', 1), ('desolationlet', 1), ('davies', 1), ('rapturous', 1), ('facade', 1), ('deplorable', 1), ('bailed', 1), ('nite', 1), ('showwent', 1), ('demo', 1), ('kenosha', 1), ('quell', 1), ('introvert', 1), ('150squarefoot', 1), ('businessman', 1), ('foiled', 1), ('troupe', 1), ('multiracial', 1), ('breakdancers', 1), ('akwa', 1), ('ibom', 1), ('uruan', 1), ('exassembly', 1), ('udom', 1), ('emmanuel', 1), ('tozlet', 1), ('leprosy', 1), ('fullblown', 1), ('jerkface', 1), ('lateral', 1), ('lisp', 1), ('rickets', 1), ('hicksville', 1), ('superheroes', 1), ('surviverepopulate', 1), ('superiorhot', 1), ('winged', 1), ('insects', 1), ('fission', 1), ('jasmines', 1), ('shanaynay', 1), ('petebests', 1), ('dessicated', 1), ('kneel', 1), ('reasonbut', 1), ('raunchy', 1), ('phenomenally', 1), ('chik', 1), ('theocracy', 1), ('sounders', 1), ('bonded', 1), ('boxes', 1), ('gameofkittens', 1), ('animations', 1), ('dmt', 1), ('herei', 1), ('hunterston', 1), ('process', 1), ('smithereens', 1), ('workspace', 1), ('forsee', 1), ('gauges', 1), ('3match', 1), ('wails', 1), ('rockin', 1), ('sedan', 1), ('seemeth', 1), ('olivers', 1), ('dipping', 1), ('geese', 1), ('biterelated', 1), ('plotted', 1), ('truthsof', 1), ('okthe', 1), ('cervix', 1), ('odell', 1), ('stylist', 1), ('whod', 1), ('monsterhttpstcon3i79qlbss', 1), ('shootas', 1), ('burner', 1), ('thediyhacks', 1), ('illusionimagess', 1), ('theaf', 1), ('2065', 1), ('origins', 1), ('xrays', 1), ('x37bs', 1), ('66m', 1), ('selfinflicted', 1), ('nikki', 1), ('witches', 1), ('bong', 1), ('nz', 1), ('retooled', 1), ('retirees', 1), ('handicapped', 1), ('scourge', 1), ('fanged', 1), ('spin', 1), ('23rd', 1), ('voltaire', 1), ('imprisoning', 1), ('2000s', 1), ('mortgage', 1), ('buffetts', 1), ('sectors', 1), ('wm', 1), ('humane', 1), ('organizationsfluctuations', 1), ('disturbances', 1), ('imbalancesare', 1), ('margaret', 1), ('wheatley', 1), ('easier', 1), ('timehttptcohgb1mc3irk', 1), ('tap', 1), ('pixar', 1), ('gimp', 1), ('newave', 1), ('shining', 1), ('dubloadz', 1), ('droppd', 1), ('meelllttting', 1), ('expanded', 1), ('slight', 1), ('pots', 1), ('takeshimas', 1), ('fisherman', 1), ('occupies', 1), ('httptcomjcxgku8yt', 1), ('unloads', 1), ('descriptive', 1), ('indecency', 1), ('sinkingshipindy', 1), ('scarlet', 1), ('lenore', 1), ('saison', 1), ('stonebrewingco', 1), ('shortest', 1), ('waiver', 1), ('sharper', 1), ('viper', 1), ('hardside', 1), ('seas', 1), ('giannis', 1), ('submerged', 1), ('reef', 1), ('catcher', 1), ('touches', 1), ('schematization', 1), ('dependable', 1), ('virtue', 1), ('obliterationxmwte', 1), ('satisfaction', 1), ('reasoned', 1), ('shinto', 1), ('hoshin', 1), ('nautical', 1), ('stoodampwatched', 1), ('serbs', 1), ('yougslavia', 1), ('7000', 1), ('pennies', 1), ('riddler', 1), ('earlyexit', 1), ('presidential', 1), ('revival', 1), ('planetx', 1), ('jaysen', 1), ('wormwood', 1), ('correcting', 1), ('resistance', 1), ('guerrilla', 1), ('kpa', 1), ('wartorn', 1), ('dyersburg', 1), ('kennedys', 1), ('diplomacy', 1), ('avert', 1), ('bolster', 1), ('assured', 1), ('officerrelated', 1), ('investigated', 1), ('hiphop', 1), ('pastor', 1), ('accidentwho', 1), ('kasabwe', 1), ('biryani', 1), ('whyhttptcor5bxzzhxkm', 1), ('mw3', 1), ('champs', 1), ('orgs', 1), ('2gether', 1), ('agreements', 1), ('heheh', 1), ('thriving', 1), ('hub', 1), ('hitech', 1), ('ol', 1), ('carshttptcozeartxboft', 1), ('reached', 1), ('denying', 1), ('polar', 1), ('titled', 1), ('emmeryn', 1), ('x2', 1), ('quests', 1), ('buren', 1), ('strutting', 1), ('bg', 1), ('prescient', 1), ('tropic', 1), ('fatsuit', 1), ('comedies', 1), ('2401', 1), ('generous', 1), ('albums', 1), ('mofo', 1), ('unarmed', 1), ('gunned', 1), ('worseits', 1), ('asses', 1), ('goin', 1), ('lonelyeven', 1), ('lyrical', 1), ('vocalist', 1), ('melanie', 1), ('fiona', 1), ('lite', 1), ('cure', 1), ('lind', 1), ('reply', 1), ('anomaly', 1), ('yknow', 1), ('outcome', 1), ('overcome', 1), ('wondertcc', 1), ('martyrs', 1), ('sps', 1), ('dramatically', 1), ('progessive', 1), ('khq', 1), ('lynchburg', 1), ('lancasteronline', 1), ('wqow', 1), ('wesley', 1), ('verhoek', 1), ('lighter', 1), ('9m', 1), ('iplayer', 1), ('commentary', 1), ('soil', 1), ('tfl', 1), ('downtime', 1), ('subliminal', 1), ('insides', 1), ('boxget', 1), ('customized', 1), ('wantdcubecrafts', 1), ('mixxtail', 1), ('watermelon', 1), ('loko', 1), ('cruddy', 1), ('ostensibly', 1), ('macabre', 1), ('bilingual', 1), ('2disc', 1), ('copy', 1), ('thranduil', 1), ('mirkwood', 1), ('hijackerturnedsattutor', 1), ('evaded', 1), ('humidifier', 1), ('gusto', 1), ('persist', 1), ('emptypated', 1), ('hpssjd', 1), ('editorial', 1), ('cas', 1), ('whatevs', 1), ('winik', 1), ('goddess', 1), ('perknas', 1), ('praamius', 1), ('dievas', 1), ('cryibg', 1), ('gt50', 1), ('albert', 1), ('demanding', 1), ('publication', 1), ('fatima', 1), ('wc', 1), ('flaws', 1), ('postponed', 1), ('firstever', 1), ('777', 1), ('vanished', 1), ('239', 1), ('writersshe', 1), ('overextant', 1), ('pioneer', 1), ('paleface', 1), ('raft', 1), ('container', 1), ('predynastic', 1), ('lonelyness', 1), ('depressing', 1), ('knowledge', 1), ('foolish', 1), ('amsal', 1), ('beheadings', 1), ('ordained', 1), ('spurgeon', 1), ('nanking', 1), ('massacre4', 1), ('eyewitnesses', 1), ('mentality', 1), ('checking', 1), ('famping', 1), ('soaked', 1), ('pads', 1), ('tampons', 1), ('broader', 1), ('trunks', 1), ('freiza', 1), ('cleanest', 1), ('devise', 1), ('caitlin', 1), ('kiernan', 1), ('centipede', 1), ('numbered', 1), ('dones', 1), ('bordering', 1), ('packard', 1), ('dearspaul', 1), ('mudslidemary', 1), ('prada', 1), ('mirad', 1), ('rajman', 1), ('hasaka', 1), ('risen', 1), ('80000', 1), ('sometime', 1), ('ep03', 1), ('finalise', 1), ('cryptic', 1), ('guided', 1), ('crocodile', 1), ('gravy', 1), ('disarmed', 1), ('sown', 1), ('prestige', 1), ('prosser', 1), ('wexler', 1), ('sanford', 1), ('hardcover', 1), ('311', 1), ('chews', 1), ('chem', 1), ('overcomes', 1), ('ferrell', 1), ('zach', 1), ('galifianakis', 1), ('comic', 1), ('farce', 1), ('appropriate', 1), ('jamaicans', 1), ('08072015', 1), ('0730', 1), ('tremont', 1), ('elwoods', 1), ('dougs', 1), ('observations', 1), ('managers', 1), ('implication', 1), ('glove', 1), ('droughttolerant', 1), ('perennials', 1), ('integrates', 1), ('format', 1), ('techniqu', 1), ('popped', 1), ('ups', 1), ('oddball', 1), ('observer', 1), ('autocracies', 1), ('windmy', 1), ('kasich', 1), ('awayplease', 1), ('mineness', 1), ('adventure', 1), ('terraria', 1), ('hijinks', 1), ('advantages', 1), ('apropos', 1), ('favorable', 1), ('pwhvgwax', 1), ('machines', 1), ('nonexistant', 1), ('8minute', 1), ('routine', 1), ('weightless', 1), ('390yearold', 1), ('301', 1), ('08062015', 1), ('alabamaquake', 1), ('1pack', 1), ('2pack', 1), ('3pack', 1), ('fleek', 1), ('proc', 1), ('philippine', 1), ('thda', 1), ('antiblight', 1), ('suing', 1), ('l9udest', 1), ('triumphant', 1), ('yolk', 1), ('yoenis', 1), ('masses', 1), ('casey', 1), ('veggies', 1), ('cone', 1), ('windowsill', 1), ('uhc', 1), ('creeper', 1), ('dryer', 1), ('snowy', 1), ('hunchback', 1), ('notre', 1), ('thebeginning', 1), ('whatsmentioned', 1), ('versethe', 1), ('earththus', 1), ('powerhiroshima', 1), ('daaamn', 1), ('testament', 1), ('lockstep', 1), ('devotion', 1), ('belittled', 1), ('bashed', 1), ('demoralized', 1), ('benson', 1), ('clegg', 1), ('roadworks', 1), ('tottenham', 1), ('thankkk', 1), ('notificationsu', 1), ('parsholics', 1), ('superb', 1), ('awesomelove', 1), ('uplifting', 1), ('anchor', 1), ('youhttpstco578gunp8t9', 1), ('microbes', 1), ('defensehttptcozahnewjri8', 1), ('texian', 1), ('iliad', 1), ('hardin', 1), ('texass', 1), ('gratuitously', 1), ('cruel', 1), ('gayman', 1), ('windstorminsurer', 1), ('seeking', 1), ('tess', 1), ('jampk', 1), ('ikpeazu', 1), ('apga', 1), ('tennis', 1), ('champ', 1), ('svetlana', 1), ('kuznetsova', 1), ('withdraws', 1), ('citi', 1), ('911call', 1), ('faked', 1), ('temptation', 1), ('telnet', 1), ('1241317240', 1), ('streamyxhomesouthern', 1), ('plantations', 1), ('forests', 1), ('notto', 1), ('adopt', 1), ('waymaybe', 1), ('somethingfatal', 1), ('mewhyor', 1), ('rebahes', 1), ('rescind', 1), ('nuys', 1), ('530pm', 1), ('wlb', 1), ('343', 1), ('techerit', 1), ('tbi', 1), ('aging', 1), ('analogy', 1), ('cara', 1), ('tarp', 1), ('outfield', 1), ('infield', 1), ('tarmineta3', 1), ('goz', 1), ('manually', 1), ('ru', 1), ('domains', 1), ('coop', 1), ('misdirection', 1), ('ignite', 1), ('vanishing', 1), ('paradise', 1), ('tagged', 1), ('millionsapunkhang', 1), ('highalpha', 1), ('dogyeah', 1), ('doll', 1), ('facelittle', 1), ('liesexplode', 1), ('t34', 1), ('shirts', 1), ('changin', 1), ('airasia', 1), ('syd', 1), ('sweetpeas', 1), ('allotment', 1), ('brightening', 1), ('rainy', 1), ('jeezus', 1), ('issuethis', 1), ('faker', 1), ('kog', 1), ('travelled', 1), ('susinesses', 1), ('stlnd', 1), ('isabel', 1), ('hodgins', 1), ('miller', 1), ('norton', 1), ('charnock', 1), ('plaguefloated', 1), ('floodjust', 1), ('peeked', 1), ('mudno', 1), ('immunedeafening', 1), ('bellsmy', 1), ('ourselves', 1), ('ritual', 1), ('navigating', 1), ('whistle', 1), ('52', 1), ('surveillance', 1), ('ktla', 1), ('regr', 1), ('calorie', 1), ('klondike', 1), ('stevie', 1), ('photoop', 1), ('asx100', 1), ('amalie', 1), ('arena', 1), ('suncorp', 1), ('113', 1), ('sunakawa', 1), ('sunofgod', 1), ('superpower', 1), ('2025', 1), ('buchana', 1), ('rightly', 1), ('despicable', 1), ('ocalan', 1), ('marxism', 1), ('canadasuicide', 1), ('barbarism', 1), ('saudimosque', 1), ('shiite', 1), ('saud', 1), ('suggs', 1), ('vivian', 1), ('suffield', 1), ('gloomy', 1), ('wthat', 1), ('routes', 1), ('unite', 1), ('fatalit', 1), ('frustration', 1), ('junction', 1), ('beep', 1), ('divorce', 1), ('frisat', 1), ('sutherland', 1), ('crowned', 1), ('tends', 1), ('stubborn', 1), ('provinces', 1), ('rz', 1), ('careerbest', 1), ('figures', 1), ('beetroot', 1), ('makurazaki', 1), ('ary', 1), ('cowardly', 1), ('japton', 1), ('pea', 1), ('phalaborwa', 1), ('component', 1), ('stretcherbearers', 1), ('their', 1), ('encaustic', 1), ('cerography', 1), ('byityf', 1), ('activation', 1), ('evergreen', 1), ('ri', 1), ('cityamp3others', 1), ('20000k', 1), ('chadbourn', 1), ('concludes', 1), ('blitzes', 1), ('seminars', 1), ('blitzed', 1), ('tra', 1), ('uprootin', 1), ('uprooting', 1), ('regulations', 1), ('tryin', 1), ('settling', 1), ('stony', 1), ('felons', 1), ('driveby', 1), ('stl', 1), ('grille', 1), ('mounts', 1), ('speedtech', 1), ('amber', 1), ('544', 1), ('boarders', 1), ('uninvestigated', 1), ('indonesia', 1), ('gmail', 1), ('ipa', 1), ('radler', 1), ('mortified', 1), ('retrofitting', 1), ('reopen', 1), ('7000series', 1), ('thunderstormtornado', 1), ('woken', 1), ('2121', 1), ('stones', 1), ('bonesbut', 1), ('intention', 1), ('sanctuary', 1), ('buscemi', 1), ('firefightr', 1), ('workd', 1), ('12hr', 1), ('shifts', 1), ('diggin', 1), ('wtc', 1), ('lookg', 1), ('sterlingscott', 1), ('jogger', 1), ('stepkans', 1), ('lvictoria', 1), ('stemming', 1), ('rosters', 1), ('sideline', 1), ('samsmith', 1), ('vigilent', 1), ('liberties', 1), ('kjc', 1), ('statistically', 1), ('gofundme', 1), ('rims', 1), ('hc', 1), ('446', 1), ('2523', 1), ('jedi', 1), ('hasbro', 1), ('mountaintop', 1), ('scented', 1), ('wildflowers', 1), ('distant', 1), ('stampedes', 1), ('tame', 1), ('stamford', 1), ('tightens', 1), ('dilapitated', 1), ('sits', 1), ('halferect', 1), ('hickory', 1), ('cafetiere', 1), ('crockery', 1), ('phonetablet', 1), ('ssp', 1), ('aeg', 1), ('061', 1), ('akrams', 1), ('carhot', 1), ('exchanged', 1), ('air1bullet', 1), ('booty', 1), ('sprinklers', 1), ('faq', 1), ('lawn', 1), ('answered', 1), ('ebb', 1), ('53inch', 1), ('300w', 1), ('curved', 1), ('fixingmatch', 1), ('anyoneor', 1), ('sl', 1), ('rsa', 1), ('bd', 1), ('spokane', 1), ('spoilers', 1), ('wonderfully', 1), ('installment', 1), ('speeding', 1), ('memorable', 1), ('debates', 1), ('60second', 1), ('knowitall', 1), ('ronald', 1), ('reagans', 1), ('romp', 1), ('spd', 1), ('prayplease', 1), ('shreveport', 1), ('spacex', 1), ('founder', 1), ('musk', 1), ('fictionsharecropping', 1), ('awhile', 1), ('champions', 1), ('championsblackfoot', 1), ('ofr', 1), ('sousse', 1), ('tunis', 1), ('recip', 1), ('sensible', 1), ('judgement', 1), ('mpc', 1), ('soultech', 1), ('souda', 1), ('sorryi', 1), ('rtirishirrmchapmanwsaz', 1), ('kylie', 1), ('bruce', 1), ('mousse', 1), ('sorrower', 1), ('sooooo', 1), ('theaters', 1), ('pumped', 1), ('dispatch', 1), ('soohell', 1), ('repentance', 1), ('childrens', 1), ('sometimesi', 1), ('welli', 1), ('fearanxietyproblems', 1), ('difficulties', 1), ('osteen', 1), ('emotion', 1), ('celestial', 1), ('separate', 1), ('trajectories', 1), ('intertwine', 1), ('thicker', 1), ('wrongsuddenly', 1), ('deres', 1), ('anoderdid', 1), ('contingency', 1), ('frightening', 1), ('gansey', 1), ('fireme', 1), ('obedience', 1), ('jesuss', 1), ('reblogged', 1), ('beg', 1), ('stretcherbefore', 1), ('sods', 1), ('amman', 1), ('diverted', 1), ('gurion', 1), ('australians', 1), ('oceans', 1), ('47km', 1), ('northwestproof', 1), ('aftershocks', 1), ('asb', 1), ('whistled', 1), ('bernardino', 1), ('resilience', 1), ('factsheet', 1), ('vroman', 1), ('househttptco5oqhq8quqv', 1), ('curls', 1), ('soloquiero', 1), ('firefighte', 1), ('solano', 1), ('skaggs', 1), ('2040', 1), ('shortages', 1), ('socialwots', 1), ('globiinclusion', 1), ('nrcmiddleeast', 1), ('engulfs', 1), ('caravans', 1), ('tents', 1), ('handcuffed', 1), ('hookup', 1), ('soaring', 1), ('temperatures', 1), ('soap', 1), ('unimaginable', 1), ('splatoon', 1), ('default', 1), ('splattershot', 1), ('landslideill', 1), ('youand', 1), ('sunshineill', 1), ('marriedfoxysiren', 1), ('scraped', 1), ('dehydration', 1), ('savages', 1), ('gangstermail', 1), ('samsung', 1), ('mobile', 1), ('ahamedis', 1), ('messiah', 1), ('dajaal', 1), ('gog', 1), ('magog', 1), ('baano', 1), ('stairs', 1), ('privileged', 1), ('paulista', 1), ('pardon', 1), ('mindless', 1), ('hazarddi', 1), ('neptunia', 1), ('nonsrank', 1), ('colosseum', 1), ('grinding', 1), ('thruuu', 1), ('commenters', 1), ('westerosnah', 1), ('underestimate', 1), ('gards', 1), ('crazycause', 1), ('learnedyou', 1), ('firebecause', 1), ('mixes', 1), ('twitterpated', 1), ('joins', 1), ('ff', 1), ('aichi', 1), ('psy', 1), ('misaki', 1), ('peens', 1), ('singlesex', 1), ('hydrated', 1), ('secretly', 1), ('lmk', 1), ('capsize', 1), ('b5', 1), ('battleshipgt', 1), ('swam', 1), ('bounced', 1), ('suffice', 1), ('derailedbenchmark', 1), ('paths', 1), ('resque', 1), ('cutest', 1), ('indot', 1), ('bias', 1), ('oblivious', 1), ('followed', 1), ('358', 1), ('smokers', 1), ('snoop', 1), ('collie', 1), ('buddz', 1), ('mink', 1), ('shevlinhixon', 1), ('youngins', 1), ('kidneys', 1), ('smhrn', 1), ('wolter', 1), ('peeters', 1), ('bon', 1), ('smores', 1), ('smackdown', 1), ('tyme', 1), ('slums', 1), ('illegality', 1), ('discourse', 1), ('confounds', 1), ('wasting', 1), ('clap', 1), ('splatdown', 1), ('itswitching', 1), ('splatling', 1), ('fucboi', 1), ('slips', 1), ('sliding', 1), ('wtony', 1), ('nester', 1), ('httptcoi1eeuxxz3a', 1), ('vai', 1), ('vir', 1), ('pra', 1), ('chord', 1), ('hannemans', 1), ('slashandburn', 1), ('taguatinga', 1), ('campeonatos', 1), ('taliban', 1), ('explosivesrigged', 1), ('cramming', 1), ('14hours', 1), ('sitc', 1), ('organisation', 1), ('sioux', 1), ('siouxland', 1), ('siouxlan', 1), ('2buildingmuseum', 1), ('slipper', 1), ('unsigned', 1), ('carb', 1), ('consultative', 1), ('subconscious', 1), ('xkdrx', 1), ('muh', 1), ('belie', 1), ('sel', 1), ('leaking', 1), ('sewage', 1), ('estateirish', 1), ('independent3', 1), ('falmer', 1), ('bethlehem', 1), ('overhostages', 1), ('chemicalweapons', 1), ('lcc', 1), ('96355', 1), ('1940', 1), ('angela', 1), ('sanders', 1), ('roundhouse', 1), ('tribulation', 1), ('sinai', 1), ('execute', 1), ('simmering', 1), ('convivted', 1), ('1n', 1), ('sigalert', 1), ('ufn', 1), ('sickmund', 1), ('ncjfcj', 1), ('byrne', 1), ('natl', 1), ('shrnnclbautista', 1), ('fishtails', 1), ('cent', 1), ('natty', 1), ('shouout', 1), ('vocals', 1), ('pierc', 1), ('oppression', 1), ('retaliation', 1), ('overboard', 1), ('bedhair', 1), ('vagrant', 1), ('shootings', 1), ('baffles', 1), ('meis', 1), ('westarson', 1), ('jihadhttptco92f4nkxjiu', 1), ('soulja', 1), ('shirley', 1), ('caesar', 1), ('polluted', 1), ('10638', 1), ('microchip', 1), ('butthe', 1), ('lofty', 1), ('transported', 1), ('oz', 1), ('wasabi', 1), ('floatin', 1), ('shawie17shawie', 1), ('multimillion', 1), ('chop', 1), ('billet', 1), ('frugal', 1), ('companionate', 1), ('anacrusis', 1), ('intriguing', 1), ('jobbing', 1), ('clist', 1), ('shadowflame', 1), ('wraith', 1), ('boxing', 1), ('kaimai', 1), ('ranges', 1), ('415', 1), ('7510880', 1), ('sheltersupport', 1), ('nonenglish', 1), ('revolutionblight', 1), ('ads', 1), ('933pm', 1), ('1038pm', 1), ('5for', 1), ('pummel', 1), ('shannon', 1), ('enacted', 1), ('931pm', 1), ('1015pm', 1), ('russellville', 1), ('clarksville', 1), ('dardanelle', 1), ('1015', 1), ('choctaw', 1), ('arcadia', 1), ('tstorm', 1), ('345pm', 1), ('weakening', 1), ('lubbock', 1), ('boundary', 1), ('sevenfigz', 1), ('expense', 1), ('lips', 1), ('yennora', 1), ('cabramatta', 1), ('residual', 1), ('websites', 1), ('otto', 1), ('reggie', 1), ('fond', 1), ('tearshttpstcosz2rvwpwhjhttpstcolajx578dru', 1), ('lively', 1), ('tactical', 1), ('finale', 1), ('serephina', 1), ('defeater', 1), ('yeaahh', 1), ('rabbisocial', 1), ('spliff', 1), ('hoffmans', 1), ('voices', 1), ('bridgeport', 1), ('burglar', 1), ('studies', 1), ('calabria', 1), ('malta', 1), ('padded', 1), ('qty', 1), ('southpointe', 1), ('boulevard', 1), ('warra', 1), ('whitewalkers', 1), ('intrigued', 1), ('gp', 1), ('niamh', 1), ('airhttptcoyh1cgln3rl', 1), ('poconorecord', 1), ('households', 1), ('virtual', 1), ('listings', 1), ('547', 1), ('dorrie', 1), ('caruana', 1), ('catechize', 1), ('confidential', 1), ('respects', 1), ('seatbelts', 1), ('recks', 1), ('intrusion', 1), ('interior', 1), ('sg', 1), ('sealed', 1), ('everyoneoh', 1), ('schoolokim', 1), ('tx5sos', 1), ('strikesstrikes', 1), ('schoolboy', 1), ('mixexcision', 1), ('skism', 1), ('sexism', 1), ('remixfirebeatz', 1), ('schella', 1), ('kidsloud', 1), ('downaggravating', 1), ('63rdprairie', 1), ('sb57', 1), ('distribution', 1), ('sb228', 1), ('relating', 1), ('repaired', 1), ('savs', 1), ('convinced', 1), ('guage', 1), ('eyeball', 1), ('seamstress', 1), ('elvia', 1), ('159', 1), ('tonne', 1), ('mat', 1), ('riches', 1), ('decrease', 1), ('salisbury', 1), ('325', 1), ('cypress', 1), ('10am', 1), ('infamy', 1), ('spies', 1), ('satelite', 1), ('compl', 1), ('sassy', 1), ('hunk', 1), ('smoky', 1), ('fe', 1), ('studebaker', 1), ('superintendent', 1), ('lanford', 1), ('woo', 1), ('hoo', 1), ('patricio', 1), ('jm', 1), ('lozano', 1), ('willow', 1), ('glen', 1), ('trestle', 1), ('i80', 1), ('guards', 1), ('jamal', 1), ('cangt', 1), ('kfc', 1), ('samelsamel', 1), ('hosts', 1), ('reconnect', 1), ('cottages', 1), ('salha1harry', 1), ('styles2u', 1), ('peoplehurryevacuate', 1), ('fromhelljust', 1), ('shahadaamppickmeclasssick', 1), ('weakened', 1), ('authoritarian', 1), ('disasternytimes', 1), ('ursula', 1), ('drool', 1), ('protoshoggoth', 1), ('saddle', 1), ('accountable', 1), ('preferable', 1), ('tawfmcaw', 1), ('beatdown', 1), ('prodemocracy', 1), ('saams', 1), ('httptcoizghpyqko4', 1), ('ferrochrome', 1), ('verge', 1), ('s61231a', 1), ('index', 1), ('s3xleakph0tos', 1), ('19yrs', 1), ('ashwo', 1), ('festac', 1), ('exp0sed', 1), ('bbm', 1), ('faminememories', 1), ('xl6162', 1), ('linkhttptco74yfqxvak0', 1), ('319', 1), ('meats', 1), ('incinerator', 1), ('pulkovo', 1), ('superiority', 1), ('unconditional', 1), ('putingame', 1), ('matchrelease', 1), ('governmenthttptcozonnqgsxyw', 1), ('minion', 1), ('indexing', 1), ('remedial', 1), ('angioplasty', 1), ('dissertation', 1), ('dismayed', 1), ('rtamerica', 1), ('rtcom', 1), ('zonewolf123', 1), ('ourmothermary', 1), ('janenelson097', 1), ('stephenscifi', 1), ('adaptation', 1), ('optioned', 1), ('geekapocalypse', 1), ('hesse', 1), ('fittscott', 1), ('accountability', 1), ('40hourfamine', 1), ('watchmanis216', 1), ('twitsandiego', 1), ('asphalt', 1), ('thr', 1), ('thrarchives', 1), ('1928', 1), ('httptcouuew4mjles', 1), ('sketches', 1), ('rtphotographyuk', 1), ('roadid', 1), ('rabidmonkeys1', 1), ('pemantaujkt48', 1), ('melodyjkt', 1), ('patrickjbutler', 1), ('damiengayle', 1), ('owenrbroadhurst', 1), ('juanmthompson', 1), ('hist', 1), ('notexplained', 1), ('infamous', 1), ('db', 1), ('naayf', 1), ('chandanee', 1), ('magu', 1), ('conf', 1), ('mmeaustin', 1), ('kurtkamka', 1), ('karnythia', 1), ('hirochii0', 1), ('greta', 1), ('impeach', 1), ('grantfactory', 1), ('weymouth', 1), ('seawalls', 1), ('grants', 1), ('emekagift', 1), ('vpsay', 1), ('muhammadu', 1), ('buhari', 1), ('iger', 1), ('alisonannyoung', 1), ('devereaux', 1), ('tanzania', 1), ('dryden', 1), ('spotted', 1), ('spun', 1), ('sylvan', 1), ('sudans', 1), ('httpstcomexwohd3tg', 1), ('pills', 1), ('lith', 1), ('likened', 1), ('probation', 1), ('fines', 1), ('1179', 1), ('providers', 1), ('250k', 1), ('anonymous', 1), ('directed', 1), ('livescience', 1), ('edsa', 1), ('cubao', 1), ('753', 1), ('occupied', 1), ('spouse', 1), ('rp', 1), ('silo', 1), ('260th', 1), ('hartford', 1), ('converting', 1), ('cuff', 1), ('rossendale', 1), ('roquey', 1), ('mollusk', 1), ('mayweathers', 1), ('romantic', 1), ('sensei', 1), ('sandunes', 1), ('gentle', 1), ('lapping', 1), ('gulls', 1), ('goodells', 1), ('elk', 1), ('robotrainstorm', 1), ('vacancies', 1), ('gagnon', 1), ('imposing', 1), ('ballews', 1), ('cascade', 1), ('childress', 1), ('uphill', 1), ('rnk', 1), ('rockingham', 1), ('stokes', 1), ('supplemental', 1), ('modesto', 1), ('rmt', 1), ('browne', 1), ('listeners', 1), ('2100', 1), ('timesofindia', 1), ('rizzo', 1), ('riverside', 1), ('tlk', 1), ('widout', 1), ('nuh', 1), ('itz', 1), ('rubbery', 1), ('assessment', 1), ('optimization', 1), ('routing', 1), ('whoevers', 1), ('crowds', 1), ('reeves', 1), ('cornercroydonizationaugust', 1), ('bah', 1), ('autumnwintermenswear', 1), ('morty', 1), ('richie', 1), ('rgj', 1), ('revise', 1), ('scenario', 1), ('bromleythe', 1), ('revel8ion', 1), ('filmedrockyfire', 1), ('revel', 1), ('farewell', 1), ('gtxrwm', 1), ('everton', 1), ('14yearold', 1), ('wonderkid', 1), ('reusing', 1), ('equipments', 1), ('drumming', 1), ('champaign', 1), ('fdbdp', 1), ('silverman', 1), ('sarahksilvermansoundtrack', 1), ('tracey', 1), ('ullman', 1), ('thane', 1), ('unfortun', 1), ('orleans', 1), ('orlean', 1), ('ribbon', 1), ('blackwhite', 1), ('repulsive', 1), ('refugeesvictimiserdutton', 1), ('evangelicalliarabbott', 1), ('dupe', 1), ('overdrive', 1), ('styled', 1), ('undergroundbestsellers', 1), ('runin', 1), ('roadwayproperty', 1), ('15901', 1), ('statesville', 1), ('curry', 1), ('herman', 1), ('stephenson', 1), ('brewer', 1), ('51point', 1), ('renewing', 1), ('cabinets', 1), ('jacinta', 1), ('2k13', 1), ('buff', 1), ('render', 1), ('proxy', 1), ('ssu', 1), ('karen', 1), ('enviromental', 1), ('pita', 1), ('hijacks', 1), ('shortcutshttptcoqwdkzti97g', 1), ('supremacist', 1), ('anders', 1), ('breivik', 1), ('unsurprisingly', 1), ('antifeministhttptco1lxnjvl8tr', 1), ('sgtmaj', 1), ('roni', 1), ('ghanem', 1), ('maghar', 1), ('rebecca', 1), ('roga', 1), ('pittsburgh', 1), ('barcousky', 1), ('pb', 1), ('mordechai', 1), ('yehuda', 1), ('friedman', 1), ('ramat', 1), ('shemesh', 1), ('marlene', 1), ('menahem', 1), ('moshav', 1), ('safsufa', 1), ('devastating', 1), ('descendants', 1), ('carousel', 1), ('kane', 1), ('birb', 1), ('nora', 1), ('bomban', 1), ('recur', 1), ('greystone', 1), ('85885473', 1), ('janta', 1), ('planing', 1), ('constellation', 1), ('gaia', 1), ('iclowns', 1), ('drumstep', 1), ('remix2iclown', 1), ('relaxinpr', 1), ('miprv', 1), ('latimes', 1), ('bureaucrats', 1), ('hereamp8217s', 1), ('ministersays', 1), ('campground', 1), ('connections', 1), ('indiegogo', 1), ('redscarebot', 1), ('tanstaafl23', 1), ('noahanyname', 1), ('rstormcoming', 1), ('offensivecontent', 1), ('specif', 1), ('soudelor15', 1), ('mariana', 1), ('0600', 1), ('faction', 1), ('bickleton', 1), ('930pm', 1), ('canteen', 1), ('warped', 1), ('discount', 1), ('redesigning', 1), ('itrawcwb', 1), ('reallife', 1), ('lifewomen', 1), ('jtw', 1), ('bucs', 1), ('errrr', 1), ('faisal', 1), ('devjis', 1), ('extremists', 1), ('huzzah', 1), ('vermilion', 1), ('reade', 1), ('unhealed', 1), ('unending', 1), ('mankinds', 1), ('invention', 1), ('schoolboys', 1), ('rationing', 1), ('rascal', 1), ('flatts', 1), ('concertaugust', 1), ('20152', 1), ('rasaudauthor', 1), ('16yearold', 1), ('ranking', 1), ('convection', 1), ('spits', 1), ('gloucestergloucester', 1), ('ireporter', 1), ('damatu', 1), ('soaker', 1), ('raffirc', 1), ('sustainourearth', 1), ('wells', 1), ('scoopit', 1), ('scandals', 1), ('israels', 1), ('ashdod', 1), ('emittin', 1), ('europeradio', 1), ('rlyeh', 1), ('heregtcnn', 1), ('purported', 1), ('quirk', 1), ('mthe', 1), ('premises', 1), ('reliable', 1), ('anakin', 1), ('qtszg', 1), ('mhtw4fnetsuicide', 1), ('qld', 1), ('queensland', 1), ('elephants', 1), ('masse', 1), ('backlash', 1), ('entitlement', 1), ('jihad', 1), ('islamaphobe', 1), ('httptcobpg68gxi9k', 1), ('pulse', 1), ('tuning', 1), ('201516', 1), ('315', 1), ('ctr', 1), ('goshen', 1), ('aims', 1), ('1922', 1), ('psp', 1), ('3422', 1), ('psalm3422', 1), ('misti', 1), ('splitting', 1), ('personalities', 1), ('techies', 1), ('burners', 1), ('burninglavaonfire', 1), ('gloves', 1), ('argentinean', 1), ('propertycasu', 1), ('peopleforestswildlifewater', 1), ('syndicate', 1), ('httptcolz8xmyi75x', 1), ('progressive', 1), ('greetingsin', 1), ('publications', 1), ('motel', 1), ('nightsad', 1), ('rockn', 1), ('phillip', 1), ('amritsarthats', 1), ('exaggerated', 1), ('vegetables', 1), ('poses', 1), ('strips', 1), ('abrianna', 1), ('neat', 1), ('onesie', 1), ('preacher', 1), ('praise', 1), ('hiv', 1), ('aggravated', 1), ('unu', 1), ('gc', 1), ('poway', 1), ('hcg', 1), ('ensures', 1), ('mole', 1), ('whensoever', 1), ('nevermore', 1), ('above', 1), ('sizygwwf', 1), ('appoints', 1), ('brig', 1), ('gen', 1), ('kaiser', 1), ('mississippi', 1), ('mrc', 1), ('httptcoot3bjjhh8s', 1), ('postal', 1), ('hago', 1), ('escuchando', 1), ('ke', 1), ('pedo', 1), ('towel', 1), ('warmer', 1), ('porcupine', 1), ('familieshttptcom1rfbpodi9', 1), ('fried', 1), ('ravioliwith', 1), ('porcini', 1), ('ricotta', 1), ('liv', 1), ('dudehe', 1), ('valerielol', 1), ('kiki', 1), ('preschool', 1), ('policylab', 1), ('neglect', 1), ('policyholders', 1), ('clico', 1), ('grandmother', 1), ('wasnamp8217t', 1), ('30s', 1), ('carmi', 1), ('assailant', 1), ('deliberately', 1), ('carolinaablaze', 1), ('blowin', 1), ('retard', 1), ('drain', 1), ('fre', 1), ('suspe', 1), ('jihadis', 1), ('amiddleaged', 1), ('manarmed', 1), ('nonlife', 1), ('71', 1), ('beloeil', 1), ('richelieusaintlaurent', 1), ('expanding', 1), ('streethttptcodaacj5hfmq', 1), ('tetovo', 1), ('pnc', 1), ('holmdel', 1), ('nabbed', 1), ('pledged', 1), ('plymouth', 1), ('litter', 1), ('silveradoavalancheblazertahoe', 1), ('alllll', 1), ('nittys', 1), ('stockwell', 1), ('plotin', 1), ('futurea', 1), ('totalitarian', 1), ('employs', 1), ('firemen', 1), ('literature', 1), ('deadi', 1), ('profithungry', 1), ('nowhttpstco4zsxjgv7it', 1), ('essenceofme', 1), ('majorshes', 1), ('indoor', 1), ('trampoline', 1), ('josh', 1), ('salyersblairhall', 1), ('jennas', 1), ('polevaulter', 1), ('kira', 1), ('grnberg', 1), ('paraplegic', 1), ('reiterate', 1), ('recentlu', 1), ('brasswork', 1), ('shaken', 1), ('expresident', 1), ('goodluck', 1), ('diverts', 1), ('musim', 1), ('aborted', 1), ('pkadlik', 1), ('jojowizphilipp', 1), ('hiss', 1), ('pisces', 1), ('wristband', 1), ('puppy', 1), ('twp', 1), ('driscoll', 1), ('snags', 1), ('parkway', 1), ('masonite', 1), ('wahpeton', 1), ('inches', 1), ('longll', 1), ('pickathon', 1), ('jackass', 1), ('stuffin', 1), ('preserve', 1), ('ajw', 1), ('cs6', 1), ('littlebitofbass', 1), ('silinski', 1), ('onthe', 1), ('hookier', 1), ('stills', 1), ('hakogaku', 1), ('andchina', 1), ('cottage', 1), ('xshanemichaelsx', 1), ('instaxbooty', 1), ('tumbleon', 1), ('weallheartonedirection', 1), ('theonion', 1), ('heroically', 1), ('susfu', 1), ('cptesco', 1), ('0939pm', 1), ('referencereference', 1), ('xekstrin', 1), ('partake', 1), ('brooks', 1), ('neardinosaur', 1), ('provincial', 1), ('prettyboyshyflizzy', 1), ('postapocalypticflimflam', 1), ('prodding', 1), ('mediathe', 1), ('thundersnow', 1), ('uncommon', 1), ('encoded', 1), ('sensory', 1), ('cognitive', 1), ('affliction', 1), ('await', 1), ('disembarkment', 1), ('palermo', 1), ('forrestmankins', 1), ('deadgirltalking', 1), ('unfortunemelody', 1), ('jaylenejoybeligan', 1), ('tarynel', 1), ('dredougie', 1), ('santanicopandemonium', 1), ('boyhaus', 1), ('montanas', 1), ('bonesymcbones', 1), ('beartooth', 1), ('cosmetic', 1), ('periwinkle', 1), ('piping', 1), ('ambi', 1), ('bribe', 1), ('efcc', 1), ('operativessee', 1), ('ip', 1), ('diplomat', 1), ('matthews', 1), ('pharma', 1), ('overloaded', 1), ('petitionno', 1), ('1890', 1), ('heartless', 1), ('remaster', 1), ('frame', 1), ('windwakerstyle', 1), ('perspectives', 1), ('jihadi', 1), ('protostates', 1), ('permutable', 1), ('qwkd', 1), ('outnumbering', 1), ('licenses', 1), ('floridas', 1), ('coverup', 1), ('perez', 1), ('niley', 1), ('shipper', 1), ('malaysias', 1), ('documentary', 1), ('narrated', 1), ('parter', 1), ('jwalk', 1), ('interrupt', 1), ('bernard', 1), ('themusamisan', 1), ('graduated', 1), ('tagging', 1), ('illusions', 1), ('rouseys', 1), ('ridiculing', 1), ('pennlive', 1), ('mechanicsburg', 1), ('horno', 1), ('pelling', 1), ('hotels', 1), ('strings', 1), ('concealment', 1), ('rejuvenating', 1), ('pqhaxp', 1), ('peel', 1), ('southdown', 1), ('windsor', 1), ('peddle', 1), ('floorboard', 1), ('backroad', 1), ('cookie', 1), ('dough', 1), ('paw', 1), ('linkhttptcon7tg7roamu', 1), ('emile', 1), ('hirsch', 1), ('qampa', 1), ('filmmakers', 1), ('happenedlooks', 1), ('dorrett', 1), ('craig', 1), ('roy', 1), ('199899', 1), ('spx', 1), ('finite', 1), ('mint', 1), ('patientreported', 1), ('outcomes', 1), ('metastatic', 1), ('colorectal', 1), ('bayelsastate', 1), ('obliterationback', 1), ('deadstory', 1), ('upclose', 1), ('bestival', 1), ('molloy', 1), ('21st', 1), ('sheet', 1), ('2082676773', 1), ('than', 1), ('preconditioning', 1), ('corals', 1), ('panoramic', 1), ('cuts', 1), ('tindering', 1), ('20mins', 1), ('gospel', 1), ('ebolahttptcocy0ciu2u1c', 1), ('amo', 1), ('sublime', 1), ('facephotos', 1), ('ogbor', 1), ('pams', 1), ('wounding', 1), ('paladins', 1), ('ndtv', 1), ('pakistans', 1), ('empower', 1), ('milita', 1), ('disowned', 1), ('disowns', 1), ('departed', 1), ('712am', 1), ('panay', 1), ('guimaras', 1), ('mountainous', 1), ('packing', 1), ('pacic', 1), ('rsf', 1), ('gag', 1), ('overturns', 1), ('crashgthttptcold0uniyw4k', 1), ('lads', 1), ('respondents', 1), ('consciousness', 1), ('fgcu', 1), ('tipster', 1), ('previews', 1), ('481', 1), ('vuca', 1), ('raghu', 1), ('wardens', 1), ('specialized', 1), ('isnormal', 1), ('acceptable', 1), ('builder', 1), ('blackmail', 1), ('climbed', 1), ('wheelsio', 1), ('hawkhis', 1), ('beltmr', 1), ('srk', 1), ('osp', 1), ('mounting', 1), ('osage', 1), ('expander', 1), ('oregons', 1), ('slows', 1), ('orchid', 1), ('riders', 1), ('forex', 1), ('indicator', 1), ('irretrievable', 1), ('airborne', 1), ('controls', 1), ('sjfeb', 1), ('oopsh', 1), ('okinawan', 1), ('coastfell', 1), ('1965httptcoyvsjyzwxjr', 1), ('oof', 1), ('vassals', 1), ('onofre', 1), ('payer', 1), ('karma', 1), ('shadowman', 1), ('monstrosities', 1), ('tsutomi', 1), ('yamaguchi', 1), ('commodity', 1), ('jaiden', 1), ('xcom', 1), ('infantryman', 1), ('experimental', 1), ('tutorials', 1), ('assertative', 1), ('appraisal', 1), ('hostageshttptcobaqocmcjqc', 1), ('30005000', 1), ('enslaved', 1), ('iraqs', 1), ('diegt', 1), ('candidates', 1), ('upshit', 1), ('rted', 1), ('lydia', 1), ('4x11', 1), ('dereks', 1), ('loft', 1), ('fatally', 1), ('x1441', 1), ('x1435', 1), ('x1434', 1), ('x1431', 1), ('x1424', 1), ('x1421', 1), ('x1415', 1), ('x1411', 1), ('x1402', 1), ('x1392', 1), ('x1386', 1), ('zipped', 1), ('considered', 1), ('makers', 1), ('crop', 1), ('shine', 1), ('sleet', 1), ('melted', 1), ('cube', 1), ('0327', 1), ('0025', 1), ('appetite', 1), ('billboard', 1), ('perforated', 1), ('shear', 1), ('sfor', 1), ('seismicresistant', 1), ('humble', 1), ('alivebut', 1), ('junctions', 1), ('j3', 1), ('j3a', 1), ('eve', 1), ('wmata', 1), ('honored', 1), ('influential', 1), ('severing', 1), ('688', 1), ('1862', 1), ('illustrated', 1), ('horrifying', 1), ('7302015', 1), ('admitted', 1), ('zergele', 1), ('qendil', 1), ('omron', 1), ('hem712c', 1), ('dicks', 1), ('chopper', 1), ('3acre', 1), ('ooharrybecareful', 1), ('tricky', 1), ('dicky', 1), ('krag', 1), ('necessarily', 1), ('omfgdidnt', 1), ('pandora', 1), ('loudmy', 1), ('multidimensional', 1), ('multidimensiona', 1), ('multidimensio', 1), ('multidimensi', 1), ('multidimen', 1), ('multidime', 1), ('rookie', 1), ('bathroomits', 1), ('louderthings', 1), ('horrendous', 1), ('maxed', 1), ('inquisition', 1), ('darkspawn', 1), ('oiled', 1), ('closeup', 1), ('fukurodani', 1), ('bokuto', 1), ('ppor', 1), ('colombian', 1), ('sparking', 1), ('akxbskdn', 1), ('ls', 1), ('domination', 1), ('sheetingaaaaaand', 1), ('lightningi', 1), ('dusts', 1), ('fidgets', 1), ('ricochet', 1), ('shelly', 1), ('madonna', 1), ('1987', 1), ('boots', 1), ('harmony', 1), ('aunts', 1), ('keller', 1), ('blackforestgateau', 1), ('ryans', 1), ('rosie', 1), ('odonnell', 1), ('fosters', 1), ('awe', 1), ('snowman', 1), ('wireswait', 1), ('elected', 1), ('nevermind', 1), ('diane', 1), ('randomactsofromance', 1), ('unsurprised', 1), ('ogun', 1), ('shootout', 1), ('developing', 1), ('symptoms', 1), ('caseedward', 1), ('khan', 1), ('lancaster', 1), ('spectators', 1), ('kinesiology', 1), ('ironman', 1), ('longlasting', 1), ('durability', 1), ('effectiveness', 1), ('exc', 1), ('deluxe', 1), ('supporthealthhomebathroomsupportelderlyinjureds', 1), ('invincible', 1), ('trolls', 1), ('ampautomated', 1), ('netbots', 1), ('complimentary', 1), ('worthless', 1), ('savior', 1), ('140km', 1), ('ferndale', 1), ('kenyatta', 1), ('muumbo', 1), ('citizensthanks', 1), ('hooked', 1), ('professionally', 1), ('unsensibly', 1), ('outrun', 1), ('2001', 1), ('volvo', 1), ('xc70', 1), ('dashboard', 1), ('wvent', 1), ('oc73x', 1), ('obsolete', 1), ('obligatory', 1), ('seekers', 1), ('ndetention', 1), ('wunscreened', 1), ('declarat', 1), ('lambasted', 1), ('jokewould', 1), ('casualtieshttptcogxqmdmza1ugopmaddow', 1), ('assumes', 1), ('leelanau', 1), ('2b', 1), ('extended', 1), ('nvidia', 1), ('tablets', 1), ('hazardhttptcom3nsix073invidia', 1), ('nuu', 1), ('fwt', 1), ('nueva', 1), ('favorita', 1), ('nuclearpowered', 1), ('brassiere', 1), ('railguns', 1), ('t1000s', 1), ('centerhttptcokf74o2mcschttpstcon2zhrchcgv', 1), ('disasterirandeal', 1), ('galactics', 1), ('spaceshiptwo', 1), ('sthazard', 1), ('spillstarted', 1), ('1138am', 1), ('1154amimpact', 1), ('nside', 1), ('dragons', 1), ('undera', 1), ('kamchatka', 1), ('bydaniel', 1), ('korzhonovhttptco8t36hwgoqd', 1), ('freaks', 1), ('listenlive', 1), ('jokes', 1), ('trending', 1), ('ruler', 1), ('informants', 1), ('lunatics', 1), ('rental', 1), ('smashing', 1), ('pumpkins', 1), ('web', 1), ('wilderness', 1), ('roppongi', 1), ('22pm', 1), ('wsls', 1), ('childcare', 1), ('stations', 1), ('nout', 1), ('rubbin', 1), ('notleys', 1), ('tactful', 1), ('direct', 1), ('harpers', 1), ('albertas', 1), ('surprises', 1), ('puth', 1), ('brats', 1), ('kiddos', 1), ('gi', 1), ('sang', 1), ('destination', 1), ('daubt', 1), ('penneys', 1), ('debut', 1), ('severino', 1), ('adjustments', 1), ('refill', 1), ('tourniquet', 1), ('ipok', 1), ('detouring', 1), ('nooooooooo', 1), ('nooooo', 1), ('hotty', 1), ('exaggeration', 1), ('ukrainian', 1), ('msmukraine', 1), ('nonpower', 1), ('playoff', 1), ('noel', 1), ('noches', 1), ('elbestia', 1), ('alexissanchez', 1), ('teammates', 1), ('goodnight', 1), ('gunners', 1), ('wayi', 1), ('constitute', 1), ('epidemic', 1), ('lasts', 1), ('snowflake', 1), ('propagating', 1), ('sweatfyi', 1), ('warpeople', 1), ('weaponwe', 1), ('dilemma', 1), ('setback', 1), ('righteousness', 1), ('jah', 1), ('shii', 1), ('intended', 1), ('gaga', 1), ('dungeon', 1), ('broadwater', 1), ('armys', 1), ('bangtan', 1), ('friendships', 1), ('disasternobody', 1), ('confidence', 1), ('japananonymous', 1), ('inmates', 1), ('remand', 1), ('laterim', 1), ('nikoniko12022', 1), ('nikon', 1), ('d50', 1), ('61', 1), ('slr', 1), ('lorr', 1), ('justine', 1), ('snapping', 1), ('nigeriantribune', 1), ('178', 1), ('florid', 1), ('sessions', 1), ('klitschko', 1), ('damaturu', 1), ('massiveflooding', 1), ('nieces', 1), ('kidsmegan', 1), ('swanger', 1), ('ruthann', 1), ('mccormick', 1), ('daisy', 1), ('henley', 1), ('niagara', 1), ('package', 1), ('tours', 1), ('yyeso', 1), ('ngata', 1), ('ng2x5', 1), ('mhtw4fnetwatch', 1), ('memebaiting', 1), ('camper', 1), ('foxsportscom', 1), ('nflweek1picks', 1), ('nflexpertpicks', 1), ('deflategate', 1), ('incremental', 1), ('disadvantaged', 1), ('tech', 1), ('obligations', 1), ('upah', 1), ('cramp', 1), ('bordentown', 1), ('news786uk', 1), ('islamist', 1), ('anjem', 1), ('choudary', 1), ('hallett', 1), ('billers', 1), ('promoted', 1), ('cliffhumble', 1), ('mullah', 1), ('ranks', 1), ('demise', 1), ('personalize', 1), ('customer', 1), ('cbc', 1), ('newcastle', 1), ('schoolgirl', 1), ('seaton', 1), ('delaval', 1), ('httptco18xq3fmuge', 1), ('piglet', 1), ('willyt', 1), ('ksl', 1), ('126', 1), ('millennium', 1), ('plaza', 1), ('sturgis', 1), ('urges', 1), ('critics', 1), ('favors', 1), ('smp', 1), ('ks315', 1), ('abuses', 1), ('qb', 1), ('unaffected', 1), ('fosteramp039s', 1), ('prysmian', 1), ('secures', 1), ('durden', 1), ('cowboys', 1), ('dunbaramp039s', 1), ('thesensualeyemodel', 1), ('damagetoronto', 1), ('apr', 1), ('2014nsfw', 1), ('smb', 1), ('relay', 1), ('steals', 1), ('credentials', 1), ('enablement', 1), ('trooper', 1), ('bobble', 1), ('funko', 1), ('nanotech', 1), ('clots', 1), ('titadom', 1), ('prints', 1), ('lulu', 1), ('mypillowstudio', 1), ('behead', 1), ('tlvfaces', 1), ('tlvfacesauspol', 1), ('illustration', 1), ('manly', 1), ('pin2327564d', 1), ('pantofel', 1), ('pin23928835', 1), ('pictwittercompnpizody', 1), ('featcha', 1), ('edkins', 1), ('jarring', 1), ('explosionproof', 1), ('tempered', 1), ('protector', 1), ('blackberry', 1), ('z10', 1), ('expansion', 1), ('bard', 1), ('etx', 1), ('marionharrison', 1), ('pointing', 1), ('doco', 1), ('setanta', 1), ('freeview', 1), ('punishable', 1), ('cocktail', 1), ('mas', 1), ('verde', 1), ('mezcal', 1), ('chartreuse', 1), ('cucumber', 1), ('bitters', 1), ('boonie', 1), ('usmc', 1), ('airsoft', 1), ('paintball', 1), ('woodland', 1), ('cp030', 1), ('boltcyclone', 1), ('pp400dr', 1), ('packfor', 1), ('flash30', 1), ('fnaf', 1), ('fanfiction', 1), ('trixiedrowned', 1), ('pageshi', 1), ('proxies', 1), ('15day', 1), ('altered', 1), ('achieving', 1), ('quarrels', 1), ('compromise', 1), ('armageddonwatchmen', 1), ('netnewsledger', 1), ('therewere', 1), ('rebuilding', 1), ('livelihoods', 1), ('ekiti', 1), ('rainwindstorm', 1), ('odeekiti', 1), ('gbonyin', 1), ('lga', 1), ('neileastwood77', 1), ('knobhead', 1), ('uke', 1), ('neelum', 1), ('dud', 1), ('muzaffarabad', 1), ('teenage', 1), ('bottling', 1), ('stall', 1), ('ping', 1), ('meturns', 1), ('captivity', 1), ('introduced', 1), ('compensate', 1), ('shattered', 1), ('visage', 1), ('nbcnightlynews', 1), ('billneelynbc', 1), ('nbanews', 1), ('vaccine', 1), ('submarines', 1), ('writes', 1), ('cmdr', 1), ('sidearm', 1), ('nosc', 1), ('lubrication', 1), ('metrofmtalk', 1), ('newser', 1), ('aampw', 1), ('2pmclose', 1), ('donations', 1), ('disclos', 1), ('natalie', 1), ('stavola', 1), ('costar', 1), ('pacifics', 1), ('hildath', 1), ('modis', 1), ('morocco', 1), ('straits', 1), ('gibraltar', 1), ('electr', 1), ('namjoons', 1), ('chizugender', 1), ('maleage', 1), ('10hair', 1), ('redeyes', 1), ('pinkdere', 1), ('pasokonblood', 1), ('ohttptcocoypf9actd', 1), ('srsly', 1), ('partners', 1), ('ampstart', 1), ('dribbling', 1), ('ampask', 1), ('urself', 1), ('embarrassment', 1), ('naaa', 1), ('sore', 1), ('mygc', 1), ('suspend', 1), ('myanmars', 1), ('coun', 1), ('childfund', 1), ('appeals', 1), ('occur', 1), ('cruising', 1), ('pandaw', 1), ('expeditions', 1), ('operating', 1), ('landsli', 1), ('regions', 1), ('dwindling', 1), ('suppl', 1), ('wedneday', 1), ('opted', 1), ('historically', 1), ('bonfires', 1), ('firesrain', 1), ('vibrator', 1), ('vape', 1), ('busted', 1), ('parks', 1), ('imposition', 1), ('4am', 1), ('rl', 1), ('accidently', 1), ('exams', 1), ('ocd', 1), ('sundaydont', 1), ('infact', 1), ('zimmer', 1), ('isinjury', 1), ('battleanother', 1), ('portable', 1), ('impulsive', 1), ('redesigned', 1), ('breakingfalling', 1), ('lifelong', 1), ('alltime', 1), ('temp', 1), ('weloveyoulouis', 1), ('effected', 1), ('pensioner', 1), ('storiessafe', 1), ('melbourne', 1), ('fade', 1), ('100nd', 1), ('staining', 1), ('meetinghopefully', 1), ('excite', 1), ('stefano', 1), ('kennel', 1), ('yorkshire', 1), ('farted', 1), ('broom', 1), ('lookin', 1), ('thinner', 1), ('fundwhen', 1), ('chords', 1), ('chacos', 1), ('8pm', 1), ('crunchysensible', 1), ('footwear', 1), ('brothernlaw', 1), ('riooooos', 1), ('brains', 1), ('vibrating', 1), ('mri', 1), ('readout', 1), ('faultline', 1), ('disappointing', 1), ('buzzy', 1), ('kame', 1), ('sunburned', 1), ('wreak', 1), ('seatbelt', 1), ('header', 1), ('shhhh', 1), ('mxaaaa', 1), ('mva', 1), ('e7', 1), ('requesting', 1), ('r7', 1), ('sunstar', 1), ('mustsee', 1), ('buildingsloses', 1), ('wrld', 1), ('murfreesboro', 1), ('mumps', 1), ('mumbai24x7', 1), ('ind', 1), ('mums', 1), ('housesbuildings', 1), ('kalispell', 1), ('mtr', 1), ('appalling', 1), ('businessmen', 1), ('msha', 1), ('mrw', 1), ('liveshttptcoltyefjdm3a', 1), ('brut', 1), ('banki', 1), ('mouna', 1), ('knobbootemergency', 1), ('12v', 1), ('24v', 1), ('motogp', 1), ('indianapolis', 1), ('espargaro', 1), ('barrel', 1), ('ddnt', 1), ('ostentatious', 1), ('predatorhttpstcoiggfnbixt5', 1), ('segas', 1), ('gross', 1), ('morganite', 1), ('gemstone', 1), ('opal', 1), ('925', 1), ('r1354', 1), ('1921', 1), ('ch', 1), ('satin', 1), ('1880', 1), ('dmpl', 1), ('cameo', 1), ('rev', 1), ('moregtosha', 1), ('siteinvestigating', 1), ('noranda', 1), ('kfvs12', 1), ('girardeau', 1), ('carbondale', 1), ('campers', 1), ('blazes', 1), ('killedinjured', 1), ('killers', 1), ('dirtylying', 1), ('dishonest', 1), ('httptco3m7amh1e33whitegenocide', 1), ('asir', 1), ('mopheme', 1), ('bigstar', 1), ('montgomery', 1), ('weatherstay', 1), ('stds', 1), ('slogan', 1), ('prompting', 1), ('notorious', 1), ('laboratory', 1), ('dealer', 1), ('peta', 1), ('ninja', 1), ('commence', 1), ('momentsathill', 1), ('nunus', 1), ('timas', 1), ('bikes', 1), ('wished', 1), ('thatmom', 1), ('spilt', 1), ('mayonnaise', 1), ('mcr', 1), ('snort', 1), ('httptcojst5hauk35', 1), ('molecularly', 1), ('contig', 1), ('80m', 1), ('mmmmmm', 1), ('oooooohhhh', 1), ('oooh', 1), ('magnitudeml', 1), ('24regionnear', 1), ('misocapnist', 1), ('tobacco', 1), ('mirajane', 1), ('lalaloopsy', 1), ('seed', 1), ('sunburst', 1), ('seashore', 1), ('spice', 1), ('botha', 1), ('apartheid', 1), ('tutu', 1), ('nobel', 1), ('prize', 1), ('ira', 1), ('salivation', 1), ('beds', 1), ('kegm', 1), ('slithering', 1), ('viscous', 1), ('yeahs', 1), ('erykah', 1), ('badu', 1), ('livemint', 1), ('injuredsuspected', 1), ('magner', 1), ('erecting', 1), ('monuments', 1), ('dome', 1), ('nokia', 1), ('rrod', 1), ('bowknot', 1), ('womengirls', 1), ('zip', 1), ('jumper', 1), ('lifts', 1), ('glided', 1), ('onlin', 1), ('mgs4', 1), ('mgsv', 1), ('iffy', 1), ('killsone', 1), ('beaches', 1), ('72925', 1), ('subsecretariat', 1), ('garcia', 1), ('castells', 1), ('requa', 1), ('contemplation', 1), ('bridal', 1), ('wiwnpfxa', 1), ('metallica', 1), ('weirdos', 1), ('wweapons', 1), ('landowner', 1), ('tattoos', 1), ('bloodronaldo', 1), ('boards', 1), ('616', 1), ('mere', 1), ('spike', 1), ('30min', 1), ('ckec', 1), ('mentaltwitter', 1), ('reminders', 1), ('realdepression', 1), ('zipper', 1), ('reebok', 1), ('xl', 1), ('passive', 1), ('coerced', 1), ('commitment', 1), ('jessica', 1), ('hollis', 1), ('norwalk', 1), ('ordinance', 1), ('megalpolis', 1), ('petting', 1), ('shiver', 1), ('overflowwas', 1), ('commencement', 1), ('megadethsymphony', 1), ('megadeth', 1), ('hiking', 1), ('rs5', 1), ('brinco', 1), ('wedgie', 1), ('filesfranklin', 1), ('18franklin', 1), ('testa', 1), ('distinction', 1), ('divers', 1), ('htarvrgly', 1), ('casting', 1), ('deviating', 1), ('dyxtmrydu', 1), ('foxa', 1), ('cmcsa', 1), ('sni', 1), ('amcx', 1), ('viab', 1), ('twx', 1), ('hikers', 1), ('signin', 1), ('trailheads', 1), ('actively', 1), ('embraced', 1), ('audiences', 1), ('3060', 1), ('obliteratedhas', 1), ('ib', 1), ('lax', 1), ('2hours', 1), ('pga', 1), ('speculation', 1), ('fueled', 1), ('speculatio', 1), ('mbataweel', 1), ('align', 1), ('flirt', 1), ('rodder', 1), ('keeling', 1), ('427', 1), ('mustang', 1), ('barracuda', 1), ('riviera', 1), ('maxsys', 1), ('baume', 1), ('digs', 1), ('controversial', 1), ('matakomilk', 1), ('matako3', 1), ('master0fsloths', 1), ('httptcowuh1g2blp1', 1), ('fanatical', 1), ('hygiene', 1), ('guevara', 1), ('greeting', 1), ('bravery', 1), ('marsac', 1), ('causin', 1), ('3x5', 1), ('1x1', 1), ('destructions', 1), ('elvis', 1), ('presley', 1), ('panther', 1), ('marley', 1), ('brinx', 1), ('striptease', 1), ('nhk', 1), ('marketforces', 1), ('marketforce', 1), ('perth', 1), ('iinet', 1), ('nbn', 1), ('buffering', 1), ('activision', 1), ('cognizant', 1), ('toread', 1), ('calendars', 1), ('sr121', 1), ('maratha', 1), ('scorched', 1), ('bengalis', 1), ('cal', 1), ('lightman', 1), ('manuscript', 1), ('suspiciously', 1), ('viayoutube', 1), ('manuel', 1), ('accuracy', 1), ('improves', 1), ('mango', 1), ('icegtgtgtgt', 1), ('mane', 1), ('106', 1), ('butterflies', 1), ('swarmed', 1), ('canines', 1), ('niecehttptcoev1ahoucza', 1), ('underground', 1), ('morels', 1), ('ambleside', 1), ('farmr', 1), ('martsunmushroom', 1), ('foragesecret', 1), ('barrington', 1), ('hoffman', 1), ('estates', 1), ('singlecar', 1), ('afte', 1), ('nothingness', 1), ('blaise', 1), ('pascal', 1), ('radcliff', 1), ('dumpster', 1), ('moores', 1), ('alc', 1), ('currensy', 1), ('dubbo', 1), ('shawnee', 1), ('olathe', 1), ('kan', 1), ('hitandrun', 1), ('sbee', 1), ('thugging', 1), ('homies', 1), ('inmate', 1), ('saadthe', 1), ('kpdied', 1), ('2007he', 1), ('razak', 1), ('franceplane', 1), ('17months', 1), ('drift', 1), ('storming', 1), ('bebacksoon', 1), ('hamayun', 1), ('shaheed', 1), ('mi7', 1), ('heli', 1), ('almighty', 1), ('dh30000', 1), ('rattles', 1), ('magnetic', 1), ('electrostatic', 1), ('fusion', 1), ('kissimmee', 1), ('mafireems', 1), ('kcarosawmur', 1), ('14028', 1), ('maailiss', 1), ('maaaaan', 1), ('m9a1', 1), ('phrobis', 1), ('bayonet', 1), ('sheath', 1), ('nr', 1), ('utc5km', 1), ('m157', 1), ('0111', 1), ('utc3km', 1), ('henshaw', 1), ('epicente', 1), ('epicen', 1), ('07', 1), ('1km', 1), ('nne', 1), ('geysers', 1), ('234021', 1), ('164021', 1), ('utc20150806', 1), ('lzk', 1), ('815', 1), ('lyf', 1), ('lustig', 1), ('flattenedhe', 1), ('longercommons', 1), ('gms', 1), ('offwater', 1), ('00', 1), ('76mins', 1), ('lupe', 1), ('peaceloverescue', 1), ('luke', 1), ('ovaries', 1), ('luckily', 1), ('mexicans', 1), ('woulda', 1), ('lucas', 1), ('duda', 1), ('nic', 1), ('ltd', 1), ('tonka', 1), ('tfd', 1), ('refer', 1), ('boi', 1), ('lasso', 1), ('gasping', 1), ('giggling', 1), ('skiing', 1), ('corporation', 1), ('ubc', 1), ('98fm', 1), ('own', 1), ('apt', 1), ('jesse', 1), ('suffers', 1), ('trashed', 1), ('1061', 1), ('maddie', 1), ('tae', 1), ('sophie', 1), ('cultsierre', 1), ('susceptible', 1), ('ny2', 1), ('trama', 1), ('clancy', 1), ('novels', 1), ('paperback', 1), ('cardpanickind', 1), ('driverreplace', 1), ('cardfind', 1), ('cardheaddesk', 1), ('looooooooooool', 1), ('looooool', 1), ('montano', 1), ('stormfree', 1), ('happenings', 1), ('mudslidegbbo', 1), ('solicitor', 1), ('munch', 1), ('endangered', 1), ('cuyahoga', 1), ('greening', 1), ('methods', 1), ('obtaing', 1), ('rank', 1), ('transcription', 1), ('butiqob', 1), ('themayhoka', 1), ('longfoxysiren', 1), ('committing', 1), ('foo', 1), ('technically', 1), ('geologic', 1), ('loner', 1), ('diariesthe', 1), ('sandmay', 1), ('awaythe', 1), ('twosall', 1), ('choked', 1), ('redwing', 1), ('bombedout', 1), ('iiii', 1), ('riveeeeeer', 1), ('warthen', 1), ('bullpen', 1), ('meerkat', 1), ('periscope', 1), ('j2bone', 1), ('lollook', 1), ('infested', 1), ('americayour', 1), ('weaponyou', 1), ('wimp', 1), ('locksmithingart', 1), ('respecting', 1), ('elaboration', 1), ('lpdkl', 1), ('manhood', 1), ('sissy', 1), ('advances', 1), ('treasurehouse', 1), ('outbreed', 1), ('takehome', 1), ('akx', 1), ('foreclosed', 1), ('ontejc', 1), ('hhahaha', 1), ('fuckboy', 1), ('controlpseudojuuzo', 1), ('llll', 1), ('lizzie363', 1), ('floodrainstorm', 1), ('14000', 1), ('thnk', 1), ('wizard', 1), ('boyd', 1), ('internationaldomesticteam', 1), ('squadprofile', 1), ('injurylamha', 1), ('ba', 1), ('lamha', 1), ('updatefollowiccrealckt', 1), ('balanced', 1), ('gecko', 1), ('chillin', 1), ('litigation', 1), ('attorney', 1), ('scottsdale', 1), ('az', 1), ('bodily', 1), ('lithgow', 1), ('remodeled', 1), ('backty', 1), ('curds', 1), ('grandad', 1), ('blowers', 1), ('tuffers', 1), ('youthdid', 1), ('ithttpstco2liwkjybe9', 1), ('norge2040', 1), ('parenthoodwhiny', 1), ('aboooooortiooooonnnnns', 1), ('beth', 1), ('underwood', 1), ('altitude', 1), ('lindenow', 1), ('315pmemergency', 1), ('lily', 1), ('xo', 1), ('cowgirl', 1), ('yc', 1), ('unhappy', 1), ('purposely', 1), ('uncover', 1), ('slumber', 1), ('imperialism', 1), ('spins', 1), ('militarism', 1), ('crushes', 1), ('rpics', 1), ('trolleys', 1), ('ramify', 1), ('multitudinal', 1), ('disposed', 1), ('kwxggt', 1), ('vancouverisland', 1), ('mag', 1), ('73km', 1), ('khuzdar', 1), ('wednes', 1), ('lyricaleyes', 1), ('amazin', 1), ('dedication', 1), ('lhh', 1), ('mastered', 1), ('goof', 1), ('guild', 1), ('saunders', 1), ('glencoe', 1), ('haired', 1), ('dreamland', 1), ('goooooooo', 1), ('untill', 1), ('fence', 1), ('brbrs', 1), ('fousey', 1), ('prevented', 1), ('waimea', 1), ('brandace', 1), ('allwe', 1), ('consuming', 1), ('leitchfield', 1), ('bella', 1), ('rosalie', 1), ('rescueadoptionlocal', 1), ('homessponsorships', 1), ('leicestermerc', 1), ('worstever', 1), ('leesburg', 1), ('scoreless', 1), ('seventh', 1), ('fcsl', 1), ('embra', 1), ('tier', 1), ('dee', 1), ('dum', 1), ('lee', 1), ('leejasper', 1), ('volcanic', 1), ('thirtyfive', 1), ('fifteenmilehigh', 1), ('plume', 1), ('earners', 1), ('le', 1), ('breeder', 1), ('bred', 1), ('dragonvale', 1), ('lapses', 1), ('indi', 1), ('ti', 1), ('niqqa', 1), ('stressing', 1), ('pastie', 1), ('industrial', 1), ('wreckit', 1), ('calum36chambers', 1), ('benjamin', 1), ('leftwich', 1), ('30pcs', 1), ('12mm', 1), ('ab', 1), ('resin', 1), ('flatback', 1), ('rhinestone', 1), ('decoration', 1), ('catlow', 1), ('c720', 1), ('swivels', 1), ('3dc', 1), ('shar', 1), ('shaolin', 1), ('shen', 1), ('chiang', 1), ('venoms', 1), ('kung', 1), ('favori', 1), ('atop', 1), ('latternno2015', 1), ('ffa', 1), ('foodstand', 1), ('fairgrounds', 1), ('news3lv', 1), ('aquahttptcoscghl0piq6', 1), ('aluminum', 1), ('missouri', 1), ('renaomino', 1), ('langhornemiddletown', 1), ('heavyrain', 1), ('italianalps', 1), ('fleetwood', 1), ('durant', 1), ('nba', 1), ('adidas', 1), ('swingman', 1), ('huffington', 1), ('kuala', 1), ('lumpur', 1), ('shizunethe', 1), ('kou', 1), ('kotolily', 1), ('kosciusko', 1), ('kontrolled', 1), ('dice', 1), ('themthen', 1), ('kirsten', 1), ('gillibrand', 1), ('extend', 1), ('kindermorgan', 1), ('kimanzi', 1), ('demonstrations', 1), ('earl', 1), ('kijimamatako', 1), ('kiilud', 1), ('disappear', 1), ('atmospheric', 1), ('deconstruct', 1), ('kerri', 1), ('sackville', 1), ('kevin', 1), ('chefs', 1), ('pastures', 1), ('sustainable', 1), ('kesabaran', 1), ('membuahkan', 1), ('hasil', 1), ('indah', 1), ('pada', 1), ('saat', 1), ('tepat', 1), ('talisman', 1), ('cristiano', 1), ('mipasho', 1), ('kenny', 1), ('jonas', 1), ('kelly', 1), ('osbourne', 1), ('remark', 1), ('latinos', 1), ('kelby', 1), ('tomlinson', 1), ('mildmannered', 1), ('baseman', 1), ('metropolitan', 1), ('rbi', 1), ('askin', 1), ('meansnot', 1), ('answersplus', 1), ('thingthis', 1), ('councilman', 1), ('oneill', 1), ('sedar', 1), ('shaper', 1), ('width', 1), ('adjustable', 1), ('catering', 1), ('auditory', 1), ('hcxvneoav', 1), ('kcem', 1), ('whitner', 1), ('sr14', 1), ('hale', 1), ('kc5kh', 1), ('kayla', 1), ('kayaking', 1), ('katunews', 1), ('kanger', 1), ('coils', 1), ('rvaping101', 1), ('kakeru', 1), ('teduka', 1), ('bfore', 1), ('70years', 1), ('bomd', 1), ('dayhttptco8vzl1ns2io', 1), ('forbath', 1), ('landshttptco77ciwxabvatschoollands', 1), ('kach', 1), ('1994', 1), ('kabwandi', 1), ('kmatakobot', 1), ('knowits', 1), ('hairdryer', 1), ('nother', 1), ('tonguetwister', 1), ('purchases', 1), ('drako', 1), ('zarharzar', 1), ('those', 1), ('tusky', 1), ('convicted', 1), ('anthonys', 1), ('222pm', 1), ('regal', 1), ('orianna', 1), ('curling', 1), ('wand', 1), ('cuase', 1), ('pours', 1), ('carinduced', 1), ('cruisingblazing', 1), ('banging', 1), ('cech', 1), ('keegan', 1), ('collecting', 1), ('sandwich', 1), ('endorsement', 1), ('issit', 1), ('chachi', 1), ('junko', 1), ('juneau', 1), ('jun', 1), ('yemenis', 1), ('sana', 1), ('romeo', 1), ('juliet', 1), ('dismisses', 1), ('prisoner', 1), ('quantum', 1), ('judges', 1), ('radicalisation', 1), ('juanny', 1), ('beisbol', 1), ('jrowah', 1), ('jplocalfirst', 1), ('eliotschool', 1), ('artful', 1), ('joseph', 1), ('mallord', 1), ('turner', 1), ('1843', 1), ('clicca', 1), ('sul', 1), ('titolo', 1), ('07222015', 1), ('10k', 1), ('2015castle', 1), ('donington', 1), ('respondershttpstcog1nw99yj8u', 1), ('johnmtaita', 1), ('joelheyman', 1), ('750k', 1), ('anythin', 1), ('228', 1), ('217', 1), ('landolina', 1), ('joboozoso', 1), ('usat', 1), ('usatodaynfl', 1), ('harlan', 1), ('knox', 1), ('jiwa', 1), ('prayed', 1), ('jetstar', 1), ('bali', 1), ('niggaeven', 1), ('wolfgangjoc', 1), ('homage', 1), ('biggie', 1), ('smalls', 1), ('hypnotize', 1), ('gangs', 1), ('lgbt', 1), ('pollution', 1), ('unemployment', 1), ('jen', 1), ('bullied', 1), ('hoodie', 1), ('lj', 1), ('ej', 1), ('httptcomfl7jzspou', 1), ('fin', 1), ('pirates', 1), ('acquired', 1), ('fiat', 1), ('harman', 1), ('consumerist', 1), ('rocking', 1), ('rogers', 1), ('moseby', 1), ('barfield', 1), ('alexis', 1), ('restart', 1), ('fleet', 1), ('marke', 1), ('albeit', 1), ('unsuccessful', 1), ('fuso', 1), ('yamashiro', 1), ('cachet', 1), ('aogashima', 1), ('jane', 1), ('kelsey', 1), ('economy5th', 1), ('530730pmold', 1), ('wgtonthe', 1), ('kunstler', 1), ('ponds', 1), ('fishmomtherbot', 1), ('jade', 1), ('busines', 1), ('recordand', 1), ('behaviors', 1), ('helparsenal', 1), ('realism', 1), ('nottingham', 1), ('droughtcheck', 1), ('conserve', 1), ('dreadfully', 1), ('230', 1), ('morningampi', 1), ('tellyampi', 1), ('bangampmy', 1), ('dadwho', 1), ('legwalked', 1), ('freeing', 1), ('newidea', 1), ('wtwitter', 1), ('uneducated', 1), ('cocoa', 1), ('sip', 1), ('awesomesauce', 1), ('cams', 1), ('wompppp', 1), ('7amdollela', 1), ('3la', 1), ('kulli', 1), ('7aal', 1), ('separated', 1), ('constitutional', 1), ('politic', 1), ('676', 1), ('67676', 1), ('overpass', 1), ('joys', 1), ('menow', 1), ('floodyou', 1), ('fighterbut', 1), ('baaaack', 1), ('petersens', 1), ('bowhunting', 1), ('bows', 1), ('alil', 1), ('trapping', 1), ('dwarfs', 1), ('villain', 1), ('troisrivieres', 1), ('1130', 1), ('promotion', 1), ('everwhe', 1), ('curfewand', 1), ('saddlebrooke', 1), ('affair', 1), ('queer', 1), ('sultry', 1), ('rosenbergs', 1), ('collaborating', 1), ('superstition', 1), ('swami', 1), ('agnivesh', 1), ('weddings', 1), ('highlighted', 1), ('partially', 1), ('insanity', 1), ('erally', 1), ('unplug', 1), ('myelf', 1), ('tounge', 1), ('pepperoni', 1), ('gotdamn', 1), ('downside', 1), ('duma', 1), ('exercises', 1), ('greece', 1), ('httpstcog0r3zr1nqj', 1), ('croat', 1), ('deploying', 1), ('hence', 1), ('fronts', 1), ('isai', 1), ('601', 1), ('psm', 1), ('1388', 1), ('scattered', 1), ('creepiest', 1), ('argentina', 1), ('campusfind', 1), ('itscreams', 1), ('vibrates', 1), ('noooooooooooo', 1), ('manifesting', 1), ('helm', 1), ('darkstormytidalsea', 1), ('kcrw', 1), ('hedge', 1), ('impacts', 1), ('seclusion', 1), ('compliance', 1), ('inject', 1), ('veins', 1), ('wayward', 1), ('qzloremft', 1), ('vibe', 1), ('friending', 1), ('thursd', 1), ('detona', 1), ('worship', 1), ('superstitions', 1), ('irin', 1), ('tangles', 1), ('reconstruction', 1), ('reduction', 1), ('hashd', 1), ('shaabi', 1), ('theft', 1), ('inws', 1), ('spsgsp', 1), ('1040', 1), ('investment', 1), ('keurig', 1), ('thirdquarter', 1), ('afterhours', 1), ('waimate', 1), ('virg', 1), ('mueller', 1), ('nov', 1), ('meson', 1), ('invades', 1), ('ideasthe', 1), ('sociologist', 1), ('relative', 1), ('doer', 1), ('mhl', 1), ('westeros', 1), ('swords', 1), ('s5', 1), ('starks', 1), ('greyjoys', 1), ('paperwork', 1), ('simplify', 1), ('staffing', 1), ('logistics', 1), ('randy', 1), ('materialism', 1), ('cybersecurity', 1), ('basics', 1), ('defective', 1), ('intertissue', 1), ('guabxfv', 1), ('intactmh370partliftsoddsplaneglidednotcrashedintosea', 1), ('newstexas', 1), ('inspectors', 1), ('addresses', 1), ('refund', 1), ('forgottenaesop', 1), ('illnesses', 1), ('barcelona', 1), ('fullback', 1), ('alba', 1), ('infographic', 1), ('sct012', 1), ('bkn025', 1), ('sct014', 1), ('bkn032', 1), ('0605', 1), ('damp', 1), ('qnh', 1), ('1028', 1), ('infections', 1), ('neonatal', 1), ('infected', 1), ('piercings', 1), ('infantry', 1), ('lume', 1), ('analog', 1), ('shelling', 1), ('tahreer', 1), ('fireyemen', 1), ('shud', 1), ('pakthey', 1), ('attackshare', 1), ('contries', 1), ('incredulous', 1), ('outcry', 1), ('taxpayers', 1), ('objection', 1), ('100bn', 1), ('inciweb', 1), ('8515', 1), ('nf', 1), ('incheon', 1), ('prosecutors', 1), ('nami', 1), ('kim', 1), ('hangi', 1), ('inbounds', 1), ('boundswhile', 1), ('nl', 1), ('buted', 1), ('hopei', 1), ('knewim', 1), ('sinkingim', 1), ('sinkingaway', 1), ('youdont', 1), ('aroundyoull', 1), ('seeyou', 1), ('fastings', 1), ('pizzeria', 1), ('rococo', 1), ('alan', 1), ('perlis', 1), ('wonders', 1), ('addicts', 1), ('defensive', 1), ('decreases', 1), ('vulnerability', 1), ('flee', 1), ('burundis', 1), ('pascoe', 1), ('vale', 1), ('outbound', 1), ('tullamarine', 1), ('citylink', 1), ('offbeat', 1), ('odai', 1), ('bucharest', 1), ('romania', 1), ('dyingthey', 1), ('dangers', 1), ('interruptions', 1), ('annoy', 1), ('youhttptcozh6ausfbwh', 1), ('pundit', 1), ('grave', 1), ('horowitz', 1), ('vaccines', 1), ('nwo', 1), ('kalmikya', 1), ('astrakhan', 1), ('volgagrad', 1), ('dagestan', 1), ('locusts', 1), ('creeping', 1), ('inflicted', 1), ('derma', 1), ('brackets', 1), ('jimin', 1), ('droughts', 1), ('reimagining', 1), ('shakespeares', 1), ('midsummer', 1), ('crqck', 1), ('becyme', 1), ('mayor', 1), ('includes', 1), ('foursquare', 1), ('mayflower', 1), ('119000', 1), ('966', 1), ('imm', 1), ('imagini', 1), ('noi', 1), ('clipuri', 1), ('awakened', 1), ('20biomarkdarrah', 1), ('studentsplease', 1), ('suvs', 1), ('sooooooo', 1), ('maisy', 1), ('martha', 1), ('uncomfortable', 1), ('radneck', 1), ('cavaliers', 1), ('7071', 1), ('lakers', 1), ('illusoria', 1), ('icarus', 1), ('obamadhs', 1), ('offenses', 1), ('rivals', 1), ('loosers', 1), ('ij', 1), ('ks94', 1), ('ks57', 1), ('ks225', 1), ('ks161', 1), ('ks111', 1), ('ks100', 1), ('9798', 1), ('f250', 1), ('46lv8', 1), ('0308', 1), ('mazda', 1), ('30lv6', 1), ('0206', 1), ('acura', 1), ('rsx', 1), ('20ll4', 1), ('9096', 1), ('subaru', 1), ('22lh4', 1), ('0106', 1), ('325ci', 1), ('25ll6', 1), ('9395', 1), ('28lv6', 1), ('1581028', 1), ('1581017', 1), ('1580992', 1), ('1580853', 1), ('as10012', 1), ('as10004', 1), ('wpt994', 1), ('wpt410', 1), ('917141', 1), ('917032', 1), ('213924', 1), ('2134678', 1), ('213296', 1), ('ign', 1), ('influencers', 1), ('socialtimes', 1), ('yarbrough', 1), ('decisionsunless', 1), ('flaunt', 1), ('itthen', 1), ('slating', 1), ('disgrace', 1), ('boyfriends', 1), ('niggah', 1), ('onnnn', 1), ('aloneor', 1), ('stonecarry', 1), ('onmay', 1), ('soundof', 1), ('frustrated', 1), ('quantithttpstco64cymg1ltg', 1), ('smokes', 1), ('lou', 1), ('holtz', 1), ('rotating', 1), ('cigs', 1), ('tray', 1), ('lend', 1), ('anime', 1), ('ghostwriting', 1), ('rihanna', 1), ('8000', 1), ('paperstorm', 1), ('motivated', 1), ('donnelly', 1), ('thh', 1), ('furst', 1), ('patio', 1), ('umbrella', 1), ('flipped', 1), ('positivity', 1), ('rembr', 1), ('dotish', 1), ('vlog', 1), ('videobombed', 1), ('8132748811', 1), ('roar', 1), ('quiet', 1), ('phandom', 1), ('faved', 1), ('tyuler', 1), ('dirks', 1), ('injuriesthat', 1), ('uiseful', 1), ('fieldwide', 1), ('decapitated', 1), ('atl', 1), ('gander', 1), ('appease', 1), ('morbid', 1), ('wasthe', 1), ('thing2', 1), ('allahgodjesusthe', 1), ('muhammad', 1), ('killedsomebody', 1), ('shantae', 1), ('wii', 1), ('ushantaeforsmash', 1), ('remedyyyy', 1), ('oikawa', 1), ('karasuno', 1), ('positively', 1), ('bateman', 1), ('scores', 1), ('waved', 1), ('mei', 1), ('mistaken', 1), ('cataclysmic', 1), ('reator', 1), ('melts', 1), ('understandcopolitics', 1), ('disasteramp', 1), ('cgt', 1), ('dilutional', 1), ('institutionalize', 1), ('sued', 1), ('mold', 1), ('flamethrower', 1), ('probaly', 1), ('meampbeat', 1), ('sauntered', 1), ('fred', 1), ('blowjobs', 1), ('cannibalism', 1), ('masturbation', 1), ('sayhow', 1), ('lexington', 1), ('veterinarians', 1), ('iembothfo', 1), ('idm', 1), ('gotham', 1), ('bcs', 1), ('ithats', 1), ('trashcans', 1), ('sara', 1), ('icaseit', 1), ('mfi', 1), ('ibrahimovic', 1), ('mercurial', 1), ('vapor', 1), ('footballfreestyle247', 1), ('ibrahimmisau', 1), ('ibliz140', 1), ('esoteric', 1), ('astrologian', 1), ('i90', 1), ('backups', 1), ('congestion', 1), ('ramp', 1), ('i10', 1), ('offloading', 1), ('louisan', 1), ('s01e09', 1), ('rotting', 1), ('smelled', 1), ('dumbass', 1), ('blazinghinatobot', 1), ('wwa', 1), ('moe', 1), ('fridays', 1), ('laleh', 1), ('therapist', 1), ('servicin', 1), ('lurkin', 1), ('fangirling', 1), ('ulzzang', 1), ('hyung', 1), ('seok', 1), ('92', 1), ('liners', 1), ('bleased', 1), ('yuppies', 1), ('tourists', 1), ('stabbed', 1), ('meds', 1), ('ounce', 1), ('disrespectful', 1), ('healingreviving', 1), ('preparing', 1), ('laptop', 1), ('stung', 1), ('zion', 1), ('sorrow', 1), ('throwin', 1), ('rconspiracy', 1), ('dunking', 1), ('weimar', 1), ('hustlin', 1), ('unter', 1), ('gunning', 1), ('romanceit', 1), ('mebut', 1), ('heartache', 1), ('miseryaint', 1), ('swiftly', 1), ('hw', 1), ('ohlordy', 1), ('midday', 1), ('monsters', 1), ('a3', 1), ('oils', 1), ('baan', 1), ('thai', 1), ('sushi', 1), ('fml', 1), ('upload', 1), ('typewriters', 1), ('renewable', 1), ('windfarms', 1), ('smokey', 1), ('destiel', 1), ('descriptionhttpstcomkx6ux4ozt', 1), ('partys', 1), ('sfa', 1), ('soonpandemonium', 1), ('usagi', 1), ('airhead', 1), ('misstep', 1), ('photogenic', 1), ('dwell', 1), ('confines', 1), ('suzes', 1), ('contents', 1), ('loccitane', 1), ('lavera', 1), ('policies', 1), ('buckley', 1), ('coolweird', 1), ('skinless', 1), ('predator', 1), ('abovewould', 1), ('victorias', 1), ('adamantly', 1), ('opposed', 1), ('sweated', 1), ('shawn', 1), ('akfnejf', 1), ('1970s', 1), ('piracy', 1), ('slavery', 1), ('purely', 1), ('reoccur', 1), ('idiocy', 1), ('freakingg', 1), ('today4got', 1), ('drying', 1), ('october', 1), ('foreverstay', 1), ('sideon', 1), ('nightfear', 1), ('loathing', 1), ('vegassolitude', 1), ('xmas', 1), ('jinx', 1), ('smth', 1), ('waited', 1), ('sht', 1), ('fridge', 1), ('protein', 1), ('shake', 1), ('higuains', 1), ('offside', 1), ('invented', 1), ('insomniacs', 1), ('dang', 1), ('retirement', 1), ('instruction', 1), ('slightest', 1), ('stirring', 1), ('daysonly', 1), ('coz', 1), ('kidsbut', 1), ('laters', 1), ('scone', 1), ('tackle', 1), ('condom', 1), ('packets', 1), ('encouraging', 1), ('kinder', 1), ('swea', 1), ('12step', 1), ('addiction', 1), ('resorted', 1), ('tying', 1), ('thrift', 1), ('suckers', 1), ('disciplinary', 1), ('measuresarrestpastornganga', 1), ('independence', 1), ('rowyso', 1), ('alonedont', 1), ('moanabout', 1), ('madeif', 1), ('itill', 1), ('demeanor', 1), ('staid', 1), ('runkeeper', 1), ('weights', 1), ('arc', 1), ('emery', 1), ('lords', 1), ('toooooo', 1), ('bck', 1), ('ahahahga', 1), ('capoeira', 1), ('stretcherbearer', 1), ('trinna', 1), ('cyberman', 1), ('oamsgajagahahah', 1), ('laighign', 1), ('scored', 1), ('111020', 1), ('squeaky', 1), ('punk', 1), ('halo', 1), ('pamanian', 1), ('misguided', 1), ('prophets', 1), ('imprison', 1), ('regress', 1), ('batter', 1), ('theatres', 1), ('710', 1), ('810', 1), ('fanboys', 1), ('politely', 1), ('jared', 1), ('microwave', 1), ('intead', 1), ('assemble', 1), ('presume', 1), ('soggy', 1), ('lashings', 1), ('allegiance', 1), ('peeped', 1), ('frontin', 1), ('jeepsunk', 1), ('tinted', 1), ('bumpin', 1), ('kansas', 1), ('hyatt', 1), ('aias', 1), ('cote', 1), ('fuckwe', 1), ('arcade', 1), ('overpriced', 1), ('specials', 1), ('memo', 1), ('resident', 1), ('hairbut', 1), ('josie', 1), ('splifs', 1), ('hegot', 1), ('rumbling', 1), ('heredeluge', 1), ('ampwanted', 1), ('translated', 1), ('bagscutekitten', 1), ('crhedrys', 1), ('nkofoxysiren', 1), ('fatalitiesxray', 1), ('thorins', 1), ('sandbox', 1), ('spyro', 1), ('texture', 1), ('hacks', 1), ('gardens', 1), ('ingame', 1), ('rona', 1), ('romanatwoodvlogs', 1), ('cbs3', 1), ('beginnings', 1), ('zx', 1), ('ost', 1), ('t17', 1), ('ogre', 1), ('claw', 1), ('lexi', 1), ('belle', 1), ('2500fps', 1), ('cardboard', 1), ('collateral', 1), ('realities', 1), ('glitch', 1), ('specialguest', 1), ('crapgamer', 1), ('seeley', 1), ('sn', 1), ('vabengal', 1), ('zss', 1), ('pokmon', 1), ('sapphire', 1), ('cjs064', 1), ('fatalitiesxrays', 1), ('mk', 1), ('tremors', 1), ('stalag', 1), ('ermac', 1), ('tournament', 1), ('skywars', 1), ('flechadas', 1), ('sinistras', 1), ('ps3', 1), ('knuckles', 1), ('punches', 1), ('mods', 1), ('sticky', 1), ('informer', 1), ('abh', 1), ('pvp', 1), ('bombardment', 1), ('piano', 1), ('entertainer', 1), ('musicians', 1), ('atgames', 1), ('handheld', 1), ('ashens', 1), ('hardline', 1), ('throwingknifes', 1), ('fema', 1), ('lithium', 1), ('eminem', 1), ('nate', 1), ('dogg', 1), ('bunkd', 1), ('campanha', 1), ('walktrough', 1), ('part8', 1), ('737', 1), ('takeoff', 1), ('atc', 1), ('benedict', 1), ('cumberbatch', 1), ('mystical', 1), ('economics', 1), ('hubert', 1), ('humphrey', 1), ('interpretation', 1), ('sneezing', 1), ('smack', 1), ('scrolling', 1), ('didbut', 1), ('exact', 1), ('insults', 1), ('devote', 1), ('pride', 1), ('reprocussions', 1), ('retroactive', 1), ('2x10', 1), ('emilee', 1), ('commas', 1), ('ease', 1), ('hond', 1), ('sidjsjdjekdjskdjd', 1), ('mgs', 1), ('zeroes', 1), ('amazingsept', 1), ('sayingdarude', 1), ('negatively', 1), ('coolest', 1), ('typing', 1), ('ants', 1), ('pitched', 1), ('ofnsixjks', 1), ('chromebook', 1), ('joked', 1), ('innings', 1), ('clears', 1), ('lvl', 1), ('portaloos', 1), ('sentient', 1), ('steven', 1), ('upstairs', 1), ('mumbling', 1), ('cackling', 1), ('spitters', 1), ('oomf', 1), ('misogynyracismreligionfueled', 1), ('ish', 1), ('murlo', 1), ('tribez', 1), ('typewriter', 1), ('gunk', 1), ('unexplainable', 1), ('straighten', 1), ('otp', 1), ('ssshhheeesshh', 1), ('indyfest', 1), ('receipts', 1), ('wrongbut', 1), ('upliterally', 1), ('badging', 1), ('kian', 1), ('inbetween', 1), ('smoochy', 1), ('awakenings', 1), ('clips', 1), ('bicentennial', 1), ('demis', 1), ('coffees', 1), ('igs', 1), ('pricing', 1), ('alredy', 1), ('alfredo', 1), ('bibles', 1), ('psalmsand', 1), ('prodigal', 1), ('returnedanyone', 1), ('outkill', 1), ('implode', 1), ('rhett', 1), ('orphan', 1), ('gazing', 1), ('cozy', 1), ('affluent', 1), ('lobster', 1), ('snowstormits', 1), ('victorious', 1), ('rv', 1), ('mkayla', 1), ('cee', 1), ('childish', 1), ('alarmingly', 1), ('deathholy', 1), ('molys', 1), ('immensely', 1), ('butterlondon', 1), ('crayons', 1), ('ploppy', 1), ('touchdown', 1), ('slsp', 1), ('interrupted', 1), ('iverson', 1), ('malone', 1), ('trophy', 1), ('clearing', 1), ('scully', 1), ('sfe', 1), ('angelina', 1), ('jolie', 1), ('sef', 1), ('isisi', 1), ('liferebooting', 1), ('mindblowing', 1), ('implicit', 1), ('broairplane', 1), ('thatink', 1), ('medal', 1), ('tangled', 1), ('130', 1), ('541', 1), ('112', 1), ('746', 1), ('concur', 1), ('mmk', 1), ('rhiannon', 1), ('hungover', 1), ('uhmmmm', 1), ('bod', 1), ('cis', 1), ('offended', 1), ('transgendered', 1), ('advantage', 1), ('micros', 1), ('shironuakaineko', 1), ('airhorns', 1), ('kickstarter', 1), ('blevins', 1), ('skip', 1), ('fragrance', 1), ('bathe', 1), ('oven', 1), ('64oz', 1), ('instagrams', 1), ('slave', 1), ('wildlife', 1), ('hotboy', 1), ('blunts', 1), ('6615434', 1), ('apologise', 1), ('sincerely', 1), ('grudges', 1), ('unfollow', 1), ('skyler', 1), ('disgusted', 1), ('celebrating', 1), ('namekians', 1), ('nudes', 1), ('crip', 1), ('bloodim', 1), ('doin', 1), ('buddhas', 1), ('cheaply', 1), ('arti', 1), ('kaboom', 1), ('gameplaywalkthrough', 1), ('ssb4', 1), ('losers', 1), ('ballad', 1), ('mona', 1), ('lisa', 1), ('lolo', 1), ('tragedies', 1), ('girlsgirlsboys', 1), ('collar', 1), ('bind', 1), ('ep7', 1), ('2079', 1), ('bacon', 1), ('roblox', 1), ('howie', 1), ('arin', 1), ('gummy', 1), ('grumpout', 1), ('cher', 1), ('hwrf', 1), ('lashes', 1), ('taipei', 1), ('hw18', 1), ('90100', 1), ('hvy', 1), ('sm', 1), ('shades', 1), ('husbands', 1), ('guillermo', 1), ('noaa', 1), ('looping', 1), ('wedaug5th', 1), ('dancers', 1), ('shipwreckmargarita', 1), ('engle', 1), ('holt', 1), ('byr', 1), ('30stm', 1), ('quem', 1), ('lembra', 1), ('zonesthank', 1), ('calais', 1), ('seeker', 1), ('humboldt', 1), ('cty', 1), ('sheriffs', 1), ('residence', 1), ('lassics', 1), ('processes', 1), ('streamlined', 1), ('insofar', 1), ('organizationabbog', 1), ('html5', 1), ('hsts', 1), ('hqhed', 1), ('mhtw4fneta', 1), ('hp', 1), ('lto5', 1), ('lump', 1), ('warehouse', 1), ('divestment', 1), ('pmngiqy', 1), ('virtu', 1), ('dkhqgv', 1), ('achievements', 1), ('dorrian', 1), ('manorial', 1), ('gnocchi', 1), ('rbpk', 1), ('wordk', 1), ('zmne', 1), ('siding', 1), ('anthelmintic', 1), ('drawing', 1), ('browserhijacker', 1), ('freeze', 1), ('veggieshttptcomet0mtpr3s', 1), ('standardized', 1), ('cc', 1), ('orangeblue', 1), ('scratching', 1), ('pedals', 1), ('baskets', 1), ('charming', 1), ('revelation', 1), ('roman', 1), ('flour', 1), ('buseys', 1), ('fiddle', 1), ('celebration', 1), ('sequence', 1), ('developerhttptcohld5xlywbn', 1), ('statesmanlike', 1), ('cv', 1), ('draft', 1), ('inaugural', 1), ('jgisavq', 1), ('anatomic', 1), ('remodeling', 1), ('iaavroiv', 1), ('planners', 1), ('fellow', 1), ('sexuality', 1), ('diagnosis', 1), ('newheights', 1), ('nockthie', 1), ('hamlet', 1), ('taungbazar', 1), ('buthidaung', 1), ('severely', 1), ('subcommittee', 1), ('728', 1), ('oversight', 1), ('htt', 1), ('houghjeff', 1), ('dougkessler', 1), ('slideshare', 1), ('norfolk', 1), ('70000', 1), ('creative', 1), ('interviewed', 1), ('anatomy', 1), ('liveleak', 1), ('receipt', 1), ('buys', 1), ('napa', 1), ('doretts', 1), ('modibo', 1), ('maiga', 1), ('fucktard', 1), ('nightmarish', 1), ('homemade', 1), ('yogurt', 1), ('stray', 1), ('homecoming', 1), ('prom', 1), ('home2', 1), ('suites', 1), ('jpmorgan', 1), ('apartmentloan', 1), ('wamu', 1), ('inventories', 1), ('moly', 1), ('649', 1), ('qvc', 1), ('bravo', 1), ('referred', 1), ('hollyw', 1), ('starring', 1), ('convertible', 1), ('23800', 1), ('hmmthis', 1), ('dnt', 1), ('hm', 1), ('travels', 1), ('greeted', 1), ('bigfoot', 1), ('landmark', 1), ('majesty', 1), ('salman', 1), ('khans', 1), ('unstoppable', 1), ('humanitybajrangi', 1), ('bhaijaan', 1), ('crosed', 1), ('eightynine', 1), ('schoolgirls', 1), ('hindustan', 1), ('historys', 1), ('himika', 1), ('amase', 1), ('foresaw', 1), ('jps', 1), ('feb', 1), ('malyasiaairlines', 1), ('hillarys', 1), ('bimbo', 1), ('eruptions', 1), ('questionable', 1), ('skateboards', 1), ('uptick', 1), ('statewide', 1), ('courier', 1), ('estrella', 1), ('hibernating', 1), ('pbx', 1), ('irrespective', 1), ('careerism', 1), ('crbzfz', 1), ('hires', 1), ('doppler', 1), ('edmond', 1), ('chann', 1), ('girldid', 1), ('friendsabout', 1), ('outs', 1), ('singalong', 1), ('kashs', 1), ('foundation', 1), ('magazines', 1), ('ghe', 1), ('becauseim', 1), ('interestud', 1), ('submissions', 1), ('requiem', 1), ('oliver', 1), ('wander', 1), ('springer', 1), ('spaniel', 1), ('be4', 1), ('lifeguard', 1), ('promotes', 1), ('httptcorei3puwp84', 1), ('budgets', 1), ('mohammed', 1), ('1am', 1), ('goone', 1), ('stellar', 1), ('undercard', 1), ('filler', 1), ('aaarrrgghhhhttptcog2uimbekge', 1), ('aroundthe', 1), ('involves', 1), ('kicking', 1), ('nobleman', 1), ('elven', 1), ('weirdo', 1), ('icy', 1), ('rum', 1), ('tutor', 1), ('preferably', 1), ('hendrixonfire', 1), ('noob', 1), ('violated', 1), ('kdr', 1), ('mumbaitimes', 1), ('helpful', 1), ('nuking', 1), ('bloggers', 1), ('hazardsdisaster', 1), ('hashtags', 1), ('gargoyle', 1), ('hoof', 1), ('coil', 1), ('silentmind', 1), ('pouring', 1), ('no2', 1), ('vivid', 1), ('triad', 1), ('frequent', 1), ('uptown', 1), ('midtown', 1), ('cn', 1), ('manitou', 1), ('overhead', 1), ('oakridge', 1), ('hailyycstorm', 1), ('heather', 1), ('ava', 1), ('sparxxx', 1), ('threesome', 1), ('autopsy', 1), ('klinenberg', 1), ('ayyo', 1), ('dei', 1), ('91f', 1), ('dominicana', 1), ('thoughwill', 1), ('nbc10', 1), ('compensations', 1), ('palinfoen', 1), ('misery', 1), ('internallydisplaced', 1), ('gazans', 1), ('secondhand', 1), ('chrissie', 1), ('finn', 1), ('resistant', 1), ('infectionsdeaths', 1), ('strains', 1), ('sprains', 1), ('division', 1), ('overtook', 1), ('tru', 1), ('luv', 1), ('iniquities', 1), ('isa', 1), ('535', 1), ('dominos', 1), ('culinary', 1), ('cuisine', 1), ('harveys', 1), ('metaphor', 1), ('nooo', 1), ('comings', 1), ('labelled', 1), ('otsuka', 1), ('quarrel', 1), ('tailor', 1), ('kay', 1), ('ie', 1), ('madinah', 1), ('terwilliger', 1), ('1726', 1), ('pour', 1), ('rotations', 1), ('leftleaning', 1), ('learni', 1), ('youheat', 1), ('vol', 1), ('deejayempiresound', 1), ('childor', 1), ('claimin', 1), ('heared', 1), ('laughtraders', 1), ('capitulation', 1), ('cnnbrk', 1), ('kgb', 1), ('linkhttptcobla42rdt1o', 1), ('marr', 1), ('primal', 1), ('bedtime', 1), ('nows', 1), ('dissuaded', 1), ('cleaning', 1), ('checkpoints', 1), ('alqaryatayn', 1), ('bagged', 1), ('financially', 1), ('harshness', 1), ('abetter', 1), ('dayby', 1), ('cracing', 1), ('sirenspacing', 1), ('policeman', 1), ('karjo', 1), ('macomb', 1), ('sassed', 1), ('ndp', 1), ('tropics', 1), ('sticking', 1), ('hatzolah', 1), ('thruand', 1), ('hansel', 1), ('gretel', 1), ('yeh', 1), ('hannah', 1), ('hank', 1), ('mulberry', 1), ('antony', 1), ('27900end', 1), ('hamptonroadsforme', 1), ('halsey', 1), ('troye', 1), ('extras', 1), ('aboriginal', 1), ('cricketer', 1), ('haley', 1), ('richardson', 1), ('hailthe', 1), ('summons', 1), ('caesars', 1), ('fvck', 1), ('cfc', 1), ('ancop', 1), ('tita', 1), ('alas', 1), ('crushit', 1), ('overrated', 1), ('experiencesmh', 1), ('imouto', 1), ('superman', 1), ('slowpoke', 1), ('poc', 1), ('fishiest', 1), ('gutted', 1), ('fracture', 1), ('clinic', 1), ('gut', 1), ('deutsch', 1), ('monarchy', 1), ('protection', 1), ('gunnar', 1), ('optiks', 1), ('siege', 1), ('gaming', 1), ('onyxfire', 1), ('salvadors', 1), ('vector', 1), ('cutter', 1), ('gulfport', 1), ('allin', 1), ('realizations', 1), ('bitten', 1), ('gsp', 1), ('northeastern', 1), ('dries', 1), ('bhp', 1), ('billiton', 1), ('avoids', 1), ('howthewalkingdeadseason', 1), ('5conquer29', 1), ('garza', 1), ('atlas', 1), ('leones', 1), ('copa', 1), ('greer', 1), ('garfieldcottage', 1), ('resume', 1), ('disrupted', 1), ('bastards', 1), ('censorship', 1), ('86bn', 1), ('bailout', 1), ('continueshttptcouxp6poqjlb', 1), ('presquile', 1), ('familyampfriendslots', 1), ('funnot', 1), ('tribunes', 1), ('terrence', 1), ('fuelgas', 1), ('tahoeblazeravalanches10', 1), ('neal', 1), ('rigga', 1), ('campb1g', 1), ('hailyoutsey', 1), ('goblue', 1), ('easton', 1), ('softball', 1), ('fastpitch', 1), ('2920', 1), ('sk398', 1), ('moir', 1), ('ltbgtbakeltbgt', 1), ('ltbgtchocolateltbgt', 1), ('grandmas', 1), ('kidsteenagersbombeffects', 1), ('graham', 1), ('canceled', 1), ('fundraise', 1), ('httptcohibef3cxox', 1), ('fences', 1), ('swollen', 1), ('hurricanetyphoon', 1), ('ratingscategories', 1), ('defined', 1), ('andor', 1), ('saturated', 1), ('very', 1), ('hillymountain', 1), ('rs40000cr', 1), ('lifeline', 1), ('fci', 1), ('3612', 1), ('allocating', 1), ('veneto', 1), ('weighs', 1), ('liveleakfun', 1), ('fresno', 1), ('construct', 1), ('uks', 1), ('organisms', 1), ('bilsen', 1), ('his', 1), ('gamer', 1), ('fuckkkkkk', 1), ('blinker', 1), ('gostei', 1), ('vdeo', 1), ('pure', 1), ('jou', 1), ('geyser', 1), ('olde', 1), ('fashioned', 1), ('prairie', 1), ('barton', 1), ('lolhttptcok9cd0efvut', 1), ('sallie', 1), ('memorialday', 1), ('mustard', 1), ('aul', 1), ('newsbrokenemergency', 1), ('servicesgold', 1), ('coastpowerlinetramtr', 1), ('alves', 1), ('starve', 1), ('starbs', 1), ('redo', 1), ('ayyy', 1), ('brb', 1), ('amidst', 1), ('goggles', 1), ('pigeon', 1), ('gainesville', 1), ('cocky', 1), ('strutted', 1), ('contacts', 1), ('gns', 1), ('gmtty', 1), ('gloria', 1), ('vixen', 1), ('2in1', 1), ('marc', 1), ('bolan', 1), ('ltbgthyderabadltbgt', 1), ('coalitions', 1), ('fondness', 1), ('backing', 1), ('1984style', 1), ('totalitarianism', 1), ('copied', 1), ('ginga', 1), ('ldrago', 1), ('violently', 1), ('obviousmale', 1), ('coworkerunaware', 1), ('sicksir', 1), ('bets', 1), ('boylesports', 1), ('2night', 1), ('disneypixars', 1), ('animated', 1), ('flavor', 1), ('strawberry', 1), ('speeds', 1), ('unlimited', 1), ('spongea', 1), ('eur', 1), ('bwin', 1), ('gigawatts', 1), ('installed', 1), ('capacityone', 1), ('gwatt', 1), ('reactorhttptcoleczolkmsv', 1), ('georgian', 1), ('wines', 1), ('russias', 1), ('georgegallagher', 1), ('robin', 1), ('woes', 1), ('claiborne', 1), ('geoengineering', 1), ('165', 1), ('jp', 1), ('generational', 1), ('schism', 1), ('privacy', 1), ('achimota', 1), ('zenit', 1), ('gears', 1), ('1preview', 1), ('br', 1), ('gaping', 1), ('agdq', 1), ('kororinpa', 1), ('marble', 1), ('tloz', 1), ('oracle', 1), ('metroid', 1), ('gail', 1), ('russell', 1), ('dalroy', 1), ('httpstcododxi41y1cis', 1), ('lyrically', 1), ('fylde', 1), ('prestons', 1), ('disappearing', 1), ('damage3460', 1), ('limestone', 1), ('lncolyellowstone', 1), ('wayfieldstone', 1), ('dr08052015', 1), ('193635', 1), ('damagewpd1600', 1), ('17th', 1), ('damagenhs999', 1), ('fwd', 1), ('coats', 1), ('sprite', 1), ('cocker', 1), ('spaniels', 1), ('cools', 1), ('durban', 1), ('rapidfire', 1), ('splattling', 1), ('propane', 1), ('sunnymeade', 1), ('wn', 1), ('080215', 1), ('offering', 1), ('sweep', 1), ('rantipozi', 1), ('cucks', 1), ('firetrucks', 1), ('aubreys', 1), ('fic', 1), ('somethingyr', 1), ('poetry', 1), ('anterior', 1), ('nonhazardous', 1), ('chemicals', 1), ('strives', 1), ('ecofriendly', 1), ('elation', 1), ('lean', 1), ('zzzz', 1), ('freyas', 1), ('lookss', 1), ('jampampk', 1), ('freed', 1), ('captives', 1), ('freebesieged', 1), ('yougov', 1), ('lumbar', 1), ('80pcs', 1), ('tibetan', 1), ('spacer', 1), ('55x1', 1), ('ltz', 1), ('produces', 1), ('autobody', 1), ('630830', 1), ('costing', 1), ('apiece', 1), ('1952', 1), ('dodge', 1), ('bodied', 1), ('libby', 1), ('rainstorms', 1), ('elanorofrohan', 1), ('zurich', 1), ('foto', 1), ('cebu', 1), ('philippi', 1), ('pat', 1), ('spen', 1), ('addict', 1), ('surfspa', 1), ('forestservice', 1), ('dhsscitech', 1), ('buildingswe', 1), ('katu', 1), ('nightmares', 1), ('ronge', 1), ('sask', 1), ('m151a1', 1), ('mutt', 1), ('m416', 1), ('120', 1), ('capsule', 1), ('powder', 1), ('discussed', 1), ('introduction', 1), ('californians', 1), ('africas', 1), ('sahel', 1), ('chore', 1), ('3am', 1), ('footed', 1), ('pajamas', 1), ('oldtimey', 1), ('referral', 1), ('180046587332', 1), ('prater', 1), ('pronounced', 1), ('purposes', 1), ('hooligan', 1), ('provokes', 1), ('follownflnews', 1), ('precedent', 1), ('undetected', 1), ('4700', 1), ('11th', 1), ('unpacked', 1), ('flourishing', 1), ('sleigh', 1), ('toothsome', 1), ('onrhpz', 1), ('shaft', 1), ('fab', 1), ('albertsons', 1), ('countyhttptcogoszra5bdd', 1), ('lakh', 1), ('ut', 1), ('floodzone', 1), ('raheel', 1), ('sharif', 1), ('chitral', 1), ('lauded', 1), ('fwo', 1), ('westchester', 1), ('eligible', 1), ('fjords', 1), ('710pm', 1), ('800pm', 1), ('435pm', 1), ('428pm', 1), ('fleshgod', 1), ('blinded', 1), ('cheesecake', 1), ('cartoonylikewhoa', 1), ('papa', 1), ('draws', 1), ('news5', 1), ('700am', 1), ('morning1200pm', 1), ('afternoonfor', 1), ('perry', 1), ('tucson', 1), ('steep', 1), ('terrain', 1), ('fitz', 1), ('tantrums', 1), ('standupso', 1), ('sharks', 1), ('sharkssilenceis', 1), ('onflicks', 1), ('physically', 1), ('gasped', 1), ('invested', 1), ('coney', 1), ('wwiiera', 1), ('newer', 1), ('gpsbased', 1), ('cedar', 1), ('linford', 1), ('4353271148', 1), ('convene', 1), ('awards', 1), ('gis', 1), ('retainers', 1), ('impressions', 1), ('lieu', 1), ('triumphs', 1), ('firepower', 1), ('resource', 1), ('infectious', 1), ('diseases', 1), ('firefigthers', 1), ('northampton', 1), ('connecticut', 1), ('condo', 1), ('clare', 1), ('sonic', 1), ('f450', 1), ('transporta', 1), ('k3', 1), ('charlton', 1), ('winery', 1), ('wsoc', 1), ('highrise', 1), ('displaces', 1), ('carriage', 1), ('brant', 1), ('drummond', 1), ('temecula', 1), ('securedgt', 1), ('boutta', 1), ('49', 1), ('ferno', 1), ('engineering', 1), ('inspect', 1), ('components', 1), ('fel', 1), ('zakuun', 1), ('wrestler', 1), ('bioter', 1), ('atlanta', 1), ('mishapshttptcosjnkpj8leewatchcbs19', 1), ('wxiatv', 1), ('beloooow', 1), ('swallow', 1), ('whooooole', 1), ('bene', 1), ('gesserit', 1), ('litany', 1), ('dune', 1), ('motivator', 1), ('nazir', 1), ('crackdowns', 1), ('musicvideo', 1), ('airi', 1), ('despairand', 1), ('sow', 1), ('fco', 1), ('condemns', 1), ('fc', 1), ('presents', 1), ('bushman', 1), ('safaris', 1), ('palmer', 1), ('cecil', 1), ('commentes', 1), ('fatalityafter', 1), ('enemys', 1), ('kindamortal', 1), ('kombats', 1), ('fatherofthree', 1), ('overtaking', 1), ('2u', 1), ('lift', 1), ('nameamen', 1), ('fascinating', 1), ('propaganda', 1), ('epileptic', 1), ('epilept', 1), ('osama', 1), ('mhmmm', 1), ('heartbrokenmobile', 1), ('nellis', 1), ('cheyenne', 1), ('disea', 1), ('homebuyer', 1), ('miscalculation', 1), ('mwjcdk', 1), ('drills', 1), ('septhttptcoajvfjd3qni', 1), ('khalil', 1), ('abdulrasheed', 1), ('bagshttptcovpvskciyro', 1), ('wingers', 1), ('prem', 1), ('willian', 1), ('misfortunebut', 1), ('noxdv', 1), ('neces', 1), ('ultimatum', 1), ('f496d', 1), ('extremeweather', 1), ('identification', 1), ('gleaned', 1), ('anumber', 1), ('exo', 1), ('exquisite', 1), ('sto', 1), ('exporting', 1), ('solving', 1), ('explosionbegforcum', 1), ('alldaycumshots', 1), ('cumcovered', 1), ('sexycumshots', 1), ('cumtownbjnuttcumslut2girlslovecum', 1), ('strip', 1), ('krefeld', 1), ('exploring', 1), ('miville', 1), ('worldoilsubscription', 1), ('worldoil', 1), ('subscription', 1), ('urogyn', 1), ('mesh', 1), ('offenders', 1), ('downpours', 1), ('exofficio', 1), ('179', 1), ('onduty', 1), ('nypd', 1), ('ensuing', 1), ('evildead', 1), ('grapes', 1), ('pitfalls', 1), ('sadness', 1), ('needless', 1), ('strain', 1), ('eversafe', 1), ('rushhour', 1), ('jumperca', 1), ('padres', 1), ('fiasco', 1), ('kellys', 1), ('nno', 1), ('bogged', 1), ('cpu', 1), ('bsg', 1), ('sufficiently', 1), ('hyped', 1), ('40money', 1), ('finer', 1), ('subatomic', 1), ('spells', 1), ('choppas', 1), ('komo', 1), ('areavoluntaryinciwebmad', 1), ('fitba', 1), ('eurocrisis', 1), ('ensembles', 1), ('operational', 1), ('counterpart', 1), ('squabble', 1), ('immigration', 1), ('ukfrance', 1), ('etp', 1), ('hiroshimasized', 1), ('esn', 1), ('captors', 1), ('wildlooking', 1), ('reclusebetrayedhttptco0q040stkcvbooks', 1), ('indonesian', 1), ('err509', 1), ('clapton', 1), ('zirngast', 1), ('jacobinon', 1), ('thirtyone', 1), ('socialists', 1), ('ercjmnea', 1), ('dash', 1), ('designers', 1), ('priests', 1), ('interracial', 1), ('harrowing', 1), ('harassment', 1), ('dravet', 1), ('drowns', 1), ('cydia', 1), ('tweak', 1), ('epa', 1), ('ce', 1), ('entertain', 1), ('momentdiarrhea', 1), ('volga', 1), ('breeze', 1), ('liveaction', 1), ('freshly', 1), ('coiffed', 1), ('dogger', 1), ('westward', 1), ('regent', 1), ('towing', 1), ('8400', 1), ('metre', 1), ('innovation', 1), ('catch22', 1), ('enca', 1), ('onboard', 1), ('xlgamesru', 1), ('tps', 1), ('tdm', 1), ('400t', 1), ('ems1', 1), ('emts', 1), ('abella', 1), ('emp', 1), ('alcoholismaddiction', 1), ('forgiving', 1), ('northwestern', 1), ('unsure', 1), ('paging', 1), ('jewell', 1), ('canal', 1), ('principles', 1), ('practices', 1), ('hazmat', 1), ('redruthuk', 1), ('plumber', 1), ('practitioner', 1), ('healthcare', 1), ('recruitment', 1), ('counselors', 1), ('wasilla', 1), ('jk', 1), ('repairing', 1), ('11211', 1), ('offerings', 1), ('uac', 1), ('mp3', 1), ('rar', 1), ('dispatchers', 1), ('boone', 1), ('beaumont', 1), ('spohn', 1), ('v452', 1), ('ellie', 1), ('goulding', 1), ('acesse', 1), ('nosso', 1), ('para', 1), ('ouvir', 1), ('elem', 1), ('pomo', 1), ('considerelem', 1), ('scofield', 1), ('hotbox', 1), ('sona', 1), ('elecman', 1), ('monte', 1), ('attempts', 1), ('delinquency', 1), ('pasadena', 1), ('watered', 1), ('macys', 1), ('thanksgiving', 1), ('cleav', 1), ('expose', 1), ('cleavage', 1), ('egyptian', 1), ('1717', 1), ('efs300', 1), ('pluto', 1), ('charon', 1), ('maimonides', 1), ('eff', 1), ('muckrock', 1), ('biometrics', 1), ('edwin', 1), ('jimmy', 1), ('lapaka', 1), ('terry', 1), ('sergio', 1), ('honourable', 1), ('nemanja', 1), ('matic', 1), ('economists', 1), ('investing', 1), ('strategies', 1), ('ala', 1), ('sa314', 1), ('bracket', 1), ('screws', 1), ('8960', 1), ('driller', 1), ('boxed', 1), ('takis', 1), ('rubbing', 1), ('fasteners', 1), ('xrwn', 1), ('96km', 1), ('brenas', 1), ('103424', 1), ('063424', 1), ('0400', 1), ('bivens', 1), ('wher', 1), ('e112', 1), ('particulatebreak', 1), ('voltaic', 1), ('vocpetroleum', 1), ('ch4', 1), ('bacteria', 1), ('decomposition', 1), ('emini', 1), ('letdown', 1), ('equals', 1), ('ehutch', 1), ('mcconnell', 1), ('judicial', 1), ('nominations', 1), ('govern', 1), ('lyme', 1), ('alice', 1), ('uluru', 1), ('paratroopers', 1), ('rotary', 1), ('uvopwz', 1), ('1960s', 1), ('oryx', 1), ('symbol', 1), ('peninsula', 1), ('httptcoyangeqbuqw', 1), ('mannequin', 1), ('decorating', 1), ('thoroughly', 1), ('brutality', 1), ('nvr', 1), ('duckvillelol', 1), ('flips', 1), ('grabs', 1), ('dubstep', 1), ('hardstyle', 1), ('flynn', 1), ('onr', 1), ('legionna', 1), ('oi', 1), ('pickpocket', 1), ('stree', 1), ('gtalaskapublic', 1), ('jarmusch', 1), ('vampires', 1), ('actavis', 1), ('clementines', 1), ('utp', 1), ('75000', 1), ('drob', 1), ('soldi', 1), ('pepsi', 1), ('storen', 1), ('curing', 1), ('disrespect', 1), ('consis', 1), ('spokes', 1), ('raptorsbeg', 1), ('differ', 1), ('rang', 1), ('goodlookrunning', 1), ('sensitive', 1), ('dracula', 1), ('vampire', 1), ('owen', 1), ('ferrells', 1), ('tsunamis', 1), ('bengston', 1), ('upward', 1), ('stern', 1), ('indiahttpwwwinformationngcomp309943', 1), ('glory', 1), ('luiz', 1), ('santos', 1), ('doves', 1), ('proms', 1), ('pt4', 1), ('ebony', 1), ('917033', 1), ('dorette', 1), ('doone', 1), ('architects', 1), ('permission', 1), ('natwest', 1), ('tallest', 1), ('chants', 1), ('whiskey', 1), ('mommys', 1), ('panik', 1), ('myths', 1), ('obscuring', 1), ('daddy', 1), ('tryingto', 1), ('elitist', 1), ('writingweekly', 1), ('thrive', 1), ('pisco', 1), ('weaknesses', 1), ('airlift', 1), ('flame', 1), ('blink', 1), ('videothanks', 1), ('shtfplanhttpstcoqbstqxa6qx', 1), ('modest', 1), ('sniff', 1), ('sniiiiiiff', 1), ('donny', 1), ('argue', 1), ('stark', 1), ('ifs', 1), ('ands', 1), ('buts', 1), ('domain', 1), ('sophistication', 1), ('closely', 1), ('zrnf', 1), ('dren', 1), ('dialyses', 1), ('rendered', 1), ('buildingshttpstco9cpwiecegv', 1), ('hhs', 1), ('selects', 1), ('muslimsterrorismor', 1), ('catholicismhomophobia', 1), ('potter', 1), ('presinkhole', 1), ('renovation', 1), ('steamroller', 1), ('squashed', 1), ('bono', 1), ('tmh', 1), ('brining', 1), ('filter', 1), ('offsite', 1), ('gamehttptcosqfp6ecz0iits', 1), ('googlemaps', 1), ('calculates', 1), ('fester', 1), ('andword', 1), ('hammond', 1), ('or', 1), ('listing', 1), ('arabic', 1), ('ofchildren', 1), ('zouis', 1), ('timedoes', 1), ('playa', 1), ('sockets', 1), ('denmark', 1), ('dorling', 1), ('kindersley', 1), ('publishing', 1), ('chicks', 1), ('lidescan', 1), ('disinfo', 1), ('disillusioned', 1), ('checkhappy', 1), ('girlcheckdream', 1), ('crushedcheckgreat', 1), ('musiccheckall', 1), ('crowe', 1), ('tropes', 1), ('allowing', 1), ('warnings900037', 1), ('atcinema', 1), ('830pm', 1), ('est', 1), ('leona', 1), ('dinah', 1), ('josephus', 1), ('antiochus', 1), ('epiphanes', 1), ('fireball', 1), ('diageos', 1), ('stresses', 1), ('dhs', 1), ('dfr', 1), ('ep016', 1), ('monthly', 1), ('dnbheaven', 1), ('20150806', 1), ('vergil', 1), ('agnus', 1), ('dmd', 1), ('leedstraifhttpstcozhrtcvu0ff', 1), ('devia', 1), ('ler', 1), ('walkthrough', 1), ('przez', 1), ('esevu', 1), ('assets', 1), ('koz', 1), ('fashionable', 1), ('mountaineering', 1), ('waterresistant', 1), ('leisure', 1), ('tab', 1), ('mopfrom', 1), ('010242', 1), ('010217', 1), ('010156', 1), ('m40', 1), ('154107', 1), ('iwate', 1), ('063243', 1), ('ocuana', 1), ('bloodyminded', 1), ('welladjusted', 1), ('emerged', 1), ('descriptions', 1), ('describes', 1), ('description', 1), ('surah', 1), ('humaza', 1), ('descended', 1), ('shadowed', 1), ('harshly', 1), ('derek', 1), ('skeeter', 1), ('cutlery', 1), ('dispute', 1), ('freestyles', 1), ('demolishdeep', 1), ('etoffe', 1), ('charmeuse', 1), ('clothesless', 1), ('precisionistic', 1), ('vestment', 1), ('psfda', 1), ('opiniontelangana', 1), ('democracys', 1), ('dawabsha', 1), ('erode', 1), ('homegrown', 1), ('copies', 1), ('demco', 1), ('8550013', 1), ('hitch', 1), ('21k', 1), ('ultra', 1), ('flatliners', 1), ('creativitybalancelongevity', 1), ('lucifer', 1), ('dismay', 1), ('sosoon', 1), ('surrendered', 1), ('droughtdescending', 1), ('disturbedsunrisehaiku', 1), ('delmonts', 1), ('onion', 1), ('delhi', 1), ('defendantmass', 1), ('testify', 1), ('crossexam', 1), ('conclusions', 1), ('735m', 1), ('transocean', 1), ('bps', 1), ('recovers', 1), ('deepak', 1), ('chopras', 1), ('decree', 1), ('russiaukraine', 1), ('dismissed', 1), ('occupational', 1), ('hazardus', 1), ('breakth', 1), ('progressives', 1), ('thrusting', 1), ('techfree', 1), ('reenslave', 1), ('fuddy', 1), ('authenticating', 1), ('sole', 1), ('certificates', 1), ('safes', 1), ('2040climatechange', 1), ('humanityi', 1), ('apologized', 1), ('survivorsr', 1), ('sojapan', 1), ('temporary', 1), ('replacement', 1), ('cosme', 1), ('dserialpcilp', 1), ('pci', 1), ('16550', 1), ('deadpool', 1), ('imminent', 1), ('dewatering', 1), ('defends', 1), ('dazzle', 1), ('shite', 1), ('plez', 1), ('liquidation', 1), ('minus', 1), ('toenail', 1), ('daviss', 1), ('judith', 1), ('hopfer', 1), ('deglin', 1), ('vallerand', 1), ('daviesmutia', 1), ('exums', 1), ('stem', 1), ('jazzs', 1), ('hopedfor', 1), ('daniel', 1), ('1211', 1), ('accordingly', 1), ('damnwas', 1), ('wale', 1), ('mlk', 1), ('greinke', 1), ('firedamn', 1), ('dal', 1), ('horny', 1), ('juicy', 1), ('reflectionsaugust', 1), ('6drivendriven', 1), ('forms', 1), ('selfdelusion', 1), ('selfseeking', 1), ('selfpity', 1), ('biblical', 1), ('devastates', 1), ('cw500', 1), ('celebrety', 1), ('nogo', 1), ('livin', 1), ('zoom', 1), ('curvaceous', 1), ('curtain', 1), ('uncontrollable', 1), ('currency', 1), ('transgress', 1), ('paydayprison', 1), ('ward', 1), ('sinkingfund', 1), ('unsecured', 1), ('jbumzqpk', 1), ('cultivating', 1), ('davidson', 1), ('orangi', 1), ('counterterrorism', 1), ('sindh', 1), ('languishing', 1), ('flurry', 1), ('priorities', 1), ('marketingmediocrity', 1), ('mmx', 1), ('appadvice', 1), ('cruises', 1), ('crptotech', 1), ('banks', 1), ('crosssectarian', 1), ('shia', 1), ('militias', 1), ('withdrawur', 1), ('fightin', 1), ('uve', 1), ('againhttptcoffbnluiy0f', 1), ('viatimesofindia', 1), ('wallet', 1), ('critters', 1), ('southwest', 1), ('omaha', 1), ('utility', 1), ('boarding', 1), ('galleria', 1), ('apts', 1), ('krnv', 1), ('nv', 1), ('rediscover', 1), ('fantabulous', 1), ('creation', 1), ('aiclimate', 1), ('changebioterrorismmass', 1), ('workforcecontact', 1), ('lifewealth', 1), ('inequalityyea', 1), ('updating', 1), ('delivering', 1), ('task', 1), ('ama', 1), ('friend59', 1), ('friend50', 1), ('gthttptcohy5pbe12tm', 1), ('crawling', 1), ('skinthese', 1), ('hea', 1), ('slurpees', 1), ('helmet', 1), ('silvery', 1), ('floors', 1), ('karnal', 1), ('pbcanpcx', 1), ('codeveloped', 1), ('demonstratio', 1), ('session', 1), ('discussing', 1), ('courageous', 1), ('ought', 1), ('guthrie', 1), ('op', 1), ('orchestrated', 1), ('billboards', 1), ('chart', 1), ('socialmediadriven', 1), ('airports', 1), ('sanity', 1), ('roh3', 1), ('smantibatam', 1), ('curlin', 1), ('necks', 1), ('reps', 1), ('dip', 1), ('gunfight', 1), ('pooper', 1), ('detected', 1), ('cooool', 1), ('counterstrike', 1), ('upgrades', 1), ('vulnera', 1), ('q13', 1), ('goodrich', 1), ('bankruptcy', 1), ('tulsa', 1), ('manufacturing', 1), ('contra', 1), ('contd', 1), ('40pg', 1), ('movt', 1), ('consent', 1), ('connor', 1), ('franta', 1), ('howell', 1), ('conning', 1), ('portfolio', 1), ('conklin', 1), ('westie', 1), ('believes', 1), ('computerhttptcoawzonryc9y', 1), ('sanchez', 1), ('bolasie', 1), ('smoked', 1), ('meca', 1), ('conditionsfair', 1), ('fforecastthu', 1), ('61fri', 1), ('concealed', 1), ('attacker', 1), ('hazzel', 1), ('abbruchsimulator', 1), ('hancock', 1), ('tattooed', 1), ('citadel', 1), ('woodlandms', 1), ('3430pmhs', 1), ('4306pm', 1), ('tomorrowaugust', 1), ('transcendblazing', 1), ('diversified', 1), ('combating', 1), ('ampveterans', 1), ('mitigating', 1), ('anaheim', 1), ('colnharun', 1), ('gateway', 1), ('tables', 1), ('articals', 1), ('coleslaw', 1), ('coldwood', 1), ('coincidence', 1), ('reckoning', 1), ('oc', 1), ('shared', 1), ('industrys', 1), ('imprudent', 1), ('lookout', 1), ('adjuster', 1), ('safeco', 1), ('rnb', 1), ('starz', 1), ('teamdownload', 1), ('sanitizing', 1), ('infotechnews', 1), ('recode', 1), ('clearedincident', 1), ('i75', 1), ('mm', 1), ('459', 1), ('erie', 1), ('405', 1), ('hiroshimanagasaki', 1), ('clarke', 1), ('seaview', 1), ('kemsley', 1), ('gatensbury', 1), ('explosives', 1), ('t4', 1), ('airbase', 1), ('colonel', 1), ('greenspace', 1), ('660', 1), ('implores', 1), ('motorists', 1), ('reservesgt', 1), ('watchdog', 1), ('dugway', 1), ('proving', 1), ('chs', 1), ('wirelessly', 1), ('steering', 1), ('chronicles', 1), ('waving', 1), ('geller', 1), ('aunft', 1), ('intruders', 1), ('chpsre', 1), ('rezaphotography', 1), ('kraft', 1), ('arrives', 1), ('sittway', 1), ('bulls', 1), ('betting', 1), ('rebound', 1), ('ecommerce', 1), ('alibaba', 1), ('baba', 1), ('tencent', 1), ('jd', 1), ('revenue', 1), ('su', 1), ('delaying', 1), ('fundamentals', 1), ('valuations', 1), ('detains', 1), ('churchs', 1), ('chilli', 1), ('doritos', 1), ('pvc', 1), ('chickmt123', 1), ('masturbates', 1), ('fdstill', 1), ('alarmems', 1), ('derailmentcinstg', 1), ('organizers', 1), ('chiasson', 1), ('sens', 1), ('chesterfield', 1), ('lipstick', 1), ('rediscovered', 1), ('nars', 1), ('wikipedia', 1), ('encyclopedia', 1), ('cheesehead', 1), ('checkout', 1), ('nurgle', 1), ('snuck', 1), ('khrones', 1), ('sivan', 1), ('basalt', 1), ('massage', 1), ('imagessomething', 1), ('longaberger', 1), ('floral', 1), ('strap', 1), ('phantasmal', 1), ('cummerbund', 1), ('reactors', 1), ('bowery', 1), ('lightroom', 1), ('jordyne', 1), ('sunkmore', 1), ('sundayhttptcokvbedkglgw', 1), ('ameribag', 1), ('khaki', 1), ('beige', 1), ('charred', 1), ('rips', 1), ('neighboring', 1), ('changelessly', 1), ('folders', 1), ('solemnity', 1), ('hjt', 1), ('vanilla', 1), ('feedback', 1), ('cemetery', 1), ('infuriates', 1), ('httptcovplzkuidz2', 1), ('gilgit', 1), ('farmland', 1), ('strongminded', 1), ('keeper', 1), ('runnin', 1), ('catfish', 1), ('catastrophicfallenangel', 1), ('reveillertm', 1), ('macabrelolita', 1), ('amino', 1), ('acids', 1), ('darwinism', 1), ('xii', 1), ('nightmarishly', 1), ('brutal', 1), ('ritualistic', 1), ('roleplay', 1), ('willinghearted', 1), ('rpn', 1), ('casually', 1), ('jasmine', 1), ('cascada', 1), ('dancefloor', 1), ('qave', 1), ('knowlddge', 1), ('carterville', 1), ('gameday', 1), ('i540', 1), ('median', 1), ('carmike', 1), ('cinemas', 1), ('everest', 1), ('cobes', 1), ('whitt', 1), ('frost', 1), ('godly', 1), ('psychos', 1), ('zeroedge', 1), ('duallens', 1), ('trafficdriving', 1), ('historyaccident', 1), ('camcorder', 1), ('output', 1), ('hhw', 1), ('lnp', 1), ('newsthousands', 1), ('represents', 1), ('shortfalls', 1), ('candylit', 1), ('sarumi', 1), ('candlelight', 1), ('vigil', 1), ('cancers', 1), ('equate', 1), ('kowing', 1), ('fluffy', 1), ('currong', 1), ('customershttptcosky9eokggb', 1), ('trib', 1), ('suspended', 1), ('pvris', 1), ('beyoncfy', 1), ('tunes', 1), ('yaaasss', 1), ('xfactor', 1), ('rendition', 1), ('burna', 1), ('underpasses', 1), ('enacts', 1), ('ariana', 1), ('salad', 1), ('symantec', 1), ('ergo', 1), ('resemblance', 1), ('savecan', 1), ('mycan', 1), ('heavydirtysoul', 1), ('3p', 1), ('330a', 1), ('lima', 1), ('makoto', 1), ('itblank', 1), ('expressioncheeks', 1), ('clapping', 1), ('facemarvins', 1), ('subtlety', 1), ('campsite', 1), ('recommendations', 1), ('toilets', 1), ('pub', 1), ('midgesno', 1), ('snakesthanks', 1), ('roving', 1), ('raccoons', 1), ('toughens', 1), ('camilas', 1), ('spree', 1), ('repatriating', 1), ('mineenjoybabes', 1), ('truckfireman', 1), ('mineenjoyfire', 1), ('i40', 1), ('californian', 1), ('disclosed', 1), ('firesclearly', 1), ('excess', 1), ('provocation', 1), ('droughtfueled', 1), ('wrongway', 1), ('lawnegligence', 1), ('fireworks', 1), ('incidents', 1), ('govts', 1), ('shakingcatching', 1), ('fireand', 1), ('overcharging', 1), ('amp039monsteramp039', 1), ('reviewing', 1), ('airdrie', 1), ('okotoks', 1), ('immigrant', 1), ('arrests', 1), ('submitt', 1), ('byz', 1), ('pricehttptcokbc2ax8zl9', 1), ('2am', 1), ('lyk', 1), ('immigrantsdeserves', 1), ('defeated', 1), ('destroyedits', 1), ('clarion', 1), ('buzzing', 1), ('nassau', 1), ('coliseum', 1), ('6bn', 1), ('worldpay', 1), ('ipo', 1), ('extraordinaire', 1), ('soilhow', 1), ('upheavalentershikari', 1), ('protestors', 1), ('skyscrapers', 1), ('plantcovered', 1), ('ceiling', 1), ('rescuedagain', 1), ('oldest', 1), ('feastdll', 1), ('dll', 1), ('m8', 1), ('hehetheir', 1), ('busty', 1), ('natalia', 1), ('starr', 1), ('cre', 1), ('cile', 1), ('aredeluged', 1), ('ivoices', 1), ('invzices', 1), ('itsllikely', 1), ('invokces', 1), ('shapeand', 1), ('invoicew', 1), ('colouj', 1), ('invoicesx', 1), ('ou', 1), ('yoursstand', 1), ('anq', 1), ('likkly', 1), ('pileq', 1), ('togthe', 1), ('ikely', 1), ('colo', 1), ('lzkely', 1), ('olour', 1), ('oup', 1), ('ogt', 1), ('colomr', 1), ('inroicesmake', 1), ('paypile', 1), ('standwout', 1), ('vict', 1), ('scaryeven', 1), ('scarier', 1), ('nycha', 1), ('ny1', 1), ('ny1burst', 1), ('turban', 1), ('buildingskeep', 1), ('forte', 1), ('202', 1), ('163', 1), ('cardio', 1), ('129', 1), ('burford', 1), ('bulgarian', 1), ('tittie', 1), ('noemotion', 1), ('edk', 1), ('pathfinders', 1), ('shelled', 1), ('tonightcivilian', 1), ('janjuly', 1), ('2015164', 1), ('children501', 1), ('tisas', 1), ('niceville', 1), ('tracklist', 1), ('lzktjnox', 1), ('buddha', 1), ('urbanisation', 1), ('brahmans', 1), ('dominance', 1), ('bucket', 1), ('presentations', 1), ('giselle', 1), ('stretches', 1), ('victorian', 1), ('sofa', 1), ('ugliest', 1), ('tight', 1), ('beachis', 1), ('sandys', 1), ('domesticate', 1), ('mechanic', 1), ('clock', 1), ('gba', 1), ('timed', 1), ('nailreal', 1), ('broadcast', 1), ('quottelevision', 1), ('quotoperations', 1), ('since3g', 1), ('superv', 1), ('httptcowgrxly9pdo', 1), ('diver', 1), ('steamship', 1), ('stained', 1), ('nor0603', 1), ('mpp', 1), ('lambasts', 1), ('kanglaonline', 1), ('jj', 1), ('hickson', 1), ('kenneth', 1), ('faried', 1), ('lamarcus', 1), ('aldridge', 1), ('breast', 1), ('800000', 1), ('onpolice', 1), ('arsenals', 1), ('hector', 1), ('bellerin', 1), ('newsnigeria', 1), ('hapless', 1), ('suspending', 1), ('ser', 1), ('cataclysm', 1), ('telly', 1), ('structuring', 1), ('edcxo', 1), ('homefolks', 1), ('opinionated', 1), ('proposal', 1), ('modernized', 1), ('omw', 1), ('bradford', 1), ('weep', 1), ('brace', 1), ('depressed', 1), ('broth', 1), ('appeared', 1), ('3yearold', 1), ('haircuts', 1), ('minimal', 1), ('wine', 1), ('then0mads0ul', 1), ('bonus', 1), ('whackamole', 1), ('tenn', 1), ('explosive', 1), ('tween', 1), ('loot', 1), ('ricin', 1), ('cartel', 1), ('kidnap', 1), ('bust', 1), ('bolshevik', 1), ('monopolized', 1), ('seize', 1), ('hunhry', 1), ('dented', 1), ('deductible', 1), ('wcvb', 1), ('bo2', 1), ('bmx', 1), ('areal', 1), ('bluedio', 1), ('headset', 1), ('listeria', 1), ('bloorossington', 1), ('mattress', 1), ('northumberland', 1), ('beet', 1), ('grrrr', 1), ('vaca', 1), ('liam', 1), ('stiless', 1), ('pleeease', 1), ('intragenerational', 1), ('sandra', 1), ('bland', 1), ('gastric', 1), ('carcinoma', 1), ('bookanother', 1), ('gene', 1), ('courtney', 1), ('laudner', 1), ('panties', 1), ('amanda', 1), ('boobs', 1), ('worsen', 1), ('cervelli', 1), ('puff', 1), ('auz', 1), ('cst', 1), ('hump', 1), ('raids', 1), ('blending', 1), ('httptcoafmkcfn1tl', 1), ('bleachers', 1), ('100mb', 1), ('tecno', 1), ('q1', 1), ('ime', 1), ('slut', 1), ('hunted', 1), ('shopping', 1), ('3945', 1), ('3941', 1), ('4103', 1), ('3967', 1), ('3946', 1), ('3939', 1), ('3936', 1), ('3934', 1), ('m27329', 1), ('1236', 1), ('kenye', 1), ('bizinsider', 1), ('continuing', 1), ('takin', 1), ('sucker', 1), ('bitdefender', 1), ('antivirus', 1), ('vendor', 1), ('pacquiao', 1), ('marquez', 1), ('unfilled', 1), ('durvod', 1), ('hen', 1), ('superbug', 1), ('biolabs', 1), ('epidemics', 1), ('biosurveillance', 1), ('outbreaks', 1), ('dumbfounded', 1), ('landi', 1), ('billionaires', 1), ('reportshttptcogbqtc7sp9c', 1), ('mottas', 1), ('fails', 1), ('transact', 1), ('bigrigradio', 1), ('patches', 1), ('android', 1), ('stagefright', 1), ('mothe', 1), ('bosvsnyy', 1), ('strategyhua', 1), ('bicyclesuv', 1), ('mesick', 1), ('m115', 1), ('bhavanas', 1), ('misty', 1), ('bounds', 1), ('72', 1), ('66', 1), ('earphones', 1), ('sierra', 1), ('leone', 1), ('guap', 1), ('bestseller', 1), ('dawson', 1), ('es', 1), ('9800', 1), ('chainsaw', 1), ('torrent', 1), ('java', 1), ('doe', 1), ('benzema', 1), ('benitezs', 1), ('5050', 1), ('roofers', 1), ('heenan', 1), ('sleeper', 1), ('derailing', 1), ('courses', 1), ('libyan', 1), ('derivatives', 1), ('quadrillion', 1), ('economywe', 1), ('shoppe', 1), ('horrorsharperanetflixshow', 1), ('50mixed', 1), ('colors', 1), ('firstaid', 1), ('akito', 1), ('frothy', 1), ('gyp', 1), ('mclaughlin', 1), ('beatg3', 1), ('608', 1), ('15000270653', 1), ('beatb2', 1), ('fremont', 1), ('652', 1), ('15000270364', 1), ('beastin', 1), ('tapas', 1), ('trynna', 1), ('tj', 1), ('kits', 1), ('alertness', 1), ('cometh', 1), ('beaverton', 1), ('appalled', 1), ('heavens', 1), ('lordfor', 1), ('evils', 1), ('mba', 1), ('careen', 1), ('eovm', 1), ('bcc', 1), ('increases', 1), ('commentating', 1), ('decis', 1), ('r5live', 1), ('herring', 1), ('retract', 1), ('tickens', 1), ('panama', 1), ('mav', 1), ('buzz', 1), ('pvdrdljvc', 1), ('wilson', 1), ('karaman', 1), ('brendan', 1), ('gawlowski', 1), ('bartonleclay', 1), ('barkevious', 1), ('mingo', 1), ('barbados', 1), ('superintende', 1), ('cyclonetom', 1), ('bamenda', 1), ('baltimore', 1), ('nort', 1), ('ballina', 1), ('sighting', 1), ('bairstow', 1), ('buffet', 1), ('lad', 1), ('bolstering', 1), ('cooperation', 1), ('sputnik', 1), ('livinghttptcoafmkcfn1tl', 1), ('sadtraumatised', 1), ('parisian', 1), ('tacoma', 1), ('surviving', 1), ('babe', 1), ('roomsgrrrr', 1), ('aya', 1), ('kanos', 1), ('axwave', 1), ('enables', 1), ('accurate', 1), ('awh', 1), ('tl', 1), ('refereeing', 1), ('mash', 1), ('avenged', 1), ('sevenfold', 1), ('allay', 1), ('equestrian', 1), ('rosenthalauthor', 1), ('pochette', 1), ('bosphore', 1), ('saumur', 1), ('723', 1), ('4193', 1), ('sura', 1), ('3331116', 1), ('4671416', 1), ('marge', 1), ('eheks', 1), ('horoscope', 1), ('hundredodd', 1), ('pilgrims', 1), ('unimpressed', 1), ('calhoun', 1), ('nrc', 1), ('organ', 1), ('harvesting', 1), ('1915kill', 1), ('italians', 1), ('excel', 1), ('bayonethttptcock1mmvhu0t', 1), ('1915kaiserjaegers', 1), ('josephs', 1), ('regiment', 1), ('carso', 1), ('plateauhttptcod1spswl66h', 1), ('listenpurchase', 1), ('pt1', 1), ('aubrey', 1), ('educators', 1), ('rchs', 1), ('coffins', 1), ('rooms', 1), ('tommorow', 1), ('vita', 1), ('volleyball', 1), ('7080000', 1), ('fishme', 1), ('happenedashley', 1), ('reliefweb', 1), ('femas', 1), ('weeklong', 1), ('assist', 1), ('1711', 1), ('aspiring', 1), ('asics', 1), ('gtii', 1), ('fieg', 1), ('kith', 1), ('3m', 1), ('ashley', 1), ('reactions', 1), ('rampant', 1), ('humiliate', 1), ('rival', 1), ('bundled', 1), ('ashenforest', 1), ('floorburnt', 1), ('manzanita', 1), ('timber', 1), ('asbury', 1), ('asad', 1), ('maths', 1), ('blacken', 1), ('parched', 1), ('harris', 1), ('6month', 1), ('662', 1), ('114', 1), ('beluga', 1), ('blissfully', 1), ('bathed', 1), ('monwabisi', 1), ('hlongwane', 1), ('ryt', 1), ('watersland', 1), ('athletics', 1), ('monetary', 1), ('artifacts', 1), ('horseshoe', 1), ('initiative', 1), ('jackman', 1), ('detroitthe', 1), ('downgraded', 1), ('arsonists', 1), ('plastics', 1), ('adelaide', 1), ('torches', 1), ('getaway', 1), ('surrey', 1), ('ltpgtan', 1), ('deployments', 1), ('patronultimalucha', 1), ('arian', 1), ('yeat', 1), ('aris', 1), ('hints', 1), ('snippets', 1), ('improvements', 1), ('198', 1), ('withannihilation', 1), ('ripping', 1), ('contest', 1), ('aramis', 1), ('strop', 1), ('ara', 1), ('infiltrated', 1), ('ashrafiyah', 1), ('afrin', 1), ('ypg', 1), ('imposed', 1), ('aquarium', 1), ('sailing', 1), ('destroyer', 1), ('decor', 1), ('aqgco', 1), ('dilawri', 1), ('7a730p', 1), ('siena', 1), ('apples', 1), ('momentum', 1), ('apperception', 1), ('bridgework', 1), ('xxhjesc', 1), ('announce', 1), ('dull', 1), ('monotonous', 1), ('attached', 1), ('browndetonate', 1), ('mophttptcojnoe2r2ein', 1), ('lta', 1), ('hrefhttptcownowfvcbms', 1), ('ftmop', 1), ('httptcozmh7nebmwy', 1), ('exclusion', 1), ('httptco3zql0qbluwnuclear', 1), ('apocalpytic', 1), ('apd', 1), ('defecting', 1), ('chieftain', 1), ('tasks', 1), ('dickson', 1), ('n15b', 1), ('mateo', 1), ('aberystwythshrewsbury', 1), ('shrews', 1), ('livestreaming', 1), ('telemarketing', 1), ('lengths', 1), ('impairs', 1), ('upgrad', 1), ('syfy', 1), ('answertherefore', 1), ('sixteenth', 1), ('minuscule', 1), ('casualtygray', 1), ('critically', 1), ('kinky', 1), ('kristy', 1), ('rehearsing', 1), ('attackclose', 1), ('vulnhttpstcooxxrnab8un', 1), ('httptco66obqmximb', 1), ('montego', 1), ('annihilating', 1), ('quarterstaff', 1), ('damascus', 1), ('grinds', 1), ('alloosh', 1), ('manure', 1), ('pilehttptco7rakhp3bwm', 1), ('marjanovic', 1), ('eurobasket', 1), ('wom', 1), ('cider', 1), ('bottles', 1), ('mistrustful', 1), ('stored', 1), ('httptcoutigx9psry', 1), ('angelriveralib', 1), ('snowden', 1), ('ripple', 1), ('burnin', 1), ('horns', 1), ('harlet', 1), ('uneven', 1), ('fcking', 1), ('janice', 1), ('cyclonic', 1), ('sumthng', 1), ('evng', 1), ('approachng', 1), ('herthat', 1), ('vuuuuu', 1), ('befoooooooore', 1), ('surgical', 1), ('eyesss', 1), ('complaining', 1), ('emblem', 1), ('gigant', 1), ('difficulty', 1), ('moderately', 1), ('bleach', 1), ('thongshudder', 1), ('boudoir', 1), ('outfits', 1), ('eyeballs', 1), ('hmmm', 1), ('1600yearold', 1), ('jungle', 1), ('optical', 1), ('illusion', 1), ('switzerland', 1), ('parlor', 1), ('waitress', 1), ('arthritis', 1), ('explosivespacked', 1), ('indepth', 1), ('eau', 1), ('claire', 1), ('sentenced', 1), ('chippewa', 1), ('cardinal', 1), ('bo', 1), ('sdb', 1), ('cnua', 1), ('ar15', 1), ('wedne', 1), ('sprinter', 1), ('frontline', 1), ('lez', 1), ('compliant', 1), ('amazondeals', 1), ('skylanders', 1), ('453', 1), ('045', 1), ('949', 1), ('994', 1), ('takeaways', 1), ('magnificent', 1), ('usb', 1), ('renderingscarl', 1), ('gallups', 1), ('biltz', 1), ('repped', 1), ('milne', 1), ('liguistic', 1), ('insurers163millions', 1), ('lining', 1), ('groundi', 1), ('mizuta', 1), ('alton', 1), ('livestream', 1), ('nut', 1), ('shuttle', 1), ('iphone', 1), ('loki', 1), ('nicely', 1), ('indie', 1), ('dystopian', 1), ('fiction', 1), ('farms', 1), ('marie', 1), ('therese', 1), ('dominguez', 1), ('administrator', 1), ('phmsa', 1), ('trad', 1), ('authors', 1), ('plummeting', 1), ('alpine', 1), ('hotdogs', 1), ('nizer', 1), ('allergan', 1), ('refresh', 1), ('drops', 1), ('allen', 1), ('confesses', 1), ('couches', 1), ('eugene', 1), ('conspiracies', 1), ('notified', 1), ('fosterfloyd', 1), ('sinis', 1), ('girlfrienddown', 1), ('endjust', 1), ('bros', 1), ('szuter', 1), ('ali', 1), ('alhaji', 1), ('sha', 1), ('ibeto', 1), ('competitor', 1), ('alfons', 1), ('puls', 1), ('107', 1), ('elementary', 1), ('wolves', 1), ('tweetstorm', 1), ('alexander', 1), ('ebolacase', 1), ('akilah', 1), ('ajmal', 1), ('colombia', 1), ('sunrays', 1), ('hairy', 1), ('spiderweb', 1), ('247', 1), ('negotiations', 1), ('ayhhhhhdjjfjrjjrdjjeks', 1), ('paradigm', 1), ('ahmazing', 1), ('meteors', 1), ('agricultural', 1), ('aldwark', 1), ('nyorks', 1), ('grim', 1), ('fewer', 1), ('piglets', 1), ('legitimate', 1), ('needing', 1), ('aggressif', 1), ('agalloch', 1), ('wiedemer', 1), ('disclaimer', 1), ('antiochhickoryhollowtn', 1), ('kaldi', 1), ('arsonattack', 1), ('teemo', 1), ('launches', 1), ('airstrikes', 1), ('kurdistan', 1), ('bonner', 1), ('scalabrine', 1), ('afloat', 1), ('pension', 1), ('reprisal', 1), ('recordhigh', 1), ('highestranking', 1), ('noah', 1), ('admiral', 1), ('nationwide', 1), ('shortchanging', 1), ('hunter', 1), ('hayes', 1), ('antebellum', 1), ('activists', 1), ('pio', 1), ('postexistence', 1), ('elevation', 1), ('brzjc', 1), ('achievement', 1), ('replaced', 1), ('tabloids', 1), ('iceberg', 1), ('gadgets', 1), ('combining', 1), ('gallup', 1), ('516leonardville', 1), ('i24', 1), ('8m', 1), ('293', 1), ('eddy', 1), ('nh3a', 1), ('752', 1), ('patp', 1), ('pa18', 1), ('cranberry', 1), ('ter', 1), ('1035', 1), ('conducted', 1), ('skims', 1), ('morethan', 1), ('disorders', 1), ('absurdly', 1), ('wagyu', 1), ('heaping', 1), ('smuckers', 1), ('grape', 1), ('21day', 1), ('abes', 1), ('jsdf', 1), ('abcnews', 1), ('onlinemh370', 1), ('onlinea', 1), ('aashiqui', 1), ('anu', 1), ('aggarwal', 1), ('nearfatal', 1), ('aannnnd', 1), ('communicate', 1), ('heavyweight', 1), ('stormtrooper', 1), ('engaged', 1), ('somme', 1), ('whistleblower', 1), ('httptcoipwysnik0g', 1), ('wasp', 1), ('marrie', 1), ('wbre', 1), ('wyou', 1), ('tomb', 1), ('raider', 1), ('uncharted', 1), ('croft', 1), ('nathan', 1), ('ruthless', 1), ('complaint', 1), ('isao', 1), ('hashimoto', 1), ('httpstcov0t8h4iecc', 1), ('dismantling', 1), ('pox', 1), ('subcontractor', 1), ('cgg', 1), ('staged', 1), ('locomotive', 1), ('numb', 1), ('adjusted', 1), ('thermostat', 1), ('forney', 1), ('caved', 1), ('64th', 1), ('tradery', 1), ('statistics', 1), ('vhs', 1), ('anthology', 1), ('ana', 1), ('dispensary', 1), ('coated', 1), ('easts', 1), ('layer', 1), ('grit', 1), ('midi', 1), ('tragedymonicas', 1), ('rave', 1), ('pyrotechnic', 1), ('cai', 1), ('guoqiang', 1), ('poignant', 1), ('ethereal', 1), ('adhd', 1), ('forming', 1), ('guamonce', 1), ('molave', 1), ('trivium', 1), ('midfield', 1), ('soni', 1), ('soner', 1), ('hardwell', 1), ('remake', 1), ('flp', 1), ('r3do', 1), ('mended', 1), ('fingerwhen', 1), ('holodomor', 1), ('dambisa', 1), ('moyo', 1), ('punched', 1), ('afrikaan', 1), ('mentioned', 1), ('greatly', 1), ('filming', 1), ('laois', 1), ('advertised', 1), ('lovedup', 1), ('orakei', 1), ('felled', 1), ('deployed', 1), ('faminemega', 1), ('0840728httptcopdiit0af3qdynamix', 1), ('gpm', 1), ('bullseye', 1), ('incitement', 1), ('beinart', 1), ('happyhour', 1), ('simmons', 1), ('camden', 1), ('handsome', 1), ('beside', 1), ('fierce', 1), ('calmstillness', 1), ('eyecenter', 1), ('aspects', 1), ('pheonix', 1), ('charcoal', 1), ('handled', 1), ('exceptionally', 1), ('crushed2', 1), ('cor48', 1), ('demoness', 1), ('beckoning', 1), ('eulogies', 1), ('gtgtthis', 1), ('tormented', 1), ('matias', 1), ('xavier', 1), ('decadelong', 1), ('billiondollar', 1), ('daytonarea', 1), ('cyber', 1), ('chim', 1), ('prohibits', 1), ('decks', 1), ('cessna', 1), ('inspi', 1), ('undone', 1), ('adverse', 1), ('bigconsequences', 1), ('scout', 1), ('amp163163millions', 1), ('contr', 1), ('retweetfollow', 1), ('rtfollowbackgain', 1), ('ganseyman', 1), ('wp', 1), ('suddendly', 1), ('proclaims', 1), ('withering', 1), ('undermined', 1), ('mustering', 1), ('halts', 1), ('vid150806', 1), ('youku', 1), ('httptcow7yezkqlcj', 1), ('nopassenger', 1), ('945hpa', 1), ('45ms', 1), ('60ms', 1), ('seriousnow', 1), ('admins', 1), ('volatile', 1), ('removedquarantined', 1), ('182245', 1), ('ibaraki', 1), ('prefecture', 1), ('offing', 1), ('m55', 1), ('60km', 1), ('rjailbreak', 1), ('lowers', 1), ('tuition', 1), ('jaxmk2', 1), ('fatalityuudlk', 1), ('biz', 1), ('infowars', 1), ('deer', 1), ('lethbridge', 1), ('gpv', 1), ('wnw', 1), ('12jst', 1), ('18jst', 1), ('reportonlyquakenews', 1), ('earthquakereport', 1), ('creelyou', 1), ('moron', 1), ('brainless', 1), ('dobut', 1), ('topdown', 1), ('coercion', 1), ('weakness', 1), ('ensuring', 1), ('dancing', 1), ('55436', 1), ('55433', 1), ('1954', 1), ('55432', 1), ('104527jst', 1), ('aug06first', 1), ('m41', 1), ('chiba', 1), ('pref', 1), ('3581408', 1), ('such', 1), ('dayand', 1), ('mineits', 1), ('latestnews', 1), ('redeemer', 1), ('fanslet', 1), ('retweeting', 1), ('fightpenn', 1), ('6pm', 1), ('byowbring', 1), ('partywerent', 1), ('importantly', 1), ('reportly', 1), ('supporter', 1), ('gents', 1), ('ieee', 1), ('spectrum', 1), ('fukushimatepcomountains', 1), ('coasthttptcoy518jyrzav', 1), ('fukushimatepcofukushima', 1), ('integrative', 1), ('answershttptco7y2gnva2ev', 1), ('stockholm', 1), ('copperfields', 1), ('circular', 1), ('frusciante', 1), ('cracker', 1), ('19th', 1), ('17jul2015', 1), ('timesap', 1), ('swell', 1), ('disagreements', 1), ('icicle', 1), ('projectiles', 1), ('miniature', 1), ('perps', 1), ('stack', 1), ('dvds', 1), ('8015', 1), ('hitchhiking', 1), ('garbagebot', 1), ('sorely', 1), ('goofballs', 1), ('pd', 1), ('20yrs', 1), ('copenhagen', 1), ('wintergreen', 1), ('instincts', 1), ('scratches', 1), ('commiting', 1), ('spelled', 1), ('plugging', 1), ('abbandoned', 1), ('darsena', 1), ('castello', 1), ('scaligero', 1), ('sirmione', 1), ('variation', 1), ('counters', 1), ('todayhave', 1), ('revenge', 1), ('directory', 1), ('coronet', 1), ('30m', 1), ('berlatsky', 1), ('admired', 1), ('taxis', 1), ('mee', 1), ('yer', 1), ('hymn', 1), ('abba', 1), ('tornadochick', 1), ('915', 1), ('oo', 1), ('redhead', 1), ('flex', 1), ('yikes', 1), ('clients', 1), ('wart', 1), ('8892', 1), ('dispersed', 1), ('comrades', 1), ('sweatseeking', 1), ('calorieburning', 1), ('cardiotorture', 1), ('nod', 1), ('renewables', 1), ('craft', 1), ('doessnt', 1), ('rejoice', 1), ('calamities', 1), ('ect', 1), ('guardrails', 1), ('clyde', 1), ('releasing', 1), ('speccy', 1), ('barber', 1), ('egg', 1), ('mlg', 1), ('spammers', 1), ('ropes', 1), ('angers', 1), ('creamy', 1), ('thatnot', 1), ('2017', 1), ('2019', 1), ('faints', 1), ('pdxabq', 1), ('yasummer', 1), ('toed', 1), ('din', 1), ('memez', 1), ('wraps', 1), ('cloth', 1), ('convincing', 1), ('compelling', 1), ('deniers', 1), ('tend', 1), ('givingevidence', 1), ('academia', 1), ('spouting', 1), ('westmarch', 1), ('arreat', 1), ('whites', 1), ('curly', 1), ('impure', 1), ('missy', 1), ('suited', 1), ('summertime', 1), ('yeehaw', 1), ('intel', 1), ('norse', 1), ('landscapes', 1), ('boringdead', 1), ('snotgreen', 1), ('wastelands', 1), ('stowing', 1), ('aboard', 1), ('jammu', 1), ('directing', 1), ('recognition', 1), ('fuckfacewineisdumbcom', 1), ('whoahahahahhdjs', 1), ('insomniac', 1), ('trophies', 1), ('corpse', 1), ('jittering', 1), ('teleported', 1), ('decides', 1), ('taxes', 1), ('mrs', 1), ('gah', 1), ('outburst', 1), ('aggression', 1), ('sux', 1), ('collectibles', 1), ('until', 1), ('tattooine', 1), ('demonstration', 1), ('terminated', 1), ('sunk1', 1), ('mil', 1), ('pulloneyou', 1), ('marinading', 1), ('beaten', 1), ('ra', 1), ('ghul', 1), ('43c', 1), ('dreamworks', 1), ('warranted', 1), ('japs', 1), ('helphorses', 1), ('dieplease', 1), ('petitiontake', 1), ('intoxicated', 1), ('ampor', 1), ('dawg', 1), ('huddling', 1), ('scotus', 1), ('withpotus', 1), ('aaaaaaallll', 1), ('males', 1), ('fultoninfocourt', 1), ('strangersblkampwhtfrom', 1), ('forfeit', 1), ('lookap', 1), ('doomed', 1), ('trainees', 1), ('hugged', 1), ('tightly', 1), ('dads', 1), ('fckng', 1), ('wugliness', 1), ('uglyamesocialaction', 1), ('frats', 1), ('bioterrorismim', 1), ('tolewantg', 1), ('homeabc', 1), ('nana', 1), ('restlessness', 1), ('verrry', 1), ('ux', 1), ('emv', 1), ('insert', 1), ('stripe', 1), ('reader', 1), ('gandhi', 1), ('victorytotal', 1), ('answerhttptcokttyitow64', 1), ('umm', 1), ('scandal', 1), ('parliamentary', 1), ('expenses', 1), ('subsequent', 1), ('sackings', 1), ('robbie', 1), ('crawl', 1), ('jakey', 1), ('equivalent', 1), ('coaching', 1), ('defence', 1), ('derivative', 1), ('formula', 1), ('remixes', 1), ('merged', 1), ('betweensong', 1), ('paxton', 1), ('helen', 1), ('bloom', 1), ('alska', 1), ('seeweed', 1), ('caribean', 1), ('inhofe', 1), ('agw', 1), ('shines', 1), ('multicasualty', 1), ('smithsonianno', 1), ('trainthen', 1), ('disabled', 1), ('fh', 1), ('bethesda', 1), ('agreeshe', 1), ('isi', 1), ('torrecilla', 1), ('600000', 1), ('wording', 1), ('moblins', 1), ('hed', 1), ('notion', 1), ('seemly', 1), ('narcissism', 1), ('536', 1), ('tink', 1), ('dec', 1), ('h20', 1), ('deploy', 1), ('explaining', 1), ('evolved', 1), ('godlike', 1), ('thorgan', 1), ('gladbach', 1), ('hwy27', 1), ('approximately', 1), ('peculiar', 1), ('compliment', 1), ('headspace', 1), ('provides', 1), ('sabrina', 1), ('wiimington', 1), ('prkng', 1), ('liberals', 1), ('amphave', 1), ('baked', 1), ('alaskan', 1), ('epl', 1), ('jew', 1), ('intending', 1), ('signal', 1), ('arenanone', 1), ('blightthat', 1), ('tosu', 1), ('significance', 1), ('describe', 1), ('painthey', 1), ('lifeits', 1), ('wellington', 1), ('lp', 1), ('employed', 1), ('cougars', 1), ('manga', 1), ('triangle', 1), ('weatherit', 1), ('utopian', 1), ('gulags', 1), ('com', 1), ('shitton', 1), ('exclusively', 1), ('tacit', 1), ('bcz', 1), ('murphy', 1), ('lust', 1), ('leigh', 1), ('bothered', 1), ('traditionalist', 1), ('lynch', 1), ('factchecking', 1), ('ombudsmanship', 1), ('migraine', 1), ('4head', 1), ('swiming', 1), ('smelltaste', 1), ('anythingthere', 1), ('doingahhhthat', 1), ('caf', 1), ('whashtag', 1), ('cleariran', 1), ('abandons', 1), ('bombedits', 1), ('js', 1), ('bins', 1), ('wer', 1), ('hydro', 1), ('bigtent', 1), ('hailstormwindstorm', 1), ('barbaric', 1), ('saudies', 1), ('austrian', 1), ('concentration', 1), ('adorable', 1), ('vals', 1), ('trader', 1), ('joes', 1), ('wknd', 1), ('justdepressing', 1), ('nit', 1), ('extracting', 1), ('narrowly', 1), ('stacy', 1), ('connects', 1), ('supporting', 1), ('1946httpstcobojcx32qcz', 1), ('tenshi', 1), ('yukis', 1), ('telltales', 1), ('ampstory', 1), ('midmorning', 1), ('intro', 1), ('tdog', 1), ('morales', 1), ('andrea', 1), ('jacqui', 1), ('merle', 1), ('sweeping', 1), ('raps', 1), ('meeks', 1), ('purdies', 1), ('shias', 1), ('defeats', 1), ('ideals', 1), ('deadthis', 1), ('stunningly', 1), ('pitcher', 1), ('bats', 1), ('mia', 1), ('epsom', 1), ('tinderbox', 1), ('clown', 1), ('portrait', 1), ('yuan', 1), ('sponsored', 1), ('henchman', 1), ('stannis', 1), ('yell', 1), ('cheekiness', 1), ('bleeds', 1), ('recoil', 1), ('demonstrated', 1), ('gracefully', 1), ('conflictstactics', 1), ('infiltration', 1), ('groupshttpstcocyu8zxw1oh', 1), ('stereotyping', 1), ('bunting', 1), ('forefathers', 1), ('specs', 1), ('lore', 1), ('oppressed', 1), ('wampp', 1), ('ciggs', 1), ('tre', 1), ('sigh', 1), ('shtap', 1), ('salted', 1), ('sothwest', 1), ('tipped', 1), ('smfh', 1), ('mccains', 1), ('whoops', 1), ('photographed', 1), ('booth', 1), ('kappa', 1), ('barra', 1), ('cya', 1), ('hanayo', 1), ('adarius', 1), ('bowman', 1), ('younger', 1), ('helios', 1), ('satans', 1), ('50ft', 1), ('sabotagei', 1), ('911bombing', 1), ('barracks', 1), ('bombers', 1), ('density', 1), ('peasants', 1), ('stalins', 1), ('redistribute', 1), ('faminedeath', 1), ('sosa', 1), ('bellydo', 1), ('homework', 1), ('beau', 1), ('weisberg', 1), ('gat', 1), ('paused', 1), ('deeper', 1), ('farmers', 1), ('peoplegt', 1), ('crushmtvhottest', 1), ('mfsloose', 1), ('buffs', 1), ('puckflattened', 1), ('creamfields', 1), ('punishing', 1), ('compulsory', 1), ('itinerary', 1), ('dolphins', 1), ('cosponsor', 1), ('928', 1), ('inform', 1), ('accurately', 1), ('disable', 1), ('eco', 1), ('magically', 1), ('54000', 1), ('signatureschange', 1), ('pars', 1), ('defender', 1), ('tod', 1), ('ensued', 1), ('pikachu', 1), ('pfft', 1), ('bot', 1), ('140', 1), ('unhinged', 1), ('machismo', 1), ('bullshit', 1), ('frisco', 1), ('scouts', 1), ('okla', 1), ('percentages', 1), ('pew', 1), ('monumentalized', 1), ('rumors', 1), ('stormlike', 1), ('justiceno', 1), ('justicepeace', 1), ('clelliyou', 1), ('ooooohshit', 1), ('ooohshit', 1), ('hatman', 1), ('srs', 1), ('daynight', 1), ('elsewere', 1), ('sirensamp', 1), ('lemonade', 1), ('semi', 1), ('par', 1), ('northgate', 1), ('aaron', 1), ('underskirt', 1), ('forthright', 1), ('coma', 1), ('kebabtahinipickles', 1), ('wfries', 1), ('ohhh', 1), ('ohgod', 1), ('espresso', 1), ('busiest', 1), ('yessss', 1), ('ofcourse', 1), ('caued', 1), ('washing', 1), ('newport', 1), ('jackie', 1), ('bristol', 1), ('shortsideness', 1), ('graf', 1), ('backtracking', 1), ('protected', 1), ('suck', 1), ('sincerety', 1), ('meter', 1), ('executing', 1), ('joshua', 1), ('lured', 1), ('fanbase', 1), ('wod', 1), ('vela', 1), ('dangeri', 1), ('vichardy', 1), ('freeman', 1), ('practicing', 1), ('ignoranceshe', 1), ('latinoand', 1), ('benothing', 1), ('morebut', 1), ('berahino', 1), ('noooo', 1), ('mino', 1), ('before', 1), ('hitters', 1), ('uhoh', 1), ('slowed', 1), ('sympathyonlf', 1), ('affiliated', 1), ('shabab', 1), ('ten4', 1), ('fcked', 1), ('1000amp1000', 1), ('indianperpetrated', 1), ('sunkcost', 1), ('disposition', 1), ('suggest', 1), ('qatar', 1), ('wbu', 1), ('gaymaro', 1), ('nearlyfatal', 1), ('pee', 1), ('pundits', 1), ('defenseless', 1), ('debbie', 1), ('foreskin', 1), ('nataly', 1), ('paramore', 1), ('muse', 1), ('bucks', 1), ('nsf', 1), ('narrator', 1), ('chemically', 1), ('lavatory', 1), ('db5', 1), ('ransacked', 1), ('awesomeeeeeeee', 1), ('shuffling', 1), ('grandfather', 1), ('predictions', 1), ('aquarius', 1), ('queenmy', 1), ('pretenses', 1), ('overturesplease', 1), ('songfor', 1), ('organizing', 1), ('thatdemolished', 1), ('noodles', 1), ('molly', 1), ('moi', 1), ('plutot', 1), ('heartbreak', 1), ('ufhguhfidt', 1), ('462', 1), ('11382', 1), ('apaz', 1), ('renewed', 1), ('migrating', 1), ('iphoto', 1), ('wasted', 1), ('hrsto', 1), ('mencius', 1), ('finland', 1), ('rosatom', 1), ('bricktop', 1), ('dilute', 1), ('1980s', 1), ('sifting', 1), ('mahalo', 1), ('nui', 1), ('loa', 1), ('magical', 1), ('kwwwkwwwk', 1), ('jiahahahha', 1), ('yeyeulala', 1), ('lucio', 1), ('harmkid', 1), ('lotg', 1), ('smoothed', 1), ('bird', 1), ('chalked', 1), ('tasty', 1), ('erosion', 1), ('crumbly', 1), ('shad', 1), ('forsythe', 1), ('lolim', 1), ('topic', 1), ('disasterhospital', 1), ('lmfaooo', 1), ('nawh', 1), ('lmaovv', 1), ('babalmaowelcome', 1), ('nyozi', 1), ('kwaaaaadead', 1), ('exactlyespecially', 1), ('lizeth', 1), ('everythign', 1), ('mcpherson', 1), ('wtm', 1), ('lillys', 1), ('wilden', 1), ('ahhhhh', 1), ('alec', 1), ('tort', 1), ('mh', 1), ('groton', 1), ('mmmm', 1), ('dopest', 1), ('mrobama', 1), ('cnmi', 1), ('2slow2report', 1), ('leos', 1), ('metaphorically', 1), ('quivk', 1), ('leaveevacuateexitbe', 1), ('banished', 1), ('actin', 1), ('koreans', 1), ('gameshttpstcoapksnplxzj', 1), ('daysweeks', 1), ('streams', 1), ('rrs', 1), ('reset', 1), ('hangin', 1), ('watchin', 1), ('possesion', 1), ('decriminalized', 1), ('substance', 1), ('cheering', 1), ('juan', 1), ('jsyk', 1), ('abt', 1), ('remus', 1), ('slumped', 1), ('jaybig', 1), ('lpunbiggiewrap', 1), ('overzero', 1), ('questionfatalityflawless', 1), ('sketchbook', 1), ('biting', 1), ('mask', 1), ('howre', 1), ('somethin', 1), ('covering', 1), ('scabs', 1), ('hypo', 1), ('imply', 1), ('causation', 1), ('hotter', 1), ('drools', 1), ('umntu', 1), ('wakho', 1), ('wellknown', 1), ('valentines', 1), ('oompahperiod', 1), ('tyreand', 1), ('donevaginaorcake', 1), ('itd', 1), ('nagaski', 1), ('jackholes', 1), ('disturbing', 1), ('grimrail', 1), ('depot', 1), ('relevance', 1), ('rowers', 1), ('celeb', 1), ('endorsements', 1), ('kahel', 1), ('oppressions', 1), ('httpstcomoll5vd8yd', 1), ('hush', 1), ('hushhes', 1), ('rsl', 1), ('snctions', 1), ('miltary150bilno', 1), ('inspctkps', 1), ('hostagesthrosw', 1), ('gutrkps', 1), ('hlps', 1), ('wnukes', 1), ('iof', 1), ('513', 1), ('zionist', 1), ('moralityzionism', 1), ('comprehensive', 1), ('remarkably', 1), ('postcapitalism', 1), ('epoch', 1), ('liz', 1), ('abide', 1), ('codes', 1), ('osha', 1), ('codesstructurs', 1), ('iit', 1), ('logically', 1), ('sanction', 1), ('democrat', 1), ('hei', 1), ('darker', 1), ('advertise', 1), ('relate', 1), ('billie', 1), ('jean', 1), ('prolly', 1), ('freshers', 1), ('unprepared', 1), ('twitch', 1), ('cyclonesama', 1), ('rindou', 1), ('gawker', 1), ('f35s', 1), ('capabilities', 1), ('luggage', 1), ('hersvp', 1), ('hers', 1), ('idkidk', 1), ('idki', 1), ('sterotypical', 1), ('annddd', 1), ('colorism', 1), ('prevalent', 1), ('lees', 1), ('browner', 1), ('rae', 1), ('commissioned', 1), ('mull', 1), ('realization', 1), ('span', 1), ('imsort', 1), ('fonts', 1), ('freaked', 1), ('otl', 1), ('trailers', 1), ('btm', 1), ('9th', 1), ('2out', 1), ('hogging', 1), ('realm', 1), ('420', 1), ('elgato', 1), ('bday', 1), ('forehead', 1), ('tbs', 1), ('ram', 1), ('shove', 1), ('muffle', 1), ('ffvii', 1), ('exclamation', 1), ('midweek', 1), ('reference', 1), ('heller', 1), ('franchise', 1), ('amazed', 1), ('mistress', 1), ('rampage', 1), ('shidddd', 1), ('cainsuch', 1), ('heartburn', 1), ('mundo', 1), ('rom', 1), ('halloween', 1), ('reboot', 1), ('belair', 1), ('akame', 1), ('ghoul', 1), ('trickshot', 1), ('controller', 1), ('raises', 1), ('sorts', 1), ('consulted', 1), ('barking', 1), ('marquis', 1), ('charlies', 1), ('dublins', 1), ('squeezed', 1), ('blubber', 1), ('caleen', 1), ('sisk', 1), ('funded', 1), ('wfocus', 1), ('winnemem', 1), ('orpik', 1), ('nusrah', 1), ('sawlets', 1), ('meltdowni', 1), ('sunscreen', 1), ('rainbows', 1), ('heatnext', 1), ('breather', 1), ('sack', 1), ('yh', 1), ('coinflip', 1), ('submitting', 1), ('itdidnt', 1), ('bb', 1), ('habor', 1), ('slix', 1), ('rides', 1), ('wavy', 1), ('hershey', 1), ('meansit', 1), ('presbad', 1), ('math', 1), ('88', 1), ('pitches', 1), ('inn', 1), ('fault', 1), ('goodbyes', 1), ('influenced', 1), ('whilst', 1), ('dew', 1), ('erodes', 1), ('superstar', 1), ('forrest', 1), ('83', 1), ('tolerated', 1), ('inch', 1), ('dynasty', 1), ('tenno', 1), ('dojo', 1), ('dtb', 1), ('watchout', 1), ('carpenters', 1), ('armenians', 1), ('oversee', 1), ('electoral', 1), ('romero', 1), ('hutch', 1), ('absurd', 1), ('satire', 1), ('indistinguishable', 1), ('lightly', 1), ('reserved', 1), ('iced', 1), ('pages', 1), ('defs', 1), ('hugs', 1), ('verses', 1), ('quran', 1), ('massmurder', 1), ('massrape', 1), ('cosits', 1), ('hassle', 1), ('amsosorry', 1), ('vines', 1), ('subjected', 1), ('unwarranted', 1), ('caroline', 1), ('bigsby', 1), ('popobawa', 1), ('revolves', 1), ('marketplace', 1), ('bolapm', 1), ('lyrium', 1), ('hyukkie', 1), ('chullie', 1), ('eunhae', 1), ('hr15', 1), ('snowstormi', 1), ('snowmobiles', 1), ('believers', 1), ('stacks', 1), ('hangarback', 1), ('walkers', 1), ('opponent', 1), ('scum', 1), ('lefties', 1), ('184', 1), ('qn', 1), ('enthusiastic', 1), ('youuu', 1), ('hihow', 1), ('keio', 1), ('stationright', 1), ('chofu', 1), ('recognised', 1), ('2003', 1), ('sthing', 1), ('hazarddangerous', 1), ('heysundowns', 1), ('celticindeed', 1), ('improvement', 1), ('yellowsread', 1), ('emailed', 1), ('awol', 1), ('argh', 1), ('happing', 1), ('teamo', 1), ('supremo', 1), ('pogo', 1), ('bak', 1), ('brotherboyfriend', 1), ('mdva', 1), ('2075', 1), ('rub', 1), ('hazardwillian', 1), ('shifted', 1), ('lich', 1), ('dd', 1), ('rusher', 1), ('ly', 1), ('winnable', 1), ('thrusts', 1), ('womb', 1), ('hideous', 1), ('uglypeople', 1), ('vr', 1), ('cantona', 1), ('pepe', 1), ('lashed', 1), ('depay', 1), ('ozil', 1), ('ritchie', 1), ('should', 1), ('midfielders', 1), ('havnt', 1), ('owe', 1), ('apology', 1), ('wereonadesolateplanet', 1), ('belowthemasondixonline', 1), ('electro', 1), ('violin', 1), ('uncles', 1), ('gobsmackeddevastated', 1), ('harsh', 1), ('felon', 1), ('gregory', 1), ('wickett', 1), ('375000', 1), ('20000', 1), ('liver', 1), ('cosima', 1), ('lolits', 1), ('shay', 1), ('alrightbut', 1), ('jacksoncalm', 1), ('selfdestruction', 1), ('eurpoe', 1), ('mustered', 1), ('guam', 1), ('islandsbounce', 1), ('upa', 1), ('helene', 1), ('enemy', 1), ('wheavenly', 1), ('blessings', 1), ('kamon', 1), ('gigatech', 1), ('geno', 1), ('benefit', 1), ('believer', 1), ('economist', 1), ('wrked', 1), ('poorfran', 1), ('reed', 1), ('8437150124', 1), ('gamma', 1), ('january', 1), ('gabriel', 1), ('fibula', 1), ('u2', 1), ('sirius', 1), ('sayin', 1), ('frickin', 1), ('325000', 1), ('todayregarding', 1), ('reworked', 1), ('glitter', 1), ('testy', 1), ('jumpin', 1), ('httptcoedbxyatmaq', 1), ('experiments', 1), ('731', 1), ('lennox', 1), ('revs', 1), ('foi', 1), ('roh', 1), ('procura', 1), ('footballs', 1), ('spartans', 1), ('crushing', 1), ('doug', 1), ('nowlove', 1), ('introducing', 1), ('bsc', 1), ('unfortunate', 1), ('utilises', 1), ('welly', 1), ('aucklnd', 1), ('positions', 1), ('pandering', 1), ('hardright', 1), ('divides', 1), ('corrodes', 1), ('goodwill', 1), ('expressing', 1), ('expertise', 1), ('cornwalls', 1), ('finest', 1), ('unauthorized', 1), ('lesnarcena', 1), ('summerslam', 1), ('lpomampm', 1), ('hoped', 1), ('ventilated', 1), ('bandolier', 1), ('dix', 1), ('pumpkin', 1), ('embarrassed', 1), ('dreamy', 1), ('laced', 1), ('monologue', 1), ('charlize', 1), ('coulda', 1), ('staying', 1), ('tp', 1), ('regimes', 1), ('rinse', 1), ('editor', 1), ('fiascothat', 1), ('dw', 1), ('chipper', 1), ('duly', 1), ('notedthe', 1), ('involuntary', 1), ('wince', 1), ('holibobs', 1), ('butterflieshes', 1), ('ayatollah', 1), ('khomeini', 1), ('lan', 1), ('windstormfollow', 1), ('jeez', 1), ('lvg', 1), ('smaller', 1), ('lcb', 1), ('cl', 1), ('manners', 1), ('unstablethe', 1), ('pedagogypractice', 1), ('havoc', 1), ('texts', 1), ('ditto', 1), ('drank', 1), ('vodka', 1), ('disneyland', 1), ('listenbuy', 1), ('negate', 1), ('ripples', 1), ('lloyds', 1), ('insure', 1), ('oppa', 1), ('haaaaaa', 1), ('unqualified', 1), ('treaty', 1), ('lyndon', 1), ('definite', 1), ('crown', 1), ('fathom', 1), ('byebyeroad', 1), ('carpooling', 1), ('daem', 1), ('dresser', 1), ('hhello', 1), ('cork', 1), ('irelandwe', 1), ('todaythat', 1), ('undeserving', 1), ('tora', 1), ('contradictory', 1), ('uninhabited', 1), ('alternativescategoricallywere', 1), ('outrageous', 1), ('hamster', 1), ('condemning', 1), ('gv', 1), ('heirs', 1), ('atcha', 1), ('golfball', 1), ('comeeeee', 1), ('mcourt', 1), ('parliment', 1), ('reddish', 1), ('colored', 1), ('dummies', 1), ('pronouncing', 1), ('colliding', 1), ('projectile', 1), ('60s', 1), ('transgenerational', 1), ('utd', 1), ('pedro20', 1), ('rescuersthe', 1), ('infomercial', 1), ('crept', 1), ('nowwwwww', 1), ('fairport', 1), ('cantwont', 1), ('sec', 1), ('528472', 1), ('kia', 1), ('fag', 1), ('triplemania', 1), ('villano', 1), ('whooping', 1), ('myztiziziziziz', 1), ('selffulfilling', 1), ('selftalk', 1), ('indictment', 1), ('kindof', 1), ('restrospect', 1), ('lilourry', 1), ('stan', 1), ('narry', 1), ('carful', 1), ('spotting', 1), ('imagination', 1), ('institutionalstructural', 1), ('libertyville', 1), ('friendshipyou', 1), ('commercials', 1), ('frankly', 1), ('tic', 1), ('tac', 1), ('battleships', 1), ('matchwood', 1), ('minutiae', 1), ('champagne', 1), ('publish', 1), ('ozz', 1), ('slapped', 1), ('venture', 1), ('suitable', 1), ('populated', 1), ('erea', 1), ('bhill', 1), ('beez', 1), ('bharat', 1), ('fulfill', 1), ('retired', 1), ('dgm', 1), ('nabard', 1), ('bg16', 1), ('brunt', 1), ('grayed', 1), ('interspersed', 1), ('boo', 1), ('1019', 1), ('fkn', 1), ('pleb', 1), ('afflecki', 1), ('wifekids', 1), ('newly', 1), ('maple', 1), ('begovic', 1), ('reserve', 1), ('caves', 1), ('illustrative', 1), ('becuase', 1), ('gunsmissilesbombs', 1), ('abombs', 1), ('oclock', 1), ('felony', 1), ('risky', 1), ('jitsu', 1), ('hexagon', 1), ('yelled', 1), ('cuties', 1), ('notoriety', 1), ('1915', 1), ('manayunk', 1), ('mataas', 1), ('kc', 1), ('ratingbut', 1), ('ratings', 1), ('sincere', 1), ('liquid', 1), ('blownup', 1), ('mortem', 1), ('samples', 1), ('sweets', 1), ('madara', 1), ('stripped', 1), ('sequalae', 1), ('suicides', 1), ('homicides', 1), ('dangling', 1), ('piercing', 1), ('crystals', 1), ('pree', 1), ('standuser', 1), ('vineyards', 1), ('mcclain', 1), ('practicenyg', 1), ('sys', 1), ('clergyforced', 1), ('youngerampgrossly', 1), ('disfigured', 1), ('bioterrorismap', 1), ('hudhud', 1), ('chandrababu', 1), ('valle', 1), ('duplicate', 1), ('crazier', 1), ('commenting', 1), ('taylors', 1), ('arkan', 1), ('edmund', 1), ('fitzgerald', 1), ('practically', 1), ('taint', 1), ('climbing', 1), ('12007', 1), ('vern', 1), ('sq', 1), ('tb4', 1), ('deactivate', 1), ('bookslast', 1), ('checkedhe', 1), ('werewolf', 1), ('idiota', 1), ('childs', 1), ('mcutchen', 1), ('alrighty', 1), ('illuminated', 1), ('brightly', 1), ('andre', 1), ('gore', 1), ('aiii', 1), ('calmly', 1), ('sorta', 1), ('awash', 1), ('abstract', 1), ('dustpig', 1), ('indifferent', 1), ('eep', 1), ('fadc', 1), ('delight', 1), ('bait', 1), ('hater', 1), ('fez', 1), ('equation', 1), ('recipe', 1), ('accepts', 1), ('wisconsin', 1), ('aaaa', 1), ('roomr', 1), ('donated', 1), ('handi', 1), ('wipes', 1), ('a2', 1), ('circumstances', 1), ('withstand', 1), ('collisions', 1), ('specifically', 1), ('utilized', 1), ('mascara', 1), ('smeared', 1), ('killeddisplaced', 1), ('systematic', 1), ('grahamwp', 1), ('opinions', 1), ('skarlet', 1), ('pushed', 1), ('backwards', 1), ('mulan', 1), ('indiayor', 1), ('graywardens', 1), ('gifts', 1), ('malt', 1), ('loaf', 1), ('focused', 1), ('immigrants', 1), ('competetion', 1), ('penetrator', 1), ('tolerance', 1), ('mutilated', 1), ('cunt', 1), ('arachys', 1), ('beta', 1), ('chapters', 1), ('yoga', 1), ('yeeessss', 1), ('kp2', 1), ('kombatants', 1), ('kostumes', 1), ('chug', 1), ('estus', 1), ('wld', 1), ('minivan', 1), ('socalled', 1), ('mild', 1), ('relegation', 1), ('skynet', 1), ('watt', 1), ('obj', 1), ('veg', 1), ('arrival', 1), ('machidadid', 1), ('fightnope', 1), ('vandalzing', 1), ('25c', 1), ('wha', 1), ('timebomb', 1), ('destined', 1), ('cuddling', 1), ('cnns', 1), ('seventies', 1), ('fecal', 1), ('turdnado', 1), ('forgeting', 1), ('lb', 1), ('hamburger', 1), ('racial', 1), ('perturbs', 1), ('toxiccancerdiseasehazardous', 1), ('wastenoxious', 1), ('galaxy', 1), ('heroicfamine', 1), ('compassion', 1), ('gt33333', 1), ('ascend', 1), ('genisys', 1), ('reined', 1), ('fallingoffstool', 1), ('coates', 1), ('charleston', 1), ('broadly', 1), ('mocked', 1), ('traces', 1), ('troubling', 1), ('nazis', 1), ('pursued', 1), ('ambitions', 1), ('forgets', 1), ('illuminati', 1), ('ilford', 1), ('contrasts', 1), ('foreboding', 1), ('expansive', 1), ('divisions', 1), ('saturation', 1), ('hue', 1), ('whoo', 1), ('raspy', 1), ('ttks', 1), ('sums', 1), ('puts', 1), ('jelly', 1), ('dave', 1), ('shhits', 1), ('moonbeam', 1), ('tokes', 1), ('gauze', 1), ('somaliaeritrea', 1), ('applicants', 1), ('carters', 1), ('79', 1), ('jpii', 1), ('ankles', 1), ('ldnrterrorists', 1), ('comics', 1), ('representative', 1), ('sample', 1), ('safari', 1), ('otherwisethey', 1), ('ohhhh', 1), ('suspicious', 1), ('oline', 1), ('roster', 1), ('nowt', 1), ('fergie', 1), ('drinkers', 1), ('wenger', 1), ('contributor', 1), ('bona', 1), ('fide', 1), ('cislady', 1), ('incidental', 1), ('homosexuality', 1), ('gaybi', 1), ('noooooooo', 1), ('depays', 1), ('overtake', 1), ('convenient', 1), ('enhance', 1), ('nkea', 1), ('gambia', 1), ('mercenary', 1), ('nissan', 1), ('narrates', 1), ('sond', 1), ('babality', 1), ('dell', 1), ('win10', 1), ('hotness', 1), ('mizzou', 1), ('muschamps', 1), ('bama', 1), ('muzzies', 1), ('payback', 1), ('mattingly', 1), ('bundy', 1), ('mcgwire', 1), ('nitish', 1), ('castes', 1), ('cereal', 1), ('kelloggs', 1), ('sugar', 1), ('crunchy', 1), ('objective', 1), ('shedid', 1), ('4the', 1), ('bushs', 1), ('washard', 1), ('keithyy', 1), ('norwich', 1), ('flavored', 1), ('invaded', 1), ('pearl', 1), ('preemptive', 1), ('jamie', 1), ('meddling', 1), ('engineer', 1), ('rpm', 1), ('ww', 1), ('wew', 1), ('postwar', 1), ('cheetos', 1), ('zerohedge', 1), ('readers', 1), ('orchs', 1), ('tyrant', 1), ('bachmann', 1), ('wron', 1), ('loser', 1), ('snide', 1), ('remarksme', 1), ('roskomnadzor', 1), ('ridiculously', 1), ('politicized', 1), ('hsbfuckjsj', 1), ('blackburns', 1), ('pll', 1), ('jokin', 1), ('iwo', 1), ('jima', 1), ('rebuild', 1), ('manufactured', 1), ('crit', 1), ('hampered', 1), ('liking', 1), ('ella', 1), ('vickers', 1), ('washable', 1), ('badgeofhonour', 1), ('snowstormdespite', 1), ('titty', 1), ('coldstone', 1), ('monterrey', 1), ('cooling', 1), ('slapping', 1), ('showdown', 1), ('downloading', 1), ('hipster', 1), ('skimmed', 1), ('folding', 1), ('judas', 1), ('priest', 1), ('astonishing', 1), ('countering', 1), ('skewed', 1), ('cp2020', 1), ('blighted', 1), ('corporate', 1), ('nenshi', 1), ('overlooking', 1), ('deco', 1), ('trickier', 1), ('batista', 1), ('resolved', 1), ('theirs', 1), ('fricken', 1), ('pullup', 1), ('teesha', 1), ('believeis', 1), ('yuvi', 1), ('tat', 1), ('standardised', 1), ('clinical', 1), ('stump', 1), ('checks', 1), ('equalizer', 1), ('insulted', 1), ('meaningless', 1), ('hillarymass', 1), ('trp', 1), ('adsit', 1), ('mockery', 1), ('ashayo', 1), ('presentation', 1), ('predicting', 1), ('sled', 1), ('emilio', 1), ('stealth', 1), ('m4', 1), ('shatter', 1), ('delusions', 1), ('preset', 1), ('nades', 1), ('zack', 1), ('madsummer', 1), ('comparing', 1), ('brilliant', 1), ('arse', 1), ('rebirth', 1), ('polit', 1), ('particular', 1), ('seras', 1), ('sasha', 1), ('peice', 1), ('sidewalk', 1), ('dota', 1), ('legends', 1), ('diasporas', 1), ('abouts', 1), ('3ampmy', 1), ('daughtery', 1), ('rants', 1), ('factual', 1), ('frequently', 1), ('distraction', 1), ('cruise', 1), ('flush', 1), ('benefitsgreat', 1), ('salary', 1), ('foodfree', 1), ('impunity', 1), ('understandable', 1), ('warningwild', 1), ('noting', 1), ('carp', 1), ('leftside', 1), ('rings', 1), ('appealing', 1), ('churches', 1), ('30th', 1), ('avast', 1), ('andals', 1), ('metrobus', 1), ('nosports', 1), ('top25', 1), ('competence', 1), ('soc', 1), ('delivery', 1), ('heavenwell', 1), ('joketheyre', 1), ('alsowhat', 1), ('injuredthen', 1), ('bilic', 1), ('slated', 1), ('themhe', 1), ('a27', 1), ('lewes', 1), ('kingston', 1), ('roundabout', 1), ('a283', 1), ('yezidi', 1), ('slaveswe', 1), ('capitalist', 1), ('elect', 1), ('groaning', 1), ('harden', 1), ('flopping', 1), ('identical', 1), ('thalapathi', 1), ('push2left', 1), ('talkecologyamphuman', 1), ('rtsampdemocracy', 1), ('afghetcleft', 1), ('humanitarian', 1), ('chopping', 1), ('rooftops', 1), ('commons', 1), ('ownership', 1), ('debacle', 1), ('wderailed', 1), ('nonpassenger', 1), ('mgr', 1), ('cosmetics', 1), ('scrubs', 1), ('toothpaste', 1), ('aquatic', 1), ('ecosystems', 1), ('vowed', 1), ('whiv', 1), ('grubbing', 1), ('kikes', 1), ('cluei', 1), ('telekinesis', 1), ('viewers', 1), ('sells', 1), ('killin', 1), ('invadedbombed', 1), ('aside', 1), ('untrained', 1), ('nyclass', 1), ('500k', 1), ('mailer', 1), ('gio', 1), ('skc', 1), ('nycfc', 1), ('newspaper', 1), ('2n', 1), ('conventional', 1), ('yanks', 1), ('nuks', 1), ('crescent', 1), ('trails', 1), ('breed', 1), ('pug', 1), ('mwednesday', 1), ('purpose', 1), ('4k', 1), ('superficial', 1), ('dumping', 1), ('shaking', 1), ('cesspool', 1), ('fringe', 1), ('profits', 1), ('envision', 1), ('adoption', 1), ('substantial', 1), ('selfinflict', 1), ('consistent', 1), ('dimensions', 1), ('imam', 1), ('glononium', 1), ('6c', 1), ('bashing', 1), ('nitroglycerin', 1), ('hendricks', 1), ('hospitality', 1), ('besieged', 1), ('balding', 1), ('emo', 1), ('generic', 1), ('empathy', 1), ('welp', 1), ('dunce', 1), ('pax', 1), ('succeed', 1), ('detonateampshots', 1), ('operate', 1), ('grandest', 1), ('scales', 1), ('selmo', 1), ('slaughter', 1), ('usbush', 1), ('lowered', 1), ('wmiddle', 1), ('401ks', 1), ('atw', 1), ('mosh', 1), ('forfeiting', 1), ('frail', 1), ('ridah', 1), ('whattt', 1), ('fangirl', 1), ('aiden', 1), ('monty', 1), ('python', 1), ('enabling', 1), ('investigatin', 1), ('tut', 1), ('favorited', 1), ('kitties', 1), ('embarrassing', 1), ('shitalright', 1), ('rods', 1), ('creatures', 1), ('once', 1), ('99', 1), ('deluded', 1), ('gray', 1), ('ophelia', 1), ('displacedinjuredkilled', 1), ('opportunity', 1), ('noweven', 1), ('camped', 1), ('redcliffe', 1), ('aidan', 1), ('stat', 1), ('lightrail', 1), ('promoting', 1), ('lbr', 1), ('97', 1), ('situ', 1), ('shush', 1), ('privlege', 1), ('modi', 1), ('zeros', 1), ('kpk', 1), ('dams', 1), ('ruledeven', 1), ('thar', 1), ('rabaa', 1), ('observedrememberrabaa', 1), ('katherines', 1), ('younoone', 1), ('labor', 1), ('bastard', 1), ('pilloried', 1), ('saku', 1), ('genitals', 1), ('notley', 1), ('heartlandharper', 1), ('tfw', 1), ('slaves', 1), ('coefficient', 1), ('abject', 1), ('7475', 1), ('rockefellerchirockefellerunivheiress', 1), ('evade', 1), ('lgl', 1), ('prosecute', 1), ('blks', 1), ('kidnapgafp', 1), ('730', 1), ('wanother', 1), ('principle', 1), ('fulfilling', 1), ('clerical', 1), ('duties', 1), ('7speed', 1), ('nexus', 1), ('shifter', 1), ('4sake', 1), ('argsuppose', 1), ('preborn', 1), ('individl', 1), ('rightsgenerally', 1), ('courtof', 1), ('forbids', 1), ('dolla', 1), ('wowokumthat', 1), ('manservant', 1), ('pampered', 1), ('brit', 1), ('reversal', 1), ('farther', 1), ('thatd', 1), ('included', 1), ('goner', 1), ('screeching', 1), ('accompanying', 1), ('lokis', 1), ('daggers', 1), ('jammed', 1), ('minas', 1), ('thigh', 1), ('mina', 1), ('sif', 1), ('shouted', 1), ('darken', 1), ('ungodly', 1), ('gently', 1), ('dabbed', 1), ('rag', 1), ('informed', 1), ('ai', 1), ('applicable', 1), ('shirtless', 1), ('psych', 1), ('trusted', 1), ('zar', 1), ('cringes', 1), ('marek', 1), ('slaps', 1), ('screamsdont', 1), ('animatronics', 1), ('666', 1), ('herrelax', 1), ('flakes', 1), ('absol', 1), ('blankets', 1), ('sheets', 1), ('stablize', 1), ('curse', 1), ('throws', 1), ('sinks', 1), ('okanowa', 1), ('mainline', 1), ('itself', 1), ('manor', 1), ('scientist', 1), ('deceased', 1), ('other1', 1), ('eyes2', 1), ('humor3', 1), ('farts', 1), ('nonononono', 1), ('hijackings', 1), ('dressing', 1), ('sansa', 1), ('blinked', 1), ('trigger', 1), ('ner', 1), ('offline', 1), ('hinata', 1), ('brevoort', 1), ('ltgaspgt', 1), ('death2usa', 1), ('visualise', 1), ('crashsterlingwho', 1), ('carmel', 1), ('joeysterling', 1), ('4suspected', 1), ('waziristan', 1), ('ppe', 1), ('praying', 1), ('pleas', 1), ('london3', 1), ('loo', 1), ('stil', 1), ('mraffleck', 1), ('negotiating', 1), ('donuts', 1), ('hazardu', 1), ('motorways', 1), ('2reduce', 1), ('fumes', 1), ('puddle', 1), ('uncontrolled', 1), ('402', 1), ('areva', 1), ('away2', 1), ('thatnowlike', 1), ('usthe', 1), ('connectedi', 1), ('behaviour', 1), ('pleasantly', 1), ('div', 1), ('worldbest', 1), ('g7', 1), ('g20best', 1), ('meltdownwhat', 1), ('snowstormhailstorm', 1), ('janeenorman', 1), ('probability', 1), ('alexandrian', 1), ('2car', 1), ('a1a', 1), ('bings', 1), ('fj', 1), ('welcoming', 1), ('feeble', 1), ('935', 1), ('960kzim', 1), ('steele', 1), ('tumbles', 1), ('todayim', 1), ('sideand', 1), ('sweeps', 1), ('awayyoure', 1), ('bitchruns', 1), ('9503', 1), ('528', 1), ('540', 1), ('740', 1), ('20177707d', 1), ('1800s', 1), ('harakiri', 1), ('southaccident', 1), ('langtree', 1), ('rdconsider', 1), ('115', 1), ('prove', 1), ('begun', 1), ('tren', 1), ('85v265v', 1), ('10w', 1), ('pir', 1), ('auc', 1), ('faculty', 1), ('pushing', 1), ('862015209', 1), ('2781', 1), ('willis', 1), ('foreman', 1), ('862015132', 1), ('deans', 1), ('862015108', 1), ('wrightsboro', 1), ('85', 1), ('cardinals', 1), ('jaron', 1), ('fireshttptco6o1mgmghgt', 1), ('mtech', 1), ('assisted', 1), ('mta801bl', 1), ('zix', 1), ('groceries', 1), ('aching', 1), ('713pm', 1), ('lougheed', 1), ('203rd', 1), ('dewdney', 1), ('eto', 1), ('73rd', 1), ('goode', 1), ('championships', 1), ('mon', 1), ('annihilate', 1), ('nowish', 1), ('abombed', 1), ('therein', 1), ('destroyd', 1), ('vigils', 1), ('wartime', 1), ('wroug', 1), ('70amp', 1), ('mysteries', 1), ('7beyonce', 1), ('zhejiang', 1), ('boyampcarried', 1), ('enola', 1), ('250000', 1), ('naypyidaw', 1), ('prensa', 1), ('latina', 1), ('627', 1), ('striked', 1), ('otm', 1), ('tuesdays', 1), ('6beyonce', 1), ('trends', 1), ('startups', 1), ('challenging', 1), ('515p', 1), ('fme', 1), ('tmake', 1), ('tthe', 1), ('bhome', 1), ('7p', 1), ('573', 1), ('disasterrelated', 1), ('marilyn', 1), ('monroes', 1), ('ripriprip', 1), ('52214904', 1), ('5139055', 1), ('hilversum', 1), ('meters', 1), ('50k', 1), ('delirious', 1), ('501', 1), ('mandem', 1), ('totteham', 1), ('maddddd', 1), ('ting', 1), ('dere', 1), ('foodborne', 1), ('dears', 1), ('reg', 1), ('competitiveness', 1), ('oversaturated', 1), ('brockton', 1), ('12m', 1), ('regc', 1), ('ppc', 1), ('fiji', 1), ('stretched', 1), ('todos', 1), ('administer', 1), ('apps', 1), ('qct', 1), ('metropol', 1), ('bukidnon', 1), ('4yygb', 1), ('mhtw4fnetthousands', 1), ('strongest', 1), ('45600', 1), ('meditation', 1), ('ampgot', 1), ('divine', 1), ('blessing', 1), ('411naija', 1), ('290', 1), ('reviewers', 1), ('boxset', 1), ('lindsay', 1), ('buroker', 1), ('printable', 1), ('templateshttptconaex0q1ax0', 1), ('hoke', 1), ('excepting', 1), ('dfljev', 1), ('times4', 1), ('albertville', 1), ('toremove', 1), ('govtotherwise', 1), ('ll', 1), ('slain', 1), ('terroristbstrd', 1), ('takig', 1), ('sculrismfinisem', 1), ('greats', 1), ('35w', 1), ('honoring', 1), ('320', 1), ('icemoon', 1), ('300k', 1), ('exotic', 1), ('httptcoj49xeuj7ps', 1), ('1200000', 1), ('11000000', 1), ('excessive', 1), ('emerging', 1), ('3pronged', 1), ('furniture', 1), ('retailer', 1), ('dsc', 1), ('colorlines', 1), ('marketers', 1), ('marketer', 1), ('212', 1), ('surgeon', 1), ('neutron', 1), ('awaken', 1), ('disrupting', 1), ('noon', 1), ('bedrooms', 1), ('baths', 1), ('httptcoqms8rressdyoutube', 1), ('2pcs', 1), ('18w', 1), ('2leezy', 1), ('grabbing', 1), ('220', 1), ('oct', 1), ('1895', 1), ('twentysix', 1), ('kamayani', 1), ('janata', 1), ('gratia', 1), ('simultaneous', 1), ('22beyonce', 1), ('waterproof', 1), ('weiqin', 1), ('michel', 1), ('lujo', 1), ('2012shells', 1), ('250foottall', 1), ('drilling', 1), ('towlineampdrifted', 1), ('2his', 1), ('explanation', 1), ('lansdowne', 1), ('sts', 1), ('emerg', 1), ('216', 1), ('rowl', 1), ('rowaa', 1), ('pple', 1), ('boatnews', 1), ('policemen', 1), ('indicate', 1), ('hst', 1), ('waianapanapa', 1), ('slams', 1), ('bordento', 1), ('latino', 1), ('unharmed', 1), ('nationals', 1), ('stew', 1), ('measles', 1), ('complications', 1), ('looses', 1), ('crickets', 1), ('headon', 1), ('kenai', 1), ('spur', 1), ('wk', 1), ('seward', 1), ('licensed', 1), ('produc', 1), ('1961', 1), ('les', 1), ('wozni', 1), ('treblinka', 1), ('rebelled', 1), ('seizing', 1), ('1942', 1), ('19000', 1), ('rebuilt', 1), ('blockade', 1), ('1860', 1), ('bloods', 1), ('octagonal', 1), ('cds', 1), ('15l18', 1), ('bovines', 1), ('smugglersnabbed', 1), ('17beyonce', 1), ('sarabia', 1), ('bombinga', 1), ('aseer', 1), ('southwestern', 1), ('remote', 1), ('stylishly', 1), ('areawctv35', 1), ('120v', 1), ('breaker', 1), ('threshold', 1), ('awg', 1), ('commonly', 1), ('1800w', 1), ('outlets', 1), ('reopened', 1), ('clearlake', 1), ('lik', 1), ('lulgzimbestpicts', 1), ('12news', 1), ('housed', 1), ('90th', 1), ('osborn', 1), ('extinguished', 1), ('12beyonce', 1), ('72w', 1), ('alloy', 1), ('ta', 1), ('thinkin', 1), ('yal', 1), ('ain', 1), ('payday', 1), ('finance', 1), ('liqd', 1), ('1157am', 1), ('mynabirds', 1), ('lovers', 1), ('1130bst', 1), ('a10gtparis', 1), ('a40', 1), ('a7', 1), ('mons', 1), ('a2gthanover', 1), ('karlsruhe', 1), ('gotthard', 1), ('1130a', 1), ('showersstorms', 1), ('areasminor', 1), ('119', 1), ('sri', 1), ('lankas', 1), ('11000', 1), ('mre', 1), ('homs', 1), ('zaman', 1), ('alwsl', 1), ('digitshttptcotxrswi0efg', 1), ('10news', 1), ('700', 1), ('sided', 1), ('linerless', 1), ('caps', 1), ('10monthold', 1), ('coastguard', 1), ('martial', 1), ('bicyclists', 1), ('runners', 1), ('194', 1), ('0011', 1), ('helens', 1), ('0936', 1), ('9km', 1), ('929', 1), ('scotiabank', 1), ('saddledome', 1), ('msm', 1), ('staging', 1), ('atv', 1), ('absence', 1), ('interactions', 1), ('naples', 1), ('0npzp', 1), ('0913', 1), ('httptcoed1vpitswy', 1), ('08315', 1), ('utica', 1), ('pleasant', 1), ('aveblack', 1), ('paws', 1), ('majors', 1), ('martyred', 1), ('corps', 1), ('030811', 1), ('41yearold', 1), ('citing', 1), ('casing', 1), ('04', 1), ('axle', 1), ('2055271', 1), ('macs', 1), ('ars', 1), ('technica', 1), ('criess', 1), ('wook', 1), ('gtlt', 1), ('hsu', 1), ('hao', 1), ('flawless', 1), ('holes', 1), ('avalanchesgtgthttpstcoxrrlnhelapallah', 1), ('idp', 1), ('wwp', 1), ('serving', 1), ('75k', 1), ('52k', 1), ('oifoef', 1), ('invisible', 1), ('westmdcountypa', 1), ('20th', 1), ('vagersedolla', 1), ('uriminzok', 1), ('puppet', 1), ('naemolgo', 1), ('firmly', 1), ('yiraneuni', 1), ('unsuckdcmetro', 1), ('halfderailed', 1), ('halfrailed', 1), ('stavernise', 1), ('slosheriff', 1), ('huntington', 1), ('relations', 1), ('httpstco6ce1vwovhs', 1), ('appear', 1), ('ronfunches', 1), ('ron', 1), ('funches', 1), ('robdelaney', 1), ('ejaculating', 1), ('raniakhalek', 1), ('peterduttonmp', 1), ('norwaymfa', 1), ('noperiferico', 1), ('mlsudders', 1), ('libertygeek83', 1), ('kissing', 1), ('kurtschlichter', 1), ('kumailn', 1), ('karijobe', 1), ('tambourine', 1), ('jimmyfallon', 1), ('mortar', 1), ('pestle', 1), ('janeannmorrison', 1), ('greenbuildermag', 1), ('819', 1), ('emilynoel95', 1), ('dinosaurdracula', 1), ('jasons', 1), ('denisleary', 1), ('davidcameron', 1), ('upsetting', 1), ('dantwitty52', 1), ('eighth', 1), ('cityofcalgary', 1), ('cbcnorth', 1), ('sacred', 1), ('rr', 1), ('talston', 1), ('2010httptcosxlfsnsph0', 1), ('bigperm28', 1), ('drafted', 1), ('mwlippert', 1), ('preparedelectrocutedboiling', 1), ('waterfur', 1), ('arnejungjohann', 1), ('aphl', 1), ('aiginsurance', 1), ('divestitures', 1), ('q2', 1), ('38degrees', 1), ('unilever', 1), ('drayesha4', 1), ('ki', 1), ('orphanage', 1), ('400000800000', 1), ('jeremycorbyn', 1), ('savvy', 1), ('httptcofabsyxqlqi', 1), ('hotepina', 1), ('achieved', 1), ('refunds', 1), ('twos', 1), ('colts', 1), ('5007', 1), ('whine', 1), ('collectable', 1), ('windriver', 1), ('60ml', 1), ('mendealsuk', 1), ('playstation', 1), ('ps1', 1), ('raredealsuk', 1), ('avocadowaits', 1), ('patiently', 1), ('avocado', 1), ('kitana', 1), ('slay', 1), ('mekody', 1), ('uselessthe', 1), ('penetratedue', 1), ('senzu', 1), ('gohans', 1), ('pouch', 1), ('grea', 1), ('againspiritual', 1), ('awakening', 1), ('nicole', 1), ('fletcher', 1), ('sobbing', 1), ('endlessly', 1), ('femnism', 1), ('joanns', 1), ('melittle', 1), ('girlwelp', 1), ('pone', 1), ('cantar', 1), ('prodigy', 1), ('graphic', 1), ('nominates', 1), ('hatcap', 1), ('silvergray', 1), ('embroidered', 1), ('fujiwara', 1), ('shunichiro', 1), ('snickers', 1), ('niiiice', 1), ('jumps', 1), ('teathis', 1), ('upstairsgoes', 1), ('openchecks', 1), ('jariana', 1), ('burma', 1), ('enduring', 1), ('onme', 1), ('smokesthanks', 1), ('comin', 1), ('escorts', 1), ('roundup', 1), ('shadows', 1), ('they', 1), ('russaky89', 1), ('hyiderghost2', 1), ('fighterdena', 1), ('avysss', 1), ('sokoto', 1), ('rubs', 1), ('greets', 1), ('genie', 1), ('829pm', 1), ('emsc', 1), ('912pm', 1), ('945pm', 1), ('844pm', 1), ('losdelsonido', 1), ('ivanberroa', 1), ('antichrist', 1), ('desecrates', 1), ('927', 1), ('241', 1), ('uslike', 1), ('giorgio', 1), ('hiatt', 1), ('incompetent', 1), ('cactusborderlands', 1), ('awaynothing', 1), ('saysee', 1), ('eyessee', 1), ('perceive', 1), ('faintly', 1), ('sputtering', 1), ('vast', 1), ('eternitysister', 1), ('gyrsi', 1), ('manner', 1), ('parcel', 1), ('dtom2', 1), ('accomplishing', 1), ('damsels', 1), ('peers', 1), ('bums', 1), ('bowel', 1), ('educate', 1), ('adapt', 1), ('bond', 1), ('enterprise', 1), ('wisely', 1), ('carnage', 1), ('continuinglet', 1), ('periodggindependencmessage', 1), ('orcas', 1), ('reopenhttptco35jyap0ul9', 1), ('busta', 1), ('splashed', 1), ('emmy', 1), ('emily', 1), ('dwight', 1), ('eisenhower', 1), ('1800', 1), ('arranged', 1), ('guatemalan', 1), ('bannister', 1), ('relied', 1), ('suns', 1), ('harder', 1), ('triumph', 1), ('paine', 1), ('oyster', 1), ('carnegie', 1), ('importance', 1), ('exits', 1), ('heartbeat', 1), ('familiar', 1), ('derives', 1), ('vincent', 1), ('peale', 1), ('hoops', 1), ('recruiting', 1), ('sorrowful', 1), ('redemption', 1), ('platt', 1), ('some', 1), ('hearths', 1), ('yeswhy', 1), ('fireiii', 1), ('36x36', 1), ('since1970the', 1), ('depreciations', 1), ('cadusd', 1), ('b4federal', 1), ('wlandslide', 1), ('tasted', 1), ('mileena', 1), ('prisonlike', 1), ('conditionsprivation', 1), ('shovel', 1), ('redskins', 1), ('bellybombed', 1), ('enforced', 1), ('isolation', 1), ('contamination', 1), ('possum', 1), ('390', 1), ('bonsai', 1), ('banjo', 1), ('pilon', 1), ('skateboarding', 1), ('wamberal', 1), ('10yearold', 1), ('scam', 1), ('sarcasticdrop', 1), ('quietly', 1), ('personality', 1), ('modern', 1), ('schulz', 1), ('lender', 1), ('bampn', 1), ('pakistanexfederal', 1), ('fia', 1), ('tariq', 1), ('khosa', 1), ('motordom', 1), ('lobbied', 1), ('mcfadden', 1), ('hamstring', 1), ('shipwreck', 1), ('mages', 1), ('specialize', 1), ('natsu', 1), ('dragneel', 1), ('defendthe', 1), ('handside', 1), ('kessler', 1), ('exponential', 1), ('proliferation', 1), ('satellites', 1), ('steelthe', 1), ('illogicalthe', 1), ('fakeit', 1), ('revealing', 1), ('belter', 1), ('tsipras', 1), ('wallybaiter', 1), ('jihadist', 1), ('invading', 1), ('mistakediplomacy', 1), ('israelhttptcoyqjpn3quux', 1), ('aisle', 1), ('serbian', 1), ('foods', 1), ('clothing', 1), ('appropriates', 1), ('churchill', 1), ('summon', 1), ('fineme', 1), ('momdies', 1), ('achieve', 1), ('excellence', 1), ('habit', 1), ('truckload', 1), ('panics', 1), ('mindhttptcowjntaokdhf', 1), ('jota', 1), ('esse', 1), ('gemini', 1), ('overblown', 1), ('corrupt', 1), ('vandalise', 1), ('aliyu', 1), ('mani', 1), ('macia', 1), ('testified', 1), ('macias', 1), ('sylvia', 1), ('plath', 1), ('petrichour', 1), ('understood', 1), ('buildingsyou', 1), ('murderersnot', 1), ('fearfear', 1), ('mindkillerfear', 1), ('obliterationi', 1), ('mindkiller', 1), ('thezlong', 1), ('energyqfor', 1), ('lamphttptco724gq5ebqz', 1), ('dill', 1), ('pickle', 1), ('testicles', 1), ('indiansfor', 1), ('smirking', 1), ('remorseless', 1), ('boasting', 1), ('looming', 1), ('sonspopular', 1), ('menpopular', 1), ('batman', 1), ('smothered', 1), ('suicidebycop', 1), ('ibiza', 1), ('wsoaring', 1), ('memorieshttptcofelr5a1hbp', 1), ('alejandro', 1), ('jodorowsky', 1), ('buildingsonfire', 1), ('standmatthew', 1), ('1232', 1), ('arfur', 1), ('nelson', 1), ('allahuakbar', 1), ('yourselves', 1), ('scheer', 1), ('huebels', 1), ('renamed', 1), ('goonda', 1), ('motley', 1), ('hooligans', 1), ('selfavowed', 1), ('crooks', 1), ('asher', 1), ('lotm', 1), ('bleed', 1), ('masterpiece', 1), ('reporters', 1), ('calgarians', 1), ('freshness', 1), ('annoyed', 1), ('rahm', 1), ('mayoral', 1), ('effigy', 1), ('tall', 1), ('1993', 1), ('blaaaaaaa', 1), ('vibrate', 1), ('2338', 1), ('nasb', 1), ('raising', 1), ('departments', 1), ('failing', 1), ('yield', 1), ('amateur', 1), ('reprises', 1), ('horrormoviesca', 1), ('afterwards', 1), ('savour', 1), ('prolong', 1), ('sigue', 1), ('slamming', 1), ('54', 1), ('wsj', 1), ('adani', 1), ('phelimkine', 1), ('ma3route', 1), ('imeshika', 1), ('hapa', 1), ('mats', 1), ('aar', 1), ('ambulancewe', 1), ('piga', 1), ('kijan', 1), ('jorrynja', 1), ('bfgfcrush', 1), ('googlefacts', 1), ('lick', 1), ('catoinstitute', 1), ('deeply', 1), ('solved', 1), ('berggrueninst', 1), ('berggruen', 1), ('reacts', 1), ('chapoutier', 1), ('crozes', 1), ('hermitage', 1), ('violets', 1), ('slate', 1), ('yum', 1), ('statistic', 1), ('stalin', 1), ('xfiles', 1), ('pharrell', 1), ('omlette', 1), ('ltmeltdown', 1), ('commences', 1), ('ltkyodonewsgt', 1), ('update1', 1), ('anniv', 1), ('eroded', 1), ('pacifism', 1), ('kabul', 1), ('offshoot', 1), ('gtas', 1), ('serversgtservers', 1), ('loadgtmaintenance', 1), ('anew', 1), ('indiabacked', 1), ('presstitutes', 1), ('sympathising', 1), ('jammuif', 1), ('longe', 1), ('rgreen', 1), ('mountainstock', 1), ('10m', 1), ('illustrations', 1), ('fife', 1), ('sexthemed', 1), ('ebooks', 1), ('obamas', 1), ('sharia', 1), ('uninformed', 1), ('210', 1), ('citrus', 1), ('azusa', 1), ('motorcycles', 1), ('ihhen', 1), ('cindy', 1), ('noonancindynoonanheartbreak', 1), ('caller', 1), ('overpasses', 1), ('crowchild', 1), ('smallsized', 1), ('saddles', 1), ('cups', 1), ('lag', 1)]\n"
          ]
        }
      ]
    },
    {
      "cell_type": "markdown",
      "source": [
        "I will create a label generator based in hypothesis: always specified group of words related to disaster will apareced; so i can related key words to specified group."
      ],
      "metadata": {
        "id": "ycVouNqii_Lf"
      }
    },
    {
      "cell_type": "code",
      "source": [
        "mapper = {\n",
        "    \"fire\": {\n",
        "        \"key_words\" : ['arson','drought',\"hot\", 'heat','lava', \"fire\", \"burn\", 'flame', 'blaz', \"blast\" ],\n",
        "        \"label\": [\"disaster with fire\", 0]\n",
        "    },\n",
        "    \"thunder\": {\n",
        "        \"key_words\" : [\"thunde\", 'light','electro'],\n",
        "        \"label\": [\"disaster with lightning\", 1]\n",
        "    },\n",
        "    \"water\": {\n",
        "        \"key_words\" : ['hail','tsunami','deluge', 'sink','wreck', 'inundat', \"water\", 'flood', 'drown', \"rain\"],\n",
        "        \"label\": [\"disaster with lightning\", 2]\n",
        "    },\n",
        "    \"weapons\": {\n",
        "        \"key_words\" : ['shot', 'derailment','engulf', 'hijack', \"mayhem\", 'shoot','dea', 'died','upheaval', 'detonat', 'massacre','militar', 'annihilat', 'demolish','collide', \"wound\", \"bleed\", 'injur','war','attack','police',\"riot\", 'murder',\"explod\", 'bomb', 'terrori', \"destroy\", \"weapon\", 'rush', 'crash', 'damage', 'smoke', 'truck', 'blood'],\n",
        "        \"label\": [\"disaster with weapons\", 3]\n",
        "    },\n",
        "    \"earth\": {\n",
        "        \"key_words\" : ['landslide', 'collapse',\"earth\", 'earthquake', 'crush', \"mudslide\", \"mud\"],\n",
        "        \"label\": [\"disaster with earth\", 4]\n",
        "    },\n",
        "    \"wind\": {\n",
        "        \"key_words\" : ['air','tornado','cyclone', 'typhoon','twister','blew','hurricane', 'wind', 'storm'],\n",
        "        \"label\": [\"disaster with wind\", 5]\n",
        "    },\n",
        "}\n",
        "\n",
        "def base_label_generator(mapper, x):\n",
        "  words = x.split(\" \")\n",
        "  popular_words = defaultdict(int)\n",
        "\n",
        "  for key, value in mapper.items():\n",
        "    key_words = value[\"key_words\"]\n",
        "    label = value[\"label\"][0]\n",
        "\n",
        "    for word in words:\n",
        "      for key_word in key_words:\n",
        "        if key_word in word:\n",
        "          popular_words[label] += 1\n",
        "\n",
        "  rpta_label = \"Don't defined\"\n",
        "\n",
        "  if(len(popular_words) > 0):\n",
        "    sorted_ranking = sorted(popular_words.items(), key=operator.itemgetter(1), reverse=True)\n",
        "    rpta_label = sorted_ranking[0][0]\n",
        "  return rpta_label\n",
        "\n",
        "\n",
        "label_generator = partial(base_label_generator, mapper)\n",
        "\n",
        "cleaning_disaster_db_df[\"label_generated\"] = cleaning_disaster_db_df[\"cleaning_text_v3\"].apply( lambda x : label_generator(x))\n",
        "cleaning_disaster_db_df[\"label_generated\"].value_counts()"
      ],
      "metadata": {
        "colab": {
          "base_uri": "https://localhost:8080/"
        },
        "id": "maCDH_u4jZ4W",
        "outputId": "2e2479d8-baf9-49d6-d792-a8d0cfd57369"
      },
      "execution_count": 43,
      "outputs": [
        {
          "output_type": "execute_result",
          "data": {
            "text/plain": [
              "Don't defined              3466\n",
              "disaster with weapons      2753\n",
              "disaster with lightning    1269\n",
              "disaster with fire         1238\n",
              "disaster with wind          570\n",
              "disaster with earth         251\n",
              "Name: label_generated, dtype: int64"
            ]
          },
          "metadata": {},
          "execution_count": 43
        }
      ]
    },
    {
      "cell_type": "code",
      "source": [
        "ranking = defaultdict(int)\n",
        "repeation_words = partial(get_repeative_word_in, ranking)\n",
        "unlabel_disaster_db_df = cleaning_disaster_db_df[cleaning_disaster_db_df[\"label_generated\"] == \"Don't defined\"]\n",
        "unlabel_disaster_db_df[\"cleaning_text_v3\"].apply(lambda x : repeation_words(x))\n",
        "sorted_ranking = sorted(ranking.items(), key=operator.itemgetter(1), reverse=True)\n",
        "print(sorted_ranking)"
      ],
      "metadata": {
        "colab": {
          "base_uri": "https://localhost:8080/"
        },
        "id": "jbKJaUddxokP",
        "outputId": "bc6c6560-6bf1-4d02-94a6-4509f1503d3f"
      },
      "execution_count": 44,
      "outputs": [
        {
          "output_type": "stream",
          "name": "stdout",
          "text": [
            "[('user', 1496), ('im', 170), ('like', 147), ('emergency', 135), ('amp', 130), ('dont', 113), ('body', 112), ('get', 104), ('new', 91), ('via', 90), ('one', 90), ('its', 85), ('disaster', 81), ('people', 81), ('first', 77), ('would', 74), ('video', 73), ('nuclear', 71), ('day', 68), ('know', 65), ('us', 65), ('got', 63), ('back', 63), ('go', 59), ('cant', 59), ('love', 58), ('need', 57), ('see', 56), ('going', 56), ('time', 55), ('still', 53), ('good', 52), ('really', 51), ('think', 49), ('life', 49), ('way', 48), ('rt', 47), ('screaming', 47), ('survive', 45), ('screamed', 44), ('curfew', 44), ('trouble', 43), ('news', 42), ('could', 42), ('today', 42), ('ruin', 42), ('man', 42), ('blown', 42), ('natural', 42), ('fall', 42), ('fear', 42), ('last', 42), ('army', 42), ('bags', 41), ('right', 41), ('hostage', 41), ('services', 41), ('meltdown', 41), ('cross', 40), ('traumatised', 40), ('screams', 40), ('panicking', 40), ('oil', 40), ('may', 40), ('bagging', 39), ('never', 39), ('apocalypse', 39), ('obliterate', 39), ('say', 39), ('plan', 38), ('spill', 38), ('survived', 37), ('lol', 37), ('cliff', 37), ('harm', 36), ('god', 36), ('want', 36), ('bag', 35), ('survivors', 35), ('sunk', 35), ('make', 35), ('explosion', 35), ('obliterated', 35), ('great', 35), ('much', 35), ('catastrophe', 35), ('hazard', 34), ('years', 34), ('please', 34), ('evacuation', 34), ('home', 34), ('hazardous', 34), ('responders', 34), ('panic', 34), ('ever', 34), ('accident', 34), ('even', 33), ('best', 33), ('flattened', 33), ('sirens', 33), ('desolation', 33), ('hope', 33), ('show', 32), ('rescued', 32), ('demolition', 32), ('work', 32), ('danger', 32), ('let', 32), ('help', 31), ('read', 31), ('come', 31), ('destruction', 31), ('trauma', 31), ('trapped', 31), ('fatality', 31), ('shoulder', 30), ('getting', 30), ('watch', 30), ('eyewitness', 30), ('obliteration', 30), ('many', 30), ('seismic', 30), ('fan', 30), ('always', 29), ('ive', 29), ('someone', 29), ('full', 29), ('desolate', 29), ('famine', 29), ('fedex', 29), ('year', 29), ('pick', 29), ('stretcher', 28), ('you', 28), ('youre', 28), ('content', 28), ('night', 28), ('two', 28), ('oh', 28), ('casualty', 27), ('fuck', 27), ('avalanche', 27), ('reddit', 27), ('quarantine', 27), ('next', 27), ('chemical', 27), ('longer', 27), ('fatalities', 27), ('reactor', 27), ('it', 26), ('ambulance', 26), ('said', 26), ('live', 26), ('refugees', 26), ('bad', 26), ('failure', 26), ('devastated', 26), ('the', 25), ('casualties', 25), ('hes', 25), ('everyone', 25), ('another', 25), ('feel', 25), ('big', 25), ('every', 25), ('quarantined', 25), ('car', 25), ('armageddon', 25), ('house', 25), ('tragedy', 25), ('rescue', 25), ('something', 24), ('world', 24), ('long', 24), ('thats', 24), ('bioterror', 24), ('food', 24), ('left', 24), ('devastation', 23), ('volcano', 23), ('top', 23), ('put', 23), ('ill', 23), ('battle', 23), ('week', 23), ('evacuate', 23), ('blizzard', 23), ('catastrophic', 23), ('weather', 22), ('part', 22), ('meek', 22), ('take', 22), ('school', 22), ('city', 22), ('gonna', 22), ('also', 22), ('liked', 22), ('yes', 21), ('thanks', 21), ('free', 21), ('little', 21), ('collision', 21), ('since', 21), ('check', 21), ('fucking', 21), ('stay', 21), ('now', 20), ('without', 20), ('away', 20), ('summer', 20), ('up', 20), ('look', 20), ('call', 20), ('lab', 20), ('siren', 20), ('shit', 20), ('case', 20), ('lot', 19), ('song', 19), ('whole', 19), ('derail', 19), ('set', 19), ('ass', 19), ('pandemonium', 19), ('tomorrow', 19), ('offensive', 19), ('story', 19), ('order', 19), ('coming', 19), ('care', 19), ('things', 19), ('thing', 19), ('real', 19), ('transport', 19), ('near', 19), ('end', 19), ('out', 19), ('family', 18), ('wanna', 18), ('stop', 18), ('2015', 18), ('white', 18), ('women', 18), ('loud', 18), ('bigger', 18), ('well', 18), ('times', 18), ('tell', 18), ('possible', 18), ('head', 18), ('past', 17), ('made', 17), ('hit', 17), ('due', 17), ('actually', 17), ('american', 17), ('gets', 17), ('try', 17), ('wake', 17), ('theres', 17), ('rescuers', 17), ('anything', 17), ('structural', 17), ('kill', 17), ('post', 17), ('memories', 17), ('russian', 17), ('rubble', 17), ('displaced', 17), ('literally', 17), ('girl', 17), ('better', 17), ('already', 17), ('hiroshima', 17), ('that', 17), ('movie', 17), ('boat', 16), ('happy', 16), ('me', 16), ('event', 16), ('yet', 16), ('drake', 16), ('must', 16), ('change', 16), ('bang', 16), ('making', 16), ('health', 16), ('california', 16), ('crisis', 16), ('aftershock', 16), ('rd', 16), ('sleeping', 16), ('sure', 16), ('half', 16), ('hey', 16), ('migrants', 16), ('hostages', 16), ('in', 15), ('power', 15), ('island', 15), ('talk', 15), ('anyone', 15), ('research', 15), ('though', 15), ('them', 15), ('19', 15), ('dad', 15), ('bc', 15), ('found', 15), ('done', 15), ('shift', 15), ('face', 15), ('game', 15), ('update', 15), ('amid', 15), ('lets', 15), ('building', 15), ('run', 15), ('didnt', 15), ('projected', 15), ('direction', 15), ('cause', 15), ('baby', 14), ('dog', 14), ('calgary', 14), ('womens', 14), ('kids', 14), ('keep', 14), ('yeah', 14), ('high', 14), ('evacuated', 14), ('ancient', 14), ('music', 14), ('cool', 14), ('wait', 14), ('outrage', 14), ('beautiful', 14), ('traffic', 14), ('south', 14), ('debris', 14), ('theyre', 14), ('pm', 14), ('added', 14), ('anthrax', 14), ('service', 14), ('alabama', 14), ('leather', 13), ('nothing', 13), ('this', 13), ('boy', 13), ('pain', 13), ('trying', 13), ('give', 13), ('use', 13), ('move', 13), ('smaug', 13), ('class', 13), ('everything', 13), ('start', 13), ('else', 13), ('looks', 13), ('cut', 13), ('government', 13), ('missing', 13), ('hollywood', 13), ('woman', 13), ('aug', 13), ('were', 13), ('watching', 13), ('public', 13), ('issues', 13), ('utc20150805', 13), ('history', 13), ('crematoria', 13), ('tv', 13), ('id', 13), ('problem', 13), ('save', 13), ('sign', 13), ('derailed', 13), ('came', 13), ('state', 13), ('mishaps', 13), ('ball', 13), ('refugio', 13), ('costlier', 13), ('center', 13), ('released', 13), ('haha', 13), ('ladies', 12), ('heard', 12), ('lives', 12), ('children', 12), ('group', 12), ('far', 12), ('king', 12), ('thought', 12), ('used', 12), ('soon', 12), ('wow', 12), ('guys', 12), ('taken', 12), ('hear', 12), ('days', 12), ('money', 12), ('seen', 12), ('sleep', 12), ('phone', 12), ('hell', 12), ('st', 12), ('rn', 12), ('book', 12), ('more', 12), ('time20150806', 12), ('pathogens', 12), ('provoke', 12), ('die', 12), ('fukushima', 12), ('seeing', 12), ('remember', 12), ('safety', 12), ('probably', 12), ('favorite', 12), ('might', 12), ('find', 12), ('self', 12), ('room', 12), ('country', 12), ('mom', 12), ('break', 12), ('thank', 12), ('leave', 12), ('sorry', 12), ('pretty', 12), ('black', 12), ('okay', 12), ('germs', 12), ('official', 12), ('playlist', 12), ('tote', 11), ('makes', 11), ('plans', 11), ('name', 11), ('gave', 11), ('went', 11), ('hasnt', 11), ('young', 11), ('fight', 11), ('hours', 11), ('fun', 11), ('heart', 11), ('child', 11), ('doesnt', 11), ('whats', 11), ('wrong', 11), ('latest', 11), ('least', 11), ('bring', 11), ('tweet', 11), ('view', 11), ('threatens', 11), ('red', 11), ('boys', 11), ('outlook', 11), ('trust', 11), ('team', 11), ('took', 11), ('finally', 11), ('crazy', 11), ('disco', 11), ('potential', 11), ('isnt', 11), ('worst', 11), ('population', 11), ('report', 11), ('exploration', 11), ('ebola', 11), ('30', 11), ('road', 10), ('together', 10), ('info', 10), ('august', 10), ('absolutely', 10), ('handbags', 10), ('held', 10), ('share', 10), ('nigerian', 10), ('12', 10), ('download', 10), ('threat', 10), ('needs', 10), ('office', 10), ('play', 10), ('trfc', 10), ('west', 10), ('place', 10), ('old', 10), ('human', 10), ('2014', 10), ('reports', 10), ('future', 10), ('gas', 10), ('line', 10), ('listen', 10), ('prepare', 10), ('turn', 10), ('hwo', 10), ('coast', 10), ('policy', 10), ('goes', 10), ('lost', 10), ('youtube', 10), ('around', 10), ('thinking', 10), ('miss', 10), ('second', 10), ('level', 10), ('town', 10), ('reason', 10), ('behind', 10), ('ebay', 10), ('follow', 10), ('100', 10), ('maybe', 10), ('omg', 10), ('officials', 10), ('north', 10), ('tonight', 10), ('aint', 10), ('there', 10), ('miners', 10), ('chile', 10), ('faux', 9), ('purse', 9), ('driving', 9), ('security', 9), ('yo', 9), ('gold', 9), ('what', 9), ('person', 9), ('looking', 9), ('havent', 9), ('sometimes', 9), ('hold', 9), ('vs', 9), ('12000', 9), ('cameroon', 9), ('ahead', 9), ('hobbit', 9), ('again', 9), ('hospital', 9), ('outside', 9), ('piece', 9), ('sunday', 9), ('feeling', 9), ('radiation', 9), ('biggest', 9), ('national', 9), ('lucky', 9), ('front', 9), ('department', 9), ('says', 9), ('win', 9), ('rate', 9), ('welcome', 9), ('apply', 9), ('hand', 9), ('shes', 9), ('learn', 9), ('season', 9), ('men', 9), ('wont', 9), ('block', 9), ('social', 9), ('10', 9), ('twitter', 9), ('build', 9), ('wedding', 9), ('following', 9), ('mh370', 9), ('couple', 9), ('ok', 9), ('saw', 9), ('comes', 9), ('across', 9), ('program', 9), ('believe', 9), ('sound', 9), ('america', 9), ('sense', 9), ('super', 9), ('fatal', 9), ('20', 9), ('account', 9), ('sad', 9), ('tablet', 9), ('waste', 9), ('med', 9), ('cat', 9), ('louis', 9), ('ppl', 9), ('damn', 9), ('internally', 9), ('hobo', 8), ('70', 8), ('niggas', 8), ('lil', 8), ('youll', 8), ('support', 8), ('alone', 8), ('company', 8), ('rock', 8), ('repatriated', 8), ('small', 8), ('court', 8), ('birthday', 8), ('islamic', 8), ('horrible', 8), ('concert', 8), ('become', 8), ('if', 8), ('nice', 8), ('opening', 8), ('nurse', 8), ('short', 8), ('obama', 8), ('homes', 8), ('hawaii', 8), ('16', 8), ('newest', 8), ('lake', 8), ('feed', 8), ('loved', 8), ('ones', 8), ('syrian', 8), ('british', 8), ('control', 8), ('three', 8), ('living', 8), ('japan', 8), ('cover', 8), ('instead', 8), ('later', 8), ('fact', 8), ('epicentre', 8), ('daily', 8), ('experience', 8), ('insurance', 8), ('number', 8), ('climate', 8), ('washington', 8), ('global', 8), ('girls', 8), ('mind', 8), ('saying', 8), ('cancer', 8), ('shall', 8), ('course', 8), ('picture', 8), ('poor', 8), ('test', 8), ('petition', 8), ('hard', 8), ('media', 8), ('search', 8), ('different', 8), ('shut', 8), ('mod', 8), ('vehicle', 8), ('plains', 8), ('gtgt', 8), ('true', 8), ('months', 8), ('album', 8), ('recognize', 8), ('takes', 8), ('no', 8), ('job', 8), ('fast', 8), ('de', 8), ('mortal', 8), ('kombat', 8), ('less', 8), ('dogs', 8), ('either', 8), ('land', 8), ('stuff', 8), ('street', 7), ('for', 7), ('lord', 7), ('guess', 7), ('trump', 7), ('satchel', 7), ('saturday', 7), ('among', 7), ('hate', 7), ('youve', 7), ('million', 7), ('friday', 7), ('ur', 7), ('final', 7), ('blue', 7), ('quick', 7), ('cost', 7), ('canaanites', 7), ('vote', 7), ('wants', 7), ('pray', 7), ('hearing', 7), ('wanted', 7), ('happening', 7), ('angry', 7), ('inj', 7), ('here', 7), ('david', 7), ('croatian', 7), ('date', 7), ('5km', 7), ('todays', 7), ('usa', 7), ('navy', 7), ('sidelines', 7), ('govt', 7), ('united', 7), ('friend', 7), ('lady', 7), ('tram', 7), ('effect', 7), ('tips', 7), ('wasnt', 7), ('built', 7), ('amazing', 7), ('mill', 7), ('re', 7), ('vine', 7), ('eye', 7), ('municipal', 7), ('series', 7), ('tired', 7), ('australia', 7), ('business', 7), ('somebody', 7), ('community', 7), ('based', 7), ('shipping', 7), ('teen', 7), ('11', 7), ('recovery', 7), ('wonder', 7), ('colorado', 7), ('means', 7), ('rise', 7), ('online', 7), ('minecraft', 7), ('double', 7), ('mayan', 7), ('bus', 7), ('lane', 7), ('side', 7), ('carrying', 7), ('600', 7), ('on', 7), ('thousands', 7), ('pipeline', 7), ('ready', 7), ('inside', 7), ('helps', 7), ('meeting', 7), ('using', 7), ('zombie', 7), ('pres', 7), ('honestly', 7), ('channel', 7), ('arent', 7), ('supposed', 7), ('moved', 7), ('interesting', 7), ('market', 7), ('certain', 7), ('boss', 7), ('intensity', 7), ('fears', 7), ('beat', 7), ('month', 7), ('understand', 7), ('huge', 7), ('funny', 7), ('former', 7), ('awesome', 7), ('point', 7), ('minute', 7), ('iran', 7), ('bruh', 7), ('join', 6), ('sick', 6), ('to', 6), ('guy', 6), ('zouma', 6), ('grow', 6), ('mood', 6), ('leader', 6), ('beyond', 6), ('and', 6), ('almost', 6), ('started', 6), ('ways', 6), ('protect', 6), ('lunch', 6), ('wtf', 6), ('digital', 6), ('scene', 6), ('50', 6), ('jobs', 6), ('player', 6), ('worry', 6), ('middle', 6), ('completely', 6), ('accounts', 6), ('tho', 6), ('21', 6), ('society', 6), ('extremely', 6), ('states', 6), ('strike', 6), ('door', 6), ('stream', 6), ('friends', 6), ('happened', 6), ('space', 6), ('major', 6), ('happens', 6), ('agree', 6), ('estimate', 6), ('4000', 6), ('worth', 6), ('weve', 6), ('enough', 6), ('is', 6), ('manager', 6), ('talking', 6), ('ago', 6), ('sweet', 6), ('happen', 6), ('pass', 6), ('caused', 6), ('film', 6), ('ca', 6), ('release', 6), ('48', 6), ('razed', 6), ('killed', 6), ('situation', 6), ('updates', 6), ('drunk', 6), ('shows', 6), ('bet', 6), ('broke', 6), ('version', 6), ('problems', 6), ('reunion', 6), ('weekend', 6), ('forever', 6), ('ship', 6), ('members', 6), ('animal', 6), ('watched', 6), ('eyes', 6), ('mini', 6), ('beach', 6), ('total', 6), ('yesterday', 6), ('safe', 6), ('em', 6), ('soul', 6), ('voice', 6), ('pool', 6), ('return', 6), ('throwing', 6), ('industry', 6), ('was', 6), ('message', 6), ('finnish', 6), ('brought', 6), ('rights', 6), ('art', 6), ('easy', 6), ('expected', 6), ('response', 6), ('question', 6), ('students', 6), ('wish', 6), ('fans', 6), ('rather', 6), ('lmao', 6), ('camp', 6), ('15', 6), ('jesus', 6), ('risk', 6), ('adult', 6), ('character', 6), ('five', 6), ('hundreds', 6), ('of', 6), ('isis', 6), ('close', 6), ('stage', 6), ('patient', 6), ('river', 6), ('stand', 6), ('john', 6), ('alive', 6), ('olap', 6), ('forget', 6), ('nearly', 6), ('plant', 6), ('travel', 6), ('guide', 6), ('mad', 6), ('legacy', 6), ('learning', 6), ('eruption', 6), ('stops', 6), ('foxtrot', 6), ('imagine', 6), ('unless', 6), ('sub', 6), ('closed', 6), ('send', 6), ('1st', 6), ('drink', 6), ('moments', 6), ('drawn', 6), ('games', 6), ('football', 6), ('cute', 6), ('property', 6), ('afghanistan', 6), ('according', 6), ('min', 5), ('deck', 5), ('freedom', 5), ('needed', 5), ('nigga', 5), ('rules', 5), ('working', 5), ('becomes', 5), ('chain', 5), ('green', 5), ('youth', 5), ('ask', 5), ('af', 5), ('buy', 5), ('israel', 5), ('party', 5), ('seems', 5), ('am', 5), ('internet', 5), ('ya', 5), ('yall', 5), ('holding', 5), ('groups', 5), ('metal', 5), ('single', 5), ('roads', 5), ('secret', 5), ('911', 5), ('suffering', 5), ('nagasaki', 5), ('updated', 5), ('posts', 5), ('hosting', 5), ('di', 5), ('morning', 5), ('nobody', 5), ('documents', 5), ('dream', 5), ('bout', 5), ('kinda', 5), ('bitch', 5), ('tree', 5), ('couldnt', 5), ('evil', 5), ('profit', 5), ('indeed', 5), ('rule', 5), ('england', 5), ('special', 5), ('fat', 5), ('hurt', 5), ('sex', 5), ('gt', 5), ('click', 5), ('registered', 5), ('attention', 5), ('companies', 5), ('walk', 5), ('jackson', 5), ('planned', 5), ('link', 5), ('decided', 5), ('meet', 5), ('wall', 5), ('camera', 5), ('spider', 5), ('usgs', 5), ('010401', 5), ('150401', 5), ('1000', 5), ('anchorage', 5), ('communities', 5), ('advisory', 5), ('main', 5), ('roosevelt', 5), ('co', 5), ('leading', 5), ('library', 5), ('design', 5), ('newlyweds', 5), ('tube', 5), ('asking', 5), ('ran', 5), ('powerlines', 5), ('plane', 5), ('reddits', 5), ('banned', 5), ('gtgtgt', 5), ('60', 5), ('prevent', 5), ('anti', 5), ('rear', 5), ('large', 5), ('dude', 5), ('sale', 5), ('everywhere', 5), ('entire', 5), ('episode', 5), ('called', 5), ('address', 5), ('heres', 5), ('christians', 5), ('victory', 5), ('article', 5), ('present', 5), ('exp', 5), ('nc', 5), ('off', 5), ('planning', 5), ('ice', 5), ('concerned', 5), ('stories', 5), ('assembly', 5), ('eden', 5), ('by', 5), ('area', 5), ('down', 5), ('china', 5), ('sea', 5), ('moment', 5), ('zone', 5), ('not', 5), ('mark', 5), ('pic', 5), ('medical', 5), ('continue', 5), ('extreme', 5), ('asked', 5), ('doctor', 5), ('kid', 5), ('wild', 5), ('kit', 5), ('too', 5), ('cannot', 5), ('complete', 5), ('anger', 5), ('worse', 5), ('pop', 5), ('career', 5), ('1980', 5), ('record', 5), ('information', 5), ('press', 5), ('sun', 5), ('specimens', 5), ('begins', 5), ('respond', 5), ('mp', 5), ('horror', 5), ('starts', 5), ('searching', 5), ('hits', 5), ('cnn', 5), ('la', 5), ('2011', 5), ('box', 5), ('answer', 5), ('providence', 5), ('ak', 5), ('project', 5), ('pls', 5), ('page', 5), ('estimated', 5), ('40', 5), ('centre', 5), ('peace', 5), ('videos', 5), ('drive', 5), ('taking', 5), ('university', 5), ('thursday', 5), ('mins', 5), ('japanese', 5), ('played', 5), ('falling', 5), ('gabon', 5), ('somalia', 5), ('totally', 5), ('25', 5), ('we', 5), ('western', 5), ('energy', 5), ('text', 5), ('coffee', 5), ('waiting', 5), ('grows', 5), ('wednesday', 5), ('sit', 5), ('helping', 5), ('mine', 5), ('memorial', 5), ('responds', 5), ('hiring', 5), ('lose', 5), ('chance', 5), ('movies', 5), ('05', 5), ('mile', 5), ('able', 5), ('bit', 5), ('markets', 5), ('depth', 5), ('33', 5), ('interested', 5), ('review', 5), ('haunting', 5), ('units', 5), ('willing', 5), ('al', 5), ('books', 5), ('detectado', 5), ('jst', 5), ('stadium', 5), ('confirmed', 5), ('bitches', 5), ('beyonce', 5), ('michael', 5), ('ha', 5), ('clothes', 4), ('sister', 4), ('speaker', 4), ('drinking', 4), ('within', 4), ('stacey', 4), ('action', 4), ('sports', 4), ('vintage', 4), ('messenger', 4), ('capsized', 4), ('libya', 4), ('wonderful', 4), ('knew', 4), ('ruined', 4), ('fate', 4), ('uk', 4), ('son', 4), ('father', 4), ('parents', 4), ('her', 4), ('derby', 4), ('putting', 4), ('wouldve', 4), ('consider', 4), ('wondering', 4), ('pattern', 4), ('clutch', 4), ('handbag', 4), ('coach', 4), ('dan', 4), ('wired', 4), ('ceo', 4), ('sp', 4), ('deep', 4), ('stopped', 4), ('staff', 4), ('cream', 4), ('charlie', 4), ('shadow', 4), ('plays', 4), ('recent', 4), ('06', 4), ('americas', 4), ('americans', 4), ('mass', 4), ('lots', 4), ('leaving', 4), ('late', 4), ('loose', 4), ('fly', 4), ('killer', 4), ('role', 4), ('fantasy', 4), ('married', 4), ('collisionno', 4), ('con', 4), ('anymore', 4), ('eh', 4), ('evening', 4), ('laughing', 4), ('bees', 4), ('pressure', 4), ('prepared', 4), ('parenthood', 4), ('act', 4), ('button', 4), ('theyd', 4), ('dust', 4), ('ave', 4), ('round', 4), ('glad', 4), ('fully', 4), ('fail', 4), ('eq', 4), ('breaking', 4), ('ugly', 4), ('subs', 4), ('baseball', 4), ('lifted', 4), ('workers', 4), ('accidentally', 4), ('committee', 4), ('egypt', 4), ('affiliate', 4), ('ultimate', 4), ('study', 4), ('disasters', 4), ('turkish', 4), ('faith', 4), ('absolute', 4), ('mental', 4), ('etc', 4), ('blvd', 4), ('sac', 4), ('spend', 4), ('feeding', 4), ('subreddits', 4), ('trap', 4), ('dangerous', 4), ('kick', 4), ('malaysia', 4), ('tweets', 4), ('legs', 4), ('serious', 4), ('increased', 4), ('weird', 4), ('judge', 4), ('fit', 4), ('commercial', 4), ('activated', 4), ('county', 4), ('seriously', 4), ('turned', 4), ('given', 4), ('toilet', 4), ('arsenal', 4), ('ban', 4), ('broken', 4), ('desire', 4), ('definitely', 4), ('silent', 4), ('mkx', 4), ('economic', 4), ('early', 4), ('surprise', 4), ('straight', 4), ('general', 4), ('at', 4), ('sent', 4), ('none', 4), ('sending', 4), ('dvd', 4), ('joe', 4), ('17', 4), ('calls', 4), ('felt', 4), ('losing', 4), ('movement', 4), ('sf', 4), ('york', 4), ('upon', 4), ('treat', 4), ('open', 4), ('cuz', 4), ('route', 4), ('affects', 4), ('especially', 4), ('plants', 4), ('success', 4), ('lone', 4), ('unknown', 4), ('vid', 4), ('issue', 4), ('words', 4), ('causes', 4), ('falcon', 4), ('southern', 4), ('joel', 4), ('east', 4), ('feet', 4), ('idk', 4), ('realized', 4), ('joy', 4), ('loss', 4), ('goo', 4), ('migrant', 4), ('arrive', 4), ('vegas', 4), ('enjoy', 4), ('toxic', 4), ('angel', 4), ('mountain', 4), ('shark', 4), ('steel', 4), ('shame', 4), ('shelter', 4), ('simple', 4), ('calling', 4), ('22', 4), ('legal', 4), ('salem', 4), ('electrical', 4), ('pump', 4), ('bob', 4), ('wither', 4), ('mo', 4), ('pay', 4), ('changes', 4), ('hieroglyphics', 4), ('honors', 4), ('lowly', 4), ('write', 4), ('robert', 4), ('perfect', 4), ('recover', 4), ('involving', 4), ('releases', 4), ('related', 4), ('1945', 4), ('teams', 4), ('discovered', 4), ('purple', 4), ('all', 4), ('supervisor', 4), ('richard', 4), ('jack', 4), ('twice', 4), ('row', 4), ('employees', 4), ('wood', 4), ('actual', 4), ('18', 4), ('cable', 4), ('fav', 4), ('articles', 4), ('buried', 4), ('gone', 4), ('coal', 4), ('he', 4), ('expect', 4), ('scared', 4), ('blonde', 4), ('exactly', 4), ('29', 4), ('kings', 4), ('abomination', 4), ('civilian', 4), ('deliver', 4), ('playing', 4), ('generation', 4), ('throw', 4), ('carry', 4), ('technology', 4), ('facebook', 4), ('canada', 4), ('running', 4), ('word', 4), ('downtown', 4), ('blog', 4), ('productive', 4), ('your', 4), ('nepal', 4), ('squad', 4), ('35', 4), ('spring', 4), ('dumb', 4), ('weight', 4), ('reach', 4), ('quite', 4), ('musician', 4), ('kalle', 4), ('mattson', 4), ('classic', 4), ('calm', 4), ('ashes', 4), ('gotta', 4), ('mens', 4), ('missed', 4), ('shell', 4), ('radio', 4), ('spot', 4), ('dk', 4), ('karymsky', 4), ('vuitton', 4), ('causing', 4), ('writing', 4), ('london', 4), ('crews', 4), ('jeff', 4), ('considering', 4), ('effects', 4), ('jacksonville', 4), ('bands', 4), ('awful', 4), ('style', 4), ('interview', 4), ('indian', 4), ('important', 4), ('wit', 4), ('wouldnt', 4), ('eb', 4), ('but', 4), ('gods', 4), ('2013', 4), ('hilarious', 4), ('captain', 4), ('followers', 4), ('channels', 4), ('told', 4), ('recalls', 4), ('village', 4), ('be', 4), ('sounds', 4), ('shouldnt', 4), ('simulate', 4), ('nu', 4), ('easily', 4), ('add', 4), ('bed', 4), ('region', 4), ('common', 4), ('mean', 4), ('ross', 4), ('10km', 4), ('maximum', 4), ('crackdown', 4), ('fort', 4), ('brown', 4), ('c130', 4), ('specially', 4), ('modified', 4), ('blind', 4), ('defense', 4), ('materials', 4), ('surprised', 4), ('103', 4), ('are', 4), ('bottom', 4), ('nah', 4), ('seconds', 4), ('temporary300', 4), ('flags', 4), ('xp', 4), ('recall', 3), ('points', 3), ('seat', 3), ('architect', 3), ('wicked', 3), ('grass', 3), ('moves', 3), ('dental', 3), ('appointment', 3), ('variety', 3), ('pack', 3), ('pieces', 3), ('queen', 3), ('da', 3), ('britney', 3), ('spears', 3), ('telling', 3), ('notice', 3), ('tryna', 3), ('ben', 3), ('ring', 3), ('2k15', 3), ('mode', 3), ('lonely', 3), ('minds', 3), ('tonights', 3), ('powerful', 3), ('thoughts', 3), ('language', 3), ('won', 3), ('tough', 3), ('giving', 3), ('advice', 3), ('02', 3), ('rose', 3), ('stylish', 3), ('printed', 3), ('shoulders', 3), ('type', 3), ('woke', 3), ('hughes', 3), ('respect', 3), ('steve', 3), ('africa', 3), ('ride', 3), ('trash', 3), ('critical', 3), ('treating', 3), ('cheese', 3), ('results', 3), ('gon', 3), ('maria', 3), ('whos', 3), ('tomislav', 3), ('salopek', 3), ('24', 3), ('09', 3), ('trip', 3), ('debt', 3), ('benefits', 3), ('bodys', 3), ('piling', 3), ('terrible', 3), ('fist', 3), ('catch', 3), ('becoming', 3), ('secrets', 3), ('i405', 3), ('collisionunkn', 3), ('outdoor', 3), ('july', 3), ('tix', 3), ('psychiatric', 3), ('90', 3), ('fte', 3), ('wa', 3), ('trees', 3), ('corp', 3), ('survival', 3), ('server', 3), ('spanish', 3), ('drug', 3), ('sarah', 3), ('speaking', 3), ('80s', 3), ('details', 3), ('league', 3), ('netflix', 3), ('noise', 3), ('moving', 3), ('bid', 3), ('begin', 3), ('15km', 3), ('alaska', 3), ('001116', 3), ('161116', 3), ('palms', 3), ('refuses', 3), ('promises', 3), ('map', 3), ('owners', 3), ('bend', 3), ('afternoon', 3), ('senate', 3), ('access', 3), ('careful', 3), ('proceeds', 3), ('turning', 3), ('houses', 3), ('with', 3), ('humanity', 3), ('bush', 3), ('truly', 3), ('chaos', 3), ('tests', 3), ('bee', 3), ('mi', 3), ('enroute', 3), ('rest', 3), ('announcement', 3), ('drinks', 3), ('entertainment', 3), ('cargo', 3), ('supply', 3), ('result', 3), ('sin', 3), ('system', 3), ('four', 3), ('scary', 3), ('several', 3), ('jam', 3), ('unavoidable', 3), ('consequence', 3), ('socialism', 3), ('triedhttptcobbdpnj8xsx', 3), ('racist', 3), ('list', 3), ('club', 3), ('3rd', 3), ('budget', 3), ('joining', 3), ('reality', 3), ('steal', 3), ('mall', 3), ('heroes', 3), ('annual', 3), ('zero', 3), ('amazon', 3), ('prime', 3), ('student', 3), ('loans', 3), ('ends', 3), ('steps', 3), ('over', 3), ('cdc', 3), ('dick', 3), ('bear', 3), ('quest', 3), ('tickets', 3), ('anxiety', 3), ('reveals', 3), ('messages', 3), ('communication', 3), ('hip', 3), ('hop', 3), ('shepherd', 3), ('previously', 3), ('nation', 3), ('church', 3), ('favourite', 3), ('tuned', 3), ('schedule', 3), ('brothers', 3), ('bay', 3), ('clear', 3), ('dq', 3), ('cotton', 3), ('candy', 3), ('grab', 3), ('returned', 3), ('republic', 3), ('usually', 3), ('cook', 3), ('paper', 3), ('jeans', 3), ('pocket', 3), ('leads', 3), ('bankstown', 3), ('wattle', 3), ('reaching', 3), ('strikes', 3), ('facilities', 3), ('lack', 3), ('rates', 3), ('patrick', 3), ('remain', 3), ('vets', 3), ('troops', 3), ('violence', 3), ('approach', 3), ('race', 3), ('controlled', 3), ('steam', 3), ('status', 3), ('stats', 3), ('collision1141', 3), ('enrt', 3), ('bodies', 3), ('tune', 3), ('someones', 3), ('snap', 3), ('alcohol', 3), ('soccer', 3), ('jennifer', 3), ('aniston', 3), ('aid', 3), ('uniform', 3), ('harry', 3), ('profile', 3), ('housing', 3), ('citizens', 3), ('sitting', 3), ('ops', 3), ('revolution', 3), ('spirit', 3), ('needle', 3), ('cried', 3), ('sharp', 3), ('sport', 3), ('force', 3), ('asian', 3), ('seven', 3), ('tracks', 3), ('september', 3), ('boxer', 3), ('campus', 3), ('void', 3), ('mother', 3), ('languages', 3), ('sources', 3), ('sewing', 3), ('fam', 3), ('salvation', 3), ('circuit', 3), ('financial', 3), ('undercover', 3), ('md', 3), ('authorities', 3), ('reuters', 3), ('elite', 3), ('dark', 3), ('showcase', 3), ('halfway', 3), ('terror', 3), ('declined', 3), ('garden', 3), ('author', 3), ('russia', 3), ('strong', 3), ('sw', 3), ('dr', 3), ('er', 3), ('rly', 3), ('aka', 3), ('bat', 3), ('pics', 3), ('mediterranean', 3), ('sicily', 3), ('reported', 3), ('fortune', 3), ('remembering', 3), ('workplace', 3), ('data', 3), ('saved', 3), ('charity', 3), ('sends', 3), ('vietnam', 3), ('rare', 3), ('upset', 3), ('operation', 3), ('quality', 3), ('positive', 3), ('vet', 3), ('thurs', 3), ('86', 3), ('choking', 3), ('feast', 3), ('highway', 3), ('nose', 3), ('stuck', 3), ('object', 3), ('responsibility', 3), ('horses', 3), ('kind', 3), ('pissed', 3), ('low', 3), ('emotional', 3), ('triple', 3), ('cry', 3), ('bears', 3), ('per', 3), ('passing', 3), ('google', 3), ('1620', 3), ('journal', 3), ('ep', 3), ('blocked', 3), ('bar', 3), ('acoustic', 3), ('2pm', 3), ('chelsea', 3), ('tax', 3), ('2d', 3), ('3d', 3), ('weeks', 3), ('currently', 3), ('delays', 3), ('pits', 3), ('blocking', 3), ('omfg', 3), ('along', 3), ('prices', 3), ('feels', 3), ('letting', 3), ('players', 3), ('shock', 3), ('exchange', 3), ('fox', 3), ('african', 3), ('mhtw4fnetofficials', 3), ('root', 3), ('2016', 3), ('respected', 3), ('grand', 3), ('fuel', 3), ('levels', 3), ('site', 3), ('checked', 3), ('eat', 3), ('responsible', 3), ('knows', 3), ('cold', 3), ('stupid', 3), ('hating', 3), ('who', 3), ('targets', 3), ('boom', 3), ('capsizes', 3), ('dinner', 3), ('size', 3), ('counselor', 3), ('intern', 3), ('congress', 3), ('malaysian', 3), ('nyt', 3), ('imagined', 3), ('kidding', 3), ('walked', 3), ('usual', 3), ('goal', 3), ('appreciate', 3), ('recreates', 3), ('34', 3), ('covers', 3), ('clever', 3), ('anxious', 3), ('afghan', 3), ('27', 3), ('rapidly', 3), ('central', 3), ('discusses', 3), ('acquisition', 3), ('color', 3), ('meg', 3), ('nicki', 3), ('impact', 3), ('law', 3), ('anybody', 3), ('accused', 3), ('magnitude', 3), ('tremor', 3), ('14', 3), ('monogram', 3), ('cancel', 3), ('lizard', 3), ('him', 3), ('giants', 3), ('avoid', 3), ('match', 3), ('fights', 3), ('keeps', 3), ('buildings', 3), ('driver', 3), ('camping', 3), ('tears', 3), ('empire', 3), ('jax', 3), ('toddler', 3), ('mt', 3), ('cast', 3), ('met', 3), ('violent', 3), ('burger', 3), ('latin', 3), ('bless', 3), ('investigators', 3), ('inst', 3), ('apch', 3), ('rwy', 3), ('oper', 3), ('2030', 3), ('taxiways', 3), ('navbl', 3), ('tmp', 3), ('wnd', 3), ('fabric', 3), ('concern', 3), ('forth', 3), ('relief', 3), ('si', 3), ('lmfao', 3), ('bro', 3), ('reading', 3), ('ocean', 3), ('lions', 3), ('pitch', 3), ('inning', 3), ('tries', 3), ('immediately', 3), ('acting', 3), ('i77', 3), ('31', 3), ('properly', 3), ('excuse', 3), ('typos', 3), ('singing', 3), ('suffer', 3), ('dying', 3), ('diss', 3), ('struggle', 3), ('germany', 3), ('smile', 3), ('ground', 3), ('hour', 3), ('abc', 3), ('hi', 3), ('dc', 3), ('bride', 3), ('battlefield', 3), ('soldier', 3), ('worried', 3), ('alright', 3), ('bedroom', 3), ('afraid', 3), ('regular', 3), ('forgot', 3), ('lip', 3), ('ruins', 3), ('shirt', 3), ('cultural', 3), ('affected', 3), ('artists', 3), ('stealing', 3), ('frozen', 3), ('brazil', 3), ('shares', 3), ('hello', 3), ('recommend', 3), ('ima', 3), ('treatment', 3), ('harper', 3), ('ems', 3), ('metro', 3), ('grew', 3), ('45', 3), ('edmonton', 3), ('saint', 3), ('holland', 3), ('www', 3), ('financing', 3), ('transporting', 3), ('cops', 3), ('excited', 3), ('except', 3), ('somehow', 3), ('utterly', 3), ('tragic', 3), ('appears', 3), ('teacher', 3), ('ny', 3), ('minimum', 3), ('mirage', 3), ('mix', 3), ('meals', 3), ('101', 3), ('draw', 3), ('okinawa', 3), ('26', 3), ('science', 3), ('camouflage', 3), ('craving', 3), ('hands', 3), ('hwy', 3), ('bound', 3), ('glorious', 3), ('chill', 3), ('cape', 3), ('fighting', 3), ('fix', 3), ('price', 3), ('lead', 3), ('emergencies', 3), ('executives', 3), ('prosecuted', 3), ('apparently', 3), ('accuses', 3), ('planet', 3), ('temple', 3), ('babies', 3), ('nb', 3), ('23', 3), ('moon', 3), ('most', 3), ('why', 3), ('form', 3), ('ps', 3), ('externally', 3), ('efforts', 3), ('including', 3), ('charged', 3), ('fallacy', 3), ('6th', 3), ('meanwhile', 3), ('sadly', 3), ('occasion', 3), ('express', 3), ('significant', 3), ('letters', 3), ('en', 2), ('horrors', 2), ('nightmare', 2), ('elm', 2), ('remade', 2), ('parties', 2), ('freshman', 2), ('ja', 2), ('lt', 2), ('candidate', 2), ('forreal', 2), ('incase', 2), ('neck', 2), ('areas', 2), ('encounters', 2), ('attending', 2), ('idol', 2), ('reaction', 2), ('difference', 2), ('donate', 2), ('gmmbc', 2), ('inspiring', 2), ('taste', 2), ('intentions', 2), ('shitty', 2), ('fruit', 2), ('spit', 2), ('deserve', 2), ('she', 2), ('escape', 2), ('harms', 2), ('believing', 2), ('wide', 2), ('expo', 2), ('when', 2), ('bars', 2), ('rapper', 2), ('yesterdays', 2), ('dropping', 2), ('157', 2), ('lamb', 2), ('hd', 2), ('boyfriend', 2), ('yay', 2), ('clip', 2), ('wwe', 2), ('dudes', 2), ('looked', 2), ('criminal', 2), ('fucked', 2), ('explains', 2), ('debate', 2), ('campaign', 2), ('wpri', 2), ('parts', 2), ('celebrities', 2), ('code', 2), ('barely', 2), ('rat', 2), ('smash', 2), ('handle', 2), ('solid', 2), ('multi', 2), ('colour', 2), ('geometric', 2), ('totes', 2), ('flower', 2), ('pink', 2), ('zippers', 2), ('buckle', 2), ('casual', 2), ('pockets', 2), ('springs', 2), ('girlfriend', 2), ('lay', 2), ('wnba', 2), ('stars', 2), ('danielle', 2), ('worn', 2), ('cofounder', 2), ('huffman', 2), ('unveiled', 2), ('cup', 2), ('rolling', 2), ('sing', 2), ('werent', 2), ('miles', 2), ('tyler', 2), ('politicians', 2), ('hempoil', 2), ('downfall', 2), ('quiz', 2), ('hahahah', 2), ('costs', 2), ('fixed', 2), ('whoever', 2), ('tuesday', 2), ('huh', 2), ('procedures', 2), ('lmfaoooo', 2), ('pertains', 2), ('impressive', 2), ('whenever', 2), ('balance', 2), ('ear', 2), ('ltlt', 2), ('corner', 2), ('gf', 2), ('realize', 2), ('figure', 2), ('gulf', 2), ('cheap', 2), ('edge', 2), ('emails', 2), ('ticket', 2), ('swing', 2), ('scenes', 2), ('bridge', 2), ('hole', 2), ('saturn', 2), ('decision', 2), ('diverse', 2), ('heroine', 2), ('wins', 2), ('card', 2), ('te', 2), ('dating', 2), ('piggy', 2), ('sexual', 2), ('kerry', 2), ('hat', 2), ('feat', 2), ('incredible', 2), ('wftv', 2), ('arrested', 2), ('florida', 2), ('porn', 2), ('charges', 2), ('valley', 2), ('us101', 2), ('exist', 2), ('starting', 2), ('fingers', 2), ('crossed', 2), ('aba', 2), ('delivers', 2), ('branch', 2), ('tx', 2), ('peds', 2), ('fellowship', 2), ('innocent', 2), ('offer', 2), ('trials', 2), ('obsessed', 2), ('mandatory', 2), ('caught', 2), ('beginning', 2), ('casino', 2), ('clearly', 2), ('bp', 2), ('local', 2), ('nyc', 2), ('walking', 2), ('michigan', 2), ('5th', 2), ('female', 2), ('facing', 2), ('christian', 2), ('swiss', 2), ('mop', 2), ('aunt', 2), ('m194', 2), ('utc', 2), ('time20150805', 2), ('faced', 2), ('sanctions', 2), ('uribe', 2), ('centers', 2), ('issued', 2), ('fd', 2), ('prompted', 2), ('legislation', 2), ('administration', 2), ('partner', 2), ('fill', 2), ('consequences', 2), ('pathogen', 2), ('disconnected', 2), ('stands', 2), ('kyle', 2), ('universal', 2), ('uber', 2), ('unreal', 2), ('twill', 2), ('denim', 2), ('jackets', 2), ('items', 2), ('sins', 2), ('tumblr', 2), ('collective', 2), ('third', 2), ('fu', 2), ('dopey', 2), ('125', 2), ('utter', 2), ('mania', 2), ('tried', 2), ('orange', 2), ('anywhere', 2), ('disappearance', 2), ('shoe', 2), ('nike', 2), ('florin', 2), ('franklin', 2), ('elkhorn', 2), ('walerga', 2), ('av', 2), ('bbc', 2), ('wolf', 2), ('tookem', 2), ('reputation', 2), ('install', 2), ('systems', 2), ('tomorrows', 2), ('ryan', 2), ('vods', 2), ('avoided', 2), ('enjoyed', 2), ('atlantic', 2), ('any1', 2), ('slide', 2), ('closing', 2), ('ouvindo', 2), ('gymnastics', 2), ('shower', 2), ('wider', 2), ('basement', 2), ('leaks', 2), ('create', 2), ('random', 2), ('cracking', 2), ('rail', 2), ('throat', 2), ('realised', 2), ('salt', 2), ('techesback', 2), ('podcast', 2), ('comment', 2), ('dart', 2), ('nova', 2), ('carefully', 2), ('setlist', 2), ('apartments', 2), ('machine', 2), ('gift', 2), ('ridiculous', 2), ('incredibly', 2), ('conversations', 2), ('sweaty', 2), ('roll', 2), ('drove', 2), ('rolo', 2), ('floor', 2), ('cop', 2), ('poured', 2), ('birth', 2), ('rising', 2), ('syndrome', 2), ('abortions', 2), ('rip', 2), ('brave', 2), ('hearts', 2), ('diving', 2), ('cries', 2), ('origin', 2), ('meme', 2), ('preservation', 2), ('opened', 2), ('museum', 2), ('brother', 2), ('mail', 2), ('similar', 2), ('worked', 2), ('bass', 2), ('niall', 2), ('maintain', 2), ('facts', 2), ('knowing', 2), ('logic', 2), ('argument', 2), ('jerseys', 2), ('rover', 2), ('opposite', 2), ('personally', 2), ('mets', 2), ('driverless', 2), ('designed', 2), ('mixtape', 2), ('promise', 2), ('legendary', 2), ('producer', 2), ('dannic', 2), ('misses', 2), ('horrific', 2), ('atm', 2), ('moore', 2), ('newbie', 2), ('playoffs', 2), ('chonce', 2), ('fifth', 2), ('period', 2), ('teaching', 2), ('reinstate', 2), ('buffer', 2), ('efak', 2), ('sites', 2), ('connection', 2), ('devil', 2), ('films', 2), ('courts', 2), ('lower', 2), ('1998', 2), ('civil', 2), ('gum', 2), ('edm', 2), ('theyll', 2), ('worlds', 2), ('kanye', 2), ('wests', 2), ('adventures', 2), ('website', 2), ('error', 2), ('drop', 2), ('feature', 2), ('twins', 2), ('abandon', 2), ('eggs', 2), ('kicked', 2), ('dante', 2), ('johnny', 2), ('saving', 2), ('react', 2), ('preparedness', 2), ('election', 2), ('shanghai', 2), ('ghetto', 2), ('reunite', 2), ('supermarket', 2), ('recording', 2), ('rises', 2), ('billion', 2), ('claims', 2), ('aim', 2), ('peaceful', 2), ('permanent', 2), ('courage', 2), ('counts', 2), ('ptsd', 2), ('poverty', 2), ('pine', 2), ('gallipoli', 2), ('scientists', 2), ('will', 2), ('mics', 2), ('rejects', 2), ('satan', 2), ('plenty', 2), ('lines', 2), ('passenger', 2), ('sticks', 2), ('pipe', 2), ('idc', 2), ('buying', 2), ('accidents', 2), ('i5', 2), ('premature', 2), ('james', 2), ('blows', 2), ('theory', 2), ('scars', 2), ('monkey', 2), ('inner', 2), ('cope', 2), ('individual', 2), ('sr37', 2), ('5sos', 2), ('swimming', 2), ('leaked', 2), ('thomas', 2), ('brady', 2), ('ifak', 2), ('proud', 2), ('wear', 2), ('dj', 2), ('anyway', 2), ('tc', 2), ('worker', 2), ('postcards', 2), ('polaroids', 2), ('iris', 2), ('dolls', 2), ('skynews', 2), ('italy', 2), ('skinny', 2), ('shocking', 2), ('concluded', 2), ('leagues', 2), ('president', 2), ('opens', 2), ('readingapocalypse', 2), ('211023', 2), ('enormous', 2), ('haram', 2), ('nope', 2), ('background', 2), ('stainless', 2), ('quartz', 2), ('credit', 2), ('bans', 2), ('detained', 2), ('widespread', 2), ('fund', 2), ('lt3', 2), ('senators', 2), ('determine', 2), ('concerns', 2), ('settlement', 2), ('christ', 2), ('triggered', 2), ('foot', 2), ('neither', 2), ('tour', 2), ('fir', 2), ('cannon', 2), ('listed', 2), ('creating', 2), ('len', 2), ('knockout', 2), ('regulatory', 2), ('commission', 2), ('ignorant', 2), ('passed', 2), ('declaring', 2), ('savings', 2), ('guatemala', 2), ('san', 2), ('todd', 2), ('rally', 2), ('pro', 2), ('brass', 2), ('biker', 2), ('rocks', 2), ('nuclearbiologicalchemical', 2), ('nbc', 2), ('brigade', 2), ('exercise', 2), ('soviet', 2), ('yahoo', 2), ('humans', 2), ('gmt', 2), ('popularmmos', 2), ('vi', 2), ('alex', 2), ('taxi', 2), ('coyotes', 2), ('lizards', 2), ('korea', 2), ('exclusive', 2), ('palestinian', 2), ('elephant', 2), ('census', 2), ('39', 2), ('documenting', 2), ('till', 2), ('87', 2), ('sb', 2), ('mechanical', 2), ('imported', 2), ('bacup', 2), ('smells', 2), ('original', 2), ('roger', 2), ('mistake', 2), ('reviews', 2), ('conquest', 2), ('log', 2), ('statements', 2), ('confederate', 2), ('se', 2), ('moreland', 2), ('recount', 2), ('i15', 2), ('sr91', 2), ('fi', 2), ('collection', 2), ('environmental', 2), ('herald', 2), ('37yearold', 2), ('vulcan', 2), ('cats', 2), ('republican', 2), ('motor', 2), ('tested', 2), ('kitchen', 2), ('assistance', 2), ('gain', 2), ('remembrance', 2), ('remembered', 2), ('remaining', 2), ('europe', 2), ('launch', 2), ('xbox', 2), ('recap', 2), ('continues', 2), ('ral', 2), ('condolence', 2), ('behalf', 2), ('an', 2), ('insight', 2), ('quoted', 2), ('43', 2), ('metrics', 2), ('penalties', 2), ('pcps', 2), ('primary', 2), ('physicians', 2), ('generally', 2), ('quake', 2), ('finds', 2), ('researchers', 2), ('ww1', 2), ('redeemeth', 2), ('servants', 2), ('kodiak', 2), ('propertycasualty', 2), ('marshall', 2), ('tells', 2), ('passengers', 2), ('diet', 2), ('potus', 2), ('member', 2), ('que', 2), ('prefer', 2), ('abuse', 2), ('arizona', 2), ('residents', 2), ('park', 2), ('larger', 2), ('spilled', 2), ('crude', 2), ('laughs', 2), ('permits', 2), ('hunting', 2), ('conclusively', 2), ('wing', 2), ('george', 2), ('patrol', 2), ('paul', 2), ('upper', 2), ('longterm', 2), ('surgery', 2), ('pending', 2), ('lanes', 2), ('parental', 2), ('coral', 2), ('offspring', 2), ('resources', 2), ('negative', 2), ('cd', 2), ('poll', 2), ('mistakes', 2), ('armed', 2), ('forces', 2), ('nurses', 2), ('pediatric', 2), ('deeds', 2), ('forgive', 2), ('bump', 2), ('painting', 2), ('congrats', 2), ('winner', 2), ('noble', 2), ('shoreline', 2), ('mfs', 2), ('matter', 2), ('hurts', 2), ('crack', 2), ('vessels', 2), ('57', 2), ('panel', 2), ('applications', 2), ('sneak', 2), ('christie', 2), ('hillside', 2), ('crew', 2), ('pkwy', 2), ('council', 2), ('dose', 2), ('limit', 2), ('omgggg', 2), ('nixon', 2), ('drag', 2), ('dignity', 2), ('bloomberg', 2), ('grade', 2), ('waffle', 2), ('circa', 2), ('bringing', 2), ('scream', 2), ('counter', 2), ('chris', 2), ('cain', 2), ('emmerdale', 2), ('tied', 2), ('367', 2), ('500', 2), ('thousand', 2), ('dress', 2), ('broad', 2), ('screen', 2), ('drum', 2), ('stick', 2), ('kodak', 2), ('graph', 2), ('incapable', 2), ('keeping', 2), ('specialist', 2), ('crap', 2), ('shore', 2), ('transit', 2), ('nhs', 2), ('announces', 2), ('features', 2), ('seek', 2), ('banquet', 2), ('newborn', 2), ('speed', 2), ('fashion', 2), ('print', 2), ('sales', 2), ('emergencyresponse', 2), ('servers', 2), ('lies', 2), ('rappers', 2), ('briefing', 2), ('shaped', 2), ('sis', 2), ('wo', 2), ('filled', 2), ('niece', 2), ('mic', 2), ('terrifying', 2), ('grandma', 2), ('attempt', 2), ('speak', 2), ('fuckin', 2), ('disgusting', 2), ('field', 2), ('romance', 2), ('rumor', 2), ('myself', 2), ('effort', 2), ('injustice', 2), ('peeps', 2), ('outbreak', 2), ('mumbai', 2), ('ttes', 2), ('charge', 2), ('helpline', 2), ('relatives', 2), ('picked', 2), ('battery', 2), ('sort', 2), ('pops', 2), ('worries', 2), ('meat', 2), ('excellent', 2), ('therapy', 2), ('moderate', 2), ('ml', 2), ('turkey', 2), ('step', 2), ('microsofts', 2), ('micom', 2), ('contrast', 2), ('mentions', 2), ('waist', 2), ('packs', 2), ('letter', 2), ('tshirt', 2), ('aggressively', 2), ('mega', 2), ('keen', 2), ('ovo', 2), ('fest', 2), ('begging', 2), ('minaj', 2), ('bother', 2), ('texting', 2), ('dragon', 2), ('gives', 2), ('pussy', 2), ('named', 2), ('solar', 2), ('marked', 2), ('thick', 2), ('hears', 2), ('ghostwriter', 2), ('seem', 2), ('confirms', 2), ('complex', 2), ('swayback', 2), ('ridge', 2), ('diaporama', 2), ('sixpenceee', 2), ('crater', 2), ('located', 2), ('volcanoinrussia', 2), ('epicenter', 2), ('0800', 2), ('4km', 2), ('interlaken', 2), ('005225', 2), ('175225', 2), ('0700', 2), ('13', 2), ('northern', 2), ('015025', 2), ('attitude', 2), ('chicago', 2), ('limited', 2), ('edition', 2), ('growing', 2), ('coursing', 2), ('weyreygidi', 2), ('sexy', 2), ('homeowners', 2), ('evidence', 2), ('potentially', 2), ('biolab', 2), ('select', 2), ('agent', 2), ('lately', 2), ('2010', 2), ('nan', 2), ('sixth', 2), ('putin', 2), ('ronaldo', 2), ('2nd', 2), ('brian', 2), ('shape', 2), ('extender', 2), ('normal', 2), ('artist', 2), ('pays', 2), ('lawsuit', 2), ('hackers', 2), ('goals', 2), ('japans', 2), ('ongoing', 2), ('magic', 2), ('colder', 2), ('faster', 2), ('crying', 2), ('stressed', 2), ('wanting', 2), ('nothin', 2), ('muslim', 2), ('conspiracy', 2), ('contact', 2), ('disease', 2), ('solve', 2), ('dolphin', 2), ('resulted', 2), ('actor', 2), ('firms', 2), ('subject', 2), ('eu', 2), ('ferguson', 2), ('denied', 2), ('ink', 2), ('veld', 2), ('cld', 2), ('0306', 2), ('dial', 2), ('wrist', 2), ('nylon', 2), ('rea', 2), ('clueless', 2), ('cars', 2), ('develop', 2), ('hungry', 2), ('other', 2), ('bago', 2), ('sail', 2), ('ari', 2), ('kurt', 2), ('placing', 2), ('images', 2), ('mate', 2), ('regret', 2), ('matthew', 2), ('bored', 2), ('busy', 2), ('smh', 2), ('locke', 2), ('count', 2), ('metlife', 2), ('wage', 2), ('structure', 2), ('do', 2), ('ah', 2), ('daughter', 2), ('choice', 2), ('ugh', 2), ('idgaf', 2), ('marker', 2), ('mooresville', 2), ('iredell', 2), ('118', 2), ('slower', 2), ('spent', 2), ('loads', 2), ('experienced', 2), ('meaning', 2), ('spell', 2), ('bodybagging', 2), ('truth', 2), ('threw', 2), ('computer', 2), ('others', 2), ('acted', 2), ('shop', 2), ('itll', 2), ('characters', 2), ('score', 2), ('afford', 2), ('las', 2), ('bloke', 2), ('store', 2), ('songs', 2), ('slip', 2), ('rated', 2), ('combined', 2), ('shops', 2), ('fruits', 2), ('dat', 2), ('joke', 2), ('slow', 2), ('sx', 2), ('109', 2), ('sws', 2), ('alpha', 2), ('pc', 2), ('exit', 2), ('ps4', 2), ('futuristic', 2), ('makeup', 2), ('tutorial', 2), ('ft', 2), ('dukes', 2), ('donnie', 2), ('shook', 2), ('breathing', 2), ('listening', 2), ('instagram', 2), ('comments', 2), ('chocolate', 2), ('enter', 2), ('heal', 2), ('realistic', 2), ('doubt', 2), ('statement', 2), ('midnight', 2), ('appropriation', 2), ('chat', 2), ('snow', 2), ('audio', 2), ('gta', 2), ('maps', 2), ('education', 2), ('anthony', 2), ('kimery', 2), ('rogan', 2), ('questions', 2), ('reminder', 2), ('testimonials', 2), ('mute', 2), ('option', 2), ('floated', 2), ('studio', 2), ('labs', 2), ('luck', 2), ('homeless', 2), ('strangers', 2), ('builds', 2), ('holmgren', 2), ('lous', 2), ('describing', 2), ('santiago', 2), ('ap', 2), ('hmm', 2), ('paint', 2), ('pedestrian', 2), ('toss', 2), ('lifetime', 2), ('management', 2), ('bitchy', 2), ('perla', 2), ('robbed', 2), ('understanding', 2), ('options', 2), ('albertans', 2), ('genuine', 2), ('soft', 2), ('buffalo', 2), ('tiny', 2), ('ankle', 2), ('guns', 2), ('mutant', 2), ('cunts', 2), ('alert', 2), ('flow', 2), ('tooth', 2), ('incident', 2), ('construction', 2), ('individuals', 2), ('150', 2), ('locksmith', 2), ('extensive', 2), ('internal', 2), ('equal', 2), ('capacity', 2), ('gates', 2), ('opinion', 2), ('gaelite', 2), ('greg', 2), ('balls', 2), ('morgan', 2), ('orchard', 2), ('iconic', 2), ('thyroid', 2), ('vegetable', 2), ('have', 2), ('archive', 2), ('existence', 2), ('37', 2), ('blame', 2), ('leg', 2), ('lie', 2), ('10th', 2), ('heroin', 2), ('alarm', 2), ('factor', 2), ('impacted', 2), ('overtime', 2), ('extra', 2), ('striker', 2), ('riding', 2), ('78', 2), ('secured', 2), ('ministers', 2), ('fennovoima', 2), ('sumo', 2), ('nyse', 2), ('fdx', 2), ('packages', 2), ('chronicle', 2), ('carr', 2), ('factory', 2), ('agency', 2), ('posted', 2), ('attraction', 2), ('fake', 2), ('factors', 2), ('everyones', 2), ('european', 2), ('esteemed', 2), ('journalist', 2), ('unaddressed', 2), ('mount', 2), ('buddy', 2), ('enugu', 2), ('conference', 2), ('ended', 2), ('hunt', 2), ('suppose', 2), ('network', 2), ('hammondville', 2), ('plumbing', 2), ('medicine', 2), ('element', 2), ('ee', 2), ('aguero', 2), ('dysfunctional', 2), ('example', 2), ('costly', 2), ('messy', 2), ('i580', 2), ('drums', 2), ('dumped', 2), ('tank', 2), ('cyclists', 2), ('selection', 2), ('consistently', 2), ('kept', 2), ('flat', 2), ('does', 2), ('operations', 2), ('favor', 2), ('dlh', 2), ('auctions', 2), ('chapter', 2), ('board', 2), ('m38', 2), ('miyagi', 2), ('fortunately', 2), ('mutual', 2), ('however', 2), ('track', 2), ('2007', 2), ('maketh', 2), ('union', 2), ('bought', 2), ('dis', 2), ('crossbody', 2), ('restricted', 2), ('multiplayer', 2), ('earlier', 2), ('celebrations', 2), ('prompts', 2), ('chest', 2), ('el', 2), ('johns', 2), ('ham', 2), ('novel', 2), ('ag', 2), ('hung', 2), ('coastal', 2), ('investors', 2), ('cleared', 2), ('approaching', 2), ('removed', 2), ('activates', 2), ('nature', 2), ('http', 2), ('chernobyl', 2), ('evolve', 2), ('focus', 2), ('2009', 2), ('un', 2), ('abbott', 2), ('streets', 2), ('canberras', 2), ('mr', 2), ('byproduct', 2), ('higher', 2), ('lion', 2), ('fucks', 2), ('kingdom', 2), ('custom', 2), ('brunette', 2), ('teases', 2), ('beauty', 2), ('minutes', 2), ('otherwise', 2), ('bo3', 2), ('traditional', 2), ('hack', 2), ('hanging', 2), ('interest', 2), ('whale', 2), ('i95', 2), ('548', 2), ('mchenry', 2), ('tunnel', 2), ('bore', 2), ('accustomed', 2), ('03', 2), ('olympic', 2), ('differently', 2), ('veterans', 2), ('associated', 2), ('talent', 2), ('age', 2), ('thugs', 2), ('ww2', 2), ('pointless', 2), ('stephen', 2), ('mac', 2), ('openly', 2), ('nema', 2), ('meant', 2), ('idps', 2), ('proof', 2), ('officers', 2), ('orders', 2), ('yr', 2), ('trunk', 2), ('zabadani', 2), ('starving', 2), ('roller', 2), ('matt', 2), ('kills', 2), ('conflict', 2), ('sees', 2), ('dies', 2), ('unique', 2), ('dates', 2), ('babes', 2), ('actress', 2), ('a1', 2), ('adults', 2), ('boonew', 2), ('rocket', 2), ('occurs', 2), ('millions', 2), ('preorder', 2), ('wrote', 2), ('horse', 2), ('asf', 2), ('luhan', 2), ('circle', 2), ('dm', 2), ('loves', 2), ('ketep', 2), ('paid', 2), ('activity', 2), ('innit', 2), ('smoking', 2), ('places', 2), ('somewhere', 2), ('allies', 2), ('non', 2), ('overturn', 2), ('constitution', 2), ('drill', 2), ('wout', 2), ('thirst', 2), ('basically', 2), ('parked', 2), ('walls', 2), ('scuf', 2), ('pets', 2), ('animals', 2), ('managed', 2), ('illegals', 2), ('panda', 2), ('reasons', 2), ('rid', 2), ('sir', 2), ('homie', 2), ('wife', 2), ('mommy', 2), ('cliffs', 2), ('smooth', 2), ('hashtag', 2), ('federal', 2), ('politics', 2), ('lemme', 2), ('kindly', 2), ('cue', 2), ('minor', 2), ('sake', 2), ('pretend', 2), ('youd', 2), ('flashbacks', 2), ('patience', 2), ('sounding', 2), ('hide', 2), ('wud', 2), ('hahaha', 2), ('forced', 2), ('frog', 2), ('fine', 2), ('esh', 2), ('chief', 2), ('fees', 2), ('parking', 2), ('displeased', 2), ('bargain', 2), ('tea', 2), ('democracy', 2), ('maintenance', 2), ('decide', 2), ('stages', 2), ('alternate', 2), ('webinar', 2), ('pulled', 2), ('removal', 2), ('ir', 2), ('impossible', 2), ('trade', 2), ('kindness', 2), ('began', 2), ('referring', 2), ('whether', 2), ('bottle', 2), ('raynor', 2), ('hero', 2), ('businesses', 2), ('refuse', 2), ('charles', 2), ('uses', 2), ('1500', 2), ('fury', 2), ('xvii', 2), ('los', 2), ('angeles', 2), ('mgm', 2), ('11yearold', 2), ('manslaughter', 2), ('km', 2), ('maintaining', 2), ('et', 2), ('spade', 2), ('prod', 2), ('eudrylantiqua', 2), ('holly', 2), ('teambrianmundial', 2), ('memory', 2), ('arms', 2), ('divided', 2), ('bumper', 2), ('conditions', 2), ('deemed', 1), ('faceless', 1), ('belonged', 1), ('paved', 1), ('hypocrisy', 1), ('declares', 1), ('prosper', 1), ('midst', 1), ('ymcglaun', 1), ('safer', 1), ('wayyeah', 1), ('stable', 1), ('macdaddyleo', 1), ('caption', 1), ('liquidslap', 1), ('possibly', 1), ('leoblakecarter', 1), ('thinks', 1), ('dylanmcclure55', 1), ('zumiez', 1), ('location', 1), ('beachboyirh', 1), ('gma', 1), ('ooorrrr', 1), ('fandom', 1), ('basedgeorgie', 1), ('donald', 1), ('presidentwhipe', 1), ('keits', 1), ('understandone', 1), ('echoes', 1), ('rolls', 1), ('surrounding', 1), ('princes', 1), ('dampd', 1), ('baekhyun', 1), ('suho', 1), ('championship', 1), ('10thcr', 1), ('syjexo', 1), ('breh', 1), ('zicac', 1), ('briefcase', 1), ('zeal', 1), ('peak', 1), ('indecisiveness', 1), ('yup', 1), ('determines', 1), ('donation', 1), ('dancer', 1), ('300', 1), ('attendance', 1), ('neediness', 1), ('ulcerated', 1), ('waggon', 1), ('cornwall', 1), ('bnvfdag', 1), ('pleased', 1), ('radical', 1), ('relationship', 1), ('istg', 1), ('chips', 1), ('snacks', 1), ('redbull', 1), ('snack', 1), ('lifesaving', 1), ('haiti', 1), ('mtvsummerstar', 1), ('lana', 1), ('del', 1), ('rey', 1), ('certainly', 1), ('astroturfers', 1), ('crumbling', 1), ('homealone2', 1), ('definition', 1), ('smiling', 1), ('bullets', 1), ('awake', 1), ('invited', 1), ('14th', 1), ('2015where', 1), ('keith', 1), ('brits', 1), ('censor', 1), ('yessum', 1), ('sdotjr', 1), ('introdesolation', 1), ('ye', 1), ('sbujdjsjs', 1), ('xuskak', 1), ('kisses', 1), ('4kus', 1), ('battle15moferadio', 1), ('httpstco7spydy1csc', 1), ('universe', 1), ('149', 1), ('mycareer', 1), ('ep18', 1), ('tyrone', 1), ('wut', 1), ('ditched', 1), ('hungrier', 1), ('biological', 1), ('adoptive', 1), ('wsjthinktank', 1), ('colleenmnelson', 1), ('rhode', 1), ('modernize', 1), ('voting', 1), ('equipment', 1), ('wowo', 1), ('carthage', 1), ('auto', 1), ('celebrity', 1), ('uv', 1), ('gin', 1), ('mbiwa', 1), ('midget', 1), ('tgirl', 1), ('gap', 1), ('numbers', 1), ('shorts', 1), ('pearls', 1), ('hanbags', 1), ('golden', 1), ('lattice', 1), ('studded', 1), ('gasparc', 1), ('messengers', 1), ('designer', 1), ('qualit', 1), ('vulnerable', 1), ('herself', 1), ('wolforth', 1), ('twoout', 1), ('fourth', 1), ('altamonte', 1), ('robinson', 1), ('espn', 1), ('witnessed', 1), ('psa', 1), ('excitement', 1), ('disregard', 1), ('benghazi', 1), ('opponents', 1), ('rousey', 1), ('jocelyn', 1), ('shin', 1), ('noodle', 1), ('pin', 1), ('hahahaha', 1), ('lolol', 1), ('helicopter', 1), ('transfer', 1), ('29800', 1), ('reminding', 1), ('dans', 1), ('collab', 1), ('complained', 1), ('measly', 1), ('3million', 1), ('troubleniallhariss', 1), ('bunker', 1), ('cheney', 1), ('catered', 1), ('ktchn', 1), ('silas', 1), ('sliced', 1), ('headlinelike', 1), ('chopped', 1), ('cabbage', 1), ('sour', 1), ('brick', 1), ('freezerdummy', 1), ('lim', 1), ('9pm', 1), ('leh', 1), ('worrying', 1), ('censors', 1), ('supressed', 1), ('wholesale', 1), ('rep', 1), ('slew', 1), ('compared', 1), ('faded', 1), ('kagawa', 1), ('januzaj', 1), ('whoa', 1), ('legend', 1), ('holdin', 1), ('9am', 1), ('bruv', 1), ('yosemite', 1), ('sam', 1), ('drumpf', 1), ('rabbit', 1), ('skin', 1), ('ahuh', 1), ('these', 1), ('rap', 1), ('supposedly', 1), ('representing', 1), ('values', 1), ('cgi', 1), ('duh', 1), ('whimsy', 1), ('whereas', 1), ('jez', 1), ('simply', 1), ('printing', 1), ('genius', 1), ('obstacles', 1), ('specialists', 1), ('sami', 1), ('struggling', 1), ('bark', 1), ('unlocking', 1), ('dials', 1), ('jaileens', 1), ('caked', 1), ('anytime', 1), ('mugged', 1), ('excuses', 1), ('ethiopian', 1), ('caaaaaall', 1), ('finish', 1), ('fish', 1), ('eaten', 1), ('poisoned', 1), ('plug', 1), ('chuck', 1), ('norris', 1), ('plugged', 1), ('itwith', 1), ('abounds', 1), ('destructiondefundpp', 1), ('pushes', 1), ('happen1', 1), ('fall2', 1), ('teach', 1), ('exhibitor', 1), ('value', 1), ('helicopters', 1), ('teens', 1), ('peoplecommunication', 1), ('iron', 1), ('trent', 1), ('trailer', 1), ('ripped', 1), ('penalty', 1), ('usg', 1), ('paeds', 1), ('imaging', 1), ('tool', 1), ('5000', 1), ('ranked', 1), ('learned', 1), ('kermit', 1), ('defines', 1), ('perpetrators', 1), ('716', 1), ('goooooooaaaaaal', 1), ('tn', 1), ('psychologist', 1), ('fbi', 1), ('stole', 1), ('honduran', 1), ('minors', 1), ('westminister', 1), ('sr22', 1), ('knott', 1), ('postering', 1), ('applaud', 1), ('terrific', 1), ('celtic', 1), ('aberdeen', 1), ('wed', 1), ('avalon', 1), ('bdays', 1), ('txt', 1), ('818', 1), ('4478427', 1), ('toronto', 1), ('surety', 1), ('underwritersenior', 1), ('underwriter', 1), ('product', 1), ('iiemergency', 1), ('servicesft7p7a', 1), ('junk', 1), ('mans', 1), ('cabling', 1), ('bracing', 1), ('9058778591', 1), ('yours', 1), ('paying', 1), ('stronger', 1), ('term', 1), ('hid', 1), ('atom', 1), ('shown', 1), ('preserved', 1), ('breaches', 1), ('coverage', 1), ('overrun', 1), ('sunflower', 1), ('heavy', 1), ('catching', 1), ('cameos', 1), ('colbert', 1), ('royale', 1), ('sucking', 1), ('palin', 1), ('targeting', 1), ('minority', 1), ('bb4sp', 1), ('wendell', 1), ('berry', 1), ('mexicoits', 1), ('nathaniel', 1), ('rateliff', 1), ('sweats', 1), ('washi', 1), ('elevator', 1), ('noses', 1), ('everytime', 1), ('pressed', 1), ('grown', 1), ('swedish', 1), ('earn', 1), ('60mph', 1), ('waige', 1), ('badass', 1), ('bids', 1), ('80ft', 1), ('shaldonread', 1), ('5oilworker', 1), ('prisoners', 1), ('persecution', 1), ('pastors', 1), ('silenced', 1), ('mb', 1), ('holds', 1), ('iraqi', 1), ('asylum', 1), ('victorinox', 1), ('rubber', 1), ('241487', 1), ('deserved', 1), ('soz', 1), ('vassalboro', 1), ('gazebo', 1), ('various', 1), ('vanessas', 1), ('officially', 1), ('gentlementhe', 1), ('vanderbilt', 1), ('vamos', 1), ('newells', 1), ('vacation', 1), ('bare', 1), ('8615', 1), ('10401', 1), ('080', 1), ('23km', 1), ('twentynine', 1), ('235409', 1), ('8km', 1), ('ssw', 1), ('anza', 1), ('012624', 1), ('182624', 1), ('070', 1), ('usatoday', 1), ('foxnew', 1), ('spillevacuationsred', 1), ('upgrade', 1), ('infrastructure', 1), ('quickly', 1), ('hightech', 1), ('defensenewscomus', 1), ('subsd', 1), ('1000s', 1), ('yemen', 1), ('yellow', 1), ('evac', 1), ('gnwt', 1), ('voluntary', 1), ('cabin', 1), ('pickerel', 1), ('reid', 1), ('canoe', 1), ('fastest', 1), ('evaucation', 1), ('roofing', 1), ('halfhr', 1), ('gopcontrolled', 1), ('approved', 1), ('4is', 1), ('48hours', 1), ('1russian', 1), ('recal', 1), ('untangle', 1), ('requiring', 1), ('unsurprisingstill', 1), ('dismaying', 1), ('securing', 1), ('unpredictable', 1), ('favorites', 1), ('unlike', 1), ('donaldson', 1), ('dive', 1), ('parker', 1), ('cufi', 1), ('jews', 1), ('convert', 1), ('unexercised', 1), ('honda', 1), ('rundown', 1), ('neighborhood', 1), ('psqd', 1), ('ov', 1), ('reduces', 1), ('independent', 1), ('chills', 1), ('tampa', 1), ('coloradogambling', 1), ('lego', 1), ('bricks', 1), ('belongs', 1), ('httptcodh0s4buuk7', 1), ('espn2', 1), ('swept', 1), ('clouds', 1), ('isaiah', 1), ('4422', 1), ('contemporary', 1), ('english', 1), ('gesture', 1), ('bolts', 1), ('8415', 1), ('tsa', 1), ('eating', 1), ('lowcarb', 1), ('treats', 1), ('meal', 1), ('truthfrequencyradio', 1), ('255', 1), ('unprecedented', 1), ('frenzy', 1), ('disorder', 1), ('astounding', 1), ('fog', 1), ('wee', 1), ('eshop', 1), ('abcs', 1), ('parent', 1), ('015', 1), ('1346', 1), ('pace', 1), ('travellers', 1), ('surfers', 1), ('sacramento', 1), ('cabrillo', 1), ('hwymagellan', 1), ('mir', 1), ('080615', 1), ('110358', 1), ('darkness', 1), ('redeem', 1), ('serene', 1), ('amends', 1), ('mama', 1), ('dressed', 1), ('afycso', 1), ('survivedjoin', 1), ('dualcom', 1), ('easter', 1), ('richmond', 1), ('corii', 1), ('spoil', 1), ('581941', 1), ('1941', 1), ('kumasian', 1), ('torpedoedsunk', 1), ('panicked', 1), ('frp', 1), ('tunas', 1), ('kijangbank', 1), ('negara', 1), ('20150814', 1), ('spoiler', 1), ('awn', 1), ('tltltltltlttlt', 1), ('wololo', 1), ('joints', 1), ('eliminate', 1), ('privatisation', 1), ('thu', 1), ('012032', 1), ('gmt0000', 1), ('utcmillcityio', 1), ('episodes', 1), ('nigh', 1), ('beached', 1), ('whales', 1), ('standard', 1), ('inferior', 1), ('standardanonymous', 1), ('thorcon', 1), ('thorium', 1), ('molten', 1), ('thisisfaz', 1), ('replied', 1), ('participating', 1), ('intensive', 1), ('technical', 1), ('westmeath', 1), ('trend', 1), ('metrotown', 1), ('resulting', 1), ('poorly', 1), ('maintained', 1), ('captured', 1), ('looney', 1), ('tunesblake', 1), ('griffin', 1), ('justmarried', 1), ('fed', 1), ('unbelievably', 1), ('insaneman', 1), ('relaxing', 1), ('riser', 1), ('dierks', 1), ('bentley', 1), ('interestingwhy', 1), ('necessary', 1), ('ashton', 1), ('generationrock', 1), ('evacuationas', 1), ('seehey', 1), ('tbr', 1), ('browsing', 1), ('gr', 1), ('homepage', 1), ('planthe', 1), ('vault', 1), ('palm', 1), ('screening', 1), ('desperation', 1), ('dislocationseparation', 1), ('condemnationrevelation', 1), ('temptationisolation', 1), ('desolationlet', 1), ('davies', 1), ('fm', 1), ('beautifully', 1), ('rapturous', 1), ('facade', 1), ('deplorable', 1), ('demo', 1), ('kenosha', 1), ('quell', 1), ('introvert', 1), ('tokyo', 1), ('150squarefoot', 1), ('tozlet', 1), ('butt', 1), ('leprosy', 1), ('fullblown', 1), ('jerkface', 1), ('lateral', 1), ('lisp', 1), ('rickets', 1), ('fission', 1), ('raunchy', 1), ('phenomenally', 1), ('assume', 1), ('raised', 1), ('beings', 1), ('alley', 1), ('theocracy', 1), ('bonded', 1), ('animations', 1), ('herei', 1), ('hunterston', 1), ('process', 1), ('blowing', 1), ('smithereens', 1), ('workspace', 1), ('forsee', 1), ('3match', 1), ('costa', 1), ('greater', 1), ('comfortable', 1), ('olivers', 1), ('dipping', 1), ('biterelated', 1), ('1979', 1), ('tear', 1), ('plotted', 1), ('truthsof', 1), ('cervix', 1), ('odell', 1), ('stylist', 1), ('whod', 1), ('monsterhttpstcon3i79qlbss', 1), ('2065', 1), ('memes', 1), ('origins', 1), ('xrays', 1), ('x37bs', 1), ('revealed', 1), ('boeing', 1), ('66m', 1), ('contract', 1), ('nikki', 1), ('2000s', 1), ('mortgage', 1), ('buffetts', 1), ('sectors', 1), ('wm', 1), ('lewis', 1), ('holistic', 1), ('humane', 1), ('easier', 1), ('timehttptcohgb1mc3irk', 1), ('dubloadz', 1), ('droppd', 1), ('meelllttting', 1), ('focuses', 1), ('difficult', 1), ('touches', 1), ('schematization', 1), ('dependable', 1), ('virtue', 1), ('obliterationxmwte', 1), ('satisfaction', 1), ('reasoned', 1), ('planetx', 1), ('jaysen', 1), ('rand', 1), ('wormwood', 1), ('ignore', 1), ('pastor', 1), ('accidentwho', 1), ('owner', 1), ('range', 1), ('whyhttptcor5bxzzhxkm', 1), ('flesh', 1), ('2gether', 1), ('transformed', 1), ('thriving', 1), ('hub', 1), ('hitech', 1), ('ol', 1), ('carshttptcozeartxboft', 1), ('denying', 1), ('polar', 1), ('chp', 1), ('titled', 1), ('emmeryn', 1), ('x2', 1), ('quests', 1), ('400', 1), ('raleigh', 1), ('albums', 1), ('goin', 1), ('method', 1), ('lite', 1), ('cure', 1), ('lind', 1), ('reply', 1), ('dutch', 1), ('denver', 1), ('progessive', 1), ('evacuations', 1), ('khq', 1), ('tfl', 1), ('downtime', 1), ('subliminal', 1), ('therefore', 1), ('insides', 1), ('boxget', 1), ('customized', 1), ('wantdcubecrafts', 1), ('1974', 1), ('bilingual', 1), ('2disc', 1), ('copy', 1), ('thranduil', 1), ('scale', 1), ('mirkwood', 1), ('gusto', 1), ('persist', 1), ('amongst', 1), ('emptypated', 1), ('hpssjd', 1), ('cryibg', 1), ('pioneer', 1), ('paleface', 1), ('drifting', 1), ('raft', 1), ('container', 1), ('predynastic', 1), ('lonelyness', 1), ('strange', 1), ('depressing', 1), ('knowledge', 1), ('foolish', 1), ('wisdom', 1), ('amsal', 1), ('beheadings', 1), ('leaves', 1), ('poplar', 1), ('ordained', 1), ('tumbling', 1), ('spurgeon', 1), ('broader', 1), ('conservation', 1), ('devise', 1), ('occupants', 1), ('hockey', 1), ('dones', 1), ('grief', 1), ('bordering', 1), ('packard', 1), ('wears', 1), ('prada', 1), ('mirad', 1), ('ep03', 1), ('finalise', 1), ('prestige', 1), ('prosser', 1), ('served', 1), ('has', 1), ('wexler', 1), ('sanford', 1), ('hardcover', 1), ('chick', 1), ('chews', 1), ('chewing', 1), ('armory', 1), ('chem', 1), ('08072015', 1), ('0730', 1), ('tremont', 1), ('hall', 1), ('charlotte', 1), ('observations', 1), ('managers', 1), ('wearing', 1), ('uniforms', 1), ('implication', 1), ('glove', 1), ('oddball', 1), ('observer', 1), ('mineness', 1), ('quote', 1), ('browsers', 1), ('machines', 1), ('nonexistant', 1), ('46', 1), ('fleeing', 1), ('vietnamese', 1), ('301', 1), ('08062015', 1), ('alabamaquake', 1), ('summary', 1), ('peoples', 1), ('proc', 1), ('philippine', 1), ('triumphant', 1), ('yolk', 1), ('sailors', 1), ('uhc', 1), ('creeper', 1), ('flying', 1), ('salty', 1), ('dryer', 1), ('snowy', 1), ('daaamn', 1), ('benson', 1), ('clegg', 1), ('roadworks', 1), ('cos', 1), ('disruptive', 1), ('tottenham', 1), ('husband', 1), ('thankful', 1), ('antioch', 1), ('microbes', 1), ('defensehttptcozahnewjri8', 1), ('tension', 1), ('abia', 1), ('inec', 1), ('offices', 1), ('governor', 1), ('ikpeazu', 1), ('pdp', 1), ('apga', 1), ('temptation', 1), ('nations', 1), ('plantations', 1), ('forests', 1), ('notto', 1), ('adopt', 1), ('waymaybe', 1), ('overlooked', 1), ('somethingfatal', 1), ('mewhyor', 1), ('van', 1), ('nuys', 1), ('530pm', 1), ('techerit', 1), ('sydney', 1), ('syd', 1), ('jeezus', 1), ('issuethis', 1), ('sweater', 1), ('isabel', 1), ('hodgins', 1), ('danny', 1), ('miller', 1), ('laura', 1), ('norton', 1), ('charnock', 1), ('remorse', 1), ('ritual', 1), ('navigating', 1), ('survey', 1), ('52', 1), ('surveillance', 1), ('captures', 1), ('removing', 1), ('flag', 1), ('ktla', 1), ('chains', 1), ('asx100', 1), ('freestyle', 1), ('amalie', 1), ('arena', 1), ('sep', 1), ('suncorp', 1), ('net', 1), ('113', 1), ('sunakawa', 1), ('lovely', 1), ('suicide', 1), ('superpower', 1), ('2025', 1), ('buchana', 1), ('suggs', 1), ('vivian', 1), ('suffield', 1), ('alberta', 1), ('activities', 1), ('unite', 1), ('fatalit', 1), ('frustration', 1), ('therapies', 1), ('divorce', 1), ('often', 1), ('schools', 1), ('sutherland', 1), ('australian', 1), ('vampiro', 1), ('strengthening', 1), ('partnerships', 1), ('strawberries', 1), ('solution', 1), ('regulations', 1), ('stood', 1), ('tryin', 1), ('settling', 1), ('stony', 1), ('felons', 1), ('thus', 1), ('covered', 1), ('ipa', 1), ('squeeze', 1), ('radler', 1), ('retrofitting', 1), ('reopen', 1), ('empty', 1), ('7000series', 1), ('stones', 1), ('bonesbut', 1), ('stemming', 1), ('rosters', 1), ('sideline', 1), ('samsmith', 1), ('speeding', 1), ('tee', 1), ('spacex', 1), ('founder', 1), ('musk', 1), ('prepper', 1), ('fictionsharecropping', 1), ('43rd', 1), ('ofr', 1), ('judgement', 1), ('mpc', 1), ('souda', 1), ('sonia', 1), ('kylie', 1), ('ate', 1), ('bruce', 1), ('difficulties', 1), ('osteen', 1), ('celestial', 1), ('separate', 1), ('trajectories', 1), ('intertwine', 1), ('dance', 1), ('frightening', 1), ('lyrics', 1), ('butterfinger', 1), ('obedience', 1), ('sell', 1), ('jesuss', 1), ('reblogged', 1), ('pictured', 1), ('pierce', 1), ('veil', 1), ('beg', 1), ('feelin', 1), ('stretcherbefore', 1), ('exposure', 1), ('47km', 1), ('northwestproof', 1), ('zones', 1), ('leadership', 1), ('bathroom', 1), ('asb', 1), ('resilience', 1), ('factsheet', 1), ('drugs', 1), ('vroman', 1), ('househttptco5oqhq8quqv', 1), ('solano', 1), ('skaggs', 1), ('handcuffed', 1), ('hookup', 1), ('showers', 1), ('marriedfoxysiren', 1), ('thirsty', 1), ('dehydration', 1), ('savages', 1), ('gangstermail', 1), ('samsung', 1), ('mobile', 1), ('victim', 1), ('ahamedis', 1), ('messiah', 1), ('dajaal', 1), ('gog', 1), ('magog', 1), ('privileged', 1), ('thruuu', 1), ('gards', 1), ('dare', 1), ('mixes', 1), ('rant', 1), ('allow', 1), ('peens', 1), ('singlesex', 1), ('thereof', 1), ('capsize', 1), ('thighs', 1), ('tide', 1), ('b5', 1), ('battleshipgt', 1), ('derailedbenchmark', 1), ('paths', 1), ('resque', 1), ('cutest', 1), ('indot', 1), ('bias', 1), ('followed', 1), ('contain', 1), ('slums', 1), ('manifestation', 1), ('provide', 1), ('illegality', 1), ('discourse', 1), ('confounds', 1), ('slips', 1), ('unsafe', 1), ('vai', 1), ('vir', 1), ('pra', 1), ('irrelevant', 1), ('chord', 1), ('sitc', 1), ('organisation', 1), ('skills', 1), ('righteous', 1), ('repay', 1), ('tribulation', 1), ('sinai', 1), ('execute', 1), ('simmering', 1), ('beneath', 1), ('concussion', 1), ('silence', 1), ('sickmund', 1), ('ncjfcj', 1), ('byrne', 1), ('natl', 1), ('summit', 1), ('indifference', 1), ('oppression', 1), ('hatred', 1), ('inspiration', 1), ('retaliation', 1), ('overboard', 1), ('soulja', 1), ('microchip', 1), ('tbh', 1), ('massive', 1), ('floatin', 1), ('sharing', 1), ('cousins', 1), ('shaping', 1), ('multimillion', 1), ('chop', 1), ('billet', 1), ('frugal', 1), ('companionate', 1), ('anacrusis', 1), ('production', 1), ('intriguing', 1), ('dominant', 1), ('jobbing', 1), ('clist', 1), ('boxing', 1), ('415', 1), ('7510880', 1), ('sheltersupport', 1), ('nonenglish', 1), ('ads', 1), ('chinese', 1), ('angels', 1), ('setting', 1), ('expense', 1), ('websites', 1), ('fond', 1), ('tearshttpstcosz2rvwpwhjhttpstcolajx578dru', 1), ('serephina', 1), ('defeater', 1), ('yeaahh', 1), ('college', 1), ('coping', 1), ('rabbisocial', 1), ('snapchat', 1), ('hoffmans', 1), ('feinstein', 1), ('va', 1), ('senator', 1), ('voices', 1), ('tag', 1), ('comparison', 1), ('studies', 1), ('calabria', 1), ('malta', 1), ('beard', 1), ('loading', 1), ('spinning', 1), ('niamh', 1), ('poconorecord', 1), ('households', 1), ('virtual', 1), ('listings', 1), ('547', 1), ('dorrie', 1), ('caruana', 1), ('catechize', 1), ('confidential', 1), ('respects', 1), ('seattles', 1), ('demolitiondodging', 1), ('affordable', 1), ('seatbelts', 1), ('alot', 1), ('recks', 1), ('intrusion', 1), ('interior', 1), ('sean', 1), ('sg', 1), ('sealed', 1), ('wave', 1), ('everyoneoh', 1), ('schoolokim', 1), ('tx5sos', 1), ('bouta', 1), ('kidsloud', 1), ('downaggravating', 1), ('teachers', 1), ('sb228', 1), ('relating', 1), ('seamstress', 1), ('elvia', 1), ('proposed', 1), ('159', 1), ('burton', 1), ('santa', 1), ('fe', 1), ('studebaker', 1), ('jose', 1), ('willow', 1), ('glen', 1), ('trestle', 1), ('battles', 1), ('sammy', 1), ('kfc', 1), ('hosts', 1), ('reconnect', 1), ('fathers', 1), ('salute', 1), ('salha1harry', 1), ('styles2u', 1), ('peoplehurryevacuate', 1), ('fromhelljust', 1), ('shahadaamppickmeclasssick', 1), ('weakened', 1), ('authoritarian', 1), ('disasternytimes', 1), ('saddle', 1), ('accountable', 1), ('preferable', 1), ('tawfmcaw', 1), ('beatdown', 1), ('prodemocracy', 1), ('saams', 1), ('lover', 1), ('httptcoizghpyqko4', 1), ('s3xleakph0tos', 1), ('19yrs', 1), ('ashwo', 1), ('festac', 1), ('delta', 1), ('exp0sed', 1), ('bbm', 1), ('pictures', 1), ('faminememories', 1), ('fur', 1), ('xl6162', 1), ('badge', 1), ('linkhttptco74yfqxvak0', 1), ('sanctioned', 1), ('vladimir', 1), ('putins', 1), ('moscow', 1), ('indexing', 1), ('remedial', 1), ('angioplasty', 1), ('dissertation', 1), ('hospitals', 1), ('dismayed', 1), ('zonewolf123', 1), ('ourmothermary', 1), ('janenelson097', 1), ('stephenscifi', 1), ('adaptation', 1), ('optioned', 1), ('geekapocalypse', 1), ('4pm', 1), ('hesse', 1), ('souls', 1), ('fittscott', 1), ('skanndtyagi', 1), ('httptcouuew4mjles', 1), ('roadid', 1), ('naayf', 1), ('onto', 1), ('chandanee', 1), ('magu', 1), ('mma', 1), ('rammed', 1), ('conf', 1), ('mmeaustin', 1), ('kurtkamka', 1), ('hirochii0', 1), ('emekagift', 1), ('vpsay', 1), ('muhammadu', 1), ('buhari', 1), ('alisonannyoung', 1), ('abbswinston', 1), ('kidnapped', 1), ('overnight', 1), ('villages', 1), ('devereaux', 1), ('exciting', 1), ('scifi', 1), ('tanzania', 1), ('pills', 1), ('lith', 1), ('likened', 1), ('elliott', 1), ('probation', 1), ('fines', 1), ('1179', 1), ('changing', 1), ('patterns', 1), ('livescience', 1), ('stalled', 1), ('edsa', 1), ('cubao', 1), ('753', 1), ('occupied', 1), ('rss', 1), ('illegally', 1), ('rossendale', 1), ('roquey', 1), ('toy', 1), ('mollusk', 1), ('romantic', 1), ('dramatic', 1), ('sensei', 1), ('rhymes', 1), ('attic', 1), ('sandunes', 1), ('gentle', 1), ('lapping', 1), ('gulls', 1), ('goodells', 1), ('tom', 1), ('gagnon', 1), ('imposing', 1), ('samesex', 1), ('marriage', 1), ('kiev', 1), ('ballews', 1), ('cascade', 1), ('childress', 1), ('supplemental', 1), ('modesto', 1), ('timesofindia', 1), ('rizzo', 1), ('riverside', 1), ('rite', 1), ('tlk', 1), ('widout', 1), ('nuh', 1), ('cum', 1), ('itz', 1), ('rubbery', 1), ('dem', 1), ('knw', 1), ('assessment', 1), ('optimization', 1), ('routing', 1), ('richie', 1), ('retweeted', 1), ('silverman', 1), ('sarahksilvermansoundtrack', 1), ('tracey', 1), ('ullman', 1), ('retweet', 1), ('tb', 1), ('ribbon', 1), ('8th', 1), ('blackwhite', 1), ('repulsive', 1), ('refugeesvictimiserdutton', 1), ('evangelicalliarabbott', 1), ('dupe', 1), ('overdrive', 1), ('styled', 1), ('undergroundbestsellers', 1), ('curry', 1), ('herman', 1), ('stephenson', 1), ('overturned', 1), ('corey', 1), ('brewer', 1), ('51point', 1), ('renewing', 1), ('cabinets', 1), ('render', 1), ('proxy', 1), ('ssu', 1), ('pittsburgh', 1), ('barcousky', 1), ('pb', 1), ('penn', 1), ('devastating', 1), ('descendants', 1), ('sections', 1), ('greystone', 1), ('85885473', 1), ('bureaucrats', 1), ('singled', 1), ('hindu', 1), ('refugee', 1), ('connections', 1), ('indiegogo', 1), ('offensivecontent', 1), ('specif', 1), ('faction', 1), ('microsoft', 1), ('360', 1), ('reallife', 1), ('errrr', 1), ('reade', 1), ('mankinds', 1), ('invention', 1), ('schoolboys', 1), ('reaad', 1), ('plsss', 1), ('cuban', 1), ('radioactive', 1), ('israels', 1), ('ashdod', 1), ('port', 1), ('emittin', 1), ('heregtcnn', 1), ('purported', 1), ('mthe', 1), ('premises', 1), ('proven', 1), ('reliable', 1), ('views', 1), ('entitlement', 1), ('jihad', 1), ('islamaphobe', 1), ('201516', 1), ('315', 1), ('ctr', 1), ('goshen', 1), ('aims', 1), ('1922', 1), ('inquiry', 1), ('psp', 1), ('psalms', 1), ('3422', 1), ('psalm3422', 1), ('argentinean', 1), ('propertycasu', 1), ('syndicate', 1), ('httptcolz8xmyi75x', 1), ('motel', 1), ('nears', 1), ('hayden', 1), ('poses', 1), ('strips', 1), ('precious', 1), ('onesie', 1), ('recalled', 1), ('defend', 1), ('praise', 1), ('ministry', 1), ('unu', 1), ('gc', 1), ('poway', 1), ('hcg', 1), ('ensures', 1), ('mole', 1), ('whensoever', 1), ('nevermore', 1), ('above', 1), ('sizygwwf', 1), ('appoints', 1), ('brig', 1), ('gen', 1), ('kaiser', 1), ('mississippi', 1), ('mrc', 1), ('pos', 1), ('hago', 1), ('escuchando', 1), ('ke', 1), ('pedo', 1), ('feminist', 1), ('fried', 1), ('ravioliwith', 1), ('porcini', 1), ('ricotta', 1), ('dudehe', 1), ('valerielol', 1), ('kiki', 1), ('policylab', 1), ('neglect', 1), ('policyholders', 1), ('clico', 1), ('repeat', 1), ('anniversary', 1), ('plymouth', 1), ('litter', 1), ('alllll', 1), ('nittys', 1), ('stockwell', 1), ('profithungry', 1), ('nowhttpstco4zsxjgv7it', 1), ('indoor', 1), ('trampoline', 1), ('douchebag', 1), ('bubble', 1), ('kuwait', 1), ('diverts', 1), ('calif', 1), ('percent', 1), ('pl', 1), ('employee', 1), ('aborted', 1), ('mixed', 1), ('pile', 1), ('pulling', 1), ('hiss', 1), ('clicks', 1), ('pisces', 1), ('picking', 1), ('hay', 1), ('masonite', 1), ('wahpeton', 1), ('nd', 1), ('physical', 1), ('preserve', 1), ('84', 1), ('ajw', 1), ('pharma', 1), ('overloaded', 1), ('outnumbering', 1), ('licenses', 1), ('floridas', 1), ('petersburg', 1), ('perez', 1), ('hilton', 1), ('niley', 1), ('shipper', 1), ('malaysias', 1), ('documentary', 1), ('narrated', 1), ('parter', 1), ('interviews', 1), ('pilots', 1), ('jwalk', 1), ('interrupt', 1), ('bernard', 1), ('shaw', 1), ('graduated', 1), ('tagging', 1), ('rouseys', 1), ('ridiculing', 1), ('peanut', 1), ('butter', 1), ('cookie', 1), ('dough', 1), ('paw', 1), ('pup', 1), ('linkhttptcon7tg7roamu', 1), ('rudd', 1), ('emile', 1), ('hirsch', 1), ('gordon', 1), ('prince', 1), ('qampa', 1), ('filmmakers', 1), ('roy', 1), ('199899', 1), ('spx', 1), ('finite', 1), ('mint', 1), ('patientreported', 1), ('outcomes', 1), ('metastatic', 1), ('colorectal', 1), ('patent', 1), ('preconditioning', 1), ('corals', 1), ('panoramic', 1), ('cuts', 1), ('bff', 1), ('tindering', 1), ('20mins', 1), ('gospel', 1), ('ebolahttptcocy0ciu2u1c', 1), ('amo', 1), ('sublime', 1), ('rome', 1), ('pams', 1), ('barry', 1), ('paladins', 1), ('pacic', 1), ('rsf', 1), ('protests', 1), ('gag', 1), ('reporting', 1), ('respondents', 1), ('fading', 1), ('consciousness', 1), ('fgcu', 1), ('tipster', 1), ('previews', 1), ('swansea', 1), ('481', 1), ('vuca', 1), ('raghu', 1), ('doctors', 1), ('specialized', 1), ('allah', 1), ('cleanup', 1), ('builder', 1), ('emotionally', 1), ('blackmail', 1), ('osp', 1), ('mounting', 1), ('osage', 1), ('organic', 1), ('horn', 1), ('expander', 1), ('earrings', 1), ('jewelry', 1), ('tribal', 1), ('orchid', 1), ('witch', 1), ('ooh', 1), ('oof', 1), ('vikings', 1), ('mainland', 1), ('ruled', 1), ('vassals', 1), ('onofre', 1), ('payer', 1), ('dollars', 1), ('xcom', 1), ('homeland', 1), ('appraisal', 1), ('candidates', 1), ('frank', 1), ('grimes', 1), ('voters', 1), ('lydia', 1), ('4x11', 1), ('dereks', 1), ('loft', 1), ('x1441', 1), ('x1435', 1), ('x1434', 1), ('x1431', 1), ('x1424', 1), ('x1421', 1), ('x1415', 1), ('x1411', 1), ('x1402', 1), ('x1392', 1), ('x1386', 1), ('zipped', 1), ('ferry', 1), ('knocking', 1), ('0327', 1), ('0025', 1), ('appetite', 1), ('billboard', 1), ('charts', 1), ('perforated', 1), ('shear', 1), ('sfor', 1), ('seismicresistant', 1), ('spoiled', 1), ('humble', 1), ('northbound', 1), ('junctions', 1), ('j3', 1), ('j3a', 1), ('1862', 1), ('southbound', 1), ('creek', 1), ('7302015', 1), ('admitted', 1), ('reform', 1), ('bill', 1), ('raise', 1), ('dicks', 1), ('tricky', 1), ('dicky', 1), ('hiding', 1), ('omfgdidnt', 1), ('pandora', 1), ('loudmy', 1), ('coworker', 1), ('multidimensional', 1), ('multidimensiona', 1), ('multidimensio', 1), ('multidimensi', 1), ('multidimen', 1), ('multidime', 1), ('bathroomits', 1), ('meowing', 1), ('louderthings', 1), ('poem', 1), ('drivers', 1), ('reap', 1), ('ohh', 1), ('fukurodani', 1), ('bokuto', 1), ('ppor', 1), ('colombian', 1), ('festival', 1), ('ls', 1), ('required', 1), ('shelly', 1), ('madonna', 1), ('1987', 1), ('knocked', 1), ('rob', 1), ('gosh', 1), ('aunts', 1), ('keller', 1), ('blackforestgateau', 1), ('ryans', 1), ('rosie', 1), ('odonnell', 1), ('fosters', 1), ('awe', 1), ('melting', 1), ('snowman', 1), ('diane', 1), ('randomactsofromance', 1), ('developing', 1), ('symptoms', 1), ('worthless', 1), ('140km', 1), ('ferndale', 1), ('kenyatta', 1), ('muumbo', 1), ('citizensthanks', 1), ('professionally', 1), ('unsensibly', 1), ('outrun', 1), ('oem', 1), ('2001', 1), ('volvo', 1), ('xc70', 1), ('dashboard', 1), ('lamps', 1), ('switch', 1), ('wvent', 1), ('oc73x', 1), ('obsolete', 1), ('lambasted', 1), ('jokewould', 1), ('casualtieshttptcogxqmdmza1ugopmaddow', 1), ('nw', 1), ('sheer', 1), ('leelanau', 1), ('traverse', 1), ('2b', 1), ('extended', 1), ('nuu', 1), ('fwt', 1), ('nueva', 1), ('favorita', 1), ('bits', 1), ('railguns', 1), ('t1000s', 1), ('temperature', 1), ('tracking', 1), ('centerhttptcokf74o2mcschttpstcon2zhrchcgv', 1), ('current', 1), ('monitoring', 1), ('nsw', 1), ('sthazard', 1), ('spillstarted', 1), ('1138am', 1), ('1154amimpact', 1), ('lunatics', 1), ('glasses', 1), ('wilderness', 1), ('roppongi', 1), ('22pm', 1), ('risks', 1), ('surprises', 1), ('wayne', 1), ('puth', 1), ('endless', 1), ('brats', 1), ('kiddos', 1), ('gi', 1), ('sang', 1), ('destination', 1), ('berlin', 1), ('daubt', 1), ('perfectly', 1), ('refill', 1), ('tip', 1), ('tourniquet', 1), ('ipok', 1), ('nooooooooo', 1), ('noel', 1), ('wayi', 1), ('cases', 1), ('constitute', 1), ('epidemic', 1), ('snowflake', 1), ('dilemma', 1), ('setback', 1), ('righteousness', 1), ('jah', 1), ('prevail', 1), ('dungeon', 1), ('deserves', 1), ('friendships', 1), ('disasternobody', 1), ('confidence', 1), ('japananonymous', 1), ('nine', 1), ('giant', 1), ('sized', 1), ('garbage', 1), ('laterim', 1), ('nikon', 1), ('d50', 1), ('61', 1), ('slr', 1), ('batteries', 1), ('charger', 1), ('sessions', 1), ('klitschko', 1), ('famous', 1), ('nieces', 1), ('kidsmegan', 1), ('swanger', 1), ('ruthann', 1), ('mccormick', 1), ('daisy', 1), ('henley', 1), ('disadvantaged', 1), ('tech', 1), ('tinder', 1), ('freefrom', 1), ('obligations', 1), ('flash', 1), ('decent', 1), ('billers', 1), ('promoted', 1), ('billings', 1), ('cliffhumble', 1), ('nigeria', 1), ('personalize', 1), ('customer', 1), ('cbc', 1), ('piglet', 1), ('diesel', 1), ('willyt', 1), ('ksl', 1), ('126', 1), ('urges', 1), ('critics', 1), ('favors', 1), ('thin', 1), ('skirt', 1), ('frontlines', 1), ('abuses', 1), ('forest', 1), ('available', 1), ('pamela', 1), ('challenges', 1), ('enablement', 1), ('behead', 1), ('tlvfaces', 1), ('tlvfacesauspol', 1), ('illustration', 1), ('explosionproof', 1), ('tempered', 1), ('glass', 1), ('protector', 1), ('blackberry', 1), ('z10', 1), ('experiences', 1), ('altered', 1), ('achieving', 1), ('dreams', 1), ('quarrels', 1), ('compromise', 1), ('armageddonwatchmen', 1), ('rebuilding', 1), ('livelihoods', 1), ('jams', 1), ('stall', 1), ('cte', 1), ('lame', 1), ('105', 1), ('ping', 1), ('captivity', 1), ('introduced', 1), ('compensate', 1), ('53', 1), ('sand', 1), ('shattered', 1), ('visage', 1), ('nbcnightlynews', 1), ('billneelynbc', 1), ('submarines', 1), ('inspections', 1), ('writes', 1), ('lubrication', 1), ('metrofmtalk', 1), ('newser', 1), ('disclos', 1), ('natalie', 1), ('stavola', 1), ('costar', 1), ('mygc', 1), ('suspend', 1), ('vibrator', 1), ('vape', 1), ('busted', 1), ('parks', 1), ('imposition', 1), ('cam', 1), ('alarms', 1), ('accidently', 1), ('trial', 1), ('exams', 1), ('impulsive', 1), ('redesigned', 1), ('controllers', 1), ('license', 1), ('staining', 1), ('favs', 1), ('volunteer', 1), ('meetinghopefully', 1), ('excite', 1), ('farted', 1), ('broom', 1), ('lookin', 1), ('thinner', 1), ('hurry', 1), ('fundwhen', 1), ('vocal', 1), ('chords', 1), ('workout', 1), ('chacos', 1), ('8pm', 1), ('crunchysensible', 1), ('footwear', 1), ('eventually', 1), ('disappointing', 1), ('mxaaaa', 1), ('africans', 1), ('folks', 1), ('stir', 1), ('wrld', 1), ('murfreesboro', 1), ('walmart', 1), ('rutherford', 1), ('lockdown', 1), ('mumps', 1), ('illinois', 1), ('mumbai24x7', 1), ('ind', 1), ('mums', 1), ('bluetooth', 1), ('mtr', 1), ('brut', 1), ('mouna', 1), ('motogp', 1), ('indianapolis', 1), ('espargaro', 1), ('layout', 1), ('predatorhttpstcoiggfnbixt5', 1), ('segas', 1), ('gross', 1), ('urgent', 1), ('dirtylying', 1), ('dishonest', 1), ('httptco3m7amh1e33whitegenocide', 1), ('mopheme', 1), ('bigstar', 1), ('johnson', 1), ('molecularly', 1), ('targeted', 1), ('rocky', 1), ('contig', 1), ('80m', 1), ('spreading', 1), ('ga', 1), ('magnitudeml', 1), ('24regionnear', 1), ('mirajane', 1), ('salivation', 1), ('beds', 1), ('kegm', 1), ('slithering', 1), ('viscous', 1), ('yeahs', 1), ('erykah', 1), ('badu', 1), ('mike', 1), ('magner', 1), ('betrayed', 1), ('nokia', 1), ('bowknot', 1), ('womengirls', 1), ('zip', 1), ('po', 1), ('realdepression', 1), ('canvas', 1), ('zipper', 1), ('reebok', 1), ('xl', 1), ('passive', 1), ('coerced', 1), ('commitment', 1), ('69', 1), ('wth', 1), ('200000', 1), ('megadethsymphony', 1), ('megadeth', 1), ('symphony', 1), ('hiking', 1), ('drakes', 1), ('wedgie', 1), ('actively', 1), ('embraced', 1), ('audiences', 1), ('obliteratedhas', 1), ('7k', 1), ('ib', 1), ('flirt', 1), ('clay', 1), ('shelli', 1), ('maxsys', 1), ('mary', 1), ('troy', 1), ('marquei', 1), ('como', 1), ('visto', 1), ('1x1', 1), ('destructions', 1), ('marley', 1), ('brinx', 1), ('striptease', 1), ('spreads', 1), ('pounding', 1), ('marketforces', 1), ('marketforce', 1), ('perth', 1), ('iinet', 1), ('nbn', 1), ('buffering', 1), ('activision', 1), ('cognizant', 1), ('toread', 1), ('sterling', 1), ('marin', 1), ('sr121', 1), ('mariah', 1), ('maratha', 1), ('raiders', 1), ('scorched', 1), ('lands', 1), ('punjab', 1), ('refused', 1), ('1943', 1), ('bengalis', 1), ('harbor', 1), ('feelings', 1), ('underground', 1), ('dumpster', 1), ('currensy', 1), ('talkin', 1), ('hitandrun', 1), ('franceplane', 1), ('rattles', 1), ('maailiss', 1), ('maaaaan', 1), ('0104', 1), ('utc5km', 1), ('m157', 1), ('0111', 1), ('utc3km', 1), ('nnw', 1), ('henshaw', 1), ('epicente', 1), ('epicen', 1), ('07', 1), ('1km', 1), ('nne', 1), ('geysers', 1), ('234021', 1), ('164021', 1), ('utc20150806', 1), ('peaceloverescue', 1), ('luckily', 1), ('mexicans', 1), ('woulda', 1), ('loving', 1), ('written', 1), ('include', 1), ('vantage', 1), ('waking', 1), ('skiing', 1), ('trashed', 1), ('sophie', 1), ('cultsierre', 1), ('cardpanickind', 1), ('driverreplace', 1), ('cardfind', 1), ('cardheaddesk', 1), ('looooool', 1), ('virus', 1), ('computers', 1), ('themayhoka', 1), ('bn', 1), ('longfoxysiren', 1), ('foo', 1), ('fighters', 1), ('survivor', 1), ('redwing', 1), ('seal', 1), ('nfl', 1), ('j2bone', 1), ('cousin', 1), ('lock', 1), ('shred', 1), ('manhood', 1), ('accept', 1), ('sissy', 1), ('advances', 1), ('treasurehouse', 1), ('outbreed', 1), ('takehome', 1), ('akx', 1), ('wizard', 1), ('boyd', 1), ('balanced', 1), ('mercy', 1), ('backty', 1), ('curds', 1), ('beth', 1), ('underwood', 1), ('lindenow', 1), ('315pmemergency', 1), ('lily', 1), ('xo', 1), ('cowgirl', 1), ('yc', 1), ('expecting', 1), ('lifes', 1), ('lyricaleyes', 1), ('lhh', 1), ('mastered', 1), ('goof', 1), ('guild', 1), ('saunders', 1), ('b4', 1), ('dreamland', 1), ('amen', 1), ('goooooooo', 1), ('falls', 1), ('fence', 1), ('fraction', 1), ('vital', 1), ('wrought', 1), ('species', 1), ('consuming', 1), ('lee', 1), ('comedy', 1), ('leejasper', 1), ('tories', 1), ('packed', 1), ('destructive', 1), ('volcanic', 1), ('thirtyfive', 1), ('fifteenmilehigh', 1), ('plume', 1), ('ash', 1), ('wh', 1), ('yorker', 1), ('welcomes', 1), ('fallout', 1), ('lapses', 1), ('niqqa', 1), ('stressing', 1), ('shaolin', 1), ('shen', 1), ('chan', 1), ('chiang', 1), ('venoms', 1), ('kung', 1), ('favori', 1), ('aluminum', 1), ('southeast', 1), ('missouri', 1), ('renaomino', 1), ('logo', 1), ('monkeys', 1), ('kontrolled', 1), ('bs', 1), ('dice', 1), ('themthen', 1), ('gym', 1), ('kirsten', 1), ('gillibrand', 1), ('extend', 1), ('kindermorgan', 1), ('earl', 1), ('kenya', 1), ('talisman', 1), ('cristiano', 1), ('lionel', 1), ('messi', 1), ('mipasho', 1), ('kelby', 1), ('tomlinson', 1), ('mildmannered', 1), ('baseman', 1), ('metropolitan', 1), ('neverending', 1), ('rbi', 1), ('askin', 1), ('meansnot', 1), ('answersplus', 1), ('thingthis', 1), ('councilman', 1), ('oneill', 1), ('shoes', 1), ('shaper', 1), ('width', 1), ('adjustable', 1), ('catering', 1), ('auditory', 1), ('hcxvneoav', 1), ('kcem', 1), ('whitner', 1), ('sr14', 1), ('hale', 1), ('kayaking', 1), ('kaduna', 1), ('landshttptco77ciwxabvatschoollands', 1), ('purchases', 1), ('collecting', 1), ('recorded', 1), ('burst', 1), ('moth', 1), ('purchase', 1), ('juneau', 1), ('jun', 1), ('yemenis', 1), ('sana', 1), ('julie', 1), ('romeo', 1), ('juliet', 1), ('judges', 1), ('radicalisation', 1), ('10k', 1), ('sept', 1), ('2015castle', 1), ('donington', 1), ('respondershttpstcog1nw99yj8u', 1), ('228', 1), ('acts', 1), ('217', 1), ('jkl', 1), ('niggaeven', 1), ('wolfgangjoc', 1), ('homage', 1), ('biggie', 1), ('smalls', 1), ('hypnotize', 1), ('jeep', 1), ('cherokee', 1), ('file', 1), ('fiat', 1), ('chrysler', 1), ('harman', 1), ('consumerist', 1), ('jay', 1), ('alexis', 1), ('restart', 1), ('fleet', 1), ('approaches', 1), ('aogashima', 1), ('busines', 1), ('realism', 1), ('diff', 1), ('uneducated', 1), ('educated', 1), ('blacks', 1), ('senior', 1), ('separated', 1), ('baaaack', 1), ('petersens', 1), ('bowhunting', 1), ('bows', 1), ('trapping', 1), ('1130', 1), ('curfewand', 1), ('grove', 1), ('duty', 1), ('superstition', 1), ('swami', 1), ('agnivesh', 1), ('partially', 1), ('yard', 1), ('insanity', 1), ('muslims', 1), ('lying', 1), ('gotdamn', 1), ('croat', 1), ('isai', 1), ('601', 1), ('psm', 1), ('1388', 1), ('lifting', 1), ('scattered', 1), ('unto', 1), ('client', 1), ('outage', 1), ('australias', 1), ('creepiest', 1), ('argentina', 1), ('campusfind', 1), ('itscreams', 1), ('vibrates', 1), ('stuart', 1), ('minister', 1), ('aussies', 1), ('seclusion', 1), ('compliance', 1), ('stab', 1), ('inject', 1), ('veins', 1), ('mystery', 1), ('worship', 1), ('superstitions', 1), ('irin', 1), ('asia', 1), ('tape', 1), ('tangles', 1), ('reconstruction', 1), ('reduction', 1), ('virg', 1), ('investigate', 1), ('mueller', 1), ('complaints', 1), ('nov', 1), ('meson', 1), ('invades', 1), ('randy', 1), ('irwin', 1), ('cybersecurity', 1), ('replace', 1), ('inspectors', 1), ('irans', 1), ('addresses', 1), ('refund', 1), ('sct012', 1), ('bkn025', 1), ('sct014', 1), ('bkn032', 1), ('0605', 1), ('damp', 1), ('qnh', 1), ('1028', 1), ('infantry', 1), ('lume', 1), ('analog', 1), ('incheon', 1), ('prosecutors', 1), ('nami', 1), ('kim', 1), ('puppies', 1), ('hangi', 1), ('daniels', 1), ('persistent', 1), ('prayers', 1), ('fastings', 1), ('heavenly', 1), ('fragile', 1), ('economy', 1), ('alternatives', 1), ('rococo', 1), ('alan', 1), ('perlis', 1), ('wonders', 1), ('addicts', 1), ('defensive', 1), ('decreases', 1), ('vulnerability', 1), ('pascoe', 1), ('vale', 1), ('outbound', 1), ('tullamarine', 1), ('fwy', 1), ('citylink', 1), ('vehicles', 1), ('offbeat', 1), ('odai', 1), ('bucharest', 1), ('romania', 1), ('dyingthey', 1), ('dangers', 1), ('interruptions', 1), ('annoy', 1), ('youhttptcozh6ausfbwh', 1), ('pundit', 1), ('grave', 1), ('rails', 1), ('kalmikya', 1), ('astrakhan', 1), ('volgagrad', 1), ('dagestan', 1), ('locusts', 1), ('bts', 1), ('jimin', 1), ('myanmar', 1), ('arrived', 1), ('mayflower', 1), ('119000', 1), ('966', 1), ('camps', 1), ('imm', 1), ('imagini', 1), ('noi', 1), ('clipuri', 1), ('suvs', 1), ('dickheads', 1), ('uncomfortable', 1), ('cavaliers', 1), ('7071', 1), ('lakers', 1), ('illusoria', 1), ('icarus', 1), ('nowplaying', 1), ('flaunt', 1), ('itthen', 1), ('motivated', 1), ('donnelly', 1), ('encouragement', 1), ('positivity', 1), ('quiet', 1), ('phandom', 1), ('faved', 1), ('decapitated', 1), ('india', 1), ('remedyyyy', 1), ('positively', 1), ('mistaken', 1), ('smart', 1), ('cataclysmic', 1), ('reator', 1), ('melts', 1), ('disasteramp', 1), ('cgt', 1), ('probaly', 1), ('knock', 1), ('meampbeat', 1), ('sauntered', 1), ('fred', 1), ('wages', 1), ('automation', 1), ('sayhow', 1), ('lexington', 1), ('veterinarians', 1), ('passion', 1), ('thru', 1), ('cheer', 1), ('diva', 1), ('philly', 1), ('ibrahimovic', 1), ('boot', 1), ('mercurial', 1), ('vapor', 1), ('footballfreestyle247', 1), ('congestion', 1), ('ramp', 1), ('i10', 1), ('ms', 1), ('offloading', 1), ('material', 1), ('smell', 1), ('rotting', 1), ('potatoes', 1), ('smelled', 1), ('1d', 1), ('wwa', 1), ('fangirling', 1), ('ulzzang', 1), ('hyung', 1), ('seok', 1), ('92', 1), ('liners', 1), ('bleased', 1), ('same', 1), ('yuppies', 1), ('tourists', 1), ('marketing', 1), ('rconspiracy', 1), ('thrones', 1), ('gunning', 1), ('romanceit', 1), ('mebut', 1), ('heartache', 1), ('miseryaint', 1), ('grateful', 1), ('swiftly', 1), ('countless', 1), ('taylor', 1), ('phones', 1), ('sfa', 1), ('soonpandemonium', 1), ('dwell', 1), ('confines', 1), ('suzes', 1), ('contents', 1), ('loccitane', 1), ('lavera', 1), ('coolweird', 1), ('skinless', 1), ('predator', 1), ('victorias', 1), ('bartender', 1), ('peacefully', 1), ('then', 1), ('idiocy', 1), ('today4got', 1), ('october', 1), ('foreverstay', 1), ('sideon', 1), ('nightfear', 1), ('loathing', 1), ('vegassolitude', 1), ('xmas', 1), ('tattoo', 1), ('smth', 1), ('hang', 1), ('hav', 1), ('sht', 1), ('insane', 1), ('loudest', 1), ('higuains', 1), ('offside', 1), ('12step', 1), ('addiction', 1), ('suffered', 1), ('pants', 1), ('resorted', 1), ('tying', 1), ('jacket', 1), ('til', 1), ('thrift', 1), ('independence', 1), ('rowyso', 1), ('slammed', 1), ('ahahahga', 1), ('known', 1), ('capoeira', 1), ('stretcherbearer', 1), ('trinna', 1), ('rapping', 1), ('cyberman', 1), ('oamsgajagahahah', 1), ('laighign', 1), ('punk', 1), ('halo', 1), ('pamanian', 1), ('fools', 1), ('regress', 1), ('brownie', 1), ('batter', 1), ('710', 1), ('810', 1), ('highly', 1), ('fanboys', 1), ('earbuds', 1), ('politely', 1), ('jared', 1), ('cleveland', 1), ('specials', 1), ('bagscutekitten', 1), ('crhedrys', 1), ('nkofoxysiren', 1), ('fishing', 1), ('closures', 1), ('dlc', 1), ('fatalitiesxray', 1), ('spyro', 1), ('texture', 1), ('hacks', 1), ('gardens', 1), ('ingame', 1), ('romanatwoodvlogs', 1), ('kittens', 1), ('marvel', 1), ('avengers', 1), ('2500fps', 1), ('sn', 1), ('vabengal', 1), ('zss', 1), ('pokmon', 1), ('omega', 1), ('ruby', 1), ('sapphire', 1), ('wifi', 1), ('cjs064', 1), ('gameplay', 1), ('fatalitiesxrays', 1), ('mk', 1), ('tremors', 1), ('stalag', 1), ('ermac', 1), ('tournament', 1), ('pharaoh', 1), ('optic', 1), ('informer', 1), ('destiny', 1), ('abh', 1), ('bunkd', 1), ('disney', 1), ('zombies', 1), ('interpretation', 1), ('emilee', 1), ('milkshake', 1), ('ease', 1), ('jordan', 1), ('hond', 1), ('sidjsjdjekdjskdjd', 1), ('mgs', 1), ('zeroes', 1), ('amazingsept', 1), ('pitched', 1), ('ofnsixjks', 1), ('asleep', 1), ('through', 1), ('sandy', 1), ('vip', 1), ('mumbling', 1), ('cackling', 1), ('spitters', 1), ('ish', 1), ('stressful', 1), ('unexplainable', 1), ('follower', 1), ('badging', 1), ('kian', 1), ('demis', 1), ('coffees', 1), ('rockstar', 1), ('cinema', 1), ('outkill', 1), ('gained', 1), ('diamond', 1), ('alarmingly', 1), ('immensely', 1), ('entered', 1), ('butterlondon', 1), ('crayons', 1), ('iverson', 1), ('malone', 1), ('trophy', 1), ('killing', 1), ('clearing', 1), ('scully', 1), ('sfe', 1), ('forgiven', 1), ('angelina', 1), ('jolie', 1), ('sef', 1), ('isisi', 1), ('liferebooting', 1), ('pauls', 1), ('mindblowing', 1), ('laugh', 1), ('implicit', 1), ('tangled', 1), ('concur', 1), ('mmk', 1), ('wildlife', 1), ('skyler', 1), ('buddhas', 1), ('tanks', 1), ('assistant', 1), ('arti', 1), ('kaboom', 1), ('gameplaywalkthrough', 1), ('ssb4', 1), ('losers', 1), ('ballad', 1), ('mona', 1), ('lisa', 1), ('lolo', 1), ('tragedies', 1), ('girlsgirlsboys', 1), ('collar', 1), ('hug', 1), ('guest', 1), ('roblox', 1), ('cher', 1), ('lloyd', 1), ('streak', 1), ('hunger', 1), ('function', 1), ('zonesthank', 1), ('humboldt', 1), ('cty', 1), ('sheriffs', 1), ('residence', 1), ('lassics', 1), ('processes', 1), ('streamlined', 1), ('insofar', 1), ('organizationabbog', 1), ('hsts', 1), ('hqhed', 1), ('mhtw4fneta', 1), ('achievements', 1), ('whatsapp', 1), ('dorrian', 1), ('manorial', 1), ('gnocchi', 1), ('thine', 1), ('rbpk', 1), ('holidays', 1), ('wordk', 1), ('zmne', 1), ('restore', 1), ('vinyl', 1), ('siding', 1), ('freeze', 1), ('veggieshttptcomet0mtpr3s', 1), ('standardized', 1), ('cc', 1), ('jets', 1), ('runion', 1), ('baskets', 1), ('charming', 1), ('reduce', 1), ('ontario', 1), ('developerhttptcohld5xlywbn', 1), ('anatomic', 1), ('uptotheminute', 1), ('remodeling', 1), ('iaavroiv', 1), ('fellow', 1), ('eagles', 1), ('nowhere', 1), ('ampamp', 1), ('commerce', 1), ('subcommittee', 1), ('728', 1), ('oversight', 1), ('htt', 1), ('creative', 1), ('interviewed', 1), ('anatomy', 1), ('receipt', 1), ('buys', 1), ('napa', 1), ('modibo', 1), ('maiga', 1), ('fucktard', 1), ('homemade', 1), ('yogurt', 1), ('traveling', 1), ('stray', 1), ('loan', 1), ('jpmorgan', 1), ('apartmentloan', 1), ('wamu', 1), ('henry', 1), ('inventories', 1), ('referred', 1), ('96', 1), ('hollyw', 1), ('starring', 1), ('shira', 1), ('convertible', 1), ('23800', 1), ('hmmthis', 1), ('agents', 1), ('dnt', 1), ('hm', 1), ('eightynine', 1), ('uptick', 1), ('statewide', 1), ('courier', 1), ('hibernating', 1), ('pbx', 1), ('irrespective', 1), ('careerism', 1), ('pan', 1), ('crbzfz', 1), ('girldid', 1), ('friendsabout', 1), ('singalong', 1), ('kashs', 1), ('foundation', 1), ('magazines', 1), ('blake', 1), ('toe', 1), ('ghe', 1), ('becauseim', 1), ('interestud', 1), ('requiem', 1), ('lauren', 1), ('oliver', 1), ('concept', 1), ('wander', 1), ('springer', 1), ('spaniel', 1), ('stranded', 1), ('hermancranston', 1), ('httptcorei3puwp84', 1), ('goone', 1), ('stellar', 1), ('undercard', 1), ('filler', 1), ('aaarrrgghhhhttptcog2uimbekge', 1), ('private', 1), ('tutor', 1), ('preferably', 1), ('mumbaitimes', 1), ('helpful', 1), ('nuking', 1), ('asteroid', 1), ('november', 1), ('15th', 1), ('hazardsdisaster', 1), ('hashtags', 1), ('links', 1), ('reads', 1), ('advised', 1), ('cities', 1), ('division', 1), ('harveys', 1), ('metaphor', 1), ('nooo', 1), ('otsuka', 1), ('justifying', 1), ('quarrel', 1), ('remains', 1), ('pakistan', 1), ('tailor', 1), ('kay', 1), ('rotations', 1), ('leftleaning', 1), ('learni', 1), ('trillion', 1), ('dollar', 1), ('laughtraders', 1), ('capitulation', 1), ('cnnbrk', 1), ('marr', 1), ('primal', 1), ('bedtime', 1), ('gotten', 1), ('nows', 1), ('bagged', 1), ('changed', 1), ('financially', 1), ('harshness', 1), ('follows', 1), ('abetter', 1), ('dayby', 1), ('cracing', 1), ('sirenspacing', 1), ('sassed', 1), ('ndp', 1), ('hatzolah', 1), ('responding', 1), ('dual', 1), ('hannah', 1), ('hank', 1), ('williams', 1), ('jr', 1), ('mulberry', 1), ('antony', 1), ('oak', 1), ('27900end', 1), ('hamptonroadsforme', 1), ('walks', 1), ('fishiest', 1), ('smelling', 1), ('gutted', 1), ('suspected', 1), ('fracture', 1), ('clinic', 1), ('protection', 1), ('gulfport', 1), ('allin', 1), ('realizations', 1), ('51', 1), ('guaranteed', 1), ('bitten', 1), ('mosquito', 1), ('avoids', 1), ('citys', 1), ('greedy', 1), ('bastards', 1), ('creativity', 1), ('censorship', 1), ('presquile', 1), ('familyampfriendslots', 1), ('funnot', 1), ('graham', 1), ('phillips', 1), ('fundraiser', 1), ('canceled', 1), ('fundraise', 1), ('httptcohibef3cxox', 1), ('construct', 1), ('uks', 1), ('splash', 1), ('gostei', 1), ('um', 1), ('vdeo', 1), ('lolhttptcok9cd0efvut', 1), ('columbia', 1), ('sallie', 1), ('memorialday', 1), ('aul', 1), ('fallen', 1), ('newsbrokenemergency', 1), ('servicesgold', 1), ('coastpowerlinetramtr', 1), ('starbs', 1), ('degrees', 1), ('redo', 1), ('nails', 1), ('ayyy', 1), ('amidst', 1), ('cocky', 1), ('strutted', 1), ('batters', 1), ('forbid', 1), ('contacts', 1), ('cake', 1), ('gmtty', 1), ('coalitions', 1), ('fondness', 1), ('backing', 1), ('1984style', 1), ('totalitarianism', 1), ('copied', 1), ('ghost', 1), ('surrounded', 1), ('mentally', 1), ('minded', 1), ('bets', 1), ('register', 1), ('boylesports', 1), ('locked', 1), ('delicious', 1), ('flavor', 1), ('strawberry', 1), ('cherry', 1), ('intelligence', 1), ('eur', 1), ('bwin', 1), ('gigawatts', 1), ('installed', 1), ('capacityone', 1), ('gwatt', 1), ('reactorhttptcoleczolkmsv', 1), ('georgegallagher', 1), ('robin', 1), ('generational', 1), ('schism', 1), ('privacy', 1), ('drones', 1), ('gaza', 1), ('br', 1), ('leak', 1), ('agdq', 1), ('kororinpa', 1), ('marble', 1), ('tloz', 1), ('oracle', 1), ('ages', 1), ('metroid', 1), ('ii', 1), ('httpstcododxi41y1cis', 1), ('lyrically', 1), ('fylde', 1), ('prestons', 1), ('disappearing', 1), ('skyline', 1), ('fwd', 1), ('jumped', 1), ('funds', 1), ('abandoned', 1), ('cocker', 1), ('spaniels', 1), ('cools', 1), ('durban', 1), ('offering', 1), ('sweep', 1), ('rantipozi', 1), ('cucks', 1), ('aubreys', 1), ('fic', 1), ('neil', 1), ('somethingyr', 1), ('poetry', 1), ('anterior', 1), ('recycling', 1), ('nonhazardous', 1), ('chemicals', 1), ('1916', 1), ('continually', 1), ('strives', 1), ('ecofriendly', 1), ('elation', 1), ('freed', 1), ('captives', 1), ('kindle', 1), ('thriller', 1), ('sniping', 1), ('lumbar', 1), ('condition', 1), ('freak', 1), ('cart', 1), ('technologies', 1), ('fotoset', 1), ('elanorofrohan', 1), ('december', 1), ('carpet', 1), ('zurich', 1), ('premiere', 1), ('foto', 1), ('because', 1), ('addict', 1), ('leaders', 1), ('responded', 1), ('surfspa', 1), ('120', 1), ('capsule', 1), ('brand', 1), ('gun', 1), ('powder', 1), ('discussed', 1), ('introduction', 1), ('theological', 1), ('aesthetic', 1), ('aftermath', 1), ('label', 1), ('referral', 1), ('180046587332', 1), ('purposes', 1), ('provokes', 1), ('flourishing', 1), ('sleigh', 1), ('bell', 1), ('toothsome', 1), ('onrhpz', 1), ('fleshgod', 1), ('blinded', 1), ('thee', 1), ('cartoonylikewhoa', 1), ('papa', 1), ('fitz', 1), ('tantrums', 1), ('gpsbased', 1), ('cedar', 1), ('terri', 1), ('linford', 1), ('4353271148', 1), ('int', 1), ('retainers', 1), ('securedgt', 1), ('rworldnews', 1), ('ferno', 1), ('engineering', 1), ('degree', 1), ('inspect', 1), ('components', 1), ('fel', 1), ('zakuun', 1), ('wrestler', 1), ('bioter', 1), ('atlanta', 1), ('mishapshttptcosjnkpj8leewatchcbs19', 1), ('wxiatv', 1), ('ma', 1), ('homerescuers', 1), ('motivator', 1), ('contemplating', 1), ('engage', 1), ('musicvideo', 1), ('fc', 1), ('maid', 1), ('presents', 1), ('fatalityafter', 1), ('tore', 1), ('enemys', 1), ('selfie', 1), ('kindamortal', 1), ('kombats', 1), ('2u', 1), ('lift', 1), ('countries', 1), ('nameamen', 1), ('fascinating', 1), ('propaganda', 1), ('homebuyer', 1), ('miscalculation', 1), ('mwjcdk', 1), ('drills', 1), ('pope', 1), ('francis', 1), ('visit', 1), ('septhttptcoajvfjd3qni', 1), ('misfortunebut', 1), ('noxdv', 1), ('extremeweather', 1), ('identification', 1), ('gleaned', 1), ('anumber', 1), ('oral', 1), ('projects', 1), ('exquisite', 1), ('sto', 1), ('exploring', 1), ('miville', 1), ('worldoilsubscription', 1), ('worldoil', 1), ('subscription', 1), ('experts', 1), ('exofficio', 1), ('brief', 1), ('179', 1), ('onduty', 1), ('nypd', 1), ('ensuing', 1), ('dreaming', 1), ('grapes', 1), ('pitfalls', 1), ('padres', 1), ('fiasco', 1), ('nno', 1), ('bogged', 1), ('cpu', 1), ('bsg', 1), ('sufficiently', 1), ('hyped', 1), ('delayed', 1), ('40money', 1), ('komo', 1), ('areavoluntaryinciwebmad', 1), ('fitba', 1), ('christmas', 1), ('indonesian', 1), ('sparks', 1), ('raung', 1), ('err509', 1), ('eric', 1), ('olds', 1), ('cydia', 1), ('tweak', 1), ('epa', 1), ('portion', 1), ('international', 1), ('ce', 1), ('volga', 1), ('enca', 1), ('onboard', 1), ('enabled', 1), ('xlgamesru', 1), ('limits', 1), ('ems1', 1), ('emts', 1), ('abella', 1), ('emp', 1), ('alcoholismaddiction', 1), ('forgiving', 1), ('northwestern', 1), ('evanston', 1), ('shutdown', 1), ('unsure', 1), ('paging', 1), ('jewell', 1), ('personnel', 1), ('canal', 1), ('principles', 1), ('practices', 1), ('redruthuk', 1), ('plumber', 1), ('practitioner', 1), ('healthcare', 1), ('recruitment', 1), ('counselors', 1), ('wasilla', 1), ('jk', 1), ('mp3', 1), ('rar', 1), ('beaumont', 1), ('spohn', 1), ('egyptian', 1), ('militants', 1), ('threaten', 1), ('1717', 1), ('effective', 1), ('maimonides', 1), ('terry', 1), ('sergio', 1), ('honourable', 1), ('mention', 1), ('nemanja', 1), ('matic', 1), ('snipe', 1), ('whelen', 1), ('sa314', 1), ('pa', 1), ('bracket', 1), ('screws', 1), ('wher', 1), ('emini', 1), ('earnings', 1), ('letdown', 1), ('equals', 1), ('mcconnell', 1), ('judicial', 1), ('nominations', 1), ('gop', 1), ('govern', 1), ('lyme', 1), ('mannequin', 1), ('hated', 1), ('dubstep', 1), ('hardstyle', 1), ('alien', 1), ('dublin', 1), ('flynn', 1), ('onr', 1), ('dtn', 1), ('oi', 1), ('gtalaskapublic', 1), ('irish', 1), ('pedestrians', 1), ('consis', 1), ('sensitive', 1), ('beef', 1), ('rotten', 1), ('tomatoes', 1), ('dracula', 1), ('vampire', 1), ('stern', 1), ('ending', 1), ('restaurant', 1), ('mommys', 1), ('expensive', 1), ('panik', 1), ('tryingto', 1), ('elitist', 1), ('slides', 1), ('adding', 1), ('pisco', 1), ('morn', 1), ('assholes', 1), ('venezuela', 1), ('videothanks', 1), ('shtfplanhttpstcoqbstqxa6qx', 1), ('argue', 1), ('hhs', 1), ('selects', 1), ('regional', 1), ('renovation', 1), ('bono', 1), ('wipp', 1), ('facility', 1), ('nm', 1), ('investigating', 1), ('filter', 1), ('offsite', 1), ('external', 1), ('motivation', 1), ('pasta', 1), ('hammond', 1), ('or', 1), ('listing', 1), ('ofchildren', 1), ('zealand', 1), ('denmark', 1), ('dorling', 1), ('kindersley', 1), ('publishing', 1), ('allowing', 1), ('launched', 1), ('830pm', 1), ('est', 1), ('josephus', 1), ('antiochus', 1), ('epiphanes', 1), ('diageos', 1), ('stresses', 1), ('revolt', 1), ('spirits', 1), ('dfr', 1), ('ep016', 1), ('monthly', 1), ('dnbheaven', 1), ('20150806', 1), ('walkthrough', 1), ('przez', 1), ('allegations', 1), ('010242', 1), ('010217', 1), ('010156', 1), ('m40', 1), ('154107', 1), ('iwate', 1), ('063243', 1), ('despite', 1), ('emerged', 1), ('describes', 1), ('description', 1), ('surah', 1), ('humaza', 1), ('descended', 1), ('shadowed', 1), ('crest', 1), ('striking', 1), ('cobra', 1), ('landing', 1), ('harshly', 1), ('torch', 1), ('derek', 1), ('skeeter', 1), ('thi', 1), ('cutlery', 1), ('offers', 1), ('denali', 1), ('143', 1), ('underway', 1), ('throughout', 1), ('delmonts', 1), ('onion', 1), ('purchased', 1), ('def', 1), ('plus', 1), ('conclusions', 1), ('deepak', 1), ('chopras', 1), ('epic', 1), ('liquidation', 1), ('daviss', 1), ('judith', 1), ('hopfer', 1), ('deglin', 1), ('april', 1), ('vallerand', 1), ('ortiz', 1), ('daniel', 1), ('1211', 1), ('sacrifice', 1), ('damnnnn', 1), ('gmcr', 1), ('whomever', 1), ('accordingly', 1), ('wale', 1), ('mlk', 1), ('greinke', 1), ('dakota', 1), ('skye', 1), ('horny', 1), ('juicy', 1), ('pounded', 1), ('reflectionsaugust', 1), ('6drivendriven', 1), ('hundred', 1), ('forms', 1), ('selfdelusion', 1), ('selfseeking', 1), ('selfpity', 1), ('doc', 1), ('impending', 1), ('biblical', 1), ('5pm', 1), ('washed', 1), ('livin', 1), ('zoom', 1), ('uncontrollable', 1), ('cultivating', 1), ('cruises', 1), ('camo', 1), ('wallet', 1), ('rediscover', 1), ('fantabulous', 1), ('updating', 1), ('delivering', 1), ('task', 1), ('slurpees', 1), ('codeveloped', 1), ('impressed', 1), ('demonstratio', 1), ('couples', 1), ('ought', 1), ('overload', 1), ('cooool', 1), ('counterstrike', 1), ('conning', 1), ('portfolio', 1), ('insurers', 1), ('conklin', 1), ('shuffled', 1), ('confused', 1), ('westie', 1), ('believes', 1), ('computerhttptcoawzonryc9y', 1), ('sanchez', 1), ('bolasie', 1), ('hazzel', 1), ('episcopal', 1), ('der', 1), ('abbruchsimulator', 1), ('tony', 1), ('hancock', 1), ('tattooed', 1), ('serial', 1), ('combating', 1), ('ampveterans', 1), ('anaheim', 1), ('ducks', 1), ('preseason', 1), ('coleslaw', 1), ('coldwood', 1), ('coincidence', 1), ('german', 1), ('oc', 1), ('shared', 1), ('industrys', 1), ('imprudent', 1), ('decisions', 1), ('lookout', 1), ('adjuster', 1), ('safeco', 1), ('liberty', 1), ('rnb', 1), ('starz', 1), ('teamdownload', 1), ('infotechnews', 1), ('recode', 1), ('erie', 1), ('405', 1), ('hiroshimanagasaki', 1), ('atomic', 1), ('hidden', 1), ('decades', 1), ('660', 1), ('implores', 1), ('motorists', 1), ('reservesgt', 1), ('watchdog', 1), ('dugway', 1), ('proving', 1), ('grounds', 1), ('chs', 1), ('chronicles', 1), ('browns', 1), ('aunft', 1), ('closet', 1), ('intruders', 1), ('kraft', 1), ('singles', 1), ('chinas', 1), ('ecommerce', 1), ('alibaba', 1), ('baba', 1), ('tencent', 1), ('jd', 1), ('revenue', 1), ('detains', 1), ('churchs', 1), ('pvc', 1), ('cartoon', 1), ('chickmt123', 1), ('wikipedia', 1), ('encyclopedia', 1), ('checkout', 1), ('nurgle', 1), ('snuck', 1), ('khrones', 1), ('wd', 1), ('imagessomething', 1), ('longaberger', 1), ('floral', 1), ('strap', 1), ('item', 1), ('phantasmal', 1), ('cummerbund', 1), ('reactors', 1), ('ameribag', 1), ('healthy', 1), ('backpack', 1), ('khaki', 1), ('tan', 1), ('beige', 1), ('chances', 1), ('digging', 1), ('vanilla', 1), ('indiana', 1), ('providing', 1), ('feedback', 1), ('cemetery', 1), ('infuriates', 1), ('httptcovplzkuidz2', 1), ('handling', 1), ('caution', 1), ('strongminded', 1), ('keeper', 1), ('runnin', 1), ('catastrophicfallenangel', 1), ('reveillertm', 1), ('macabrelolita', 1), ('amino', 1), ('acids', 1), ('roleplay', 1), ('willinghearted', 1), ('into', 1), ('rpn', 1), ('highest', 1), ('casually', 1), ('jasmine', 1), ('cascada', 1), ('dancefloor', 1), ('recorder', 1), ('zeroedge', 1), ('duallens', 1), ('trafficdriving', 1), ('historyaccident', 1), ('camcorder', 1), ('receiving', 1), ('installation', 1), ('output', 1), ('hhw', 1), ('lnp', 1), ('towns', 1), ('newsthousands', 1), ('cap', 1), ('represents', 1), ('republicans', 1), ('shortfalls', 1), ('plaguing', 1), ('candylit', 1), ('sarumi', 1), ('fluffy', 1), ('currong', 1), ('ariana', 1), ('grande', 1), ('dl', 1), ('patch', 1), ('symantec', 1), ('ergo', 1), ('wireless', 1), ('resemblance', 1), ('campbell', 1), ('savecan', 1), ('mycan', 1), ('heavydirtysoul', 1), ('3p', 1), ('330a', 1), ('lima', 1), ('makoto', 1), ('dub', 1), ('jersey', 1), ('au', 1), ('camilas', 1), ('spree', 1), ('happiness', 1), ('repatriating', 1), ('boko', 1), ('disclosed', 1), ('submitt', 1), ('pricehttptcokbc2ax8zl9', 1), ('silver', 1), ('grace', 1), ('2am', 1), ('buzzing', 1), ('billy', 1), ('brings', 1), ('yorks', 1), ('nassau', 1), ('coliseum', 1), ('buyout', 1), ('6bn', 1), ('worldpay', 1), ('ipo', 1), ('awaits', 1), ('rescuedagain', 1), ('oldest', 1), ('m8', 1), ('busty', 1), ('natalia', 1), ('starr', 1), ('guard', 1), ('bu', 1), ('burford', 1), ('lorries', 1), ('muscle', 1), ('lzktjnox', 1), ('bucket', 1), ('presentations', 1), ('giselle', 1), ('stretches', 1), ('victorian', 1), ('sofa', 1), ('brooklyn', 1), ('domesticate', 1), ('mechanic', 1), ('clock', 1), ('gba', 1), ('brooke', 1), ('timed', 1), ('broadcast', 1), ('journalism', 1), ('quottelevision', 1), ('quotoperations', 1), ('since3g', 1), ('superv', 1), ('bake', 1), ('arsenals', 1), ('hector', 1), ('bellerin', 1), ('questioning', 1), ('regarding', 1), ('copper', 1), ('cataclysm', 1), ('bonus', 1), ('habits', 1), ('improve', 1), ('bolshevik', 1), ('monopolized', 1), ('seize', 1), ('hunhry', 1), ('artificial', 1), ('bo2', 1), ('competitive', 1), ('imo', 1), ('courtney', 1), ('laudner', 1), ('panties', 1), ('amanda', 1), ('boobs', 1), ('auz', 1), ('cst', 1), ('hrs', 1), ('hump', 1), ('blending', 1), ('httptcoafmkcfn1tl', 1), ('attend', 1), ('kenye', 1), ('bizinsider', 1), ('continuing', 1), ('competing', 1), ('takin', 1), ('bitdefender', 1), ('antivirus', 1), ('vendor', 1), ('dumbfounded', 1), ('bihar', 1), ('fails', 1), ('transact', 1), ('retail', 1), ('strategyhua', 1), ('77', 1), ('72', 1), ('67', 1), ('66', 1), ('bestseller', 1), ('fossil', 1), ('dawson', 1), ('es', 1), ('9800', 1), ('benzema', 1), ('increasingly', 1), ('benitezs', 1), ('5050', 1), ('roofers', 1), ('prompt', 1), ('courses', 1), ('beginners', 1), ('beforeitsnews', 1), ('signed', 1), ('nerve', 1), ('akito', 1), ('roses', 1), ('frothy', 1), ('gyp', 1), ('jon', 1), ('mclaughlin', 1), ('beatb2', 1), ('fremont', 1), ('852015', 1), ('652', 1), ('15000270364', 1), ('beastin', 1), ('tapas', 1), ('folk', 1), ('kits', 1), ('alertness', 1), ('esp', 1), ('sudden', 1), ('cometh', 1), ('thy', 1), ('appalled', 1), ('heavens', 1), ('shocked', 1), ('lordfor', 1), ('committed', 1), ('evils', 1), ('bcc', 1), ('increases', 1), ('commentating', 1), ('decis', 1), ('mav', 1), ('goats', 1), ('wilson', 1), ('karaman', 1), ('brendan', 1), ('gawlowski', 1), ('phenomenal', 1), ('baltimore', 1), ('nort', 1), ('ballina', 1), ('sighting', 1), ('described', 1), ('ireland', 1), ('sadtraumatised', 1), ('freezing', 1), ('parisian', 1), ('babe', 1), ('roomsgrrrr', 1), ('aya', 1), ('kanos', 1), ('ay', 1), ('axwave', 1), ('enables', 1), ('accurate', 1), ('simulation', 1), ('surveys', 1), ('medium', 1), ('awwww', 1), ('walter', 1), ('aw', 1), ('apollo', 1), ('mash', 1), ('blues', 1), ('sunset', 1), ('allay', 1), ('rio', 1), ('equestrian', 1), ('michele', 1), ('rosenthalauthor', 1), ('authentic', 1), ('pochette', 1), ('bosphore', 1), ('auth', 1), ('saumur', 1), ('723', 1), ('4193', 1), ('marge', 1), ('eheks', 1), ('hundredodd', 1), ('pilgrims', 1), ('unimpressed', 1), ('calhoun', 1), ('station', 1), ('nrc', 1), ('abortion', 1), ('organ', 1), ('harvesting', 1), ('pt1', 1), ('aubrey', 1), ('educators', 1), ('fl', 1), ('rchs', 1), ('coffins', 1), ('locker', 1), ('rooms', 1), ('tommorow', 1), ('agencies', 1), ('inc', 1), ('aspiring', 1), ('writer', 1), ('asics', 1), ('gtii', 1), ('ronnie', 1), ('fieg', 1), ('kith', 1), ('3m', 1), ('gel', 1), ('grey', 1), ('rampant', 1), ('humiliate', 1), ('rival', 1), ('maths', 1), ('liverpool', 1), ('6month', 1), ('662', 1), ('114', 1), ('jackman', 1), ('detroitthe', 1), ('downgraded', 1), ('square', 1), ('names', 1), ('iraq', 1), ('deployments', 1), ('averted', 1), ('patronultimalucha', 1), ('users', 1), ('improvements', 1), ('198', 1), ('scotland', 1), ('ripping', 1), ('apart', 1), ('contest', 1), ('dilawri', 1), ('7a730p', 1), ('siena', 1), ('apples', 1), ('momentum', 1), ('bites', 1), ('announce', 1), ('dull', 1), ('monotonous', 1), ('exclusion', 1), ('httptco3zql0qbluwnuclear', 1), ('mateo', 1), ('addition', 1), ('travelling', 1), ('aberystwythshrewsbury', 1), ('halt', 1), ('shrews', 1), ('pu', 1), ('hybrid', 1), ('slayer', 1), ('hmu', 1), ('andy', 1), ('being', 1), ('lengths', 1), ('syfy', 1), ('answertherefore', 1), ('sixteenth', 1), ('casualtygray', 1), ('pacific', 1), ('critically', 1), ('drone', 1), ('vulnhttpstcooxxrnab8un', 1), ('0802pm', 1), ('thankfully', 1), ('command', 1), ('wom', 1), ('acid', 1), ('vessel', 1), ('stored', 1), ('httptcoutigx9psry', 1), ('audience', 1), ('herthat', 1), ('1600yearold', 1), ('stone', 1), ('jungle', 1), ('messed', 1), ('wedne', 1), ('sprinter', 1), ('automatic', 1), ('frontline', 1), ('lez', 1), ('compliant', 1), ('renderingscarl', 1), ('gallups', 1), ('biltz', 1), ('weigh', 1), ('nephew', 1), ('marie', 1), ('therese', 1), ('dominguez', 1), ('administrator', 1), ('pipelines', 1), ('phmsa', 1), ('allergan', 1), ('kicks', 1), ('refresh', 1), ('drops', 1), ('allen', 1), ('notified', 1), ('bros', 1), ('alhaji', 1), ('sha', 1), ('ibeto', 1), ('cement', 1), ('competitor', 1), ('107', 1), ('minions', 1), ('alaskas', 1), ('alexander', 1), ('plummeted', 1), ('ebolacase', 1), ('sat', 1), ('akilah', 1), ('pulls', 1), ('aids', 1), ('ahrar', 1), ('sham', 1), ('negotiations', 1), ('sunnis', 1), ('ahh', 1), ('headphones', 1), ('ayhhhhhdjjfjrjjrdjjeks', 1), ('ahmazing', 1), ('seeks', 1), ('agalloch', 1), ('wiedemer', 1), ('streaming', 1), ('coaster', 1), ('disclaimer', 1), ('few', 1), ('bonner', 1), ('scalabrine', 1), ('after', 1), ('recordhigh', 1), ('highestranking', 1), ('plague', 1), ('hunter', 1), ('hayes', 1), ('antebellum', 1), ('perform', 1), ('officer', 1), ('pio', 1), ('monday', 1), ('tabloids', 1), ('cilla', 1), ('couldve', 1), ('titanic', 1), ('iceberg', 1), ('prophecy', 1), ('gadgets', 1), ('combining', 1), ('gallup', 1), ('likely', 1), ('i24', 1), ('8m', 1), ('293', 1), ('eddy', 1), ('nh3a', 1), ('delay', 1), ('sr', 1), ('752', 1), ('patp', 1), ('pa18', 1), ('cranberry', 1), ('acc', 1), ('conducted', 1), ('skims', 1), ('morethan', 1), ('disorders', 1), ('21day', 1), ('aashiqui', 1), ('anu', 1), ('aggarwal', 1), ('nearfatal', 1), ('aannnnd', 1), ('communicate', 1), ('asks', 1), ('whistleblower', 1), ('httptcoipwysnik0g', 1), ('marrie', 1), ('wbre', 1), ('wyou', 1), ('dirt', 1), ('france', 1), ('timelapse', 1), ('isao', 1), ('hashimoto', 1), ('httpstcov0t8h4iecc', 1), ('tale', 1), ('pox', 1), ('legit', 1), ('segment', 1), ('vhs', 1), ('anthology', 1), ('pokemon', 1), ('midi', 1), ('midfield', 1), ('soni', 1), ('soner', 1), ('hardwell', 1), ('remake', 1), ('flp', 1), ('r3do', 1), ('mended', 1), ('fingerwhen', 1), ('finger', 1), ('immediate', 1), ('perished', 1), ('holodomor', 1), ('erected', 1), ('capital', 1), ('dambisa', 1), ('moyo', 1), ('afrikaan', 1), ('designs', 1), ('greatly', 1), ('filming', 1), ('faminemega', 1), ('0840728httptcopdiit0af3qdynamix', 1), ('demoness', 1), ('beckoning', 1), ('chim', 1), ('inspi', 1), ('undone', 1), ('adverse', 1), ('scout', 1), ('created', 1), ('retweetfollow', 1), ('rtfollowbackgain', 1), ('ganseyman', 1), ('vid150806', 1), ('youku', 1), ('httptcow7yezkqlcj', 1), ('seriousnow', 1), ('admins', 1), ('volatile', 1), ('removedquarantined', 1), ('182245', 1), ('ibaraki', 1), ('prefecture', 1), ('offing', 1), ('m55', 1), ('60km', 1), ('rjailbreak', 1), ('lowers', 1), ('tuition', 1), ('jaxmk2', 1), ('fatalityuudlk', 1), ('biz', 1), ('topdown', 1), ('coercion', 1), ('weakness', 1), ('ensuring', 1), ('dancing', 1), ('104527jst', 1), ('aug06first', 1), ('m41', 1), ('chiba', 1), ('pref', 1), ('3581408', 1), ('max', 1), ('such', 1), ('dayand', 1), ('mineits', 1), ('redeemer', 1), ('fanslet', 1), ('spread', 1), ('retweeting', 1), ('blow', 1), ('suspense', 1), ('importantly', 1), ('throwback', 1), ('gents', 1), ('bracelet', 1), ('fukushimatepcofukushima', 1), ('integrative', 1), ('answershttptco7y2gnva2ev', 1), ('stockholm', 1), ('sweden', 1), ('copperfields', 1), ('circular', 1), ('frusciante', 1), ('whipped', 1), ('disagreements', 1), ('occurrence', 1), ('stack', 1), ('dvds', 1), ('justice', 1), ('income', 1), ('20yrs', 1), ('houston', 1), ('variation', 1), ('counters', 1), ('rude', 1), ('directory', 1), ('pilot', 1), ('knob', 1), ('strict', 1), ('philip', 1), ('admired', 1), ('itunes', 1), ('915', 1), ('flex', 1), ('reverse', 1), ('gains', 1), ('renewables', 1), ('guardrails', 1), ('spammers', 1), ('canyon', 1), ('ropes', 1), ('angers', 1), ('gimme', 1), ('creamy', 1), ('yea', 1), ('faints', 1), ('basic', 1), ('blamed', 1), ('diablo', 1), ('themed', 1), ('westmarch', 1), ('arreat', 1), ('directing', 1), ('recognition', 1), ('corpse', 1), ('jittering', 1), ('teleported', 1), ('stays', 1), ('decides', 1), ('outburst', 1), ('aggression', 1), ('sux', 1), ('yankees', 1), ('collectibles', 1), ('sucked', 1), ('until', 1), ('app', 1), ('involved', 1), ('killings', 1), ('marinading', 1), ('beaten', 1), ('ra', 1), ('ghul', 1), ('escaped', 1), ('helphorses', 1), ('dieplease', 1), ('petitiontake', 1), ('scotus', 1), ('ruling', 1), ('mess', 1), ('withpotus', 1), ('aaaaaaallll', 1), ('medic', 1), ('supplies', 1), ('dads', 1), ('fckng', 1), ('bowl', 1), ('verrry', 1), ('derivative', 1), ('formula', 1), ('agw', 1), ('denial', 1), ('agreeshe', 1), ('isi', 1), ('blaming', 1), ('notion', 1), ('political', 1), ('seemly', 1), ('voter', 1), ('beliefs', 1), ('sarcasm', 1), ('narcissism', 1), ('tink', 1), ('thx', 1), ('dec', 1), ('h20', 1), ('deploy', 1), ('thorgan', 1), ('gladbach', 1), ('banana', 1), ('peculiar', 1), ('compliment', 1), ('headspace', 1), ('provides', 1), ('sabrina', 1), ('cage', 1), ('applied', 1), ('jew', 1), ('significance', 1), ('cuffed', 1), ('manga', 1), ('triangle', 1), ('swiming', 1), ('smelltaste', 1), ('doingahhhthat', 1), ('optimistic', 1), ('pivot', 1), ('relax', 1), ('justdepressing', 1), ('freaking', 1), ('nit', 1), ('extracting', 1), ('signs', 1), ('tf', 1), ('midmorning', 1), ('claimed', 1), ('motorcycle', 1), ('tdog', 1), ('holed', 1), ('apartment', 1), ('glenn', 1), ('morales', 1), ('andrea', 1), ('jacqui', 1), ('merle', 1), ('sweeping', 1), ('raps', 1), ('meeks', 1), ('stunningly', 1), ('pitcher', 1), ('bats', 1), ('mia', 1), ('stannis', 1), ('yell', 1), ('moms', 1), ('daughters', 1), ('demonstrated', 1), ('pitchers', 1), ('gracefully', 1), ('arm', 1), ('specs', 1), ('lore', 1), ('oppressed', 1), ('slicker', 1), ('cancelled', 1), ('sigh', 1), ('vanessa', 1), ('smfh', 1), ('cya', 1), ('hanayo', 1), ('helios', 1), ('sabotagei', 1), ('weisberg', 1), ('gat', 1), ('kiddie', 1), ('tone', 1), ('cont', 1), ('spending', 1), ('skype', 1), ('farmers', 1), ('capitalism', 1), ('failed', 1), ('peoplegt', 1), ('pull', 1), ('holmes', 1), ('puckflattened', 1), ('ambition', 1), ('gig', 1), ('inform', 1), ('accurately', 1), ('reflects', 1), ('breaks', 1), ('mistreated', 1), ('ooooohshit', 1), ('ooohshit', 1), ('sirensamp', 1), ('lemonade', 1), ('semi', 1), ('idek', 1), ('aaron', 1), ('tail', 1), ('slowly', 1), ('espresso', 1), ('poss', 1), ('busiest', 1), ('yessss', 1), ('bangin', 1), ('newport', 1), ('jackie', 1), ('bristol', 1), ('appreciated', 1), ('shortsideness', 1), ('graf', 1), ('obvious', 1), ('backtracking', 1), ('protected', 1), ('nuff', 1), ('tweeting', 1), ('joshua', 1), ('rape', 1), ('lured', 1), ('fanbase', 1), ('wod', 1), ('disappointed', 1), ('hardcore', 1), ('received', 1), ('dangeri', 1), ('vichardy', 1), ('freeman', 1), ('practicing', 1), ('berahino', 1), ('slowed', 1), ('prob', 1), ('1000amp1000', 1), ('indianperpetrated', 1), ('protecting', 1), ('foul', 1), ('sunkcost', 1), ('disposition', 1), ('wbu', 1), ('nearlyfatal', 1), ('pee', 1), ('francisco', 1), ('defenseless', 1), ('debbie', 1), ('foreskin', 1), ('trick', 1), ('nasty', 1), ('gaining', 1), ('ability', 1), ('fave', 1), ('grandfather', 1), ('marines', 1), ('95', 1), ('predictions', 1), ('emotions', 1), ('aquarius', 1), ('queenmy', 1), ('pretenses', 1), ('overturesplease', 1), ('phantom', 1), ('songfor', 1), ('amirite', 1), ('molly', 1), ('moi', 1), ('cest', 1), ('plutot', 1), ('heartbreak', 1), ('ufhguhfidt', 1), ('renewed', 1), ('mencius', 1), ('correct', 1), ('capable', 1), ('finland', 1), ('rosatom', 1), ('bricktop', 1), ('theyve', 1), ('kno', 1), ('mahalo', 1), ('nui', 1), ('loa', 1), ('20s', 1), ('harmkid', 1), ('tasty', 1), ('erosion', 1), ('crumbly', 1), ('topic', 1), ('xoxo', 1), ('disasterhospital', 1), ('recently', 1), ('lmfaooo', 1), ('nawh', 1), ('smithsonian', 1), ('everythign', 1), ('mcpherson', 1), ('wtm', 1), ('breath', 1), ('lillys', 1), ('hacked', 1), ('ahhhhh', 1), ('alec', 1), ('tort', 1), ('comp', 1), ('laws', 1), ('mh', 1), ('dope', 1), ('dopest', 1), ('leos', 1), ('metaphorically', 1), ('quivk', 1), ('leaveevacuateexitbe', 1), ('banished', 1), ('target', 1), ('daysweeks', 1), ('streams', 1), ('rrs', 1), ('script', 1), ('reset', 1), ('citation', 1), ('possesion', 1), ('decriminalized', 1), ('substance', 1), ('jump', 1), ('cheering', 1), ('flip', 1), ('jaybig', 1), ('lpunbiggiewrap', 1), ('overzero', 1), ('questionfatalityflawless', 1), ('sketchbook', 1), ('biting', 1), ('mask', 1), ('howre', 1), ('somethin', 1), ('closest', 1), ('hypo', 1), ('umntu', 1), ('wakho', 1), ('honor', 1), ('gorgeous', 1), ('disturbing', 1), ('slander', 1), ('grimrail', 1), ('depot', 1), ('cell', 1), ('moral', 1), ('relevance', 1), ('oppressions', 1), ('greatest', 1), ('httpstcomoll5vd8yd', 1), ('hush', 1), ('hushhes', 1), ('snctions', 1), ('incl', 1), ('miltary150bilno', 1), ('inspctkps', 1), ('hostagesthrosw', 1), ('gutrkps', 1), ('nuke', 1), ('hlps', 1), ('wnukes', 1), ('ray', 1), ('comprehensive', 1), ('xb1', 1), ('abide', 1), ('codes', 1), ('osha', 1), ('codesstructurs', 1), ('ight', 1), ('hei', 1), ('darker', 1), ('blueprint', 1), ('advertise', 1), ('freshers', 1), ('unprepared', 1), ('idkidk', 1), ('although', 1), ('solo', 1), ('idki', 1), ('sterotypical', 1), ('annddd', 1), ('colorism', 1), ('prevalent', 1), ('realization', 1), ('span', 1), ('imsort', 1), ('fonts', 1), ('otl', 1), ('oth', 1), ('hogging', 1), ('realm', 1), ('jealous', 1), ('elgato', 1), ('bday', 1), ('ram', 1), ('shove', 1), ('pillows', 1), ('muffle', 1), ('pleasure', 1), ('ffvii', 1), ('exclamation', 1), ('midweek', 1), ('dig', 1), ('xmen', 1), ('franchise', 1), ('theme', 1), ('honest', 1), ('rampage', 1), ('cainsuch', 1), ('about', 1), ('rom', 1), ('glue', 1), ('halloween', 1), ('consulted', 1), ('shouldve', 1), ('orpik', 1), ('lungs', 1), ('sa', 1), ('skipping', 1), ('meltdowni', 1), ('submitting', 1), ('bb', 1), ('blessed', 1), ('meansit', 1), ('winning', 1), ('presbad', 1), ('math', 1), ('pony', 1), ('hitchbot', 1), ('superstar', 1), ('finished', 1), ('32', 1), ('inch', 1), ('dynasty', 1), ('forsure', 1), ('dtb', 1), ('watchout', 1), ('oversee', 1), ('romero', 1), ('cared', 1), ('hutch', 1), ('absurd', 1), ('satire', 1), ('indistinguishable', 1), ('seemed', 1), ('pages', 1), ('cosits', 1), ('hassle', 1), ('congratulations', 1), ('caroline', 1), ('bigsby', 1), ('hyukkie', 1), ('chullie', 1), ('eunhae', 1), ('hangarback', 1), ('walkers', 1), ('opponent', 1), ('infinite', 1), ('scum', 1), ('exited', 1), ('enthusiastic', 1), ('recognised', 1), ('performing', 1), ('arts', 1), ('simon', 1), ('asap', 1), ('teamo', 1), ('supremo', 1), ('pogo', 1), ('bak', 1), ('hehe', 1), ('na', 1), ('brotherboyfriend', 1), ('mdva', 1), ('urine', 1), ('hazardwillian', 1), ('shifted', 1), ('lich', 1), ('winnable', 1), ('approval', 1), ('cantona', 1), ('pepe', 1), ('lashed', 1), ('depay', 1), ('ozil', 1), ('ritchie', 1), ('should', 1), ('strikers', 1), ('midfielders', 1), ('noticed', 1), ('hardly', 1), ('hoping', 1), ('labour', 1), ('xxx', 1), ('alrightbut', 1), ('greed', 1), ('selfdestruction', 1), ('grandpa', 1), ('fought', 1), ('eurpoe', 1), ('mustered', 1), ('guam', 1), ('islandsbounce', 1), ('bills', 1), ('upa', 1), ('nda', 1), ('kamon', 1), ('gabriel', 1), ('fibula', 1), ('cole', 1), ('frickin', 1), ('humidity', 1), ('reworked', 1), ('glitter', 1), ('httptcoedbxyatmaq', 1), ('lennox', 1), ('hill', 1), ('revs', 1), ('foi', 1), ('roh', 1), ('procura', 1), ('pirate', 1), ('tem', 1), ('expertise', 1), ('cornwalls', 1), ('finest', 1), ('lpomampm', 1), ('greek', 1), ('laced', 1), ('monologue', 1), ('charlize', 1), ('coulda', 1), ('establishment', 1), ('rinse', 1), ('editor', 1), ('dw', 1), ('chipper', 1), ('lan', 1), ('lvg', 1), ('spurs', 1), ('smaller', 1), ('lcb', 1), ('cl', 1), ('manners', 1), ('jfc', 1), ('core', 1), ('unstablethe', 1), ('pedagogypractice', 1), ('environment', 1), ('havoc', 1), ('ditto', 1), ('had', 1), ('drank', 1), ('vodka', 1), ('listenbuy', 1), ('closer', 1), ('stayed', 1), ('intact', 1), ('negate', 1), ('lloyds', 1), ('insure', 1), ('desperate', 1), ('definite', 1), ('crown', 1), ('both', 1), ('lesbian', 1), ('lesbians', 1), ('experiencing', 1), ('suh', 1), ('carpooling', 1), ('daem', 1), ('tora', 1), ('affiliation', 1), ('reddish', 1), ('colored', 1), ('dummies', 1), ('pronouncing', 1), ('continued', 1), ('60s', 1), ('transgenerational', 1), ('tribute', 1), ('assault', 1), ('enforcement', 1), ('rspca', 1), ('rescuersthe', 1), ('infomercial', 1), ('crept', 1), ('cantwont', 1), ('sec', 1), ('42', 1), ('kia', 1), ('fag', 1), ('writers', 1), ('piss', 1), ('lilourry', 1), ('stan', 1), ('zarry', 1), ('narry', 1), ('spots', 1), ('jamaica', 1), ('imagination', 1), ('institutionalstructural', 1), ('analysis', 1), ('regardless', 1), ('publish', 1), ('ozz', 1), ('slapped', 1), ('bhill', 1), ('beez', 1), ('wishes', 1), ('boo', 1), ('grill', 1), ('fkn', 1), ('pleb', 1), ('afflecki', 1), ('wifekids', 1), ('crucial', 1), ('returning', 1), ('oclock', 1), ('parade', 1), ('risky', 1), ('sincere', 1), ('straw', 1), ('liquid', 1), ('blownup', 1), ('mortem', 1), ('stripped', 1), ('brock', 1), ('dangling', 1), ('piercing', 1), ('crystals', 1), ('classes', 1), ('werewolf', 1), ('idiota', 1), ('andre', 1), ('gore', 1), ('agreed', 1), ('faces', 1), ('indifferent', 1), ('relentless', 1), ('fez', 1), ('equation', 1), ('recipe', 1), ('accepts', 1), ('wisconsin', 1), ('aaaa', 1), ('roomr', 1), ('gay', 1), ('a2', 1), ('circumstances', 1), ('opinions', 1), ('weak', 1), ('mulan', 1), ('indiayor', 1), ('cunt', 1), ('beta', 1), ('chapters', 1), ('cow', 1), ('yeeessss', 1), ('kp2', 1), ('jus', 1), ('kombatants', 1), ('kostumes', 1), ('ds', 1), ('chug', 1), ('estus', 1), ('minivan', 1), ('discuss', 1), ('socalled', 1), ('mild', 1), ('relegation', 1), ('skynet', 1), ('perhaps', 1), ('arrival', 1), ('machidadid', 1), ('fightnope', 1), ('cuddling', 1), ('so', 1), ('toxiccancerdiseasehazardous', 1), ('wastenoxious', 1), ('heroicfamine', 1), ('beats', 1), ('gt33333', 1), ('reined', 1), ('fallingoffstool', 1), ('mocked', 1), ('traces', 1), ('nazis', 1), ('pursued', 1), ('ambitions', 1), ('religion', 1), ('forgets', 1), ('illuminati', 1), ('yellowstone', 1), ('contrasts', 1), ('foreboding', 1), ('enhanced', 1), ('expansive', 1), ('divisions', 1), ('saturation', 1), ('hue', 1), ('forecast', 1), ('invasion', 1), ('raspy', 1), ('figured', 1), ('ttks', 1), ('nonsense', 1), ('bible', 1), ('jelly', 1), ('dave', 1), ('carters', 1), ('notes', 1), ('79', 1), ('jpii', 1), ('comics', 1), ('nights', 1), ('representative', 1), ('sample', 1), ('suspicious', 1), ('noooooooo', 1), ('depays', 1), ('overtake', 1), ('families', 1), ('convenient', 1), ('bury', 1), ('allegedly', 1), ('enhance', 1), ('nissan', 1), ('sond', 1), ('babality', 1), ('ig', 1), ('dell', 1), ('win10', 1), ('nuts', 1), ('flavored', 1), ('jamie', 1), ('democrats', 1), ('clintons', 1), ('meddling', 1), ('breakdown', 1), ('ww', 1), ('wew', 1), ('zerohedge', 1), ('readers', 1), ('roskomnadzor', 1), ('ridiculously', 1), ('politicized', 1), ('illegal', 1), ('hsbfuckjsj', 1), ('jokin', 1), ('manufactured', 1), ('hampered', 1), ('liking', 1), ('ella', 1), ('vickers', 1), ('washable', 1), ('cooling', 1), ('skimmed', 1), ('countering', 1), ('skewed', 1), ('hitting', 1), ('nenshi', 1), ('activate', 1), ('childhood', 1), ('resolved', 1), ('theirs', 1), ('fricken', 1), ('pullup', 1), ('teesha', 1), ('tat', 1), ('standardised', 1), ('clinical', 1), ('practice', 1), ('stump', 1), ('trp', 1), ('adsit', 1), ('mockery', 1), ('ashayo', 1), ('presentation', 1), ('predicting', 1), ('goddamn', 1), ('zack', 1), ('madsummer', 1), ('comparing', 1), ('brilliant', 1), ('arse', 1), ('careers', 1), ('abouts', 1), ('netanyahu', 1), ('flush', 1), ('understandable', 1), ('preview', 1), ('btw', 1), ('30th', 1), ('1986', 1), ('marks', 1), ('avast', 1), ('andals', 1), ('metrobus', 1), ('nosports', 1), ('top25', 1), ('competence', 1), ('soc', 1), ('democratic', 1), ('protest', 1), ('delivery', 1), ('a27', 1), ('lewes', 1), ('kingston', 1), ('roundabout', 1), ('a283', 1), ('groaning', 1), ('harden', 1), ('flopping', 1), ('identical', 1), ('thalapathi', 1), ('commons', 1), ('ownership', 1), ('plastic', 1), ('beads', 1), ('cosmetics', 1), ('scrubs', 1), ('toothpaste', 1), ('aquatic', 1), ('ecosystems', 1), ('whiv', 1), ('ouch', 1), ('explain', 1), ('nyclass', 1), ('500k', 1), ('mailer', 1), ('crescent', 1), ('formation', 1), ('trails', 1), ('mwednesday', 1), ('shaking', 1), ('fringe', 1), ('guessing', 1), ('envision', 1), ('adoption', 1), ('substantial', 1), ('glononium', 1), ('6c', 1), ('bashing', 1), ('nitroglycerin', 1), ('balding', 1), ('imperfect', 1), ('marine', 1), ('emo', 1), ('generic', 1), ('seasons', 1), ('msg', 1), ('pax', 1), ('operate', 1), ('outskirts', 1), ('fixing', 1), ('atw', 1), ('platinum', 1), ('hella', 1), ('mosh', 1), ('forfeiting', 1), ('sight', 1), ('arriving', 1), ('ridah', 1), ('poisoning', 1), ('melt', 1), ('mustve', 1), ('aiden', 1), ('programme', 1), ('favorited', 1), ('kitties', 1), ('shitalright', 1), ('mission', 1), ('expert', 1), ('raw', 1), ('uranium', 1), ('rods', 1), ('creatures', 1), ('payment', 1), ('noweven', 1), ('camped', 1), ('redcliffe', 1), ('aidan', 1), ('shush', 1), ('poster', 1), ('quarters', 1), ('modi', 1), ('zeros', 1), ('pilloried', 1), ('saku', 1), ('genitals', 1), ('notley', 1), ('heartlandharper', 1), ('tens', 1), ('tfw', 1), ('slaves', 1), ('coefficient', 1), ('plz', 1), ('lakes', 1), ('ohio', 1), ('abject', 1), ('subway', 1), ('restaurants', 1), ('730', 1), ('wanother', 1), ('athlete', 1), ('principle', 1), ('fulfilling', 1), ('clerical', 1), ('duties', 1), ('7speed', 1), ('nexus', 1), ('shifter', 1), ('bike', 1), ('manservant', 1), ('pampered', 1), ('wealthy', 1), ('brit', 1), ('reversal', 1), ('farther', 1), ('included', 1), ('screeching', 1), ('accompanying', 1), ('lokis', 1), ('daggers', 1), ('jammed', 1), ('minas', 1), ('thigh', 1), ('mina', 1), ('grabbed', 1), ('sif', 1), ('shouted', 1), ('informed', 1), ('ai', 1), ('primarily', 1), ('agrees', 1), ('barn', 1), ('shirtless', 1), ('trusted', 1), ('reckless', 1), ('zar', 1), ('cringes', 1), ('marek', 1), ('slaps', 1), ('screamsdont', 1), ('scare', 1), ('animatronics', 1), ('666', 1), ('returns', 1), ('herrelax', 1), ('corn', 1), ('flakes', 1), ('absol', 1), ('noises', 1), ('twisted', 1), ('blankets', 1), ('sheets', 1), ('stablize', 1), ('manor', 1), ('anyways', 1), ('perrie', 1), ('sansa', 1), ('blinked', 1), ('ner', 1), ('quarter', 1), ('offline', 1), ('hinata', 1), ('ltgaspgt', 1), ('discovery', 1), ('visualise', 1), ('patients', 1), ('violation', 1), ('ppe', 1), ('praying', 1), ('healing', 1), ('hr', 1), ('stil', 1), ('mraffleck', 1), ('lickin', 1), ('donuts', 1), ('hazardu', 1), ('jail', 1), ('motorways', 1), ('2reduce', 1), ('fumes', 1), ('ahhhh', 1), ('areva', 1), ('worldbest', 1), ('g7', 1), ('g20best', 1), ('led', 1), ('2008', 1), ('meltdownwhat', 1), ('fj', 1), ('papi', 1), ('welcoming', 1), ('growth', 1), ('feeble', 1), ('backup', 1), ('southaccident', 1), ('langtree', 1), ('rdconsider', 1), ('115', 1), ('80', 1), ('faculty', 1), ('pushing', 1), ('protesters', 1), ('862015108', 1), ('wrightsboro', 1), ('mtech', 1), ('assisted', 1), ('knife', 1), ('mta801bl', 1), ('zix', 1), ('groceries', 1), ('aching', 1), ('713pm', 1), ('lougheed', 1), ('203rd', 1), ('dewdney', 1), ('eto', 1), ('800', 1), ('900', 1), ('7beyonce', 1), ('zhejiang', 1), ('1200', 1), ('crosses', 1), ('627', 1), ('striked', 1), ('otm', 1), ('6beyonce', 1), ('50k', 1), ('delirious', 1), ('remix', 1), ('rejected', 1), ('stretched', 1), ('boundaries', 1), ('sibling', 1), ('printable', 1), ('templateshttptconaex0q1ax0', 1), ('320', 1), ('icemoon', 1), ('excessive', 1), ('engine', 1), ('constantly', 1), ('emerging', 1), ('defects', 1), ('phew', 1), ('marketers', 1), ('marketer', 1), ('happily', 1), ('bedrooms', 1), ('baths', 1), ('httptcoqms8rressdyoutube', 1), ('2leezy', 1), ('grabbing', 1), ('organizations', 1), ('realtime', 1), ('threats', 1), ('twentysix', 1), ('kamayani', 1), ('janata', 1), ('madhya', 1), ('pradesh', 1), ('ex', 1), ('gratia', 1), ('announced', 1), ('22beyonce', 1), ('216', 1), ('rowl', 1), ('rowaa', 1), ('unharmed', 1), ('nationals', 1), ('licensed', 1), ('produc', 1), ('bovines', 1), ('smugglersnabbed', 1), ('17beyonce', 1), ('stylishly', 1), ('13000', 1), ('receive', 1), ('12beyonce', 1), ('ta', 1), ('toes', 1), ('thinkin', 1), ('yal', 1), ('ain', 1), ('finna', 1), ('payday', 1), ('promote', 1), ('finance', 1), ('liqd', 1), ('1130bst', 1), ('a10gtparis', 1), ('a40', 1), ('geneva', 1), ('a7', 1), ('mons', 1), ('hamburg', 1), ('a2gthanover', 1), ('a5', 1), ('karlsruhe', 1), ('gotthard', 1), ('119', 1), ('sri', 1), ('lankas', 1), ('11000', 1), ('seeds', 1), ('gear', 1), ('mre', 1), ('sh', 1), ('sided', 1), ('linerless', 1), ('caps', 1), ('choose', 1), ('10monthold', 1), ('coastguard', 1), ('martial', 1), ('0npzp', 1), ('0913', 1), ('httptcoed1vpitswy', 1), ('08315', 1), ('utica', 1), ('pleasant', 1), ('aveblack', 1), ('paws', 1), ('average', 1), ('04', 1), ('axle', 1), ('2055271', 1), ('0day', 1), ('bug', 1), ('patched', 1), ('os', 1), ('active', 1), ('exploit', 1), ('bypass', 1), ('password', 1), ('ars', 1), ('technica', 1), ('distance', 1), ('gtlt', 1), ('hsu', 1), ('hao', 1), ('just', 1), ('flawless', 1), ('strategy', 1), ('idp', 1), ('westmdcountypa', 1), ('bank', 1), ('20th', 1), ('uriminzok', 1), ('puppet', 1), ('naemolgo', 1), ('firmly', 1), ('yiraneuni', 1), ('ronfunches', 1), ('wrestling', 1), ('ron', 1), ('funches', 1), ('robdelaney', 1), ('unable', 1), ('ejaculating', 1), ('peterduttonmp', 1), ('integrity', 1), ('borders', 1), ('mlsudders', 1), ('kurtschlichter', 1), ('yep', 1), ('kumailn', 1), ('janeannmorrison', 1), ('answers', 1), ('greenbuildermag', 1), ('mitigation', 1), ('819', 1), ('davidcameron', 1), ('upsetting', 1), ('dantwitty52', 1), ('shuts', 1), ('eighth', 1), ('bigperm28', 1), ('drafted', 1), ('2005', 1), ('overall', 1), ('aphl', 1), ('aiginsurance', 1), ('divestitures', 1), ('losses', 1), ('temper', 1), ('q2', 1), ('drayesha4', 1), ('ki', 1), ('orphanage', 1), ('obviously', 1), ('400000800000', 1), ('ten', 1), ('jeremycorbyn', 1), ('wise', 1), ('savvy', 1), ('httptcofabsyxqlqi', 1), ('whao', 1), ('achieved', 1), ('refunds', 1), ('twos', 1), ('wheres', 1), ('avocadowaits', 1), ('patiently', 1), ('avocado', 1), ('kitana', 1), ('slay', 1), ('mekody', 1), ('dislike', 1), ('femnism', 1), ('standing', 1), ('joanns', 1), ('melittle', 1), ('girlwelp', 1), ('prodigy', 1), ('graphic', 1), ('june', 1), ('coworkers', 1), ('desk', 1), ('snickers', 1), ('jumps', 1), ('teathis', 1), ('jariana', 1), ('stans', 1), ('comin', 1), ('roundup', 1), ('shadows', 1), ('russaky89', 1), ('hyiderghost2', 1), ('fighterdena', 1), ('avysss', 1), ('rubs', 1), ('lamp', 1), ('greets', 1), ('genie', 1), ('emsc', 1), ('belt', 1), ('antichrist', 1), ('desecrates', 1), ('jerusalem', 1), ('927', 1), ('241', 1), ('touch', 1), ('giorgio', 1), ('hiatt', 1), ('intl', 1), ('collins', 1), ('extension', 1), ('damsels', 1), ('distress', 1), ('peers', 1), ('bums', 1), ('bowel', 1), ('educate', 1), ('adapt', 1), ('enterprise', 1), ('wisely', 1), ('carnage', 1), ('continuinglet', 1), ('holiday', 1), ('periodggindependencmessage', 1), ('orcas', 1), ('manmade', 1), ('reopenhttptco35jyap0ul9', 1), ('val', 1), ('severe', 1), ('dwight', 1), ('eisenhower', 1), ('belief', 1), ('painful', 1), ('bannister', 1), ('harder', 1), ('triumph', 1), ('paine', 1), ('oyster', 1), ('andrew', 1), ('carnegie', 1), ('importance', 1), ('exits', 1), ('heartbeat', 1), ('familiar', 1), ('sorrowful', 1), ('redemption', 1), ('platt', 1), ('tasted', 1), ('trusting', 1), ('apple', 1), ('mileena', 1), ('prisonlike', 1), ('conditionsprivation', 1), ('reduced', 1), ('shovel', 1), ('planted', 1), ('390', 1), ('bonsai', 1), ('manual', 1), ('quietly', 1), ('personality', 1), ('modern', 1), ('remembers', 1), ('schulz', 1), ('lender', 1), ('motordom', 1), ('lobbied', 1), ('mcfadden', 1), ('reportedly', 1), ('hamstring', 1), ('kessler', 1), ('exponential', 1), ('proliferation', 1), ('satellites', 1), ('eerie', 1), ('revealing', 1), ('aisle', 1), ('dedicated', 1), ('serbian', 1), ('director', 1), ('foods', 1), ('clothing', 1), ('section', 1), ('bounce', 1), ('winston', 1), ('churchill', 1), ('achieve', 1), ('excellence', 1), ('habit', 1), ('matters', 1), ('coat', 1), ('certainty', 1), ('groom', 1), ('dill', 1), ('pickle', 1), ('bicycle', 1), ('split', 1), ('testicles', 1), ('indiansfor', 1), ('smirking', 1), ('remorseless', 1), ('pakistani', 1), ('boasting', 1), ('how', 1), ('looming', 1), ('uncertain', 1), ('timing', 1), ('proportions', 1), ('batman', 1), ('suit', 1), ('recovered', 1), ('smothered', 1), ('cloud', 1), ('ibiza', 1), ('pill', 1), ('wsoaring', 1), ('memorieshttptcofelr5a1hbp', 1), ('headed', 1), ('standmatthew', 1), ('1232', 1), ('indoors', 1), ('arfur', 1), ('renamed', 1), ('italian', 1), ('goonda', 1), ('motley', 1), ('crowd', 1), ('hooligans', 1), ('selfavowed', 1), ('crooks', 1), ('determined', 1), ('asher', 1), ('lotm', 1), ('replacing', 1), ('curiosity', 1), ('freshness', 1), ('annoyed', 1), ('1993', 1), ('blaaaaaaa', 1), ('stomach', 1), ('vibrate', 1), ('nail', 1), ('behold', 1), ('2338', 1), ('nasb', 1), ('driven', 1), ('failing', 1), ('yield', 1), ('amateur', 1), ('reprises', 1), ('horrormoviesca', 1), ('54', 1), ('kendall', 1), ('jenner', 1), ('gd', 1), ('wsj', 1), ('adani', 1), ('phelimkine', 1), ('ma3route', 1), ('imeshika', 1), ('hapa', 1), ('mats', 1), ('aar', 1), ('ambulancewe', 1), ('piga', 1), ('kijan', 1), ('catoinstitute', 1), ('deeply', 1), ('solved', 1), ('berggrueninst', 1), ('berggruen', 1), ('institute', 1), ('as', 1), ('reopening', 1), ('xfiles', 1), ('swear', 1), ('omlette', 1), ('bye', 1), ('mining', 1), ('blocks', 1), ('indiabacked', 1), ('2002', 1), ('bail', 1), ('fife', 1), ('816', 1), ('sexthemed', 1), ('ebooks', 1), ('ihhen', 1), ('msf', 1), ('cindy', 1), ('noonancindynoonanheartbreak', 1), ('birds', 1), ('cups', 1), ('lag', 1), ('pun', 1), ('dock', 1)]\n"
          ]
        }
      ]
    },
    {
      "cell_type": "code",
      "source": [
        "cleaning_disaster_db_df[[\"label_generated\", \"choose_one\"]].value_counts(sort=False)"
      ],
      "metadata": {
        "colab": {
          "base_uri": "https://localhost:8080/"
        },
        "id": "UaV56fxF5-uZ",
        "outputId": "eef28db5-5a45-4c6e-add9-cbfaa4cbd1f2"
      },
      "execution_count": 45,
      "outputs": [
        {
          "output_type": "execute_result",
          "data": {
            "text/plain": [
              "label_generated          choose_one  \n",
              "Don't defined            Can't Decide     803\n",
              "                         Not Relevant    2068\n",
              "                         Relevant         595\n",
              "disaster with earth      Can't Decide      69\n",
              "                         Not Relevant      89\n",
              "                         Relevant          93\n",
              "disaster with fire       Can't Decide     291\n",
              "                         Not Relevant     419\n",
              "                         Relevant         528\n",
              "disaster with lightning  Can't Decide     293\n",
              "                         Not Relevant     508\n",
              "                         Relevant         468\n",
              "disaster with weapons    Can't Decide     706\n",
              "                         Not Relevant    1129\n",
              "                         Relevant         918\n",
              "disaster with wind       Can't Decide     144\n",
              "                         Not Relevant     198\n",
              "                         Relevant         228\n",
              "dtype: int64"
            ]
          },
          "metadata": {},
          "execution_count": 45
        }
      ]
    },
    {
      "cell_type": "code",
      "source": [
        "cleaning_disaster_db_df[[\"cleaning_text_v3\", \"label_generated\", \"choose_one\", \"confidence\"]].head(10)"
      ],
      "metadata": {
        "colab": {
          "base_uri": "https://localhost:8080/",
          "height": 363
        },
        "id": "zFAGBZkwBcGZ",
        "outputId": "98658d46-6021-4e37-a4b7-1b89eba927c4"
      },
      "execution_count": 46,
      "outputs": [
        {
          "output_type": "execute_result",
          "data": {
            "text/plain": [
              "                                       cleaning_text_v3  \\\n",
              "1394   new ladies shoulder tote faux leather hobo pu...   \n",
              "9663                                            join in   \n",
              "2351  mgnafrica pin263789f4  correction tent collaps...   \n",
              "4006  only sea knows many dead user last disaster tu...   \n",
              "1414   new ladies shoulder tote faux leather hobo pu...   \n",
              "5410                        reopens hours truck fire in   \n",
              "1416   new ladies shoulder tote faux leather hobo pu...   \n",
              "5420  we help says denver firefighter working curb f...   \n",
              "8990    sexist peer review causes storm online via user   \n",
              "6293  ransomware holds bc mans computer files hostag...   \n",
              "\n",
              "            label_generated    choose_one  confidence  \n",
              "1394          Don't defined  Not Relevant      1.0000  \n",
              "9663          Don't defined  Not Relevant      0.8006  \n",
              "2351    disaster with earth  Can't Decide      0.6018  \n",
              "4006  disaster with weapons      Relevant      1.0000  \n",
              "1414          Don't defined  Not Relevant      1.0000  \n",
              "5410     disaster with fire      Relevant      1.0000  \n",
              "1416          Don't defined  Not Relevant      1.0000  \n",
              "5420     disaster with fire      Relevant      1.0000  \n",
              "8990     disaster with wind  Can't Decide      0.6027  \n",
              "6293     disaster with fire  Can't Decide      0.5970  "
            ],
            "text/html": [
              "\n",
              "  <div id=\"df-0f0c2fac-45fb-4f56-b67e-9b4ff5cd5a9a\">\n",
              "    <div class=\"colab-df-container\">\n",
              "      <div>\n",
              "<style scoped>\n",
              "    .dataframe tbody tr th:only-of-type {\n",
              "        vertical-align: middle;\n",
              "    }\n",
              "\n",
              "    .dataframe tbody tr th {\n",
              "        vertical-align: top;\n",
              "    }\n",
              "\n",
              "    .dataframe thead th {\n",
              "        text-align: right;\n",
              "    }\n",
              "</style>\n",
              "<table border=\"1\" class=\"dataframe\">\n",
              "  <thead>\n",
              "    <tr style=\"text-align: right;\">\n",
              "      <th></th>\n",
              "      <th>cleaning_text_v3</th>\n",
              "      <th>label_generated</th>\n",
              "      <th>choose_one</th>\n",
              "      <th>confidence</th>\n",
              "    </tr>\n",
              "  </thead>\n",
              "  <tbody>\n",
              "    <tr>\n",
              "      <th>1394</th>\n",
              "      <td>new ladies shoulder tote faux leather hobo pu...</td>\n",
              "      <td>Don't defined</td>\n",
              "      <td>Not Relevant</td>\n",
              "      <td>1.0000</td>\n",
              "    </tr>\n",
              "    <tr>\n",
              "      <th>9663</th>\n",
              "      <td>join in</td>\n",
              "      <td>Don't defined</td>\n",
              "      <td>Not Relevant</td>\n",
              "      <td>0.8006</td>\n",
              "    </tr>\n",
              "    <tr>\n",
              "      <th>2351</th>\n",
              "      <td>mgnafrica pin263789f4  correction tent collaps...</td>\n",
              "      <td>disaster with earth</td>\n",
              "      <td>Can't Decide</td>\n",
              "      <td>0.6018</td>\n",
              "    </tr>\n",
              "    <tr>\n",
              "      <th>4006</th>\n",
              "      <td>only sea knows many dead user last disaster tu...</td>\n",
              "      <td>disaster with weapons</td>\n",
              "      <td>Relevant</td>\n",
              "      <td>1.0000</td>\n",
              "    </tr>\n",
              "    <tr>\n",
              "      <th>1414</th>\n",
              "      <td>new ladies shoulder tote faux leather hobo pu...</td>\n",
              "      <td>Don't defined</td>\n",
              "      <td>Not Relevant</td>\n",
              "      <td>1.0000</td>\n",
              "    </tr>\n",
              "    <tr>\n",
              "      <th>5410</th>\n",
              "      <td>reopens hours truck fire in</td>\n",
              "      <td>disaster with fire</td>\n",
              "      <td>Relevant</td>\n",
              "      <td>1.0000</td>\n",
              "    </tr>\n",
              "    <tr>\n",
              "      <th>1416</th>\n",
              "      <td>new ladies shoulder tote faux leather hobo pu...</td>\n",
              "      <td>Don't defined</td>\n",
              "      <td>Not Relevant</td>\n",
              "      <td>1.0000</td>\n",
              "    </tr>\n",
              "    <tr>\n",
              "      <th>5420</th>\n",
              "      <td>we help says denver firefighter working curb f...</td>\n",
              "      <td>disaster with fire</td>\n",
              "      <td>Relevant</td>\n",
              "      <td>1.0000</td>\n",
              "    </tr>\n",
              "    <tr>\n",
              "      <th>8990</th>\n",
              "      <td>sexist peer review causes storm online via user</td>\n",
              "      <td>disaster with wind</td>\n",
              "      <td>Can't Decide</td>\n",
              "      <td>0.6027</td>\n",
              "    </tr>\n",
              "    <tr>\n",
              "      <th>6293</th>\n",
              "      <td>ransomware holds bc mans computer files hostag...</td>\n",
              "      <td>disaster with fire</td>\n",
              "      <td>Can't Decide</td>\n",
              "      <td>0.5970</td>\n",
              "    </tr>\n",
              "  </tbody>\n",
              "</table>\n",
              "</div>\n",
              "      <button class=\"colab-df-convert\" onclick=\"convertToInteractive('df-0f0c2fac-45fb-4f56-b67e-9b4ff5cd5a9a')\"\n",
              "              title=\"Convert this dataframe to an interactive table.\"\n",
              "              style=\"display:none;\">\n",
              "        \n",
              "  <svg xmlns=\"http://www.w3.org/2000/svg\" height=\"24px\"viewBox=\"0 0 24 24\"\n",
              "       width=\"24px\">\n",
              "    <path d=\"M0 0h24v24H0V0z\" fill=\"none\"/>\n",
              "    <path d=\"M18.56 5.44l.94 2.06.94-2.06 2.06-.94-2.06-.94-.94-2.06-.94 2.06-2.06.94zm-11 1L8.5 8.5l.94-2.06 2.06-.94-2.06-.94L8.5 2.5l-.94 2.06-2.06.94zm10 10l.94 2.06.94-2.06 2.06-.94-2.06-.94-.94-2.06-.94 2.06-2.06.94z\"/><path d=\"M17.41 7.96l-1.37-1.37c-.4-.4-.92-.59-1.43-.59-.52 0-1.04.2-1.43.59L10.3 9.45l-7.72 7.72c-.78.78-.78 2.05 0 2.83L4 21.41c.39.39.9.59 1.41.59.51 0 1.02-.2 1.41-.59l7.78-7.78 2.81-2.81c.8-.78.8-2.07 0-2.86zM5.41 20L4 18.59l7.72-7.72 1.47 1.35L5.41 20z\"/>\n",
              "  </svg>\n",
              "      </button>\n",
              "      \n",
              "  <style>\n",
              "    .colab-df-container {\n",
              "      display:flex;\n",
              "      flex-wrap:wrap;\n",
              "      gap: 12px;\n",
              "    }\n",
              "\n",
              "    .colab-df-convert {\n",
              "      background-color: #E8F0FE;\n",
              "      border: none;\n",
              "      border-radius: 50%;\n",
              "      cursor: pointer;\n",
              "      display: none;\n",
              "      fill: #1967D2;\n",
              "      height: 32px;\n",
              "      padding: 0 0 0 0;\n",
              "      width: 32px;\n",
              "    }\n",
              "\n",
              "    .colab-df-convert:hover {\n",
              "      background-color: #E2EBFA;\n",
              "      box-shadow: 0px 1px 2px rgba(60, 64, 67, 0.3), 0px 1px 3px 1px rgba(60, 64, 67, 0.15);\n",
              "      fill: #174EA6;\n",
              "    }\n",
              "\n",
              "    [theme=dark] .colab-df-convert {\n",
              "      background-color: #3B4455;\n",
              "      fill: #D2E3FC;\n",
              "    }\n",
              "\n",
              "    [theme=dark] .colab-df-convert:hover {\n",
              "      background-color: #434B5C;\n",
              "      box-shadow: 0px 1px 3px 1px rgba(0, 0, 0, 0.15);\n",
              "      filter: drop-shadow(0px 1px 2px rgba(0, 0, 0, 0.3));\n",
              "      fill: #FFFFFF;\n",
              "    }\n",
              "  </style>\n",
              "\n",
              "      <script>\n",
              "        const buttonEl =\n",
              "          document.querySelector('#df-0f0c2fac-45fb-4f56-b67e-9b4ff5cd5a9a button.colab-df-convert');\n",
              "        buttonEl.style.display =\n",
              "          google.colab.kernel.accessAllowed ? 'block' : 'none';\n",
              "\n",
              "        async function convertToInteractive(key) {\n",
              "          const element = document.querySelector('#df-0f0c2fac-45fb-4f56-b67e-9b4ff5cd5a9a');\n",
              "          const dataTable =\n",
              "            await google.colab.kernel.invokeFunction('convertToInteractive',\n",
              "                                                     [key], {});\n",
              "          if (!dataTable) return;\n",
              "\n",
              "          const docLinkHtml = 'Like what you see? Visit the ' +\n",
              "            '<a target=\"_blank\" href=https://colab.research.google.com/notebooks/data_table.ipynb>data table notebook</a>'\n",
              "            + ' to learn more about interactive tables.';\n",
              "          element.innerHTML = '';\n",
              "          dataTable['output_type'] = 'display_data';\n",
              "          await google.colab.output.renderOutput(dataTable, element);\n",
              "          const docLink = document.createElement('div');\n",
              "          docLink.innerHTML = docLinkHtml;\n",
              "          element.appendChild(docLink);\n",
              "        }\n",
              "      </script>\n",
              "    </div>\n",
              "  </div>\n",
              "  "
            ]
          },
          "metadata": {},
          "execution_count": 46
        }
      ]
    },
    {
      "cell_type": "markdown",
      "source": [
        "# Create a kind of disaster data model"
      ],
      "metadata": {
        "id": "H3Q8fNcIKwLl"
      }
    },
    {
      "cell_type": "code",
      "source": [
        "#cleaning_db_df = cleaning_disaster_db_df[[\"cleaning_text_v3\", \"label_generated\", \"choose_one\", \"confidence\"]]\n",
        "disaster_cleaning_db_df = cleaning_disaster_db_df[[\"label_generated\", \"cleaning_text_v3\"]]\n",
        "disaster_cleaning_db_df.head(5)"
      ],
      "metadata": {
        "id": "5-XxLpOID13Z",
        "colab": {
          "base_uri": "https://localhost:8080/",
          "height": 206
        },
        "outputId": "0d45c055-eb57-4824-f732-22a5554c3692"
      },
      "execution_count": 63,
      "outputs": [
        {
          "output_type": "execute_result",
          "data": {
            "text/plain": [
              "            label_generated                                   cleaning_text_v3\n",
              "1394          Don't defined   new ladies shoulder tote faux leather hobo pu...\n",
              "9663          Don't defined                                            join in\n",
              "2351    disaster with earth  mgnafrica pin263789f4  correction tent collaps...\n",
              "4006  disaster with weapons  only sea knows many dead user last disaster tu...\n",
              "1414          Don't defined   new ladies shoulder tote faux leather hobo pu..."
            ],
            "text/html": [
              "\n",
              "  <div id=\"df-48a0837e-8c9e-44bb-945b-891f693d78ed\">\n",
              "    <div class=\"colab-df-container\">\n",
              "      <div>\n",
              "<style scoped>\n",
              "    .dataframe tbody tr th:only-of-type {\n",
              "        vertical-align: middle;\n",
              "    }\n",
              "\n",
              "    .dataframe tbody tr th {\n",
              "        vertical-align: top;\n",
              "    }\n",
              "\n",
              "    .dataframe thead th {\n",
              "        text-align: right;\n",
              "    }\n",
              "</style>\n",
              "<table border=\"1\" class=\"dataframe\">\n",
              "  <thead>\n",
              "    <tr style=\"text-align: right;\">\n",
              "      <th></th>\n",
              "      <th>label_generated</th>\n",
              "      <th>cleaning_text_v3</th>\n",
              "    </tr>\n",
              "  </thead>\n",
              "  <tbody>\n",
              "    <tr>\n",
              "      <th>1394</th>\n",
              "      <td>Don't defined</td>\n",
              "      <td>new ladies shoulder tote faux leather hobo pu...</td>\n",
              "    </tr>\n",
              "    <tr>\n",
              "      <th>9663</th>\n",
              "      <td>Don't defined</td>\n",
              "      <td>join in</td>\n",
              "    </tr>\n",
              "    <tr>\n",
              "      <th>2351</th>\n",
              "      <td>disaster with earth</td>\n",
              "      <td>mgnafrica pin263789f4  correction tent collaps...</td>\n",
              "    </tr>\n",
              "    <tr>\n",
              "      <th>4006</th>\n",
              "      <td>disaster with weapons</td>\n",
              "      <td>only sea knows many dead user last disaster tu...</td>\n",
              "    </tr>\n",
              "    <tr>\n",
              "      <th>1414</th>\n",
              "      <td>Don't defined</td>\n",
              "      <td>new ladies shoulder tote faux leather hobo pu...</td>\n",
              "    </tr>\n",
              "  </tbody>\n",
              "</table>\n",
              "</div>\n",
              "      <button class=\"colab-df-convert\" onclick=\"convertToInteractive('df-48a0837e-8c9e-44bb-945b-891f693d78ed')\"\n",
              "              title=\"Convert this dataframe to an interactive table.\"\n",
              "              style=\"display:none;\">\n",
              "        \n",
              "  <svg xmlns=\"http://www.w3.org/2000/svg\" height=\"24px\"viewBox=\"0 0 24 24\"\n",
              "       width=\"24px\">\n",
              "    <path d=\"M0 0h24v24H0V0z\" fill=\"none\"/>\n",
              "    <path d=\"M18.56 5.44l.94 2.06.94-2.06 2.06-.94-2.06-.94-.94-2.06-.94 2.06-2.06.94zm-11 1L8.5 8.5l.94-2.06 2.06-.94-2.06-.94L8.5 2.5l-.94 2.06-2.06.94zm10 10l.94 2.06.94-2.06 2.06-.94-2.06-.94-.94-2.06-.94 2.06-2.06.94z\"/><path d=\"M17.41 7.96l-1.37-1.37c-.4-.4-.92-.59-1.43-.59-.52 0-1.04.2-1.43.59L10.3 9.45l-7.72 7.72c-.78.78-.78 2.05 0 2.83L4 21.41c.39.39.9.59 1.41.59.51 0 1.02-.2 1.41-.59l7.78-7.78 2.81-2.81c.8-.78.8-2.07 0-2.86zM5.41 20L4 18.59l7.72-7.72 1.47 1.35L5.41 20z\"/>\n",
              "  </svg>\n",
              "      </button>\n",
              "      \n",
              "  <style>\n",
              "    .colab-df-container {\n",
              "      display:flex;\n",
              "      flex-wrap:wrap;\n",
              "      gap: 12px;\n",
              "    }\n",
              "\n",
              "    .colab-df-convert {\n",
              "      background-color: #E8F0FE;\n",
              "      border: none;\n",
              "      border-radius: 50%;\n",
              "      cursor: pointer;\n",
              "      display: none;\n",
              "      fill: #1967D2;\n",
              "      height: 32px;\n",
              "      padding: 0 0 0 0;\n",
              "      width: 32px;\n",
              "    }\n",
              "\n",
              "    .colab-df-convert:hover {\n",
              "      background-color: #E2EBFA;\n",
              "      box-shadow: 0px 1px 2px rgba(60, 64, 67, 0.3), 0px 1px 3px 1px rgba(60, 64, 67, 0.15);\n",
              "      fill: #174EA6;\n",
              "    }\n",
              "\n",
              "    [theme=dark] .colab-df-convert {\n",
              "      background-color: #3B4455;\n",
              "      fill: #D2E3FC;\n",
              "    }\n",
              "\n",
              "    [theme=dark] .colab-df-convert:hover {\n",
              "      background-color: #434B5C;\n",
              "      box-shadow: 0px 1px 3px 1px rgba(0, 0, 0, 0.15);\n",
              "      filter: drop-shadow(0px 1px 2px rgba(0, 0, 0, 0.3));\n",
              "      fill: #FFFFFF;\n",
              "    }\n",
              "  </style>\n",
              "\n",
              "      <script>\n",
              "        const buttonEl =\n",
              "          document.querySelector('#df-48a0837e-8c9e-44bb-945b-891f693d78ed button.colab-df-convert');\n",
              "        buttonEl.style.display =\n",
              "          google.colab.kernel.accessAllowed ? 'block' : 'none';\n",
              "\n",
              "        async function convertToInteractive(key) {\n",
              "          const element = document.querySelector('#df-48a0837e-8c9e-44bb-945b-891f693d78ed');\n",
              "          const dataTable =\n",
              "            await google.colab.kernel.invokeFunction('convertToInteractive',\n",
              "                                                     [key], {});\n",
              "          if (!dataTable) return;\n",
              "\n",
              "          const docLinkHtml = 'Like what you see? Visit the ' +\n",
              "            '<a target=\"_blank\" href=https://colab.research.google.com/notebooks/data_table.ipynb>data table notebook</a>'\n",
              "            + ' to learn more about interactive tables.';\n",
              "          element.innerHTML = '';\n",
              "          dataTable['output_type'] = 'display_data';\n",
              "          await google.colab.output.renderOutput(dataTable, element);\n",
              "          const docLink = document.createElement('div');\n",
              "          docLink.innerHTML = docLinkHtml;\n",
              "          element.appendChild(docLink);\n",
              "        }\n",
              "      </script>\n",
              "    </div>\n",
              "  </div>\n",
              "  "
            ]
          },
          "metadata": {},
          "execution_count": 63
        }
      ]
    },
    {
      "cell_type": "code",
      "source": [
        "train_cleaning_db_df, test_cleaning_db_df = train_test_split(disaster_cleaning_db_df, test_size=0.25)"
      ],
      "metadata": {
        "id": "peCRrbBtiZuy"
      },
      "execution_count": 64,
      "outputs": []
    },
    {
      "cell_type": "code",
      "source": [
        "train_cleaning_db_df[\"label_generated\"].value_counts()"
      ],
      "metadata": {
        "colab": {
          "base_uri": "https://localhost:8080/"
        },
        "id": "s_DhVuZ_lDrQ",
        "outputId": "8b4332ee-3ac6-4cab-efa5-87b1ba3dcc32"
      },
      "execution_count": 65,
      "outputs": [
        {
          "output_type": "execute_result",
          "data": {
            "text/plain": [
              "Don't defined              2607\n",
              "disaster with weapons      2034\n",
              "disaster with lightning     969\n",
              "disaster with fire          935\n",
              "disaster with wind          427\n",
              "disaster with earth         188\n",
              "Name: label_generated, dtype: int64"
            ]
          },
          "metadata": {},
          "execution_count": 65
        }
      ]
    },
    {
      "cell_type": "code",
      "source": [
        "test_cleaning_db_df[\"label_generated\"].value_counts()"
      ],
      "metadata": {
        "colab": {
          "base_uri": "https://localhost:8080/"
        },
        "id": "_yRmlejmlKdD",
        "outputId": "88012db7-e260-4c9b-b4e8-2624d38b9b38"
      },
      "execution_count": 66,
      "outputs": [
        {
          "output_type": "execute_result",
          "data": {
            "text/plain": [
              "Don't defined              859\n",
              "disaster with weapons      719\n",
              "disaster with fire         303\n",
              "disaster with lightning    300\n",
              "disaster with wind         143\n",
              "disaster with earth         63\n",
              "Name: label_generated, dtype: int64"
            ]
          },
          "metadata": {},
          "execution_count": 66
        }
      ]
    },
    {
      "cell_type": "code",
      "source": [
        "print(train_cleaning_db_df.columns)"
      ],
      "metadata": {
        "colab": {
          "base_uri": "https://localhost:8080/"
        },
        "id": "OACmcRG3lVgC",
        "outputId": "6e87a182-fa90-4112-dcb8-4fff7e23e37b"
      },
      "execution_count": 67,
      "outputs": [
        {
          "output_type": "stream",
          "name": "stdout",
          "text": [
            "Index(['label_generated', 'cleaning_text_v3'], dtype='object')\n"
          ]
        }
      ]
    },
    {
      "cell_type": "code",
      "source": [
        "print(test_cleaning_db_df.columns)"
      ],
      "metadata": {
        "colab": {
          "base_uri": "https://localhost:8080/"
        },
        "id": "9HP1Yqljljpx",
        "outputId": "e0cb9174-e470-4412-f374-5c7ee0ddd3c2"
      },
      "execution_count": 68,
      "outputs": [
        {
          "output_type": "stream",
          "name": "stdout",
          "text": [
            "Index(['label_generated', 'cleaning_text_v3'], dtype='object')\n"
          ]
        }
      ]
    },
    {
      "cell_type": "code",
      "source": [
        "test_cleaning_db_df.to_csv(\"/test_kind_of_disaster_dataset.csv\")"
      ],
      "metadata": {
        "id": "FEZWetQQlnA5"
      },
      "execution_count": 69,
      "outputs": []
    },
    {
      "cell_type": "code",
      "source": [
        "train_cleaning_db_df.to_csv(\"/train_kind_of_disaster_dataset.csv\")"
      ],
      "metadata": {
        "id": "g4a64HGmlsah"
      },
      "execution_count": 70,
      "outputs": []
    },
    {
      "cell_type": "markdown",
      "source": [
        "# Create a joke or not data model"
      ],
      "metadata": {
        "id": "V8Hs3N_QMH2s"
      }
    },
    {
      "cell_type": "code",
      "source": [
        "joke_or_not_cleaning_db_df = cleaning_disaster_db_df[[\"choose_one\", \"cleaning_text_v3\"]]\n",
        "joke_or_not_cleaning_db_df.head(5)"
      ],
      "metadata": {
        "colab": {
          "base_uri": "https://localhost:8080/",
          "height": 206
        },
        "id": "mN9vBr_VMLUE",
        "outputId": "cc1b3a6a-1bef-4d8f-c982-db21f2669fbc"
      },
      "execution_count": 71,
      "outputs": [
        {
          "output_type": "execute_result",
          "data": {
            "text/plain": [
              "        choose_one                                   cleaning_text_v3\n",
              "1394  Not Relevant   new ladies shoulder tote faux leather hobo pu...\n",
              "9663  Not Relevant                                            join in\n",
              "2351  Can't Decide  mgnafrica pin263789f4  correction tent collaps...\n",
              "4006      Relevant  only sea knows many dead user last disaster tu...\n",
              "1414  Not Relevant   new ladies shoulder tote faux leather hobo pu..."
            ],
            "text/html": [
              "\n",
              "  <div id=\"df-676bbd0b-2082-4f11-b189-80d096089803\">\n",
              "    <div class=\"colab-df-container\">\n",
              "      <div>\n",
              "<style scoped>\n",
              "    .dataframe tbody tr th:only-of-type {\n",
              "        vertical-align: middle;\n",
              "    }\n",
              "\n",
              "    .dataframe tbody tr th {\n",
              "        vertical-align: top;\n",
              "    }\n",
              "\n",
              "    .dataframe thead th {\n",
              "        text-align: right;\n",
              "    }\n",
              "</style>\n",
              "<table border=\"1\" class=\"dataframe\">\n",
              "  <thead>\n",
              "    <tr style=\"text-align: right;\">\n",
              "      <th></th>\n",
              "      <th>choose_one</th>\n",
              "      <th>cleaning_text_v3</th>\n",
              "    </tr>\n",
              "  </thead>\n",
              "  <tbody>\n",
              "    <tr>\n",
              "      <th>1394</th>\n",
              "      <td>Not Relevant</td>\n",
              "      <td>new ladies shoulder tote faux leather hobo pu...</td>\n",
              "    </tr>\n",
              "    <tr>\n",
              "      <th>9663</th>\n",
              "      <td>Not Relevant</td>\n",
              "      <td>join in</td>\n",
              "    </tr>\n",
              "    <tr>\n",
              "      <th>2351</th>\n",
              "      <td>Can't Decide</td>\n",
              "      <td>mgnafrica pin263789f4  correction tent collaps...</td>\n",
              "    </tr>\n",
              "    <tr>\n",
              "      <th>4006</th>\n",
              "      <td>Relevant</td>\n",
              "      <td>only sea knows many dead user last disaster tu...</td>\n",
              "    </tr>\n",
              "    <tr>\n",
              "      <th>1414</th>\n",
              "      <td>Not Relevant</td>\n",
              "      <td>new ladies shoulder tote faux leather hobo pu...</td>\n",
              "    </tr>\n",
              "  </tbody>\n",
              "</table>\n",
              "</div>\n",
              "      <button class=\"colab-df-convert\" onclick=\"convertToInteractive('df-676bbd0b-2082-4f11-b189-80d096089803')\"\n",
              "              title=\"Convert this dataframe to an interactive table.\"\n",
              "              style=\"display:none;\">\n",
              "        \n",
              "  <svg xmlns=\"http://www.w3.org/2000/svg\" height=\"24px\"viewBox=\"0 0 24 24\"\n",
              "       width=\"24px\">\n",
              "    <path d=\"M0 0h24v24H0V0z\" fill=\"none\"/>\n",
              "    <path d=\"M18.56 5.44l.94 2.06.94-2.06 2.06-.94-2.06-.94-.94-2.06-.94 2.06-2.06.94zm-11 1L8.5 8.5l.94-2.06 2.06-.94-2.06-.94L8.5 2.5l-.94 2.06-2.06.94zm10 10l.94 2.06.94-2.06 2.06-.94-2.06-.94-.94-2.06-.94 2.06-2.06.94z\"/><path d=\"M17.41 7.96l-1.37-1.37c-.4-.4-.92-.59-1.43-.59-.52 0-1.04.2-1.43.59L10.3 9.45l-7.72 7.72c-.78.78-.78 2.05 0 2.83L4 21.41c.39.39.9.59 1.41.59.51 0 1.02-.2 1.41-.59l7.78-7.78 2.81-2.81c.8-.78.8-2.07 0-2.86zM5.41 20L4 18.59l7.72-7.72 1.47 1.35L5.41 20z\"/>\n",
              "  </svg>\n",
              "      </button>\n",
              "      \n",
              "  <style>\n",
              "    .colab-df-container {\n",
              "      display:flex;\n",
              "      flex-wrap:wrap;\n",
              "      gap: 12px;\n",
              "    }\n",
              "\n",
              "    .colab-df-convert {\n",
              "      background-color: #E8F0FE;\n",
              "      border: none;\n",
              "      border-radius: 50%;\n",
              "      cursor: pointer;\n",
              "      display: none;\n",
              "      fill: #1967D2;\n",
              "      height: 32px;\n",
              "      padding: 0 0 0 0;\n",
              "      width: 32px;\n",
              "    }\n",
              "\n",
              "    .colab-df-convert:hover {\n",
              "      background-color: #E2EBFA;\n",
              "      box-shadow: 0px 1px 2px rgba(60, 64, 67, 0.3), 0px 1px 3px 1px rgba(60, 64, 67, 0.15);\n",
              "      fill: #174EA6;\n",
              "    }\n",
              "\n",
              "    [theme=dark] .colab-df-convert {\n",
              "      background-color: #3B4455;\n",
              "      fill: #D2E3FC;\n",
              "    }\n",
              "\n",
              "    [theme=dark] .colab-df-convert:hover {\n",
              "      background-color: #434B5C;\n",
              "      box-shadow: 0px 1px 3px 1px rgba(0, 0, 0, 0.15);\n",
              "      filter: drop-shadow(0px 1px 2px rgba(0, 0, 0, 0.3));\n",
              "      fill: #FFFFFF;\n",
              "    }\n",
              "  </style>\n",
              "\n",
              "      <script>\n",
              "        const buttonEl =\n",
              "          document.querySelector('#df-676bbd0b-2082-4f11-b189-80d096089803 button.colab-df-convert');\n",
              "        buttonEl.style.display =\n",
              "          google.colab.kernel.accessAllowed ? 'block' : 'none';\n",
              "\n",
              "        async function convertToInteractive(key) {\n",
              "          const element = document.querySelector('#df-676bbd0b-2082-4f11-b189-80d096089803');\n",
              "          const dataTable =\n",
              "            await google.colab.kernel.invokeFunction('convertToInteractive',\n",
              "                                                     [key], {});\n",
              "          if (!dataTable) return;\n",
              "\n",
              "          const docLinkHtml = 'Like what you see? Visit the ' +\n",
              "            '<a target=\"_blank\" href=https://colab.research.google.com/notebooks/data_table.ipynb>data table notebook</a>'\n",
              "            + ' to learn more about interactive tables.';\n",
              "          element.innerHTML = '';\n",
              "          dataTable['output_type'] = 'display_data';\n",
              "          await google.colab.output.renderOutput(dataTable, element);\n",
              "          const docLink = document.createElement('div');\n",
              "          docLink.innerHTML = docLinkHtml;\n",
              "          element.appendChild(docLink);\n",
              "        }\n",
              "      </script>\n",
              "    </div>\n",
              "  </div>\n",
              "  "
            ]
          },
          "metadata": {},
          "execution_count": 71
        }
      ]
    },
    {
      "cell_type": "code",
      "source": [
        "train_cleaning_db_df, test_cleaning_db_df = train_test_split(joke_or_not_cleaning_db_df, test_size=0.25)"
      ],
      "metadata": {
        "id": "xmGUZaNDMU5M"
      },
      "execution_count": 72,
      "outputs": []
    },
    {
      "cell_type": "code",
      "source": [
        "train_cleaning_db_df[\"choose_one\"].value_counts()"
      ],
      "metadata": {
        "colab": {
          "base_uri": "https://localhost:8080/"
        },
        "id": "F7nYVqakMYTV",
        "outputId": "81960c3d-5a18-4236-fcef-091ebd43b48b"
      },
      "execution_count": 73,
      "outputs": [
        {
          "output_type": "execute_result",
          "data": {
            "text/plain": [
              "Not Relevant    3299\n",
              "Relevant        2128\n",
              "Can't Decide    1733\n",
              "Name: choose_one, dtype: int64"
            ]
          },
          "metadata": {},
          "execution_count": 73
        }
      ]
    },
    {
      "cell_type": "code",
      "source": [
        "test_cleaning_db_df[\"choose_one\"].value_counts()"
      ],
      "metadata": {
        "colab": {
          "base_uri": "https://localhost:8080/"
        },
        "id": "1K4X0-Z1MeLF",
        "outputId": "b0bc3454-e03c-484d-c189-a92a82a5db55"
      },
      "execution_count": 74,
      "outputs": [
        {
          "output_type": "execute_result",
          "data": {
            "text/plain": [
              "Not Relevant    1112\n",
              "Relevant         702\n",
              "Can't Decide     573\n",
              "Name: choose_one, dtype: int64"
            ]
          },
          "metadata": {},
          "execution_count": 74
        }
      ]
    },
    {
      "cell_type": "code",
      "source": [
        "print(train_cleaning_db_df.columns)"
      ],
      "metadata": {
        "colab": {
          "base_uri": "https://localhost:8080/"
        },
        "id": "OanCLfW4Mj1L",
        "outputId": "5ff64a2f-78cb-4dd4-f9b0-45aeb076d398"
      },
      "execution_count": 76,
      "outputs": [
        {
          "output_type": "stream",
          "name": "stdout",
          "text": [
            "Index(['choose_one', 'cleaning_text_v3'], dtype='object')\n"
          ]
        }
      ]
    },
    {
      "cell_type": "code",
      "source": [
        "print(test_cleaning_db_df.columns)"
      ],
      "metadata": {
        "colab": {
          "base_uri": "https://localhost:8080/"
        },
        "id": "rYmRw_-yMlFc",
        "outputId": "aeca655d-382a-4591-c0ba-925f51ec8505"
      },
      "execution_count": 77,
      "outputs": [
        {
          "output_type": "stream",
          "name": "stdout",
          "text": [
            "Index(['choose_one', 'cleaning_text_v3'], dtype='object')\n"
          ]
        }
      ]
    },
    {
      "cell_type": "code",
      "source": [
        "test_cleaning_db_df.to_csv(\"/test_joke_or_not_dataset.csv\")"
      ],
      "metadata": {
        "id": "OU9ZmCHBMnXU"
      },
      "execution_count": 78,
      "outputs": []
    },
    {
      "cell_type": "code",
      "source": [
        "train_cleaning_db_df.to_csv(\"/train_joke_or_not_dataset.csv\")"
      ],
      "metadata": {
        "id": "7GQjcoeaMvE8"
      },
      "execution_count": 79,
      "outputs": []
    }
  ]
}