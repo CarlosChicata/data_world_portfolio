{
  "nbformat": 4,
  "nbformat_minor": 0,
  "metadata": {
    "colab": {
      "provenance": []
    },
    "kernelspec": {
      "name": "python3",
      "display_name": "Python 3"
    },
    "language_info": {
      "name": "python"
    }
  },
  "cells": [
    {
      "cell_type": "markdown",
      "source": [
        "# Analysis of dataset to assign label"
      ],
      "metadata": {
        "id": "UhtXwiV28oYM"
      }
    },
    {
      "cell_type": "markdown",
      "source": [
        "The purpose of this subproject is ; in a simple and easy way; assign a better label for classification in kind of disaster and whether or not it is a joke.\n",
        "\n",
        "As dataset is pre-labeled from human team; i will use this features like basis and guide for this process."
      ],
      "metadata": {
        "id": "Np4q9KC_81YO"
      }
    },
    {
      "cell_type": "markdown",
      "source": [
        "## Preparing enviroment to work"
      ],
      "metadata": {
        "id": "J6xS9zlRATD7"
      }
    },
    {
      "cell_type": "code",
      "source": [
        "!pip install boto3\n",
        "!pip install pandas"
      ],
      "metadata": {
        "colab": {
          "base_uri": "https://localhost:8080/"
        },
        "id": "7fHThBE0-h8q",
        "outputId": "5f322754-dc05-48a0-b25e-b85b174b8500"
      },
      "execution_count": 1,
      "outputs": [
        {
          "output_type": "stream",
          "name": "stdout",
          "text": [
            "Looking in indexes: https://pypi.org/simple, https://us-python.pkg.dev/colab-wheels/public/simple/\n",
            "Collecting boto3\n",
            "  Downloading boto3-1.26.129-py3-none-any.whl (135 kB)\n",
            "\u001b[2K     \u001b[90m━━━━━━━━━━━━━━━━━━━━━━━━━━━━━━━━━━━━━━━\u001b[0m \u001b[32m135.6/135.6 kB\u001b[0m \u001b[31m4.0 MB/s\u001b[0m eta \u001b[36m0:00:00\u001b[0m\n",
            "\u001b[?25hCollecting s3transfer<0.7.0,>=0.6.0\n",
            "  Downloading s3transfer-0.6.1-py3-none-any.whl (79 kB)\n",
            "\u001b[2K     \u001b[90m━━━━━━━━━━━━━━━━━━━━━━━━━━━━━━━━━━━━━━━━\u001b[0m \u001b[32m79.8/79.8 kB\u001b[0m \u001b[31m8.0 MB/s\u001b[0m eta \u001b[36m0:00:00\u001b[0m\n",
            "\u001b[?25hCollecting botocore<1.30.0,>=1.29.129\n",
            "  Downloading botocore-1.29.129-py3-none-any.whl (10.7 MB)\n",
            "\u001b[2K     \u001b[90m━━━━━━━━━━━━━━━━━━━━━━━━━━━━━━━━━━━━━━━━\u001b[0m \u001b[32m10.7/10.7 MB\u001b[0m \u001b[31m69.7 MB/s\u001b[0m eta \u001b[36m0:00:00\u001b[0m\n",
            "\u001b[?25hCollecting jmespath<2.0.0,>=0.7.1\n",
            "  Downloading jmespath-1.0.1-py3-none-any.whl (20 kB)\n",
            "Requirement already satisfied: python-dateutil<3.0.0,>=2.1 in /usr/local/lib/python3.10/dist-packages (from botocore<1.30.0,>=1.29.129->boto3) (2.8.2)\n",
            "Requirement already satisfied: urllib3<1.27,>=1.25.4 in /usr/local/lib/python3.10/dist-packages (from botocore<1.30.0,>=1.29.129->boto3) (1.26.15)\n",
            "Requirement already satisfied: six>=1.5 in /usr/local/lib/python3.10/dist-packages (from python-dateutil<3.0.0,>=2.1->botocore<1.30.0,>=1.29.129->boto3) (1.16.0)\n",
            "Installing collected packages: jmespath, botocore, s3transfer, boto3\n",
            "Successfully installed boto3-1.26.129 botocore-1.29.129 jmespath-1.0.1 s3transfer-0.6.1\n",
            "Looking in indexes: https://pypi.org/simple, https://us-python.pkg.dev/colab-wheels/public/simple/\n",
            "Requirement already satisfied: pandas in /usr/local/lib/python3.10/dist-packages (1.5.3)\n",
            "Requirement already satisfied: python-dateutil>=2.8.1 in /usr/local/lib/python3.10/dist-packages (from pandas) (2.8.2)\n",
            "Requirement already satisfied: pytz>=2020.1 in /usr/local/lib/python3.10/dist-packages (from pandas) (2022.7.1)\n",
            "Requirement already satisfied: numpy>=1.21.0 in /usr/local/lib/python3.10/dist-packages (from pandas) (1.22.4)\n",
            "Requirement already satisfied: six>=1.5 in /usr/local/lib/python3.10/dist-packages (from python-dateutil>=2.8.1->pandas) (1.16.0)\n"
          ]
        }
      ]
    },
    {
      "cell_type": "code",
      "source": [
        "import pandas as pd\n",
        "import numpy as np\n",
        "from boto3 import Session"
      ],
      "metadata": {
        "id": "W0qwwueFAn5j"
      },
      "execution_count": 2,
      "outputs": []
    },
    {
      "cell_type": "code",
      "source": [
        "disaster_db_df = pd.read_csv(\"/database.csv\", encoding=\"latin9\")\n",
        "disaster_db_df.head(5)"
      ],
      "metadata": {
        "colab": {
          "base_uri": "https://localhost:8080/",
          "height": 583
        },
        "id": "9fVCKZEVAwJj",
        "outputId": "c3019a95-f06b-467f-972a-3bc879dd8737"
      },
      "execution_count": 3,
      "outputs": [
        {
          "output_type": "execute_result",
          "data": {
            "text/plain": [
              "    _unit_id  _golden _unit_state  _trusted_judgments _last_judgment_at  \\\n",
              "0  778243823     True      golden                 156               NaN   \n",
              "1  778243824     True      golden                 152               NaN   \n",
              "2  778243825     True      golden                 137               NaN   \n",
              "3  778243826     True      golden                 136               NaN   \n",
              "4  778243827     True      golden                 138               NaN   \n",
              "\n",
              "  choose_one  choose_one:confidence choose_one_gold keyword location  \\\n",
              "0   Relevant                 1.0000        Relevant     NaN      NaN   \n",
              "1   Relevant                 1.0000        Relevant     NaN      NaN   \n",
              "2   Relevant                 1.0000        Relevant     NaN      NaN   \n",
              "3   Relevant                 0.9603        Relevant     NaN      NaN   \n",
              "4   Relevant                 1.0000        Relevant     NaN      NaN   \n",
              "\n",
              "                                                text  tweetid  userid  \n",
              "0                 Just happened a terrible car crash      1.0     NaN  \n",
              "1  Our Deeds are the Reason of this #earthquake M...     13.0     NaN  \n",
              "2  Heard about #earthquake is different cities, s...     14.0     NaN  \n",
              "3  there is a forest fire at spot pond, geese are...     15.0     NaN  \n",
              "4             Forest fire near La Ronge Sask. Canada     16.0     NaN  "
            ],
            "text/html": [
              "\n",
              "  <div id=\"df-546a31bc-102c-4e4e-a852-247111a075e6\">\n",
              "    <div class=\"colab-df-container\">\n",
              "      <div>\n",
              "<style scoped>\n",
              "    .dataframe tbody tr th:only-of-type {\n",
              "        vertical-align: middle;\n",
              "    }\n",
              "\n",
              "    .dataframe tbody tr th {\n",
              "        vertical-align: top;\n",
              "    }\n",
              "\n",
              "    .dataframe thead th {\n",
              "        text-align: right;\n",
              "    }\n",
              "</style>\n",
              "<table border=\"1\" class=\"dataframe\">\n",
              "  <thead>\n",
              "    <tr style=\"text-align: right;\">\n",
              "      <th></th>\n",
              "      <th>_unit_id</th>\n",
              "      <th>_golden</th>\n",
              "      <th>_unit_state</th>\n",
              "      <th>_trusted_judgments</th>\n",
              "      <th>_last_judgment_at</th>\n",
              "      <th>choose_one</th>\n",
              "      <th>choose_one:confidence</th>\n",
              "      <th>choose_one_gold</th>\n",
              "      <th>keyword</th>\n",
              "      <th>location</th>\n",
              "      <th>text</th>\n",
              "      <th>tweetid</th>\n",
              "      <th>userid</th>\n",
              "    </tr>\n",
              "  </thead>\n",
              "  <tbody>\n",
              "    <tr>\n",
              "      <th>0</th>\n",
              "      <td>778243823</td>\n",
              "      <td>True</td>\n",
              "      <td>golden</td>\n",
              "      <td>156</td>\n",
              "      <td>NaN</td>\n",
              "      <td>Relevant</td>\n",
              "      <td>1.0000</td>\n",
              "      <td>Relevant</td>\n",
              "      <td>NaN</td>\n",
              "      <td>NaN</td>\n",
              "      <td>Just happened a terrible car crash</td>\n",
              "      <td>1.0</td>\n",
              "      <td>NaN</td>\n",
              "    </tr>\n",
              "    <tr>\n",
              "      <th>1</th>\n",
              "      <td>778243824</td>\n",
              "      <td>True</td>\n",
              "      <td>golden</td>\n",
              "      <td>152</td>\n",
              "      <td>NaN</td>\n",
              "      <td>Relevant</td>\n",
              "      <td>1.0000</td>\n",
              "      <td>Relevant</td>\n",
              "      <td>NaN</td>\n",
              "      <td>NaN</td>\n",
              "      <td>Our Deeds are the Reason of this #earthquake M...</td>\n",
              "      <td>13.0</td>\n",
              "      <td>NaN</td>\n",
              "    </tr>\n",
              "    <tr>\n",
              "      <th>2</th>\n",
              "      <td>778243825</td>\n",
              "      <td>True</td>\n",
              "      <td>golden</td>\n",
              "      <td>137</td>\n",
              "      <td>NaN</td>\n",
              "      <td>Relevant</td>\n",
              "      <td>1.0000</td>\n",
              "      <td>Relevant</td>\n",
              "      <td>NaN</td>\n",
              "      <td>NaN</td>\n",
              "      <td>Heard about #earthquake is different cities, s...</td>\n",
              "      <td>14.0</td>\n",
              "      <td>NaN</td>\n",
              "    </tr>\n",
              "    <tr>\n",
              "      <th>3</th>\n",
              "      <td>778243826</td>\n",
              "      <td>True</td>\n",
              "      <td>golden</td>\n",
              "      <td>136</td>\n",
              "      <td>NaN</td>\n",
              "      <td>Relevant</td>\n",
              "      <td>0.9603</td>\n",
              "      <td>Relevant</td>\n",
              "      <td>NaN</td>\n",
              "      <td>NaN</td>\n",
              "      <td>there is a forest fire at spot pond, geese are...</td>\n",
              "      <td>15.0</td>\n",
              "      <td>NaN</td>\n",
              "    </tr>\n",
              "    <tr>\n",
              "      <th>4</th>\n",
              "      <td>778243827</td>\n",
              "      <td>True</td>\n",
              "      <td>golden</td>\n",
              "      <td>138</td>\n",
              "      <td>NaN</td>\n",
              "      <td>Relevant</td>\n",
              "      <td>1.0000</td>\n",
              "      <td>Relevant</td>\n",
              "      <td>NaN</td>\n",
              "      <td>NaN</td>\n",
              "      <td>Forest fire near La Ronge Sask. Canada</td>\n",
              "      <td>16.0</td>\n",
              "      <td>NaN</td>\n",
              "    </tr>\n",
              "  </tbody>\n",
              "</table>\n",
              "</div>\n",
              "      <button class=\"colab-df-convert\" onclick=\"convertToInteractive('df-546a31bc-102c-4e4e-a852-247111a075e6')\"\n",
              "              title=\"Convert this dataframe to an interactive table.\"\n",
              "              style=\"display:none;\">\n",
              "        \n",
              "  <svg xmlns=\"http://www.w3.org/2000/svg\" height=\"24px\"viewBox=\"0 0 24 24\"\n",
              "       width=\"24px\">\n",
              "    <path d=\"M0 0h24v24H0V0z\" fill=\"none\"/>\n",
              "    <path d=\"M18.56 5.44l.94 2.06.94-2.06 2.06-.94-2.06-.94-.94-2.06-.94 2.06-2.06.94zm-11 1L8.5 8.5l.94-2.06 2.06-.94-2.06-.94L8.5 2.5l-.94 2.06-2.06.94zm10 10l.94 2.06.94-2.06 2.06-.94-2.06-.94-.94-2.06-.94 2.06-2.06.94z\"/><path d=\"M17.41 7.96l-1.37-1.37c-.4-.4-.92-.59-1.43-.59-.52 0-1.04.2-1.43.59L10.3 9.45l-7.72 7.72c-.78.78-.78 2.05 0 2.83L4 21.41c.39.39.9.59 1.41.59.51 0 1.02-.2 1.41-.59l7.78-7.78 2.81-2.81c.8-.78.8-2.07 0-2.86zM5.41 20L4 18.59l7.72-7.72 1.47 1.35L5.41 20z\"/>\n",
              "  </svg>\n",
              "      </button>\n",
              "      \n",
              "  <style>\n",
              "    .colab-df-container {\n",
              "      display:flex;\n",
              "      flex-wrap:wrap;\n",
              "      gap: 12px;\n",
              "    }\n",
              "\n",
              "    .colab-df-convert {\n",
              "      background-color: #E8F0FE;\n",
              "      border: none;\n",
              "      border-radius: 50%;\n",
              "      cursor: pointer;\n",
              "      display: none;\n",
              "      fill: #1967D2;\n",
              "      height: 32px;\n",
              "      padding: 0 0 0 0;\n",
              "      width: 32px;\n",
              "    }\n",
              "\n",
              "    .colab-df-convert:hover {\n",
              "      background-color: #E2EBFA;\n",
              "      box-shadow: 0px 1px 2px rgba(60, 64, 67, 0.3), 0px 1px 3px 1px rgba(60, 64, 67, 0.15);\n",
              "      fill: #174EA6;\n",
              "    }\n",
              "\n",
              "    [theme=dark] .colab-df-convert {\n",
              "      background-color: #3B4455;\n",
              "      fill: #D2E3FC;\n",
              "    }\n",
              "\n",
              "    [theme=dark] .colab-df-convert:hover {\n",
              "      background-color: #434B5C;\n",
              "      box-shadow: 0px 1px 3px 1px rgba(0, 0, 0, 0.15);\n",
              "      filter: drop-shadow(0px 1px 2px rgba(0, 0, 0, 0.3));\n",
              "      fill: #FFFFFF;\n",
              "    }\n",
              "  </style>\n",
              "\n",
              "      <script>\n",
              "        const buttonEl =\n",
              "          document.querySelector('#df-546a31bc-102c-4e4e-a852-247111a075e6 button.colab-df-convert');\n",
              "        buttonEl.style.display =\n",
              "          google.colab.kernel.accessAllowed ? 'block' : 'none';\n",
              "\n",
              "        async function convertToInteractive(key) {\n",
              "          const element = document.querySelector('#df-546a31bc-102c-4e4e-a852-247111a075e6');\n",
              "          const dataTable =\n",
              "            await google.colab.kernel.invokeFunction('convertToInteractive',\n",
              "                                                     [key], {});\n",
              "          if (!dataTable) return;\n",
              "\n",
              "          const docLinkHtml = 'Like what you see? Visit the ' +\n",
              "            '<a target=\"_blank\" href=https://colab.research.google.com/notebooks/data_table.ipynb>data table notebook</a>'\n",
              "            + ' to learn more about interactive tables.';\n",
              "          element.innerHTML = '';\n",
              "          dataTable['output_type'] = 'display_data';\n",
              "          await google.colab.output.renderOutput(dataTable, element);\n",
              "          const docLink = document.createElement('div');\n",
              "          docLink.innerHTML = docLinkHtml;\n",
              "          element.appendChild(docLink);\n",
              "        }\n",
              "      </script>\n",
              "    </div>\n",
              "  </div>\n",
              "  "
            ]
          },
          "metadata": {},
          "execution_count": 3
        }
      ]
    },
    {
      "cell_type": "markdown",
      "source": [
        "Based in data sample, i think the `choose_one`, `choose_one:confidence`, `choosen_one_gold`, `text` and `tweetid` are important for the analysis; i need to check if my hypothesis is true.\n",
        "\n",
        "---\n",
        "\n"
      ],
      "metadata": {
        "id": "v5PlpiI0Bmsc"
      }
    },
    {
      "cell_type": "markdown",
      "source": [
        "# Checking the mentioned features are relevant or not"
      ],
      "metadata": {
        "id": "-bOex6QDBmy0"
      }
    },
    {
      "cell_type": "markdown",
      "source": [
        "### **`Choose_one` field**"
      ],
      "metadata": {
        "id": "AfrImXD-FX7T"
      }
    },
    {
      "cell_type": "code",
      "source": [
        "disaster_db_df['choose_one'].value_counts()"
      ],
      "metadata": {
        "colab": {
          "base_uri": "https://localhost:8080/"
        },
        "id": "6SGIQ0ItCSmt",
        "outputId": "1919d2b4-cdc1-4bf3-fc21-c9f5c128c7b3"
      },
      "execution_count": 4,
      "outputs": [
        {
          "output_type": "execute_result",
          "data": {
            "text/plain": [
              "Not Relevant    6187\n",
              "Relevant        4673\n",
              "Can't Decide      16\n",
              "Name: choose_one, dtype: int64"
            ]
          },
          "metadata": {},
          "execution_count": 4
        }
      ]
    },
    {
      "cell_type": "code",
      "source": [
        "disaster_db_df['choose_one'].isnull().value_counts()"
      ],
      "metadata": {
        "colab": {
          "base_uri": "https://localhost:8080/"
        },
        "id": "hHz7cU6EFQum",
        "outputId": "771cee83-0e16-4df4-94ca-bc24e570958e"
      },
      "execution_count": 5,
      "outputs": [
        {
          "output_type": "execute_result",
          "data": {
            "text/plain": [
              "False    10876\n",
              "Name: choose_one, dtype: int64"
            ]
          },
          "metadata": {},
          "execution_count": 5
        }
      ]
    },
    {
      "cell_type": "markdown",
      "source": [
        "That's ready to use ✅"
      ],
      "metadata": {
        "id": "SfCUrZrVFk-a"
      }
    },
    {
      "cell_type": "markdown",
      "source": [
        "### **`choose_one_gold` field**"
      ],
      "metadata": {
        "id": "IB1Jw1MPFhqk"
      }
    },
    {
      "cell_type": "code",
      "source": [
        "disaster_db_df['choose_one_gold'].value_counts()"
      ],
      "metadata": {
        "colab": {
          "base_uri": "https://localhost:8080/"
        },
        "id": "hjIOTaH1Es1l",
        "outputId": "46572eae-fb9b-463b-94b2-f29c7cfa1593"
      },
      "execution_count": 6,
      "outputs": [
        {
          "output_type": "execute_result",
          "data": {
            "text/plain": [
              "Relevant                      57\n",
              "Not Relevant                  24\n",
              "Relevant\\nCan't Decide         4\n",
              "Not Relevant\\nCan't Decide     2\n",
              "Name: choose_one_gold, dtype: int64"
            ]
          },
          "metadata": {},
          "execution_count": 6
        }
      ]
    },
    {
      "cell_type": "code",
      "source": [
        "disaster_db_df['choose_one_gold'].isnull().value_counts()"
      ],
      "metadata": {
        "colab": {
          "base_uri": "https://localhost:8080/"
        },
        "id": "GcfbcJuRE02i",
        "outputId": "cd7cdb9d-4eee-4838-bc75-21e802c97f0c"
      },
      "execution_count": 7,
      "outputs": [
        {
          "output_type": "execute_result",
          "data": {
            "text/plain": [
              "True     10789\n",
              "False       87\n",
              "Name: choose_one_gold, dtype: int64"
            ]
          },
          "metadata": {},
          "execution_count": 7
        }
      ]
    },
    {
      "cell_type": "markdown",
      "source": [
        "***QUESTION #1: Can i replace it with `choose_one` field?***"
      ],
      "metadata": {
        "id": "jqmZIye-ImIt"
      }
    },
    {
      "cell_type": "code",
      "source": [
        "disaster_db_df.replace(np.nan, None)\n",
        "disaster_db_df[\"choose_one_gold_v2\"] = disaster_db_df[\"choose_one_gold\"].apply(\n",
        "    lambda x: x.split(\"\\n\")[-1] if type(x) is str else None\n",
        ")\n",
        "disaster_db_df[\"choose_one_gold_v2\"].value_counts()"
      ],
      "metadata": {
        "colab": {
          "base_uri": "https://localhost:8080/"
        },
        "id": "iZ9izr4CGSA5",
        "outputId": "55518a0d-8907-42ec-c3ff-a5be29a34def"
      },
      "execution_count": 8,
      "outputs": [
        {
          "output_type": "execute_result",
          "data": {
            "text/plain": [
              "Relevant        57\n",
              "Not Relevant    24\n",
              "Can't Decide     6\n",
              "Name: choose_one_gold_v2, dtype: int64"
            ]
          },
          "metadata": {},
          "execution_count": 8
        }
      ]
    },
    {
      "cell_type": "code",
      "source": [
        "disaster_db_df[\"is_choose_one_gold_with_choose_one\"] = disaster_db_df.apply( \n",
        "    lambda x: True if x[\"choose_one_gold_v2\"] == x[\"choose_one_gold\"] else False, \n",
        "    axis=1\n",
        "  )\n",
        "selected_choose_one_gold_df = disaster_db_df[ disaster_db_df[\"choose_one_gold_v2\"].isin([\"Relevant\", \"Not Relevant\", \"Can't Decide\"])]\n",
        "selected_choose_one_gold_df[\"is_choose_one_gold_with_choose_one\"].value_counts()"
      ],
      "metadata": {
        "colab": {
          "base_uri": "https://localhost:8080/"
        },
        "id": "eKay5gbII-Zl",
        "outputId": "fa49ad06-1e9f-4e39-a03a-fce245c39a19"
      },
      "execution_count": 9,
      "outputs": [
        {
          "output_type": "execute_result",
          "data": {
            "text/plain": [
              "True     81\n",
              "False     6\n",
              "Name: is_choose_one_gold_with_choose_one, dtype: int64"
            ]
          },
          "metadata": {},
          "execution_count": 9
        }
      ]
    },
    {
      "cell_type": "code",
      "source": [
        "selected_choose_one_gold_df = selected_choose_one_gold_df[selected_choose_one_gold_df[\"is_choose_one_gold_with_choose_one\"].isin([False])]\n",
        "selected_choose_one_gold_df[[\"choose_one_gold_v2\", \"choose_one\", \"choose_one_gold\", \"is_choose_one_gold_with_choose_one\"]]"
      ],
      "metadata": {
        "colab": {
          "base_uri": "https://localhost:8080/",
          "height": 238
        },
        "id": "vOcY6Y6BNSQu",
        "outputId": "99519014-55f3-45b1-ceae-d1cbde626559"
      },
      "execution_count": 10,
      "outputs": [
        {
          "output_type": "execute_result",
          "data": {
            "text/plain": [
              "   choose_one_gold_v2    choose_one             choose_one_gold  \\\n",
              "9        Can't Decide      Relevant      Relevant\\nCan't Decide   \n",
              "13       Can't Decide      Relevant      Relevant\\nCan't Decide   \n",
              "15       Can't Decide      Relevant      Relevant\\nCan't Decide   \n",
              "19       Can't Decide      Relevant      Relevant\\nCan't Decide   \n",
              "42       Can't Decide  Not Relevant  Not Relevant\\nCan't Decide   \n",
              "44       Can't Decide  Not Relevant  Not Relevant\\nCan't Decide   \n",
              "\n",
              "    is_choose_one_gold_with_choose_one  \n",
              "9                                False  \n",
              "13                               False  \n",
              "15                               False  \n",
              "19                               False  \n",
              "42                               False  \n",
              "44                               False  "
            ],
            "text/html": [
              "\n",
              "  <div id=\"df-de5ae8eb-8051-4a28-9ce6-5e9d3f9730c2\">\n",
              "    <div class=\"colab-df-container\">\n",
              "      <div>\n",
              "<style scoped>\n",
              "    .dataframe tbody tr th:only-of-type {\n",
              "        vertical-align: middle;\n",
              "    }\n",
              "\n",
              "    .dataframe tbody tr th {\n",
              "        vertical-align: top;\n",
              "    }\n",
              "\n",
              "    .dataframe thead th {\n",
              "        text-align: right;\n",
              "    }\n",
              "</style>\n",
              "<table border=\"1\" class=\"dataframe\">\n",
              "  <thead>\n",
              "    <tr style=\"text-align: right;\">\n",
              "      <th></th>\n",
              "      <th>choose_one_gold_v2</th>\n",
              "      <th>choose_one</th>\n",
              "      <th>choose_one_gold</th>\n",
              "      <th>is_choose_one_gold_with_choose_one</th>\n",
              "    </tr>\n",
              "  </thead>\n",
              "  <tbody>\n",
              "    <tr>\n",
              "      <th>9</th>\n",
              "      <td>Can't Decide</td>\n",
              "      <td>Relevant</td>\n",
              "      <td>Relevant\\nCan't Decide</td>\n",
              "      <td>False</td>\n",
              "    </tr>\n",
              "    <tr>\n",
              "      <th>13</th>\n",
              "      <td>Can't Decide</td>\n",
              "      <td>Relevant</td>\n",
              "      <td>Relevant\\nCan't Decide</td>\n",
              "      <td>False</td>\n",
              "    </tr>\n",
              "    <tr>\n",
              "      <th>15</th>\n",
              "      <td>Can't Decide</td>\n",
              "      <td>Relevant</td>\n",
              "      <td>Relevant\\nCan't Decide</td>\n",
              "      <td>False</td>\n",
              "    </tr>\n",
              "    <tr>\n",
              "      <th>19</th>\n",
              "      <td>Can't Decide</td>\n",
              "      <td>Relevant</td>\n",
              "      <td>Relevant\\nCan't Decide</td>\n",
              "      <td>False</td>\n",
              "    </tr>\n",
              "    <tr>\n",
              "      <th>42</th>\n",
              "      <td>Can't Decide</td>\n",
              "      <td>Not Relevant</td>\n",
              "      <td>Not Relevant\\nCan't Decide</td>\n",
              "      <td>False</td>\n",
              "    </tr>\n",
              "    <tr>\n",
              "      <th>44</th>\n",
              "      <td>Can't Decide</td>\n",
              "      <td>Not Relevant</td>\n",
              "      <td>Not Relevant\\nCan't Decide</td>\n",
              "      <td>False</td>\n",
              "    </tr>\n",
              "  </tbody>\n",
              "</table>\n",
              "</div>\n",
              "      <button class=\"colab-df-convert\" onclick=\"convertToInteractive('df-de5ae8eb-8051-4a28-9ce6-5e9d3f9730c2')\"\n",
              "              title=\"Convert this dataframe to an interactive table.\"\n",
              "              style=\"display:none;\">\n",
              "        \n",
              "  <svg xmlns=\"http://www.w3.org/2000/svg\" height=\"24px\"viewBox=\"0 0 24 24\"\n",
              "       width=\"24px\">\n",
              "    <path d=\"M0 0h24v24H0V0z\" fill=\"none\"/>\n",
              "    <path d=\"M18.56 5.44l.94 2.06.94-2.06 2.06-.94-2.06-.94-.94-2.06-.94 2.06-2.06.94zm-11 1L8.5 8.5l.94-2.06 2.06-.94-2.06-.94L8.5 2.5l-.94 2.06-2.06.94zm10 10l.94 2.06.94-2.06 2.06-.94-2.06-.94-.94-2.06-.94 2.06-2.06.94z\"/><path d=\"M17.41 7.96l-1.37-1.37c-.4-.4-.92-.59-1.43-.59-.52 0-1.04.2-1.43.59L10.3 9.45l-7.72 7.72c-.78.78-.78 2.05 0 2.83L4 21.41c.39.39.9.59 1.41.59.51 0 1.02-.2 1.41-.59l7.78-7.78 2.81-2.81c.8-.78.8-2.07 0-2.86zM5.41 20L4 18.59l7.72-7.72 1.47 1.35L5.41 20z\"/>\n",
              "  </svg>\n",
              "      </button>\n",
              "      \n",
              "  <style>\n",
              "    .colab-df-container {\n",
              "      display:flex;\n",
              "      flex-wrap:wrap;\n",
              "      gap: 12px;\n",
              "    }\n",
              "\n",
              "    .colab-df-convert {\n",
              "      background-color: #E8F0FE;\n",
              "      border: none;\n",
              "      border-radius: 50%;\n",
              "      cursor: pointer;\n",
              "      display: none;\n",
              "      fill: #1967D2;\n",
              "      height: 32px;\n",
              "      padding: 0 0 0 0;\n",
              "      width: 32px;\n",
              "    }\n",
              "\n",
              "    .colab-df-convert:hover {\n",
              "      background-color: #E2EBFA;\n",
              "      box-shadow: 0px 1px 2px rgba(60, 64, 67, 0.3), 0px 1px 3px 1px rgba(60, 64, 67, 0.15);\n",
              "      fill: #174EA6;\n",
              "    }\n",
              "\n",
              "    [theme=dark] .colab-df-convert {\n",
              "      background-color: #3B4455;\n",
              "      fill: #D2E3FC;\n",
              "    }\n",
              "\n",
              "    [theme=dark] .colab-df-convert:hover {\n",
              "      background-color: #434B5C;\n",
              "      box-shadow: 0px 1px 3px 1px rgba(0, 0, 0, 0.15);\n",
              "      filter: drop-shadow(0px 1px 2px rgba(0, 0, 0, 0.3));\n",
              "      fill: #FFFFFF;\n",
              "    }\n",
              "  </style>\n",
              "\n",
              "      <script>\n",
              "        const buttonEl =\n",
              "          document.querySelector('#df-de5ae8eb-8051-4a28-9ce6-5e9d3f9730c2 button.colab-df-convert');\n",
              "        buttonEl.style.display =\n",
              "          google.colab.kernel.accessAllowed ? 'block' : 'none';\n",
              "\n",
              "        async function convertToInteractive(key) {\n",
              "          const element = document.querySelector('#df-de5ae8eb-8051-4a28-9ce6-5e9d3f9730c2');\n",
              "          const dataTable =\n",
              "            await google.colab.kernel.invokeFunction('convertToInteractive',\n",
              "                                                     [key], {});\n",
              "          if (!dataTable) return;\n",
              "\n",
              "          const docLinkHtml = 'Like what you see? Visit the ' +\n",
              "            '<a target=\"_blank\" href=https://colab.research.google.com/notebooks/data_table.ipynb>data table notebook</a>'\n",
              "            + ' to learn more about interactive tables.';\n",
              "          element.innerHTML = '';\n",
              "          dataTable['output_type'] = 'display_data';\n",
              "          await google.colab.output.renderOutput(dataTable, element);\n",
              "          const docLink = document.createElement('div');\n",
              "          docLink.innerHTML = docLinkHtml;\n",
              "          element.appendChild(docLink);\n",
              "        }\n",
              "      </script>\n",
              "    </div>\n",
              "  </div>\n",
              "  "
            ]
          },
          "metadata": {},
          "execution_count": 10
        }
      ]
    },
    {
      "cell_type": "markdown",
      "source": [
        "In previous table, i see that all non-null value of `choose_one_gold` field are same with `choose_one` field.\n",
        "\n",
        "Ok, i ***won't use this field*** because it have several null value and i have more value from `choose_one` ❌"
      ],
      "metadata": {
        "id": "lj9vCy60FzLK"
      }
    },
    {
      "cell_type": "markdown",
      "source": [
        "### **`choose_one:confidence` field**"
      ],
      "metadata": {
        "id": "SpAr1nOkHkrD"
      }
    },
    {
      "cell_type": "code",
      "source": [
        "disaster_db_df['choose_one:confidence'].isnull().value_counts()"
      ],
      "metadata": {
        "colab": {
          "base_uri": "https://localhost:8080/"
        },
        "id": "GXFAsKLhkkv2",
        "outputId": "34aa4953-5e74-4d8e-c4b5-7e0bb97a8195"
      },
      "execution_count": 11,
      "outputs": [
        {
          "output_type": "execute_result",
          "data": {
            "text/plain": [
              "False    10876\n",
              "Name: choose_one:confidence, dtype: int64"
            ]
          },
          "metadata": {},
          "execution_count": 11
        }
      ]
    },
    {
      "cell_type": "code",
      "source": [
        "def assign_range_value(x):\n",
        "  if 0.0 < x <= 0.5: return \"0.0 - 0.5\"\n",
        "  elif 0.5 < x <= 0.75: return \"0.5 - 0.75\"\n",
        "  elif 0.75 < x < 0.9: return \"0.75 - 0.9\"\n",
        "  elif 0.9 < x <= 1.0: return \"0.9 - 1.0\"\n",
        "  else: return \"> 1.0\"\n",
        "\n",
        "disaster_db_df[\"range_confidence\"] = disaster_db_df[\"choose_one:confidence\"].apply(lambda x: assign_range_value(x))\n",
        "disaster_db_df['range_confidence'].value_counts()"
      ],
      "metadata": {
        "colab": {
          "base_uri": "https://localhost:8080/"
        },
        "id": "kn9H4m95ktjo",
        "outputId": "d2dff4a9-079d-42f1-b328-6f497b4d019b"
      },
      "execution_count": 13,
      "outputs": [
        {
          "output_type": "execute_result",
          "data": {
            "text/plain": [
              "0.9 - 1.0     5066\n",
              "0.75 - 0.9    3075\n",
              "0.5 - 0.75    2597\n",
              "0.0 - 0.5      138\n",
              "Name: range_confidence, dtype: int64"
            ]
          },
          "metadata": {},
          "execution_count": 13
        }
      ]
    },
    {
      "cell_type": "markdown",
      "source": [
        "i can see that 74.85% of tweets are trustworthy in with its value: That's good 😀. But the question is: **How is thise proportion is distribuite over `choosen_one` field?**"
      ],
      "metadata": {
        "id": "zK7nbrw4msv_"
      }
    },
    {
      "cell_type": "code",
      "source": [
        "Relevant_group_df = disaster_db_df[disaster_db_df[\"choose_one\"] == \"Relevant\"]\n",
        "Relevant_group_df['range_confidence'].value_counts()"
      ],
      "metadata": {
        "colab": {
          "base_uri": "https://localhost:8080/"
        },
        "id": "PkwkvaNlnqzX",
        "outputId": "abadfadf-3ab9-4e44-ffc5-36993a5c336c"
      },
      "execution_count": 16,
      "outputs": [
        {
          "output_type": "execute_result",
          "data": {
            "text/plain": [
              "0.9 - 1.0     2273\n",
              "0.75 - 0.9    1172\n",
              "0.5 - 0.75    1148\n",
              "0.0 - 0.5       80\n",
              "Name: range_confidence, dtype: int64"
            ]
          },
          "metadata": {},
          "execution_count": 16
        }
      ]
    },
    {
      "cell_type": "code",
      "source": [
        "Relevant_group_df = disaster_db_df[disaster_db_df[\"choose_one\"] == \"Not Relevant\"]\n",
        "Relevant_group_df['range_confidence'].value_counts()"
      ],
      "metadata": {
        "colab": {
          "base_uri": "https://localhost:8080/"
        },
        "id": "pmqNlIR7qlsn",
        "outputId": "cbfce7b5-2939-403c-f200-df1925e233fb"
      },
      "execution_count": 17,
      "outputs": [
        {
          "output_type": "execute_result",
          "data": {
            "text/plain": [
              "0.9 - 1.0     2793\n",
              "0.75 - 0.9    1903\n",
              "0.5 - 0.75    1445\n",
              "0.0 - 0.5       46\n",
              "Name: range_confidence, dtype: int64"
            ]
          },
          "metadata": {},
          "execution_count": 17
        }
      ]
    },
    {
      "cell_type": "code",
      "source": [
        "Relevant_group_df = disaster_db_df[disaster_db_df[\"choose_one\"] == \"Can't Decide\"]\n",
        "Relevant_group_df['range_confidence'].value_counts()"
      ],
      "metadata": {
        "colab": {
          "base_uri": "https://localhost:8080/"
        },
        "id": "Ais4LOLNqqFW",
        "outputId": "592c5afe-36b7-4aef-9670-1933427244fb"
      },
      "execution_count": 18,
      "outputs": [
        {
          "output_type": "execute_result",
          "data": {
            "text/plain": [
              "0.0 - 0.5     12\n",
              "0.5 - 0.75     4\n",
              "Name: range_confidence, dtype: int64"
            ]
          },
          "metadata": {},
          "execution_count": 18
        }
      ]
    },
    {
      "cell_type": "markdown",
      "source": [
        "⚡ **Idea**: I can see the `Can't Decide` value in `choose_one` field is irrelevant for the amount, but i see that `0.5-0.75` range of other values of `choose_one` field can be renamed in `Can't Decide` value to get more amount: from 16 to 2609; that's good comparing other group amount 4.696(`Not Relevant`) and 3445(`Relevant`)."
      ],
      "metadata": {
        "id": "BEsKrY6ytj3-"
      }
    },
    {
      "cell_type": "markdown",
      "source": [
        "I won't use any value from `choose_one` field with `0.0-5.0` range because these values are irrelevant: they are not trustworthy."
      ],
      "metadata": {
        "id": "UBFWIEaewZGo"
      }
    },
    {
      "cell_type": "markdown",
      "source": [
        "### **`tweetid` and `text` fields**"
      ],
      "metadata": {
        "id": "kg5uXkuCxAuP"
      }
    },
    {
      "cell_type": "code",
      "source": [
        "disaster_db_df['tweetid'].isnull().value_counts()"
      ],
      "metadata": {
        "colab": {
          "base_uri": "https://localhost:8080/"
        },
        "id": "mK3l3qwDxGVD",
        "outputId": "0416e5a1-2797-4923-852f-8699f2b82380"
      },
      "execution_count": 39,
      "outputs": [
        {
          "output_type": "execute_result",
          "data": {
            "text/plain": [
              "False    10876\n",
              "Name: tweetid, dtype: int64"
            ]
          },
          "metadata": {},
          "execution_count": 39
        }
      ]
    },
    {
      "cell_type": "code",
      "source": [
        "disaster_db_df.astype({'tweetid': 'str'}).dtypes"
      ],
      "metadata": {
        "colab": {
          "base_uri": "https://localhost:8080/"
        },
        "id": "jQe9MwfO5GNO",
        "outputId": "c43b1de5-addb-4104-88bb-edbd5f005f68"
      },
      "execution_count": 40,
      "outputs": [
        {
          "output_type": "execute_result",
          "data": {
            "text/plain": [
              "_unit_id                                int64\n",
              "_golden                                  bool\n",
              "_unit_state                            object\n",
              "_trusted_judgments                      int64\n",
              "_last_judgment_at                      object\n",
              "choose_one                             object\n",
              "choose_one:confidence                 float64\n",
              "choose_one_gold                        object\n",
              "keyword                                object\n",
              "location                               object\n",
              "text                                   object\n",
              "tweetid                                object\n",
              "userid                                float64\n",
              "choose_one_gold_v2                     object\n",
              "is_choose_one_gold_with_choose_one       bool\n",
              "range_confidence                       object\n",
              "dtype: object"
            ]
          },
          "metadata": {},
          "execution_count": 40
        }
      ]
    },
    {
      "cell_type": "code",
      "source": [
        "unique_tweet_id = set(disaster_db_df['tweetid'])\n",
        "list_tweet_id = list(disaster_db_df['tweetid'])\n",
        "print(\"unique value are %s from %s\" % (len(unique_tweet_id), len(list_tweet_id)))"
      ],
      "metadata": {
        "colab": {
          "base_uri": "https://localhost:8080/"
        },
        "id": "nt-_PfJJ1ZiA",
        "outputId": "73b43695-cc05-46e3-cb6a-93c541f11000"
      },
      "execution_count": 41,
      "outputs": [
        {
          "output_type": "stream",
          "name": "stdout",
          "text": [
            "unique value are 1243 from 10876\n"
          ]
        }
      ]
    },
    {
      "cell_type": "code",
      "source": [
        "disaster_db_df['tweetid'].value_counts()"
      ],
      "metadata": {
        "colab": {
          "base_uri": "https://localhost:8080/"
        },
        "id": "U4bCQorTESzd",
        "outputId": "7ec46d4e-3e63-4853-c26d-0f712b9442fa"
      },
      "execution_count": 47,
      "outputs": [
        {
          "output_type": "execute_result",
          "data": {
            "text/plain": [
              "6.290840e+17    197\n",
              "6.290830e+17    190\n",
              "6.290990e+17    166\n",
              "6.290800e+17    157\n",
              "6.290820e+17    152\n",
              "               ... \n",
              "6.260600e+17      1\n",
              "6.260750e+17      1\n",
              "6.262370e+17      1\n",
              "6.276670e+17      1\n",
              "6.585000e+03      1\n",
              "Name: tweetid, Length: 1243, dtype: int64"
            ]
          },
          "metadata": {},
          "execution_count": 47
        }
      ]
    },
    {
      "cell_type": "code",
      "source": [
        "disaster_db_df[\"is_tweet_id_duplicated\"] = disaster_db_df.duplicated(subset=['tweetid'])\n",
        "duplicated_tweetit_db_df = disaster_db_df[disaster_db_df[\"is_tweet_id_duplicated\"] == True]\n",
        "duplicated_tweetit_db_df.sort_values(by = 'tweetid', inplace=True)\n",
        "duplicated_tweetit_db_df[[\"tweetid\", \"text\"]].head(20)"
      ],
      "metadata": {
        "colab": {
          "base_uri": "https://localhost:8080/",
          "height": 743
        },
        "id": "yUf4agF027JZ",
        "outputId": "9be56a89-dd8d-45a9-ba0a-14d4916010d9"
      },
      "execution_count": 50,
      "outputs": [
        {
          "output_type": "stream",
          "name": "stderr",
          "text": [
            "<ipython-input-50-2d003273006d>:3: SettingWithCopyWarning: \n",
            "A value is trying to be set on a copy of a slice from a DataFrame\n",
            "\n",
            "See the caveats in the documentation: https://pandas.pydata.org/pandas-docs/stable/user_guide/indexing.html#returning-a-view-versus-a-copy\n",
            "  duplicated_tweetit_db_df.sort_values(by = 'tweetid', inplace=True)\n"
          ]
        },
        {
          "output_type": "execute_result",
          "data": {
            "text/plain": [
              "            tweetid                                               text\n",
              "10872  4.234000e+03  Police investigating after an e-bike collided ...\n",
              "9066   6.260620e+17  Investigators say a fatal Virgin Galactic spac...\n",
              "9076   6.260620e+17  #BBCLive Investigators say a fatal Virgin Gala...\n",
              "9083   6.260630e+17  Investigators say a fatal Virgin Galactic spac...\n",
              "9048   6.260650e+17  Investigators say a fatal Virgin Galactic spac...\n",
              "1962   6.260760e+17  Schools in Western Uganda still Burning down B...\n",
              "9047   6.260760e+17  Virgin galactic crash: early unlocking of brak...\n",
              "9065   6.260760e+17  Virgin galactic crash: early unlocking of brak...\n",
              "9049   6.260890e+17  Investigators rule catastrophic structural fai...\n",
              "9089   6.260900e+17  NTSB: Virgin Galactic crash caused by structur...\n",
              "9055   6.261100e+17  @SirTitan45  Mega mood swing on a 24 hr schedu...\n",
              "1439   6.263870e+17  Idgaf who tough or who from Canada and who fro...\n",
              "2216   6.264270e+17  THE CHEMICAL BROTHERS to play The Armory in SF...\n",
              "1938   6.264330e+17  forestservice : RT dhsscitech: #Firefighters r...\n",
              "1941   6.265280e+17  @themagickidraps not upset with a rally upset ...\n",
              "868    6.265380e+17  #BreakingNews http://t.co/gAN14PW9TG FedEx no ...\n",
              "1965   6.265400e+17  'i never understood guys who wanted to run int...\n",
              "1469   6.265430e+17  We need to stop paying attention to @drizzy bo...\n",
              "869    6.265440e+17  FedEx no longer to transport bioterror germs i...\n",
              "840    6.265600e+17  FedEx to stop transporting bioterror germs aft..."
            ],
            "text/html": [
              "\n",
              "  <div id=\"df-75ca7856-009a-41e1-bcd9-a1c699f39442\">\n",
              "    <div class=\"colab-df-container\">\n",
              "      <div>\n",
              "<style scoped>\n",
              "    .dataframe tbody tr th:only-of-type {\n",
              "        vertical-align: middle;\n",
              "    }\n",
              "\n",
              "    .dataframe tbody tr th {\n",
              "        vertical-align: top;\n",
              "    }\n",
              "\n",
              "    .dataframe thead th {\n",
              "        text-align: right;\n",
              "    }\n",
              "</style>\n",
              "<table border=\"1\" class=\"dataframe\">\n",
              "  <thead>\n",
              "    <tr style=\"text-align: right;\">\n",
              "      <th></th>\n",
              "      <th>tweetid</th>\n",
              "      <th>text</th>\n",
              "    </tr>\n",
              "  </thead>\n",
              "  <tbody>\n",
              "    <tr>\n",
              "      <th>10872</th>\n",
              "      <td>4.234000e+03</td>\n",
              "      <td>Police investigating after an e-bike collided ...</td>\n",
              "    </tr>\n",
              "    <tr>\n",
              "      <th>9066</th>\n",
              "      <td>6.260620e+17</td>\n",
              "      <td>Investigators say a fatal Virgin Galactic spac...</td>\n",
              "    </tr>\n",
              "    <tr>\n",
              "      <th>9076</th>\n",
              "      <td>6.260620e+17</td>\n",
              "      <td>#BBCLive Investigators say a fatal Virgin Gala...</td>\n",
              "    </tr>\n",
              "    <tr>\n",
              "      <th>9083</th>\n",
              "      <td>6.260630e+17</td>\n",
              "      <td>Investigators say a fatal Virgin Galactic spac...</td>\n",
              "    </tr>\n",
              "    <tr>\n",
              "      <th>9048</th>\n",
              "      <td>6.260650e+17</td>\n",
              "      <td>Investigators say a fatal Virgin Galactic spac...</td>\n",
              "    </tr>\n",
              "    <tr>\n",
              "      <th>1962</th>\n",
              "      <td>6.260760e+17</td>\n",
              "      <td>Schools in Western Uganda still Burning down B...</td>\n",
              "    </tr>\n",
              "    <tr>\n",
              "      <th>9047</th>\n",
              "      <td>6.260760e+17</td>\n",
              "      <td>Virgin galactic crash: early unlocking of brak...</td>\n",
              "    </tr>\n",
              "    <tr>\n",
              "      <th>9065</th>\n",
              "      <td>6.260760e+17</td>\n",
              "      <td>Virgin galactic crash: early unlocking of brak...</td>\n",
              "    </tr>\n",
              "    <tr>\n",
              "      <th>9049</th>\n",
              "      <td>6.260890e+17</td>\n",
              "      <td>Investigators rule catastrophic structural fai...</td>\n",
              "    </tr>\n",
              "    <tr>\n",
              "      <th>9089</th>\n",
              "      <td>6.260900e+17</td>\n",
              "      <td>NTSB: Virgin Galactic crash caused by structur...</td>\n",
              "    </tr>\n",
              "    <tr>\n",
              "      <th>9055</th>\n",
              "      <td>6.261100e+17</td>\n",
              "      <td>@SirTitan45  Mega mood swing on a 24 hr schedu...</td>\n",
              "    </tr>\n",
              "    <tr>\n",
              "      <th>1439</th>\n",
              "      <td>6.263870e+17</td>\n",
              "      <td>Idgaf who tough or who from Canada and who fro...</td>\n",
              "    </tr>\n",
              "    <tr>\n",
              "      <th>2216</th>\n",
              "      <td>6.264270e+17</td>\n",
              "      <td>THE CHEMICAL BROTHERS to play The Armory in SF...</td>\n",
              "    </tr>\n",
              "    <tr>\n",
              "      <th>1938</th>\n",
              "      <td>6.264330e+17</td>\n",
              "      <td>forestservice : RT dhsscitech: #Firefighters r...</td>\n",
              "    </tr>\n",
              "    <tr>\n",
              "      <th>1941</th>\n",
              "      <td>6.265280e+17</td>\n",
              "      <td>@themagickidraps not upset with a rally upset ...</td>\n",
              "    </tr>\n",
              "    <tr>\n",
              "      <th>868</th>\n",
              "      <td>6.265380e+17</td>\n",
              "      <td>#BreakingNews http://t.co/gAN14PW9TG FedEx no ...</td>\n",
              "    </tr>\n",
              "    <tr>\n",
              "      <th>1965</th>\n",
              "      <td>6.265400e+17</td>\n",
              "      <td>'i never understood guys who wanted to run int...</td>\n",
              "    </tr>\n",
              "    <tr>\n",
              "      <th>1469</th>\n",
              "      <td>6.265430e+17</td>\n",
              "      <td>We need to stop paying attention to @drizzy bo...</td>\n",
              "    </tr>\n",
              "    <tr>\n",
              "      <th>869</th>\n",
              "      <td>6.265440e+17</td>\n",
              "      <td>FedEx no longer to transport bioterror germs i...</td>\n",
              "    </tr>\n",
              "    <tr>\n",
              "      <th>840</th>\n",
              "      <td>6.265600e+17</td>\n",
              "      <td>FedEx to stop transporting bioterror germs aft...</td>\n",
              "    </tr>\n",
              "  </tbody>\n",
              "</table>\n",
              "</div>\n",
              "      <button class=\"colab-df-convert\" onclick=\"convertToInteractive('df-75ca7856-009a-41e1-bcd9-a1c699f39442')\"\n",
              "              title=\"Convert this dataframe to an interactive table.\"\n",
              "              style=\"display:none;\">\n",
              "        \n",
              "  <svg xmlns=\"http://www.w3.org/2000/svg\" height=\"24px\"viewBox=\"0 0 24 24\"\n",
              "       width=\"24px\">\n",
              "    <path d=\"M0 0h24v24H0V0z\" fill=\"none\"/>\n",
              "    <path d=\"M18.56 5.44l.94 2.06.94-2.06 2.06-.94-2.06-.94-.94-2.06-.94 2.06-2.06.94zm-11 1L8.5 8.5l.94-2.06 2.06-.94-2.06-.94L8.5 2.5l-.94 2.06-2.06.94zm10 10l.94 2.06.94-2.06 2.06-.94-2.06-.94-.94-2.06-.94 2.06-2.06.94z\"/><path d=\"M17.41 7.96l-1.37-1.37c-.4-.4-.92-.59-1.43-.59-.52 0-1.04.2-1.43.59L10.3 9.45l-7.72 7.72c-.78.78-.78 2.05 0 2.83L4 21.41c.39.39.9.59 1.41.59.51 0 1.02-.2 1.41-.59l7.78-7.78 2.81-2.81c.8-.78.8-2.07 0-2.86zM5.41 20L4 18.59l7.72-7.72 1.47 1.35L5.41 20z\"/>\n",
              "  </svg>\n",
              "      </button>\n",
              "      \n",
              "  <style>\n",
              "    .colab-df-container {\n",
              "      display:flex;\n",
              "      flex-wrap:wrap;\n",
              "      gap: 12px;\n",
              "    }\n",
              "\n",
              "    .colab-df-convert {\n",
              "      background-color: #E8F0FE;\n",
              "      border: none;\n",
              "      border-radius: 50%;\n",
              "      cursor: pointer;\n",
              "      display: none;\n",
              "      fill: #1967D2;\n",
              "      height: 32px;\n",
              "      padding: 0 0 0 0;\n",
              "      width: 32px;\n",
              "    }\n",
              "\n",
              "    .colab-df-convert:hover {\n",
              "      background-color: #E2EBFA;\n",
              "      box-shadow: 0px 1px 2px rgba(60, 64, 67, 0.3), 0px 1px 3px 1px rgba(60, 64, 67, 0.15);\n",
              "      fill: #174EA6;\n",
              "    }\n",
              "\n",
              "    [theme=dark] .colab-df-convert {\n",
              "      background-color: #3B4455;\n",
              "      fill: #D2E3FC;\n",
              "    }\n",
              "\n",
              "    [theme=dark] .colab-df-convert:hover {\n",
              "      background-color: #434B5C;\n",
              "      box-shadow: 0px 1px 3px 1px rgba(0, 0, 0, 0.15);\n",
              "      filter: drop-shadow(0px 1px 2px rgba(0, 0, 0, 0.3));\n",
              "      fill: #FFFFFF;\n",
              "    }\n",
              "  </style>\n",
              "\n",
              "      <script>\n",
              "        const buttonEl =\n",
              "          document.querySelector('#df-75ca7856-009a-41e1-bcd9-a1c699f39442 button.colab-df-convert');\n",
              "        buttonEl.style.display =\n",
              "          google.colab.kernel.accessAllowed ? 'block' : 'none';\n",
              "\n",
              "        async function convertToInteractive(key) {\n",
              "          const element = document.querySelector('#df-75ca7856-009a-41e1-bcd9-a1c699f39442');\n",
              "          const dataTable =\n",
              "            await google.colab.kernel.invokeFunction('convertToInteractive',\n",
              "                                                     [key], {});\n",
              "          if (!dataTable) return;\n",
              "\n",
              "          const docLinkHtml = 'Like what you see? Visit the ' +\n",
              "            '<a target=\"_blank\" href=https://colab.research.google.com/notebooks/data_table.ipynb>data table notebook</a>'\n",
              "            + ' to learn more about interactive tables.';\n",
              "          element.innerHTML = '';\n",
              "          dataTable['output_type'] = 'display_data';\n",
              "          await google.colab.output.renderOutput(dataTable, element);\n",
              "          const docLink = document.createElement('div');\n",
              "          docLink.innerHTML = docLinkHtml;\n",
              "          element.appendChild(docLink);\n",
              "        }\n",
              "      </script>\n",
              "    </div>\n",
              "  </div>\n",
              "  "
            ]
          },
          "metadata": {},
          "execution_count": 50
        }
      ]
    },
    {
      "cell_type": "markdown",
      "source": [
        "i can see several points:\n",
        "\n",
        "\n",
        "1.   Case #1 (based on 9083 and 9048 id): i can get difference values from `tweetids` field but same text apparently. \n",
        "2.   Case #2 : i can several duplicated value in `tweetids` field.\n",
        "3.   Case #3 (based on 9076 and  9066) : i can get similar texts but with its differences from same value in `tweetids` field.\n",
        "\n",
        "Based in these points i need to do following 🧰:\n",
        "\n",
        "\n",
        "*   Remove URLs and arrobas.\n",
        "*   Replace hashtag content with non-hashtag version.\n",
        "*   Get the most long length version of text to cover more information.\n",
        "*   Check the distribution of `choose one` field after that, to create a clean dataset (based in the ideas) and the label.\n"
      ],
      "metadata": {
        "id": "esJWjHBKQcZz"
      }
    },
    {
      "cell_type": "markdown",
      "source": [
        "## Create a new and cleaning dataset"
      ],
      "metadata": {
        "id": "6Wxba-OCVl56"
      }
    }
  ]
}