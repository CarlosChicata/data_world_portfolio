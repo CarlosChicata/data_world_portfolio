{
  "nbformat": 4,
  "nbformat_minor": 0,
  "metadata": {
    "colab": {
      "provenance": []
    },
    "kernelspec": {
      "name": "python3",
      "display_name": "Python 3"
    },
    "language_info": {
      "name": "python"
    }
  },
  "cells": [
    {
      "cell_type": "markdown",
      "source": [
        "# Analysis of dataset to assign label"
      ],
      "metadata": {
        "id": "UhtXwiV28oYM"
      }
    },
    {
      "cell_type": "markdown",
      "source": [
        "The purpose of this subproject is ; in a simple and easy way; assign a better label for classification in kind of disaster and whether or not it is a joke.\n",
        "\n",
        "As dataset is pre-labeled from human team; i will use this features like basis and guide for this process."
      ],
      "metadata": {
        "id": "Np4q9KC_81YO"
      }
    },
    {
      "cell_type": "markdown",
      "source": [
        "## Preparing enviroment to work"
      ],
      "metadata": {
        "id": "J6xS9zlRATD7"
      }
    },
    {
      "cell_type": "code",
      "source": [
        "!pip install boto3\n",
        "!pip install pandas"
      ],
      "metadata": {
        "colab": {
          "base_uri": "https://localhost:8080/"
        },
        "id": "7fHThBE0-h8q",
        "outputId": "4c6201a9-7803-4438-9997-a1a2829d5c57"
      },
      "execution_count": 1,
      "outputs": [
        {
          "output_type": "stream",
          "name": "stdout",
          "text": [
            "Looking in indexes: https://pypi.org/simple, https://us-python.pkg.dev/colab-wheels/public/simple/\n",
            "Collecting boto3\n",
            "  Downloading boto3-1.26.131-py3-none-any.whl (135 kB)\n",
            "\u001b[2K     \u001b[90m━━━━━━━━━━━━━━━━━━━━━━━━━━━━━━━━━━━━━━━\u001b[0m \u001b[32m135.6/135.6 kB\u001b[0m \u001b[31m2.0 MB/s\u001b[0m eta \u001b[36m0:00:00\u001b[0m\n",
            "\u001b[?25hCollecting botocore<1.30.0,>=1.29.131 (from boto3)\n",
            "  Downloading botocore-1.29.131-py3-none-any.whl (10.7 MB)\n",
            "\u001b[2K     \u001b[90m━━━━━━━━━━━━━━━━━━━━━━━━━━━━━━━━━━━━━━━━\u001b[0m \u001b[32m10.7/10.7 MB\u001b[0m \u001b[31m34.5 MB/s\u001b[0m eta \u001b[36m0:00:00\u001b[0m\n",
            "\u001b[?25hCollecting jmespath<2.0.0,>=0.7.1 (from boto3)\n",
            "  Downloading jmespath-1.0.1-py3-none-any.whl (20 kB)\n",
            "Collecting s3transfer<0.7.0,>=0.6.0 (from boto3)\n",
            "  Downloading s3transfer-0.6.1-py3-none-any.whl (79 kB)\n",
            "\u001b[2K     \u001b[90m━━━━━━━━━━━━━━━━━━━━━━━━━━━━━━━━━━━━━━━━\u001b[0m \u001b[32m79.8/79.8 kB\u001b[0m \u001b[31m2.3 MB/s\u001b[0m eta \u001b[36m0:00:00\u001b[0m\n",
            "\u001b[?25hRequirement already satisfied: python-dateutil<3.0.0,>=2.1 in /usr/local/lib/python3.10/dist-packages (from botocore<1.30.0,>=1.29.131->boto3) (2.8.2)\n",
            "Requirement already satisfied: urllib3<1.27,>=1.25.4 in /usr/local/lib/python3.10/dist-packages (from botocore<1.30.0,>=1.29.131->boto3) (1.26.15)\n",
            "Requirement already satisfied: six>=1.5 in /usr/local/lib/python3.10/dist-packages (from python-dateutil<3.0.0,>=2.1->botocore<1.30.0,>=1.29.131->boto3) (1.16.0)\n",
            "Installing collected packages: jmespath, botocore, s3transfer, boto3\n",
            "Successfully installed boto3-1.26.131 botocore-1.29.131 jmespath-1.0.1 s3transfer-0.6.1\n",
            "Looking in indexes: https://pypi.org/simple, https://us-python.pkg.dev/colab-wheels/public/simple/\n",
            "Requirement already satisfied: pandas in /usr/local/lib/python3.10/dist-packages (1.5.3)\n",
            "Requirement already satisfied: python-dateutil>=2.8.1 in /usr/local/lib/python3.10/dist-packages (from pandas) (2.8.2)\n",
            "Requirement already satisfied: pytz>=2020.1 in /usr/local/lib/python3.10/dist-packages (from pandas) (2022.7.1)\n",
            "Requirement already satisfied: numpy>=1.21.0 in /usr/local/lib/python3.10/dist-packages (from pandas) (1.22.4)\n",
            "Requirement already satisfied: six>=1.5 in /usr/local/lib/python3.10/dist-packages (from python-dateutil>=2.8.1->pandas) (1.16.0)\n"
          ]
        }
      ]
    },
    {
      "cell_type": "code",
      "source": [
        "import re\n",
        "from functools import reduce, partial\n",
        "from collections import defaultdict\n",
        "import operator\n",
        "\n",
        "import pandas as pd\n",
        "import numpy as np\n",
        "from boto3 import Session"
      ],
      "metadata": {
        "id": "W0qwwueFAn5j"
      },
      "execution_count": 44,
      "outputs": []
    },
    {
      "cell_type": "code",
      "source": [
        "disaster_db_df = pd.read_csv(\"/database.csv\", encoding=\"latin9\")\n",
        "disaster_db_df.head(5)"
      ],
      "metadata": {
        "colab": {
          "base_uri": "https://localhost:8080/",
          "height": 583
        },
        "id": "9fVCKZEVAwJj",
        "outputId": "40fab2a4-0334-4fac-937a-79e403f68f0b"
      },
      "execution_count": 3,
      "outputs": [
        {
          "output_type": "execute_result",
          "data": {
            "text/plain": [
              "    _unit_id  _golden _unit_state  _trusted_judgments _last_judgment_at  \\\n",
              "0  778243823     True      golden                 156               NaN   \n",
              "1  778243824     True      golden                 152               NaN   \n",
              "2  778243825     True      golden                 137               NaN   \n",
              "3  778243826     True      golden                 136               NaN   \n",
              "4  778243827     True      golden                 138               NaN   \n",
              "\n",
              "  choose_one  choose_one:confidence choose_one_gold keyword location  \\\n",
              "0   Relevant                 1.0000        Relevant     NaN      NaN   \n",
              "1   Relevant                 1.0000        Relevant     NaN      NaN   \n",
              "2   Relevant                 1.0000        Relevant     NaN      NaN   \n",
              "3   Relevant                 0.9603        Relevant     NaN      NaN   \n",
              "4   Relevant                 1.0000        Relevant     NaN      NaN   \n",
              "\n",
              "                                                text  tweetid  userid  \n",
              "0                 Just happened a terrible car crash      1.0     NaN  \n",
              "1  Our Deeds are the Reason of this #earthquake M...     13.0     NaN  \n",
              "2  Heard about #earthquake is different cities, s...     14.0     NaN  \n",
              "3  there is a forest fire at spot pond, geese are...     15.0     NaN  \n",
              "4             Forest fire near La Ronge Sask. Canada     16.0     NaN  "
            ],
            "text/html": [
              "\n",
              "  <div id=\"df-73d01853-f199-4ddc-acbc-842817cb4857\">\n",
              "    <div class=\"colab-df-container\">\n",
              "      <div>\n",
              "<style scoped>\n",
              "    .dataframe tbody tr th:only-of-type {\n",
              "        vertical-align: middle;\n",
              "    }\n",
              "\n",
              "    .dataframe tbody tr th {\n",
              "        vertical-align: top;\n",
              "    }\n",
              "\n",
              "    .dataframe thead th {\n",
              "        text-align: right;\n",
              "    }\n",
              "</style>\n",
              "<table border=\"1\" class=\"dataframe\">\n",
              "  <thead>\n",
              "    <tr style=\"text-align: right;\">\n",
              "      <th></th>\n",
              "      <th>_unit_id</th>\n",
              "      <th>_golden</th>\n",
              "      <th>_unit_state</th>\n",
              "      <th>_trusted_judgments</th>\n",
              "      <th>_last_judgment_at</th>\n",
              "      <th>choose_one</th>\n",
              "      <th>choose_one:confidence</th>\n",
              "      <th>choose_one_gold</th>\n",
              "      <th>keyword</th>\n",
              "      <th>location</th>\n",
              "      <th>text</th>\n",
              "      <th>tweetid</th>\n",
              "      <th>userid</th>\n",
              "    </tr>\n",
              "  </thead>\n",
              "  <tbody>\n",
              "    <tr>\n",
              "      <th>0</th>\n",
              "      <td>778243823</td>\n",
              "      <td>True</td>\n",
              "      <td>golden</td>\n",
              "      <td>156</td>\n",
              "      <td>NaN</td>\n",
              "      <td>Relevant</td>\n",
              "      <td>1.0000</td>\n",
              "      <td>Relevant</td>\n",
              "      <td>NaN</td>\n",
              "      <td>NaN</td>\n",
              "      <td>Just happened a terrible car crash</td>\n",
              "      <td>1.0</td>\n",
              "      <td>NaN</td>\n",
              "    </tr>\n",
              "    <tr>\n",
              "      <th>1</th>\n",
              "      <td>778243824</td>\n",
              "      <td>True</td>\n",
              "      <td>golden</td>\n",
              "      <td>152</td>\n",
              "      <td>NaN</td>\n",
              "      <td>Relevant</td>\n",
              "      <td>1.0000</td>\n",
              "      <td>Relevant</td>\n",
              "      <td>NaN</td>\n",
              "      <td>NaN</td>\n",
              "      <td>Our Deeds are the Reason of this #earthquake M...</td>\n",
              "      <td>13.0</td>\n",
              "      <td>NaN</td>\n",
              "    </tr>\n",
              "    <tr>\n",
              "      <th>2</th>\n",
              "      <td>778243825</td>\n",
              "      <td>True</td>\n",
              "      <td>golden</td>\n",
              "      <td>137</td>\n",
              "      <td>NaN</td>\n",
              "      <td>Relevant</td>\n",
              "      <td>1.0000</td>\n",
              "      <td>Relevant</td>\n",
              "      <td>NaN</td>\n",
              "      <td>NaN</td>\n",
              "      <td>Heard about #earthquake is different cities, s...</td>\n",
              "      <td>14.0</td>\n",
              "      <td>NaN</td>\n",
              "    </tr>\n",
              "    <tr>\n",
              "      <th>3</th>\n",
              "      <td>778243826</td>\n",
              "      <td>True</td>\n",
              "      <td>golden</td>\n",
              "      <td>136</td>\n",
              "      <td>NaN</td>\n",
              "      <td>Relevant</td>\n",
              "      <td>0.9603</td>\n",
              "      <td>Relevant</td>\n",
              "      <td>NaN</td>\n",
              "      <td>NaN</td>\n",
              "      <td>there is a forest fire at spot pond, geese are...</td>\n",
              "      <td>15.0</td>\n",
              "      <td>NaN</td>\n",
              "    </tr>\n",
              "    <tr>\n",
              "      <th>4</th>\n",
              "      <td>778243827</td>\n",
              "      <td>True</td>\n",
              "      <td>golden</td>\n",
              "      <td>138</td>\n",
              "      <td>NaN</td>\n",
              "      <td>Relevant</td>\n",
              "      <td>1.0000</td>\n",
              "      <td>Relevant</td>\n",
              "      <td>NaN</td>\n",
              "      <td>NaN</td>\n",
              "      <td>Forest fire near La Ronge Sask. Canada</td>\n",
              "      <td>16.0</td>\n",
              "      <td>NaN</td>\n",
              "    </tr>\n",
              "  </tbody>\n",
              "</table>\n",
              "</div>\n",
              "      <button class=\"colab-df-convert\" onclick=\"convertToInteractive('df-73d01853-f199-4ddc-acbc-842817cb4857')\"\n",
              "              title=\"Convert this dataframe to an interactive table.\"\n",
              "              style=\"display:none;\">\n",
              "        \n",
              "  <svg xmlns=\"http://www.w3.org/2000/svg\" height=\"24px\"viewBox=\"0 0 24 24\"\n",
              "       width=\"24px\">\n",
              "    <path d=\"M0 0h24v24H0V0z\" fill=\"none\"/>\n",
              "    <path d=\"M18.56 5.44l.94 2.06.94-2.06 2.06-.94-2.06-.94-.94-2.06-.94 2.06-2.06.94zm-11 1L8.5 8.5l.94-2.06 2.06-.94-2.06-.94L8.5 2.5l-.94 2.06-2.06.94zm10 10l.94 2.06.94-2.06 2.06-.94-2.06-.94-.94-2.06-.94 2.06-2.06.94z\"/><path d=\"M17.41 7.96l-1.37-1.37c-.4-.4-.92-.59-1.43-.59-.52 0-1.04.2-1.43.59L10.3 9.45l-7.72 7.72c-.78.78-.78 2.05 0 2.83L4 21.41c.39.39.9.59 1.41.59.51 0 1.02-.2 1.41-.59l7.78-7.78 2.81-2.81c.8-.78.8-2.07 0-2.86zM5.41 20L4 18.59l7.72-7.72 1.47 1.35L5.41 20z\"/>\n",
              "  </svg>\n",
              "      </button>\n",
              "      \n",
              "  <style>\n",
              "    .colab-df-container {\n",
              "      display:flex;\n",
              "      flex-wrap:wrap;\n",
              "      gap: 12px;\n",
              "    }\n",
              "\n",
              "    .colab-df-convert {\n",
              "      background-color: #E8F0FE;\n",
              "      border: none;\n",
              "      border-radius: 50%;\n",
              "      cursor: pointer;\n",
              "      display: none;\n",
              "      fill: #1967D2;\n",
              "      height: 32px;\n",
              "      padding: 0 0 0 0;\n",
              "      width: 32px;\n",
              "    }\n",
              "\n",
              "    .colab-df-convert:hover {\n",
              "      background-color: #E2EBFA;\n",
              "      box-shadow: 0px 1px 2px rgba(60, 64, 67, 0.3), 0px 1px 3px 1px rgba(60, 64, 67, 0.15);\n",
              "      fill: #174EA6;\n",
              "    }\n",
              "\n",
              "    [theme=dark] .colab-df-convert {\n",
              "      background-color: #3B4455;\n",
              "      fill: #D2E3FC;\n",
              "    }\n",
              "\n",
              "    [theme=dark] .colab-df-convert:hover {\n",
              "      background-color: #434B5C;\n",
              "      box-shadow: 0px 1px 3px 1px rgba(0, 0, 0, 0.15);\n",
              "      filter: drop-shadow(0px 1px 2px rgba(0, 0, 0, 0.3));\n",
              "      fill: #FFFFFF;\n",
              "    }\n",
              "  </style>\n",
              "\n",
              "      <script>\n",
              "        const buttonEl =\n",
              "          document.querySelector('#df-73d01853-f199-4ddc-acbc-842817cb4857 button.colab-df-convert');\n",
              "        buttonEl.style.display =\n",
              "          google.colab.kernel.accessAllowed ? 'block' : 'none';\n",
              "\n",
              "        async function convertToInteractive(key) {\n",
              "          const element = document.querySelector('#df-73d01853-f199-4ddc-acbc-842817cb4857');\n",
              "          const dataTable =\n",
              "            await google.colab.kernel.invokeFunction('convertToInteractive',\n",
              "                                                     [key], {});\n",
              "          if (!dataTable) return;\n",
              "\n",
              "          const docLinkHtml = 'Like what you see? Visit the ' +\n",
              "            '<a target=\"_blank\" href=https://colab.research.google.com/notebooks/data_table.ipynb>data table notebook</a>'\n",
              "            + ' to learn more about interactive tables.';\n",
              "          element.innerHTML = '';\n",
              "          dataTable['output_type'] = 'display_data';\n",
              "          await google.colab.output.renderOutput(dataTable, element);\n",
              "          const docLink = document.createElement('div');\n",
              "          docLink.innerHTML = docLinkHtml;\n",
              "          element.appendChild(docLink);\n",
              "        }\n",
              "      </script>\n",
              "    </div>\n",
              "  </div>\n",
              "  "
            ]
          },
          "metadata": {},
          "execution_count": 3
        }
      ]
    },
    {
      "cell_type": "markdown",
      "source": [
        "Based in data sample, i think the `choose_one`, `choose_one:confidence`, `choosen_one_gold`, `text` and `tweetid` are important for the analysis; i need to check if my hypothesis is true.\n",
        "\n",
        "---\n",
        "\n"
      ],
      "metadata": {
        "id": "v5PlpiI0Bmsc"
      }
    },
    {
      "cell_type": "markdown",
      "source": [
        "# Checking the mentioned features are relevant or not"
      ],
      "metadata": {
        "id": "-bOex6QDBmy0"
      }
    },
    {
      "cell_type": "markdown",
      "source": [
        "### **`Choose_one` field**"
      ],
      "metadata": {
        "id": "AfrImXD-FX7T"
      }
    },
    {
      "cell_type": "code",
      "source": [
        "disaster_db_df['choose_one'].value_counts()"
      ],
      "metadata": {
        "colab": {
          "base_uri": "https://localhost:8080/"
        },
        "id": "6SGIQ0ItCSmt",
        "outputId": "ab0fcaad-c7e0-4a7f-c358-e2ff71430df6"
      },
      "execution_count": 4,
      "outputs": [
        {
          "output_type": "execute_result",
          "data": {
            "text/plain": [
              "Not Relevant    6187\n",
              "Relevant        4673\n",
              "Can't Decide      16\n",
              "Name: choose_one, dtype: int64"
            ]
          },
          "metadata": {},
          "execution_count": 4
        }
      ]
    },
    {
      "cell_type": "code",
      "source": [
        "disaster_db_df['choose_one'].isnull().value_counts()"
      ],
      "metadata": {
        "colab": {
          "base_uri": "https://localhost:8080/"
        },
        "id": "hHz7cU6EFQum",
        "outputId": "b88a18c0-9b93-428b-bd64-0b14ea7aff9b"
      },
      "execution_count": 5,
      "outputs": [
        {
          "output_type": "execute_result",
          "data": {
            "text/plain": [
              "False    10876\n",
              "Name: choose_one, dtype: int64"
            ]
          },
          "metadata": {},
          "execution_count": 5
        }
      ]
    },
    {
      "cell_type": "markdown",
      "source": [
        "That's ready to use ✅"
      ],
      "metadata": {
        "id": "SfCUrZrVFk-a"
      }
    },
    {
      "cell_type": "markdown",
      "source": [
        "### **`choose_one_gold` field**"
      ],
      "metadata": {
        "id": "IB1Jw1MPFhqk"
      }
    },
    {
      "cell_type": "code",
      "source": [
        "disaster_db_df['choose_one_gold'].value_counts()"
      ],
      "metadata": {
        "colab": {
          "base_uri": "https://localhost:8080/"
        },
        "id": "hjIOTaH1Es1l",
        "outputId": "d37d72ca-294d-42e4-8b58-e9a41671c28c"
      },
      "execution_count": 6,
      "outputs": [
        {
          "output_type": "execute_result",
          "data": {
            "text/plain": [
              "Relevant                      57\n",
              "Not Relevant                  24\n",
              "Relevant\\nCan't Decide         4\n",
              "Not Relevant\\nCan't Decide     2\n",
              "Name: choose_one_gold, dtype: int64"
            ]
          },
          "metadata": {},
          "execution_count": 6
        }
      ]
    },
    {
      "cell_type": "code",
      "source": [
        "disaster_db_df['choose_one_gold'].isnull().value_counts()"
      ],
      "metadata": {
        "colab": {
          "base_uri": "https://localhost:8080/"
        },
        "id": "GcfbcJuRE02i",
        "outputId": "4d6b8003-1cda-461f-b2d9-e8cf8b9d5bc5"
      },
      "execution_count": 7,
      "outputs": [
        {
          "output_type": "execute_result",
          "data": {
            "text/plain": [
              "True     10789\n",
              "False       87\n",
              "Name: choose_one_gold, dtype: int64"
            ]
          },
          "metadata": {},
          "execution_count": 7
        }
      ]
    },
    {
      "cell_type": "markdown",
      "source": [
        "***QUESTION #1: Can i replace it with `choose_one` field?***"
      ],
      "metadata": {
        "id": "jqmZIye-ImIt"
      }
    },
    {
      "cell_type": "code",
      "source": [
        "disaster_db_df.replace(np.nan, None)\n",
        "disaster_db_df[\"choose_one_gold_v2\"] = disaster_db_df[\"choose_one_gold\"].apply(\n",
        "    lambda x: x.split(\"\\n\")[-1] if type(x) is str else None\n",
        ")\n",
        "disaster_db_df[\"choose_one_gold_v2\"].value_counts()"
      ],
      "metadata": {
        "colab": {
          "base_uri": "https://localhost:8080/"
        },
        "id": "iZ9izr4CGSA5",
        "outputId": "f4fa62b6-6f67-44fa-ce3e-3e361211bfab"
      },
      "execution_count": 8,
      "outputs": [
        {
          "output_type": "execute_result",
          "data": {
            "text/plain": [
              "Relevant        57\n",
              "Not Relevant    24\n",
              "Can't Decide     6\n",
              "Name: choose_one_gold_v2, dtype: int64"
            ]
          },
          "metadata": {},
          "execution_count": 8
        }
      ]
    },
    {
      "cell_type": "code",
      "source": [
        "disaster_db_df[\"is_choose_one_gold_with_choose_one\"] = disaster_db_df.apply( \n",
        "    lambda x: True if x[\"choose_one_gold_v2\"] == x[\"choose_one_gold\"] else False, \n",
        "    axis=1\n",
        "  )\n",
        "selected_choose_one_gold_df = disaster_db_df[ disaster_db_df[\"choose_one_gold_v2\"].isin([\"Relevant\", \"Not Relevant\", \"Can't Decide\"])]\n",
        "selected_choose_one_gold_df[\"is_choose_one_gold_with_choose_one\"].value_counts()"
      ],
      "metadata": {
        "colab": {
          "base_uri": "https://localhost:8080/"
        },
        "id": "eKay5gbII-Zl",
        "outputId": "45f8f1d5-fa2f-4884-db19-c1eeaea6c05e"
      },
      "execution_count": 9,
      "outputs": [
        {
          "output_type": "execute_result",
          "data": {
            "text/plain": [
              "True     81\n",
              "False     6\n",
              "Name: is_choose_one_gold_with_choose_one, dtype: int64"
            ]
          },
          "metadata": {},
          "execution_count": 9
        }
      ]
    },
    {
      "cell_type": "code",
      "source": [
        "selected_choose_one_gold_df = selected_choose_one_gold_df[selected_choose_one_gold_df[\"is_choose_one_gold_with_choose_one\"].isin([False])]\n",
        "selected_choose_one_gold_df[[\"choose_one_gold_v2\", \"choose_one\", \"choose_one_gold\", \"is_choose_one_gold_with_choose_one\"]]"
      ],
      "metadata": {
        "colab": {
          "base_uri": "https://localhost:8080/",
          "height": 238
        },
        "id": "vOcY6Y6BNSQu",
        "outputId": "a96fef67-4075-4843-d28c-fbe89b59194b"
      },
      "execution_count": 10,
      "outputs": [
        {
          "output_type": "execute_result",
          "data": {
            "text/plain": [
              "   choose_one_gold_v2    choose_one             choose_one_gold  \\\n",
              "9        Can't Decide      Relevant      Relevant\\nCan't Decide   \n",
              "13       Can't Decide      Relevant      Relevant\\nCan't Decide   \n",
              "15       Can't Decide      Relevant      Relevant\\nCan't Decide   \n",
              "19       Can't Decide      Relevant      Relevant\\nCan't Decide   \n",
              "42       Can't Decide  Not Relevant  Not Relevant\\nCan't Decide   \n",
              "44       Can't Decide  Not Relevant  Not Relevant\\nCan't Decide   \n",
              "\n",
              "    is_choose_one_gold_with_choose_one  \n",
              "9                                False  \n",
              "13                               False  \n",
              "15                               False  \n",
              "19                               False  \n",
              "42                               False  \n",
              "44                               False  "
            ],
            "text/html": [
              "\n",
              "  <div id=\"df-e886b400-fa1e-499b-bb79-d02610a461d2\">\n",
              "    <div class=\"colab-df-container\">\n",
              "      <div>\n",
              "<style scoped>\n",
              "    .dataframe tbody tr th:only-of-type {\n",
              "        vertical-align: middle;\n",
              "    }\n",
              "\n",
              "    .dataframe tbody tr th {\n",
              "        vertical-align: top;\n",
              "    }\n",
              "\n",
              "    .dataframe thead th {\n",
              "        text-align: right;\n",
              "    }\n",
              "</style>\n",
              "<table border=\"1\" class=\"dataframe\">\n",
              "  <thead>\n",
              "    <tr style=\"text-align: right;\">\n",
              "      <th></th>\n",
              "      <th>choose_one_gold_v2</th>\n",
              "      <th>choose_one</th>\n",
              "      <th>choose_one_gold</th>\n",
              "      <th>is_choose_one_gold_with_choose_one</th>\n",
              "    </tr>\n",
              "  </thead>\n",
              "  <tbody>\n",
              "    <tr>\n",
              "      <th>9</th>\n",
              "      <td>Can't Decide</td>\n",
              "      <td>Relevant</td>\n",
              "      <td>Relevant\\nCan't Decide</td>\n",
              "      <td>False</td>\n",
              "    </tr>\n",
              "    <tr>\n",
              "      <th>13</th>\n",
              "      <td>Can't Decide</td>\n",
              "      <td>Relevant</td>\n",
              "      <td>Relevant\\nCan't Decide</td>\n",
              "      <td>False</td>\n",
              "    </tr>\n",
              "    <tr>\n",
              "      <th>15</th>\n",
              "      <td>Can't Decide</td>\n",
              "      <td>Relevant</td>\n",
              "      <td>Relevant\\nCan't Decide</td>\n",
              "      <td>False</td>\n",
              "    </tr>\n",
              "    <tr>\n",
              "      <th>19</th>\n",
              "      <td>Can't Decide</td>\n",
              "      <td>Relevant</td>\n",
              "      <td>Relevant\\nCan't Decide</td>\n",
              "      <td>False</td>\n",
              "    </tr>\n",
              "    <tr>\n",
              "      <th>42</th>\n",
              "      <td>Can't Decide</td>\n",
              "      <td>Not Relevant</td>\n",
              "      <td>Not Relevant\\nCan't Decide</td>\n",
              "      <td>False</td>\n",
              "    </tr>\n",
              "    <tr>\n",
              "      <th>44</th>\n",
              "      <td>Can't Decide</td>\n",
              "      <td>Not Relevant</td>\n",
              "      <td>Not Relevant\\nCan't Decide</td>\n",
              "      <td>False</td>\n",
              "    </tr>\n",
              "  </tbody>\n",
              "</table>\n",
              "</div>\n",
              "      <button class=\"colab-df-convert\" onclick=\"convertToInteractive('df-e886b400-fa1e-499b-bb79-d02610a461d2')\"\n",
              "              title=\"Convert this dataframe to an interactive table.\"\n",
              "              style=\"display:none;\">\n",
              "        \n",
              "  <svg xmlns=\"http://www.w3.org/2000/svg\" height=\"24px\"viewBox=\"0 0 24 24\"\n",
              "       width=\"24px\">\n",
              "    <path d=\"M0 0h24v24H0V0z\" fill=\"none\"/>\n",
              "    <path d=\"M18.56 5.44l.94 2.06.94-2.06 2.06-.94-2.06-.94-.94-2.06-.94 2.06-2.06.94zm-11 1L8.5 8.5l.94-2.06 2.06-.94-2.06-.94L8.5 2.5l-.94 2.06-2.06.94zm10 10l.94 2.06.94-2.06 2.06-.94-2.06-.94-.94-2.06-.94 2.06-2.06.94z\"/><path d=\"M17.41 7.96l-1.37-1.37c-.4-.4-.92-.59-1.43-.59-.52 0-1.04.2-1.43.59L10.3 9.45l-7.72 7.72c-.78.78-.78 2.05 0 2.83L4 21.41c.39.39.9.59 1.41.59.51 0 1.02-.2 1.41-.59l7.78-7.78 2.81-2.81c.8-.78.8-2.07 0-2.86zM5.41 20L4 18.59l7.72-7.72 1.47 1.35L5.41 20z\"/>\n",
              "  </svg>\n",
              "      </button>\n",
              "      \n",
              "  <style>\n",
              "    .colab-df-container {\n",
              "      display:flex;\n",
              "      flex-wrap:wrap;\n",
              "      gap: 12px;\n",
              "    }\n",
              "\n",
              "    .colab-df-convert {\n",
              "      background-color: #E8F0FE;\n",
              "      border: none;\n",
              "      border-radius: 50%;\n",
              "      cursor: pointer;\n",
              "      display: none;\n",
              "      fill: #1967D2;\n",
              "      height: 32px;\n",
              "      padding: 0 0 0 0;\n",
              "      width: 32px;\n",
              "    }\n",
              "\n",
              "    .colab-df-convert:hover {\n",
              "      background-color: #E2EBFA;\n",
              "      box-shadow: 0px 1px 2px rgba(60, 64, 67, 0.3), 0px 1px 3px 1px rgba(60, 64, 67, 0.15);\n",
              "      fill: #174EA6;\n",
              "    }\n",
              "\n",
              "    [theme=dark] .colab-df-convert {\n",
              "      background-color: #3B4455;\n",
              "      fill: #D2E3FC;\n",
              "    }\n",
              "\n",
              "    [theme=dark] .colab-df-convert:hover {\n",
              "      background-color: #434B5C;\n",
              "      box-shadow: 0px 1px 3px 1px rgba(0, 0, 0, 0.15);\n",
              "      filter: drop-shadow(0px 1px 2px rgba(0, 0, 0, 0.3));\n",
              "      fill: #FFFFFF;\n",
              "    }\n",
              "  </style>\n",
              "\n",
              "      <script>\n",
              "        const buttonEl =\n",
              "          document.querySelector('#df-e886b400-fa1e-499b-bb79-d02610a461d2 button.colab-df-convert');\n",
              "        buttonEl.style.display =\n",
              "          google.colab.kernel.accessAllowed ? 'block' : 'none';\n",
              "\n",
              "        async function convertToInteractive(key) {\n",
              "          const element = document.querySelector('#df-e886b400-fa1e-499b-bb79-d02610a461d2');\n",
              "          const dataTable =\n",
              "            await google.colab.kernel.invokeFunction('convertToInteractive',\n",
              "                                                     [key], {});\n",
              "          if (!dataTable) return;\n",
              "\n",
              "          const docLinkHtml = 'Like what you see? Visit the ' +\n",
              "            '<a target=\"_blank\" href=https://colab.research.google.com/notebooks/data_table.ipynb>data table notebook</a>'\n",
              "            + ' to learn more about interactive tables.';\n",
              "          element.innerHTML = '';\n",
              "          dataTable['output_type'] = 'display_data';\n",
              "          await google.colab.output.renderOutput(dataTable, element);\n",
              "          const docLink = document.createElement('div');\n",
              "          docLink.innerHTML = docLinkHtml;\n",
              "          element.appendChild(docLink);\n",
              "        }\n",
              "      </script>\n",
              "    </div>\n",
              "  </div>\n",
              "  "
            ]
          },
          "metadata": {},
          "execution_count": 10
        }
      ]
    },
    {
      "cell_type": "markdown",
      "source": [
        "In previous table, i see that all non-null value of `choose_one_gold` field are same with `choose_one` field.\n",
        "\n",
        "Ok, i ***won't use this field*** because it have several null value and i have more value from `choose_one` ❌"
      ],
      "metadata": {
        "id": "lj9vCy60FzLK"
      }
    },
    {
      "cell_type": "markdown",
      "source": [
        "### **`choose_one:confidence` field**"
      ],
      "metadata": {
        "id": "SpAr1nOkHkrD"
      }
    },
    {
      "cell_type": "code",
      "source": [
        "disaster_db_df['choose_one:confidence'].isnull().value_counts()"
      ],
      "metadata": {
        "colab": {
          "base_uri": "https://localhost:8080/"
        },
        "id": "GXFAsKLhkkv2",
        "outputId": "d41ceb74-a2ad-4136-f139-bc8d247d20e1"
      },
      "execution_count": 11,
      "outputs": [
        {
          "output_type": "execute_result",
          "data": {
            "text/plain": [
              "False    10876\n",
              "Name: choose_one:confidence, dtype: int64"
            ]
          },
          "metadata": {},
          "execution_count": 11
        }
      ]
    },
    {
      "cell_type": "code",
      "source": [
        "def assign_range_value(x):\n",
        "  if 0.0 < x <= 0.5: return \"0.0 - 0.5\"\n",
        "  elif 0.5 < x <= 0.75: return \"0.5 - 0.75\"\n",
        "  elif 0.75 < x < 0.9: return \"0.75 - 0.9\"\n",
        "  elif 0.9 < x <= 1.0: return \"0.9 - 1.0\"\n",
        "  else: return \"> 1.0\"\n",
        "\n",
        "disaster_db_df[\"range_confidence\"] = disaster_db_df[\"choose_one:confidence\"].apply(lambda x: assign_range_value(x))\n",
        "disaster_db_df['range_confidence'].value_counts()"
      ],
      "metadata": {
        "colab": {
          "base_uri": "https://localhost:8080/"
        },
        "id": "kn9H4m95ktjo",
        "outputId": "93f4bbd3-c856-4e73-8917-c599688efd3d"
      },
      "execution_count": 12,
      "outputs": [
        {
          "output_type": "execute_result",
          "data": {
            "text/plain": [
              "0.9 - 1.0     5066\n",
              "0.75 - 0.9    3075\n",
              "0.5 - 0.75    2597\n",
              "0.0 - 0.5      138\n",
              "Name: range_confidence, dtype: int64"
            ]
          },
          "metadata": {},
          "execution_count": 12
        }
      ]
    },
    {
      "cell_type": "markdown",
      "source": [
        "i can see that 74.85% of tweets are trustworthy in with its value: That's good 😀. But the question is: **How is thise proportion is distribuite over `choosen_one` field?**"
      ],
      "metadata": {
        "id": "zK7nbrw4msv_"
      }
    },
    {
      "cell_type": "code",
      "source": [
        "Relevant_group_df = disaster_db_df[disaster_db_df[\"choose_one\"] == \"Relevant\"]\n",
        "Relevant_group_df['range_confidence'].value_counts()"
      ],
      "metadata": {
        "colab": {
          "base_uri": "https://localhost:8080/"
        },
        "id": "PkwkvaNlnqzX",
        "outputId": "ce4d05a5-fab6-42ae-91f9-7e2f69f4959b"
      },
      "execution_count": 13,
      "outputs": [
        {
          "output_type": "execute_result",
          "data": {
            "text/plain": [
              "0.9 - 1.0     2273\n",
              "0.75 - 0.9    1172\n",
              "0.5 - 0.75    1148\n",
              "0.0 - 0.5       80\n",
              "Name: range_confidence, dtype: int64"
            ]
          },
          "metadata": {},
          "execution_count": 13
        }
      ]
    },
    {
      "cell_type": "code",
      "source": [
        "Relevant_group_df = disaster_db_df[disaster_db_df[\"choose_one\"] == \"Not Relevant\"]\n",
        "Relevant_group_df['range_confidence'].value_counts()"
      ],
      "metadata": {
        "colab": {
          "base_uri": "https://localhost:8080/"
        },
        "id": "pmqNlIR7qlsn",
        "outputId": "d2bc57c3-74aa-4db9-e1e2-adaeefa0246e"
      },
      "execution_count": 14,
      "outputs": [
        {
          "output_type": "execute_result",
          "data": {
            "text/plain": [
              "0.9 - 1.0     2793\n",
              "0.75 - 0.9    1903\n",
              "0.5 - 0.75    1445\n",
              "0.0 - 0.5       46\n",
              "Name: range_confidence, dtype: int64"
            ]
          },
          "metadata": {},
          "execution_count": 14
        }
      ]
    },
    {
      "cell_type": "code",
      "source": [
        "Relevant_group_df = disaster_db_df[disaster_db_df[\"choose_one\"] == \"Can't Decide\"]\n",
        "Relevant_group_df['range_confidence'].value_counts()"
      ],
      "metadata": {
        "colab": {
          "base_uri": "https://localhost:8080/"
        },
        "id": "Ais4LOLNqqFW",
        "outputId": "678a0901-7a79-4fa3-89c3-055171754517"
      },
      "execution_count": 15,
      "outputs": [
        {
          "output_type": "execute_result",
          "data": {
            "text/plain": [
              "0.0 - 0.5     12\n",
              "0.5 - 0.75     4\n",
              "Name: range_confidence, dtype: int64"
            ]
          },
          "metadata": {},
          "execution_count": 15
        }
      ]
    },
    {
      "cell_type": "markdown",
      "source": [
        "⚡ **Idea**: I can see the `Can't Decide` value in `choose_one` field is irrelevant for the amount, but i see that `0.5-0.75` range of other values of `choose_one` field can be renamed in `Can't Decide` value to get more amount: from 16 to 2609; that's good comparing other group amount 4.696(`Not Relevant`) and 3445(`Relevant`)."
      ],
      "metadata": {
        "id": "BEsKrY6ytj3-"
      }
    },
    {
      "cell_type": "markdown",
      "source": [
        "I won't use any value from `choose_one` field with `0.0-5.0` range because these values are irrelevant: they are not trustworthy."
      ],
      "metadata": {
        "id": "UBFWIEaewZGo"
      }
    },
    {
      "cell_type": "markdown",
      "source": [
        "### **`tweetid` and `text` fields**"
      ],
      "metadata": {
        "id": "kg5uXkuCxAuP"
      }
    },
    {
      "cell_type": "code",
      "source": [
        "disaster_db_df['tweetid'].isnull().value_counts()"
      ],
      "metadata": {
        "colab": {
          "base_uri": "https://localhost:8080/"
        },
        "id": "mK3l3qwDxGVD",
        "outputId": "8d11910d-133f-41d9-f284-2c932f7859f5"
      },
      "execution_count": 16,
      "outputs": [
        {
          "output_type": "execute_result",
          "data": {
            "text/plain": [
              "False    10876\n",
              "Name: tweetid, dtype: int64"
            ]
          },
          "metadata": {},
          "execution_count": 16
        }
      ]
    },
    {
      "cell_type": "code",
      "source": [
        "disaster_db_df.astype({'tweetid': 'str'}).dtypes"
      ],
      "metadata": {
        "colab": {
          "base_uri": "https://localhost:8080/"
        },
        "id": "jQe9MwfO5GNO",
        "outputId": "cb3f63bb-2915-4cc5-e85b-8b29117c4f5a"
      },
      "execution_count": 17,
      "outputs": [
        {
          "output_type": "execute_result",
          "data": {
            "text/plain": [
              "_unit_id                                int64\n",
              "_golden                                  bool\n",
              "_unit_state                            object\n",
              "_trusted_judgments                      int64\n",
              "_last_judgment_at                      object\n",
              "choose_one                             object\n",
              "choose_one:confidence                 float64\n",
              "choose_one_gold                        object\n",
              "keyword                                object\n",
              "location                               object\n",
              "text                                   object\n",
              "tweetid                                object\n",
              "userid                                float64\n",
              "choose_one_gold_v2                     object\n",
              "is_choose_one_gold_with_choose_one       bool\n",
              "range_confidence                       object\n",
              "dtype: object"
            ]
          },
          "metadata": {},
          "execution_count": 17
        }
      ]
    },
    {
      "cell_type": "code",
      "source": [
        "unique_tweet_id = set(disaster_db_df['tweetid'])\n",
        "list_tweet_id = list(disaster_db_df['tweetid'])\n",
        "print(\"unique value are %s from %s\" % (len(unique_tweet_id), len(list_tweet_id)))"
      ],
      "metadata": {
        "colab": {
          "base_uri": "https://localhost:8080/"
        },
        "id": "nt-_PfJJ1ZiA",
        "outputId": "56ee7127-f068-4d54-eb89-1dcb430fe2a8"
      },
      "execution_count": 18,
      "outputs": [
        {
          "output_type": "stream",
          "name": "stdout",
          "text": [
            "unique value are 1243 from 10876\n"
          ]
        }
      ]
    },
    {
      "cell_type": "code",
      "source": [
        "disaster_db_df['tweetid'].value_counts()"
      ],
      "metadata": {
        "colab": {
          "base_uri": "https://localhost:8080/"
        },
        "id": "U4bCQorTESzd",
        "outputId": "0107c4eb-0683-40b8-929a-4cd8e31a3574"
      },
      "execution_count": 19,
      "outputs": [
        {
          "output_type": "execute_result",
          "data": {
            "text/plain": [
              "6.290840e+17    197\n",
              "6.290830e+17    190\n",
              "6.290990e+17    166\n",
              "6.290800e+17    157\n",
              "6.290820e+17    152\n",
              "               ... \n",
              "6.260600e+17      1\n",
              "6.260750e+17      1\n",
              "6.262370e+17      1\n",
              "6.276670e+17      1\n",
              "6.585000e+03      1\n",
              "Name: tweetid, Length: 1243, dtype: int64"
            ]
          },
          "metadata": {},
          "execution_count": 19
        }
      ]
    },
    {
      "cell_type": "code",
      "source": [
        "disaster_db_df[\"is_tweet_id_duplicated\"] = disaster_db_df.duplicated(subset=['tweetid'])\n",
        "duplicated_tweetit_db_df = disaster_db_df[disaster_db_df[\"is_tweet_id_duplicated\"] == True]\n",
        "duplicated_tweetit_db_df.sort_values(by = 'tweetid', inplace=True)\n",
        "duplicated_tweetit_db_df[[\"tweetid\", \"text\"]].head(20)"
      ],
      "metadata": {
        "colab": {
          "base_uri": "https://localhost:8080/",
          "height": 783
        },
        "id": "yUf4agF027JZ",
        "outputId": "254f0b70-c43e-46fd-bfc1-e5b3115de43c"
      },
      "execution_count": 20,
      "outputs": [
        {
          "output_type": "stream",
          "name": "stderr",
          "text": [
            "<ipython-input-20-2d003273006d>:3: SettingWithCopyWarning: \n",
            "A value is trying to be set on a copy of a slice from a DataFrame\n",
            "\n",
            "See the caveats in the documentation: https://pandas.pydata.org/pandas-docs/stable/user_guide/indexing.html#returning-a-view-versus-a-copy\n",
            "  duplicated_tweetit_db_df.sort_values(by = 'tweetid', inplace=True)\n"
          ]
        },
        {
          "output_type": "execute_result",
          "data": {
            "text/plain": [
              "            tweetid                                               text\n",
              "10872  4.234000e+03  Police investigating after an e-bike collided ...\n",
              "9066   6.260620e+17  Investigators say a fatal Virgin Galactic spac...\n",
              "9076   6.260620e+17  #BBCLive Investigators say a fatal Virgin Gala...\n",
              "9083   6.260630e+17  Investigators say a fatal Virgin Galactic spac...\n",
              "9048   6.260650e+17  Investigators say a fatal Virgin Galactic spac...\n",
              "1962   6.260760e+17  Schools in Western Uganda still Burning down B...\n",
              "9047   6.260760e+17  Virgin galactic crash: early unlocking of brak...\n",
              "9065   6.260760e+17  Virgin galactic crash: early unlocking of brak...\n",
              "9049   6.260890e+17  Investigators rule catastrophic structural fai...\n",
              "9089   6.260900e+17  NTSB: Virgin Galactic crash caused by structur...\n",
              "9055   6.261100e+17  @SirTitan45  Mega mood swing on a 24 hr schedu...\n",
              "1439   6.263870e+17  Idgaf who tough or who from Canada and who fro...\n",
              "2216   6.264270e+17  THE CHEMICAL BROTHERS to play The Armory in SF...\n",
              "1938   6.264330e+17  forestservice : RT dhsscitech: #Firefighters r...\n",
              "1941   6.265280e+17  @themagickidraps not upset with a rally upset ...\n",
              "868    6.265380e+17  #BreakingNews http://t.co/gAN14PW9TG FedEx no ...\n",
              "1965   6.265400e+17  'i never understood guys who wanted to run int...\n",
              "1469   6.265430e+17  We need to stop paying attention to @drizzy bo...\n",
              "869    6.265440e+17  FedEx no longer to transport bioterror germs i...\n",
              "840    6.265600e+17  FedEx to stop transporting bioterror germs aft..."
            ],
            "text/html": [
              "\n",
              "  <div id=\"df-362e2399-105b-4aa3-9b3f-68855b472cce\">\n",
              "    <div class=\"colab-df-container\">\n",
              "      <div>\n",
              "<style scoped>\n",
              "    .dataframe tbody tr th:only-of-type {\n",
              "        vertical-align: middle;\n",
              "    }\n",
              "\n",
              "    .dataframe tbody tr th {\n",
              "        vertical-align: top;\n",
              "    }\n",
              "\n",
              "    .dataframe thead th {\n",
              "        text-align: right;\n",
              "    }\n",
              "</style>\n",
              "<table border=\"1\" class=\"dataframe\">\n",
              "  <thead>\n",
              "    <tr style=\"text-align: right;\">\n",
              "      <th></th>\n",
              "      <th>tweetid</th>\n",
              "      <th>text</th>\n",
              "    </tr>\n",
              "  </thead>\n",
              "  <tbody>\n",
              "    <tr>\n",
              "      <th>10872</th>\n",
              "      <td>4.234000e+03</td>\n",
              "      <td>Police investigating after an e-bike collided ...</td>\n",
              "    </tr>\n",
              "    <tr>\n",
              "      <th>9066</th>\n",
              "      <td>6.260620e+17</td>\n",
              "      <td>Investigators say a fatal Virgin Galactic spac...</td>\n",
              "    </tr>\n",
              "    <tr>\n",
              "      <th>9076</th>\n",
              "      <td>6.260620e+17</td>\n",
              "      <td>#BBCLive Investigators say a fatal Virgin Gala...</td>\n",
              "    </tr>\n",
              "    <tr>\n",
              "      <th>9083</th>\n",
              "      <td>6.260630e+17</td>\n",
              "      <td>Investigators say a fatal Virgin Galactic spac...</td>\n",
              "    </tr>\n",
              "    <tr>\n",
              "      <th>9048</th>\n",
              "      <td>6.260650e+17</td>\n",
              "      <td>Investigators say a fatal Virgin Galactic spac...</td>\n",
              "    </tr>\n",
              "    <tr>\n",
              "      <th>1962</th>\n",
              "      <td>6.260760e+17</td>\n",
              "      <td>Schools in Western Uganda still Burning down B...</td>\n",
              "    </tr>\n",
              "    <tr>\n",
              "      <th>9047</th>\n",
              "      <td>6.260760e+17</td>\n",
              "      <td>Virgin galactic crash: early unlocking of brak...</td>\n",
              "    </tr>\n",
              "    <tr>\n",
              "      <th>9065</th>\n",
              "      <td>6.260760e+17</td>\n",
              "      <td>Virgin galactic crash: early unlocking of brak...</td>\n",
              "    </tr>\n",
              "    <tr>\n",
              "      <th>9049</th>\n",
              "      <td>6.260890e+17</td>\n",
              "      <td>Investigators rule catastrophic structural fai...</td>\n",
              "    </tr>\n",
              "    <tr>\n",
              "      <th>9089</th>\n",
              "      <td>6.260900e+17</td>\n",
              "      <td>NTSB: Virgin Galactic crash caused by structur...</td>\n",
              "    </tr>\n",
              "    <tr>\n",
              "      <th>9055</th>\n",
              "      <td>6.261100e+17</td>\n",
              "      <td>@SirTitan45  Mega mood swing on a 24 hr schedu...</td>\n",
              "    </tr>\n",
              "    <tr>\n",
              "      <th>1439</th>\n",
              "      <td>6.263870e+17</td>\n",
              "      <td>Idgaf who tough or who from Canada and who fro...</td>\n",
              "    </tr>\n",
              "    <tr>\n",
              "      <th>2216</th>\n",
              "      <td>6.264270e+17</td>\n",
              "      <td>THE CHEMICAL BROTHERS to play The Armory in SF...</td>\n",
              "    </tr>\n",
              "    <tr>\n",
              "      <th>1938</th>\n",
              "      <td>6.264330e+17</td>\n",
              "      <td>forestservice : RT dhsscitech: #Firefighters r...</td>\n",
              "    </tr>\n",
              "    <tr>\n",
              "      <th>1941</th>\n",
              "      <td>6.265280e+17</td>\n",
              "      <td>@themagickidraps not upset with a rally upset ...</td>\n",
              "    </tr>\n",
              "    <tr>\n",
              "      <th>868</th>\n",
              "      <td>6.265380e+17</td>\n",
              "      <td>#BreakingNews http://t.co/gAN14PW9TG FedEx no ...</td>\n",
              "    </tr>\n",
              "    <tr>\n",
              "      <th>1965</th>\n",
              "      <td>6.265400e+17</td>\n",
              "      <td>'i never understood guys who wanted to run int...</td>\n",
              "    </tr>\n",
              "    <tr>\n",
              "      <th>1469</th>\n",
              "      <td>6.265430e+17</td>\n",
              "      <td>We need to stop paying attention to @drizzy bo...</td>\n",
              "    </tr>\n",
              "    <tr>\n",
              "      <th>869</th>\n",
              "      <td>6.265440e+17</td>\n",
              "      <td>FedEx no longer to transport bioterror germs i...</td>\n",
              "    </tr>\n",
              "    <tr>\n",
              "      <th>840</th>\n",
              "      <td>6.265600e+17</td>\n",
              "      <td>FedEx to stop transporting bioterror germs aft...</td>\n",
              "    </tr>\n",
              "  </tbody>\n",
              "</table>\n",
              "</div>\n",
              "      <button class=\"colab-df-convert\" onclick=\"convertToInteractive('df-362e2399-105b-4aa3-9b3f-68855b472cce')\"\n",
              "              title=\"Convert this dataframe to an interactive table.\"\n",
              "              style=\"display:none;\">\n",
              "        \n",
              "  <svg xmlns=\"http://www.w3.org/2000/svg\" height=\"24px\"viewBox=\"0 0 24 24\"\n",
              "       width=\"24px\">\n",
              "    <path d=\"M0 0h24v24H0V0z\" fill=\"none\"/>\n",
              "    <path d=\"M18.56 5.44l.94 2.06.94-2.06 2.06-.94-2.06-.94-.94-2.06-.94 2.06-2.06.94zm-11 1L8.5 8.5l.94-2.06 2.06-.94-2.06-.94L8.5 2.5l-.94 2.06-2.06.94zm10 10l.94 2.06.94-2.06 2.06-.94-2.06-.94-.94-2.06-.94 2.06-2.06.94z\"/><path d=\"M17.41 7.96l-1.37-1.37c-.4-.4-.92-.59-1.43-.59-.52 0-1.04.2-1.43.59L10.3 9.45l-7.72 7.72c-.78.78-.78 2.05 0 2.83L4 21.41c.39.39.9.59 1.41.59.51 0 1.02-.2 1.41-.59l7.78-7.78 2.81-2.81c.8-.78.8-2.07 0-2.86zM5.41 20L4 18.59l7.72-7.72 1.47 1.35L5.41 20z\"/>\n",
              "  </svg>\n",
              "      </button>\n",
              "      \n",
              "  <style>\n",
              "    .colab-df-container {\n",
              "      display:flex;\n",
              "      flex-wrap:wrap;\n",
              "      gap: 12px;\n",
              "    }\n",
              "\n",
              "    .colab-df-convert {\n",
              "      background-color: #E8F0FE;\n",
              "      border: none;\n",
              "      border-radius: 50%;\n",
              "      cursor: pointer;\n",
              "      display: none;\n",
              "      fill: #1967D2;\n",
              "      height: 32px;\n",
              "      padding: 0 0 0 0;\n",
              "      width: 32px;\n",
              "    }\n",
              "\n",
              "    .colab-df-convert:hover {\n",
              "      background-color: #E2EBFA;\n",
              "      box-shadow: 0px 1px 2px rgba(60, 64, 67, 0.3), 0px 1px 3px 1px rgba(60, 64, 67, 0.15);\n",
              "      fill: #174EA6;\n",
              "    }\n",
              "\n",
              "    [theme=dark] .colab-df-convert {\n",
              "      background-color: #3B4455;\n",
              "      fill: #D2E3FC;\n",
              "    }\n",
              "\n",
              "    [theme=dark] .colab-df-convert:hover {\n",
              "      background-color: #434B5C;\n",
              "      box-shadow: 0px 1px 3px 1px rgba(0, 0, 0, 0.15);\n",
              "      filter: drop-shadow(0px 1px 2px rgba(0, 0, 0, 0.3));\n",
              "      fill: #FFFFFF;\n",
              "    }\n",
              "  </style>\n",
              "\n",
              "      <script>\n",
              "        const buttonEl =\n",
              "          document.querySelector('#df-362e2399-105b-4aa3-9b3f-68855b472cce button.colab-df-convert');\n",
              "        buttonEl.style.display =\n",
              "          google.colab.kernel.accessAllowed ? 'block' : 'none';\n",
              "\n",
              "        async function convertToInteractive(key) {\n",
              "          const element = document.querySelector('#df-362e2399-105b-4aa3-9b3f-68855b472cce');\n",
              "          const dataTable =\n",
              "            await google.colab.kernel.invokeFunction('convertToInteractive',\n",
              "                                                     [key], {});\n",
              "          if (!dataTable) return;\n",
              "\n",
              "          const docLinkHtml = 'Like what you see? Visit the ' +\n",
              "            '<a target=\"_blank\" href=https://colab.research.google.com/notebooks/data_table.ipynb>data table notebook</a>'\n",
              "            + ' to learn more about interactive tables.';\n",
              "          element.innerHTML = '';\n",
              "          dataTable['output_type'] = 'display_data';\n",
              "          await google.colab.output.renderOutput(dataTable, element);\n",
              "          const docLink = document.createElement('div');\n",
              "          docLink.innerHTML = docLinkHtml;\n",
              "          element.appendChild(docLink);\n",
              "        }\n",
              "      </script>\n",
              "    </div>\n",
              "  </div>\n",
              "  "
            ]
          },
          "metadata": {},
          "execution_count": 20
        }
      ]
    },
    {
      "cell_type": "markdown",
      "source": [
        "i can see several points:\n",
        "\n",
        "\n",
        "1.   Case #1 (based on 9083 and 9048 id): i can get difference values from `tweetids` field but same text apparently. \n",
        "2.   Case #2 : i can several duplicated value in `tweetids` field.\n",
        "3.   Case #3 (based on 9076 and  9066) : i can get similar texts but with its differences from same value in `tweetids` field.\n",
        "\n",
        "Based in these points i need to do following 🧰:\n",
        "\n",
        "\n",
        "*   Remove URLs and arrobas.\n",
        "*   Replace hashtag content with non-hashtag version.\n",
        "*   Get the most long length version of text to cover more information.\n",
        "*   Check the distribution of `choose one` field after that, to create a clean dataset (based in the ideas) and the label.\n"
      ],
      "metadata": {
        "id": "esJWjHBKQcZz"
      }
    },
    {
      "cell_type": "markdown",
      "source": [
        "## Create a new and cleaning dataset"
      ],
      "metadata": {
        "id": "6Wxba-OCVl56"
      }
    },
    {
      "cell_type": "markdown",
      "source": [
        "### Remove URLs and arrobas"
      ],
      "metadata": {
        "id": "c_S8Z6xYf3VV"
      }
    },
    {
      "cell_type": "code",
      "source": [
        "def remove_urls(x):\n",
        "  ''' Remove URLs from sentence'''\n",
        "  word_list = x.split(\" \")\n",
        "  word_list = [ \n",
        "      word.lower() for word in word_list \\\n",
        "      if re.search(\"^http(s)*:\\/\\/\", word) is None\n",
        "    ]\n",
        "  return \" \".join(word_list)\n",
        "\n",
        "\n",
        "def remove_arrobas(x):\n",
        "  ''' Remove arrobas from sentence'''\n",
        "  word_list = x.split(\" \")\n",
        "  clean_words = []\n",
        "  for word in word_list:\n",
        "    if re.search(\"^@\", word) is None:\n",
        "      clean_words.append(word.lower())\n",
        "    else:\n",
        "      clean_words.append(\"<user>\")\n",
        "  return \" \".join(clean_words)\n",
        "\n",
        "\n",
        "def abs_remove_urls_and_arroba(*functions):\n",
        "    return reduce(lambda f, g: lambda x: g(f(x)), functions, lambda x: x)\n",
        "\n",
        "remove_urls_and_arroba = abs_remove_urls_and_arroba(remove_arrobas, remove_urls)\n",
        "\n",
        "\n",
        "disaster_db_df[\"text_without_url_and_arroba\"] = disaster_db_df[\"text\"].apply(lambda x: remove_urls_and_arroba(x))\n",
        "clean_step_1_tweetit_db_df = disaster_db_df[disaster_db_df[\"is_tweet_id_duplicated\"] == True]\n",
        "clean_step_1_tweetit_db_df.sort_values(by = 'tweetid', inplace=True)\n",
        "clean_step_1_tweetit_db_df[[\"text_without_url_and_arroba\", \"text\"]].head(20)"
      ],
      "metadata": {
        "colab": {
          "base_uri": "https://localhost:8080/",
          "height": 783
        },
        "id": "rIBnHGIdf6w9",
        "outputId": "4d014b3f-e112-4179-c44d-5eb18ef4ba5a"
      },
      "execution_count": 21,
      "outputs": [
        {
          "output_type": "stream",
          "name": "stderr",
          "text": [
            "<ipython-input-21-696b1a8a3de6>:31: SettingWithCopyWarning: \n",
            "A value is trying to be set on a copy of a slice from a DataFrame\n",
            "\n",
            "See the caveats in the documentation: https://pandas.pydata.org/pandas-docs/stable/user_guide/indexing.html#returning-a-view-versus-a-copy\n",
            "  clean_step_1_tweetit_db_df.sort_values(by = 'tweetid', inplace=True)\n"
          ]
        },
        {
          "output_type": "execute_result",
          "data": {
            "text/plain": [
              "                             text_without_url_and_arroba  \\\n",
              "10872  police investigating after an e-bike collided ...   \n",
              "9066   investigators say a fatal virgin galactic spac...   \n",
              "9076   #bbclive investigators say a fatal virgin gala...   \n",
              "9083   investigators say a fatal virgin galactic spac...   \n",
              "9048   investigators say a fatal virgin galactic spac...   \n",
              "1962   schools in western uganda still burning down b...   \n",
              "9047   virgin galactic crash: early unlocking of brak...   \n",
              "9065   virgin galactic crash: early unlocking of brak...   \n",
              "9049   investigators rule catastrophic structural fai...   \n",
              "9089   ntsb: virgin galactic crash caused by structur...   \n",
              "9055   <user>  mega mood swing on a 24 hr schedule. i...   \n",
              "1439   idgaf who tough or who from canada and who fro...   \n",
              "2216   the chemical brothers to play the armory in sf...   \n",
              "1938   forestservice : rt dhsscitech: #firefighters r...   \n",
              "1941   <user> not upset with a rally upset with burni...   \n",
              "868    #breakingnews fedex no longer willing to trans...   \n",
              "1965   'i never understood guys who wanted to run int...   \n",
              "1469   we need to stop paying attention to <user> bod...   \n",
              "869    fedex no longer to transport bioterror germs i...   \n",
              "840    fedex to stop transporting bioterror germs aft...   \n",
              "\n",
              "                                                    text  \n",
              "10872  Police investigating after an e-bike collided ...  \n",
              "9066   Investigators say a fatal Virgin Galactic spac...  \n",
              "9076   #BBCLive Investigators say a fatal Virgin Gala...  \n",
              "9083   Investigators say a fatal Virgin Galactic spac...  \n",
              "9048   Investigators say a fatal Virgin Galactic spac...  \n",
              "1962   Schools in Western Uganda still Burning down B...  \n",
              "9047   Virgin galactic crash: early unlocking of brak...  \n",
              "9065   Virgin galactic crash: early unlocking of brak...  \n",
              "9049   Investigators rule catastrophic structural fai...  \n",
              "9089   NTSB: Virgin Galactic crash caused by structur...  \n",
              "9055   @SirTitan45  Mega mood swing on a 24 hr schedu...  \n",
              "1439   Idgaf who tough or who from Canada and who fro...  \n",
              "2216   THE CHEMICAL BROTHERS to play The Armory in SF...  \n",
              "1938   forestservice : RT dhsscitech: #Firefighters r...  \n",
              "1941   @themagickidraps not upset with a rally upset ...  \n",
              "868    #BreakingNews http://t.co/gAN14PW9TG FedEx no ...  \n",
              "1965   'i never understood guys who wanted to run int...  \n",
              "1469   We need to stop paying attention to @drizzy bo...  \n",
              "869    FedEx no longer to transport bioterror germs i...  \n",
              "840    FedEx to stop transporting bioterror germs aft...  "
            ],
            "text/html": [
              "\n",
              "  <div id=\"df-fed75c39-69de-453f-aa79-d3d8e5d297d6\">\n",
              "    <div class=\"colab-df-container\">\n",
              "      <div>\n",
              "<style scoped>\n",
              "    .dataframe tbody tr th:only-of-type {\n",
              "        vertical-align: middle;\n",
              "    }\n",
              "\n",
              "    .dataframe tbody tr th {\n",
              "        vertical-align: top;\n",
              "    }\n",
              "\n",
              "    .dataframe thead th {\n",
              "        text-align: right;\n",
              "    }\n",
              "</style>\n",
              "<table border=\"1\" class=\"dataframe\">\n",
              "  <thead>\n",
              "    <tr style=\"text-align: right;\">\n",
              "      <th></th>\n",
              "      <th>text_without_url_and_arroba</th>\n",
              "      <th>text</th>\n",
              "    </tr>\n",
              "  </thead>\n",
              "  <tbody>\n",
              "    <tr>\n",
              "      <th>10872</th>\n",
              "      <td>police investigating after an e-bike collided ...</td>\n",
              "      <td>Police investigating after an e-bike collided ...</td>\n",
              "    </tr>\n",
              "    <tr>\n",
              "      <th>9066</th>\n",
              "      <td>investigators say a fatal virgin galactic spac...</td>\n",
              "      <td>Investigators say a fatal Virgin Galactic spac...</td>\n",
              "    </tr>\n",
              "    <tr>\n",
              "      <th>9076</th>\n",
              "      <td>#bbclive investigators say a fatal virgin gala...</td>\n",
              "      <td>#BBCLive Investigators say a fatal Virgin Gala...</td>\n",
              "    </tr>\n",
              "    <tr>\n",
              "      <th>9083</th>\n",
              "      <td>investigators say a fatal virgin galactic spac...</td>\n",
              "      <td>Investigators say a fatal Virgin Galactic spac...</td>\n",
              "    </tr>\n",
              "    <tr>\n",
              "      <th>9048</th>\n",
              "      <td>investigators say a fatal virgin galactic spac...</td>\n",
              "      <td>Investigators say a fatal Virgin Galactic spac...</td>\n",
              "    </tr>\n",
              "    <tr>\n",
              "      <th>1962</th>\n",
              "      <td>schools in western uganda still burning down b...</td>\n",
              "      <td>Schools in Western Uganda still Burning down B...</td>\n",
              "    </tr>\n",
              "    <tr>\n",
              "      <th>9047</th>\n",
              "      <td>virgin galactic crash: early unlocking of brak...</td>\n",
              "      <td>Virgin galactic crash: early unlocking of brak...</td>\n",
              "    </tr>\n",
              "    <tr>\n",
              "      <th>9065</th>\n",
              "      <td>virgin galactic crash: early unlocking of brak...</td>\n",
              "      <td>Virgin galactic crash: early unlocking of brak...</td>\n",
              "    </tr>\n",
              "    <tr>\n",
              "      <th>9049</th>\n",
              "      <td>investigators rule catastrophic structural fai...</td>\n",
              "      <td>Investigators rule catastrophic structural fai...</td>\n",
              "    </tr>\n",
              "    <tr>\n",
              "      <th>9089</th>\n",
              "      <td>ntsb: virgin galactic crash caused by structur...</td>\n",
              "      <td>NTSB: Virgin Galactic crash caused by structur...</td>\n",
              "    </tr>\n",
              "    <tr>\n",
              "      <th>9055</th>\n",
              "      <td>&lt;user&gt;  mega mood swing on a 24 hr schedule. i...</td>\n",
              "      <td>@SirTitan45  Mega mood swing on a 24 hr schedu...</td>\n",
              "    </tr>\n",
              "    <tr>\n",
              "      <th>1439</th>\n",
              "      <td>idgaf who tough or who from canada and who fro...</td>\n",
              "      <td>Idgaf who tough or who from Canada and who fro...</td>\n",
              "    </tr>\n",
              "    <tr>\n",
              "      <th>2216</th>\n",
              "      <td>the chemical brothers to play the armory in sf...</td>\n",
              "      <td>THE CHEMICAL BROTHERS to play The Armory in SF...</td>\n",
              "    </tr>\n",
              "    <tr>\n",
              "      <th>1938</th>\n",
              "      <td>forestservice : rt dhsscitech: #firefighters r...</td>\n",
              "      <td>forestservice : RT dhsscitech: #Firefighters r...</td>\n",
              "    </tr>\n",
              "    <tr>\n",
              "      <th>1941</th>\n",
              "      <td>&lt;user&gt; not upset with a rally upset with burni...</td>\n",
              "      <td>@themagickidraps not upset with a rally upset ...</td>\n",
              "    </tr>\n",
              "    <tr>\n",
              "      <th>868</th>\n",
              "      <td>#breakingnews fedex no longer willing to trans...</td>\n",
              "      <td>#BreakingNews http://t.co/gAN14PW9TG FedEx no ...</td>\n",
              "    </tr>\n",
              "    <tr>\n",
              "      <th>1965</th>\n",
              "      <td>'i never understood guys who wanted to run int...</td>\n",
              "      <td>'i never understood guys who wanted to run int...</td>\n",
              "    </tr>\n",
              "    <tr>\n",
              "      <th>1469</th>\n",
              "      <td>we need to stop paying attention to &lt;user&gt; bod...</td>\n",
              "      <td>We need to stop paying attention to @drizzy bo...</td>\n",
              "    </tr>\n",
              "    <tr>\n",
              "      <th>869</th>\n",
              "      <td>fedex no longer to transport bioterror germs i...</td>\n",
              "      <td>FedEx no longer to transport bioterror germs i...</td>\n",
              "    </tr>\n",
              "    <tr>\n",
              "      <th>840</th>\n",
              "      <td>fedex to stop transporting bioterror germs aft...</td>\n",
              "      <td>FedEx to stop transporting bioterror germs aft...</td>\n",
              "    </tr>\n",
              "  </tbody>\n",
              "</table>\n",
              "</div>\n",
              "      <button class=\"colab-df-convert\" onclick=\"convertToInteractive('df-fed75c39-69de-453f-aa79-d3d8e5d297d6')\"\n",
              "              title=\"Convert this dataframe to an interactive table.\"\n",
              "              style=\"display:none;\">\n",
              "        \n",
              "  <svg xmlns=\"http://www.w3.org/2000/svg\" height=\"24px\"viewBox=\"0 0 24 24\"\n",
              "       width=\"24px\">\n",
              "    <path d=\"M0 0h24v24H0V0z\" fill=\"none\"/>\n",
              "    <path d=\"M18.56 5.44l.94 2.06.94-2.06 2.06-.94-2.06-.94-.94-2.06-.94 2.06-2.06.94zm-11 1L8.5 8.5l.94-2.06 2.06-.94-2.06-.94L8.5 2.5l-.94 2.06-2.06.94zm10 10l.94 2.06.94-2.06 2.06-.94-2.06-.94-.94-2.06-.94 2.06-2.06.94z\"/><path d=\"M17.41 7.96l-1.37-1.37c-.4-.4-.92-.59-1.43-.59-.52 0-1.04.2-1.43.59L10.3 9.45l-7.72 7.72c-.78.78-.78 2.05 0 2.83L4 21.41c.39.39.9.59 1.41.59.51 0 1.02-.2 1.41-.59l7.78-7.78 2.81-2.81c.8-.78.8-2.07 0-2.86zM5.41 20L4 18.59l7.72-7.72 1.47 1.35L5.41 20z\"/>\n",
              "  </svg>\n",
              "      </button>\n",
              "      \n",
              "  <style>\n",
              "    .colab-df-container {\n",
              "      display:flex;\n",
              "      flex-wrap:wrap;\n",
              "      gap: 12px;\n",
              "    }\n",
              "\n",
              "    .colab-df-convert {\n",
              "      background-color: #E8F0FE;\n",
              "      border: none;\n",
              "      border-radius: 50%;\n",
              "      cursor: pointer;\n",
              "      display: none;\n",
              "      fill: #1967D2;\n",
              "      height: 32px;\n",
              "      padding: 0 0 0 0;\n",
              "      width: 32px;\n",
              "    }\n",
              "\n",
              "    .colab-df-convert:hover {\n",
              "      background-color: #E2EBFA;\n",
              "      box-shadow: 0px 1px 2px rgba(60, 64, 67, 0.3), 0px 1px 3px 1px rgba(60, 64, 67, 0.15);\n",
              "      fill: #174EA6;\n",
              "    }\n",
              "\n",
              "    [theme=dark] .colab-df-convert {\n",
              "      background-color: #3B4455;\n",
              "      fill: #D2E3FC;\n",
              "    }\n",
              "\n",
              "    [theme=dark] .colab-df-convert:hover {\n",
              "      background-color: #434B5C;\n",
              "      box-shadow: 0px 1px 3px 1px rgba(0, 0, 0, 0.15);\n",
              "      filter: drop-shadow(0px 1px 2px rgba(0, 0, 0, 0.3));\n",
              "      fill: #FFFFFF;\n",
              "    }\n",
              "  </style>\n",
              "\n",
              "      <script>\n",
              "        const buttonEl =\n",
              "          document.querySelector('#df-fed75c39-69de-453f-aa79-d3d8e5d297d6 button.colab-df-convert');\n",
              "        buttonEl.style.display =\n",
              "          google.colab.kernel.accessAllowed ? 'block' : 'none';\n",
              "\n",
              "        async function convertToInteractive(key) {\n",
              "          const element = document.querySelector('#df-fed75c39-69de-453f-aa79-d3d8e5d297d6');\n",
              "          const dataTable =\n",
              "            await google.colab.kernel.invokeFunction('convertToInteractive',\n",
              "                                                     [key], {});\n",
              "          if (!dataTable) return;\n",
              "\n",
              "          const docLinkHtml = 'Like what you see? Visit the ' +\n",
              "            '<a target=\"_blank\" href=https://colab.research.google.com/notebooks/data_table.ipynb>data table notebook</a>'\n",
              "            + ' to learn more about interactive tables.';\n",
              "          element.innerHTML = '';\n",
              "          dataTable['output_type'] = 'display_data';\n",
              "          await google.colab.output.renderOutput(dataTable, element);\n",
              "          const docLink = document.createElement('div');\n",
              "          docLink.innerHTML = docLinkHtml;\n",
              "          element.appendChild(docLink);\n",
              "        }\n",
              "      </script>\n",
              "    </div>\n",
              "  </div>\n",
              "  "
            ]
          },
          "metadata": {},
          "execution_count": 21
        }
      ]
    },
    {
      "cell_type": "markdown",
      "source": [
        "### Replace hashtag value with non-hashtag value"
      ],
      "metadata": {
        "id": "rNwD9U4aqDEh"
      }
    },
    {
      "cell_type": "code",
      "source": [
        "def replace_with_non_hashtag_value(x):\n",
        "  ''' Replace hashtag content with non-hashtag version'''\n",
        "  word_list = x.split(\" \")\n",
        "  clean_words = []\n",
        "  for word in word_list:\n",
        "    if re.search(\"^#\", word) is None:\n",
        "      clean_words.append(word.lower())\n",
        "    else:\n",
        "      clean_words.append(word[1:].lower())\n",
        "  return \" \".join(clean_words)\n",
        "\n",
        "\n",
        "disaster_db_df[\"text_with_non_hashtag\"] = disaster_db_df[\"text_without_url_and_arroba\"].apply(lambda x: replace_with_non_hashtag_value(x))\n",
        "clean_step_2_tweetit_db_df = disaster_db_df[disaster_db_df[\"is_tweet_id_duplicated\"] == True]\n",
        "clean_step_2_tweetit_db_df.sort_values(by = 'tweetid', inplace=True)\n",
        "clean_step_2_tweetit_db_df[[\"text_with_non_hashtag\", \"text\"]].head(20)"
      ],
      "metadata": {
        "colab": {
          "base_uri": "https://localhost:8080/",
          "height": 783
        },
        "id": "Q9AXIK09qCvg",
        "outputId": "ec793bc3-ea56-4942-a1aa-4d0ba19e569a"
      },
      "execution_count": 22,
      "outputs": [
        {
          "output_type": "stream",
          "name": "stderr",
          "text": [
            "<ipython-input-22-48f05293f318>:15: SettingWithCopyWarning: \n",
            "A value is trying to be set on a copy of a slice from a DataFrame\n",
            "\n",
            "See the caveats in the documentation: https://pandas.pydata.org/pandas-docs/stable/user_guide/indexing.html#returning-a-view-versus-a-copy\n",
            "  clean_step_2_tweetit_db_df.sort_values(by = 'tweetid', inplace=True)\n"
          ]
        },
        {
          "output_type": "execute_result",
          "data": {
            "text/plain": [
              "                                   text_with_non_hashtag  \\\n",
              "10872  police investigating after an e-bike collided ...   \n",
              "9066   investigators say a fatal virgin galactic spac...   \n",
              "9076   bbclive investigators say a fatal virgin galac...   \n",
              "9083   investigators say a fatal virgin galactic spac...   \n",
              "9048   investigators say a fatal virgin galactic spac...   \n",
              "1962   schools in western uganda still burning down b...   \n",
              "9047   virgin galactic crash: early unlocking of brak...   \n",
              "9065   virgin galactic crash: early unlocking of brak...   \n",
              "9049   investigators rule catastrophic structural fai...   \n",
              "9089   ntsb: virgin galactic crash caused by structur...   \n",
              "9055   <user>  mega mood swing on a 24 hr schedule. i...   \n",
              "1439   idgaf who tough or who from canada and who fro...   \n",
              "2216   the chemical brothers to play the armory in sf...   \n",
              "1938   forestservice : rt dhsscitech: firefighters ru...   \n",
              "1941   <user> not upset with a rally upset with burni...   \n",
              "868    breakingnews fedex no longer willing to transp...   \n",
              "1965   'i never understood guys who wanted to run int...   \n",
              "1469   we need to stop paying attention to <user> bod...   \n",
              "869    fedex no longer to transport bioterror germs i...   \n",
              "840    fedex to stop transporting bioterror germs aft...   \n",
              "\n",
              "                                                    text  \n",
              "10872  Police investigating after an e-bike collided ...  \n",
              "9066   Investigators say a fatal Virgin Galactic spac...  \n",
              "9076   #BBCLive Investigators say a fatal Virgin Gala...  \n",
              "9083   Investigators say a fatal Virgin Galactic spac...  \n",
              "9048   Investigators say a fatal Virgin Galactic spac...  \n",
              "1962   Schools in Western Uganda still Burning down B...  \n",
              "9047   Virgin galactic crash: early unlocking of brak...  \n",
              "9065   Virgin galactic crash: early unlocking of brak...  \n",
              "9049   Investigators rule catastrophic structural fai...  \n",
              "9089   NTSB: Virgin Galactic crash caused by structur...  \n",
              "9055   @SirTitan45  Mega mood swing on a 24 hr schedu...  \n",
              "1439   Idgaf who tough or who from Canada and who fro...  \n",
              "2216   THE CHEMICAL BROTHERS to play The Armory in SF...  \n",
              "1938   forestservice : RT dhsscitech: #Firefighters r...  \n",
              "1941   @themagickidraps not upset with a rally upset ...  \n",
              "868    #BreakingNews http://t.co/gAN14PW9TG FedEx no ...  \n",
              "1965   'i never understood guys who wanted to run int...  \n",
              "1469   We need to stop paying attention to @drizzy bo...  \n",
              "869    FedEx no longer to transport bioterror germs i...  \n",
              "840    FedEx to stop transporting bioterror germs aft...  "
            ],
            "text/html": [
              "\n",
              "  <div id=\"df-09605a1b-3849-4dd9-b27b-f773984ffcff\">\n",
              "    <div class=\"colab-df-container\">\n",
              "      <div>\n",
              "<style scoped>\n",
              "    .dataframe tbody tr th:only-of-type {\n",
              "        vertical-align: middle;\n",
              "    }\n",
              "\n",
              "    .dataframe tbody tr th {\n",
              "        vertical-align: top;\n",
              "    }\n",
              "\n",
              "    .dataframe thead th {\n",
              "        text-align: right;\n",
              "    }\n",
              "</style>\n",
              "<table border=\"1\" class=\"dataframe\">\n",
              "  <thead>\n",
              "    <tr style=\"text-align: right;\">\n",
              "      <th></th>\n",
              "      <th>text_with_non_hashtag</th>\n",
              "      <th>text</th>\n",
              "    </tr>\n",
              "  </thead>\n",
              "  <tbody>\n",
              "    <tr>\n",
              "      <th>10872</th>\n",
              "      <td>police investigating after an e-bike collided ...</td>\n",
              "      <td>Police investigating after an e-bike collided ...</td>\n",
              "    </tr>\n",
              "    <tr>\n",
              "      <th>9066</th>\n",
              "      <td>investigators say a fatal virgin galactic spac...</td>\n",
              "      <td>Investigators say a fatal Virgin Galactic spac...</td>\n",
              "    </tr>\n",
              "    <tr>\n",
              "      <th>9076</th>\n",
              "      <td>bbclive investigators say a fatal virgin galac...</td>\n",
              "      <td>#BBCLive Investigators say a fatal Virgin Gala...</td>\n",
              "    </tr>\n",
              "    <tr>\n",
              "      <th>9083</th>\n",
              "      <td>investigators say a fatal virgin galactic spac...</td>\n",
              "      <td>Investigators say a fatal Virgin Galactic spac...</td>\n",
              "    </tr>\n",
              "    <tr>\n",
              "      <th>9048</th>\n",
              "      <td>investigators say a fatal virgin galactic spac...</td>\n",
              "      <td>Investigators say a fatal Virgin Galactic spac...</td>\n",
              "    </tr>\n",
              "    <tr>\n",
              "      <th>1962</th>\n",
              "      <td>schools in western uganda still burning down b...</td>\n",
              "      <td>Schools in Western Uganda still Burning down B...</td>\n",
              "    </tr>\n",
              "    <tr>\n",
              "      <th>9047</th>\n",
              "      <td>virgin galactic crash: early unlocking of brak...</td>\n",
              "      <td>Virgin galactic crash: early unlocking of brak...</td>\n",
              "    </tr>\n",
              "    <tr>\n",
              "      <th>9065</th>\n",
              "      <td>virgin galactic crash: early unlocking of brak...</td>\n",
              "      <td>Virgin galactic crash: early unlocking of brak...</td>\n",
              "    </tr>\n",
              "    <tr>\n",
              "      <th>9049</th>\n",
              "      <td>investigators rule catastrophic structural fai...</td>\n",
              "      <td>Investigators rule catastrophic structural fai...</td>\n",
              "    </tr>\n",
              "    <tr>\n",
              "      <th>9089</th>\n",
              "      <td>ntsb: virgin galactic crash caused by structur...</td>\n",
              "      <td>NTSB: Virgin Galactic crash caused by structur...</td>\n",
              "    </tr>\n",
              "    <tr>\n",
              "      <th>9055</th>\n",
              "      <td>&lt;user&gt;  mega mood swing on a 24 hr schedule. i...</td>\n",
              "      <td>@SirTitan45  Mega mood swing on a 24 hr schedu...</td>\n",
              "    </tr>\n",
              "    <tr>\n",
              "      <th>1439</th>\n",
              "      <td>idgaf who tough or who from canada and who fro...</td>\n",
              "      <td>Idgaf who tough or who from Canada and who fro...</td>\n",
              "    </tr>\n",
              "    <tr>\n",
              "      <th>2216</th>\n",
              "      <td>the chemical brothers to play the armory in sf...</td>\n",
              "      <td>THE CHEMICAL BROTHERS to play The Armory in SF...</td>\n",
              "    </tr>\n",
              "    <tr>\n",
              "      <th>1938</th>\n",
              "      <td>forestservice : rt dhsscitech: firefighters ru...</td>\n",
              "      <td>forestservice : RT dhsscitech: #Firefighters r...</td>\n",
              "    </tr>\n",
              "    <tr>\n",
              "      <th>1941</th>\n",
              "      <td>&lt;user&gt; not upset with a rally upset with burni...</td>\n",
              "      <td>@themagickidraps not upset with a rally upset ...</td>\n",
              "    </tr>\n",
              "    <tr>\n",
              "      <th>868</th>\n",
              "      <td>breakingnews fedex no longer willing to transp...</td>\n",
              "      <td>#BreakingNews http://t.co/gAN14PW9TG FedEx no ...</td>\n",
              "    </tr>\n",
              "    <tr>\n",
              "      <th>1965</th>\n",
              "      <td>'i never understood guys who wanted to run int...</td>\n",
              "      <td>'i never understood guys who wanted to run int...</td>\n",
              "    </tr>\n",
              "    <tr>\n",
              "      <th>1469</th>\n",
              "      <td>we need to stop paying attention to &lt;user&gt; bod...</td>\n",
              "      <td>We need to stop paying attention to @drizzy bo...</td>\n",
              "    </tr>\n",
              "    <tr>\n",
              "      <th>869</th>\n",
              "      <td>fedex no longer to transport bioterror germs i...</td>\n",
              "      <td>FedEx no longer to transport bioterror germs i...</td>\n",
              "    </tr>\n",
              "    <tr>\n",
              "      <th>840</th>\n",
              "      <td>fedex to stop transporting bioterror germs aft...</td>\n",
              "      <td>FedEx to stop transporting bioterror germs aft...</td>\n",
              "    </tr>\n",
              "  </tbody>\n",
              "</table>\n",
              "</div>\n",
              "      <button class=\"colab-df-convert\" onclick=\"convertToInteractive('df-09605a1b-3849-4dd9-b27b-f773984ffcff')\"\n",
              "              title=\"Convert this dataframe to an interactive table.\"\n",
              "              style=\"display:none;\">\n",
              "        \n",
              "  <svg xmlns=\"http://www.w3.org/2000/svg\" height=\"24px\"viewBox=\"0 0 24 24\"\n",
              "       width=\"24px\">\n",
              "    <path d=\"M0 0h24v24H0V0z\" fill=\"none\"/>\n",
              "    <path d=\"M18.56 5.44l.94 2.06.94-2.06 2.06-.94-2.06-.94-.94-2.06-.94 2.06-2.06.94zm-11 1L8.5 8.5l.94-2.06 2.06-.94-2.06-.94L8.5 2.5l-.94 2.06-2.06.94zm10 10l.94 2.06.94-2.06 2.06-.94-2.06-.94-.94-2.06-.94 2.06-2.06.94z\"/><path d=\"M17.41 7.96l-1.37-1.37c-.4-.4-.92-.59-1.43-.59-.52 0-1.04.2-1.43.59L10.3 9.45l-7.72 7.72c-.78.78-.78 2.05 0 2.83L4 21.41c.39.39.9.59 1.41.59.51 0 1.02-.2 1.41-.59l7.78-7.78 2.81-2.81c.8-.78.8-2.07 0-2.86zM5.41 20L4 18.59l7.72-7.72 1.47 1.35L5.41 20z\"/>\n",
              "  </svg>\n",
              "      </button>\n",
              "      \n",
              "  <style>\n",
              "    .colab-df-container {\n",
              "      display:flex;\n",
              "      flex-wrap:wrap;\n",
              "      gap: 12px;\n",
              "    }\n",
              "\n",
              "    .colab-df-convert {\n",
              "      background-color: #E8F0FE;\n",
              "      border: none;\n",
              "      border-radius: 50%;\n",
              "      cursor: pointer;\n",
              "      display: none;\n",
              "      fill: #1967D2;\n",
              "      height: 32px;\n",
              "      padding: 0 0 0 0;\n",
              "      width: 32px;\n",
              "    }\n",
              "\n",
              "    .colab-df-convert:hover {\n",
              "      background-color: #E2EBFA;\n",
              "      box-shadow: 0px 1px 2px rgba(60, 64, 67, 0.3), 0px 1px 3px 1px rgba(60, 64, 67, 0.15);\n",
              "      fill: #174EA6;\n",
              "    }\n",
              "\n",
              "    [theme=dark] .colab-df-convert {\n",
              "      background-color: #3B4455;\n",
              "      fill: #D2E3FC;\n",
              "    }\n",
              "\n",
              "    [theme=dark] .colab-df-convert:hover {\n",
              "      background-color: #434B5C;\n",
              "      box-shadow: 0px 1px 3px 1px rgba(0, 0, 0, 0.15);\n",
              "      filter: drop-shadow(0px 1px 2px rgba(0, 0, 0, 0.3));\n",
              "      fill: #FFFFFF;\n",
              "    }\n",
              "  </style>\n",
              "\n",
              "      <script>\n",
              "        const buttonEl =\n",
              "          document.querySelector('#df-09605a1b-3849-4dd9-b27b-f773984ffcff button.colab-df-convert');\n",
              "        buttonEl.style.display =\n",
              "          google.colab.kernel.accessAllowed ? 'block' : 'none';\n",
              "\n",
              "        async function convertToInteractive(key) {\n",
              "          const element = document.querySelector('#df-09605a1b-3849-4dd9-b27b-f773984ffcff');\n",
              "          const dataTable =\n",
              "            await google.colab.kernel.invokeFunction('convertToInteractive',\n",
              "                                                     [key], {});\n",
              "          if (!dataTable) return;\n",
              "\n",
              "          const docLinkHtml = 'Like what you see? Visit the ' +\n",
              "            '<a target=\"_blank\" href=https://colab.research.google.com/notebooks/data_table.ipynb>data table notebook</a>'\n",
              "            + ' to learn more about interactive tables.';\n",
              "          element.innerHTML = '';\n",
              "          dataTable['output_type'] = 'display_data';\n",
              "          await google.colab.output.renderOutput(dataTable, element);\n",
              "          const docLink = document.createElement('div');\n",
              "          docLink.innerHTML = docLinkHtml;\n",
              "          element.appendChild(docLink);\n",
              "        }\n",
              "      </script>\n",
              "    </div>\n",
              "  </div>\n",
              "  "
            ]
          },
          "metadata": {},
          "execution_count": 22
        }
      ]
    },
    {
      "cell_type": "code",
      "source": [
        "def remove_with_non_hashtag_value(x):\n",
        "  ''' Remove hashtag value'''\n",
        "  word_list = x.split(\" \")\n",
        "  clean_words = []\n",
        "  for word in word_list:\n",
        "    if re.search(\"^#\", word) is None:\n",
        "      clean_words.append(word.lower())\n",
        "\n",
        "  return \" \".join(clean_words)\n",
        "\n",
        "disaster_db_df[\"text_without_hashtag_version\"] = disaster_db_df[\"text_without_url_and_arroba\"].apply(lambda x: remove_with_non_hashtag_value(x))\n",
        "clean_step_2_1_tweetit_db_df = disaster_db_df[disaster_db_df[\"is_tweet_id_duplicated\"] == True]\n",
        "clean_step_2_1_tweetit_db_df.sort_values(by = 'tweetid', inplace=True)\n",
        "clean_step_2_1_tweetit_db_df[[\"text_without_hashtag_version\", \"text\"]].head(20)"
      ],
      "metadata": {
        "colab": {
          "base_uri": "https://localhost:8080/",
          "height": 783
        },
        "id": "RrOPtdhasNIg",
        "outputId": "0c748d90-acb7-4371-8026-7f953d47d89a"
      },
      "execution_count": 23,
      "outputs": [
        {
          "output_type": "stream",
          "name": "stderr",
          "text": [
            "<ipython-input-23-59fe4d89c0ce>:13: SettingWithCopyWarning: \n",
            "A value is trying to be set on a copy of a slice from a DataFrame\n",
            "\n",
            "See the caveats in the documentation: https://pandas.pydata.org/pandas-docs/stable/user_guide/indexing.html#returning-a-view-versus-a-copy\n",
            "  clean_step_2_1_tweetit_db_df.sort_values(by = 'tweetid', inplace=True)\n"
          ]
        },
        {
          "output_type": "execute_result",
          "data": {
            "text/plain": [
              "                            text_without_hashtag_version  \\\n",
              "10872  police investigating after an e-bike collided ...   \n",
              "9066   investigators say a fatal virgin galactic spac...   \n",
              "9076   investigators say a fatal virgin galactic spac...   \n",
              "9083   investigators say a fatal virgin galactic spac...   \n",
              "9048   investigators say a fatal virgin galactic spac...   \n",
              "1962   schools in western uganda still burning down b...   \n",
              "9047   virgin galactic crash: early unlocking of brak...   \n",
              "9065   virgin galactic crash: early unlocking of brak...   \n",
              "9049   investigators rule catastrophic structural fai...   \n",
              "9089   ntsb: virgin galactic crash caused by structur...   \n",
              "9055   <user>  mega mood swing on a 24 hr schedule. i...   \n",
              "1439   idgaf who tough or who from canada and who fro...   \n",
              "2216   the chemical brothers to play the armory in sf...   \n",
              "1938   forestservice : rt dhsscitech: run into burnin...   \n",
              "1941   <user> not upset with a rally upset with burni...   \n",
              "868    fedex no longer willing to transport research ...   \n",
              "1965   'i never understood guys who wanted to run int...   \n",
              "1469   we need to stop paying attention to <user> bod...   \n",
              "869    fedex no longer to transport bioterror germs i...   \n",
              "840    fedex to stop transporting bioterror germs aft...   \n",
              "\n",
              "                                                    text  \n",
              "10872  Police investigating after an e-bike collided ...  \n",
              "9066   Investigators say a fatal Virgin Galactic spac...  \n",
              "9076   #BBCLive Investigators say a fatal Virgin Gala...  \n",
              "9083   Investigators say a fatal Virgin Galactic spac...  \n",
              "9048   Investigators say a fatal Virgin Galactic spac...  \n",
              "1962   Schools in Western Uganda still Burning down B...  \n",
              "9047   Virgin galactic crash: early unlocking of brak...  \n",
              "9065   Virgin galactic crash: early unlocking of brak...  \n",
              "9049   Investigators rule catastrophic structural fai...  \n",
              "9089   NTSB: Virgin Galactic crash caused by structur...  \n",
              "9055   @SirTitan45  Mega mood swing on a 24 hr schedu...  \n",
              "1439   Idgaf who tough or who from Canada and who fro...  \n",
              "2216   THE CHEMICAL BROTHERS to play The Armory in SF...  \n",
              "1938   forestservice : RT dhsscitech: #Firefighters r...  \n",
              "1941   @themagickidraps not upset with a rally upset ...  \n",
              "868    #BreakingNews http://t.co/gAN14PW9TG FedEx no ...  \n",
              "1965   'i never understood guys who wanted to run int...  \n",
              "1469   We need to stop paying attention to @drizzy bo...  \n",
              "869    FedEx no longer to transport bioterror germs i...  \n",
              "840    FedEx to stop transporting bioterror germs aft...  "
            ],
            "text/html": [
              "\n",
              "  <div id=\"df-4bb5b596-7031-4585-866f-48e5a450e58a\">\n",
              "    <div class=\"colab-df-container\">\n",
              "      <div>\n",
              "<style scoped>\n",
              "    .dataframe tbody tr th:only-of-type {\n",
              "        vertical-align: middle;\n",
              "    }\n",
              "\n",
              "    .dataframe tbody tr th {\n",
              "        vertical-align: top;\n",
              "    }\n",
              "\n",
              "    .dataframe thead th {\n",
              "        text-align: right;\n",
              "    }\n",
              "</style>\n",
              "<table border=\"1\" class=\"dataframe\">\n",
              "  <thead>\n",
              "    <tr style=\"text-align: right;\">\n",
              "      <th></th>\n",
              "      <th>text_without_hashtag_version</th>\n",
              "      <th>text</th>\n",
              "    </tr>\n",
              "  </thead>\n",
              "  <tbody>\n",
              "    <tr>\n",
              "      <th>10872</th>\n",
              "      <td>police investigating after an e-bike collided ...</td>\n",
              "      <td>Police investigating after an e-bike collided ...</td>\n",
              "    </tr>\n",
              "    <tr>\n",
              "      <th>9066</th>\n",
              "      <td>investigators say a fatal virgin galactic spac...</td>\n",
              "      <td>Investigators say a fatal Virgin Galactic spac...</td>\n",
              "    </tr>\n",
              "    <tr>\n",
              "      <th>9076</th>\n",
              "      <td>investigators say a fatal virgin galactic spac...</td>\n",
              "      <td>#BBCLive Investigators say a fatal Virgin Gala...</td>\n",
              "    </tr>\n",
              "    <tr>\n",
              "      <th>9083</th>\n",
              "      <td>investigators say a fatal virgin galactic spac...</td>\n",
              "      <td>Investigators say a fatal Virgin Galactic spac...</td>\n",
              "    </tr>\n",
              "    <tr>\n",
              "      <th>9048</th>\n",
              "      <td>investigators say a fatal virgin galactic spac...</td>\n",
              "      <td>Investigators say a fatal Virgin Galactic spac...</td>\n",
              "    </tr>\n",
              "    <tr>\n",
              "      <th>1962</th>\n",
              "      <td>schools in western uganda still burning down b...</td>\n",
              "      <td>Schools in Western Uganda still Burning down B...</td>\n",
              "    </tr>\n",
              "    <tr>\n",
              "      <th>9047</th>\n",
              "      <td>virgin galactic crash: early unlocking of brak...</td>\n",
              "      <td>Virgin galactic crash: early unlocking of brak...</td>\n",
              "    </tr>\n",
              "    <tr>\n",
              "      <th>9065</th>\n",
              "      <td>virgin galactic crash: early unlocking of brak...</td>\n",
              "      <td>Virgin galactic crash: early unlocking of brak...</td>\n",
              "    </tr>\n",
              "    <tr>\n",
              "      <th>9049</th>\n",
              "      <td>investigators rule catastrophic structural fai...</td>\n",
              "      <td>Investigators rule catastrophic structural fai...</td>\n",
              "    </tr>\n",
              "    <tr>\n",
              "      <th>9089</th>\n",
              "      <td>ntsb: virgin galactic crash caused by structur...</td>\n",
              "      <td>NTSB: Virgin Galactic crash caused by structur...</td>\n",
              "    </tr>\n",
              "    <tr>\n",
              "      <th>9055</th>\n",
              "      <td>&lt;user&gt;  mega mood swing on a 24 hr schedule. i...</td>\n",
              "      <td>@SirTitan45  Mega mood swing on a 24 hr schedu...</td>\n",
              "    </tr>\n",
              "    <tr>\n",
              "      <th>1439</th>\n",
              "      <td>idgaf who tough or who from canada and who fro...</td>\n",
              "      <td>Idgaf who tough or who from Canada and who fro...</td>\n",
              "    </tr>\n",
              "    <tr>\n",
              "      <th>2216</th>\n",
              "      <td>the chemical brothers to play the armory in sf...</td>\n",
              "      <td>THE CHEMICAL BROTHERS to play The Armory in SF...</td>\n",
              "    </tr>\n",
              "    <tr>\n",
              "      <th>1938</th>\n",
              "      <td>forestservice : rt dhsscitech: run into burnin...</td>\n",
              "      <td>forestservice : RT dhsscitech: #Firefighters r...</td>\n",
              "    </tr>\n",
              "    <tr>\n",
              "      <th>1941</th>\n",
              "      <td>&lt;user&gt; not upset with a rally upset with burni...</td>\n",
              "      <td>@themagickidraps not upset with a rally upset ...</td>\n",
              "    </tr>\n",
              "    <tr>\n",
              "      <th>868</th>\n",
              "      <td>fedex no longer willing to transport research ...</td>\n",
              "      <td>#BreakingNews http://t.co/gAN14PW9TG FedEx no ...</td>\n",
              "    </tr>\n",
              "    <tr>\n",
              "      <th>1965</th>\n",
              "      <td>'i never understood guys who wanted to run int...</td>\n",
              "      <td>'i never understood guys who wanted to run int...</td>\n",
              "    </tr>\n",
              "    <tr>\n",
              "      <th>1469</th>\n",
              "      <td>we need to stop paying attention to &lt;user&gt; bod...</td>\n",
              "      <td>We need to stop paying attention to @drizzy bo...</td>\n",
              "    </tr>\n",
              "    <tr>\n",
              "      <th>869</th>\n",
              "      <td>fedex no longer to transport bioterror germs i...</td>\n",
              "      <td>FedEx no longer to transport bioterror germs i...</td>\n",
              "    </tr>\n",
              "    <tr>\n",
              "      <th>840</th>\n",
              "      <td>fedex to stop transporting bioterror germs aft...</td>\n",
              "      <td>FedEx to stop transporting bioterror germs aft...</td>\n",
              "    </tr>\n",
              "  </tbody>\n",
              "</table>\n",
              "</div>\n",
              "      <button class=\"colab-df-convert\" onclick=\"convertToInteractive('df-4bb5b596-7031-4585-866f-48e5a450e58a')\"\n",
              "              title=\"Convert this dataframe to an interactive table.\"\n",
              "              style=\"display:none;\">\n",
              "        \n",
              "  <svg xmlns=\"http://www.w3.org/2000/svg\" height=\"24px\"viewBox=\"0 0 24 24\"\n",
              "       width=\"24px\">\n",
              "    <path d=\"M0 0h24v24H0V0z\" fill=\"none\"/>\n",
              "    <path d=\"M18.56 5.44l.94 2.06.94-2.06 2.06-.94-2.06-.94-.94-2.06-.94 2.06-2.06.94zm-11 1L8.5 8.5l.94-2.06 2.06-.94-2.06-.94L8.5 2.5l-.94 2.06-2.06.94zm10 10l.94 2.06.94-2.06 2.06-.94-2.06-.94-.94-2.06-.94 2.06-2.06.94z\"/><path d=\"M17.41 7.96l-1.37-1.37c-.4-.4-.92-.59-1.43-.59-.52 0-1.04.2-1.43.59L10.3 9.45l-7.72 7.72c-.78.78-.78 2.05 0 2.83L4 21.41c.39.39.9.59 1.41.59.51 0 1.02-.2 1.41-.59l7.78-7.78 2.81-2.81c.8-.78.8-2.07 0-2.86zM5.41 20L4 18.59l7.72-7.72 1.47 1.35L5.41 20z\"/>\n",
              "  </svg>\n",
              "      </button>\n",
              "      \n",
              "  <style>\n",
              "    .colab-df-container {\n",
              "      display:flex;\n",
              "      flex-wrap:wrap;\n",
              "      gap: 12px;\n",
              "    }\n",
              "\n",
              "    .colab-df-convert {\n",
              "      background-color: #E8F0FE;\n",
              "      border: none;\n",
              "      border-radius: 50%;\n",
              "      cursor: pointer;\n",
              "      display: none;\n",
              "      fill: #1967D2;\n",
              "      height: 32px;\n",
              "      padding: 0 0 0 0;\n",
              "      width: 32px;\n",
              "    }\n",
              "\n",
              "    .colab-df-convert:hover {\n",
              "      background-color: #E2EBFA;\n",
              "      box-shadow: 0px 1px 2px rgba(60, 64, 67, 0.3), 0px 1px 3px 1px rgba(60, 64, 67, 0.15);\n",
              "      fill: #174EA6;\n",
              "    }\n",
              "\n",
              "    [theme=dark] .colab-df-convert {\n",
              "      background-color: #3B4455;\n",
              "      fill: #D2E3FC;\n",
              "    }\n",
              "\n",
              "    [theme=dark] .colab-df-convert:hover {\n",
              "      background-color: #434B5C;\n",
              "      box-shadow: 0px 1px 3px 1px rgba(0, 0, 0, 0.15);\n",
              "      filter: drop-shadow(0px 1px 2px rgba(0, 0, 0, 0.3));\n",
              "      fill: #FFFFFF;\n",
              "    }\n",
              "  </style>\n",
              "\n",
              "      <script>\n",
              "        const buttonEl =\n",
              "          document.querySelector('#df-4bb5b596-7031-4585-866f-48e5a450e58a button.colab-df-convert');\n",
              "        buttonEl.style.display =\n",
              "          google.colab.kernel.accessAllowed ? 'block' : 'none';\n",
              "\n",
              "        async function convertToInteractive(key) {\n",
              "          const element = document.querySelector('#df-4bb5b596-7031-4585-866f-48e5a450e58a');\n",
              "          const dataTable =\n",
              "            await google.colab.kernel.invokeFunction('convertToInteractive',\n",
              "                                                     [key], {});\n",
              "          if (!dataTable) return;\n",
              "\n",
              "          const docLinkHtml = 'Like what you see? Visit the ' +\n",
              "            '<a target=\"_blank\" href=https://colab.research.google.com/notebooks/data_table.ipynb>data table notebook</a>'\n",
              "            + ' to learn more about interactive tables.';\n",
              "          element.innerHTML = '';\n",
              "          dataTable['output_type'] = 'display_data';\n",
              "          await google.colab.output.renderOutput(dataTable, element);\n",
              "          const docLink = document.createElement('div');\n",
              "          docLink.innerHTML = docLinkHtml;\n",
              "          element.appendChild(docLink);\n",
              "        }\n",
              "      </script>\n",
              "    </div>\n",
              "  </div>\n",
              "  "
            ]
          },
          "metadata": {},
          "execution_count": 23
        }
      ]
    },
    {
      "cell_type": "markdown",
      "source": [
        "### Get the most long length version of text to cover more information."
      ],
      "metadata": {
        "id": "6UaLuB81vGPf"
      }
    },
    {
      "cell_type": "code",
      "source": [
        "def get_lenght_text(x):\n",
        "  ''' Get the lenght of words in \"text\" field'''\n",
        "  return len(x.split(\" \"))\n",
        "\n",
        "disaster_db_df[\"amount_words_in_cleaning_text\"] = disaster_db_df[\"text_without_hashtag_version\"].apply( lambda x : get_lenght_text(x))\n",
        "disaster_db_df.sort_values(by = 'amount_words_in_cleaning_text', inplace=True)\n",
        "cleaning_disaster_db_df = disaster_db_df[['choose_one', 'choose_one:confidence', 'text','tweetid', 'range_confidence', \n",
        "  'is_tweet_id_duplicated', 'amount_words_in_cleaning_text', \"text_without_hashtag_version\"]]\n",
        "cleaning_disaster_db_df.rename(columns={\n",
        "    \"text_without_hashtag_version\": \"cleaning_text\",\n",
        "    \"choose_one:confidence\": \"confidence\",\n",
        "    \"tweetid\": \"tweet_id\"\n",
        "  }, inplace=True)\n",
        "cleaning_disaster_db_df.head(15)"
      ],
      "metadata": {
        "colab": {
          "base_uri": "https://localhost:8080/",
          "height": 792
        },
        "id": "tMRTWJuavIkx",
        "outputId": "1c54ef8a-e24d-46c0-84e0-8008c4e86b3f"
      },
      "execution_count": 24,
      "outputs": [
        {
          "output_type": "stream",
          "name": "stderr",
          "text": [
            "<ipython-input-24-fdce3a786b39>:9: SettingWithCopyWarning: \n",
            "A value is trying to be set on a copy of a slice from a DataFrame\n",
            "\n",
            "See the caveats in the documentation: https://pandas.pydata.org/pandas-docs/stable/user_guide/indexing.html#returning-a-view-versus-a-copy\n",
            "  cleaning_disaster_db_df.rename(columns={\n"
          ]
        },
        {
          "output_type": "execute_result",
          "data": {
            "text/plain": [
              "        choose_one  confidence  \\\n",
              "9487      Relevant      0.8018   \n",
              "9490      Relevant      0.4048   \n",
              "9486  Not Relevant      1.0000   \n",
              "9482      Relevant      0.6030   \n",
              "9480      Relevant      0.6057   \n",
              "179   Not Relevant      0.5030   \n",
              "7610  Not Relevant      0.7946   \n",
              "9478  Not Relevant      0.6026   \n",
              "6168      Relevant      0.4014   \n",
              "36    Not Relevant      1.0000   \n",
              "9461      Relevant      0.8012   \n",
              "9449      Relevant      0.8036   \n",
              "7400  Not Relevant      0.7995   \n",
              "5851      Relevant      1.0000   \n",
              "9454  Not Relevant      0.5988   \n",
              "\n",
              "                                                   text      tweet_id  \\\n",
              "9487  Truth...\\nhttps://t.co/n1K5nlib9X\\n#News\\n#BBC...  6.290990e+17   \n",
              "9490  Truth...\\nhttps://t.co/4ZQrsAQrRT\\n#News\\n#BBC...  6.291010e+17   \n",
              "9486  Truth...\\nhttps://t.co/k44tL3rfMy\\n#News\\n#BBC...  6.290990e+17   \n",
              "9482  Truth...\\nhttps://t.co/p5ZIcjUdXO\\n#News\\n#BBC...  6.290990e+17   \n",
              "9480  Truth...\\nhttps://t.co/2Y4RGob7pj\\n#News\\n#BBC...  6.291010e+17   \n",
              "179                  Aftershock https://t.co/Ecy4U623nO  6.289010e+17   \n",
              "7610        #Pandemonium.iso psp http://t.co/HbpNFOAwII  6.290770e+17   \n",
              "9478  Truth...\\nhttps://t.co/Kix1j4ZyGx\\n#News\\n#BBC...  6.291010e+17   \n",
              "6168                                             hijack  6.290750e+17   \n",
              "36                                             LOOOOOOL  4.100000e+01   \n",
              "9461  Truth...\\nhttps://t.co/GLzggDjQeH\\n#News\\n#BBC...  6.290990e+17   \n",
              "9449  Truth...\\nhttps://t.co/nXS3Z1kxiD\\n#News\\n#BBC...  6.291010e+17   \n",
              "7400                                        Obliterated  6.290890e+17   \n",
              "5851  Yesterday's #hailstorm! #boston #cambridge htt...  6.290260e+17   \n",
              "9454  Truth...\\nhttps://t.co/beJfTYgJIL\\n#News\\n#BBC...  6.290990e+17   \n",
              "\n",
              "     range_confidence  is_tweet_id_duplicated  amount_words_in_cleaning_text  \\\n",
              "9487       0.75 - 0.9                    True                              1   \n",
              "9490        0.0 - 0.5                    True                              1   \n",
              "9486        0.9 - 1.0                    True                              1   \n",
              "9482       0.5 - 0.75                    True                              1   \n",
              "9480       0.5 - 0.75                    True                              1   \n",
              "179        0.5 - 0.75                   False                              1   \n",
              "7610       0.75 - 0.9                    True                              1   \n",
              "9478       0.5 - 0.75                    True                              1   \n",
              "6168        0.0 - 0.5                    True                              1   \n",
              "36          0.9 - 1.0                   False                              1   \n",
              "9461       0.75 - 0.9                    True                              1   \n",
              "9449       0.75 - 0.9                    True                              1   \n",
              "7400       0.75 - 0.9                    True                              1   \n",
              "5851        0.9 - 1.0                    True                              1   \n",
              "9454       0.5 - 0.75                    True                              1   \n",
              "\n",
              "                                          cleaning_text  \n",
              "9487  truth...\\nhttps://t.co/n1k5nlib9x\\n#news\\n#bbc...  \n",
              "9490  truth...\\nhttps://t.co/4zqrsaqrrt\\n#news\\n#bbc...  \n",
              "9486  truth...\\nhttps://t.co/k44tl3rfmy\\n#news\\n#bbc...  \n",
              "9482  truth...\\nhttps://t.co/p5zicjudxo\\n#news\\n#bbc...  \n",
              "9480  truth...\\nhttps://t.co/2y4rgob7pj\\n#news\\n#bbc...  \n",
              "179                                          aftershock  \n",
              "7610                                                psp  \n",
              "9478  truth...\\nhttps://t.co/kix1j4zygx\\n#news\\n#bbc...  \n",
              "6168                                             hijack  \n",
              "36                                             looooool  \n",
              "9461  truth...\\nhttps://t.co/glzggdjqeh\\n#news\\n#bbc...  \n",
              "9449  truth...\\nhttps://t.co/nxs3z1kxid\\n#news\\n#bbc...  \n",
              "7400                                        obliterated  \n",
              "5851                                        yesterday's  \n",
              "9454  truth...\\nhttps://t.co/bejftygjil\\n#news\\n#bbc...  "
            ],
            "text/html": [
              "\n",
              "  <div id=\"df-c58c563b-a582-440f-8daa-481eb12d5a1d\">\n",
              "    <div class=\"colab-df-container\">\n",
              "      <div>\n",
              "<style scoped>\n",
              "    .dataframe tbody tr th:only-of-type {\n",
              "        vertical-align: middle;\n",
              "    }\n",
              "\n",
              "    .dataframe tbody tr th {\n",
              "        vertical-align: top;\n",
              "    }\n",
              "\n",
              "    .dataframe thead th {\n",
              "        text-align: right;\n",
              "    }\n",
              "</style>\n",
              "<table border=\"1\" class=\"dataframe\">\n",
              "  <thead>\n",
              "    <tr style=\"text-align: right;\">\n",
              "      <th></th>\n",
              "      <th>choose_one</th>\n",
              "      <th>confidence</th>\n",
              "      <th>text</th>\n",
              "      <th>tweet_id</th>\n",
              "      <th>range_confidence</th>\n",
              "      <th>is_tweet_id_duplicated</th>\n",
              "      <th>amount_words_in_cleaning_text</th>\n",
              "      <th>cleaning_text</th>\n",
              "    </tr>\n",
              "  </thead>\n",
              "  <tbody>\n",
              "    <tr>\n",
              "      <th>9487</th>\n",
              "      <td>Relevant</td>\n",
              "      <td>0.8018</td>\n",
              "      <td>Truth...\\nhttps://t.co/n1K5nlib9X\\n#News\\n#BBC...</td>\n",
              "      <td>6.290990e+17</td>\n",
              "      <td>0.75 - 0.9</td>\n",
              "      <td>True</td>\n",
              "      <td>1</td>\n",
              "      <td>truth...\\nhttps://t.co/n1k5nlib9x\\n#news\\n#bbc...</td>\n",
              "    </tr>\n",
              "    <tr>\n",
              "      <th>9490</th>\n",
              "      <td>Relevant</td>\n",
              "      <td>0.4048</td>\n",
              "      <td>Truth...\\nhttps://t.co/4ZQrsAQrRT\\n#News\\n#BBC...</td>\n",
              "      <td>6.291010e+17</td>\n",
              "      <td>0.0 - 0.5</td>\n",
              "      <td>True</td>\n",
              "      <td>1</td>\n",
              "      <td>truth...\\nhttps://t.co/4zqrsaqrrt\\n#news\\n#bbc...</td>\n",
              "    </tr>\n",
              "    <tr>\n",
              "      <th>9486</th>\n",
              "      <td>Not Relevant</td>\n",
              "      <td>1.0000</td>\n",
              "      <td>Truth...\\nhttps://t.co/k44tL3rfMy\\n#News\\n#BBC...</td>\n",
              "      <td>6.290990e+17</td>\n",
              "      <td>0.9 - 1.0</td>\n",
              "      <td>True</td>\n",
              "      <td>1</td>\n",
              "      <td>truth...\\nhttps://t.co/k44tl3rfmy\\n#news\\n#bbc...</td>\n",
              "    </tr>\n",
              "    <tr>\n",
              "      <th>9482</th>\n",
              "      <td>Relevant</td>\n",
              "      <td>0.6030</td>\n",
              "      <td>Truth...\\nhttps://t.co/p5ZIcjUdXO\\n#News\\n#BBC...</td>\n",
              "      <td>6.290990e+17</td>\n",
              "      <td>0.5 - 0.75</td>\n",
              "      <td>True</td>\n",
              "      <td>1</td>\n",
              "      <td>truth...\\nhttps://t.co/p5zicjudxo\\n#news\\n#bbc...</td>\n",
              "    </tr>\n",
              "    <tr>\n",
              "      <th>9480</th>\n",
              "      <td>Relevant</td>\n",
              "      <td>0.6057</td>\n",
              "      <td>Truth...\\nhttps://t.co/2Y4RGob7pj\\n#News\\n#BBC...</td>\n",
              "      <td>6.291010e+17</td>\n",
              "      <td>0.5 - 0.75</td>\n",
              "      <td>True</td>\n",
              "      <td>1</td>\n",
              "      <td>truth...\\nhttps://t.co/2y4rgob7pj\\n#news\\n#bbc...</td>\n",
              "    </tr>\n",
              "    <tr>\n",
              "      <th>179</th>\n",
              "      <td>Not Relevant</td>\n",
              "      <td>0.5030</td>\n",
              "      <td>Aftershock https://t.co/Ecy4U623nO</td>\n",
              "      <td>6.289010e+17</td>\n",
              "      <td>0.5 - 0.75</td>\n",
              "      <td>False</td>\n",
              "      <td>1</td>\n",
              "      <td>aftershock</td>\n",
              "    </tr>\n",
              "    <tr>\n",
              "      <th>7610</th>\n",
              "      <td>Not Relevant</td>\n",
              "      <td>0.7946</td>\n",
              "      <td>#Pandemonium.iso psp http://t.co/HbpNFOAwII</td>\n",
              "      <td>6.290770e+17</td>\n",
              "      <td>0.75 - 0.9</td>\n",
              "      <td>True</td>\n",
              "      <td>1</td>\n",
              "      <td>psp</td>\n",
              "    </tr>\n",
              "    <tr>\n",
              "      <th>9478</th>\n",
              "      <td>Not Relevant</td>\n",
              "      <td>0.6026</td>\n",
              "      <td>Truth...\\nhttps://t.co/Kix1j4ZyGx\\n#News\\n#BBC...</td>\n",
              "      <td>6.291010e+17</td>\n",
              "      <td>0.5 - 0.75</td>\n",
              "      <td>True</td>\n",
              "      <td>1</td>\n",
              "      <td>truth...\\nhttps://t.co/kix1j4zygx\\n#news\\n#bbc...</td>\n",
              "    </tr>\n",
              "    <tr>\n",
              "      <th>6168</th>\n",
              "      <td>Relevant</td>\n",
              "      <td>0.4014</td>\n",
              "      <td>hijack</td>\n",
              "      <td>6.290750e+17</td>\n",
              "      <td>0.0 - 0.5</td>\n",
              "      <td>True</td>\n",
              "      <td>1</td>\n",
              "      <td>hijack</td>\n",
              "    </tr>\n",
              "    <tr>\n",
              "      <th>36</th>\n",
              "      <td>Not Relevant</td>\n",
              "      <td>1.0000</td>\n",
              "      <td>LOOOOOOL</td>\n",
              "      <td>4.100000e+01</td>\n",
              "      <td>0.9 - 1.0</td>\n",
              "      <td>False</td>\n",
              "      <td>1</td>\n",
              "      <td>looooool</td>\n",
              "    </tr>\n",
              "    <tr>\n",
              "      <th>9461</th>\n",
              "      <td>Relevant</td>\n",
              "      <td>0.8012</td>\n",
              "      <td>Truth...\\nhttps://t.co/GLzggDjQeH\\n#News\\n#BBC...</td>\n",
              "      <td>6.290990e+17</td>\n",
              "      <td>0.75 - 0.9</td>\n",
              "      <td>True</td>\n",
              "      <td>1</td>\n",
              "      <td>truth...\\nhttps://t.co/glzggdjqeh\\n#news\\n#bbc...</td>\n",
              "    </tr>\n",
              "    <tr>\n",
              "      <th>9449</th>\n",
              "      <td>Relevant</td>\n",
              "      <td>0.8036</td>\n",
              "      <td>Truth...\\nhttps://t.co/nXS3Z1kxiD\\n#News\\n#BBC...</td>\n",
              "      <td>6.291010e+17</td>\n",
              "      <td>0.75 - 0.9</td>\n",
              "      <td>True</td>\n",
              "      <td>1</td>\n",
              "      <td>truth...\\nhttps://t.co/nxs3z1kxid\\n#news\\n#bbc...</td>\n",
              "    </tr>\n",
              "    <tr>\n",
              "      <th>7400</th>\n",
              "      <td>Not Relevant</td>\n",
              "      <td>0.7995</td>\n",
              "      <td>Obliterated</td>\n",
              "      <td>6.290890e+17</td>\n",
              "      <td>0.75 - 0.9</td>\n",
              "      <td>True</td>\n",
              "      <td>1</td>\n",
              "      <td>obliterated</td>\n",
              "    </tr>\n",
              "    <tr>\n",
              "      <th>5851</th>\n",
              "      <td>Relevant</td>\n",
              "      <td>1.0000</td>\n",
              "      <td>Yesterday's #hailstorm! #boston #cambridge htt...</td>\n",
              "      <td>6.290260e+17</td>\n",
              "      <td>0.9 - 1.0</td>\n",
              "      <td>True</td>\n",
              "      <td>1</td>\n",
              "      <td>yesterday's</td>\n",
              "    </tr>\n",
              "    <tr>\n",
              "      <th>9454</th>\n",
              "      <td>Not Relevant</td>\n",
              "      <td>0.5988</td>\n",
              "      <td>Truth...\\nhttps://t.co/beJfTYgJIL\\n#News\\n#BBC...</td>\n",
              "      <td>6.290990e+17</td>\n",
              "      <td>0.5 - 0.75</td>\n",
              "      <td>True</td>\n",
              "      <td>1</td>\n",
              "      <td>truth...\\nhttps://t.co/bejftygjil\\n#news\\n#bbc...</td>\n",
              "    </tr>\n",
              "  </tbody>\n",
              "</table>\n",
              "</div>\n",
              "      <button class=\"colab-df-convert\" onclick=\"convertToInteractive('df-c58c563b-a582-440f-8daa-481eb12d5a1d')\"\n",
              "              title=\"Convert this dataframe to an interactive table.\"\n",
              "              style=\"display:none;\">\n",
              "        \n",
              "  <svg xmlns=\"http://www.w3.org/2000/svg\" height=\"24px\"viewBox=\"0 0 24 24\"\n",
              "       width=\"24px\">\n",
              "    <path d=\"M0 0h24v24H0V0z\" fill=\"none\"/>\n",
              "    <path d=\"M18.56 5.44l.94 2.06.94-2.06 2.06-.94-2.06-.94-.94-2.06-.94 2.06-2.06.94zm-11 1L8.5 8.5l.94-2.06 2.06-.94-2.06-.94L8.5 2.5l-.94 2.06-2.06.94zm10 10l.94 2.06.94-2.06 2.06-.94-2.06-.94-.94-2.06-.94 2.06-2.06.94z\"/><path d=\"M17.41 7.96l-1.37-1.37c-.4-.4-.92-.59-1.43-.59-.52 0-1.04.2-1.43.59L10.3 9.45l-7.72 7.72c-.78.78-.78 2.05 0 2.83L4 21.41c.39.39.9.59 1.41.59.51 0 1.02-.2 1.41-.59l7.78-7.78 2.81-2.81c.8-.78.8-2.07 0-2.86zM5.41 20L4 18.59l7.72-7.72 1.47 1.35L5.41 20z\"/>\n",
              "  </svg>\n",
              "      </button>\n",
              "      \n",
              "  <style>\n",
              "    .colab-df-container {\n",
              "      display:flex;\n",
              "      flex-wrap:wrap;\n",
              "      gap: 12px;\n",
              "    }\n",
              "\n",
              "    .colab-df-convert {\n",
              "      background-color: #E8F0FE;\n",
              "      border: none;\n",
              "      border-radius: 50%;\n",
              "      cursor: pointer;\n",
              "      display: none;\n",
              "      fill: #1967D2;\n",
              "      height: 32px;\n",
              "      padding: 0 0 0 0;\n",
              "      width: 32px;\n",
              "    }\n",
              "\n",
              "    .colab-df-convert:hover {\n",
              "      background-color: #E2EBFA;\n",
              "      box-shadow: 0px 1px 2px rgba(60, 64, 67, 0.3), 0px 1px 3px 1px rgba(60, 64, 67, 0.15);\n",
              "      fill: #174EA6;\n",
              "    }\n",
              "\n",
              "    [theme=dark] .colab-df-convert {\n",
              "      background-color: #3B4455;\n",
              "      fill: #D2E3FC;\n",
              "    }\n",
              "\n",
              "    [theme=dark] .colab-df-convert:hover {\n",
              "      background-color: #434B5C;\n",
              "      box-shadow: 0px 1px 3px 1px rgba(0, 0, 0, 0.15);\n",
              "      filter: drop-shadow(0px 1px 2px rgba(0, 0, 0, 0.3));\n",
              "      fill: #FFFFFF;\n",
              "    }\n",
              "  </style>\n",
              "\n",
              "      <script>\n",
              "        const buttonEl =\n",
              "          document.querySelector('#df-c58c563b-a582-440f-8daa-481eb12d5a1d button.colab-df-convert');\n",
              "        buttonEl.style.display =\n",
              "          google.colab.kernel.accessAllowed ? 'block' : 'none';\n",
              "\n",
              "        async function convertToInteractive(key) {\n",
              "          const element = document.querySelector('#df-c58c563b-a582-440f-8daa-481eb12d5a1d');\n",
              "          const dataTable =\n",
              "            await google.colab.kernel.invokeFunction('convertToInteractive',\n",
              "                                                     [key], {});\n",
              "          if (!dataTable) return;\n",
              "\n",
              "          const docLinkHtml = 'Like what you see? Visit the ' +\n",
              "            '<a target=\"_blank\" href=https://colab.research.google.com/notebooks/data_table.ipynb>data table notebook</a>'\n",
              "            + ' to learn more about interactive tables.';\n",
              "          element.innerHTML = '';\n",
              "          dataTable['output_type'] = 'display_data';\n",
              "          await google.colab.output.renderOutput(dataTable, element);\n",
              "          const docLink = document.createElement('div');\n",
              "          docLink.innerHTML = docLinkHtml;\n",
              "          element.appendChild(docLink);\n",
              "        }\n",
              "      </script>\n",
              "    </div>\n",
              "  </div>\n",
              "  "
            ]
          },
          "metadata": {},
          "execution_count": 24
        }
      ]
    },
    {
      "cell_type": "code",
      "source": [
        "cleaning_disaster_db_df.sort_values(\n",
        "    by=[\"cleaning_text\", \"confidence\", \"amount_words_in_cleaning_text\"],\n",
        "    ascending = False, \n",
        "    inplace=True\n",
        "  )\n",
        "cleaning_disaster_db_df.head(10)\n"
      ],
      "metadata": {
        "colab": {
          "base_uri": "https://localhost:8080/",
          "height": 1000
        },
        "id": "yzPjjAk30eef",
        "outputId": "92379137-f010-4baa-8bb3-efb5502d0c91"
      },
      "execution_count": 25,
      "outputs": [
        {
          "output_type": "stream",
          "name": "stderr",
          "text": [
            "<ipython-input-25-aaca77229732>:1: SettingWithCopyWarning: \n",
            "A value is trying to be set on a copy of a slice from a DataFrame\n",
            "\n",
            "See the caveats in the documentation: https://pandas.pydata.org/pandas-docs/stable/user_guide/indexing.html#returning-a-view-versus-a-copy\n",
            "  cleaning_disaster_db_df.sort_values(\n"
          ]
        },
        {
          "output_type": "execute_result",
          "data": {
            "text/plain": [
              "        choose_one  confidence  \\\n",
              "1394  Not Relevant      1.0000   \n",
              "9663  Not Relevant      0.8006   \n",
              "9694      Relevant      0.6006   \n",
              "2351  Not Relevant      0.6018   \n",
              "4006      Relevant      1.0000   \n",
              "1414  Not Relevant      1.0000   \n",
              "5410      Relevant      1.0000   \n",
              "1416  Not Relevant      1.0000   \n",
              "5420      Relevant      1.0000   \n",
              "8990      Relevant      0.6027   \n",
              "\n",
              "                                                   text      tweet_id  \\\n",
              "1394  å€} New Ladies Shoulder Tote #Handbag Faux Lea...  6.290670e+17   \n",
              "9663  #TornadoGiveaway åÊ #thebookclub åÊ Join in!! ...  6.291100e+17   \n",
              "9694  #TornadoGiveaway åÊ #thebookclub åÊ Join in!! ...  6.291100e+17   \n",
              "2351  åÈMGN-AFRICAåš pin:263789F4 åÈ Correction: Ten...  6.293480e+17   \n",
              "4006  å¬'Only the sea knows how many are dead' @MSF_...  6.290910e+17   \n",
              "1414  å_? New Ladies Shoulder Tote #Handbag Faux Lea...  6.290490e+17   \n",
              "5410  #NJTurnpike å_ #NJTurnpike Reopens Hours After...  6.290920e+17   \n",
              "1416  ÛŒ? New Ladies Shoulder Tote #Handbag Faux Le...  6.290330e+17   \n",
              "5420  Û÷We Can HelpÛª Says Denver Firefighter Work...  6.290920e+17   \n",
              "8990  Û÷SexistÛª peer review causes storm online h...  6.293600e+17   \n",
              "\n",
              "     range_confidence  is_tweet_id_duplicated  amount_words_in_cleaning_text  \\\n",
              "1394        0.9 - 1.0                    True                             14   \n",
              "9663       0.75 - 0.9                    True                              4   \n",
              "9694       0.5 - 0.75                    True                              4   \n",
              "2351       0.5 - 0.75                    True                             13   \n",
              "4006        0.9 - 1.0                    True                             18   \n",
              "1414        0.9 - 1.0                    True                             12   \n",
              "5410        0.9 - 1.0                    True                              7   \n",
              "1416        0.9 - 1.0                    True                             12   \n",
              "5420        0.9 - 1.0                    True                             12   \n",
              "8990       0.5 - 0.75                    True                              8   \n",
              "\n",
              "                                          cleaning_text  \n",
              "1394  å€} new ladies shoulder tote faux leather hobo...  \n",
              "9663                                    åê åê join in!!  \n",
              "9694                                    åê åê join in!!  \n",
              "2351  åèmgn-africaåš pin:263789f4 åè correction: ten...  \n",
              "4006  å¬'only the sea knows how many are dead' <user...  \n",
              "1414  å_? new ladies shoulder tote faux leather hobo...  \n",
              "5410              å_ reopens hours after truck fire in?  \n",
              "1416  ûœ? new ladies shoulder tote faux leather hob...  \n",
              "5420  û÷we can helpûª says denver firefighter work...  \n",
              "8990  û÷sexistûª peer review causes storm online v...  "
            ],
            "text/html": [
              "\n",
              "  <div id=\"df-cd477b9f-177e-4f1d-a25d-9c00a26c6591\">\n",
              "    <div class=\"colab-df-container\">\n",
              "      <div>\n",
              "<style scoped>\n",
              "    .dataframe tbody tr th:only-of-type {\n",
              "        vertical-align: middle;\n",
              "    }\n",
              "\n",
              "    .dataframe tbody tr th {\n",
              "        vertical-align: top;\n",
              "    }\n",
              "\n",
              "    .dataframe thead th {\n",
              "        text-align: right;\n",
              "    }\n",
              "</style>\n",
              "<table border=\"1\" class=\"dataframe\">\n",
              "  <thead>\n",
              "    <tr style=\"text-align: right;\">\n",
              "      <th></th>\n",
              "      <th>choose_one</th>\n",
              "      <th>confidence</th>\n",
              "      <th>text</th>\n",
              "      <th>tweet_id</th>\n",
              "      <th>range_confidence</th>\n",
              "      <th>is_tweet_id_duplicated</th>\n",
              "      <th>amount_words_in_cleaning_text</th>\n",
              "      <th>cleaning_text</th>\n",
              "    </tr>\n",
              "  </thead>\n",
              "  <tbody>\n",
              "    <tr>\n",
              "      <th>1394</th>\n",
              "      <td>Not Relevant</td>\n",
              "      <td>1.0000</td>\n",
              "      <td>å€} New Ladies Shoulder Tote #Handbag Faux Lea...</td>\n",
              "      <td>6.290670e+17</td>\n",
              "      <td>0.9 - 1.0</td>\n",
              "      <td>True</td>\n",
              "      <td>14</td>\n",
              "      <td>å€} new ladies shoulder tote faux leather hobo...</td>\n",
              "    </tr>\n",
              "    <tr>\n",
              "      <th>9663</th>\n",
              "      <td>Not Relevant</td>\n",
              "      <td>0.8006</td>\n",
              "      <td>#TornadoGiveaway åÊ #thebookclub åÊ Join in!! ...</td>\n",
              "      <td>6.291100e+17</td>\n",
              "      <td>0.75 - 0.9</td>\n",
              "      <td>True</td>\n",
              "      <td>4</td>\n",
              "      <td>åê åê join in!!</td>\n",
              "    </tr>\n",
              "    <tr>\n",
              "      <th>9694</th>\n",
              "      <td>Relevant</td>\n",
              "      <td>0.6006</td>\n",
              "      <td>#TornadoGiveaway åÊ #thebookclub åÊ Join in!! ...</td>\n",
              "      <td>6.291100e+17</td>\n",
              "      <td>0.5 - 0.75</td>\n",
              "      <td>True</td>\n",
              "      <td>4</td>\n",
              "      <td>åê åê join in!!</td>\n",
              "    </tr>\n",
              "    <tr>\n",
              "      <th>2351</th>\n",
              "      <td>Not Relevant</td>\n",
              "      <td>0.6018</td>\n",
              "      <td>åÈMGN-AFRICAåš pin:263789F4 åÈ Correction: Ten...</td>\n",
              "      <td>6.293480e+17</td>\n",
              "      <td>0.5 - 0.75</td>\n",
              "      <td>True</td>\n",
              "      <td>13</td>\n",
              "      <td>åèmgn-africaåš pin:263789f4 åè correction: ten...</td>\n",
              "    </tr>\n",
              "    <tr>\n",
              "      <th>4006</th>\n",
              "      <td>Relevant</td>\n",
              "      <td>1.0000</td>\n",
              "      <td>å¬'Only the sea knows how many are dead' @MSF_...</td>\n",
              "      <td>6.290910e+17</td>\n",
              "      <td>0.9 - 1.0</td>\n",
              "      <td>True</td>\n",
              "      <td>18</td>\n",
              "      <td>å¬'only the sea knows how many are dead' &lt;user...</td>\n",
              "    </tr>\n",
              "    <tr>\n",
              "      <th>1414</th>\n",
              "      <td>Not Relevant</td>\n",
              "      <td>1.0000</td>\n",
              "      <td>å_? New Ladies Shoulder Tote #Handbag Faux Lea...</td>\n",
              "      <td>6.290490e+17</td>\n",
              "      <td>0.9 - 1.0</td>\n",
              "      <td>True</td>\n",
              "      <td>12</td>\n",
              "      <td>å_? new ladies shoulder tote faux leather hobo...</td>\n",
              "    </tr>\n",
              "    <tr>\n",
              "      <th>5410</th>\n",
              "      <td>Relevant</td>\n",
              "      <td>1.0000</td>\n",
              "      <td>#NJTurnpike å_ #NJTurnpike Reopens Hours After...</td>\n",
              "      <td>6.290920e+17</td>\n",
              "      <td>0.9 - 1.0</td>\n",
              "      <td>True</td>\n",
              "      <td>7</td>\n",
              "      <td>å_ reopens hours after truck fire in?</td>\n",
              "    </tr>\n",
              "    <tr>\n",
              "      <th>1416</th>\n",
              "      <td>Not Relevant</td>\n",
              "      <td>1.0000</td>\n",
              "      <td>ÛŒ? New Ladies Shoulder Tote #Handbag Faux Le...</td>\n",
              "      <td>6.290330e+17</td>\n",
              "      <td>0.9 - 1.0</td>\n",
              "      <td>True</td>\n",
              "      <td>12</td>\n",
              "      <td>ûœ? new ladies shoulder tote faux leather hob...</td>\n",
              "    </tr>\n",
              "    <tr>\n",
              "      <th>5420</th>\n",
              "      <td>Relevant</td>\n",
              "      <td>1.0000</td>\n",
              "      <td>Û÷We Can HelpÛª Says Denver Firefighter Work...</td>\n",
              "      <td>6.290920e+17</td>\n",
              "      <td>0.9 - 1.0</td>\n",
              "      <td>True</td>\n",
              "      <td>12</td>\n",
              "      <td>û÷we can helpûª says denver firefighter work...</td>\n",
              "    </tr>\n",
              "    <tr>\n",
              "      <th>8990</th>\n",
              "      <td>Relevant</td>\n",
              "      <td>0.6027</td>\n",
              "      <td>Û÷SexistÛª peer review causes storm online h...</td>\n",
              "      <td>6.293600e+17</td>\n",
              "      <td>0.5 - 0.75</td>\n",
              "      <td>True</td>\n",
              "      <td>8</td>\n",
              "      <td>û÷sexistûª peer review causes storm online v...</td>\n",
              "    </tr>\n",
              "  </tbody>\n",
              "</table>\n",
              "</div>\n",
              "      <button class=\"colab-df-convert\" onclick=\"convertToInteractive('df-cd477b9f-177e-4f1d-a25d-9c00a26c6591')\"\n",
              "              title=\"Convert this dataframe to an interactive table.\"\n",
              "              style=\"display:none;\">\n",
              "        \n",
              "  <svg xmlns=\"http://www.w3.org/2000/svg\" height=\"24px\"viewBox=\"0 0 24 24\"\n",
              "       width=\"24px\">\n",
              "    <path d=\"M0 0h24v24H0V0z\" fill=\"none\"/>\n",
              "    <path d=\"M18.56 5.44l.94 2.06.94-2.06 2.06-.94-2.06-.94-.94-2.06-.94 2.06-2.06.94zm-11 1L8.5 8.5l.94-2.06 2.06-.94-2.06-.94L8.5 2.5l-.94 2.06-2.06.94zm10 10l.94 2.06.94-2.06 2.06-.94-2.06-.94-.94-2.06-.94 2.06-2.06.94z\"/><path d=\"M17.41 7.96l-1.37-1.37c-.4-.4-.92-.59-1.43-.59-.52 0-1.04.2-1.43.59L10.3 9.45l-7.72 7.72c-.78.78-.78 2.05 0 2.83L4 21.41c.39.39.9.59 1.41.59.51 0 1.02-.2 1.41-.59l7.78-7.78 2.81-2.81c.8-.78.8-2.07 0-2.86zM5.41 20L4 18.59l7.72-7.72 1.47 1.35L5.41 20z\"/>\n",
              "  </svg>\n",
              "      </button>\n",
              "      \n",
              "  <style>\n",
              "    .colab-df-container {\n",
              "      display:flex;\n",
              "      flex-wrap:wrap;\n",
              "      gap: 12px;\n",
              "    }\n",
              "\n",
              "    .colab-df-convert {\n",
              "      background-color: #E8F0FE;\n",
              "      border: none;\n",
              "      border-radius: 50%;\n",
              "      cursor: pointer;\n",
              "      display: none;\n",
              "      fill: #1967D2;\n",
              "      height: 32px;\n",
              "      padding: 0 0 0 0;\n",
              "      width: 32px;\n",
              "    }\n",
              "\n",
              "    .colab-df-convert:hover {\n",
              "      background-color: #E2EBFA;\n",
              "      box-shadow: 0px 1px 2px rgba(60, 64, 67, 0.3), 0px 1px 3px 1px rgba(60, 64, 67, 0.15);\n",
              "      fill: #174EA6;\n",
              "    }\n",
              "\n",
              "    [theme=dark] .colab-df-convert {\n",
              "      background-color: #3B4455;\n",
              "      fill: #D2E3FC;\n",
              "    }\n",
              "\n",
              "    [theme=dark] .colab-df-convert:hover {\n",
              "      background-color: #434B5C;\n",
              "      box-shadow: 0px 1px 3px 1px rgba(0, 0, 0, 0.15);\n",
              "      filter: drop-shadow(0px 1px 2px rgba(0, 0, 0, 0.3));\n",
              "      fill: #FFFFFF;\n",
              "    }\n",
              "  </style>\n",
              "\n",
              "      <script>\n",
              "        const buttonEl =\n",
              "          document.querySelector('#df-cd477b9f-177e-4f1d-a25d-9c00a26c6591 button.colab-df-convert');\n",
              "        buttonEl.style.display =\n",
              "          google.colab.kernel.accessAllowed ? 'block' : 'none';\n",
              "\n",
              "        async function convertToInteractive(key) {\n",
              "          const element = document.querySelector('#df-cd477b9f-177e-4f1d-a25d-9c00a26c6591');\n",
              "          const dataTable =\n",
              "            await google.colab.kernel.invokeFunction('convertToInteractive',\n",
              "                                                     [key], {});\n",
              "          if (!dataTable) return;\n",
              "\n",
              "          const docLinkHtml = 'Like what you see? Visit the ' +\n",
              "            '<a target=\"_blank\" href=https://colab.research.google.com/notebooks/data_table.ipynb>data table notebook</a>'\n",
              "            + ' to learn more about interactive tables.';\n",
              "          element.innerHTML = '';\n",
              "          dataTable['output_type'] = 'display_data';\n",
              "          await google.colab.output.renderOutput(dataTable, element);\n",
              "          const docLink = document.createElement('div');\n",
              "          docLink.innerHTML = docLinkHtml;\n",
              "          element.appendChild(docLink);\n",
              "        }\n",
              "      </script>\n",
              "    </div>\n",
              "  </div>\n",
              "  "
            ]
          },
          "metadata": {},
          "execution_count": 25
        }
      ]
    },
    {
      "cell_type": "code",
      "source": [
        "print(cleaning_disaster_db_df.shape)"
      ],
      "metadata": {
        "colab": {
          "base_uri": "https://localhost:8080/"
        },
        "id": "oNkl3ct03ZhZ",
        "outputId": "8afa52a2-de91-43a0-d5c9-1c03e5b0935d"
      },
      "execution_count": 26,
      "outputs": [
        {
          "output_type": "stream",
          "name": "stdout",
          "text": [
            "(10876, 8)\n"
          ]
        }
      ]
    },
    {
      "cell_type": "code",
      "source": [
        "cleaning_disaster_db_df[\"is_duplicated_cleaning_text\"] = cleaning_disaster_db_df.duplicated(subset=['cleaning_text'])\n",
        "cleaning_disaster_db_df[\"is_duplicated_cleaning_text\"].value_counts()"
      ],
      "metadata": {
        "colab": {
          "base_uri": "https://localhost:8080/"
        },
        "id": "XXyycfZ73fSI",
        "outputId": "00830b98-b226-4876-894c-28624a7d8a04"
      },
      "execution_count": 27,
      "outputs": [
        {
          "output_type": "stream",
          "name": "stderr",
          "text": [
            "<ipython-input-27-9edba0a8448f>:1: SettingWithCopyWarning: \n",
            "A value is trying to be set on a copy of a slice from a DataFrame.\n",
            "Try using .loc[row_indexer,col_indexer] = value instead\n",
            "\n",
            "See the caveats in the documentation: https://pandas.pydata.org/pandas-docs/stable/user_guide/indexing.html#returning-a-view-versus-a-copy\n",
            "  cleaning_disaster_db_df[\"is_duplicated_cleaning_text\"] = cleaning_disaster_db_df.duplicated(subset=['cleaning_text'])\n"
          ]
        },
        {
          "output_type": "execute_result",
          "data": {
            "text/plain": [
              "False    9668\n",
              "True     1208\n",
              "Name: is_duplicated_cleaning_text, dtype: int64"
            ]
          },
          "metadata": {},
          "execution_count": 27
        }
      ]
    },
    {
      "cell_type": "code",
      "source": [
        "### WARNING: i will reduce the db to get only validated records\n",
        "cleaning_disaster_db_df = cleaning_disaster_db_df[cleaning_disaster_db_df[\"is_duplicated_cleaning_text\"] == False]\n",
        "print(cleaning_disaster_db_df.shape)"
      ],
      "metadata": {
        "colab": {
          "base_uri": "https://localhost:8080/"
        },
        "id": "DorQuLrN5KY0",
        "outputId": "ccdaa8f4-07c3-4188-e03d-9e6e929a57be"
      },
      "execution_count": 28,
      "outputs": [
        {
          "output_type": "stream",
          "name": "stdout",
          "text": [
            "(9668, 9)\n"
          ]
        }
      ]
    },
    {
      "cell_type": "markdown",
      "source": [
        "Great!: after the cleaning process, the DB preserves the 88.89% of original records 🥳🎉"
      ],
      "metadata": {
        "id": "uQ_vsD0E9BFM"
      }
    },
    {
      "cell_type": "markdown",
      "source": [
        "## Verify the new distribution of value and validate our ideas"
      ],
      "metadata": {
        "id": "zPWLjuH97BPi"
      }
    },
    {
      "cell_type": "code",
      "source": [
        "cleaning_disaster_db_df['range_confidence'].value_counts()"
      ],
      "metadata": {
        "colab": {
          "base_uri": "https://localhost:8080/"
        },
        "id": "WzDGNIUu7HNs",
        "outputId": "e5ed5811-e925-40b4-bad2-147178d7c366"
      },
      "execution_count": 29,
      "outputs": [
        {
          "output_type": "execute_result",
          "data": {
            "text/plain": [
              "0.9 - 1.0     4498\n",
              "0.75 - 0.9    2743\n",
              "0.5 - 0.75    2306\n",
              "0.0 - 0.5      121\n",
              "Name: range_confidence, dtype: int64"
            ]
          },
          "metadata": {},
          "execution_count": 29
        }
      ]
    },
    {
      "cell_type": "markdown",
      "source": [
        "After the cleaning process, the data preserve the 66.58% of the original data like trustworthy value: that's not bad 👏. I think in first view the previous idea can be applied."
      ],
      "metadata": {
        "id": "LGWZJrfY7imE"
      }
    },
    {
      "cell_type": "code",
      "source": [
        "Relevant_group_df = cleaning_disaster_db_df[cleaning_disaster_db_df[\"choose_one\"] == \"Relevant\"]\n",
        "Relevant_group_df['range_confidence'].value_counts()"
      ],
      "metadata": {
        "colab": {
          "base_uri": "https://localhost:8080/"
        },
        "id": "qRDe8RkW74Oj",
        "outputId": "1e94dd1c-46ce-44bf-d7db-4fc7f5403655"
      },
      "execution_count": 30,
      "outputs": [
        {
          "output_type": "execute_result",
          "data": {
            "text/plain": [
              "0.9 - 1.0     1835\n",
              "0.5 - 0.75    1009\n",
              "0.75 - 0.9     995\n",
              "0.0 - 0.5       70\n",
              "Name: range_confidence, dtype: int64"
            ]
          },
          "metadata": {},
          "execution_count": 30
        }
      ]
    },
    {
      "cell_type": "code",
      "source": [
        "Relevant_group_df = cleaning_disaster_db_df[cleaning_disaster_db_df[\"choose_one\"] == \"Not Relevant\"]\n",
        "Relevant_group_df['range_confidence'].value_counts()"
      ],
      "metadata": {
        "colab": {
          "base_uri": "https://localhost:8080/"
        },
        "id": "HkzBMjDW79pK",
        "outputId": "7ade3665-84a8-43ad-f155-3512efe5e429"
      },
      "execution_count": 31,
      "outputs": [
        {
          "output_type": "execute_result",
          "data": {
            "text/plain": [
              "0.9 - 1.0     2663\n",
              "0.75 - 0.9    1748\n",
              "0.5 - 0.75    1293\n",
              "0.0 - 0.5       41\n",
              "Name: range_confidence, dtype: int64"
            ]
          },
          "metadata": {},
          "execution_count": 31
        }
      ]
    },
    {
      "cell_type": "code",
      "source": [
        "Relevant_group_df = cleaning_disaster_db_df[cleaning_disaster_db_df[\"choose_one\"] == \"Can't Decide\"]\n",
        "Relevant_group_df['range_confidence'].value_counts()"
      ],
      "metadata": {
        "colab": {
          "base_uri": "https://localhost:8080/"
        },
        "id": "u3LPa8gB7_fR",
        "outputId": "3d456205-ea9d-4392-ff82-3f8fe2fd4a92"
      },
      "execution_count": 32,
      "outputs": [
        {
          "output_type": "execute_result",
          "data": {
            "text/plain": [
              "0.0 - 0.5     10\n",
              "0.5 - 0.75     4\n",
              "Name: range_confidence, dtype: int64"
            ]
          },
          "metadata": {},
          "execution_count": 32
        }
      ]
    },
    {
      "cell_type": "markdown",
      "source": [
        "after the cleaning process; i can apply the idea to get `Can't Decide` with 2292, `Not Relevant` with 4.412 and `Relevant` with 2.843. I won't take the 0.0-0.5 range records for the `Can't Decide` value."
      ],
      "metadata": {
        "id": "ROw--8qt8cDD"
      }
    },
    {
      "cell_type": "markdown",
      "source": [
        "## Discovery and assign label\n",
        "\n",
        "The idea is checking the words, get the more representative words in label from text associated to disaster and assign it based this criteria."
      ],
      "metadata": {
        "id": "20RkT-qmBU16"
      }
    },
    {
      "cell_type": "code",
      "source": [
        "print(cleaning_disaster_db_df.columns)"
      ],
      "metadata": {
        "colab": {
          "base_uri": "https://localhost:8080/"
        },
        "id": "mn0WjEAGInOD",
        "outputId": "6f94e3fe-6900-484d-cc49-f4f321fca5a8"
      },
      "execution_count": 35,
      "outputs": [
        {
          "output_type": "stream",
          "name": "stdout",
          "text": [
            "Index(['choose_one', 'confidence', 'text', 'tweet_id', 'range_confidence',\n",
            "       'is_tweet_id_duplicated', 'amount_words_in_cleaning_text',\n",
            "       'cleaning_text', 'is_duplicated_cleaning_text'],\n",
            "      dtype='object')\n"
          ]
        }
      ]
    },
    {
      "cell_type": "code",
      "source": [
        "stop_words= ['ourselves', 'hers', 'between', 'yourself', 'but', 'again', 'there', 'about', 'once', 'during', 'out', 'very', 'having', 'with', 'they', 'own', 'an', 'be', 'some', 'for', 'do', 'its', 'yours', 'such', 'into', 'of', 'most', 'itself', 'other', 'off', 'is', 's', 'am', 'or', 'who', 'as', 'from', 'him', 'each', 'the', 'themselves', 'until', 'below', 'are', 'we', 'these', 'your', 'his', 'through', 'don', 'nor', 'me', 'were', 'her', 'more', 'himself', 'this', 'down', 'should', 'our', 'their', 'while', 'above', 'both', 'up', 'to', 'ours', 'had', 'she', 'all', 'no', 'when', 'at', 'any', 'before', 'them', 'same', 'and', 'been', 'have', 'in', 'will', 'on', 'does', 'yourselves', 'then', 'that', 'because', 'what', 'over', 'why', 'so', 'can', 'did', 'not', 'now', 'under', 'he', 'you', 'herself', 'has', 'just', 'where', 'too', 'only', 'myself', 'which', 'those', 'i', 'after', 'few', 'whom', 't', 'being', 'if', 'theirs', 'my', 'against', 'a', 'by', 'doing', 'it', 'how', 'further', 'was', 'here', 'than']\n",
        "\n",
        "def remove_stop_words(x):\n",
        "  word_list = x.split(\" \")\n",
        "  clean_words = []\n",
        "  for word in word_list:\n",
        "    if word.lower() not in stop_words:\n",
        "      clean_words.append(word.lower())\n",
        "  return \" \".join(clean_words)\n",
        "\n",
        "cleaning_disaster_db_df[\"cleaning_text_v2\"] = cleaning_disaster_db_df[\"cleaning_text\"].apply(lambda x: remove_stop_words(x))\n",
        "cleaning_disaster_db_df[[\"cleaning_text_v2\", \"cleaning_text\"]].head(10)\n"
      ],
      "metadata": {
        "colab": {
          "base_uri": "https://localhost:8080/",
          "height": 405
        },
        "id": "v6S-qlbLFyw6",
        "outputId": "2ee3dcc0-29fd-48c1-907c-af626c35d05f"
      },
      "execution_count": 37,
      "outputs": [
        {
          "output_type": "execute_result",
          "data": {
            "text/plain": [
              "                                       cleaning_text_v2  \\\n",
              "1394  å€} new ladies shoulder tote faux leather hobo...   \n",
              "9663                                    åê åê join in!!   \n",
              "2351  åèmgn-africaåš pin:263789f4 åè correction: ten...   \n",
              "4006  å¬'only sea knows many dead' <user> last disas...   \n",
              "1414  å_? new ladies shoulder tote faux leather hobo...   \n",
              "5410                    å_ reopens hours truck fire in?   \n",
              "1416  ûœ? new ladies shoulder tote faux leather hob...   \n",
              "5420  û÷we helpûª says denver firefighter working ...   \n",
              "8990  û÷sexistûª peer review causes storm online v...   \n",
              "6293  û÷ransomwareûª holds b.c. manûªs computer f...   \n",
              "\n",
              "                                          cleaning_text  \n",
              "1394  å€} new ladies shoulder tote faux leather hobo...  \n",
              "9663                                    åê åê join in!!  \n",
              "2351  åèmgn-africaåš pin:263789f4 åè correction: ten...  \n",
              "4006  å¬'only the sea knows how many are dead' <user...  \n",
              "1414  å_? new ladies shoulder tote faux leather hobo...  \n",
              "5410              å_ reopens hours after truck fire in?  \n",
              "1416  ûœ? new ladies shoulder tote faux leather hob...  \n",
              "5420  û÷we can helpûª says denver firefighter work...  \n",
              "8990  û÷sexistûª peer review causes storm online v...  \n",
              "6293  û÷ransomwareûª holds b.c. manûªs computer f...  "
            ],
            "text/html": [
              "\n",
              "  <div id=\"df-db84401b-7ae4-4a9a-8361-215ecd94c647\">\n",
              "    <div class=\"colab-df-container\">\n",
              "      <div>\n",
              "<style scoped>\n",
              "    .dataframe tbody tr th:only-of-type {\n",
              "        vertical-align: middle;\n",
              "    }\n",
              "\n",
              "    .dataframe tbody tr th {\n",
              "        vertical-align: top;\n",
              "    }\n",
              "\n",
              "    .dataframe thead th {\n",
              "        text-align: right;\n",
              "    }\n",
              "</style>\n",
              "<table border=\"1\" class=\"dataframe\">\n",
              "  <thead>\n",
              "    <tr style=\"text-align: right;\">\n",
              "      <th></th>\n",
              "      <th>cleaning_text_v2</th>\n",
              "      <th>cleaning_text</th>\n",
              "    </tr>\n",
              "  </thead>\n",
              "  <tbody>\n",
              "    <tr>\n",
              "      <th>1394</th>\n",
              "      <td>å€} new ladies shoulder tote faux leather hobo...</td>\n",
              "      <td>å€} new ladies shoulder tote faux leather hobo...</td>\n",
              "    </tr>\n",
              "    <tr>\n",
              "      <th>9663</th>\n",
              "      <td>åê åê join in!!</td>\n",
              "      <td>åê åê join in!!</td>\n",
              "    </tr>\n",
              "    <tr>\n",
              "      <th>2351</th>\n",
              "      <td>åèmgn-africaåš pin:263789f4 åè correction: ten...</td>\n",
              "      <td>åèmgn-africaåš pin:263789f4 åè correction: ten...</td>\n",
              "    </tr>\n",
              "    <tr>\n",
              "      <th>4006</th>\n",
              "      <td>å¬'only sea knows many dead' &lt;user&gt; last disas...</td>\n",
              "      <td>å¬'only the sea knows how many are dead' &lt;user...</td>\n",
              "    </tr>\n",
              "    <tr>\n",
              "      <th>1414</th>\n",
              "      <td>å_? new ladies shoulder tote faux leather hobo...</td>\n",
              "      <td>å_? new ladies shoulder tote faux leather hobo...</td>\n",
              "    </tr>\n",
              "    <tr>\n",
              "      <th>5410</th>\n",
              "      <td>å_ reopens hours truck fire in?</td>\n",
              "      <td>å_ reopens hours after truck fire in?</td>\n",
              "    </tr>\n",
              "    <tr>\n",
              "      <th>1416</th>\n",
              "      <td>ûœ? new ladies shoulder tote faux leather hob...</td>\n",
              "      <td>ûœ? new ladies shoulder tote faux leather hob...</td>\n",
              "    </tr>\n",
              "    <tr>\n",
              "      <th>5420</th>\n",
              "      <td>û÷we helpûª says denver firefighter working ...</td>\n",
              "      <td>û÷we can helpûª says denver firefighter work...</td>\n",
              "    </tr>\n",
              "    <tr>\n",
              "      <th>8990</th>\n",
              "      <td>û÷sexistûª peer review causes storm online v...</td>\n",
              "      <td>û÷sexistûª peer review causes storm online v...</td>\n",
              "    </tr>\n",
              "    <tr>\n",
              "      <th>6293</th>\n",
              "      <td>û÷ransomwareûª holds b.c. manûªs computer f...</td>\n",
              "      <td>û÷ransomwareûª holds b.c. manûªs computer f...</td>\n",
              "    </tr>\n",
              "  </tbody>\n",
              "</table>\n",
              "</div>\n",
              "      <button class=\"colab-df-convert\" onclick=\"convertToInteractive('df-db84401b-7ae4-4a9a-8361-215ecd94c647')\"\n",
              "              title=\"Convert this dataframe to an interactive table.\"\n",
              "              style=\"display:none;\">\n",
              "        \n",
              "  <svg xmlns=\"http://www.w3.org/2000/svg\" height=\"24px\"viewBox=\"0 0 24 24\"\n",
              "       width=\"24px\">\n",
              "    <path d=\"M0 0h24v24H0V0z\" fill=\"none\"/>\n",
              "    <path d=\"M18.56 5.44l.94 2.06.94-2.06 2.06-.94-2.06-.94-.94-2.06-.94 2.06-2.06.94zm-11 1L8.5 8.5l.94-2.06 2.06-.94-2.06-.94L8.5 2.5l-.94 2.06-2.06.94zm10 10l.94 2.06.94-2.06 2.06-.94-2.06-.94-.94-2.06-.94 2.06-2.06.94z\"/><path d=\"M17.41 7.96l-1.37-1.37c-.4-.4-.92-.59-1.43-.59-.52 0-1.04.2-1.43.59L10.3 9.45l-7.72 7.72c-.78.78-.78 2.05 0 2.83L4 21.41c.39.39.9.59 1.41.59.51 0 1.02-.2 1.41-.59l7.78-7.78 2.81-2.81c.8-.78.8-2.07 0-2.86zM5.41 20L4 18.59l7.72-7.72 1.47 1.35L5.41 20z\"/>\n",
              "  </svg>\n",
              "      </button>\n",
              "      \n",
              "  <style>\n",
              "    .colab-df-container {\n",
              "      display:flex;\n",
              "      flex-wrap:wrap;\n",
              "      gap: 12px;\n",
              "    }\n",
              "\n",
              "    .colab-df-convert {\n",
              "      background-color: #E8F0FE;\n",
              "      border: none;\n",
              "      border-radius: 50%;\n",
              "      cursor: pointer;\n",
              "      display: none;\n",
              "      fill: #1967D2;\n",
              "      height: 32px;\n",
              "      padding: 0 0 0 0;\n",
              "      width: 32px;\n",
              "    }\n",
              "\n",
              "    .colab-df-convert:hover {\n",
              "      background-color: #E2EBFA;\n",
              "      box-shadow: 0px 1px 2px rgba(60, 64, 67, 0.3), 0px 1px 3px 1px rgba(60, 64, 67, 0.15);\n",
              "      fill: #174EA6;\n",
              "    }\n",
              "\n",
              "    [theme=dark] .colab-df-convert {\n",
              "      background-color: #3B4455;\n",
              "      fill: #D2E3FC;\n",
              "    }\n",
              "\n",
              "    [theme=dark] .colab-df-convert:hover {\n",
              "      background-color: #434B5C;\n",
              "      box-shadow: 0px 1px 3px 1px rgba(0, 0, 0, 0.15);\n",
              "      filter: drop-shadow(0px 1px 2px rgba(0, 0, 0, 0.3));\n",
              "      fill: #FFFFFF;\n",
              "    }\n",
              "  </style>\n",
              "\n",
              "      <script>\n",
              "        const buttonEl =\n",
              "          document.querySelector('#df-db84401b-7ae4-4a9a-8361-215ecd94c647 button.colab-df-convert');\n",
              "        buttonEl.style.display =\n",
              "          google.colab.kernel.accessAllowed ? 'block' : 'none';\n",
              "\n",
              "        async function convertToInteractive(key) {\n",
              "          const element = document.querySelector('#df-db84401b-7ae4-4a9a-8361-215ecd94c647');\n",
              "          const dataTable =\n",
              "            await google.colab.kernel.invokeFunction('convertToInteractive',\n",
              "                                                     [key], {});\n",
              "          if (!dataTable) return;\n",
              "\n",
              "          const docLinkHtml = 'Like what you see? Visit the ' +\n",
              "            '<a target=\"_blank\" href=https://colab.research.google.com/notebooks/data_table.ipynb>data table notebook</a>'\n",
              "            + ' to learn more about interactive tables.';\n",
              "          element.innerHTML = '';\n",
              "          dataTable['output_type'] = 'display_data';\n",
              "          await google.colab.output.renderOutput(dataTable, element);\n",
              "          const docLink = document.createElement('div');\n",
              "          docLink.innerHTML = docLinkHtml;\n",
              "          element.appendChild(docLink);\n",
              "        }\n",
              "      </script>\n",
              "    </div>\n",
              "  </div>\n",
              "  "
            ]
          },
          "metadata": {},
          "execution_count": 37
        }
      ]
    },
    {
      "cell_type": "code",
      "source": [
        "ranking = defaultdict(int)\n",
        "\n",
        "\n",
        "def get_repeative_word_in(ranking, x):\n",
        "  words = x.split(\" \")\n",
        "  for word in words:\n",
        "    ranking[word] += 1\n",
        "  return \" \".join(words)\n",
        "\n",
        "\n",
        "repeation_words = partial(get_repeative_word_in, ranking)\n",
        "cleaning_disaster_db_df[\"cleaning_text_v2\"].apply(lambda x : repeation_words(x))\n",
        "sorted_ranking = sorted(ranking.items(), key=operator.itemgetter(1), reverse=True)\n",
        "print(sorted_ranking)"
      ],
      "metadata": {
        "colab": {
          "base_uri": "https://localhost:8080/"
        },
        "id": "7zbpxHsEMiLE",
        "outputId": "8ae124a3-2867-4512-de3f-435e35ecaeda"
      },
      "execution_count": 47,
      "outputs": [
        {
          "output_type": "stream",
          "name": "stdout",
          "text": [
            "[('<user>', 3682), ('', 973), ('-', 866), ('like', 467), ('&amp;', 388), (\"i'm\", 326), ('get', 294), ('??', 286), ('fire', 279), ('one', 250), (\"it's\", 248), ('new', 247), ('via', 241), ('people', 220), (\"don't\", 219), ('would', 195), ('2', 187), ('emergency', 185), ('got', 156), ('police', 154), ('|', 152), ('first', 151), ('still', 149), ('video', 145), ('body', 143), ('know', 141), ('...', 141), ('burning', 140), ('going', 140), ('see', 139), ('back', 137), ('????', 137), ('us', 132), ('time', 129), ('love', 129), ('suicide', 127), ('storm', 127), ('man', 127), ('go', 121), ('think', 119), (\"can't\", 118), ('last', 116), ('disaster', 116), ('two', 115), ('nuclear', 115), ('rt', 114), ('could', 108), ('make', 108), ('day', 108), ('need', 107), ('3', 105), ('attack', 105), ('fires', 105), ('good', 105), ('say', 104), ('u', 103), ('buildings', 103), ('want', 103), ('car', 101), ('dead', 100), ('news', 96), ('mass', 96), ('even', 96), ('bomb', 96), ('world', 95), ('way', 94), ('never', 94), ('really', 94), ('right', 93), ('years', 91), ('crash', 91), ('may', 90), ('war', 89), ('california', 88), ('accident', 88), ('killed', 88), ('help', 86), ('bombing', 86), ('another', 85), ('today', 85), ('train', 85), ('much', 81), (\"you're\", 81), ('army', 81), ('look', 81), ('near', 80), ('life', 80), ('take', 79), ('collapse', 78), ('many', 78), ('death', 77), ('feel', 77), (':', 76), ('let', 76), ('5', 75), ('home', 75), ('??????', 75), ('lol', 74), ('full', 74), ('forest', 74), ('4', 74), ('getting', 73), ('great', 73), ('watch', 73), ('school', 72), ('im', 72), ('year', 72), ('house', 70), ('hope', 70), ('said', 69), ('city', 69), ('every', 69), ('come', 69), ('hiroshima', 68), ('please', 67), ('work', 66), ('ever', 66), ('\\x89û_', 65), ('shit', 65), ('gonna', 65), ('always', 64), ('god', 64), ('truck', 63), ('set', 63), ('black', 62), ('smoke', 62), ('top', 62), ('fear', 62), ('since', 61), ('1', 61), ('fucking', 61), ('also', 61), ('wild', 61), ('natural', 61), (\"that's\", 60), ('bloody', 60), ('stop', 60), ('looks', 59), ('heat', 59), ('\\x89ûò', 59), ('night', 59), ('everyone', 58), ('best', 58), ('someone', 58), ('bomber', 58), ('debris', 58), ('put', 58), ('fall', 58), ('found', 58), ('next', 58), ('says', 57), ('family', 57), ('live', 57), (\"i've\", 57), ('destroyed', 57), ('wreck', 57), ('little', 57), ('?', 57), ('severe', 57), ('read', 56), ('bad', 56), ('oh', 56), ('coming', 56), ('state', 56), ('liked', 56), ('evacuation', 55), ('water', 55), ('weather', 55), ('survived', 54), ('it.', 54), ('loud', 54), ('old', 54), ('damage', 54), ('flooding', 53), ('without', 53), ('survive', 53), ('hit', 53), ('screaming', 53), ('heard', 52), ('whole', 52), ('injured', 52), ('big', 52), ('service', 52), ('well', 52), ('check', 52), ('face', 51), ('destroy', 51), (\"i'll\", 51), ('atomic', 51), ('thunderstorm', 51), ('around', 50), ('call', 50), (\"he's\", 50), ('blew', 50), ('hot', 50), ('blown', 50), ('lightning', 50), ('white', 50), ('screamed', 49), ('ruin', 49), ('fuck', 49), ('summer', 49), ('cause', 49), ('drown', 49), ('military', 49), ('pm', 49), ('show', 49), ('oil', 49), ('due', 49), ('/', 49), ('burned', 49), ('thunder', 49), ('flames', 48), ('plan', 48), ('end', 48), ('must', 48), ('made', 48), ('keep', 48), ('injuries', 48), ('head', 48), ('warning', 48), ('floods', 48), ('wounded', 48), ('went', 47), ('rescued', 47), ('thought', 47), ('red', 47), ('times', 47), (\"there's\", 47), ('violent', 47), ('crashed', 47), ('cross', 46), ('survivors', 46), ('heart', 46), ('lava', 46), ('collided', 46), ('trapped', 46), ('services', 46), ('post', 46), ('failure', 45), ('bagging', 45), ('game', 45), ('responders', 45), ('blood', 45), ('missing', 45), ('evacuate', 45), ('gets', 45), ('rain', 45), ('inundated', 44), ('deaths', 44), ('part', 44), ('terrorist', 44), ('save', 44), ('wind', 44), ('trying', 44), ('thing', 44), ('wildfire', 44), ('flood', 44), ('real', 44), ('least', 44), ('run', 44), ('free', 43), ('august', 43), ('use', 43), ('wounds', 43), ('weapon', 43), ('wave', 43), ('obliterate', 43), ('sure', 43), ('deluged', 43), ('panic', 43), ('murder', 43), ('trouble', 42), ('high', 42), ('demolished', 42), ('dust', 42), ('electrocuted', 42), ('trauma', 42), ('twister', 42), ('blast', 42), ('destruction', 42), ('crush', 42), ('remember', 42), ('better', 42), ('saudi', 42), ('70', 41), ('structural', 41), ('sinkhole', 41), ('girl', 41), ('explosion', 41), ('wrecked', 41), ('wanna', 41), ('obliterated', 41), ('ass', 41), ('twitter', 41), ('line', 41), ('movie', 41), ('something', 40), ('actually', 40), ('traumatised', 40), ('flattened', 40), ('collapsed', 40), ('past', 40), ('curfew', 40), ('bleeding', 40), ('bang', 40), ('food', 40), ('county', 40), ('airplane', 40), ('fatal', 40), ('blazing', 40), ('drowning', 40), ('hazardous', 40), ('hazard', 40), ('spill', 40), ('things', 40), ('massacre', 40), ('long', 40), ('fan', 40), ('kills', 40), ('saw', 40), ('group', 40), ('power', 39), ('bombed', 39), ('came', 39), ('homes', 39), ('died', 39), ('calgary', 39), ('sunk', 39), ('demolish', 39), ('electrocute', 39), ('believe', 39), ('derailed', 39), ('bus', 39), ('tell', 39), ('bridge', 39), ('injury', 39), ('earthquake', 39), ('evacuated', 39), ('\\x89ûó', 38), ('battle', 38), ('harm', 38), ('catastrophic', 38), ('sinking', 38), ('panicking', 38), ('far', 38), ('used', 38), ('week', 38), ('japan', 38), ('change', 38), ('meltdown', 38), ('cliff', 38), ('caused', 38), ('kill', 38), ('seismic', 38), ('bag', 37), ('whirlwind', 37), ('road', 37), ('nothing', 37), ('boat', 37), ('drowned', 37), ('hostage', 37), ('hurricane', 37), ('2015', 37), ('sirens', 37), ('crushed', 37), ('play', 37), ('eyewitness', 37), ('desolation', 37), ('6', 37), ('start', 37), ('obama', 37), ('cyclone', 37), ('mosque', 37), ('baby', 36), ('bags', 36), ('lot', 36), ('casualty', 36), ('government', 36), ('weapons', 36), ('families', 36), ('northern', 36), ('away', 36), (\"doesn't\", 36), ('already', 36), ('chemical', 36), ('issues', 36), ('tornado', 36), ('south', 36), ('famine', 36), ('typhoon', 36), ('rescue', 36), ('thank', 35), (\"'the\", 35), (\"i'd\", 35), ('air', 35), ('exploded', 35), (\"didn't\", 35), ('collide', 35), ('hell', 35), ('building', 35), ('demolition', 35), ('shooting', 35), ('women', 35), ('u.s.', 35), ('try', 35), ('watching', 35), ('landslide', 35), ('plane', 35), ('left', 35), ('suspect', 35), ('rise', 35), ('makes', 34), ('devastation', 34), ('w/', 34), ('volcano', 34), ('caught', 34), ('drought', 34), ('almost', 34), ('care', 34), ('damn', 34), ('making', 34), ('derail', 34), ('might', 34), ('music', 34), ('apocalypse', 34), ('screams', 34), ('cool', 34), ('pretty', 34), ('arson', 34), ('north', 34), ('annihilated', 34), ('fatalities', 34), ('riot', 34), ('brown', 34), ('shoulder', 33), ('song', 33), ('give', 33), ('hijack', 33), ('phone', 33), ('fight', 33), ('inside', 33), ('media', 33), ('american', 33), ('rioting', 33), ('find', 33), ('anniversary', 33), ('west', 33), ('n', 33), ('casualties', 33), ('hundreds', 33), ('migrants', 33), ('half', 33), ('ablaze', 33), ('possible', 33), ('pick', 33), ('+', 33), ('story', 32), ('hear', 32), ('security', 32), ('boy', 32), ('latest', 32), ('kids', 32), ('yeah', 32), ('explode', 32), ('deal', 32), ('hail', 32), (\"'i\", 32), ('tsunami', 32), ('danger', 32), ('done', 32), ('probably', 32), ('stay', 32), ('officer', 32), ('lives', 31), ('person', 31), ('breaking', 31), ('bc', 31), ('deluge', 31), ('upheaval', 31), ('anyone', 31), ('days', 31), (\"isn't\", 31), ('beautiful', 31), ('dont', 31), ('crazy', 31), (\"they're\", 31), ('longer', 31), ('attacked', 31), ('blight', 31), ('detonate', 31), ('reunion', 31), ('displaced', 31), ('tragedy', 31), ('15', 31), ('plans', 30), ('case', 30), ('ambulance', 30), ('guy', 30), ('zone', 30), ('yes', 30), ('rainstorm', 30), ('seen', 30), ('island', 30), ('leave', 30), ('woman', 30), ('rescuers', 30), ('outside', 30), ('literally', 30), ('8', 30), ('stand', 30), ('likely', 30), ('wait', 30), ('reactor', 30), ('catastrophe', 30), ('three', 30), ('happy', 30), ('hours', 29), ('men', 29), ('me.', 29), ('bush', 29), ('murderer', 29), ('support', 29), ('fatality', 29), ('street', 29), ('tomorrow', 29), ('guys', 29), ('content', 29), ('iran', 29), ('river', 29), ('engulfed', 29), ('order', 29), ('public', 29), ('ago', 29), ('eyes', 29), ('omg', 29), ('shot', 28), ('hate', 28), ('major', 28), ('money', 28), ('move', 28), ('quarantine', 28), ('health', 28), ('collision', 28), ('though', 28), ('become', 28), ('!', 28), ('businesses', 28), ('room', 28), ('huge', 28), ('fun', 28), ('photo:', 28), ('knock', 28), ('area', 27), ('second', 27), ('across', 27), ('green', 27), ('lost', 27), ('snowstorm', 27), ('side', 27), ('bring', 27), ('takes', 27), ('self', 27), ('stretcher', 27), ('st', 27), ('30', 27), ('mudslide', 27), (\"what's\", 27), ('aug', 27), ('avalanche', 27), ('level', 27), ('hijacker', 27), ('die', 27), ('words', 27), ('hey', 27), ('.', 27), ('officials', 27), ('market', 27), ('maybe', 27), ('fedex', 27), ('ignition', 27), ('(detonation)', 27), (\"we're\", 26), ('yet', 26), ('appears', 26), ('ass.', 26), ('ur', 26), ('tonight', 26), ('place', 26), ('thanks', 26), ('happened', 26), ('terrorism', 26), ('released', 26), ('windstorm', 26), ('traffic', 26), ('everything', 26), ('running', 26), ('needs', 26), ('fire.', 26), ('charged', 26), (\"let's\", 26), ('crisis', 26), ('ok', 26), ('report', 26), ('blizzard', 26), ('reason', 26), ('hostages', 26), ('houses', 25), ('children', 25), ('low', 25), ('reddit', 25), ('soon', 25), ('refugees', 25), ('mom', 25), ('malaysia', 25), ('comes', 25), ('taken', 25), ('miss', 25), ('obliteration', 25), ('desolate', 25), ('national', 25), ('quarantined', 25), ('siren', 25), ('news:', 25), ('nearly', 25), (\"won't\", 25), ('stock', 25), ('dog', 24), ('arsonist', 24), ('young', 24), ('news!', 24), ('following', 24), ('send', 24), ('fast', 24), ('drake', 24), ('else', 24), ('space', 24), ('wake', 24), ('anything', 24), ('finally', 24), ('bioterrorism', 24), ('bioterror', 24), ('amid', 24), ('added', 24), ('east', 24), ('large', 24), (\"ain't\", 24), ('site', 24), ('sorry', 24), ('claims', 24), ('online', 23), ('name', 23), ('behind', 23), ('armageddon', 23), ('open', 23), ('unconfirmed!', 23), ('nearby.', 23), (\"neighbour's\", 23), ('marks', 23), ('ebay', 23), ('flight', 23), ('tv', 23), ('today.', 23), ('talk', 23), ('book', 23), ('pandemonium', 23), ('team', 23), ('ppl', 23), ('front', 23), (':)', 23), ('????????', 23), ('driving', 23), ('blaze', 23), (\"she's\", 23), ('super', 23), ('playing', 23), ('7', 23), ('seeing', 23), ('entire', 23), ('living', 23), ('worst', 23), ('told', 23), ('morning', 22), ('60', 22), ('absolutely', 22), ('you.', 22), ('confirmed', 22), ('light', 22), ('update', 22), ('meek', 22), ('pic', 22), ('saying', 22), ('friends', 22), ('horrible', 22), ('turn', 22), ('taking', 22), ('united', 22), ('flash', 22), ('sleeping', 22), ('beach', 22), ('update:', 22), ('m', 22), ('issued', 22), ('history', 22), ('cars', 22), ('center', 22), ('australia', 22), ('hard', 22), ('four', 21), ('reports', 21), ('devastated', 21), ('virgin', 21), ('guess', 21), ('country', 21), ('cake', 21), ('feeling', 21), ('looking', 21), ('cut', 21), ('share', 21), ('tried', 21), ('rock', 21), ('mh370', 21), ('outbreak', 21), ('enough', 21), ('sounds', 21), ('wonder', 21), ('thursday', 21), ('pkk', 21), ('turkey', 21), ('shows', 21), ('global', 21), (\"wasn't\", 21), ('america', 21), ('shift', 21), ('child', 21), ('wanted', 21), ('thousands', 21), ('ship', 21), ('isis', 21), ('70th', 21), ('dude', 21), ('soul', 21), ('goes', 21), ('derailment', 21), ('trains', 21), ('ball', 21), ('10', 21), ('closed', 21), ('till', 21), ('apollo', 21), ('ross', 21), ('shape', 21), (\"pay'\", 21), ('property', 21), ('heavy', 21), ('aircraft', 21), ('.:', 21), ('causes', 20), ('firefighters', 20), ('social', 20), ('favorite', 20), ('t...', 20), ('memories', 20), ('up.', 20), ('class', 20), ('colour', 20), ('detonated', 20), ('town', 20), ('land', 20), ('biggest', 20), ('true', 20), ('bigger', 20), ('tweet', 20), ('video:', 20), ('safety', 20), ('view', 20), ('cant', 20), ('lab', 20), ('daily', 20), ('listen', 20), ('poor', 20), ('photo', 20), ('=', 20), ('--', 20), ('others', 20), ('rd', 20), ('took', 20), ('eye', 20), ('total', 20), ('thinking', 20), ('playlist', 20), ('star', 20), ('join', 19), ('learn', 19), ('friend', 19), ('galactic', 19), ('gun', 19), ('gave', 19), ('buy', 19), (\"haven't\", 19), ('them.', 19), ('e', 19), ('started', 19), ('secret', 19), ('hand', 19), ('awesome', 19), ('wreckage', 19), ('mad', 19), ('blue', 19), ('small', 19), ('dad', 19), ('piece', 19), ('ancient', 19), ('ready', 19), ('haha', 19), ('drive', 19), ('wrong', 19), ('w', 19), ('break', 19), ('human', 19), ('now.', 19), ('moment', 19), ('washington', 19), ('park', 19), ('russian', 19), ('11', 19), ('soudelor', 19), ('called', 19), ('killing', 19), ('members', 19), ('fires.', 19), ('information', 19), ('lady', 19), ('downtown', 19), ('crews', 19), ('pile.', 19), ('affected', 19), ('giant', 18), ('life.', 18), ('happen', 18), ('either', 18), ('party', 18), ('scared', 18), ('islamic', 18), ('series', 18), ('mh370:', 18), ('download', 18), ('wow', 18), ('latest:', 18), ('razed', 18), ('climate', 18), ('middle', 18), ('pain', 18), ('win', 18), ('hailstorm', 18), ('wall', 18), ('early', 18), ('fighting', 18), ('transport', 18), ('broke', 18), ('militants', 18), ('texas', 18), ('lmao', 18), ('involving', 18), ('sign', 18), ('british', 18), ('control', 18), ('couple', 18), ('instead', 18), ('direction', 18), ('brother', 18), ('sound', 18), ('mean', 18), ('bar', 18), ('reported', 18), ('05', 18), ('account', 18), ('cdt', 18), ('experts', 18), ('michael', 18), ('occurred', 18), ('ladies', 17), ('working', 17), ('~', 17), ('continue', 17), ('minutes', 17), ('chance', 17), ('israel', 17), ('israeli', 17), ('action', 17), (\"you'll\", 17), ('alone', 17), ('brain', 17), ('okay', 17), ('waiting', 17), ('broken', 17), ('bed', 17), ('york', 17), ('local', 17), ('ahead', 17), ('camp', 17), ('12', 17), ('annihilation', 17), ('central', 17), ('16yr', 17), ('eat', 17), ('china', 17), ('department', 17), ('40', 17), ('20', 17), ('sad', 17), ('vehicle', 17), ('film', 17), ('nice', 17), ('victims', 17), ('follow', 17), ('walk', 17), ('gone', 17), ('totally', 17), ('course', 17), ('peace', 17), ('insurance', 17), ('build', 17), ('london', 17), ('landing', 17), ('25', 17), ('centre', 17), ('angry', 17), ('spot', 17), ('double', 17), ('alabama', 17), ('pakistan', 17), ('leather', 16), ('glad', 16), ('along', 16), ('lake', 16), ('nigga', 16), ('dies', 16), ('bayelsa', 16), ('patience', 16), ('picture', 16), ('million', 16), ('hold', 16), ('vs', 16), ('mode', 16), ('season', 16), ('9', 16), ('ca', 16), ('teen', 16), ('different', 16), ('worry', 16), ('wednesday', 16), ('trench', 16), ('court', 16), ('wish', 16), ('50', 16), ('burn', 16), ('out.', 16), ('helicopter', 16), ('cold', 16), ('research', 16), ('threat', 16), ('bitch', 16), ('idea', 16), ('character', 16), ('beat', 16), ('fans', 16), ('worse', 16), ('arrested', 16), ('prepare', 16), ('short', 16), ('la', 16), ('planned', 16), ('india', 16), ('a...', 16), ('crash:', 16), ('searching', 16), ('feared', 16), ('gas', 16), ('terror', 16), ('trust', 16), ('problem', 16), ('cannot', 16), ('radio', 16), ('five', 16), ('upon', 16), ('currently', 16), (\"'\", 16), ('theater', 16), ('invoices.', 16), ('13', 16), ('saved', 16), ('using', 16), ('bit', 16), ('wife', 16), ('means', 16), (\"aren't\", 16), ('emotional', 16), ('business', 16), ('sensor-senso', 16), ('sea', 15), ('hijacking', 15), ('lord', 15), ('here:', 15), ('jonathan', 15), (\"hasn't\", 15), ('search', 15), ('r', 15), ('ground', 15), ('us.', 15), ('king', 15), ('event', 15), ('nigerian', 15), ('smaug', 15), ('close', 15), ('scene', 15), ('lets', 15), ('offensive', 15), ('feels', 15), ('text', 15), ('wants', 15), ('weekend', 15), ('rubble', 15), ('late', 15), ('office', 15), ('talking', 15), ('rules', 15), ('trent', 15), ('program', 15), ('utc2015-08-05', 15), ('future', 15), ('govt', 15), ('parole', 15), ('*', 15), ('football', 15), ('massive', 15), ('1st', 15), ('indian', 15), ('internet', 15), ('drink', 15), ('sky', 15), ('niggas', 15), ('anthrax', 15), ('falling', 15), ('episode', 15), ('ashes', 15), ('apc', 15), ('rather', 15), ('gotta', 15), ('setting', 15), ('former', 15), ('hollywood', 15), ('driver', 14), ('together', 14), ('asked', 14), ('investigators', 14), ('hospital', 14), ('watched', 14), ('financial', 14), ('among', 14), ('walking', 14), ('uk', 14), ('pool', 14), ('cat', 14), ('attacks', 14), ('parents', 14), ('youtube', 14), ('funny', 14), ('chicago', 14), ('stars', 14), ('2nd', 14), ('hair', 14), ('village', 14), ('deep', 14), ('stopped', 14), ('ocean', 14), ('medical', 14), ('pray', 14), ('sitting', 14), ('months', 14), ('job', 14), ('western', 14), ('risk', 14), (\"we've\", 14), ('rn', 14), ('record', 14), ('de', 14), ('post:', 14), ('loved', 14), ('x', 14), ('people.', 14), ('pass', 14), ('block', 14), ('outrage', 14), ('mph', 14), ('expected', 14), ('imagine', 14), ('played', 14), ('brooklyn', 14), ('mod', 14), ('straight', 14), ('fact', 14), ('seriously', 14), ('??????????', 14), ('&gt;&gt;', 14), ('france', 14), ('hellfire', 14), ('president', 14), ('alive', 14), ('sent', 14), ('ice', 14), ('population', 14), ('tears', 14), ('interesting', 14), ('sense', 14), ('colorado', 14), ('metro', 14), ('passengers', 14), ('according', 14), (\"legionnaires'\", 14), ('giving', 13), ('declares', 13), ('yo', 13), ('trump', 13), ('gold', 13), ('door', 13), ('held', 13), ('ask', 13), ('beyond', 13), ('seems', 13), ('escape', 13), ('company', 13), ('sick', 13), ('final', 13), ('holding', 13), ('training', 13), ('career', 13), ('storm.', 13), ('worth', 13), ('alarm', 13), ('ban', 13), ('metal', 13), ('suspected', 13), ('dan', 13), ('begin', 13), ('completely', 13), ('seek', 13), ('cover', 13), ('gay', 13), ('16', 13), ('winds', 13), ('happening', 13), ('sleep', 13), ('tree', 13), ('victim', 13), ('special', 13), ('fat', 13), ('sex', 13), ('serious', 13), ('russia', 13), ('no.', 13), ('the...', 13), ('act', 13), ('meet', 13), ('ave', 13), ('oklahoma', 13), ('captures', 13), ('states', 13), ('usa', 13), ('calls', 13), ('understand', 13), ('attack:', 13), ('wedding', 13), ('strike', 13), ('travel', 13), ('coast', 13), ('expect', 13), ('aftershock', 13), ('related', 13), ('derailment:', 13), ('false', 13), ('loving', 13), ('dropped', 13), ('100', 13), ('prevent', 13), ('soldiers', 13), ('bank', 13), ('standard', 13), ('comment', 13), ('cancer', 13), ('yesterday', 13), ('municipal', 13), ('brought', 13), ('b', 13), ('potential', 13), ('causing', 13), ('carrying', 13), ('sun', 13), ('mind', 13), ('governor', 13), ('album', 13), ('tax', 13), ('out!', 13), ('holy', 13), ('17', 13), ('common', 13), ('san', 13), ('ships', 13), ('cute', 13), ('disease', 13), ('helping', 13), ('waste', 13), ('refugio', 13), ('costlier', 13), ('tonight.', 13), ('point', 13), ('leaving', 13), ('ebola', 13), ('myanmar', 13), ('abandoned', 13), ('tote', 12), ('don\\x89ûªt', 12), ('palestinian', 12), ('year.', 12), ('lil', 12), ('perfect', 12), ('\\n', 12), ('player', 12), ('womens', 12), ('youth', 12), (\"you've\", 12), ('sometimes', 12), ('el', 12), ('friday', 12), ('evil', 12), ('ya', 12), ('japanese', 12), ('hour', 12), ('everywhere', 12), (\"wouldn't\", 12), ('extreme', 12), ('worlds', 12), ('pay', 12), ('single', 12), ('time.', 12), ('freak', 12), ('tho', 12), ('24', 12), ('starts', 12), ('version', 12), ('kinda', 12), ('terrible', 12), ('number', 12), ('disaster.', 12), ('that.', 12), ('shut', 12), ('agree', 12), ('date', 12), ('google', 12), ('now!', 12), ('mine', 12), ('earth', 12), ('detonation', 12), ('later', 12), ('strong', 12), ('return', 12), ('civilian', 12), ('calling', 12), ('sunday', 12), ('release', 12), ('1.9', 12), ('time2015-08-06', 12), ('roosevelt', 12), ('leading', 12), ('bought', 12), ('provoke', 12), ('forever', 12), ('boys', 12), ('residents', 12), ('udhampur', 12), ('southern', 12), ('fukushima', 12), ('bathroom', 12), ('based', 12), ('express', 12), ('region', 12), ('syrian', 12), ('policy', 12), ('effect', 12), ('lack', 12), ('quite', 12), ('richmond', 12), ('coffee', 12), ('destroys', 12), ('rains', 12), ('trees', 12), ('month', 12), ('floor', 12), ('cops', 12), ('community', 12), ('shall', 12), ('bay', 12), ('abc', 12), ('gunman', 12), ('girls', 12), ('press', 12), ('info', 12), ('avoid', 12), ('less', 12), ('response', 12), (\"here's\", 12), ('force', 12), ('struck', 12), ('orders', 12), ('smh', 12), ('meeting', 12), ('him.', 12), ('mountain', 12), ('9:', 12), ('gems', 12), ('600', 12), ('relief', 12), ('malaysian', 12), ('fix', 12), ('word', 12), ('germs', 12), ('enugu', 12), ('sensor', 12), ('fears', 12), ('miners', 12), ('dogs', 12), ('it\\x89ûªs', 11), ('main', 11), ('in.', 11), ('knew', 11), (':(', 11), ('protect', 11), ('authorities', 11), ('12000', 11), ('again.', 11), ('hobbit:', 11), ('multiple', 11), ('bro', 11), ('general', 11), ('woke', 11), ('seconds', 11), ('including', 11), ('board', 11), ('rate', 11), ('quick', 11), ('economic', 11), ('cost', 11), ('warnings', 11), ('sandstorm', 11), ('recent', 11), ('radiation', 11), ('trip', 11), ('reduce', 11), ('lots', 11), ('keeps', 11), ('????????????', 11), ('answer', 11), ('supposed', 11), ('area.', 11), ('rare', 11), ('gop', 11), ('happens', 11), ('delivers', 11), ('**trfc', 11), ('july', 11), ('fully', 11), ('opening', 11), ('buses', 11), ('project', 11), ('owner', 11), ('deadly', 11), ('moving', 11), ('usually', 11), ('runs', 11), ('bodies', 11), ('bbc', 11), ('threatens', 11), ('capsizes', 11), (\"today's\", 11), ('bin', 11), ('pathogens', 11), ('quickly', 11), ('em', 11), ('international', 11), ('it!', 11), ('salt', 11), ('updates', 11), ('facebook', 11), (\"'food\", 11), (\"crematoria'\", 11), ('continues', 11), ('catastrophe.', 11), ('v', 11), ('spos', 11), ('budget', 11), ('students', 11), ('outlook', 11), ('problems', 11), ('led', 11), ('mayhem', 11), ('system', 11), ('rip', 11), ('dying', 11), ('john', 11), ('rocky', 11), ('certain', 11), ('message', 11), ('throwing', 11), ('..', 11), ('industry', 11), ('re\\x89û_', 11), ('test', 11), ('mother', 11), ('inundation', 11), ('edt', 11), ('games', 11), ('nws', 11), ('allows', 11), ('mishaps', 11), ('repair', 11), ('rly', 11), ('louis', 11), ('sit', 11), ('matter', 11), ('exploration', 11), ('honestly', 11), ('crying', 11), (\"'we\", 11), ('&gt;', 11), ('fleets', 11), ('totaling', 11), ('tent', 10), ('turned', 10), ('horror', 10), ('enjoy', 10), ('coaches', 10), ('drinking', 10), ('within', 10), ('points', 10), ('rule', 10), ('2014', 10), ('units', 10), ('handbags', 10), ('you!', 10), ('data', 10), ('paul', 10), ('felt', 10), ('damaged', 10), ('son', 10), ('leader', 10), ('listening', 10), ('cameroon', 10), ('her.', 10), ('wtf', 10), ('airlines', 10), ('cable', 10), ('equipment', 10), ('won', 10), ('concert', 10), ('onto', 10), ('afternoon', 10), ('official', 10), ('round', 10), ('birthday', 10), ('burns', 10), ('quiz:', 10), ('nagasaki', 10), ('size', 10), ('silver', 10), ('crime', 10), ('debt', 10), ('lucky', 10), ('hearing', 10), ('waves', 10), ('earlier', 10), ('nyc', 10), ('catch', 10), ('england', 10), ('lead', 10), ('welcome', 10), ('aba', 10), ('minute', 10), ('gaza', 10), ('tickets', 10), ('experience', 10), ('kit', 10), ('reading', 10), ('spaceship', 10), ('link', 10), ('sister', 10), ('california:', 10), ('accident.', 10), ('wont', 10), ('situation', 10), ('advisory', 10), ('confirms', 10), ('officers', 10), ('feed', 10), ('mac', 10), (\"shouldn't\", 10), ('complete', 10), ('memorial', 10), ('drunk', 10), ('deals', 10), ('terrorists', 10), ('match', 10), ('hits', 10), ('linked', 10), ('tube', 10), ('laden', 10), ('(hwo)', 10), ('route', 10), ('asking', 10), ('toddler', 10), ('ran', 10), ('thunderstorms', 10), ('stories', 10), ('dangerous', 10), ('several', 10), ('panic!', 10), ('mini', 10), ('ends', 10), ('throw', 10), ('given', 10), ('original', 10), ('sue', 10), ('seven', 10), ('result', 10), ('i...', 10), ('wildfires', 10), ('somebody', 10), ('toll', 10), ('easy', 10), ('seeks', 10), ('signs', 10), ('good.', 10), ('petition', 10), ('rt:', 10), ('tablet', 10), ('projected', 10), ('reasons', 10), ('ideas', 10), ('police:', 10), ('exchanging', 10), ('internally', 10), ('d', 10), ('fox', 10), ('wreck.', 10), ('able', 10), ('forget', 10), ('plant', 10), ('nah', 10), ('hands', 10), ('ended', 10), ('yet.', 10), ('lol.', 10), ('hero', 10), ('add', 10), ('french', 10), ('moon', 10), ('o784', 10), ('faux', 9), ('purse', 9), ('story:', 9), ('knows', 9), ('denver', 9), ('firefighter', 9), ('review', 9), ('photos', 9), ('0', 9), ('needed', 9), ('cases', 9), ('carry', 9), ('areas', 9), ('da', 9), ('voice', 9), ('and...', 9), ('definitely', 9), ('wwii', 9), ('navy', 9), ('jackson', 9), ('powerful', 9), ('blow', 9), ('kept', 9), ('rising', 9), ('app', 9), ('hughes', 9), ('roads', 9), ('miles', 9), ('church', 9), ('cheese', 9), ('streets', 9), ('updated', 9), ('shadow', 9), ('vote', 9), ('casualties.', 9), ('dream', 9), ('bout', 9), ('stuff', 9), ('loose', 9), ('stream', 9), (\"couldn't\", 9), ('recover', 9), ('sending', 9), ('injuries.', 9), ('stage', 9), ('evening', 9), ('september', 9), ('ridge', 9), ('nurse', 9), ('click', 9), ('pressure', 9), ('ways', 9), ('squad', 9), ('safe', 9), ('though.', 9), ('forces', 9), ('picking', 9), ('apartment', 9), ('flag', 9), ('migrant', 9), ('ones', 9), ('create', 9), ('5km', 9), ('energy', 9), ('hill', 9), ('largest', 9), ('storms', 9), ('reuters', 9), ('turkish', 9), (\"'it's\", 9), ('m.o.p.', 9), ('price', 9), ('2013', 9), ('cities', 9), ('tweets', 9), ('art', 9), ('feet', 9), ('tips', 9), ('saving', 9), ('idk', 9), ('obliteration.', 9), ('window', 9), ('them!', 9), ('there.', 9), ('theres', 9), ('zombie', 9), ('details', 9), ('smoking', 9), ('way.', 9), ('buildings.', 9), ('tracks', 9), ('question', 9), ('amazing', 9), ('murder.', 9), ('18', 9), ('babies', 9), ('political', 9), ('especially', 9), ('changes', 9), ('tension', 9), ('pdp', 9), ('swear', 9), ('serial', 9), ('remains', 9), ('island:', 9), ('investigating', 9), ('page', 9), ('field', 9), ('write', 9), ('created', 9), ('impact', 9), ('dear', 9), ('important', 9), ('twice', 9), ('snow', 9), ('swallows', 9), ('opens', 9), ('sadly', 9), ('recognize', 9), ('mp:', 9), ('recount', 9), ('2011', 9), ('videos', 9), ('grows', 9), ('mp', 9), ('exchange', 9), ('pls', 9), ('calm', 9), ('typhoon-devastated', 9), ('mill', 9), (';)', 9), ('guns', 9), ('hi', 9), ('?please', 9), ('ten', 9), ('faan', 9), ('mile', 9), ('week.', 9), ('mention', 9), ('examining', 9), ('bruh', 9), (':p', 9), (\"'if\", 9), ('hobo', 8), ('clothes', 8), ('i\\x89ûªm', 8), ('highway', 8), ('burst', 8), ('sports', 8), ('satchel', 8), ('day:', 8), ('libya', 8), (\"'what\", 8), ('tryna', 8), ('negative', 8), ('repatriated', 8), ('too.', 8), ('thomas', 8), ('debate', 8), ('tired', 8), ('disney', 8), ('parts', 8), ('thoughts', 8), ('lies', 8), ('s...', 8), ('didnt', 8), ('rage', 8), ('costs', 8), ('you?', 8), ('boss', 8), ('exploded.', 8), ('al', 8), ('percent', 8), ('charging', 8), ('cream', 8), ('canaanites?', 8), ('warns', 8), ('crap', 8), ('(vine', 8), ('shower', 8), ('cook', 8), ('devastated.', 8), ('drop', 8), ('fish', 8), ('attention', 8), ('regular', 8), ('leads', 8), ('actual', 8), ('fantasy', 8), ('aka', 8), ('death.', 8), ('hurt', 8), ('inj**', 8), ('valley', 8), ('glass', 8), ('everyday', 8), ('report:', 8), ('mo', 8), ('is.', 8), (\"we'll\", 8), ('pulled', 8), ('club', 8), ('attack.', 8), ('val', 8), ('in...', 8), ('roof', 8), ('heights', 8), ('airport', 8), ('parenthood', 8), ('dozens', 8), (\"'a\", 8), ('weird', 8), ('heroes', 8), ('steps', 8), ('zone.', 8), ('lanes', 8), (\"'we're\", 8), ('female', 8), ('sidelines', 8), ('newest', 8), ('drone', 8), ('bombs', 8), ('target', 8), ('map', 8), ('key', 8), ('began', 8), ('se', 8), ('portland', 8), ('visit', 8), ('2.0', 8), ('pak', 8), ('david', 8), (\"fire'\", 8), ('taiwan', 8), ('heads', 8), ('truth', 8), ('dutch', 8), ('bet', 8), (\"'avoiding\", 8), ('microlight', 8), ('banned', 8), ('tram', 8), ('cinema', 8), ('blvd', 8), ('ft.', 8), ('rest', 8), ('sets', 8), ('conference', 8), ('feminists', 8), ('grill', 8), ('threw', 8), ('built', 8), ('drove', 8), ('judge', 8), ('sale', 8), ('spent', 8), ('epicentre', 8), ('bowl', 8), ('store', 8), ('amazon', 8), ('sparked', 8), ('begins', 8), ('chief', 8), ('writing', 8), ('cry', 8), ('headed', 8), ('none', 8), ('concerned', 8), ('nation', 8), ('signed', 8), ('eastern', 8), ('hilarious', 8), ('allow', 8), (':-)', 8), ('brings', 8), ('stadium', 8), ('lose', 8), ('mark', 8), ('lovely', 8), ('1945', 8), ('falls', 8), ('(via', 8), ('o', 8), ('wars', 8), ('box', 8), ('pipe', 8), ('steel', 8), ('fine', 8), ('moments', 8), ('apparently', 8), ('dramatic', 8), ('kidnapped', 8), ('incident', 8), ('township', 8), ('daughter', 8), ('ok.', 8), ('&lt;3', 8), ('rocks', 8), ('emergency.', 8), ('questions', 8), ('ah', 8), (\"china's\", 8), ('respond', 8), ('remove', 8), ('on.', 8), ('flat', 8), ('talks', 8), ('jack', 8), ('o...', 8), ('helps', 8), ('guide', 8), ('unless', 8), ('missed', 8), ('hashtag', 8), ('saipan:', 8), ('rain.', 8), ('canada', 8), ('channel', 8), ('max', 8), ('thats', 8), ('moved', 8), ('mortal', 8), ('kombat', 8), ('singing', 8), ('rt?', 8), ('except', 8), ('intensity', 8), ('maximum', 8), ('stops', 8), ('afraid', 8), ('mess', 8), ('nd', 8), ('me?', 8), ('associated', 8), ('computer', 7), ('california.', 7), ('seat', 7), ('day.', 7), ('remain', 7), ('bomb.', 7), ('accused', 7), ('stone', 7), ('flood:', 7), ('vintage', 7), ('grass', 7), ('grow', 7), ('blog', 7), ('donate', 7), ('vulnerable', 7), ('100%', 7), ('wonderful', 7), ('mood', 7), ('effects', 7), ('ride', 7), ('simple', 7), ('mary', 7), ('bitches', 7), ('ben', 7), ('somehow', 7), ('ring', 7), ('(ap)', 7), ('xbox', 7), ('one.', 7), ('plus', 7), ('father', 7), ('practice', 7), ('shares', 7), ('putting', 7), ('motorcyclist', 7), (\"would've\", 7), ('consider', 7), ('joe', 7), ('worked', 7), ('trap', 7), ('dick', 7), ('players', 7), ('type', 7), ('coach', 7), ('y', 7), ('steve', 7), ('activated', 7), ('slightly', 7), ('dry', 7), ('rolling', 7), ('silent', 7), ('staff', 7), ('arabia', 7), ('lie', 7), ('robots', 7), ('results', 7), ('suffering', 7), (\"who's\", 7), ('skin', 7), ('documents', 7), ('06', 7), ('world.', 7), ('civilians', 7), ('dark', 7), ('toilet', 7), ('bath', 7), ('stuck', 7), ('maintenance', 7), ('interview', 7), ('tells', 7), ('mix', 7), ('commercial', 7), ('tropical', 7), ('progress', 7), ('etc.', 7), ('wit', 7), ('pics', 7), ('followers', 7), ('starting', 7), ('estimate', 7), ('fingers', 7), ('registered', 7), ('apply', 7), ('track', 7), ('excited', 7), ('them?', 7), ('clearly', 7), ('controlled', 7), ('dat', 7), ('owners', 7), ('this.', 7), ('chocolate', 7), ('drill', 7), ('brakes', 7), ('triggered', 7), ('losing', 7), ('croatian', 7), ('christian', 7), ('rubber', 7), ('accidentally', 7), ('society', 7), ('nc', 7), ('calories', 7), ('nine', 7), ('cnn', 7), ('madhya', 7), ('university', 7), ('involved', 7), ('dance', 7), ('machine', 7), ('live:', 7), ('b4', 7), ('third', 7), ('truly', 7), ('sport', 7), ('powerlines', 7), ('danger.', 7), ('users', 7), ('4000', 7), ('kick', 7), ('golf', 7), ('speak', 7), ('yrs', 7), ('treat', 7), ('meat-loving', 7), ('pop', 7), ('rail', 7), ('ever.', 7), ('stuart', 7), ('annual', 7), ('arms', 7), ('list', 7), ('fly', 7), ('member', 7), ('shots', 7), ('ears', 7), ('season.', 7), (\"'s\", 7), ('prime', 7), ('evidence', 7), ('thru', 7), ('humanity', 7), ('shame', 7), ('address', 7), ('lane', 7), ('tongue', 7), ('un', 7), ('muslims', 7), ('covers', 7), ('22', 7), ('present', 7), ('for...', 7), ('sees', 7), ('profile', 7), ('fake', 7), ('greatest', 7), ('strange', 7), ('thx', 7), ('sites', 7), ('upset', 7), ('mins', 7), ('gotten', 7), (\"they'll\", 7), ('(', 7), ('cuz', 7), ('shipping', 7), ('passenger', 7), ('tennessee', 7), ('cruz', 7), ('hotel', 7), ('arrest', 7), ('gang', 7), ('violence', 7), ('toward', 7), ('upper', 7), ('fav', 7), ('issue', 7), ('cigarette', 7), ('bags.', 7), ('recovery', 7), ('mentions', 7), ('kid', 7), ('aid', 7), ('harry', 7), ('crushed.', 7), ('lmfao', 7), ('bottom', 7), ('dinner', 7), ('remembering', 7), ('slow', 7), ('loss', 7), ('jeff', 7), ('anymore', 7), ('posted', 7), ('afghan', 7), ('10:30', 7), ('dollar', 7), ('science', 7), ('legal', 7), ('adult', 7), ('salem', 7), ('hat', 7), ('am.', 7), ('movies', 7), ('rape', 7), ('chicago-area', 7), ('admits', 7), ('homeless', 7), ('per', 7), ('mayan', 7), ('complex', 7), ('sw', 7), ('dr', 7), ('horror:', 7), ('\\x89ûïwhen', 7), ('plunging', 7), ('bat', 7), ('500', 7), ('photos:', 7), ('know.', 7), ('murdered', 7), ('weeks', 7), ('plains', 7), ('minister', 7), ('weapons.', 7), ('port', 7), ('operation', 7), ('pussy', 7), ('nose', 7), ('claim', 7), ('named', 7), ('nashville', 7), ('id', 7), ('fuel', 7), ('go.', 7), ('phoenix', 7), ('collapsed.', 7), ('wings', 7), ('hopefully', 7), ('arabian', 7), ('afghanistan', 7), ('can\\x89ûªt', 7), ('2015:', 7), ('became', 7), ('spring', 7), ('attempt', 7), ('reach', 7), ('ill', 7), ('extra', 7), ('relatives', 7), ('law', 7), ('stealing', 7), ('lunch', 7), ('damage.', 7), ('learning', 7), ('animal', 7), ('bell', 7), ('considering', 7), ('forced', 7), ('awful', 7), ('illegal', 7), ('rioting.', 7), ('hello', 7), ('dr.', 7), ('lifted', 7), ('activates', 7), ('china\\x89ûªs', 7), ('murderer.', 7), (\"'i'm\", 7), ('speaker', 6), ('to...', 6), ('possibly', 6), ('becomes', 6), ('zouma', 6), ('poverty', 6), ('yr', 6), ('lights', 6), ('acting', 6), ('pack', 6), ('fruit', 6), ('queen', 6), ('stab', 6), ('yall', 6), ('away.', 6), ('heal', 6), ('co.', 6), ('seem', 6), ('schools', 6), (\"y'all\", 6), ('pro', 6), ('looked', 6), ('wow.', 6), ('legion', 6), ('worried', 6), ('suddenly', 6), ('ii', 6), ('factory', 6), ('wondering', 6), ('jobs', 6), ('numbers', 6), ('handle', 6), ('solid', 6), ('doubt', 6), ('shit.', 6), ('contained', 6), ('cup', 6), ('sing', 6), ('warship', 6), ('tf', 6), ('decide', 6), ('trash', 6), ('blocking', 6), ('self-image?', 6), ('wholesale', 6), ('posts', 6), ('hosting', 6), ('extremely', 6), ('beer', 6), (':d', 6), (\"america's\", 6), ('options', 6), ('mail', 6), ('fresh', 6), ('wet', 6), ('tape', 6), ('35', 6), ('plug', 6), ('reminds', 6), ('up!', 6), ('drones', 6), ('sexual', 6), ('do.', 6), ('incredible', 6), ('florida', 6), ('charges', 6), ('secrets', 6), ('ankle', 6), ('forecast', 6), ('manager', 6), ('wa', 6), ('laughing', 6), ('peaceful', 6), ('plan.', 6), ('sweet', 6), ('recommend', 6), ('senior', 6), ('survival', 6), ('fatalities.', 6), ('on...', 6), ('disrupts', 6), ('watch:', 6), ('row', 6), ('collapses', 6), ('speaking', 6), ('times:', 6), ('decided', 6), ('tag', 6), ('league', 6), ('dreams', 6), ('ukraine', 6), ('camera', 6), ('predicted', 6), ('mediterranean', 6), ('blows', 6), ('48', 6), ('access', 6), ('fail', 6), ('officially', 6), ('anchorage', 6), ('collection', 6), ('today:', 6), ('ugly', 6), ('armed', 6), ('uribe', 6), ('workers', 6), ('museum', 6), ('ugh', 6), ('pakistani', 6), ('spending', 6), ('path', 6), ('approaches', 6), ('aim', 6), ('minor', 6), ('pradesh', 6), ('!!!', 6), ('student', 6), ('careful', 6), ('flew', 6), ('troops', 6), ('absolute', 6), ('chris', 6), ('festival', 6), ('flying', 6), ('eating', 6), ('trailer', 6), ('mental', 6), ('pace', 6), ('showing', 6), ('freakiest', 6), ('anger', 6), ('of\\x89û_', 6), ('entered', 6), ('supply', 6), ('angel', 6), ('arrived', 6), ('residential', 6), (\"they've\", 6), ('monsoon', 6), ('snowstorm.', 6), ('gift', 6), ('folks', 6), ('companies', 6), ('it?', 6), ('acts', 6), ('cop', 6), ('reality', 6), ('los', 6), ('back.', 6), ('threatening', 6), ('effort', 6), ('opened', 6), ('crack', 6), ('gov.', 6), ('responsible', 6), ('include', 6), ('markets', 6), ('crowd', 6), ('bear', 6), (\"'you\", 6), ('van', 6), ('saturday', 6), ('bride', 6), ('dc', 6), ('majority', 6), ('planning', 6), ('revenues', 6), ('print', 6), ('books', 6), ('finnish', 6), (\"'it\", 6), ('bicyclist', 6), ('crew', 6), ('mission', 6), ('lower', 6), ('civil', 6), ('rights', 6), ('flooded', 6), ('chinese', 6), ('wearing', 6), ('stupid', 6), ('congress', 6), ('wrought', 6), ('cliff.', 6), ('scary', 6), ('senator', 6), ('tank', 6), ('calif.', 6), ('theatre', 6), ('reportedly', 6), ('broad', 6), ('root', 6), ('gusts', 6), ('pilot', 6), ('management', 6), ('lamp', 6), ('satellite', 6), ('statement', 6), ('nws:', 6), ('til', 6), ('fuckin', 6), ('abuse', 6), ('snap', 6), ('limit', 6), ('swimming', 6), ('fell', 6), ('proud', 6), ('wear', 6), ('di', 6), ('realized', 6), ('hurts', 6), ('lion', 6), ('housing', 6), ('six', 6), ('spirit', 6), ('hail.', 6), ('italian', 6), ('larger', 6), ('justin', 6), ('tour', 6), ('bells', 6), ('santa', 6), ('coastal', 6), ('electrical', 6), ('aftermath', 6), ('finger', 6), ('md', 6), ('sb', 6), ('jordan', 6), ('26', 6), ('fights', 6), ('tom', 6), ('work.', 6), ('damages', 6), ('republican', 6), ('pipeline', 6), ('campaign', 6), ('actions', 6), ('articles', 6), ('confirm', 6), ('an...', 6), ('marked', 6), ('discovered', 6), ('quality', 6), ('purple', 6), ('efforts', 6), ('providence', 6), ('losses', 6), ('countries', 6), ('responsibility', 6), ('ex', 6), ('failed', 6), ('kind', 6), ('wing', 6), ('forward', 6), ('german', 6), ('2008', 6), ('charger', 6), ('horse', 6), ('george', 6), ('breaks', 6), ('butter', 6), ('blocked', 6), ('articles:', 6), ('raid', 6), ('letting', 6), ('olap', 6), ('pres:', 6), ('counter', 6), ('declaration', 6), ('recalls', 6), ('feat.', 6), ('unlocked', 6), ('checked', 6), ('traditional', 6), ('anything.', 6), ('bless', 6), (\"floyd's\", 6), ('technology', 6), ('pacific', 6), ('met', 6), ('dumb', 6), ('rid', 6), ('classic', 6), ('places', 6), ('mega', 6), ('manslaughter', 6), ('written', 6), ('m.o.p.)', 6), ('bug', 6), ('legacy', 6), ('game.', 6), ('alleged', 6), ('teacher', 6), ('iraq', 6), ('cloud', 6), ('replace', 6), ('foxtrot', 6), ('31', 6), ('nature', 6), ('fits', 6), ('90', 6), ('willing', 6), ('sub', 6), ('criminals', 6), ('characters', 6), ('relationship', 6), ('battling', 6), ('tea', 6), (':/', 6), ('(official', 6), ('planet', 6), ('libya:', 6), ('however', 6), ('depth', 6), ('chile:', 6), ('killer', 6), ('drawn', 6), ('[0', 6), ('legionnaires:', 6), ('thanks.', 6), ('ha.', 6), ('temple', 6), ('breaking:', 6), ('trauma.', 6), ('ps', 6), ('hes', 6), (\"you'd\", 6), ('åè', 5), ('famous', 5), ('min', 5), ('resulted', 5), ('chain', 5), ('wicked', 5), ('messenger', 5), ('zayn', 5), ('surprise', 5), ('particularly', 5), ('ages', 5), ('300', 5), ('taste', 5), ('hole', 5), ('af', 5), ('snacks', 5), ('pieces', 5), ('bleeding.', 5), ('throat', 5), ('certainly', 5), ('telling', 5), ('fate', 5), ('notice', 5), ('promise', 5), ('fill', 5), ('changed', 5), ('mid', 5), ('er', 5), ('cats', 5), ('yea', 5), ('sean', 5), ('ordered', 5), (\"tonight's\", 5), (\"'conclusively\", 5), (\"confirmed'\", 5), ('pm:', 5), ('philly', 5), ('beauty', 5), ('tough', 5), ('barely', 5), ('towards', 5), ('crackdown', 5), ('uses', 5), ('--&gt;', 5), ('ops', 5), ('rose', 5), ('handbag', 5), ('danielle', 5), ('robinson', 5), ('respect', 5), ('accounts', 5), ('personal', 5), ('levels', 5), ('selfie', 5), ('iranian', 5), ('21', 5), ('critical', 5), ('charlie', 5), ('plays', 5), ('tuesday', 5), ('darude', 5), ('bringing', 5), ('americans', 5), ('audio', 5), ('whether', 5), ('simply', 5), ('19', 5), ('beats', 5), ('realize', 5), ('&gt;&gt;&gt;', 5), ('profit', 5), ('breathe', 5), ('fashion', 5), ('popular', 5), ('monster', 5), ('fair', 5), ('whats', 5), ('indeed', 5), ('subject', 5), ('circus', 5), ('bunch', 5), ('mouth', 5), ('decision', 5), ('out?', 5), ('wins', 5), ('michigan', 5), ('was.', 5), ('collision-no', 5), ('con', 5), ('outdoor', 5), ('brutally', 5), ('crossed', 5), ('trial', 5), ('twin', 5), ('5sos', 5), ('private', 5), ('innocent', 5), ('bees', 5), ('reduced', 5), ('trolley', 5), ('th...', 5), ('grateful', 5), ('drug', 5), ('assistance', 5), ('mines', 5), ('cranes', 5), ('facts', 5), ('defend', 5), ('leveled', 5), (\"disaster'\", 5), ('shocked', 5), (\"australia's\", 5), ('epic', 5), ('australian', 5), ('premature', 5), ('warcraft', 5), ('paper', 5), ('chicken', 5), ('joel', 5), ('disaster:', 5), ('acid', 5), ('1.', 5), ('vietnam', 5), ('journalist', 5), (\"water':\", 5), ('manchester', 5), (\"women's\", 5), ('bid', 5), ('table', 5), ('spider', 5), ('fear.', 5), ('usgs', 5), ('hawaii:', 5), ('01:04:01', 5), ('15:04:01', 5), ('-10:00', 5), ('palms', 5), ('crash.', 5), ('subs', 5), ('offers', 5), ('windows', 5), ('error', 5), ('clean', 5), ('senate', 5), ('133', 5), ('[wind:', 5), ('hail:', 5), ('in]', 5), ('kyle', 5), ('prepared', 5), ('fighters', 5), ('log', 5), ('ultimate', 5), ('hungry', 5), ('probe', 5), ('captured', 5), ('rd.', 5), ('jewish', 5), ('antioch', 5), ('design', 5), ('hearts', 5), ('turning', 5), ('disasters', 5), ('english', 5), ('newlyweds', 5), ('higher', 5), ('pulling', 5), ('bill', 5), ('clinton', 5), ('weapon.', 5), ('p.m.', 5), ('investigation', 5), ('nepal', 5), ('known', 5), ('panel', 5), ('trafford', 5), ('odeon', 5), ('i5', 5), ('sac', 5), ('av', 5), ('nj', 5), ('insurer', 5), ('mama', 5), ('purchase', 5), ('internal', 5), ('iii', 5), ('wounds.', 5), ('2015.', 5), ('lightening', 5), ('legit', 5), ('hahaha', 5), ('anti', 5), ('exactly', 5), ('diss', 5), ('fit', 5), ('fed', 5), ('socialism', 5), ('f', 5), ('enjoying', 5), ('landslide.', 5), ('cast', 5), ('birth', 5), ('steal', 5), ('vehicles', 5), ('cell', 5), (\"they'd\", 5), ('arsenal', 5), ('fb', 5), ('sunset', 5), ('etc', 5), ('touch', 5), ('parking', 5), ('apocalypse.', 5), ('things.', 5), ('construction', 5), ('motorcycle', 5), ('desire', 5), (\"japan's\", 5), ('magic', 5), ('example', 5), ('scientists', 5), ('kingdom', 5), ('similar', 5), ('sources', 5), ('....', 5), ('vinyl', 5), ('stephen', 5), ('conflict', 5), ('increase', 5), ('throughout', 5), ('clear', 5), ('passed', 5), ('the\\x89û_', 5), ('knowing', 5), ('success', 5), ('pitch', 5), (\"'when\", 5), ('here\\x89ûªs', 5), ('christians', 5), ('victory', 5), ('st.', 5), ('anxiety', 5), ('picked', 5), ('advance', 5), ('bake', 5), ('amongst', 5), (\"greece's\", 5), ('grenade', 5), ('footage', 5), ('leaves', 5), ('assembly', 5), ('eden', 5), ('favourite', 5), ('pilots', 5), ('brothers', 5), ('commit', 5), ('days.', 5), ('candy', 5), ('baseball', 5), ('jeb', 5), ('down.', 5), ('kicked', 5), ('3g', 5), ('politics', 5), ('constantly', 5), ('affects', 5), ('well.', 5), ('revolution', 5), ('39', 5), ('pov', 5), ('leg', 5), ('republicans', 5), ('age', 5), ('election', 5), ('home.', 5), ('wire', 5), ('rises', 5), ('drives', 5), ('patrick', 5), ('mosque:', 5), ('often', 5), ('road.', 5), ('pickens', 5), ('ne', 5), ('context', 5), ('race', 5), ('prompts', 5), ('hwy', 5), ('unknown', 5), ('sight', 5), ('stewart', 5), ('farm', 5), ('steam', 5), ('idc', 5), ('injury.', 5), ('barn', 5), ('solve', 5), ('southeast', 5), ('dirt', 5), ('shoot', 5), ('doctor', 5), ('inner', 5), ('alcohol', 5), ('christmas', 5), ('wildfire):', 5), ('soccer', 5), ('education', 5), (\"it'll\", 5), ('flames.', 5), ('dare', 5), ('dj', 5), ('agreed', 5), ('slip', 5), ('diamond', 5), ('passing', 5), ('arrive', 5), ('italy', 5), ('vegas', 5), ('boot', 5), ('pond', 5), ('yazidis', 5), ('shock', 5), ('shed', 5), ('cried', 5), ('haram', 5), ('lowndes', 5), ('29', 5), ('shelter', 5), ('credit', 5), ('bulletin', 5), ('radar', 5), ('union', 5), ('option', 5), ('normal', 5), ('rocket', 5), ('concerns', 5), ('plan?', 5), ('springs', 5), ('electricity', 5), ('lover', 5), ('sa', 5), ('wound', 5), ('rì©union', 5), ('370', 5), ('tons', 5), ('nuke', 5), ('wired', 5), ('pres', 5), (\"disney's\", 5), ('cramer:', 5), ('shop', 5), ('structures', 5), ('elephant', 5), ('scheme', 5), ('riots', 5), ('smells', 5), ('wash.', 5), ('aug.', 5), ('clash', 5), ('integrity', 5), ('richard', 5), ('activity', 5), ('transit', 5), ('ray', 5), ('buried', 5), ('med', 5), ('releases', 5), ('d.c.', 5), ('projected:', 5), ('sparks', 5), ('reap', 5), ('yobe', 5), ('teams', 5), ('fact:', 5), ('patient', 5), ('wrapped', 5), ('finds', 5), ('desolate.', 5), ('conditions', 5), ('agrees', 5), ('shots:', 5), ('gunfire', 5), ('suffered', 5), ('hunt', 5), ('pregnant', 5), ('agency', 5), ('40%', 5), ('rob', 5), ('pissed', 5), ('wood', 5), ('fort', 5), ('physical', 5), ('triple', 5), ('grove', 5), ('brian', 5), ('all.', 5), ('works', 5), ('persons', 5), ('understanding', 5), ('cyclist', 5), ('step', 5), ('peanut', 5), ('floods:', 5), ('disco', 5), ('(photos)', 5), ('hiring', 5), ('emotionally', 5), ('hunters', 5), ('right?', 5), ('stomach', 5), ('holiday', 5), ('gabon', 5), ('somalia', 5), ('off.', 5), ('paid', 5), ('thousand', 5), ('ball.', 5), ('deliver', 5), ('current', 5), ('charge', 5), ('i\\x89ûªve', 5), ('co', 5), ('generation', 5), ('derails', 5), ('targets', 5), ('wanting', 5), ('responds', 5), ('external', 5), ('olive', 5), ('your...', 5), ('materials', 5), ('eventually', 5), ('fired', 5), ('defense', 5), ('demand', 5), ('goal', 5), ('walked', 5), ('appreciate', 5), ('mt', 5), ('notices', 5), ('cape', 5), ('edinburgh', 5), ('g', 5), ('911', 5), ('prior', 5), ('loves', 5), ('dk', 5), ('engine', 5), ('anybody', 5), ('washed', 5), ('cancel', 5), ('angeles', 5), ('previous', 5), ('exit', 5), ('(feat.', 5), ('committed', 5), ('rea\\x89û_', 5), ('eruption', 5), ('although', 5), ('solution', 5), ('looting', 5), ('station', 5), ('blunt', 5), ('taco', 5), ('james', 5), ('dead.', 5), ('???', 5), ('faster', 5), ('leaders', 5), ('mount', 5), ('jacksonville', 5), ('style', 5), ('beck/arnley', 5), ('opinion', 5), ('eb', 5), ('traumatised.', 5), ('desert', 5), ('lived', 5), ('degree', 5), ('emmerdale', 5), ('xd', 5), ('f.', 5), ('10th', 5), ('forgot', 5), ('video)', 5), ('bedroom', 5), ('disco:', 5), ('millions', 5), ('ima', 5), ('yet?', 5), ('haunting', 5), ('fr', 5), ('1/2', 5), ('14', 5), ('email', 5), ('detectado', 5), ('jst', 5), ('anyway', 5), ('discovery', 5), ('crashing', 5), ('interest', 5), ('bargain', 5), ('specially', 5), ('curfew.', 5), ('blind', 5), ('autistic', 5), ('beyonce', 5), ('charles', 5), ('auth', 5), ('surprised', 5), ('bio', 5), ('apocalyptic', 5), ('ability', 5), ('btw', 5), ('better.', 5), ('flags', 5), ('ha', 5), ('åê', 4), ('correction:', 4), ('å_', 4), ('virus', 4), ('recall', 4), ('drought:', 4), ('nightmare', 4), ('that\\x89ûªs', 4), ('\\x89ûïthe', 4), ('architect', 4), ('//', 4), ('\\x89ûïa', 4), ('stacey', 4), ('johnson', 4), ('follows', 4), ('birmingham', 4), ('donald', 4), ('kaduna', 4), ('dress', 4), ('train.', 4), ('ruled', 4), ('twitter.', 4), (')', 4), ('mining', 4), ('difference', 4), ('distinct', 4), ('moves', 4), ('capsized', 4), ('dental', 4), ('basement', 4), ('shitty', 4), ('ruined', 4), ('deserve', 4), ('spears', 4), ('bullets', 4), ('pain.', 4), ('times.', 4), ('that?', 4), (\"yesterday's\", 4), ('hd', 4), ('boyfriend', 4), ('yay', 4), ('kisses', 4), ('360', 4), ('universe', 4), ('lonely', 4), ('biological', 4), ('animals', 4), ('explains', 4), ('asleep', 4), ('injures', 4), ('auto', 4), ('wow!', 4), ('digital', 4), ('that!', 4), ('clever', 4), ('runner', 4), ('revealed', 4), ('proof', 4), ('warships', 4), ('returns', 4), ('worker', 4), ('designs', 4), ('burnt', 4), ('smash', 4), ('flower', 4), ('pink', 4), ('clutch', 4), ('biker', 4), ('derby', 4), ('analysis', 4), ('ceo', 4), ('unveiled', 4), ('interviews', 4), ('more!', 4), ('net', 4), ('combined', 4), (\"weren't\", 4), ('africa', 4), ('cnn:', 4), ('9/11', 4), ('9pm', 4), ('gon', 4), ('rep', 4), ('whoever', 4), ('maria', 4), ('next?', 4), ('floated', 4), ('this?', 4), ('hostage?', 4), ('bullet', 4), ('bottle', 4), ('cherry', 4), ('facilities', 4), ('buildings?', 4), ('ig', 4), ('girlfriend', 4), ('unlocking', 4), ('figure', 4), ('blowing', 4), ('marketing', 4), ('catches', 4), ('what.', 4), ('hottest', 4), ('sirens.', 4), ('ticket', 4), ('role', 4), ('explode.', 4), ('5000', 4), ('occasion', 4), ('dating', 4), (\"'death\", 4), ('wayne', 4), ('night!', 4), ('vacation', 4), ('cricket', 4), ('exercise', 4), ('(video)', 4), ('rs', 4), ('exist', 4), ('screen', 4), ('place.', 4), ('rainstorm.', 4), ('listed', 4), ('tix', 4), ('thunderstorm.', 4), ('10.', 4), ('unique', 4), ('rescue!', 4), ('warfare', 4), ('weak', 4), ('psychiatric', 4), ('maps', 4), ('offer', 4), ('drought.', 4), ('lifting', 4), ('cain', 4), ('exited', 4), ('struggle', 4), ('catching', 4), ('beginning', 4), ('spanish', 4), ('form', 4), ('targeting', 4), ('bp', 4), ('button', 4), ('wisdom', 4), ('warne', 4), ('yahoo', 4), ('warfighting', 4), ('3-inspired', 4), ('hitting', 4), ('sell', 4), ('walmart', 4), ('noise', 4), ('sad.', 4), ('cakes', 4), ('drama', 4), ('cd', 4), ('predict', 4), ('nema', 4), ('5th', 4), ('served', 4), ('tanker', 4), ('drinks', 4), ('preparedness', 4), ('vladimir', 4), ('putin', 4), ('failure:', 4), ('reno', 4), ('radio:', 4), ('jeep', 4), ('vine', 4), ('m...', 4), ('barack', 4), ('mexican', 4), ('tribune', 4), ('restaurant', 4), ('swiss', 4), ('class.', 4), ('conquest', 4), ('exposed', 4), ('hawaii', 4), ('eq:', 4), ('15km', 4), ('time2015-08-05', 4), ('faced', 4), ('refuses', 4), ('syria', 4), ('communities', 4), ('stands', 4), ('seemed', 4), ('prompted', 4), ('repairs', 4), ('28', 4), ('hours.', 4), ('committee', 4), ('administration', 4), ('egypt', 4), ('affiliate', 4), ('200', 4), ('neighborhood', 4), ('scene.', 4), ('erected', 4), ('asian', 4), ('thing.', 4), ('uganda', 4), ('study', 4), ('ian', 4), ('u.s', 4), ('landfall', 4), ('philippines', 4), ('frank', 4), ('emotions', 4), ('3-alarm', 4), ('fire:', 4), ('villages', 4), ('instructions', 4), ('items', 4), ('meltdown.', 4), ('chaos', 4), ('w.', 4), ('brigade', 4), ('telegraph', 4), ('conspiracy', 4), ('utter', 4), ('turnpike', 4), ('delays', 4), ('morning.', 4), ('cargo', 4), ('tracking', 4), ('orange', 4), ('chevy', 4), ('fraction', 4), ('coping', 4), ('director', 4), ('anywhere', 4), ('color', 4), (\"accidents'\", 4), ('smithsonian', 4), ('alarm:', 4), ('alberta', 4), ('tiny', 4), ('island.', 4), ('spend', 4), ('feeding', 4), (\"reddit's\", 4), ('subreddits', 4), ('building.', 4), ('entertainment', 4), ('mum', 4), ('tested', 4), ('ago.', 4), ('now:', 4), ('atlantic', 4), ('a-bomb', 4), (\"'little\", 4), (\"boy'\", 4), ('slide', 4), ('events', 4), ('soon!', 4), ('legs', 4), ('ego', 4), ('banana', 4), ('blight:', 4), ('crush:', 4), ('thus', 4), ('sisters', 4), ('lip', 4), ('whales', 4), ('rally', 4), ('increased', 4), ('rear-', 4), ('blame', 4), ('weird.', 4), ('daughters', 4), ('this...', 4), ('amazing.', 4), ('bound', 4), ('re', 4), ('(and', 4), ('trace', 4), ('racist', 4), ('cos', 4), ('3rd', 4), ('tired.', 4), ('butt', 4), ('gate', 4), ('expecting', 4), ('filled', 4), ('load', 4), ('die!', 4), ('brave', 4), ('brewing', 4), ('thick', 4), ('diving', 4), ('zero', 4), ('comments', 4), ('shouting', 4), ('stamp', 4), ('drugs', 4), ('network', 4), ('muslim', 4), ('over.', 4), ('cdc', 4), ('primary', 4), ('replacing', 4), ('is:', 4), ('image', 4), ('logic', 4), ('dozen', 4), ('of...', 4), ('you\\x89ûªre', 4), ('reporting', 4), ('spoke', 4), ('opposite', 4), ('cod', 4), ('27', 4), ('article', 4), ('quest', 4), ('exp', 4), ('marker', 4), ('method', 4), ('life:', 4), ('jet', 4), ('producer', 4), ('reveals', 4), ('arm', 4), ('horrific', 4), ('ed', 4), ('read\\x89û_', 4), ('pepper', 4), ('explosion:', 4), ('guardian', 4), ('boxer', 4), ('regional', 4), ('kindle', 4), ('hip', 4), ('hop', 4), ('warned', 4), ('previously', 4), ('limited', 4), ('connection', 4), ('devil', 4), ('3:', 4), ('tuned', 4), ('cave', 4), ('movement', 4), ('chewing', 4), ('sf', 4), ('shout', 4), ('best.', 4), ('dq', 4), ('cotton', 4), ('grab', 4), ('thanks!', 4), ('christie', 4), ('1.3', 4), ('economy', 4), ('collapse.', 4), ('memphis', 4), ('moth', 4), ('you\\x89ûªve', 4), ('realise', 4), ('heaven', 4), ('husband', 4), ('born', 4), ('firing', 4), ('amsterdam', 4), ('ted', 4), ('sydney', 4), ('southampton', 4), ('reaching', 4), ('cree', 4), ('plants', 4), ('prabhu', 4), ('rates', 4), ('nap', 4), ('register', 4), ('lone', 4), ('campus', 4), ('mph.', 4), ('attacking', 4), ('accident:', 4), ('deck', 4), ('trouble.', 4), ('plan:', 4), ('a\\x89û_', 4), ('surface', 4), ('?????', 4), ('planted', 4), ('shoes', 4), ('yesterday.', 4), ('immediately', 4), ('buying', 4), ('standing', 4), ('smell', 4), (\"we'd\", 4), ('1980', 4), ('pays', 4), ('soup', 4), ('desk', 4), ('scars', 4), ('course.', 4), ('tune', 4), ('walls', 4), (\"someone's\", 4), ('car.', 4), ('arriving', 4), ('lot.', 4), ('mansion', 4), ('sinking.', 4), ('what?', 4), ('evacuate.', 4), ('laugh', 4), ('weed', 4), ('photographer', 4), ('provide', 4), ('slowly', 4), ('blamed', 4), ('skills', 4), ('::', 4), ('slower', 4), ('intersection', 4), ('selfies:', 4), ('13000', 4), ('repay', 4), ('mercy', 4), ('toxic', 4), ('fwy', 4), ('background', 4), ('sharp', 4), ('shark', 4), ('feelings', 4), ('batting', 4), ('...the', 4), ('cyclone:', 4), ('11:00', 4), ('goals', 4), ('snapchat', 4), ('settlement', 4), ('jesus', 4), ('christ', 4), ('selection', 4), ('invasion', 4), ('bieber', 4), ('cia', 4), ('neither', 4), ('man.', 4), ('reshapes', 4), ('cta', 4), ('horizon', 4), ('apartments', 4), ('proposed', 4), ('stress', 4), ('(photo)', 4), ('salvation', 4), ('pump', 4), ('saipan', 4), ('(reuters)', 4), ('insane', 4), ('minecraft:', 4), ('(bob', 4), ('wither', 4), ('more!)', 4), ('souls', 4), ('freedom', 4), ('oak', 4), ('alex', 4), ('rubble?', 4), ('excellent', 4), ('years.', 4), ('jim', 4), ('specimens', 4), ('garden', 4), ('elliott', 4), ('changing', 4), ('resources', 4), ('cleanup', 4), ('hieroglyphics', 4), ('honors', 4), ('lowly', 4), ('robert', 4), ('inspections', 4), ('recently', 4), ('motor', 4), ('magnitude', 4), ('browser', 4), ('hamas', 4), ('egged', 4), ('361', 4), ('remembered', 4), ('highly', 4), ('europe', 4), ('citizens', 4), ('tomorrow!', 4), ('launch', 4), ('blaze.', 4), ('focus', 4), ('explodes', 4), ('whale', 4), ('penalties', 4), ('positive', 4), ('supervisor', 4), ('prayers', 4), ('que', 4), ('electric', 4), ('francis', 4), ('boko', 4), ('riding', 4), ('carried', 4), ('justice', 4), ('gov', 4), ('teachers', 4), ('india:', 4), ('investigate', 4), ('abe', 4), ('performance', 4), ('horses', 4), ('employees', 4), ('estimated', 4), ('employee', 4), (\"'all\", 4), ('photoshop', 4), ('garbage', 4), ('base', 4), ('rubble.', 4), ('images', 4), ('earrings', 4), ('expert', 4), ('knee', 4), ('perhaps', 4), ('allowed', 4), ('sentinel', 4), ('journal', 4), ('ep', 4), ('rome', 4), ('supreme', 4), ('northwest', 4), ('mansehra.', 4), ('2pm', 4), ('easily', 4), ('allah', 4), ('forgive', 4), ('growth', 4), ('bounty', 4), ('h...', 4), ('prices', 4), ('scotland', 4), ('annihilated.', 4), ('3d', 4), ('flip', 4), ('jon', 4), (\"everyone's\", 4), ('coal', 4), ('timeline', 4), ('automatic', 4), ('cock', 4), ('bloomberg', 4), ('derailed.', 4), ('officials:', 4), ('kings', 4), ('bolt', 4), ('builds', 4), ('abomination', 4), ('continued', 4), ('shelby', 4), ('grand', 4), ('braking', 4), ('gt', 4), ('keeping', 4), ('despite', 4), ('hide', 4), ('williams', 4), ('lions', 4), ('devalue', 4), ('bored', 4), ('boom', 4), (\"'detonate'\", 4), ('screenshots', 4), ('grey', 4), ('8/5/2015', 4), ('productive', 4), ('warrior', 4), ('hostages.', 4), ('kenya', 4), ('treatment', 4), ('heading', 4), ('bridges', 4), ('whirlwind.', 4), ('weight', 4), ('packs', 4), ('saint', 4), ('streak', 4), ('stir', 4), ('musician', 4), ('kalle', 4), ('mattson', 4), ('stabbing', 4), ('doors', 4), ('morgan', 4), ('brief', 4), (\"'there\", 4), ('therapy', 4), ('rapidly', 4), ('hates', 4), ('june', 4), ('coahuila', 4), ('brush', 4), ('letter', 4), ('greg', 4), ('nicki', 4), ('medieval', 4), ('lethal', 4), ('dragon', 4), ('gives', 4), ('lands', 4), ('harbor', 4), ('managed', 4), ('pit', 4), ('spain', 4), ('acres', 4), ('karymsky', 4), ('crater', 4), ('again!', 4), ('lrt', 4), ('vuitton', 4), ('far.', 4), ('computers', 4), ('growing', 4), ('recycling', 4), ('gods', 4), ('disease:', 4), ('armageddon.', 4), ('las', 4), ('red-light', 4), ('l', 4), ('sixth', 4), ('lionel', 4), ('holland', 4), ('basically', 4), ('i-77', 4), ('okay.', 4), ('swim', 4), ('camping', 4), ('joy', 4), ('now...', 4), ('saturday!', 4), ('empire', 4), ('lawsuit', 4), ('intensifies', 4), ('bands', 4), ('5pm', 4), ('closed.', 4), ('night.', 4), ('history.', 4), ('grew', 4), ('responding', 4), ('done.', 4), ('asia', 4), ('co-pilot', 4), ('s.', 4), ('concern', 4), ('aware', 4), ('i\\x89û_', 4), ('*screams', 4), ('connector-connecto', 4), ('gm', 4), ('him!', 4), ('choice', 4), ('nobody', 4), ('pretend', 4), ('sir', 4), ('tries', 4), ('mma', 4), ('loads', 4), ('lorries', 4), ('experienced', 4), ('preseason', 4), ('hopes', 4), ('deluge.', 4), ('to.', 4), ('smile', 4), (\"god's\", 4), ('germany', 4), ('frozen', 4), ('2016', 4), ('cleveland', 4), ('fishing', 4), ('gta', 4), ('minecraft', 4), ('battlefield', 4), ('km', 4), ('degrees', 4), ('active', 4), ('too!', 4), ('shirt', 4), ('restore', 4), ('[official', 4), ('video]', 4), ('w...', 4), ('luck', 4), ('chile', 4), (\"33'\", 4), ('here.', 4), ('interested', 4), ('sorry.', 4), ('hated', 4), ('suffer', 4), ('regarding', 4), ('harper', 4), ('genuine', 4), ('jump', 4), ('simulate', 4), (';accident', 4), ('med:', 4), ('trick', 4), ('utterly', 4), ('blames', 4), ('bjp', 4), ('challenge', 4), ('ny', 4), ('crane', 4), ('dtn', 4), ('terrorism.', 4), ('more?', 4), ('seasons', 4), ('[report', 4), ('okinawa', 4), ('10km', 4), ('gains', 4), ('mh370;', 4), ('cross-border', 4), ('terrorism:', 4), ('red-handed', 4), (';-;', 4), ('insurers', 4), ('clev:', 4), ('rubble?:', 4), (':3', 4), ('chill', 4), ('beating', 4), ('c-130', 4), ('modified', 4), ('blonde', 4), ('saves', 4), ('blk', 4), ('bigamist', 4), ('beforeitsnews', 4), ('poll:', 4), ('olympic', 4), ('crashes', 4), ('protest', 4), ('favorite:', 4), ('mexico', 4), ('b...', 4), ('atmosphere', 4), ('true.', 4), ('6th', 4), ('lungs', 4), ('godslove', 4), ('significant', 4), ('&lt;', 4), ('struggles', 4), ('th', 4), ('(temporary:300)', 4), (\"xp'\", 4), ('nyt', 4), ('curb', 3), ('holds', 3), ('files', 3), ('locked', 3), ('belonged', 3), ('95%', 3), ('off!', 3), ('\\x89ûïyou', 3), ('\\x89ûïwe', 3), ('mr', 3), ('midst', 3), ('safer', 3), (\"'my\", 3), ('??.', 3), ('day)', 3), ('tony', 3), ('war!', 3), ('ahh', 3), ('voter', 3), ('\\nwho', 3), ('laws', 3), ('thinks', 3), ('responded', 3), ('others.', 3), ('fandom', 3), ('blasts', 3), ('romance', 3), ('runaway', 3), ('quote', 3), ('hidden', 3), ('fucked', 3), (\"'mudslide'\", 3), ('tastes', 3), ('annihilated!', 3), ('messed', 3), ('variety', 3), ('product', 3), ('services.', 3), ('britney', 3), ('del', 3), ('bars', 3), ('yes.', 3), ('dropping', 3), ('reviews', 3), ('bite', 3), ('boundaries', 3), ('ye', 3), ('closure', 3), ('clip', 3), ('asks', 3), ('t\\x89û_', 3), ('console', 3), ('lessons', 3), ('mido', 3), ('ww1', 3), ('wwe', 3), ('criminal', 3), ('minds', 3), ('wreck?', 3), ('pre', 3), ('celebrities', 3), ('groups', 3), ('code', 3), ('servers', 3), ('deadliest', 3), ('advice', 3), ('sharply', 3), ('affect', 3), ('weather:', 3), ('royal', 3), ('j.', 3), ('collins', 3), ('02', 3), ('tower', 3), ('poured', 3), ('sink.', 3), ('duty:', 3), ('affecting', 3), ('tonight?', 3), ('stylish', 3), ('multi', 3), ('pattern', 3), ('printed', 3), ('shoulders', 3), ('buckle', 3), ('pockets', 3), ('herself.', 3), ('marin', 3), ('wolverine', 3), ('9:00', 3), ('fourth', 3), ('lay', 3), ('recovered', 3), ('wishing', 3), ('opposition', 3), ('elevated', 3), ('winter', 3), ('william', 3), ('shanghai', 3), ('columbia', 3), ('fires!', 3), ('lolol', 3), ('workout', 3), ('today?', 3), ('freezing', 3), ('odd', 3), ('scale', 3), ('transfer', 3), ('burning.', 3), ('tyler', 3), ('politicians', 3), ('treating', 3), ('me??', 3), ('scholars', 3), ('fires?', 3), ('smithsonian?', 3), ('sat', 3), ('sam', 3), ('tomislav', 3), ('salopek', 3), (\"state's\", 3), ('rap', 3), ('beads', 3), ('bracelet', 3), ('150', 3), ('benefits', 3), ('time?', 3), ('protests', 3), ('moms', 3), ('struggling', 3), ('balance', 3), ('manage', 3), ('piling', 3), ('placed', 3), ('finish', 3), ('eaten', 3), ('gg', 3), ('define', 3), ('alive.', 3), ('cheap', 3), ('collide.', 3), ('chosen', 3), ('edge', 3), ('aviation', 3), ('becoming', 3), ('!!', 3), ('destroying', 3), ('wears', 3), ('puncture', 3), ('swing', 3), ('scenes', 3), ('ripped', 3), ('penalty', 3), ('writers', 3), ('excited?', 3), ('regret', 3), ('heroine', 3), ('duck', 3), ('card', 3), ('learned', 3), ('supports', 3), ('do?', 3), ('dems', 3), ('covered', 3), ('detained', 3), ('day!', 3), ('warn', 3), ('province', 3), ('collision-unkn', 3), ('vs.', 3), ('wen', 3), ('advanced', 3), ('anymore.', 3), ('lance', 3), ('wed', 3), ('website', 3), ('stolen', 3), ('center.', 3), ('time...', 3), ('fte', 3), ('toronto', 3), ('happily', 3), ('apply:', 3), ('boise', 3), ('junk', 3), ('no...', 3), ('source', 3), ('plan!', 3), ('trials', 3), ('obsessed', 3), ('atom', 3), ('mandatory', 3), ('corp.', 3), ('moral', 3), ('rejects', 3), ('cali', 3), ('tops', 3), ('charts', 3), ('highest', 3), ('shooter', 3), ('casino', 3), ('work!', 3), ('hampshire', 3), ('denied', 3), ('performs', 3), ('golan', 3), ('jerusalem', 3), ('terrifying', 3), ('chunks', 3), ('molten', 3), ('sarah', 3), ('link:', 3), ('pressed', 3), ('grown', 3), ('legendary', 3), ('ponting', 3), ('vip', 3), ('details:', 3), ('here!', 3), ('entering', 3), ('waking', 3), ('college', 3), ('accept', 3), ('provided', 3), ('food.', 3), ('irish', 3), ('admin', 3), ('sun.', 3), ('mb', 3), ('tool', 3), ('jones', 3), ('patch', 3), ('more:', 3), ('h', 3), ('facing', 3), ('removing', 3), ('vet', 3), ('services:', 3), ('explode!', 3), ('survive.', 3), ('aunt', 3), ('bare', 3), ('utc', 3), ('alaska:', 3), ('00:11:16', 3), ('16:11:16', 3), ('service.', 3), ('baseball.', 3), ('promises', 3), ('a.m.', 3), ('friday.', 3), ('va.', 3), (\"'body\", 3), ('cabin', 3), ('bend', 3), ('indiana', 3), ('reopening', 3), ('legislation', 3), ('encounter', 3), ('hwy.', 3), ('[portland', 3), ('consequences', 3), ('custer', 3), ('dive', 3), ('unit', 3), ('unions', 3), ('library:', 3), ('alert:', 3), ('demon', 3), ('injured:', 3), ('scott', 3), ('uber', 3), ('that\\x89û_', 3), ('fires:', 3), (\"soudelor's\", 3), ('taiwan;', 3), ('nasa', 3), ('cross-body', 3), ('unreal', 3), ('client', 3), ('nearby', 3), ('films', 3), ('delta', 3), ('ambulances', 3), ('tampa', 3), ('childhood', 3), ('count', 3), ('brazil', 3), ('proceeds', 3), ('fm', 3), ('with.', 3), ('belongs', 3), ('swept', 3), ('sins', 3), ('militant', 3), ('faith', 3), ('march', 3), ('tumblr', 3), ('collective', 3), ('sr', 3), ('trusting', 3), ('mania', 3), ('canyon', 3), ('border', 3), ('greek', 3), ('ma...', 3), ('nowhere', 3), ('thin', 3), ('dept.', 3), ('decisions', 3), ('landscape', 3), ('wee', 3), ('cycling', 3), ('disappearance', 3), ('mi', 3), ('drag', 3), ('offices', 3), ('harda', 3), ('fixed', 3), ('franklin', 3), ('approaching', 3), ('april', 3), ('mitigation', 3), ('wolf', 3), ('enough.', 3), ('nw', 3), (\"tomorrow's\", 3), ('ryan', 3), ('commute', 3), ('push', 3), ('announcement', 3), ('properties', 3), ('florence', 3), ('avoided', 3), ('enjoyed', 3), ('visited', 3), ('hiroshima.', 3), ('ww2', 3), ('any1', 3), ('specific', 3), ('date:', 3), ('inevitable', 3), ('host', 3), ('electronic', 3), ('quiz!', 3), ('prefer:', 3), ('titan', 3), ('leaks', 3), ('random', 3), ('finding', 3), ('in\\x89û_', 3), ('heals', 3), ('stay.', 3), ('cries', 3), ('throwback', 3), ('citizen', 3), ('myanmar:', 3), ('tens', 3), ('realised', 3), ('proven', 3), ('hailstorm.', 3), ('potentially', 3), ('received', 3), ('imagined', 3), ('technical', 3), ('boston', 3), ('japan.', 3), ('trend', 3), ('jam', 3), ('unavoidable', 3), ('consequence', 3), ('tried.\\nhttp://t.co/bbdpnj8xsx', 3), ('life?', 3), ('doesn\\x89ûªt', 3), ('asap', 3), ('teeth', 3), ('flesh', 3), ('incredibly', 3), ('necessary', 3), ('roll', 3), ('tsunami.', 3), ('maj', 3), ('hunger', 3), ('us:', 3), ('production', 3), ('joining', 3), ('theyre', 3), ('occurs', 3), ('swarm', 3), ('laid', 3), ('raised', 3), ('simulation', 3), ('live.', 3), ('clouds', 3), ('costa', 3), ('madison', 3), ('fleeing', 3), ('episode.', 3), ('hinton', 3), ('everything.', 3), ('medicine', 3), ('mkx', 3), ('boeing', 3), ('supernatural', 3), ('indifference', 3), ('veterans', 3), ('whirlwind!', 3), ('shook', 3), ('alarms', 3), ('plumbing', 3), ('initial', 3), ('spread', 3), ('raining', 3), ('ate', 3), ('microsoft', 3), ('maintain', 3), ('sand', 3), ('welcome.', 3), ('chances', 3), ('outskirts', 3), ('prophet', 3), ('range', 3), ('delayed', 3), ('sin', 3), ('bioterrorism?', 3), ('designed', 3), ('murderous', 3), ('400', 3), ('at:', 3), ('fart', 3), ('mf', 3), ('summer.', 3), ('something.', 3), ('meaning', 3), ('averted', 3), ('plummeted', 3), ('links', 3), ('evacuations', 3), ('and\\x89û_', 3), ('titanic', 3), ('messages', 3), ('sheeran', 3), ('raw', 3), ('spray', 3), ('outta', 3), ('panic.', 3), ('julie', 3), ('fifth', 3), ('teaching', 3), ('buffer', 3), ('showed', 3), ('chase', 3), ('hope:', 3), ('mystery', 3), ('wash', 3), ('reputation', 3), ('hang', 3), ('chick', 3), ('returned', 3), ('charlotte', 3), ('bother', 3), ('muscle', 3), ('balloon', 3), ('kanye', 3), ('dorret', 3), ('gateau', 3), ('abandon', 3), ('kicks', 3), ('loan', 3), ('eggs', 3), ('organic', 3), ('sailors', 3), (\"time'\", 3), ('jeans', 3), ('pocket', 3), ('reality.', 3), ('jus', 3), ('thankful', 3), ('posting', 3), ('leadership', 3), ('deserves', 3), ('story.', 3), ('underway', 3), ('district', 3), ('not?', 3), ('comparison', 3), ('iranians', 3), (\"america'\", 3), ('blood.', 3), ('mc', 3), ('bankstown', 3), ('wattle', 3), ('swansea', 3), ('fund', 3), ('psychological', 3), (\"one's\", 3), ('in!', 3), ('starter', 3), ('torch', 3), ('knife', 3), ('earned', 3), ('chains', 3), ('billion', 3), (\"'our\", 3), ('canada:', 3), ('shakes', 3), ('courage', 3), ('horn', 3), ('vets', 3), ('ptsd', 3), ('eight', 3), (\"dorret's\", 3), ('striking', 3), ('strikers', 3), ('2...', 3), ('strict', 3), ('hype', 3), ('portion', 3), (\"calgary's\", 3), ('hit.', 3), ('yard', 3), ('bombed.', 3), ('i15', 3), ('county:', 3), ('briefing', 3), ('batters', 3), ('overnight', 3), ('auckland', 3), ('terrorist.', 3), ('stood', 3), ('satan', 3), ('stockton', 3), ('plenty', 3), ('squeeze', 3), ('lines', 3), ('empty', 3), ('sticks', 3), (\"mudslide'\", 3), ('stepped', 3), ('constant', 3), ('stats', 3), ('impending', 3), ('grounds', 3), ('driven', 3), ('square', 3), ('combo', 3), ('offroad', 3), ('fixing', 3), ('accidents', 3), ('spectacular', 3), ('collision-1141', 3), ('enrt**', 3), ('diet', 3), ('sonia', 3), ('already.', 3), ('backpack', 3), ('point.', 3), ('strangers', 3), ('coming:', 3), ('besides', 3), ('busting', 3), ('buildings:', 3), ('split', 3), ('monkey', 3), ('older', 3), ('exposure', 3), ('evansville', 3), ('maryland', 3), ('sharing', 3), ('refugee', 3), ('run.', 3), ('jennifer', 3), ('aniston', 3), ('married??????...', 3), ('cheat', 3), ('brady', 3), ('soon.', 3), ('band', 3), ('tide', 3), ('all!', 3), ('whatever', 3), ('detectors', 3), ('required', 3), ('alot', 3), ('gaining', 3), ('slosher', 3), ('freaking', 3), ('unsafe', 3), ('iris', 3), ('dolls', 3), ('cover)', 3), ('slayer', 3), ('shocking', 3), ('damaging', 3), ('closes', 3), ('sinjar', 3), ('foreign', 3), ('summit', 3), ('courts', 3), ('hatred', 3), ('enormous', 3), ('sons', 3), ('everyone.', 3), ('all...', 3), ('quartz', 3), ('georgia', 3), ('shane', 3), ('\\x89ûï#hannaph\\x89û\\x9d', 3), ('(soudelor)\\ntropical', 3), ('warning\\n\\nissued', 3), ('midwest', 3), ('penny', 3), ('sized', 3), ('ar', 3), ('10:30pm.', 3), ('threats', 3), ('alps', 3), ('resort', 3), ('widespread', 3), ('kiss', 3), ('urgent', 3), ('earlier.', 3), ('resumed', 3), ('delays.', 3), ('bail', 3), ('jail', 3), ('determine', 3), ('by\\x89û_', 3), ('landslide:', 3), ('surgery', 3), ('doctors', 3), ('beard', 3), ('grade', 3), ('foot', 3), ('2009', 3), ('by...', 3), ('creating', 3), (\"'up'\", 3), ('chairs', 3), ('seattle', 3), ('deepwater', 3), ('funds', 3), ('projects', 3), ('declaring', 3), ('contact', 3), ('sewing', 3), ('stranded', 3), ('francisco', 3), ('locker', 3), ('phone.', 3), ('circuit', 3), ('sort', 3), ('oral', 3), ('surely', 3), (\"'emergency\", 3), ('food:', 3), ('elite', 3), ('showcase', 3), ('declared', 3), ('at...', 3), ('leo', 3), ('mgm', 3), ('stalled', 3), ('mechanical', 3), ('impossible', 3), ('abbswinston:', 3), ('structure', 3), ('declined', 3), ('60%', 3), ('census', 3), ('shepherd', 3), ('gunshot', 3), ('author', 3), ('hiroshima:', 3), ('venezuela', 3), (\"jupiter's\", 3), ('imported', 3), ('dead!', 3), ('mcilroy', 3), ('bowling', 3), ('fun.', 3), ('closures', 3), ('10:00', 3), ('c...', 3), ('cum', 3), ('dem', 3), ('environmental', 3), ('tokyo', 3), ('arnhem', 3), ('clash:', 3), ('concept', 3), ('gear', 3), ('testing', 3), ('title', 3), ('en', 3), (\"california's\", 3), ('retweet', 3), ('artists', 3), ('katrina', 3), ('artwork', 3), ('sicily', 3), ('8th', 3), ('corey', 3), ('skies', 3), ('penn', 3), ('remaining', 3), ('civilians.', 3), ('reaches', 3), ('mumbai', 3), ('alert', 3), ('charity', 3), ('sends', 3), ('behalf', 3), ('rappers', 3), ('sampling', 3), ('strategy', 3), ('bike', 3), ('raise', 3), ('state.', 3), ('unawares', 3), ('tragedy;', 3), ('radioactive', 3), ('43', 3), ('metrics', 3), ('generally', 3), ('flaming', 3), (\"could've\", 3), ('punjab', 3), ('thurs', 3), ('8/6', 3), ('nears', 3), ('prince', 3), ('choking', 3), ('faces', 3), ('pray!', 3), ('assault', 3), ('feast', 3), ('schiphol', 3), ('surge', 3), ('ke', 3), ('coquitlam', 3), ('phones', 3), ('politifiact:', 3), (\"reid's\", 3), (\"'30\", 3), (\"served'\", 3), (\"'pants\", 3), ('teenagers', 3), ('vermont', 3), ('hatchet', 3), ('lock', 3), ('poland', 3), ('rider', 3), ('d...', 3), ('chip', 3), ('laughs', 3), ('mixed', 3), ('pizza', 3), ('pickup', 3), ('photoset:', 3), ('capture', 3), ('groom', 3), ('03', 3), ('forgotten', 3), ('warm', 3), ('jewelry', 3), ('attempting', 3), ('connector', 3), ('apple', 3), ('up-to-the-minute', 3), ('upheaval:', 3), ('permits', 3), ('hunting', 3), ('receive', 3), ('dudes', 3), ('non', 3), ('door.', 3), ('guide:', 3), ('1620', 3), ('long-term', 3), ('impressed', 3), ('coral', 3), ('papi', 3), ('bff', 3), ('barry', 3), (\"country's\", 3), ('restive', 3), ('naved', 3), ('yellow', 3), ('guilty', 3), ('hardly', 3), ('nurses', 3), ('services!', 3), (\"where's\", 3), ('oun', 3), ('[ok]', 3), ('tribal', 3), ('c', 3), ('street.', 3), ('oops:', 3), (\"chief's\", 3), ('home:', 3), ('surrounded', 3), ('county.', 3), ('dollars', 3), ('mfs', 3), ('break.', 3), ('2d', 3), ('applications', 3), ('crippling', 3), ('lane.', 3), ('dose', 3), ('monitor', 3), ('omega', 3), ('writer', 3), ('religion', 3), ('okanagan', 3), ('no!', 3), ('racing', 3), ('temperature', 3), ('gunfire:', 3), ('spam', 3), ('african', 3), ('disaster!', 3), ('mhtw4fnet\\n\\nofficials:', 3), ('drum', 3), ('marians', 3), ('asylum', 3), ('respected', 3), ('hills', 3), ('survey', 3), ('nuclear-deal:', 3), ('indo-japan', 3), ('pact', 3), ('reactor-based', 3), ('ntsb:', 3), ('nowplaying', 3), ('nigeria:', 3), ('figured', 3), ('playing:', 3), ('upcoming', 3), ('cooler', 3), ('incapable', 3), ('specialist', 3), ('care.', 3), ('cmon', 3), ('song.', 3), ('nonsense', 3), ('pledge', 3), ('wrong.', 3), ('shore', 3), ('nasty', 3), ('pun', 3), ('stupid.', 3), ('jacket', 3), ('medium', 3), ('nigeria', 3), ('digits', 3), ('won...', 3), ('up:', 3), ('rainfall', 3), ('features', 3), ('new!', 3), ('outbreak:', 3), ('diff', 3), (\"'reddit\", 3), (\"content'\", 3), (\"'people\", 3), ('blog:', 3), ('cam', 3), ('user', 3), ('counselor', 3), ('intern', 3), ('name:', 3), ('featuring', 3), ('combat', 3), ('pillow', 3), ('ireland', 3), ('dual', 3), ('extract', 3), ('experiences', 3), ('believing', 3), ('birds', 3), ('winston', 3), ('chattanooga', 3), ('lt', 3), ('west:', 3), ('grows:', 3), ('grabbers', 3), ('\\x89ûïhatchet', 3), ('control?\\x89û\\x9d', 3), ('teases', 3), ('flooding:', 3), ('shaped', 3), ('recorded', 3), ('w/o', 3), ('kidding', 3), ('sometimes.', 3), ('license', 3), ('packed', 3), ('instagram', 3), ('cladding', 3), ('grandma', 3), ('ear', 3), ('disgusting', 3), ('panicking.', 3), ('usual', 3), ('hurry', 3), ('at\\x89û_', 3), ('house.', 3), ('answers', 3), ('hating', 3), ('longest', 3), ('triple-digit', 3), ('recreates', 3), ('34', 3), ('anxious', 3), ('battery', 3), ('mr.', 3), ('2005', 3), ('mourning', 3), ('\\x89û÷politics', 3), ('grief\\x89ûª', 3), ('posters', 3), ('suv', 3), ('broadway:', 3), ('meat', 3), ('bluff', 3), ('af...', 3), ('rejected', 3), ('mike', 3), ('discusses', 3), ('acquisition', 3), ('intact', 3), ('algae', 3), ('1000', 3), ('2000', 3), ('cutting', 3), ('waist', 3), ('woman.', 3), ('travis', 3), ('deputy', 3), ('instant', 3), ('meg', 3), ('minaj', 3), ('fuels', 3), ('matt', 3), ('touching', 3), ('como', 3), ('thrones', 3), ('solar', 3), ('parade', 3), ('refused', 3), ('hoping', 3), ('buffalo', 3), ('passion', 3), ('gresham', 3), ('(29-07-2015)', 3), ('produced', 3), ('jan', 3), ('mansehra', 3), ('sponsor', 3), ('nnw', 3), ('lying', 3), ('upheaval.', 3), ('stayed', 3), ('attitude', 3), ('explain', 3), ('milkshake', 3), ('personally', 3), ('monogram', 3), ('that??', 3), ('britain', 3), ('luis', 3), ('lizard', 3), ('score', 3), (':s', 3), ('aussie', 3), ('sucks', 3), ('giants', 3), ('let\\x89ûªs', 3), ('stage.', 3), ('amen', 3), ('homeowners', 3), ('foster', 3), ('legionnaires', 3), ('adults', 3), ('inning', 3), ('ash', 3), ('cpanel', 3), ('agent', 3), ('steak', 3), ('estate', 3), ('finishing', 3), ('posts.', 3), ('pedestrian', 3), ('ronaldo', 3), ('dam', 3), ('tomorrow.', 3), ('1945.', 3), ('darkness', 3), ('michael.', 3), ('influence', 3), ('instantly', 3), ('treated', 3), ('artist', 3), ('jerry', 3), ('sacrifice', 3), ('fortunately', 3), ('wait.', 3), ('surges', 3), ('55', 3), ('millions.', 3), ('left.', 3), ('tie', 3), ('w/out', 3), ('blacks', 3), ('guessing', 3), ('pull', 3), ('testimony', 3), ('stressed', 3), ('more.', 3), ('duty', 3), ('friendship', 3), ('isil', 3), ('mate', 3), ('approach', 3), ('ferguson', 3), (\"iran's\", 3), ('safe.', 3), ('status', 3), ('forgiven', 3), ('inst', 3), ('apch.', 3), ('rwy', 3), ('05.', 3), ('oper', 3), ('2030', 3), ('z.', 3), ('taxiways', 3), ('navbl.', 3), ('tmp:', 3), ('wnd:', 3), ('fabric', 3), ('battle!', 3), ('welfare', 3), ('loop', 3), ('forth', 3), ('equal', 3), ('reward', 3), ('sail', 3), ('camps', 3), ('si', 3), ('naked', 3), ('dm', 3), ('notifications', 3), ('ford', 3), ('dorman', 3), ('acdelco', 3), (\"iger's\", 3), ('regardless', 3), ('apparent', 3), ('foul', 3), ('hostage.', 3), ('vest', 3), ('busy', 3), ('andy', 3), ('trillion', 3), ('crosses', 3), ('stays', 3), ('overwhelming', 3), ('acted', 3), ('automation', 3), ('idgaf', 3), ('cupcake', 3), ('injured.', 3), ('excuse', 3), ('section', 3), ('closing', 3), ('sorrows', 3), ('flashbacks', 3), ('favor', 3), ('re:', 3), ('abbott', 3), ('mall', 3), ('agree.', 3), ('fueling', 3), ('noticed', 3), ('receiving', 3), ('cole', 3), ('(gta', 3), ('oh!', 3), ('pc', 3), ('gameplay', 3), ('hack', 3), ('ps4', 3), ('tutorial', 3), ('makeup', 3), ('soldier', 3), ('paint', 3), ('halt', 3), ('lighting', 3), ('performing', 3), ('desperate', 3), ('confused', 3), ('fine.', 3), ('ruins', 3), ('dealing', 3), ('nike+', 3), ('sportwatch', 3), ('gps.', 3), ('parked', 3), ('basic', 3), ('hella', 3), ('chat', 3), ('solo', 3), ('stick', 3), ('turns', 3), ('cultural', 3), ('raging', 3), ('henry', 3), ('anthony', 3), ('reminder', 3), ('cyclists', 3), ('exploit', 3), ('describing', 3), ('studio', 3), ('jailed', 3), ('much.', 3), ('site:', 3), ('amazing!', 3), ('96', 3), ('agents', 3), ('historic', 3), ('prepares', 3), ('crimes', 3), ('(cont)', 3), ('hermancranston:', 3), ('mad.', 3), ('lifetime', 3), ('headline', 3), ('formed', 3), ('gusty', 3), ('melt', 3), ('eric', 3), ('adding', 3), ('bones', 3), ('pakistan.', 3), ('aw', 3), ('claimed', 3), ('regime', 3), ('soft', 3), ('hail!', 3), ('blessed', 3), ('guys.', 3), ('firearm', 3), ('bites', 3), ('safely', 3), ('evacuated.', 3), ('grace:', 3), ('capacity', 3), ('nu', 3), ('schedule', 3), ('tooth', 3), ('fallen', 3), ('circle', 3), ('nights', 3), ('edmonton', 3), ('fossil', 3), ('gates', 3), (']', 3), ('sniping', 3), ('accident?', 3), ('cart', 3), ('hundred', 3), ('walker', 3), ('delay', 3), ('brand', 3), ('166', 3), ('kaduna:', 3), ('www', 3), ('installation', 3), ('financing', 3), ('transporting', 3), ('little-death', 3), ('contemplating', 3), ('fatality!', 3), ('mourns', 3), (\"'superhero'\", 3), ('epilepsy', 3), ('plate', 3), ('tr...', 3), ('fairfax', 3), ('factors', 3), ('smile.', 3), ('luhan', 3), ('european', 3), ('deluge!', 3), ('tunnel', 3), ('bengal', 3), ('cm', 3), ('mamata', 3), ('banerjee', 3), ('dvc', 3), ('esteemed', 3), ('tragic', 3), ('enabled', 3), ('personnel', 3), ('mirage', 3), ('eh', 3), ('tied', 3), ('ee', 3), ('atm', 3), ('dundee', 3), ('col', 3), ('drums', 3), ('jamaica', 3), ('headphones', 3), ('draw', 3), ('meek.', 3), ('career.', 3), ('itunes', 3), ('esp.', 3), ('grandpa', 3), ('remind', 3), ('obliteration?', 3), ('also.', 3), ('nm', 3), ('operations', 3), (\"me'\", 3), ('averted:', 3), (\"'an\", 3), ('mutual', 3), ('cobra', 3), ('def', 3), ('23', 3), ('suit', 3), ('bears', 3), ('80', 3), ('dis', 3), ('roanoke', 3), ('verdict', 3), ('camouflage', 3), ('cue', 3), ('plague', 3), ('craving', 3), ('restricted', 3), ('pulls', 3), ('referring', 3), ('commoditiesåêare', 3), ('collision:', 3), ('shaker', 3), ('cleared:', 3), ('glorious', 3), ('out:', 3), (\"tasmania's\", 3), ('storms;', 3), ('8:00', 3), ('ally', 3), ('os', 3), ('otherwise', 3), ('11-year-old', 3), (\"runway':\", 3), (\"'first'\", 3), (\"'second'\", 3), ('78', 3), ('executives', 3), ('prosecuted', 3), ('pam', 3), ('bore', 3), ('rio', 3), ('unfolded', 3), ('10000', 3), ('average', 3), ('cared', 3), ('apart', 3), ('blah', 3), ('accuses', 3), ('meant', 3), ('sandy', 3), ('marine', 3), ('great.', 3), ('32', 3), ('games.', 3), ('for.', 3), ('blocks', 3), ('(i', 3), ('headlines', 3), ('locomotives', 3), ('magne-traction', 3), ('103', 3), ('watch.', 3), ('ok?', 3), ('core', 3), ('yes!', 3), ('pandemonium.', 3), ('allies', 3), ('fkn', 3), ('ty', 3), ('murder?', 3), (\"it'\", 3), ('explode...', 3), ('alright', 3), ('rice', 3), ('externally', 3), ('tweeting', 3), ('fallacy', 3), ('1200', 3), ('federal', 3), ('say.', 3), ('obliterated.', 3), ('happens.', 3), ('wht', 3), ('lol)', 3), (\"should've\", 3), ('xxx', 3), ('labour', 3), ('directly', 3), ('shot.', 3), ('hillary', 3), ('game?', 3), (\"'cause\", 3), ('both.', 3), ('produce', 3), ('bang.', 3), ('*screams*', 3), ('past:', 3), ('69', 3), ('bestnaijamade', 3), ('utc!', 3), ('148', 3), (\"'how\", 3), ('en\\x89û_', 2), ('reopens', 2), ('in?', 2), ('responder', 2), ('peer', 2), ('b.c.', 2), ('hostage:', 2), ('andrew', 2), ('dock', 2), ('\\x89û÷good', 2), ('samaritans\\x89ûª', 2), ('state\\x89û_', 2), ('horrors', 2), ('elm', 2), ('cold.', 2), ('paved', 2), ('hypocrisy', 2), ('voluntary', 2), ('recommended', 2), ('pickerel', 2), ('pancakes', 2), ('ja', 2), (\"'this\", 2), ('omg.', 2), ('forreal', 2), ('incase', 2), ('me:', 2), ('buck', 2), ('yakub', 2), ('rolls', 2), ('surrounding', 2), ('||', 2), ('apocalypse:', 2), ('encounters', 2), ('idol', 2), ('championship', 2), ('there...', 2), ('golem', 2), ('graveyard', 2), ('war.', 2), ('feat', 2), ('chuck', 2), ('zimbabwe', 2), ('line.', 2), ('peak', 2), ('malik', 2), ('jumped', 2), (\"u're\", 2), ('unlike', 2), ('reaction', 2), ('psa', 2), ('call.', 2), ('software', 2), ('donation', 2), ('attendance', 2), ('gmmbc', 2), ('saturday.', 2), ('darkest', 2), ('fairy', 2), ('tale', 2), ('appointment', 2), ('wounded.', 2), ('villa', 2), ('fast?', 2), ('gif', 2), ('spit', 2), ('baruch', 2), ('niggas.', 2), ('survive??', 2), ('rey', 2), ('happy.', 2), ('weekends.', 2), ('new\\x89û_', 2), ('bugs', 2), ('wide', 2), ('invited', 2), ('expo', 2), ('2015!', 2), ('14th', 2), ('equally', 2), ('compete', 2), ('content:', 2), ('ways!!!', 2), (\"'stretcher'?!\", 2), ('journalism:', 2), ('patients', 2), ('pet', 2), ('lamb', 2), ('(2014)', 2), ('ending', 2), ('2k15', 2), ('wtf?', 2), ('child?!', 2), ('campaign:', 2), ('news)', 2), ('avenue', 2), ('northbound', 2), ('wr', 2), ('wpri', 2), ('voting', 2), ('wow!!!', 2), ('language', 2), ('twain', 2), ('wasn\\x89ûªt', 2), ('rig', 2), ('sick.', 2), ('quick.', 2), (\"seattle's\", 2), ('intersections', 2), ('quit', 2), ('midget', 2), ('dl', 2), ('up?', 2), ('tlc', 2), ('soooo', 2), ('battleship', 2), ('warcraft:', 2), ('transformation', 2), ('humans', 2), ('faulty', 2), ('esports', 2), ('woodlawn', 2), ('golden', 2), ('geometric', 2), ('totes', 2), ('zippers', 2), ('casual', 2), ('??????????????????', 2), ('gps', 2), ('guides', 2), ('sfgate', 2), ('altamonte', 2), ('wo', 2), ('wnba:', 2), ('(espn)', 2), ('witnessed', 2), ('excitement', 2), ('worn', 2), ('witness', 2), ('disregard', 2), ('brooke', 2), ('rivalry', 2), ('petty', 2), ('device', 2), ('co-founder', 2), ('huffman', 2), ('sp...', 2), ('wipp', 2), ('witnesses', 2), ('wi', 2), ('oks', 2), ('come.', 2), ('hahahaha', 2), ('fiery', 2), ('embrace', 2), ('unprecedented', 2), ('burning?', 2), ('reminding', 2), ('collab', 2), ('children?', 2), ('lit', 2), ('\\n#hempoil', 2), ('chopped', 2), ('brick', 2), ('bible', 2), ('dire', 2), ('society.', 2), ('hahahah', 2), ('worrying', 2), ('distributed', 2), ('fun!', 2), ('them??', 2), ('huh', 2), ('/#news', 2), ('tornadoes', 2), ('floods.', 2), ('plaguing', 2), ('procedures', 2), ('knob', 2), ('devices', 2), ('bruise', 2), ('tone', 2), ('values', 2), ('strong.', 2), ('microphone', 2), ('ft', 2), ('pertains', 2), ('impressive.', 2), ('assad', 2), ('homes.', 2), ('when...', 2), ('whenever', 2), (\"5'\", 2), ('youre', 2), ('inspiration', 2), ('annoying', 2), ('pill', 2), ('likes', 2), (\"body's\", 2), (\"'go\", 2), ('gtfo', 2), ('grabbed', 2), ('dark.', 2), ('extension', 2), ('cord', 2), ('extends', 2), ('out..', 2), ('&lt;&lt;', 2), ('sauce', 2), ('pasta', 2), ('minutes.', 2), ('corner', 2), ('gf', 2), ('transgender', 2), ('ethiopian', 2), ('you...', 2), ('gulf', 2), ('ethics', 2), ('recorder', 2), ('this!', 2), ('jake', 2), ('(at', 2), ('crucial', 2), ('windstorm.', 2), ('houston', 2), ('......', 2), ('whelen', 2), ('model', 2), ('conversation', 2), ('value.', 2), ('helicopters', 2), ('teens', 2), ('bombing?', 2), ('storm?', 2), ('squirrel', 2), ('fist', 2), ('next.', 2), ('outside.', 2), ('caribbean', 2), ('vista', 2), ('diverse', 2), ('irony', 2), ('hometown', 2), ('back..', 2), ('kermit', 2), ('era', 2), ('him?', 2), ('facility', 2), ('wftv', 2), ('porn', 2), ('stole', 2), ('wfp', 2), ('i405', 2), ('crossing', 2), ('highway.', 2), ('csx', 2), ('unfortunately', 2), ('saturn', 2), ('sir.', 2), ('cousin', 2), ('justified', 2), ('me!', 2), ('applaud', 2), ('ipad', 2), (\"wednesday's\", 2), ('rb', 2), ('dunbar', 2), ('-&gt;', 2), ('txt', 2), ('showers', 2), ('php', 2), ('fathers', 2), ('thailand', 2), ('guard', 2), ('armory', 2), ('(.90', 2), ('tx', 2), ('peds', 2), ('ashton', 2), ('irwin', 2), (\"other's\", 2), ('idaho', 2), (\"man's\", 2), ('mock', 2), ('agencies', 2), ('walks', 2), ('paying', 2), ('term', 2), ('systems.', 2), ('innocents', 2), ('endorses', 2), ('awareness', 2), ('unprepared', 2), ('90%', 2), ('pushing', 2), ('school.', 2), ('caution', 2), ('pa', 2), ('atleast', 2), ('see.', 2), ('tha', 2), ('wce', 2), ('endurance', 2), ('watertown', 2), ('terms', 2), ('conservation', 2), ('urged', 2), ('traumatised!', 2), ('sucking', 2), (\"smaug'\", 2), ('swallowed', 2), ('homes:', 2), ('grilled', 2), ('minority', 2), ('ferguson:', 2), ('minded', 2), ('show!', 2), ('fool', 2), ('material', 2), ('pawsox', 2), ('durham', 2), ('thunder?', 2), ('everytime', 2), ('warning:', 2), ('earn', 2), ('scissors', 2), ('dedicated', 2), ('stereo', 2), ('mornings', 2), ('firey', 2), ('inferno', 2), ('smiles', 2), ('volunteers', 2), ('armageddon?', 2), ('rat', 2), ('examiner', 2), ('rioters', 2), ('torture', 2), (\"4'\", 2), ('vince', 2), ('mcmahon', 2), ('blake', 2), ('mindset', 2), ('blamed:', 2), ('slain', 2), ('jhaustin', 2), ('ames', 2), ('on\\x89û_', 2), (\"water'\", 2), ('home:\\nrescuers', 2), ('torching', 2), ('bk', 2), ('strictly', 2), ('prisoners', 2), ('persecution', 2), ('silenced', 2), ('iraqi', 2), ('it;', 2), ('mop', 2), ('proper', 2), ('versions', 2), ('ks', 2), ('reports.', 2), ('various', 2), ('vanessa', 2), ('alliance', 2), ('vampiro', 2), ('corruption', 2), ('m1.94', 2), ('1.2', 2), ('23km', 2), ('twentynine', 2), ('23:54:09', 2), ('ssw', 2), ('anza', 2), ('-07:0...', 2), ('sanctions.', 2), ('usa:', 2), ('chairman', 2), ('high-tech', 2), ('yemen', 2), ('sputnik', 2), ('turkey:', 2), ('note', 2), ('\\x89û÷extremely', 2), ('offensive\\x89ûª', 2), ('4:30', 2), ('centers', 2), ('transformed', 2), ('fd', 2), ('i-65', 2), ('lafayette', 2), ('requiring', 2), ('irvine', 2), ('b/c', 2), ('pulwama', 2), ('memories:', 2), ('partner', 2), ('securing', 2), ('pathogen', 2), ('unr', 2), ('0.75', 2), ('weston', 2), ('[wy]', 2), ('pennington', 2), ('7:15', 2), ('p\\x89û_', 2), ('disconnected', 2), ('favorites', 2), ('parker', 2), ('universal', 2), ('time)', 2), ('desolate:', 2), ('market.', 2), ('um', 2), ('sundays', 2), ('seasonfrom', 2), ('onshit', 2), ('monument', 2), ('washington:', 2), ('perished', 2), ('kiev', 2), ('hunters.', 2), ('food!', 2), ('nia', 2), ('quizzed;', 2), ('denies', 2), ('unity', 2), ('chills', 2), ('be?', 2), ('two-vehicle', 2), ('corners', 2), ('two-tone', 2), ('$15', 2), ('**', 2), ('india.', 2), ('rescuers.', 2), ('songs', 2), ('twill', 2), ('denim', 2), ('jackets', 2), ('***', 2), ('encore', 2), ('3)', 2), ('v...', 2), ('twelve', 2), ('uranium', 2), ('digging', 2), ('kurdish', 2), (\"'suicide\", 2), ('humanity.', 2), ('tunisia', 2), ('chaos:', 2), (\"runway'\", 2), ('blueprint', 2), ('indy', 2), ('airport.', 2), ('displaced?', 2), ('friend.', 2), ('dopey', 2), ('ones.', 2), ('democratic', 2), ('strength', 2), ('tomatoes', 2), ('lebanon', 2), ('trim', 2), ('?a', 2), ('nato', 2), ('determined', 2), ('wasnt', 2), ('sections', 2), ('pumper', 2), ('plastic', 2), ('lakes', 2), ('educated', 2), ('ns', 2), ('cbc.ca', 2), ('bee', 2), ('shoe', 2), ('queens', 2), ('lesbian', 2), ('pileup', 2), ('\\x89ûïmake', 2), ('turkmen', 2), ('vandalized', 2), ('surfers', 2), ('grains', 2), ('patna', 2), ('ministry', 2), ('interval', 2), ('needed.', 2), ('43rd', 2), ('enroute:', 2), ('florin', 2), ('elkhorn', 2), ('walerga', 2), ('sympathy', 2), ('good?', 2), ('nino', 2), (\"canada's\", 2), ('playoffs.', 2), (\"'couple\", 2), (\"took'em\", 2), ('install', 2), ('thankfully', 2), ('everybody', 2), ('interesting...', 2), ('ton', 2), ('trucks', 2), ('dressed', 2), ('light.', 2), ('evening.', 2), ('vods', 2), ('months.', 2), ('marriage', 2), ('bundle', 2), ('today\\x89ûªs', 2), ('todays', 2), ('creepy', 2), ('tb', 2), ('document', 2), ('november', 2), (\"'sanitised\", 2), (\"narrative'\", 2), (\"hiroshima's\", 2), (\"siren's\", 2), ('whomever', 2), ('set.', 2), ('perform', 2), ('shld', 2), ('tht', 2), ('teddy', 2), ('ouvindo', 2), ('(hd)', 2), ('100s', 2), ('taxi', 2), ('hotel!', 2), ('riot...', 2), ('arrived:', 2), ('gymnastics', 2), ('wider', 2), ('authentic', 2), ('customers', 2), ('classes', 2), ('appeal', 2), ('bananas', 2), (\"sky's\", 2), ('violent.', 2), ('pinpoint', 2), ('forecast.', 2), ('thursday:', 2), ('minneapolis', 2), ('\\n#tbt', 2), ('three-alarm', 2), ('n.h.', 2), ('suspects', 2), ('/r/worldnews', 2), ('arab', 2), ('beached', 2), ('kerry', 2), ('persistent', 2), ('attend', 2), ('techesback', 2), ('rifles', 2), ('replied', 2), ('reckless', 2), ('hmu', 2), ('dart', 2), ('intense', 2), ('scary.', 2), ('nova', 2), ('storm????', 2), ('setlist', 2), ('resulting', 2), ('poorly', 2), ('suppose', 2), ('attention.', 2), ('looney', 2), ('flowers', 2), ('just-married', 2), ('potatoes', 2), ('wonder.', 2), ('lara', 2), ('conversations', 2), ('intend', 2), ('hilarious!', 2), ('sweaty', 2), ('gr', 2), ('knocked', 2), ('2day', 2), ('vision', 2), ('serve', 2), ('democracy.', 2), ('rolo', 2), ('emergency...', 2), ('vault', 2), ('screening', 2), ('beautifully', 2), ('condos', 2), ('thief', 2), ('fled', 2), ('beings', 2), ('ant', 2), ('capital', 2), ('eh?', 2), ('hurricanes', 2), ('shedding', 2), ('permanently', 2), ('wise', 2), ('te', 2), ('assume', 2), ('fil', 2), ('a.', 2), ('alley', 2), ('evacuating', 2), ('confirmation', 2), ('tragedy.', 2), ('exploding', 2), ('reckon', 2), ('relive', 2), ('item', 2), ('screwed', 2), ('cairo', 2), ('cool.', 2), ('interesting.', 2), ('greater', 2), ('comfortable', 2), ('unto', 2), ('thereof', 2), ('tear', 2), ('origin', 2), ('list.', 2), ('meme', 2), ('preservation', 2), ('memes', 2), ('yankees', 2), ('revealed:', 2), ('contract', 2), ('sibling', 2), (\"nature's\", 2), ('zealand', 2), (\"'bloody\", 2), ('campbell', 2), ('only.', 2), ('me...', 2), ('daesh', 2), ('letters', 2), ('twins', 2), ('lewis', 2), ('holistic', 2), ('creativity.', 2), ('erupting', 2), ('label', 2), (\"7'\", 2), ('45', 2), ('bass', 2), ('prediction', 2), ('korean', 2), ('backs', 2), ('sign-up', 2), ('hardest', 2), ('unnecessary', 2), ('vortex', 2), ('focuses', 2), ('difficult', 2), ('niall', 2), ('argument', 2), ('carrier', 2), ('maru', 2), ('7k', 2), ('wannabe', 2), ('rich', 2), ('rand', 2), (\"west's\", 2), ('wages', 2), ('rcmp', 2), ('tch', 2), (\"'save\", 2), ('approval', 2), ('jazz', 2), ('ignore', 2), ('problem.', 2), ('rover', 2), (\"player's\", 2), ('claiming', 2), ('bombs.', 2), ('driverless', 2), ('suruc', 2), ('general.', 2), (\"year's\", 2), ('chp', 2), ('america\\x89ûªs', 2), ('earnest', 2), ('pletch\\x89ûªs', 2), ('cold-blooded', 2), ('everyone!', 2), ('raleigh', 2), ('21+', 2), ('aspect', 2), ('earth:', 2), ('feeds', 2), ('mixtape', 2), ('midnight', 2), ('erased', 2), ('vocal', 2), ('slept', 2), ('witnessing', 2), ('publicizing', 2), (\"city's\", 2), ('angels', 2), ('dannic', 2), ('misses', 2), ('signing', 2), ('household', 2), ('name!', 2), ('tacos', 2), ('revolt', 2), ('therefore', 2), ('entirely', 2), ('contribute', 2), ('1974', 2), ('hobbit', 2), ('decades', 2), ('highlight', 2), ('hatchet-wielding', 2), ('communication', 2), ('longs', 2), ('hoes', 2), ('careers', 2), ('jay', 2), ('explosion.', 2), ('moore', 2), ('newbie', 2), ('married', 2), ('heavenly', 2), ('spends', 2), ('reynolds', 2), ('hilarious.', 2), ('drifting', 2), ('period', 2), ('poplar', 2), ('tumbling', 2), (\"man'\", 2), ('reinstate', 2), ('coming.', 2), ('efak', 2), ('occupants', 2), ('hockey', 2), ('r.', 2), ('grief', 2), ('broadway', 2), ('position', 2), ('60000', 2), ('schedule.', 2), ('underwater', 2), ('depression', 2), ('seeds', 2), ('1998', 2), ('by!', 2), ('primarily', 2), ('indoors', 2), ('gum', 2), ('edm', 2), ('cafe', 2), ('hall', 2), ('bartender', 2), ('described', 2), ('shaping', 2), ('rude', 2), (\"world's\", 2), ('come...', 2), ('day...', 2), ('adventures', 2), ('mayhem.', 2), ('browsers', 2), ('46', 2), ('feature', 2), ('smug', 2), (\"people's\", 2), ('republic', 2), ('):', 2), ('right.', 2), ('freestyle', 2), ('iceland', 2), ('chilling', 2), ('roller', 2), ('coaster', 2), ('salty', 2), ('dryer', 2), ('dame', 2), ('matches', 2), ('disruptive', 2), ('.....', 2), ('soo', 2), ('fella', 2), ('hours!', 2), ('less.', 2), ('insurer:', 2), ('post;', 2), ('abia', 2), ('inec', 2), ('react', 2), ('defending', 2), ('cites', 2), ('overlooked', 2), ('medals', 2), ('knee.', 2), ('rt!', 2), ('bush:', 2), ('mitt.\\x89û\\x9d', 2), ('[video]', 2), ('bashes', 2), ('taylor', 2), ('chucker', 2), ('vote:', 2), ('protecting', 2), ('moved.', 2), ('fantastic.', 2), ('tahoe.', 2), ('phantom', 2), ('gasoline', 2), ('male', 2), ('be\\x89û_', 2), ('kosher', 2), ('sunk.', 2), ('sweater', 2), ('virgil', 2), ('presents', 2), ('norcal', 2), ('salvadoran', 2), ('danny', 2), ('laura', 2), ('remorse', 2), ('ghetto', 2), ('reunite', 2), ('survive!', 2), ('blanket', 2), ('suresh', 2), ('calamity;', 2), ('crusty', 2), ('recording', 2), ('sep', 2), ('info:', 2), ('bobcats', 2), ('backyards', 2), ('experiencing', 2), ('fo...', 2), ('detonates', 2), (\"mosque'\", 2), ('architecture', 2), ('activities', 2), ('permanent', 2), ('fatal.', 2), ('counts', 2), ('failure.', 2), ('studying', 2), ('therapies', 2), ('pine', 2), ('sides.', 2), ('aussies', 2), ('stu', 2), ('tyre', 2), ('strongly', 2), ('condemn', 2), ('karachi.', 2), ('job!', 2), ('liability', 2), ('whose', 2), ('sign.', 2), ('strengthening', 2), ('strawberries', 2), ('deluge:', 2), ('hilton', 2), ('pounding', 2), ('hurricane.', 2), ('deactivated', 2), ('traverse', 2), ('battered', 2), ('layers', 2), ('msg', 2), ('horses!!!', 2), ('mics', 2), ('incite', 2), ('1965', 2), ('covered.', 2), ('heels', 2), ('domestic', 2), ('61st', 2), ('calumet', 2), ('providing', 2), ('animals.', 2), ('fame', 2), ('survivors.', 2), ('carpet', 2), ('fundraiser', 2), ('travelling', 2), ('status:', 2), ('stretcher.', 2), ('droid', 2), ('org', 2), ('systems', 2), ('4x4', 2), ('mafia', 2), ('10:40pm', 2), ('...strong', 2), ('impact...', 2), ('portions', 2), ('falcon', 2), ('delay.', 2), ('crowns', 2), ('$17000', 2), ('mix)', 2), ('sooo', 2), ('rutherford', 2), ('quicker', 2), ('???????', 2), ('lyrics', 2), ('butterfinger', 2), ('pictured', 2), ('pierce', 2), ('veil', 2), (\"feelin'\", 2), ('poor.', 2), ('native', 2), ('zones', 2), ('skirt', 2), ('bernardino', 2), ('usage', 2), ('have\\x89û_', 2), ('finished', 2), ('flames:', 2), ('lightning-caused', 2), ('sr37', 2), ('capturing', 2), ('pity', 2), ('sudden', 2), ('destruction.', 2), ('layout', 2), ('thirsty', 2), ('leaked', 2), ('ifak', 2), ('125', 2), (\"somebody's\", 2), ('wilshere', 2), (\"\\n\\ni've\", 2), ('dothraki', 2), ('\\ni', 2), ('undo', 2), ('kai', 2), ('rant', 2), ('anyway.', 2), ('thighs', 2), ('drowned.', 2), ('backyard', 2), ('contain', 2), ('artificial', 2), ('ad', 2), ('sumn', 2), ('we...', 2), ('mhtw4fnet\\n\\ncrews', 2), ('cbs', 2), ('nsw', 2), ('smelling', 2), ('problems.', 2), ('weapons!', 2), ('sp', 2), ('postcards', 2), ('(goo', 2), ('goo', 2), ('reflects', 2), ('rockstar', 2), ('skinny', 2), ('skate', 2), ('compound', 2), ('palestinians', 2), ('hebron', 2), ('police..', 2), ('cement', 2), ('sinkhole!:', 2), ('service:', 2), ('percent.', 2), ('righteous', 2), ('beneath', 2), ('concussion', 2), ('silence.', 2), ('punishment', 2), ('cans', 2), ('shes', 2), ('cuffs', 2), ('reading\\n\\napocalypse', 2), ('21:1023', 2), ('\\n\\nin', 2), ('explosions', 2), ('grenades', 2), ('thrown', 2), ('psalms', 2), ('tbh', 2), ('needle', 2), (\"you'\", 2), ('like.', 2), ('stainless', 2), ('ricky', 2), ('dominant', 2), ('bans', 2), ('6\\nfor:', 2), ('pm...', 2), ('5:00', 2), ('06...', 2), ('mid-south', 2), ('08:00', 2), ('hail...', 2), ('winds.', 2), ('ski', 2), ('northeast', 2), ('logan', 2), ('goals.', 2), ('returning', 2), ('garfield', 2), ('power.', 2), ('attractive', 2), ('headquarters', 2), ('audience', 2), ('senators', 2), ('feinstein', 2), ('va', 2), ('risk:', 2), ('fahlo:#wcw', 2), ('queenåê??', 2), ('fbi', 2), ('loading', 2), ('released:', 2), ('harun', 2), ('ìàekdar', 2), ('cannon', 2), (\"\\nit's\", 2), ('demolition-dodging', 2), ('affordable', 2), ('funniest', 2), ('knockout', 2), ('regulatory', 2), ('languages', 2), ('reshape', 2), (\"mineral's\", 2), ('crystal', 2), ('(original', 2), ('bouta', 2), ('ignorant', 2), ('savings', 2), ('town:', 2), ('burton', 2), ('soaking', 2), ('elizabeth', 2), ('salmon', 2), ('reform', 2), ('antonio', 2), ('carted', 2), ('with...', 2), ('sammy', 2), ('todd', 2), ('uniform', 2), ('fam.', 2), ('children:', 2), ('salute', 2), ('nail', 2), ('nuclear-biological-chemical', 2), ('(nbc)', 2), (\"response'\", 2), ('fur', 2), ('soviet', 2), ('badge', 2), ('customs', 2), ('sanctioned', 2), (\"putin's\", 2), ('moscow', 2), ('dublin', 2), ('hospitals', 2), ('4pm', 2), ('minecraft-', 2), ('popularmmos:', 2), ('ca:', 2), ('liberty', 2), ('m\\x89û_', 2), ('saginaw', 2), ('rammed', 2), ('halfway', 2), ('advisory:', 2), ('edsa', 2), ('cubao', 2), ('7:53', 2), ('desolation.', 2), ('coyotes', 2), ('lizards', 2), ('korea.', 2), ('cnbc', 2), ('bob', 2), ('sheer', 2), ('exclusive:', 2), ('tire', 2), (\"thing'\", 2), ('glacier', 2), ('bicep.', 2), ('chest/torso', 2), ('documenting', 2), (\"change's\", 2), ('patterns', 2), ('\\nthe', 2), ('dances', 2), ('sweden', 2), (\"'@nasasolarsystem:\", 2), ('king:', 2), ('rss:', 2), ('illegally', 2), ('same-sex', 2), ('certificate', 2), ('rotator', 2), ('bacup', 2), (\"'strong'\", 2), ('rory', 2), ('toy', 2), ('ronda', 2), ('floyd', 2), ('elbow', 2), ('ron', 2), ('fez', 2), ('rhymes', 2), ('attic', 2), ('team!', 2), ('confederate', 2), ('moreland', 2), ('1.00', 2), ('wa...', 2), ('sr91', 2), ('complex:', 2), ('rivers', 2), ('rite', 2), ('fi', 2), ('helped', 2), ('8:16', 2), ('thuggin', 2), ('intervene', 2), ('vitesse', 2), ('supporters', 2), ('\\x89û¢', 2), ('buildup', 2), ('rightways:', 2), ('defects', 2), ('rick', 2), ('herald', 2), ('efforts.', 2), ('wmv', 2), ('reuters:', 2), ('retweeted', 2), ('retro', 2), ('bully', 2), ('tribute', 2), ('engineers', 2), ('wdsu', 2), ('37-year-old', 2), ('vulcan', 2), ('hits:', 2), ('overturned', 2), ('vehicle.', 2), ('kitchen', 2), ('$100', 2), ('rene', 2), ('mar', 2), ('gain', 2), ('fortune:', 2), ('linkury', 2), ('reminder:', 2), ('remembrance', 2), ('philippines.', 2), ('len', 2), ('beit', 2), ('cab', 2), ('goku', 2), ('\\nwhat', 2), ('occurrence', 2), ('workplace', 2), ('singled', 2), ('buzzfeed', 2), ('s\\x89û_', 2), ('times)', 2), ('hindu', 2), ('houze', 2), (\"'correlation'?\", 2), (\"'quarantine'\", 2), ('recap/', 2), ('attila', 2), ('oneself', 2), ('training:', 2), ('stories.', 2), ('ohio', 2), ('up...', 2), ('rec', 2), ('entity', 2), ('reaad/', 2), ('plsss', 2), ('raìœl', 2), ('condolence', 2), ('cuban', 2), ('possibility', 2), ('blossom', 2), ('photographs', 2), ('insight', 2), ('ablaze:', 2), ('gust', 2), (\"'demolish\", 2), ('em...', 2), ('state:', 2), ('[daily', 2), ('trust]', 2), ('railways', 2), ('railway', 2), ('calamity', 2), ('thi\\x89û_', 2), ('murders', 2), ('devastation:', 2), ('quoted', 2), ('pcps', 2), ('physicians', 2), ('billy', 2), ('gordon', 2), ('q:', 2), ('ducks', 2), ('feet?', 2), ('a:', 2), ('ducks.', 2), ('platform:', 2), ('alerts', 2), ('inquiry', 2), ('redeemeth', 2), ('servants:', 2), ('psa:', 2), ('painful', 2), ('hrs.', 2), ('ak)', 2), ('pandemonium...', 2), ('protesters', 2), ('(from', 2), ('property/casualty', 2), ('1%', 2), ('week-old', 2), ('fire\\x89û_', 2), ('marshall', 2), ('pens', 2), ('hayden', 2), ('precious', 2), ('recalled', 2), ('responders.', 2), ('pos', 2), ('._.', 2), ('(live)', 2), ('pope', 2), ('feminist', 2), ('dante', 2), ('womb', 2), ('call...', 2), ('women.', 2), ('fooled', 2), ('object', 2), ('violations', 2), ('evanston', 2), ('theater:', 2), ('dey', 2), ('dope', 2), ('monitoring', 2), ('e-bike', 2), ('kisii', 2), ('students...', 2), ('expand', 2), ('mud', 2), ('arts', 2), ('shooting:', 2), ('saver', 2), ('arizona.', 2), ('smartest', 2), ('ruin.', 2), ('kuwait', 2), ('spilled', 2), ('crude', 2), ('anymore...', 2), ('windy', 2), ('clicks', 2), ('hay', 2), (\"he'll\", 2), ('tools', 2), ('(x)', 2), ('battlefield.', 2), ('destructive', 2), ('ruebs', 2), ('endures', 2), ('4500-feet', 2), ('climb', 2), ('asshole', 2), ('sketch', 2), ('nostrils', 2), ('mothernaturenetwork:', 2), ('but...', 2), ('lavenderpoetrycafe:', 2), ('hysteria', 2), ('naval', 2), ('vessel', 2), ('copper', 2), ('princess', 2), ('8-pin', 2), ('2.1a', 2), ('5s', 2), ('5c', 2), ('6+', 2), ('killings', 2), ('whipped', 2), ('perspectives', 2), ('dead:', 2), ('petersburg', 2), (\"'historic'\", 2), ('applied', 2), ('there..', 2), ('shaw', 2), ('donå«t', 2), ('destroyed.', 2), ('buyout', 2), ('pendleton', 2), ('life-threatening', 2), ('pile', 2), ('knoxville', 2), ('rudd', 2), ('roberts', 2), ('patriot', 2), ('governments', 2), ('happens?', 2), ('outcomes', 2), ('pending', 2), ('pasco', 2), ('(parker', 2), ('parental', 2), ('offspring', 2), ('tests', 2), ('rams', 2), ('correspondent', 2), ('villagers', 2), ('ruling', 2), ('kasab', 2), ('pagasa', 2), ('low-lying', 2), ('landslides', 2), ('scheme:', 2), ('interstate', 2), ('destroy...', 2), ('poll', 2), ('fading', 2), ('chelsea', 2), ('mistakes', 2), ('bags:', 2), ('pediatric', 2), ('cancels', 2), ('lincoln', 2), ('painting', 2), ('witch', 2), ('developed', 2), ('vicinity', 2), ('4th', 2), ('oops!', 2), ('hijacking.', 2), ('ooh', 2), ('congrats', 2), ('vikings', 2), ('noble', 2), ('karma', 2), ('free:', 2), ('escaped', 2), ('2.', 2), ('homeland', 2), ('screenshot', 2), ('ferry', 2), ('knocking', 2), ('vessels.', 2), ('57', 2), ('sneak', 2), ('freeway', 2), ('audi', 2), ('hillside:', 2), ('pits', 2), ('bright', 2), ('betrayed', 2), ('southbound', 2), ('creek', 2), ('pkwy', 2), ('relax', 2), ('omgggg', 2), ('mostly', 2), ('nixon', 2), ('lives!', 2), ('m.', 2), ('hiding', 2), ('dungeons', 2), ('coworker', 2), ('omfg', 2), ('johnny', 2), ('explores', 2), (\"'epic\", 2), ('rayner', 2), (\"story'\", 2), (\"ol'head\", 2), ('hopped', 2), ('meowing', 2), ('applies', 2), ('poem', 2), ('rating', 2), ('question:', 2), ('dignity', 2), ('drivers', 2), ('ohh', 2), ('ipod', 2), ('usual.', 2), (\"how's\", 2), ('going?', 2), ('waffle', 2), ('circa', 2), ('melting', 2), ('esp', 2), ('disappointed', 2), ('engage', 2), ('allegedly', 2), ('367', 2), ('skipping', 2), ('bummer.', 2), ('ofa', 2), ('2.9', 2), ('least.', 2), ('oem', 2), ('switch', 2), ('optic', 2), ('nerve', 2), ('territory', 2), ('commonwealth', 2), ('prefer', 2), ('wednesday.', 2), ('type.', 2), ('oklahoma-ok', 2), ('updates:', 2), ('shield', 2), ('projects:', 2), ('scorpions', 2), ('glasses', 2), ('edit', 2), ('kodak', 2), ('expensive', 2), ('broadcasting', 2), (\"80's\", 2), ('vent', 2), ('either.', 2), ('opener', 2), ('perfectly', 2), ('tip', 2), ('btwn', 2), ('settle', 2), ('responsible.', 2), ('joke', 2), ('citation', 2), ('billings', 2), ('bts', 2), ('together.', 2), ('survive?!', 2), ('nike', 2), ('insomnia', 2), ('selling', 2), ('nick', 2), ('nhs', 2), ('announces', 2), ('stock:', 2), ('nfl', 2), ('caring', 2), ('tinder', 2), ('\\n\\nwhat', 2), (\"'islamic\", 2), ('cleric', 2), ('neighbors', 2), ('marijuana', 2), ('decent', 2), ('mullah', 2), (\"omar's\", 2), ('glimpses:', 2), ('hyderabad', 2), ('banquet', 2), ('newberg', 2), ('jacque', 2), ('betz', 2), (\"'looking\", 2), (\"day'\", 2), ('new:', 2), ('speed', 2), ('diesel', 2), ('punished', 2), ('york.', 2), ('breakfast', 2), ('nations', 2), (\"1'\", 2), ('milwaukee', 2), ('hardy', 2), ('inspection', 2), ('frontlines', 2), ('available', 2), ('pamela', 2), ('texans', 2), ('challenges', 2), ('sales', 2), ('pop!', 2), ('magnum', 2), ('pillows', 2), ('l.a.', 2), ('(giant', 2), ('info/order', 2), ('sms:087809233445', 2), ('mayhem:', 2), ('trinity', 2), ('spreads', 2), ('presence', 2), ('diablo', 2), ('honey', 2), ('camo', 2), ('outlet', 2), ('emergency-response', 2), ('leaf', 2), ('humid', 2), ('flared', 2), ('oli', 2), ('on:', 2), ('neighbor', 2), ('jams', 2), ('server', 2), ('cte', 2), ('reports:', 2), ('nazi', 2), ('formation', 2), ('nankana', 2), ('fantastic', 2), ('type:', 2), ('nairobi', 2), ('dead..', 2), ('msf', 2), ('assisting', 2), ('aust', 2), ('holidays', 2), ('closet', 2), ('3x', 2), ('niece', 2), ('mashup', 2), ('mic', 2), ('girl.', 2), ('mariah', 2), ('&amp;...', 2), ('featured', 2), ('favs', 2), ('volunteer', 2), ('again...', 2), ('gimme', 2), ('goal.', 2), ('field.', 2), ('beast', 2), ('skull.', 2), ('myself.', 2), ('bestfriends', 2), ('avi', 2), ('video.', 2), ('africans', 2), ('injustice', 2), (\"'avalanche'\", 2), ('lockdown', 2), ('illinois', 2), ('hand:', 2), ('ttes', 2), ('helpline', 2), ('bluetooth', 2), ('hospitalized', 2), ('stepping', 2), ('enforcement', 2), ('insult', 2), ('\\x89û÷it\\x89ûªs', 2), ('israel:', 2), ('shira', 2), ('motors', 2), ('manual', 2), ('transmission', 2), ('brake', 2), ('10x', 2), ('27w', 2), ('tractor', 2), ('utv', 2), ('strikes', 2), ('train?', 2), ('check.', 2), ('sterling', 2), ('p', 2), ('ch', 2), ('gem', 2), ('bu', 2), ('are\\x89û_', 2), ('pot', 2), ('monkeys', 2), ('abused', 2), (\"'why\", 2), ('targeted', 2), ('moderate', 2), ('spreading', 2), ('ml', 2), ('autumn', 2), ('brighton', 2), ('(cover', 2), ('udhampur;', 2), (\"'overpowered'\", 2), ('greed', 2), ('micom', 2), ('contrast', 2), ('po', 2), ('odds', 2), ('furious', 2), ('ocampo', 2), ('mx', 2), ('call:', 2), ('six-car', 2), ('display', 2), ('(up', 2), ('aggressive', 2), ('note:', 2), ('snuff', 2), ('real..??', 2), ('mens', 2), ('canvas', 2), (\"men's\", 2), ('t-shirt', 2), ('sept.', 2), ('sheriff', 2), ('hamilton', 2), ('wth', 2), ('symphony', 2), ('keen', 2), ('haha!', 2), ('snd', 2), ('suicide-bombing', 2), ('ovo', 2), ('fest', 2), ('begging', 2), ('(hardy', 2), ('boys:', 2), ('dixon', 2), ('earnings', 2), ('stocks', 2), (\"'rapidly\", 2), (\"lethal'\", 2), ('texting', 2), ('meets', 2), (\"she'll\", 2), ('clay', 2), ('mustang', 2), ('emerges', 2), ('che', 2), ('rescue.', 2), ('manipur', 2), ('incessant', 2), ('marquei', 2), ('visto', 2), ('kissed', 2), ('marlon', 2), ('winner', 2), ('raiders', 2), ('map:', 2), ('juice', 2), ('belly', 2), ('man!', 2), ('hoffman', 2), ('musicians', 2), ('hears', 2), (\"'bang'\", 2), ('demi', 2), ('talkin', 2), ('najib', 2), ('disappeared', 2), ('18-wheeler', 2), ('muzzamil', 2), ('offr', 2), ('mi-17', 2), ('maid', 2), ('tremor', 2), ('swayback', 2), ('8%', 2), ('diaporama', 2), ('sixpenceee:', 2), ('located', 2), ('volcanoåêinåêrussia.', 2), ('epicenter...', 2), ('ep...', 2), ('-08:00', 2), ('1.4', 2), ('4km', 2), ('interlaken', 2), ('00:52:25', 2), ('17:52:25', 2), ('-07:00', 2), ('01:50:25', 2), ('security.', 2), ('examples', 2), ('made.', 2), ('sleep.', 2), ('ghost', 2), ('cage', 2), (\"snowstorm'\", 2), ('effective', 2), ('self-esteem', 2), ('think?', 2), ('apt', 2), ('balcony', 2), ('edition', 2), ('ahead.', 2), ('on?', 2), ('species.', 2), ('vacant', 2), ('bn', 2), (\"??????''\", 2), ('control.', 2), ('unrelenting', 2), ('dallas', 2), ('leftover', 2), ('seal', 2), ('1665', 2), ('artillery', 2), (\"guy's\", 2), ('fucked.', 2), ('pole', 2), ('coursing*', 2), (\"'@weyrey_gidi:\", 2), ('maria..', 2), ('shred', 2), ('loans', 2), ('llf', 2), ('life!', 2), ('mello', 2), ('detonation.', 2), ('sexy', 2), (\"else's\", 2), ('happiness', 2), ('originally', 2), ('distance', 2), ('thine', 2), ('veterans.', 2), ('vital', 2), ('camp.', 2), ('cursed', 2), ('bay.', 2), ('edward', 2), ('icymi', 2), ('legio...', 2), ('playoffs', 2), ('tories', 2), ('wh...', 2), ('yorker', 2), ('gained', 2), ('welcomes', 2), ('venice', 2), ('fallout', 2), ('biolab', 2), ('select', 2), ('lately', 2), ('stretcher!', 2), ('mcdonalds', 2), ('prone.', 2), ('wrong?', 2), ('outbid', 2), ('fa', 2), ('nan', 2), ('ball!', 2), ('appreciated', 2), ('ornament', 2), ('drops', 2), ('logo', 2), ('jersey', 2), ('retail', 2), ('bad.', 2), ('alone.', 2), ('pp', 2), ('ds', 2), ('thriller', 2), ('tan', 2), ('vida', 2), ('kendall', 2), ('jenner', 2), ('never-ending', 2), ('extender', 2), ('acres:', 2), ('loudest', 2), ('this??', 2), ('electrocuted.', 2), ('hahah', 2), ('jury', 2), ('oaks', 2), ('bills', 2), ('ruby', 2), ('tidal', 2), ('snowball', 2), ('spinning', 2), ('guest', 2), ('earth.', 2), ('julian', 2), (\"murderer's\", 2), ('challenged', 2), ('5%', 2), ('shade', 2), ('mars', 2), ('gel', 2), ('jkl', 2), ('water...', 2), ('flights', 2), ('raung', 2), ('sally', 2), ('raped', 2), ('cherokee', 2), ('file', 2), ('chrysler', 2), ('hackers', 2), ('jays', 2), ('jax', 2), ('raising', 2), ('bombing:', 2), ('tolled', 2), ('estimates', 2), ('1999', 2), ('58', 2), ('fl...', 2), ('party.', 2), ('colder', 2), ('dye', 2), ('italy:', 2), ('downstairs', 2), ('candle', 2), ('dickheads', 2), ('stage-two', 2), ('eerie', 2), ('subway', 2), ('awkward', 2), ('bets', 2), ('wave.', 2), ('scares', 2), ('enemity', 2), ('israel.', 2), ('ac', 2), ('nothin', 2), ('unable', 2), ('completed', 2), ('ironic', 2), ('acquire', 2), ('jesus.', 2), ('australia\\x89ûªs', 2), ('latin', 2), ('300000', 2), ('now?', 2), ('asteroid', 2), ('explode?', 2), ('riyadh', 2), ('inc.', 2), ('complaints', 2), ('subtle', 2), ('request', 2), ('hr', 2), ('firms', 2), ('milk', 2), ('morn', 2), ('interlocking', 2), ('ink', 2), ('veld', 2), ('u.', 2), ('cld:', 2), ('030/6.', 2), ('dial', 2), ('wrist', 2), ('nylon', 2), ('cash', 2), ('clueless', 2), ('indiscriminate', 2), ('oth', 2), ('river-siskiyou', 2), ('area\\x89û_', 2), ('injury:i-495', 2), ('97/georgia', 2), ('puppies', 2), ('nats', 2), ('ina', 2), ('evacuation.', 2), ('fragile', 2), ('alternatives', 2), (\"'fire\", 2), ('wooden', 2), ('beam', 2), ('develop', 2), ('rails.', 2), ('memory', 2), ('(with', 2), ('tornados', 2), ('earthquakes', 2), ('economies', 2), ('bago', 2), ('-...', 2), ('kurt', 2), ('taught', 2), ('placing', 2), (\"lives'\", 2), ('??????????????', 2), ('slipped', 2), ('alien', 2), ('ik', 2), ('troll', 2), ('bmw', 2), ('sensor-knock', 2), ('delphi', 2), ('motorcraft', 2), ('sen.', 2), ('mass-murderer', 2), ('improve', 2), (\"'violent'\", 2), ('breath', 2), ('drowning.', 2), ('...i', 2), ('xoxo', 2), ('goats', 2), ('dislike', 2), ('bag?', 2), ('encouragement', 2), ('choices', 2), ('and/or', 2), ('schwarber', 2), ('locke', 2), ('smart', 2), ('metlife', 2), ('abortion', 2), ('hana', 2), ('[maui', 2), ('hi]', 2), ('cheer', 2), ('diva', 2), ('reacted', 2), ('certified', 2), ('1m', 2), ('test:', 2), ('eastbound', 2), ('mooresville', 2), ('iredell', 2), ('1:18', 2), ('expected.', 2), ('theological', 2), ('silence', 2), ('master', 2), ('spell', 2), ('properly!', 2), ('typos!', 2), ('1d', 2), ('dried', 2), (\"week's\", 2), ('cheated', 2), ('fee', 2), ('body-bagging', 2), ('mentally', 2), ('liable', 2), ('person.', 2), ('heartbroken', 2), ('tea.', 2), ('havin', 2), ('der', 2), ('countless', 2), ('chilis', 2), ('back??', 2), ('spirits', 2), ('paints', 2), ('fools.', 2), ('area...', 2), ('income', 2), ('jr.', 2), ('gloria', 2), ('police.', 2), ('earbuds', 2), ('peacefully', 2), ('dreaming', 2), ('scare', 2), ('gary', 2), ('entrances', 2), ('around.', 2), ('afford', 2), ('tattoo', 2), ('healthy', 2), ('match.', 2), (\"over'\", 2), ('bud', 2), ('pants', 2), ('sequel', 2), ('sport.', 2), ('piss', 2), ('burned.', 2), ('slammed', 2), ('glue', 2), ('rapping', 2), ('s2g', 2), ('reject', 2), ('brownie', 2), ('movie.', 2), ('rated', 2), ('city.', 2), ('delete', 2), ('please!', 2), (\"must've\", 2), ('anyways', 2), ('(home', 2), ('made)', 2), ('fruits', 2), ('s.o.s.', 2), ('pony', 2), ('buildings)', 2), ('marvel', 2), ('(2014', 2), ('drive)', 2), ('damage!', 2), ('collide!', 2), ('recap', 2), ('sony', 2), ('s@x', 2), ('109', 2), ('sws', 2), ('(captain', 2), ('falcon)', 2), ('alpha', 2), ('gameplay!', 2), ('moments)', 2), ('destiny', 2), ('futuristic', 2), ('(built', 2), ('apocalypse!)', 2), ('dukes', 2), ('undercover', 2), ('ghosts', 2), ('tsunami!', 2), ('dakota', 2), ('zombies', 2), ('fold', 2), (\"place'\", 2), ('donnie', 2), ('haha.', 2), ('notes', 2), ('exhausted', 2), ('often.', 2), ('toe', 2), ('theme', 2), ('cpr', 2), ('stressful', 2), ('follower', 2), ('swooping', 2), ('breathing', 2), ('grills', 2), ('uploading', 2), ('mayhem...', 2), ('part.', 2), (\"'crash\", 2), ('stroke', 2), ('kiddie', 2), ('pete', 2), ('tides', 2), ('bus.', 2), ('goddamn', 2), ('bcuz', 2), ('chose', 2), ('smith', 2), ('demons', 2), ('charger.', 2), ('trade.', 2), ('robot-lvl', 2), ('satoshis!', 2), ('16000', 2), (\"'well\", 2), ('capable', 2), ('appropriation', 2), ('tanks', 2), ('assistant', 2), ('hug', 2), ('volcanoes', 2), ('lloyd', 2), ('nervous', 2), ('87', 2), ('crest', 2), ('(past', 2), ('pirate', 2), ('function', 2), ('commuters', 2), ('beginners', 2), ('kimery', 2), (\"channel's\", 2), (\"'joe\", 2), ('rogan', 2), (\"everything'\", 2), ('softenza', 2), ('burned:', 2), ('12.', 2), ('careless', 2), ('happen?', 2), ('conservative', 2), ('dixie', 2), ('post-battle', 2), ('angel!!', 2), ('technologies', 2), ('commerce', 2), ('labs', 2), ('airplaneåê(29-07-2015)', 2), (\"salvi's\", 2), ('bistro', 2), ('loan:', 2), ('hard.', 2), (\"lou's\", 2), ('santiago', 2), ('b\\x89û_', 2), ('hitchbot', 2), ('america.', 2), ('lesson', 2), ('1976', 2), ('emperor', 2), ('cr', 2), ('archive', 2), ('2014.', 2), ('dealings', 2), ('patrol', 2), ('possible.', 2), ('rained.', 2), ('two:', 2), ('lauren', 2), ('enjoy!', 2), ('sprint', 2), ('toss', 2), ('canadian', 2), ('themed', 2), ('timing', 2), ('loyalty', 2), ('50.', 2), ('hah', 2), ('exp...', 2), ('today!', 2), ('nostalgia', 2), ('corn', 2), ('amp', 2), ('hellfire!', 2), ('desires', 2), ('humidity', 2), ('wb', 2), ('9000', 2), ('increasing', 2), ('smoke?', 2), ('75%', 2), ('shells', 2), ('bitchy', 2), ('perla', 2), ('burger', 2), ('justifying', 2), ('robbed', 2), ('admit', 2), ('condition', 2), ('cracks', 2), ('god?', 2), ('scream', 2), (\"kids'\", 2), ('be.', 2), ('woods', 2), ('ronnie', 2), ('albertans', 2), ('development', 2), ('twister!!!', 2), ('for\\x89û_', 2), ('ems', 2), ('blasting', 2), ('kno', 2), (\"'hiroshima\", 2), (\"survive'\", 2), ('lu', 2), ('slam', 2), ('knocks', 2), ('20k', 2), ('lasting', 2), ('pokemon', 2), ('grace', 2), ('thou', 2), ('thy...', 2), ('visiting', 2), ('ablaze.', 2), ('gettin', 2), ('summer?', 2), ('creates', 2), ('rotten', 2), ('republic!', 2), ('gunmen', 2), ('salvador', 2), ('rifle', 2), ('guaranteed', 2), ('mosquito', 2), ('cunts', 2), ('play.', 2), ('greedy', 2), ('continues:', 2), (\"off's\", 2), ('granted', 2), (\"storm'\", 2), ('goulburn', 2), ('splash', 2), ('spill.', 2), ('mlb', 2), ('winning', 2), ('killer.', 2), (\"life's\", 2), ('acoustic', 2), ('storm!', 2), ('adam', 2), ('continue.', 2), ('lemon', 2), ('nails', 2), ('forbid', 2), ('dystopian', 2), ('precipitation', 2), ('measurement', 2), ('3-d', 2), ('4.5%', 2), ('waters', 2), ('defeat', 2), ('individuals', 2), ('professional', 2), ('extensive', 2), ('box.', 2), ('njenga', 2), ('razing', 2), ('waterways', 2), ('leak', 2), ('gaelite', 2), ('[top', 2), ('out]', 2), ('balls]', 2), ('strikes]', 2), ('[p:', 2), ('orchard]', 2), ('[b:', 2), ('iconic', 2), ('fyi', 2), ('cad:fyi:', 2), ('piner', 2), ('rd/horndale', 2), ('lifestyle', 2), ('funtenna:', 2), ('[black', 2), ('2015]', 2), ('hobby', 2), ('lobby', 2), ('garage', 2), ('thyroid', 2), ('have.', 2), ('wtf.', 2), ('neil', 2), ('continually', 2), ('existence.', 2), ('holed', 2), (\"'#tory\", 2), (\"landslide'\", 2), ('wafer-thin', 2), ('chevrolet', 2), ('sure.', 2), ('purchased', 2), ('1986', 2), ('fotoset:', 2), ('december', 2), ('forsure', 2), ('gym', 2), ('philippines:', 2), ('langley', 2), ('heroin', 2), ('tornado!', 2), ('matching', 2), ('factor', 2), ('impacted', 2), ('overtime', 2), ('premium', 2), ('family.', 2), ('acute', 2), ('follow-up', 2), ('[gresham', 2), ('fatality:', 2), ('kitten', 2), ('sunshine', 2), ('displace', 2), ('visits', 2), ('urban', 2), ('striker', 2), ('visible', 2), ('worse.', 2), ('stearns', 2), ('terri', 2), ('firefighting', 2), ('consumes', 2), ('phase', 2), ('3.', 2), ('shuts', 2), ('pisgah', 2), ('375', 2), ('non-compliant', 2), ('secured', 2), ('ministers:', 2), ('fennovoima', 2), ('finna', 2), ('hurting', 2), ('haiyan', 2), ('sumo', 2), ('(nyse:', 2), ('fdx)', 2), ('packages', 2), ('chronicle', 2), ('fever', 2), ('none.', 2), ('tore', 2), ('facebook.', 2), ('attraction', 2), ('epilepsy:', 2), ('bradley', 2), ('diebold', 2), ('g:link', 2), ('tram:', 2), ('mma:', 2), ('noted', 2), ('re...', 2), ('mhtw4fnet\\n\\npakistan', 2), ('wedn...', 2), ('mets', 2), ('bash', 2), ('coincide', 2), ('ev', 2), ('euro', 2), ('optimistic', 2), ('eu', 2), ('eurotunnel', 2), (\"'thousands\", 2), ('funds:', 2), ('unaddressed', 2), ('cilla', 2), ('escaping', 2), ('trail', 2), ('gambit:', 2), ('suruì€', 2), ('preview', 2), ('episcopal', 2), ('touched', 2), ('reminded', 2), ('limits', 2), ('hardcore', 2), ('girl:', 2), ('shutdown', 2), ('hammondville.', 2), ('management:', 2), ('elsa', 2), ('element', 2), ('eish', 2), ('hello!', 2), ('threaten', 2), (\"'star\", 2), ('chargers', 2), ('establishment', 2), ('snipe', 2), ('lego', 2), ('puerto', 2), ('carl', 2), ('chapter', 2), ('meltdown!', 2), ('dysfunctional', 2), ('costly', 2), ('demolishes', 2), ('houses:', 2), ('hoisting...', 2), (\"'shell\", 2), ('veteran', 2), (\"buildings!'\", 2), ('(event', 2), ('i580', 2), ('brazil:', 2), ('liverpool', 2), ('meals', 2), ('101:', 2), ('dumped', 2), ('was...', 2), ('ok!', 2), ('fairly', 2), ('pedestrians', 2), ('drew', 2), ('demolition:', 2), ('beef', 2), ('uncertain', 2), ('sens', 2), ('maker', 2), (\"birmingham's\", 2), ('answer.', 2), ('assholes', 2), ('giveaway', 2), ('sewer', 2), ('thing:', 2), ('unhappiness?', 2), ('earth?', 2), ('ignoring', 2), ('dlh', 2), ('auctions', 2), ('stunned', 2), (\"'hoax\", 2), (\"device'\", 2), ('week?', 2), ('isnt', 2), ('quotes', 2), ('belt', 2), ('realistic', 2), ('couples', 2), ('grandeur', 2), ('m3.8', 2), ('miyagi', 2), (\"magic's\", 2), ('descriptions', 2), ('back;', 2), ('deputies:', 2), ('deputies', 2), ('denali', 2), ('ha...', 2), ('stans', 2), ('sold', 2), ('5/6', 2), ('wheel', 2), ('pivot', 2), ('value:', 2), ('loretta', 2), ('certainty', 2), ('arabia:', 2), ('tryouts', 2), ('ortiz', 2), ('maketh', 2), ('$gmcr', 2), ('done:', 2), ('skye', 2), ('pounded', 2), ('dvd', 2), ('doc', 2), ('greenway', 2), ('$300000', 2), ('payment', 2), ('wrestling', 2), ('down:', 2), ('nude', 2), ('wiped', 2), ('honest', 2), ('norman', 2), ('celebrations', 2), ('irons', 2), ('contruction', 2), ('upgrading', 2), ('ferries', 2), ('standards', 2), ('vashon', 2), ('shuffled', 2), ('chest.', 2), ('confession', 2), ('paris', 2), ('68', 2), ('rescues', 2), ('removal', 2), ('novel', 2), ('tryout:', 2), ('jurors', 2), ('^ag', 2), ('hung', 2), ('art!', 2), ('oc', 2), ('shared', 2), ('aint', 2), ('unaware', 2), ('indeed.', 2), ('n/b', 2), ('command', 2), ('bull', 2), ('library', 2), ('refugees:', 2), ('exhibition', 2), ('fail!', 2), (\"catastrophe'\", 2), ('cartoon', 2), ('lollapalooza', 2), ('5.3', 2), ('chernobyl', 2), ('filed', 2), ('36', 2), ('filmed', 2), ('handling', 2), ('health.', 2), ('gbbo', 2), ('team:', 2), ('u.n.', 2), ('carolina', 2), ('captain', 2), ('(by', 2), ('snacks.', 2), ('canceling', 2), ('show.', 2), (\"canberra's\", 2), ('grande', 2), ('wireless', 2), ('dub', 2), ('\\nno', 2), ('slicker', 2), ('trained', 2), ('scariest', 2), ('rent', 2), ('eastward', 2), ('yellowstone', 2), ('byproduct', 2), ('awaits', 2), ('destroy.', 2), ('fucks', 2), ('urs', 2), ('sponge', 2), ('docks', 2), ('bushfire', 2), ('albania', 2), ('brisk', 2), ('catastrophe!', 2), ('custom', 2), ('brunette', 2), ('britons', 2), ('himalaya', 2), ('trekkers', 2), ('poster', 2), ('fireman', 2), ('worldwide', 2), ('contributing', 2), (\"bags'\", 2), ('questioning', 2), ('drowning:', 2), ('nine-year-old', 2), ('maine', 2), ('dove', 2), ('elijah', 2), ('h\\x89û_', 2), ('cocaine', 2), ('shops', 2), ('bags!', 2), ('competitive', 2), ('imo', 2), ('bo3', 2), ('turbine', 2), ('=/', 2), ('upgraded', 2), ('etisalat', 2), ('3942', 2), ('guidelines', 2), ('(2002)', 2), ('bihar', 2), ('nephew', 2), ('hanging', 2), ('77', 2), ('67', 2), ('beware', 2), ('temper', 2), ('squad.', 2), ('brooklyn:', 2), ('six-meter', 2), ('happened.', 2), ('rainier', 2), ('call#', 2), ('hoe', 2), ('discussion', 2), ('worries', 2), ('athlete', 2), ('versus', 2), ('i-95', 2), ('54.8', 2), ('(fort', 2), ('mchenry', 2), ('encouraged', 2), ('surf', 2), ('programme', 2), ('ay', 2), ('accurate', 2), ('awwww', 2), ('walter', 2), ('awesome!', 2), ('michele', 2), ('aus', 2), ('aurora', 2), ('ak', 2), ('5:', 2), ('audio:', 2), ('yay!', 2), ('180', 2), ('manufactured', 2), ('oregon', 2), ('exacerbated', 2), ('tonight\\x89ûªs', 2), ('thugs', 2), ('m.o.p.:', 2), ('(ft.', 2), ('pointless', 2), ('addition', 2), ('hybrid', 2), ('individuals...', 2), ('lesbians', 2), ('announced', 2), ('abs', 2), ('openly', 2), ('idps:', 2), ('mountains', 2), ('geneva', 2), ('said.', 2), ('weigh', 2), ('`bbcnews', 2), ('pipelines', 2), ('allied', 2), (\"bombing'\", 2), ('planes', 2), ('minions', 2), ('hook', 2), (\"alaska's\", 2), ('alarming', 2), ('case:', 2), ('trunk', 2), ('aids', 2), ('ahrar', 2), ('sunnis', 2), ('gays', 2), ('aftershock:', 2), ('iraq.', 2), ('afghanistan:', 2), ('\\nin', 2), ('prophecy', 2), ('nb', 2), ('ridiculous', 2), ('piles', 2), ('babes', 2), ('actress', 2), ('tin', 2), ('tesco', 2), (\"'exploded'\", 2), ('halifax', 2), ('segment', 2), ('quarter', 2), (\"'protest'\", 2), ('immediate', 2), ('ferguson\\x89ûªs', 2), ('wrote', 2), ('fifteen', 2), ('angel.', 2), ('asf', 2), ('[wp]', 2), ('speed:', 2), ('[the', 2), ('[question]', 2), (\"'7'\", 2), ('epicentre?', 2), ('[high', 2), ('priority]', 2), ('[updated:', 2), ('05th', 2), ('20:29', 2), ('mdt]', 2), ('06jst', 2), ('6aug', 2), ('murderer!', 2), ('dancing', 2), ('1950', 2), ('so\\x89û_', 2), ('collapsed!', 2), ('ketep', 2), ('(2009)', 2), ('64', 2), ('people;', 2), ('åç', 2), ('*she', 2), ('philip', 2), ('innit', 2), ('simon.', 2), ('not.', 2), ('reverse', 2), ('arent', 2), ('bit.', 2), ('co2', 2), ('mt.', 2), ('somewhere', 2), ('alternatives?', 2), ('credits', 2), ('beliefs', 2), ('refuse', 2), ('overturn', 2), ('constitution', 2), ('farrakhan', 2), ('flames!', 2), ('medic', 2), ('urgentthere', 2), ('storey', 2), ('b/stop', 2), ('oworoshoki', 2), ('mainland', 2), ('bomb!', 2), ('uh', 2), ('abused+desolate&amp;lost', 2), ('dies..is', 2), ('blaming', 2), ('tor', 2), ('enhanced', 2), ('sarcasm', 2), ('mouse', 2), ('septic', 2), ('thirst', 2), ('acquisitions', 2), ('theory', 2), ('magisters', 2), ('dwarves', 2), ('money.', 2), ('cuffed', 2), ('inevitably', 2), ('åš', 2), ('ruining', 2), ('\\nhe', 2), ('no?', 2), ('propelled', 2), ('piece.', 2), ('voted', 2), ('glenn', 2), ('noises', 2), ('pitchers', 2), ('stuff.', 2), ('promote', 2), ('typical', 2), ('skype', 2), ('scuf', 2), ('rspca', 2), ('out??', 2), ('ushed', 2), ('plz', 2), ('pets', 2), ('29%', 2), ('copycat', 2), ('massacre\\n\\nhttp://t.co/lvlh3w3awo\\n#antioch\\n\\nhttp://t.co/viwxy1xdyk', 2), ('rescuing', 2), ('idek', 2), ('sake', 2), ('obvious', 2), ('illegals', 2), ('panda', 2), ('prob', 2), ('crashed.', 2), ('homie', 2), ('hacked.', 2), ('fave', 2), ('mommy', 2), ('jealous', 2), ('marines', 2), ('feet.', 2), ('barrier', 2), ('complete.', 2), ('smooth', 2), ('meanwhile', 2), ('reagan', 2), (\"'blue'\", 2), ('mudslide.', 2), ('ive', 2), ('son!', 2), ('twister.', 2), ('lemme', 2), ('kindly', 2), ('carlos', 2), ('stream.', 2), ('closest', 2), ('08', 2), ('netanyahu', 2), ('religious', 2), ('hs', 2), (\"'come\", 2), ('ironically', 2), ('puny', 2), ('ight', 2), ('demolished.', 2), ('badly', 2), ('90blks&amp;8whts', 2), ('colluded', 2), ('hostage&amp;2', 2), ('w/bioterrorism&amp;use', 2), ('lgl/org', 2), ('idis', 2), ('(a', 2), ('dig', 2), ('d:', 2), ('chest', 2), ('spontaneously', 2), ('infinite', 2), ('chance.', 2), ('riot.', 2), ('sounding', 2), ('know!', 2), ('cow', 2), ('are.', 2), ('now..', 2), ('looters', 2), ('mistake', 2), ('that...', 2), ('rush', 2), ('mandate', 2), ('existence', 2), ('delivered', 2), ('injured?', 2), ('repeat.', 2), ('wud', 2), ('belief', 2), ('think.', 2), ('barring', 2), ('straw', 2), ('hamburg', 2), ('ofclans', 2), ('exactly!', 2), ('gig', 2), ('fought', 2), ('look.', 2), ('brock', 2), ('mudslide?', 2), ('esh', 2), ('overwork', 2), ('phil', 2), ('research.', 2), ('democrats', 2), ('votes', 2), ('dealbreaker', 2), ('affiliation', 2), ('froze', 2), ('weapon!', 2), ('zarry', 2), ('wishes', 2), ('requests', 2), ('ante', 2), ('coat', 2), ('keratin', 2), ('treatments.', 2), ('brazilian', 2), ('blowout', 2), ('ahhhh', 2), ('really.', 2), ('democracy', 2), ('a5', 2), ('borders', 2), ('stages', 2), ('alternate', 2), ('discuss', 2), ('libs', 2), ('gal', 2), ('buddys!!!!', 2), ('sense.', 2), ('bs.', 2), ('jail.', 2), ('inundated.', 2), ('knees', 2), ('bagging.', 2), ('yep', 2), ('obviously', 2), ('stopping', 2), ('carpenter', 2), ('support.', 2), ('remembers', 2), ('-a', 2), ('channels', 2), ('comparing', 2), ('freddie', 2), ('password', 2), ('fools', 2), ('harden', 2), ('markets.', 2), ('silly', 2), ('sucks.', 2), ('palestine', 2), ('imperfect', 2), ('wealthy', 2), ('platinum', 2), ('twisted', 2), ('man-made', 2), ('warming', 2), ('size.', 2), ('bean', 2), ('attained', 2), ('wounds;', 2), ('powers', 2), ('refugees.', 2), ('violation', 2), ('\\nyou', 2), ('truely', 2), (';', 2), ('renison', 2), ('pm.', 2), ('distance*', 2), (\"'without\", 2), ('1500', 2), ('abusing', 2), ('police-run', 2), ('obispo', 2), ('launched', 2), ('sikh', 2), ('hate-violence', 2), ('prevention', 2), ('4wd', 2), (\"fires.'\", 2), ('10/3', 2), ('fury', 2), ('xvii:', 2), ('bypass', 2), ('1970', 2), ('mercury', 2), ('rear', 2), ('moulding', 2), ('429cj', 2), ('150-foot', 2), ('emergencies', 2), ('bronx;', 2), ('0-day', 2), ('patched', 2), ('.@runjewels', 2), (\"'is\", 2), ('maintaining', 2), ('./.....hmm', 2), ('/(', 2), ('...//..//', 2), ('whao..', 2), ('gravel', 2), ('alois', 2), ('trancy', 2), ('(sj', 2), ('gist):', 2), ('9:15pm', 2), ('prod', 2), ('(?eudrylantiqua?)', 2), ('holly...', 2), ('(#teambrianmundial)', 2), (\"'your\", 2), ('you\\x89ûªll', 2), (\"health.'\", 2), (\"one.'\", 2), (\"history.'\", 2), ('rossum', 2), (\"fine'\", 2), (\"wildfire'\", 2), ('heartbeat', 2), (\"'sometimes\", 2), ('fifty', 2), ('dates', 2), (\"single'\", 2), ('$2.99', 2), ('to\\x89û_', 2), (\"head'\", 2), ('parson', 2), ('parse', 2), ('woodchucks', 2), ('hew', 2), ('divided', 2), ('harwich', 2), (\"burning:'\", 2), (\"'by\", 2), (\"'but\", 2), ('bumper', 2), ('institute', 2), ('å€}', 1), ('in!!', 1), ('åèmgn-africaåš', 1), ('pin:263789f4', 1), (\"å¬'only\", 1), (\"dead'\", 1), ('massgrave', 1), ('å_?', 1), ('\\x89ûœ?', 1), ('\\x89û÷we', 1), ('help\\x89ûª', 1), ('\\x89û÷sexist\\x89ûª', 1), ('\\x89û÷ransomware\\x89ûª', 1), ('man\\x89ûªs', 1), (\"wilson's\", 1), ('other\\x89û_', 1), ('\\x89û÷it', 1), ('sick\\x89ûª:', 1), ('deemed', 1), ('\\x89û÷hazard\\x89ûª', 1), ('\\x89û÷hijacker', 1), ('cops\\x89ûª', 1), ('zimpapersviews', 1), ('johannesburg.', 1), ('&amp;mdash;', 1), ('bronville', 1), ('\\x89û÷faceless', 1), ('sister\\x89ûª:', 1), ('\\x89û÷exceptional\\x89ûª', 1), ('steady', 1), ('~11%;', 1), ('\\x89û÷a', 1), ('street\\x89ûª', 1), ('remade\\x89û_', 1), ('bulletproof', 1), ('funeral;', 1), ('amazingness.', 1), ('finall\\x89û_', 1), ('shocking.\\x89ûï', 1), ('benstracy', 1), ('wildlife...if', 1), ('them...', 1), ('casualties.\\x89û\\x9d', 1), ('\\x89ûïtell', 1), ('shinichi', 1), ('kudo', 1), ('it..\\x89û\\x9d', 1), ('-moriya', 1), ('teiji', 1), ('skyscraper', 1), ('\\x89ûïstretcher', 1), ('deck\\x89û\\x9d', 1), ('\\x89ûïrichmond', 1), ('sitting\\x89û_:', 1), ('jam...', 1), ('\\x89ûïparties', 1), ('driving.\\x89û\\x9d', 1), ('\\x89ûïfor', 1), ('you\\x89û\\x9d', 1), ('\\x89ûïplans', 1), ('prosper', 1), ('\\x89ûïeven', 1), ('freedom.\\x89û\\x9d', 1), ('time\\x89û\\x9d', 1), ('cabins', 1), ('maca', 1), ('\\x89ûï@ymcglaun:', 1), ('way.\\x89û\\x9dyeah', 1), ('stable', 1), ('\\x89ûï@thehighfessions:', 1), ('blasted...i', 1), (\"collapsed'\", 1), ('-iowa', 1), ('high\\x89û\\x9d', 1), ('\\x89ûï@splottdave:', 1), ('28700', 1), ('1967', 1), ('\\x89ûï@newshour:', 1), ('\\x89ûï@macdaddy_leo:', 1), ('caption', 1), ('freshman...', 1), ('niggas!', 1), ('\\x89ûï@maccocktail:', 1), (\"truth.'\\n?\", 1), ('hiram', 1), ('(died', 1), ('blairs', 1), ('\\x89ûï@lordbrathwaite:', 1), ('snow!\\n\\nme:', 1), ('snowstorm..?\\n\\n#growingupincolorado\\x89û\\x9d', 1), ('\\x89ûï@lolgop:', 1), ('2.2', 1), ('fraud', 1), ('\\nwe', 1), ('laws!\\n\\n83', 1), ('amirite?\\n\\n#vra50\\x89û\\x9d', 1), ('\\x89ûï@liquidslap', 1), (\"rule's\", 1), ('song.\\x89û\\x9d', 1), ('&lt;--', 1), ('candidate.', 1), ('\\x89ûï@leoblakecarter:', 1), ('\\x89ûï@fdny:', 1), ('on-scene', 1), ('\\x89ûï@dylanmcclure55:', 1), ('zumiez', 1), ('location??', 1), ('\\x89ûï@beachboyirh:', 1), ('gma', 1), (\"show'\", 1), (\"'ooorrrr\", 1), (\"it'\\x89û\\x9d\", 1), ('\\x89ûï@bbcwomanshour:', 1), ('setsuko', 1), ('thurlow', 1), ('\\x89ûï@bbcengland:', 1), ('\\x89ûï@based_georgie:', 1), ('president\\x89û\\x9d\\nwhipe', 1), ('\\x89ûï@_keits:', 1), ('understand\\x89û\\x9d\\n\\none', 1), ('neck', 1), ('\\x89ûï@5sosglobalsquad:', 1), ('\\n\\n#mtvhottest', 1), ('5sos\\x89û\\x9d', 1), ('all??', 1), ('\\x89ûª93', 1), ('yeda', 1), ('karachi', 1), ('\\x89û¢\\x89û¢if', 1), ('onå¡å¡', 1), (\"\\x89û¢i'm\", 1), ('disaster\\x89û¢', 1), ('~still', 1), ('echoes', 1), ('screams~', 1), ('so....', 1), ('trailed', 1), ('died....', 1), ('colin', 1), ('goodness.', 1), ('|live', 1), ('now|', 1), ('princes', 1), ('d&amp;d', 1), ('{{', 1), ('in-store', 1), ('}}', 1), ('{info}', 1), ('baekhyun', 1), ('suho', 1), ('attending', 1), ('10th\\ncr:', 1), ('syjexo', 1), ('{:en}tension', 1), ('apcåêpdp{:}', 1), ('zouma!', 1), ('fiorentina', 1), ('guy??', 1), ('breh', 1), ('zotar(50', 1), ('skeleton', 1), ('alchemist)', 1), ('atamathon', 1), ('1.\\nhttp://t.co/gpwrc1kz5i', 1), ('enders', 1), ('mgs2', 1), ('ps2', 1), ('zodiac', 1), ('trey', 1), ('dupree', 1), ('(produced', 1), ('sparkz', 1), ('beatz)', 1), ('dictator', 1), ('zicac', 1), ('briefcase', 1), ('zeal', 1), ('indecisiveness', 1), ('perrie', 1), ('edwards', 1), ('engagement:', 1), ('she\\x89ûªs', 1), ('\\x89û÷devastated\\x89ûª', 1), ('yup.', 1), ('yumiko', 1), ('upwards', 1), ('guard~', 1), (\"'woah...'\", 1), ('had--(', 1), ('ws', 1), ('soundtrack', 1), ('summer.do', 1), (\"other.u'll\", 1), ('thunder!', 1), ('?\\n@darshanravaldz', 1), ('khulna', 1), ('router', 1), ('ddos', 1), ('determines', 1), ('over!!!', 1), ('spying', 1), ('nsa', 1), ('today.\\n', 1), ('dancer', 1), ('inspiring!', 1), (\"'rubber'\", 1), ('purified.', 1), ('pale', 1), ('moonlight.', 1), ('neediness', 1), ('ulcerated', 1), ('waggon', 1), ('cornwall:', 1), ('bnvfdag', 1), ('pleased', 1), ('radical', 1), ('group.', 1), ('relationship?', 1), (\"intentions'\", 1), ('stabbing?...', 1), ('streetlight.', 1), (\"\\n\\ni'm\", 1), ('problem\\na', 1), ('sky.', 1), ('roles', 1), ('istg', 1), ('chips', 1), ('redbull', 1), ('snack', 1), ('acne', 1), ('cream..', 1), ('diarrhea?', 1), ('lifesaving', 1), ('haiti', 1), ('conveniently', 1), (\"'forget'\", 1), ('zionists', 1), ('revere', 1), (\"'honour'\", 1), ('goldstein.', 1), ('\\n\\n#mtvsummerstar', 1), ('lana', 1), ('slit', 1), ('apologize', 1), ('astroturfers', 1), ('crumbling.', 1), (\"'home\", 1), (\"2'\", 1), (\"\\n'she\", 1), (\"casualty'.\", 1), ('\\n#homealone2', 1), ('flood!', 1), ('alone...', 1), ('definition', 1), ('am...', 1), ('smiling', 1), ('harms', 1), (\"summer's\", 1), ('avalanche.', 1), ('believing.', 1), ('awake.', 1), ('llegaste', 1), ('tu', 1), ('\\nwhen:', 1), ('2015\\nwhere:', 1), ('keith...', 1), ('permanent.', 1), ('\\x89û÷badges', 1), ('blood\\x89ûª', 1), ('rapper', 1), ('ykelquiban:', 1), ('yhngsjlg', 1), ('tweeted', 1), ('crush:http://t.co/ioqm5bm1dg', 1), ('brits', 1), ('censor', 1), ('internet.', 1), ('yessum', 1), (\"'@sdotjr_:\", 1), ('adultress.\\nand', 1), ('emails.\\n\\nlike', 1), ('azz?\\n\\n#nsa\\n\\nhttp://t.co/pnhetk8a0f', 1), ('yelp', 1), ('bolsters', 1), ('investigative', 1), ('resting', 1), ('scratch', 1), ('1:57', 1), ('intro+desolation', 1), (\"'unconsciously'\", 1), ('thoughts!', 1), ('sbujdjsjs', 1), ('xuskak', 1), ('destroyed!', 1), ('gearing', 1), ('yaounde', 1), ('mosques', 1), ('4kus', 1), ('battle\\n\\n@15moferadio', 1), ('\\n\\nhttps://t.co/7spydy1csc', 1), ('pusssssssssy', 1), ('shoook', 1), ('xoxoxxxooo', 1), ('rutinaofficial', 1), ('nbchannibal', 1), (\"'have\", 1), ('*red', 1), ('death*', 1), ('wyrmwood:', 1), ('wwi', 1), ('2k15:', 1), ('149', 1), ('obliterate!!:', 1), ('mycareer', 1), ('ep18', 1), ('tyrone', 1), ('dudes:', 1), ('wut', 1), ('lunch.', 1), ('ditched.', 1), ('hungrier', 1), ('hostage!', 1), ('adoptive', 1), ('edison', 1), ('lightbulb', 1), ('teslas', 1), ('unsafe????', 1), ('wank', 1), ('wsjthinktank:', 1), ('colleenmnelson', 1), ('wrinkled', 1), ('decayed;', 1), ('hattrick', 1), ('3??', 1), ('emotions.', 1), ('najib\\nhttp://t.co/iidkc0jsbx', 1), ('(vice', 1), ('were...', 1), ('blockage', 1), ('woodward', 1), ('davison', 1), ('m.s.', 1), ('wrapup', 1), ('2-u.s.', 1), (\"companies'\", 1), ('disappoints', 1), ('desean', 1), ('rhode', 1), ('modernize', 1), ('eyewitness\\x89û_', 1), ('wowo--===', 1), ('tournaments', 1), ('mode.', 1), ('wow-the', 1), ('pneumonia', 1), ('convention', 1), ('1976--29', 1), ('carthage', 1), ('celebrity', 1), ('derby!', 1), ('event!!', 1), ('move:', 1), ('uv', 1), ('*gin', 1), ('a&amp;b', 1), ('pipeliners', 1), ('final.', 1), ('shania', 1), ('slouching', 1), ('isles:', 1), ('warlords', 1), ('draenor', 1), ('crusad...', 1), ('101', 1), ('multiplayer?!?!', 1), ('buildings?!?!', 1), (\"'where...\", 1), ('wsea', 1), ('mbiwa', 1), ('rat.', 1), ('advice?', 1), ('kisses\\nif', 1), ('distance?\\nwould', 1), ('hurricane\\nas', 1), ('existence?', 1), ('paramedic', 1), ('collapse/blow', 1), ('dampen', 1), ('economy?', 1), (\"britain's\", 1), ('isle', 1), ('autobiography', 1), ('lawton', 1), ('satisfying', 1), ('gamescom:', 1), ('azeroth', 1), ('onc...', 1), ('news&gt;&gt;', 1), ('tgirl', 1), ('aliens', 1), ('exterminate', 1), ('summerside', 1), ('pressing', 1), ('t-shirts', 1), ('\\nd/t', 1), ('ground.', 1), ('docked', 1), ('joint.', 1), ('work-related', 1), ('wooooooo', 1), ('79-year-old', 1), ('gap', 1), ('$50', 1), ('shorts.', 1), ('pearls', 1), ('hanbags', 1), ('lattice', 1), ('studded', 1), ('gasparc\\x89û_', 1), ('messengers', 1), ('designer', 1), ('qualit', 1), ('womem', 1), ('woman\\x89ûªs', 1), (\"woman's\", 1), ('sneaks', 1), ('cockpit;', 1), ('am\\n\\nincident:', 1), ('wildfire\\nreleased:', 1), ('41', 1), ('min.', 1), ('ago...', 1), ('wolforth', 1), ('two-out', 1), ('middle.', 1), ('springs.', 1), ('again!!', 1), ('girlfriend...', 1), ('man....', 1), ('right...', 1), (\"/'/'//\", 1), ('???increasingly', 1), ('confident???', 1), ('benghazi?', 1), ('hogan', 1), ('thanking', 1), ('publicity...although', 1), ('players.', 1), ('unhealthy....eat', 1), ('shit.??????????', 1), ('wired:', 1), ('radiation.', 1), ('tumblr:', 1), (\"necro's\", 1), ('winnipeg', 1), ('arlington', 1), ('wsvr1686b', 1), ('v-hull', 1), ('runabout', 1), ('euro-style', 1), ('lastingness', 1), ('perquisite', 1), ('acquiesce', 1), ('retreat:', 1), ('ziuw', 1), ('hike', 1), ('win:', 1), ('lisowski', 1), ('whitewashes', 1), ('5-0', 1), ('masters', 1), ('quals!', 1), ('opponents', 1), ('rousey?', 1), ('jocelyn', 1), (\"'you're\", 1), (\"welcome'\", 1), ('yeah.', 1), ('pugwash', 1), ('-population:6', 1), ('fires..', 1), ('california...', 1), ('warming.', 1), ('foliage', 1), ('ignited', 1), ('douchebag', 1), ('hiker.', 1), ('shin', 1), ('noodle', 1), ('pin', 1), ('rescued?', 1), ('sunk?', 1), ('disdain.', 1), ('half-naked', 1), ('tonight?!', 1), ('normally', 1), ('torso', 1), ('$29800?', 1), ('days?', 1), (\"dan's\", 1), ('complained', 1), ('measly', 1), ('å£3million?', 1), ('kids???', 1), ('trouble@niallhariss', 1), ('pinky', 1), ('journo', 1), ('groin', 1), ('bunker', 1), ('cheney', 1), ('catered', 1), ('ktchn', 1), ('evacuated?', 1), ('silas', 1), ('sliced', 1), ('headlinelike', 1), ('cabbage????????????????????????', 1), ('murder?\\n#wahhabism', 1), ('everything?', 1), ('sour', 1), ('freezer..dummy', 1), ('today..', 1), ('exhaustion', 1), ('downfall', 1), ('-bible', 1), ('lie\\x89û_', 1), ('lim', 1), ('sunday.....', 1), ('leh', 1), (':-(', 1), ('shower?', 1), ('\\nanswer:', 1), ('themselves!', 1), ('blood?', 1), ('desolate?', 1), ('change/a', 1), ('future?', 1), ('outnumber', 1), ('lobbyists!', 1), ('departments?\\n@randpaul', 1), ('know\\n\\nhttps://t.co/xb8nfxabum\\n\\n#evilempire\\n#jadehelm15', 1), ('censors', 1), ('supressed', 1), ('$hit', 1), ('costs-', 1), ('slew', 1), ('fixed!', 1), ('compared', 1), ('faded', 1), ('\\nkagawa', 1), ('\\njanuzaj', 1), ('\\ndi', 1), (\"\\nwho's\", 1), ('whoa!', 1), ('legend', 1), ('whoa', 1), ('holdin', 1), ('9am', 1), ('morning??', 1), ('bruv', 1), ('sank', 1), ('submarine', 1), ('bickford\\x89ûªs', 1), ('stale', 1), ('fugazzi\\x89ûªs', 1), ('yosemite', 1), ('drumpf?', 1), ('\\x89ûïnobody', 1), ('\\x89û÷ill', 1), ('rabbit', 1), ('a-huh', 1), ('say\\x89û\\x9d', 1), ('booze', 1), ('these?', 1), ('change.', 1), ('her\\n', 1), ('\\n#farrakhan', 1), ('09', 1), ('m6x1.00', 1), ('thread', 1), ('pose', 1), ('lawmakers', 1), ('easily..', 1), ('\\n\\nhttps://t.co/6vyyer6py0', 1), ('bracelet10mm', 1), ('tirelessly', 1), ('problem?', 1), ('(supposedly', 1), ('representing', 1), ('cgi', 1), ('strike.....', 1), ('lmfaoooo!!!!!!!!!!!!', 1), ('duh', 1), ('lasted', 1), ('standstill', 1), ('east.', 1), ('medusa', 1), ('snake:', 1), ('inputs', 1), ('scissor', 1), ('ktfounder', 1), ('bombarded', 1), ('kunais.', 1), ('whimsy', 1), ('buries', 1), ('05-08-2015', 1), ('tobias', 1), ('hankel', 1), (\"magna-fi's\", 1), (\"40's?\", 1), ('40s.', 1), ('extent.', 1), ('privilege', 1), ('unfair', 1), ('favoritism.', 1), ('whereas', 1), ('jez', 1), ('printing', 1), ('money!', 1), ('genius!', 1), ('gypsy', 1), ('timbering', 1), ('entryway?:', 1), ('fjizztxk', 1), ('riots?', 1), (\"'leaving\", 1), ('obstacles', 1), ('whooped', 1), ('terrellt)', 1), ('specialists!', 1), (\"sami'\", 1), (\"mind's\", 1), (\"'make\", 1), (\"go'\", 1), ('flushes', 1), ('.1', 1), ('burned??????????????????????????????????????????????????', 1), ('gorgeous????', 1), ('bark', 1), ('stands.', 1), ('dials', 1), ('services.....', 1), ('how???', 1), (\"'jaileens\", 1), ('caked', 1), (\"phone'\", 1), ('lowkey', 1), ('tub', 1), ('ear...', 1), ('anytime', 1), ('soon???', 1), ('tagliatelle', 1), ('meatballs', 1), ('sink', 1), ('draining', 1), ('burrito', 1), ('burp', 1), ('mugged', 1), ('excuses', 1), (\"hostage?'\", 1), ('lizzie', 1), ('explore', 1), ('unjust', 1), ('trust.\\nsam(uel)\\n#books', 1), ('famine...', 1), ('caaaaaall', 1), ('zehrs', 1), ('everyone..', 1), ('california....and', 1), ('drought.....this', 1), ('says:', 1), ('shore\\nand', 1), (\"anymore\\nthat's\", 1), ('poisoned', 1), ('norris', 1), ('plugged', 1), ('it...with', 1), ('fist.', 1), ('nether', 1), ('spawning', 1), ('lava.', 1), (\"wind-it's\", 1), ('yelling!', 1), ('-how', 1), ('happens;', 1), ('choices:', 1), ('strengthen', 1), ('allergic', 1), ('ii\\nlanjut', 1), ('dirumah...\\n\\n#yagitudeh', 1), ('rumah', 1), ('cipinang)', 1), ('abounds', 1), ('destruction.#defundpp', 1), ('cooking', 1), ('psychic', 1), ('genuinely', 1), ('reallyyy', 1), ('affection', 1), ('collide:', 1), ('gucci', 1), ('shanghai\\x89ûªs', 1), ('avenue...', 1), (\"'flip\", 1), (\"bitch'.\", 1), ('pushes', 1), ('happen:\\n1)', 1), ('fall.\\n2)', 1), ('teach', 1), ('fly.', 1), ('fizzy', 1), ('seats', 1), ('is.....', 1), ('carelessness', 1), ('compensation', 1), ('damages.', 1), ('bae', 1), ('soak', 1), ('backroom????', 1), ('fromåêwounds?', 1), ('racer', 1), ('295ss-100', 1), ('amplifier', 1), ('prediction?', 1), ('the.', 1), ('fuck.', 1), ('man?', 1), ('lesotho?', 1), ('know?', 1), ('seen..fire?..the', 1), ('sun?..a', 1), ('volcano?', 1), ('exhibitor', 1), ('emails?', 1), ('happening?', 1), ('hollywood?', 1), (\"'digital\", 1), (\"responders'\", 1), ('puppies?!', 1), ('cables!', 1), ('hint-devastation.', 1), ('clowns?', 1), ('detroit?:', 1), ('70-year', 1), ('hawaiianpaddlesports', 1), ('incredible\\nhttp://t.co/yzzxxknism', 1), ('(dentists)', 1), ('numbing', 1), ('gums.', 1), ('people?!communication!', 1), ('iron', 1), ('hell??', 1), ('bridge?!', 1), (\"england's\", 1), ('90s...', 1), ('rate!', 1), ('trailer.', 1), ('saturn.', 1), ('making.', 1), ('books.', 1), ('-sigmund', 1), ('freud', 1), ('isla', 1), ('tragedy?', 1), ('missing?', 1), ('videos?', 1), ('angry?', 1), ('killer?', 1), ('hiroshima\\nhttp://t.co/lgrocbxpqo', 1), ('\\x89ûïwarning\\x89û\\x9d', 1), ('usg', 1), ('paeds', 1), ('imaging', 1), ('tool?', 1), ('hearthstone?', 1), ('read?', 1), (\"'reunion\", 1), (\"island'.\", 1), ('if?!', 1), ('bomb?', 1), ('buildings/', 1), ('catalinas', 1), ('greasy', 1), ('ranked', 1), ('te\\x89û_', 1), ('piggy', 1), ('civility:', 1), ('prez', 1), ('defines', 1), ('perpetrators', 1), ('ticketed', 1), ('never-', 1), ('cycle.', 1), ('ago.chicago', 1), ('interrogation', 1), ('dead!!', 1), ('kerry.', 1), ('7-16.....', 1), ('kampers', 1), ('sprays', 1), ('hose!', 1), ('hat?', 1), ('goooooooaaaaaal!!!!!!', 1), ('feat!', 1), (\"day's\", 1), ('tn', 1), ('psychologist', 1), ('fbi:', 1), (\"'married'\", 1), ('honduran', 1), ('minors', 1), ('165000', 1), ('bangladesh', 1), ('komen:', 1), ('dhaka', 1), ('\\x89ûòthe', 1), ('na...', 1), ('weyburn', 1), ('fentanyl', 1), ('westminister', 1), ('sr22', 1), ('knott', 1), ('us101', 1), ('paso', 1), ('nyack', 1), ('pineview', 1), ('railroad', 1), ('apologies', 1), ('inundation\\x89û_', 1), ('where!', 1), ('journey', 1), ('home!', 1), ('cows', 1), ('track!', 1), ('postering', 1), ('$4000.', 1), ('worth.', 1), ('pow.', 1), ('treated.', 1), ('talked', 1), ('terrific', 1), ('celtic', 1), ('aberdeen', 1), ('\\narmageddon', 1), ('eh....', 1), ('chaning', 1), ('without...', 1), ('avery', 1), ('county!', 1), ('wehtwtvwlocal:', 1), ('burglary.', 1), ('day-to-day:', 1), ('avalon', 1), ('19+', 1), ('bdays', 1), ('free!', 1), ('(818)', 1), ('447-8427', 1), ('20:30:', 1), ('mainly', 1), ('cloudy.', 1), ('malfunctioning?', 1), ('scripts', 1), ('working?', 1), ('database', 1), ('crashed?', 1), ('script?', 1), ('founding', 1), ('weather...', 1), ('...2', 1), ('weapons:', 1), ('knives', 1), ('albany', 1), (\"weapon's\", 1), ('catalogue~', 1), ('rotation', 1), ('condenses', 1), ('mcv', 1), (\"'sub-tornado?'\", 1), ('\\nits', 1), (\"shaking...it's\", 1), ('call-in', 1), ('branch!', 1), ('surety', 1), ('underwriter/senior', 1), ('underwriter', 1), ('leader.', 1), ('(0.9', 1), ('evening)', 1), ('ii/emergency', 1), ('services/ft/7p-7a', 1), ('fellowship', 1), ('(fte', 1), ('.9', 1), ('night)', 1), ('pizza.', 1), ('fitness-', 1), ('mirrors', 1), ('reflected', 1), ('desires.', 1), ('neon', 1), ('lights??????', 1), ('minds.', 1), ('all.?', 1), ('world.lets', 1), ('civilization.', 1), ('plank', 1), ('maxi', 1), ('worst.', 1), ('shootn', 1), ('games................wow', 1), ('ghee', 1), ('sad\\nbut', 1), ('alternative', 1), ('electricity.', 1), ('batteries.', 1), ('cabling', 1), ('bracing', 1), ('trees.', 1), ('905-877-8591', 1), ('yours.', 1), ('stronger', 1), ('pass.', 1), ('companies...', 1), ('hid', 1), ('shown', 1), ('preserved.', 1), ('breaches', 1), ('prepared!', 1), ('coverage!:', 1), ('overrun', 1), ('server!', 1), ('explicitly', 1), ('behavior.', 1), ('mydrought', 1), ('water\\x89û_', 1), ('prayer!!', 1), ('night!!', 1), ('sunflower', 1), ('walk.', 1), ('campaigns', 1), ('renewsit', 1), ('sock', 1), ('acc.', 1), ('emp', 1), ('possess', 1), ('arrogant', 1), (\"doesn't.\", 1), ('hiroshima.\\ntoday', 1), ('singles.', 1), ('jonesboro', 1), ('drown!', 1), ('heavy.', 1), ('die...', 1), ('complain', 1), ('anchors', 1), ('sea.', 1), ('wcw', 1), ('archetype', 1), ('well-grounded', 1), ('readiness:', 1), ('fpoj', 1), ('wormhole.', 1), ('gazette', 1), ('devastation\\x89û_', 1), ('pandemic', 1), ('thompson:', 1), ('xela', 1), ('dcfd', 1), ('perspective', 1), (\"person...it's\", 1), ('cameos.', 1), ('colbert', 1), ('ipad.....', 1), ('royale.', 1), ('right?!', 1), ('lesson..', 1), ('learn!!', 1), ('po...', 1), ('magnets', 1), ('objects:', 1), ('seconds.', 1), ('steaks', 1), ('palin', 1), ('women!', 1), ('bb4sp', 1), ('jewels', 1), ('socially', 1), ('duo', 1), ('wendell', 1), ('berry', 1), ('mexico.\\n\\nit\\x89ûªs', 1), ('birthday...', 1), ('nathaniel', 1), ('rateliff', 1), ('sweats', 1), ('coverage', 1), ('all-pro', 1), ('washi', 1), ('week!', 1), ('elevator', 1), ('noses', 1), (\"'80s\", 1), ('they\\x89ûªd', 1), ('david\\x89û_', 1), ('string', 1), ('replenish', 1), ('leader\\x89ûªs', 1), ('weary', 1), ('bridge:', 1), ('johannesburg', 1), ('(ani):', 1), ('australian...', 1), ('referential', 1), ('storm:', 1), ('beginning.', 1), ('wanted:', 1), ('gritty', 1), ('thursdays', 1), (\"amico's.\", 1), ('shania!!!', 1), ('ca?', 1), ('opening:', 1), ('swedish', 1), ('services?', 1), ('wa!', 1), ('netflix.', 1), ('vehicles.', 1), ('innovative', 1), ('dust?', 1), ('60mph?', 1), ('away!', 1), ('frying', 1), ('waldo', 1), ('12u', 1), ('cooperstown', 1), ('kooks', 1), ('kern', 1), ('airing', 1), ('kbak', 1), ('cbs29.', 1), ('what???', 1), ('reafs', 1), ('waige', 1), ('badass', 1), ('wackos', 1), ('hello!!!', 1), ('wackoes', 1), ('hello!!', 1), ('w--=-=-=-[', 1), ('nigerians', 1), ('eufaula.', 1), ('participate', 1), ('simulating', 1), ('armageddon?\\nhttp://t.co/gbxafy1m1c', 1), ('visting', 1), ('georgina', 1), ('cafe.....awful', 1), ('view!!', 1), (\"building\\nwe're\", 1), ('ef-5', 1), ('alert\\ntunein', 1), ('axegressor', 1), ('psalm', 1), ('storm\\ntunein', 1), ('agony', 1), ('apocalypse\\ntunein', 1), ('scourgue', 1), ('gods\\ntunein', 1), ('violators', 1), ('improved', 1), ('hurled', 1), ('nuked.', 1), ('eagle', 1), ('oiler', 1), ('gpw', 1), ('(0', 1), ('bids)\\n\\x89û_', 1), ('vinnie', 1), ('northumbria', 1), ('billionaire:', 1), ('$350', 1), ('column', 1), ('71st', 1), ('highland', 1), ('medics', 1), ('video=&gt;', 1), ('obama:', 1), ('\\x89ûïprefers', 1), ('negotiation\\x89û\\x9d', 1), ('failure\\x89û_', 1), ('unknowingly', 1), ('tribune:', 1), ('80ft', 1), ('shaldon\\nread', 1), ('billowing', 1), ('southtowne', 1), ('collapsed:', 1), ('hundreds\\x89û_', 1), ('carryi...', 1), ('mediterran...', 1), ('mediterranean...', 1), ('of..', 1), ('vegetarian...', 1), ('5oil-worker)', 1), ('pastors', 1), ('asylum\\x89û_', 1), ('sought', 1), ('victorinox', 1), ('241487', 1), ('heights...', 1), ('ensure', 1), (\"veteran's\", 1), ('treatmen...', 1), ('mp.my', 1), ('deepest', 1), ('condolences', 1), ('mishap', 1), ('deserved', 1), ('soz', 1), ('/every/', 1), ('explode.\\n\\nrin\\nshizune\\nmisha\\nemi\\nkenji\\nyuuko\\nnomiya\\nhisao', 1), ('vosloorus', 1), ('gauteng', 1), ('2015-08-05', 1), ('23:00', 1), ('toyota', 1), ('bkb066gp', 1), ('vassalboro', 1), ('gazebo', 1), (\"vanessa's\", 1), ('gentlemen...the', 1), ('begin.', 1), ('shelli.', 1), ('vanderbilt:', 1), ('vamos', 1), ('newells', 1), ('died.', 1), ('selfish.', 1), ('uttarakhand:', 1), (\"journalist's\", 1), ('oneindia', 1), ('usw:', 1), ('abandoning', 1), ('uncertainty...economic', 1), (\"unrest'\", 1), ('8/6/15', 1), ('1:04:01', 1), ('-08:0...', 1), ('16:...', 1), ('0.6', 1), ('8km', 1), ('01:26:24', 1), ('18:26:24', 1), ('usfs', 1), ('acronym', 1), ('amiibos', 1), ('path.', 1), ('usatoday:', 1), ('foxnew\\x89û_', 1), ('usama', 1), ('ladins', 1), ('naturally', 1), ('spill/evacuations/red', 1), ('.@fedex', 1), ('\\x89û÷institute', 1), ('peace\\x89ûª', 1), ('upgrade', 1), ('infrastructure?', 1), ('defensenews.comus', 1), ('subsd...', 1), ('951', 1), ('auto-mechanics', 1), ('vols', 1), ('1-5', 1), ('1944', 1), ('1000s', 1), ('$40mln', 1), ('targe...', 1), ('urgent!', 1), ('opera', 1), ('news\\ncalifornia', 1), ('(red)', 1), ('(yellow)', 1), ('evac', 1), ('(green)', 1), ('update:m.e.', 1), ('91', 1), ('edna', 1), ('jefferson&amp;doris', 1), ('sherfield72.', 1), ('administrative', 1), (\"bags.'\", 1), ('screamed...', 1), ('unconscious.', 1), ('gnwt', 1), ('reid...', 1), ('6:30', 1), ('quarantine.', 1), ('survived.', 1), ('canoe.', 1), ('\\n\\nmay', 1), ('fastest', 1), ('evaucation', 1), ('lifted:', 1), ('roofing', 1), ('half-hr', 1), ('gop-controlled', 1), ('approved', 1), ('putting...', 1), ('pros', 1), ('failures', 1), ('repair!', 1), ('blvd.', 1), ('forces.', 1), ('forces...', 1), ('=>', 1), ('directions', 1), ('4-is', 1), ('48åêhours', 1), ('1-russian', 1), ('recal...', 1), ('unwanted', 1), ('12th', 1), ('17:10', 1), ('jets.', 1), ('untangle', 1), ('unsurprising/still', 1), ('dismaying', 1), ('access:', 1), ('lawrence', 1), ('meade', 1), ('[s\\x89û_', 1), ('&lt;.75', 1), ('[sd]', 1), ('unpredictable', 1), ('donaldson', 1), ('catch.', 1), ('unlicensed', 1), ('(#cufi):', 1), ('jews', 1), ('convert', 1), ('7am', 1), ('supportive', 1), (\"'london'\", 1), ('economically?', 1), ('(å£300m', 1), ('unexercised', 1), ('honda', 1), ('run-down', 1), ('psqd', 1), ('engines', 1), (\"'@dandre_5:\", 1), (\"zone'\", 1), ('ov', 1), ('19...', 1), ('2006', 1), ('argues', 1), (\"pelosi's\", 1), ('remnants', 1), ('tunisian', 1), ('bardo', 1), ('uhhhhh', 1), ('crusade', 1), ('pizzas?', 1), ('p...', 1), ('ud:', 1), ('(structural', 1), ('collapse)', 1), ('ypres', 1), ('(14', 1), ('trucks)', 1), ('reduces', 1), ('independent', 1), ('uae', 1), ('mideast', 1), ('heat-wave;', 1), ('[video]\\nncms', 1), ('thundering', 1), ('visibility....', 1), ('u.s.pacific', 1), ('command.\\ni', 1), ('it!\\nthey', 1), ('festival\\nit', 1), ('disappears', 1), ('freedom\\na', 1), ('agen...', 1), ('simpson\\x89û_', 1), ('ruhl', 1), ('38', 1), (\"'frog\", 1), ('modoc', 1), ('forest.', 1), ('temporarily', 1), ('reassigned', 1), ('tonto', 1), ('forest:', 1), ('horse...', 1), ('soudelor:', 1), ('taiwan!', 1), ('philippines\\x89û_', 1), ('fowlers', 1), ('road:', 1), ('opp.', 1), ('occupants.', 1), ('smartphone', 1), ('shipped!', 1), (\"dian's\", 1), (\"india's\", 1), ('bitterroot', 1), ('historic-church', 1), ('meeting.', 1), (\"'dawgs'\", 1), ('dak', 1), ('jak', 1), ('villanova', 1), ('selected', 1), ('academy', 1), ('award', 1), ('finalists:', 1), ('struck\\x89û_', 1), ('restoring', 1), ('alphen', 1), ('aan', 1), ('den', 1), ('rijn', 1), ('shotgun', 1), ('denton', 1), ('pines\\x89û_', 1), ('lorry', 1), ('explode...light', 1), ('colorado...gambling', 1), ('quezon', 1), ('loaded', 1), ('75', 1), ('go\\x89û_', 1), (\"twilight's\", 1), ('(wounded', 1), ('jacquie', 1), ('biggar', 1), ('twia', 1), ('approves', 1), ('hike:', 1), ('association', 1), ('(twia)', 1), ('directors', 1), ('tv:', 1), ('vitaly', 1), ('churkin', 1), ('briliantly', 1), ('exposes', 1), (\"ukraine's\", 1), ('klimkin', 1), ('mh17', 1), (\"'lego'\", 1), ('bricks', 1), ('\\nhttp://t.co/dh0s4buuk7', 1), ('radios', 1), ('107.9', 1), ('espn2', 1), ('clouds.', 1), ('isaiah', 1), ('44:22', 1), ('contemporary', 1), (\"attack'\", 1), ('gesture!', 1), ('bolts', 1), ('8.4.15', 1), ('inåêchaos', 1), ('cross-london', 1), ('accepte...', 1), ('ttw', 1), ('tt', 1), ('kettlebell', 1), ('lopez', 1), ('hindsight:', 1), ('jhmnye', 1), ('dvbbs', 1), ('borgeous', 1), ('(arceen', 1), ('remix)', 1), ('tsa', 1), ('suggested', 1), ('i-74', 1), ('crawfordsville.', 1), ('pen', 1), ('conquer', 1), (\"g's\", 1), ('simulator.', 1), ('low-carb', 1), ('treats', 1), ('meal', 1), ('truthfrequencyradio', 1), ('fu...', 1), ('truth...\\nhttps://t.co/p5zicjudxo\\n#news\\n#bbc\\n#cnn\\n#islam\\n#truth\\n#god\\n#isis\\n#terrorism\\n#quran\\n#lies', 1), ('truth...\\nhttps://t.co/nxs3z1kxid\\n#news\\n#bbc\\n#cnn\\n#islam\\n#truth\\n#god\\n#isis\\n#terrorism\\n#quran\\n#lies', 1), ('truth...\\nhttps://t.co/n1k5nlib9x\\n#news\\n#bbc\\n#cnn\\n#islam\\n#truth\\n#god\\n#isis\\n#terrorism\\n#quran\\n#lies', 1), ('truth...\\nhttps://t.co/kix1j4zygx\\n#news\\n#bbc\\n#cnn\\n#islam\\n#truth\\n#god\\n#isis\\n#terrorism\\n#quran\\n#lies', 1), ('truth...\\nhttps://t.co/k44tl3rfmy\\n#news\\n#bbc\\n#cnn\\n#islam\\n#truth\\n#god\\n#isis\\n#terrorism\\n#quran\\n#lies', 1), ('truth...\\nhttps://t.co/h6amecx5k7\\n#news\\n#bbc\\n#cnn\\n#islam\\n#truth\\n#god\\n#isis\\n#terrorism\\n#quran\\n#lies', 1), ('truth...\\nhttps://t.co/glzggdjqeh\\n#news\\n#bbc\\n#cnn\\n#islam\\n#truth\\n#god\\n#isis\\n#terrorism\\n#quran\\n#lies', 1), ('truth...\\nhttps://t.co/bejftygjil\\n#news\\n#bbc\\n#cnn\\n#islam\\n#truth\\n#god\\n#isis\\n#terrorism\\n#quran\\n#lies', 1), ('truth...\\nhttps://t.co/4zqrsaqrrt\\n#news\\n#bbc\\n#cnn\\n#islam\\n#truth\\n#god\\n#isis\\n#terrorism\\n#quran\\n#lies', 1), ('truth...\\nhttps://t.co/2y4rgob7pj\\n#news\\n#bbc\\n#cnn\\n#islam\\n#truth\\n#god\\n#isis\\n#terrorism\\n#quran\\n#lies', 1), ('inviting', 1), ('25.5%', 1), ('12.5%', 1), ('plant?', 1), ('frenzy.', 1), ('even.', 1), ('disorder.', 1), ('astounding.', 1), ('forgiveness.', 1), (\".@vickysuewrites'\", 1), (\"circle'\\n\\n#giveaway\", 1), ('clogs', 1), ('salvages', 1), ('40w', 1), ('us70', 1), ('fatality.', 1), ('warwick:', 1), ('warwick', 1), ('r21.', 1), ('voortrekker', 1), ('ave.', 1), ('tambo', 1), ('intl.', 1), ('section.', 1), ('fog?', 1), ('tests:', 1), ('1245z', 1), ('15.', 1), ('f-16', 1), ('hype.', 1), ('ketchup', 1), ('w/dijon', 1), ('sucked.', 1), ('4get\\nfeelings', 1), ('death\\ninvading', 1), (\"spawns\\ncan't\", 1), ('concentrate\\nno', 1), ('relates\\nstealing', 1), ('light\\nspreading', 1), ('trident', 1), ('90225', 1), ('ims', 1), ('ho', 1), ('1:87', 1), ('tricycle', 1), ('bomb\\nhttp://t.co/ljeryhitwh', 1), ('burglary', 1), ('treasures', 1), ('drains', 1), ('mechanisms.', 1), ('lady.', 1), ('catch!', 1), ('e-shop.', 1), ('related:', 1), (\"abc's\", 1), ('parent...', 1), ('0.15', 1), (\"13'46''\", 1), ('nike+.', 1), ('transwomen', 1), ('butch', 1), ('credited', 1), ('inciting', 1), ('transportation', 1), ('18-wheelers', 1), ('wy.', 1), ('stop!\\x89û\\x9d', 1), ('trampling', 1), ('travellers', 1), ('wheat', 1), ('trespass', 1), ('lest', 1), ('metro.', 1), ('sidewalks', 1), (\"l'enfant\", 1), ('mobbed', 1), ('(m.p.)', 1), ('railway.proper', 1), ('twi...', 1), ('injury:', 1), ('offramp', 1), ('sacramento', 1), ('cabrillo', 1), ('hwy/magellan', 1), ('mir', 1), ('(08/06/15', 1), ('11:03:58)', 1), ('tracy', 1), ('me!!', 1), ('tractor-trailers', 1), ('42', 1), ('worsens', 1), ('towboat', 1), ('trek', 1), ('falls:', 1), ('vtc', 1), ('totoooooo!', 1), (\"totoooooooooo!\\n'@historicalmages:\", 1), ('stratford', 1), ('18th', 1), ('1935.', 1), ('jays.', 1), ('leafs', 1), ('tornadoes:', 1), ('boost', 1), ('hammer', 1), ('20+homers', 1), ('tulowitzki', 1), ('confirmed.', 1), ('clue', 1), ('refugees\\x89û_', 1), ('war\\x89û_', 1), ('3:\\n*', 1), ('darkness\\n*', 1), ('redeem', 1), ('serene\\n*', 1), ('amends', 1), ('reputation.', 1), ('attended', 1), ('romford', 1), ('text.', 1), ('1716', 1), ('(18+)', 1), ('160', 1), ('auburn.', 1), ('afycso', 1), ('receives', 1), ('impacting', 1), ('forward*', 1), ('avoiding.', 1), ('*a', 1), ('downright', 1), ('tommygshow:', 1), ('burlington', 1), ('landslide-damaged', 1), ('toke', 1), ('makinwa\\x89ûªs', 1), ('ablaze...', 1), ('fetch', 1), ('pyjamas', 1), ('bedding', 1), ('firetruck', 1), ('sticker', 1), ('decals', 1), ('pass;', 1), ('tomorrow\\x89ûªs', 1), ('greet', 1), ('kiss.', 1), ('bask', 1), ('warmth;', 1), ('bliss.', 1), ('survived\\n\\njoin', 1), ('dualcom', 1), ('yesterdays', 1), ('easter!!!', 1), ('pretended', 1), ('hastle', 1), ('filling', 1), ('humbled', 1), ('140000', 1), ('(a)', 1), ('120000', 1), ('corii', 1), ('birthday!', 1), ('spoil', 1), ('5/8/1941', 1), ('1941', 1), ('kumasian', 1), ('torpedoed/sunk', 1), ('link?', 1), ('(august', 1), ('6th)', 1), ('hiroshima.70000', 1), ('outright', 1), ('wifi', 1), ('hotspot.', 1), ('skill', 1), ('one-man', 1), ('bldy', 1), ('country...?', 1), ('asthma', 1), (\"roosevelt's\", 1), ('cigars.', 1), ('panicked', 1), ('disco.', 1), ('frp', 1), ('tunas', 1), ('kijangbank', 1), ('negara', 1), ('[closing', 1), ('2015-08-14]...', 1), ('spoiler', 1), ('result.', 1), ('awn', 1), ('navigate', 1), ('audit', 1), ('vì_a', 1), ('attendees!', 1), ('hasåêarrived', 1), ('feminist...', 1), ('fem...', 1), ('oliviamiles01', 1), ('tltltltltlttlt', 1), ('shower!!!', 1), ('wololo', 1), ('tkyonly1fmk:', 1), ('tksgs0810:', 1), ('warriorcord', 1), ('550', 1), ('paracord', 1), ('mil-c-5040-h', 1), ('strand', 1), (\"5/16'\", 1), ('di...', 1), ('joints', 1), ('eliminate', 1), ('cracking.', 1), ('dqsvyusy', 1), (\"timestack'\", 1), ('sunsets', 1), ('mesmerizing', 1), ('images.', 1), ('timesnewsdesk', 1), ('attack\\n\\x89û_', 1), ('sin!', 1), ('weeks...', 1), (\"(that's\", 1), ('lie)', 1), ('privatisation', 1), ('ripe', 1), (\"banana's\", 1), ('slipping.', 1), ('technique.', 1), ('tiffanyfrizzell', 1), ('tianta_:', 1), ('clam', 1), ('helsinki\\n#thunder', 1), ('thunder???', 1), ('pounds', 1), ('black\\na', 1), ('chest\\nwind', 1), ('\\na', 1), ('life\\nshort', 1), ('torrential', 1), ('cut!', 1), ('foothill', 1), ('thu', 1), ('01:20:32', 1), ('gmt+0000', 1), ('(utc)\\n#millcityio', 1), ('journalism', 1), ('choke', 1), ('nugget', 1), ('bleeding??', 1), ('complex.', 1), ('kidnapping', 1), ('trafficking', 1), ('4month', 1), ('kontagora', 1), ('aba#', 1), ('haaretz', 1), ('unrecognized', 1), ('episodes', 1), ('nigh', 1), ('shoutout', 1), ('hipsters', 1), ('lost:', 1), ('devours', 1), ('intersectio...', 1), ('floodwater', 1), ('rains.', 1), ('displac...', 1), ('organized', 1), ('protesting', 1), ('drought!', 1), ('inferior', 1), ('standard.#anonymous', 1), ('sworn', 1), ('thorcon:', 1), ('thorium', 1), ('thisisfaz:', 1), ('bsf', 1), ('jawans', 1), ('fidayeen', 1), ('aks', 1), ('insas', 1), (\"soldiers'\", 1), ('podcast', 1), ('happening?!', 1), (\"nathan's\", 1), ('prognosis.', 1), ('night:', 1), ('parallel', 1), ('parking.', 1), ('ex......', 1), ('participating', 1), ('intensive', 1), ('animal...', 1), ('[x-post', 1), ('/r/cityporn]', 1), ('[4608ìñ2474]', 1), ('(\\x89û_', 1), ('me...due', 1), ('maintenance\\x89û_', 1), ('westmeath', 1), ('carefully...', 1), ('though.......', 1), ('mill.', 1), ('cover.', 1), ('powerful!', 1), ('favorite?', 1), ('metrotown', 1), ('maintained', 1), ('apartments.', 1), ('popeyes', 1), ('whirlwind....', 1), ('athens', 1), ('mediterranean\\nhttps://t.co/ct5v3lcnkd', 1), ('rq', 1), ('cyhi', 1), ('you:', 1), ('jokal', 1), ('photographers', 1), ('tunes-blake', 1), ('griffin', 1), ('startup', 1), ('friends.', 1), ('re-read:', 1), (\"mass-murderer'\", 1), ('syvret', 1), ('stake', 1), ('storm\\n\\n#jamaicaplain', 1), ('unbelievably', 1), ('insane.\\n#man', 1), ('ocean\\npeeling', 1), ('servile', 1), ('devotion...\\n\\n#blight!', 1), ('later...', 1), ('pornhub', 1), ('inundated....)', 1), ('ridiculous....', 1), ('relaxing!', 1), ('progress?', 1), ('weaponry', 1), ('lunacy.', 1), ('belligerent', 1), ('unfold', 1), ('jam:', 1), ('riser', 1), ('dierks', 1), ('bentley', 1), ('\\x89ûïburning', 1), ('work\\x89û\\x9d\\x89û_only\\x89û_it', 1), ('did.', 1), ('clawing', 1), ('interesting!--why', 1), ('retailers', 1), ('got:', 1), ('hairity', 1), ('rainbow', 1), ('spitty', 1), ('pie', 1), ('generation\\nrock', 1), ('evacuation!\\nas', 1), ('see!\\n(hey', 1), ('hey!)', 1), ('firework', 1), ('tragedy:', 1), ('tbr', 1), ('browsing', 1), ('homepage.', 1), ('tia', 1), ('int\\x89ûªl', 1), ('airline', 1), ('dry.', 1), ('sphere', 1), ('headache', 1), ('yday', 1), ('book????????', 1), ('hubris', 1), (\"req'd\", 1), ('rigour', 1), ('\\n\\ncity', 1), ('plan\\n\\nthe', 1), ('friday!!!', 1), ('friday!!', 1), ('palm', 1), ('batch', 1), ('cook.', 1), ('desperation', 1), ('dislocation\\nseparation', 1), ('condemnation\\nrevelation', 1), ('temptation\\nisolation', 1), ('desolation\\nlet', 1), ('davies', 1), ('nation!!!!', 1), ('thinking...', 1), ('rapturous', 1), ('facade', 1), ('deplorable', 1), ('attempted', 1), ('bailed', 1), ('nite', 1), ('show...went', 1), ('dance.', 1), ('demo', 1), ('kenosha', 1), ('quell', 1), ('throat.', 1), ('introvert:', 1), ('tokyo.', 1), ('150-square-foot', 1), ('businessman', 1), ('foiled', 1), ('troupe', 1), ('multi-racial', 1), ('breakdancers', 1), ('akwa', 1), ('ibom!:', 1), ('uruan', 1), ('ex-assembly', 1), ('udom', 1), ('emmanuel', 1), ('tozlet', 1), ('seat|:', 1), ('leprosy', 1), ('full-blown', 1), ('jerkface', 1), ('syndrome', 1), ('lateral', 1), ('lisp', 1), ('rickets.', 1), ('bang...in', 1), ('space.', 1), ('thieves', 1), ('dealership', 1), ('killeen', 1), ('hicksville', 1), ('phones;', 1), ('into...', 1), ('superheroes', 1), ('theyll', 1), ('survive/repopulate', 1), ('superior/hot', 1), ('back!!', 1), ('winged', 1), ('insects', 1), ('fission', 1), ('yesterday,', 1), ('jasmines', 1), ('angeles.', 1), ('peeps!!', 1), ('names.', 1), ('terrified', 1), ('shanaynay!', 1), ('petebests', 1), ('dessicated', 1), ('bare.', 1), ('kneel', 1), ('reason\\nbut', 1), ('raunchy', 1), ('phenomenally', 1), ('mall.', 1), ('restaurants', 1), ('chik', 1), ('tanks.', 1), ('abortions-', 1), ('theocracy!!!!!', 1), ('heroes...', 1), ('hearts...', 1), ('4!!', 1), ('20.', 1), ('sounders', 1), ('bonded', 1), ('crazy.', 1), ('boxes', 1), ('kittens', 1), ('arrived!', 1), ('gameofkittens', 1), ('animations', 1), ('dmt', 1), ('country!', 1), ('here...i', 1), ('hunterston', 1), ('process', 1), ('smithereens...', 1), (\"'x-men\", 1), (\"apocalypse'\", 1), ('?!', 1), ('workspace', 1), ('forsee', 1), ('catalinas.', 1), ('justice.', 1), ('gauges', 1), ('...that', 1), ('dust.', 1), ('3-match', 1), ('calm.', 1), ('happen.', 1), ('wails', 1), ('chair', 1), ('rockin', 1), ('sedan', 1), ('cigarette.', 1), ('mom.', 1), ('seemeth', 1), (\"oliver's\", 1), ('dipping', 1), ('pond,', 1), ('geese', 1), ('street,', 1), ('bite-related', 1), ('1979.', 1), ('plotted', 1), ('truths-of', 1), ('ok.\\nthe', 1), ('block!', 1), ('cervix', 1), ('odell', 1), ('stylist', 1), (\"who'd\", 1), (\"'there's\", 1), (\"catastrophe...'\", 1), ('monster!\\n\\nhttps://t.co/n3i79qlbss', 1), ('shootas', 1), ('burner', 1), ('thediyhacks:', 1), ('illusionimagess:', 1), ('cloud.', 1), ('the_af', 1), (\"'new\", 1), (\"wwii'\", 1), ('2065', 1), ('origins', 1), ('x-rays', 1), (\"x-37b's\", 1), ('$6.6m', 1), ('honor\\n', 1), ('self-inflicted', 1), (\"'nikki\", 1), (\"trouble'\", 1), ('witches', 1), ('castle.', 1), ('bong', 1), (\"marvellous'!\", 1), ('nz', 1), ('retooled', 1), ('retirees', 1), ('handicapped', 1), ('scourge', 1), ('europe!', 1), ('fanged', 1), ('cards.', 1), ('spin', 1), ('23rd', 1), (\"began'...\", 1), ('voltaire', 1), ('imprisoning', 1), ('youth.', 1), ('2000s', 1), ('mortgage', 1), ('loans.', 1), ('since:', 1), (\"pitcher's\", 1), (\"buffett's\", 1), ('sectors', 1), ('w.m.', 1), ('humane', 1), ('organizations--fluctuations', 1), ('disturbances', 1), ('imbalances--are', 1), ('margaret', 1), ('wheatley', 1), ('easier', 1), ('time.\\nhttp://t.co/hgb1mc3irk', 1), ('tap', 1), ('bath.', 1), ('is!????', 1), ('pixar', 1), ('1979', 1), ('gimp', 1), ('newave', 1), ('shining', 1), ('snowstorm!...', 1), ('surprise.', 1), ('dubloadz', 1), ('droppd', 1), ('meelllttting', 1), ('expanded', 1), (\"'slight\", 1), (\"risk'\", 1), ('nc.', 1), ('pots', 1), ('44', 1), (\"persons'\", 1), (\"takeshima's\", 1), ('fisherman', 1), ('occupies', 1), ('\\nhttp://t.co/mjcxgku8yt', 1), ('unloads', 1), ('descriptive', 1), ('indecency', 1), ('(@sinkingshipindy):', 1), ('scarlet', 1), ('lenore', 1), ('saison', 1), ('(@stonebrewingco)', 1), ('tour.', 1), ('here:...', 1), ('shortest', 1), (\"'toy\", 1), (\"boat'\", 1), ('(try', 1), ('fast).', 1), ('safely.', 1), ('waiver', 1), ('occurred.', 1), ('sharper', 1), ('viper', 1), (\"24'\", 1), ('hardside', 1), ('(black)', 1), ('seas', 1), ('giannis', 1), ('d.', 1), ('submerged', 1), ('reef', 1), ('catcher', 1), ('powerful.', 1), ('touches', 1), ('schematization', 1), ('dependable', 1), ('virtue', 1), ('obliteration...xmwte', 1), ('satisfaction', 1), ('reasoned', 1), ('shinto', 1), ('hoshin', 1), ('nautical', 1), ('honshu...', 1), ('stood&amp;watched', 1), ('serbs', 1), ('yougslavia', 1), (\"?don't\", 1), ('7000', 1), ('pennies', 1), ('riddler', 1), ('early-exit', 1), ('presidential', 1), ('revival', 1), ('today!!', 1), ('5th!!', 1), ('planet-x', 1), ('jaysen', 1), ('wormwood', 1), ('correcting', 1), ('resistance', 1), ('guerrilla', 1), ('kpa', 1), ('war-torn', 1), ('netflix\\x89û_', 1), ('dyersburg?', 1), ('whitbourne.', 1), ('around?', 1), ('(peace', 1), ('him)', 1), (\"charity.'\", 1), (\"kennedy's\", 1), ('diplomacy', 1), ('avert', 1), ('bolster', 1), (\"congress'\", 1), ('jerseys', 1), ('assured', 1), ('officer-related', 1), ('investigated:', 1), ('hip-hop', 1), (\"collide'\", 1), ('pastor', 1), ('accident......who', 1), ('kasabwe', 1), ('biryani', 1), ('why\\nhttp://t.co/r5bxzzhxkm', 1), ('mw3', 1), ('champs', 1), ('orgs', 1), ('personally.', 1), ('2gether', 1), ('activity.', 1), ('agreements.', 1), ('heheh', 1), ('thriving', 1), ('hub', 1), ('hi\\x89ûótech', 1), ('business.', 1), (\"ol'\", 1), ('mets.', 1), ('cars?\\nhttp://t.co/zeartxboft', 1), ('reached', 1), ('denying', 1), ('polar', 1), ('ntsb', 1), ('wall\\x89û\\x9d.', 1), ('weren\\x89ûªt', 1), ('warned\\x89û\\x9d', 1), (\"wall'.\", 1), (\"warned'\", 1), ('titled', 1), ('emmeryn', 1), (\"'level\", 1), (\"quest'.\", 1), ('x2', 1), ('quests', 1), ('buren', 1), ('mv', 1), ('strutting', 1), ('bg', 1), ('hijacking:', 1), ('effect.', 1), ('n.', 1), ('history...', 1), ('damage\\x89û\\x9d', 1), ('prescient', 1), ('tropic', 1), ('fat-suit', 1), ('comedies', 1), ('2.40:1', 1), ('ratio.', 1), ('generous', 1), ('albums', 1), ('mofo', 1), ('unarmed', 1), ('gunned', 1), ('worseits', 1), ('asses', 1), ('promise.', 1), ('goin', 1), (\"'in\", 1), (\"lonely'\\neven\", 1), ('lyrical', 1), ('vocalist.', 1), ('melanie', 1), ('fiona', 1), ('lite', 1), ('cure', 1), ('program:', 1), ('lind', 1), ('reply.', 1), (\"'fuck\", 1), (\"off'\", 1), ('anomaly', 1), (\"y'know\", 1), ('outcome.', 1), ('media...', 1), ('helping.', 1), ('overcome', 1), ('behold', 1), ('wonder.\\n\\ntcc', 1), ('light...', 1), ('endless...', 1), ('martyrs', 1), ('massacre:', 1), ('young\\x89û_', 1), ('spsåš', 1), ('dramatically', 1), ('mom!', 1), (\"sky!'\", 1), ('serious!', 1), ('progessive', 1), ('town;', 1), ('khq', 1), ('wildfire:', 1), ('lynchburg', 1), ('lancasteronline', 1), ('wqow', 1), ('rioting!', 1), ('wesley', 1), ('verhoek', 1), ('lighter', 1), ('9m', 1), ('iplayer', 1), ('commentary.', 1), ('soil', 1), ('faster.', 1), ('tfl', 1), ('downtime.', 1), ('subliminal', 1), ('insides', 1), ('box..\\nget', 1), ('customized', 1), ('want!\\n\\n#dcubecrafts', 1), ('starting!!!', 1), ('healthy!!!', 1), ('mixxtail', 1), ('watermelon', 1), ('loko.', 1), ('cruddy', 1), ('ostensibly', 1), ('macabre', 1), ('photography.', 1), ('pandemic.', 1), ('british...', 1), ('atm.', 1), ('[hd]', 1), ('(bilingual)', 1), ('(#dvd', 1), ('2-disc', 1), ('copy)', 1), ('thranduil', 1), ('mirkwood', 1), ('hijacker-turned-sat-tutor', 1), ('evaded', 1), ('humidifier.', 1), ('bomb?!?!?', 1), ('gusto', 1), ('persist', 1), ('empty-pated', 1), ('hpssjd', 1), ('legacy:', 1), ('editorial:', 1), ('cas...', 1), ('fresh\\x89û_', 1), (\"'impossible'\", 1), ('w/e...', 1), ('know..', 1), ('whatevs..', 1), ('winik', 1), ('goddess', 1), ('perk?nas', 1), ('(thunder', 1), ('god)', 1), ('praam\\x81_ius', 1), ('(manifestation', 1), ('dievas).', 1), ('chonce', 1), ('cryibg', 1), ('else.', 1), ('&gt;50%', 1), ('albert', 1), ('demanding', 1), ('publication', 1), ('fatima', 1), ('windows.', 1), ('wc', 1), ('create...', 1), ('flaws', 1), ('postponed', 1), ('first-ever', 1), ('777', 1), ('vanished', 1), ('239', 1), ('writers....she', 1), ('over...#extant', 1), ('pioneer', 1), ('paleface', 1), (\"'rescued\", 1), (\"raft'\", 1), ('container', 1), ('pre-dynastic', 1), (\"''the\", 1), (\"shepherd''\", 1), ('expected..', 1), ('lonelyness', 1), ('depressing', 1), ('feeling.', 1), ('knowledge:', 1), ('foolish', 1), ('(amsal', 1), ('1:7)', 1), ('beheadings!', 1), ('ordained', 1), ('spurgeon', 1), ('nanking', 1), ('massacre-4', 1), ('eyewitnesses', 1), ('(english):', 1), (\"'fat\", 1), ('mentality', 1), ('checking', 1), ('speech.', 1), ('f$&amp;@ing', 1), ('soaked', 1), ('pads', 1), ('tampons.', 1), ('broader', 1), ('trunks', 1), ('freiza', 1), ('cleanest', 1), ('mercy.', 1), ('end!', 1), ('devise', 1), ('caitlin', 1), ('kiernan', 1), ('centipede', 1), ('numbered', 1), ('dones', 1), ('bordering', 1), ('communities.', 1), ('packard', 1), ('dears\\npaul:', 1), (\"mudslide'\\nmary:\", 1), (\"great'\", 1), ('prada', 1), ('??????????????????????????', 1), ('battle!!!!:', 1), ('2:', 1), ('mirad:', 1), ('1:', 1), ('game:', 1), ('novel.', 1), ('rajman', 1), ('hasaka', 1), ('risen', 1), ('chaos;', 1), ('80000', 1), ('instantly.', 1), ('sometime', 1), ('ep03', 1), ('finalise', 1), ('cryptic', 1), ('guided', 1), ('crocodile', 1), ('gravy', 1), ('disarmed.', 1), ('sown', 1), ('court\\x89ûªs', 1), ('prestige', 1), ('prosser', 1), ('has...', 1), ('indeed!', 1), ('(eyewitness', 1), ('series)', 1), ('wexler', 1), ('sanford', 1), ('hardcover', 1), ('311', 1), ('chews', 1), ('night!:', 1), ('chem...', 1), ('bombings', 1), ('overcomes', 1), ('ferrell', 1), ('zach', 1), ('galifianakis', 1), ('comic', 1), ('farce.', 1), ('4*', 1), ('returned!', 1), ('appropriate', 1), ('jamaicans', 1), ('08/07/2015', 1), ('07:30', 1), ('tremont', 1), ('elwoods', 1), (\"(doug's\", 1), ('song)', 1), ('-tune', 1), ('observations', 1), ('??????????????????????????????????????????????????', 1), (\"hadn't\", 1), ('number...', 1), ('managers', 1), ('uniforms', 1), ('implication', 1), ('glove.', 1), ('drought-tolerant', 1), ('perennials', 1), ('integrates', 1), ('format', 1), ('techniqu', 1), ('popped', 1), (\"up's\", 1), ('rioting...', 1), ('oddball', 1), ('observer', 1), ('west\\x89ûªs', 1), ('autocracies:', 1), ('yelling', 1), ('wind-my', 1), ('kasich', 1), ('away..\\nplease', 1), ('mineness', 1), ('adventure', 1), ('terraria', 1), ('hijinks', 1), ('advantages', 1), ('apropos', 1), ('favorable', 1), ('regard', 1), ('mississauga', 1), ('ontario:', 1), ('pwhvgwax', 1), ('machines.', 1), (\"'missing\", 1), (\"info'\", 1), ('non-existant', 1), ('8-minute', 1), ('fat-burning', 1), ('routine', 1), ('weightless', 1), ('fatburning', 1), ('vietnamese', 1), ('returned?', 1), ('390-year-old', 1), ('301+', 1), ('hadnt', 1), ('blocked.', 1), (\"old's\", 1), ('08/06/2015', 1), ('alabamaquake', 1), ('summary', 1), (\"'twins'\", 1), ('school!!', 1), ('year!!', 1), ('bombing.', 1), (\"'1pack\", 1), ('2pack', 1), (\"3pack'\", 1), ('fleek', 1), ('proc', 1), ('philippine', 1), ('thda', 1), ('anti-blight', 1), ('suing', 1), ('l9udest', 1), ('triumphant', 1), ('yolk', 1), ('up!!', 1), ('yoenis', 1), ('masses', 1), ('casey', 1), ('veggies', 1), ('cone', 1), ('windowsill', 1), ('uhc', 1), ('creeper', 1), ('flying.....', 1), ('rn...!!!??', 1), ('snowy', 1), ('hunchback', 1), ('notre', 1), ('the\\nbeginning', 1), (\"what's\\nmentioned\", 1), ('versethe', 1), ('earth\\n(thus', 1), ('universe)', 1), ('power......hiroshima', 1), ('daaamn', 1), ('testament', 1), ('lockstep', 1), ('devotion', 1), (\"'attitude\", 1), (\"problem'\", 1), ('belittled', 1), ('bashed', 1), ('demoralized.', 1), ('\\nfuck', 1), ('thanks!!!!!', 1), ('dante.', 1), ('johnny.', 1), ('benson', 1), ('clegg', 1), ('roadworks', 1), ('tottenham', 1), ('thankkk', 1), ('notificationsu', 1), ('parsholics', 1), ('superb', 1), ('awesomelove', 1), ('antioch!', 1), ('uplifting', 1), ('spirit.', 1), ('anchor', 1), ('\\nour', 1), ('you!!\\n\\nhttps://t.co/578gunp8t9', 1), ('microbes', 1), ('defense\\n\\nhttp://t.co/zahnewjri8', 1), ('texian', 1), ('iliad:', 1), ('hardin', 1), ('l.', 1), ('texas\\x89ûªs', 1), ('gratuitously', 1), ('cruel', 1), ('gayåêman', 1), ('windstormåêinsurer', 1), ('is...', 1), ('seeking', 1), ('pu...', 1), ('tess', 1), (\"spo's\", 1), ('at:...', 1), ('j&amp;k;', 1), ('sun:', 1), ('former\\x89û_', 1), ('office\\x89ûªs', 1), ('razedåê\\x89ûò', 1), ('ikpeazu', 1), ('apga', 1), ('tennis:', 1), ('champ', 1), ('svetlana', 1), ('kuznetsova', 1), ('withdraws', 1), ('citi', 1), ('hatchet:', 1), ('911åêcall', 1), ('faked', 1), ('arson\\x89û_', 1), ('temptation', 1), ('telnet', 1), ('124.13.172.40', 1), ('(streamyx-home-southern', 1), ('my)', 1), ('nations:', 1), ('plantations', 1), ('forests!', 1), ('not\\nto', 1), ('adopt', 1), ('way\\nmaybe', 1), ('something\\nfatal', 1), ('me\\n?whyor', 1), (\"rebahe's\", 1), ('rescind', 1), (\"'honor'\", 1), ('nuys', 1), ('5:30pm', 1), ('$wlb', 1), ('-3.43%', 1), ('techerit:', 1), ('tbi', 1), ('aging', 1), ('analogy', 1), ('cara', 1), ('^mp', 1), ('tarp', 1), ('outfield', 1), ('infield', 1), ('deluged.', 1), ('tarmineta3:', 1), ('goz', 1), ('manually', 1), ('.ru', 1), ('domains', 1), ('co-op.', 1), ('tales', 1), ('talent:', 1), ('misdirection', 1), ('ignite', 1), ('vanishing', 1), ('paradise', 1), ('tagged', 1), ('\\n\\nmillions\\na-punk\\nhang', 1), ('high\\nalpha', 1), ('dog\\nyeah', 1), ('doll', 1), ('face\\nlittle', 1), ('lies\\nexplode', 1), ('t34', 1), ('shirts', 1), ('$10', 1), ('changin', 1), ('airasia', 1), ('wreckage.', 1), ('syd', 1), (\"sweetpea's\", 1), ('allotment', 1), ('brightening', 1), ('rainy', 1), ('jeezus.', 1), ('issue?\\nthis', 1), ('faker', 1), ('kog', 1), ('\\x89û÷plot', 1), ('dijk\\x89ûª', 1), ('?plot', 1), ('dijk?', 1), ('sustainability', 1), ('task', 1), ('levy', 1), ('wdtv', 1), ('10pm', 1), ('travelled', 1), ('rural\\x89û_', 1), ('susinesses', 1), ('stlnd', 1), ('survivors!', 1), ('isabel', 1), ('hodgins', 1), ('miller', 1), ('norton', 1), ('charnock', 1), ('plague\\nfloated', 1), ('flood\\njust', 1), ('peeked', 1), ('mud\\nno', 1), ('immune\\ndeafening', 1), ('bells\\nmy', 1), ('ourselves?', 1), ('spanish!!', 1), ('ritual', 1), ('navigating', 1), ('strikes!', 1), ('whistle', 1), ('survey:', 1), ('52%', 1), ('surveillance', 1), ('ktla', 1), ('ignored:', 1), ('regr...', 1), ('change?', 1), ('calorie', 1), ('klondike', 1), ('bar.', 1), ('stevie', 1), ('photo-op', 1), ('supermarket', 1), ('asx100', 1), ('amalie', 1), ('arena', 1), ('19\\n?', 1), ('suncorp', 1), ('$1.13', 1), ('sunakawa', 1), ('sun_ofgod:', 1), ('superpower', 1), ('2025?', 1), ('buchana...', 1), (\"da'esh\", 1), ('(rightly)', 1), ('despicable.', 1), ('ocalan/', 1), ('marxism?\\n\\n=', 1), (\"values'.\", 1), ('canadasuicide', 1), (':is', 1), ('barbarism', 1), ('saudiåêmosque', 1), (\"shi'ite\", 1), ('saud..', 1), (\"'hits\", 1), ('suggs', 1), ('vivian', 1), ('suffield', 1), ('gloomy', 1), ('windows?', 1), ('w/that', 1), ('routes', 1), ('unite', 1), ('fatal.it', 1), ('success.', 1), ('frustration.', 1), ('junction', 1), ('looking.', 1), ('beep', 1), ('study:', 1), ('divorce', 1), ('approach.', 1), ('fri/sat', 1), ('sutherland', 1), ('gallipoli\\n', 1), ('rainstorm?', 1), ('crowned', 1), ('tends', 1), ('stubborn', 1), ('provinces', 1), ('|rz|', 1), ('aussies:', 1), ('career-best', 1), ('figures', 1), ('8...', 1), ('beetroot', 1), ('makurazaki', 1), ('thousands.', 1), ('ary', 1), ('cowardly', 1), ('japton', 1), ('poss...', 1), ('pea', 1), ('mph...', 1), ('views', 1), ('phalaborwa', 1), ('jobs.', 1), ('component', 1), ('cr...', 1), ('stretcher-bearers', 1), ('their...', 1), ('vampiro.', 1), ('partnerships', 1), ('solution.', 1), ('encaustic', 1), ('cerography', 1), ('byityf', 1), ('activation', 1), ('evergreen.', 1), ('ri', 1), ('city&amp;3others', 1), ('20000k', 1), ('ar...', 1), ('chadbourn.', 1), ('concludes', 1), ('blitzes', 1), ('seminars:', 1), ('blitzed', 1), ('tra...', 1), ('uprootin...', 1), ('northland:', 1), ('northland', 1), ('uprooting...', 1), ('does...', 1), ('horses!', 1), (\"wish'\", 1), (\"will'.\", 1), ('regulations', 1), ('tryin', 1), ('settling', 1), ('vid.', 1), ('stony', 1), ('felons', 1), ('investigating:', 1), ('\\x89ûó\\nstockton', 1), ('drive-by', 1), ('stockton\\n', 1), ('stl', 1), ('ace', 1), ('grille', 1), ('mounts', 1), ('speedtech', 1), ('amber', 1), ('544', 1), ('anywhere.', 1), ('boarders.', 1), ('uninvestigated', 1), ('years:', 1), ('indonesia', 1), ('massacre?', 1), ('gmail...', 1), ('plans?', 1), ('ipa', 1), ('radler', 1), ('help...', 1), ('mortified', 1), (\"rose's\", 1), ('retrofitting', 1), ('reopen.', 1), ('7000-series.', 1), ('thunderstorm/tornado', 1), ('woken', 1), ('dark!', 1), ('2-1-21.', 1), ('stones', 1), ('bones\\nbut', 1), ('intention', 1), ('sanctuary', 1), ('buscemi', 1), ('firefightr', 1), ('workd', 1), ('12hr', 1), ('shifts', 1), ('diggin', 1), ('wtc', 1), ('lookg', 1), ('sterling-scott', 1), (\"'oso\", 1), ('jogger.', 1), ('stepkans', 1), ('l.victoria', 1), ('stemming', 1), ('talk-', 1), ('rosters', 1), ('fans:', 1), ('sideline', 1), ('news.', 1), ('sam.smith', 1), ('vigilent.', 1), ('liberties', 1), ('kids.', 1), ('-kjc', 1), ('cautious.', 1), ('statistically', 1), ('gofundme', 1), ('rims', 1), ('hc', 1), ('4:46', 1), ('25-23', 1), ('jedi', 1), ('hasbro', 1), ('mountaintop', 1), ('scented', 1), ('wildflowers', 1), ('distant', 1), ('air.', 1), ('behavior', 1), ('mixers', 1), ('purposes...jyb', 1), ('stampedes', 1), ('home;', 1), ('stay?', 1), ('tame', 1), ('stamford', 1), ('tightens', 1), ('law:', 1), ('dilapitated', 1), ('sits', 1), ('half-erect', 1), ('hickory', 1), ('int...', 1), ('cafetiere', 1), ('crockery', 1), ('phone\\ntablet.', 1), ('how?', 1), ('ssp', 1), ('aeg', 1), ('061', 1), (\"akram's\", 1), ('carhot', 1), ('exchanged', 1), ('air1bullet', 1), ('booty', 1), ('xv', 1), ('(buildings', 1), ('fire)', 1), ('sprinklers:', 1), ('faq', 1), ('lawn', 1), ('answered', 1), ('ebb', 1), ('53inch', 1), ('300w', 1), ('curved', 1), ('fog', 1), ('fixing/match', 1), ('..anyone???\\nor', 1), ('sl', 1), ('rsa', 1), ('bd', 1), ('sham', 1), ('spokane', 1), ('hamilton.', 1), ('spoilers:', 1), ('wonderfully', 1), ('installment.', 1), ('speeding', 1), ('tee\\x89û_', 1), ('memorable', 1), ('debates:', 1), ('60-second', 1), ('know-it-all:', 1), ('ronald', 1), (\"reagan's\", 1), ('romp', 1), ('spd', 1), ('pray\\n\\nplease', 1), ('shreveport', 1), ('responders...', 1), ('spacex', 1), ('founder', 1), ('musk:', 1), ('prepper', 1), ('fiction:sharecropping', 1), ('awhile.', 1), ('champions:', 1), ('championsblackfoot', 1), ('id:', 1), ('so...', 1), ('ofr', 1), ('sousse', 1), ('tunis', 1), ('recipes', 1), ('recipes:', 1), ('recip', 1), ('sensible', 1), ('murderer...', 1), ('judgement', 1), ('mpc', 1), ('soultech', 1), ('(club', 1), ('souda', 1), ('sorry-i', 1), ('rt@irishirr\\n@mchapmanwsaz', 1), ('..please', 1), ('arrive.', 1), ('kylie', 1), ('james??', 1), ('bruce', 1), ('mousse', 1), ('sorrower', 1), ('(2015', 1), ('metal)', 1), ('sooooo', 1), ('theaters', 1), ('wave??', 1), ('pumped', 1), ('dispatch', 1), ('detonated.', 1), (\"soo..he'll\", 1), ('repentance', 1), (\"children's\", 1), ('sometimesi', 1), ('well\\ni', 1), ('fear\\n#anxietyproblems', 1), ('difficulties', 1), ('osteen', 1), ('emotion', 1), ('celestial', 1), ('separate', 1), ('trajectories', 1), ('intertwine', 1), ('thicker', 1), ('wrong.suddenly', 1), ('deres', 1), ('anoder.did', 1), ('contingency', 1), ('terrorist...', 1), ('frightening', 1), ('responders/', 1), (\"hero's!!\", 1), ('someone:', 1), ('gansey', 1), ('fire\\nme', 1), ('??\\ni', 1), ('bad??', 1), ('obedience', 1), (\"jesus's\", 1), (\"theory.'\", 1), ('reblogged', 1), ('beg', 1), ('stretcher\\nbefore', 1), ('sods', 1), ('amman', 1), ('diverted', 1), ('gurion', 1), ('airport:', 1), ('australians', 1), ('oceans', 1), ('urine', 1), ('47km', 1), ('northwest-proof', 1), ('aftershocks', 1), ('earthquake.~', 1), ('asb', 1), ('whistled', 1), ('now....', 1), ('cope-', 1), ('individual', 1), ('resilience:', 1), ('factsheet', 1), ('responders-', 1), ('construction:', 1), ('vroman', 1), ('house.\\n\\nhttp://t.co/5oqhq8quqv', 1), ('curls', 1), ('soloquiero', 1), ('firefighte...', 1), ('solitude', 1), ('(solitude', 1), ('summary:', 1), ('solano', 1), ('skaggs', 1), ('2040', 1), ('shortages', 1), ('intimate.', 1), ('socialwots:', 1), ('globi_inclusion:', 1), ('nrc_middleeast:', 1), ('engulfs', 1), ('caravans', 1), ('tents', 1), ('handcuffed', 1), ('hookup', 1), ('piggy...', 1), ('soaring', 1), (\"temperature's\", 1), ('scotland.', 1), ('soap', 1), ('un-imaginable', 1), ('splatoon', 1), ('default', 1), ('splattershot', 1), ('jr', 1), (\"landslide\\ni'll\", 1), ('you\\nand', 1), ('\\ngive', 1), (\"sunshine\\ni'll\", 1), (\"married'@foxy__siren:\", 1), (\"??????'\", 1), ('scraped', 1), ('where.', 1), ('.fuck', 1), ('dehydration', 1), ('savages', 1), ('gangstermail', 1), ('samsung', 1), ('mobile?', 1), ('son.', 1), (\"'individual\", 1), (\"kit'\", 1), ('ahamedis', 1), ('messiah', 1), ('ago?', 1), ('dajaal?', 1), ('gog', 1), ('magog?!', 1), ('baa...no', 1), ('shameful', 1), ('tragic..', 1), ('stairs', 1), ('collided...', 1), ('privileged', 1), ('uniform.??', 1), ('paulista', 1), ('pardon', 1), ('mindless', 1), ('hazard-di', 1), ('argument....', 1), ('neptunia', 1), ('non-s-rank', 1), ('colosseum', 1), ('fights.', 1), ('grinding', 1), ('thruuu', 1), ('commenters', 1), ('westeros...nah', 1), ('underestimate', 1), ('gards', 1), ('\\n\\npray', 1), ('crazy\\ncause', 1), ('learned\\nyou', 1), ('fire\\nbecause', 1), ('burned\\x89û_', 1), ('offer!', 1), ('mixes', 1), ('tweets?', 1), ('twitterpated', 1), ('joins', 1), ('ff', 1), ('ren', 1), ('aichi', 1), ('psy', 1), ('misaki', 1), ('fuck?', 1), ('peens', 1), ('single.\\n\\nsex', 1), ('hydrated', 1), ('wave\\x89û_', 1), ('secretly', 1), ('lmk', 1), ('capsize', 1), ('b-5', 1), ('battleship\\n&gt;', 1), ('swam', 1), ('bounced', 1), ('suffice', 1), ('different.', 1), ('hand????', 1), ('man??', 1), ('tc.....', 1), ('exercised', 1), ('guests!', 1), ('austin', 1), ('tsunami?', 1), ('derailed_benchmark', 1), ('paths.', 1), ('resque', 1), ('too?', 1), ('cutest', 1), ('indot', 1), ('bias', 1), ('oblivious', 1), (\"store's\", 1), (\"'omg!!\", 1), ('i.s.i.s.', 1), (\"happening!!!!'\", 1), ('followed', 1), ('joy!', 1), ('358', 1), ('spot.', 1), ('smokers', 1), ('snoop', 1), ('collie', 1), ('buddz', 1), ('mink', 1), ('shevlin-hixon', 1), ('youngins', 1), ('kidneys', 1), ('smhrn', 1), ('wolter', 1), ('peeters', 1), ('rural', 1), ('la\\x89û_', 1), ('bon', 1), (\"s'mores\", 1), ('smackdown', 1), ('tyme', 1), ('slums', 1), ('manifestation', 1), ('citizens.', 1), ('illegality', 1), ('discourse', 1), ('confounds', 1), ('wasting', 1), ('clap', 1), ('pilot.', 1), ('goat.', 1), ('splatdown', 1), ('it.\\n\\nswitching', 1), ('splatling', 1), ('fucboi', 1), ('slips', 1), ('sliding', 1), ('w/tony', 1), ('nester', 1), ('suh', 1), ('practice.', 1), ('\\nhttp://t.co/i1eeuxxz3a', 1), ('vai', 1), ('vir', 1), ('pra', 1), ('irrelevant', 1), ('polaroids.', 1), ('chord', 1), (\"hanneman's\", 1), ('slash-and-burn', 1), ('skynews:', 1), ('health!', 1), ('taguatinga', 1), ('campeonatos', 1), ('taliban', 1), ('explosives-rigged', 1), ('zone!', 1), ('cramming', 1), ('14-hours', 1), ('nyc!', 1), ('sitc', 1), ('\\n\\nmake', 1), ('organisation', 1), ('everywhere!', 1), ('concluded', 1), ('sioux', 1), ('siouxland', 1), ('matters:', 1), ('siouxlan...', 1), ('{part', 1), ('2}\\n??????\\n#buildingmuseum', 1), ('slipper', 1), ('objects', 1), ('unsigned', 1), ('carb', 1), ('consultative', 1), ('subconscious', 1), ('escape:', 1), ('xkdrx', 1), ('muh', 1), ('belie...', 1), ('sel...', 1), ('sinkhole!', 1), ('leaking', 1), ('sewage', 1), ('estate\\nirish', 1), ('independent-3', 1), ('wed...', 1), ('falmer', 1), ('bethlehem', 1), ('overåêhostages', 1), ('chemical-weapons', 1), (\"'red\", 1), (\"line'\", 1), ('2012', 1), ('lcc', 1), ('96355', 1), ('1940', 1), ('angela', 1), ('sanders', 1), ('roundhouse', 1), ('tribulation', 1), ('sinai', 1), ('branch', 1), ('execute', 1), ('simmering', 1), (\"league's\", 1), ('convivted', 1), ('1/n', 1), ('sigalert', 1), ('ufn***-', 1), ('sickmund:', 1), ('ncjfcj:', 1), ('byrne', 1), (\"nat'l\", 1), ('shrnnclbautista:', 1), ('fishtails', 1), ('.75', 1), ('cent', 1), ('natty', 1), ('shouout', 1), ('vocals', 1), ('xv:', 1), ('pierc', 1), ('oppression', 1), ('retaliation', 1), (\"\\n\\n'fuck\", 1), (\"them'\", 1), ('overboard', 1), ('ever!', 1), ('probs:', 1), ('bedhair', 1), ('vagrant', 1), ('shootings', 1), ('baffles', 1), ('me.is', 1), ('sweden?', 1), ('west...arson', 1), ('jihad!\\n\\nhttp://t.co/92f4nkxjiu', 1), ('soulja..', 1), ('shirley', 1), ('caesar', 1), ('polluted', 1), ('106:38', 1), ('abortion.', 1), ('all?', 1), ('careful.', 1), ('microchip', 1), ('needle.', 1), (\"she'd\", 1), ('but\\nthe', 1), ('would....\\nelectrocute', 1), ('lofty', 1), ('transported', 1), ('oz', 1), (\"'everyone\", 1), ('wasabi', 1), (\"'nope'??\", 1), ('floatin', 1), ('shawie17shawie:', 1), (\"cousin's\", 1), ('large\\x89û_', 1), ('come:', 1), ('multimillion', 1), ('chop', 1), ('billet', 1), ('frugal', 1), ('companionate', 1), ('anacrusis', 1), ('intriguing', 1), ('jobbing', 1), ('c-list', 1), ('shadowflame', 1), ('wraith:', 1), ('boxing', 1), ('sh', 1), ('kaimai', 1), ('ranges', 1), ('eastbound.', 1), ('conditions.', 1), ('breakdown...', 1), ('(415)', 1), ('751-0880.', 1), ('shelter/support', 1), ('non-english', 1), ('children.', 1), ('revolution:blight', 1), ('ads', 1), ('9:33pm', 1), ('warn...', 1), ('10:38pm', 1), ('for:', 1), ('(soudelor)', 1), ('5\\nfor:', 1), (\"'hanna'\", 1), ('\\nissued', 1), ('august...', 1), ('pummel', 1), ('cancelled', 1), ('oklahoma.', 1), ('shannon', 1), ('counties', 1), ('sd.', 1), ('enacted', 1), ('9:31pm', 1), ('10:15pm', 1), ('russellville', 1), ('clarksville', 1), ('dardanelle', 1), ('10:15', 1), ('choctaw', 1), ('10:30pm', 1), ('cdt.', 1), ('pictures', 1), ('arcadia', 1), ('t-storm', 1), ('~3:45pm.', 1), ('weakening', 1), ('lubbock', 1), ('outflow', 1), ('boundary', 1), ('county...', 1), ('sevenfigz', 1), ('steps:', 1), ('expense', 1), ('skyline', 1), ('lips', 1), ('record....', 1), ('yennora', 1), ('cabramatta', 1), ('residual', 1), ('websites:', 1), ('though.....', 1), ('otto', 1), ('reggie', 1), ('(one', 1), ('old)', 1), ('fond', 1), ('tears.\\nhttps://t.co/sz2rvwpwhj\\nhttps://t.co/lajx578dru', 1), ('lively', 1), ('tactical', 1), ('marvel...', 1), ('finale', 1), ('serephina', 1), ('defeater', 1), ('yeaahh', 1), ('college?', 1), ('rabbi/social', 1), ('worker:', 1), ('spliff', 1), (\"hoffman's\", 1), ('housing:', 1), ('voices', 1), (\"'alarmed'\", 1), ('harassed:', 1), ('alarmed', 1), ('harm//', 1), ('mode!', 1), ('bridgeport', 1), ('burglar.', 1), ('studies:', 1), ('calabria', 1), ('malta', 1), ('sa-15t', 1), ('sa15t', 1), ('padded', 1), ('(2)', 1), ('qty', 1), ('pair!', 1), ('stay!', 1), ('southpointe', 1), ('boulevard', 1), ('warra', 1), ('whitewalkers', 1), ('intrigued', 1), ('gp', 1), ('dentists', 1), ('like...', 1), ('spinning?', 1), ('i!', 1), ('niamh', 1), ('boat....', 1), ('trench\\x89û_', 1), ('airport?', 1), ('air?.\\n\\nhttp://t.co/yh1cgln3rl', 1), ('poconorecord', 1), ('households', 1), ('virtual', 1), ('listings', 1), ('547', 1), ('fir', 1), ('dorrie', 1), ('caruana.', 1), (\"'honest'\", 1), ('avalanche:', 1), ('catechize', 1), ('confidential', 1), ('respects', 1), ('len...', 1), ('sunday\\x89ûªs', 1), ('seatbelts', 1), ('recks', 1), ('intrusion', 1), ('interior', 1), ('sg', 1), ('sealed', 1), ('commission', 1), ('screams.', 1), ('everyone.\\n\\noh', 1), ('school\\n\\nok\\n\\nim', 1), ('void?', 1), ('tx\\n@5sos', 1), ('daily:', 1), ('strikes....strikes', 1), ('literally..', 1), ('schoolboy', 1), ('mix)\\nexcision', 1), ('skism', 1), ('sexism', 1), ('(far', 1), ('remix)\\nfirebeatz', 1), ('schella', 1), ('new...', 1), ('start:', 1), ('\\n\\nback', 1), ('kids\\n\\nloud', 1), ('\\n\\nniggas', 1), ('down\\n\\naggravating', 1), ('teachers\\n??', 1), ('derailment..', 1), ('63rd/prairie', 1), ('antonio.', 1), ('floor.', 1), ('sb57', 1), ('[new]', 1), ('distribution', 1), ('bal...', 1), ('sb228', 1), ('[passed]', 1), ('relating', 1), ('radiation;', 1), ('repaired.', 1), ('savs', 1), ('convinced', 1), ('guage', 1), ('eyeball', 1), ('guatemala:', 1), ('guatemala.', 1), ('seamstress', 1), ('elvia...', 1), ('159', 1), ('tonne', 1), ('mat', 1), ('riches', 1), ('decrease', 1), ('independent!', 1), ('date!', 1), ('salisbury', 1), ('325', 1), ('cypress', 1), ('10am', 1), ('infamy', 1), ('spies', 1), ('satelite', 1), ('shot:', 1), ('blazing:', 1), ('compl...', 1), ('sassy', 1), ('hunk', 1), ('smoky', 1), ('fe', 1), ('studebaker', 1), ('superintendent', 1), ('lanford', 1), ('sandstorm!!!', 1), ('woo', 1), ('hoo!!', 1), ('patricio', 1), ('homeowners:', 1), ('rep.', 1), ('j.m.', 1), ('lozano', 1), ('jose:', 1), ('willow', 1), ('glen', 1), ('trestle', 1), ('battles', 1), ('jose', 1), ('mercury:', 1), ('i80', 1), ('**hit', 1), ('injuries**', 1), ('i10', 1), ('eo', 1), ('redlands', 1), ('guards', 1), ('jamal', 1), ('...what', 1), ('can&gt;', 1), ('lmao.', 1), ('kfc', 1), ('samel_samel', 1), ('hosts', 1), ('reconnect', 1), ('rally\\x89û_', 1), ('cottages', 1), ('bodies.', 1), ('salha(1):harry', 1), ('styles(2)u', 1), ('p_eople#hurry#evacuate', 1), ('from#hell.#just', 1), (\"shahada&amp;'pick#me'.#class_sick\", 1), ('pump:', 1), ('bee...', 1), ('news..', 1), ('weakened', 1), ('authoritarian', 1), ('disaster\\n@nytimes', 1), ('tent.', 1), ('only...', 1), (\"microsoft's\", 1), ('ursula', 1), ('drool', 1), ('protoshoggoth', 1), ('loved.', 1), ('saddle', 1), ('accountable', 1), ('preferable', 1), ('brass:', 1), ('tawfmcaw', 1), ('beatdown', 1), ('pro-democracy', 1), ('undercover:', 1), (\"saam's\", 1), ('rocks!', 1), ('\\nhttp://t.co/izghpyqko4', 1), ('mp.', 1), ('ferrochrome', 1), ('verge', 1), ('s61.231a', 1), ('index', 1), ('s3xleak!!!\\nph0tos', 1), ('19yrs', 1), ('ash@wo', 1), ('festac', 1), ('exp0sed', 1), ('bbm', 1), ('pictures...', 1), ('\\x89û÷food', 1), ('crematoria\\x89ûª', 1), ('famineåêmemories', 1), ('(xl61-62)', 1), ('link:\\nhttp://t.co/74yfqxvak0', 1), ('319', 1), ('phew!', 1), ('meats', 1), ('incinerator', 1), ('pulkovo', 1), ('press...', 1), ('superiority', 1), ('\\nunconditional', 1), ('surrender', 1), ('putin\\ngame', 1), ('match\\nrelease', 1), ('hungry.', 1), ('government.\\nhttp://t.co/zonnqgsxyw', 1), ('minion', 1), ('indexing', 1), ('remedial', 1), ('angioplasty', 1), ('dissertation', 1), ('dismayed:\\x89û_', 1), ('rt_america:', 1), ('rt_com:', 1), ('(time-lapse)', 1), ('zonewolf123:', 1), ('mo\\x89û_', 1), ('our_mother_mary:', 1), ('janenelson097:', 1), ('stephenscifi:', 1), ('adaptation', 1), (\"human's\", 1), ('optioned', 1), ('geek_apocalypse:', 1), ('gmt', 1), (':hesse', 1), ('fittscott:', 1), ('vi\\x89û_', 1), ('entry', 1), (':tory', 1), ('\\x89û÷assault', 1), ('accountability\\x89ûª', 1), ('40hourfamine:', 1), ('rt-', 1), ('watchmanis216:', 1), ('twit_san_diego', 1), (\"'possible\", 1), ('asphalt', 1), ('sa\\x89û_', 1), ('thr', 1), (\"'rt\", 1), ('thrarchives:', 1), ('1928:', 1), ('skanndtyagi', 1), ('(http://t.co/uuew4mjles\\x89û_', 1), ('sketches', 1), (\"'persons\", 1), (\"interest'\", 1), ('rtphotographyuk:', 1), ('roadid:', 1), ('rabidmonkeys1:', 1), ('??#gbbo', 1), ('pemantaujkt48:', 1), ('melodyjkt\\x89û_', 1), ('patrickjbutler:', 1), ('damiengayle', 1), ('closure:', 1), ('expect\\x89û_', 1), ('owenrbroadhurst', 1), ('juanmthompson:', 1), ('hist\\x89û_', 1), ('notexplained:', 1), ('infamous', 1), ('d.b.', 1), ('cooper.', 1), ('naayf:', 1), ('chandanee', 1), ('magu', 1), ('mma.', 1), ('turned.', 1), ('conf\\x89û_', 1), ('mme_austin:', 1), ('mmda:', 1), ('occupied.', 1), ('mmda', 1), ('t/c', 1), ('site.', 1), ('kurtkamka:', 1), ('karnythia:', 1), ('example?', 1), ('hirochii0:', 1), ('hamosh84:', 1), ('ego?', 1), ('loo\\x89û_', 1), ('greta:', 1), ('impeach', 1), ('grant_factory:', 1), ('weymouth', 1), ('seawalls', 1), ('grants', 1), ('emekagift:', 1), ('vpsay', 1), ('muhammadu', 1), ('buhari', 1), (\"'3\", 1), ('iger', 1), ('alisonannyoung:', 1), ('attendees', 1), ('devereaux', 1), (\"'exciting\", 1), ('scifi', 1), ('tanzania', 1), ('dryden', 1), ('spotted', 1), ('spun', 1), ('sylvan', 1), ('lake.', 1), ('sudan\\x89ûªs', 1), ('women:', 1), (\"'just\", 1), ('\\nhttps://t.co/mexwohd3tg', 1), ('pills', 1), ('share:', 1), ('lith', 1), ('9-11', 1), ('likened', 1), ('cases:', 1), ('probation', 1), ('fines', 1), ('$1179.', 1), ('providers', 1), (\"earth'\", 1), ('250k', 1), ('error:', 1), ('them:', 1), ('**desolation', 1), ('run**', 1), ('8/7!', 1), (\"storm.'\", 1), ('-anonymous', 1), ('venezuela:', 1), ('directed', 1), ('gr\\x89û_', 1), (\"'@livescience:\", 1), ('\\x89ûï\\x89û\\x9d', 1), ('occupied.\\x89û_', 1), ('spouse', 1), ('rp', 1), ('silo', 1), ('260th', 1), ('hartford', 1), ('(route', 1), ('aug...', 1), ('kit:', 1), ('converting', 1), ('cuff', 1), ('inj', 1), ('rossendale:', 1), ('roquey', 1), ('mollusk', 1), ('rousey', 1), (\"'close'\", 1), (\"mayweather's\", 1), (\"dave's\", 1), ('romantic', 1), ('sensei', 1), ('sandunes', 1), ('gentle', 1), ('lapping', 1), ('gulls', 1), ('roger', 1), (\"goodell's\", 1), ('mistake:', 1), ('swells', 1), ('acres;', 1), ('elk', 1), ('monday\\x89ûªs', 1), ('while\\x89û_', 1), ('robot_rainstorm:', 1), ('vacancies', 1), ('gagnon', 1), ('imposing', 1), (\"ballew's\", 1), ('statements', 1), ('level.', 1), ('cascade', 1), ('childress', 1), ('uphill', 1), ('rnk', 1), ('rockingham', 1), ('stokes', 1), ('[nc]', 1), ('supplemental', 1), ('care:', 1), ('(#modesto', 1), ('rmt', 1), ('browne', 1), ('[listeners:', 1), ('2/100]', 1), ('[requests', 1), ('are:', 1), ('on]', 1), ('my\\x89û_', 1), ('timesofindia', 1), ('rizzo', 1), ('riverside', 1), ('tlk', 1), ('widout', 1), ('nuh', 1), ('itz', 1), ('rubbery', 1), ('knw...', 1), ('*music*', 1), ('assessment', 1), ('optimization', 1), ('routing', 1), ('town????', 1), ('whoevers', 1), ('world\\x89ûªs', 1), ('riots-', 1), ('crowds', 1), ('reeves', 1), ('corner\\ncroydonization\\naugust', 1), ('second...', 1), ('leg\\x89û_', 1), ('bah', 1), ('autumn/winter\\n#menswear', 1), ('morty', 1), ('richie:', 1), ('rgj:', 1), ('revise', 1), ('scenario?', 1), ('\\n\\nwhile', 1), ('suspected!!!', 1), ('review:', 1), ('bromleythe', 1), ('revel8ion', 1), (\"'rocky\", 1), ('filmed.\\n#rockyfire', 1), ('revel', 1), ('farewell', 1), ('dvd:', 1), ('gtxrwm', 1), ('everton', 1), ('14-year-old', 1), ('wonderkid!', 1), ('reusing', 1), ('equipments', 1), ('drumming', 1), ('champaign', 1), ('damage:', 1), ('fdbdp', 1), ('silverman', 1), ('(@sarahksilverman):\\n\\nsoundtrack', 1), ('tracey', 1), ('ullman', 1), ('\\n\\n??#follow??', 1), ('?~(', 1), ('??~\\x89û¢)~?', 1), ('results:', 1), ('thane', 1), ('collapse:', 1), ('unfortun...', 1), ('orleans:', 1), ('orlean...', 1), ('people\\x89û_', 1), ('ribbon', 1), ('sicily:', 1), ('rescued\\x89û_', 1), ('black/white', 1), ('$5', 1), ('repulsive!', 1), ('refugees-victimiser-#dutton', 1), ('evangelical-liar-#abbott', 1), ('c/o', 1), ('dupe', 1), ('overdrive;', 1), ('styled', 1), ('undergroundbestsellers', 1), ('reported:', 1), ('run-in', 1), ('roadway-property', 1), ('15901', 1), ('statesville', 1), ('curry', 1), ('herman', 1), ('stephenson', 1), ('use...', 1), ('brewer', 1), ('51-point', 1), ('renewing', 1), ('cabinets', 1), ('jacinta', 1), ('2k13', 1), ('(fallen', 1), ('edit)', 1), ('buff', 1), ('render', 1), ('proxy', 1), ('ssu', 1), ('coast:', 1), ('karen', 1), ('enviromental', 1), ('hijacker.', 1), ('pita', 1), ('hijacks', 1), ('shortcuts.\\nhttp://t.co/qwdkzti97g', 1), ('hijack...', 1), ('supremacist', 1), ('anders', 1), ('breivik', 1), ('unsurprisingly', 1), ('anti-feminist.\\nhttp://t.co/1lxnjvl8tr', 1), ('sgt.-maj.', 1), ('roni', 1), ('ghanem', 1), ('maghar', 1), ('rebecca', 1), ('roga', 1), ('pittsburgh', 1), ('barcousky', 1), ('pb', 1), ('mordechai', 1), ('yehuda', 1), ('friedman', 1), ('ramat', 1), ('shemesh;', 1), ('marlene', 1), ('menahem', 1), ('moshav', 1), ('safsufa;', 1), ('devastating...', 1), (\"'descendants'\", 1), ('baggage', 1), ('carousel', 1), ('kane', 1), ('.20', 1), ('birb', 1), ('nora', 1), ('notice?', 1), ('bomb..an', 1), ('recur', 1), ('greystone', 1), ('\\npic.', 1), ('85885473', 1), ('janta', 1), ('planing', 1), ('-\\n\\n1.', 1), ('constellation', 1), ('gaia', 1), (\"iclown's\", 1), ('drumstep', 1), ('remix\\n2.iclown', 1), ('infinity...', 1), ('data.', 1), ('relaxinpr:', 1), ('miprv:', 1), ('latimes:', 1), ('bureaucrats', 1), ('here&amp;#8217;s', 1), (\"'isis\", 1), (\"video'\", 1), ('\\n\\nplane', 1), ('minister?says\\n', 1), ('reid', 1), ('campground', 1), ('pipeline\\x89û_', 1), ('spill...', 1), ('(la', 1), ('connections', 1), ('indiegogo', 1), ('redscarebot:', 1), ('cover!', 1), ('tanstaafl23:', 1), ('noah_anyname', 1), ('reddit:', 1), ('/r/stormcoming', 1), ('quarantine\\x89û_', 1), ('offensiveåêcontent', 1), ('offensive\\x89û_', 1), ('specif...', 1), ('/via', 1), ('soudelor-15', 1), ('mariana', 1), ('islands', 1), ('06:00', 1), ('faction:', 1), ('(microsoft', 1), ('2011)', 1), ('re-opens', 1), ('bickleton', 1), ('wildfire.', 1), ('9:30pm', 1), ('canteen', 1), ('go...', 1), ('(dust', 1), (').', 1), ('warped', 1), ('discount', 1), ('redesigning', 1), ('website:', 1), ('itrawcwb', 1), ('few..', 1), ('heart-warming', 1), ('terrorism..', 1), ('real-life', 1), ('vibez', 1), ('vibez!!!', 1), ('suffering.', 1), ('life:\\n\\nwomen', 1), ('hop:', 1), ('\\n#jtw', 1), ('bucs', 1), ('errrr', 1), ('nope!!', 1), ('faisal', 1), (\"devji's\", 1), ('extremists', 1), ('pleasure.', 1), ('huzzah.', 1), ('vermilion!', 1), ('reade', 1), ('unhealed', 1), ('unending', 1), (\"'14\", 1), (\"?'let\\x89ûªs\", 1), (\"laundry'?\", 1), (\"mankind's\", 1), ('invention.', 1), ('schoolboy\\x89ûªs', 1), ('whitbourne', 1), ('rationing', 1), ('rascal', 1), ('flatts', 1), ('concert-august', 1), ('2015-2', 1), ('rasaudauthor:', 1), ('song.????', 1), ('16-year-old', 1), ('ablaze\\x89û_', 1), ('ranking', 1), ('convection', 1), ('outflow.', 1), ('spits', 1), (\"paul's\", 1), (\"26'':\", 1), ('voice.', 1), ('thunder.', 1), ('rainstorm??', 1), ('south?', 1), ('gloucester\\n#gloucester', 1), ('ireporter', 1), ('damatu...', 1), ('away...', 1), ('soaker', 1), ('\\n------&gt;', 1), ('&lt;-----', 1), ('\\x89û÷vulnerable\\x89ûª', 1), (\"'vulnerable'\", 1), ('raffi_rc:', 1), ('sustainourearth:', 1), ('wells', 1), ('scoopit', 1), ('scandals', 1), ('israel\\x89ûªs', 1), ('ashdod', 1), ('emittin...', 1), ('europe/radio', 1), ('liberty:', 1), ('to:', 1), (\"r'lyeh\", 1), ('here--&gt;cnn:', 1), ('purported', 1), ('quirk', 1), (\"law's\", 1), ('mthe', 1), ('premises', 1), ('reliable.', 1), ('gambit', 1), ('anakin', 1), ('ship.', 1), ('next!', 1), ('say:', 1), ('vi...', 1), ('views...', 1), ('quake:', 1), ('qtszg', 1), ('mhtw4fnet\\n\\nsuicide', 1), ('qld', 1), ('wrap', 1), ('investigation:', 1), ('queensland', 1), ('investigation...', 1), ('elephants', 1), ('masse', 1), ('backlash', 1), ('entitlement', 1), ('ridiculous.', 1), ('down!!!!', 1), ('jihad', 1), ('mall:', 1), ('\\x89ûïall', 1), ('islamaphobe', 1), ('vets...', 1), ('realtime', 1), ('\\n\\nhttp://t.co/bpg68gxi9k', 1), ('\\n\\nrealtime', 1), ('damages...', 1), ('pulse', 1), ('tuning?', 1), ('2015-16', 1), ('3:15', 1), ('ctr', 1), ('goshen.', 1), ('aims', 1), ('researchers', 1), ('1922', 1), ('psp', 1), ('34:22', 1), ('psalm34:22', 1), ('misti', 1), ('cake????', 1), ('splitting', 1), ('personalities.\\n\\n??', 1), ('techies', 1), ('burners', 1), ('psa-', 1), ('burning-lava-on-fire', 1), ('5+', 1), ('first!', 1), ('gloves!', 1), ('fellowship...', 1), ('(#anchorage', 1), ('department...', 1), ('(#kodiak', 1), ('argentinean', 1), ('wal-mart', 1), ('july:', 1), ('property/casu...', 1), ('rages:', 1), ('people/forests/wildlife/water', 1), ('rages', 1), ('syndicate:', 1), ('states:', 1), ('\\nhttp://t.co/lz8xmyi75x', 1), ('progressive', 1), ('greetings!\\n\\nin', 1), (\"publications'...\", 1), ('motel', 1), ('night?sad', 1), (\"rock'n\", 1), ('roll?', 1), ('phillip', 1), ('amritsar...\\n\\n\\x89ûïthat\\x89ûªs', 1), ('exaggerated', 1), ('wounded\\x89û\\x9d.', 1), ('vegetables', 1), ('poses', 1), ('strips', 1), ('abrianna', 1), ('neat', 1), (\"'detonate.'\", 1), ('onesie', 1), ('hazard.', 1), ('preacher', 1), ('cousin!', 1), ('rain!', 1), ('praise', 1), ('is!!!', 1), ('hiv', 1), ('aggravated', 1), ('transmission.', 1), ('unu', 1), ('gc', 1), ('poway', 1), ('hcg', 1), ('diet-', 1), ('ensures', 1), ('mole', 1), ('whensoever', 1), ('nevermore', 1), ('above:', 1), ('sizygwwf', 1), ('st...', 1), ('potus', 1), ('appoints', 1), ('brig.', 1), ('gen.', 1), ('g.', 1), ('kaiser', 1), ('mississippi', 1), ('commission.', 1), ('mrc:', 1), ('\\nhttp://t.co/ot3bjjhh8s', 1), ('song:', 1), (\"'earthquake'\", 1), ('postal', 1), ('hago', 1), ('escuchando', 1), ('pedo', 1), ('towel', 1), ('warmer', 1), ('businesses.', 1), ('porcupine', 1), ('days!', 1), ('families\\nhttp://t.co/m1rfbpodi9', 1), ('fried', 1), ('ravioliåêwith', 1), ('porcini', 1), ('ricotta\\x89û_', 1), ('liv', 1), ('dude...he', 1), ('valerie...lol', 1), ('kiki', 1), ('row????????', 1), ('polls:', 1), ('unborn', 1), ('mothers', 1), ('spared?', 1), ('lie:', 1), ('lie...', 1), ('preschool', 1), ('attitude:', 1), ('world?', 1), ('allegations', 1), ('policylab', 1), ('neglect', 1), ('policyholders', 1), ('clico', 1), ('repeat', 1), ('bicycles:', 1), ('cus...', 1), ('grandmother', 1), ('wasn&amp;#8217;t', 1), ('omg!!!!!', 1), ('crazy!!!', 1), ('30s', 1), ('st.:', 1), ('carmi...', 1), ('assailant', 1), ('deliberately', 1), ('carolinaåêablaze', 1), ('blowin', 1), ('cus', 1), ('retard', 1), ('drain', 1), ('$', 1), ('instead!', 1), ('fre', 1), (\"'suspected\", 1), (\"heroin'\", 1), ('suspe...', 1), ('jihadis', 1), ('aåêmiddle-aged', 1), ('manåêarmed', 1), ('wi...', 1), ('kill\\x89û_', 1), ('portugal.', 1), ('non-life', 1), ('71', 1), ('plot:', 1), ('franklin:', 1), ('beloeil:', 1), ('richelieu-saint-laurent', 1), ('expanding', 1), ('street\\nhttp://t.co/daacj5hfmq', 1), ('tetovo\\x89û_', 1), ('podcast:', 1), ('pnc', 1), ('holmdel', 1), ('nabbed', 1), ('pledged', 1), ('plymouth', 1), ('(\\x89û÷let\\x89ûªs', 1), ('litter\\x89ûª)', 1), ('silverado/avalanche/blazer/tahoe', 1), ('alllll', 1), ('nittys', 1), ('stockwell', 1), ('plot\\nin', 1), ('futurea', 1), ('totalitarian', 1), ('employs', 1), ('firemen', 1), ('literature', 1), ('dead...\\ni', 1), ('profit-hungry', 1), ('companies.', 1), ('\\nsign', 1), ('now:\\nhttps://t.co/4zsxjgv7it', 1), ('typhoon.', 1), ('essenceofme', 1), (\"major\\n#she's\", 1), ('indoor', 1), ('trampoline', 1), ('fall!!', 1), ('josh', 1), ('salyers/blair/hall', 1), (\"jenna's\", 1), ('prayers.', 1), ('word!', 1), ('pole-vaulter', 1), ('kira', 1), ('grì_nberg', 1), ('paraplegic', 1), ('reiterate', 1), ('individual!', 1), ('-legion!', 1), ('recentlu', 1), ('brasswork', 1), ('shaken', 1), ('ex-president', 1), ('goodluck', 1), ('douchebag.', 1), ('bubble', 1), ('diverts', 1), ('musim', 1), ('plains:', 1), ('estimated.', 1), ('estimated....', 1), ('pl.', 1), ('aborted', 1), (\"bag'\", 1), ('pkadlik', 1), ('jojowizphilipp', 1), ('now...??', 1), ('austin.', 1), ('hiss', 1), ('pisces', 1), ('wristband', 1), ('puppy', 1), ('twp.', 1), ('driscoll', 1), ('snags', 1), ('parkway', 1), ('(@', 1), ('masonite', 1), ('wahpeton', 1), ('nd)', 1), ('inches', 1), (\"long'll\", 1), ('pickathon', 1), ('jackass', 1), ('stuffin', 1), ('--&gt;...', 1), ('preserve', 1), ('(8/4', 1), ('ajw)', 1), ('cs6', 1), ('littlebitofbass:', 1), ('silinski:', 1), (\"onåê'the\", 1), ('premiere...', 1), ('hookier:', 1), ('stills', 1), ('hakogaku:', 1), ('?åêi', 1), ('kurd.', 1), ('sirens...', 1), ('andåêchina', 1), ('cottage', 1), ('garfield:', 1), ('linden;', 1), ('turnpike...', 1), ('xshanemichaelsx:', 1), ('instaxbooty:', 1), ('tumbleon)', 1), ('weallheartonedirection:', 1), ('wouldn\\x89ûªt', 1), ('theonion:', 1), ('heroically', 1), ('oceanåê', 1), ('susfu:', 1), ('cptesco', 1), ('09:39pm', 1), ('referencereference:', 1), ('xekstrin:', 1), ('partake...', 1), ('brooks', 1), ('nearåêdinosaur', 1), ('provincial', 1), ('prettyboyshyflizzy:', 1), ('postapocalypticflimflam:', 1), ('prodding', 1), ('media\\x89û_the', 1), ('thundersnow?', 1), ('uncommon....', 1), ('seattle\\x89ûªs', 1), ('\\x89û÷up\\x89ûª', 1), ('encoded', 1), ('sensory', 1), ('cognitive...', 1), ('affliction', 1), ('primarily...', 1), ('await', 1), ('disembarkment', 1), ('palermo', 1), ('forrestmankins:', 1), ('camping.', 1), ('concrete...', 1), ('deadgirltalking:', 1), ('unfortunemelody:', 1), ('jaylenejoybeligan:', 1), ('tarynel:', 1), ('dredougie:', 1), ('santanico-pandemonium:...', 1), ('boyhaus:', 1), ('jakeåê', 1), ('\\x89ûïafter', 1), ('montana\\x89ûªs', 1), ('evening...', 1), ('bonesymcbones:', 1), ('beartooth', 1), ('source:', 1), ('flattened...', 1), ('cosmetic', 1), ('periwinkle', 1), ('piping', 1), ('corners....', 1), ('åáåáåá', 1), ('ambi', 1), ('handle...', 1), ('bribe', 1), ('efcc', 1), ('operatives\\nsee...', 1), ('ip\\x89û_', 1), ('diplomat', 1), ('philadelphia', 1), ('eagles\\x89ûª', 1), ('matthews', 1), ('pharma', 1), ('overloaded', 1), ('siren.', 1), ('\\n\\n...fucking.', 1), ('petition/no', 1), ('1890', 1), ('americans!', 1), ('heartless', 1), ('animal!', 1), ('remaster', 1), ('frame', 1), ('windwaker-style', 1), ('writings', 1), ('(contributions', 1), ('jihadi', 1), ('proto-states:', 1), ('permutable', 1), ('qwkd', 1), ('outnumbering', 1), ('bears:', 1), ('licenses', 1), (\"florida's\", 1), ('fir...', 1), ('done!', 1), ('cover-up', 1), ('soak!', 1), ('come??', 1), ('perez', 1), ('niley', 1), ('shipper', 1), (\"malaysia's\", 1), ('conclusively', 1), ('netflix', 1), ('documentary', 1), ('narrated', 1), ('hurt.', 1), ('parter', 1), ('j-walk', 1), ('passing...', 1), ('interrupt', 1), ('bernard', 1), (\"them.'\\n\\nusami-san\", 1), ('graduated', 1), ('tagging', 1), ('illusions', 1), ('disgusting.', 1), (\"rousey's\", 1), ('body?', 1), ('ridiculing', 1), ('pennlive', 1), ('mechanicsburg', 1), ('horno', 1), ('pelling', 1), ('hotels:', 1), ('strings', 1), ('concealment', 1), ('rejuvenati???ng', 1), ('pqhaxp', 1), ('peel', 1), ('southdown', 1), ('windsor', 1), ('mississauga.', 1), ('peddle', 1), ('floorboard..', 1), ('backroad', 1), ('song...', 1), ('out\\x89û_', 1), ('now\\x89û_', 1), ('cookie', 1), ('dough', 1), ('??????????????????????', 1), ('paw', 1), ('patrol--', 1), ('pup', 1), ('link:\\nhttp://t.co/n7tg7roamu', 1), ('emile', 1), ('hirsch', 1), (\"'prince\", 1), (\"avalanche'\", 1), ('q&amp;a', 1), ('filmmakers', 1), ('happened....looks', 1), ('mudslide...', 1), ('tyre...', 1), (\"mess...'\", 1), ('dorrett!', 1), ('craig', 1), ('roy', 1), ('1998-99', 1), ('spx', 1), ('finite', 1), ('mint', 1), ('patient-reported', 1), ('metastatic', 1), ('colorectal', 1), ('bayelsaåêstate', 1), ('obliteration\\nback', 1), ('dead\\nstory', 1), ('patent', 1), (\"'armageddon'\", 1), ('up-close', 1), ('areas\\x89û_', 1), ('bestival', 1), ('molloy', 1), ('21st', 1), ('sheet', 1), ('phone:', 1), ('208-267-6773', 1), ('email:', 1), ('pa...', 1), ('beware:', 1), (\"'better\", 1), ('than...', 1), ('change:', 1), ('preconditioning', 1), ('corals', 1), ('increased...', 1), ('panoramic', 1), ('cuts', 1), ('tindering', 1), ('20mins', 1), ('gospel', 1), ('(acoustic)', 1), ('over:', 1), ('ebola\\nhttp://t.co/cy0ciu2u1c', 1), ('amo', 1), ('sublime', 1), ('faceåê(photos)', 1), ('(photos):', 1), ('ogbor', 1), ('(photos)....', 1), (\"pam's\", 1), ('wounding', 1), ('paladins', 1), ('pakpattan', 1), ('pakpattan:', 1), ('electrocuted...', 1), ('ndtv', 1), (\"pakistan's\", 1), ('civilians:', 1), ('empower', 1), ('milita...', 1), ('disowned', 1), ('disowns', 1), ('naved:', 1), ('denial?:', 1), ('an\\x89û_', 1), ('\\npray', 1), ('departed', 1), ('souls.', 1), ('7:12am:', 1), ('panay', 1), ('guimaras', 1), ('negros.', 1), ('mountainous', 1), ('areas.', 1), ('packing', 1), ('ct', 1), ('paci?c', 1), ('australia:', 1), ('rsf', 1), ('gag', 1), ('pleaded', 1), ('overturns', 1), ('crash&gt;http://t.co/ld0uniyw4k', 1), ('overall', 1), ('lads', 1), ('respondents', 1), ('consciousness', 1), ('fgcu', 1), ('concluded.', 1), ('tipster', 1), ('previews', 1), ('48/1', 1), ('double!', 1), ('\\n#chelsea', 1), ('residents!', 1), ('rain!!!', 1), ('vuca', 1), ('raghu', 1), ('wardens', 1), ('lmfao.', 1), ('specialized', 1), ('deeds', 1), ('is\\nnormal', 1), ('acceptable.', 1), ('lab.', 1), ('builder', 1), ('blackmail', 1), ('bump.', 1), ('climbed', 1), ('wheels-(io', 1), ('hawk)!his', 1), ('injury!!!!!', 1), ('belt?mr', 1), ('srk', 1), ('punishment!', 1), ('osp', 1), ('mounting', 1), ('oso', 1), ('osage', 1), ('expander', 1), (\"oregon's\", 1), ('slows', 1), ('orchid', 1), ('riders:', 1), ('forex', 1), ('indicator', 1), ('irretrievable', 1), ('airborne', 1), ('controls:', 1), ('sjfeb', 1), ('bounty...', 1), ('oops.\\nh', 1), ('okinawan', 1), ('coast.\\nfell', 1), ('1965.\\nhttp://t.co/yvsjyzwxjr', 1), ('winner!!!', 1), ('oof.', 1), ('mainland.', 1), ('displaced...', 1), ('vassals!', 1), ('onofre', 1), ('shoreline', 1), ('payer', 1), ('shadowman', 1), ('monstrosities...', 1), ('tsutomi', 1), ('yamaguchi', 1), ('commodity', 1), ('jaiden', 1), ('xcom', 1), ('long.', 1), ('infantryman', 1), ('experimental', 1), ('tutorials', 1), ('assertative', 1), ('intelligence', 1), ('regard...', 1), ('security:', 1), ('appraisal', 1), ('hostages\\nhttp://t.co/baqocmcjqc', 1), ('3000--5000', 1), ('enslaved:', 1), ('iraq\\x89ûªs', 1), ('of.', 1), ('wet????', 1), ('die&gt;', 1), ('on!!!', 1), ('sure-god', 1), ('promised', 1), ('but...the', 1), ('w/nukes.', 1), ('candidates', 1), ('grimes', 1), ('voters', 1), ('up..shit', 1), ('rt-ed', 1), ('lydia', 1), ('4x11', 1), (\"derek's\", 1), ('loft', 1), ('fatally', 1), ('album.', 1), ('upset.', 1), ('x1441', 1), ('x1435', 1), ('x1434', 1), ('x1431', 1), ('x1424', 1), ('x1421', 1), ('x1415', 1), ('x1411', 1), ('x1402', 1), ('x1392', 1), ('x1386', 1), ('zipped', 1), ('bag.', 1), ('considered', 1), ('makers', 1), ('patent...', 1), ('crop', 1), ('seasons.', 1), ('shine.', 1), ('sleet', 1), ('melted', 1), ('cube', 1), ('03:27', 1), ('00:25', 1), ('appetite', 1), ('billboard', 1), ('perforated', 1), ('shear', 1), ('sfor', 1), ('seismic-resistant', 1), ('spoiled.', 1), ('humble', 1), ('alive\\nbut', 1), ('junctions', 1), ('j3', 1), ('j3a', 1), ('eve', 1), ('wmata', 1), ('honored', 1), ('influential', 1), ('severing', 1), ('community.', 1), ('688', 1), ('anna', 1), ('1862', 1), ('crew.', 1), ('i-405', 1), ('sunbathe', 1), ('illustrated', 1), ('bombings.', 1), ('horrifying', 1), ('7/30/2015', 1), ('council', 1), ('admitted', 1), ('100...', 1), ('jets', 1), ('zergele', 1), ('qendil', 1), ('omron', 1), ('hem-712c', 1), ('dicks', 1), ('-___-', 1), ('chopper', 1), ('3-acre', 1), ('grove?', 1), ('^oo^\\n\\n#harrybecareful', 1), ('tricky', 1), ('dicky', 1), ('he...', 1), ('krag', 1), ('looks.', 1), ('necessarily', 1), ('so!', 1), ('be...', 1), ('airplane.', 1), ('omfg??\\ndidnt', 1), ('pandora', 1), ('\\n\\nomfg', 1), ('loud\\nmy', 1), ('omfg....', 1), ('again....', 1), ('multidimensional', 1), ('multidimensiona', 1), ('multidimensio', 1), ('multidimensi', 1), ('multidimen', 1), ('multidime', 1), (\"'damnnnn\", 1), ('rookie...', 1), (\"down!!'\", 1), ('bathroom...its', 1), ('louder...things', 1), (\"'mass\", 1), (\"murder'\", 1), ('horrendous', 1), ('types!', 1), ('okanagan!', 1), ('maxed', 1), ('inquisition', 1), ('darkspawn', 1), ('ht', 1), ('oiled', 1), ('closeup', 1), ('fukurodani', 1), ('bokuto', 1), ('ppor', 1), ('oh.', 1), ('colombian', 1), ('festival\\x89û_', 1), ('sparking', 1), ('akxbskdn', 1), ('ls', 1), ('super.', 1), ('domination', 1), ('coffee.', 1), ('sheeting\\naaaaaand', 1), ('lightning\\ni', 1), (\"dust's\", 1), (\"fidget's\", 1), ('ricochet', 1), ('shelly', 1), (\"blonde.'\", 1), ('madonna', 1), ('1987.', 1), ('boots', 1), ('rob.', 1), ('court!', 1), ('scream!', 1), ('harmony', 1), ('gosh', 1), ('aunts', 1), ('keller', 1), ('god..', 1), (':-(\\n#blackforestgateau', 1), ('god.', 1), ('seen.', 1), ('\\n\\nnot', 1), ('ryans', 1), ('rosie', 1), ('o\\x89ûªdonnell', 1), ('fosters', 1), ('awe', 1), ('days!!!!', 1), ('survived!!!', 1), ('??#emmerdale', 1), ('ball?', 1), ('snowman.', 1), ('tied?', 1), ('sweet!', 1), ('wires...wait', 1), ('elected', 1), ('electrocuted!', 1), ('never-mind!', 1), ('diane', 1), ('taxi.', 1), ('\\n#randomactsofromance', 1), ('nato.', 1), ('unsurprised', 1), ('ogun', 1), ('smugglers', 1), ('shootoutåê:', 1), ('developing', 1), ('symptoms...', 1), ('case.\\n\\nedward', 1), ('khan', 1), ('libya;', 1), ('reviews.', 1), ('official:', 1), ('put:', 1), ('lancaster', 1), ('spectators\\x89û_', 1), ('kinesiology', 1), ('ironmanåš', 1), ('long-lasting', 1), ('durability', 1), ('effectiveness', 1), ('exc...', 1), ('deluxe', 1), ('support/health/home/bathroom/support/elderly/injured/s\\x89û_', 1), ('invincible', 1), ('outfit', 1), ('trolls', 1), ('&amp;automated', 1), ('netbots', 1), ('complimentary', 1), ('assembly?', 1), ('worthless.', 1), ('savior', 1), ('140km', 1), ('ferndale', 1), ('kenyatta', 1), ('muumbo', 1), ('citizens\\n\\nthanks', 1), ('hooked', 1), ('tell.', 1), ('professionally', 1), ('unsensibly', 1), ('outrun', 1), ('2001', 1), ('volvo', 1), ('xc70', 1), ('dashboard', 1), ('lamps', 1), ('w/vent', 1), ('fluid', 1), ('oc73x', 1), ('obsolete', 1), ('hand.', 1), ('stick.', 1), ('obligatory', 1), ('seekers', 1), ('ndetention', 1), ('w/unscreened', 1), ('muslims:', 1), ('declarat...', 1), ('2016?', 1), (\"desolation'\", 1), (\"'lambasted\", 1), ('joke\\x89û\\x9d\\nwould', 1), ('casualties?\\nhttp://t.co/gxqmdmza1u\\n#gop\\n#maddow', 1), ('assumes', 1), ('hmm?', 1), ('(sheer)', 1), ('leelanau', 1), ('2b', 1), ('extended', 1), ('nvidia', 1), ('tablets', 1), ('hazard\\n\\nhttp://t.co/m3nsix073i\\n\\n#nvidia', 1), ('nuu', 1), ('fam??', 1), ('fwt', 1), ('bag??', 1), ('nueva', 1), ('favorita:', 1), ('bits', 1), ('nuclear-powered', 1), ('brassiere', 1), ('\\n\\nread', 1), ('more...', 1), ('railguns', 1), ('t1000s.', 1), ('center\\nhttp://t.co/kf74o2mcsc\\nhttps://t.co/n2zhrchcgv', 1), ('disaster.\\n\\n#irandeal', 1), (\"galactic's\", 1), ('spaceshiptwo', 1), ('st\\nhazard', 1), ('spill\\nstarted', 1), ('11:38am', 1), ('11:54am\\nimpact:...', 1), ('nside', 1), (\"dragon's\", 1), ('belly.', 1), ('under\\na', 1), ('kamchatka', 1), ('photography', 1), ('by\\nå©daniel', 1), ('korzhonov\\nhttp://t.co/8t36hwgoqd', 1), ('freaks', 1), ('listenlive:', 1), (\"'prepared'\", 1), ('jokes', 1), ('trending', 1), ('ruler', 1), ('informant\\x89ûªs', 1), ('collide!!!', 1), ('up!????', 1), ('avalanche...', 1), ('lunatics', 1), ('rental', 1), ('smashing', 1), ('pumpkins', 1), ('web', 1), ('wilderness', 1), ('graph', 1), ('roppongi', 1), ('[22pm]', 1), ('wsls:', 1), ('childcare', 1), ('stations', 1), ('?to', 1), ('nout', 1), ('rubbin', 1), ('dad..', 1), (\"notley's\", 1), ('tactful', 1), ('direct', 1), (\"harper's\", 1), (\"alberta's\", 1), (\"gov't.\", 1), ('premier!', 1), ('risks.', 1), ('surprises', 1), ('puth????????', 1), ('not..', 1), ('temps..', 1), ('endless', 1), ('brats', 1), (\"kiddo's\", 1), ('gi', 1), ('sang', 1), ('bread', 1), ('movie?', 1), ('destination', 1), ('berlin', 1), ('daubt', 1), ('penneys', 1), ('debut', 1), ('severino', 1), ('adjustments', 1), ('content.', 1), ('controlled.', 1), ('refill', 1), ('tourniquet', 1), ('ipok', 1), ('detouring', 1), ('traffic.', 1), ('nooooooooo!', 1), ('nooooo', 1), ('hotty', 1), ('exaggeration', 1), ('ukrainian', 1), ('msm\\n#ukraine', 1), (\"matter'\", 1), ('non-power', 1), ('playoff', 1), ('noel', 1), ('noches', 1), ('el-bestia', 1), (\"'@alexis_sanchez:\", 1), ('teammates', 1), ('goodnight', 1), ('gunners.??????', 1), ('way...i', 1), ('dead..??', 1), ('4%', 1), ('journeys', 1), ('constitute', 1), ('epidemic.', 1), ('drive.', 1), ('lasts', 1), ('prevail.', 1), ('snowflake', 1), ('propagating', 1), ('sweat...fyi', 1), ('water.', 1), ('war.people', 1), ('weapon.\\nwe', 1), ('peace.', 1), ('dilemma', 1), ('set-back;', 1), ('righteousness', 1), ('jah', 1), ('prevail!', 1), ('shii', 1), ('intended', 1), ('cold!', 1), ('gaga', 1), ('escape-', 1), ('dungeon.', 1), ('broadwater', 1), (\"army's\", 1), ('bangtan', 1), ('ones......', 1), ('friendships', 1), ('disaster.\\nnobody', 1), ('confidence', 1), ('japan.\\n#anonymous\\x89û_', 1), ('tonight??', 1), ('inmates', 1), ('remand', 1), (\"later...i'm\", 1), ('nikoniko12022:', 1), ('nikon', 1), ('d50', 1), ('6.1', 1), ('slr', 1), ('batteries', 1), ('high.', 1), ('way..', 1), ('thunderstorm..', 1), (\"'hope\", 1), ('lorr', 1), (\"em'\", 1), ('hating.', 1), ('justine', 1), ('snapping', 1), ('13.', 1), ('nigeriantribune:', 1), ('178', 1), ('bulletin:', 1), ('florid...', 1), ('?who', 1), ('sessions', 1), ('klitschko', 1), ('damaturu', 1), ('-over', 1), ('600\\x89û_', 1), ('massiveåêflooding', 1), ('nieces', 1), ('kids.\\n\\nmegan', 1), ('swanger', 1), ('ruthann', 1), ('mccormick', 1), ('daisy', 1), ('henley...', 1), ('niagara', 1), ('package', 1), ('tours', 1), ('yyeso', 1), ('ngata', 1), ('ng2x5', 1), ('mhtw4fnet\\n\\nwatch', 1), ('meme-baiting', 1), ('camper', 1), ('foxsportscom', 1), ('nflweek1picks:', 1), ('nflexpertpicks:', 1), ('deflategate', 1), ('perfectly.', 1), ('incremental', 1), ('disadvantaged', 1), ('tech', 1), ('technology.', 1), ('free...from', 1), ('obligations', 1), ('family....', 1), ('curfew...', 1), ('up---ah', 1), ('screw', 1), ('cupcake?', 1), ('cramp', 1), ('news@@', 1), ('news@', 1), ('bordentown', 1), ('news786-uk', 1), ('islamist', 1), ('anjem', 1), ('choudary', 1), ('act:', 1), ('wrap:', 1), ('fall...', 1), ('hallett', 1), ('flash!', 1), ('billers', 1), ('promoted', 1), (\"'manager'?\", 1), ('cliff.\\n#humble', 1), ('analysis:', 1), (\"taliban's\", 1), ('ranks', 1), (\"..omar's\", 1), ('demise', 1), ('lead...', 1), ('pleaded...', 1), ('personalize', 1), ('customer', 1), ('cbc', 1), ('newcastle:', 1), ('schoolgirl', 1), ('seaton', 1), ('delaval', 1), (\"'pack\", 1), (\"animals'\", 1), ('answer\\x89û_', 1), ('(http://t.co/18xq3fmuge)', 1), ('new-born', 1), ('piglet', 1), ('willyt', 1), ('/ksl', 1), ('126', 1), ('annihilation?', 1), ('york:', 1), ('millennium', 1), ('plaza.', 1), ('lunch...', 1), (\"legionnaire's\", 1), ('disease?', 1), ('sturgis', 1), ('urges', 1), ('critics', 1), ('chases:', 1), ('police\\x89û_', 1), ('favors', 1), ('smp', 1), ('ks315', 1), ('up..windstorm', 1), ('up...windstorm', 1), ('tomorrow..', 1), ('abuses', 1), ('fashion.:', 1), (\"'waiting\", 1), (\"long'\", 1), ('qb', 1), ('unaffected', 1), ('foster&amp;#039;s', 1), ('prysmian', 1), ('secures', 1), ('durden', 1), ('cowboys', 1), ('dunbar&amp;#039;s', 1), (\"tv'\", 1), (\"'india\", 1), (\"dozens'\", 1), (\"'china's\", 1), (\"rubble?'\", 1), ('\\nthesensualeye:\\n\\nmodel:', 1), ('damage\\n\\ntoronto', 1), ('apr', 1), ('2014\\n\\n#nsfw', 1), ('smb', 1), ('relay', 1), ('steals', 1), ('credentials', 1), ('enablement', 1), ('trooper', 1), ('bobble', 1), ('funko', 1), ('nanotech', 1), ('clots', 1), ('m.o.p.?', 1), (\"'grandeur'\", 1), ('combat...', 1), ('opus:', 1), ('been\\x89û_', 1), ('opus', 1), ('tita-dom:', 1), ('item:', 1), ('premier', 1), ('prints', 1), ('lulu', 1), ('mypillowstudio', 1), ('behead', 1), ('tlvfaces', 1), ('tlvfaces#auspol', 1), ('illustration', 1), ('manly', 1), ('brown)', 1), ('pin:2327564d', 1), ('pantofel)', 1), ('pin:23928835', 1), ('pic.twitter.com/pnpizody', 1), ('featcha!', 1), ('edkins', 1), (\"band's\", 1), ('jarring', 1), ('explosion-proof', 1), ('tempered', 1), ('protector', 1), ('blackberry', 1), ('z10', 1), ('expansion', 1), ('bard', 1), ('event.', 1), ('9:50', 1), ('etx.', 1), (\"'severe\", 1), (\"drought'\", 1), ('marion/harrison', 1), ('counties.', 1), ('pointing', 1), ('doco', 1), ('setanta', 1), ('freeview.', 1), ('crime:', 1), ('rights.', 1), ('punishable', 1), ('cocktail', 1), ('list!', 1), ('mas', 1), ('verde:', 1), ('mezcal', 1), ('chartreuse', 1), ('cucumber', 1), ('bitters....', 1), ('boonie', 1), ('usmc', 1), ('airsoft', 1), ('paintball', 1), ('cap', 1), ('woodland', 1), ('cp030', 1), ('boltåêcyclone', 1), ('pp-400dr', 1), ('packåêfor', 1), ('flash\\n\\n$30\\x89û_', 1), ('article:', 1), ('(fnaf', 1), ('fanfiction):', 1), ('trixie_drowned', 1), ('pageshi', 1), ('proxies', 1), ('15-day', 1), ('rash', 1), ('luck!', 1), ('faith.', 1), ('future.', 1), ('altered', 1), ('achieving', 1), ('dreams!', 1), ('quarrels', 1), ('adventures.', 1), ('compromise.', 1), ('armageddon.\\n#watchmen', 1), ('netnewsledger', 1), ('thereåêwere', 1), ('nepal:', 1), ('rebuilding', 1), ('livelihoods', 1), ('quake', 1), ('ekiti', 1), ('rain/windstorm', 1), ('ode-ekiti', 1), ('gbonyin', 1), ('lga.', 1), ('neil_eastwood77:', 1), ('knobhead!!', 1), ('uke.', 1), (\"journey's\", 1), ('neelum', 1), (\"'dud\", 1), (\"shell'\", 1), ('muzaffarabad:', 1), ('teenage', 1), ('injured\\x89û_', 1), ('bottling', 1), ('cream??', 1), ('stall', 1), ('moment.', 1), ('lame.', 1), ('105', 1), ('ping', 1), ('server.', 1), ('now;', 1), ('me\\x89û_turns', 1), ('glass.', 1), ('captivity', 1), ('introduced', 1), ('compensate', 1), ('53\\x89û_', 1), ('shattered', 1), ('visage', 1), ('lies...', 1), ('nbcnightlynews:', 1), ('billneelynbc', 1), ('nbanews', 1), ('joint', 1), ('typhoon\\x89û_', 1), ('vaccine', 1), ('navy:', 1), ('attack\\n', 1), ('submarines', 1), ('writes:', 1), ('cmdr', 1), ('sidearm', 1), ('nosc', 1), ('charges...', 1), ('lubrication', 1), ('!!!!!!!!!!!#metrofmtalk', 1), ('newser', 1), ('float', 1), ('a&amp;w', 1), ('2pm-close!!', 1), ('donations!!', 1), ('disclos...', 1), ('(nyt)', 1), ('natalie', 1), ('stavola', 1), ('co-star', 1), ('nasahurricane?', 1), ('*full', 1), ('update*', 1), (\"pacific's\", 1), ('hilda\\nth\\x89û_', 1), ('modis', 1), ('image:', 1), ('morocco', 1), ('straits', 1), ('gibraltar', 1), ('sahib', 1), ('sahib:', 1), ('electr...', 1), (\"namjoon's\", 1), ('bye', 1), ('chizu\\ngender:', 1), ('male\\nage:', 1), ('10\\nhair:', 1), ('red\\neyes:', 1), ('pink\\ndere', 1), ('pasokon\\nblood', 1), ('o\\nhttp://t.co/coypf9actd', 1), ('srsly', 1), (\"partner's\", 1), ('&amp;start', 1), ('dribbling', 1), ('&amp;ask', 1), ('urself', 1), ('embarrassment', 1), ('unconscious', 1), ('naaa', 1), ('sore', 1), ('mygc:', 1), ('suspend', 1), (\"myanmar's\", 1), ('coun\\x89û_', 1), ('childfund', 1), ('appeals', 1), ('occur', 1), ('cruising', 1), ('pandaw', 1), ('expeditions', 1), ('operating', 1), ('landsli...', 1), ('regions', 1), ('dwindling', 1), ('suppl...', 1), ('wedneday', 1), ('opted', 1), ('historically', 1), ('bonfires', 1), ('fires-rain!', 1), ('vibrator', 1), ('vape', 1), ('busted', 1), ('morning!!', 1), ('south\\x89û_', 1), ('away:', 1), ('parks', 1), ('imposition', 1), ('imagined!', 1), ('4am', 1), ('rl', 1), ('sis', 1), ('accidently', 1), ('exams', 1), ('ocd', 1), ('sunday....dont', 1), ('infact', 1), ('zimmer', 1), ('is....injury', 1), ('battle...another', 1), ('portable', 1), (\"'maybe\", 1), (\"clothes'\", 1), ('dream.', 1), ('impulsive', 1), ('redesigned.', 1), (\"'would\", 1), (\"here?'\", 1), ('sounds:', 1), (\"'bad\", 1), (\"now'\", 1), ('tomorrow!!!', 1), ('breaking/falling', 1), ('controllers', 1), ('lifelong', 1), ('all-time', 1), (\"'landslide'.\", 1), ('terrifying.', 1), ('2nd.', 1), ('temp', 1), ('crashed.....', 1), ('\\n#weloveyoulouis', 1), ('\\n#mtvhottest', 1), ('effected', 1), ('cali????', 1), ('pensioner', 1), ('stories\\nsafe', 1), ('melbourne', 1), ('same...', 1), ('warm.', 1), ('fade', 1), ('100nd', 1), ('staining', 1), ('meeting\\nhopefully', 1), ('excite', 1), ('stefano', 1), ('dog\\x89ûªs', 1), ('kennel', 1), ('yorkshire', 1), ('farted', 1), ('broom', 1), ('lookin', 1), ('air!!!', 1), ('thinner', 1), ('fundwhen', 1), ('chords', 1), ('chacos', 1), ('8pm', 1), ('crunchysensible', 1), ('footwear', 1), ('brother-n-law', 1), ('riooooos', 1), ('socket', 1), ('brains', 1), ('deluged;', 1), ('vibrating', 1), ('mri', 1), ('readout', 1), ('faultline', 1), ('rumor', 1), ('shit!!!!', 1), ('disappointing', 1), ('buzzy', 1), ('kame', 1), ('bid.', 1), ('sunburned', 1), ('wreak', 1), ('seatbelt!!!...', 1), ('header', 1), ('bomb????', 1), ('shhhh???????', 1), (\"don't?\", 1), ('collided!', 1), ('podcast!!', 1), ('mxaaaa', 1), ('mva', 1), ('fl:', 1), ('e7', 1), ('requesting', 1), ('r7', 1), ('sunstar', 1), ('injuries\\x89û_', 1), ('must-see:', 1), ('forecast!', 1), ('buildings\\n\\n-loses', 1), ('followers-', 1), ('wrld.', 1), ('\\x89û÷avalanche\\x89ûª', 1), ('murfreesboro', 1), ('peeps-', 1), ('rumor?', 1), ('deactivated!', 1), ('averted.', 1), ('mumps', 1), ('mumbai24x7', 1), ('ind...', 1), (\"mum's\", 1), ('houses/buildings', 1), ('kalispell', 1), ('nh.', 1), ('mtr', 1), ('appalling:', 1), ('businessmen', 1), ('msha', 1), ('deaths:', 1), ('mrw', 1), ('mpd', 1), ('armstrong:', 1), ('felt.', 1), ('accidents\\x89ûª:', 1), ('\\n\\nmp', 1), ('lives\\nhttp://t.co/ltyefjdm3a', 1), (\"'bang\", 1), (\"roll'\", 1), ('loud.', 1), ('brut', 1), ('pops.', 1), ('banki', 1), ('f...', 1), ('mouna', 1), ('knob+boot+emergency', 1), ('5\\x89û_', 1), ('12v', 1), ('24v', 1), ('local\\x89û_', 1), ('tak...', 1), ('motogp', 1), ('indianapolis:', 1), ('espargaro:', 1), (\"'worries\", 1), (\"little'\", 1), ('barrel', 1), ('threat\\x89û_', 1), ('ddnt', 1), ('ostentatious', 1), ('woke!', 1), ('forces;', 1), ('x:', 1), ('predator.\\nhttps://t.co/iggfnbixt5', 1), (\"sega's\", 1), ('gross', 1), ('morganite', 1), ('gemstone', 1), ('opal', 1), ('925', 1), ('r1354', 1), ('1921', 1), ('pl', 1), ('ms++++++', 1), ('satin', 1), ('like!', 1), ('1880', 1), ('dmpl', 1), ('cameo', 1), ('rev', 1), ('ms+++++', 1), ('grade!', 1), ('more--&gt;osha', 1), ('siteinvestigating', 1), ('noranda', 1), ('-kfvs12', 1), ('girardeau', 1), ('carbondale', 1), ('comp...', 1), ('campers', 1), ('blazes', 1), ('area:', 1), ('knw', 1), ('flames!!!', 1), ('killed/injured', 1), (\"killer's\", 1), ('isis.', 1), ('dirtylying', 1), ('dishonest', 1), ('\\nhttp://t.co/3m7amh1e33\\n\\n#whitegenocide', 1), ('asir', 1), ('10+', 1), (\"'special\", 1), (\"forces'\", 1), ('mopheme', 1), ('bigstar', 1), ('montgomery', 1), ('weather...stay', 1), ('stds.', 1), ('slogan.', 1), ('prompting', 1), ('notorious', 1), ('laboratory', 1), ('dealer', 1), ('peta', 1), ('invest...', 1), ('ninja.', 1), ('commence', 1), ('momentsathill', 1), ('nunus', 1), ('timas', 1), ('bikes', 1), ('mom:', 1), (\"wished'\", 1), ('\\nme:', 1), (\"that?'\\nmom:\", 1), ('spilt', 1), ('mayonnaise', 1), ('mcr', 1), ('status!!!', 1), ('snort!', 1), ('\\nhttp://t.co/jst5hauk35', 1), ('molecularly', 1), ('~27%', 1), ('contig', 1), ('usa;', 1), ('~80m', 1), ('ga.', 1), (\"'carry'\", 1), ('mmmmmm', 1), ('burning....', 1), ('building....', 1), ('oooooohhhh', 1), ('oooh', 1), ('ooh...', 1), ('2.4', 1), ('magnitudeåêåêml', 1), ('2.4regionåêåênear', 1), ('turkey...', 1), ('airplane:', 1), ('misocapnist:', 1), ('tobacco', 1), ('mirajane', 1), ('lalaloopsy', 1), ('seed', 1), ('sunburst', 1), ('seashore', 1), ('spice', 1), ('strike;', 1), ('botha', 1), ('apartheid', 1), ('tutu', 1), ('nobel', 1), ('prize;', 1), ('ira', 1), ('ethiopia.', 1), (\"'84\", 1), ('salivation', 1), ('beds:', 1), ('kegm', 1), ('slithering', 1), ('viscous', 1), ('yeahs', 1), ('erykah', 1), ('badu)\\x89û_', 1), ('livemint', 1), ('injured\\n\\nsuspected', 1), ('magner', 1), ('betrayed:', 1), ('erecting', 1), ('monuments', 1), (\"nations'\", 1), ('\\x89ûïheat', 1), ('dome\\x89û\\x9d', 1), ('microsoft\\x89ûªs', 1), ('nokia', 1), ('rrod', 1), ('bowknot', 1), ('womengirls', 1), ('zip', 1), ('jumper', 1), ('4-6', 1), ('lifts', 1), ('glided', 1), ('onlin...', 1), (\"victim's\", 1), ('mgs4', 1), ('mgsv', 1), ('iffy', 1), ('mexico:', 1), ('killsåêone', 1), ('beaches', 1), ('7/29/25', 1), ('subsecretariat', 1), ('garcia', 1), ('castells', 1), ('42.', 1), ('requa', 1), ('cars.', 1), ('contemplation', 1), ('bridal', 1), ('wiwnpfxa', 1), ('metallica', 1), ('inc', 1), ('guns.', 1), ('illness', 1), ('shooters?', 1), ('weirdos', 1), ('w/weapons..', 1), ('brighton:', 1), ('landowner', 1), ('10\\x89û_', 1), ('messi:', 1), ('tattoos', 1), ('blood\\nronaldo:', 1), ('boards', 1), ('582)', 1), ('616', 1), ('workers.', 1), ('mere', 1), (\"'theatre\", 1), (\"+shooting'\", 1), ('spike', 1), ('30min', 1), ('$ckec', 1), ('mental/twitter', 1), ('reminders', 1), ('battery.', 1), ('real..??depression', 1), ('alone..??', 1), ('in..??', 1), ('you???', 1), ('zipper', 1), ('reebok', 1), ('xl', 1), (\"'controlled'\", 1), ('passive', 1), ('aggressively', 1), ('coerced', 1), ('commitment', 1), ('ready...', 1), (\"parley's\", 1), ('day????????????????????????????', 1), ('joined\\x89û_', 1), ('jessica', 1), ('hollis', 1), ('(69', 1), ('1945)', 1), ('200.000+', 1), ('norwalk', 1), ('ordinance', 1), ('megalpolis', 1), ('petting', 1), ('shiver', 1), ('\\nfear', 1), ('overflow\\nwas', 1), ('commencement', 1), ('megadeth-symphony', 1), ('megadeth', 1), ('hiking', 1), ('rs5', 1), ('brinco', 1), ('beacon.', 1), ('drake\\x89ûªs', 1), ('wedgie', 1), ('obliterate...', 1), ('files)\\nfranklin', 1), ('aladdin.', 1), ('18)\\nfranklin', 1), ('aladdin', 1), ('edition.', 1), ('testa:', 1), ('distinction', 1), ('divers:', 1), ('htarvrgly', 1), ('shell:', 1), ('casting', 1), ('deviating:', 1), ('dyxtmrydu', 1), ('(dis', 1), ('foxa', 1), ('cmcsa', 1), ('sni', 1), ('amcx', 1), ('viab', 1), ('twx)', 1), ('hikers', 1), ('sign-in', 1), ('trailheads', 1), ('parker...', 1), ('actively', 1), ('embraced', 1), ('audiences.', 1), ('30-60', 1), ('max.', 1), ('me-', 1), ('obliterated\\n\\n*has', 1), ('messages*', 1), ('(ib:', 1), ('lax', 1), ('2hours', 1), ('pga', 1), ('speculation', 1), ('fueled', 1), ('speculatio...', 1), ('mbataweel:', 1), (\"airplane's\", 1), ('align', 1), ('half-way', 1), ('flirt', 1), ('shelli', 1), ('floods!', 1), ('rodder', 1), ('keeling', 1), ('427', 1), ('barracuda', 1), ('riviera', 1), ('maxsys', 1), ('baume', 1), ('digs', 1), ('controversial', 1), ('\\x89û÷stonewall\\x89ûª', 1), ('were:', 1), ('matako_milk:', 1), ('matako_3:', 1), ('master0fsloths', 1), ('taiwan.', 1), ('?\\nhttp://t.co/wuh1g2blp1\\n#??_????_?????', 1), ('fanatical', 1), ('hygiene', 1), ('guevara', 1), ('greeting', 1), ('korea', 1), (\"firefighter's\", 1), ('bravery...', 1), ('flames...', 1), ('troy', 1), ('marsac', 1), ('causin...', 1), ('3x5', 1), ('1x1', 1), (\"destruction\\\\'s\", 1), ('elvis', 1), ('presley', 1), ('panther.', 1), ('\\n\\nshuffle', 1), ('legend.', 1), ('marley', 1), ('brinx', 1), ('striptease', 1), ('nhk', 1), ('marketforce\\x89ûªs', 1), ('\\x89ûïcat', 1), ('shark\\x89û\\x9d', 1), ('marketforce', 1), ('perth', 1), (\"'iinet\", 1), ('nbn', 1), ('buffering', 1), (\"shark'\", 1), ('activision', 1), ('cognizant', 1), ('to-read:', 1), ('calendars:', 1), ('raleigh!', 1), ('sr121', 1), ('maratha', 1), ('scorched', 1), ('1943', 1), ('bengalis', 1), (\"'hard\", 1), (\"feelings'\", 1), ('wild#fires', 1), ('burning:', 1), ('cal', 1), ('lightman', 1), ('manuscript', 1), ('suspiciously', 1), ('viayoutube', 1), ('manuel', 1), ('accuracy', 1), ('improves.', 1), ('mango', 1), ('ice&gt;&gt;&gt;&gt;??', 1), ('mane', 1), ('10-6', 1), ('shuffle', 1), ('bed.', 1), ('butterflies', 1), ('swarmed', 1), ('offer.', 1), ('canines', 1), ('lower++', 1), ('niece\\nhttp://t.co/ev1ahoucza', 1), ('underground.', 1), ('auburn', 1), ('morels', 1), ('ambleside', 1), ('farmr', 1), ('mart.sun.-mushroom', 1), ('foragesecret', 1), ('barrington', 1), ('hills:', 1), ('estates', 1), ('single-car', 1), ('afte...', 1), ('oppose', 1), ('power...wow', 1), ('evidence.', 1), ('risks....', 1), ('nothingness', 1), ('infinity', 1), ('blaise', 1), ('pascal', 1), ('radcliff', 1), ('newborn', 1), ('dumpster', 1), (\"moore's\", 1), ('pool!', 1), ('al.c..', 1), ('currensy', 1), ('talk...', 1), ('ghostwriter', 1), ('else....', 1), ('dubbo', 1), ('shawnee', 1), ('burglary:', 1), ('olathe', 1), ('kan.', 1), ('plate.', 1), ('hit-and-run', 1), ('sbee', 1), ('thugging', 1), ('homies', 1), ('inmate', 1), ('saadthe', 1), ('kpdied', 1), ('2007he', 1), ('razak', 1), ('isla...', 1), ('france.\\n\\nplane', 1), ('17months', 1), ('pikin', 1), ('happening!', 1), ('drift', 1), ('storming', 1), ('while.', 1), ('bebacksoon.', 1), ('hamayun', 1), ('shaheed', 1), ('mi-7', 1), ('heli', 1), ('highway:', 1), ('then\\x89û_', 1), ('almighty', 1), ('dh30000', 1), ('4.3', 1), ('rattles', 1), ('magnetic', 1), ('electrostatic', 1), ('fusion', 1), ('kissimmee', 1), ('mafireems:', 1), ('wmur9:', 1), ('wmur9', 1), ('kcarosawmur', 1), ('lives:', 1), (\"passengers'\", 1), ('train...', 1), ('14028', 1), ('contained:', 1), ('cookbook:', 1), ('maailiss:', 1), ('maaaaan', 1), ('m9a1', 1), ('phrobis', 1), ('bayonet', 1), ('sheath', 1), ('nr', 1), ('[01:04', 1), ('utc]?5km', 1), ('hawaii.', 1), ('m1.57', 1), ('[01:11', 1), ('utc]?3km', 1), ('henshaw', 1), ('epicente...', 1), ('epicen...', 1), ('-07...', 1), ('1km', 1), ('nne', 1), ('geysers', 1), ('23:40:21', 1), ('16:40:21', 1), ('16:54:09', 1), ('0.9', 1), ('utc2015-08-06', 1), ('lzk', 1), ('[ar]', 1), ('8:15', 1), ('sinking!', 1), ('singing:', 1), ('lyf', 1), ('lustig', 1), ('flattened...he', 1), ('longer..\\n\\ncommons', 1), ('gms', 1), ('off...\\n\\nwater', 1), ('break!', 1), ('0-0', 1), ('76mins', 1), ('lupe', 1), ('boring.', 1), ('\\n~peace~love~rescue~', 1), ('luke', 1), ('ovaries', 1), ('luckily', 1), ('mexicans', 1), ('woulda', 1), ('lucas', 1), ('duda', 1), ('rider.', 1), ('nic', 1), (\"'engulfed\", 1), (\"flames'\", 1), ('badass.', 1), ('ltd', 1), ('tonka', 1), ('tfd', 1), ('refer', 1), ('boi', 1), ('he\\x89ûªs', 1), ('\\x89ûïsippin\\x89ûª', 1), ('lame', 1), ('lasso', 1), ('to.??', 1), ('this!!!', 1), ('vantage', 1), ('gasping', 1), ('giggling', 1), ('eye.', 1), ('instagram.', 1), ('sumn.', 1), ('happened!', 1), ('skiing', 1), ('corporation.', 1), ('ubc', 1), ('98fm', 1), ('own.', 1), ('jesse', 1), ('suffers', 1), ('trashed', 1), ('106.1', 1), ('maddie', 1), ('tae', 1), ('sophie', 1), ('cultsierre', 1), ('leave.', 1), ('!??', 1), ('susceptible', 1), ('ny2', 1), ('trama.', 1), ('clancy', 1), ('novels', 1), ('paperback', 1), ('card.\\npanic.\\nkind', 1), ('driver.\\nreplace', 1), ('card.\\nfind', 1), ('card.\\nheaddesk.', 1), ('looooooooooool', 1), ('looooool', 1), ('montano', 1), ('microsofts', 1), ('storm-free', 1), ('happenings', 1), ('mudslide!\\n\\n#gbbo', 1), ('solicitor', 1), ('look:', 1), ('munch', 1), ('endangered', 1), ('matters', 1), ('cuyahoga', 1), ('greening', 1), ('methods', 1), ('obtaing', 1), ('rank', 1), ('transcription', 1), ('detonation:', 1), ('butiqob', 1), (\"them'@ayhoka_:\", 1), (\"long'@foxy__siren:\", 1), ('battles.', 1), ('committing', 1), ('dallas:', 1), ('will...', 1), ('foo', 1), ('technically', 1), ('geologic', 1), ('fact.', 1), ('terrible.', 1), ('loner', 1), ('diaries.\\n\\nthe', 1), ('sand\\nmay', 1), ('away.\\nthe', 1), ('twos\\nall', 1), ('choked', 1), ('flames....', 1), ('survivor:', 1), ('redwing', 1), ('team\\x89û_', 1), ('gallipoli', 1), ('ago:', 1), ('cartridges:', 1), ('cartridges...', 1), ('bombed-out', 1), ('iiii', 1), ('riveeeeeer', 1), ('warthen', 1), ('bullpen', 1), ('bubble.', 1), ('legacy.', 1), ('meerkat', 1), ('periscope', 1), ('streaming.', 1), ('whipping', 1), (\"'@j2bone:\", 1), ('*cousin', 1), (\"lol''\", 1), ('lol\\nlook', 1), ('infested', 1), ('america\\nyour', 1), ('weapon\\nyou', 1), ('wimp', 1), ('locksmithing-art', 1), ('respecting', 1), ('elaboration', 1), ('locks:', 1), ('lpdkl', 1), ('manhood', 1), ('sissy', 1), ('??\\x89ûï', 1), ('advances', 1), ('treasure-house', 1), ('outbreed', 1), ('take-home:', 1), ('akx', 1), ('foreclosed', 1), ('on...tejc', 1), ('hhahaha', 1), ('kid..', 1), ('fuckboy', 1), ('control\\n@pseudojuuzo', 1), ('ll//ll=', 1), ('lizzie363', 1), ('flood--rainstorm', 1), ('$14000.', 1), ('thnk', 1), ('float!!!', 1), ('wizard', 1), ('boyd', 1), ('international\\ndomestic\\nteam', 1), ('squad\\nprofile', 1), ('injury\\nlamha', 1), ('ba', 1), ('lamha', 1), ('update\\n+\\nfollow\\n@icc_realckt', 1), ('balanced', 1), ('gecko', 1), (\"chillin'\", 1), ('garden!', 1), ('drown!\\x89û_', 1), ('litigation', 1), ('attorney', 1), ('scottsdale', 1), ('az:', 1), ('bodily', 1), ('can...', 1), ('lithgow', 1), ('remodeled.', 1), ('backty', 1), ('curds', 1), ('grandad', 1), ('blowers', 1), ('tuffers', 1), ('stuff!', 1), ('youth\\ndid', 1), ('it?\\nhttps://t.co/2liwkjybe9', 1), ('\\n#norge2040', 1), ('parenthood!!\\n*whiny', 1), ('voice*', 1), (\"aboooooortiooooonnnnns.'\", 1), ('beth', 1), ('underwood', 1), ('altitude', 1), ('ace!', 1), ('lindenow:', 1), ('3:15pm\\nemergency', 1), ('board.', 1), ('lily', 1), ('xo', 1), ('cowgirl', 1), ('yc', 1), ('unhappy', 1), ('purposely', 1), ('uncover', 1), ('slumber.', 1), ('created?', 1), ('chases', 1), ('imperialism', 1), ('spins', 1), ('globe;', 1), ('militarism', 1), ('crushes', 1), ('peoples', 1), ('/r/pics', 1), ('trolleys', 1), ('ramify', 1), ('multitudinal', 1), ('disposed:', 1), ('kwxggt', 1), ('vancouveråêisland', 1), ('mag.', 1), ('4.4', 1), ('73km', 1), ('khuzdar', 1), ('wednes...', 1), ('lifes', 1), ('~lyricaleyes', 1), ('amazin', 1), ('dedication', 1), ('motivation', 1), (\"\\nyou're\", 1), ('lhh', 1), ('mastered', 1), ('goof', 1), ('guild', 1), ('saunders.', 1), ('glencoe', 1), ('haired', 1), ('dreamland', 1), ('goooooooo', 1), ('untill', 1), ('space..', 1), ('fence.', 1), ('help?', 1), ('brbrs', 1), ('fousey', 1), ('prevented', 1), ('nashville.', 1), ('surf!', 1), ('waimea', 1), ('brandace', 1), ('all...we', 1), ('survived!', 1), ('500\\x89û_', 1), ('consuming', 1), ('leitchfield', 1), ('ky:\\n\\n', 1), ('bella', 1), ('rosalie', 1), ('rescue/adoption/local', 1), ('home(s)/sponsorships.\\n\\n', 1), ('leicester_merc', 1), ('worst-ever', 1), ('city:', 1), ('leesburg', 1), ('scoreless', 1), ('seventh', 1), ('fcsl', 1), ('leeds', 1), ('fan....', 1), ('embra', 1), ('tier/', 1), ('dee', 1), ('dum', 1), ('lee', 1), ('comedy:', 1), ('\\x89ûï@leejasper:', 1), ('volcanic', 1), ('thirty-five', 1), ('later:', 1), ('eruption:', 1), ('fifteen-mile-high', 1), ('plume', 1), ('earners', 1), ('$20', 1), ('le', 1), ('breeder!', 1), ('bred', 1), ('dragonvale!', 1), ('fav.', 1), ('lapses:', 1), ('express:', 1), ('indi...', 1), ('ti...', 1), ('niqqa', 1), ('stressing', 1), ('pastie', 1), ('industrial', 1), (\"'wreck-it\", 1), (\"ralph'\", 1), ('\\n\\n@calum36chambers', 1), ('benjamin', 1), ('leftwich', 1), ('30pcs', 1), ('12mm', 1), ('ab', 1), ('resin', 1), ('flatback', 1), ('rhinestone', 1), ('decoration', 1), ('catlow', 1), ('c720', 1), ('swivels', 1), (\"3/4'\", 1), ('3dc', 1), ('shar', 1), ('shaolin', 1), ('(dvd', 1), ('2010)', 1), ('shen', 1), ('chan', 1), ('chiang', 1), ('venoms', 1), ('kung', 1), ('fu', 1), ('favori', 1), ('atop', 1), ('latter!#nno2015', 1), ('ffa', 1), ('foodstand', 1), ('fairgrounds.', 1), ('9am.', 1), ('news3lv', 1), ('georgia:', 1), ('sinkhole\\x89û_', 1), ('aqua...http://t.co/scghl0piq6', 1), ('anderson', 1), ('hinton:', 1), ('aluminum', 1), ('missouri', 1), ('re:naomi-no', 1), ('langhorne-middletown', 1), ('heavyåêrain', 1), ('three:', 1), ('italianåêalps', 1), ('fleetwood', 1), ('bombed...', 1), ('durant', 1), ('nba', 1), ('adidas', 1), ('swingman', 1), ('$75', 1), ('huffington', 1), ('kurd', 1), ('kuala', 1), ('lumpur', 1), ('shizune.\\nthe', 1), ('kou', 1), ('[cash', 1), ('register]', 1), ('[buildings', 1), ('burning]', 1), ('kotolily_:', 1), ('kosciusko', 1), ('kontrolled', 1), (\"'us\", 1), (\"bad'.\", 1), ('bs!', 1), ('dice', 1), ('them......then', 1), ('\\n#gym', 1), ('kirsten', 1), ('gillibrand', 1), ('extend', 1), ('kinetic', 1), ('typography', 1), ('(after', 1), ('effects)', 1), ('kindermorgan', 1), ('kimanzi_:', 1), ('demonstrations', 1), ('earl', 1), ('kijima_matako:', 1), ('kiilud:', 1), ('aa', 1), ('batteries?', 1), ('disappear', 1), ('atmospheric', 1), ('deconstruct.', 1), ('kerri', 1), ('sackville', 1), ('kevin', 1), ('chefs', 1), ('pastures', 1), ('sustainable', 1), ('cooking....', 1), ('kesabaran', 1), ('membuahkan', 1), ('hasil', 1), ('indah', 1), ('pada', 1), ('saat', 1), ('tepat!', 1), ('(chelsea', 1), ('talisman', 1), ('cristiano', 1), ('messi.)', 1), ('mipasho', 1), ('kenny', 1), ('jonas', 1), ('kelly', 1), ('osbourne', 1), ('remark', 1), ('latinos', 1), ('kelby', 1), ('tomlinson', 1), ('mild-mannered', 1), ('baseman', 1), ('metropolitan', 1), ('rbi', 1), ('askin', 1), ('means\\nnot', 1), ('answers\\nplus', 1), ('thing\\nthis', 1), ('councilman', 1), (\"o'neill\", 1), ('tak', 1), ('sedar', 1), ('??#amazon', 1), ('shaper', 1), ('width', 1), ('adjustable', 1), ('catering', 1), ('auditory', 1), ('insurance:', 1), ('hcxvneoav', 1), ('kcem', 1), ('whitner', 1), ('sr14', 1), ('hale', 1), ('kc5kh', 1), ('kayla', 1), ('kayaking', 1), ('katunews:', 1), ('1700', 1), ('kanger', 1), ('coils', 1), ('/r/vaping101', 1), ('kakeru', 1), ('teduka:', 1), ('bfore', 1), ('70years', 1), ('bomd.', 1), ('day.http://t.co/8vzl1ns2io', 1), ('forbath', 1), ('bits.', 1), ('lands\\nhttp://t.co/77ciwxabva\\x89û_t-school-lands/', 1), ('kach', 1), ('goldstein', 1), ('1994', 1), ('palestinian\\x89û_', 1), ('kabwandi_:', 1), ('k_matako_bot:', 1), ('punisher:', 1), ('punisher', 1), (\"know...\\nit's\", 1), ('hairdryer', 1), ('\\x89û÷nother\\x89û\\x9d.', 1), ('other\\x89û\\x9d.', 1), ('tongue-twister.', 1), ('purchases', 1), ('drako', 1), ('zarharzar', 1), ('driver?', 1), (\"those'\", 1), ('tusky', 1), ('convicted', 1), ('holmes', 1), ('words.', 1), ('anthonys', 1), ('asleep.', 1), ('in:', 1), ('2:22pm.', 1), ('asia:', 1), ('regal', 1), ('theater.', 1), ('terrified.', 1), ('orianna', 1), ('xd.', 1), ('goat', 1), ('curling', 1), ('wand...', 1), ('cuase', 1), ('pours', 1), (\"they're.\", 1), ('car-induced', 1), ('run...', 1), ('k', 1), ('cruisingblazing', 1), ('banging', 1), ('cech', 1), ('keegan', 1), ('collecting', 1), ('wait!', 1), ('sandwich.', 1), (\"18'\", 1), ('crash!!', 1), ('endorsement!', 1), ('expensive!', 1), (\"'precious\", 1), (\"lunch'\", 1), ('issit??', 1), ('chachi...', 1), ('junko', 1), ('juneau', 1), ('jun', 1), ('yemenis', 1), ('san\\x89ûªa', 1), ('romeo', 1), ('juliet', 1), ('knight', 1), ('dismisses', 1), ('prisoner', 1), ('pay.', 1), ('quantum', 1), ('2013.', 1), ('judges', 1), ('radicalisation', 1), ('juanny', 1), ('beisbol', 1), ('sr.', 1), ('jrowah:', 1), ('jplocalfirst', 1), ('eliotschool:', 1), ('lightning.', 1), ('artful', 1), ('awesome.', 1), ('joseph', 1), ('mallord', 1), ('turner', 1), ('1843', 1), ('(clicca', 1), ('sul', 1), ('titolo...', 1), ('07/22/2015', 1), ('$160', 1), ('10k', 1), ('event!', 1), ('sept', 1), ('2015\\ncastle', 1), ('donington', 1), ('responders\\nhttps://t.co/g1nw99yj8u', 1), ('johnmtaita:', 1), ('joelheyman:', 1), ('750k', 1), ('anythin\\x89û_', 1), ('2:28?', 1), ('2:17?', 1), ('landolina:', 1), ('joboozoso:', 1), ('usat', 1), ('usatoday_nfl', 1), ('harlan', 1), ('knox', 1), ('[ky]', 1), ('jiwa', 1), ('rickards', 1), ('expecte...', 1), ('prayed', 1), ('jetstar', 1), ('bali', 1), ('jesus!!!', 1), ('niggaeven', 1), ('crushed!!', 1), (\"jersey's\", 1), ('wolfgangjoc', 1), ('homage', 1), ('biggie', 1), ('smalls', 1), ('hypnotize', 1), ('beat....', 1), ('gangs', 1), ('lgbt', 1), ('pollution', 1), ('unemployment', 1), ('jen', 1), ('girl!', 1), ('bullied', 1), ('hoodie', 1), ('lj', 1), ('ej', 1), ('s..', 1), ('(http://t.co/mfl7jzspou)', 1), ('locke.', 1), (\"f'in\", 1), ('pirates', 1), ('acquired', 1), ('j.a...', 1), ('fiat', 1), ('harman', 1), ('consumerist', 1), ('rocking', 1), ('rogers', 1), ('centre.', 1), ('play-offs', 1), ('moseby', 1), ('barfield', 1), ('back!', 1), ('alexis', 1), ('people...', 1), ('restart', 1), ('fleet', 1), ('ongoing', 1), ('effects.', 1), ('schedule\\x89û_', 1), ('nra', 1), ('proposes', 1), ('250', 1), ('msv', 1), ('situations.', 1), ('70\\x89û_', 1), ('marke...', 1), ('55:', 1), ('(albeit', 1), ('unsuccessful)', 1), ('fuso', 1), ('yamashiro', 1), ('cachet', 1), ('aogashima', 1), ('volcano.', 1), ('jane', 1), ('kelsey', 1), ('economy\\n5th', 1), ('5:30\\x89ûò7:30pm\\nold', 1), ('wgton\\nthe', 1), ('kunstler:', 1), ('there\\x89ûªs', 1), ('ponds', 1), ('fish.\\n\\n#momtherbot', 1), ('truck!', 1), ('jade', 1), ('florida\\x89û_', 1), ('busines', 1), ('recordand', 1), ('behaviors', 1), ('help.#arsenal', 1), ('realism', 1), ('fantasy.', 1), ('diff?', 1), ('nottingham', 1), ('drought.check', 1), ('conserve', 1), ('day!!', 1), ('alps:', 1), ('her\\x89û_', 1), ('cried.', 1), ('dreadfully', 1), ('2:30', 1), ('morning&amp;i', 1), ('telly&amp;i', 1), ('bang&amp;my', 1), ('dad(who', 1), ('leg)walked-', 1), ('freeing', 1), ('.doc', 1), (\"'newidea'\", 1), ('title.', 1), ('w/twitter.', 1), ('uneducated', 1), ('cocoa', 1), ('sip.', 1), ('awesomesauce.', 1), ('\\ngave', 1), ('weather.', 1), ('cams', 1), ('wompppp', 1), ('basis.', 1), ('shedding:', 1), ('10pm.', 1), ('over??', 1), ('7amdollela', 1), ('3la', 1), ('kulli', 1), ('7aal', 1), ('separated.', 1), ('looks:', 1), ('constitutional', 1), ('politic\\x89û_', 1), ('676', 1), ('676/76', 1), ('overpass.', 1), ('explode..', 1), ('joys', 1), ('me\\nnow', 1), ('flood\\nyou', 1), ('fighter\\nbut', 1), ('hour)', 1), ('remember.', 1), ('baaaack!', 1), (\"petersen's\", 1), ('bowhunting', 1), ('bows.', 1), ('alil', 1), ('to!', 1), ('chihaya', 1), ('relatively', 1), ('static', 1), ('develops', 1), ('trapping', 1), ('shoe.', 1), ('dwarfs.', 1), ('villain', 1), ('miracle', 1), ('mankind', 1), ('70.', 1), ('trois-rivieres.', 1), ('11:30', 1), (\"'run\", 1), (\"sirens'\", 1), (\"'half\", 1), (\"hotel'\", 1), (\"'premium\", 1), (\"promotion'\", 1), ('everwhe', 1), ('curfew\\nand', 1), ('since.', 1), ('just\\x89û_:', 1), ('saddlebrooke...', 1), ('affair', 1), ('queer', 1), ('sultry', 1), ('rosenbergs', 1), ('collaborating', 1), ('superstition', 1), ('swami', 1), ('agnivesh', 1), ('intimate', 1), ('weddings', 1), ('highlighted...', 1), ('partially', 1), ('out....', 1), ('insanity', 1), ('erally', 1), ('unplug', 1), ('myelf', 1), ('tounge', 1), ('pepperoni', 1), ('yesterday!', 1), ('blanket.', 1), ('closer.', 1), ('gotdamn', 1), ('head.', 1), ('downside', 1), ('duma', 1), ('exercises', 1), ('greece.', 1), ('land.', 1), ('\\nhttps://t.co/g0r3zr1nqj', 1), ('jet:', 1), ('\\x89û÷muslim', 1), ('women\\x89ûª', 1), ('aren\\x89ûªt', 1), (\"'muslim\", 1), (\"women'\", 1), ('croat', 1), ('services...', 1), ('service...', 1), ('deploying', 1), ('hence', 1), ('fronts', 1), ('assad.', 1), ('isai', 1), ('60:1;', 1), ('psm', 1), ('138:8\\n', 1), ('scattered', 1), ('outage?', 1), ('design...', 1), ('fantasy?', 1), ('burger?', 1), ('creepiest', 1), ('ever?.', 1), (\"'argentina':\", 1), ('campus?\\n\\nfind', 1), ('it/screams', 1), ('\\nvibrates', 1), ('typhoon?', 1), ('cyclone.', 1), ('noooooooooooo', 1), ('affected:', 1), ('manifesting', 1), ('helm', 1), ('dark-stormy-tidal-sea.', 1), ('wildfire?', 1), ('l.a.?', 1), ('kcrw', 1), ('hedge', 1), ('risks', 1), ('impacts', 1), ('seclusion', 1), ('compliance?', 1), ('inject', 1), ('veins', 1), ('wayward', 1), ('surveys?:', 1), ('qzloremft', 1), ('crash?\\ndid', 1), ('die?\\ndid', 1), ('knows.', 1), ('vibe.', 1), ('friending', 1), ('reason?', 1), ('(afp)', 1), ('thursd...', 1), ('detona...', 1), ('mystery?:', 1), ('dolphin', 1), ('worship', 1), ('superstitions!', 1), ('tweets!', 1), ('deaths!', 1), ('irin', 1), ('tangles', 1), ('reconstruction', 1), ('reduction', 1), ('hashd', 1), ('shaabi', 1), ('theft', 1), ('helicopter...', 1), ('inws', 1), ('spsgsp', 1), ('10:40', 1), ('11:15', 1), ('investment', 1), ('keurig', 1), ('third-quarter', 1), ('earnings:', 1), ('after-hours', 1), ('investigators:', 1), (\"'conclusively'\", 1), ('waimate', 1), ('co\\x89û_', 1), ('virg..', 1), ('mueller', 1), ('nov', 1), ('me/son', 1), ('invades', 1), ('distress', 1), ('ideas-the', 1), ('sociologist', 1), ('relative', 1), ('doer:', 1), ('mhl', 1), ('westeros', 1), ('swords', 1), ('s5', 1), ('starks', 1), ('greyjoys.', 1), ('paperwork?', 1), ('simplify', 1), ('staffing', 1), ('logistics.', 1), ('(2/2)', 1), ('actor', 1), ('randy', 1), ('a.s.k', 1), ('materialism', 1), ('cybersecurity', 1), ('eu...', 1), ('basics:', 1), ('defective', 1), ('intertissue', 1), ('host:', 1), ('guabxfv', 1), (\"\\x89û¢åê'nigeria\", 1), ('interesting:', 1), ('1/3', 1), ('intact+mh370+part+lifts+odds+plane+glided+not+crashed+into+sea', 1), ('answers.', 1), ('news:texas', 1), ('inspectors', 1), ('addresses', 1), ('refund', 1), ('forgotten.\\n\\naesop', 1), ('illnesses', 1), ('barcelona', 1), ('full-back', 1), ('alba', 1), ('infographic:', 1), ('sct012', 1), ('bkn025.', 1), ('sct014', 1), ('bkn032.', 1), ('060/5.', 1), ('damp.', 1), ('qnh:', 1), ('1028.', 1), ('infections', 1), ('neonatal', 1), ('infected', 1), ('piercings', 1), ('fun??', 1), ('infantry', 1), ('lume', 1), ('analog', 1), ('cow...', 1), ('shelling', 1), ('castle', 1), ('tahreer', 1), ('fire\\n#yemen', 1), ('govt.', 1), ('safety.', 1), ('shud', 1), ('pak.they', 1), ('attack.share', 1), ('contries', 1), ('indeed!!', 1), ('fight!!', 1), ('incredulous', 1), ('outcry', 1), ('taxpayers', 1), ('objection', 1), ('å£100bn', 1), ('inciweb', 1), ('rogue', 1), ('8/5/15', 1), ('12:00', 1), ('(rogue', 1), ('nf', 1), ('incheon', 1), ('prosecutors', 1), ('office:', 1), ('nami', 1), ('kim', 1), (\"'dog\", 1), ('hangi...', 1), ('inbounds/', 1), ('bounds:\\n\\nwhile', 1), ('nl', 1), ('buted', 1), ('crush??', 1), ('hope\\ni', 1), (\"knew.\\ni'm\", 1), (\"sinking.\\ni'm\", 1), ('sinking\\naway', 1), (\"you.\\ndon't\", 1), (\"around\\nyou'll\", 1), ('see...\\n\\nyou', 1), (\"daniel's\", 1), ('fastings', 1), ('pizzeria', 1), ('daniels', 1), (\"run.'\\x89û_\", 1), (\"'titanic'\", 1), ('rococo', 1), ('alan', 1), ('perlis', 1), ('wonders', 1), ('humans!', 1), ('islam', 1), ('terrorism!', 1), ('addicts', 1), ('defensive', 1), ('decreases', 1), ('vulnerability.', 1), ('(3', 1), ('flee', 1), (\"burundi's\", 1), ('vice', 1), ('pascoe', 1), ('vale', 1), ('outbound', 1), ('tullamarine', 1), ('(citylink)', 1), ('offbeat', 1), ('odai', 1), ('bucharest', 1), ('romania', 1), ('dying!they', 1), ('other!', 1), ('dangers', 1), ('interruptions.', 1), ('annoy', 1), ('you?http://t.co/zh6ausfbwh', 1), ('pundit', 1), ('grave', 1), ('1/', 1), ('nagasaki.', 1), ('years*', 1), ('horowitz', 1), ('vaccines', 1), ('nwo', 1), ('kalmikya', 1), ('astrakhan', 1), ('volgagrad', 1), ('dagestan', 1), ('locusts\\n\\n', 1), ('creeping', 1), ('inflicted', 1), ('derma', 1), ('brackets)', 1), ('jimin', 1), ('droughts.', 1), ('depth:', 1), (\"'peacetime\", 1), (\"emergency.'\", 1), ('ak:', 1), ('joy.', 1), ('reimagining', 1), (\"/shakespeare's\", 1), ('midsummer', 1), ('crqck', 1), ('becyme', 1), ('mayor.', 1), ('includes', 1), ('foursquare.', 1), ('mayflower', 1), ('119000', 1), ('966', 1), ('imm', 1), ('ari', 1), ('imagini', 1), ('noi', 1), ('clipuri', 1), ('awakened', 1), ('2.0\\n@biomarkdarrah', 1), ('kp', 1), ('root....', 1), (\"students...\\n\\n'please\", 1), ('pay...', 1), ('lamps.', 1), (\"harm's\", 1), ('suvs', 1), ('sooooooo', 1), ('maisy', 1), ('martha', 1), ('uncomfortable', 1), ('??????????????????????????????????????????', 1), ('wtf????????', 1), ('radneck', 1), ('cavaliers', 1), ('70-71', 1), ('lakers', 1), ('dead!!!', 1), ('photo!', 1), ('pieces!!!', 1), ('illusoria', 1), ('icarus', 1), ('obama/dhs', 1), ('offenses', 1), ('pol', 1), ('rivals', 1), ('families.', 1), ('ik.', 1), ('loosers', 1), ('ij:', 1), ('ks94', 1), ('ks57', 1), ('ks225', 1), ('ks161', 1), ('ks111', 1), ('ks100', 1), ('97-98', 1), ('f-250', 1), ('4.6l-v8', 1), ('03-08', 1), ('mazda', 1), ('3.0l-v6', 1), ('02-06', 1), ('acura', 1), ('rsx', 1), ('2.0l-l4', 1), ('90-96', 1), ('subaru', 1), ('2.2l-h4', 1), ('01-06', 1), ('325ci', 1), ('2.5l-l6', 1), ('93-95', 1), ('2.8l-v6', 1), ('158-1028', 1), ('158-1017', 1), ('158-0992', 1), ('158-0853', 1), ('as10012', 1), ('as10004', 1), ('wpt-994', 1), ('wpt-410', 1), ('917-141', 1), ('917-032', 1), ('213-924', 1), ('213-4678', 1), ('213-296', 1), ('ign:', 1), ('ig:', 1), ('hailing', 1), ('influencers', 1), ('socialtimes', 1), ('yarbrough', 1), ('decisions.\\n\\nunless', 1), ('flaunt', 1), ('\\nunless', 1), ('it...then', 1), (\"don't.\", 1), ('slating', 1), ('disgrace', 1), ('base.', 1), ('cunts!', 1), (\"boyfriend's\", 1), ('niggah.', 1), ('onnnn', 1), ('alone\\nor', 1), ('stone.\\ncarry', 1), ('on\\nmay', 1), ('sound\\nof', 1), ('frustrated', 1), (\"'quantit\\x89û_https://t.co/64cymg1ltg\", 1), ('work....', 1), ('right!', 1), ('smokes.', 1), ('-lou', 1), ('holtz', 1), ('rotating', 1), (\"'huge'\", 1), (\"'massive'\", 1), ('cigs', 1), ('tray..', 1), ('lend', 1), ('hand!', 1), ('anime', 1), ('screen...', 1), (\"drake's\", 1), ('ghostwriting', 1), ('rihanna', 1), ('8000', 1), ('why.', 1), ('paper-storm:', 1), ('au', 1), ('motivated', 1), ('matthew', 1), ('donnelly', 1), ('thh', 1), ('furst', 1), ('patio', 1), ('umbrella', 1), ('flipped', 1), ('(instead', 1), ('windstorm)', 1), ('suspense', 1), ('writer.', 1), ('positivity', 1), ('rembr', 1), ('dotish', 1), ('mine.', 1), ('vlog', 1), ('video-bombed.', 1), ('fee.', 1), ('813-274-8811', 1), ('roar', 1), ('rolling\\x89û_', 1), ('dog.', 1), ('quiet', 1), ('phandom', 1), ('war-zone', 1), ('fight?', 1), ('faved', 1), ('tyuler', 1), ('dirks', 1), ('injuries..that', 1), ('uiseful', 1), ('field-wide', 1), ('same?', 1), ('decapitated', 1), ('atl', 1), ('fran', 1), ('gander', 1), ('appease', 1), ('morbid', 1), ('curiosity.', 1), ('wasthe', 1), ('thing2', 1), ('allah/godjesus/the', 1), ('muhammad', 1), ('killedsomebody?', 1), ('shantae', 1), ('wii', 1), ('u.\\n#shantaeforsmash', 1), ('remedyyyy', 1), ('oikawa', 1), ('karasuno', 1), ('happiness.', 1), ('positively', 1), ('inning.', 1), ('bateman', 1), ('scores', 1), ('waved', 1), ('me.\\ni', 1), ('misled.', 1), ('blood!', 1), ('mistaken', 1), ('reactor.', 1), ('cataclysmic', 1), ('reator', 1), ('melts', 1), ('understand\\n#copolitics', 1), ('disaster&amp;', 1), ('c&gt;', 1), ('lucky?', 1), ('settle.', 1), ('torture.', 1), ('direction.', 1), ('dilutional', 1), ('institutionalize', 1), ('sued', 1), ('slander.', 1), ('mold', 1), ('flamethrower', 1), ('probaly', 1), ('me&amp;beat', 1), ('sauntered', 1), ('fred', 1), ('blowjobs', 1), ('cannibalism', 1), ('masturbation', 1), ('genocide.', 1), ('å£1', 1), ('wage', 1), ('structure.', 1), ('do!?', 1), ('say??\\n\\nhow', 1), ('lexington', 1), (\"veterinarian's\", 1), ('iembot_hfo', 1), ('idm', 1), ('gotham', 1), ('bcs', 1), ('ithats', 1), ('trashcans', 1), ('choice.', 1), ('sara', 1), ('icaseit', 1), ('mfi', 1), ('ibrahimovic', 1), ('mercurial', 1), ('vapor', 1), ('footballfreestyle24/7:', 1), ('ibrahimmisau', 1), ('ibliz140:', 1), ('esoteric', 1), ('astrologian...', 1), ('i-90', 1), ('vantage:', 1), ('backups', 1), ('visibility', 1), ('bridge.', 1), ('congestion', 1), ('ramp', 1), ('i-10', 1), ('ms', 1), ('offloading', 1), ('louisan', 1), ('been.', 1), ('another!', 1), ('s01e09', 1), ('monday!', 1), ('about:', 1), (':)))))', 1), ('rotting', 1), ('smelled', 1), ('dumbass', 1), ('sinkhole.', 1), ('brooklyn.', 1), ('fit??', 1), ('traumatised????', 1), ('blazing!\\n#hinatobot', 1), ('wwa', 1), ('suffer.', 1), ('moe', 1), (\"friday's\", 1), ('laleh', 1), ('born!', 1), ('therapist', 1), ('servicin', 1), ('lurkin', 1), (\"shooter's\", 1), ('tho..', 1), ('fangirling', 1), ('ulzzang', 1), ('hyung', 1), ('seok.', 1), ('92', 1), ('liners.', 1), ('bleased', 1), ('same.', 1), ('yuppies', 1), ('tourists', 1), ('stabbed', 1), ('broken.', 1), ('jay.', 1), ('woods...', 1), ('meds', 1), ('roof!', 1), ('get\\x89û_', 1), ('ounce', 1), ('disrespectful', 1), ('healing/reviving', 1), ('(except', 1), ('girl).', 1), ('preparing', 1), ('laptop', 1), ('shot!', 1), ('stung', 1), ('now??', 1), (\"'zion'\", 1), ('sorrow', 1), ('throwin', 1), ('/r/conspiracy', 1), ('dunking', 1), ('weimar', 1), ('berlin.', 1), ('hustlin', 1), ('unter', 1), ('linden', 1), ('gunning', 1), ('romance\\nit', 1), ('me\\nbut', 1), ('heartache', 1), (\"misery\\nain't\", 1), ('swiftly', 1), ('hw', 1), ('ohlordy', 1), ('95', 1), ('mid-day', 1), ('not\\x89û_', 1), ('monsters', 1), ('through.', 1), ('painting..', 1), ('a3', 1), ('oils', 1), ('baan', 1), ('thai', 1), ('sushi', 1), ('fml', 1), ('upload', 1), ('typewriters.', 1), ('renewable', 1), ('windfarms', 1), ('smokey', 1), ('friggin', 1), ('destiel', 1), ('(read', 1), ('description)\\nhttps://t.co/mkx6ux4ozt', 1), ('disaster??', 1), (\"party's\", 1), ('sfa', 1), ('soon....#pandemonium', 1), ('usagi', 1), ('airhead', 1), ('misstep', 1), ('struggle!', 1), ('photogenic', 1), (\"'gosh\", 1), ('dwell', 1), ('confines', 1), ('egypt...', 1), (\"suze's\", 1), ('contents', 1), (\"l'occitane\", 1), ('lavera.', 1), (\"'fair'\", 1), ('policies.', 1), ('buckley', 1), (\"'stare\", 1), (\"drive'\", 1), ('cool/weird', 1), ('skinless', 1), ('predator', 1), ('above\\nwould', 1), ('lava????', 1), (\"victoria's\", 1), ('front.', 1), ('gaynor', 1), ('oktaviana', 1), ('devi)', 1), ('adamantly', 1), ('opposed', 1), ('number.', 1), ('sweated', 1), ('shawn', 1), (\"'he's\", 1), (\"he'\", 1), ('akfnejf', 1), ('fast.', 1), ('1970s', 1), ('piracy', 1), ('slavery', 1), ('purely', 1), ('historical.', 1), ('re-occur', 1), ('night??', 1), ('sunday.', 1), ('god??', 1), ('...then', 1), ('*avalanche', 1), ('idiocy*!!!!!!', 1), ('freakingg', 1), ('????today...4got', 1), ('drying', 1), ('realized.', 1), ('preaching...', 1), ('funny.', 1), ('october', 1), ('forever\\nstay', 1), ('side\\non', 1), ('night\\n\\nfear', 1), ('loathing', 1), ('vegas/solitude', 1), (\"x'mas\", 1), ('despair', 1), (\"'niall\", 1), (\"myself'\", 1), ('jinx', 1), ('someones', 1), ('smth', 1), ('waited', 1), ('2.5', 1), ('2006.', 1), ('hav', 1), ('sht', 1), ('fridge', 1), ('protein', 1), ('shake', 1), ('pretty!', 1), ('swells.', 1), (\"higuain's\", 1), ('offside', 1), ('invented', 1), ('insomniacs', 1), ('wall.', 1), ('dang...', 1), ('retirement.', 1), ('instruction!', 1), ('bloke.', 1), ('slightest', 1), ('stirring', 1), ('days=only', 1), ('coz', 1), ('kids=but', 1), ('laters', 1), ('scone', 1), ('tackle', 1), ('bedroom.', 1), ('condom', 1), ('packets', 1), ('notifications.', 1), ('encouraging', 1), ('kinder...', 1), ('cousins', 1), ('swea', 1), ('strike!', 1), (';d', 1), ('12-step', 1), ('addiction', 1), ('resorted', 1), ('tying', 1), ('thrift', 1), ('store.', 1), ('suckers', 1), ('disciplinary', 1), ('measures#arrestpastornganga', 1), ('ralph', 1), ('independence', 1), ('rowyso', 1), (\"alone\\ndon't\", 1), ('moan\\nabout', 1), ('made\\nif', 1), (\"it\\ni'll\", 1), ('demeanor', 1), ('staid', 1), ('runkeeper.', 1), ('weights.', 1), ('arc', 1), ('emery', 1), (\"lord's\", 1), ('release!', 1), ('intl', 1), ('toooooo', 1), ('bck', 1), ('ahahahga', 1), ('guns..', 1), ('capoeira', 1), ('stretcher-bearer!', 1), ('emails', 1), ('trinna', 1), ('massacre!!', 1), ('cyberman.', 1), ('who???', 1), ('place!', 1), ('oamsgajagahahah', 1), ('laighign', 1), (\"'whats\", 1), (\"chonce'\", 1), ('scored', 1), ('111020', 1), ('punch', 1), ('squeaky', 1), ('punk', 1), ('here!!', 1), ('halo', 1), ('abc.', 1), ('pamanian', 1), ('misguided', 1), ('prophets', 1), ('imprison', 1), ('regress', 1), ('batter', 1), ('theatres.', 1), ('feeling-', 1), ('(2013)', 1), ('7/10', 1), ('(2015)', 1), ('8/10', 1), ('fanboys', 1), ('politely', 1), ('jared', 1), ('nuggets', 1), ('microwave', 1), ('intead', 1), ('assemble', 1), ('presume', 1), (\"'soggy\", 1), (\"bottom'\", 1), ('lashings', 1), (\"'moist'\", 1), (':-d', 1), ('allegiance', 1), ('p.o.p.e.', 1), ('peeped', 1), (\"frontin'\", 1), ('jeepåêsunk', 1), ('tinted', 1), (\"bumpin'.\", 1), ('kansas', 1), ('hyatt', 1), (\"aia's\", 1), ('cote.', 1), ('fuck..we', 1), ('asap\\n\\nalso\\n\\n*watches', 1), ('500th', 1), ('time*', 1), ('arcade', 1), ('overpriced', 1), ('buddy.', 1), ('w|', 1), ('specials.', 1), ('memo', 1), ('resident', 1), ('been!', 1), ('hair..but', 1), ('josie', 1), ('splifs', 1), ('void', 1), ('lamp.', 1), ('hegot', 1), ('rumbling', 1), ('mountains.', 1), (\"'healing\", 1), (\"here-deluge'\", 1), ('&amp;wanted', 1), ('translated', 1), ('blizzard??', 1), ('shop\\x89ûªs', 1), ('bags??\\n\\n#cutekitten', 1), (\"'@crhedrys:\", 1), (\"nko?'@foxy__siren:\", 1), ('joke!!', 1), ('[tremor', 1), ('dlc]', 1), ('[fatalities/x-ray]', 1), (\"thorin's\", 1), ('sandbox', 1), ('(lol)', 1), ('spyro', 1), ('texture', 1), ('hacks', 1), (\"'desolate\", 1), (\"gardens'\", 1), ('[in-game]', 1), ('spots!!', 1), ('rona', 1), ('romanatwoodvlogs', 1), ('kittens!!', 1), ('punch.', 1), ('cbs3', 1), (\"'blaze\", 1), (\"beginnings!'\", 1), ('zx', 1), ('ost', 1), ('t17:', 1), ('ogre', 1), ('claw', 1), ('(area', 1), ('(avengers', 1), ('battle!)', 1), ('lexi', 1), ('belle', 1), ('2500fps', 1), ('cardboard', 1), ('heartwarming', 1), ('collateral', 1), ('pc)', 1), ('realities', 1), ('(life', 1), ('glitch)', 1), ('specialguest', 1), ('crapgamer', 1), ('gamescom', 1), ('seeley', 1), ('sn', 1), ('vabengal', 1), ('(zss)', 1), ('pokì©mon', 1), ('sapphire', 1), ('wi-fi', 1), ('cjs064', 1), ('fatalities/x-rays', 1), ('(mkx)', 1), ('mk', 1), ('tremors', 1), ('stalag', 1), ('ermac', 1), ('tournament', 1), ('pharaoh', 1), ('(episode', 1), ('13)', 1), ('skywars', 1), ('flechadas', 1), ('sinistras!', 1), ('ps3', 1), ('knuckles', 1), ('punches', 1), ('mayhem!', 1), ('mods', 1), ('sticky', 1), ('informer', 1), ('1!', 1), ('abh', 1), ('pvp:', 1), ('beacon', 1), ('bombardment', 1), ('(minecraft', 1), ('one)', 1), ('piano', 1), ('entertainer\\x89û\\x9d', 1), ('ep.', 1), ('atgames', 1), ('handheld', 1), ('ashens', 1), ('hardline', 1), ('throwingknifes!', 1), ('fema', 1), ('lithium', 1), ('eminem', 1), ('nate', 1), ('dogg', 1), (\"bunk'd\", 1), ('campanha', 1), (\"'tsunami'\", 1), ('walktrough', 1), ('part-8', 1), ('737', 1), ('takeoff', 1), ('cockpit', 1), ('atc', 1), ('benedict', 1), ('cumberbatch', 1), ('mystical', 1), ('economics', 1), ('college.', 1), ('-hubert', 1), ('humphrey', 1), ('over!!', 1), ('interpretation', 1), ('sneezing', 1), ('smack', 1), ('scrolling', 1), ('did....but', 1), ('exact', 1), ('deep.', 1), ('insults', 1), ('devote', 1), ('pride', 1), ('reprocussions', 1), ('retroactive.', 1), ('2x10', 1), (\"'heaven\", 1), ('towns', 1), ('emilee', 1), ('commas', 1), ('ease', 1), ('alright.????', 1), ('hond', 1), ('sidjsjdjekdjskdjd', 1), ('mgs', 1), ('zeroes', 1), ('amazing...sept', 1), (\"saying'darude\", 1), (\"sandstorm'\", 1), ('negatively', 1), (\"mcdonald's\", 1), ('coolest', 1), (')):', 1), ('typing', 1), (\"'paul\", 1), (\"ants'\", 1), ('pitched', 1), ('ofnsixjks', 1), ('through....', 1), ('chromebook', 1), (\"'sandy\", 1), (\"homes'\", 1), ('joked', 1), ('innings', 1), ('clears', 1), ('lvl.', 1), ('portaloos', 1), ('sentient.', 1), ('steven', 1), ('upstairs', 1), ('mumbling', 1), ('cackling', 1), ('spitters', 1), ('victim.', 1), ('oomf', 1), ('misogyny/racism/religion-fueled', 1), ('ish', 1), ('songs!', 1), (\"murlo...'\", 1), ('tribez.', 1), ('typewriter', 1), ('gunk.', 1), ('unexplainable', 1), ('graph!', 1), ('straighten', 1), ('otp', 1), ('grandma...', 1), ('ssshhheeesshh!!!', 1), ('indyfest.', 1), (\"'receipts'\", 1), ('wrong\\n\\nbut', 1), (\"'blew\", 1), (\"up'\\nliterally\", 1), ('badging', 1), ('kian', 1), ('function.', 1), ('inbetween!', 1), ('smoochy', 1), ('awakenings', 1), ('clips', 1), ('bicentennial', 1), (\"demi's\", 1), ('coffees', 1), (\"ig's\", 1), ('pricing', 1), ('alredy.', 1), ('alfredo', 1), ('nothing...', 1), (\"bible's\", 1), ('psalms\\nand', 1), ('prodigal', 1), ('returned\\nanyone', 1), ('burned\\n??', 1), ('out\\nkill', 1), ('implode.', 1), (\"burn'\", 1), ('rhett', 1), ('orphan', 1), ('gazing', 1), ('cozy', 1), ('affluent', 1), ('lobster', 1), (\"snowstorm.\\n\\nit's\", 1), ('victorious', 1), ('rv', 1), ('mkayla', 1), ('cee', 1), ('childish', 1), ('excitement!', 1), ('hour\\x89û_\\x89û_', 1), ('body!!', 1), ('week...', 1), ('alarmingly', 1), ('death...holy', 1), ('molys', 1), ('immensely', 1), ('butterlondon', 1), ('crayons', 1), ('enter!', 1), ('ploppy', 1), ('touchdown', 1), ('slsp', 1), ('&amp;&amp;', 1), ('interrupted', 1), ('iverson', 1), ('malone', 1), ('*up*', 1), (\"'taking'\", 1), ('trophy.', 1), ('killing.', 1), ('heal.', 1), ('clearing', 1), ('realistic.', 1), ('scully', 1), ('sfe', 1), ('angelina', 1), ('jolie', 1), ('sef????', 1), (\"'has'\", 1), ('isis.i', 1), ('life-rebooting', 1), (\"'paul's'\", 1), ('mind-blowing', 1), ('theory.', 1), ('implicit', 1), ('bro\\n#airplane', 1), ('didn`t', 1), ('...............', 1), ('that...ink', 1), ('medal', 1), ('tangled', 1), ('5.1', 1), (\"13'0'\", 1), ('3.1', 1), (\"5'41'\", 1), ('11.2', 1), (\"7'46'\", 1), ('concur.', 1), ('harm?', 1), ('mmk', 1), ('rhiannon', 1), (\"'hungover????\", 1), (\"huh???'\", 1), ('uhmmmm', 1), ('we\\x89ûªll', 1), ('bod', 1), ('cis', 1), ('offended', 1), ('transgendered', 1), ('advantage', 1), (\"micro's\", 1), ('(hint', 1), ('hint', 1), ('shironu_akaineko', 1), ('airhorns', 1), ('wait!!', 1), ('king\\x89ûªs', 1), ('\\x89û÷the', 1), ('tower\\x89ûª', 1), ('*not*', 1), ('kickstarter', 1), ('emails.', 1), ('blevins', 1), ('curb.', 1), ('skip', 1), ('(cut', 1), ('streets)', 1), ('fragrance', 1), ('enemies.', 1), ('bathe', 1), ('blizzard?', 1), ('oven', 1), ('fingers!!', 1), ('64oz', 1), ('jar', 1), ('instagrams', 1), ('slave', 1), ('wildlife.', 1), ('hotboy', 1), ('blunts', 1), ('6615434', 1), (\"?'and\", 1), (\"goodbye'??\", 1), ('apologise', 1), ('sincerely', 1), ('grudges', 1), ('unfollow', 1), ('skyler.', 1), ('disgusted', 1), ('celebrating', 1), ('terrorist?', 1), ('primarily?', 1), ('hostage??', 1), ('namekians', 1), (\"'bury\", 1), (\"knee'\", 1), ('8.4', 1), ('nudes', 1), ('crip', 1), (\"blood....i'm\", 1), ('doin', 1), ('buddhas', 1), ('stuff-', 1), ('cheaply\\n', 1), ('arti', 1), ('kaboom', 1), ('gameplay/walkthrough', 1), ('(fox)', 1), ('ssb4', 1), ('losers', 1), ('ballad', 1), ('mona', 1), ('lisa', 1), ('lolo', 1), ('tragedies', 1), ('girls/girls/boys', 1), ('collar', 1), ('(audio)', 1), ('ori', 1), ('bind', 1), (\"death'\", 1), ('ep.7', 1), (\"'2079\", 1), ('bacon', 1), (\"hair...'\", 1), ('guest!!', 1), ('roblox', 1), ('howie', 1), (\"'obliteration!'\", 1), ('doc:', 1), ('arin', 1), ('gummy', 1), ('grumpout', 1), ('cher', 1), ('????????????????????', 1), ('hwrf', 1), ('lashes', 1), ('taipei', 1), (\"20'\", 1), ('all!!!', 1), ('hw18', 1), ('90-100.', 1), ('exit.', 1), ('motor.', 1), ('hvy', 1), ('sm', 1), ('shades', 1), (\"husband's\", 1), (\"adult's\", 1), ('hurricane??', 1), ('sick!', 1), ('guillermo', 1), ('noaa', 1), ('looping', 1), ('wed.aug.5th', 1), ('dancers:', 1), ('shipwreck\\nmargarita', 1), ('engle', 1), ('holt', 1), ('(byr).', 1), ('30stm', 1), ('quem', 1), ('lembra', 1), ('zones***thank', 1), ('god***', 1), ('calais\\x89û_', 1), ('hav...', 1), ('seeker', 1), ('humboldt', 1), ('cty', 1), (\"sheriff's\", 1), ('residence', 1), ('lassics', 1), ('processes', 1), ('streamlined', 1), ('insofar', 1), ('organization...abbog', 1), ('china:', 1), ('r...', 1), ('html5', 1), (\"hst's\", 1), ('hqhed', 1), ('mhtw4fnet\\n\\na', 1), ('hp', 1), ('lto-5', 1), ('lump', 1), ('warehouse', 1), ('divestment', 1), ('able:', 1), ('pmngiqy', 1), ('virtu', 1), ('movement:', 1), ('dkhqgv', 1), ('\\x89ûïlittle', 1), ('boy\\x89û\\x9d', 1), ('testimonials', 1), ('remembered?', 1), ('achievements', 1), ('mute', 1), ('whatsapp!', 1), ('dorrian', 1), ('manorial', 1), ('gnocchi', 1), ('rbpk', 1), ('wordk:', 1), (\"zmne!'\", 1), ('siding', 1), ('hijacker?', 1), ('anthelmintic', 1), ('drawing', 1), ('browseråêhijacker', 1), ('freeze', 1), ('veggies\\nhttp://t.co/met0mtpr3s', 1), ('standardized', 1), ('cc:', 1), ('jet\\x89ûªs', 1), ('orange/blue', 1), ('dc?', 1), ('avengers', 1), ('scratching', 1), ('pedals.', 1), ('baskets', 1), ('charming', 1), ('get?', 1), ('(study', 1), ('3)\\n', 1), ('revelation', 1), ('roman...', 1), ('campfire?', 1), ('campfire', 1), ('dead?', 1), ('2012?', 1), ('flour', 1), ('mosquitoes?', 1), (\"busey's\", 1), ('fiddle', 1), ('celebration', 1), ('sequence', 1), ('weight?', 1), ('ontario', 1), ('developer?\\nhttp://t.co/hld5xlywbn', 1), ('statesmanlike', 1), ('cv', 1), ('draft', 1), ('inaugural?:', 1), ('jgisavq', 1), ('anatomic', 1), ('remodeling', 1), ('hospital:', 1), ('iaavroiv', 1), ('planners', 1), ('fellow', 1), ('eagles?!', 1), ('sexuality', 1), ('diagnosis?', 1), ('communication.', 1), ('testimonials!', 1), ('newåêheights', 1), ('nockthie', 1), ('hamlet', 1), ('taungbazar', 1), ('buthidaung', 1), ('severely', 1), ('&amp;amp;', 1), ('subcommittee', 1), ('7/28', 1), ('oversight', 1), ('mishaps.', 1), ('htt\\x89û_', 1), ('hough_jeff:', 1), ('crap.', 1), ('dougkessler', 1), ('slideshare', 1), ('norfolk', 1), ('å£70000', 1), ('\\x89û÷crying', 1), ('help\\x89ûª:', 1), ('hear...', 1), ('creative', 1), ('artists.', 1), ('interviewed', 1), ('anatomy', 1), ('liveleak', 1), ('\\x89ûïairplane\\x89û\\x9d', 1), ('29-07-2015.', 1), ('\\x89ûò...', 1), ('receipt.', 1), ('buys', 1), ('napa', 1), (\"dorett's\", 1), ('wins??', 1), ('modibo', 1), ('maiga', 1), ('fucktard', 1), ('nightmarish.', 1), ('ugh.', 1), ('homemade', 1), ('yogurt', 1), ('pops?', 1), ('traveling', 1), ('stray', 1), ('homecoming', 1), ('prom', 1), ('waters!', 1), ('home2', 1), ('suites', 1), ('make\\x89û_', 1), ('jpmorgan', 1), ('apartment-loan', 1), ('wamu', 1), ('inventories', 1), ('moly', 1), ('649', 1), ('exploded...', 1), ('qvc', 1), ('crap!', 1), ('bravo', 1), ('sir!', 1), ('holmgren:', 1), ('referred', 1), (\"situation.'\", 1), (\"'hostages.'\", 1), ('holmgren', 1), ('cup:', 1), ('33', 1), ('hollyw...', 1), ('starring...', 1), ('min...', 1), ('convertible', 1), ('$238.00', 1), ('hmm...this', 1), ('researchers:', 1), ('hmm', 1), ('dnt', 1), ('hm', 1), ('travels', 1), ('greeted', 1), ('arms.', 1), ('historical', 1), ('bigfoot', 1), ('landmark', 1), ('demolished:', 1), ('displaced:', 1), ('majesty', 1), ('salman', 1), (\"khan's\", 1), ('unstoppable', 1), ('humanity\\nbajrangi', 1), ('bhaijaan', 1), ('\\ncrosed', 1), ('eighty-nine', 1), ('forget.', 1), ('ì¢??', 1), ('schoolgirls', 1), ('bomb:', 1), ('dropping...', 1), ('justified:', 1), ('hindustan', 1), (\"history's\", 1), ('himika', 1), ('amase', 1), ('foresaw', 1), (\"'hijack\", 1), (\"march'\", 1), ('jps', 1), ('feb', 1), ('malyasiaairlines.', 1), ('hillary\\x89ûªs', 1), ('bimbo', 1), ('eruptions', 1), ('questionable', 1), ('skateboards', 1), ('saferåê', 1), ('uptick', 1), ('statewide', 1), ('courier', 1), ('summer????', 1), ('estrella', 1), ('hibernating', 1), ('pbx', 1), ('irrespective', 1), ('careerism', 1), ('pan:', 1), ('crbzfz', 1), ('hi-res', 1), ('doppler', 1), ('edmond', 1), (\"1.25'\", 1), ('60mph', 1), ('thx.', 1), ('chann', 1), ('asap!', 1), ('hey!', 1), ('girl\\ndid', 1), ('friends\\nabout', 1), ('name?', 1), ('outs.', 1), ('sing-a-long', 1), ('order:', 1), ('wanna-be', 1), ('look!!!', 1), (\"kash's\", 1), ('foundation', 1), (\"magazine's\", 1), ('website!!', 1), ('\\n\\ntodd', 1), ('blake...', 1), ('ghe', 1), (\"because|i'm\", 1), ('interestud', 1), ('birds!', 1), ('submissions', 1), ('fantastic!', 1), ('guys!', 1), (\"'pandemonium'\", 1), (\"'requiem'\", 1), ('oliver.', 1), ('wander', 1), ('heroes!', 1), ('springer', 1), ('spaniel', 1), ('dolphin:', 1), (\"hero's\", 1), ('be4', 1), (\"'t\", 1), ('lifeguard', 1), ('capitalism:', 1), ('promotes', 1), ('eyewitness:', 1), ('(http://t.co/rei3puwp84\\x89û_', 1), (\"firefighters'\", 1), ('budgets', 1), ('skanndtyagi:', 1), ('mohammed', 1), ('timelapse', 1), ('1am.', 1), ('go....one', 1), ('boys!', 1), ('stellar', 1), ('undercard', 1), ('filler', 1), ('eye...', 1), ('ebola!', 1), ('aaarrrgghhh!\\n\\nhttp://t.co/g2uimbekge', 1), ('around...the', 1), ('perfect.', 1), ('involves', 1), ('kicking', 1), ('nobleman', 1), ('death????', 1), ('elven', 1), ('weirdo', 1), ('icy', 1), ('rum', 1), ('ends.', 1), ('tutor', 1), ('preferably', 1), ('hendrixonfire', 1), ('noob', 1), (\"weapons'\", 1), ('violated', 1), ('k/dr', 1), ('/server', 1), ('mumbaitimes', 1), ('helpful', 1), ('nuking', 1), ('$$$$', 1), ('article!', 1), ('15th.', 1), ('bloggers', 1), ('hazards/disaster', 1), ('hashtags', 1), ('reads?', 1), ('calgary!!', 1), ('news!!', 1), ('advised!!!', 1), ('gargoyle', 1), ('hoof', 1), ('coil', 1), ('silentmind', 1), ('pouring', 1), ('no.2', 1), ('vivid', 1), ('triad', 1), ('frequent', 1), ('uptown', 1), ('midtown.', 1), ('cn', 1), ('manitou,', 1), ('overhead', 1), ('oakridge', 1), ('hail......#yycstorm', 1), ('heather', 1), ('ava', 1), ('sparxxx', 1), ('threesome', 1), ('wave:', 1), ('autopsy', 1), ('klinenberg', 1), ('aa?', 1), ('ayyo', 1), ('dei.', 1), ('relentless:', 1), ('91å¡f', 1), ('55%', 1), ('+\\nrelentless', 1), ('too:', 1), ('dominicana.', 1), ('places.', 1), ('ending!', 1), ('though...will', 1), ('nbc10', 1), ('compensations', 1), ('(report)', 1), ('palinfoen)', 1), ('misery', 1), ('internally-displaced', 1), ('gazans', 1), ('thursday.', 1), ('humidity...', 1), ('sunset??', 1), ('prevention:', 1), ('secondhand', 1), ('chrissie', 1), ('adam?', 1), ('finn', 1), ('die?', 1), ('cities,', 1), ('resistant', 1), ('infections/deaths', 1), ('yrs:', 1), ('39%', 1), ('deaths.', 1), ('fluid.', 1), ('strains', 1), ('sprains', 1), ('\\nbodies', 1), ('\\npicking', 1), ('division', 1), ('.4', 1), ('overtook', 1), ('(then', 1), ('crashed)', 1), ('tru', 1), ('luv', 1), ('iniquities;', 1), ('healed.', 1), ('-isa', 1), ('53:5', 1), ('(cause', 1), ('pop)', 1), ('dominos', 1), ('culinary', 1), ('cuisine', 1), (\"'gonna\", 1), (\"harvey's\", 1), (\"metaphor'..\", 1), ('nooo', 1), ('comings', 1), ('labelled', 1), ('thing...', 1), ('otsuka', 1), ('village.', 1), ('quarrel', 1), ('tailor', 1), ('kay', 1), ('i.e.', 1), ('madinah.', 1), ('bro.', 1), ('terwilliger', 1), ('17:26', 1), ('pour', 1), ('rotations', 1), ('left-leaning', 1), ('tree.:', 1), ('learni...', 1), ('\\x89û÷05', 1), ('you....heat', 1), ('vol', 1), ('5\\x89ûª', 1), ('deejayempiresound', 1), ('child?\\nor', 1), (\"sister's\", 1), (\"\\nclaimin'\", 1), ('heared', 1), ('years?', 1), ('along.', 1), ('laughtraders', 1), ('1%.', 1), ('capitulation.', 1), ('joke.', 1), ('cnnbrk', 1), ('kgb', 1), ('link:\\nhttp://t.co/bla42rdt1o', 1), ('marr', 1), ('primal', 1), ('bedtime', 1), ('later?', 1), (\"now's\", 1), ('remain.', 1), ('dissuaded', 1), ('murderer?', 1), ('\\n8', 1), ('cleaning', 1), ('checkpoints', 1), ('al-qaryatayn.', 1), ('bagged', 1), ('africa?', 1), ('financially', 1), ('on-going', 1), ('treatment.', 1), ('harshness', 1), ('a\\nbetter', 1), ('day\\nby', 1), ('c\\nracing', 1), ('sirens\\npacing', 1), ('policeman', 1), ('garage:', 1), ('karjo', 1), ('macomb', 1), ('sassed', 1), ('ndp', 1), (\"\\x89û÷disaster'\", 1), ('tropics.', 1), ('birthday!!????', 1), ('sticking', 1), ('hatzolah', 1), ('fdny', 1), ('thru@and', 1), ('horn\\x89û_', 1), ('hansel', 1), ('gretel:', 1), ('hunters....', 1), ('yeh', 1), ('hannah:', 1), ('china.', 1), (\"was?'\", 1), ('hank', 1), (\"'country\", 1), ('mulberry', 1), ('antony', 1), ('leather:', 1), ('å£279.00end', 1), ('hamptonroadsfor.me', 1), ('halsey', 1), ('troye', 1), (\"'extras'\", 1), ('aboriginal', 1), ('cricketer', 1), ('haley', 1), ('richardson', 1), ('(review)', 1), ('hail:the', 1), ('summons', 1), ('turns.', 1), ('[pic]', 1), ('caesars!', 1), ('mary.', 1), ('thee.', 1), ('hah-', 1), ('fvck', 1), ('cfc', 1), ('ancop', 1), ('tita', 1), ('alas', 1), ('crush??...it', 1), ('overrated', 1), ('experience...smh', 1), ('behind.', 1), ('imouto', 1), ('sweat.', 1), ('superman', 1), ('slowpoke.', 1), ('poc.', 1), ('fishiest', 1), ('gutted.', 1), ('fracture', 1), ('ankle.', 1), ('clinic', 1), ('gut', 1), ('deutsch', 1), ('musik!', 1), ('monarchy', 1), ('protection..', 1), ('\\nthat', 1), ('gunnar', 1), ('optiks', 1), ('-heroes', 1), ('siege', 1), ('gaming', 1), ('onyx/fire', 1), (\"salvador's\", 1), ('drivers:', 1), ('bit\\x89û_', 1), ('vector', 1), ('cutter', 1), ('gulfport', 1), ('all-in', 1), ('realizations', 1), ('51', 1), ('bitten', 1), ('mutant', 1), ('gsp', 1), ('northeastern', 1), ('1115', 1), ('mountain\\x89û_', 1), ('dries', 1), ('bhp', 1), ('billiton', 1), ('avoids', 1), ('grimes:', 1), (\"'we'll\", 1), (\"how.'\\n\\n#thewalkingdead\\nseason\", 1), ('5\\n#conquer\\n29', 1), ('garza', 1), ('atlas', 1), ('leones', 1), ('negros', 1), ('copa', 1), ('greer', 1), ('line:', 1), ('garfield-cottage', 1), ('grove.', 1), ('resume', 1), ('disrupted', 1), ('bastards', 1), ('censorship', 1), ('youtube:', 1), ('\\x89ââ86bn', 1), ('bailout', 1), ('continues\\nhttp://t.co/uxp6poqjlb', 1), (\"presqu'ile\", 1), ('family&amp;friends.lots', 1), ('fun;not', 1), (\"tribune's\", 1), ('terrence', 1), ('(no', 1), ('fortunately)', 1), ('fuel/gas', 1), ('tahoe/blazer/avalanche/s-10', 1), ('neal', 1), ('rigga', 1), ('technique', 1), ('camp\\nb1g', 1), ('\\n@hail_youtsey', 1), ('\\n#goblue', 1), ('easton', 1), ('softball', 1), ('fastpitch', 1), ('(-9)', 1), ('29/20', 1), ('sk398', 1), ('moir', 1), ('&lt;b&gt;bake&lt;/b&gt;', 1), ('&lt;b&gt;chocolate&lt;/b&gt;', 1), ('jan\\x89û_', 1), ('contained.', 1), ('tractor.', 1), (\"grandma's\", 1), ('kids/teenagers??\\n#bombeffects', 1), ('graham', 1), (\"phillips'\", 1), ('canceled', 1), ('\\n\\n#fundraise', 1), ('\\n\\nhttp://t.co/hibef3cxox', 1), ('bicycles', 1), ('fences', 1), ('idiots', 1), ('swollen', 1), ('rivers...', 1), ('style..', 1), ('hurricane/typhoon', 1), ('ratings/categories', 1), ('defined', 1), ('unstable', 1), ('saturated', 1), ('..very', 1), ('hilly/mountain', 1), ('areas...', 1), ('rs40000cr', 1), ('lifeline', 1), ('fci', 1), ('3_6_12', 1), ('allocating', 1), ('action:', 1), ('veneto', 1), ('weighs', 1), ('liveleakfun', 1), ('hijacker:', 1), ('local...', 1), ('fresno', 1), ('1976.', 1), ('construct', 1), ('uk\\x89ûªs', 1), ('organisms:', 1), ('chowchilla', 1), ('schoenfeld.', 1), ('bilsen', 1), ('missing:', 1), ('his\\x89û_', 1), ('gamer', 1), ('fuckkkkkk', 1), ('mud.....', 1), ('blinker', 1), (':-)))', 1), ('life....', 1), ('gostei', 1), ('vì_deo', 1), ('polaroids', 1), ('supplies:', 1), ('pure', 1), ('jou...', 1), ('day!!!', 1), ('geyser', 1), ('tips!', 1), ('evacuated!!', 1), ('olde', 1), ('fashioned', 1), ('prairie', 1), ('barton', 1), ('fit.', 1), ('japan...', 1), ('climate.', 1), ('lol\\nhttp://t.co/k9cd0efvut', 1), ('flow.', 1), ('responds.', 1), ('patient.', 1), ('rapper!', 1), ('columbia:', 1), ('sallie', 1), ('\\n#memorial_day', 1), ('sandstorm.', 1), ('mustard', 1), ('aul', 1), (\"appointment'\", 1), ('powerlines:', 1), ('newsbrokenemergency', 1), ('servicesgold', 1), ('coastpowerlinetramtr', 1), ('alves', 1), ('starve', 1), ('starbs', 1), ('redo', 1), ('ayyy', 1), ('brb', 1), ('amidst', 1), ('fest?', 1), ('goggles', 1), ('pigeon', 1), (\"'aftershock'\", 1), ('gainesville', 1), ('(heavenly', 1), (\"gov't)\", 1), ('room!', 1), ('cocky', 1), ('strutted', 1), ('box...', 1), ('contacts.', 1), ('it!!!', 1), ('grizzly', 1), ('drunk.', 1), ('affect.', 1), ('gns', 1), ('($)', 1), ('gmtty', 1), ('vixen', 1), ('(2in1)', 1), ('marc', 1), ('bolan', 1), ('nasahurricane.', 1), ('visit:', 1), ('2014:', 1), ('co...', 1), ('&lt;b&gt;hyderabad&lt;/b&gt;', 1), ('rainfall:', 1), ('hyderabad:', 1), ('heading\\x89û_', 1), (\"coalition's\", 1), ('fondness', 1), ('backing', 1), (\"'1984'-style\", 1), ('totalitarianism', 1), ('copied...', 1), ('ginga', 1), ('l-drago', 1), (\"can't!\", 1), ('mentally.', 1), ('smh.', 1), ('violently', 1), ('obvious\\nmale', 1), ('coworker(unaware', 1), ('why):', 1), ('sick!\\nsir', 1), ('å£150', 1), ('boylesports', 1), ('2night', 1), (\"disney/pixar's\", 1), ('animated', 1), ('locksmith', 1), (\"out'\", 1), ('delicious', 1), ('flavor', 1), ('strawberry', 1), ('$15\\x89û_', 1), ('speeds', 1), ('unlimited', 1), ('intelligence.', 1), ('sponge....a', 1), ('eur', 1), ('bwin', 1), ('gigawatts', 1), ('installed', 1), ('capacity\\n_one', 1), ('gwatt', 1), ('reactor.\\nhttp://t.co/leczolkmsv', 1), ('georgian', 1), ('wines', 1), (\"russia's\", 1), ('ukraine:', 1), ('georgegallagher:', 1), ('robin\\x89û_', 1), ('george:', 1), ('woes', 1), ('claiborne', 1), ('around;', 1), ('it?:', 1), ('wildfire...', 1), ('geoengineering', 1), ('unstable.', 1), ('temps', 1), ('165å¡', 1), ('jp', 1), ('generational', 1), ('\\x89û÷british', 1), ('schism\\x89ûª', 1), ('privacy', 1), (\"\\x89û¢åê'demolition\", 1), ('achimota', 1), ('audience:', 1), ('zenit', 1), ('gears', 1), ('1!(preview', 1), ('member)', 1), ('chat!', 1), ('xb1!', 1), ('zone!:', 1), ('nobody????????', 1), ('br', 1), ('gaping', 1), ('agdq:', 1), ('kororinpa', 1), ('marble', 1), ('tloz', 1), ('oracle', 1), ('metroid', 1), ('gail', 1), ('russell', 1), ('dalroy', 1), ('3rd]', 1), ('2nd]', 1), ('g+:', 1), ('+https://t.co/dodxi41y1cåêis', 1), ('lyrically!', 1), ('fylde', 1), ('flattened:', 1), ('preston\\x89ûªs', 1), ('disappearing', 1), ('skyline.', 1), ('fyi:', 1), ('damage;3460', 1), ('limestone', 1), ('ln;col;yellowstone', 1), ('way;fieldstone', 1), ('dr;08/05/2015', 1), ('19:36:35', 1), ('damage;wpd;1600', 1), ('17th', 1), ('damage;nhs;999', 1), ('fwd:', 1), ('coats', 1), ('sprite', 1), (\"'02\", 1), ('cocker', 1), ('spaniels', 1), ('girls!', 1), ('cools', 1), ('durban', 1), ('rapid-fire', 1), ('splattling', 1), ('propane', 1), ('inside.', 1), ('sunnymeade', 1), ('episode:', 1), ('wn', 1), ('08/02/15:', 1), ('fukushima:', 1), ('offering', 1), (\"'mutant\", 1), (\"vegetable'\", 1), ('sweep', 1), ('/r/antipozi', 1), ('quarantined.', 1), ('cucks', 1), ('firetrucks', 1), (\"aubrey's\", 1), ('fic', 1), ('something.....#yr', 1), ('archive:', 1), ('poetry', 1), ('month:', 1), ('anterior', 1), ('non-hazardous', 1), ('chemicals', 1), ('1916', 1), ('strives', 1), ('eco-friendly', 1), ('elation', 1), ('jackson...', 1), ('lean', 1), ('friendly', 1), ('zzzz', 1), ('freyas', 1), ('lookss', 1), ('(still', 1), ('brand?)', 1), ('j&amp;amp;k', 1), ('freed', 1), ('captives', 1), ('\\x89ûïi', 1), (\"school.'\", 1), ('freebesieged:', 1), ('.martinmj22', 1), ('yougov', 1), ('3-7', 1), ('lumbar', 1), ('condition!!', 1), ('80pcs', 1), ('tibetan', 1), ('spacer', 1), ('5.5x1.', 1), ('ltz', 1), ('produces', 1), ('auto-body', 1), ('specialists.', 1), ('6:30/8:30', 1), ('blame?', 1), ('maybe.', 1), ('zone?', 1), ('lie??', 1), ('(costing', 1), ('apiece)', 1), ('1952', 1), ('dodge', 1), ('bodied', 1), ('libby', 1), ('truck.', 1), ('ori\\x89û_', 1), ('rainstorms', 1), ('walking.', 1), ('pain...', 1), ('elanorofrohan:', 1), ('zurich', 1), ('premiere', 1), ('desolation...', 1), ('foto:', 1), ('\\x89ûïlove', 1), ('isn\\x89ûªt', 1), ('[red]', 1), ('because...', 1), ('50%.', 1), ('cebu', 1), ('philippi...', 1), ('pat', 1), ('spen...', 1), ('addict', 1), ('surf/spa', 1), ('feelings.', 1), ('forestservice', 1), ('dhsscitech:', 1), ('buildings\\x89ûówe', 1), ('katu', 1), ('salmon:', 1), ('deny.', 1), ('nightmares', 1), ('ronge', 1), ('sask.', 1), ('m151a1', 1), ('mutt', 1), ('m416', 1), ('120', 1), ('capsule', 1), ('powder', 1), ('discussed', 1), (\"'introduction\", 1), (\"aesthetic'\", 1), ('many!', 1), ('californians', 1), (\"africa's\", 1), ('sahel', 1), ('chore.', 1), ('3am', 1), ('footed', 1), ('pajamas', 1), ('climb.', 1), ('activate', 1), ('[big', 1), ('mode]', 1), ('old-timey', 1), ('obliteration!', 1), ('referral', 1), ('1-800-465-87332', 1), ('prater', 1), ('pronounced', 1), ('purposes.', 1), ('hooligan', 1), ('crematoria', 1), ('provokes', 1), ('follownflnews:', 1), ('precedent.', 1), ('undetected...', 1), ('4700', 1), ('11th', 1), ('17:00', 1), (\"'unpacked'\", 1), ('blazing!!!', 1), ('flourishing', 1), ('sleigh', 1), ('toothsome', 1), ('onrhpz', 1), ('shaft', 1), ('fab', 1), ('albertsons', 1), ('|lauren', 1), ('05.08.2015', 1), ('county\\n\\nhttp://t.co/goszra5bdd', 1), ('lakh\\x89û_', 1), ('-10', 1), ('ut...', 1), ('flood-zone', 1), ('raheel', 1), ('sharif', 1), ('chitral:', 1), ('lauded', 1), ('fwo', 1), ('opera...', 1), ('prone', 1), ('westchester', 1), ('eligible', 1), ('fjords', 1), ('7:10pm', 1), ('8:00pm', 1), ('4:35pm', 1), ('4:28pm', 1), ('fleshgod', 1), ('blinded', 1), ('(mini', 1), ('cheesecake', 1), ('aesthetic', 1), ('thee', 1), (\"cartoony-like.\\n'whoa\", 1), (\"papa!'\", 1), ('hanna', 1), ('draws', 1), ('news5', 1), ('7:00am', 1), ('morning/12:00pm', 1), ('afternoon.\\nfor:', 1), ('perry', 1), ('cape...', 1), ('tucson', 1), ('mountains:', 1), ('steep', 1), ('terrain', 1), ('mountains\\x89û_', 1), ('fitz', 1), ('tantrums', 1), (\"stand-up\\n'so\", 1), ('sharks?', 1), (\"sharks?'\\n*silence*\\n'is\", 1), (\"on?'\\n*flicks\", 1), ('mic.', 1), ('electrocuted*', 1), ('selfie.', 1), (\"'sweet'\", 1), ('me????', 1), ('hearthstone', 1), ('physically', 1), ('gasped', 1), ('invested...', 1), ('everything!', 1), ('coney', 1), ('wwii-era.', 1), ('newer.', 1), ('gps-based', 1), ('lucky....', 1), ('cedar', 1), ('7/8.', 1), ('linford', 1), ('435-327-1148.', 1), ('int', 1), ('convene', 1), ('awards', 1), ('gis', 1), ('retainers', 1), ('impressions:', 1), ('lieu', 1), ('ladies.', 1), ('triumphs', 1), ('firepower', 1), ('[electronic', 1), ('resource]', 1), ('infectious', 1), ('diseases', 1), ('/\\x89û_', 1), ('firefigthers', 1), ('northampton', 1), ('connecticut', 1), ('cary', 1), ('condo', 1), ('clare', 1), ('going.', 1), ('huge.', 1), ('sonic', 1), ('instead.', 1), ('f-450', 1), ('(fire', 1), ('transporta...', 1), ('k3', 1), ('charlton', 1), ('winery', 1), ('wsoc', 1), ('high-rise', 1), ('displaces', 1), ('troy:', 1), ('carriage.', 1), ('brant', 1), ('drummond', 1), ('*structure', 1), ('single.', 1), ('units:', 1), ('temecula.', 1), ('secured-&gt;', 1), ('boutta', 1), ('105.', 1), ('49', 1), ('(exploded', 1), ('a)', 1), ('56', 1), ('(pic', 1), ('ferno', 1), ('engineering', 1), ('inspect', 1), ('components.', 1), ('fel', 1), ('zakuun', 1), ('minute.', 1), ('wrestler', 1), ('mishaps:', 1), ('pathogens:', 1), ('bioter\\x89û_', 1), ('atlanta', 1), ('(say', 1), ('what?):', 1), ('åêfedex', 1), ('mishaps\\n\\nhttp://t.co/sjnkpj8lee\\n\\n#watchcbs19', 1), ('wxia-tv', 1), ('migrants\\x89û_', 1), ('migrant...', 1), ('carr..', 1), ('belo-ooow', 1), ('swallow', 1), ('who-ooo-ole', 1), ('bene', 1), ('gesserit', 1), ('litany', 1), ('dune', 1), ('motivator', 1), ('less:', 1), ('nazir', 1), ('crackdowns\\x89û_', 1), ('december.', 1), ('deal.', 1), ('musicvideo)', 1), ('despair!', 1), ('air\\ni', 1), ('free\\nfrom', 1), ('despair\\nand', 1), ('sow', 1), ('fco', 1), ('condemns', 1), ('fc', 1), ('bushman', 1), (\"safari's\", 1), ('palmer', 1), ('cecil', 1), ('commentes', 1), ('fatality!!after', 1), (\"enemy's\", 1), ('kinda-mortal', 1), (\"kombat's\", 1), ('father-of-three', 1), ('overtaking', 1), ('2u', 1), ('lift', 1), ('name??amen', 1), ('af.', 1), (\"'pain'......\", 1), ('fascinating', 1), ('propaganda', 1), ('epileptic\\x89û_', 1), ('epilept...', 1), ('osama', 1), ('mhmmm', 1), ('heartbroken.mobile', 1), ('nellis', 1), ('cheyenne', 1), (\"legionnaires'...\", 1), ('disea...', 1), ('homebuyer', 1), ('miscalculation', 1), ('thousands:', 1), ('mwjcdk', 1), (\"'explosion\", 1), (\"chemical'\", 1), ('drills', 1), ('1.5', 1), ('sept.\\nhttp://t.co/ajvfjd3qni', 1), ('\\x89û÷body', 1), ('bags\\x89ûª', 1), ('khalil', 1), ('abdul-rasheed', 1), ('bags\\n\\nhttp://t.co/vpvskciyro', 1), ('wingers', 1), ('prem', 1), ('willian', 1), ('misfortunebut', 1), ('noxdv', 1), ('2.0:', 1), ('more\\x89û_', 1), ('neces...', 1), ('ultimatum', 1), ('f496d', 1), ('extremeåêweather', 1), ('identification', 1), ('gleaned', 1), ('a\\nnumber', 1), ('hair.', 1), ('exo.', 1), ('exquisite', 1), ('sto...', 1), ('exporting', 1), ('solving', 1), ('wars.', 1), ('explosion!\\n\\n@begforcum', 1), ('\\n@allday_cumshots', 1), ('\\n@cumcovered', 1), ('\\n@sexycumshots', 1), ('\\n@cumtown\\n@bj_nutt\\n@cumslut_2\\n@girlslovecum', 1), ('strip', 1), ('30;', 1), ('krefeld', 1), ('germany.', 1), ('scene;', 1), ('exploring', 1), ('worlds:', 1), ('miì©ville', 1), ('worldoilåê(subscription)', 1), ('worldoil', 1), ('(subscription)', 1), ('e...', 1), ('wednesday\\x89û_', 1), ('prepper:', 1), ('grid...', 1), ('urogyn', 1), ('mesh', 1), ('offenders.', 1), ('downpours', 1), ('exofficio', 1), ('179', 1), ('on-duty', 1), ('nypd', 1), ('3åê\\x89û_', 1), ('ensuing', 1), ('\\n\\n:d', 1), ('evildead', 1), ('civilization', 1), ('kid.??', 1), ('grapes', 1), ('intentions', 1), ('pitfalls', 1), ('side.??', 1), ('curfew..', 1), ('sadness', 1), ('needless', 1), ('strain', 1), ('eversafe', 1), ('rush-hour', 1), ('gridlock', 1), ('jumper-ca\\x89û_', 1), ('padres', 1), ('fiasco-', 1), ('6-0.', 1), (\"kelly's\", 1), ('nno:', 1), ('delays?', 1), ('bogged', 1), ('cpu?', 1), ('bsg', 1), ('sufficiently', 1), ('hyped', 1), ('40%money', 1), ('finer', 1), ('subatomic', 1), ('spells', 1), ('choppas', 1), ('ass????', 1), ('roosevelt:', 1), ('komo', 1), ('area..voluntary-inciweb:mad', 1), ('idiot', 1), ('fitba', 1), ('eurocrisis', 1), ('\\x89ââ...', 1), ('ensembles', 1), ('operational', 1), ('counterpart', 1), ('squabble', 1), ('immigration.', 1), ('uk-france', 1), ('migrants.', 1), ('etp', 1), ('hiroshima-sized', 1), ('esn', 1), ('spain:', 1), ('next\\x89û_', 1), ('captors', 1), ('step.', 1), ('wild-looking', 1), ('recluse.\\nbetrayed\\nhttp://t.co/0q040stkcv\\n#books', 1), ('indonesian', 1), ('err:509', 1), ('olds', 1), ('buddy', 1), ('clapton', 1), ('rioting?', 1), ('erdogan\\x89ûªs', 1), ('\\nmax', 1), ('zirngast', 1), ('jacobin:\\non', 1), ('thirty-one...', 1), (\"erdogan's\", 1), ('socialists', 1), ('ercjmnea:', 1), (\"'mad\", 1), ('dash', 1), (\"mayhem'\", 1), ('designers', 1), (\"york's\", 1), ('priests', 1), ('interracial', 1), ('harrowing', 1), ('harassment', 1), ('another.', 1), ('treat.', 1), ('superhero', 1), ('(dravet)', 1), ('drowns', 1), ('cydia', 1), ('tweak', 1), ('epa', 1), ('environment', 1), ('ce...', 1), ('centre:', 1), ('app...', 1), ('entertain', 1), ('moment:\\n\\ndiarrhea', 1), ('enter', 1), ('volga', 1), ('tree.', 1), ('breeze.', 1), ('live-action', 1), ('freshly', 1), ('coiffed', 1), ('coast.', 1), ('dogger', 1), ('westward.', 1), ('m/v', 1), ('regent', 1), ('towing', 1), ('8400', 1), ('metre', 1), ('innovation', 1), ('catch-22:', 1), ('enca', 1), ('onboard:', 1), (\"xl-games.ru'\", 1), ('=tps=', 1), ('tdm', 1), ('400t', 1), (\"rules'\", 1), ('ems1:', 1), ('emts', 1), ('$17', 1), ('\\x89û÷minimum', 1), ('wage\\x89ûª', 1), ('abella', 1), ('danger:', 1), ('emp...', 1), ('alcoholism/addiction', 1), ('forgiving', 1), ('nu:', 1), ('northwestern\\x89û_', 1), ('unsure', 1), ('cope', 1), ('paging', 1), ('jewell', 1), ('close.', 1), ('canal!!', 1), ('principles', 1), ('practices', 1), ('hazmat', 1), ('training.', 1), ('redruthåêuk', 1), ('plumber', 1), ('practitioner', 1), ('healthcare', 1), ('recruitment', 1), ('counselors', 1), ('(wasilla', 1), ('ak):', 1), ('kit?', 1), ('jk', 1), ('repairing', 1), ('11211', 1), ('ny:', 1), ('offerings:', 1), ('uac', 1), ('flow', 1), ('mp3', 1), ('rar', 1), ('dispatchers', 1), ('boone', 1), ('beaumont', 1), ('spohn', 1), ('shoreline.', 1), ('v4.5.2', 1), ('area!:', 1), ('vacation.', 1), ('ellie', 1), ('goulding', 1), ('acesse', 1), ('nosso', 1), ('para', 1), ('ouvir!', 1), ('freedom:', 1), (\"midnight!'\", 1), ('elem', 1), ('pomo', 1), ('consider!\\nelem', 1), ('scofield.', 1), ('hotbox', 1), ('sona', 1), ('(not', 1), ('myself)', 1), ('elecman', 1), ('stronger!', 1), (\"'mayhem'\", 1), ('el\\x89û_', 1), ('monte', 1), ('attempts', 1), ('delinquency', 1), ('pasadena', 1), ('watered', 1), ('rappers..', 1), (\"macy's\", 1), ('thanksgiving', 1), ('cleav...', 1), ('expose', 1), ('cleavage', 1), ('egyptian', 1), ('(new', 1), ('(1717', 1), ('gmt)', 1), ('efs300:', 1), (\"wars'\", 1), (\"trek'\", 1), ('pluto', 1), ('charon', 1), ('maimonides', 1), ('eff', 1), ('muckrock', 1), ('biometrics', 1), (\"student's\", 1), ('edwin', 1), ('jimmy', 1), ('(lapaka', 1), ('sounds)', 1), ('terry', 1), ('sergio', 1), ('aguero.', 1), ('honourable', 1), ('nemanja', 1), ('matic.', 1), ('economists', 1), ('investing:', 1), ('strategies', 1), ('wealth', 1), ('blowout.', 1), ('ebola:', 1), ('case..', 1), ('virus:', 1), ('ala.', 1), ('sa-314', 1), ('bracket', 1), ('screws', 1), ('8960', 1), ('driller', 1), ('boxed.', 1), ('takis', 1), ('rubbing', 1), ('fasteners', 1), ('xrwn', 1), (\"'free\", 1), (\"speech'\", 1), ('swallowed.', 1), ('3.4', 1), ('96km', 1), ('brenas', 1), ('rico:', 1), ('10:34:24', 1), ('06:34:24', 1), ('-04:00', 1), ('bivens', 1), ('w/her', 1), ('e1.1.2', 1), ('particulate=break', 1), ('combust', 1), ('voltaic', 1), ('voc=petroleum', 1), ('ch4', 1), ('bacteria', 1), ('decomposition', 1), ('e-mini', 1), ('500:', 1), ('letdown', 1), ('equals', 1), ('e-hutch', 1), ('mcconnell', 1), ('judicial', 1), ('nominations', 1), ('govern.', 1), ('lyme', 1), (\"'en\", 1), (\"route'\", 1), ('alice', 1), ('uluru', 1), ('wind:', 1), ('paratroopers', 1), ('fury:', 1), ('rotary', 1), ('guard:', 1), ('uvopwz', 1), ('1960s', 1), ('oryx', 1), ('symbol', 1), ('peninsula', 1), ('\\nhttp://t.co/yangeqbuqw', 1), (\"mannequin'\", 1), ('decorating', 1), ('hall!', 1), ('$2', 1), ('thoroughly', 1), ('brutality', 1), ('nvr', 1), ('mistreated.', 1), ('duckvillelol:', 1), ('flips', 1), (\"'screw\", 1), ('grabs', 1), ('dubstep', 1), ('hardstyle', 1), ('messy', 1), ('recording)', 1), ('flynn', 1), ('onr', 1), ('legionna...', 1), ('oi...', 1), ('dt', 1), ('pickpocket', 1), ('stree...', 1), ('kodiak', 1), ('&gt;@alaskapublic', 1), ('jarmusch', 1), ('vampires.', 1), ('actavis', 1), ('clementines', 1), ('(utp))', 1), ('africa.', 1), ('lists', 1), (\"'abnormally\", 1), (\"dry'\", 1), ('$75000', 1), ('drob', 1), ('chair.', 1), ('military:', 1), ('soldi...', 1), ('pepsi', 1), ('storen', 1), ('curing', 1), ('disrespect', 1), ('consis...', 1), ('consistently', 1), ('yo\\x89û_', 1), ('spokes', 1), ('raptors.beg', 1), ('differ', 1), ('rang', 1), ('musik', 1), ('goodlook.running', 1), ('sensitive', 1), (\"'ghostwriter.'\", 1), ('z:', 1), ('dracula', 1), ('vampire', 1), ('owen', 1), (\"ferrell's\", 1), ('tsunami:', 1), ('terms.', 1), ('heard?', 1), (\"tsunami's...\", 1), ('gridlock:', 1), ('bengston', 1), ('\\x89ûïnumbers', 1), ('upward', 1), ('trend.\\x89û\\x9d', 1), ('stern', 1), ('indiahttp://www.informationng.com/?p=309943', 1), ('hiring!', 1), (\"'floods\", 1), (\"glory'\", 1), ('luiz', 1), ('santos', 1), ('doves', 1), ('denier', 1), ('(electric', 1), ('proms', 1), ('pt4)', 1), ('ebony', 1), ('e!', 1), ('917-033', 1), ('dorion:', 1), ('consistency', 1), ('dorette', 1), ('doone', 1), ('architects', 1), ('permission', 1), ('natwest', 1), ('city\\x89ûªs', 1), ('tallest', 1), ('forever.', 1), (\"'good'\", 1), ('chants.', 1), (\"'bad'\", 1), ('republicans.', 1), ('memory.', 1), ('whiskey.', 1), ('mommys', 1), (\"song'\", 1), ('panik!', 1), ('myths', 1), ('obscuring', 1), ('month.', 1), ('daddy', 1), ('massacre.', 1), ('trying\\nto', 1), ('elitist', 1), ('slides.', 1), ('writing--weekly', 1), ('thrive:', 1), ('summer!', 1), ('pisco', 1), ('try.', 1), ('weaknesses!', 1), ('work:', 1), ('i77', 1), ('south...', 1), ('airlift', 1), ('flame.', 1), ('blink', 1), ('messenger.', 1), ('venezuela.', 1), ('video.thanks', 1), ('shtfplan!\\nhttps://t.co/qbstqxa6qx', 1), ('modest.', 1), ('certainly...', 1), ('*sniff*', 1), ('*sniiiiiiff*', 1), ('donny?', 1), ('argue', 1), ('stark', 1), ('debate;', 1), ('shoes;', 1), ('ifs', 1), ('ands', 1), ('buts', 1), ('domain', 1), ('sophistication', 1), ('closely', 1), ('feat:', 1), ('zrnf', 1), ('dren', 1), (\"death's\", 1), ('dialyses', 1), ('rendered', 1), ('buildings\\nhttps://t.co/9cpwiecegv', 1), ('us?', 1), ('hhs', 1), ('selects', 1), ('muslims/terrorism?\\nor', 1), ('catholicism/homophobia?', 1), ('potter', 1), ('twister?', 1), (\"'am\", 1), (\"wildfire'.\", 1), ('pre-sinkhole????', 1), ('renovation', 1), ('steamroller', 1), ('squashed', 1), ('giving?', 1), ('maybe!', 1), ('bono', 1), ('damage?', 1), ('tmh', 1), ('brining', 1), ('evening?', 1), (\"doe's\", 1), ('filter', 1), ('reading;', 1), ('center;', 1), ('offsite', 1), ('release.', 1), ('motivation:', 1), ('game?\\nhttp://t.co/sqfp6ecz0i\\nits', 1), ('googlemaps', 1), ('calculates', 1), ('powers?', 1), ('pasta?', 1), ('fester?', 1), ('andåêword', 1), ('picture.', 1), ('route?', 1), ('workplace?', 1), ('manager.', 1), ('hammond', 1), ('or?', 1), ('listing!', 1), ('arabic', 1), ('vietnamese.', 1), ('of\\nchildren', 1), ('emergency?', 1), ('zouis?', 1), ('anxiety?', 1), ('species', 1), ('mosquitoes', 1), ('timedoes', 1), (\"'stop\", 1), ('you+', 1), ('playa', 1), ('sockets?', 1), ('childhood.', 1), ('denmark:', 1), ('dorling', 1), ('kindersley', 1), ('publishing', 1), ('staff\\x89û_:', 1), ('chicks', 1), ('??can', 1), ('lides??\\n??can', 1), ('life??\\n', 1), ('speak.', 1), ('gn', 1), ('image)', 1), ('disinfo:', 1), ('disillusioned', 1), ('\\ncheck\\nhappy', 1), ('girl\\ncheck\\ndream', 1), ('crushed\\ncheck\\ngreat', 1), ('music\\ncheck\\nall', 1), ('crowe', 1), ('tropes', 1), ('disgusting!', 1), ('allowing', 1), ('it???', 1), ('warnings.[900037]', 1), ('\\x89û÷hoax', 1), ('device\\x89ûª', 1), ('atåêcinema', 1), ('[chapter', 1), ('27]', 1), ('diretube', 1), ('cyprus', 1), ('greece', 1), ('fightåêterrorism', 1), ('launched.', 1), ('diego', 1), ('urg', 1), ('8:30pm', 1), ('est', 1), ('===&gt;&gt;&gt;', 1), (\"trapped...'\", 1), ('leona', 1), ('dinah', 1), ('love?', 1), ('josephus', 1), ('antiochus', 1), ('epiphanes', 1), ('desolation?', 1), ('much?', 1), ('touch?', 1), ('fireball', 1), (\"diageo's\", 1), ('stresses', 1), ('dhs', 1), ('\\x89û÷islamic', 1), ('terrorism\\x89ûª', 1), ('dfr', 1), ('ep016', 1), ('monthly', 1), ('dnbheaven', 1), ('2015.08.06', 1), ('vergil', 1), ('agnus', 1), ('[window]', 1), ('dmd', 1), ('leedstraif\\nhttps://t.co/zhrtcvu0ff', 1), ('devia', 1), ('ler', 1), (\"'as\", 1), ('walkthrough', 1), ('11:', 1), ('przez', 1), ('allegations.', 1), ('recent:', 1), ('esevu', 1), ('assets', 1), ('koz', 1), ('fashionable', 1), ('mountaineering', 1), ('water-resistant', 1), ('leisure', 1), ('tab\\x89û_', 1), ('m?.?o?.?p?.?)\\nfrom', 1), ('6]', 1), ('01:02:42', 1), ('3]', 1), ('01:02:17', 1), ('1]', 1), ('01:01:56', 1), ('m4.0', 1), ('15:41:07', 1), ('iwate', 1), ('06:32:43', 1), ('advance.', 1), (\"o'cuana\", 1), ('bloody-minded', 1), ('well-adjusted.', 1), ('emerged.', 1), (\"'wounded\", 1), (\"'exciting'\", 1), ('describes', 1), ('description', 1), ('surah', 1), ('humaza.', 1), ('descended', 1), ('shadowed', 1), ('harshly', 1), ('derek', 1), ('skeeter', 1), ('hasn\\x89ûªt', 1), ('cutlery', 1), ('dispute', 1), ('143', 1), ('2007', 1), ('project.', 1), ('progress:', 1), ('flint', 1), ('metropolis', 1), ('highsmith', 1), ('freestyles', 1), ('demolish-deep', 1), ('etoffe', 1), ('charmeuse', 1), ('clothesless', 1), ('precisionistic', 1), ('vestment:', 1), ('psfda', 1), ('opinion\\n#telangana', 1), ('democracy\\x89ûªs', 1), ('hate:', 1), ('dawabsha', 1), ('erode', 1), ('homegrown', 1), ('copies', 1), ('demco', 1), ('8550013', 1), ('hitch', 1), ('21k', 1), ('ultra', 1), ('flatliners', 1), ('creativity-balance-longevity', 1), ('lucifer', 1), ('dismay', 1), ('so\\nsoon', 1), ('surrendered', 1), ('drought\\ndescending', 1), ('disturbed\\n\\n#sunrise#haiku', 1), (\"delmont's\", 1), (\"'onion\", 1), (\"house'\", 1), ('delhi', 1), ('defendant/mass', 1), ('testify', 1), ('cross-exam', 1), ('\\nmaking', 1), ('conclusions', 1), ('$735m:', 1), ('transocean', 1), (\"bp's\", 1), ('recovers\\x89û_', 1), ('deepak', 1), (\"chopra's\", 1), ('decree', 1), ('russia-ukraine', 1), ('border.', 1), ('dismissed', 1), (\"'getting\", 1), ('occupational', 1), (\"hazard..!'\\n\\nus\", 1), ('isis!', 1), ('370!', 1), ('breakth...', 1), ('progressives.', 1), ('aware;', 1), ('thrusting', 1), ('tech-free', 1), ('re-enslave', 1), ('track:', 1), ('blame?:', 1), ('common.', 1), ('fuddy', 1), ('authenticating', 1), ('sole', 1), ('certificates', 1), ('safes', 1), ('teslas:', 1), ('2040?\\n\\n#climatechange', 1), ('\\n\\n', 1), ('humanityi', 1), ('apologized', 1), ('survivors.r', 1), ('so?#japan', 1), ('temporary', 1), ('replacement', 1), ('cosme\\x89û_', 1), ('dserialpcilp', 1), ('pci', 1), ('16550', 1), ('deadpool', 1), ('revealed\\n', 1), ('imminent', 1), ('[2/2]:', 1), ('de-watering', 1), ('defends', 1), ('media:', 1), ('subject!', 1), ('dazzle', 1), ('shite', 1), (\":'(\\nplez\", 1), ('liquidation', 1), ('object.', 1), ('minus', 1), ('toenail', 1), (\"davis's\", 1), ('judith', 1), ('hopfer', 1), ('deglin', 1), ('vallerand', 1), ('daviesmutia:', 1), ('baseball??', 1), ('overload:', 1), ('structure:', 1), ('information...', 1), (\"exum's\", 1), ('stem', 1), (\"jazz's\", 1), ('hoped-for', 1), ('daniel', 1), ('12:11', 1), ('damnnnn', 1), ('-26%', 1), (';that', 1), ('accordingly', 1), ('damn...was', 1), ('windstorm...??', 1), ('damn!', 1), ('feed.', 1), ('wale', 1), ('song??', 1), ('mlk', 1), ('sunset????', 1), ('greinke', 1), ('fire...damn', 1), ('dal', 1), ('day-to-day', 1), ('horny', 1), ('juicy', 1), ('reflections\\naugust', 1), ('6\\ndriven\\ndriven', 1), ('forms', 1), ('self-delusion', 1), ('self-seeking', 1), ('self-pity...', 1), ('biblical', 1), ('komen', 1), ('devastates', 1), ('outfit!', 1), ('carefully!', 1), ('cw500:', 1), ('celebrety', 1), ('no-go.', 1), (\"livin'\", 1), ('zoom', 1), ('ready:', 1), (\"'i've\", 1), (\"survived'\", 1), ('curvaceous', 1), ('mature...', 1), ('curtain', 1), ('currently:', 1), ('uncontrollable', 1), ('-on', 1), ('radio-', 1), ('currency', 1), ('transgress', 1), ('payday-prison', 1), ('ward', 1), ('sinking-fund', 1), ('unsecured', 1), ('jbumzqpk', 1), ('cultivating', 1), ('hail!!', 1), ('outage', 1), ('davidson', 1), ('ctd', 1), ('orangi:', 1), ('karachi:', 1), ('counter-terrorism', 1), ('(ctd)', 1), ('sindh', 1), ('cruz:', 1), ('\\x89û÷leaves', 1), ('languishing', 1), ('iran\\x89ûª', 1), ('flurry', 1), ('priorities', 1), ('marketingåêmediocrity', 1), ('mmx', 1), ('appadvice\\x89û_', 1), (\"cruise's\", 1), (\"'m:i\", 1), ('crptotech', 1), ('banks.\\n', 1), ('cross-sectarian', 1), ('protest.', 1), ('shia', 1), ('militias', 1), (\"withdraw:'ur\", 1), ('fightin', 1), ('uve', 1), (\"ppl'\", 1), ('again\\nhttp://t.co/ffbnluiy0f', 1), ('via@timesofindia', 1), ('wallet', 1), ('critters', 1), ('enugu:', 1), ('force...', 1), ('southwest', 1), ('omaha', 1), ('utility', 1), ('pole.', 1), ('boarding', 1), ('galleria', 1), ('apts.', 1), ('tahoe', 1), ('krnv', 1), ('nv', 1), ('inspiring', 1), ('rediscover', 1), ('fantabulous', 1), ('creation', 1), ('ai\\nclimate', 1), ('change\\nbioterrorism\\nmass', 1), ('workforce\\ncontact', 1), ('life\\nwealth', 1), ('inequality\\n\\nyea', 1), ('updating', 1), ('delivering', 1), ('task.', 1), ('playthrough.', 1), ('satan!', 1), ('ama', 1), ('friend59', 1), ('friend50', 1), ('=&gt;http://t.co/hy5pbe12tm', 1), ('crawling', 1), ('skin\\nthese', 1), ('hea', 1), ('slurpees', 1), ('helmet', 1), ('silvery', 1), ('floors', 1), ('karnal', 1), ('33:', 1), ('pbcanpcx', 1), ('iger\\x89ûªs', 1), ('disney\\x89ûªs', 1), ('\\x89ûòåêcnbc', 1), ('multiplayer;', 1), ('co-developed', 1), ('digital:', 1), ('åêwas', 1), ('multiplayer:', 1), ('demonstratio...', 1), ('session.', 1), ('med.', 1), ('discussing', 1), (\"lol'\", 1), ('courageous', 1), ('surrender.', 1), ('sex...', 1), (\"'ought\", 1), (\"be'\", 1), ('guthrie', 1), ('op.', 1), ('overload', 1), ('globe', 1), ('orchestrated', 1), ('[on', 1), ('levels]', 1), (\"billboard's\", 1), ('chart', 1), ('social-media-driven', 1), ('charts?', 1), ('airports', 1), ('sanity', 1), ('score...', 1), ('cord...', 1), ('roh3', 1), ('smantibatam', 1), ('curlin', 1), ('necks', 1), ('reps', 1), ('dip', 1), ('t.', 1), ('gunfight', 1), ('cooper', 1), ('pooper.', 1), ('detected', 1), ('cooool', 1), ('wildfire..', 1), ('cool:', 1), (\"'dark\", 1), (\"side'\", 1), ('counterstrike', 1), ('sound....', 1), ('mukilteo:', 1), ('upgrades', 1), ('vulnera...', 1), ('mukilteo', 1), ('q13', 1), ('contractor', 1), ('hired', 1), ('goodrich', 1), ('miami', 1), ('bankruptcy', 1), ('tulsa', 1), ('world:', 1), ('manufacturing', 1), ('contra', 1), ('arsonist:', 1), ('....??', 1), (\"cont'd-\", 1), ('40-pg', 1), ('movt', 1), ('[2]', 1), ('consent', 1), ('connor', 1), ('franta:', 1), ('\\n\\ndan', 1), ('howell:', 1), ('conning', 1), ('portfolio', 1), ('property-casualty', 1), ('conklin', 1), ('flattened.', 1), ('slide.', 1), ('westie', 1), ('believes', 1), ('computer\\nhttp://t.co/awzonryc9y', 1), ('confirmed:', 1), ('sanchez', 1), ('bolasie', 1), ('smoked', 1), ('meca', 1), ('4:00', 1), ('cest:', 1), ('conditions:\\nfair', 1), ('fforecast:\\nthu', 1), ('sunny.', 1), ('high:', 1), ('low:', 1), ('61\\nfri', 1), ('thunderstorm...', 1), ('condemnation', 1), ('aimlessly', 1), ('detersion', 1), ('de:', 1), ('hlg', 1), ('rise.', 1), ('concealed', 1), ('attacker', 1), ('hazzel', 1), ('hazard??????', 1), (\"john's\", 1), ('[browser', 1), ('guide]!', 1), ('company:', 1), ('abbruchsimulator', 1), ('ham:', 1), ('hancock', 1), ('year~', 1), ('tattooed', 1), (\"women.'\", 1), ('citadel!', 1), ('15th', 1), ('woodland!\\nms', 1), ('3-4:30pm\\nhs', 1), ('4:30-6pm', 1), ('tomorrow!\\naugust', 1), ('transcend:blazing', 1), ('diversified', 1), ('marketing...', 1), ('combating', 1), ('&amp;veterans', 1), ('mitigating', 1), ('anaheim', 1), ('1-7', 1), ('10/1', 1), ('colnharun:', 1), ('enroute.', 1), ('gateway', 1), ('tables', 1), ('thought!', 1), ('articals', 1), ('coleslaw', 1), ('coldwood', 1), ('coincidence', 1), ('reckoning', 1), ('dlc', 1), (\"'ecstatic\", 1), ('racco...', 1), ('link...', 1), (\"industry's\", 1), ('imprudent', 1), ('decisions!', 1), ('change!', 1), ('lookout', 1), ('investors!', 1), ('adjuster', 1), ('safeco', 1), ('...\\nvideo', 1), ('youtube?...', 1), ('year...', 1), ('(rnb', 1), ('edition)', 1), ('starz', 1), ('team\\n\\ndownload:', 1), ('sanitizing', 1), ('consequences:', 1), ('info-technews', 1), ('reddit\\x89ûªs', 1), ('re/code', 1), ('ben?', 1), ('how.', 1), ('father.', 1), ('cleared:incident', 1), ('i-75', 1), ('mm', 1), ('459.', 1), ('erie', 1), ('405', 1), ('removed.', 1), ('hiroshima/nagasaki:', 1), ('decades:', 1), ('clarke', 1), ('seaview', 1), ('kemsley.', 1), ('gatensbury', 1), (\"'with\", 1), (\"explosives'\", 1), ('t4', 1), ('airbase', 1), ('2015--', 1), ('colonel', 1), ('greenspace:', 1), ('development\\x89û_', 1), ('660', 1), ('implores', 1), ('motorists', 1), ('reserves\\n-&gt;', 1), ('watchdog', 1), ('dugway', 1), ('proving', 1), ('grounds.', 1), ('plot!', 1), ('*rolling', 1), ('eyes*', 1), ('chs', 1), ('wirelessly', 1), ('hacked', 1), ('steering', 1), ('chronicles', 1), (\"'absolute\", 1), (\"evil'\", 1), ('waving', 1), ('geller', 1), (\"brown's\", 1), ('aunft', 1), (\"'held\", 1), ('intruders', 1), ('chpsre:', 1), (\"humanity'\", 1), ('rezaphotography', 1), ('kraft', 1), ('singles', 1), ('arrives', 1), ('sittway', 1), ('bulls', 1), ('betting', 1), ('rebound.', 1), ('d\\x89û_', 1), ('e-commerce', 1), ('alibaba', 1), ('(baba)', 1), ('tencent', 1), ('(jd)', 1), ('revenue', 1), ('.forbes', 1), ('su...', 1), ('delaying', 1), ('fundamentals', 1), ('valuations', 1), ('detains', 1), (\"church's\", 1), ('chilli', 1), ('doritos', 1), (\"'double\", 1), ('pvc', 1), ('chickmt123:', 1), ('(http\\x89û_', 1), ('masturbates', 1), ('fd\\nstill', 1), ('alarm/ems', 1), ('derailment\\ncins/tg', 1), ('organizers', 1), ('chiasson', 1), ('wd', 1), ('chesterfield', 1), ('lipstick', 1), ('(just', 1), ('rediscovered', 1), ('nars\\x89ûª', 1), ('\\x89û÷heat', 1), ('wave\\x89ûª).??', 1), ('(three', 1), ('public:', 1), ('wikipedia', 1), ('encyclopedia', 1), ('happened:', 1), ('attending.', 1), ('cheesehead', 1), ('checkout', 1), ('nurgle', 1), ('snuck', 1), (\"khrone's\", 1), ('wd!', 1), ('sivan', 1), ('fitness', 1), ('basalt', 1), ('massage', 1), ('piece\\x89û_', 1), ('injured:\\x89û_', 1), ('images!\\nsomething', 1), ('longaberger', 1), ('floral', 1), ('strap', 1), ('got!', 1), ('[phantasmal', 1), ('cummerbund]', 1), ('reactors!', 1), ('chicago...', 1), (\"'collide'\", 1), ('bowery', 1), ('electric!', 1), ('lightroom', 1), ('\\x89ûïjordyne', 1), ('sunk\\x89û\\x9d:\\nmore', 1), ('sunday\\n\\nhttp://t.co/kvbedkglgw', 1), ('wabash', 1), ('reservoirs', 1), ('ameribag', 1), ('khaki', 1), ('beige', 1), (\"'want\", 1), ('shania?', 1), (\"here:'\", 1), ('love!!', 1), (\"'nova\", 1), (\"'malaysia\", 1), (\"mh370'\", 1), ('charred', 1), ('nh', 1), ('rips', 1), ('neighboring', 1), ('changelessly', 1), ('folders', 1), ('solemnity:', 1), ('hjt', 1), ('evolve.', 1), ('vanilla', 1), ('mass.', 1), ('feedback', 1), ('today....', 1), ('cemetery', 1), ('infuriates', 1), ('\\n\\nhttp://t.co/vplzkuidz2', 1), ('caution:', 1), ('gilgit', 1), ('farmland', 1), ('strong-minded', 1), ('keeper', 1), ('runnin', 1), ('catfish', 1), ('??????.', 1), ('catastrophic-fallen-angel:', 1), ('reveillertm:', 1), ('macabrelolita:', 1), ('\\x89û÷amino', 1), ('acids\\x89ûª', 1), ('nearly...', 1), ('darwinism', 1), ('xii:', 1), ('nightmarishly', 1), ('brutal', 1), ('ritualistic', 1), ('roleplay', 1), ('willinghearted', 1), ('into:', 1), ('rpn', 1), ('casually', 1), ('jasmine', 1), ('cascada', 1), ('dancefloor', 1), ('bears.', 1), ('qave', 1), ('knowlddge', 1), ('paper.', 1), ('carterville', 1), ('game-day', 1), ('i-540', 1), ('median:', 1), ('traveling...', 1), ('carmike', 1), ('cinemas', 1), (\"grateful'\", 1), (\"'highest\", 1), (\"priority'\", 1), ('everest', 1), ('cobes', 1), ('whitt', 1), ('frost', 1), ('godly', 1), ('someday.', 1), ('psychos', 1), ('zeroedgeåš', 1), ('dual-lens', 1), ('traffic/driving', 1), ('history/accident', 1), ('camcorder', 1), ('output', 1), ('hhw', 1), ('parley\\x89ûªs', 1), ('citizen:', 1), ('lnp', 1), (\"town's\", 1), ('newsthousands', 1), ('cap:', 1), ('represents', 1), ('shortfalls', 1), (\"fund'\", 1), ('candylit:', 1), ('sarumi', 1), ('candlelight', 1), ('vigil', 1), ('me)', 1), ('cancers', 1), ('equate', 1), ('25%', 1), ('\\n\\nkowing', 1), ('fluffy', 1), ('currong', 1), ('customers\\nhttp://t.co/sky9eokggb', 1), ('(columbia', 1), ('trib)', 1), ('suspended', 1), ('pvris', 1), (\"beyoncì©'fy\", 1), ('tunes', 1), (\"'yaaasss'\", 1), ('xfactor', 1), ('rendition', 1), ('burna', 1), ('underpasses', 1), ('enacts', 1), ('ariana', 1), ('salad', 1), ('symantec', 1), ('ergo', 1), ('exchange.', 1), ('dead????????', 1), (\"20's\", 1), ('pressure.', 1), ('stressful.', 1), ('resemblance', 1), ('bang!!', 1), ('way;', 1), ('save\\ncan', 1), ('my\\ncan', 1), ('heavydirtysoul?', 1), ('3p', 1), ('3\\\\:30a', 1), ('lima', 1), ('snowstorm?', 1), ('here...', 1), ('makoto', 1), ('(aka', 1), ('au)', 1), ('rn?', 1), ('failure?', 1), ('accident??', 1), ('it...blank', 1), ('expression...cheeks', 1), ('clapping', 1), ('face...marvins', 1), ('subtlety', 1), ('collide?', 1), ('campsite', 1), ('recommendations', 1), ('\\ntoilets', 1), ('/shower', 1), ('\\npub', 1), ('\\nfires', 1), ('\\npizza', 1), ('\\nforest', 1), ('\\npretty', 1), ('midges\\nno', 1), ('snakes\\nthanks', 1), ('roving', 1), ('raccoons', 1), ('toughens', 1), (\"camila's\", 1), ('spree', 1), ('repatriating', 1), ('mine..enjoy..babes', 1), ('truck??\\n#fireman', 1), ('mine..enjoy..#fire', 1), ('i-40', 1), ('118.', 1), ('scene!', 1), ('californian', 1), ('disclosed', 1), ('evacuate:', 1), ('fires...clearly', 1), ('excess', 1), ('co2!!!?', 1), ('provocation', 1), ('drought-fueled', 1), ('crews..', 1), (\"sunday's\", 1), ('wrong-way', 1), ('ca...', 1), ('law\\x89ûónegligence', 1), ('fireworks', 1), ('incidents', 1), ('govts', 1), ('advised', 1), ('shaking...catching', 1), ('fire....and', 1), ('overcharging', 1), ('150+', 1), ('nowhere.', 1), ('&amp;#039;monster&amp;#039;', 1), ('20%', 1), ('reviewing', 1), ('hail\\x89û_', 1), ('airdrie', 1), ('okotoks', 1), ('calgary.', 1), ('cbc.ca:', 1), ('end\\x89û_', 1), ('cops:', 1), ('immigrant', 1), ('arrests', 1), ('1980:', 1), ('submitt...', 1), ('1980...', 1), ('byz', 1), ('[mt]', 1), ('mdt', 1), ('price\\nhttp://t.co/kbc2ax8zl9', 1), ('2am', 1), ('lyk', 1), ('immigrants..deserves', 1), ('defeated', 1), (\"destroyed.it's\", 1), ('clarion', 1), ('buzzing:', 1), ('york\\x89ûªs', 1), ('nassau', 1), ('coliseum\\x89û_', 1), ('å£6bn', 1), ('worldpay', 1), ('ipo', 1), ('skyåênews', 1), ('extraordinaire', 1), ('but...!', 1), ('\\n\\nhow', 1), ('soil?!\\n\\nhow', 1), ('upheaval!?\\n\\n-@entershikari', 1), ('would..electrocute', 1), ('protestors.', 1), ('skyscrapers', 1), ('plant-covered', 1), ('ceiling', 1), ('trapped.', 1), (\"'flood\", 1), ('rescued...again.', 1), ('oldest', 1), ('feast.dll', 1), ('dll', 1), ('hijacking?', 1), ('lion.', 1), ('m8', 1), ('types', 1), ('action!', 1), ('life??????.', 1), ('hehe\\ntheir', 1), ('busty', 1), ('natalia', 1), ('starr', 1), ('cre', 1), ('cile.', 1), ('are|deluged', 1), ('ivoices.', 1), ('ris;', 1), ('invzices.', 1), (\"it'sllikely\", 1), ('invokces.', 1), ('shape.and', 1), ('invoicew.', 1), ('colouj', 1), ('invoicesx', 1), ('ou.', 1), ('yours.stand', 1), ('pipe.', 1), ('anq', 1), ('likkly', 1), ('pileq', 1), ('ris.', 1), ('togthe', 1), ('ikely', 1), ('colo', 1), ('lzkely', 1), ('.olour', 1), ('oup', 1), ('ogt', 1), ('colomr', 1), ('your.', 1), ('inroices.|make', 1), (\"pay';pile.\", 1), ('standwout', 1), ('vict', 1), ('bu\\x89û_', 1), ('scary....even', 1), ('scarier', 1), ('nycha', 1), ('ny1:', 1), ('ny1burst', 1), ('ablaze!', 1), ('turban', 1), ('outrage?', 1), ('buildings.\\n\\nkeep', 1), ('lit.', 1), ('forte!', 1), ('popcorn??', 1), ('202', 1), ('4.0', 1), ('163', 1), ('cardio', 1), ('129', 1), ('3.5', 1), ('burford.', 1), ('lorries.', 1), ('council.', 1), ('bulgarian', 1), ('tittie', 1), ('noemotion', 1), ('edk', 1), ('pathfinders', 1), ('m...:', 1), ('shelled', 1), ('tonight.\\ncivilian', 1), ('jan-july', 1), ('2015:\\x89ûó\\n164', 1), ('(incl.', 1), ('children)\\n501', 1), (\"tisa's\", 1), ('niceville', 1), ('tracklist', 1), ('rightways', 1), ('you\\x89û_', 1), ('victory!', 1), ('code:', 1), ('lzktjnox', 1), ('tc', 1), ('budget?', 1), ('trouble...', 1), ('buddha', 1), (\"'man\", 1), ('urbanisation', 1), ('brahmans', 1), ('dominance', 1), (\"('genius\", 1), (\"world').\", 1), ('bucket', 1), ('presentations', 1), ('giselle', 1), ('stretches', 1), ('victorian', 1), ('sofa', 1), ('ugliest', 1), ('tight', 1), ('beach??is', 1), ('brooo', 1), ('$2.6', 1), ('sandy\\x89ûªs', 1), ('locksmith:', 1), ('domesticate', 1), ('mechanic', 1), ('clock', 1), ('movement!:', 1), ('gba', 1), ('timed', 1), ('nail(real', 1), ('fake)', 1), ('-_-', 1), ('broadcast', 1), ('fortune', 1), ('quot-television', 1), ('quot-operations', 1), ('since-3g', 1), ('superv...', 1), ('(http://t.co/wgrxly9pdo)', 1), ('vegas!!', 1), ('much!', 1), ('\\n\\n??', 1), ('himalayas', 1), ('diver', 1), ('steamship', 1), ('stained', 1), ('nor0603', 1), ('man-made:', 1), ('mpp', 1), ('lambasts', 1), ('kanglaonline', 1), ('j.j.', 1), ('hickson', 1), ('kenneth', 1), ('faried', 1), ('lamarcus', 1), ('aldridge', 1), ('breast', 1), ('800000', 1), ('on\\npolice', 1), ('says.', 1), (\"arsenal's\", 1), ('hector', 1), ('bellerin', 1), ('hazard.\\x89û_', 1), ('news:nigeria', 1), ('aba.', 1), ('hapless', 1), ('links:', 1), ('derailed:', 1), ('suspending', 1), ('ser...', 1), ('brass', 1), ('cataclysm', 1), ('aftershock!!!', 1), ('telly', 1), ('structuring', 1), ('cast:', 1), ('edcxo', 1), ('homefolks', 1), ('opinionated', 1), ('proposal', 1), ('modernized', 1), ('omw', 1), ('bradford.', 1), ('weep', 1), ('leeds.', 1), ('brace', 1), ('depressed', 1), ('broth...', 1), ('walker:', 1), ('appeared', 1), ('3-year-old', 1), ('haircuts', 1), ('minimal', 1), ('wine', 1), (\"'then0mads0ul'.\", 1), ('boom!', 1), ('bonus', 1), ('habits', 1), ('whack-a-mole.', 1), ('why:', 1), ('tenn.', 1), ('head?', 1), ('explosive', 1), ('tween', 1), ('loot', 1), ('ricin', 1), ('cartel', 1), ('kidnap', 1), ('bust', 1), ('bolshevik', 1), ('monopolized', 1), ('seize', 1), ('hunhry', 1), ('population.', 1), ('dented', 1), ('pays...', 1), ('deductible', 1), ('!\\n#wcvb', 1), ('bagging!', 1), ('bo2', 1), ('bmx', 1), ('areal', 1), ('[al]', 1), ('bluedio', 1), ('4.1', 1), ('headset', 1), ('listeria', 1), ('disaster...', 1), ('bloor/ossington', 1), ('mattress', 1), ('northumberland', 1), ('beet', 1), ('grrrr!!', 1), ('just.', 1), ('vaca', 1), ('*o*', 1), ('liam', 1), (\"stiles's\", 1), ('pleeease...', 1), (\"'rioting'.\", 1), ('memory:', 1), ('intragenerational', 1), ('sandra', 1), ('bland', 1), ('+ve', 1), ('gastric', 1), ('carcinoma', 1), ('book...another', 1), ('gene', 1), ('body....', 1), ('courtney', 1), ('laudner', 1), ('panties', 1), ('amanda', 1), ('boobs', 1), ('worsen:', 1), ('cervelli.', 1), ('puff', 1), ('auz', 1), ('cst', 1), ('hrs', 1), ('hump', 1), ('complete!', 1), ('raids', 1), ('legion:', 1), ('legion\\x89û_', 1), ('blending', 1), ('emergencies:', 1), ('\\nhttp://t.co/afmkcfn1tl', 1), (\"bleachers'\", 1), ('hot!', 1), ('months:', 1), ('100mb', 1), ('tecno', 1), ('q1', 1), ('ime...', 1), ('slut', 1), ('(hunted', 1), ('multiplayer):', 1), ('(would', 1), ('shopping)', 1), ('3945', 1), ('3941', 1), ('4103', 1), ('3967', 1), ('3946', 1), ('3939', 1), ('3936', 1), ('3934', 1), ('m27329', 1), ('1236', 1), (\"'israel'\", 1), ('kenye', 1), ('refugees..', 1), ('bizinsider:', 1), ('continuing', 1), ('competing', 1), ('takin', 1), ('sucker', 1), ('bit-defender', 1), ('hostage!:', 1), ('antivirus', 1), ('vendor', 1), ('pacquiao', 1), ('marquez', 1), ('unfilled', 1), ('online:', 1), ('durvod', 1), ('bioterrorism:', 1), ('hen', 1), ('superbug', 1), ('biolabs', 1), ('epidemics', 1), ('biosurveillance', 1), ('outbreaks', 1), ('ebola.', 1), ('grow:', 1), ('specimens.', 1), (\"'dumbfounded'\", 1), ('action.', 1), ('member...', 1), ('landi...', 1), ('billionaires', 1), ('reports.\\n\\nhttp://t.co/gbqtc7sp9c', 1), ('billionaire', 1), ('mottas', 1), ('fails', 1), ('transact', 1), ('bigrigradio', 1), ('patches', 1), ('android', 1), ('stagefright', 1), ('\\x89û÷first\\x89ûª', 1), ('\\x89û÷second\\x89ûª', 1), ('u\\x89û_', 1), ('her...', 1), ('mother\\x89û_', 1), ('mothe...', 1), ('\\n\\n#bosvsnyy', 1), ('evolve', 1), ('strategy...hua', 1), ('30??', 1), ('curfew??', 1), ('bicycle-suv', 1), ('mesick:', 1), ('m-115', 1), ('boat...', 1), (\"bhavana's\", 1), ('misty', 1), ('bounds;', 1), ('72', 1), ('66', 1), ('beware!', 1), ('earphones', 1), ('charging.', 1), ('wet.', 1), ('sierra', 1), ('leone', 1), ('guap.', 1), ('tongue!', 1), ('bestseller!', 1), ('dawson', 1), ('es\\x89û_', 1), ('$98.00', 1), ('bestie', 1), ('chainsaw', 1), ('torrent', 1), ('client?', 1), ('java', 1), (\"'uses'\", 1), ('seen?', 1), ('folk', 1), ('doe', 1), ('benzema', 1), ('increasingly', 1), (\"benitez's\", 1), ('bound?', 1), ('50-50', 1), ('kolkata:', 1), ('roofers', 1), ('prompt', 1), ('heenan', 1), ('camp..', 1), ('sleeper', 1), ('de-railing', 1), ('crush????', 1), ('courses', 1), ('tutorial.:', 1), ('pc.', 1), ('libyan', 1), ('derivatives:', 1), ('$1.5', 1), ('quadrillion', 1), ('(v\\x89û_', 1), ('move.!', 1), ('now.!', 1), ('laundry', 1), ('start.', 1), ('success-', 1), ('watched:', 1), ('economy\\n\\nwe', 1), ('shoppe', 1), ('horrors\\n\\n#harperanetflixshow', 1), (\"'else'\", 1), ('50mixed', 1), ('colors', 1), (\"7.5'\", 1), ('firstaid', 1), ('tr\\x89û_', 1), ('akito', 1), ('roses', 1), ('frothy', 1), ('gyp.', 1), ('mclaughlin', 1), ('beat:g3', 1), ('6:08', 1), ('15000270653', 1), ('beat:b2', 1), ('fremont', 1), ('6:52', 1), ('15000270364', 1), ('$2.', 1), ('beastin', 1), ('tapas', 1), ('folk!', 1), ('reads', 1), ('series!', 1), ('trynna', 1), ('tj', 1), ('kits', 1), ('alertness', 1), ('cometh.', 1), ('ember', 1), ('aware!', 1), ('beaverton.', 1), ('appalled', 1), ('heavens', 1), ('this\\n', 1), ('desolate\\n', 1), ('lord\\nfor', 1), ('evils:', 1), ('mba', 1), ('careen:', 1), ('eovm', 1), ('bcc:', 1), ('increases', 1), ('recovery:', 1), ('commentating', 1), ('decis...', 1), ('r5live', 1), ('*luck*', 1), ('herring.', 1), ('retract', 1), ('pdp:', 1), ('tickens', 1), ('course:', 1), ('panama', 1), ('coaches...', 1), ('mav', 1), ('buzz', 1), ('pvdrdljvc', 1), ('baseball:', 1), ('accounts:', 1), ('wilson', 1), ('karaman', 1), ('brendan', 1), ('gawlowski:', 1), ('barton-le-clay', 1), ('barkevious', 1), ('mingo', 1), ('browns', 1), ('barbados', 1), ('superintende...', 1), ('barak', 1), ('depends', 1), ('interview:', 1), (\"cyclone'\\ntom:\", 1), (\"bicycle'\", 1), ('phenomenal', 1), ('bamenda', 1), ('baltimore', 1), ('nort...', 1), ('ballina', 1), ('sighting', 1), ('two...', 1), ('bairstow', 1), ('buffet', 1), ('lad.', 1), ('bolstering', 1), ('cooperation', 1), ('living:\\nhttp://t.co/afmkcfn1tl', 1), ('motion.', 1), ('v.', 1), ('sad/traumatised', 1), ('parisian', 1), ('accustomed.', 1), ('tacoma', 1), ('portland.', 1), ('surviving', 1), ('babe', 1), ('rooms?...grrrr....', 1), ('aya', 1), ('kano\\x89ûªs', 1), ('axwave', 1), ('enables', 1), ('surveys', 1), ('awh', 1), ('tl', 1), ('refereeing', 1), (\"'apollo\", 1), (\"crews'\", 1), ('mash', 1), (\"together'\", 1), ('avenged', 1), ('sevenfold', 1), ('defense:', 1), ('blues', 1), ('allay', 1), ('equestrian', 1), ('rosenthal-author', 1), ('pochette', 1), ('bosphore', 1), ('bag\\x89û_', 1), ('saumur', 1), ('7.23', 1), ('419-3', 1), ('bridge...', 1), ('test...', 1), ('competing..', 1), ('sura', 1), ('prediction:', 1), ('kp:', 1), ('3.33(11:16)', 1), ('4.67(14:16)', 1), ('(earth', 1), ('2.00)', 1), ('marge', 1), ('eheks', 1), ('horoscope:', 1), ('hundred-odd', 1), ('pilgrims', 1), ('unimpressed.', 1), ('calhoun', 1), ('nrc:', 1), ('\\n1]', 1), ('organ', 1), ('harvesting', 1), ('parenthood:', 1), ('1915\\x89ûókill', 1), ('rocks.;', 1), ('italians', 1), ('excel', 1), ('bayonet.\\nhttp://t.co/ck1mmvhu0t', 1), ('1915\\x89ûókaiserjaegers', 1), ('out.;', 1), (\"joseph's\", 1), ('regiment', 1), ('carso', 1), ('plateau.\\nhttp://t.co/d1spswl66h', 1), ('listen/purchase:', 1), ('differently', 1), ('pt1', 1), ('aubrey', 1), ('educators', 1), ('fl', 1), ('rchs', 1), ('coffins', 1), ('rooms', 1), ('tommorow', 1), (\"delany's\", 1), ('dhalgren', 1), ('beastly', 1), ('heat.', 1), ('downing', 1), ('vita', 1), ('volleyball', 1), ('(local', 1), ('70-80000', 1), ('\\n*sees', 1), ('fish*\\nme:', 1), ('happened\\nashley:', 1), ('drowned\\n', 1), ('display!', 1), ('safe!', 1), ('reliefweb', 1), (\"'bioterror-\", 1), (\"repression'\", 1), (\"fema's\", 1), ('weeklong', 1), ('assist', 1), ('17:11', 1), ('aspiring', 1), ('talent', 1), ('asics', 1), ('gt-ii', 1), ('fieg', 1), ('kith', 1), ('3m', 1), ('ashley', 1), ('reactions', 1), ('rampant', 1), ('humiliate', 1), ('rival', 1), ('history:', 1), ('bundled', 1), ('ashenforest', 1), ('floorburnt', 1), ('manzanita', 1), ('timber', 1), ('asbury', 1), ('asad', 1), ('maths', 1), ('blacken', 1), ('parched', 1), ('harris', 1), ('6-month', 1), ('662', 1), ('114', 1), ('2010', 1), ('beluga', 1), ('blissfully', 1), ('bathed', 1), ('for...\\x89û_', 1), ('monwabisi', 1), ('hlongwane', 1), ('ryt.', 1), ('costs:', 1), ('\\x89û_...', 1), ('waters-land', 1), ('athletics', 1), ('monetary', 1), ('reward.', 1), ('artifacts', 1), ('horseshoe', 1), ('initiative', 1), ('jackman', 1), ('detroit:\\nthe', 1), ('downgraded', 1), ('37', 1), ('arsonists', 1), ('plastics', 1), ('adelaide', 1), ('torches', 1), ('getaway', 1), ('surrey', 1), ('vegetarian', 1), ('germany...', 1), ('&lt;p&gt;an', 1), ('states\\x89û_', 1), ('moment:', 1), ('bullets\\x89û_', 1), ('names', 1), ('deployments', 1), ('(deeds)', 1), ('patron\\n#ultimalucha', 1), ('arian', 1), ('promise...', 1), ('yeat', 1), (\"ari's\", 1), ('hints', 1), ('snippets', 1), ('quarantined?', 1), ('boys?', 1), ('improvements', 1), ('198', 1), ('withåêannihilation?', 1), ('ripping', 1), ('contest?', 1), ('aramis', 1), ('strop', 1), ('mosque;', 1), ('ara', 1), ('infiltrated', 1), ('ashrafiyah', 1), ('afrin', 1), ('attacks.', 1), ('ypg', 1), ('imposed', 1), ('aquarium', 1), ('sailing', 1), ('destroyer', 1), ('decor', 1), ('aqgco', 1), ('dilawri', 1), ('7a-7:30p', 1), ('siena', 1), (\"apple's\", 1), ('momentum', 1), (\"'meltdown'\", 1), ('investors', 1), ('apperception', 1), ('bridgework', 1), ('xxhjesc', 1), ('announce', 1), ('dull', 1), ('monotonous', 1), ('sound.', 1), (\"\\n'get\", 1), ('attached', 1), ('brown-detonate', 1), ('m.o.p.\\nhttp://t.co/jnoe2r2ein', 1), ('\\x89ûïdetonate\\x89û\\x9d', 1), ('&lt;a', 1), (\"href='http://t.co/wnowfvcbms...\", 1), ('ft.åêm.o.p.', 1), (':http://t.co/zmh7nebmwy', 1), ('m.o.p-', 1), ('[single]', 1), ('exclusion', 1), ('\\nhttp://t.co/3zql0qbluw\\n#nuclear', 1), ('lighting.', 1), ('apocalpytic', 1), ('apd', 1), ('defecting', 1), ('\\n\\npatience', 1), ('chieftain', 1), ('tasks', 1), ('dickson', 1), ('n15b', 1), ('mateo', 1), ('doesnt', 1), ('exist?', 1), ('generation.', 1), ('aberystwyth-shrewsbury', 1), ('incident.', 1), ('shrews.', 1), ('p/u', 1), ('eu.', 1), ('plate?', 1), (\"terrorist's\", 1), ('car...', 1), ('\\x89ûïnews\\x89û\\x9d', 1), ('live-streaming', 1), ('online?', 1), ('being...', 1), ('stephen.', 1), ('telemarketing', 1), ('phone?', 1), ('deluged!', 1), ('lengths', 1), ('need!', 1), ('impairs', 1), ('upgrad', 1), ('anti-fracking', 1), ('monitoring:\\n', 1), ('\\nhttp://t.co/zzbqmgnusl', 1), ('syfy', 1), (\"answer:\\n'therefore\", 1), ('sixteenth', 1), ('minuscule', 1), ('casualty-gray', 1), ('critically', 1), ('(#drone', 1), ('kinky', 1), ('kristy', 1), ('rehearsing', 1), ('attack..close', 1), ('win!', 1), (\"'pharaoh'\", 1), ('vuln!\\n\\nhttps://t.co/oxxrnab8un', 1), ('hour!', 1), ('08:02pm', 1), ('2014!', 1), (':http://t.co/66obqmximb', 1), ('montego', 1), ('porridge.', 1), ('porridge', 1), ('phenomenal.', 1), ('c\\x89û_', 1), ('annihilating', 1), ('quarterstaff', 1), ('damascus:', 1), ('grinds', 1), ('\\x89û÷alloosh', 1), ('manure', 1), ('pile\\nhttp://t.co/7rakhp3bwm', 1), ('spurs\\x89ûª', 1), ('marjanovic', 1), ('eurobasket', 1), ('woman...', 1), ('wom...', 1), ('orchard', 1), ('cider', 1), ('bottles', 1), ('mistrustful', 1), ('stored', 1), ('~http://t.co/utigx9psry', 1), ('angelriveralib\\x89û_', 1), (\"'may\", 1), (\"have'\", 1), ('laws?', 1), ('snowden', 1), ('slipping', 1), ('ripple', 1), ('awful...', 1), ('burnin', 1), ('horns', 1), ('harlet', 1), ('apocalypse!', 1), ('begins..', 1), ('mentions.', 1), ('uneven', 1), ('fcking', 1), ('fam', 1), (\"flooding'\", 1), (\"'janice\", 1), (\"falling'\", 1), ('kolkata', 1), ('cyclonic', 1), ('sumthng', 1), ('evng.', 1), ('approachng.', 1), ('her..\\nthat', 1), ('give\\x89û_', 1), ('dìäjìû', 1), ('vuuuuu', 1), ('befoooooooore', 1), ('surgical', 1), ('healed!!!', 1), ('eyesss', 1), ('complaining', 1), ('emblem.', 1), ('gigant', 1), (\"'difficulty'\", 1), ('moderately', 1), ('bleach', 1), ('thong.*shudder*', 1), ('boudoir', 1), ('outfits.', 1), ('eyeballs', 1), ('smoke....', 1), ('hmmm', 1), ('1600-year-old', 1), ('jungle', 1), ('optical', 1), ('illusion', 1), ('switzerland', 1), ('parlor.', 1), ('split.', 1), ('waitress', 1), ('nuts?', 1), ('arthritis.', 1), ('explosives-packed', 1), ('indepth', 1), ('eau', 1), ('claire', 1), ('sentenced', 1), ('chippewa', 1), ('cardinal', 1), ('bo', 1), ('sdb', 1), ('cnua)', 1), ('massive...', 1), ('ar-15', 1), ('enemies!', 1), ('wedne\\x89û_', 1), ('sprinter', 1), ('frontline', 1), ('lez', 1), ('compliant', 1), ('amazondeals:', 1), ('skylanders', 1), ('4.53%', 1), ('($0.45)', 1), ('$9.49', 1), ('$9.94', 1), ('takeaways', 1), ('amazon\\x89ûªs', 1), ('magnificent', 1), ('usb', 1), ('buy?', 1), ('renderings!\\n-------\\ncarl', 1), ('gallups', 1), ('biltz', 1), ('repped', 1), ('milne', 1), ('liguistic', 1), ('needs.', 1), ('trucks?', 1), ('correlate', 1), (\"best's\", 1), ('marketwatch', 1), ('insurers163;millions.', 1), ('controllers.', 1), ('lining!', 1), ('\\n\\nmy', 1), ('ground\\ni', 1), ('moon.\\n~', 1), ('mizuta...', 1), ('alton', 1), ('livestream', 1), ('nut', 1), ('~5', 1), ('shuttle', 1), ('available.', 1), ('iphone', 1), ('loki', 1), ('nicely', 1), (\"amazon's\", 1), ('indie', 1), ('fiction', 1), ('farms.', 1), ('marie', 1), ('therese', 1), ('dominguez', 1), ('administrator', 1), ('(phmsa).', 1), ('trad', 1), (\"authors'\", 1), ('plummeting', 1), ('alpine', 1), ('$2500', 1), ('hotdogs...', 1), ('*wrecked*', 1), ('(yeah', 1), ('it)!', 1), ('nizer', 1), ('allergan', 1), ('refresh', 1), ('allen', 1), (\"'joined\", 1), ('confesses', 1), ('couches', 1), ('burned..', 1), ('eugene', 1), ('think....', 1), ('conspiracies', 1), (';__;', 1), (\"'shelter\", 1), ('notified', 1), ('officers.', 1), ('portugal', 1), ('bestie!', 1), ('foster/floyd.', 1), ('sin\\nis', 1), ('girlfriend\\ndown', 1), ('end\\njust', 1), ('bros', 1), ('(hybrid', 1), ('szuter):', 1), ('cheryl!!', 1), ('cheryl', 1), ('in....time', 1), ('floods.......', 1), ('ali', 1), ('alhaji', 1), ('sha.', 1), ('ibeto', 1), ('competitor.', 1), ('alfons', 1), ('puls', 1), ('107', 1), ('alert!', 1), ('elementary', 1), ('\\x89û÷bomb', 1), ('threat\\x89ûª', 1), ('alaska\\x89ûªs', 1), ('wales', 1), ('nearing', 1), ('protection!', 1), ('wolves', 1), ('48!', 1), ('tweetstorm:', 1), ('alexander', 1), ('yr.', 1), ('voice:', 1), ('ebolaåêcase', 1), ('akilah', 1), ('ajmal', 1), ('ii:', 1), ('misled', 1), ('colombia', 1), ('sunrays', 1), ('hairy', 1), ('spiderweb', 1), ('24/7', 1), ('service!', 1), ('sham:', 1), ('negotiations', 1), ('zabadani', 1), ('zabadani!', 1), ('ayhhhhhdjjfjrjjrdjjeks', 1), ('print:', 1), ('paradigm', 1), ('type.:...', 1), ('ah-mazing', 1), ('have!', 1), ('starving', 1), ('person...', 1), ('meteors', 1), ('agricultural', 1), ('aldwark', 1), ('nyorks', 1), ('\\n\\nstill', 1), ('grim', 1), ('fewer', 1), ('piglets', 1), ('legitimate', 1), ('needing', 1), ('aggressif', 1), ('agalloch', 1), ('wiedemer', 1), ('http', 1), ('\\x89ã¢', 1), ('(2010)', 1), ('full\\x89ã¢', 1), ('streaming', 1), ('*disclaimer*', 1), ('few.', 1), ('bit...', 1), ('firefighters.', 1), ('antiochhickoryhollow#tn', 1), ('(kaldi', 1), ('stout)', 1), ('arson\\nattack', 1), ('teemo', 1), ('----&gt;', 1), ('launches', 1), ('airstrikes', 1), ('kurdistan', 1), (\"workers'\", 1), ('bonner', 1), ('scalabrine', 1), ('after...', 1), ('afloat', 1), ('pension', 1), ('afp:', 1), ('reprisal', 1), (\"'bombing\", 1), (\"village'\", 1), (\"'record-high\", 1), (\"levels'\", 1), ('casualties\\n', 1), ('united...', 1), ('highest-ranking', 1), (\"'sharp\", 1), (\"rise'\", 1), ('noah:', 1), ('admiral', 1), ('nationwide', 1), ('shortchanging', 1), ('habits.', 1), ('blood\\x89û_', 1), ('familia', 1), (\"'hurricane\", 1), (\"hot'\", 1), ('hunter', 1), ('hayes', 1), ('antebellum', 1), ('activists', 1), ('shell', 1), ('(pio)', 1), ('monday', 1), ('postexistence', 1), ('elevation', 1), ('perquisite:', 1), ('brzjc', 1), ('achievement', 1), ('unlocked:', 1), ('replaced', 1), ('socket;', 1), ('tabloids', 1), ('saved.', 1), ('iceberg.', 1), ('gadgets.', 1), ('combining\\x89û_', 1), ('gallup', 1), ('famine.?', 1), ('ari\\x89û_', 1), ('516/leonardville', 1), ('i-24', 1), ('8m', 1), ('293', 1), ('eddy', 1), ('nh-3a', 1), ('752', 1), ('cleared', 1), ('patp', 1), ('pa-18', 1), ('cranberry', 1), ('us-101', 1), ('ter', 1), ('10:35', 1), ('acc', 1), ('conducted', 1), ('skims', 1), ('morethan', 1), ('50%', 1), ('disorders', 1), ('absurdly', 1), ('men\\x89ûªs', 1), ('no!!', 1), ('wagyu', 1), ('heaping', 1), ('moist', 1), ('smuckers', 1), ('grape', 1), ('approaching:', 1), ('21-day', 1), ('dates.', 1), ('course!!', 1), (\"abe's\", 1), (\"'weapon.'\", 1), ('abolishing', 1), ('nukes', 1), ('missiles', 1), (\"'weapon'\", 1), ('jsdf', 1), ('exercised.', 1), ('abcnews', 1), ('northern...', 1), ('onlinemh370:', 1), ('...abc', 1), ('onlinea', 1), ('shots.', 1), ('aashiqui', 1), ('anu', 1), ('aggarwal', 1), ('near-fatal', 1), ('aannnnd', 1), ('a1:', 1), ('communicate', 1), ('heavyweight', 1), ('stormtrooper', 1), ('engaged', 1), ('somme', 1), ('1916.', 1), ('[800', 1), ('ìñ', 1), ('582', 1), ('whistleblower', 1), ('officials.', 1), ('\\n\\nhttp://t.co/ipwysnik0g', 1), ('wasp', 1), ('selfies', 1), ('marrie', 1), ('wbre', 1), ('wyou', 1), ('hands.', 1), ('came...', 1), ('tomb', 1), ('raider', 1), ('uncharted', 1), ('croft', 1), ('nathan', 1), ('ruthless', 1), ('complaint', 1), ('time-lapse', 1), ('isao', 1), ('hashimoto', 1), ('\\nhttps://t.co/v0t8h4iecc', 1), ('dismantling', 1), (\"'yet'\", 1), ('pox', 1), ('subcontractor', 1), ('cgg', 1), ('w\\x89û_', 1), ('1145', 1), ('[va]', 1), ('11:45', 1), ('staged', 1), ('locomotive', 1), ('numb..', 1), ('adjusted', 1), ('thermostat?', 1), ('forney', 1), ('brooklyn?', 1), ('caved', 1), ('64th', 1), ('tradery', 1), ('statistics.', 1), ('v/h/s', 1), ('anthology', 1), ('treatment:...', 1), ('ana', 1), ('dispensary', 1), ('coated', 1), ('east\\x89ûªs', 1), ('layer', 1), ('grit', 1), ('\\x89ûïboonew', 1), ('boonew\\x89û\\x9d', 1), ('double\\x89û\\x9d', 1), ('pl\\x89ûªs', 1), ('midi', 1), ('evening!', 1), ('(8-4-15)', 1), ('study.', 1), (\"tragedy:\\nmonica's\", 1), ('rave', 1), ('pyrotechnic', 1), ('cai', 1), ('guo-qiang', 1), ('philadelphia...', 1), ('mountain?', 1), ('poignant', 1), ('ethereal', 1), ('adhd?', 1), ('forming', 1), ('guam.\\n\\nonce', 1), (\"'molave'.\", 1), ('trivium', 1), ('midfield', 1), ('soni', 1), ('soner', 1), ('hardwell', 1), ('(remake)', 1), ('[flp', 1), ('family]', 1), ('r3do', 1), ('mended', 1), ('finger\\nwhen', 1), ('body\\x89ûªs', 1), ('occurs:\\n\\x89û¢...', 1), ('holodomor', 1), ('capital.', 1), ('dambisa', 1), ('moyo', 1), ('punched', 1), ('miles....', 1), ('afrikaan', 1), ('preorder', 1), ('mentioned', 1), (\"'reporting'\", 1), (\"ferguson's\", 1), ('blog!', 1), ('greatly', 1), ('filming', 1), ('laois', 1), ('advertised', 1), ('loved-up', 1), ('orakei', 1), ('felled', 1), ('deployed', 1), ('10!', 1), ('famine[mega].', 1), ('0840728\\nhttp://t.co/pdiit0af3q\\n#dynamix', 1), ('gpm', 1), (\"'bullseye'\", 1), ('incitement', 1), ('beinart:', 1), ('happy-hour', 1), ('simmons', 1), ('camden', 1), ('handsome', 1), ('game)', 1), ('beside', 1), ('always.', 1), ('fierce', 1), ('calm/stillness', 1), ('eye/center', 1), ('aspects', 1), ('pheonix.', 1), ('charcoal', 1), ('handled', 1), ('exceptionally', 1), ('crushed.2', 1), ('cor4:8', 1), ('demoness', 1), ('beckoning', 1), ('void.', 1), ('this\\x89û_', 1), ('eulogies', 1), ('whatsapp', 1), ('&gt;&gt;this', 1), ('*tormented', 1), ('matias', 1), ('xavier', 1), ('decade-long', 1), ('billion-dollar', 1), (\"'messages'\", 1), ('canada.', 1), ('dayton-area', 1), ('cyber', 1), ('chim', 1), ('prohibits', 1), ('decks', 1), ('cessna', 1), ('official.', 1), ('river.', 1), ('inspi...', 1), ('undone', 1), ('adverse', 1), ('hits.', 1), ('our\\x89û_', 1), ('[small]', 1), ('bigåêconsequences', 1), ('scout', 1), ('&amp;#163;163;millions.', 1), ('contr', 1), ('_\\n?????retweet\\n???????\\n?????follow', 1), ('rt\\n???????\\n?????followback\\n???????\\n?????gain', 1), ('\\n???????\\n?????follow', 1), ('?@ganseyman', 1), ('suddendly', 1), ('proclaims', 1), ('decimated.', 1), ('apocaly\\x89û_', 1), ('[withering]', 1), ('[undermine]d', 1), ('[inundated]', 1), ('[mustering]', 1), ('[watch]', 1), ('halts', 1), ('[vid]150806', 1), ('youku', 1), ('\\n\\nhttp://t.co/w7yezkqlcj', 1), ('[update]', 1), ('no-passenger', 1), ('morning:', 1), ('hell\\x89û_', 1), ('[tropical', 1), ('info]', 1), ('945hpa', 1), ('45m/s', 1), ('60m/s', 1), ('guardian]', 1), ('[serious]now', 1), ('admins', 1), ('volatile', 1), ('removed/quarantined', 1), ('[reviews]', 1), ('movie...', 1), ('[reuters]', 1), ('5]', 1), ('18:22:45', 1), ('ibaraki', 1), ('prefecture', 1), ('offing', 1), ('m5.5', 1), ('60km', 1), ('/r/jailbreak', 1), ('[news]', 1), ('lowers', 1), ('tuition', 1), ('[news', 1), ('update]', 1), ('|via', 1), ('[latest', 1), ('post]', 1), ('[jax(mk2)]', 1), ('fatality:uud+lk', 1), ('(close)', 1), ('[jax', 1), ('biz', 1), ('journal]', 1), ('[infowars]', 1), ('deer', 1), ('lethbridge', 1), ('[gpv', 1), ('wind]', 1), ('6aug:', 1), ('wnw', 1), ('12jst', 1), ('18jst', 1), ('6aug.', 1), ('[forbes]:', 1), ('[earthquake', 1), ('report]@onlyquakenews', 1), ('earthquake-report.\\x89û_', 1), ('[creel:you', 1), ('moron', 1), ('brainless', 1), ('muscle!]', 1), ('do...but', 1), ('[comment]', 1), ('[clip]', 1), ('top-down', 1), ('coercion', 1), ('weakness', 1), ('ensuring', 1), ('[chaos', 1), ('canaanites?]', 1), ('[brutally', 1), (']\\n\\nday', 1), ('machine.', 1), ('phones....', 1), ('[august', 1), ('08:02pm]', 1), ('[55436]', 1), ('[55433]', 1), ('1954', 1), ('[55432]', 1), ('[10:45:27jst', 1), ('aug06:first', 1), ('alert]', 1), ('m4.1', 1), (\"'e\", 1), ('chiba', 1), (\"pref.'\", 1), ('(35.8140.8).', 1), ('seismic#', 1), ('[+]\\n\\nsuch', 1), ('day\\nand', 1), (\"mine\\nit's\", 1), ('...\\n\\n??', 1), ('[#latestnews]', 1), ('pol...', 1), ('?ìü', 1), ('?you', 1), ('scared.', 1), ('panicking.?', 1), ('redeemer', 1), ('?that', 1), ('fans?\\nlet', 1), ('retweeting!', 1), ('info??', 1), ('?maybe', 1), ('someday', 1), ('collide.?', 1), ('??water', 1), ('fight??\\npenn', 1), ('6pm', 1), ('byow\\n(bring', 1), ('weapons)', 1), ('??one', 1), (\"party\\nweren't\", 1), ('actor.', 1), ('free!!!', 1), ('\\x89ûïthis', 1), ('mind\\x89û_\\x89û\\x9d', 1), (\"??????\\n\\n'suspense\", 1), ('(most', 1), ('importantly)...', 1), ('3!!!', 1), ('park!', 1), ('underway!', 1), ('reportly', 1), ('?follow', 1), ('????\\nwhy', 1), ('wild-', 1), ('germany!', 1), ('terrorism\\n??', 1), ('$150', 1), ('billion\\n\\n??', 1), ('supporter', 1), ('age:', 1), ('gents', 1), ('??\\nwarfighting', 1), ('ieee', 1), ('spectrum', 1), ('??\\n\\n??~', 1), ('battle?', 1), ('?#fukushima?#tepco?\\nmountains', 1), ('coast\\nhttp://t.co/y518jyrzav', 1), ('?#fukushima?#tepco?\\nfukushima', 1), ('integrative', 1), ('answers\\nhttp://t.co/7y2gnva2ev', 1), ('weekend:', 1), ('stockholm', 1), ('copperfields', 1), ('circular', 1), ('frusciante', 1), ('cracker', 1), ('19th', 1), ('17-jul-2015', 1), ('[l.a.', 1), ('times/ap]', 1), ('swell', 1), ('nothing.', 1), ('disagreements', 1), ('clear.', 1), ('\\x89ûóher', 1), ('arm\\x89ûò', 1), ('/friggin/', 1), ('icicle', 1), ('projectiles\\x89ûò', 1), ('miniature', 1), ('more\\x89ûó', 1), ('\\x89û¢this', 1), ('folks.', 1), ('perps', 1), ('stack', 1), ('dvds', 1), ('8015.', 1), ('hitchhiking', 1), ('garbage-bot', 1), ('(destroyed', 1), ('philly)', 1), ('sorely', 1), (\"'lost\", 1), (\"words'\", 1), ('blessed!', 1), ('respect!', 1), ('2008?!', 1), ('hell.', 1), ('veteran!', 1), ('lights!', 1), ('funny?!', 1), ('goofballs', 1), ('pd?', 1), ('anymore?', 1), ('correct', 1), ('claims...', 1), ('books!', 1), ('(thank', 1), ('department!)', 1), ('20yrs.', 1), ('copenhagen', 1), ('wintergreen', 1), ('enemies', 1), ('inundated!!', 1), ('instincts', 1), ('scratches', 1), ('head*', 1), ('commiting', 1), ('lungs.', 1), ('houston?', 1), ('spelled', 1), ('plugging', 1), ('abbandoned', 1), ('darsena', 1), ('castello', 1), ('scaligero', 1), ('sirmione.', 1), ('aftershock.', 1), ('variation', 1), ('counters', 1), ('todayhave', 1), ('revenge?', 1), ('experience.', 1), ('directory?', 1), ('ambulance.', 1), ('good!', 1), (';-)', 1), ('\\nalso', 1), ('honshu', 1), ('coronet.', 1), ('all:', 1), ('30m', 1), ('sis.', 1), ('berlatsky.', 1), ('admired', 1), ('smoke.', 1), ('taxis', 1), ('mee', 1), ('okay?', 1), ('yer', 1), ('hymn.', 1), ('abba', 1), ('.@tornado_chick', 1), ('pre-order', 1), ('9/15!!', 1), ('o_o', 1), ('red-head', 1), ('nearby?', 1), ('.i', 1), ('goes.', 1), ('sexy?', 1), ('flex', 1), ('yikes.', 1), ('pup.', 1), ('yes;', 1), ('clients', 1), ('wart', 1), ('88-92', 1), (\"'dispersed.'\", 1), ('comrades', 1), ('sweat-seeking', 1), ('calorie-burning', 1), ('cardio-torture!', 1), ('get-', 1), ('nod', 1), ('will.', 1), ('rate.', 1), ('renewables', 1), ('liberal.', 1), ('craft', 1), ('spoiled', 1), ('doessnt', 1), ('rejoice', 1), ('calamities', 1), ('ect', 1), ('punished?', 1), ('guardrails', 1), ('yep.', 1), ('clyde', 1), ('releasing', 1), ('could.', 1), ('speccy!', 1), ('way?', 1), ('are!', 1), ('barber', 1), ('egg', 1), ('trouble????', 1), ('mlg', 1), ('spammers', 1), ('ropes', 1), ('angers', 1), ('creamy', 1), (';3', 1), ('the-', 1), ('that..not', 1), ('2017', 1), ('2019', 1), ('faints', 1), ('panicking?..', 1), ('idea!', 1), ('pdx..abq', 1), ('ya...summer', 1), ('short.', 1), ('toed', 1), ('friendly.', 1), ('din', 1), ('memez', 1), ('åà!', 1), ('wtf!?', 1), (\"can't.\", 1), ('feels.', 1), ('wraps', 1), ('cloth', 1), (\"'i'll\", 1), (\"ok.'\", 1), ('convincing', 1), ('compelling', 1), ('deniers', 1), ('tend', 1), ('giving...evidence', 1), ('huh?', 1), ('academia', 1), ('sub?', 1), ('spouting', 1), ('air?', 1), ('westmarch', 1), ('arreat', 1), (\"'whites'\", 1), (\"'black'\", 1), ('curly', 1), ('impure.', 1), ('shorts', 1), ('missy', 1), ('suited', 1), ('summertime', 1), ('yee-haw!', 1), ('intel', 1), ('norse', 1), ('landscapes', 1), ('boring/dead', 1), ('snotgreen', 1), ('wastelands', 1), ('stowing', 1), ('aboard', 1), ('trains?', 1), ('jammu', 1), ('directing', 1), ('recognition', 1), ('blown.', 1), (\"'fuckface@wineisdumb.com'\", 1), ('whoahahahahhdjs', 1), ('me....', 1), ('whoa.', 1), ('insomniac.', 1), ('trophies', 1), ('outbreak?', 1), ('corpse', 1), ('jittering', 1), ('teleported', 1), ('decides', 1), ('2/6', 1), ('taxes.', 1), ('mrs', 1), (\"('flames\", 1), (\"face...')\", 1), ('gah.', 1), ('outburst..', 1), ('aggression', 1), ('sux!!', 1), ('button?', 1), ('harm??', 1), ('collectibles', 1), ('sucked', 1), ('casualties?', 1), ('until?', 1), ('of?', 1), ('app?', 1), ('tattooine?', 1), ('one...', 1), ('protesting?', 1), ('demonstration', 1), ('idiot.', 1), ('terminated', 1), ('packs?', 1), ('sunk\\x89û_1', 1), ('mil', 1), ('side\\x89û_', 1), ('pull\\x89û_one\\x89û_you', 1), ('odds?', 1), ('marinading', 1), ('beaten', 1), ('ra', 1), ('ghul', 1), ('a---', 1), ('ny.', 1), ('so.', 1), ('earthquakes.', 1), ('tho...', 1), (\"43'c!!\", 1), ('rain...', 1), ('dreamworks', 1), ('hope.', 1), ('destruction!', 1), ('warranted', 1), ('japs', 1), ('help-horses', 1), ('petition!', 1), ('help!', 1), ('die!please', 1), ('petition!take', 1), ('intoxicated', 1), ('&amp;/or', 1), ('lie!!', 1), ('dawg', 1), ('huddling', 1), ('basement.', 1), ('activist', 1), ('scotus', 1), ('with\\npotus.', 1), ('aaaaaaallll', 1), (\"'sorry\", 1), (\"'electrocute'\", 1), (\"million...'\", 1), (\"'concept\", 1), (\"video'.\", 1), ('there!', 1), ('males', 1), ('miami?', 1), (\"'@fultoninfo'court\", 1), ('strangers-blk&amp;wht-from', 1), (\"us'g\", 1), ('forfeit', 1), ('look?@ap', 1), ('doomed', 1), ('invest', 1), ('trainees', 1), ('*anna', 1), ('hugged', 1), ('tightly*', 1), ('supplies', 1), (\"dad's\", 1), ('ambulance?', 1), ('fckng', 1), ('w/ugliness', 1), (\"'ugly'@amesocialaction\", 1), (\"frat's\", 1), (\"bioterrorismi'm\", 1), (\"$tolewant'g\", 1), ('home.@abc', 1), ('nana', 1), ('restlessness', 1), ('verrry', 1), ('ux', 1), ('emv', 1), ('insert', 1), ('stripe', 1), ('reader.', 1), ('talibans', 1), ('jag', 1), ('crossed.', 1), ('gandhi', 1), ('victory.total', 1), ('answer\\nhttp://t.co/kttyitow64', 1), ('umm', 1), ('scandal', 1), ('parliamentary', 1), ('expenses', 1), ('subsequent', 1), ('sackings', 1), ('prison.', 1), ('for?', 1), ('huh.', 1), ('hurts.', 1), ('robbie', 1), ('gone...', 1), ('crawl', 1), ('matters.', 1), ('jakey', 1), ('????????????????', 1), ('equivalent', 1), ('asswipe', 1), ('killers..', 1), ('coaching', 1), ('defence', 1), ('derivative', 1), ('formula', 1), ('remixes.', 1), ('merged', 1), ('between-song', 1), ('paxton', 1), ('helen', 1), ('hunt!', 1), ('denier-', 1), ('bloom', 1), ('calif', 1), ('alska-', 1), ('seeweed', 1), ('caribean', 1), ('fires-', 1), ('inhofe', 1), (\"'drill\", 1), (\"drill!'\", 1), ('agw', 1), ('denial', 1), ('fire?', 1), ('shines', 1), ('multi-casualty', 1), ('smithsonian...no', 1), ('train...then', 1), ('disabled', 1), ('fh', 1), ('bethesda', 1), ('agree.she', 1), ('is.i', 1), ('fans.', 1), ('torrecilla', 1), ('600.000', 1), ('wording', 1), (\"moblin's\", 1), (\"he'd\", 1), ('fired.', 1), ('notion', 1), ('seemly', 1), ('narcissism', 1), ('5:36', 1), ('tink', 1), ('dec.', 1), ('h20', 1), ('transport.', 1), ('deploy', 1), ('troops?', 1), ('explaining', 1), ('survivor', 1), ('evolved', 1), ('godlike', 1), ('wrecked!!', 1), ('eyes..', 1), ('tank.', 1), ('thorgan', 1), ('gladbach', 1), ('u?', 1), ('hwy27', 1), ('olds.', 1), ('approximately', 1), ('peculiar', 1), ('compliment', 1), ('headspace', 1), ('provides', 1), ('sabrina', 1), ('cage.', 1), ('conservatives', 1), ('wiimington', 1), ('prkng', 1), ('liberals', 1), ('&amp;have', 1), ('baked', 1), ('alaskan', 1), ('soon...', 1), ('stonewall', 1), ('epl', 1), ('!!!!!!!!!', 1), ('consistently.', 1), ('jew', 1), (\"'quarantined'\", 1), ('hoax', 1), ('device.', 1), ('bioterrorism.', 1), ('intending', 1), ('drop.', 1), ('signal', 1), ('arena.none', 1), ('blight\\nthat', 1), ('(the', 1), ('cables', 1), ('us...', 1), ('tosu', 1), ('nature.', 1), ('significance', 1), ('describe', 1), ('painthey', 1), ('lifeits', 1), ('wellington', 1), ('lp', 1), ('cary.', 1), ('employed', 1), ('groups.', 1), ('inundation.', 1), ('annoying.', 1), ('bad!!', 1), ('cougars', 1), ('uniform!', 1), ('trapped!', 1), ('city!', 1), ('manga', 1), ('triangle', 1), ('(c)', 1), ('weatherit', 1), ('wave?', 1), ('utopian', 1), ('impulse', 1), ('gulags', 1), ('com...', 1), ('up????????', 1), ('shitton', 1), ('exclusively', 1), ('playthrough', 1), ('tacit', 1), ('bcz', 1), ('senate.', 1), ('murphy', 1), ('mail!', 1), ('lust', 1), ('leigh', 1), (\"'stage'\", 1), ('stage;', 1), ('bothered', 1), ('traditionalist.', 1), ('lynch', 1), (\"fuckin'\", 1), ('hi-larious', 1), ('realtime.', 1), ('fact-checking', 1), ('ombudsmanship.', 1), ('build.', 1), ('autumn.', 1), ('migraine', 1), ('glasses.', 1), ('4head', 1), ('swiming', 1), ('smell/taste', 1), ('worked.', 1), ('anything.\\n\\nthere', 1), ('doing\\x89û_ahhh\\x89û_that', 1), ('cafì©', 1), ('w/hashtag', 1), ('plague.', 1), ('stronger.', 1), (\"this'\", 1), ('clear.iran', 1), ('abandons', 1), (\"bombed.it's\", 1), ('ratio', 1), ('js', 1), ('massacre!!!', 1), ('bins', 1), ('wer', 1), ('hydro', 1), ('h/t', 1), ('big-tent', 1), ('hailstorm/windstorm', 1), (\"'barbaric\", 1), (\"saudies'\", 1), ('austrian', 1), ('economy.', 1), ('concentration', 1), ('\\nevery.', 1), ('fucking.', 1), ('tough.', 1), ('defense.', 1), ('ambition', 1), ('relax.....', 1), ('hear.', 1), ('manage.', 1), ('adorable.', 1), ('intense!!', 1), (\"val's\", 1), ('dead!!????', 1), ('bread!', 1), ('trader', 1), ('joes', 1), ('wknd', 1), ('just...depressing', 1), ('nit', 1), ('extracting', 1), ('ren.', 1), ('sweat', 1), ('narrowly', 1), ('foot.', 1), ('you!!!', 1), ('scary!', 1), ('-stacy', 1), ('connects', 1), ('supporting', 1), ('president.', 1), ('safer.', 1), ('text:', 1), ('(1946)https://t.co/bojcx32qcz', 1), ('tenshi', 1), (\"yuki's\", 1), ('card!', 1), (\"telltale's\", 1), ('&amp;story', 1), ('issues.', 1), ('mid-morning', 1), ('motorcycle.', 1), ('materials.', 1), ('demolition.', 1), ('intro', 1), ('opponents.', 1), ('t-dog', 1), ('morales', 1), ('andrea', 1), ('jacqui', 1), ('merle.--', 1), ('sweeping', 1), ('legs?', 1), ('bags?', 1), ('sure!', 1), ('raps.', 1), (\"meek's\", 1), ('purdies', 1), ('shias.', 1), ('defeats', 1), ('ideals', 1), ('islam.', 1), ('dead\\nthis', 1), ('stuns', 1), ('stuns.', 1), ('stunningly', 1), ('pitcher.', 1), ('bats', 1), ('mia', 1), ('epsom', 1), ('else!', 1), ('tinderbox', 1), ('clown', 1), (\"'hood\", 1), ('one:', 1), ('portrait', 1), ('yuan.', 1), ('sponsored', 1), ('henchman!!', 1), ('stannis', 1), (\"yell!'\", 1), ('cheekiness', 1), ('bleeds', 1), ('recoil', 1), (\"daughter's\", 1), ('walls.', 1), ('not!!!', 1), ('league.', 1), ('demonstrated', 1), ('sunk!', 1), ('gracefully', 1), ('arm.', 1), ('conflicts\\ntactics', 1), ('infiltration', 1), ('groups\\nhttps://t.co/cyu8zxw1oh', 1), ('stereotyping', 1), ('shooter?', 1), ('bunting', 1), ('forefathers', 1), ('williams?', 1), ('specs', 1), ('lore', 1), ('threats?', 1), ('didn\\x89ûªt', 1), ('seems.', 1), ('ruined...', 1), ('somehow.', 1), ('oppressed', 1), ('ignorant.', 1), ('w&amp;p', 1), ('wee.', 1), ('it..', 1), ('ciggs', 1), ('??so', 1), ('light??', 1), ('locks', 1), (\"...that's\", 1), ('tre', 1), ('sirens?', 1), ('cancelled.', 1), ('sigh', 1), ('battle.', 1), ('shtap!', 1), ('salted', 1), ('t_t', 1), ('sothwest', 1), (\"'dead'\", 1), ('tipped', 1), ('sorry!??', 1), (\"shouldn't.\", 1), ('smfh', 1), ('mccain\\x89ûªs', 1), ('whoops', 1), ('photographed', 1), ('isis\\x89û_', 1), ('booth', 1), ('kappa', 1), ('barra', 1), ('game...', 1), ('cya', 1), ('hanayo', 1), ('adarius', 1), ('bowman', 1), (\"'younger'\", 1), ('helios.', 1), (\"satan's\", 1), ('50ft', 1), ('sabotage!i', 1), ('911bombing', 1), ('barracks', 1), ('bombers', 1), ('mudslide!', 1), ('laughing!', 1), ('density', 1), ('carr...', 1), ('peasants', 1), (\"stalin's\", 1), (\"'redistribute\", 1), (\"wealth'.\", 1), ('famine/death', 1), ('sosa', 1), ('belly.....do', 1), ('homework.', 1), ('beau', 1), ('weisberg', 1), ('\\x89ûïif', 1), ('gat', 1), (\"tragedy'\", 1), ('room.', 1), ('paused', 1), ('deeper', 1), ('read:', 1), ('farmers', 1), ('broke=', 1), ('capitalism', 1), ('people&gt;', 1), ('crush?#mtvhottest', 1), ('detroit', 1), ('mfs????????loose', 1), ('buffs', 1), ('water??', 1), ('holmes!', 1), ('puck=flattened', 1), ('ambition.', 1), ('gig.', 1), ('probably.', 1), ('years!', 1), ('creamfields???', 1), ('(please', 1), ('boring', 1), ('test.....', 1), ('insane.', 1), ('punishing', 1), ('info.', 1), ('salado..', 1), ('crackin?', 1), ('amirite?', 1), ('compulsory', 1), ('knew?', 1), ('itinerary', 1), ('dolphins', 1), ('stops.', 1), ('cosponsor', 1), ('928', 1), ('responders!', 1), ('inform', 1), ('accurately', 1), ('disable', 1), ('eco', 1), ('magically', 1), ('54000', 1), ('signatures.change', 1), ('.org', 1), ('pars', 1), ('defender', 1), ('tod', 1), ('uniform.', 1), ('ensued!', 1), ('pikachu', 1), (':\\\\\\\\\\\\', 1), ('storm\\nchaser\\nhttp://t.co/4wjy7sehmw\\n#photography', 1), ('pfft!', 1), ('bot', 1), ('140', 1), ('unhinged', 1), ('machismo', 1), ('bullshit.', 1), ('animals.???', 1), ('rescued!', 1), ('mistreated????', 1), ('pass?', 1), ('month?', 1), ('frisco', 1), ('scouts', 1), ('canoe', 1), ('okla.', 1), ('percentages', 1), ('pew', 1), ('research:', 1), ('35%', 1), ('42%', 1), ('monumentalized.', 1), ('rumors', 1), ('storm..like', 1), ('unreal.', 1), ('bars.', 1), ('simple!', 1), ('justice=no', 1), ('justice=peace.', 1), ('swing!', 1), ('audio.', 1), ('ouch', 1), ('clelli....you', 1), ('loses?', 1), ('volcano...', 1), ('ooooohshit', 1), ('ooohshit', 1), ('hatman', 1), ('delicious!', 1), ('srs', 1), ('film.', 1), ('amazon.', 1), ('day/night', 1), ('elsewere', 1), ('sirens&amp;', 1), ('lemonade', 1), ('semi', 1), ('par', 1), ('buildings...', 1), ('northgate', 1), ('omg...', 1), ('aaron', 1), ('okay..', 1), ('tail', 1), ('first..', 1), ('-he', 1), ('slowly.-', 1), ('underskirt', 1), ('lighting?', 1), ('forthright', 1), ('coma', 1), ('kebab/tahini/pickles', 1), ('w/fries', 1), ('ohhh', 1), ('age.', 1), ('ohgod', 1), ('=p', 1), ('tho.', 1), ('shit!', 1), ('espresso?', 1), ('poss', 1), ('busiest', 1), ('yessss', 1), (\"bangin'.\", 1), ('rose.', 1), ('ofcourse', 1), ('\\n\\njust', 1), ('\\n\\nn', 1), ('caued', 1), ('washing', 1), ('tracks..', 1), ('newport', 1), ('jackie', 1), ('bristol', 1), ('short-sideness', 1), (\"graf'\", 1), ('backtracking', 1), ('he-', 1), ('protected', 1), ('harm.', 1), ('nuff', 1), ('suck', 1), ('amends.', 1), ('sincerety', 1), ('annihilated?', 1), ('meter', 1), ('-__-', 1), ('executing', 1), ('joshua.', 1), ('typos', 1), ('hazardous.', 1), ('abortions', 1), ('lured', 1), ('fanbase', 1), ('wod', 1), ('everyones', 1), ('vela', 1), ('blaze?', 1), ('hazard!!!', 1), ('there!!', 1), ('danger.i', 1), ('lie..', 1), ('vic/hardy', 1), ('freeman', 1), ('practicing.', 1), ('ignoranceshe', 1), ('latinoand', 1), ('benothing', 1), ('morebut', 1), ('aguero', 1), ('berahino', 1), ('noooo??', 1), (':))))', 1), ('no..', 1), ('mino', 1), ('before..', 1), (':))', 1), ('hitters', 1), ('uh-oh', 1), ('sir...', 1), ('slowed', 1), ('down...', 1), ('sympathyonlf', 1), ('affiliated', 1), ('shabab', 1), ('powers!', 1), ('ten-4.', 1), ('fcked.', 1), ('1000&amp;1000', 1), ('indianperpetrated', 1), ('protecting?', 1), ('means.', 1), ('sale.', 1), ('sunk-cost', 1), ('disposition', 1), ('suggest', 1), (\"clinton's\", 1), ('qatar', 1), ('wbu', 1), ('gaymaro', 1), ('team?', 1), ('nearly-fatal', 1), ('pee', 1), ('$$', 1), ('.haha', 1), ('pundits', 1), ('cause.', 1), ('defenseless', 1), ('debbie', 1), ('foreskin', 1), ('nataly', 1), ('paramore', 1), ('muse', 1), ('bucks', 1), ('nsf', 1), ('stand.', 1), ('narrator', 1), (\"'chemically\", 1), (\"lavatory'\", 1), ('db5.', 1), ('odd.', 1), ('ransacked', 1), ('awesomeeeeeeee', 1), ('shuffling', 1), ('grandfather', 1), ('olympic.', 1), ('predictions', 1), ('ny???', 1), (\"father's\", 1), ('aquarius', 1), ('queenmy', 1), ('cliffs', 1), ('pretenses', 1), ('overtures.please', 1), ('songfor', 1), ('welcome!', 1), ('organizing', 1), ('ep!', 1), ('that.\\ndemolished.', 1), (\"monday's\", 1), ('noodles', 1), ('\\n\\nburned', 1), ('amirite', 1), ('molly', 1), ('moi', 1), (\"c'est\", 1), ('plutot', 1), ('heartbreak', 1), ('ufhguhfidt', 1), ('462', 1), ('misfit', 1), ('1/13/82', 1), ('apaz', 1), ('renewed', 1), ('migrating', 1), ('iphoto', 1), ('wasted', 1), ('hrsto', 1), ('toes', 1), ('mencius', 1), ('correct?', 1), ('finland:', 1), ('rosatom', 1), ('bricktop', 1), ('annihilation.', 1), ('dilute', 1), (\"over'.\", 1), ('1980s', 1), (\"'the'\", 1), (\"'rescuers\", 1), ('sifting', 1), (\"wreckage'\", 1), ('mahalo', 1), ('nui', 1), ('loa', 1), ('20s.', 1), ('(w.)', 1), ('magical', 1), ('kwwwkwwwk', 1), ('\\nwithout', 1), ('jiahahahha', 1), ('\\nyeyeulala....', 1), ('lucio!!', 1), ('more!!', 1), ('picked!', 1), ('harm/kid', 1), ('lotg', 1), ('smoothed', 1), ('bird', 1), ('chalked', 1), ('diss.', 1), ('tasty', 1), ('erosion', 1), ('crumbly', 1), ('mudslide????', 1), ('scenes.', 1), ('shad', 1), ('forsythe', 1), ('lol...im', 1), ('lol!', 1), ('child.', 1), ('topic', 1), ('weeks.', 1), ('disaster/hospital', 1), ('members....', 1), ('recently.', 1), ('lmfaooo', 1), ('nawh', 1), ('lmaov.v', 1), (\"'ny'\", 1), ('babalmao...welcome', 1), ('nyozi', 1), ('kwaaaaa#dead', 1), ('exactly\\nespecially', 1), ('challenged.', 1), ('popcorn', 1), ('lizeth', 1), ('everythign', 1), ('mcpherson', 1), ('wtm', 1), (\"lilly's\", 1), ('her!', 1), ('end...', 1), ('dan.', 1), ('wilden', 1), ('ahhhhh', 1), ('alec', 1), ('tort', 1), ('comp', 1), ('mh', 1), ('groton', 1), ('ct.', 1), (\"murderer....'''\", 1), ('mmmm', 1), ('dopest', 1), ('mr.obama', 1), ('cnmi', 1), ('soudelor.', 1), ('2slow2report.', 1), ('leos', 1), ('metaphorically', 1), ('quivk', 1), ('leaveevacuateexitbe', 1), ('banished.', 1), ('you.??', 1), ('actin', 1), ('fruit.', 1), ('koreans', 1), ('games.https://t.co/apksnplxzj', 1), ('days/weeks', 1), ('streams', 1), ('crush!', 1), ('headed??', 1), ('*big', 1), ('city*.', 1), (\"rr's\", 1), ('*miss', 1), ('meals*', 1), (\"'apocalypse'\", 1), ('script.', 1), ('reset', 1), ('hangin', 1), ('watchin', 1), ('possesion', 1), ('decriminalized', 1), ('substance', 1), ('cheering', 1), ('sake.', 1), ('neck.', 1), ('juan', 1), ('100.000', 1), ('jsyk', 1), ('abt', 1), ('remus', 1), ('slumped', 1), ('jay....big', 1), ('l....pun....biggie...wrap', 1), ('over...zero', 1), ('question....fatality...flawless', 1), ('sketchbook', 1), ('biting', 1), ('mask.', 1), (\"how're\", 1), (\"you?'\", 1), ('long\\x89û_', 1), ('somethin\\x89ûª', 1), ('covering', 1), ('scabs', 1), ('hypo', 1), (\"'impulse'\", 1), ('correlation', 1), ('imply', 1), ('causation.', 1), ('hotter', 1), ('humidity.', 1), ('&gt;.&gt;;', 1), ('*drools*', 1), ('umntu', 1), ('wakho.', 1), ('well-known', 1), (\"valentine's\", 1), (\"'oompah-period'\", 1), ('waits.', 1), ('tyre.\\nand', 1), ('done.\\n#vaginaorcake', 1), (\"it'd\", 1), ('honor', 1), ('\\n\\nhope', 1), ('nagaski', 1), ('too!!!', 1), ('jackholes', 1), ('streets.', 1), ('gorgeous.', 1), ('disturbing!', 1), ('slander', 1), ('killed.', 1), ('idea.', 1), ('too...', 1), ('grimrail', 1), ('depot...', 1), ('relevance.', 1), ('rowers', 1), ('celeb', 1), ('endorsements', 1), ('barn.', 1), ('kahel', 1), ('hebron.', 1), ('w(rec)k', 1), ('war?', 1), ('already!', 1), ('dead??', 1), ('preaching', 1), ('spirit!', 1), ('pieces!', 1), ('jar.', 1), ('hurricane!', 1), ('oppressions', 1), ('\\nhttps://t.co/moll5vd8yd', 1), ('andreas', 1), ('fault?', 1), (\"brazil'\", 1), ('comments?', 1), ('hush', 1), (\"hush...he's\", 1), ('rsl', 1), ('iran:', 1), ('snctions', 1), ('incl', 1), ('miltary$150bilno', 1), ('inspctkps', 1), ('hostagesthrosw', 1), ('gutrkps', 1), ('hlps', 1), ('w/nukes', 1), (\"'zero!'\", 1), ('iof', 1), ('513', 1), ('(70%', 1), ('12)', 1), ('zionist', 1), ('morality-zionism', 1), ('evil!', 1), ('comprehensive', 1), ('remarkably', 1), ('post-capitalism', 1), ('epoch', 1), ('incredible?', 1), ('liz', 1), ('xb1', 1), ('??????????????????????????????????', 1), ('[screams]', 1), ('glad.', 1), ('abide', 1), ('codes', 1), ('osha', 1), (\"codes.structur's\", 1), ('iit', 1), ('logically', 1), ('maybe...', 1), ('sanction', 1), ('democrat', 1), ('-hei', 1), ('(darker', 1), ('black)', 1), ('youd', 1), ('(23', 1), ('??)', 1), ('advertise', 1), ('pls??', 1), ('relate', 1), ('billie', 1), ('jean', 1), ('poisoning.', 1), ('nda', 1), ('prolly', 1), ('freshers', 1), (':l', 1), ('twitch', 1), ('cyclone-sama', 1), ('rindou?', 1), ('brooo!', 1), ('gawker', 1), (\"f35's\", 1), ('capabilities.', 1), ('luggage', 1), ('hers?@vp', 1), ('hers?', 1), ('idkidk', 1), ('idk....i', 1), ('sterotypical', 1), ('annddd', 1), ('colorism', 1), ('prevalent', 1), (\"lee's\", 1), (\"windstorm'.\", 1), ('browner.', 1), ('rae', 1), ('commissioned', 1), ('mull', 1), ('realization', 1), ('span', 1), ('playing.', 1), (\"i'm.sort\", 1), ('fonts', 1), ('using.', 1), ('freaked', 1), ('1st.', 1), ('otl', 1), (\"'national'\", 1), ('really?', 1), ('trailers', 1), ('btm', 1), ('9th', 1), ('2out', 1), ('driving.', 1), ('hogging', 1), ('realm.', 1), ('420', 1), ('elgato', 1), ('bday', 1), ('interested.', 1), ('yahoo?', 1), ('forehead', 1), ('tbs', 1), ('ram', 1), ('shove', 1), ('muffle', 1), ('pleasure~', 1), ('ffvii', 1), ('pandemonium!', 1), (\"(don't\", 1), ('exclamation', 1), ('mark)', 1), ('midweek.', 1), (\"'be\", 1), (\"safe'\", 1), ('reference', 1), ('heller', 1), (':o', 1), ('x-men', 1), ('franchise', 1), (\"'event'\", 1), ('off??', 1), ('amazed', 1), ('mistress.', 1), ('honest.', 1), ('rampage', 1), ('leagues.', 1), ('newbie?', 1), ('shidddd', 1), ('cain...such', 1), ('about)', 1), ('heartburn', 1), ('mundo', 1), ('bleeding...', 1), ('jesus!', 1), ('rom', 1), ('%', 1), ('..will', 1), ('die.', 1), ('serious.', 1), ('trusty', 1), ('actually..', 1), ('trusty.', 1), ('messy.', 1), ('halloween', 1), ('2007.', 1), ('reboot', 1), ('bel-air', 1), ('akame', 1), ('ga', 1), ('ghoul', 1), ('watch????????', 1), ('trickshot', 1), ('controller', 1), ('&gt;:(', 1), ('raises', 1), ('sorts', 1), ('consulted', 1), ('barking', 1), ('marquis!', 1), (\"charlie's\", 1), (\"dublin's.\", 1), ('squeezed', 1), ('tear.', 1), ('blubber!', 1), ('caleen', 1), ('sisk.', 1), ('funded', 1), ('wfocus', 1), ('winnemem', 1), ('orpik', 1), ('2016.', 1), ('iraqis', 1), ('nusrah', 1), ('s.a', 1), (\"saw\\n\\nlet's\", 1), ('meltdown...i', 1), (\"'debate'.\", 1), ('sunscreen', 1), ('rainbows', 1), ('heat\\nnext', 1), ('floods..', 1), ('breather', 1), ('sack', 1), ('yh', 1), ('myself????', 1), ('coinflip', 1), ('submitting', 1), ('it...didnt', 1), ('bb', 1), ('habor', 1), ('slix', 1), ('rides', 1), ('wavy', 1), ('hershey', 1), ('means.it', 1), ('pres.bad', 1), ('math.', 1), ('88', 1), ('pitches', 1), ('inn', 1), ('fault', 1), ('goodbyes', 1), ('ve', 1), ('influenced', 1), ('whilst', 1), ('sirens!', 1), ('dew', 1), ('erodes', 1), ('does.', 1), ('.go', 1), ('..like', 1), ('superstar', 1), ('forrest', 1), (\"'83\", 1), (':)))', 1), ('tolerated.', 1), ('inch', 1), ('dynasty', 1), ('tenno.', 1), ('dojo', 1), (\"year...'\", 1), ('dtb', 1), ('watchout', 1), ('carpenters', 1), ('armenians', 1), ('of??', 1), ('oversee', 1), ('electoral', 1), ('romero.', 1), ('hutch.', 1), ('concrete', 1), ('/:', 1), ('absurd', 1), ('satire', 1), ('indistinguishable', 1), ('jfc', 1), ('okay!!!', 1), ('lightly...', 1), ('reserved', 1), ('military...', 1), ('hero...', 1), ('tee', 1), ('waiting?', 1), ('do....', 1), ('iced', 1), ('annihilation??', 1), ('pages', 1), ('meat!', 1), ('guy...', 1), ('face!', 1), ('defs', 1), ('bleeding!', 1), (\"couldn't.\", 1), ('talk.', 1), ('hugs', 1), ('swim.', 1), (\"'beautiful\", 1), ('mine??', 1), ('verses', 1), (\"qur'an\", 1), ('mass-murder', 1), ('mass-rape', 1), ('genocide', 1), ('bloke', 1), (\"cos'its\", 1), (\"hassle'\", 1), ('am@so@sorry', 1), ('vines', 1), ('compensation.', 1), ('delay??', 1), ('you!!', 1), ('congratulations!', 1), ('subjected', 1), ('unwarranted', 1), ('conversation.', 1), ('caroline', 1), ('bigsby(?)', 1), ('supermarket.', 1), ('popobawa', 1), ('revolves', 1), ('agree!', 1), ('marketplace.', 1), ('(bol-apm)', 1), ('collided.', 1), ('vote.', 1), ('lyrium.', 1), ('&gt;_&gt;', 1), ('hyukkie', 1), ('chullie', 1), ('eunhae.', 1), ('hr/15', 1), ('snowstormi', 1), ('snowmobiles', 1), ('atmosphere?', 1), ('believers', 1), ('stacks', 1), ('apply?', 1), ('conservatives?', 1), ('yourself:', 1), ('hangarback', 1), ('walkers', 1), ('opponent', 1), ('dogs?', 1), ('scum', 1), ('that?!', 1), ('lefties', 1), ('184.', 1), ('average.', 1), ('qn?', 1), ('bomber?', 1), ('rains?', 1), ('heated', 1), ('enthusiastic', 1), ('youuu!', 1), ('hihow', 1), ('keio', 1), ('stationright?', 1), ('chofu', 1), ('wife.', 1), ('loose.', 1), ('recognised', 1), ('2003', 1), ('..is', 1), (\"s'thing\", 1), ('hazard/dangerous?', 1), ('hey!sundowns', 1), ('celtic.indeed', 1), ('improvement.', 1), ('yellows\\n\\nread:', 1), ('emailed', 1), ('awol', 1), ('argh!', 1), ('asap.', 1), ('happing', 1), ('follow????????', 1), ('teamo', 1), ('supremo', 1), ('pogo', 1), ('better!', 1), ('ice.', 1), ('bak', 1), ('rico', 1), ('catastrophe...', 1), ('hehe', 1), ('na', 1), ('brother/boyfriend', 1), (\"'md/va!!!!'\", 1), ('2075', 1), (\"'dust\", 1), (\"supply'\", 1), ('urine!', 1), ('screaming??????', 1), ('salt.', 1), ('rub.', 1), ('hazard/willian', 1), ('shifted', 1), ('easily.', 1), ('lich', 1), (\"king's\", 1), ('dd', 1), ('rusher', 1), ('ly', 1), ('winnable', 1), ('thrusts', 1), ('prison?', 1), ('hideous', 1), ('\\n#uglypeople', 1), (\"'bump'\", 1), ('vr', 1), ('cantona', 1), ('pepe', 1), ('lashed', 1), ('depay', 1), ('ozil', 1), ('ritchie', 1), ('.\\nshould', 1), ('midfielders', 1), ('havnt', 1), ('site-', 1), ('drake.', 1), ('owe', 1), ('t.o', 1), ('apology.', 1), (\"we're-on-a-desolate-planet\", 1), ('below-the-mason-dixon-line', 1), ('electro', 1), ('violin', 1), ('uncles', 1), ('weapons?', 1), ('missiles.', 1), ('goodbye', 1), ('ross.', 1), ('gobsmacked/devastated', 1), ('harsh', 1), ('felon.', 1), ('harm!', 1), ('hardly!', 1), ('d!!!', 1), ('gregory', 1), ('wickett', 1), (\"'can't\", 1), (\"deny'\", 1), ('underway.', 1), ('375.000', 1), ('2....', 1), ('200.00', 1), (\"'spent\", 1), ('loaded.', 1), ('liver', 1), (\"he...'\", 1), ('cosima', 1), ('seat.', 1), (\"lol\\n'it's\", 1), (\"shay.'\", 1), ('!!!!', 1), ('balls', 1), ('off????', 1), ('alright..but', 1), ('jackson...calm', 1), ('appx', 1), ('65000', 1), ('har', 1), ('ki', 1), ('liye', 1), ('tyar', 1), ('hai....', 1), ('self-destruction.', 1), ('wrecked.', 1), ('eurpoe', 1), ('mustered', 1), ('guam', 1), ('islands.\\n\\nbounce', 1), ('upa', 1), ('nda?', 1), ('shop.', 1), (\"storm's\", 1), ('^sj', 1), ('helene', 1), ('beloved', 1), ('us??????', 1), ('gm!', 1), ('enemy', 1), ('w/heavenly', 1), ('blessings', 1), ('kamon', 1), ('gigatech', 1), ('geno', 1), ('benefit', 1), ('believer.', 1), ('mature', 1), ('genius', 1), ('economist!', 1), ('gd', 1), ('ideas.', 1), ('wrked', 1), ('poor\\nfran', 1), ('reed', 1), ('8437150124', 1), ('gamma', 1), ('january', 1), ('waits', 1), ('times...', 1), ('gabriel', 1), ('fibula', 1), ('u2', 1), ('sirius', 1), ('chan.', 1), ('sayin', 1), ('frickin', 1), ('fran.', 1), ('325.000', 1), ('today(regarding', 1), ('fan!', 1), ('cali~?', 1), ('reworked', 1), ('glitter', 1), ('testy.', 1), ('patience.', 1), ('jumpin', 1), ('early...', 1), ('luck..', 1), ('\\n\\nhttp://t.co/edbxyatmaq', 1), ('experiments', 1), ('731', 1), ('lennox', 1), ('revs', 1), ('foi', 1), ('roh', 1), ('procura', 1), ('tem', 1), ('frog?', 1), ('footballs!!??', 1), ('spartans', 1), ('crushing', 1), ('day!!!!', 1), ('doug', 1), ('respect??????', 1), ('eh.', 1), ('now.\\nlove', 1), ('introducing', 1), ('fatality!!!!!!!!!!', 1), ('fatality!!!', 1), ('familia:', 1), ('case?', 1), ('fair.', 1), ('bsc', 1), ('irrelevant?', 1), ('unfortunate', 1), ('utilises', 1), ('welly', 1), ('aucklnd.', 1), ('positions', 1), ('pandering', 1), ('hard-right', 1), ('divides', 1), ('corrodes', 1), ('goodwill', 1), ('expressing', 1), ('expertise', 1), ('cornwalls', 1), ('finest', 1), ('unauthorized', 1), ('uniforms.', 1), ('exactly.', 1), ('lesnar/cena', 1), ('summerslam', 1), ('fine!!', 1), ('lp/om&amp;m', 1), (\"'sandstorm'\", 1), ('hoped', 1), ('ventilated', 1), ('bandolier', 1), ('dix', 1), ('pumpkin', 1), ('king!!!!', 1), ('utterly.', 1), ('i\\x89ûªd', 1), ('embarrassed', 1), ('dreamy', 1), ('her.*', 1), (\"you'd-\", 1), ('laced', 1), ('monologue', 1), ('charlize.', 1), ('coulda', 1), ('staying', 1), ('tìüp', 1), ('regimes', 1), ('ethiopia', 1), ('okay!', 1), ('going!', 1), ('todd.', 1), ('hehe.', 1), ('rinse', 1), ('editor', 1), ('fiasco...that', 1), ('dw', 1), ('chipper', 1), ('shame.', 1), ('duly', 1), ('noted.the', 1), ('involuntary', 1), ('wince', 1), (\"'holibobs'\", 1), ('wind.', 1), ('blizzards', 1), (\"butterflies...he's\", 1), ('peeps', 1), ('ontario.', 1), ('yourself.', 1), ('stress!', 1), ('ayatollah', 1), ('khomeini', 1), ('israel?', 1), ('racist!', 1), ('lan!', 1), ('??in', 1), ('windstorm.follow', 1), ('jeez.', 1), ('lvg', 1), ('spurs', 1), ('smaller', 1), ('lcb.', 1), ('4/', 1), ('cl', 1), (\"'great\", 1), (\"deal'\", 1), ('manners', 1), ('something?', 1), ('jfc.', 1), ('mad!', 1), ('unstable...the', 1), ('need...', 1), ('year?', 1), ('pedagogy/practice', 1), ('environment?', 1), (\"'flattened'\", 1), ('havoc', 1), ('please?!', 1), ('weapon?', 1), ('texts', 1), ('data?', 1), ('ditto', 1), ('had.', 1), ('drank', 1), ('vodka', 1), ('disneyland!', 1), ('listen/buy', 1), ('closer', 1), ('negate', 1), ('7.', 1), ('end?', 1), ('ripples', 1), ('bleeding?', 1), ('lloyds', 1), ('insure', 1), ('devastated!!', 1), ('oppa', 1), ('image?', 1), ('haaaaaa', 1), ('uk?', 1), ('unqualified', 1), ('treaty', 1), ('signed.', 1), ('voting.', 1), (\"48'\", 1), ('lyndon', 1), ('texas!', 1), ('definite', 1), ('crown', 1), ('threat.', 1), ('fathom', 1), ('??\\n\\n#byebyeroad', 1), ('lesbian.', 1), ('suh.', 1), ('bruh.', 1), ('carpooling', 1), ('daem', 1), ('c:', 1), ('-.-', 1), ('after.', 1), ('dresser', 1), (\"'ironically'\", 1), (\"'h-hello..'\", 1), ('cork', 1), ('ireland...we', 1), ('today...that', 1), ('undeserving', 1), (\"isn't.\", 1), ('tora', 1), ('contradictory:', 1), ('[to', 1), ('uninhabited', 1), (\"island]'\", 1), (\"alternatives'\\x89ûócategorically\\x89ûówere\", 1), ('outrageous.', 1), ('fees.', 1), ('hamster', 1), ('death!??', 1), ('oops......', 1), ('condemning', 1), ('\\nmay', 1), ('gv', 1), ('heirs.', 1), ('atcha', 1), ('boston.', 1), ('golfball', 1), ('sunny', 1), ('comeeeee!', 1), ('...but', 1), ('mcourt', 1), ('parliment', 1), ('station.', 1), ('([latin', 1), ('origin]', 1), (\"'reddish'\", 1), (\"'colored')\", 1), ('dummies', 1), ('pronouncing', 1), ('wrong!!!', 1), ('colliding', 1), ('projectile', 1), ('60s.', 1), ('trans-generational', 1), ('trauma?', 1), ('americans.', 1), ('hunt...', 1), ('utd', 1), ('pedro..20', 1), ('blues!!!', 1), ('lot!!', 1), ('johns.', 1), (\"rescuers.....'the\", 1), (\"infomercial'\", 1), ('crept', 1), ('nowwwwww', 1), ('prime.', 1), ('fairport', 1), (\"can'twon't\", 1), ('sec', 1), ('4.2', 1), ('528472', 1), ('disaster?', 1), ('ykjl', 1), ('ign.', 1), ('pin!', 1), ('kia', 1), (\"month's\", 1), ('fag', 1), ('issue?', 1), ('ur.', 1), ('ell', 1), ('triplemania', 1), ('villano', 1), ('whooping', 1), ('myztiziziziziz.', 1), ('they\\x89ûªre', 1), ('crushed?', 1), ('self-fulfilling', 1), ('self-talk?', 1), (\"'political\", 1), ('individuals.', 1), ('attacked....', 1), ('indictment', 1), ('point\\x89û_', 1), (\"'let's\", 1), ('kindof', 1), ('restrospect', 1), ('lilourry', 1), ('stan', 1), ('with?', 1), ('narry.', 1), ('carful', 1), ('spotting', 1), ('baggage?!', 1), ('wy', 1), ('displeased.', 1), ('spots', 1), ('21!', 1), ('imagination', 1), ('institutional/structural', 1), ('libertyville', 1), ('*dies*', 1), ('friendship-you', 1), ('commercials', 1), ('frankly', 1), ('daily.', 1), ('26!', 1), ('tickets:', 1), ('past.', 1), ('tic', 1), ('tac', 1), ('toe.', 1), ('battleships.', 1), ('matchwood.', 1), ('it-', 1), ('pattern.', 1), ('minutiae', 1), ('champagne.', 1), ('publish', 1), ('ozz', 1), ('slapped', 1), ('gold.', 1), ('venture', 1), ('suitable', 1), ('populated', 1), ('erea.', 1), ('bhill', 1), ('beez', 1), ('bharat', 1), ('fulfill', 1), ('retired', 1), ('dgm', 1), ('nabard', 1), ('bg-16:', 1), ('brunt', 1), ('north.', 1), ('grayed', 1), ('interspersed', 1), ('boo????????', 1), ('101.9', 1), ('twister!', 1), ('pleb', 1), ('nah.', 1), ('affleck......i', 1), ('wife/kids', 1), ('newly', 1), ('maple', 1), ('criminal!', 1), ('begovic', 1), ('garbage.', 1), ('reserve', 1), ('caves!', 1), ('though!', 1), ('illustrative', 1), ('becuase', 1), ('gunsmissilesbombs', 1), ('a-bombs', 1), ('obliterated?', 1), (\"o'clock\", 1), ('parade.', 1), ('felony', 1), ('risky', 1), ('jitsu', 1), ('hexagon', 1), ('there.*', 1), ('yelled', 1), ('cuties', 1), ('awesome!!', 1), ('trial:', 1), ('notoriety', 1), ('1915', 1), ('manayunk', 1), ('mataas', 1), ('kc', 1), ('rating..but', 1), ('ratings', 1), ('sincere', 1), ('liquid', 1), ('stores.', 1), ('blown-up', 1), ('mortem', 1), ('samples', 1), ('sweets', 1), ('madara', 1), ('stripped.', 1), ('sequalae', 1), ('suicides', 1), ('homicides', 1), ('dangling', 1), ('piercing', 1), ('crystals', 1), ('eyes?', 1), ('serious?', 1), ('pree', 1), ('stand-user?', 1), ('queen.', 1), ('vineyards', 1), ('california?', 1), ('mcclain', 1), ('practice?#nyg', 1), ('sys', 1), ('clergyforced', 1), ('younger&amp;grossly', 1), ('disfigured', 1), ('bioterrorism?@ap', 1), ('helo', 1), ('shaking!', 1), ('hudhud', 1), ('chandrababu', 1), ('valle', 1), ('ga?', 1), ('duplicate', 1), ('tweets.', 1), ('crazier', 1), ('commenting', 1), (\"taylor's\", 1), ('arkan?', 1), (':-o', 1), ('edmund', 1), ('fitzgerald', 1), ('practically', 1), ('taint', 1), ('climbing', 1), ('1/2007', 1), ('vern', 1), ('sq', 1), ('tb4', 1), ('richard?', 1), ('deactivate', 1), ('choices.', 1), ('bookslast', 1), ('checked..he', 1), ('werewolf', 1), ('idiota', 1), ('tell-', 1), ('salvation.', 1), ('encouragement.', 1), (\"child's\", 1), ('copycats.', 1), ('copycats', 1), ('mcutchen', 1), ('alrighty', 1), ('blaze!!', 1), ('matter.', 1), ('illuminated', 1), ('brightly', 1), ('town!', 1), ('andre', 1), ('gore', 1), ('aiii', 1), ('calmly', 1), ('baby.', 1), (\"car's\", 1), ('sorta', 1), ('ah.', 1), ('awash', 1), ('abstract', 1), ('dustpig', 1), ('then.', 1), ('ya.', 1), ('weeks!', 1), ('agreed.', 1), ('indifferent.', 1), ('relentless', 1), ('again??', 1), ('eep!', 1), ('ignored', 1), ('fadc.', 1), ('delight', 1), ('ha!', 1), ('bounce', 1), ('bait', 1), ('hater', 1), ('co-workers', 1), ('equation', 1), ('recipe', 1), ('accepts', 1), ('wisconsin', 1), ('aaaa', 1), ('roomr', 1), ('donated', 1), ('handi', 1), ('wipes', 1), ('a2', 1), ('circumstances', 1), ('likely.', 1), ('withstand', 1), ('collisions!', 1), ('derailment.', 1), ('(lol', 1), ('9/11?)', 1), ('specifically', 1), ('utilized', 1), ('weapon!!', 1), ('mascara', 1), ('smeared', 1), ('killed/displaced', 1), ('systematic', 1), ('grahamwp', 1), ('gun!', 1), ('^^why', 1), ('opinions', 1), ('skarlet', 1), ('pushed', 1), ('backwards', 1), ('[[is', 1), ('sandstorm?]]', 1), ('okayyyyyy', 1), ('....bout', 1), ('devastation?', 1), ('mulan!!', 1), ('??..', 1), (\"don't..\", 1), ('panicking..', 1), ('freshman', 1), ('sleep!!', 1), ('??\\nu', 1), ('india..\\nyor', 1), ('subject:', 1), ('maintenance(', 1), ('mechanical)', 1), ('yup', 1), ('pair.', 1), ('graywardens', 1), ('blight...', 1), ('gifts', 1), ('malt', 1), ('loaf', 1), ('focused', 1), ('immigrants', 1), ('voters.', 1), ('competetion', 1), ('(ultimate', 1), ('penetrator)', 1), ('tolerance', 1), (\"'democracy'\", 1), ('iraqis?', 1), ('mutilated', 1), ('cunt', 1), ('please!!!!!', 1), ('arachys\\n', 1), ('[2', 1), ('pieces]', 1), ('4000%', 1), ('2500%)', 1), ('beta', 1), ('chapters', 1), ('yoga', 1), ('apparently.', 1), ('sadly.', 1), ('yeeessss!!!!', 1), ('twice!!', 1), ('kp2', 1), ('kombatants', 1), ('kostumes', 1), ('chug', 1), ('estus', 1), ('wld', 1), ('minivan', 1), ('so-called', 1), (\"'mild'\", 1), ('webinar.', 1), ('ham', 1), ('relegation', 1), ('skynet?', 1), ('be!', 1), ('speed?', 1), ('watt', 1), ('impressive', 1), ('obj', 1), ('veg', 1), ('round?', 1), ('arrival.', 1), ('haha..', 1), ('great\\x89û_', 1), ('machida...did', 1), ('fight..nope', 1), ('36%', 1), ('landslide?', 1), ('cracking', 1), ('injuries..', 1), ('crimes?', 1), ('vandalzing', 1), (\"'heat'?\", 1), (\"'heat\", 1), (\"wave'\", 1), ('25c', 1), ('wha', 1), ('timebomb', 1), ('destined', 1), ('cuddling', 1), ('so..', 1), (\"cnn's\", 1), ('seventies', 1), ('fecal', 1), ('scifi?', 1), ('turdnado.', 1), ('forgeting', 1), ('lately.', 1), ('election.', 1), ('lb', 1), ('hamburger.', 1), ('racial', 1), ('perturbs', 1), ('india..', 1), ('on!', 1), ('toxic...cancer....disease...hazardous', 1), ('waste...noxious...', 1), ('galaxy', 1), ('heroic\\nfamine', 1), ('hostages!', 1), ('buddys!', 1), ('rock.', 1), ('liberal', 1), ('compassion', 1), ('sexist', 1), ('values.', 1), ('&gt;:33333', 1), ('ascend', 1), ('genisys', 1), ('reined', 1), ('falling-off-stool', 1), ('casualties!', 1), ('coates', 1), ('charleston', 1), ('broadly', 1), ('truth.', 1), ('mocked', 1), ('22.', 1), ('de.', 1), ('blind?', 1), ('traces', 1), ('something;', 1), ('troubling.', 1), ('nazis', 1), ('pursued', 1), ('ambitions', 1), ('forgets', 1), ('illuminati:', 1), ('ilford', 1), ('stuck.', 1), ('contrasts', 1), ('foreboding', 1), ('expansive', 1), ('divisions', 1), ('saturation', 1), ('hue!', 1), ('(black', 1), ('whoo!)', 1), ('minimum', 1), ('minimum.', 1), ('raspy', 1), (\"ttk's\", 1), ('wreck!', 1), ('sums', 1), ('wants.', 1), ('incredible.', 1), ('one!', 1), ('ir', 1), ('lord.', 1), ('buckle)', 1), ('tr', 1), ('wheres', 1), ('story?', 1), ('then?', 1), ('think!', 1), ('traumatised?', 1), ('puts', 1), ('week-', 1), ('jelly', 1), ('dave?', 1), (\"shh...it's\", 1), ('13%', 1), ('moonbeam', 1), ('tokes', 1), ('cop.', 1), ('make.', 1), ('right??', 1), ('gauze!', 1), ('somaliaeritrea', 1), ('28%', 1), ('applicants', 1), ('4-0', 1), ('probs', 1), ('action??????', 1), ('curfew!!!??', 1), (\"carter's\", 1), (\"'79\", 1), ('jpii', 1), ('ankles', 1), ('phillips', 1), (\"ldnr-terrorists'\", 1), ('organizations.', 1), ('comics', 1), ('representative', 1), ('sample.', 1), (\"'annihilated\", 1), (\"weather'...\", 1), ('safari', 1), ('allowed.', 1), ('otherwise=they', 1), ('anna....', 1), ('ohhhh', 1), ('horror!!!', 1), ('suspicious.', 1), ('o-line', 1), ('rush.', 1), ('roster', 1), ('stout', 1), ('nowt', 1), ('fergie', 1), ('drinkers', 1), ('wenger', 1), ('contributor', 1), ('bona', 1), ('fide', 1), ('cislady', 1), ('true;', 1), ('incidental', 1), ('homosexuality', 1), ('=/=', 1), ('gay/bi', 1), ('clue.', 1), ('played.', 1), ('noooooooo', 1), ('*proceeds', 1), ('cliff*', 1), (\"depay's\", 1), ('overtake', 1), ('hazard......', 1), ('looting.', 1), ('convenient', 1), ('bury', 1), (\"'enhance\", 1), ('nkea', 1), ('gambia', 1), ('mercenary', 1), ('judge.', 1), ('nissan', 1), ('narrates', 1), ('tales.', 1), (\"son'd\", 1), ('babality.', 1), ('lmfaoooo.', 1), ('dell', 1), ('win10', 1), ('hotness', 1), ('cope.', 1), ('mizzou', 1), (\"muschamp's\", 1), ('bama', 1), ('marvellous', 1), ('muzzies', 1), ('combust!', 1), ('payback', 1), ('mattingly', 1), ('bundy', 1), ('mcgwire', 1), ('nitish', 1), ('castes', 1), ('cereal.', 1), (\"kellogg's\", 1), ('sugar', 1), ('crunchy', 1), ('milk...', 1), ('objective', 1), ('uncle', 1), ('shedid', 1), ('4the', 1), (\"bush's\", 1), ('washard', 1), ('keithyy', 1), ('media....', 1), ('norwich', 1), ('deal??????', 1), ('nuts', 1), ('flavored.', 1), ('invaded', 1), ('pearl', 1), ('pre-emptive', 1), ('gun.', 1), ('jamie', 1), ('clintons', 1), ('meddling', 1), ('engineer', 1), ('1000+', 1), ('rpm', 1), ('breakdown.', 1), ('ww', 1), ('wew', 1), ('post-war', 1), ('wouldnt', 1), ('excuses.', 1), ('cheetos', 1), ('zerohedge', 1), ('readers', 1), ('panicking?', 1), ('orchs.', 1), ('tyrant.', 1), ('bachmann', 1), (\"'11\", 1), ('w/ron', 1), ('hoax.', 1), ('loser:', 1), ('snide', 1), ('remarks.\\nme:', 1), ('roskomnadzor', 1), ('ridiculously', 1), ('politicized', 1), (\"'illegal\", 1), (\"food.'\", 1), ('hsbfuckjsj', 1), ('blackburns', 1), ('pll', 1), ('jokin', 1), ('moves:/', 1), ('iwo', 1), ('jima', 1), ('sides', 1), ('rebuild', 1), ('idk.', 1), ('crisis.', 1), ('crit', 1), ('hampered', 1), ('liking', 1), ('ella', 1), ('vickers', 1), ('washable.', 1), ('??#badgeofhonour', 1), ('snowstorm...despite', 1), ('a/c.', 1), ('titty', 1), ('coldstone', 1), ('monterrey', 1), ('cooling', 1), ('tank!', 1), ('slapping', 1), ('showdown!!', 1), ('downloading', 1), ('hipster', 1), ('skimmed', 1), ('folding', 1), ('chair*', 1), ('judas', 1), ('priest', 1), ('astonishing', 1), ('countering', 1), ('skewed', 1), ('statements.', 1), ('dumb.', 1), ('cp2020', 1), ('blighted', 1), ('corporate', 1), ('nenshi', 1), ('twins.', 1), (\"'municipal\", 1), (\"-activate!'\", 1), ('overlooking', 1), ('deco', 1), ('trickier', 1), ('harassed.', 1), ('gear.', 1), ('ask!', 1), ('batista', 1), ('resolved', 1), ('theirs.', 1), ('fricken', 1), ('babies.', 1), ('pull-up', 1), ('teesha', 1), ('believe...is', 1), ('yuvi..????', 1), ('tat', 1), ('mary?', 1), ('standardised', 1), ('clinical', 1), ('trust.', 1), ('kindness', 1), ('stump', 1), ('kindness.', 1), ('checks.', 1), ('equalizer.', 1), ('insulted', 1), ('anger.', 1), ('citizens?', 1), ('meaningless', 1), (\"*doesn't*\", 1), ('old.', 1), ('hillarymass', 1), ('hil.', 1), ('trp', 1), ('ads.it', 1), ('mockery', 1), ('ashayo!', 1), ('presentation', 1), ('predicting', 1), ('japanese.', 1), ('sled', 1), ('emilio', 1), ('stealth', 1), ('m4.', 1), ('cute.', 1), ('obliterate.', 1), ('shatter', 1), ('delusions', 1), ('force.', 1), ('preset', 1), ('bal', 1), ('nades', 1), ('zack', 1), ('madsummer', 1), ('??????..are', 1), ('brilliant!', 1), ('arse!', 1), ('star.', 1), ('rebirth', 1), ('polit.', 1), ('yet;', 1), ('particular', 1), ('seras', 1), ('sasha', 1), ('peice', 1), ('sidewalk.', 1), ('dota', 1), ('legends', 1), ('diasporas', 1), ('abouts', 1), ('again?', 1), ('destroyed!??', 1), ('3&amp;my', 1), ('rash.', 1), ('daughtery', 1), ('rants', 1), ('factual', 1), ('basis', 1), ('dad.', 1), ('frequently.', 1), ('distraction', 1), ('cruise', 1), ('islands!!', 1), (\"'everything\", 1), ('flush', 1), ('benefits:great', 1), ('salary', 1), ('food.free', 1), ('impunity.', 1), ('understandable', 1), (\"'specialist'\", 1), ('warning:wild', 1), ('noting', 1), ('sun?', 1), ('carp', 1), ('smith??', 1), ('leftside', 1), ('!!!!!', 1), ('rings', 1), ('appealing', 1), ('churches?', 1), ('30th', 1), (\"being'\", 1), (\"prone'\", 1), ('avast', 1), ('andals', 1), ('metrobus', 1), ('no-sports', 1), ('show?', 1), ('top25', 1), ('competence', 1), ('soc', 1), ('parties.', 1), ('delivery', 1), ('heaven.....well..', 1), (\"jokethey're\", 1), ('alsowhat', 1), ('injured?then', 1), ('bilic', 1), ('slated', 1), ('themhe', 1), ('them?!', 1), ('a27', 1), ('lewes', 1), ('kingston', 1), ('roundabout', 1), ('a283', 1), ('win?', 1), ('2500', 1), ('yezidi', 1), ('slaves.we', 1), ('capitalist', 1), ('elect', 1), ('[loud', 1), ('groaning]', 1), ('flopping', 1), ('identical', 1), ('man.....', 1), ('thalapathi', 1), ('push2left', 1), (\"talk='ecology'&amp;'human\", 1), (\"rts'&amp;'democracy'.\", 1), (\"afghetc='left'\", 1), ('humanitarian', 1), ('runway', 1), ('contractor.', 1), ('chopping', 1), ('rooftops', 1), ('commons', 1), ('ownership.', 1), ('why.....', 1), ('debacle', 1), ('w/derailed', 1), ('non-passenger', 1), ('mgr', 1), ('ceo!', 1), ('cosmetics', 1), ('(scrubs', 1), ('toothpaste)', 1), ('aquatic', 1), ('ecosystems.', 1), ('(who', 1), ('us)', 1), ('vowed', 1), ('haha...', 1), ('w/hiv', 1), ('risk.', 1), ('grubbing', 1), ('kikes', 1), ('cluei', 1), ('telekinesis.', 1), ('world....', 1), ('viewers', 1), ('sells', 1), ('killin', 1), ('invaded/bombed', 1), ('aside', 1), ('years.....', 1), ('untrained', 1), ('buildings????', 1), ('matter!!!!!!', 1), ('ouch.', 1), ('nyclass', 1), ('$500k', 1), ('mailer', 1), ('quarters', 1), ('gio', 1), ('backup.', 1), ('skc', 1), ('bwp', 1), ('nycfc', 1), ('bwp.', 1), ('newspaper', 1), ('2/n', 1), ('conventional', 1), ('yanks', 1), ('nuks.', 1), ('crescent', 1), ('trails', 1), ('breed', 1), ('strong!', 1), ('pug', 1), ('mwednesday', 1), ('!the', 1), (\"u'd\", 1), ('yet)', 1), ('purpose.', 1), ('$4k.', 1), ('$500', 1), ('superficial', 1), ('dumping', 1), ('shaking', 1), ('cesspool', 1), ('fringe', 1), ('front?', 1), ('other.', 1), ('profits', 1), ('envision', 1), ('adoption.', 1), ('huh??', 1), ('(maybe)', 1), ('substantial', 1), ('razed?', 1), ('self-inflict', 1), ('consistent', 1), ('dimensions?!', 1), ('imam!', 1), ('glononium', 1), ('6c', 1), ('bashing', 1), ('nitroglycerin', 1), ('book.', 1), ('hendricks', 1), ('hospitality', 1), ('congratulations', 1), ('besieged', 1), ('raynor.', 1), ('raynor', 1), ('balding', 1), ('emo', 1), ('generic', 1), ('hero.', 1), ('movies.', 1), ('said?', 1), ('person?', 1), ('empathy?', 1), ('welp', 1), ('dunce', 1), ('wait..', 1), ('dates??', 1), ('pax', 1), ('=(', 1), ('succeed', 1), ('detonate&amp;shots', 1), ('missed.', 1), ('operate', 1), ('grandest', 1), ('scales', 1), ('selmo', 1), ('slaughter', 1), ('us?bush', 1), ('lowered', 1), ('w/middle', 1), ('401ks', 1), ('world...', 1), ('obama.', 1), ('nice.', 1), ('shooting)', 1), ('80s', 1), ('attack/', 1), ('crisis/', 1), ('pan', 1), ('babies??!', 1), ('atw', 1), ('mosh', 1), ('forfeiting', 1), ('julie.', 1), ('frail.', 1), (\"'hit\", 1), (\"stick'\", 1), ('shit..', 1), ('suspected.', 1), ('ride.', 1), ('ridah', 1), ('poisoning', 1), ('islands?', 1), (\"??that's\", 1), ('now????', 1), ('flood?', 1), ('whattt?', 1), ('fangirl', 1), ('aiden', 1), ('??#disaster', 1), ('monty', 1), ('python', 1), ('(:', 1), ('enabling', 1), ('industry.', 1), ('investigatin', 1), ('tut', 1), (\"'ben\", 1), (\"favorited'\", 1), ('vet??', 1), ('kitties', 1), ('.thank', 1), ('embarrassing', 1), ('nation.', 1), ('4:', 1), ('pits.', 1), ('//shit...alright', 1), (\"...i'm\", 1), ('rods', 1), ('creatures...', 1), (\"'for\", 1), (\"once'\", 1), ('snow?', 1), ('lightning?', 1), ('99%', 1), ('deluded', 1), ('--just', 1), ('gray', 1), ('ophelia', 1), ('area--', 1), ('displaced/injured/killed', 1), ('opportunity', 1), (\"restaurants!'\", 1), ('now.\\n\\neven', 1), ('camped', 1), ('redcliffe', 1), ('aidan', 1), ('stat', 1), ('lightrail', 1), ('promoting', 1), ('john.', 1), ('lbr', 1), ('97', 1), ('couldnt', 1), ('situ', 1), ('shush.', 1), ('honour', 1), ('privlege', 1), ('pray.', 1), ('quarters.', 1), ('modi', 1), ('zeros', 1), ('\\nwell', 1), ('differently.', 1), ('\\nthere', 1), ('kpk', 1), ('dams', 1), ('ruled.\\neven', 1), ('thar', 1), ('\\nnever', 1), ('rabaa', 1), ('observed.\\n#rememberrabaa', 1), (\"\\nkatherine's\", 1), ('you....no-one', 1), ('labor.', 1), ('that..', 1), (\"\\n'the\", 1), (\"bastard'\", 1), ('\\n\\nwow', 1), ('\\n\\nif', 1), ('pilloried!', 1), ('\\n\\nscreams', 1), ('saku', 1), ('genitals', 1), ('\\n\\nnotley', 1), ('heartland\\nharper', 1), ('tfw', 1), ('slaves', 1), ('\\n\\ngood', 1), ('\\n\\nget', 1), ('coefficient', 1), ('\\n@armageddon????', 1), (\":(\\ny'all\", 1), ('ohio?', 1), ('abject', 1), ('restaurants.', 1), ('74/75', 1), (\"'@rockefeller_chi/@rockefelleruniv'heiress\", 1), ('evade', 1), ('lgl', 1), ('prosecute', 1), ('blks', 1), (\"kidnap'g.@afp\", 1), ('7/30', 1), ('w/another', 1), ('principle', 1), ('fulfilling', 1), ('clerical', 1), ('duties', 1), ('7-speed', 1), ('nexus', 1), ('shifter', 1), ('å£9!', 1), ('(for', 1), ('bike?)', 1), ('600!!!', 1), ('kids!!!!!', 1), ('4sake', 1), ('argsuppose', 1), ('pre-born', 1), ('individl', 1), ('rights.generally', 1), ('courtof', 1), ('forbids', 1), ('4.', 1), ('dolla', 1), ('/screams', 1), ('...wow...ok...um...that', 1), ('face.', 1), ('...of', 1), ('manservant.', 1), ('pampered', 1), ('brit', 1), ('(reversal)', 1), ('farther', 1), ('...death', 1), ('...because', 1), (\"that'd\", 1), ('included', 1), ('plants.', 1), ('gone.', 1), ('relax.', 1), ('goner', 1), ('-with', 1), ('screeching', 1), ('accompanying', 1), ('-sets', 1), ('fire-', 1), ('-runs', 1), ('neck-', 1), ('-of', 1), (\"loki's\", 1), ('daggers', 1), ('jammed', 1), (\"mina's\", 1), ('thigh.', 1), ('mina', 1), ('sif-', 1), ('-in', 1), (\"first.'\", 1), ('had-', 1), ('--head.', 1), (\"'language!'\", 1), ('shouted', 1), ('stay--', 1), ('darken', 1), ('ungodly', 1), ('at--', 1), ('gently', 1), ('dabbed', 1), ('rag', 1), ('catastrophic.', 1), ('informed', 1), ('a.i', 1), ('*mute', 1), ('applicable', 1), ('warfare:', 1), (\"'battles\", 1), ('shirtless', 1), ('psych', 1), (\"annihilated'\", 1), ('trusted', 1), ('*zar', 1), ('cringes', 1), ('marek', 1), ('go*', 1), ('*he', 1), ('*tries', 1), ('cord*', 1), ('*stands', 1), ('smiling*', 1), ('*slaps*', 1), (\"*screams*don't\", 1), ('animatronics', 1), ('666*', 1), ('*screaming*', 1), ('go!!!\\n:(', 1), ('*returns', 1), ('her*\\n\\nrelax.', 1), ('flakes.', 1), ('*i', 1), ('displeased', 1), ('absol', 1), ('blankets', 1), ('sheets*', 1), ('*ems', 1), ('stablize', 1), ('stretcher*', 1), ('*blight', 1), ('*as', 1), ('targets;', 1), (\"''curse''\", 1), ('throws', 1), ('sinks', 1), ('ocean*', 1), ('(1)', 1), ('okanowa', 1), ('mainline', 1), (\"'who\", 1), ('itself.', 1), (\"'thanks\", 1), ('manor', 1), ('up.....', 1), (\"buddy?'\", 1), (\"'screaming\", 1), ('scientist', 1), ('deceased', 1), (\"investigation'\", 1), ('other:\\n1.', 1), ('eyes.\\n2.', 1), ('humor.\\n3.', 1), ('farts', 1), ('earthquake.\\n\\n????????', 1), (\"'perrie\", 1), (\"devastated'\", 1), ('meanwhile....', 1), (\"'one?'\", 1), ('nonononono.', 1), (\"hijacking's\", 1), (\"'light\", 1), (\"rain'\", 1), ('dressing', 1), (\"'i\\x89ûªd\", 1), ('it.\\x89û\\x9d', 1), (\"'i...\", 1), (\"alright.'\", 1), ('sansa', 1), ('blinked', 1), ('what--', 1), (\"trouble.'\", 1), (\"'he'll\", 1), ('trigger', 1), ('with---', 1), (\"'give\", 1), (\"ner-'\", 1), ('*flattened', 1), ('quarter*', 1), (\"'don't\", 1), ('offline', 1), ('hinata', 1), ('cause--', 1), (\"'deluge'\", 1), ('word.', 1), (\"'bleeding\", 1), ('brevoort.', 1), (\"pictures.'\", 1), (\"'are\", 1), ('okay?!', 1), (\"right?'\", 1), (\"'and\", 1), (\"please.'\", 1), ('&lt;gasp!&gt;', 1), ('sunday!', 1), ('attacked?', 1), ('death2usa', 1), ('sea:', 1), ('visualise', 1), ('crashsterling!who', 1), ('carmel', 1), ('joeysterling', 1), ('knight???????', 1), ('4-suspected', 1), ('waziristan', 1), ('clear....', 1), ('places!', 1), ('happening.', 1), ('ppe', 1), ('praying', 1), ('healing', 1), ('pleas', 1), (\"'bush'\", 1), ('occurs?', 1), ('collide!!!????', 1), ('london3', 1), ('loo', 1), ('talent.', 1), ('stil', 1), ('mr.affleck!', 1), ('negotiating', 1), (\"lickin'\", 1), ('donuts???', 1), ('hazard....u', 1), ('motorways', 1), ('2reduce', 1), ('fumes', 1), ('-forget', 1), ('destruction!-', 1), ('puddle', 1), ('uncontrolled', 1), ('..i', 1), ('402', 1), ('evil.', 1), (\"meltdown!'\", 1), ('areva', 1), ('kid?', 1), (\"'stare'\", 1), (\"'ppl\", 1), (\"smugglers'\", 1), ('away!\\n2', 1), ('abused.', 1), ('\\nparents', 1), (\"\\ni'm\", 1), ('that\\x89û_;;\\nnowlike', 1), ('usthe', 1), ('connected.\\ni', 1), ('\\ndue', 1), ('\\nbro', 1), ('\\nas', 1), ('behaviour', 1), ('jan/aq', 1), ('pleasantly', 1), ('div', 1), ('jan/aq.', 1), ('\\n4.', 1), ('\\n\\nmost', 1), ('world\\nbest', 1), ('g7', 1), ('g20\\nbest', 1), ('meltdown\\n\\nwhat', 1), ('snowstorm/hailstorm!', 1), ('damage;', 1), ('janeenorman:', 1), (\"'high\", 1), (\"probability'\", 1), ('more;', 1), (':starmade:', 1), (':stardate', 1), (':planetary', 1), ('annihilation::', 1), (':and', 1), ('alexandrian', 1), ('library.', 1), ('2-car', 1), ('a1a', 1), (\"bing's\", 1), ('landing:', 1), ('tem\\x89û_', 1), ('^fj', 1), ('bottom.', 1), ('recover.', 1), ('welcoming', 1), ('show:', 1), ('feeble.', 1), ('9:35', 1), ('degrees.', 1), ('960kzim:', 1), ('steele', 1), ('950.', 1), ('tumbles', 1), (\"todayi'm\", 1), ('side\\n\\nand', 1), ('sweeps', 1), (\"away-\\n\\nyou're\", 1), ('bitch!*runs', 1), ('95-03', 1), ('528', 1), ('530', 1), ('540', 1), ('740', 1), ('20177-707d', 1), (\"1800's\", 1), (\"'palestinians'\", 1), ('9)', 1), ('hara-kiri', 1), (\"suicide'.\", 1), ('backup', 1), ('south...accident', 1), ('langtree', 1), ('rd...consider', 1), ('115', 1), ('prove', 1), ('begun!:', 1), ('tren...', 1), ('85v-265v', 1), ('10w', 1), ('motion', 1), ('pir', 1), ('auc', 1), ('.....now', 1), ('faculty', 1), ('8/6/2015@2:09', 1), ('2781', 1), ('willis', 1), ('foreman', 1), ('8/6/2015@1:32', 1), ('deans', 1), ('8/6/2015@1:08', 1), ('wrightsboro', 1), ('8/5', 1), ('arizona', 1), ('cardinals', 1), ('jaron', 1), ('8-5-2015', 1), ('fires\\nhttp://t.co/6o1mgmghgt', 1), (\"8'\", 1), ('mtech', 1), ('assisted', 1), ('mt-a801bl', 1), ('zix', 1), ('groceries', 1), ('aching', 1), ('7:13pm', 1), ('lougheed', 1), ('203rd', 1), ('dewdney', 1), ('collision.', 1), ('eto', 1), ('derails.', 1), ('73rd', 1), ('goode', 1), ('championships', 1), ('mon)', 1), ('hiroshima...', 1), ('murder...', 1), ('100000', 1), ('annihilate', 1), ('decision\\x89û_', 1), ('wake.', 1), ('nowish', 1), ('justified?', 1), ('a-bombed', 1), ('therein', 1), ('200000', 1), ('destroyd', 1), ('vigils:', 1), ('wartime', 1), ('wroug...', 1), ('70...&amp;', 1), ('impossible.', 1), ('mysteries.', 1), ('7.beyonce', 1), ('zhejiang', 1), ('removal-', 1), ('removed', 1), ('...hiroshima', 1), ('_bomb', 1), ('boy&amp;carried', 1), ('enola', 1), ('...1/2', 1), ('250000', 1), ('naypyidaw', 1), ('(prensa', 1), ('latina)', 1), ('myanmar...', 1), ('627%', 1), ('striked', 1), ('otm.', 1), (\"tuesday's\", 1), ('6.beyonce', 1), ('trends', 1), ('startups', 1), ('challenging', 1), ('(+', 1), ('video):', 1), ('5:15p', 1), (\"'nuff\", 1), ('f/me', 1), ('t/make', 1), ('t/the', 1), ('(n).', 1), ('b/home', 1), ('7p.', 1), ('573', 1), ('\\x89û÷nuclear', 1), ('disaster-related', 1), ('deaths\\x89ûª', 1), ('53', 1), ('marilyn', 1), (\"monroe's\", 1), ('ripriprip', 1), ('52.214904', 1), ('5.139055', 1), ('please.', 1), ('hilversum', 1), ('800', 1), ('meters', 1), ('surface.', 1), ('50k', 1), (\"'delirious'\", 1), ('remix!!', 1), ('501', 1), ('mandem', 1), ('totteham', 1), ('maddddd', 1), ('ting', 1), ('dere', 1), ('foodborne', 1), ('illness...', 1), ('dears...', 1), ('reg', 1), ('competitiveness.', 1), ('over-saturated.', 1), ('brockton', 1), ('$12m', 1), ('regc', 1), ('ppc', 1), ('fiji', 1), ('islands.', 1), ('ìñ2', 1), ('ìñ1', 1), ('fatalities:', 1), ('stretched', 1), ('its\\x89û_', 1), ('to-dos', 1), ('administer', 1), ('apps', 1), ('qct', 1), ('hotel:', 1), ('metropol', 1), ('bukidnon:', 1), ('4yygb', 1), ('mhtw4fnet\\n\\nthousands', 1), ('strongest', 1), ('45600', 1), ('meditation', 1), ('u.p', 1), ('&amp;got', 1), ('divine', 1), ('blessing', 1), ('411naija', 1), ('4.5', 1), ('290', 1), ('reviewers', 1), (\"'dragon\", 1), (\"blood'\", 1), ('boxset', 1), ('lindsay', 1), ('buroker', 1), ('tree:', 1), ('printable', 1), ('templates\\nhttp://t.co/naex0q1ax0', 1), ('hoke', 1), ('excepting', 1), ('term:', 1), ('dfljev', 1), ('times4', 1), ('dead...', 1), ('albertville', 1), ('evening;', 1), ('to.remove', 1), ('govt.otherwise', 1), (\"'ll\", 1), ('terrorist.bstrd', 1), ('takig', 1), (\"sculrismfinis'em\", 1), ('greats', 1), ('captain.', 1), ('35w', 1), ('honoring', 1), ('320', 1), ('[ir]', 1), ('icemoon', 1), ('[aftershock]', 1), ('300k', 1), ('exotic', 1), ('\\nhttp://t.co/j49xeuj7ps', 1), ('1200000', 1), ('11000000', 1), ('excessive', 1), ('emerging', 1), ('defects.', 1), ('phew', 1), ('3-pronged', 1), ('furniture', 1), ('retailer', 1), ('dsc', 1), ('colorlines', 1), ('marketers', 1), ('marketer', 1), ('always...', 1), ('212', 1), ('seconds!', 1), ('surgeon.', 1), ('choice:', 1), ('neutron', 1), ('rifle.', 1), ('buildings!', 1), ('airplanes!', 1), ('awaken', 1), ('giants!', 1), ('disrupting', 1), ('noon', 1), ('bedrooms', 1), ('baths', 1), ('ca.', 1), ('(http://t.co/qms8rressd)\\n(youtube', 1), ('video:...', 1), ('2pcs', 1), ('18w', 1), ('2leezy', 1), ('grabbing', 1), ('bruh?', 1), ('2:20', 1), ('organizations', 1), ('real-time', 1), ('threats.', 1), ('oct', 1), ('1895:', 1), (\"'bush\", 1), ('twenty-six!', 1), ('kamayani', 1), ('janata', 1), ('pradesh;', 1), ('gratia', 1), ('simultaneous', 1), ('22.beyonce', 1), ('waterproof', 1), ('weiqin', 1), ('michel', 1), ('lujo', 1), ('ca\\x89û_', 1), (\"2012#shell's\", 1), ('250-foot-tall', 1), ('drilling', 1), ('towline&amp;drifted', 1), ('2/his', 1), ('explanation', 1), (\"work!'\", 1), ('lansdowne', 1), ('sts', 1), ('emerg', 1), ('216', 1), ('row:l', 1), ('row:aa', 1), ('pple', 1), ('boat.#news', 1), ('policemen', 1), ('indicate', 1), ('6-7', 1), ('post.', 1), ('hst', 1), ('waianapanapa', 1), ('surf.', 1), ('slams', 1), ('bordento...', 1), ('latino', 1), ('unharmed:', 1), ('nationals', 1), ('who\\x89û_', 1), ('recipes;', 1), ('stew!', 1), ('measles', 1), ('complications', 1), ('looses', 1), ('crickets', 1), ('head-on', 1), ('kenai', 1), ('spur', 1), ('building:', 1), ('crashing\\x89û_', 1), ('wk', 1), ('seward', 1), ('licensed', 1), ('produc', 1), ('d/s', 1), ('hood', 1), ('1961', 1), ('les', 1), ('wozni', 1), ('1943:', 1), ('treblinka', 1), ('rebelled', 1), ('seizing', 1), ('1942', 1), ('19000', 1), ('rebuilt.', 1), ('blockade!', 1), ('1860', 1), (\"blood's\", 1), ('octagonal', 1), ('cds', 1), ('1ìâå¢', 1), ('15l18', 1), ('grid', 1), ('bovines', 1), ('smugglersåênabbed', 1), ('17.beyonce', 1), ('manchester.', 1), ('s\\x89ûªarabia', 1), ('bombing\\n\\na', 1), ('aseer', 1), ('south-western', 1), ('saudi...', 1), ('crashes:', 1), ('remote', 1), ('stylishly', 1), ('area\\nwctv-35', 1), ('120v', 1), ('breaker', 1), ('threshold', 1), ('awg', 1), ('(commonly', 1), ('1800w', 1), ('outlets', 1), ('results..', 1), ('reopened.', 1), ('cleanup.', 1), ('clearlake', 1), ('lik...', 1), ('13,000', 1), ('lulgzimbestpicts', 1), ('12news:', 1), ('housed', 1), ('90th', 1), ('osborn.', 1), ('extinguished', 1), ('/////', 1), ('12.beyonce', 1), (\"12'\", 1), ('72w', 1), ('alloy', 1), ('ta', 1), ('toes...', 1), ('thinkin', 1), (\"'yal\", 1), ('ain', 1), ('payday', 1), ('finance', 1), ('liqd', 1), ('11:57am', 1), ('mynabirds', 1), ('lovers', 1), ('11:30bst', 1), ('traffic:', 1), ('a10&gt;paris', 1), ('a40', 1), ('a7', 1), ('mons', 1), ('a1', 1), ('a2&gt;hanover', 1), ('karlsruhe', 1), ('gotthard', 1), ('11:30a', 1), ('showers/storms', 1), ('areas-minor', 1), ('119', 1), ('sri', 1), (\"lanka's\", 1), (\"'emergency'\", 1), ('\\nbusy', 1), ('mins.', 1), ('\\nsuppose', 1), ('11000', 1), ('vegetable', 1), ('mre', 1), ('toddler:', 1), ('sh...', 1), ('homs', 1), ('zaman', 1), ('alwsl', 1), ('digits\\nhttp://t.co/txrswi0efg', 1), ('10news', 1), ('700', 1), ('mediterranean.', 1), ('sided', 1), ('linerless', 1), ('caps', 1), ('choose', 1), ('10-month-old', 1), ('coastguard', 1), ('sea!', 1), ('martial', 1), ('bicyclists', 1), ('runners.', 1), ('1.94', 1), ('01:04', 1), ('alaska', 1), ('00:11', 1), ('1.57', 1), ('1.43', 1), ('helens', 1), ('09:36', 1), ('9km', 1), ('1-6', 1), ('9/29', 1), ('scotiabank', 1), ('saddledome', 1), ('1)', 1), (\"'investigators\", 1), (\"early'\", 1), ('msm', 1), (\"'staging\", 1), (\"massacre'\", 1), ('pair', 1), (\"4''\", 1), ('off-road', 1), ('atv', 1), ('work??', 1), ('absence', 1), ('interactions.', 1), ('naples', 1), ('0npzp', 1), ('09:13', 1), ('(http://t.co/ed1vpitswy):', 1), ('time....', 1), ('08/3/15:', 1), ('utica', 1), ('ny;', 1), ('pleasant', 1), ('ave:black', 1), ('paws.', 1), ('majors', 1), ('martyred', 1), ('corps', 1), ('03/08/11:', 1), ('41-year-old', 1), ('bronx', 1), ('citing', 1), (\"'casing\", 1), (\"location.'\", 1), ('found.', 1), ('04', 1), ('axle', 1), ('2055271', 1), ('macs', 1), ('ars', 1), ('technica', 1), ('/criess', 1), ('blood/', 1), ('wook', 1), ('//screams', 1), ('distance//', 1), ('//kinda', 1), ('&gt;_&lt;', 1), ('//im', 1), ('hsu', 1), ('hao', 1), ('????\\njust', 1), ('flawless', 1), ('//./../..', 1), ('-/', 1), ('.sink', 1), ('holes', 1), ('slides', 1), ('avalanches&gt;&gt;https://t.co/xrrlnhelap\\n#allah', 1), ('.potus', 1), ('refugees;', 1), ('idp', 1), ('horror;', 1), ('.@wwp', 1), ('serving', 1), ('75k', 1), ('52k', 1), ('oif/oef', 1), ('invisible', 1), ('.@westmdcountypa', 1), ('20th', 1), ('.@vagersedolla', 1), ('.@uriminzok', 1), ('puppet', 1), ('naemolgo', 1), ('firmly', 1), ('yiraneuni', 1), ('.@unsuckdcmetro', 1), ('half-derailed', 1), ('half-railed?', 1), ('.@uber', 1), ('partnerships:', 1), ('.@stavernise:', 1), ('sanctions', 1), ('.@stacdemon', 1), ('mullin', 1), ('john\\x89ûªs', 1), ('2015-16:', 1), ('.@slosheriff:', 1), ('huntington', 1), ('relations', 1), ('\\nhttps://t.co/6ce1vwovhs', 1), ('appear', 1), ('.@ronfunches', 1), ('enjoy:', 1), ('funches.', 1), ('.@robdelaney', 1), ('but!', 1), ('ejaculating.', 1), ('.@raniakhalek', 1), (\"uncle?'\", 1), (\"'hopefully\", 1), (\"bombed'.\", 1), ('ugly.', 1), ('.@peterdutton_mp', 1), ('trade', 1), ('.@norwaymfa', 1), ('.@no_periferico', 1), ('.@mlsudders', 1), ('workers:', 1), (\"respect'\", 1), ('.@martinmj22', 1), ('.@libertygeek83', 1), ('kissing', 1), ('.@kurtschlichter', 1), ('*millions*', 1), ('downfall.', 1), ('.@kumailn', 1), ('.@karijobe', 1), ('tambourine', 1), ('me.....', 1), ('.@jimmyfallon', 1), ('mortar', 1), ('pestle', 1), (\"school's\", 1), ('.@janeannmorrison:', 1), ('candidate', 1), ('.@greenbuildermag', 1), ('webinar', 1), ('8/19', 1), ('et.', 1), ('.@emily_noel95', 1), ('.@dinosaurdracula', 1), (\"jason's\", 1), ('vi', 1), ('outfit.', 1), ('.@denisleary', 1), ('.@david_cameron', 1), ('upsetting', 1), ('bee!', 1), ('.@dantwitty52', 1), ('half.', 1), ('eighth.', 1), ('.@cityofcalgary', 1), ('.@cbcnorth', 1), ('(sacred', 1), ('site)', 1), ('rr', 1), ('talston', 1), ('2010\\nhttp://t.co/sxlfsnsph0', 1), ('.@bigperm28', 1), ('drafted', 1), ('(rd.', 1), ('overall.', 1), ('.@bbcnews', 1), ('.@mwlippert', 1), ('prepared!electrocutedboiling', 1), ('waterfur', 1), ('.@arnejungjohann', 1), ('.@aphl', 1), ('responds:', 1), ('.@aiginsurance', 1), ('ceo:', 1), ('divestitures', 1), ('q2', 1), ('.@38_degrees', 1), ('hello.', 1), ('unilever', 1), ('about.', 1), ('drayesha4:', 1), ('ki\\x89û_', 1), ('orphanage', 1), (\"...don't\", 1), ('...american', 1), ('400000\\x89ûò800000', 1), (\"fatalities.'\", 1), ('...@jeremycorbyn', 1), ('spade', 1), ('spade.', 1), ('savvy', 1), ('\\nhttp://t.co/fabsyxqlqi', 1), ('hotepina', 1), ('achieved', 1), ('refunds', 1), (\"two's\", 1), ('evacuation:', 1), ('.\\n.@colts', 1), ('500-7', 1), ('whine', 1), (\"'integrity'\", 1), ('-rare', 1), ('collectable', 1), ('windriver', 1), ('60ml', 1), ('men#deals_uk', 1), ('-pandemonium!', 1), ('playstation', 1), ('ps1', 1), ('platform', 1), ('rare#deals_uk', 1), ('-mom', 1), ('kitchen-', 1), (\"\\n'wheres\", 1), (\"avocado!?'\\n\\n-waits\", 1), ('patiently', 1), ('avocado', 1), ('head-', 1), (':))))))', 1), ('-honey', 1), ('-??-\\n;', 1), ('kitana\\n?', 1), ('slay', 1), ('me\\n\\x89ûókody?', 1), ('-=-0!!!!.', 1), ('lastma', 1), ('lagos', 1), ('--thus', 1), ('useless.\\nthe', 1), ('penetrate.\\n\\ndue', 1), ('senzu', 1), ('gohan\\x89ûªs', 1), ('surprised.', 1), ('pouch', 1), ('grea...', 1), ('himalayas:', 1), ('again-spiritual', 1), ('awakening', 1), ('?night', 1), ('disaster?...e(oficial)', 1), ('+cossacks+hussars', 1), ('oo', 1), ('riggd', 1), ('rough', 1), ('shelters', 1), ('glade+were', 1), ('kindlng', 1), ('glowng', 1), ('hollow', 1), ('frnch', 1), ('nicole', 1), ('fletcher', 1), ('\\n\\nthe', 1), ('\\n\\n+', 1), (\"him!!?!?!?!'\", 1), ('sobbing', 1), ('endlessly', 1), ('mad+', 1), ('*wants', 1), ('femnism', 1), (\"at'\", 1), ('*to', 1), ('luka*', 1), ('*standing', 1), (\"joann's\", 1), ('me*\\n\\nlittle', 1), ('girl?\\n\\n...\\nwelp', 1), ('*se', 1), ('pone', 1), ('cantar', 1), ('lightning*', 1), ('internally*', 1), ('languages*', 1), ('*screaming', 1), ('prodigy', 1), ('graphic', 1), ('day*', 1), ('*nominates', 1), ('landslide*', 1), ('*new*', 1), ('hat/cap', 1), ('silver/gray', 1), ('embroidered', 1), ('*new!*', 1), ('fujiwara', 1), ('shunichiro', 1), ('2015-08-05)', 1), ('[technology]', 1), ('*loud', 1), ('coworkers', 1), ('desk*', 1), ('*everyone', 1), ('snickers*', 1), ('*looks', 1), ('windstorm*', 1), ('niiiice', 1), ('*jumps', 1), ('tea*\\n\\nthis', 1), ('cliffs.', 1), ('*is', 1), ('wreck*', 1), ('*gives', 1), ('advice*', 1), ('*hears', 1), ('upstairs*\\n*goes', 1), ('open*\\n*checks', 1), ('hand*', 1), ('*ears', 1), ('bass*', 1), ('*cue', 1), ('jariana', 1), ('*books', 1), ('burma', 1), ('enduring', 1), ('unrest', 1), ('disaster*', 1), ('*anti', 1), ('on*\\nme', 1), ('*goes', 1), ('smokes*\\nthanks', 1), ('*aggressively', 1), ('screams*', 1), ('**official', 1), ('vid**', 1), ('comin', 1), ('soon!!', 1), ('**let', 1), ('fantasy**', 1), ('\\n#escorts', 1), ('***latest', 1), ('round-up***', 1), ('(in', 1), ('you)', 1), ('(&amp;', 1), ('shadows)', 1), ('(to', 1), ('luka)', 1), (\"'they\", 1), (\"annihilated!'\", 1), ('russaky89', 1), ('hyider_ghost2', 1), ('fighterdena', 1), ('avysss', 1), ('sokoto:', 1), ('(rubs', 1), ('greets', 1), ('genie)', 1), ('(ok)', 1), ('8:29pm', 1), ('vid)', 1), ('(emsc):', 1), ('(ar)', 1), ('9:12pm', 1), ('9:45pm', 1), ('(also', 1), ('(al)', 1), ('8:44pm', 1), ('((official', 1), ('vid))', 1), ('(#losdelsonido)', 1), ('(#ivanberroa)', 1), ('antichrist', 1), ('desecrates', 1), ('9:27', 1), ('24:1', 1), ('us\\nlike', 1), (\"name'\", 1), (\"really...'\", 1), (\"memory'\", 1), (\"group's\", 1), (\"are.'\", 1), ('giorgio', 1), ('hiatt', 1), (\"skill.'\", 1), ('hired?', 1), ('incompetent.', 1), (\"electrocuted?'\", 1), (\"cactus?'#borderlands\", 1), (\"'where's\", 1), (\"at???'\", 1), ('away\\nnothing', 1), ('say\\nsee', 1), ('eyes\\nsee', 1), ('\\x89û÷em', 1), ('(nepal)', 1), (\"int'l\", 1), ('there;', 1), (\"responders.'\", 1), ('perceive', 1), ('faintly', 1), ('sputtering', 1), ('vast', 1), (\"eternity'\\n\\n-sister\", 1), ('gyrsi', 1), ('manner', 1), ('parcel', 1), ('yard?', 1), (\"the\\x89û_'\", 1), ('dtom2', 1), ('accomplishing?!', 1), (\"'we\\x89ûªre\", 1), ('extension.', 1), ('we\\x89ûªve', 1), ('girls.', 1), ('damsels', 1), ('distress.', 1), (\"peers.'\", 1), (\"bums!'\", 1), ('bowel', 1), ('educate', 1), ('adapt', 1), (\"individuals.'\", 1), (\"track'\", 1), ('-@kristnmalea', 1), (\"help'\", 1), ('bond', 1), ('enterprise', 1), (\"city.'\", 1), (\"'use\", 1), ('wisely', 1), ('carnage', 1), ('continuing...let', 1), (\"period..'\\n#ggindependencmessage\", 1), ('orcas', 1), ('washington.', 1), (\"'up\", 1), (\"reopen'\\nhttp://t.co/35jyap0ul9\", 1), (\"'tube\", 1), (\"chaos'\", 1), ('&lt;-', 1), ('baffling', 1), (\"'trust\", 1), (\"ones!'\", 1), (\"'three\", 1), (\"'things\", 1), ('heated.', 1), ('busta', 1), ('splashed', 1), (\"back'\", 1), ('emmy', 1), ('emily', 1), (\"prices.'\", 1), ('dwight', 1), ('eisenhower', 1), (\"cards'\", 1), (\"survivor'\", 1), ('18:00', 1), ('8/6.', 1), ('\\n#??', 1), ('car;', 1), (\"him'\", 1), ('arranged', 1), ('guatemalan', 1), (\"possible.'\", 1), (\"hat'\", 1), (\"win.'\", 1), ('\\nroger', 1), ('bannister', 1), (\"die':\", 1), ('relied', 1), (\"strike'\", 1), ('suns', 1), ('harder', 1), (\"triumph.'\", 1), ('paine', 1), ('oyster', 1), (\"shell.'\", 1), ('carnegie', 1), ('roller.', 1), (\"not.'\", 1), ('importance', 1), ('exits', 1), (\"familiar.'\", 1), ('derives', 1), (\"person.'\", 1), ('vincent', 1), ('peale', 1), ('hoops', 1), ('recruiting', 1), (\"nuggets'\", 1), (\"problem.'\", 1), ('[location', 1), (\"named]...'\", 1), (\"flames.'\", 1), ('sorrowful', 1), (\"redemption.'\", 1), ('-david', 1), ('platt', 1), (\"'some\", 1), ('hearths', 1), (\"'so\", 1), ('doors.', 1), ('questions?', 1), (\"yes?'\\n'why\", 1), (\"fire!!?!??!?'\\n\\ni...i..i\", 1), (\"'snowstorm'\", 1), (\"36'x36'\", 1), (\"'since1970the\", 1), ('depreciations', 1), ('cad:usd', 1), ('b4federal', 1), ('w/landslide', 1), (\"opposition'\", 1), (\"'show\", 1), (\"hero':\", 1), (\"'she\", 1), ('tasted', 1), ('famine.', 1), (\"starving.'\", 1), (\"'seismic'\", 1), (\"'seeing\", 1), ('mileena', 1), (\"sad.'\", 1), (\"drown'.\", 1), ('prison-like', 1), ('conditionsprivation', 1), (\"'russian\", 1), (\"memories'\", 1), (\"'remembering\", 1), (\"lose.'\", 1), (\"'refuse\", 1), (\"shovel.'\", 1), (\"'redskins\", 1), ('belly-bombed', 1), (\"'quarantine.'\", 1), ('enforced', 1), ('isolation', 1), ('contamination', 1), (\"'prompt\", 1), (\"utter'\", 1), (\"'possum\", 1), (\"'police\", 1), (\"shots'\", 1), (\"'planted\", 1), ('390', 1), (\"ago'\", 1), ('u-s.', 1), ('bonsai', 1), (\"angel':\", 1), ('banjo', 1), ('pilon', 1), ('skateboarding', 1), ('wamberal:', 1), ('10-year-old', 1), ('scam', 1), (\"sarcastic'.\\n\\ndrop\", 1), (\"'one\", 1), ('glance', 1), ('drops.', 1), (\"stops.'\", 1), ('me..', 1), (\"'nuclear\", 1), (\"button.'\", 1), (\"'now\", 1), ('quietly', 1), ('personality', 1), (\"modern.'\", 1), (\"'nobody\", 1), (\"second.'\", 1), ('schulz', 1), (\"'no\", 1), ('lender', 1), ('fees', 1), (\"present)'\", 1), (\"'nagasaki\", 1), (\"weapon.'\", 1), ('b&amp;n', 1), (\"'mumbai\", 1), (\"pakistan'ex-federal\", 1), ('(fia)', 1), ('tariq', 1), ('khosa.', 1), (\"'motordom'\", 1), ('lobbied', 1), (\"'money\", 1), (\"happiness'\", 1), (\"'mcfadden\", 1), ('hamstring', 1), (\"thursday'\", 1), (\"'many\", 1), (\"deaths'\", 1), ('shipwreck:', 1), (\"'mages\", 1), ('tail..', 1), ('specialize', 1), (\"damage!'\", 1), ('natsu', 1), ('dragneel', 1), (\"'legionnaires'\", 1), (\"outbreak'\", 1), (\"'left\", 1), (\"defend'\\nthe\", 1), ('handside', 1), ('idiot?', 1), (\"'kessler\", 1), (\"syndrome'\", 1), ('exponential', 1), ('proliferation', 1), ('satellites.', 1), (\"'jet\", 1), (\"steel'\\n'the\", 1), (\"illogical'\\n'the\", 1), (\"fake'\\n'it\", 1), (\"bomb'\", 1), (\"'japan\", 1), ('revealing', 1), (\"fate.'\", 1), ('thing!', 1), (\"rubber'\", 1), (\"mudslide!'\", 1), ('belter!', 1), ('tsipras', 1), (\"cost\\x89û_'\", 1), ('wallybaiter', 1), (\"state'\", 1), ('blast:', 1), ('jihadist', 1), (\"hours'\", 1), (\"'invading\", 1), (\"mistake'.\\n\\ndiplomacy\", 1), ('israel:\\n\\nhttp://t.co/yqjpn3quux', 1), (\"'imagine\", 1), ('aisle', 1), ('serbian', 1), (\"refugees.'\", 1), ('foods', 1), ('clothing', 1), ('appropriates', 1), (\"beloved...'\", 1), (\"sirens.'\", 1), (\"bounce.'\", 1), ('churchill', 1), ('summon', 1), (\"fine'-me\", 1), ('\\nmom-*dies*', 1), ('achieve', 1), ('excellence', 1), ('habit', 1), (\"matters....'\", 1), (\"letters.'\", 1), ('letters-', 1), ('thoughts?', 1), (\"occasion.'\", 1), ('truckload', 1), ('panics', 1), ('loses', 1), (\"mind'\\nhttp://t.co/wjntaokdhf\", 1), (\"there!'\", 1), ('edge.', 1), ('kidding.', 1), (\"bear'\", 1), ('jota', 1), ('esse??', 1), (\"gemini'\", 1), ('*children', 1), (\"overblown'\", 1), (\"corrupt'\", 1), ('vandalise', 1), ('aliyu', 1), ('mani', 1), (\"macia':\", 1), ('testified', 1), ('macia\\x89ûªs', 1), (\"rainstorm.'\", 1), ('sylvia', 1), ('plath', 1), ('petrichour)', 1), ('ja...', 1), ('understood', 1), (\"buildings.'\\n'you\", 1), (\"murderers.'\\n'not\", 1), (\"fire.'\", 1), ('fear/fear', 1), ('mindkiller/fear', 1), ('obliteration/i', 1), (\"fear'\", 1), ('mind-killer.', 1), ('obliteration...', 1), ('thezlong', 1), ('energyqfor', 1), (\"term?'\", 1), (\"lamp.':http://t.co/724gq5ebqz\", 1), ('dill', 1), ('pickle', 1), (\"one'\", 1), ('-me', 1), (\"upwards.'\", 1), ('bicycle', 1), ('testicles.', 1), ('indians...for', 1), (\"fun':\", 1), ('smirking', 1), ('remorseless', 1), ('boasting.', 1), ('looming', 1), (\"proportions?'\", 1), (\"sons?'\\n\\n-popular\", 1), (\"men?'\\n\\n-popular\", 1), (\"'hold\", 1), (\"on'\", 1), ('\\nbatman', 1), ('suit.', 1), ('smothered', 1), (\"rubble..'\", 1), (\"'hey\", 1), ('electrocuted..', 1), (\"'gunman\", 1), (\"police'\", 1), ('suicide-by-cop?', 1), ('ibiza', 1), (\"cliff'.\", 1), ('(real', 1), ('talk)', 1), ('w/soaring', 1), ('+soviet', 1), ('memories...', 1), ('memories\\nhttp://t.co/felr5a1hbp', 1), (\"'fatal\", 1), ('johns', 1), (\"island'\", 1), (\"'failure\", 1), ('exist.', 1), (\"direction'\", 1), ('alejandro', 1), ('jodorowsky', 1), ('buildings-on-fire)', 1), (\"'every\", 1), (\"stand.'\\nmatthew\", 1), ('12:32', 1), (\"'er\", 1), ('arfur.', 1), (\"'education\", 1), (\"world.'\", 1), ('nelson', 1), (\"'drowning'\", 1), ('acrylic', 1), ('08.05.15', 1), (\"'dont\", 1), (\"\\\\allahuakbar\\\\''\", 1), ('yourselves?', 1), (\"'dangerous'\", 1), (\"test'\", 1), ('trailer:', 1), ('scheer', 1), (\"huebel's\", 1), ('comedy', 1), (\"'cooler\", 1), (\"sippin'\", 1), (\"'congress'\", 1), ('renamed', 1), ('goonda', 1), ('motley', 1), ('hooligans', 1), ('selfavowed', 1), ('crooks', 1), ('asher', 1), (\"d'\", 1), ('lotm', 1), (\"'battle'\", 1), (\"'climate\", 1), (\"benefits.'\", 1), (\"'choose\", 1), (\"rest.'\", 1), ('bleed.', 1), ('masterpiece.', 1), (\"'car\", 1), (\"port'\", 1), ('5:30', 1), ('happen\\x89û_', 1), (\"'california:\", 1), (\"'california's\", 1), (\"'california\", 1), ('reporters', 1), ('experiencing...', 1), (\"'calgarians\", 1), (\"calls'\", 1), ('curiosity', 1), (\"accident'\", 1), ('freshness', 1), (\"alarm;...'\", 1), ('annoyed', 1), (\"harm.'\", 1), (\"'burning\", 1), (\"rahm':\", 1), ('mayoral', 1), ('effigy', 1), ('tall', 1), ('(1993)', 1), ('review!:', 1), (\"'ell!\", 1), (\"burn!'\", 1), (\"'blood\", 1), (\"family'\", 1), (\"'blaaaaaaa'\", 1), ('vibrate', 1), (\"'biggest\", 1), (\"'behold\", 1), (\"desolate!'\", 1), ('(matthew', 1), ('23:38', 1), ('nasb)', 1), (\"'become\", 1), (\"society'\", 1), (\"'bear\", 1), (\"'anyway'\", 1), (\"alone.'\", 1), ('departments', 1), ('around...', 1), (\"'among\", 1), ('failing', 1), ('yield', 1), (\"car'\", 1), (\"'american\", 1), (\"yemen'\", 1), (\"'amateur\", 1), (\"night'\", 1), ('reprises', 1), (\"'siren'\", 1), ('horrormovies.ca', 1), (\"'afterwards\", 1), ('savour', 1), ('prolong', 1), (\"me'.\", 1), ('sigue:', 1), ('slamming', 1), ('learned...', 1), (\"burn'??\", 1), (\"street'\", 1), ('remade...', 1), (\"'[+54\", 1), ('-9]', 1), ('is?', 1), (\"gd'\", 1), (\"'@wsj:\", 1), ('adani', 1), ('group\\x89ûªs', 1), (\"'@phelimkine:\", 1), (\"'@ma3route:\", 1), ('imeshika', 1), ('hapa', 1), ('mats', 1), ('aar', 1), ('ambulance.we', 1), ('piga', 1), ('kijan', 1), (\"'@jorrynja:\", 1), ('6.', 1), ('bf/gf/crush', 1), (\"??'\", 1), (\"'@googlefacts:\", 1), ('lick', 1), (\"well.'\", 1), ('lickin', 1), (\"'@catoinstitute:\", 1), ('deeply', 1), ('solved:', 1), (\"'@berggrueninst:\", 1), ('berggruen', 1), (\"'60\", 1), (\"what!'\", 1), ('reacts', 1), (\"'13\", 1), ('chapoutier', 1), ('crozes', 1), ('hermitage', 1), ('violets', 1), ('slate', 1), ('pepper.', 1), ('yum', 1), (\"'1\", 1), (\"statistic.'\", 1), ('stalin', 1), (\"'...as\", 1), ('x-files.', 1), (\"most.'\", 1), ('pharrell', 1), ('twice.', 1), ('properly', 1), (\"'omlette\", 1), (\"life'\", 1), ('screamed.', 1), ('omfg.', 1), ('bye.', 1), ('&lt;meltdown', 1), ('proportions', 1), ('commences', 1), ('vision-', 1), ('&lt;kyodonews&gt;', 1), ('update1:', 1), ('anniv.', 1), ('eroded', 1), ('pacifism', 1), ('body.', 1), ('kabul', 1), ('offshoot', 1), ('&gt;as', 1), ('servers\\n&gt;servers', 1), ('load\\n&gt;maintenance', 1), ('anew', 1), ('\\x89û÷faceless\\x89ûª', 1), ('[photo]:', 1), ('financial...', 1), ('runway...', 1), ('derailed!', 1), ('india-backed', 1), ('accustomed', 1), ('presstitutes', 1), ('sympathising', 1), ('jammu.if', 1), ('frog', 1), ('longe', 1), ('rgreen', 1), ('mountain...stock', 1), ('$10m', 1), ('illustrations', 1), ('injuries:', 1), ('$1', 1), ('fife', 1), ('et', 1), ('sex-themed', 1), ('e-books', 1), (\"obama's\", 1), ('sharia', 1), (\"'extremely\", 1), (\"offensive'\", 1), ('uninformed', 1), ('210', 1), ('citrus', 1), ('azusa.', 1), ('motorcycles', 1), ('ihhen', 1), ('cindy', 1), ('noonan@cindynoonan-heartbreak', 1), ('caller', 1), (\"'idiots'\", 1), ('overpasses', 1), (\"crowchild'\", 1), ('(small-sized)', 1), ('saddles', 1), ('alberta)', 1), ('\\nwatching', 1), ('\\nseems', 1), ('government..', 1), ('\\n\\nearly', 1), ('cups', 1), ('lag', 1), ('drink\\x89û_', 1)]\n"
          ]
        }
      ]
    }
  ]
}