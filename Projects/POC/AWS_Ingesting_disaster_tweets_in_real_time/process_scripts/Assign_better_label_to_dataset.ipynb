{
  "nbformat": 4,
  "nbformat_minor": 0,
  "metadata": {
    "colab": {
      "provenance": []
    },
    "kernelspec": {
      "name": "python3",
      "display_name": "Python 3"
    },
    "language_info": {
      "name": "python"
    }
  },
  "cells": [
    {
      "cell_type": "markdown",
      "source": [
        "# Analysis of dataset to assign label"
      ],
      "metadata": {
        "id": "UhtXwiV28oYM"
      }
    },
    {
      "cell_type": "markdown",
      "source": [
        "The purpose of this subproject is ; in a simple and easy way; assign a better label for classification in kind of disaster and whether or not it is a joke.\n",
        "\n",
        "As dataset is pre-labeled from human team; i will use this features like basis and guide for this process."
      ],
      "metadata": {
        "id": "Np4q9KC_81YO"
      }
    },
    {
      "cell_type": "markdown",
      "source": [
        "## Preparing enviroment to work"
      ],
      "metadata": {
        "id": "J6xS9zlRATD7"
      }
    },
    {
      "cell_type": "code",
      "source": [
        "!pip install boto3\n",
        "!pip install pandas"
      ],
      "metadata": {
        "colab": {
          "base_uri": "https://localhost:8080/"
        },
        "id": "7fHThBE0-h8q",
        "outputId": "bca79f9a-d357-4196-b97b-12e13234fb26"
      },
      "execution_count": 1,
      "outputs": [
        {
          "output_type": "stream",
          "name": "stdout",
          "text": [
            "Looking in indexes: https://pypi.org/simple, https://us-python.pkg.dev/colab-wheels/public/simple/\n",
            "Collecting boto3\n",
            "  Downloading boto3-1.26.130-py3-none-any.whl (135 kB)\n",
            "\u001b[2K     \u001b[90m━━━━━━━━━━━━━━━━━━━━━━━━━━━━━━━━━━━━━━━\u001b[0m \u001b[32m135.6/135.6 kB\u001b[0m \u001b[31m3.4 MB/s\u001b[0m eta \u001b[36m0:00:00\u001b[0m\n",
            "\u001b[?25hCollecting botocore<1.30.0,>=1.29.130\n",
            "  Downloading botocore-1.29.130-py3-none-any.whl (10.7 MB)\n",
            "\u001b[2K     \u001b[90m━━━━━━━━━━━━━━━━━━━━━━━━━━━━━━━━━━━━━━━━\u001b[0m \u001b[32m10.7/10.7 MB\u001b[0m \u001b[31m45.4 MB/s\u001b[0m eta \u001b[36m0:00:00\u001b[0m\n",
            "\u001b[?25hCollecting s3transfer<0.7.0,>=0.6.0\n",
            "  Downloading s3transfer-0.6.1-py3-none-any.whl (79 kB)\n",
            "\u001b[2K     \u001b[90m━━━━━━━━━━━━━━━━━━━━━━━━━━━━━━━━━━━━━━━━\u001b[0m \u001b[32m79.8/79.8 kB\u001b[0m \u001b[31m7.2 MB/s\u001b[0m eta \u001b[36m0:00:00\u001b[0m\n",
            "\u001b[?25hCollecting jmespath<2.0.0,>=0.7.1\n",
            "  Downloading jmespath-1.0.1-py3-none-any.whl (20 kB)\n",
            "Requirement already satisfied: urllib3<1.27,>=1.25.4 in /usr/local/lib/python3.10/dist-packages (from botocore<1.30.0,>=1.29.130->boto3) (1.26.15)\n",
            "Requirement already satisfied: python-dateutil<3.0.0,>=2.1 in /usr/local/lib/python3.10/dist-packages (from botocore<1.30.0,>=1.29.130->boto3) (2.8.2)\n",
            "Requirement already satisfied: six>=1.5 in /usr/local/lib/python3.10/dist-packages (from python-dateutil<3.0.0,>=2.1->botocore<1.30.0,>=1.29.130->boto3) (1.16.0)\n",
            "Installing collected packages: jmespath, botocore, s3transfer, boto3\n",
            "Successfully installed boto3-1.26.130 botocore-1.29.130 jmespath-1.0.1 s3transfer-0.6.1\n",
            "Looking in indexes: https://pypi.org/simple, https://us-python.pkg.dev/colab-wheels/public/simple/\n",
            "Requirement already satisfied: pandas in /usr/local/lib/python3.10/dist-packages (1.5.3)\n",
            "Requirement already satisfied: pytz>=2020.1 in /usr/local/lib/python3.10/dist-packages (from pandas) (2022.7.1)\n",
            "Requirement already satisfied: numpy>=1.21.0 in /usr/local/lib/python3.10/dist-packages (from pandas) (1.22.4)\n",
            "Requirement already satisfied: python-dateutil>=2.8.1 in /usr/local/lib/python3.10/dist-packages (from pandas) (2.8.2)\n",
            "Requirement already satisfied: six>=1.5 in /usr/local/lib/python3.10/dist-packages (from python-dateutil>=2.8.1->pandas) (1.16.0)\n"
          ]
        }
      ]
    },
    {
      "cell_type": "code",
      "source": [
        "import re\n",
        "from functools import reduce\n",
        "\n",
        "import pandas as pd\n",
        "import numpy as np\n",
        "from boto3 import Session"
      ],
      "metadata": {
        "id": "W0qwwueFAn5j"
      },
      "execution_count": 31,
      "outputs": []
    },
    {
      "cell_type": "code",
      "source": [
        "disaster_db_df = pd.read_csv(\"/database.csv\", encoding=\"latin9\")\n",
        "disaster_db_df.head(5)"
      ],
      "metadata": {
        "colab": {
          "base_uri": "https://localhost:8080/",
          "height": 583
        },
        "id": "9fVCKZEVAwJj",
        "outputId": "924c2b1f-dabb-468f-b3ef-46a21dae37a3"
      },
      "execution_count": 4,
      "outputs": [
        {
          "output_type": "execute_result",
          "data": {
            "text/plain": [
              "    _unit_id  _golden _unit_state  _trusted_judgments _last_judgment_at  \\\n",
              "0  778243823     True      golden                 156               NaN   \n",
              "1  778243824     True      golden                 152               NaN   \n",
              "2  778243825     True      golden                 137               NaN   \n",
              "3  778243826     True      golden                 136               NaN   \n",
              "4  778243827     True      golden                 138               NaN   \n",
              "\n",
              "  choose_one  choose_one:confidence choose_one_gold keyword location  \\\n",
              "0   Relevant                 1.0000        Relevant     NaN      NaN   \n",
              "1   Relevant                 1.0000        Relevant     NaN      NaN   \n",
              "2   Relevant                 1.0000        Relevant     NaN      NaN   \n",
              "3   Relevant                 0.9603        Relevant     NaN      NaN   \n",
              "4   Relevant                 1.0000        Relevant     NaN      NaN   \n",
              "\n",
              "                                                text  tweetid  userid  \n",
              "0                 Just happened a terrible car crash      1.0     NaN  \n",
              "1  Our Deeds are the Reason of this #earthquake M...     13.0     NaN  \n",
              "2  Heard about #earthquake is different cities, s...     14.0     NaN  \n",
              "3  there is a forest fire at spot pond, geese are...     15.0     NaN  \n",
              "4             Forest fire near La Ronge Sask. Canada     16.0     NaN  "
            ],
            "text/html": [
              "\n",
              "  <div id=\"df-2c05a875-4334-45df-a82e-d32d49bfbeed\">\n",
              "    <div class=\"colab-df-container\">\n",
              "      <div>\n",
              "<style scoped>\n",
              "    .dataframe tbody tr th:only-of-type {\n",
              "        vertical-align: middle;\n",
              "    }\n",
              "\n",
              "    .dataframe tbody tr th {\n",
              "        vertical-align: top;\n",
              "    }\n",
              "\n",
              "    .dataframe thead th {\n",
              "        text-align: right;\n",
              "    }\n",
              "</style>\n",
              "<table border=\"1\" class=\"dataframe\">\n",
              "  <thead>\n",
              "    <tr style=\"text-align: right;\">\n",
              "      <th></th>\n",
              "      <th>_unit_id</th>\n",
              "      <th>_golden</th>\n",
              "      <th>_unit_state</th>\n",
              "      <th>_trusted_judgments</th>\n",
              "      <th>_last_judgment_at</th>\n",
              "      <th>choose_one</th>\n",
              "      <th>choose_one:confidence</th>\n",
              "      <th>choose_one_gold</th>\n",
              "      <th>keyword</th>\n",
              "      <th>location</th>\n",
              "      <th>text</th>\n",
              "      <th>tweetid</th>\n",
              "      <th>userid</th>\n",
              "    </tr>\n",
              "  </thead>\n",
              "  <tbody>\n",
              "    <tr>\n",
              "      <th>0</th>\n",
              "      <td>778243823</td>\n",
              "      <td>True</td>\n",
              "      <td>golden</td>\n",
              "      <td>156</td>\n",
              "      <td>NaN</td>\n",
              "      <td>Relevant</td>\n",
              "      <td>1.0000</td>\n",
              "      <td>Relevant</td>\n",
              "      <td>NaN</td>\n",
              "      <td>NaN</td>\n",
              "      <td>Just happened a terrible car crash</td>\n",
              "      <td>1.0</td>\n",
              "      <td>NaN</td>\n",
              "    </tr>\n",
              "    <tr>\n",
              "      <th>1</th>\n",
              "      <td>778243824</td>\n",
              "      <td>True</td>\n",
              "      <td>golden</td>\n",
              "      <td>152</td>\n",
              "      <td>NaN</td>\n",
              "      <td>Relevant</td>\n",
              "      <td>1.0000</td>\n",
              "      <td>Relevant</td>\n",
              "      <td>NaN</td>\n",
              "      <td>NaN</td>\n",
              "      <td>Our Deeds are the Reason of this #earthquake M...</td>\n",
              "      <td>13.0</td>\n",
              "      <td>NaN</td>\n",
              "    </tr>\n",
              "    <tr>\n",
              "      <th>2</th>\n",
              "      <td>778243825</td>\n",
              "      <td>True</td>\n",
              "      <td>golden</td>\n",
              "      <td>137</td>\n",
              "      <td>NaN</td>\n",
              "      <td>Relevant</td>\n",
              "      <td>1.0000</td>\n",
              "      <td>Relevant</td>\n",
              "      <td>NaN</td>\n",
              "      <td>NaN</td>\n",
              "      <td>Heard about #earthquake is different cities, s...</td>\n",
              "      <td>14.0</td>\n",
              "      <td>NaN</td>\n",
              "    </tr>\n",
              "    <tr>\n",
              "      <th>3</th>\n",
              "      <td>778243826</td>\n",
              "      <td>True</td>\n",
              "      <td>golden</td>\n",
              "      <td>136</td>\n",
              "      <td>NaN</td>\n",
              "      <td>Relevant</td>\n",
              "      <td>0.9603</td>\n",
              "      <td>Relevant</td>\n",
              "      <td>NaN</td>\n",
              "      <td>NaN</td>\n",
              "      <td>there is a forest fire at spot pond, geese are...</td>\n",
              "      <td>15.0</td>\n",
              "      <td>NaN</td>\n",
              "    </tr>\n",
              "    <tr>\n",
              "      <th>4</th>\n",
              "      <td>778243827</td>\n",
              "      <td>True</td>\n",
              "      <td>golden</td>\n",
              "      <td>138</td>\n",
              "      <td>NaN</td>\n",
              "      <td>Relevant</td>\n",
              "      <td>1.0000</td>\n",
              "      <td>Relevant</td>\n",
              "      <td>NaN</td>\n",
              "      <td>NaN</td>\n",
              "      <td>Forest fire near La Ronge Sask. Canada</td>\n",
              "      <td>16.0</td>\n",
              "      <td>NaN</td>\n",
              "    </tr>\n",
              "  </tbody>\n",
              "</table>\n",
              "</div>\n",
              "      <button class=\"colab-df-convert\" onclick=\"convertToInteractive('df-2c05a875-4334-45df-a82e-d32d49bfbeed')\"\n",
              "              title=\"Convert this dataframe to an interactive table.\"\n",
              "              style=\"display:none;\">\n",
              "        \n",
              "  <svg xmlns=\"http://www.w3.org/2000/svg\" height=\"24px\"viewBox=\"0 0 24 24\"\n",
              "       width=\"24px\">\n",
              "    <path d=\"M0 0h24v24H0V0z\" fill=\"none\"/>\n",
              "    <path d=\"M18.56 5.44l.94 2.06.94-2.06 2.06-.94-2.06-.94-.94-2.06-.94 2.06-2.06.94zm-11 1L8.5 8.5l.94-2.06 2.06-.94-2.06-.94L8.5 2.5l-.94 2.06-2.06.94zm10 10l.94 2.06.94-2.06 2.06-.94-2.06-.94-.94-2.06-.94 2.06-2.06.94z\"/><path d=\"M17.41 7.96l-1.37-1.37c-.4-.4-.92-.59-1.43-.59-.52 0-1.04.2-1.43.59L10.3 9.45l-7.72 7.72c-.78.78-.78 2.05 0 2.83L4 21.41c.39.39.9.59 1.41.59.51 0 1.02-.2 1.41-.59l7.78-7.78 2.81-2.81c.8-.78.8-2.07 0-2.86zM5.41 20L4 18.59l7.72-7.72 1.47 1.35L5.41 20z\"/>\n",
              "  </svg>\n",
              "      </button>\n",
              "      \n",
              "  <style>\n",
              "    .colab-df-container {\n",
              "      display:flex;\n",
              "      flex-wrap:wrap;\n",
              "      gap: 12px;\n",
              "    }\n",
              "\n",
              "    .colab-df-convert {\n",
              "      background-color: #E8F0FE;\n",
              "      border: none;\n",
              "      border-radius: 50%;\n",
              "      cursor: pointer;\n",
              "      display: none;\n",
              "      fill: #1967D2;\n",
              "      height: 32px;\n",
              "      padding: 0 0 0 0;\n",
              "      width: 32px;\n",
              "    }\n",
              "\n",
              "    .colab-df-convert:hover {\n",
              "      background-color: #E2EBFA;\n",
              "      box-shadow: 0px 1px 2px rgba(60, 64, 67, 0.3), 0px 1px 3px 1px rgba(60, 64, 67, 0.15);\n",
              "      fill: #174EA6;\n",
              "    }\n",
              "\n",
              "    [theme=dark] .colab-df-convert {\n",
              "      background-color: #3B4455;\n",
              "      fill: #D2E3FC;\n",
              "    }\n",
              "\n",
              "    [theme=dark] .colab-df-convert:hover {\n",
              "      background-color: #434B5C;\n",
              "      box-shadow: 0px 1px 3px 1px rgba(0, 0, 0, 0.15);\n",
              "      filter: drop-shadow(0px 1px 2px rgba(0, 0, 0, 0.3));\n",
              "      fill: #FFFFFF;\n",
              "    }\n",
              "  </style>\n",
              "\n",
              "      <script>\n",
              "        const buttonEl =\n",
              "          document.querySelector('#df-2c05a875-4334-45df-a82e-d32d49bfbeed button.colab-df-convert');\n",
              "        buttonEl.style.display =\n",
              "          google.colab.kernel.accessAllowed ? 'block' : 'none';\n",
              "\n",
              "        async function convertToInteractive(key) {\n",
              "          const element = document.querySelector('#df-2c05a875-4334-45df-a82e-d32d49bfbeed');\n",
              "          const dataTable =\n",
              "            await google.colab.kernel.invokeFunction('convertToInteractive',\n",
              "                                                     [key], {});\n",
              "          if (!dataTable) return;\n",
              "\n",
              "          const docLinkHtml = 'Like what you see? Visit the ' +\n",
              "            '<a target=\"_blank\" href=https://colab.research.google.com/notebooks/data_table.ipynb>data table notebook</a>'\n",
              "            + ' to learn more about interactive tables.';\n",
              "          element.innerHTML = '';\n",
              "          dataTable['output_type'] = 'display_data';\n",
              "          await google.colab.output.renderOutput(dataTable, element);\n",
              "          const docLink = document.createElement('div');\n",
              "          docLink.innerHTML = docLinkHtml;\n",
              "          element.appendChild(docLink);\n",
              "        }\n",
              "      </script>\n",
              "    </div>\n",
              "  </div>\n",
              "  "
            ]
          },
          "metadata": {},
          "execution_count": 4
        }
      ]
    },
    {
      "cell_type": "markdown",
      "source": [
        "Based in data sample, i think the `choose_one`, `choose_one:confidence`, `choosen_one_gold`, `text` and `tweetid` are important for the analysis; i need to check if my hypothesis is true.\n",
        "\n",
        "---\n",
        "\n"
      ],
      "metadata": {
        "id": "v5PlpiI0Bmsc"
      }
    },
    {
      "cell_type": "markdown",
      "source": [
        "# Checking the mentioned features are relevant or not"
      ],
      "metadata": {
        "id": "-bOex6QDBmy0"
      }
    },
    {
      "cell_type": "markdown",
      "source": [
        "### **`Choose_one` field**"
      ],
      "metadata": {
        "id": "AfrImXD-FX7T"
      }
    },
    {
      "cell_type": "code",
      "source": [
        "disaster_db_df['choose_one'].value_counts()"
      ],
      "metadata": {
        "colab": {
          "base_uri": "https://localhost:8080/"
        },
        "id": "6SGIQ0ItCSmt",
        "outputId": "20ccd257-e356-40f1-e9a5-d27fcbac18ea"
      },
      "execution_count": 5,
      "outputs": [
        {
          "output_type": "execute_result",
          "data": {
            "text/plain": [
              "Not Relevant    6187\n",
              "Relevant        4673\n",
              "Can't Decide      16\n",
              "Name: choose_one, dtype: int64"
            ]
          },
          "metadata": {},
          "execution_count": 5
        }
      ]
    },
    {
      "cell_type": "code",
      "source": [
        "disaster_db_df['choose_one'].isnull().value_counts()"
      ],
      "metadata": {
        "colab": {
          "base_uri": "https://localhost:8080/"
        },
        "id": "hHz7cU6EFQum",
        "outputId": "927717db-80ba-473c-e175-8c1822f10619"
      },
      "execution_count": 6,
      "outputs": [
        {
          "output_type": "execute_result",
          "data": {
            "text/plain": [
              "False    10876\n",
              "Name: choose_one, dtype: int64"
            ]
          },
          "metadata": {},
          "execution_count": 6
        }
      ]
    },
    {
      "cell_type": "markdown",
      "source": [
        "That's ready to use ✅"
      ],
      "metadata": {
        "id": "SfCUrZrVFk-a"
      }
    },
    {
      "cell_type": "markdown",
      "source": [
        "### **`choose_one_gold` field**"
      ],
      "metadata": {
        "id": "IB1Jw1MPFhqk"
      }
    },
    {
      "cell_type": "code",
      "source": [
        "disaster_db_df['choose_one_gold'].value_counts()"
      ],
      "metadata": {
        "colab": {
          "base_uri": "https://localhost:8080/"
        },
        "id": "hjIOTaH1Es1l",
        "outputId": "6679da9a-327a-4aa3-d753-28b810da982f"
      },
      "execution_count": 7,
      "outputs": [
        {
          "output_type": "execute_result",
          "data": {
            "text/plain": [
              "Relevant                      57\n",
              "Not Relevant                  24\n",
              "Relevant\\nCan't Decide         4\n",
              "Not Relevant\\nCan't Decide     2\n",
              "Name: choose_one_gold, dtype: int64"
            ]
          },
          "metadata": {},
          "execution_count": 7
        }
      ]
    },
    {
      "cell_type": "code",
      "source": [
        "disaster_db_df['choose_one_gold'].isnull().value_counts()"
      ],
      "metadata": {
        "colab": {
          "base_uri": "https://localhost:8080/"
        },
        "id": "GcfbcJuRE02i",
        "outputId": "d6c54c9c-9aed-4fd5-ef4c-57ca0993e6d2"
      },
      "execution_count": 8,
      "outputs": [
        {
          "output_type": "execute_result",
          "data": {
            "text/plain": [
              "True     10789\n",
              "False       87\n",
              "Name: choose_one_gold, dtype: int64"
            ]
          },
          "metadata": {},
          "execution_count": 8
        }
      ]
    },
    {
      "cell_type": "markdown",
      "source": [
        "***QUESTION #1: Can i replace it with `choose_one` field?***"
      ],
      "metadata": {
        "id": "jqmZIye-ImIt"
      }
    },
    {
      "cell_type": "code",
      "source": [
        "disaster_db_df.replace(np.nan, None)\n",
        "disaster_db_df[\"choose_one_gold_v2\"] = disaster_db_df[\"choose_one_gold\"].apply(\n",
        "    lambda x: x.split(\"\\n\")[-1] if type(x) is str else None\n",
        ")\n",
        "disaster_db_df[\"choose_one_gold_v2\"].value_counts()"
      ],
      "metadata": {
        "colab": {
          "base_uri": "https://localhost:8080/"
        },
        "id": "iZ9izr4CGSA5",
        "outputId": "8e82cf7a-78e0-451d-f8b6-b46cdba74f01"
      },
      "execution_count": 9,
      "outputs": [
        {
          "output_type": "execute_result",
          "data": {
            "text/plain": [
              "Relevant        57\n",
              "Not Relevant    24\n",
              "Can't Decide     6\n",
              "Name: choose_one_gold_v2, dtype: int64"
            ]
          },
          "metadata": {},
          "execution_count": 9
        }
      ]
    },
    {
      "cell_type": "code",
      "source": [
        "disaster_db_df[\"is_choose_one_gold_with_choose_one\"] = disaster_db_df.apply( \n",
        "    lambda x: True if x[\"choose_one_gold_v2\"] == x[\"choose_one_gold\"] else False, \n",
        "    axis=1\n",
        "  )\n",
        "selected_choose_one_gold_df = disaster_db_df[ disaster_db_df[\"choose_one_gold_v2\"].isin([\"Relevant\", \"Not Relevant\", \"Can't Decide\"])]\n",
        "selected_choose_one_gold_df[\"is_choose_one_gold_with_choose_one\"].value_counts()"
      ],
      "metadata": {
        "colab": {
          "base_uri": "https://localhost:8080/"
        },
        "id": "eKay5gbII-Zl",
        "outputId": "d4dfe8b4-de8c-4619-e13e-c271ca25a9a7"
      },
      "execution_count": 10,
      "outputs": [
        {
          "output_type": "execute_result",
          "data": {
            "text/plain": [
              "True     81\n",
              "False     6\n",
              "Name: is_choose_one_gold_with_choose_one, dtype: int64"
            ]
          },
          "metadata": {},
          "execution_count": 10
        }
      ]
    },
    {
      "cell_type": "code",
      "source": [
        "selected_choose_one_gold_df = selected_choose_one_gold_df[selected_choose_one_gold_df[\"is_choose_one_gold_with_choose_one\"].isin([False])]\n",
        "selected_choose_one_gold_df[[\"choose_one_gold_v2\", \"choose_one\", \"choose_one_gold\", \"is_choose_one_gold_with_choose_one\"]]"
      ],
      "metadata": {
        "colab": {
          "base_uri": "https://localhost:8080/",
          "height": 238
        },
        "id": "vOcY6Y6BNSQu",
        "outputId": "c5e3ec39-7655-45dd-f0fd-f4e5d4169063"
      },
      "execution_count": 11,
      "outputs": [
        {
          "output_type": "execute_result",
          "data": {
            "text/plain": [
              "   choose_one_gold_v2    choose_one             choose_one_gold  \\\n",
              "9        Can't Decide      Relevant      Relevant\\nCan't Decide   \n",
              "13       Can't Decide      Relevant      Relevant\\nCan't Decide   \n",
              "15       Can't Decide      Relevant      Relevant\\nCan't Decide   \n",
              "19       Can't Decide      Relevant      Relevant\\nCan't Decide   \n",
              "42       Can't Decide  Not Relevant  Not Relevant\\nCan't Decide   \n",
              "44       Can't Decide  Not Relevant  Not Relevant\\nCan't Decide   \n",
              "\n",
              "    is_choose_one_gold_with_choose_one  \n",
              "9                                False  \n",
              "13                               False  \n",
              "15                               False  \n",
              "19                               False  \n",
              "42                               False  \n",
              "44                               False  "
            ],
            "text/html": [
              "\n",
              "  <div id=\"df-3c7c5e58-0808-4320-bd95-e9b35f777d72\">\n",
              "    <div class=\"colab-df-container\">\n",
              "      <div>\n",
              "<style scoped>\n",
              "    .dataframe tbody tr th:only-of-type {\n",
              "        vertical-align: middle;\n",
              "    }\n",
              "\n",
              "    .dataframe tbody tr th {\n",
              "        vertical-align: top;\n",
              "    }\n",
              "\n",
              "    .dataframe thead th {\n",
              "        text-align: right;\n",
              "    }\n",
              "</style>\n",
              "<table border=\"1\" class=\"dataframe\">\n",
              "  <thead>\n",
              "    <tr style=\"text-align: right;\">\n",
              "      <th></th>\n",
              "      <th>choose_one_gold_v2</th>\n",
              "      <th>choose_one</th>\n",
              "      <th>choose_one_gold</th>\n",
              "      <th>is_choose_one_gold_with_choose_one</th>\n",
              "    </tr>\n",
              "  </thead>\n",
              "  <tbody>\n",
              "    <tr>\n",
              "      <th>9</th>\n",
              "      <td>Can't Decide</td>\n",
              "      <td>Relevant</td>\n",
              "      <td>Relevant\\nCan't Decide</td>\n",
              "      <td>False</td>\n",
              "    </tr>\n",
              "    <tr>\n",
              "      <th>13</th>\n",
              "      <td>Can't Decide</td>\n",
              "      <td>Relevant</td>\n",
              "      <td>Relevant\\nCan't Decide</td>\n",
              "      <td>False</td>\n",
              "    </tr>\n",
              "    <tr>\n",
              "      <th>15</th>\n",
              "      <td>Can't Decide</td>\n",
              "      <td>Relevant</td>\n",
              "      <td>Relevant\\nCan't Decide</td>\n",
              "      <td>False</td>\n",
              "    </tr>\n",
              "    <tr>\n",
              "      <th>19</th>\n",
              "      <td>Can't Decide</td>\n",
              "      <td>Relevant</td>\n",
              "      <td>Relevant\\nCan't Decide</td>\n",
              "      <td>False</td>\n",
              "    </tr>\n",
              "    <tr>\n",
              "      <th>42</th>\n",
              "      <td>Can't Decide</td>\n",
              "      <td>Not Relevant</td>\n",
              "      <td>Not Relevant\\nCan't Decide</td>\n",
              "      <td>False</td>\n",
              "    </tr>\n",
              "    <tr>\n",
              "      <th>44</th>\n",
              "      <td>Can't Decide</td>\n",
              "      <td>Not Relevant</td>\n",
              "      <td>Not Relevant\\nCan't Decide</td>\n",
              "      <td>False</td>\n",
              "    </tr>\n",
              "  </tbody>\n",
              "</table>\n",
              "</div>\n",
              "      <button class=\"colab-df-convert\" onclick=\"convertToInteractive('df-3c7c5e58-0808-4320-bd95-e9b35f777d72')\"\n",
              "              title=\"Convert this dataframe to an interactive table.\"\n",
              "              style=\"display:none;\">\n",
              "        \n",
              "  <svg xmlns=\"http://www.w3.org/2000/svg\" height=\"24px\"viewBox=\"0 0 24 24\"\n",
              "       width=\"24px\">\n",
              "    <path d=\"M0 0h24v24H0V0z\" fill=\"none\"/>\n",
              "    <path d=\"M18.56 5.44l.94 2.06.94-2.06 2.06-.94-2.06-.94-.94-2.06-.94 2.06-2.06.94zm-11 1L8.5 8.5l.94-2.06 2.06-.94-2.06-.94L8.5 2.5l-.94 2.06-2.06.94zm10 10l.94 2.06.94-2.06 2.06-.94-2.06-.94-.94-2.06-.94 2.06-2.06.94z\"/><path d=\"M17.41 7.96l-1.37-1.37c-.4-.4-.92-.59-1.43-.59-.52 0-1.04.2-1.43.59L10.3 9.45l-7.72 7.72c-.78.78-.78 2.05 0 2.83L4 21.41c.39.39.9.59 1.41.59.51 0 1.02-.2 1.41-.59l7.78-7.78 2.81-2.81c.8-.78.8-2.07 0-2.86zM5.41 20L4 18.59l7.72-7.72 1.47 1.35L5.41 20z\"/>\n",
              "  </svg>\n",
              "      </button>\n",
              "      \n",
              "  <style>\n",
              "    .colab-df-container {\n",
              "      display:flex;\n",
              "      flex-wrap:wrap;\n",
              "      gap: 12px;\n",
              "    }\n",
              "\n",
              "    .colab-df-convert {\n",
              "      background-color: #E8F0FE;\n",
              "      border: none;\n",
              "      border-radius: 50%;\n",
              "      cursor: pointer;\n",
              "      display: none;\n",
              "      fill: #1967D2;\n",
              "      height: 32px;\n",
              "      padding: 0 0 0 0;\n",
              "      width: 32px;\n",
              "    }\n",
              "\n",
              "    .colab-df-convert:hover {\n",
              "      background-color: #E2EBFA;\n",
              "      box-shadow: 0px 1px 2px rgba(60, 64, 67, 0.3), 0px 1px 3px 1px rgba(60, 64, 67, 0.15);\n",
              "      fill: #174EA6;\n",
              "    }\n",
              "\n",
              "    [theme=dark] .colab-df-convert {\n",
              "      background-color: #3B4455;\n",
              "      fill: #D2E3FC;\n",
              "    }\n",
              "\n",
              "    [theme=dark] .colab-df-convert:hover {\n",
              "      background-color: #434B5C;\n",
              "      box-shadow: 0px 1px 3px 1px rgba(0, 0, 0, 0.15);\n",
              "      filter: drop-shadow(0px 1px 2px rgba(0, 0, 0, 0.3));\n",
              "      fill: #FFFFFF;\n",
              "    }\n",
              "  </style>\n",
              "\n",
              "      <script>\n",
              "        const buttonEl =\n",
              "          document.querySelector('#df-3c7c5e58-0808-4320-bd95-e9b35f777d72 button.colab-df-convert');\n",
              "        buttonEl.style.display =\n",
              "          google.colab.kernel.accessAllowed ? 'block' : 'none';\n",
              "\n",
              "        async function convertToInteractive(key) {\n",
              "          const element = document.querySelector('#df-3c7c5e58-0808-4320-bd95-e9b35f777d72');\n",
              "          const dataTable =\n",
              "            await google.colab.kernel.invokeFunction('convertToInteractive',\n",
              "                                                     [key], {});\n",
              "          if (!dataTable) return;\n",
              "\n",
              "          const docLinkHtml = 'Like what you see? Visit the ' +\n",
              "            '<a target=\"_blank\" href=https://colab.research.google.com/notebooks/data_table.ipynb>data table notebook</a>'\n",
              "            + ' to learn more about interactive tables.';\n",
              "          element.innerHTML = '';\n",
              "          dataTable['output_type'] = 'display_data';\n",
              "          await google.colab.output.renderOutput(dataTable, element);\n",
              "          const docLink = document.createElement('div');\n",
              "          docLink.innerHTML = docLinkHtml;\n",
              "          element.appendChild(docLink);\n",
              "        }\n",
              "      </script>\n",
              "    </div>\n",
              "  </div>\n",
              "  "
            ]
          },
          "metadata": {},
          "execution_count": 11
        }
      ]
    },
    {
      "cell_type": "markdown",
      "source": [
        "In previous table, i see that all non-null value of `choose_one_gold` field are same with `choose_one` field.\n",
        "\n",
        "Ok, i ***won't use this field*** because it have several null value and i have more value from `choose_one` ❌"
      ],
      "metadata": {
        "id": "lj9vCy60FzLK"
      }
    },
    {
      "cell_type": "markdown",
      "source": [
        "### **`choose_one:confidence` field**"
      ],
      "metadata": {
        "id": "SpAr1nOkHkrD"
      }
    },
    {
      "cell_type": "code",
      "source": [
        "disaster_db_df['choose_one:confidence'].isnull().value_counts()"
      ],
      "metadata": {
        "colab": {
          "base_uri": "https://localhost:8080/"
        },
        "id": "GXFAsKLhkkv2",
        "outputId": "bffdcd47-e016-4d79-c875-a90b840b061a"
      },
      "execution_count": 12,
      "outputs": [
        {
          "output_type": "execute_result",
          "data": {
            "text/plain": [
              "False    10876\n",
              "Name: choose_one:confidence, dtype: int64"
            ]
          },
          "metadata": {},
          "execution_count": 12
        }
      ]
    },
    {
      "cell_type": "code",
      "source": [
        "def assign_range_value(x):\n",
        "  if 0.0 < x <= 0.5: return \"0.0 - 0.5\"\n",
        "  elif 0.5 < x <= 0.75: return \"0.5 - 0.75\"\n",
        "  elif 0.75 < x < 0.9: return \"0.75 - 0.9\"\n",
        "  elif 0.9 < x <= 1.0: return \"0.9 - 1.0\"\n",
        "  else: return \"> 1.0\"\n",
        "\n",
        "disaster_db_df[\"range_confidence\"] = disaster_db_df[\"choose_one:confidence\"].apply(lambda x: assign_range_value(x))\n",
        "disaster_db_df['range_confidence'].value_counts()"
      ],
      "metadata": {
        "colab": {
          "base_uri": "https://localhost:8080/"
        },
        "id": "kn9H4m95ktjo",
        "outputId": "39f452e5-fae8-453b-fe00-287997c90da2"
      },
      "execution_count": 13,
      "outputs": [
        {
          "output_type": "execute_result",
          "data": {
            "text/plain": [
              "0.9 - 1.0     5066\n",
              "0.75 - 0.9    3075\n",
              "0.5 - 0.75    2597\n",
              "0.0 - 0.5      138\n",
              "Name: range_confidence, dtype: int64"
            ]
          },
          "metadata": {},
          "execution_count": 13
        }
      ]
    },
    {
      "cell_type": "markdown",
      "source": [
        "i can see that 74.85% of tweets are trustworthy in with its value: That's good 😀. But the question is: **How is thise proportion is distribuite over `choosen_one` field?**"
      ],
      "metadata": {
        "id": "zK7nbrw4msv_"
      }
    },
    {
      "cell_type": "code",
      "source": [
        "Relevant_group_df = disaster_db_df[disaster_db_df[\"choose_one\"] == \"Relevant\"]\n",
        "Relevant_group_df['range_confidence'].value_counts()"
      ],
      "metadata": {
        "colab": {
          "base_uri": "https://localhost:8080/"
        },
        "id": "PkwkvaNlnqzX",
        "outputId": "4f27897a-85b5-4d5a-def3-f7a407edad5e"
      },
      "execution_count": 14,
      "outputs": [
        {
          "output_type": "execute_result",
          "data": {
            "text/plain": [
              "0.9 - 1.0     2273\n",
              "0.75 - 0.9    1172\n",
              "0.5 - 0.75    1148\n",
              "0.0 - 0.5       80\n",
              "Name: range_confidence, dtype: int64"
            ]
          },
          "metadata": {},
          "execution_count": 14
        }
      ]
    },
    {
      "cell_type": "code",
      "source": [
        "Relevant_group_df = disaster_db_df[disaster_db_df[\"choose_one\"] == \"Not Relevant\"]\n",
        "Relevant_group_df['range_confidence'].value_counts()"
      ],
      "metadata": {
        "colab": {
          "base_uri": "https://localhost:8080/"
        },
        "id": "pmqNlIR7qlsn",
        "outputId": "dbdc33d4-d8fe-4fca-b9d4-58b8f2113250"
      },
      "execution_count": 15,
      "outputs": [
        {
          "output_type": "execute_result",
          "data": {
            "text/plain": [
              "0.9 - 1.0     2793\n",
              "0.75 - 0.9    1903\n",
              "0.5 - 0.75    1445\n",
              "0.0 - 0.5       46\n",
              "Name: range_confidence, dtype: int64"
            ]
          },
          "metadata": {},
          "execution_count": 15
        }
      ]
    },
    {
      "cell_type": "code",
      "source": [
        "Relevant_group_df = disaster_db_df[disaster_db_df[\"choose_one\"] == \"Can't Decide\"]\n",
        "Relevant_group_df['range_confidence'].value_counts()"
      ],
      "metadata": {
        "colab": {
          "base_uri": "https://localhost:8080/"
        },
        "id": "Ais4LOLNqqFW",
        "outputId": "f0d90a81-c29e-4236-ff92-31098e2a1d99"
      },
      "execution_count": 16,
      "outputs": [
        {
          "output_type": "execute_result",
          "data": {
            "text/plain": [
              "0.0 - 0.5     12\n",
              "0.5 - 0.75     4\n",
              "Name: range_confidence, dtype: int64"
            ]
          },
          "metadata": {},
          "execution_count": 16
        }
      ]
    },
    {
      "cell_type": "markdown",
      "source": [
        "⚡ **Idea**: I can see the `Can't Decide` value in `choose_one` field is irrelevant for the amount, but i see that `0.5-0.75` range of other values of `choose_one` field can be renamed in `Can't Decide` value to get more amount: from 16 to 2609; that's good comparing other group amount 4.696(`Not Relevant`) and 3445(`Relevant`)."
      ],
      "metadata": {
        "id": "BEsKrY6ytj3-"
      }
    },
    {
      "cell_type": "markdown",
      "source": [
        "I won't use any value from `choose_one` field with `0.0-5.0` range because these values are irrelevant: they are not trustworthy."
      ],
      "metadata": {
        "id": "UBFWIEaewZGo"
      }
    },
    {
      "cell_type": "markdown",
      "source": [
        "### **`tweetid` and `text` fields**"
      ],
      "metadata": {
        "id": "kg5uXkuCxAuP"
      }
    },
    {
      "cell_type": "code",
      "source": [
        "disaster_db_df['tweetid'].isnull().value_counts()"
      ],
      "metadata": {
        "colab": {
          "base_uri": "https://localhost:8080/"
        },
        "id": "mK3l3qwDxGVD",
        "outputId": "710d5eac-2f57-488d-9300-e97d9b5630f5"
      },
      "execution_count": 17,
      "outputs": [
        {
          "output_type": "execute_result",
          "data": {
            "text/plain": [
              "False    10876\n",
              "Name: tweetid, dtype: int64"
            ]
          },
          "metadata": {},
          "execution_count": 17
        }
      ]
    },
    {
      "cell_type": "code",
      "source": [
        "disaster_db_df.astype({'tweetid': 'str'}).dtypes"
      ],
      "metadata": {
        "colab": {
          "base_uri": "https://localhost:8080/"
        },
        "id": "jQe9MwfO5GNO",
        "outputId": "8cc4e8ae-c737-4bce-e14a-7d3fd764c71c"
      },
      "execution_count": 18,
      "outputs": [
        {
          "output_type": "execute_result",
          "data": {
            "text/plain": [
              "_unit_id                                int64\n",
              "_golden                                  bool\n",
              "_unit_state                            object\n",
              "_trusted_judgments                      int64\n",
              "_last_judgment_at                      object\n",
              "choose_one                             object\n",
              "choose_one:confidence                 float64\n",
              "choose_one_gold                        object\n",
              "keyword                                object\n",
              "location                               object\n",
              "text                                   object\n",
              "tweetid                                object\n",
              "userid                                float64\n",
              "choose_one_gold_v2                     object\n",
              "is_choose_one_gold_with_choose_one       bool\n",
              "range_confidence                       object\n",
              "dtype: object"
            ]
          },
          "metadata": {},
          "execution_count": 18
        }
      ]
    },
    {
      "cell_type": "code",
      "source": [
        "unique_tweet_id = set(disaster_db_df['tweetid'])\n",
        "list_tweet_id = list(disaster_db_df['tweetid'])\n",
        "print(\"unique value are %s from %s\" % (len(unique_tweet_id), len(list_tweet_id)))"
      ],
      "metadata": {
        "colab": {
          "base_uri": "https://localhost:8080/"
        },
        "id": "nt-_PfJJ1ZiA",
        "outputId": "8a3a1970-eabb-411c-c283-c4290c0934d1"
      },
      "execution_count": 19,
      "outputs": [
        {
          "output_type": "stream",
          "name": "stdout",
          "text": [
            "unique value are 1243 from 10876\n"
          ]
        }
      ]
    },
    {
      "cell_type": "code",
      "source": [
        "disaster_db_df['tweetid'].value_counts()"
      ],
      "metadata": {
        "colab": {
          "base_uri": "https://localhost:8080/"
        },
        "id": "U4bCQorTESzd",
        "outputId": "a1c0b6b0-ae6d-4826-818c-6a74a0d42796"
      },
      "execution_count": 20,
      "outputs": [
        {
          "output_type": "execute_result",
          "data": {
            "text/plain": [
              "6.290840e+17    197\n",
              "6.290830e+17    190\n",
              "6.290990e+17    166\n",
              "6.290800e+17    157\n",
              "6.290820e+17    152\n",
              "               ... \n",
              "6.260600e+17      1\n",
              "6.260750e+17      1\n",
              "6.262370e+17      1\n",
              "6.276670e+17      1\n",
              "6.585000e+03      1\n",
              "Name: tweetid, Length: 1243, dtype: int64"
            ]
          },
          "metadata": {},
          "execution_count": 20
        }
      ]
    },
    {
      "cell_type": "code",
      "source": [
        "disaster_db_df[\"is_tweet_id_duplicated\"] = disaster_db_df.duplicated(subset=['tweetid'])\n",
        "duplicated_tweetit_db_df = disaster_db_df[disaster_db_df[\"is_tweet_id_duplicated\"] == True]\n",
        "duplicated_tweetit_db_df.sort_values(by = 'tweetid', inplace=True)\n",
        "duplicated_tweetit_db_df[[\"tweetid\", \"text\"]].head(20)"
      ],
      "metadata": {
        "colab": {
          "base_uri": "https://localhost:8080/",
          "height": 624
        },
        "id": "yUf4agF027JZ",
        "outputId": "e781f263-8b35-4f47-ea78-b37aa7e30808"
      },
      "execution_count": 21,
      "outputs": [
        {
          "output_type": "stream",
          "name": "stderr",
          "text": [
            "<ipython-input-21-2d003273006d>:3: SettingWithCopyWarning: \n",
            "A value is trying to be set on a copy of a slice from a DataFrame\n",
            "\n",
            "See the caveats in the documentation: https://pandas.pydata.org/pandas-docs/stable/user_guide/indexing.html#returning-a-view-versus-a-copy\n",
            "  duplicated_tweetit_db_df.sort_values(by = 'tweetid', inplace=True)\n"
          ]
        },
        {
          "output_type": "execute_result",
          "data": {
            "text/plain": [
              "            tweetid                                               text\n",
              "10872  4.234000e+03  Police investigating after an e-bike collided ...\n",
              "9066   6.260620e+17  Investigators say a fatal Virgin Galactic spac...\n",
              "9076   6.260620e+17  #BBCLive Investigators say a fatal Virgin Gala...\n",
              "9083   6.260630e+17  Investigators say a fatal Virgin Galactic spac...\n",
              "9048   6.260650e+17  Investigators say a fatal Virgin Galactic spac...\n",
              "1962   6.260760e+17  Schools in Western Uganda still Burning down B...\n",
              "9047   6.260760e+17  Virgin galactic crash: early unlocking of brak...\n",
              "9065   6.260760e+17  Virgin galactic crash: early unlocking of brak...\n",
              "9049   6.260890e+17  Investigators rule catastrophic structural fai...\n",
              "9089   6.260900e+17  NTSB: Virgin Galactic crash caused by structur...\n",
              "9055   6.261100e+17  @SirTitan45  Mega mood swing on a 24 hr schedu...\n",
              "1439   6.263870e+17  Idgaf who tough or who from Canada and who fro...\n",
              "2216   6.264270e+17  THE CHEMICAL BROTHERS to play The Armory in SF...\n",
              "1938   6.264330e+17  forestservice : RT dhsscitech: #Firefighters r...\n",
              "1941   6.265280e+17  @themagickidraps not upset with a rally upset ...\n",
              "868    6.265380e+17  #BreakingNews http://t.co/gAN14PW9TG FedEx no ...\n",
              "1965   6.265400e+17  'i never understood guys who wanted to run int...\n",
              "1469   6.265430e+17  We need to stop paying attention to @drizzy bo...\n",
              "869    6.265440e+17  FedEx no longer to transport bioterror germs i...\n",
              "840    6.265600e+17  FedEx to stop transporting bioterror germs aft..."
            ],
            "text/html": [
              "\n",
              "  <div id=\"df-d7af8817-80b2-49a9-86ee-4be88c726770\">\n",
              "    <div class=\"colab-df-container\">\n",
              "      <div>\n",
              "<style scoped>\n",
              "    .dataframe tbody tr th:only-of-type {\n",
              "        vertical-align: middle;\n",
              "    }\n",
              "\n",
              "    .dataframe tbody tr th {\n",
              "        vertical-align: top;\n",
              "    }\n",
              "\n",
              "    .dataframe thead th {\n",
              "        text-align: right;\n",
              "    }\n",
              "</style>\n",
              "<table border=\"1\" class=\"dataframe\">\n",
              "  <thead>\n",
              "    <tr style=\"text-align: right;\">\n",
              "      <th></th>\n",
              "      <th>tweetid</th>\n",
              "      <th>text</th>\n",
              "    </tr>\n",
              "  </thead>\n",
              "  <tbody>\n",
              "    <tr>\n",
              "      <th>10872</th>\n",
              "      <td>4.234000e+03</td>\n",
              "      <td>Police investigating after an e-bike collided ...</td>\n",
              "    </tr>\n",
              "    <tr>\n",
              "      <th>9066</th>\n",
              "      <td>6.260620e+17</td>\n",
              "      <td>Investigators say a fatal Virgin Galactic spac...</td>\n",
              "    </tr>\n",
              "    <tr>\n",
              "      <th>9076</th>\n",
              "      <td>6.260620e+17</td>\n",
              "      <td>#BBCLive Investigators say a fatal Virgin Gala...</td>\n",
              "    </tr>\n",
              "    <tr>\n",
              "      <th>9083</th>\n",
              "      <td>6.260630e+17</td>\n",
              "      <td>Investigators say a fatal Virgin Galactic spac...</td>\n",
              "    </tr>\n",
              "    <tr>\n",
              "      <th>9048</th>\n",
              "      <td>6.260650e+17</td>\n",
              "      <td>Investigators say a fatal Virgin Galactic spac...</td>\n",
              "    </tr>\n",
              "    <tr>\n",
              "      <th>1962</th>\n",
              "      <td>6.260760e+17</td>\n",
              "      <td>Schools in Western Uganda still Burning down B...</td>\n",
              "    </tr>\n",
              "    <tr>\n",
              "      <th>9047</th>\n",
              "      <td>6.260760e+17</td>\n",
              "      <td>Virgin galactic crash: early unlocking of brak...</td>\n",
              "    </tr>\n",
              "    <tr>\n",
              "      <th>9065</th>\n",
              "      <td>6.260760e+17</td>\n",
              "      <td>Virgin galactic crash: early unlocking of brak...</td>\n",
              "    </tr>\n",
              "    <tr>\n",
              "      <th>9049</th>\n",
              "      <td>6.260890e+17</td>\n",
              "      <td>Investigators rule catastrophic structural fai...</td>\n",
              "    </tr>\n",
              "    <tr>\n",
              "      <th>9089</th>\n",
              "      <td>6.260900e+17</td>\n",
              "      <td>NTSB: Virgin Galactic crash caused by structur...</td>\n",
              "    </tr>\n",
              "    <tr>\n",
              "      <th>9055</th>\n",
              "      <td>6.261100e+17</td>\n",
              "      <td>@SirTitan45  Mega mood swing on a 24 hr schedu...</td>\n",
              "    </tr>\n",
              "    <tr>\n",
              "      <th>1439</th>\n",
              "      <td>6.263870e+17</td>\n",
              "      <td>Idgaf who tough or who from Canada and who fro...</td>\n",
              "    </tr>\n",
              "    <tr>\n",
              "      <th>2216</th>\n",
              "      <td>6.264270e+17</td>\n",
              "      <td>THE CHEMICAL BROTHERS to play The Armory in SF...</td>\n",
              "    </tr>\n",
              "    <tr>\n",
              "      <th>1938</th>\n",
              "      <td>6.264330e+17</td>\n",
              "      <td>forestservice : RT dhsscitech: #Firefighters r...</td>\n",
              "    </tr>\n",
              "    <tr>\n",
              "      <th>1941</th>\n",
              "      <td>6.265280e+17</td>\n",
              "      <td>@themagickidraps not upset with a rally upset ...</td>\n",
              "    </tr>\n",
              "    <tr>\n",
              "      <th>868</th>\n",
              "      <td>6.265380e+17</td>\n",
              "      <td>#BreakingNews http://t.co/gAN14PW9TG FedEx no ...</td>\n",
              "    </tr>\n",
              "    <tr>\n",
              "      <th>1965</th>\n",
              "      <td>6.265400e+17</td>\n",
              "      <td>'i never understood guys who wanted to run int...</td>\n",
              "    </tr>\n",
              "    <tr>\n",
              "      <th>1469</th>\n",
              "      <td>6.265430e+17</td>\n",
              "      <td>We need to stop paying attention to @drizzy bo...</td>\n",
              "    </tr>\n",
              "    <tr>\n",
              "      <th>869</th>\n",
              "      <td>6.265440e+17</td>\n",
              "      <td>FedEx no longer to transport bioterror germs i...</td>\n",
              "    </tr>\n",
              "    <tr>\n",
              "      <th>840</th>\n",
              "      <td>6.265600e+17</td>\n",
              "      <td>FedEx to stop transporting bioterror germs aft...</td>\n",
              "    </tr>\n",
              "  </tbody>\n",
              "</table>\n",
              "</div>\n",
              "      <button class=\"colab-df-convert\" onclick=\"convertToInteractive('df-d7af8817-80b2-49a9-86ee-4be88c726770')\"\n",
              "              title=\"Convert this dataframe to an interactive table.\"\n",
              "              style=\"display:none;\">\n",
              "        \n",
              "  <svg xmlns=\"http://www.w3.org/2000/svg\" height=\"24px\"viewBox=\"0 0 24 24\"\n",
              "       width=\"24px\">\n",
              "    <path d=\"M0 0h24v24H0V0z\" fill=\"none\"/>\n",
              "    <path d=\"M18.56 5.44l.94 2.06.94-2.06 2.06-.94-2.06-.94-.94-2.06-.94 2.06-2.06.94zm-11 1L8.5 8.5l.94-2.06 2.06-.94-2.06-.94L8.5 2.5l-.94 2.06-2.06.94zm10 10l.94 2.06.94-2.06 2.06-.94-2.06-.94-.94-2.06-.94 2.06-2.06.94z\"/><path d=\"M17.41 7.96l-1.37-1.37c-.4-.4-.92-.59-1.43-.59-.52 0-1.04.2-1.43.59L10.3 9.45l-7.72 7.72c-.78.78-.78 2.05 0 2.83L4 21.41c.39.39.9.59 1.41.59.51 0 1.02-.2 1.41-.59l7.78-7.78 2.81-2.81c.8-.78.8-2.07 0-2.86zM5.41 20L4 18.59l7.72-7.72 1.47 1.35L5.41 20z\"/>\n",
              "  </svg>\n",
              "      </button>\n",
              "      \n",
              "  <style>\n",
              "    .colab-df-container {\n",
              "      display:flex;\n",
              "      flex-wrap:wrap;\n",
              "      gap: 12px;\n",
              "    }\n",
              "\n",
              "    .colab-df-convert {\n",
              "      background-color: #E8F0FE;\n",
              "      border: none;\n",
              "      border-radius: 50%;\n",
              "      cursor: pointer;\n",
              "      display: none;\n",
              "      fill: #1967D2;\n",
              "      height: 32px;\n",
              "      padding: 0 0 0 0;\n",
              "      width: 32px;\n",
              "    }\n",
              "\n",
              "    .colab-df-convert:hover {\n",
              "      background-color: #E2EBFA;\n",
              "      box-shadow: 0px 1px 2px rgba(60, 64, 67, 0.3), 0px 1px 3px 1px rgba(60, 64, 67, 0.15);\n",
              "      fill: #174EA6;\n",
              "    }\n",
              "\n",
              "    [theme=dark] .colab-df-convert {\n",
              "      background-color: #3B4455;\n",
              "      fill: #D2E3FC;\n",
              "    }\n",
              "\n",
              "    [theme=dark] .colab-df-convert:hover {\n",
              "      background-color: #434B5C;\n",
              "      box-shadow: 0px 1px 3px 1px rgba(0, 0, 0, 0.15);\n",
              "      filter: drop-shadow(0px 1px 2px rgba(0, 0, 0, 0.3));\n",
              "      fill: #FFFFFF;\n",
              "    }\n",
              "  </style>\n",
              "\n",
              "      <script>\n",
              "        const buttonEl =\n",
              "          document.querySelector('#df-d7af8817-80b2-49a9-86ee-4be88c726770 button.colab-df-convert');\n",
              "        buttonEl.style.display =\n",
              "          google.colab.kernel.accessAllowed ? 'block' : 'none';\n",
              "\n",
              "        async function convertToInteractive(key) {\n",
              "          const element = document.querySelector('#df-d7af8817-80b2-49a9-86ee-4be88c726770');\n",
              "          const dataTable =\n",
              "            await google.colab.kernel.invokeFunction('convertToInteractive',\n",
              "                                                     [key], {});\n",
              "          if (!dataTable) return;\n",
              "\n",
              "          const docLinkHtml = 'Like what you see? Visit the ' +\n",
              "            '<a target=\"_blank\" href=https://colab.research.google.com/notebooks/data_table.ipynb>data table notebook</a>'\n",
              "            + ' to learn more about interactive tables.';\n",
              "          element.innerHTML = '';\n",
              "          dataTable['output_type'] = 'display_data';\n",
              "          await google.colab.output.renderOutput(dataTable, element);\n",
              "          const docLink = document.createElement('div');\n",
              "          docLink.innerHTML = docLinkHtml;\n",
              "          element.appendChild(docLink);\n",
              "        }\n",
              "      </script>\n",
              "    </div>\n",
              "  </div>\n",
              "  "
            ]
          },
          "metadata": {},
          "execution_count": 21
        }
      ]
    },
    {
      "cell_type": "markdown",
      "source": [
        "i can see several points:\n",
        "\n",
        "\n",
        "1.   Case #1 (based on 9083 and 9048 id): i can get difference values from `tweetids` field but same text apparently. \n",
        "2.   Case #2 : i can several duplicated value in `tweetids` field.\n",
        "3.   Case #3 (based on 9076 and  9066) : i can get similar texts but with its differences from same value in `tweetids` field.\n",
        "\n",
        "Based in these points i need to do following 🧰:\n",
        "\n",
        "\n",
        "*   Remove URLs and arrobas.\n",
        "*   Replace hashtag content with non-hashtag version.\n",
        "*   Get the most long length version of text to cover more information.\n",
        "*   Check the distribution of `choose one` field after that, to create a clean dataset (based in the ideas) and the label.\n"
      ],
      "metadata": {
        "id": "esJWjHBKQcZz"
      }
    },
    {
      "cell_type": "markdown",
      "source": [
        "## Create a new and cleaning dataset"
      ],
      "metadata": {
        "id": "6Wxba-OCVl56"
      }
    },
    {
      "cell_type": "markdown",
      "source": [
        "### Remove URLs and arrobas"
      ],
      "metadata": {
        "id": "c_S8Z6xYf3VV"
      }
    },
    {
      "cell_type": "code",
      "source": [
        "def remove_urls(x):\n",
        "  ''' Remove URLs from sentence'''\n",
        "  word_list = x.split(\" \")\n",
        "  word_list = [ \n",
        "      word.lower() for word in word_list \\\n",
        "      if re.search(\"^http(s)*:\\/\\/\", word) is None\n",
        "    ]\n",
        "  return \" \".join(word_list)\n",
        "\n",
        "\n",
        "def remove_arrobas(x):\n",
        "  ''' Remove arrobas from sentence'''\n",
        "  word_list = x.split(\" \")\n",
        "  clean_words = []\n",
        "  for word in word_list:\n",
        "    if re.search(\"^@\", word) is None:\n",
        "      clean_words.append(word.lower())\n",
        "    else:\n",
        "      clean_words.append(\"<user>\")\n",
        "  return \" \".join(clean_words)\n",
        "\n",
        "\n",
        "def abs_remove_urls_and_arroba(*functions):\n",
        "    return reduce(lambda f, g: lambda x: g(f(x)), functions, lambda x: x)\n",
        "\n",
        "remove_urls_and_arroba = abs_remove_urls_and_arroba(remove_arrobas, remove_urls)\n",
        "\n",
        "\n",
        "disaster_db_df[\"text_without_url_and_arroba\"] = disaster_db_df[\"text\"].apply(lambda x: remove_urls_and_arroba(x))\n",
        "clean_step_1_tweetit_db_df = disaster_db_df[disaster_db_df[\"is_tweet_id_duplicated\"] == True]\n",
        "clean_step_1_tweetit_db_df.sort_values(by = 'tweetid', inplace=True)\n",
        "clean_step_1_tweetit_db_df[[\"text_without_url_and_arroba\", \"text\"]].head(20)"
      ],
      "metadata": {
        "colab": {
          "base_uri": "https://localhost:8080/",
          "height": 763
        },
        "id": "rIBnHGIdf6w9",
        "outputId": "d716ad1f-b1db-44b7-9f60-f051cd15be8e"
      },
      "execution_count": 62,
      "outputs": [
        {
          "output_type": "stream",
          "name": "stderr",
          "text": [
            "<ipython-input-62-696b1a8a3de6>:31: SettingWithCopyWarning: \n",
            "A value is trying to be set on a copy of a slice from a DataFrame\n",
            "\n",
            "See the caveats in the documentation: https://pandas.pydata.org/pandas-docs/stable/user_guide/indexing.html#returning-a-view-versus-a-copy\n",
            "  clean_step_1_tweetit_db_df.sort_values(by = 'tweetid', inplace=True)\n"
          ]
        },
        {
          "output_type": "execute_result",
          "data": {
            "text/plain": [
              "                             text_without_url_and_arroba  \\\n",
              "10872  police investigating after an e-bike collided ...   \n",
              "9076   #bbclive investigators say a fatal virgin gala...   \n",
              "9066   investigators say a fatal virgin galactic spac...   \n",
              "9083   investigators say a fatal virgin galactic spac...   \n",
              "9048   investigators say a fatal virgin galactic spac...   \n",
              "9047   virgin galactic crash: early unlocking of brak...   \n",
              "1962   schools in western uganda still burning down b...   \n",
              "9065   virgin galactic crash: early unlocking of brak...   \n",
              "9049   investigators rule catastrophic structural fai...   \n",
              "9089   ntsb: virgin galactic crash caused by structur...   \n",
              "9055   <user>  mega mood swing on a 24 hr schedule. i...   \n",
              "1439   idgaf who tough or who from canada and who fro...   \n",
              "2216   the chemical brothers to play the armory in sf...   \n",
              "1938   forestservice : rt dhsscitech: #firefighters r...   \n",
              "1941   <user> not upset with a rally upset with burni...   \n",
              "868    #breakingnews fedex no longer willing to trans...   \n",
              "1965   'i never understood guys who wanted to run int...   \n",
              "1469   we need to stop paying attention to <user> bod...   \n",
              "869    fedex no longer to transport bioterror germs i...   \n",
              "840    fedex to stop transporting bioterror germs aft...   \n",
              "\n",
              "                                                    text  \n",
              "10872  Police investigating after an e-bike collided ...  \n",
              "9076   #BBCLive Investigators say a fatal Virgin Gala...  \n",
              "9066   Investigators say a fatal Virgin Galactic spac...  \n",
              "9083   Investigators say a fatal Virgin Galactic spac...  \n",
              "9048   Investigators say a fatal Virgin Galactic spac...  \n",
              "9047   Virgin galactic crash: early unlocking of brak...  \n",
              "1962   Schools in Western Uganda still Burning down B...  \n",
              "9065   Virgin galactic crash: early unlocking of brak...  \n",
              "9049   Investigators rule catastrophic structural fai...  \n",
              "9089   NTSB: Virgin Galactic crash caused by structur...  \n",
              "9055   @SirTitan45  Mega mood swing on a 24 hr schedu...  \n",
              "1439   Idgaf who tough or who from Canada and who fro...  \n",
              "2216   THE CHEMICAL BROTHERS to play The Armory in SF...  \n",
              "1938   forestservice : RT dhsscitech: #Firefighters r...  \n",
              "1941   @themagickidraps not upset with a rally upset ...  \n",
              "868    #BreakingNews http://t.co/gAN14PW9TG FedEx no ...  \n",
              "1965   'i never understood guys who wanted to run int...  \n",
              "1469   We need to stop paying attention to @drizzy bo...  \n",
              "869    FedEx no longer to transport bioterror germs i...  \n",
              "840    FedEx to stop transporting bioterror germs aft...  "
            ],
            "text/html": [
              "\n",
              "  <div id=\"df-ca924bda-bccd-4553-a86e-7267e55b57d3\">\n",
              "    <div class=\"colab-df-container\">\n",
              "      <div>\n",
              "<style scoped>\n",
              "    .dataframe tbody tr th:only-of-type {\n",
              "        vertical-align: middle;\n",
              "    }\n",
              "\n",
              "    .dataframe tbody tr th {\n",
              "        vertical-align: top;\n",
              "    }\n",
              "\n",
              "    .dataframe thead th {\n",
              "        text-align: right;\n",
              "    }\n",
              "</style>\n",
              "<table border=\"1\" class=\"dataframe\">\n",
              "  <thead>\n",
              "    <tr style=\"text-align: right;\">\n",
              "      <th></th>\n",
              "      <th>text_without_url_and_arroba</th>\n",
              "      <th>text</th>\n",
              "    </tr>\n",
              "  </thead>\n",
              "  <tbody>\n",
              "    <tr>\n",
              "      <th>10872</th>\n",
              "      <td>police investigating after an e-bike collided ...</td>\n",
              "      <td>Police investigating after an e-bike collided ...</td>\n",
              "    </tr>\n",
              "    <tr>\n",
              "      <th>9076</th>\n",
              "      <td>#bbclive investigators say a fatal virgin gala...</td>\n",
              "      <td>#BBCLive Investigators say a fatal Virgin Gala...</td>\n",
              "    </tr>\n",
              "    <tr>\n",
              "      <th>9066</th>\n",
              "      <td>investigators say a fatal virgin galactic spac...</td>\n",
              "      <td>Investigators say a fatal Virgin Galactic spac...</td>\n",
              "    </tr>\n",
              "    <tr>\n",
              "      <th>9083</th>\n",
              "      <td>investigators say a fatal virgin galactic spac...</td>\n",
              "      <td>Investigators say a fatal Virgin Galactic spac...</td>\n",
              "    </tr>\n",
              "    <tr>\n",
              "      <th>9048</th>\n",
              "      <td>investigators say a fatal virgin galactic spac...</td>\n",
              "      <td>Investigators say a fatal Virgin Galactic spac...</td>\n",
              "    </tr>\n",
              "    <tr>\n",
              "      <th>9047</th>\n",
              "      <td>virgin galactic crash: early unlocking of brak...</td>\n",
              "      <td>Virgin galactic crash: early unlocking of brak...</td>\n",
              "    </tr>\n",
              "    <tr>\n",
              "      <th>1962</th>\n",
              "      <td>schools in western uganda still burning down b...</td>\n",
              "      <td>Schools in Western Uganda still Burning down B...</td>\n",
              "    </tr>\n",
              "    <tr>\n",
              "      <th>9065</th>\n",
              "      <td>virgin galactic crash: early unlocking of brak...</td>\n",
              "      <td>Virgin galactic crash: early unlocking of brak...</td>\n",
              "    </tr>\n",
              "    <tr>\n",
              "      <th>9049</th>\n",
              "      <td>investigators rule catastrophic structural fai...</td>\n",
              "      <td>Investigators rule catastrophic structural fai...</td>\n",
              "    </tr>\n",
              "    <tr>\n",
              "      <th>9089</th>\n",
              "      <td>ntsb: virgin galactic crash caused by structur...</td>\n",
              "      <td>NTSB: Virgin Galactic crash caused by structur...</td>\n",
              "    </tr>\n",
              "    <tr>\n",
              "      <th>9055</th>\n",
              "      <td>&lt;user&gt;  mega mood swing on a 24 hr schedule. i...</td>\n",
              "      <td>@SirTitan45  Mega mood swing on a 24 hr schedu...</td>\n",
              "    </tr>\n",
              "    <tr>\n",
              "      <th>1439</th>\n",
              "      <td>idgaf who tough or who from canada and who fro...</td>\n",
              "      <td>Idgaf who tough or who from Canada and who fro...</td>\n",
              "    </tr>\n",
              "    <tr>\n",
              "      <th>2216</th>\n",
              "      <td>the chemical brothers to play the armory in sf...</td>\n",
              "      <td>THE CHEMICAL BROTHERS to play The Armory in SF...</td>\n",
              "    </tr>\n",
              "    <tr>\n",
              "      <th>1938</th>\n",
              "      <td>forestservice : rt dhsscitech: #firefighters r...</td>\n",
              "      <td>forestservice : RT dhsscitech: #Firefighters r...</td>\n",
              "    </tr>\n",
              "    <tr>\n",
              "      <th>1941</th>\n",
              "      <td>&lt;user&gt; not upset with a rally upset with burni...</td>\n",
              "      <td>@themagickidraps not upset with a rally upset ...</td>\n",
              "    </tr>\n",
              "    <tr>\n",
              "      <th>868</th>\n",
              "      <td>#breakingnews fedex no longer willing to trans...</td>\n",
              "      <td>#BreakingNews http://t.co/gAN14PW9TG FedEx no ...</td>\n",
              "    </tr>\n",
              "    <tr>\n",
              "      <th>1965</th>\n",
              "      <td>'i never understood guys who wanted to run int...</td>\n",
              "      <td>'i never understood guys who wanted to run int...</td>\n",
              "    </tr>\n",
              "    <tr>\n",
              "      <th>1469</th>\n",
              "      <td>we need to stop paying attention to &lt;user&gt; bod...</td>\n",
              "      <td>We need to stop paying attention to @drizzy bo...</td>\n",
              "    </tr>\n",
              "    <tr>\n",
              "      <th>869</th>\n",
              "      <td>fedex no longer to transport bioterror germs i...</td>\n",
              "      <td>FedEx no longer to transport bioterror germs i...</td>\n",
              "    </tr>\n",
              "    <tr>\n",
              "      <th>840</th>\n",
              "      <td>fedex to stop transporting bioterror germs aft...</td>\n",
              "      <td>FedEx to stop transporting bioterror germs aft...</td>\n",
              "    </tr>\n",
              "  </tbody>\n",
              "</table>\n",
              "</div>\n",
              "      <button class=\"colab-df-convert\" onclick=\"convertToInteractive('df-ca924bda-bccd-4553-a86e-7267e55b57d3')\"\n",
              "              title=\"Convert this dataframe to an interactive table.\"\n",
              "              style=\"display:none;\">\n",
              "        \n",
              "  <svg xmlns=\"http://www.w3.org/2000/svg\" height=\"24px\"viewBox=\"0 0 24 24\"\n",
              "       width=\"24px\">\n",
              "    <path d=\"M0 0h24v24H0V0z\" fill=\"none\"/>\n",
              "    <path d=\"M18.56 5.44l.94 2.06.94-2.06 2.06-.94-2.06-.94-.94-2.06-.94 2.06-2.06.94zm-11 1L8.5 8.5l.94-2.06 2.06-.94-2.06-.94L8.5 2.5l-.94 2.06-2.06.94zm10 10l.94 2.06.94-2.06 2.06-.94-2.06-.94-.94-2.06-.94 2.06-2.06.94z\"/><path d=\"M17.41 7.96l-1.37-1.37c-.4-.4-.92-.59-1.43-.59-.52 0-1.04.2-1.43.59L10.3 9.45l-7.72 7.72c-.78.78-.78 2.05 0 2.83L4 21.41c.39.39.9.59 1.41.59.51 0 1.02-.2 1.41-.59l7.78-7.78 2.81-2.81c.8-.78.8-2.07 0-2.86zM5.41 20L4 18.59l7.72-7.72 1.47 1.35L5.41 20z\"/>\n",
              "  </svg>\n",
              "      </button>\n",
              "      \n",
              "  <style>\n",
              "    .colab-df-container {\n",
              "      display:flex;\n",
              "      flex-wrap:wrap;\n",
              "      gap: 12px;\n",
              "    }\n",
              "\n",
              "    .colab-df-convert {\n",
              "      background-color: #E8F0FE;\n",
              "      border: none;\n",
              "      border-radius: 50%;\n",
              "      cursor: pointer;\n",
              "      display: none;\n",
              "      fill: #1967D2;\n",
              "      height: 32px;\n",
              "      padding: 0 0 0 0;\n",
              "      width: 32px;\n",
              "    }\n",
              "\n",
              "    .colab-df-convert:hover {\n",
              "      background-color: #E2EBFA;\n",
              "      box-shadow: 0px 1px 2px rgba(60, 64, 67, 0.3), 0px 1px 3px 1px rgba(60, 64, 67, 0.15);\n",
              "      fill: #174EA6;\n",
              "    }\n",
              "\n",
              "    [theme=dark] .colab-df-convert {\n",
              "      background-color: #3B4455;\n",
              "      fill: #D2E3FC;\n",
              "    }\n",
              "\n",
              "    [theme=dark] .colab-df-convert:hover {\n",
              "      background-color: #434B5C;\n",
              "      box-shadow: 0px 1px 3px 1px rgba(0, 0, 0, 0.15);\n",
              "      filter: drop-shadow(0px 1px 2px rgba(0, 0, 0, 0.3));\n",
              "      fill: #FFFFFF;\n",
              "    }\n",
              "  </style>\n",
              "\n",
              "      <script>\n",
              "        const buttonEl =\n",
              "          document.querySelector('#df-ca924bda-bccd-4553-a86e-7267e55b57d3 button.colab-df-convert');\n",
              "        buttonEl.style.display =\n",
              "          google.colab.kernel.accessAllowed ? 'block' : 'none';\n",
              "\n",
              "        async function convertToInteractive(key) {\n",
              "          const element = document.querySelector('#df-ca924bda-bccd-4553-a86e-7267e55b57d3');\n",
              "          const dataTable =\n",
              "            await google.colab.kernel.invokeFunction('convertToInteractive',\n",
              "                                                     [key], {});\n",
              "          if (!dataTable) return;\n",
              "\n",
              "          const docLinkHtml = 'Like what you see? Visit the ' +\n",
              "            '<a target=\"_blank\" href=https://colab.research.google.com/notebooks/data_table.ipynb>data table notebook</a>'\n",
              "            + ' to learn more about interactive tables.';\n",
              "          element.innerHTML = '';\n",
              "          dataTable['output_type'] = 'display_data';\n",
              "          await google.colab.output.renderOutput(dataTable, element);\n",
              "          const docLink = document.createElement('div');\n",
              "          docLink.innerHTML = docLinkHtml;\n",
              "          element.appendChild(docLink);\n",
              "        }\n",
              "      </script>\n",
              "    </div>\n",
              "  </div>\n",
              "  "
            ]
          },
          "metadata": {},
          "execution_count": 62
        }
      ]
    },
    {
      "cell_type": "markdown",
      "source": [
        "### Replace hashtag value with non-hashtag value"
      ],
      "metadata": {
        "id": "rNwD9U4aqDEh"
      }
    },
    {
      "cell_type": "code",
      "source": [
        "def replace_with_non_hashtag_value(x):\n",
        "  ''' Replace hashtag content with non-hashtag version'''\n",
        "  word_list = x.split(\" \")\n",
        "  clean_words = []\n",
        "  for word in word_list:\n",
        "    if re.search(\"^#\", word) is None:\n",
        "      clean_words.append(word.lower())\n",
        "    else:\n",
        "      clean_words.append(word[1:].lower())\n",
        "  return \" \".join(clean_words)\n",
        "\n",
        "\n",
        "disaster_db_df[\"text_with_non_hashtag\"] = disaster_db_df[\"text_without_url_and_arroba\"].apply(lambda x: replace_with_non_hashtag_value(x))\n",
        "clean_step_2_tweetit_db_df = disaster_db_df[disaster_db_df[\"is_tweet_id_duplicated\"] == True]\n",
        "clean_step_2_tweetit_db_df.sort_values(by = 'tweetid', inplace=True)\n",
        "clean_step_2_tweetit_db_df[[\"text_with_non_hashtag\", \"text\"]].head(20)"
      ],
      "metadata": {
        "colab": {
          "base_uri": "https://localhost:8080/",
          "height": 763
        },
        "id": "Q9AXIK09qCvg",
        "outputId": "21520d24-4c52-43b8-8c51-9d407d8a85f7"
      },
      "execution_count": 63,
      "outputs": [
        {
          "output_type": "stream",
          "name": "stderr",
          "text": [
            "<ipython-input-63-48f05293f318>:15: SettingWithCopyWarning: \n",
            "A value is trying to be set on a copy of a slice from a DataFrame\n",
            "\n",
            "See the caveats in the documentation: https://pandas.pydata.org/pandas-docs/stable/user_guide/indexing.html#returning-a-view-versus-a-copy\n",
            "  clean_step_2_tweetit_db_df.sort_values(by = 'tweetid', inplace=True)\n"
          ]
        },
        {
          "output_type": "execute_result",
          "data": {
            "text/plain": [
              "                                   text_with_non_hashtag  \\\n",
              "10872  police investigating after an e-bike collided ...   \n",
              "9076   bbclive investigators say a fatal virgin galac...   \n",
              "9066   investigators say a fatal virgin galactic spac...   \n",
              "9083   investigators say a fatal virgin galactic spac...   \n",
              "9048   investigators say a fatal virgin galactic spac...   \n",
              "9047   virgin galactic crash: early unlocking of brak...   \n",
              "1962   schools in western uganda still burning down b...   \n",
              "9065   virgin galactic crash: early unlocking of brak...   \n",
              "9049   investigators rule catastrophic structural fai...   \n",
              "9089   ntsb: virgin galactic crash caused by structur...   \n",
              "9055   <user>  mega mood swing on a 24 hr schedule. i...   \n",
              "1439   idgaf who tough or who from canada and who fro...   \n",
              "2216   the chemical brothers to play the armory in sf...   \n",
              "1938   forestservice : rt dhsscitech: firefighters ru...   \n",
              "1941   <user> not upset with a rally upset with burni...   \n",
              "868    breakingnews fedex no longer willing to transp...   \n",
              "1965   'i never understood guys who wanted to run int...   \n",
              "1469   we need to stop paying attention to <user> bod...   \n",
              "869    fedex no longer to transport bioterror germs i...   \n",
              "840    fedex to stop transporting bioterror germs aft...   \n",
              "\n",
              "                                                    text  \n",
              "10872  Police investigating after an e-bike collided ...  \n",
              "9076   #BBCLive Investigators say a fatal Virgin Gala...  \n",
              "9066   Investigators say a fatal Virgin Galactic spac...  \n",
              "9083   Investigators say a fatal Virgin Galactic spac...  \n",
              "9048   Investigators say a fatal Virgin Galactic spac...  \n",
              "9047   Virgin galactic crash: early unlocking of brak...  \n",
              "1962   Schools in Western Uganda still Burning down B...  \n",
              "9065   Virgin galactic crash: early unlocking of brak...  \n",
              "9049   Investigators rule catastrophic structural fai...  \n",
              "9089   NTSB: Virgin Galactic crash caused by structur...  \n",
              "9055   @SirTitan45  Mega mood swing on a 24 hr schedu...  \n",
              "1439   Idgaf who tough or who from Canada and who fro...  \n",
              "2216   THE CHEMICAL BROTHERS to play The Armory in SF...  \n",
              "1938   forestservice : RT dhsscitech: #Firefighters r...  \n",
              "1941   @themagickidraps not upset with a rally upset ...  \n",
              "868    #BreakingNews http://t.co/gAN14PW9TG FedEx no ...  \n",
              "1965   'i never understood guys who wanted to run int...  \n",
              "1469   We need to stop paying attention to @drizzy bo...  \n",
              "869    FedEx no longer to transport bioterror germs i...  \n",
              "840    FedEx to stop transporting bioterror germs aft...  "
            ],
            "text/html": [
              "\n",
              "  <div id=\"df-fc7d9b6c-37b0-4698-bfcf-14b7ea5a2e29\">\n",
              "    <div class=\"colab-df-container\">\n",
              "      <div>\n",
              "<style scoped>\n",
              "    .dataframe tbody tr th:only-of-type {\n",
              "        vertical-align: middle;\n",
              "    }\n",
              "\n",
              "    .dataframe tbody tr th {\n",
              "        vertical-align: top;\n",
              "    }\n",
              "\n",
              "    .dataframe thead th {\n",
              "        text-align: right;\n",
              "    }\n",
              "</style>\n",
              "<table border=\"1\" class=\"dataframe\">\n",
              "  <thead>\n",
              "    <tr style=\"text-align: right;\">\n",
              "      <th></th>\n",
              "      <th>text_with_non_hashtag</th>\n",
              "      <th>text</th>\n",
              "    </tr>\n",
              "  </thead>\n",
              "  <tbody>\n",
              "    <tr>\n",
              "      <th>10872</th>\n",
              "      <td>police investigating after an e-bike collided ...</td>\n",
              "      <td>Police investigating after an e-bike collided ...</td>\n",
              "    </tr>\n",
              "    <tr>\n",
              "      <th>9076</th>\n",
              "      <td>bbclive investigators say a fatal virgin galac...</td>\n",
              "      <td>#BBCLive Investigators say a fatal Virgin Gala...</td>\n",
              "    </tr>\n",
              "    <tr>\n",
              "      <th>9066</th>\n",
              "      <td>investigators say a fatal virgin galactic spac...</td>\n",
              "      <td>Investigators say a fatal Virgin Galactic spac...</td>\n",
              "    </tr>\n",
              "    <tr>\n",
              "      <th>9083</th>\n",
              "      <td>investigators say a fatal virgin galactic spac...</td>\n",
              "      <td>Investigators say a fatal Virgin Galactic spac...</td>\n",
              "    </tr>\n",
              "    <tr>\n",
              "      <th>9048</th>\n",
              "      <td>investigators say a fatal virgin galactic spac...</td>\n",
              "      <td>Investigators say a fatal Virgin Galactic spac...</td>\n",
              "    </tr>\n",
              "    <tr>\n",
              "      <th>9047</th>\n",
              "      <td>virgin galactic crash: early unlocking of brak...</td>\n",
              "      <td>Virgin galactic crash: early unlocking of brak...</td>\n",
              "    </tr>\n",
              "    <tr>\n",
              "      <th>1962</th>\n",
              "      <td>schools in western uganda still burning down b...</td>\n",
              "      <td>Schools in Western Uganda still Burning down B...</td>\n",
              "    </tr>\n",
              "    <tr>\n",
              "      <th>9065</th>\n",
              "      <td>virgin galactic crash: early unlocking of brak...</td>\n",
              "      <td>Virgin galactic crash: early unlocking of brak...</td>\n",
              "    </tr>\n",
              "    <tr>\n",
              "      <th>9049</th>\n",
              "      <td>investigators rule catastrophic structural fai...</td>\n",
              "      <td>Investigators rule catastrophic structural fai...</td>\n",
              "    </tr>\n",
              "    <tr>\n",
              "      <th>9089</th>\n",
              "      <td>ntsb: virgin galactic crash caused by structur...</td>\n",
              "      <td>NTSB: Virgin Galactic crash caused by structur...</td>\n",
              "    </tr>\n",
              "    <tr>\n",
              "      <th>9055</th>\n",
              "      <td>&lt;user&gt;  mega mood swing on a 24 hr schedule. i...</td>\n",
              "      <td>@SirTitan45  Mega mood swing on a 24 hr schedu...</td>\n",
              "    </tr>\n",
              "    <tr>\n",
              "      <th>1439</th>\n",
              "      <td>idgaf who tough or who from canada and who fro...</td>\n",
              "      <td>Idgaf who tough or who from Canada and who fro...</td>\n",
              "    </tr>\n",
              "    <tr>\n",
              "      <th>2216</th>\n",
              "      <td>the chemical brothers to play the armory in sf...</td>\n",
              "      <td>THE CHEMICAL BROTHERS to play The Armory in SF...</td>\n",
              "    </tr>\n",
              "    <tr>\n",
              "      <th>1938</th>\n",
              "      <td>forestservice : rt dhsscitech: firefighters ru...</td>\n",
              "      <td>forestservice : RT dhsscitech: #Firefighters r...</td>\n",
              "    </tr>\n",
              "    <tr>\n",
              "      <th>1941</th>\n",
              "      <td>&lt;user&gt; not upset with a rally upset with burni...</td>\n",
              "      <td>@themagickidraps not upset with a rally upset ...</td>\n",
              "    </tr>\n",
              "    <tr>\n",
              "      <th>868</th>\n",
              "      <td>breakingnews fedex no longer willing to transp...</td>\n",
              "      <td>#BreakingNews http://t.co/gAN14PW9TG FedEx no ...</td>\n",
              "    </tr>\n",
              "    <tr>\n",
              "      <th>1965</th>\n",
              "      <td>'i never understood guys who wanted to run int...</td>\n",
              "      <td>'i never understood guys who wanted to run int...</td>\n",
              "    </tr>\n",
              "    <tr>\n",
              "      <th>1469</th>\n",
              "      <td>we need to stop paying attention to &lt;user&gt; bod...</td>\n",
              "      <td>We need to stop paying attention to @drizzy bo...</td>\n",
              "    </tr>\n",
              "    <tr>\n",
              "      <th>869</th>\n",
              "      <td>fedex no longer to transport bioterror germs i...</td>\n",
              "      <td>FedEx no longer to transport bioterror germs i...</td>\n",
              "    </tr>\n",
              "    <tr>\n",
              "      <th>840</th>\n",
              "      <td>fedex to stop transporting bioterror germs aft...</td>\n",
              "      <td>FedEx to stop transporting bioterror germs aft...</td>\n",
              "    </tr>\n",
              "  </tbody>\n",
              "</table>\n",
              "</div>\n",
              "      <button class=\"colab-df-convert\" onclick=\"convertToInteractive('df-fc7d9b6c-37b0-4698-bfcf-14b7ea5a2e29')\"\n",
              "              title=\"Convert this dataframe to an interactive table.\"\n",
              "              style=\"display:none;\">\n",
              "        \n",
              "  <svg xmlns=\"http://www.w3.org/2000/svg\" height=\"24px\"viewBox=\"0 0 24 24\"\n",
              "       width=\"24px\">\n",
              "    <path d=\"M0 0h24v24H0V0z\" fill=\"none\"/>\n",
              "    <path d=\"M18.56 5.44l.94 2.06.94-2.06 2.06-.94-2.06-.94-.94-2.06-.94 2.06-2.06.94zm-11 1L8.5 8.5l.94-2.06 2.06-.94-2.06-.94L8.5 2.5l-.94 2.06-2.06.94zm10 10l.94 2.06.94-2.06 2.06-.94-2.06-.94-.94-2.06-.94 2.06-2.06.94z\"/><path d=\"M17.41 7.96l-1.37-1.37c-.4-.4-.92-.59-1.43-.59-.52 0-1.04.2-1.43.59L10.3 9.45l-7.72 7.72c-.78.78-.78 2.05 0 2.83L4 21.41c.39.39.9.59 1.41.59.51 0 1.02-.2 1.41-.59l7.78-7.78 2.81-2.81c.8-.78.8-2.07 0-2.86zM5.41 20L4 18.59l7.72-7.72 1.47 1.35L5.41 20z\"/>\n",
              "  </svg>\n",
              "      </button>\n",
              "      \n",
              "  <style>\n",
              "    .colab-df-container {\n",
              "      display:flex;\n",
              "      flex-wrap:wrap;\n",
              "      gap: 12px;\n",
              "    }\n",
              "\n",
              "    .colab-df-convert {\n",
              "      background-color: #E8F0FE;\n",
              "      border: none;\n",
              "      border-radius: 50%;\n",
              "      cursor: pointer;\n",
              "      display: none;\n",
              "      fill: #1967D2;\n",
              "      height: 32px;\n",
              "      padding: 0 0 0 0;\n",
              "      width: 32px;\n",
              "    }\n",
              "\n",
              "    .colab-df-convert:hover {\n",
              "      background-color: #E2EBFA;\n",
              "      box-shadow: 0px 1px 2px rgba(60, 64, 67, 0.3), 0px 1px 3px 1px rgba(60, 64, 67, 0.15);\n",
              "      fill: #174EA6;\n",
              "    }\n",
              "\n",
              "    [theme=dark] .colab-df-convert {\n",
              "      background-color: #3B4455;\n",
              "      fill: #D2E3FC;\n",
              "    }\n",
              "\n",
              "    [theme=dark] .colab-df-convert:hover {\n",
              "      background-color: #434B5C;\n",
              "      box-shadow: 0px 1px 3px 1px rgba(0, 0, 0, 0.15);\n",
              "      filter: drop-shadow(0px 1px 2px rgba(0, 0, 0, 0.3));\n",
              "      fill: #FFFFFF;\n",
              "    }\n",
              "  </style>\n",
              "\n",
              "      <script>\n",
              "        const buttonEl =\n",
              "          document.querySelector('#df-fc7d9b6c-37b0-4698-bfcf-14b7ea5a2e29 button.colab-df-convert');\n",
              "        buttonEl.style.display =\n",
              "          google.colab.kernel.accessAllowed ? 'block' : 'none';\n",
              "\n",
              "        async function convertToInteractive(key) {\n",
              "          const element = document.querySelector('#df-fc7d9b6c-37b0-4698-bfcf-14b7ea5a2e29');\n",
              "          const dataTable =\n",
              "            await google.colab.kernel.invokeFunction('convertToInteractive',\n",
              "                                                     [key], {});\n",
              "          if (!dataTable) return;\n",
              "\n",
              "          const docLinkHtml = 'Like what you see? Visit the ' +\n",
              "            '<a target=\"_blank\" href=https://colab.research.google.com/notebooks/data_table.ipynb>data table notebook</a>'\n",
              "            + ' to learn more about interactive tables.';\n",
              "          element.innerHTML = '';\n",
              "          dataTable['output_type'] = 'display_data';\n",
              "          await google.colab.output.renderOutput(dataTable, element);\n",
              "          const docLink = document.createElement('div');\n",
              "          docLink.innerHTML = docLinkHtml;\n",
              "          element.appendChild(docLink);\n",
              "        }\n",
              "      </script>\n",
              "    </div>\n",
              "  </div>\n",
              "  "
            ]
          },
          "metadata": {},
          "execution_count": 63
        }
      ]
    },
    {
      "cell_type": "code",
      "source": [
        "def remove_with_non_hashtag_value(x):\n",
        "  ''' Remove hashtag value'''\n",
        "  word_list = x.split(\" \")\n",
        "  clean_words = []\n",
        "  for word in word_list:\n",
        "    if re.search(\"^#\", word) is None:\n",
        "      clean_words.append(word.lower())\n",
        "\n",
        "  return \" \".join(clean_words)\n",
        "\n",
        "disaster_db_df[\"text_without_hashtag_version\"] = disaster_db_df[\"text_without_url_and_arroba\"].apply(lambda x: remove_with_non_hashtag_value(x))\n",
        "clean_step_2_1_tweetit_db_df = disaster_db_df[disaster_db_df[\"is_tweet_id_duplicated\"] == True]\n",
        "clean_step_2_1_tweetit_db_df.sort_values(by = 'tweetid', inplace=True)\n",
        "clean_step_2_1_tweetit_db_df[[\"text_without_hashtag_version\", \"text\"]].head(20)"
      ],
      "metadata": {
        "colab": {
          "base_uri": "https://localhost:8080/",
          "height": 763
        },
        "id": "RrOPtdhasNIg",
        "outputId": "722578b1-e1bb-4bbd-9841-8b8af03d3a0f"
      },
      "execution_count": 64,
      "outputs": [
        {
          "output_type": "stream",
          "name": "stderr",
          "text": [
            "<ipython-input-64-59fe4d89c0ce>:13: SettingWithCopyWarning: \n",
            "A value is trying to be set on a copy of a slice from a DataFrame\n",
            "\n",
            "See the caveats in the documentation: https://pandas.pydata.org/pandas-docs/stable/user_guide/indexing.html#returning-a-view-versus-a-copy\n",
            "  clean_step_2_1_tweetit_db_df.sort_values(by = 'tweetid', inplace=True)\n"
          ]
        },
        {
          "output_type": "execute_result",
          "data": {
            "text/plain": [
              "                            text_without_hashtag_version  \\\n",
              "10872  police investigating after an e-bike collided ...   \n",
              "9076   investigators say a fatal virgin galactic spac...   \n",
              "9066   investigators say a fatal virgin galactic spac...   \n",
              "9083   investigators say a fatal virgin galactic spac...   \n",
              "9048   investigators say a fatal virgin galactic spac...   \n",
              "9047   virgin galactic crash: early unlocking of brak...   \n",
              "1962   schools in western uganda still burning down b...   \n",
              "9065   virgin galactic crash: early unlocking of brak...   \n",
              "9049   investigators rule catastrophic structural fai...   \n",
              "9089   ntsb: virgin galactic crash caused by structur...   \n",
              "9055   <user>  mega mood swing on a 24 hr schedule. i...   \n",
              "1439   idgaf who tough or who from canada and who fro...   \n",
              "2216   the chemical brothers to play the armory in sf...   \n",
              "1938   forestservice : rt dhsscitech: run into burnin...   \n",
              "1941   <user> not upset with a rally upset with burni...   \n",
              "868    fedex no longer willing to transport research ...   \n",
              "1965   'i never understood guys who wanted to run int...   \n",
              "1469   we need to stop paying attention to <user> bod...   \n",
              "869    fedex no longer to transport bioterror germs i...   \n",
              "840    fedex to stop transporting bioterror germs aft...   \n",
              "\n",
              "                                                    text  \n",
              "10872  Police investigating after an e-bike collided ...  \n",
              "9076   #BBCLive Investigators say a fatal Virgin Gala...  \n",
              "9066   Investigators say a fatal Virgin Galactic spac...  \n",
              "9083   Investigators say a fatal Virgin Galactic spac...  \n",
              "9048   Investigators say a fatal Virgin Galactic spac...  \n",
              "9047   Virgin galactic crash: early unlocking of brak...  \n",
              "1962   Schools in Western Uganda still Burning down B...  \n",
              "9065   Virgin galactic crash: early unlocking of brak...  \n",
              "9049   Investigators rule catastrophic structural fai...  \n",
              "9089   NTSB: Virgin Galactic crash caused by structur...  \n",
              "9055   @SirTitan45  Mega mood swing on a 24 hr schedu...  \n",
              "1439   Idgaf who tough or who from Canada and who fro...  \n",
              "2216   THE CHEMICAL BROTHERS to play The Armory in SF...  \n",
              "1938   forestservice : RT dhsscitech: #Firefighters r...  \n",
              "1941   @themagickidraps not upset with a rally upset ...  \n",
              "868    #BreakingNews http://t.co/gAN14PW9TG FedEx no ...  \n",
              "1965   'i never understood guys who wanted to run int...  \n",
              "1469   We need to stop paying attention to @drizzy bo...  \n",
              "869    FedEx no longer to transport bioterror germs i...  \n",
              "840    FedEx to stop transporting bioterror germs aft...  "
            ],
            "text/html": [
              "\n",
              "  <div id=\"df-f6e86f6d-1168-4958-808a-6a153ef24730\">\n",
              "    <div class=\"colab-df-container\">\n",
              "      <div>\n",
              "<style scoped>\n",
              "    .dataframe tbody tr th:only-of-type {\n",
              "        vertical-align: middle;\n",
              "    }\n",
              "\n",
              "    .dataframe tbody tr th {\n",
              "        vertical-align: top;\n",
              "    }\n",
              "\n",
              "    .dataframe thead th {\n",
              "        text-align: right;\n",
              "    }\n",
              "</style>\n",
              "<table border=\"1\" class=\"dataframe\">\n",
              "  <thead>\n",
              "    <tr style=\"text-align: right;\">\n",
              "      <th></th>\n",
              "      <th>text_without_hashtag_version</th>\n",
              "      <th>text</th>\n",
              "    </tr>\n",
              "  </thead>\n",
              "  <tbody>\n",
              "    <tr>\n",
              "      <th>10872</th>\n",
              "      <td>police investigating after an e-bike collided ...</td>\n",
              "      <td>Police investigating after an e-bike collided ...</td>\n",
              "    </tr>\n",
              "    <tr>\n",
              "      <th>9076</th>\n",
              "      <td>investigators say a fatal virgin galactic spac...</td>\n",
              "      <td>#BBCLive Investigators say a fatal Virgin Gala...</td>\n",
              "    </tr>\n",
              "    <tr>\n",
              "      <th>9066</th>\n",
              "      <td>investigators say a fatal virgin galactic spac...</td>\n",
              "      <td>Investigators say a fatal Virgin Galactic spac...</td>\n",
              "    </tr>\n",
              "    <tr>\n",
              "      <th>9083</th>\n",
              "      <td>investigators say a fatal virgin galactic spac...</td>\n",
              "      <td>Investigators say a fatal Virgin Galactic spac...</td>\n",
              "    </tr>\n",
              "    <tr>\n",
              "      <th>9048</th>\n",
              "      <td>investigators say a fatal virgin galactic spac...</td>\n",
              "      <td>Investigators say a fatal Virgin Galactic spac...</td>\n",
              "    </tr>\n",
              "    <tr>\n",
              "      <th>9047</th>\n",
              "      <td>virgin galactic crash: early unlocking of brak...</td>\n",
              "      <td>Virgin galactic crash: early unlocking of brak...</td>\n",
              "    </tr>\n",
              "    <tr>\n",
              "      <th>1962</th>\n",
              "      <td>schools in western uganda still burning down b...</td>\n",
              "      <td>Schools in Western Uganda still Burning down B...</td>\n",
              "    </tr>\n",
              "    <tr>\n",
              "      <th>9065</th>\n",
              "      <td>virgin galactic crash: early unlocking of brak...</td>\n",
              "      <td>Virgin galactic crash: early unlocking of brak...</td>\n",
              "    </tr>\n",
              "    <tr>\n",
              "      <th>9049</th>\n",
              "      <td>investigators rule catastrophic structural fai...</td>\n",
              "      <td>Investigators rule catastrophic structural fai...</td>\n",
              "    </tr>\n",
              "    <tr>\n",
              "      <th>9089</th>\n",
              "      <td>ntsb: virgin galactic crash caused by structur...</td>\n",
              "      <td>NTSB: Virgin Galactic crash caused by structur...</td>\n",
              "    </tr>\n",
              "    <tr>\n",
              "      <th>9055</th>\n",
              "      <td>&lt;user&gt;  mega mood swing on a 24 hr schedule. i...</td>\n",
              "      <td>@SirTitan45  Mega mood swing on a 24 hr schedu...</td>\n",
              "    </tr>\n",
              "    <tr>\n",
              "      <th>1439</th>\n",
              "      <td>idgaf who tough or who from canada and who fro...</td>\n",
              "      <td>Idgaf who tough or who from Canada and who fro...</td>\n",
              "    </tr>\n",
              "    <tr>\n",
              "      <th>2216</th>\n",
              "      <td>the chemical brothers to play the armory in sf...</td>\n",
              "      <td>THE CHEMICAL BROTHERS to play The Armory in SF...</td>\n",
              "    </tr>\n",
              "    <tr>\n",
              "      <th>1938</th>\n",
              "      <td>forestservice : rt dhsscitech: run into burnin...</td>\n",
              "      <td>forestservice : RT dhsscitech: #Firefighters r...</td>\n",
              "    </tr>\n",
              "    <tr>\n",
              "      <th>1941</th>\n",
              "      <td>&lt;user&gt; not upset with a rally upset with burni...</td>\n",
              "      <td>@themagickidraps not upset with a rally upset ...</td>\n",
              "    </tr>\n",
              "    <tr>\n",
              "      <th>868</th>\n",
              "      <td>fedex no longer willing to transport research ...</td>\n",
              "      <td>#BreakingNews http://t.co/gAN14PW9TG FedEx no ...</td>\n",
              "    </tr>\n",
              "    <tr>\n",
              "      <th>1965</th>\n",
              "      <td>'i never understood guys who wanted to run int...</td>\n",
              "      <td>'i never understood guys who wanted to run int...</td>\n",
              "    </tr>\n",
              "    <tr>\n",
              "      <th>1469</th>\n",
              "      <td>we need to stop paying attention to &lt;user&gt; bod...</td>\n",
              "      <td>We need to stop paying attention to @drizzy bo...</td>\n",
              "    </tr>\n",
              "    <tr>\n",
              "      <th>869</th>\n",
              "      <td>fedex no longer to transport bioterror germs i...</td>\n",
              "      <td>FedEx no longer to transport bioterror germs i...</td>\n",
              "    </tr>\n",
              "    <tr>\n",
              "      <th>840</th>\n",
              "      <td>fedex to stop transporting bioterror germs aft...</td>\n",
              "      <td>FedEx to stop transporting bioterror germs aft...</td>\n",
              "    </tr>\n",
              "  </tbody>\n",
              "</table>\n",
              "</div>\n",
              "      <button class=\"colab-df-convert\" onclick=\"convertToInteractive('df-f6e86f6d-1168-4958-808a-6a153ef24730')\"\n",
              "              title=\"Convert this dataframe to an interactive table.\"\n",
              "              style=\"display:none;\">\n",
              "        \n",
              "  <svg xmlns=\"http://www.w3.org/2000/svg\" height=\"24px\"viewBox=\"0 0 24 24\"\n",
              "       width=\"24px\">\n",
              "    <path d=\"M0 0h24v24H0V0z\" fill=\"none\"/>\n",
              "    <path d=\"M18.56 5.44l.94 2.06.94-2.06 2.06-.94-2.06-.94-.94-2.06-.94 2.06-2.06.94zm-11 1L8.5 8.5l.94-2.06 2.06-.94-2.06-.94L8.5 2.5l-.94 2.06-2.06.94zm10 10l.94 2.06.94-2.06 2.06-.94-2.06-.94-.94-2.06-.94 2.06-2.06.94z\"/><path d=\"M17.41 7.96l-1.37-1.37c-.4-.4-.92-.59-1.43-.59-.52 0-1.04.2-1.43.59L10.3 9.45l-7.72 7.72c-.78.78-.78 2.05 0 2.83L4 21.41c.39.39.9.59 1.41.59.51 0 1.02-.2 1.41-.59l7.78-7.78 2.81-2.81c.8-.78.8-2.07 0-2.86zM5.41 20L4 18.59l7.72-7.72 1.47 1.35L5.41 20z\"/>\n",
              "  </svg>\n",
              "      </button>\n",
              "      \n",
              "  <style>\n",
              "    .colab-df-container {\n",
              "      display:flex;\n",
              "      flex-wrap:wrap;\n",
              "      gap: 12px;\n",
              "    }\n",
              "\n",
              "    .colab-df-convert {\n",
              "      background-color: #E8F0FE;\n",
              "      border: none;\n",
              "      border-radius: 50%;\n",
              "      cursor: pointer;\n",
              "      display: none;\n",
              "      fill: #1967D2;\n",
              "      height: 32px;\n",
              "      padding: 0 0 0 0;\n",
              "      width: 32px;\n",
              "    }\n",
              "\n",
              "    .colab-df-convert:hover {\n",
              "      background-color: #E2EBFA;\n",
              "      box-shadow: 0px 1px 2px rgba(60, 64, 67, 0.3), 0px 1px 3px 1px rgba(60, 64, 67, 0.15);\n",
              "      fill: #174EA6;\n",
              "    }\n",
              "\n",
              "    [theme=dark] .colab-df-convert {\n",
              "      background-color: #3B4455;\n",
              "      fill: #D2E3FC;\n",
              "    }\n",
              "\n",
              "    [theme=dark] .colab-df-convert:hover {\n",
              "      background-color: #434B5C;\n",
              "      box-shadow: 0px 1px 3px 1px rgba(0, 0, 0, 0.15);\n",
              "      filter: drop-shadow(0px 1px 2px rgba(0, 0, 0, 0.3));\n",
              "      fill: #FFFFFF;\n",
              "    }\n",
              "  </style>\n",
              "\n",
              "      <script>\n",
              "        const buttonEl =\n",
              "          document.querySelector('#df-f6e86f6d-1168-4958-808a-6a153ef24730 button.colab-df-convert');\n",
              "        buttonEl.style.display =\n",
              "          google.colab.kernel.accessAllowed ? 'block' : 'none';\n",
              "\n",
              "        async function convertToInteractive(key) {\n",
              "          const element = document.querySelector('#df-f6e86f6d-1168-4958-808a-6a153ef24730');\n",
              "          const dataTable =\n",
              "            await google.colab.kernel.invokeFunction('convertToInteractive',\n",
              "                                                     [key], {});\n",
              "          if (!dataTable) return;\n",
              "\n",
              "          const docLinkHtml = 'Like what you see? Visit the ' +\n",
              "            '<a target=\"_blank\" href=https://colab.research.google.com/notebooks/data_table.ipynb>data table notebook</a>'\n",
              "            + ' to learn more about interactive tables.';\n",
              "          element.innerHTML = '';\n",
              "          dataTable['output_type'] = 'display_data';\n",
              "          await google.colab.output.renderOutput(dataTable, element);\n",
              "          const docLink = document.createElement('div');\n",
              "          docLink.innerHTML = docLinkHtml;\n",
              "          element.appendChild(docLink);\n",
              "        }\n",
              "      </script>\n",
              "    </div>\n",
              "  </div>\n",
              "  "
            ]
          },
          "metadata": {},
          "execution_count": 64
        }
      ]
    },
    {
      "cell_type": "markdown",
      "source": [
        "### Get the most long length version of text to cover more information."
      ],
      "metadata": {
        "id": "6UaLuB81vGPf"
      }
    },
    {
      "cell_type": "code",
      "source": [
        "def get_lenght_text(x):\n",
        "  ''' Get the lenght of words in \"text\" field'''\n",
        "  return len(x.split(\" \"))\n",
        "\n",
        "disaster_db_df[\"amount_words_in_cleaning_text\"] = disaster_db_df[\"text_without_hashtag_version\"].apply( lambda x : get_lenght_text(x))\n",
        "disaster_db_df.sort_values(by = 'amount_words_in_cleaning_text', inplace=True)\n",
        "cleaning_disaster_db_df = disaster_db_df[['choose_one', 'choose_one:confidence', 'text','tweetid', 'range_confidence', \n",
        "  'is_tweet_id_duplicated', 'amount_words_in_cleaning_text', \"text_without_hashtag_version\"]]\n",
        "cleaning_disaster_db_df.rename(columns={\n",
        "    \"text_without_hashtag_version\": \"cleaning_text\",\n",
        "    \"choose_one:confidence\": \"confidence\",\n",
        "    \"tweetid\": \"tweet_id\"\n",
        "  }, inplace=True)\n",
        "cleaning_disaster_db_df.head(15)"
      ],
      "metadata": {
        "colab": {
          "base_uri": "https://localhost:8080/",
          "height": 844
        },
        "id": "tMRTWJuavIkx",
        "outputId": "d16dfb1f-89c5-4291-fb0a-9014fae2a087"
      },
      "execution_count": 65,
      "outputs": [
        {
          "output_type": "stream",
          "name": "stderr",
          "text": [
            "<ipython-input-65-fdce3a786b39>:9: SettingWithCopyWarning: \n",
            "A value is trying to be set on a copy of a slice from a DataFrame\n",
            "\n",
            "See the caveats in the documentation: https://pandas.pydata.org/pandas-docs/stable/user_guide/indexing.html#returning-a-view-versus-a-copy\n",
            "  cleaning_disaster_db_df.rename(columns={\n"
          ]
        },
        {
          "output_type": "execute_result",
          "data": {
            "text/plain": [
              "        choose_one  confidence  \\\n",
              "9487      Relevant      0.8018   \n",
              "9490      Relevant      0.4048   \n",
              "9486  Not Relevant      1.0000   \n",
              "1191  Not Relevant      0.5960   \n",
              "9454  Not Relevant      0.5988   \n",
              "190   Not Relevant      0.5031   \n",
              "45    Not Relevant      1.0000   \n",
              "5851      Relevant      1.0000   \n",
              "7295  Not Relevant      1.0000   \n",
              "7400  Not Relevant      0.7995   \n",
              "36    Not Relevant      1.0000   \n",
              "6168      Relevant      0.4014   \n",
              "179   Not Relevant      0.5030   \n",
              "9482      Relevant      0.6030   \n",
              "5521  Not Relevant      0.4022   \n",
              "\n",
              "                                                   text      tweet_id  \\\n",
              "9487  Truth...\\nhttps://t.co/n1K5nlib9X\\n#News\\n#BBC...  6.290990e+17   \n",
              "9490  Truth...\\nhttps://t.co/4ZQrsAQrRT\\n#News\\n#BBC...  6.291010e+17   \n",
              "9486  Truth...\\nhttps://t.co/k44tL3rfMy\\n#News\\n#BBC...  6.290990e+17   \n",
              "1191                       Stats http://t.co/U7vavyrGv9  6.291060e+17   \n",
              "9454  Truth...\\nhttps://t.co/beJfTYgJIL\\n#News\\n#BBC...  6.290990e+17   \n",
              "190                  Aftershock https://t.co/jV8ppKhJY7  6.289000e+17   \n",
              "45                                             Awesome!  5.000000e+01   \n",
              "5851  Yesterday's #hailstorm! #boston #cambridge htt...  6.290260e+17   \n",
              "7295                                            Err:509  6.289470e+17   \n",
              "7400                                        Obliterated  6.290890e+17   \n",
              "36                                             LOOOOOOL  4.100000e+01   \n",
              "6168                                             hijack  6.290750e+17   \n",
              "179                  Aftershock https://t.co/Ecy4U623nO  6.289010e+17   \n",
              "9482  Truth...\\nhttps://t.co/p5ZIcjUdXO\\n#News\\n#BBC...  6.290990e+17   \n",
              "5521                  Flattened https://t.co/9jCIBenckz  6.290480e+17   \n",
              "\n",
              "     range_confidence  is_tweet_id_duplicated  amount_words_in_cleaning_text  \\\n",
              "9487       0.75 - 0.9                    True                              1   \n",
              "9490        0.0 - 0.5                    True                              1   \n",
              "9486        0.9 - 1.0                    True                              1   \n",
              "1191       0.5 - 0.75                    True                              1   \n",
              "9454       0.5 - 0.75                    True                              1   \n",
              "190        0.5 - 0.75                   False                              1   \n",
              "45          0.9 - 1.0                   False                              1   \n",
              "5851        0.9 - 1.0                    True                              1   \n",
              "7295        0.9 - 1.0                    True                              1   \n",
              "7400       0.75 - 0.9                    True                              1   \n",
              "36          0.9 - 1.0                   False                              1   \n",
              "6168        0.0 - 0.5                    True                              1   \n",
              "179        0.5 - 0.75                   False                              1   \n",
              "9482       0.5 - 0.75                    True                              1   \n",
              "5521        0.0 - 0.5                    True                              1   \n",
              "\n",
              "                                          cleaning_text  \n",
              "9487  truth...\\nhttps://t.co/n1k5nlib9x\\n#news\\n#bbc...  \n",
              "9490  truth...\\nhttps://t.co/4zqrsaqrrt\\n#news\\n#bbc...  \n",
              "9486  truth...\\nhttps://t.co/k44tl3rfmy\\n#news\\n#bbc...  \n",
              "1191                                              stats  \n",
              "9454  truth...\\nhttps://t.co/bejftygjil\\n#news\\n#bbc...  \n",
              "190                                          aftershock  \n",
              "45                                             awesome!  \n",
              "5851                                        yesterday's  \n",
              "7295                                            err:509  \n",
              "7400                                        obliterated  \n",
              "36                                             looooool  \n",
              "6168                                             hijack  \n",
              "179                                          aftershock  \n",
              "9482  truth...\\nhttps://t.co/p5zicjudxo\\n#news\\n#bbc...  \n",
              "5521                                          flattened  "
            ],
            "text/html": [
              "\n",
              "  <div id=\"df-83f8c30f-afec-4eca-95b3-8c467abc1ba5\">\n",
              "    <div class=\"colab-df-container\">\n",
              "      <div>\n",
              "<style scoped>\n",
              "    .dataframe tbody tr th:only-of-type {\n",
              "        vertical-align: middle;\n",
              "    }\n",
              "\n",
              "    .dataframe tbody tr th {\n",
              "        vertical-align: top;\n",
              "    }\n",
              "\n",
              "    .dataframe thead th {\n",
              "        text-align: right;\n",
              "    }\n",
              "</style>\n",
              "<table border=\"1\" class=\"dataframe\">\n",
              "  <thead>\n",
              "    <tr style=\"text-align: right;\">\n",
              "      <th></th>\n",
              "      <th>choose_one</th>\n",
              "      <th>confidence</th>\n",
              "      <th>text</th>\n",
              "      <th>tweet_id</th>\n",
              "      <th>range_confidence</th>\n",
              "      <th>is_tweet_id_duplicated</th>\n",
              "      <th>amount_words_in_cleaning_text</th>\n",
              "      <th>cleaning_text</th>\n",
              "    </tr>\n",
              "  </thead>\n",
              "  <tbody>\n",
              "    <tr>\n",
              "      <th>9487</th>\n",
              "      <td>Relevant</td>\n",
              "      <td>0.8018</td>\n",
              "      <td>Truth...\\nhttps://t.co/n1K5nlib9X\\n#News\\n#BBC...</td>\n",
              "      <td>6.290990e+17</td>\n",
              "      <td>0.75 - 0.9</td>\n",
              "      <td>True</td>\n",
              "      <td>1</td>\n",
              "      <td>truth...\\nhttps://t.co/n1k5nlib9x\\n#news\\n#bbc...</td>\n",
              "    </tr>\n",
              "    <tr>\n",
              "      <th>9490</th>\n",
              "      <td>Relevant</td>\n",
              "      <td>0.4048</td>\n",
              "      <td>Truth...\\nhttps://t.co/4ZQrsAQrRT\\n#News\\n#BBC...</td>\n",
              "      <td>6.291010e+17</td>\n",
              "      <td>0.0 - 0.5</td>\n",
              "      <td>True</td>\n",
              "      <td>1</td>\n",
              "      <td>truth...\\nhttps://t.co/4zqrsaqrrt\\n#news\\n#bbc...</td>\n",
              "    </tr>\n",
              "    <tr>\n",
              "      <th>9486</th>\n",
              "      <td>Not Relevant</td>\n",
              "      <td>1.0000</td>\n",
              "      <td>Truth...\\nhttps://t.co/k44tL3rfMy\\n#News\\n#BBC...</td>\n",
              "      <td>6.290990e+17</td>\n",
              "      <td>0.9 - 1.0</td>\n",
              "      <td>True</td>\n",
              "      <td>1</td>\n",
              "      <td>truth...\\nhttps://t.co/k44tl3rfmy\\n#news\\n#bbc...</td>\n",
              "    </tr>\n",
              "    <tr>\n",
              "      <th>1191</th>\n",
              "      <td>Not Relevant</td>\n",
              "      <td>0.5960</td>\n",
              "      <td>Stats http://t.co/U7vavyrGv9</td>\n",
              "      <td>6.291060e+17</td>\n",
              "      <td>0.5 - 0.75</td>\n",
              "      <td>True</td>\n",
              "      <td>1</td>\n",
              "      <td>stats</td>\n",
              "    </tr>\n",
              "    <tr>\n",
              "      <th>9454</th>\n",
              "      <td>Not Relevant</td>\n",
              "      <td>0.5988</td>\n",
              "      <td>Truth...\\nhttps://t.co/beJfTYgJIL\\n#News\\n#BBC...</td>\n",
              "      <td>6.290990e+17</td>\n",
              "      <td>0.5 - 0.75</td>\n",
              "      <td>True</td>\n",
              "      <td>1</td>\n",
              "      <td>truth...\\nhttps://t.co/bejftygjil\\n#news\\n#bbc...</td>\n",
              "    </tr>\n",
              "    <tr>\n",
              "      <th>190</th>\n",
              "      <td>Not Relevant</td>\n",
              "      <td>0.5031</td>\n",
              "      <td>Aftershock https://t.co/jV8ppKhJY7</td>\n",
              "      <td>6.289000e+17</td>\n",
              "      <td>0.5 - 0.75</td>\n",
              "      <td>False</td>\n",
              "      <td>1</td>\n",
              "      <td>aftershock</td>\n",
              "    </tr>\n",
              "    <tr>\n",
              "      <th>45</th>\n",
              "      <td>Not Relevant</td>\n",
              "      <td>1.0000</td>\n",
              "      <td>Awesome!</td>\n",
              "      <td>5.000000e+01</td>\n",
              "      <td>0.9 - 1.0</td>\n",
              "      <td>False</td>\n",
              "      <td>1</td>\n",
              "      <td>awesome!</td>\n",
              "    </tr>\n",
              "    <tr>\n",
              "      <th>5851</th>\n",
              "      <td>Relevant</td>\n",
              "      <td>1.0000</td>\n",
              "      <td>Yesterday's #hailstorm! #boston #cambridge htt...</td>\n",
              "      <td>6.290260e+17</td>\n",
              "      <td>0.9 - 1.0</td>\n",
              "      <td>True</td>\n",
              "      <td>1</td>\n",
              "      <td>yesterday's</td>\n",
              "    </tr>\n",
              "    <tr>\n",
              "      <th>7295</th>\n",
              "      <td>Not Relevant</td>\n",
              "      <td>1.0000</td>\n",
              "      <td>Err:509</td>\n",
              "      <td>6.289470e+17</td>\n",
              "      <td>0.9 - 1.0</td>\n",
              "      <td>True</td>\n",
              "      <td>1</td>\n",
              "      <td>err:509</td>\n",
              "    </tr>\n",
              "    <tr>\n",
              "      <th>7400</th>\n",
              "      <td>Not Relevant</td>\n",
              "      <td>0.7995</td>\n",
              "      <td>Obliterated</td>\n",
              "      <td>6.290890e+17</td>\n",
              "      <td>0.75 - 0.9</td>\n",
              "      <td>True</td>\n",
              "      <td>1</td>\n",
              "      <td>obliterated</td>\n",
              "    </tr>\n",
              "    <tr>\n",
              "      <th>36</th>\n",
              "      <td>Not Relevant</td>\n",
              "      <td>1.0000</td>\n",
              "      <td>LOOOOOOL</td>\n",
              "      <td>4.100000e+01</td>\n",
              "      <td>0.9 - 1.0</td>\n",
              "      <td>False</td>\n",
              "      <td>1</td>\n",
              "      <td>looooool</td>\n",
              "    </tr>\n",
              "    <tr>\n",
              "      <th>6168</th>\n",
              "      <td>Relevant</td>\n",
              "      <td>0.4014</td>\n",
              "      <td>hijack</td>\n",
              "      <td>6.290750e+17</td>\n",
              "      <td>0.0 - 0.5</td>\n",
              "      <td>True</td>\n",
              "      <td>1</td>\n",
              "      <td>hijack</td>\n",
              "    </tr>\n",
              "    <tr>\n",
              "      <th>179</th>\n",
              "      <td>Not Relevant</td>\n",
              "      <td>0.5030</td>\n",
              "      <td>Aftershock https://t.co/Ecy4U623nO</td>\n",
              "      <td>6.289010e+17</td>\n",
              "      <td>0.5 - 0.75</td>\n",
              "      <td>False</td>\n",
              "      <td>1</td>\n",
              "      <td>aftershock</td>\n",
              "    </tr>\n",
              "    <tr>\n",
              "      <th>9482</th>\n",
              "      <td>Relevant</td>\n",
              "      <td>0.6030</td>\n",
              "      <td>Truth...\\nhttps://t.co/p5ZIcjUdXO\\n#News\\n#BBC...</td>\n",
              "      <td>6.290990e+17</td>\n",
              "      <td>0.5 - 0.75</td>\n",
              "      <td>True</td>\n",
              "      <td>1</td>\n",
              "      <td>truth...\\nhttps://t.co/p5zicjudxo\\n#news\\n#bbc...</td>\n",
              "    </tr>\n",
              "    <tr>\n",
              "      <th>5521</th>\n",
              "      <td>Not Relevant</td>\n",
              "      <td>0.4022</td>\n",
              "      <td>Flattened https://t.co/9jCIBenckz</td>\n",
              "      <td>6.290480e+17</td>\n",
              "      <td>0.0 - 0.5</td>\n",
              "      <td>True</td>\n",
              "      <td>1</td>\n",
              "      <td>flattened</td>\n",
              "    </tr>\n",
              "  </tbody>\n",
              "</table>\n",
              "</div>\n",
              "      <button class=\"colab-df-convert\" onclick=\"convertToInteractive('df-83f8c30f-afec-4eca-95b3-8c467abc1ba5')\"\n",
              "              title=\"Convert this dataframe to an interactive table.\"\n",
              "              style=\"display:none;\">\n",
              "        \n",
              "  <svg xmlns=\"http://www.w3.org/2000/svg\" height=\"24px\"viewBox=\"0 0 24 24\"\n",
              "       width=\"24px\">\n",
              "    <path d=\"M0 0h24v24H0V0z\" fill=\"none\"/>\n",
              "    <path d=\"M18.56 5.44l.94 2.06.94-2.06 2.06-.94-2.06-.94-.94-2.06-.94 2.06-2.06.94zm-11 1L8.5 8.5l.94-2.06 2.06-.94-2.06-.94L8.5 2.5l-.94 2.06-2.06.94zm10 10l.94 2.06.94-2.06 2.06-.94-2.06-.94-.94-2.06-.94 2.06-2.06.94z\"/><path d=\"M17.41 7.96l-1.37-1.37c-.4-.4-.92-.59-1.43-.59-.52 0-1.04.2-1.43.59L10.3 9.45l-7.72 7.72c-.78.78-.78 2.05 0 2.83L4 21.41c.39.39.9.59 1.41.59.51 0 1.02-.2 1.41-.59l7.78-7.78 2.81-2.81c.8-.78.8-2.07 0-2.86zM5.41 20L4 18.59l7.72-7.72 1.47 1.35L5.41 20z\"/>\n",
              "  </svg>\n",
              "      </button>\n",
              "      \n",
              "  <style>\n",
              "    .colab-df-container {\n",
              "      display:flex;\n",
              "      flex-wrap:wrap;\n",
              "      gap: 12px;\n",
              "    }\n",
              "\n",
              "    .colab-df-convert {\n",
              "      background-color: #E8F0FE;\n",
              "      border: none;\n",
              "      border-radius: 50%;\n",
              "      cursor: pointer;\n",
              "      display: none;\n",
              "      fill: #1967D2;\n",
              "      height: 32px;\n",
              "      padding: 0 0 0 0;\n",
              "      width: 32px;\n",
              "    }\n",
              "\n",
              "    .colab-df-convert:hover {\n",
              "      background-color: #E2EBFA;\n",
              "      box-shadow: 0px 1px 2px rgba(60, 64, 67, 0.3), 0px 1px 3px 1px rgba(60, 64, 67, 0.15);\n",
              "      fill: #174EA6;\n",
              "    }\n",
              "\n",
              "    [theme=dark] .colab-df-convert {\n",
              "      background-color: #3B4455;\n",
              "      fill: #D2E3FC;\n",
              "    }\n",
              "\n",
              "    [theme=dark] .colab-df-convert:hover {\n",
              "      background-color: #434B5C;\n",
              "      box-shadow: 0px 1px 3px 1px rgba(0, 0, 0, 0.15);\n",
              "      filter: drop-shadow(0px 1px 2px rgba(0, 0, 0, 0.3));\n",
              "      fill: #FFFFFF;\n",
              "    }\n",
              "  </style>\n",
              "\n",
              "      <script>\n",
              "        const buttonEl =\n",
              "          document.querySelector('#df-83f8c30f-afec-4eca-95b3-8c467abc1ba5 button.colab-df-convert');\n",
              "        buttonEl.style.display =\n",
              "          google.colab.kernel.accessAllowed ? 'block' : 'none';\n",
              "\n",
              "        async function convertToInteractive(key) {\n",
              "          const element = document.querySelector('#df-83f8c30f-afec-4eca-95b3-8c467abc1ba5');\n",
              "          const dataTable =\n",
              "            await google.colab.kernel.invokeFunction('convertToInteractive',\n",
              "                                                     [key], {});\n",
              "          if (!dataTable) return;\n",
              "\n",
              "          const docLinkHtml = 'Like what you see? Visit the ' +\n",
              "            '<a target=\"_blank\" href=https://colab.research.google.com/notebooks/data_table.ipynb>data table notebook</a>'\n",
              "            + ' to learn more about interactive tables.';\n",
              "          element.innerHTML = '';\n",
              "          dataTable['output_type'] = 'display_data';\n",
              "          await google.colab.output.renderOutput(dataTable, element);\n",
              "          const docLink = document.createElement('div');\n",
              "          docLink.innerHTML = docLinkHtml;\n",
              "          element.appendChild(docLink);\n",
              "        }\n",
              "      </script>\n",
              "    </div>\n",
              "  </div>\n",
              "  "
            ]
          },
          "metadata": {},
          "execution_count": 65
        }
      ]
    },
    {
      "cell_type": "code",
      "source": [
        "cleaning_disaster_db_df.sort_values(\n",
        "    by=[\"cleaning_text\", \"confidence\", \"amount_words_in_cleaning_text\"],\n",
        "    ascending = False, \n",
        "    inplace=True\n",
        "  )\n",
        "cleaning_disaster_db_df.head(10)\n"
      ],
      "metadata": {
        "colab": {
          "base_uri": "https://localhost:8080/",
          "height": 772
        },
        "id": "yzPjjAk30eef",
        "outputId": "3ba48006-4e6e-428d-ace9-cb80b5572faa"
      },
      "execution_count": 66,
      "outputs": [
        {
          "output_type": "stream",
          "name": "stderr",
          "text": [
            "<ipython-input-66-aaca77229732>:1: SettingWithCopyWarning: \n",
            "A value is trying to be set on a copy of a slice from a DataFrame\n",
            "\n",
            "See the caveats in the documentation: https://pandas.pydata.org/pandas-docs/stable/user_guide/indexing.html#returning-a-view-versus-a-copy\n",
            "  cleaning_disaster_db_df.sort_values(\n"
          ]
        },
        {
          "output_type": "execute_result",
          "data": {
            "text/plain": [
              "        choose_one  confidence  \\\n",
              "1394  Not Relevant      1.0000   \n",
              "9663  Not Relevant      0.8006   \n",
              "9694      Relevant      0.6006   \n",
              "2351  Not Relevant      0.6018   \n",
              "4006      Relevant      1.0000   \n",
              "1414  Not Relevant      1.0000   \n",
              "5410      Relevant      1.0000   \n",
              "1416  Not Relevant      1.0000   \n",
              "5420      Relevant      1.0000   \n",
              "8990      Relevant      0.6027   \n",
              "\n",
              "                                                   text      tweet_id  \\\n",
              "1394  å€} New Ladies Shoulder Tote #Handbag Faux Lea...  6.290670e+17   \n",
              "9663  #TornadoGiveaway åÊ #thebookclub åÊ Join in!! ...  6.291100e+17   \n",
              "9694  #TornadoGiveaway åÊ #thebookclub åÊ Join in!! ...  6.291100e+17   \n",
              "2351  åÈMGN-AFRICAåš pin:263789F4 åÈ Correction: Ten...  6.293480e+17   \n",
              "4006  å¬'Only the sea knows how many are dead' @MSF_...  6.290910e+17   \n",
              "1414  å_? New Ladies Shoulder Tote #Handbag Faux Lea...  6.290490e+17   \n",
              "5410  #NJTurnpike å_ #NJTurnpike Reopens Hours After...  6.290920e+17   \n",
              "1416  ÛŒ? New Ladies Shoulder Tote #Handbag Faux Le...  6.290330e+17   \n",
              "5420  Û÷We Can HelpÛª Says Denver Firefighter Work...  6.290920e+17   \n",
              "8990  Û÷SexistÛª peer review causes storm online h...  6.293600e+17   \n",
              "\n",
              "     range_confidence  is_tweet_id_duplicated  amount_words_in_cleaning_text  \\\n",
              "1394        0.9 - 1.0                    True                             14   \n",
              "9663       0.75 - 0.9                    True                              4   \n",
              "9694       0.5 - 0.75                    True                              4   \n",
              "2351       0.5 - 0.75                    True                             13   \n",
              "4006        0.9 - 1.0                    True                             18   \n",
              "1414        0.9 - 1.0                    True                             12   \n",
              "5410        0.9 - 1.0                    True                              7   \n",
              "1416        0.9 - 1.0                    True                             12   \n",
              "5420        0.9 - 1.0                    True                             12   \n",
              "8990       0.5 - 0.75                    True                              8   \n",
              "\n",
              "                                          cleaning_text  \n",
              "1394  å€} new ladies shoulder tote faux leather hobo...  \n",
              "9663                                    åê åê join in!!  \n",
              "9694                                    åê åê join in!!  \n",
              "2351  åèmgn-africaåš pin:263789f4 åè correction: ten...  \n",
              "4006  å¬'only the sea knows how many are dead' <user...  \n",
              "1414  å_? new ladies shoulder tote faux leather hobo...  \n",
              "5410              å_ reopens hours after truck fire in?  \n",
              "1416  ûœ? new ladies shoulder tote faux leather hob...  \n",
              "5420  û÷we can helpûª says denver firefighter work...  \n",
              "8990  û÷sexistûª peer review causes storm online v...  "
            ],
            "text/html": [
              "\n",
              "  <div id=\"df-4122cfe7-f532-4550-b527-1c95911d192e\">\n",
              "    <div class=\"colab-df-container\">\n",
              "      <div>\n",
              "<style scoped>\n",
              "    .dataframe tbody tr th:only-of-type {\n",
              "        vertical-align: middle;\n",
              "    }\n",
              "\n",
              "    .dataframe tbody tr th {\n",
              "        vertical-align: top;\n",
              "    }\n",
              "\n",
              "    .dataframe thead th {\n",
              "        text-align: right;\n",
              "    }\n",
              "</style>\n",
              "<table border=\"1\" class=\"dataframe\">\n",
              "  <thead>\n",
              "    <tr style=\"text-align: right;\">\n",
              "      <th></th>\n",
              "      <th>choose_one</th>\n",
              "      <th>confidence</th>\n",
              "      <th>text</th>\n",
              "      <th>tweet_id</th>\n",
              "      <th>range_confidence</th>\n",
              "      <th>is_tweet_id_duplicated</th>\n",
              "      <th>amount_words_in_cleaning_text</th>\n",
              "      <th>cleaning_text</th>\n",
              "    </tr>\n",
              "  </thead>\n",
              "  <tbody>\n",
              "    <tr>\n",
              "      <th>1394</th>\n",
              "      <td>Not Relevant</td>\n",
              "      <td>1.0000</td>\n",
              "      <td>å€} New Ladies Shoulder Tote #Handbag Faux Lea...</td>\n",
              "      <td>6.290670e+17</td>\n",
              "      <td>0.9 - 1.0</td>\n",
              "      <td>True</td>\n",
              "      <td>14</td>\n",
              "      <td>å€} new ladies shoulder tote faux leather hobo...</td>\n",
              "    </tr>\n",
              "    <tr>\n",
              "      <th>9663</th>\n",
              "      <td>Not Relevant</td>\n",
              "      <td>0.8006</td>\n",
              "      <td>#TornadoGiveaway åÊ #thebookclub åÊ Join in!! ...</td>\n",
              "      <td>6.291100e+17</td>\n",
              "      <td>0.75 - 0.9</td>\n",
              "      <td>True</td>\n",
              "      <td>4</td>\n",
              "      <td>åê åê join in!!</td>\n",
              "    </tr>\n",
              "    <tr>\n",
              "      <th>9694</th>\n",
              "      <td>Relevant</td>\n",
              "      <td>0.6006</td>\n",
              "      <td>#TornadoGiveaway åÊ #thebookclub åÊ Join in!! ...</td>\n",
              "      <td>6.291100e+17</td>\n",
              "      <td>0.5 - 0.75</td>\n",
              "      <td>True</td>\n",
              "      <td>4</td>\n",
              "      <td>åê åê join in!!</td>\n",
              "    </tr>\n",
              "    <tr>\n",
              "      <th>2351</th>\n",
              "      <td>Not Relevant</td>\n",
              "      <td>0.6018</td>\n",
              "      <td>åÈMGN-AFRICAåš pin:263789F4 åÈ Correction: Ten...</td>\n",
              "      <td>6.293480e+17</td>\n",
              "      <td>0.5 - 0.75</td>\n",
              "      <td>True</td>\n",
              "      <td>13</td>\n",
              "      <td>åèmgn-africaåš pin:263789f4 åè correction: ten...</td>\n",
              "    </tr>\n",
              "    <tr>\n",
              "      <th>4006</th>\n",
              "      <td>Relevant</td>\n",
              "      <td>1.0000</td>\n",
              "      <td>å¬'Only the sea knows how many are dead' @MSF_...</td>\n",
              "      <td>6.290910e+17</td>\n",
              "      <td>0.9 - 1.0</td>\n",
              "      <td>True</td>\n",
              "      <td>18</td>\n",
              "      <td>å¬'only the sea knows how many are dead' &lt;user...</td>\n",
              "    </tr>\n",
              "    <tr>\n",
              "      <th>1414</th>\n",
              "      <td>Not Relevant</td>\n",
              "      <td>1.0000</td>\n",
              "      <td>å_? New Ladies Shoulder Tote #Handbag Faux Lea...</td>\n",
              "      <td>6.290490e+17</td>\n",
              "      <td>0.9 - 1.0</td>\n",
              "      <td>True</td>\n",
              "      <td>12</td>\n",
              "      <td>å_? new ladies shoulder tote faux leather hobo...</td>\n",
              "    </tr>\n",
              "    <tr>\n",
              "      <th>5410</th>\n",
              "      <td>Relevant</td>\n",
              "      <td>1.0000</td>\n",
              "      <td>#NJTurnpike å_ #NJTurnpike Reopens Hours After...</td>\n",
              "      <td>6.290920e+17</td>\n",
              "      <td>0.9 - 1.0</td>\n",
              "      <td>True</td>\n",
              "      <td>7</td>\n",
              "      <td>å_ reopens hours after truck fire in?</td>\n",
              "    </tr>\n",
              "    <tr>\n",
              "      <th>1416</th>\n",
              "      <td>Not Relevant</td>\n",
              "      <td>1.0000</td>\n",
              "      <td>ÛŒ? New Ladies Shoulder Tote #Handbag Faux Le...</td>\n",
              "      <td>6.290330e+17</td>\n",
              "      <td>0.9 - 1.0</td>\n",
              "      <td>True</td>\n",
              "      <td>12</td>\n",
              "      <td>ûœ? new ladies shoulder tote faux leather hob...</td>\n",
              "    </tr>\n",
              "    <tr>\n",
              "      <th>5420</th>\n",
              "      <td>Relevant</td>\n",
              "      <td>1.0000</td>\n",
              "      <td>Û÷We Can HelpÛª Says Denver Firefighter Work...</td>\n",
              "      <td>6.290920e+17</td>\n",
              "      <td>0.9 - 1.0</td>\n",
              "      <td>True</td>\n",
              "      <td>12</td>\n",
              "      <td>û÷we can helpûª says denver firefighter work...</td>\n",
              "    </tr>\n",
              "    <tr>\n",
              "      <th>8990</th>\n",
              "      <td>Relevant</td>\n",
              "      <td>0.6027</td>\n",
              "      <td>Û÷SexistÛª peer review causes storm online h...</td>\n",
              "      <td>6.293600e+17</td>\n",
              "      <td>0.5 - 0.75</td>\n",
              "      <td>True</td>\n",
              "      <td>8</td>\n",
              "      <td>û÷sexistûª peer review causes storm online v...</td>\n",
              "    </tr>\n",
              "  </tbody>\n",
              "</table>\n",
              "</div>\n",
              "      <button class=\"colab-df-convert\" onclick=\"convertToInteractive('df-4122cfe7-f532-4550-b527-1c95911d192e')\"\n",
              "              title=\"Convert this dataframe to an interactive table.\"\n",
              "              style=\"display:none;\">\n",
              "        \n",
              "  <svg xmlns=\"http://www.w3.org/2000/svg\" height=\"24px\"viewBox=\"0 0 24 24\"\n",
              "       width=\"24px\">\n",
              "    <path d=\"M0 0h24v24H0V0z\" fill=\"none\"/>\n",
              "    <path d=\"M18.56 5.44l.94 2.06.94-2.06 2.06-.94-2.06-.94-.94-2.06-.94 2.06-2.06.94zm-11 1L8.5 8.5l.94-2.06 2.06-.94-2.06-.94L8.5 2.5l-.94 2.06-2.06.94zm10 10l.94 2.06.94-2.06 2.06-.94-2.06-.94-.94-2.06-.94 2.06-2.06.94z\"/><path d=\"M17.41 7.96l-1.37-1.37c-.4-.4-.92-.59-1.43-.59-.52 0-1.04.2-1.43.59L10.3 9.45l-7.72 7.72c-.78.78-.78 2.05 0 2.83L4 21.41c.39.39.9.59 1.41.59.51 0 1.02-.2 1.41-.59l7.78-7.78 2.81-2.81c.8-.78.8-2.07 0-2.86zM5.41 20L4 18.59l7.72-7.72 1.47 1.35L5.41 20z\"/>\n",
              "  </svg>\n",
              "      </button>\n",
              "      \n",
              "  <style>\n",
              "    .colab-df-container {\n",
              "      display:flex;\n",
              "      flex-wrap:wrap;\n",
              "      gap: 12px;\n",
              "    }\n",
              "\n",
              "    .colab-df-convert {\n",
              "      background-color: #E8F0FE;\n",
              "      border: none;\n",
              "      border-radius: 50%;\n",
              "      cursor: pointer;\n",
              "      display: none;\n",
              "      fill: #1967D2;\n",
              "      height: 32px;\n",
              "      padding: 0 0 0 0;\n",
              "      width: 32px;\n",
              "    }\n",
              "\n",
              "    .colab-df-convert:hover {\n",
              "      background-color: #E2EBFA;\n",
              "      box-shadow: 0px 1px 2px rgba(60, 64, 67, 0.3), 0px 1px 3px 1px rgba(60, 64, 67, 0.15);\n",
              "      fill: #174EA6;\n",
              "    }\n",
              "\n",
              "    [theme=dark] .colab-df-convert {\n",
              "      background-color: #3B4455;\n",
              "      fill: #D2E3FC;\n",
              "    }\n",
              "\n",
              "    [theme=dark] .colab-df-convert:hover {\n",
              "      background-color: #434B5C;\n",
              "      box-shadow: 0px 1px 3px 1px rgba(0, 0, 0, 0.15);\n",
              "      filter: drop-shadow(0px 1px 2px rgba(0, 0, 0, 0.3));\n",
              "      fill: #FFFFFF;\n",
              "    }\n",
              "  </style>\n",
              "\n",
              "      <script>\n",
              "        const buttonEl =\n",
              "          document.querySelector('#df-4122cfe7-f532-4550-b527-1c95911d192e button.colab-df-convert');\n",
              "        buttonEl.style.display =\n",
              "          google.colab.kernel.accessAllowed ? 'block' : 'none';\n",
              "\n",
              "        async function convertToInteractive(key) {\n",
              "          const element = document.querySelector('#df-4122cfe7-f532-4550-b527-1c95911d192e');\n",
              "          const dataTable =\n",
              "            await google.colab.kernel.invokeFunction('convertToInteractive',\n",
              "                                                     [key], {});\n",
              "          if (!dataTable) return;\n",
              "\n",
              "          const docLinkHtml = 'Like what you see? Visit the ' +\n",
              "            '<a target=\"_blank\" href=https://colab.research.google.com/notebooks/data_table.ipynb>data table notebook</a>'\n",
              "            + ' to learn more about interactive tables.';\n",
              "          element.innerHTML = '';\n",
              "          dataTable['output_type'] = 'display_data';\n",
              "          await google.colab.output.renderOutput(dataTable, element);\n",
              "          const docLink = document.createElement('div');\n",
              "          docLink.innerHTML = docLinkHtml;\n",
              "          element.appendChild(docLink);\n",
              "        }\n",
              "      </script>\n",
              "    </div>\n",
              "  </div>\n",
              "  "
            ]
          },
          "metadata": {},
          "execution_count": 66
        }
      ]
    },
    {
      "cell_type": "code",
      "source": [
        "print(cleaning_disaster_db_df.shape)"
      ],
      "metadata": {
        "colab": {
          "base_uri": "https://localhost:8080/"
        },
        "id": "oNkl3ct03ZhZ",
        "outputId": "5f6c53c7-956c-4186-e2b8-6dea50a3d23f"
      },
      "execution_count": 67,
      "outputs": [
        {
          "output_type": "stream",
          "name": "stdout",
          "text": [
            "(10876, 8)\n"
          ]
        }
      ]
    },
    {
      "cell_type": "code",
      "source": [
        "cleaning_disaster_db_df[\"is_duplicated_cleaning_text\"] = cleaning_disaster_db_df.duplicated(subset=['cleaning_text'])\n",
        "cleaning_disaster_db_df[\"is_duplicated_cleaning_text\"].value_counts()"
      ],
      "metadata": {
        "colab": {
          "base_uri": "https://localhost:8080/"
        },
        "id": "XXyycfZ73fSI",
        "outputId": "16d8bd3d-d36e-462c-9f16-1052eaaa5f94"
      },
      "execution_count": 69,
      "outputs": [
        {
          "output_type": "stream",
          "name": "stderr",
          "text": [
            "<ipython-input-69-9edba0a8448f>:1: SettingWithCopyWarning: \n",
            "A value is trying to be set on a copy of a slice from a DataFrame.\n",
            "Try using .loc[row_indexer,col_indexer] = value instead\n",
            "\n",
            "See the caveats in the documentation: https://pandas.pydata.org/pandas-docs/stable/user_guide/indexing.html#returning-a-view-versus-a-copy\n",
            "  cleaning_disaster_db_df[\"is_duplicated_cleaning_text\"] = cleaning_disaster_db_df.duplicated(subset=['cleaning_text'])\n"
          ]
        },
        {
          "output_type": "execute_result",
          "data": {
            "text/plain": [
              "False    9668\n",
              "True     1208\n",
              "Name: is_duplicated_cleaning_text, dtype: int64"
            ]
          },
          "metadata": {},
          "execution_count": 69
        }
      ]
    },
    {
      "cell_type": "code",
      "source": [
        "### WARNING: i will reduce the db to get only validated records\n",
        "cleaning_disaster_db_df = cleaning_disaster_db_df[cleaning_disaster_db_df[\"is_duplicated_cleaning_text\"] == False]\n",
        "print(cleaning_disaster_db_df.shape)"
      ],
      "metadata": {
        "colab": {
          "base_uri": "https://localhost:8080/"
        },
        "id": "DorQuLrN5KY0",
        "outputId": "83282aed-5582-4d12-ab32-54a63f0fdce9"
      },
      "execution_count": 71,
      "outputs": [
        {
          "output_type": "stream",
          "name": "stdout",
          "text": [
            "(9668, 9)\n"
          ]
        }
      ]
    },
    {
      "cell_type": "markdown",
      "source": [
        "Great!: after the cleaning process, the DB preserves the 88.89% of original records 🥳🎉"
      ],
      "metadata": {
        "id": "uQ_vsD0E9BFM"
      }
    },
    {
      "cell_type": "markdown",
      "source": [
        "## Verify the new distribution of value and validate our ideas"
      ],
      "metadata": {
        "id": "zPWLjuH97BPi"
      }
    },
    {
      "cell_type": "code",
      "source": [
        "cleaning_disaster_db_df['range_confidence'].value_counts()"
      ],
      "metadata": {
        "colab": {
          "base_uri": "https://localhost:8080/"
        },
        "id": "WzDGNIUu7HNs",
        "outputId": "f1393d9b-9469-4755-b883-c6b10e5fa771"
      },
      "execution_count": 76,
      "outputs": [
        {
          "output_type": "execute_result",
          "data": {
            "text/plain": [
              "0.9 - 1.0     4498\n",
              "0.75 - 0.9    2743\n",
              "0.5 - 0.75    2306\n",
              "0.0 - 0.5      121\n",
              "Name: range_confidence, dtype: int64"
            ]
          },
          "metadata": {},
          "execution_count": 76
        }
      ]
    },
    {
      "cell_type": "markdown",
      "source": [
        "After the cleaning process, the data preserve the 66.58% of the original data like trustworthy value: that's not bad 👏. I think in first view the previous idea can be applied."
      ],
      "metadata": {
        "id": "LGWZJrfY7imE"
      }
    },
    {
      "cell_type": "code",
      "source": [
        "Relevant_group_df = cleaning_disaster_db_df[cleaning_disaster_db_df[\"choose_one\"] == \"Relevant\"]\n",
        "Relevant_group_df['range_confidence'].value_counts()"
      ],
      "metadata": {
        "colab": {
          "base_uri": "https://localhost:8080/"
        },
        "id": "qRDe8RkW74Oj",
        "outputId": "bfeb3009-c543-48f9-ca61-a88327c07883"
      },
      "execution_count": 77,
      "outputs": [
        {
          "output_type": "execute_result",
          "data": {
            "text/plain": [
              "0.9 - 1.0     1834\n",
              "0.5 - 0.75    1009\n",
              "0.75 - 0.9     995\n",
              "0.0 - 0.5       70\n",
              "Name: range_confidence, dtype: int64"
            ]
          },
          "metadata": {},
          "execution_count": 77
        }
      ]
    },
    {
      "cell_type": "code",
      "source": [
        "Relevant_group_df = cleaning_disaster_db_df[cleaning_disaster_db_df[\"choose_one\"] == \"Not Relevant\"]\n",
        "Relevant_group_df['range_confidence'].value_counts()"
      ],
      "metadata": {
        "colab": {
          "base_uri": "https://localhost:8080/"
        },
        "id": "HkzBMjDW79pK",
        "outputId": "ecaaa515-2e62-454d-ac06-f6065a141968"
      },
      "execution_count": 78,
      "outputs": [
        {
          "output_type": "execute_result",
          "data": {
            "text/plain": [
              "0.9 - 1.0     2664\n",
              "0.75 - 0.9    1748\n",
              "0.5 - 0.75    1293\n",
              "0.0 - 0.5       41\n",
              "Name: range_confidence, dtype: int64"
            ]
          },
          "metadata": {},
          "execution_count": 78
        }
      ]
    },
    {
      "cell_type": "code",
      "source": [
        "Relevant_group_df = cleaning_disaster_db_df[cleaning_disaster_db_df[\"choose_one\"] == \"Can't Decide\"]\n",
        "Relevant_group_df['range_confidence'].value_counts()"
      ],
      "metadata": {
        "colab": {
          "base_uri": "https://localhost:8080/"
        },
        "id": "u3LPa8gB7_fR",
        "outputId": "8ca974d1-10a5-43e1-84ae-76ff24085b85"
      },
      "execution_count": 79,
      "outputs": [
        {
          "output_type": "execute_result",
          "data": {
            "text/plain": [
              "0.0 - 0.5     10\n",
              "0.5 - 0.75     4\n",
              "Name: range_confidence, dtype: int64"
            ]
          },
          "metadata": {},
          "execution_count": 79
        }
      ]
    },
    {
      "cell_type": "markdown",
      "source": [
        "after the cleaning process; i can apply the idea to get `Can't decide` with 2413, `Not Relevant` with 4.412 and `Relevant` with 2.843."
      ],
      "metadata": {
        "id": "ROw--8qt8cDD"
      }
    }
  ]
}